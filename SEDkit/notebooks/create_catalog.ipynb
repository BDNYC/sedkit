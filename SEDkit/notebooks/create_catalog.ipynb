{
 "cells": [
  {
   "cell_type": "markdown",
   "metadata": {},
   "source": [
    "# Make a catalog of SEDs"
   ]
  },
  {
   "cell_type": "code",
   "execution_count": 9,
   "metadata": {
    "collapsed": false
   },
   "outputs": [
    {
     "data": {
      "text/html": [
       "\n",
       "    <div class=\"bk-root\">\n",
       "        <a href=\"http://bokeh.pydata.org\" target=\"_blank\" class=\"bk-logo bk-logo-small bk-logo-notebook\"></a>\n",
       "        <span id=\"3b95f032-b303-4a38-b645-589d62739431\">Loading BokehJS ...</span>\n",
       "    </div>"
      ]
     },
     "metadata": {},
     "output_type": "display_data"
    },
    {
     "data": {
      "application/javascript": [
       "\n",
       "(function(global) {\n",
       "  function now() {\n",
       "    return new Date();\n",
       "  }\n",
       "\n",
       "  var force = true;\n",
       "\n",
       "  if (typeof (window._bokeh_onload_callbacks) === \"undefined\" || force === true) {\n",
       "    window._bokeh_onload_callbacks = [];\n",
       "    window._bokeh_is_loading = undefined;\n",
       "  }\n",
       "\n",
       "\n",
       "  \n",
       "  if (typeof (window._bokeh_timeout) === \"undefined\" || force === true) {\n",
       "    window._bokeh_timeout = Date.now() + 5000;\n",
       "    window._bokeh_failed_load = false;\n",
       "  }\n",
       "\n",
       "  var NB_LOAD_WARNING = {'data': {'text/html':\n",
       "     \"<div style='background-color: #fdd'>\\n\"+\n",
       "     \"<p>\\n\"+\n",
       "     \"BokehJS does not appear to have successfully loaded. If loading BokehJS from CDN, this \\n\"+\n",
       "     \"may be due to a slow or bad network connection. Possible fixes:\\n\"+\n",
       "     \"</p>\\n\"+\n",
       "     \"<ul>\\n\"+\n",
       "     \"<li>re-rerun `output_notebook()` to attempt to load from CDN again, or</li>\\n\"+\n",
       "     \"<li>use INLINE resources instead, as so:</li>\\n\"+\n",
       "     \"</ul>\\n\"+\n",
       "     \"<code>\\n\"+\n",
       "     \"from bokeh.resources import INLINE\\n\"+\n",
       "     \"output_notebook(resources=INLINE)\\n\"+\n",
       "     \"</code>\\n\"+\n",
       "     \"</div>\"}};\n",
       "\n",
       "  function display_loaded() {\n",
       "    if (window.Bokeh !== undefined) {\n",
       "      var el = document.getElementById(\"3b95f032-b303-4a38-b645-589d62739431\");\n",
       "      el.textContent = \"BokehJS \" + Bokeh.version + \" successfully loaded.\";\n",
       "    } else if (Date.now() < window._bokeh_timeout) {\n",
       "      setTimeout(display_loaded, 100)\n",
       "    }\n",
       "  }\n",
       "\n",
       "  function run_callbacks() {\n",
       "    try {\n",
       "      window._bokeh_onload_callbacks.forEach(function(callback) { callback() });\n",
       "    }\n",
       "    finally {\n",
       "      delete window._bokeh_onload_callbacks\n",
       "    }\n",
       "    console.info(\"Bokeh: all callbacks have finished\");\n",
       "  }\n",
       "\n",
       "  function load_libs(js_urls, callback) {\n",
       "    window._bokeh_onload_callbacks.push(callback);\n",
       "    if (window._bokeh_is_loading > 0) {\n",
       "      console.log(\"Bokeh: BokehJS is being loaded, scheduling callback at\", now());\n",
       "      return null;\n",
       "    }\n",
       "    if (js_urls == null || js_urls.length === 0) {\n",
       "      run_callbacks();\n",
       "      return null;\n",
       "    }\n",
       "    console.log(\"Bokeh: BokehJS not loaded, scheduling load and callback at\", now());\n",
       "    window._bokeh_is_loading = js_urls.length;\n",
       "    for (var i = 0; i < js_urls.length; i++) {\n",
       "      var url = js_urls[i];\n",
       "      var s = document.createElement('script');\n",
       "      s.src = url;\n",
       "      s.async = false;\n",
       "      s.onreadystatechange = s.onload = function() {\n",
       "        window._bokeh_is_loading--;\n",
       "        if (window._bokeh_is_loading === 0) {\n",
       "          console.log(\"Bokeh: all BokehJS libraries loaded\");\n",
       "          run_callbacks()\n",
       "        }\n",
       "      };\n",
       "      s.onerror = function() {\n",
       "        console.warn(\"failed to load library \" + url);\n",
       "      };\n",
       "      console.log(\"Bokeh: injecting script tag for BokehJS library: \", url);\n",
       "      document.getElementsByTagName(\"head\")[0].appendChild(s);\n",
       "    }\n",
       "  };var element = document.getElementById(\"3b95f032-b303-4a38-b645-589d62739431\");\n",
       "  if (element == null) {\n",
       "    console.log(\"Bokeh: ERROR: autoload.js configured with elementid '3b95f032-b303-4a38-b645-589d62739431' but no matching script tag was found. \")\n",
       "    return false;\n",
       "  }\n",
       "\n",
       "  var js_urls = [\"https://cdn.pydata.org/bokeh/release/bokeh-0.12.6.min.js\", \"https://cdn.pydata.org/bokeh/release/bokeh-widgets-0.12.6.min.js\"];\n",
       "\n",
       "  var inline_js = [\n",
       "    function(Bokeh) {\n",
       "      Bokeh.set_log_level(\"info\");\n",
       "    },\n",
       "    \n",
       "    function(Bokeh) {\n",
       "      \n",
       "    },\n",
       "    \n",
       "    function(Bokeh) {\n",
       "      \n",
       "      document.getElementById(\"3b95f032-b303-4a38-b645-589d62739431\").textContent = \"BokehJS is loading...\";\n",
       "    },\n",
       "    function(Bokeh) {\n",
       "      console.log(\"Bokeh: injecting CSS: https://cdn.pydata.org/bokeh/release/bokeh-0.12.6.min.css\");\n",
       "      Bokeh.embed.inject_css(\"https://cdn.pydata.org/bokeh/release/bokeh-0.12.6.min.css\");\n",
       "      console.log(\"Bokeh: injecting CSS: https://cdn.pydata.org/bokeh/release/bokeh-widgets-0.12.6.min.css\");\n",
       "      Bokeh.embed.inject_css(\"https://cdn.pydata.org/bokeh/release/bokeh-widgets-0.12.6.min.css\");\n",
       "    }\n",
       "  ];\n",
       "\n",
       "  function run_inline_js() {\n",
       "    \n",
       "    if ((window.Bokeh !== undefined) || (force === true)) {\n",
       "      for (var i = 0; i < inline_js.length; i++) {\n",
       "        inline_js[i](window.Bokeh);\n",
       "      }if (force === true) {\n",
       "        display_loaded();\n",
       "      }} else if (Date.now() < window._bokeh_timeout) {\n",
       "      setTimeout(run_inline_js, 100);\n",
       "    } else if (!window._bokeh_failed_load) {\n",
       "      console.log(\"Bokeh: BokehJS failed to load within specified timeout.\");\n",
       "      window._bokeh_failed_load = true;\n",
       "    } else if (force !== true) {\n",
       "      var cell = $(document.getElementById(\"3b95f032-b303-4a38-b645-589d62739431\")).parents('.cell').data().cell;\n",
       "      cell.output_area.append_execute_result(NB_LOAD_WARNING)\n",
       "    }\n",
       "\n",
       "  }\n",
       "\n",
       "  if (window._bokeh_is_loading === 0) {\n",
       "    console.log(\"Bokeh: BokehJS loaded, going straight to plotting\");\n",
       "    run_inline_js();\n",
       "  } else {\n",
       "    load_libs(js_urls, function() {\n",
       "      console.log(\"Bokeh: BokehJS plotting callback run at\", now());\n",
       "      run_inline_js();\n",
       "    });\n",
       "  }\n",
       "}(this));"
      ]
     },
     "metadata": {},
     "output_type": "display_data"
    }
   ],
   "source": [
    "# Imports\n",
    "from SEDkit import sed, spectrum, synphot\n",
    "import astropy.units as q\n",
    "import numpy as np\n",
    "from pkg_resources import resource_filename\n",
    "from bokeh.io import output_notebook, show\n",
    "output_notebook()"
   ]
  },
  {
   "cell_type": "markdown",
   "metadata": {},
   "source": [
    "First we initialize an empty catalog."
   ]
  },
  {
   "cell_type": "code",
   "execution_count": 10,
   "metadata": {
    "collapsed": false
   },
   "outputs": [],
   "source": [
    "# Make an SED catalog\n",
    "cat = sed.SEDCatalog()"
   ]
  },
  {
   "cell_type": "markdown",
   "metadata": {},
   "source": [
    "Now let's make a few SEDs"
   ]
  },
  {
   "cell_type": "code",
   "execution_count": 11,
   "metadata": {
    "collapsed": false
   },
   "outputs": [
    {
     "name": "stdout",
     "output_type": "stream",
     "text": [
      "Make this handle asymmetric uncertainties!\n",
      "Setting age to (<Quantity 6.0 Gyr>, <Quantity 4.0 Gyr>)\n",
      "Setting radius to (<Quantity 0.8786209573091851 solRad>, <Quantity 0.06782337214316517 solRad>)\n"
     ]
    }
   ],
   "source": [
    "# Make an SED\n",
    "s1 = sed.SED(parallax=(1.7474*q.mas, 0.0501*q.mas), spectral_type='M0V', name='2MASS 261832886')\n",
    "s1.add_photometry_file(resource_filename('SEDkit', 'data/M0V_photometry.txt'))\n",
    "s1.make_sed()\n",
    "cat.add_SED(s1)"
   ]
  },
  {
   "cell_type": "code",
   "execution_count": 12,
   "metadata": {
    "collapsed": false
   },
   "outputs": [
    {
     "name": "stdout",
     "output_type": "stream",
     "text": [
      "Make this handle asymmetric uncertainties!\n",
      "Make this handle asymmetric uncertainties!\n",
      "Make this handle asymmetric uncertainties!\n",
      "Make this handle asymmetric uncertainties!\n",
      "Make this handle asymmetric uncertainties!\n",
      "Make this handle asymmetric uncertainties!\n",
      "Make this handle asymmetric uncertainties!\n",
      "Make this handle asymmetric uncertainties!\n",
      "Make this handle asymmetric uncertainties!\n",
      "Make this handle asymmetric uncertainties!\n"
     ]
    }
   ],
   "source": [
    "# Make 30 other SEDs (I'll just change the parallax)\n",
    "for i in range(10):\n",
    "    s2 = copy.copy(s1)\n",
    "    s2.parallax = abs(np.random.normal(loc=1.7474, scale=0.1))*q.mas, 0.1*q.mas\n",
    "    s2.name += str(i)\n",
    "    s2.make_sed()\n",
    "    cat.add_SED(s2)"
   ]
  },
  {
   "cell_type": "markdown",
   "metadata": {},
   "source": [
    "Then the aggregated results look like this:"
   ]
  },
  {
   "cell_type": "code",
   "execution_count": 5,
   "metadata": {
    "collapsed": false
   },
   "outputs": [
    {
     "data": {
      "text/html": [
       "<i>QTable length=11</i>\n",
       "<table id=\"table4684655248\" class=\"table-striped table-bordered table-condensed\">\n",
       "<thead><tr><th>name</th><th>age</th><th>age_unc</th><th>distance</th><th>distance_unc</th><th>parallax</th><th>parallax_unc</th><th>radius</th><th>radius_unc</th><th>spectral_type</th><th>spectral_type_unc</th><th>membership</th><th>fbol</th><th>fbol_unc</th><th>mbol</th><th>mbol_unc</th><th>Lbol</th><th>Lbol_unc</th><th>Lbol_sun</th><th>Lbol_sun_unc</th><th>Mbol</th><th>Mbol_unc</th><th>logg</th><th>logg_unc</th><th>mass</th><th>mass_unc</th><th>Teff</th><th>Teff_unc</th><th>SED</th><th>SDSS.u</th><th>SDSS.u_unc</th><th>M_SDSS.u</th><th>M_SDSS.u_unc</th><th>SDSS.g</th><th>SDSS.g_unc</th><th>M_SDSS.g</th><th>M_SDSS.g_unc</th><th>SDSS.r</th><th>SDSS.r_unc</th><th>M_SDSS.r</th><th>M_SDSS.r_unc</th><th>SDSS.i</th><th>SDSS.i_unc</th><th>M_SDSS.i</th><th>M_SDSS.i_unc</th><th>SDSS.z</th><th>SDSS.z_unc</th><th>M_SDSS.z</th><th>M_SDSS.z_unc</th><th>2MASS.J</th><th>2MASS.J_unc</th><th>M_2MASS.J</th><th>M_2MASS.J_unc</th><th>2MASS.H</th><th>2MASS.H_unc</th><th>M_2MASS.H</th><th>M_2MASS.H_unc</th><th>2MASS.Ks</th><th>2MASS.Ks_unc</th><th>M_2MASS.Ks</th><th>M_2MASS.Ks_unc</th><th>WISE.W1</th><th>WISE.W1_unc</th><th>M_WISE.W1</th><th>M_WISE.W1_unc</th><th>WISE.W2</th><th>WISE.W2_unc</th><th>M_WISE.W2</th><th>M_WISE.W2_unc</th><th>WISE.W3</th><th>WISE.W3_unc</th><th>M_WISE.W3</th><th>M_WISE.W3_unc</th></tr></thead>\n",
       "<thead><tr><th></th><th>Myr</th><th>Myr</th><th>pc</th><th>pc</th><th>mas</th><th>mas</th><th>6.957e+08 m</th><th></th><th></th><th></th><th></th><th>erg / (cm2 s)</th><th>erg / (cm2 s)</th><th></th><th></th><th>erg / s</th><th>erg / s</th><th></th><th></th><th></th><th></th><th></th><th></th><th>solMass</th><th>solMass</th><th>K</th><th>K</th><th></th><th></th><th></th><th></th><th></th><th></th><th></th><th></th><th></th><th></th><th></th><th></th><th></th><th></th><th></th><th></th><th></th><th></th><th></th><th></th><th></th><th></th><th></th><th></th><th></th><th></th><th></th><th></th><th></th><th></th><th></th><th></th><th></th><th></th><th></th><th></th><th></th><th></th><th></th><th></th><th></th><th></th><th></th><th></th><th></th></tr></thead>\n",
       "<thead><tr><th>object</th><th>float64</th><th>float64</th><th>float64</th><th>float64</th><th>float64</th><th>float64</th><th>float64</th><th>object</th><th>object</th><th>object</th><th>object</th><th>float64</th><th>float64</th><th>object</th><th>object</th><th>float64</th><th>float64</th><th>object</th><th>object</th><th>object</th><th>object</th><th>object</th><th>object</th><th>float64</th><th>float64</th><th>float64</th><th>float64</th><th>object</th><th>float64</th><th>float64</th><th>float64</th><th>float64</th><th>float64</th><th>float64</th><th>float64</th><th>float64</th><th>float64</th><th>float64</th><th>float64</th><th>float64</th><th>float64</th><th>float64</th><th>float64</th><th>float64</th><th>float64</th><th>float64</th><th>float64</th><th>float64</th><th>float64</th><th>float64</th><th>float64</th><th>float64</th><th>float64</th><th>float64</th><th>float64</th><th>float64</th><th>float64</th><th>float64</th><th>float64</th><th>float64</th><th>float64</th><th>float64</th><th>float64</th><th>float64</th><th>float64</th><th>float64</th><th>float64</th><th>float64</th><th>float64</th><th>float64</th><th>float64</th><th>float64</th></tr></thead>\n",
       "<tr><td>2MASS 261832886</td><td>6000.0</td><td>4000.0</td><td>572.28</td><td>16.41</td><td>1.7474</td><td>0.0501</td><td>0.8786209573091851</td><td>0.06782337214316517</td><td>60.0</td><td>0.5</td><td>None</td><td>9.344700986227546e-12</td><td>8.891778300076678e-14</td><td>16.092</td><td>0.01</td><td>3.66179055973561e+32</td><td>2.1287295997847215e+31</td><td>-1.019</td><td>0.025</td><td>7.304</td><td>0.033</td><td>4.5</td><td>0.07</td><td>0.8896913720017506</td><td>0.0</td><td>3424.0</td><td>141.0</td><td>&lt;SEDkit.sed.SED object at 0x11256bd68&gt;</td><td>20.486</td><td>0.073</td><td>67092.551</td><td>3847.73</td><td>17.779</td><td>0.006</td><td>58227.007</td><td>3339.293</td><td>16.431</td><td>0.004</td><td>53812.248</td><td>3086.108</td><td>15.843</td><td>0.004</td><td>51886.522</td><td>2975.669</td><td>15.514</td><td>0.005</td><td>50809.032</td><td>2913.875</td><td>14.391</td><td>0.029</td><td>47131.158</td><td>2702.951</td><td>13.677</td><td>0.032</td><td>44792.777</td><td>2568.846</td><td>13.535</td><td>0.034</td><td>44327.72</td><td>2542.176</td><td>13.55</td><td>0.027</td><td>44376.846</td><td>2544.993</td><td>13.581</td><td>0.035</td><td>44478.372</td><td>2550.815</td><td>12.884</td><td>0.0</td><td>42195.667</td><td>2419.902</td></tr>\n",
       "<tr><td>2MASS 2618328860</td><td>6000.0</td><td>4000.0</td><td>541.21</td><td>29.29</td><td>1.8477279880254265</td><td>0.1</td><td>0.8786209573091851</td><td>0.06782337214316517</td><td>60.0</td><td>0.5</td><td>None</td><td>9.344700986227546e-12</td><td>8.891778300076678e-14</td><td>16.092</td><td>0.01</td><td>3.274974997556934e+32</td><td>3.5584695449337295e+31</td><td>-1.068</td><td>0.047</td><td>7.425</td><td>0.06</td><td>4.5</td><td>0.07</td><td>0.8896913720017506</td><td>0.0</td><td>3330.0</td><td>157.0</td><td>&lt;SEDkit.sed.SED object at 0x113096828&gt;</td><td>20.486</td><td>0.073</td><td>60005.187</td><td>6494.899</td><td>17.779</td><td>0.006</td><td>52076.16</td><td>5636.669</td><td>16.431</td><td>0.004</td><td>48127.757</td><td>5209.298</td><td>15.843</td><td>0.004</td><td>46405.456</td><td>5022.878</td><td>15.514</td><td>0.005</td><td>45441.788</td><td>4918.571</td><td>14.391</td><td>0.029</td><td>42152.428</td><td>4562.535</td><td>13.677</td><td>0.032</td><td>40061.063</td><td>4336.168</td><td>13.535</td><td>0.034</td><td>39645.134</td><td>4291.148</td><td>13.55</td><td>0.027</td><td>39689.07</td><td>4295.903</td><td>13.581</td><td>0.035</td><td>39779.871</td><td>4305.732</td><td>12.884</td><td>0.0</td><td>37738.301</td><td>4084.754</td></tr>\n",
       "<tr><td>2MASS 2618328861</td><td>6000.0</td><td>4000.0</td><td>509.53</td><td>25.96</td><td>1.9625789482121032</td><td>0.1</td><td>0.8786209573091851</td><td>0.06782337214316517</td><td>60.0</td><td>0.5</td><td>None</td><td>9.344700986227546e-12</td><td>8.891778300076678e-14</td><td>16.092</td><td>0.01</td><td>2.902791766238549e+32</td><td>2.9707501192020326e+31</td><td>-1.12</td><td>0.044</td><td>7.556</td><td>0.056</td><td>4.5</td><td>0.07</td><td>0.8896913720017506</td><td>0.0</td><td>3231.0</td><td>149.0</td><td>&lt;SEDkit.sed.SED object at 0x1130f5048&gt;</td><td>20.486</td><td>0.073</td><td>53185.921</td><td>5419.531</td><td>17.779</td><td>0.006</td><td>46157.986</td><td>4703.398</td><td>16.431</td><td>0.004</td><td>42658.297</td><td>4346.788</td><td>15.843</td><td>0.004</td><td>41131.727</td><td>4191.234</td><td>15.514</td><td>0.005</td><td>40277.574</td><td>4104.197</td><td>14.391</td><td>0.029</td><td>37362.032</td><td>3807.11</td><td>13.677</td><td>0.032</td><td>35508.34</td><td>3618.223</td><td>13.535</td><td>0.034</td><td>35139.678</td><td>3580.657</td><td>13.55</td><td>0.027</td><td>35178.621</td><td>3584.625</td><td>13.581</td><td>0.035</td><td>35259.104</td><td>3592.827</td><td>12.884</td><td>0.0</td><td>33449.547</td><td>3408.436</td></tr>\n",
       "<tr><td>2MASS 2618328862</td><td>6000.0</td><td>4000.0</td><td>614.84</td><td>37.8</td><td>1.6264309638591052</td><td>0.1</td><td>0.8786209573091851</td><td>0.06782337214316517</td><td>60.0</td><td>0.5</td><td>None</td><td>9.344700986227546e-12</td><td>8.891778300076678e-14</td><td>16.092</td><td>0.01</td><td>4.2266918996459e+32</td><td>5.212628905992513e+31</td><td>-0.957</td><td>0.054</td><td>7.148</td><td>0.067</td><td>4.5</td><td>0.07</td><td>0.8896913720017506</td><td>0.0</td><td>3549.0</td><td>175.0</td><td>&lt;SEDkit.sed.SED object at 0x1130d2be0&gt;</td><td>20.486</td><td>0.073</td><td>77442.862</td><td>9522.284</td><td>17.779</td><td>0.006</td><td>67209.638</td><td>8264.018</td><td>16.431</td><td>0.004</td><td>62113.818</td><td>7637.442</td><td>15.843</td><td>0.004</td><td>59891.012</td><td>7364.128</td><td>15.514</td><td>0.005</td><td>58647.299</td><td>7211.203</td><td>14.391</td><td>0.029</td><td>54402.042</td><td>6689.211</td><td>13.677</td><td>0.032</td><td>51702.92</td><td>6357.33</td><td>13.535</td><td>0.034</td><td>51166.12</td><td>6291.326</td><td>13.55</td><td>0.027</td><td>51222.825</td><td>6298.298</td><td>13.581</td><td>0.035</td><td>51340.013</td><td>6312.708</td><td>12.884</td><td>0.0</td><td>48705.157</td><td>5988.729</td></tr>\n",
       "<tr><td>2MASS 2618328863</td><td>6000.0</td><td>4000.0</td><td>579.92</td><td>33.63</td><td>1.724378029003246</td><td>0.1</td><td>0.8786209573091851</td><td>0.06782337214316517</td><td>60.0</td><td>0.5</td><td>None</td><td>9.344700986227546e-12</td><td>8.891778300076678e-14</td><td>16.092</td><td>0.01</td><td>3.7602137851672146e+32</td><td>4.375805387321222e+31</td><td>-1.008</td><td>0.051</td><td>7.275</td><td>0.064</td><td>4.5</td><td>0.07</td><td>0.8896913720017506</td><td>0.0</td><td>3447.0</td><td>166.0</td><td>&lt;SEDkit.sed.SED object at 0x1130c36d8&gt;</td><td>20.486</td><td>0.073</td><td>68895.894</td><td>7990.651</td><td>17.779</td><td>0.006</td><td>59792.058</td><td>6934.773</td><td>16.431</td><td>0.004</td><td>55258.637</td><td>6408.98</td><td>15.843</td><td>0.004</td><td>53281.151</td><td>6179.629</td><td>15.514</td><td>0.005</td><td>52174.7</td><td>6051.301</td><td>14.391</td><td>0.029</td><td>48397.97</td><td>5613.27</td><td>13.677</td><td>0.032</td><td>45996.737</td><td>5334.772</td><td>13.535</td><td>0.034</td><td>45519.18</td><td>5279.384</td><td>13.55</td><td>0.027</td><td>45569.626</td><td>5285.235</td><td>13.581</td><td>0.035</td><td>45673.882</td><td>5297.326</td><td>12.884</td><td>0.0</td><td>43329.82</td><td>5025.458</td></tr>\n",
       "<tr><td>2MASS 2618328864</td><td>6000.0</td><td>4000.0</td><td>665.7</td><td>44.32</td><td>1.5021746704069625</td><td>0.1</td><td>0.8786209573091851</td><td>0.06782337214316517</td><td>60.0</td><td>0.5</td><td>None</td><td>9.344700986227546e-12</td><td>8.891778300076678e-14</td><td>16.092</td><td>0.01</td><td>4.954883841241164e+32</td><td>6.614404668774121e+31</td><td>-0.888</td><td>0.058</td><td>6.976</td><td>0.073</td><td>4.5</td><td>0.07</td><td>0.8896913720017506</td><td>0.0</td><td>3693.0</td><td>188.0</td><td>&lt;SEDkit.sed.SED object at 0x1130a3cf8&gt;</td><td>20.486</td><td>0.073</td><td>90785.039</td><td>12088.308</td><td>17.779</td><td>0.006</td><td>78788.792</td><td>10490.97</td><td>16.431</td><td>0.004</td><td>72815.043</td><td>9695.547</td><td>15.843</td><td>0.004</td><td>70209.283</td><td>9348.582</td><td>15.514</td><td>0.005</td><td>68751.298</td><td>9154.447</td><td>14.391</td><td>0.029</td><td>63774.65</td><td>8491.791</td><td>13.677</td><td>0.032</td><td>60610.513</td><td>8070.476</td><td>13.535</td><td>0.034</td><td>59981.231</td><td>7986.685</td><td>13.55</td><td>0.027</td><td>60047.704</td><td>7995.537</td><td>13.581</td><td>0.035</td><td>60185.083</td><td>8013.829</td><td>12.884</td><td>0.0</td><td>57096.282</td><td>7602.545</td></tr>\n",
       "<tr><td>2MASS 2618328865</td><td>6000.0</td><td>4000.0</td><td>581.32</td><td>33.79</td><td>1.7202222468367232</td><td>0.1</td><td>0.8786209573091851</td><td>0.06782337214316517</td><td>60.0</td><td>0.5</td><td>None</td><td>9.344700986227546e-12</td><td>8.891778300076678e-14</td><td>16.092</td><td>0.01</td><td>3.778390960089158e+32</td><td>4.407169324416629e+31</td><td>-1.006</td><td>0.051</td><td>7.27</td><td>0.064</td><td>4.5</td><td>0.07</td><td>0.8896913720017506</td><td>0.0</td><td>3451.0</td><td>166.0</td><td>&lt;SEDkit.sed.SED object at 0x1130d2160&gt;</td><td>20.486</td><td>0.073</td><td>69228.943</td><td>8048.05</td><td>17.779</td><td>0.006</td><td>60081.098</td><td>6984.588</td><td>16.431</td><td>0.004</td><td>55525.762</td><td>6455.018</td><td>15.843</td><td>0.004</td><td>53538.716</td><td>6224.018</td><td>15.514</td><td>0.005</td><td>52426.917</td><td>6094.769</td><td>14.391</td><td>0.029</td><td>48631.93</td><td>5653.592</td><td>13.677</td><td>0.032</td><td>46219.089</td><td>5373.093</td><td>13.535</td><td>0.034</td><td>45739.224</td><td>5317.307</td><td>13.55</td><td>0.027</td><td>45789.914</td><td>5323.2</td><td>13.581</td><td>0.035</td><td>45894.673</td><td>5335.378</td><td>12.884</td><td>0.0</td><td>43539.28</td><td>5061.557</td></tr>\n",
       "<tr><td>2MASS 2618328866</td><td>6000.0</td><td>4000.0</td><td>523.13</td><td>27.37</td><td>1.9115666729168286</td><td>0.1</td><td>0.8786209573091851</td><td>0.06782337214316517</td><td>60.0</td><td>0.5</td><td>None</td><td>9.344700986227546e-12</td><td>8.891778300076678e-14</td><td>16.092</td><td>0.01</td><td>3.059818149234648e+32</td><td>3.2149853863231793e+31</td><td>-1.097</td><td>0.046</td><td>7.499</td><td>0.058</td><td>4.5</td><td>0.07</td><td>0.8896913720017506</td><td>0.0</td><td>3274.0</td><td>152.0</td><td>&lt;SEDkit.sed.SED object at 0x1130e7208&gt;</td><td>20.486</td><td>0.073</td><td>56063.011</td><td>5866.4</td><td>17.779</td><td>0.006</td><td>48654.9</td><td>5091.219</td><td>16.431</td><td>0.004</td><td>44965.896</td><td>4705.204</td><td>15.843</td><td>0.004</td><td>43356.745</td><td>4536.823</td><td>15.514</td><td>0.005</td><td>42456.388</td><td>4442.61</td><td>14.391</td><td>0.029</td><td>39383.13</td><td>4121.027</td><td>13.677</td><td>0.032</td><td>37429.162</td><td>3916.565</td><td>13.535</td><td>0.034</td><td>37040.557</td><td>3875.901</td><td>13.55</td><td>0.027</td><td>37081.607</td><td>3880.197</td><td>13.581</td><td>0.035</td><td>37166.443</td><td>3889.074</td><td>12.884</td><td>0.0</td><td>35258.998</td><td>3689.48</td></tr>\n",
       "<tr><td>2MASS 2618328867</td><td>6000.0</td><td>4000.0</td><td>632.92</td><td>40.06</td><td>1.5799877012087358</td><td>0.1</td><td>0.8786209573091851</td><td>0.06782337214316517</td><td>60.0</td><td>0.5</td><td>None</td><td>9.344700986227546e-12</td><td>8.891778300076678e-14</td><td>16.092</td><td>0.01</td><td>4.478927190119445e+32</td><td>5.685773975606333e+31</td><td>-0.932</td><td>0.055</td><td>7.085</td><td>0.069</td><td>4.5</td><td>0.07</td><td>0.8896913720017506</td><td>0.0</td><td>3601.0</td><td>179.0</td><td>&lt;SEDkit.sed.SED object at 0x117376828&gt;</td><td>20.486</td><td>0.073</td><td>82064.402</td><td>10388.36</td><td>17.779</td><td>0.006</td><td>71220.492</td><td>9015.651</td><td>16.431</td><td>0.004</td><td>65820.569</td><td>8332.086</td><td>15.843</td><td>0.004</td><td>63465.113</td><td>8033.914</td><td>15.514</td><td>0.005</td><td>62147.18</td><td>7867.08</td><td>14.391</td><td>0.029</td><td>57648.58</td><td>7297.612</td><td>13.677</td><td>0.032</td><td>54788.383</td><td>6935.546</td><td>13.535</td><td>0.034</td><td>54219.549</td><td>6863.538</td><td>13.55</td><td>0.027</td><td>54279.637</td><td>6871.144</td><td>13.581</td><td>0.035</td><td>54403.819</td><td>6886.864</td><td>12.884</td><td>0.0</td><td>51611.723</td><td>6533.418</td></tr>\n",
       "<tr><td>2MASS 2618328868</td><td>6000.0</td><td>4000.0</td><td>549.02</td><td>30.14</td><td>1.8214170235053375</td><td>0.1</td><td>0.8786209573091851</td><td>0.06782337214316517</td><td>60.0</td><td>0.5</td><td>None</td><td>9.344700986227546e-12</td><td>8.891778300076678e-14</td><td>16.092</td><td>0.01</td><td>3.370176877845194e+32</td><td>3.7141769545634968e+31</td><td>-1.055</td><td>0.048</td><td>7.394</td><td>0.06</td><td>4.5</td><td>0.07</td><td>0.8896913720017506</td><td>0.0</td><td>3354.0</td><td>159.0</td><td>&lt;SEDkit.sed.SED object at 0x117372ba8&gt;</td><td>20.486</td><td>0.073</td><td>61749.508</td><td>6779.828</td><td>17.779</td><td>0.006</td><td>53589.988</td><td>5883.947</td><td>16.431</td><td>0.004</td><td>49526.807</td><td>5437.827</td><td>15.843</td><td>0.004</td><td>47754.44</td><td>5243.229</td><td>15.514</td><td>0.005</td><td>46762.758</td><td>5134.347</td><td>14.391</td><td>0.029</td><td>43377.778</td><td>4762.691</td><td>13.677</td><td>0.032</td><td>41225.618</td><td>4526.393</td><td>13.535</td><td>0.034</td><td>40797.598</td><td>4479.399</td><td>13.55</td><td>0.027</td><td>40842.811</td><td>4484.363</td><td>13.581</td><td>0.035</td><td>40936.252</td><td>4494.622</td><td>12.884</td><td>0.0</td><td>38835.334</td><td>4263.95</td></tr>\n",
       "<tr><td>2MASS 2618328869</td><td>6000.0</td><td>4000.0</td><td>559.77</td><td>31.33</td><td>1.7864597782124052</td><td>0.1</td><td>0.8786209573091851</td><td>0.06782337214316517</td><td>60.0</td><td>0.5</td><td>None</td><td>9.344700986227546e-12</td><td>8.891778300076678e-14</td><td>16.092</td><td>0.01</td><td>3.503447408948203e+32</td><td>3.935861348255319e+31</td><td>-1.038</td><td>0.049</td><td>7.352</td><td>0.062</td><td>4.5</td><td>0.07</td><td>0.8896913720017506</td><td>0.0</td><td>3386.0</td><td>161.0</td><td>&lt;SEDkit.sed.SED object at 0x1173d6390&gt;</td><td>20.486</td><td>0.073</td><td>64191.335</td><td>7185.504</td><td>17.779</td><td>0.006</td><td>55709.155</td><td>6236.018</td><td>16.431</td><td>0.004</td><td>51485.298</td><td>5763.204</td><td>15.843</td><td>0.004</td><td>49642.845</td><td>5556.962</td><td>15.514</td><td>0.005</td><td>48611.948</td><td>5441.565</td><td>14.391</td><td>0.029</td><td>45093.112</td><td>5047.671</td><td>13.677</td><td>0.032</td><td>42855.847</td><td>4797.234</td><td>13.535</td><td>0.034</td><td>42410.901</td><td>4747.427</td><td>13.55</td><td>0.027</td><td>42457.902</td><td>4752.688</td><td>13.581</td><td>0.035</td><td>42555.039</td><td>4763.562</td><td>12.884</td><td>0.0</td><td>40371.042</td><td>4519.087</td></tr>\n",
       "</table>"
      ],
      "text/plain": [
       "<QTable length=11>\n",
       "      name         age   age_unc ... WISE.W3_unc M_WISE.W3 M_WISE.W3_unc\n",
       "                   Myr     Myr   ...                                    \n",
       "     object      float64 float64 ...   float64    float64     float64   \n",
       "---------------- ------- ------- ... ----------- --------- -------------\n",
       " 2MASS 261832886  6000.0  4000.0 ...         0.0 42195.667      2419.902\n",
       "2MASS 2618328860  6000.0  4000.0 ...         0.0 37738.301      4084.754\n",
       "2MASS 2618328861  6000.0  4000.0 ...         0.0 33449.547      3408.436\n",
       "2MASS 2618328862  6000.0  4000.0 ...         0.0 48705.157      5988.729\n",
       "2MASS 2618328863  6000.0  4000.0 ...         0.0  43329.82      5025.458\n",
       "2MASS 2618328864  6000.0  4000.0 ...         0.0 57096.282      7602.545\n",
       "2MASS 2618328865  6000.0  4000.0 ...         0.0  43539.28      5061.557\n",
       "2MASS 2618328866  6000.0  4000.0 ...         0.0 35258.998       3689.48\n",
       "2MASS 2618328867  6000.0  4000.0 ...         0.0 51611.723      6533.418\n",
       "2MASS 2618328868  6000.0  4000.0 ...         0.0 38835.334       4263.95\n",
       "2MASS 2618328869  6000.0  4000.0 ...         0.0 40371.042      4519.087"
      ]
     },
     "execution_count": 5,
     "metadata": {},
     "output_type": "execute_result"
    }
   ],
   "source": [
    "cat.results"
   ]
  },
  {
   "cell_type": "markdown",
   "metadata": {},
   "source": [
    "We can also plot the results by passing the `plot` method two column names."
   ]
  },
  {
   "cell_type": "code",
   "execution_count": 6,
   "metadata": {
    "collapsed": false
   },
   "outputs": [
    {
     "data": {
      "text/html": [
       "\n",
       "\n",
       "    <div class=\"bk-root\">\n",
       "        <div class=\"bk-plotdiv\" id=\"5e6d750a-bedf-4984-b663-43e7aff42ec1\"></div>\n",
       "    </div>\n",
       "<script type=\"text/javascript\">\n",
       "  \n",
       "  (function(global) {\n",
       "    function now() {\n",
       "      return new Date();\n",
       "    }\n",
       "  \n",
       "    var force = false;\n",
       "  \n",
       "    if (typeof (window._bokeh_onload_callbacks) === \"undefined\" || force === true) {\n",
       "      window._bokeh_onload_callbacks = [];\n",
       "      window._bokeh_is_loading = undefined;\n",
       "    }\n",
       "  \n",
       "  \n",
       "    \n",
       "    if (typeof (window._bokeh_timeout) === \"undefined\" || force === true) {\n",
       "      window._bokeh_timeout = Date.now() + 0;\n",
       "      window._bokeh_failed_load = false;\n",
       "    }\n",
       "  \n",
       "    var NB_LOAD_WARNING = {'data': {'text/html':\n",
       "       \"<div style='background-color: #fdd'>\\n\"+\n",
       "       \"<p>\\n\"+\n",
       "       \"BokehJS does not appear to have successfully loaded. If loading BokehJS from CDN, this \\n\"+\n",
       "       \"may be due to a slow or bad network connection. Possible fixes:\\n\"+\n",
       "       \"</p>\\n\"+\n",
       "       \"<ul>\\n\"+\n",
       "       \"<li>re-rerun `output_notebook()` to attempt to load from CDN again, or</li>\\n\"+\n",
       "       \"<li>use INLINE resources instead, as so:</li>\\n\"+\n",
       "       \"</ul>\\n\"+\n",
       "       \"<code>\\n\"+\n",
       "       \"from bokeh.resources import INLINE\\n\"+\n",
       "       \"output_notebook(resources=INLINE)\\n\"+\n",
       "       \"</code>\\n\"+\n",
       "       \"</div>\"}};\n",
       "  \n",
       "    function display_loaded() {\n",
       "      if (window.Bokeh !== undefined) {\n",
       "        var el = document.getElementById(\"5e6d750a-bedf-4984-b663-43e7aff42ec1\");\n",
       "        el.textContent = \"BokehJS \" + Bokeh.version + \" successfully loaded.\";\n",
       "      } else if (Date.now() < window._bokeh_timeout) {\n",
       "        setTimeout(display_loaded, 100)\n",
       "      }\n",
       "    }\n",
       "  \n",
       "    function run_callbacks() {\n",
       "      try {\n",
       "        window._bokeh_onload_callbacks.forEach(function(callback) { callback() });\n",
       "      }\n",
       "      finally {\n",
       "        delete window._bokeh_onload_callbacks\n",
       "      }\n",
       "      console.info(\"Bokeh: all callbacks have finished\");\n",
       "    }\n",
       "  \n",
       "    function load_libs(js_urls, callback) {\n",
       "      window._bokeh_onload_callbacks.push(callback);\n",
       "      if (window._bokeh_is_loading > 0) {\n",
       "        console.log(\"Bokeh: BokehJS is being loaded, scheduling callback at\", now());\n",
       "        return null;\n",
       "      }\n",
       "      if (js_urls == null || js_urls.length === 0) {\n",
       "        run_callbacks();\n",
       "        return null;\n",
       "      }\n",
       "      console.log(\"Bokeh: BokehJS not loaded, scheduling load and callback at\", now());\n",
       "      window._bokeh_is_loading = js_urls.length;\n",
       "      for (var i = 0; i < js_urls.length; i++) {\n",
       "        var url = js_urls[i];\n",
       "        var s = document.createElement('script');\n",
       "        s.src = url;\n",
       "        s.async = false;\n",
       "        s.onreadystatechange = s.onload = function() {\n",
       "          window._bokeh_is_loading--;\n",
       "          if (window._bokeh_is_loading === 0) {\n",
       "            console.log(\"Bokeh: all BokehJS libraries loaded\");\n",
       "            run_callbacks()\n",
       "          }\n",
       "        };\n",
       "        s.onerror = function() {\n",
       "          console.warn(\"failed to load library \" + url);\n",
       "        };\n",
       "        console.log(\"Bokeh: injecting script tag for BokehJS library: \", url);\n",
       "        document.getElementsByTagName(\"head\")[0].appendChild(s);\n",
       "      }\n",
       "    };var element = document.getElementById(\"5e6d750a-bedf-4984-b663-43e7aff42ec1\");\n",
       "    if (element == null) {\n",
       "      console.log(\"Bokeh: ERROR: autoload.js configured with elementid '5e6d750a-bedf-4984-b663-43e7aff42ec1' but no matching script tag was found. \")\n",
       "      return false;\n",
       "    }\n",
       "  \n",
       "    var js_urls = [];\n",
       "  \n",
       "    var inline_js = [\n",
       "      function(Bokeh) {\n",
       "        (function() {\n",
       "          var fn = function() {\n",
       "            var docs_json = {\"fe82a151-7ae4-4ecc-a9b8-a01c155b2a89\":{\"roots\":{\"references\":[{\"attributes\":{\"dimension\":1,\"plot\":{\"id\":\"7c7e7216-e77c-450a-9351-60395bf46ce9\",\"subtype\":\"Figure\",\"type\":\"Plot\"},\"ticker\":{\"id\":\"249806ae-fa37-4568-8142-6064198691fd\",\"type\":\"BasicTicker\"}},\"id\":\"15c7384f-d9fc-4be5-910e-6723d5eb6341\",\"type\":\"Grid\"},{\"attributes\":{},\"id\":\"1c652eef-95fb-4ec0-88e1-0cc441b30259\",\"type\":\"LinearScale\"},{\"attributes\":{\"plot\":null,\"text\":\"distance v Teff\"},\"id\":\"64051f83-a677-4ee7-95b4-059dfcc3cc40\",\"type\":\"Title\"},{\"attributes\":{},\"id\":\"51b333aa-ab43-4b18-8155-4cd7dc2f2a79\",\"type\":\"LinearScale\"},{\"attributes\":{\"click_policy\":\"hide\",\"items\":[{\"id\":\"aa47a294-45a3-419f-b845-bef543b97875\",\"type\":\"LegendItem\"}],\"plot\":{\"id\":\"7c7e7216-e77c-450a-9351-60395bf46ce9\",\"subtype\":\"Figure\",\"type\":\"Plot\"}},\"id\":\"56626063-6118-4527-9ee7-668a5f9d5342\",\"type\":\"Legend\"},{\"attributes\":{},\"id\":\"fd9dc324-b1c9-4a03-86f9-4265649de080\",\"type\":\"BasicTickFormatter\"},{\"attributes\":{\"plot\":{\"id\":\"7c7e7216-e77c-450a-9351-60395bf46ce9\",\"subtype\":\"Figure\",\"type\":\"Plot\"}},\"id\":\"67513b54-7d96-4986-baae-3c4383015ddc\",\"type\":\"PanTool\"},{\"attributes\":{},\"id\":\"1bf5cab8-11f9-464f-b678-8096415695d0\",\"type\":\"ToolEvents\"},{\"attributes\":{\"plot\":{\"id\":\"7c7e7216-e77c-450a-9351-60395bf46ce9\",\"subtype\":\"Figure\",\"type\":\"Plot\"}},\"id\":\"e9d9a4d2-63d8-468d-aea9-77f4910873c1\",\"type\":\"ResetTool\"},{\"attributes\":{\"data_source\":{\"id\":\"b5dc2337-2dff-475f-b267-88c194750c1e\",\"type\":\"ColumnDataSource\"},\"glyph\":{\"id\":\"4af18f50-f5f5-47b3-bc50-a2eb485a4778\",\"type\":\"Circle\"},\"hover_glyph\":null,\"muted_glyph\":null,\"name\":\"photometry\",\"nonselection_glyph\":{\"id\":\"8afd8c48-760a-4b78-9c7a-4738aa7caab4\",\"type\":\"Circle\"},\"selection_glyph\":null},\"id\":\"56fbca4f-a530-4d90-86ff-ed874c1f2c45\",\"type\":\"GlyphRenderer\"},{\"attributes\":{\"fill_alpha\":{\"value\":0.1},\"fill_color\":{\"value\":\"#1f77b4\"},\"line_alpha\":{\"value\":0.1},\"line_color\":{\"value\":\"#1f77b4\"},\"size\":{\"units\":\"screen\",\"value\":8},\"x\":{\"field\":\"x\"},\"y\":{\"field\":\"y\"}},\"id\":\"8afd8c48-760a-4b78-9c7a-4738aa7caab4\",\"type\":\"Circle\"},{\"attributes\":{\"callback\":null},\"id\":\"dbe2fd1e-7f5a-45c1-9f13-ca4b22cb77c8\",\"type\":\"DataRange1d\"},{\"attributes\":{\"callback\":null,\"plot\":{\"id\":\"7c7e7216-e77c-450a-9351-60395bf46ce9\",\"subtype\":\"Figure\",\"type\":\"Plot\"},\"tooltips\":[[\"Name\",\"@desc\"],[\"distance\",\"@x\"],[\"Teff\",\"@y\"]]},\"id\":\"548aced1-b27c-4bd1-9dfa-3f0d8ab918c3\",\"type\":\"HoverTool\"},{\"attributes\":{\"callback\":null},\"id\":\"216a26c2-f1e2-4813-a91c-15b3714ab83b\",\"type\":\"DataRange1d\"},{\"attributes\":{},\"id\":\"249806ae-fa37-4568-8142-6064198691fd\",\"type\":\"BasicTicker\"},{\"attributes\":{\"active_drag\":\"auto\",\"active_inspect\":\"auto\",\"active_scroll\":\"auto\",\"active_tap\":\"auto\",\"tools\":[{\"id\":\"67513b54-7d96-4986-baae-3c4383015ddc\",\"type\":\"PanTool\"},{\"id\":\"486a76a2-1133-4237-9796-f65e29237bf2\",\"type\":\"ResizeTool\"},{\"id\":\"e9d9a4d2-63d8-468d-aea9-77f4910873c1\",\"type\":\"ResetTool\"},{\"id\":\"caf86372-8b33-42eb-ac78-cc0533dce15d\",\"type\":\"BoxZoomTool\"},{\"id\":\"457e151e-cecf-4fe6-8a26-4743a6c79e4c\",\"type\":\"SaveTool\"},{\"id\":\"548aced1-b27c-4bd1-9dfa-3f0d8ab918c3\",\"type\":\"HoverTool\"}]},\"id\":\"45031fae-cfc8-4c7b-bb02-432a8f5450fc\",\"type\":\"Toolbar\"},{\"attributes\":{\"overlay\":{\"id\":\"2249f329-894c-4047-820f-0fcfa0be7615\",\"type\":\"BoxAnnotation\"},\"plot\":{\"id\":\"7c7e7216-e77c-450a-9351-60395bf46ce9\",\"subtype\":\"Figure\",\"type\":\"Plot\"}},\"id\":\"caf86372-8b33-42eb-ac78-cc0533dce15d\",\"type\":\"BoxZoomTool\"},{\"attributes\":{\"plot\":{\"id\":\"7c7e7216-e77c-450a-9351-60395bf46ce9\",\"subtype\":\"Figure\",\"type\":\"Plot\"}},\"id\":\"457e151e-cecf-4fe6-8a26-4743a6c79e4c\",\"type\":\"SaveTool\"},{\"attributes\":{\"axis_label\":\"distance[pc]\",\"formatter\":{\"id\":\"fd9dc324-b1c9-4a03-86f9-4265649de080\",\"type\":\"BasicTickFormatter\"},\"plot\":{\"id\":\"7c7e7216-e77c-450a-9351-60395bf46ce9\",\"subtype\":\"Figure\",\"type\":\"Plot\"},\"ticker\":{\"id\":\"acee2aaa-b508-4902-8bf9-81929a1007ce\",\"type\":\"BasicTicker\"}},\"id\":\"6a0810dc-2b16-4137-ae97-2c68646109d2\",\"type\":\"LinearAxis\"},{\"attributes\":{\"axis_label\":\"Teff[K]\",\"formatter\":{\"id\":\"cf9d55d7-b579-437e-a48c-c3393c38aa35\",\"type\":\"BasicTickFormatter\"},\"plot\":{\"id\":\"7c7e7216-e77c-450a-9351-60395bf46ce9\",\"subtype\":\"Figure\",\"type\":\"Plot\"},\"ticker\":{\"id\":\"249806ae-fa37-4568-8142-6064198691fd\",\"type\":\"BasicTicker\"}},\"id\":\"c86038ac-c3db-42b8-820d-e1548243cfc3\",\"type\":\"LinearAxis\"},{\"attributes\":{\"plot\":{\"id\":\"7c7e7216-e77c-450a-9351-60395bf46ce9\",\"subtype\":\"Figure\",\"type\":\"Plot\"},\"ticker\":{\"id\":\"acee2aaa-b508-4902-8bf9-81929a1007ce\",\"type\":\"BasicTicker\"}},\"id\":\"7da6b2d2-52d4-4b4e-9e30-90540b1d66c0\",\"type\":\"Grid\"},{\"attributes\":{},\"id\":\"cf9d55d7-b579-437e-a48c-c3393c38aa35\",\"type\":\"BasicTickFormatter\"},{\"attributes\":{\"fill_alpha\":{\"value\":0.7},\"fill_color\":{\"value\":\"#1f77b4\"},\"line_color\":{\"value\":\"#1f77b4\"},\"size\":{\"units\":\"screen\",\"value\":8},\"x\":{\"field\":\"x\"},\"y\":{\"field\":\"y\"}},\"id\":\"4af18f50-f5f5-47b3-bc50-a2eb485a4778\",\"type\":\"Circle\"},{\"attributes\":{\"below\":[{\"id\":\"6a0810dc-2b16-4137-ae97-2c68646109d2\",\"type\":\"LinearAxis\"}],\"left\":[{\"id\":\"c86038ac-c3db-42b8-820d-e1548243cfc3\",\"type\":\"LinearAxis\"}],\"plot_height\":500,\"plot_width\":800,\"renderers\":[{\"id\":\"6a0810dc-2b16-4137-ae97-2c68646109d2\",\"type\":\"LinearAxis\"},{\"id\":\"7da6b2d2-52d4-4b4e-9e30-90540b1d66c0\",\"type\":\"Grid\"},{\"id\":\"c86038ac-c3db-42b8-820d-e1548243cfc3\",\"type\":\"LinearAxis\"},{\"id\":\"15c7384f-d9fc-4be5-910e-6723d5eb6341\",\"type\":\"Grid\"},{\"id\":\"2249f329-894c-4047-820f-0fcfa0be7615\",\"type\":\"BoxAnnotation\"},{\"id\":\"56626063-6118-4527-9ee7-668a5f9d5342\",\"type\":\"Legend\"},{\"id\":\"56fbca4f-a530-4d90-86ff-ed874c1f2c45\",\"type\":\"GlyphRenderer\"}],\"title\":{\"id\":\"64051f83-a677-4ee7-95b4-059dfcc3cc40\",\"type\":\"Title\"},\"tool_events\":{\"id\":\"1bf5cab8-11f9-464f-b678-8096415695d0\",\"type\":\"ToolEvents\"},\"toolbar\":{\"id\":\"45031fae-cfc8-4c7b-bb02-432a8f5450fc\",\"type\":\"Toolbar\"},\"x_range\":{\"id\":\"dbe2fd1e-7f5a-45c1-9f13-ca4b22cb77c8\",\"type\":\"DataRange1d\"},\"x_scale\":{\"id\":\"1c652eef-95fb-4ec0-88e1-0cc441b30259\",\"type\":\"LinearScale\"},\"y_range\":{\"id\":\"216a26c2-f1e2-4813-a91c-15b3714ab83b\",\"type\":\"DataRange1d\"},\"y_scale\":{\"id\":\"51b333aa-ab43-4b18-8155-4cd7dc2f2a79\",\"type\":\"LinearScale\"}},\"id\":\"7c7e7216-e77c-450a-9351-60395bf46ce9\",\"subtype\":\"Figure\",\"type\":\"Plot\"},{\"attributes\":{},\"id\":\"acee2aaa-b508-4902-8bf9-81929a1007ce\",\"type\":\"BasicTicker\"},{\"attributes\":{\"label\":{\"value\":\"Photometry\"},\"renderers\":[{\"id\":\"56fbca4f-a530-4d90-86ff-ed874c1f2c45\",\"type\":\"GlyphRenderer\"}]},\"id\":\"aa47a294-45a3-419f-b845-bef543b97875\",\"type\":\"LegendItem\"},{\"attributes\":{\"callback\":null,\"column_names\":[\"desc\",\"y\",\"x\"],\"data\":{\"desc\":[\"2MASS 261832886\",\"2MASS 2618328860\",\"2MASS 2618328861\",\"2MASS 2618328862\",\"2MASS 2618328863\",\"2MASS 2618328864\",\"2MASS 2618328865\",\"2MASS 2618328866\",\"2MASS 2618328867\",\"2MASS 2618328868\",\"2MASS 2618328869\"],\"x\":{\"__ndarray__\":\"CtejcD3igUBI4XoUrumAQBSuR+F62H9AH4XrUbg2g0CPwvUoXB+CQJqZmZmZzYRAw/UoXI8qgkDXo3A9ClmAQI/C9Shcx4NAXI/C9SgogUBcj8L1KH6BQA==\",\"dtype\":\"float64\",\"shape\":[11]},\"y\":{\"__ndarray__\":\"AAAAAADAqkAAAAAAAASqQAAAAAAAPqlAAAAAAAC6q0AAAAAAAO6qQAAAAAAA2qxAAAAAAAD2qkAAAAAAAJSpQAAAAAAAIqxAAAAAAAA0qkAAAAAAAHSqQA==\",\"dtype\":\"float64\",\"shape\":[11]}}},\"id\":\"b5dc2337-2dff-475f-b267-88c194750c1e\",\"type\":\"ColumnDataSource\"},{\"attributes\":{\"plot\":{\"id\":\"7c7e7216-e77c-450a-9351-60395bf46ce9\",\"subtype\":\"Figure\",\"type\":\"Plot\"}},\"id\":\"486a76a2-1133-4237-9796-f65e29237bf2\",\"type\":\"ResizeTool\"},{\"attributes\":{\"bottom_units\":\"screen\",\"fill_alpha\":{\"value\":0.5},\"fill_color\":{\"value\":\"lightgrey\"},\"left_units\":\"screen\",\"level\":\"overlay\",\"line_alpha\":{\"value\":1.0},\"line_color\":{\"value\":\"black\"},\"line_dash\":[4,4],\"line_width\":{\"value\":2},\"plot\":null,\"render_mode\":\"css\",\"right_units\":\"screen\",\"top_units\":\"screen\"},\"id\":\"2249f329-894c-4047-820f-0fcfa0be7615\",\"type\":\"BoxAnnotation\"}],\"root_ids\":[\"7c7e7216-e77c-450a-9351-60395bf46ce9\"]},\"title\":\"Bokeh Application\",\"version\":\"0.12.6\"}};\n",
       "            var render_items = [{\"docid\":\"fe82a151-7ae4-4ecc-a9b8-a01c155b2a89\",\"elementid\":\"5e6d750a-bedf-4984-b663-43e7aff42ec1\",\"modelid\":\"7c7e7216-e77c-450a-9351-60395bf46ce9\"}];\n",
       "            \n",
       "            Bokeh.embed.embed_items(docs_json, render_items);\n",
       "          };\n",
       "          if (document.readyState != \"loading\") fn();\n",
       "          else document.addEventListener(\"DOMContentLoaded\", fn);\n",
       "        })();\n",
       "      },\n",
       "      function(Bokeh) {\n",
       "      }\n",
       "    ];\n",
       "  \n",
       "    function run_inline_js() {\n",
       "      \n",
       "      if ((window.Bokeh !== undefined) || (force === true)) {\n",
       "        for (var i = 0; i < inline_js.length; i++) {\n",
       "          inline_js[i](window.Bokeh);\n",
       "        }if (force === true) {\n",
       "          display_loaded();\n",
       "        }} else if (Date.now() < window._bokeh_timeout) {\n",
       "        setTimeout(run_inline_js, 100);\n",
       "      } else if (!window._bokeh_failed_load) {\n",
       "        console.log(\"Bokeh: BokehJS failed to load within specified timeout.\");\n",
       "        window._bokeh_failed_load = true;\n",
       "      } else if (force !== true) {\n",
       "        var cell = $(document.getElementById(\"5e6d750a-bedf-4984-b663-43e7aff42ec1\")).parents('.cell').data().cell;\n",
       "        cell.output_area.append_execute_result(NB_LOAD_WARNING)\n",
       "      }\n",
       "  \n",
       "    }\n",
       "  \n",
       "    if (window._bokeh_is_loading === 0) {\n",
       "      console.log(\"Bokeh: BokehJS loaded, going straight to plotting\");\n",
       "      run_inline_js();\n",
       "    } else {\n",
       "      load_libs(js_urls, function() {\n",
       "        console.log(\"Bokeh: BokehJS plotting callback run at\", now());\n",
       "        run_inline_js();\n",
       "      });\n",
       "    }\n",
       "  }(this));\n",
       "</script>"
      ]
     },
     "metadata": {},
     "output_type": "display_data"
    }
   ],
   "source": [
    "show(cat.plot('distance', 'Teff'))"
   ]
  },
  {
   "cell_type": "markdown",
   "metadata": {},
   "source": [
    "Or plot a CMD! You can also pass the difference of two magnitudes as a string like so."
   ]
  },
  {
   "cell_type": "code",
   "execution_count": 7,
   "metadata": {
    "collapsed": false
   },
   "outputs": [
    {
     "data": {
      "text/html": [
       "\n",
       "\n",
       "    <div class=\"bk-root\">\n",
       "        <div class=\"bk-plotdiv\" id=\"829fcc21-44b2-4ac3-b61e-c96904f75794\"></div>\n",
       "    </div>\n",
       "<script type=\"text/javascript\">\n",
       "  \n",
       "  (function(global) {\n",
       "    function now() {\n",
       "      return new Date();\n",
       "    }\n",
       "  \n",
       "    var force = false;\n",
       "  \n",
       "    if (typeof (window._bokeh_onload_callbacks) === \"undefined\" || force === true) {\n",
       "      window._bokeh_onload_callbacks = [];\n",
       "      window._bokeh_is_loading = undefined;\n",
       "    }\n",
       "  \n",
       "  \n",
       "    \n",
       "    if (typeof (window._bokeh_timeout) === \"undefined\" || force === true) {\n",
       "      window._bokeh_timeout = Date.now() + 0;\n",
       "      window._bokeh_failed_load = false;\n",
       "    }\n",
       "  \n",
       "    var NB_LOAD_WARNING = {'data': {'text/html':\n",
       "       \"<div style='background-color: #fdd'>\\n\"+\n",
       "       \"<p>\\n\"+\n",
       "       \"BokehJS does not appear to have successfully loaded. If loading BokehJS from CDN, this \\n\"+\n",
       "       \"may be due to a slow or bad network connection. Possible fixes:\\n\"+\n",
       "       \"</p>\\n\"+\n",
       "       \"<ul>\\n\"+\n",
       "       \"<li>re-rerun `output_notebook()` to attempt to load from CDN again, or</li>\\n\"+\n",
       "       \"<li>use INLINE resources instead, as so:</li>\\n\"+\n",
       "       \"</ul>\\n\"+\n",
       "       \"<code>\\n\"+\n",
       "       \"from bokeh.resources import INLINE\\n\"+\n",
       "       \"output_notebook(resources=INLINE)\\n\"+\n",
       "       \"</code>\\n\"+\n",
       "       \"</div>\"}};\n",
       "  \n",
       "    function display_loaded() {\n",
       "      if (window.Bokeh !== undefined) {\n",
       "        var el = document.getElementById(\"829fcc21-44b2-4ac3-b61e-c96904f75794\");\n",
       "        el.textContent = \"BokehJS \" + Bokeh.version + \" successfully loaded.\";\n",
       "      } else if (Date.now() < window._bokeh_timeout) {\n",
       "        setTimeout(display_loaded, 100)\n",
       "      }\n",
       "    }\n",
       "  \n",
       "    function run_callbacks() {\n",
       "      try {\n",
       "        window._bokeh_onload_callbacks.forEach(function(callback) { callback() });\n",
       "      }\n",
       "      finally {\n",
       "        delete window._bokeh_onload_callbacks\n",
       "      }\n",
       "      console.info(\"Bokeh: all callbacks have finished\");\n",
       "    }\n",
       "  \n",
       "    function load_libs(js_urls, callback) {\n",
       "      window._bokeh_onload_callbacks.push(callback);\n",
       "      if (window._bokeh_is_loading > 0) {\n",
       "        console.log(\"Bokeh: BokehJS is being loaded, scheduling callback at\", now());\n",
       "        return null;\n",
       "      }\n",
       "      if (js_urls == null || js_urls.length === 0) {\n",
       "        run_callbacks();\n",
       "        return null;\n",
       "      }\n",
       "      console.log(\"Bokeh: BokehJS not loaded, scheduling load and callback at\", now());\n",
       "      window._bokeh_is_loading = js_urls.length;\n",
       "      for (var i = 0; i < js_urls.length; i++) {\n",
       "        var url = js_urls[i];\n",
       "        var s = document.createElement('script');\n",
       "        s.src = url;\n",
       "        s.async = false;\n",
       "        s.onreadystatechange = s.onload = function() {\n",
       "          window._bokeh_is_loading--;\n",
       "          if (window._bokeh_is_loading === 0) {\n",
       "            console.log(\"Bokeh: all BokehJS libraries loaded\");\n",
       "            run_callbacks()\n",
       "          }\n",
       "        };\n",
       "        s.onerror = function() {\n",
       "          console.warn(\"failed to load library \" + url);\n",
       "        };\n",
       "        console.log(\"Bokeh: injecting script tag for BokehJS library: \", url);\n",
       "        document.getElementsByTagName(\"head\")[0].appendChild(s);\n",
       "      }\n",
       "    };var element = document.getElementById(\"829fcc21-44b2-4ac3-b61e-c96904f75794\");\n",
       "    if (element == null) {\n",
       "      console.log(\"Bokeh: ERROR: autoload.js configured with elementid '829fcc21-44b2-4ac3-b61e-c96904f75794' but no matching script tag was found. \")\n",
       "      return false;\n",
       "    }\n",
       "  \n",
       "    var js_urls = [];\n",
       "  \n",
       "    var inline_js = [\n",
       "      function(Bokeh) {\n",
       "        (function() {\n",
       "          var fn = function() {\n",
       "            var docs_json = {\"3298a3a1-4585-46ee-b271-c7a9cf94af1c\":{\"roots\":{\"references\":[{\"attributes\":{\"plot\":{\"id\":\"3fcb40e8-d16e-4b5b-9ebd-9d51514a70bb\",\"subtype\":\"Figure\",\"type\":\"Plot\"}},\"id\":\"49099a8a-c1b9-4272-9840-3c0a37a7f783\",\"type\":\"ResetTool\"},{\"attributes\":{},\"id\":\"ea3aa9c5-db3e-459c-8e93-5894e7dc7dea\",\"type\":\"LinearScale\"},{\"attributes\":{\"callback\":null},\"id\":\"1ef3e9e8-1bff-4092-ade2-382b9a834029\",\"type\":\"DataRange1d\"},{\"attributes\":{},\"id\":\"527e6fb8-0cc1-486d-85c3-bb0d4c516a05\",\"type\":\"BasicTickFormatter\"},{\"attributes\":{\"plot\":{\"id\":\"3fcb40e8-d16e-4b5b-9ebd-9d51514a70bb\",\"subtype\":\"Figure\",\"type\":\"Plot\"}},\"id\":\"f7e5d248-1377-49c1-aa74-beb7fc43255d\",\"type\":\"SaveTool\"},{\"attributes\":{},\"id\":\"ce0d41ff-651e-42d4-9363-ca7ac89e71b9\",\"type\":\"BasicTicker\"},{\"attributes\":{},\"id\":\"990fd49a-c528-4884-96bb-96d21f8746f9\",\"type\":\"BasicTickFormatter\"},{\"attributes\":{},\"id\":\"610f1f13-f937-410a-ba22-71120a095e5b\",\"type\":\"ToolEvents\"},{\"attributes\":{\"label\":{\"value\":\"Photometry\"},\"renderers\":[{\"id\":\"78982d25-1017-4346-b04e-7c4a88983468\",\"type\":\"GlyphRenderer\"}]},\"id\":\"fbd6230d-59b2-40a2-b301-b1f458c0e066\",\"type\":\"LegendItem\"},{\"attributes\":{\"click_policy\":\"hide\",\"items\":[{\"id\":\"fbd6230d-59b2-40a2-b301-b1f458c0e066\",\"type\":\"LegendItem\"}],\"plot\":{\"id\":\"3fcb40e8-d16e-4b5b-9ebd-9d51514a70bb\",\"subtype\":\"Figure\",\"type\":\"Plot\"}},\"id\":\"3e92300b-a25a-489c-873b-82cd052bc543\",\"type\":\"Legend\"},{\"attributes\":{\"callback\":null},\"id\":\"155a1945-be8b-4a99-b412-a1740d075138\",\"type\":\"DataRange1d\"},{\"attributes\":{\"axis_label\":\"M_2MASS.J\",\"formatter\":{\"id\":\"527e6fb8-0cc1-486d-85c3-bb0d4c516a05\",\"type\":\"BasicTickFormatter\"},\"plot\":{\"id\":\"3fcb40e8-d16e-4b5b-9ebd-9d51514a70bb\",\"subtype\":\"Figure\",\"type\":\"Plot\"},\"ticker\":{\"id\":\"b4af2f18-1c41-494a-9d3c-9fdba3464606\",\"type\":\"BasicTicker\"}},\"id\":\"ec99ade8-17a0-4171-b640-c8bd2c2c3d59\",\"type\":\"LinearAxis\"},{\"attributes\":{\"dimension\":1,\"plot\":{\"id\":\"3fcb40e8-d16e-4b5b-9ebd-9d51514a70bb\",\"subtype\":\"Figure\",\"type\":\"Plot\"},\"ticker\":{\"id\":\"b4af2f18-1c41-494a-9d3c-9fdba3464606\",\"type\":\"BasicTicker\"}},\"id\":\"a182f689-5436-4e64-bd10-6a821b7e88a9\",\"type\":\"Grid\"},{\"attributes\":{\"plot\":{\"id\":\"3fcb40e8-d16e-4b5b-9ebd-9d51514a70bb\",\"subtype\":\"Figure\",\"type\":\"Plot\"}},\"id\":\"9015a096-694f-4253-8ccf-1eb3553c5d6c\",\"type\":\"PanTool\"},{\"attributes\":{\"data_source\":{\"id\":\"ce271028-f1b0-4559-8cab-ed0275cddcb6\",\"type\":\"ColumnDataSource\"},\"glyph\":{\"id\":\"ca04bf93-7610-42bd-9eee-5416ffe7e3d4\",\"type\":\"Circle\"},\"hover_glyph\":null,\"muted_glyph\":null,\"name\":\"photometry\",\"nonselection_glyph\":{\"id\":\"5e37b3f7-c20a-456d-9b87-c9a197fc4089\",\"type\":\"Circle\"},\"selection_glyph\":null},\"id\":\"78982d25-1017-4346-b04e-7c4a88983468\",\"type\":\"GlyphRenderer\"},{\"attributes\":{\"overlay\":{\"id\":\"c5b7efc9-1d85-456b-ab66-e125da5195c5\",\"type\":\"BoxAnnotation\"},\"plot\":{\"id\":\"3fcb40e8-d16e-4b5b-9ebd-9d51514a70bb\",\"subtype\":\"Figure\",\"type\":\"Plot\"}},\"id\":\"b760459b-7499-4755-9428-2c771a9ffa6b\",\"type\":\"BoxZoomTool\"},{\"attributes\":{\"axis_label\":\"2MASS.J-2MASS.Ks\",\"formatter\":{\"id\":\"990fd49a-c528-4884-96bb-96d21f8746f9\",\"type\":\"BasicTickFormatter\"},\"plot\":{\"id\":\"3fcb40e8-d16e-4b5b-9ebd-9d51514a70bb\",\"subtype\":\"Figure\",\"type\":\"Plot\"},\"ticker\":{\"id\":\"ce0d41ff-651e-42d4-9363-ca7ac89e71b9\",\"type\":\"BasicTicker\"}},\"id\":\"400a2ce6-66f8-4dfa-8b6e-3d76a106c3d3\",\"type\":\"LinearAxis\"},{\"attributes\":{\"plot\":{\"id\":\"3fcb40e8-d16e-4b5b-9ebd-9d51514a70bb\",\"subtype\":\"Figure\",\"type\":\"Plot\"}},\"id\":\"90b9e9c7-e65d-4729-80e7-4eee572ba188\",\"type\":\"ResizeTool\"},{\"attributes\":{\"callback\":null,\"column_names\":[\"desc\",\"y\",\"x\"],\"data\":{\"desc\":[\"2MASS 261832886\",\"2MASS 2618328860\",\"2MASS 2618328861\",\"2MASS 2618328862\",\"2MASS 2618328863\",\"2MASS 2618328864\",\"2MASS 2618328865\",\"2MASS 2618328866\",\"2MASS 2618328867\",\"2MASS 2618328868\",\"2MASS 2618328869\"],\"x\":{\"__ndarray__\":\"MAisHFpk6z8wCKwcWmTrPzAIrBxaZOs/MAisHFpk6z8wCKwcWmTrPzAIrBxaZOs/MAisHFpk6z8wCKwcWmTrPzAIrBxaZOs/MAisHFpk6z8wCKwcWmTrPw==\",\"dtype\":\"float64\",\"shape\":[11]},\"y\":{\"__ndarray__\":\"GQRWDmUD50BWDi2yDZXkQC/dJAZBPuJATmIQWEGQ6kCkcD0Kv6HnQM3MzMzUI+9AKVyPwv2+50CPwvUo5DrjQPYoXI8SJuxAiUFg5Tgu5UAlBoGVowTmQA==\",\"dtype\":\"float64\",\"shape\":[11]}}},\"id\":\"ce271028-f1b0-4559-8cab-ed0275cddcb6\",\"type\":\"ColumnDataSource\"},{\"attributes\":{},\"id\":\"55c1b7cf-ba5e-4097-b9e2-8c12bbca509c\",\"type\":\"LinearScale\"},{\"attributes\":{\"fill_alpha\":{\"value\":0.1},\"fill_color\":{\"value\":\"#1f77b4\"},\"line_alpha\":{\"value\":0.1},\"line_color\":{\"value\":\"#1f77b4\"},\"size\":{\"units\":\"screen\",\"value\":8},\"x\":{\"field\":\"x\"},\"y\":{\"field\":\"y\"}},\"id\":\"5e37b3f7-c20a-456d-9b87-c9a197fc4089\",\"type\":\"Circle\"},{\"attributes\":{\"plot\":null,\"text\":\"2MASS.J-2MASS.Ks v M_2MASS.J\"},\"id\":\"19339c7f-3b84-4280-a3fc-188beedc2165\",\"type\":\"Title\"},{\"attributes\":{\"callback\":null,\"plot\":{\"id\":\"3fcb40e8-d16e-4b5b-9ebd-9d51514a70bb\",\"subtype\":\"Figure\",\"type\":\"Plot\"},\"tooltips\":[[\"Name\",\"@desc\"],[\"2MASS.J-2MASS.Ks\",\"@x\"],[\"M_2MASS.J\",\"@y\"]]},\"id\":\"c60aedff-1d41-46a0-9e90-c3c3cf58465d\",\"type\":\"HoverTool\"},{\"attributes\":{\"active_drag\":\"auto\",\"active_inspect\":\"auto\",\"active_scroll\":\"auto\",\"active_tap\":\"auto\",\"tools\":[{\"id\":\"9015a096-694f-4253-8ccf-1eb3553c5d6c\",\"type\":\"PanTool\"},{\"id\":\"90b9e9c7-e65d-4729-80e7-4eee572ba188\",\"type\":\"ResizeTool\"},{\"id\":\"49099a8a-c1b9-4272-9840-3c0a37a7f783\",\"type\":\"ResetTool\"},{\"id\":\"b760459b-7499-4755-9428-2c771a9ffa6b\",\"type\":\"BoxZoomTool\"},{\"id\":\"f7e5d248-1377-49c1-aa74-beb7fc43255d\",\"type\":\"SaveTool\"},{\"id\":\"c60aedff-1d41-46a0-9e90-c3c3cf58465d\",\"type\":\"HoverTool\"}]},\"id\":\"d119598d-82c7-4444-b9e2-6e2a920b85e4\",\"type\":\"Toolbar\"},{\"attributes\":{\"fill_alpha\":{\"value\":0.7},\"fill_color\":{\"value\":\"#1f77b4\"},\"line_color\":{\"value\":\"#1f77b4\"},\"size\":{\"units\":\"screen\",\"value\":8},\"x\":{\"field\":\"x\"},\"y\":{\"field\":\"y\"}},\"id\":\"ca04bf93-7610-42bd-9eee-5416ffe7e3d4\",\"type\":\"Circle\"},{\"attributes\":{},\"id\":\"b4af2f18-1c41-494a-9d3c-9fdba3464606\",\"type\":\"BasicTicker\"},{\"attributes\":{\"plot\":{\"id\":\"3fcb40e8-d16e-4b5b-9ebd-9d51514a70bb\",\"subtype\":\"Figure\",\"type\":\"Plot\"},\"ticker\":{\"id\":\"ce0d41ff-651e-42d4-9363-ca7ac89e71b9\",\"type\":\"BasicTicker\"}},\"id\":\"57845f1f-335c-4bfa-a06b-607a4e8765a6\",\"type\":\"Grid\"},{\"attributes\":{\"bottom_units\":\"screen\",\"fill_alpha\":{\"value\":0.5},\"fill_color\":{\"value\":\"lightgrey\"},\"left_units\":\"screen\",\"level\":\"overlay\",\"line_alpha\":{\"value\":1.0},\"line_color\":{\"value\":\"black\"},\"line_dash\":[4,4],\"line_width\":{\"value\":2},\"plot\":null,\"render_mode\":\"css\",\"right_units\":\"screen\",\"top_units\":\"screen\"},\"id\":\"c5b7efc9-1d85-456b-ab66-e125da5195c5\",\"type\":\"BoxAnnotation\"},{\"attributes\":{\"below\":[{\"id\":\"400a2ce6-66f8-4dfa-8b6e-3d76a106c3d3\",\"type\":\"LinearAxis\"}],\"left\":[{\"id\":\"ec99ade8-17a0-4171-b640-c8bd2c2c3d59\",\"type\":\"LinearAxis\"}],\"plot_height\":500,\"plot_width\":800,\"renderers\":[{\"id\":\"400a2ce6-66f8-4dfa-8b6e-3d76a106c3d3\",\"type\":\"LinearAxis\"},{\"id\":\"57845f1f-335c-4bfa-a06b-607a4e8765a6\",\"type\":\"Grid\"},{\"id\":\"ec99ade8-17a0-4171-b640-c8bd2c2c3d59\",\"type\":\"LinearAxis\"},{\"id\":\"a182f689-5436-4e64-bd10-6a821b7e88a9\",\"type\":\"Grid\"},{\"id\":\"c5b7efc9-1d85-456b-ab66-e125da5195c5\",\"type\":\"BoxAnnotation\"},{\"id\":\"3e92300b-a25a-489c-873b-82cd052bc543\",\"type\":\"Legend\"},{\"id\":\"78982d25-1017-4346-b04e-7c4a88983468\",\"type\":\"GlyphRenderer\"}],\"title\":{\"id\":\"19339c7f-3b84-4280-a3fc-188beedc2165\",\"type\":\"Title\"},\"tool_events\":{\"id\":\"610f1f13-f937-410a-ba22-71120a095e5b\",\"type\":\"ToolEvents\"},\"toolbar\":{\"id\":\"d119598d-82c7-4444-b9e2-6e2a920b85e4\",\"type\":\"Toolbar\"},\"x_range\":{\"id\":\"1ef3e9e8-1bff-4092-ade2-382b9a834029\",\"type\":\"DataRange1d\"},\"x_scale\":{\"id\":\"55c1b7cf-ba5e-4097-b9e2-8c12bbca509c\",\"type\":\"LinearScale\"},\"y_range\":{\"id\":\"155a1945-be8b-4a99-b412-a1740d075138\",\"type\":\"DataRange1d\"},\"y_scale\":{\"id\":\"ea3aa9c5-db3e-459c-8e93-5894e7dc7dea\",\"type\":\"LinearScale\"}},\"id\":\"3fcb40e8-d16e-4b5b-9ebd-9d51514a70bb\",\"subtype\":\"Figure\",\"type\":\"Plot\"}],\"root_ids\":[\"3fcb40e8-d16e-4b5b-9ebd-9d51514a70bb\"]},\"title\":\"Bokeh Application\",\"version\":\"0.12.6\"}};\n",
       "            var render_items = [{\"docid\":\"3298a3a1-4585-46ee-b271-c7a9cf94af1c\",\"elementid\":\"829fcc21-44b2-4ac3-b61e-c96904f75794\",\"modelid\":\"3fcb40e8-d16e-4b5b-9ebd-9d51514a70bb\"}];\n",
       "            \n",
       "            Bokeh.embed.embed_items(docs_json, render_items);\n",
       "          };\n",
       "          if (document.readyState != \"loading\") fn();\n",
       "          else document.addEventListener(\"DOMContentLoaded\", fn);\n",
       "        })();\n",
       "      },\n",
       "      function(Bokeh) {\n",
       "      }\n",
       "    ];\n",
       "  \n",
       "    function run_inline_js() {\n",
       "      \n",
       "      if ((window.Bokeh !== undefined) || (force === true)) {\n",
       "        for (var i = 0; i < inline_js.length; i++) {\n",
       "          inline_js[i](window.Bokeh);\n",
       "        }if (force === true) {\n",
       "          display_loaded();\n",
       "        }} else if (Date.now() < window._bokeh_timeout) {\n",
       "        setTimeout(run_inline_js, 100);\n",
       "      } else if (!window._bokeh_failed_load) {\n",
       "        console.log(\"Bokeh: BokehJS failed to load within specified timeout.\");\n",
       "        window._bokeh_failed_load = true;\n",
       "      } else if (force !== true) {\n",
       "        var cell = $(document.getElementById(\"829fcc21-44b2-4ac3-b61e-c96904f75794\")).parents('.cell').data().cell;\n",
       "        cell.output_area.append_execute_result(NB_LOAD_WARNING)\n",
       "      }\n",
       "  \n",
       "    }\n",
       "  \n",
       "    if (window._bokeh_is_loading === 0) {\n",
       "      console.log(\"Bokeh: BokehJS loaded, going straight to plotting\");\n",
       "      run_inline_js();\n",
       "    } else {\n",
       "      load_libs(js_urls, function() {\n",
       "        console.log(\"Bokeh: BokehJS plotting callback run at\", now());\n",
       "        run_inline_js();\n",
       "      });\n",
       "    }\n",
       "  }(this));\n",
       "</script>"
      ]
     },
     "metadata": {},
     "output_type": "display_data"
    }
   ],
   "source": [
    "show(cat.plot('2MASS.J-2MASS.Ks', 'M_2MASS.J'))"
   ]
  },
  {
   "cell_type": "markdown",
   "metadata": {},
   "source": [
    "We can then retrieve the SED for a particular source like so:"
   ]
  },
  {
   "cell_type": "code",
   "execution_count": 8,
   "metadata": {
    "collapsed": false
   },
   "outputs": [
    {
     "name": "stdout",
     "output_type": "stream",
     "text": [
      "No SEDs named 2MASS 261832886\n"
     ]
    },
    {
     "ename": "AttributeError",
     "evalue": "'NoneType' object has no attribute 'plot'",
     "output_type": "error",
     "traceback": [
      "\u001b[0;31m---------------------------------------------------------------------------\u001b[0m",
      "\u001b[0;31mAttributeError\u001b[0m                            Traceback (most recent call last)",
      "\u001b[0;32m<ipython-input-8-8e739a8de000>\u001b[0m in \u001b[0;36m<module>\u001b[0;34m()\u001b[0m\n\u001b[1;32m      1\u001b[0m \u001b[0mmy_sed\u001b[0m \u001b[0;34m=\u001b[0m \u001b[0mcat\u001b[0m\u001b[0;34m.\u001b[0m\u001b[0mget_SED\u001b[0m\u001b[0;34m(\u001b[0m\u001b[0;34m'2MASS 261832886'\u001b[0m\u001b[0;34m)\u001b[0m\u001b[0;34m\u001b[0m\u001b[0m\n\u001b[0;32m----> 2\u001b[0;31m \u001b[0mfig\u001b[0m \u001b[0;34m=\u001b[0m \u001b[0mmy_sed\u001b[0m\u001b[0;34m.\u001b[0m\u001b[0mplot\u001b[0m\u001b[0;34m(\u001b[0m\u001b[0;34m)\u001b[0m\u001b[0;34m\u001b[0m\u001b[0m\n\u001b[0m",
      "\u001b[0;31mAttributeError\u001b[0m: 'NoneType' object has no attribute 'plot'"
     ]
    }
   ],
   "source": [
    "my_sed = cat.get_SED('2MASS 261832886')\n",
    "fig = my_sed.plot()"
   ]
  },
  {
   "cell_type": "markdown",
   "metadata": {},
   "source": [
    "And save and load from file."
   ]
  },
  {
   "cell_type": "code",
   "execution_count": null,
   "metadata": {
    "collapsed": false
   },
   "outputs": [],
   "source": [
    "cat.save('/Users/jfilippazzo/Desktop/test.p')"
   ]
  },
  {
   "cell_type": "code",
   "execution_count": null,
   "metadata": {
    "collapsed": false
   },
   "outputs": [],
   "source": [
    "new = sed.SEDCatalog().load('/Users/jfilippazzo/Desktop/test.p')"
   ]
  },
  {
   "cell_type": "markdown",
   "metadata": {},
   "source": [
    "The catalog can also be filtered by providing a column name and value..."
   ]
  },
  {
   "cell_type": "code",
   "execution_count": 39,
   "metadata": {
    "collapsed": false
   },
   "outputs": [
    {
     "data": {
      "text/html": [
       "<i>QTable length=1</i>\n",
       "<table id=\"table4754561624\" class=\"table-striped table-bordered table-condensed\">\n",
       "<thead><tr><th>name</th><th>age</th><th>age_unc</th><th>distance</th><th>distance_unc</th><th>parallax</th><th>parallax_unc</th><th>radius</th><th>radius_unc</th><th>spectral_type</th><th>spectral_type_unc</th><th>membership</th><th>fbol</th><th>fbol_unc</th><th>mbol</th><th>mbol_unc</th><th>Lbol</th><th>Lbol_unc</th><th>Lbol_sun</th><th>Lbol_sun_unc</th><th>Mbol</th><th>Mbol_unc</th><th>logg</th><th>logg_unc</th><th>mass</th><th>mass_unc</th><th>Teff</th><th>Teff_unc</th><th>SED</th><th>SDSS.u</th><th>SDSS.u_unc</th><th>M_SDSS.u</th><th>M_SDSS.u_unc</th><th>SDSS.g</th><th>SDSS.g_unc</th><th>M_SDSS.g</th><th>M_SDSS.g_unc</th><th>SDSS.r</th><th>SDSS.r_unc</th><th>M_SDSS.r</th><th>M_SDSS.r_unc</th><th>SDSS.i</th><th>SDSS.i_unc</th><th>M_SDSS.i</th><th>M_SDSS.i_unc</th><th>SDSS.z</th><th>SDSS.z_unc</th><th>M_SDSS.z</th><th>M_SDSS.z_unc</th><th>2MASS.J</th><th>2MASS.J_unc</th><th>M_2MASS.J</th><th>M_2MASS.J_unc</th><th>2MASS.H</th><th>2MASS.H_unc</th><th>M_2MASS.H</th><th>M_2MASS.H_unc</th><th>2MASS.Ks</th><th>2MASS.Ks_unc</th><th>M_2MASS.Ks</th><th>M_2MASS.Ks_unc</th><th>WISE.W1</th><th>WISE.W1_unc</th><th>M_WISE.W1</th><th>M_WISE.W1_unc</th><th>WISE.W2</th><th>WISE.W2_unc</th><th>M_WISE.W2</th><th>M_WISE.W2_unc</th><th>WISE.W3</th><th>WISE.W3_unc</th><th>M_WISE.W3</th><th>M_WISE.W3_unc</th></tr></thead>\n",
       "<thead><tr><th></th><th>Myr</th><th>Myr</th><th>pc</th><th>pc</th><th>mas</th><th>mas</th><th>6.957e+08 m</th><th></th><th></th><th></th><th></th><th>erg / (cm2 s)</th><th>erg / (cm2 s)</th><th></th><th></th><th>erg / s</th><th>erg / s</th><th></th><th></th><th></th><th></th><th></th><th></th><th>solMass</th><th>solMass</th><th>K</th><th>K</th><th></th><th></th><th></th><th></th><th></th><th></th><th></th><th></th><th></th><th></th><th></th><th></th><th></th><th></th><th></th><th></th><th></th><th></th><th></th><th></th><th></th><th></th><th></th><th></th><th></th><th></th><th></th><th></th><th></th><th></th><th></th><th></th><th></th><th></th><th></th><th></th><th></th><th></th><th></th><th></th><th></th><th></th><th></th><th></th><th></th></tr></thead>\n",
       "<thead><tr><th>object</th><th>float64</th><th>float64</th><th>float64</th><th>float64</th><th>float64</th><th>float64</th><th>float64</th><th>object</th><th>object</th><th>object</th><th>object</th><th>float64</th><th>float64</th><th>object</th><th>object</th><th>float64</th><th>float64</th><th>object</th><th>object</th><th>object</th><th>object</th><th>object</th><th>object</th><th>float64</th><th>float64</th><th>float64</th><th>float64</th><th>object</th><th>float64</th><th>float64</th><th>float64</th><th>float64</th><th>float64</th><th>float64</th><th>float64</th><th>float64</th><th>float64</th><th>float64</th><th>float64</th><th>float64</th><th>float64</th><th>float64</th><th>float64</th><th>float64</th><th>float64</th><th>float64</th><th>float64</th><th>float64</th><th>float64</th><th>float64</th><th>float64</th><th>float64</th><th>float64</th><th>float64</th><th>float64</th><th>float64</th><th>float64</th><th>float64</th><th>float64</th><th>float64</th><th>float64</th><th>float64</th><th>float64</th><th>float64</th><th>float64</th><th>float64</th><th>float64</th><th>float64</th><th>float64</th><th>float64</th><th>float64</th><th>float64</th></tr></thead>\n",
       "<tr><td>2MASS 2618328861</td><td>6000.0</td><td>4000.0</td><td>598.98</td><td>35.88</td><td>1.6695005640755598</td><td>0.1</td><td>0.8786209573091851</td><td>0.06782337214316517</td><td>60.0</td><td>0.5</td><td>None</td><td>9.344700986227546e-12</td><td>8.891778300076678e-14</td><td>16.092</td><td>0.01</td><td>4.01144652103885e+32</td><td>4.820994360627056e+31</td><td>-0.98</td><td>0.052</td><td>7.205</td><td>0.066</td><td>4.5</td><td>0.07</td><td>0.8896913720017506</td><td>0.0</td><td>3503.0</td><td>171.0</td><td>&lt;SEDkit.sed.SED object at 0x11af7de48&gt;</td><td>20.486</td><td>0.073</td><td>73499.064</td><td>8805.458</td><td>17.779</td><td>0.006</td><td>63786.97</td><td>7641.913</td><td>16.431</td><td>0.004</td><td>58950.656</td><td>7062.505</td><td>15.843</td><td>0.004</td><td>56841.047</td><td>6809.766</td><td>15.514</td><td>0.005</td><td>55660.67</td><td>6668.352</td><td>14.391</td><td>0.029</td><td>51631.604</td><td>6185.656</td><td>13.677</td><td>0.032</td><td>49069.936</td><td>5878.759</td><td>13.535</td><td>0.034</td><td>48560.472</td><td>5817.723</td><td>13.55</td><td>0.027</td><td>48614.289</td><td>5824.17</td><td>13.581</td><td>0.035</td><td>48725.51</td><td>5837.495</td><td>12.884</td><td>0.0</td><td>46224.834</td><td>5537.905</td></tr>\n",
       "</table>"
      ],
      "text/plain": [
       "<QTable length=1>\n",
       "      name         age   age_unc ... WISE.W3_unc M_WISE.W3 M_WISE.W3_unc\n",
       "                   Myr     Myr   ...                                    \n",
       "     object      float64 float64 ...   float64    float64     float64   \n",
       "---------------- ------- ------- ... ----------- --------- -------------\n",
       "2MASS 2618328861  6000.0  4000.0 ...         0.0 46224.834      5537.905"
      ]
     },
     "execution_count": 39,
     "metadata": {},
     "output_type": "execute_result"
    }
   ],
   "source": [
    "cat.filter('name', \"'2MASS 2618328861'\").results"
   ]
  },
  {
   "cell_type": "markdown",
   "metadata": {},
   "source": [
    "...or a wildcard search..."
   ]
  },
  {
   "cell_type": "code",
   "execution_count": 43,
   "metadata": {
    "collapsed": false
   },
   "outputs": [
    {
     "data": {
      "text/html": [
       "<i>QTable length=1</i>\n",
       "<table id=\"table4752776608\" class=\"table-striped table-bordered table-condensed\">\n",
       "<thead><tr><th>name</th><th>age</th><th>age_unc</th><th>distance</th><th>distance_unc</th><th>parallax</th><th>parallax_unc</th><th>radius</th><th>radius_unc</th><th>spectral_type</th><th>spectral_type_unc</th><th>membership</th><th>fbol</th><th>fbol_unc</th><th>mbol</th><th>mbol_unc</th><th>Lbol</th><th>Lbol_unc</th><th>Lbol_sun</th><th>Lbol_sun_unc</th><th>Mbol</th><th>Mbol_unc</th><th>logg</th><th>logg_unc</th><th>mass</th><th>mass_unc</th><th>Teff</th><th>Teff_unc</th><th>SED</th><th>SDSS.u</th><th>SDSS.u_unc</th><th>M_SDSS.u</th><th>M_SDSS.u_unc</th><th>SDSS.g</th><th>SDSS.g_unc</th><th>M_SDSS.g</th><th>M_SDSS.g_unc</th><th>SDSS.r</th><th>SDSS.r_unc</th><th>M_SDSS.r</th><th>M_SDSS.r_unc</th><th>SDSS.i</th><th>SDSS.i_unc</th><th>M_SDSS.i</th><th>M_SDSS.i_unc</th><th>SDSS.z</th><th>SDSS.z_unc</th><th>M_SDSS.z</th><th>M_SDSS.z_unc</th><th>2MASS.J</th><th>2MASS.J_unc</th><th>M_2MASS.J</th><th>M_2MASS.J_unc</th><th>2MASS.H</th><th>2MASS.H_unc</th><th>M_2MASS.H</th><th>M_2MASS.H_unc</th><th>2MASS.Ks</th><th>2MASS.Ks_unc</th><th>M_2MASS.Ks</th><th>M_2MASS.Ks_unc</th><th>WISE.W1</th><th>WISE.W1_unc</th><th>M_WISE.W1</th><th>M_WISE.W1_unc</th><th>WISE.W2</th><th>WISE.W2_unc</th><th>M_WISE.W2</th><th>M_WISE.W2_unc</th><th>WISE.W3</th><th>WISE.W3_unc</th><th>M_WISE.W3</th><th>M_WISE.W3_unc</th></tr></thead>\n",
       "<thead><tr><th></th><th>Myr</th><th>Myr</th><th>pc</th><th>pc</th><th>mas</th><th>mas</th><th>6.957e+08 m</th><th></th><th></th><th></th><th></th><th>erg / (cm2 s)</th><th>erg / (cm2 s)</th><th></th><th></th><th>erg / s</th><th>erg / s</th><th></th><th></th><th></th><th></th><th></th><th></th><th>solMass</th><th>solMass</th><th>K</th><th>K</th><th></th><th></th><th></th><th></th><th></th><th></th><th></th><th></th><th></th><th></th><th></th><th></th><th></th><th></th><th></th><th></th><th></th><th></th><th></th><th></th><th></th><th></th><th></th><th></th><th></th><th></th><th></th><th></th><th></th><th></th><th></th><th></th><th></th><th></th><th></th><th></th><th></th><th></th><th></th><th></th><th></th><th></th><th></th><th></th><th></th></tr></thead>\n",
       "<thead><tr><th>object</th><th>float64</th><th>float64</th><th>float64</th><th>float64</th><th>float64</th><th>float64</th><th>float64</th><th>object</th><th>object</th><th>object</th><th>object</th><th>float64</th><th>float64</th><th>object</th><th>object</th><th>float64</th><th>float64</th><th>object</th><th>object</th><th>object</th><th>object</th><th>object</th><th>object</th><th>float64</th><th>float64</th><th>float64</th><th>float64</th><th>object</th><th>float64</th><th>float64</th><th>float64</th><th>float64</th><th>float64</th><th>float64</th><th>float64</th><th>float64</th><th>float64</th><th>float64</th><th>float64</th><th>float64</th><th>float64</th><th>float64</th><th>float64</th><th>float64</th><th>float64</th><th>float64</th><th>float64</th><th>float64</th><th>float64</th><th>float64</th><th>float64</th><th>float64</th><th>float64</th><th>float64</th><th>float64</th><th>float64</th><th>float64</th><th>float64</th><th>float64</th><th>float64</th><th>float64</th><th>float64</th><th>float64</th><th>float64</th><th>float64</th><th>float64</th><th>float64</th><th>float64</th><th>float64</th><th>float64</th><th>float64</th><th>float64</th></tr></thead>\n",
       "<tr><td>2MASS 2618328861</td><td>6000.0</td><td>4000.0</td><td>598.98</td><td>35.88</td><td>1.6695005640755598</td><td>0.1</td><td>0.8786209573091851</td><td>0.06782337214316517</td><td>60.0</td><td>0.5</td><td>None</td><td>9.344700986227546e-12</td><td>8.891778300076678e-14</td><td>16.092</td><td>0.01</td><td>4.01144652103885e+32</td><td>4.820994360627056e+31</td><td>-0.98</td><td>0.052</td><td>7.205</td><td>0.066</td><td>4.5</td><td>0.07</td><td>0.8896913720017506</td><td>0.0</td><td>3503.0</td><td>171.0</td><td>&lt;SEDkit.sed.SED object at 0x11af7de48&gt;</td><td>20.486</td><td>0.073</td><td>73499.064</td><td>8805.458</td><td>17.779</td><td>0.006</td><td>63786.97</td><td>7641.913</td><td>16.431</td><td>0.004</td><td>58950.656</td><td>7062.505</td><td>15.843</td><td>0.004</td><td>56841.047</td><td>6809.766</td><td>15.514</td><td>0.005</td><td>55660.67</td><td>6668.352</td><td>14.391</td><td>0.029</td><td>51631.604</td><td>6185.656</td><td>13.677</td><td>0.032</td><td>49069.936</td><td>5878.759</td><td>13.535</td><td>0.034</td><td>48560.472</td><td>5817.723</td><td>13.55</td><td>0.027</td><td>48614.289</td><td>5824.17</td><td>13.581</td><td>0.035</td><td>48725.51</td><td>5837.495</td><td>12.884</td><td>0.0</td><td>46224.834</td><td>5537.905</td></tr>\n",
       "</table>"
      ],
      "text/plain": [
       "<QTable length=1>\n",
       "      name         age   age_unc ... WISE.W3_unc M_WISE.W3 M_WISE.W3_unc\n",
       "                   Myr     Myr   ...                                    \n",
       "     object      float64 float64 ...   float64    float64     float64   \n",
       "---------------- ------- ------- ... ----------- --------- -------------\n",
       "2MASS 2618328861  6000.0  4000.0 ...         0.0 46224.834      5537.905"
      ]
     },
     "execution_count": 43,
     "metadata": {},
     "output_type": "execute_result"
    }
   ],
   "source": [
    "cat.filter('name', \"*328861\").results"
   ]
  },
  {
   "cell_type": "markdown",
   "metadata": {},
   "source": [
    "... or an argument with an operator..."
   ]
  },
  {
   "cell_type": "code",
   "execution_count": 41,
   "metadata": {
    "collapsed": false
   },
   "outputs": [
    {
     "data": {
      "text/html": [
       "<i>QTable length=11</i>\n",
       "<table id=\"table4756319256\" class=\"table-striped table-bordered table-condensed\">\n",
       "<thead><tr><th>name</th><th>age</th><th>age_unc</th><th>distance</th><th>distance_unc</th><th>parallax</th><th>parallax_unc</th><th>radius</th><th>radius_unc</th><th>spectral_type</th><th>spectral_type_unc</th><th>membership</th><th>fbol</th><th>fbol_unc</th><th>mbol</th><th>mbol_unc</th><th>Lbol</th><th>Lbol_unc</th><th>Lbol_sun</th><th>Lbol_sun_unc</th><th>Mbol</th><th>Mbol_unc</th><th>logg</th><th>logg_unc</th><th>mass</th><th>mass_unc</th><th>Teff</th><th>Teff_unc</th><th>SED</th><th>SDSS.u</th><th>SDSS.u_unc</th><th>M_SDSS.u</th><th>M_SDSS.u_unc</th><th>SDSS.g</th><th>SDSS.g_unc</th><th>M_SDSS.g</th><th>M_SDSS.g_unc</th><th>SDSS.r</th><th>SDSS.r_unc</th><th>M_SDSS.r</th><th>M_SDSS.r_unc</th><th>SDSS.i</th><th>SDSS.i_unc</th><th>M_SDSS.i</th><th>M_SDSS.i_unc</th><th>SDSS.z</th><th>SDSS.z_unc</th><th>M_SDSS.z</th><th>M_SDSS.z_unc</th><th>2MASS.J</th><th>2MASS.J_unc</th><th>M_2MASS.J</th><th>M_2MASS.J_unc</th><th>2MASS.H</th><th>2MASS.H_unc</th><th>M_2MASS.H</th><th>M_2MASS.H_unc</th><th>2MASS.Ks</th><th>2MASS.Ks_unc</th><th>M_2MASS.Ks</th><th>M_2MASS.Ks_unc</th><th>WISE.W1</th><th>WISE.W1_unc</th><th>M_WISE.W1</th><th>M_WISE.W1_unc</th><th>WISE.W2</th><th>WISE.W2_unc</th><th>M_WISE.W2</th><th>M_WISE.W2_unc</th><th>WISE.W3</th><th>WISE.W3_unc</th><th>M_WISE.W3</th><th>M_WISE.W3_unc</th></tr></thead>\n",
       "<thead><tr><th></th><th>Myr</th><th>Myr</th><th>pc</th><th>pc</th><th>mas</th><th>mas</th><th>6.957e+08 m</th><th></th><th></th><th></th><th></th><th>erg / (cm2 s)</th><th>erg / (cm2 s)</th><th></th><th></th><th>erg / s</th><th>erg / s</th><th></th><th></th><th></th><th></th><th></th><th></th><th>solMass</th><th>solMass</th><th>K</th><th>K</th><th></th><th></th><th></th><th></th><th></th><th></th><th></th><th></th><th></th><th></th><th></th><th></th><th></th><th></th><th></th><th></th><th></th><th></th><th></th><th></th><th></th><th></th><th></th><th></th><th></th><th></th><th></th><th></th><th></th><th></th><th></th><th></th><th></th><th></th><th></th><th></th><th></th><th></th><th></th><th></th><th></th><th></th><th></th><th></th><th></th></tr></thead>\n",
       "<thead><tr><th>object</th><th>float64</th><th>float64</th><th>float64</th><th>float64</th><th>float64</th><th>float64</th><th>float64</th><th>object</th><th>object</th><th>object</th><th>object</th><th>float64</th><th>float64</th><th>object</th><th>object</th><th>float64</th><th>float64</th><th>object</th><th>object</th><th>object</th><th>object</th><th>object</th><th>object</th><th>float64</th><th>float64</th><th>float64</th><th>float64</th><th>object</th><th>float64</th><th>float64</th><th>float64</th><th>float64</th><th>float64</th><th>float64</th><th>float64</th><th>float64</th><th>float64</th><th>float64</th><th>float64</th><th>float64</th><th>float64</th><th>float64</th><th>float64</th><th>float64</th><th>float64</th><th>float64</th><th>float64</th><th>float64</th><th>float64</th><th>float64</th><th>float64</th><th>float64</th><th>float64</th><th>float64</th><th>float64</th><th>float64</th><th>float64</th><th>float64</th><th>float64</th><th>float64</th><th>float64</th><th>float64</th><th>float64</th><th>float64</th><th>float64</th><th>float64</th><th>float64</th><th>float64</th><th>float64</th><th>float64</th><th>float64</th><th>float64</th></tr></thead>\n",
       "<tr><td>2MASS 261832886</td><td>6000.0</td><td>4000.0</td><td>572.28</td><td>16.41</td><td>1.7474</td><td>0.0501</td><td>0.8786209573091851</td><td>0.06782337214316517</td><td>60.0</td><td>0.5</td><td>None</td><td>9.344700986227546e-12</td><td>8.891778300076678e-14</td><td>16.092</td><td>0.01</td><td>3.66179055973561e+32</td><td>2.1287295997847215e+31</td><td>-1.019</td><td>0.025</td><td>7.304</td><td>0.033</td><td>4.5</td><td>0.07</td><td>0.8896913720017506</td><td>0.0</td><td>3424.0</td><td>141.0</td><td>&lt;SEDkit.sed.SED object at 0x11a1bdac8&gt;</td><td>20.486</td><td>0.073</td><td>67092.551</td><td>3847.73</td><td>17.779</td><td>0.006</td><td>58227.007</td><td>3339.293</td><td>16.431</td><td>0.004</td><td>53812.248</td><td>3086.108</td><td>15.843</td><td>0.004</td><td>51886.522</td><td>2975.669</td><td>15.514</td><td>0.005</td><td>50809.032</td><td>2913.875</td><td>14.391</td><td>0.029</td><td>47131.158</td><td>2702.951</td><td>13.677</td><td>0.032</td><td>44792.777</td><td>2568.846</td><td>13.535</td><td>0.034</td><td>44327.72</td><td>2542.176</td><td>13.55</td><td>0.027</td><td>44376.846</td><td>2544.993</td><td>13.581</td><td>0.035</td><td>44478.372</td><td>2550.815</td><td>12.884</td><td>0.0</td><td>42195.667</td><td>2419.902</td></tr>\n",
       "<tr><td>2MASS 2618328860</td><td>6000.0</td><td>4000.0</td><td>572.64</td><td>32.79</td><td>1.7463009673899073</td><td>0.1</td><td>0.8786209573091851</td><td>0.06782337214316517</td><td>60.0</td><td>0.5</td><td>None</td><td>9.344700986227546e-12</td><td>8.891778300076678e-14</td><td>16.092</td><td>0.01</td><td>3.6663990004665696e+32</td><td>4.2133096135621395e+31</td><td>-1.019</td><td>0.05</td><td>7.303</td><td>0.063</td><td>4.5</td><td>0.07</td><td>0.8896913720017506</td><td>0.0</td><td>3425.0</td><td>164.0</td><td>&lt;SEDkit.sed.SED object at 0x11afe1ef0&gt;</td><td>20.486</td><td>0.073</td><td>67176.988</td><td>7693.259</td><td>17.779</td><td>0.006</td><td>58300.287</td><td>6676.678</td><td>16.431</td><td>0.004</td><td>53879.972</td><td>6170.454</td><td>15.843</td><td>0.004</td><td>51951.822</td><td>5949.638</td><td>15.514</td><td>0.005</td><td>50872.977</td><td>5826.086</td><td>14.391</td><td>0.029</td><td>47190.474</td><td>5404.358</td><td>13.677</td><td>0.032</td><td>44849.149</td><td>5136.224</td><td>13.535</td><td>0.034</td><td>44383.508</td><td>5082.898</td><td>13.55</td><td>0.027</td><td>44432.695</td><td>5088.531</td><td>13.581</td><td>0.035</td><td>44534.349</td><td>5100.173</td><td>12.884</td><td>0.0</td><td>42248.771</td><td>4838.423</td></tr>\n",
       "<tr><td>2MASS 2618328861</td><td>6000.0</td><td>4000.0</td><td>598.98</td><td>35.88</td><td>1.6695005640755598</td><td>0.1</td><td>0.8786209573091851</td><td>0.06782337214316517</td><td>60.0</td><td>0.5</td><td>None</td><td>9.344700986227546e-12</td><td>8.891778300076678e-14</td><td>16.092</td><td>0.01</td><td>4.01144652103885e+32</td><td>4.820994360627056e+31</td><td>-0.98</td><td>0.052</td><td>7.205</td><td>0.066</td><td>4.5</td><td>0.07</td><td>0.8896913720017506</td><td>0.0</td><td>3503.0</td><td>171.0</td><td>&lt;SEDkit.sed.SED object at 0x11af7de48&gt;</td><td>20.486</td><td>0.073</td><td>73499.064</td><td>8805.458</td><td>17.779</td><td>0.006</td><td>63786.97</td><td>7641.913</td><td>16.431</td><td>0.004</td><td>58950.656</td><td>7062.505</td><td>15.843</td><td>0.004</td><td>56841.047</td><td>6809.766</td><td>15.514</td><td>0.005</td><td>55660.67</td><td>6668.352</td><td>14.391</td><td>0.029</td><td>51631.604</td><td>6185.656</td><td>13.677</td><td>0.032</td><td>49069.936</td><td>5878.759</td><td>13.535</td><td>0.034</td><td>48560.472</td><td>5817.723</td><td>13.55</td><td>0.027</td><td>48614.289</td><td>5824.17</td><td>13.581</td><td>0.035</td><td>48725.51</td><td>5837.495</td><td>12.884</td><td>0.0</td><td>46224.834</td><td>5537.905</td></tr>\n",
       "<tr><td>2MASS 2618328862</td><td>6000.0</td><td>4000.0</td><td>569.45</td><td>32.43</td><td>1.7560932438236598</td><td>0.1</td><td>0.8786209573091851</td><td>0.06782337214316517</td><td>60.0</td><td>0.5</td><td>None</td><td>9.344700986227546e-12</td><td>8.891778300076678e-14</td><td>16.092</td><td>0.01</td><td>3.62566403281865e+32</td><td>4.143994293920703e+31</td><td>-1.024</td><td>0.05</td><td>7.315</td><td>0.063</td><td>4.5</td><td>0.07</td><td>0.8896913720017506</td><td>0.0</td><td>3416.0</td><td>164.0</td><td>&lt;SEDkit.sed.SED object at 0x11afbc358&gt;</td><td>20.486</td><td>0.073</td><td>66430.629</td><td>7566.408</td><td>17.779</td><td>0.006</td><td>57652.55</td><td>6566.59</td><td>16.431</td><td>0.004</td><td>53281.346</td><td>6068.712</td><td>15.843</td><td>0.004</td><td>51374.619</td><td>5851.537</td><td>15.514</td><td>0.005</td><td>50307.76</td><td>5730.023</td><td>14.391</td><td>0.029</td><td>46666.171</td><td>5315.248</td><td>13.677</td><td>0.032</td><td>44350.86</td><td>5051.536</td><td>13.535</td><td>0.034</td><td>43890.391</td><td>4999.089</td><td>13.55</td><td>0.027</td><td>43939.032</td><td>5004.629</td><td>13.581</td><td>0.035</td><td>44039.557</td><td>5016.079</td><td>12.884</td><td>0.0</td><td>41779.372</td><td>4758.644</td></tr>\n",
       "<tr><td>2MASS 2618328863</td><td>6000.0</td><td>4000.0</td><td>553.68</td><td>30.66</td><td>1.806107628449766</td><td>0.1</td><td>0.8786209573091851</td><td>0.06782337214316517</td><td>60.0</td><td>0.5</td><td>None</td><td>9.344700986227546e-12</td><td>8.891778300076678e-14</td><td>16.092</td><td>0.01</td><td>3.427630796479428e+32</td><td>3.810082567843585e+31</td><td>-1.048</td><td>0.048</td><td>7.376</td><td>0.061</td><td>4.5</td><td>0.07</td><td>0.8896913720017506</td><td>0.0</td><td>3368.0</td><td>160.0</td><td>&lt;SEDkit.sed.SED object at 0x11afc77f0&gt;</td><td>20.486</td><td>0.073</td><td>62802.198</td><td>6955.338</td><td>17.779</td><td>0.006</td><td>54503.577</td><td>6036.265</td><td>16.431</td><td>0.004</td><td>50371.127</td><td>5578.597</td><td>15.843</td><td>0.004</td><td>48568.545</td><td>5378.961</td><td>15.514</td><td>0.005</td><td>47559.958</td><td>5267.26</td><td>14.391</td><td>0.029</td><td>44117.272</td><td>4885.983</td><td>13.677</td><td>0.032</td><td>41928.422</td><td>4643.569</td><td>13.535</td><td>0.034</td><td>41493.105</td><td>4595.357</td><td>13.55</td><td>0.027</td><td>41539.089</td><td>4600.45</td><td>13.581</td><td>0.035</td><td>41634.123</td><td>4610.975</td><td>12.884</td><td>0.0</td><td>39497.389</td><td>4374.332</td></tr>\n",
       "<tr><td>2MASS 2618328864</td><td>6000.0</td><td>4000.0</td><td>631.06</td><td>39.82</td><td>1.5846352301725524</td><td>0.1</td><td>0.8786209573091851</td><td>0.06782337214316517</td><td>60.0</td><td>0.5</td><td>None</td><td>9.344700986227546e-12</td><td>8.891778300076678e-14</td><td>16.092</td><td>0.01</td><td>4.452640887092645e+32</td><td>5.63519877290763e+31</td><td>-0.934</td><td>0.055</td><td>7.092</td><td>0.069</td><td>4.5</td><td>0.07</td><td>0.8896913720017506</td><td>0.0</td><td>3596.0</td><td>179.0</td><td>&lt;SEDkit.sed.SED object at 0x11b279f28&gt;</td><td>20.486</td><td>0.073</td><td>81582.775</td><td>10295.777</td><td>17.779</td><td>0.006</td><td>70802.507</td><td>8935.302</td><td>16.431</td><td>0.004</td><td>65434.276</td><td>8257.829</td><td>15.843</td><td>0.004</td><td>63092.644</td><td>7962.314</td><td>15.514</td><td>0.005</td><td>61782.445</td><td>7796.967</td><td>14.391</td><td>0.029</td><td>57310.247</td><td>7232.574</td><td>13.677</td><td>0.032</td><td>54466.837</td><td>6873.735</td><td>13.535</td><td>0.034</td><td>53901.341</td><td>6802.369</td><td>13.55</td><td>0.027</td><td>53961.076</td><td>6809.908</td><td>13.581</td><td>0.035</td><td>54084.529</td><td>6825.488</td><td>12.884</td><td>0.0</td><td>51308.819</td><td>6475.192</td></tr>\n",
       "<tr><td>2MASS 2618328865</td><td>6000.0</td><td>4000.0</td><td>679.4</td><td>46.16</td><td>1.4718910299575758</td><td>0.1</td><td>0.8786209573091851</td><td>0.06782337214316517</td><td>60.0</td><td>0.5</td><td>None</td><td>9.344700986227546e-12</td><td>8.891778300076678e-14</td><td>16.092</td><td>0.01</td><td>5.160923823396209e+32</td><td>7.030073747150481e+31</td><td>-0.87</td><td>0.059</td><td>6.931</td><td>0.074</td><td>4.5</td><td>0.07</td><td>0.8896913720017506</td><td>0.0</td><td>3731.0</td><td>192.0</td><td>&lt;SEDkit.sed.SED object at 0x11b28e9e8&gt;</td><td>20.486</td><td>0.073</td><td>94560.172</td><td>12849.272</td><td>17.779</td><td>0.006</td><td>82065.083</td><td>11151.381</td><td>16.431</td><td>0.004</td><td>75842.926</td><td>10305.886</td><td>15.843</td><td>0.004</td><td>73128.81</td><td>9937.079</td><td>15.514</td><td>0.005</td><td>71610.198</td><td>9730.723</td><td>14.391</td><td>0.029</td><td>66426.605</td><td>9026.353</td><td>13.677</td><td>0.032</td><td>63130.893</td><td>8578.517</td><td>13.535</td><td>0.034</td><td>62475.443</td><td>8489.451</td><td>13.55</td><td>0.027</td><td>62544.681</td><td>8498.859</td><td>13.581</td><td>0.035</td><td>62687.772</td><td>8518.303</td><td>12.884</td><td>0.0</td><td>59470.529</td><td>8081.129</td></tr>\n",
       "<tr><td>2MASS 2618328866</td><td>6000.0</td><td>4000.0</td><td>545.1</td><td>29.71</td><td>1.8345300679365895</td><td>0.1</td><td>0.8786209573091851</td><td>0.06782337214316517</td><td>60.0</td><td>0.5</td><td>None</td><td>9.344700986227546e-12</td><td>8.891778300076678e-14</td><td>16.092</td><td>0.01</td><td>3.322222596429064e+32</td><td>3.6352434585597333e+31</td><td>-1.062</td><td>0.048</td><td>7.41</td><td>0.06</td><td>4.5</td><td>0.07</td><td>0.8896913720017506</td><td>0.0</td><td>3342.0</td><td>158.0</td><td>&lt;SEDkit.sed.SED object at 0x11b205ba8&gt;</td><td>20.486</td><td>0.073</td><td>60870.873</td><td>6635.384</td><td>17.779</td><td>0.006</td><td>52827.456</td><td>5758.59</td><td>16.431</td><td>0.004</td><td>48822.089</td><td>5321.975</td><td>15.843</td><td>0.004</td><td>47074.941</td><td>5131.523</td><td>15.514</td><td>0.005</td><td>46097.37</td><td>5024.96</td><td>14.391</td><td>0.029</td><td>42760.555</td><td>4661.222</td><td>13.677</td><td>0.032</td><td>40639.019</td><td>4429.959</td><td>13.535</td><td>0.034</td><td>40217.088</td><td>4383.966</td><td>13.55</td><td>0.027</td><td>40261.658</td><td>4388.824</td><td>13.581</td><td>0.035</td><td>40353.77</td><td>4398.865</td><td>12.884</td><td>0.0</td><td>38282.746</td><td>4173.107</td></tr>\n",
       "<tr><td>2MASS 2618328867</td><td>6000.0</td><td>4000.0</td><td>593.89</td><td>35.27</td><td>1.6838003958452172</td><td>0.1</td><td>0.8786209573091851</td><td>0.06782337214316517</td><td>60.0</td><td>0.5</td><td>None</td><td>9.344700986227546e-12</td><td>8.891778300076678e-14</td><td>16.092</td><td>0.01</td><td>3.9435594201540144e+32</td><td>4.69901672434641e+31</td><td>-0.987</td><td>0.052</td><td>7.223</td><td>0.065</td><td>4.5</td><td>0.07</td><td>0.8896913720017506</td><td>0.0</td><td>3488.0</td><td>170.0</td><td>&lt;SEDkit.sed.SED object at 0x11b2abe10&gt;</td><td>20.486</td><td>0.073</td><td>72255.214</td><td>8582.201</td><td>17.779</td><td>0.006</td><td>62707.481</td><td>7448.157</td><td>16.431</td><td>0.004</td><td>57953.013</td><td>6883.439</td><td>15.843</td><td>0.004</td><td>55879.106</td><td>6637.108</td><td>15.514</td><td>0.005</td><td>54718.705</td><td>6499.28</td><td>14.391</td><td>0.029</td><td>50757.824</td><td>6028.822</td><td>13.677</td><td>0.032</td><td>48239.508</td><td>5729.706</td><td>13.535</td><td>0.034</td><td>47738.667</td><td>5670.218</td><td>13.55</td><td>0.027</td><td>47791.572</td><td>5676.502</td><td>13.581</td><td>0.035</td><td>47900.911</td><td>5689.489</td><td>12.884</td><td>0.0</td><td>45442.555</td><td>5397.494</td></tr>\n",
       "<tr><td>2MASS 2618328868</td><td>6000.0</td><td>4000.0</td><td>596.87</td><td>35.63</td><td>1.6754129960850157</td><td>0.1</td><td>0.8786209573091851</td><td>0.06782337214316517</td><td>60.0</td><td>0.5</td><td>None</td><td>9.344700986227546e-12</td><td>8.891778300076678e-14</td><td>16.092</td><td>0.01</td><td>3.9832344137408915e+32</td><td>4.770642816474678e+31</td><td>-0.983</td><td>0.052</td><td>7.213</td><td>0.066</td><td>4.5</td><td>0.07</td><td>0.8896913720017506</td><td>0.0</td><td>3497.0</td><td>170.0</td><td>&lt;SEDkit.sed.SED object at 0x11b2c3e80&gt;</td><td>20.486</td><td>0.073</td><td>72982.153</td><td>8713.302</td><td>17.779</td><td>0.006</td><td>63338.363</td><td>7561.934</td><td>16.431</td><td>0.004</td><td>58536.061</td><td>6988.59</td><td>15.843</td><td>0.004</td><td>56441.289</td><td>6738.496</td><td>15.514</td><td>0.005</td><td>55269.214</td><td>6598.563</td><td>14.391</td><td>0.029</td><td>51268.484</td><td>6120.918</td><td>13.677</td><td>0.032</td><td>48724.832</td><td>5817.233</td><td>13.535</td><td>0.034</td><td>48218.951</td><td>5756.836</td><td>13.55</td><td>0.027</td><td>48272.389</td><td>5763.216</td><td>13.581</td><td>0.035</td><td>48382.828</td><td>5776.401</td><td>12.884</td><td>0.0</td><td>45899.739</td><td>5479.946</td></tr>\n",
       "<tr><td>2MASS 2618328869</td><td>6000.0</td><td>4000.0</td><td>590.21</td><td>34.83</td><td>1.6943163878468375</td><td>0.1</td><td>0.8786209573091851</td><td>0.06782337214316517</td><td>60.0</td><td>0.5</td><td>None</td><td>9.344700986227546e-12</td><td>8.891778300076678e-14</td><td>16.092</td><td>0.01</td><td>3.894838827390943e+32</td><td>4.611829256452778e+31</td><td>-0.992</td><td>0.051</td><td>7.237</td><td>0.065</td><td>4.5</td><td>0.07</td><td>0.8896913720017506</td><td>0.0</td><td>3477.0</td><td>169.0</td><td>&lt;SEDkit.sed.SED object at 0x11b2ab630&gt;</td><td>20.486</td><td>0.073</td><td>71362.539</td><td>8422.621</td><td>17.779</td><td>0.006</td><td>61932.763</td><td>7309.663</td><td>16.431</td><td>0.004</td><td>57237.034</td><td>6755.446</td><td>15.843</td><td>0.004</td><td>55188.749</td><td>6513.696</td><td>15.514</td><td>0.005</td><td>54042.685</td><td>6378.43</td><td>14.391</td><td>0.029</td><td>50130.738</td><td>5916.72</td><td>13.677</td><td>0.032</td><td>47643.535</td><td>5623.166</td><td>13.535</td><td>0.034</td><td>47148.881</td><td>5564.784</td><td>13.55</td><td>0.027</td><td>47201.133</td><td>5570.951</td><td>13.581</td><td>0.035</td><td>47309.121</td><td>5583.697</td><td>12.884</td><td>0.0</td><td>44881.136</td><td>5297.131</td></tr>\n",
       "</table>"
      ],
      "text/plain": [
       "<QTable length=11>\n",
       "      name         age   age_unc ... WISE.W3_unc M_WISE.W3 M_WISE.W3_unc\n",
       "                   Myr     Myr   ...                                    \n",
       "     object      float64 float64 ...   float64    float64     float64   \n",
       "---------------- ------- ------- ... ----------- --------- -------------\n",
       " 2MASS 261832886  6000.0  4000.0 ...         0.0 42195.667      2419.902\n",
       "2MASS 2618328860  6000.0  4000.0 ...         0.0 42248.771      4838.423\n",
       "2MASS 2618328861  6000.0  4000.0 ...         0.0 46224.834      5537.905\n",
       "2MASS 2618328862  6000.0  4000.0 ...         0.0 41779.372      4758.644\n",
       "2MASS 2618328863  6000.0  4000.0 ...         0.0 39497.389      4374.332\n",
       "2MASS 2618328864  6000.0  4000.0 ...         0.0 51308.819      6475.192\n",
       "2MASS 2618328865  6000.0  4000.0 ...         0.0 59470.529      8081.129\n",
       "2MASS 2618328866  6000.0  4000.0 ...         0.0 38282.746      4173.107\n",
       "2MASS 2618328867  6000.0  4000.0 ...         0.0 45442.555      5397.494\n",
       "2MASS 2618328868  6000.0  4000.0 ...         0.0 45899.739      5479.946\n",
       "2MASS 2618328869  6000.0  4000.0 ...         0.0 44881.136      5297.131"
      ]
     },
     "execution_count": 41,
     "metadata": {},
     "output_type": "execute_result"
    }
   ],
   "source": [
    "cat.filter('logg', '>=4.5').results"
   ]
  },
  {
   "cell_type": "markdown",
   "metadata": {
    "collapsed": true
   },
   "source": [
    "... or even a tuple of arguments..."
   ]
  },
  {
   "cell_type": "code",
   "execution_count": 44,
   "metadata": {
    "collapsed": false
   },
   "outputs": [
    {
     "data": {
      "text/html": [
       "<i>QTable length=9</i>\n",
       "<table id=\"table4754758344\" class=\"table-striped table-bordered table-condensed\">\n",
       "<thead><tr><th>name</th><th>age</th><th>age_unc</th><th>distance</th><th>distance_unc</th><th>parallax</th><th>parallax_unc</th><th>radius</th><th>radius_unc</th><th>spectral_type</th><th>spectral_type_unc</th><th>membership</th><th>fbol</th><th>fbol_unc</th><th>mbol</th><th>mbol_unc</th><th>Lbol</th><th>Lbol_unc</th><th>Lbol_sun</th><th>Lbol_sun_unc</th><th>Mbol</th><th>Mbol_unc</th><th>logg</th><th>logg_unc</th><th>mass</th><th>mass_unc</th><th>Teff</th><th>Teff_unc</th><th>SED</th><th>SDSS.u</th><th>SDSS.u_unc</th><th>M_SDSS.u</th><th>M_SDSS.u_unc</th><th>SDSS.g</th><th>SDSS.g_unc</th><th>M_SDSS.g</th><th>M_SDSS.g_unc</th><th>SDSS.r</th><th>SDSS.r_unc</th><th>M_SDSS.r</th><th>M_SDSS.r_unc</th><th>SDSS.i</th><th>SDSS.i_unc</th><th>M_SDSS.i</th><th>M_SDSS.i_unc</th><th>SDSS.z</th><th>SDSS.z_unc</th><th>M_SDSS.z</th><th>M_SDSS.z_unc</th><th>2MASS.J</th><th>2MASS.J_unc</th><th>M_2MASS.J</th><th>M_2MASS.J_unc</th><th>2MASS.H</th><th>2MASS.H_unc</th><th>M_2MASS.H</th><th>M_2MASS.H_unc</th><th>2MASS.Ks</th><th>2MASS.Ks_unc</th><th>M_2MASS.Ks</th><th>M_2MASS.Ks_unc</th><th>WISE.W1</th><th>WISE.W1_unc</th><th>M_WISE.W1</th><th>M_WISE.W1_unc</th><th>WISE.W2</th><th>WISE.W2_unc</th><th>M_WISE.W2</th><th>M_WISE.W2_unc</th><th>WISE.W3</th><th>WISE.W3_unc</th><th>M_WISE.W3</th><th>M_WISE.W3_unc</th></tr></thead>\n",
       "<thead><tr><th></th><th>Myr</th><th>Myr</th><th>pc</th><th>pc</th><th>mas</th><th>mas</th><th>6.957e+08 m</th><th></th><th></th><th></th><th></th><th>erg / (cm2 s)</th><th>erg / (cm2 s)</th><th></th><th></th><th>erg / s</th><th>erg / s</th><th></th><th></th><th></th><th></th><th></th><th></th><th>solMass</th><th>solMass</th><th>K</th><th>K</th><th></th><th></th><th></th><th></th><th></th><th></th><th></th><th></th><th></th><th></th><th></th><th></th><th></th><th></th><th></th><th></th><th></th><th></th><th></th><th></th><th></th><th></th><th></th><th></th><th></th><th></th><th></th><th></th><th></th><th></th><th></th><th></th><th></th><th></th><th></th><th></th><th></th><th></th><th></th><th></th><th></th><th></th><th></th><th></th><th></th></tr></thead>\n",
       "<thead><tr><th>object</th><th>float64</th><th>float64</th><th>float64</th><th>float64</th><th>float64</th><th>float64</th><th>float64</th><th>object</th><th>object</th><th>object</th><th>object</th><th>float64</th><th>float64</th><th>object</th><th>object</th><th>float64</th><th>float64</th><th>object</th><th>object</th><th>object</th><th>object</th><th>object</th><th>object</th><th>float64</th><th>float64</th><th>float64</th><th>float64</th><th>object</th><th>float64</th><th>float64</th><th>float64</th><th>float64</th><th>float64</th><th>float64</th><th>float64</th><th>float64</th><th>float64</th><th>float64</th><th>float64</th><th>float64</th><th>float64</th><th>float64</th><th>float64</th><th>float64</th><th>float64</th><th>float64</th><th>float64</th><th>float64</th><th>float64</th><th>float64</th><th>float64</th><th>float64</th><th>float64</th><th>float64</th><th>float64</th><th>float64</th><th>float64</th><th>float64</th><th>float64</th><th>float64</th><th>float64</th><th>float64</th><th>float64</th><th>float64</th><th>float64</th><th>float64</th><th>float64</th><th>float64</th><th>float64</th><th>float64</th><th>float64</th><th>float64</th></tr></thead>\n",
       "<tr><td>2MASS 261832886</td><td>6000.0</td><td>4000.0</td><td>572.28</td><td>16.41</td><td>1.7474</td><td>0.0501</td><td>0.8786209573091851</td><td>0.06782337214316517</td><td>60.0</td><td>0.5</td><td>None</td><td>9.344700986227546e-12</td><td>8.891778300076678e-14</td><td>16.092</td><td>0.01</td><td>3.66179055973561e+32</td><td>2.1287295997847215e+31</td><td>-1.019</td><td>0.025</td><td>7.304</td><td>0.033</td><td>4.5</td><td>0.07</td><td>0.8896913720017506</td><td>0.0</td><td>3424.0</td><td>141.0</td><td>&lt;SEDkit.sed.SED object at 0x11a1bdac8&gt;</td><td>20.486</td><td>0.073</td><td>67092.551</td><td>3847.73</td><td>17.779</td><td>0.006</td><td>58227.007</td><td>3339.293</td><td>16.431</td><td>0.004</td><td>53812.248</td><td>3086.108</td><td>15.843</td><td>0.004</td><td>51886.522</td><td>2975.669</td><td>15.514</td><td>0.005</td><td>50809.032</td><td>2913.875</td><td>14.391</td><td>0.029</td><td>47131.158</td><td>2702.951</td><td>13.677</td><td>0.032</td><td>44792.777</td><td>2568.846</td><td>13.535</td><td>0.034</td><td>44327.72</td><td>2542.176</td><td>13.55</td><td>0.027</td><td>44376.846</td><td>2544.993</td><td>13.581</td><td>0.035</td><td>44478.372</td><td>2550.815</td><td>12.884</td><td>0.0</td><td>42195.667</td><td>2419.902</td></tr>\n",
       "<tr><td>2MASS 2618328860</td><td>6000.0</td><td>4000.0</td><td>572.64</td><td>32.79</td><td>1.7463009673899073</td><td>0.1</td><td>0.8786209573091851</td><td>0.06782337214316517</td><td>60.0</td><td>0.5</td><td>None</td><td>9.344700986227546e-12</td><td>8.891778300076678e-14</td><td>16.092</td><td>0.01</td><td>3.6663990004665696e+32</td><td>4.2133096135621395e+31</td><td>-1.019</td><td>0.05</td><td>7.303</td><td>0.063</td><td>4.5</td><td>0.07</td><td>0.8896913720017506</td><td>0.0</td><td>3425.0</td><td>164.0</td><td>&lt;SEDkit.sed.SED object at 0x11afe1ef0&gt;</td><td>20.486</td><td>0.073</td><td>67176.988</td><td>7693.259</td><td>17.779</td><td>0.006</td><td>58300.287</td><td>6676.678</td><td>16.431</td><td>0.004</td><td>53879.972</td><td>6170.454</td><td>15.843</td><td>0.004</td><td>51951.822</td><td>5949.638</td><td>15.514</td><td>0.005</td><td>50872.977</td><td>5826.086</td><td>14.391</td><td>0.029</td><td>47190.474</td><td>5404.358</td><td>13.677</td><td>0.032</td><td>44849.149</td><td>5136.224</td><td>13.535</td><td>0.034</td><td>44383.508</td><td>5082.898</td><td>13.55</td><td>0.027</td><td>44432.695</td><td>5088.531</td><td>13.581</td><td>0.035</td><td>44534.349</td><td>5100.173</td><td>12.884</td><td>0.0</td><td>42248.771</td><td>4838.423</td></tr>\n",
       "<tr><td>2MASS 2618328861</td><td>6000.0</td><td>4000.0</td><td>598.98</td><td>35.88</td><td>1.6695005640755598</td><td>0.1</td><td>0.8786209573091851</td><td>0.06782337214316517</td><td>60.0</td><td>0.5</td><td>None</td><td>9.344700986227546e-12</td><td>8.891778300076678e-14</td><td>16.092</td><td>0.01</td><td>4.01144652103885e+32</td><td>4.820994360627056e+31</td><td>-0.98</td><td>0.052</td><td>7.205</td><td>0.066</td><td>4.5</td><td>0.07</td><td>0.8896913720017506</td><td>0.0</td><td>3503.0</td><td>171.0</td><td>&lt;SEDkit.sed.SED object at 0x11af7de48&gt;</td><td>20.486</td><td>0.073</td><td>73499.064</td><td>8805.458</td><td>17.779</td><td>0.006</td><td>63786.97</td><td>7641.913</td><td>16.431</td><td>0.004</td><td>58950.656</td><td>7062.505</td><td>15.843</td><td>0.004</td><td>56841.047</td><td>6809.766</td><td>15.514</td><td>0.005</td><td>55660.67</td><td>6668.352</td><td>14.391</td><td>0.029</td><td>51631.604</td><td>6185.656</td><td>13.677</td><td>0.032</td><td>49069.936</td><td>5878.759</td><td>13.535</td><td>0.034</td><td>48560.472</td><td>5817.723</td><td>13.55</td><td>0.027</td><td>48614.289</td><td>5824.17</td><td>13.581</td><td>0.035</td><td>48725.51</td><td>5837.495</td><td>12.884</td><td>0.0</td><td>46224.834</td><td>5537.905</td></tr>\n",
       "<tr><td>2MASS 2618328862</td><td>6000.0</td><td>4000.0</td><td>569.45</td><td>32.43</td><td>1.7560932438236598</td><td>0.1</td><td>0.8786209573091851</td><td>0.06782337214316517</td><td>60.0</td><td>0.5</td><td>None</td><td>9.344700986227546e-12</td><td>8.891778300076678e-14</td><td>16.092</td><td>0.01</td><td>3.62566403281865e+32</td><td>4.143994293920703e+31</td><td>-1.024</td><td>0.05</td><td>7.315</td><td>0.063</td><td>4.5</td><td>0.07</td><td>0.8896913720017506</td><td>0.0</td><td>3416.0</td><td>164.0</td><td>&lt;SEDkit.sed.SED object at 0x11afbc358&gt;</td><td>20.486</td><td>0.073</td><td>66430.629</td><td>7566.408</td><td>17.779</td><td>0.006</td><td>57652.55</td><td>6566.59</td><td>16.431</td><td>0.004</td><td>53281.346</td><td>6068.712</td><td>15.843</td><td>0.004</td><td>51374.619</td><td>5851.537</td><td>15.514</td><td>0.005</td><td>50307.76</td><td>5730.023</td><td>14.391</td><td>0.029</td><td>46666.171</td><td>5315.248</td><td>13.677</td><td>0.032</td><td>44350.86</td><td>5051.536</td><td>13.535</td><td>0.034</td><td>43890.391</td><td>4999.089</td><td>13.55</td><td>0.027</td><td>43939.032</td><td>5004.629</td><td>13.581</td><td>0.035</td><td>44039.557</td><td>5016.079</td><td>12.884</td><td>0.0</td><td>41779.372</td><td>4758.644</td></tr>\n",
       "<tr><td>2MASS 2618328863</td><td>6000.0</td><td>4000.0</td><td>553.68</td><td>30.66</td><td>1.806107628449766</td><td>0.1</td><td>0.8786209573091851</td><td>0.06782337214316517</td><td>60.0</td><td>0.5</td><td>None</td><td>9.344700986227546e-12</td><td>8.891778300076678e-14</td><td>16.092</td><td>0.01</td><td>3.427630796479428e+32</td><td>3.810082567843585e+31</td><td>-1.048</td><td>0.048</td><td>7.376</td><td>0.061</td><td>4.5</td><td>0.07</td><td>0.8896913720017506</td><td>0.0</td><td>3368.0</td><td>160.0</td><td>&lt;SEDkit.sed.SED object at 0x11afc77f0&gt;</td><td>20.486</td><td>0.073</td><td>62802.198</td><td>6955.338</td><td>17.779</td><td>0.006</td><td>54503.577</td><td>6036.265</td><td>16.431</td><td>0.004</td><td>50371.127</td><td>5578.597</td><td>15.843</td><td>0.004</td><td>48568.545</td><td>5378.961</td><td>15.514</td><td>0.005</td><td>47559.958</td><td>5267.26</td><td>14.391</td><td>0.029</td><td>44117.272</td><td>4885.983</td><td>13.677</td><td>0.032</td><td>41928.422</td><td>4643.569</td><td>13.535</td><td>0.034</td><td>41493.105</td><td>4595.357</td><td>13.55</td><td>0.027</td><td>41539.089</td><td>4600.45</td><td>13.581</td><td>0.035</td><td>41634.123</td><td>4610.975</td><td>12.884</td><td>0.0</td><td>39497.389</td><td>4374.332</td></tr>\n",
       "<tr><td>2MASS 2618328866</td><td>6000.0</td><td>4000.0</td><td>545.1</td><td>29.71</td><td>1.8345300679365895</td><td>0.1</td><td>0.8786209573091851</td><td>0.06782337214316517</td><td>60.0</td><td>0.5</td><td>None</td><td>9.344700986227546e-12</td><td>8.891778300076678e-14</td><td>16.092</td><td>0.01</td><td>3.322222596429064e+32</td><td>3.6352434585597333e+31</td><td>-1.062</td><td>0.048</td><td>7.41</td><td>0.06</td><td>4.5</td><td>0.07</td><td>0.8896913720017506</td><td>0.0</td><td>3342.0</td><td>158.0</td><td>&lt;SEDkit.sed.SED object at 0x11b205ba8&gt;</td><td>20.486</td><td>0.073</td><td>60870.873</td><td>6635.384</td><td>17.779</td><td>0.006</td><td>52827.456</td><td>5758.59</td><td>16.431</td><td>0.004</td><td>48822.089</td><td>5321.975</td><td>15.843</td><td>0.004</td><td>47074.941</td><td>5131.523</td><td>15.514</td><td>0.005</td><td>46097.37</td><td>5024.96</td><td>14.391</td><td>0.029</td><td>42760.555</td><td>4661.222</td><td>13.677</td><td>0.032</td><td>40639.019</td><td>4429.959</td><td>13.535</td><td>0.034</td><td>40217.088</td><td>4383.966</td><td>13.55</td><td>0.027</td><td>40261.658</td><td>4388.824</td><td>13.581</td><td>0.035</td><td>40353.77</td><td>4398.865</td><td>12.884</td><td>0.0</td><td>38282.746</td><td>4173.107</td></tr>\n",
       "<tr><td>2MASS 2618328867</td><td>6000.0</td><td>4000.0</td><td>593.89</td><td>35.27</td><td>1.6838003958452172</td><td>0.1</td><td>0.8786209573091851</td><td>0.06782337214316517</td><td>60.0</td><td>0.5</td><td>None</td><td>9.344700986227546e-12</td><td>8.891778300076678e-14</td><td>16.092</td><td>0.01</td><td>3.9435594201540144e+32</td><td>4.69901672434641e+31</td><td>-0.987</td><td>0.052</td><td>7.223</td><td>0.065</td><td>4.5</td><td>0.07</td><td>0.8896913720017506</td><td>0.0</td><td>3488.0</td><td>170.0</td><td>&lt;SEDkit.sed.SED object at 0x11b2abe10&gt;</td><td>20.486</td><td>0.073</td><td>72255.214</td><td>8582.201</td><td>17.779</td><td>0.006</td><td>62707.481</td><td>7448.157</td><td>16.431</td><td>0.004</td><td>57953.013</td><td>6883.439</td><td>15.843</td><td>0.004</td><td>55879.106</td><td>6637.108</td><td>15.514</td><td>0.005</td><td>54718.705</td><td>6499.28</td><td>14.391</td><td>0.029</td><td>50757.824</td><td>6028.822</td><td>13.677</td><td>0.032</td><td>48239.508</td><td>5729.706</td><td>13.535</td><td>0.034</td><td>47738.667</td><td>5670.218</td><td>13.55</td><td>0.027</td><td>47791.572</td><td>5676.502</td><td>13.581</td><td>0.035</td><td>47900.911</td><td>5689.489</td><td>12.884</td><td>0.0</td><td>45442.555</td><td>5397.494</td></tr>\n",
       "<tr><td>2MASS 2618328868</td><td>6000.0</td><td>4000.0</td><td>596.87</td><td>35.63</td><td>1.6754129960850157</td><td>0.1</td><td>0.8786209573091851</td><td>0.06782337214316517</td><td>60.0</td><td>0.5</td><td>None</td><td>9.344700986227546e-12</td><td>8.891778300076678e-14</td><td>16.092</td><td>0.01</td><td>3.9832344137408915e+32</td><td>4.770642816474678e+31</td><td>-0.983</td><td>0.052</td><td>7.213</td><td>0.066</td><td>4.5</td><td>0.07</td><td>0.8896913720017506</td><td>0.0</td><td>3497.0</td><td>170.0</td><td>&lt;SEDkit.sed.SED object at 0x11b2c3e80&gt;</td><td>20.486</td><td>0.073</td><td>72982.153</td><td>8713.302</td><td>17.779</td><td>0.006</td><td>63338.363</td><td>7561.934</td><td>16.431</td><td>0.004</td><td>58536.061</td><td>6988.59</td><td>15.843</td><td>0.004</td><td>56441.289</td><td>6738.496</td><td>15.514</td><td>0.005</td><td>55269.214</td><td>6598.563</td><td>14.391</td><td>0.029</td><td>51268.484</td><td>6120.918</td><td>13.677</td><td>0.032</td><td>48724.832</td><td>5817.233</td><td>13.535</td><td>0.034</td><td>48218.951</td><td>5756.836</td><td>13.55</td><td>0.027</td><td>48272.389</td><td>5763.216</td><td>13.581</td><td>0.035</td><td>48382.828</td><td>5776.401</td><td>12.884</td><td>0.0</td><td>45899.739</td><td>5479.946</td></tr>\n",
       "<tr><td>2MASS 2618328869</td><td>6000.0</td><td>4000.0</td><td>590.21</td><td>34.83</td><td>1.6943163878468375</td><td>0.1</td><td>0.8786209573091851</td><td>0.06782337214316517</td><td>60.0</td><td>0.5</td><td>None</td><td>9.344700986227546e-12</td><td>8.891778300076678e-14</td><td>16.092</td><td>0.01</td><td>3.894838827390943e+32</td><td>4.611829256452778e+31</td><td>-0.992</td><td>0.051</td><td>7.237</td><td>0.065</td><td>4.5</td><td>0.07</td><td>0.8896913720017506</td><td>0.0</td><td>3477.0</td><td>169.0</td><td>&lt;SEDkit.sed.SED object at 0x11b2ab630&gt;</td><td>20.486</td><td>0.073</td><td>71362.539</td><td>8422.621</td><td>17.779</td><td>0.006</td><td>61932.763</td><td>7309.663</td><td>16.431</td><td>0.004</td><td>57237.034</td><td>6755.446</td><td>15.843</td><td>0.004</td><td>55188.749</td><td>6513.696</td><td>15.514</td><td>0.005</td><td>54042.685</td><td>6378.43</td><td>14.391</td><td>0.029</td><td>50130.738</td><td>5916.72</td><td>13.677</td><td>0.032</td><td>47643.535</td><td>5623.166</td><td>13.535</td><td>0.034</td><td>47148.881</td><td>5564.784</td><td>13.55</td><td>0.027</td><td>47201.133</td><td>5570.951</td><td>13.581</td><td>0.035</td><td>47309.121</td><td>5583.697</td><td>12.884</td><td>0.0</td><td>44881.136</td><td>5297.131</td></tr>\n",
       "</table>"
      ],
      "text/plain": [
       "<QTable length=9>\n",
       "      name         age   age_unc ... WISE.W3_unc M_WISE.W3 M_WISE.W3_unc\n",
       "                   Myr     Myr   ...                                    \n",
       "     object      float64 float64 ...   float64    float64     float64   \n",
       "---------------- ------- ------- ... ----------- --------- -------------\n",
       " 2MASS 261832886  6000.0  4000.0 ...         0.0 42195.667      2419.902\n",
       "2MASS 2618328860  6000.0  4000.0 ...         0.0 42248.771      4838.423\n",
       "2MASS 2618328861  6000.0  4000.0 ...         0.0 46224.834      5537.905\n",
       "2MASS 2618328862  6000.0  4000.0 ...         0.0 41779.372      4758.644\n",
       "2MASS 2618328863  6000.0  4000.0 ...         0.0 39497.389      4374.332\n",
       "2MASS 2618328866  6000.0  4000.0 ...         0.0 38282.746      4173.107\n",
       "2MASS 2618328867  6000.0  4000.0 ...         0.0 45442.555      5397.494\n",
       "2MASS 2618328868  6000.0  4000.0 ...         0.0 45899.739      5479.946\n",
       "2MASS 2618328869  6000.0  4000.0 ...         0.0 44881.136      5297.131"
      ]
     },
     "execution_count": 44,
     "metadata": {},
     "output_type": "execute_result"
    }
   ],
   "source": [
    "cat.filter('M_SDSS.r', ('>50000','<60000')).results"
   ]
  },
  {
   "cell_type": "code",
   "execution_count": null,
   "metadata": {
    "collapsed": true
   },
   "outputs": [],
   "source": []
  }
 ],
 "metadata": {
  "anaconda-cloud": {},
  "kernelspec": {
   "display_name": "Astroconda",
   "language": "python",
   "name": "astroconda_kernel"
  },
  "language_info": {
   "codemirror_mode": {
    "name": "ipython",
    "version": 3
   },
   "file_extension": ".py",
   "mimetype": "text/x-python",
   "name": "python",
   "nbconvert_exporter": "python",
   "pygments_lexer": "ipython3",
   "version": "3.5.2"
  }
 },
 "nbformat": 4,
 "nbformat_minor": 1
}
