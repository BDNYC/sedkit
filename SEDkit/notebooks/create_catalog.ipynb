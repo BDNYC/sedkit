{
 "cells": [
  {
   "cell_type": "markdown",
   "metadata": {},
   "source": [
    "# Make a catalog of SEDs"
   ]
  },
  {
   "cell_type": "code",
   "execution_count": 113,
   "metadata": {
    "collapsed": false
   },
   "outputs": [
    {
     "data": {
      "text/html": [
       "\n",
       "    <div class=\"bk-root\">\n",
       "        <a href=\"http://bokeh.pydata.org\" target=\"_blank\" class=\"bk-logo bk-logo-small bk-logo-notebook\"></a>\n",
       "        <span id=\"665df46a-a9e0-4dd9-bd1c-630900904b70\">Loading BokehJS ...</span>\n",
       "    </div>"
      ]
     },
     "metadata": {},
     "output_type": "display_data"
    },
    {
     "data": {
      "application/javascript": [
       "\n",
       "(function(global) {\n",
       "  function now() {\n",
       "    return new Date();\n",
       "  }\n",
       "\n",
       "  var force = true;\n",
       "\n",
       "  if (typeof (window._bokeh_onload_callbacks) === \"undefined\" || force === true) {\n",
       "    window._bokeh_onload_callbacks = [];\n",
       "    window._bokeh_is_loading = undefined;\n",
       "  }\n",
       "\n",
       "\n",
       "  \n",
       "  if (typeof (window._bokeh_timeout) === \"undefined\" || force === true) {\n",
       "    window._bokeh_timeout = Date.now() + 5000;\n",
       "    window._bokeh_failed_load = false;\n",
       "  }\n",
       "\n",
       "  var NB_LOAD_WARNING = {'data': {'text/html':\n",
       "     \"<div style='background-color: #fdd'>\\n\"+\n",
       "     \"<p>\\n\"+\n",
       "     \"BokehJS does not appear to have successfully loaded. If loading BokehJS from CDN, this \\n\"+\n",
       "     \"may be due to a slow or bad network connection. Possible fixes:\\n\"+\n",
       "     \"</p>\\n\"+\n",
       "     \"<ul>\\n\"+\n",
       "     \"<li>re-rerun `output_notebook()` to attempt to load from CDN again, or</li>\\n\"+\n",
       "     \"<li>use INLINE resources instead, as so:</li>\\n\"+\n",
       "     \"</ul>\\n\"+\n",
       "     \"<code>\\n\"+\n",
       "     \"from bokeh.resources import INLINE\\n\"+\n",
       "     \"output_notebook(resources=INLINE)\\n\"+\n",
       "     \"</code>\\n\"+\n",
       "     \"</div>\"}};\n",
       "\n",
       "  function display_loaded() {\n",
       "    if (window.Bokeh !== undefined) {\n",
       "      var el = document.getElementById(\"665df46a-a9e0-4dd9-bd1c-630900904b70\");\n",
       "      el.textContent = \"BokehJS \" + Bokeh.version + \" successfully loaded.\";\n",
       "    } else if (Date.now() < window._bokeh_timeout) {\n",
       "      setTimeout(display_loaded, 100)\n",
       "    }\n",
       "  }\n",
       "\n",
       "  function run_callbacks() {\n",
       "    try {\n",
       "      window._bokeh_onload_callbacks.forEach(function(callback) { callback() });\n",
       "    }\n",
       "    finally {\n",
       "      delete window._bokeh_onload_callbacks\n",
       "    }\n",
       "    console.info(\"Bokeh: all callbacks have finished\");\n",
       "  }\n",
       "\n",
       "  function load_libs(js_urls, callback) {\n",
       "    window._bokeh_onload_callbacks.push(callback);\n",
       "    if (window._bokeh_is_loading > 0) {\n",
       "      console.log(\"Bokeh: BokehJS is being loaded, scheduling callback at\", now());\n",
       "      return null;\n",
       "    }\n",
       "    if (js_urls == null || js_urls.length === 0) {\n",
       "      run_callbacks();\n",
       "      return null;\n",
       "    }\n",
       "    console.log(\"Bokeh: BokehJS not loaded, scheduling load and callback at\", now());\n",
       "    window._bokeh_is_loading = js_urls.length;\n",
       "    for (var i = 0; i < js_urls.length; i++) {\n",
       "      var url = js_urls[i];\n",
       "      var s = document.createElement('script');\n",
       "      s.src = url;\n",
       "      s.async = false;\n",
       "      s.onreadystatechange = s.onload = function() {\n",
       "        window._bokeh_is_loading--;\n",
       "        if (window._bokeh_is_loading === 0) {\n",
       "          console.log(\"Bokeh: all BokehJS libraries loaded\");\n",
       "          run_callbacks()\n",
       "        }\n",
       "      };\n",
       "      s.onerror = function() {\n",
       "        console.warn(\"failed to load library \" + url);\n",
       "      };\n",
       "      console.log(\"Bokeh: injecting script tag for BokehJS library: \", url);\n",
       "      document.getElementsByTagName(\"head\")[0].appendChild(s);\n",
       "    }\n",
       "  };var element = document.getElementById(\"665df46a-a9e0-4dd9-bd1c-630900904b70\");\n",
       "  if (element == null) {\n",
       "    console.log(\"Bokeh: ERROR: autoload.js configured with elementid '665df46a-a9e0-4dd9-bd1c-630900904b70' but no matching script tag was found. \")\n",
       "    return false;\n",
       "  }\n",
       "\n",
       "  var js_urls = [\"https://cdn.pydata.org/bokeh/release/bokeh-0.12.6.min.js\", \"https://cdn.pydata.org/bokeh/release/bokeh-widgets-0.12.6.min.js\"];\n",
       "\n",
       "  var inline_js = [\n",
       "    function(Bokeh) {\n",
       "      Bokeh.set_log_level(\"info\");\n",
       "    },\n",
       "    \n",
       "    function(Bokeh) {\n",
       "      \n",
       "    },\n",
       "    \n",
       "    function(Bokeh) {\n",
       "      \n",
       "      document.getElementById(\"665df46a-a9e0-4dd9-bd1c-630900904b70\").textContent = \"BokehJS is loading...\";\n",
       "    },\n",
       "    function(Bokeh) {\n",
       "      console.log(\"Bokeh: injecting CSS: https://cdn.pydata.org/bokeh/release/bokeh-0.12.6.min.css\");\n",
       "      Bokeh.embed.inject_css(\"https://cdn.pydata.org/bokeh/release/bokeh-0.12.6.min.css\");\n",
       "      console.log(\"Bokeh: injecting CSS: https://cdn.pydata.org/bokeh/release/bokeh-widgets-0.12.6.min.css\");\n",
       "      Bokeh.embed.inject_css(\"https://cdn.pydata.org/bokeh/release/bokeh-widgets-0.12.6.min.css\");\n",
       "    }\n",
       "  ];\n",
       "\n",
       "  function run_inline_js() {\n",
       "    \n",
       "    if ((window.Bokeh !== undefined) || (force === true)) {\n",
       "      for (var i = 0; i < inline_js.length; i++) {\n",
       "        inline_js[i](window.Bokeh);\n",
       "      }if (force === true) {\n",
       "        display_loaded();\n",
       "      }} else if (Date.now() < window._bokeh_timeout) {\n",
       "      setTimeout(run_inline_js, 100);\n",
       "    } else if (!window._bokeh_failed_load) {\n",
       "      console.log(\"Bokeh: BokehJS failed to load within specified timeout.\");\n",
       "      window._bokeh_failed_load = true;\n",
       "    } else if (force !== true) {\n",
       "      var cell = $(document.getElementById(\"665df46a-a9e0-4dd9-bd1c-630900904b70\")).parents('.cell').data().cell;\n",
       "      cell.output_area.append_execute_result(NB_LOAD_WARNING)\n",
       "    }\n",
       "\n",
       "  }\n",
       "\n",
       "  if (window._bokeh_is_loading === 0) {\n",
       "    console.log(\"Bokeh: BokehJS loaded, going straight to plotting\");\n",
       "    run_inline_js();\n",
       "  } else {\n",
       "    load_libs(js_urls, function() {\n",
       "      console.log(\"Bokeh: BokehJS plotting callback run at\", now());\n",
       "      run_inline_js();\n",
       "    });\n",
       "  }\n",
       "}(this));"
      ]
     },
     "metadata": {},
     "output_type": "display_data"
    }
   ],
   "source": [
    "# Imports\n",
    "from SEDkit import sed, spectrum, synphot\n",
    "import astropy.units as q\n",
    "import numpy as np\n",
    "from pkg_resources import resource_filename\n",
    "from bokeh.io import output_notebook, show\n",
    "import copy\n",
    "output_notebook()"
   ]
  },
  {
   "cell_type": "markdown",
   "metadata": {},
   "source": [
    "First we initialize an empty catalog."
   ]
  },
  {
   "cell_type": "code",
   "execution_count": 126,
   "metadata": {
    "collapsed": false
   },
   "outputs": [],
   "source": [
    "# Make an SED catalog\n",
    "cat = sed.SEDCatalog()"
   ]
  },
  {
   "cell_type": "markdown",
   "metadata": {},
   "source": [
    "Now let's make a few SEDs"
   ]
  },
  {
   "cell_type": "code",
   "execution_count": 127,
   "metadata": {
    "collapsed": false
   },
   "outputs": [
    {
     "name": "stdout",
     "output_type": "stream",
     "text": [
      "Make this handle asymmetric uncertainties!\n",
      "Setting age to (<Quantity 6.0 Gyr>, <Quantity 4.0 Gyr>)\n",
      "Setting radius to (<Quantity 0.8786209573091851 solRad>, <Quantity 0.06782337214316517 solRad>)\n"
     ]
    }
   ],
   "source": [
    "# Make an SED\n",
    "s1 = sed.SED(parallax=(1.7474*q.mas, 0.0501*q.mas), spectral_type='M0V', name='2MASS 261832886')\n",
    "s1.add_photometry_file(resource_filename('SEDkit', 'data/M0V_photometry.txt'))\n",
    "s1.make_sed()\n",
    "cat.add_SED(s1)"
   ]
  },
  {
   "cell_type": "code",
   "execution_count": 128,
   "metadata": {
    "collapsed": false
   },
   "outputs": [
    {
     "name": "stdout",
     "output_type": "stream",
     "text": [
      "Make this handle asymmetric uncertainties!\n",
      "Make this handle asymmetric uncertainties!\n",
      "Make this handle asymmetric uncertainties!\n",
      "Make this handle asymmetric uncertainties!\n",
      "Make this handle asymmetric uncertainties!\n",
      "Make this handle asymmetric uncertainties!\n",
      "Make this handle asymmetric uncertainties!\n",
      "Make this handle asymmetric uncertainties!\n",
      "Make this handle asymmetric uncertainties!\n",
      "Make this handle asymmetric uncertainties!\n"
     ]
    }
   ],
   "source": [
    "# Make 30 other SEDs (I'll just change the parallax)\n",
    "for i in range(10):\n",
    "    s2 = copy.copy(s1)\n",
    "    s2.parallax = abs(np.random.normal(loc=1.7474, scale=0.1))*q.mas, 0.1*q.mas\n",
    "    s2.make_sed()\n",
    "    cat.add_SED(s2)"
   ]
  },
  {
   "cell_type": "markdown",
   "metadata": {},
   "source": [
    "Then the aggregated results look like this:"
   ]
  },
  {
   "cell_type": "code",
   "execution_count": 129,
   "metadata": {
    "collapsed": false
   },
   "outputs": [
    {
     "data": {
      "text/html": [
       "<i>QTable length=11</i>\n",
       "<table id=\"table4740924416\" class=\"table-striped table-bordered table-condensed\">\n",
       "<thead><tr><th>name</th><th>age</th><th>age_unc</th><th>distance</th><th>distance_unc</th><th>parallax</th><th>parallax_unc</th><th>radius</th><th>radius_unc</th><th>spectral_type</th><th>spectral_type_unc</th><th>membership</th><th>fbol</th><th>fbol_unc</th><th>mbol</th><th>mbol_unc</th><th>Lbol</th><th>Lbol_unc</th><th>Lbol_sun</th><th>Lbol_sun_unc</th><th>Mbol</th><th>Mbol_unc</th><th>logg</th><th>logg_unc</th><th>mass</th><th>mass_unc</th><th>Teff</th><th>Teff_unc</th></tr></thead>\n",
       "<thead><tr><th></th><th>Myr</th><th>Myr</th><th>pc</th><th>pc</th><th>mas</th><th>mas</th><th>6.957e+08 m</th><th></th><th></th><th></th><th></th><th>erg / (cm2 s)</th><th>erg / (cm2 s)</th><th></th><th></th><th>erg / s</th><th>erg / s</th><th></th><th></th><th></th><th></th><th></th><th></th><th>solMass</th><th>solMass</th><th>K</th><th>K</th></tr></thead>\n",
       "<thead><tr><th>object</th><th>object</th><th>object</th><th>object</th><th>object</th><th>object</th><th>object</th><th>object</th><th>object</th><th>object</th><th>object</th><th>object</th><th>object</th><th>object</th><th>object</th><th>object</th><th>object</th><th>object</th><th>object</th><th>object</th><th>object</th><th>object</th><th>object</th><th>object</th><th>object</th><th>object</th><th>object</th><th>object</th></tr></thead>\n",
       "<tr><td>2MASS 261832886</td><td>6000.0</td><td>4000.0</td><td>572.28</td><td>16.41</td><td>1.7474</td><td>0.0501</td><td>0.8786209573091851</td><td>0.06782337214316517</td><td>60.0</td><td>0.5</td><td>None</td><td>9.344700986227546e-12</td><td>8.891778300076678e-14</td><td>16.092</td><td>0.01</td><td>3.66179055973561e+32</td><td>2.1287295997847215e+31</td><td>-1.019</td><td>0.025</td><td>7.304</td><td>0.033</td><td>4.5</td><td>0.07</td><td>0.8896913720017506</td><td>0.0</td><td>3424.0</td><td>141.0</td></tr>\n",
       "<tr><td>2MASS 261832886</td><td>6000.0</td><td>4000.0</td><td>546.14</td><td>29.83</td><td>1.8310332452038867</td><td>0.1</td><td>0.8786209573091851</td><td>0.06782337214316517</td><td>60.0</td><td>0.5</td><td>None</td><td>9.344700986227546e-12</td><td>8.891778300076678e-14</td><td>16.092</td><td>0.01</td><td>3.33491167188553e+32</td><td>3.65683145220767e+31</td><td>-1.06</td><td>0.048</td><td>7.405</td><td>0.06</td><td>4.5</td><td>0.07</td><td>0.8896913720017506</td><td>0.0</td><td>3345.0</td><td>158.0</td></tr>\n",
       "<tr><td>2MASS 261832886</td><td>6000.0</td><td>4000.0</td><td>557.76</td><td>31.11</td><td>1.7928914424681888</td><td>0.1</td><td>0.8786209573091851</td><td>0.06782337214316517</td><td>60.0</td><td>0.5</td><td>None</td><td>9.344700986227546e-12</td><td>8.891778300076678e-14</td><td>16.092</td><td>0.01</td><td>3.478332499784636e+32</td><td>3.8942868435410006e+31</td><td>-1.042</td><td>0.049</td><td>7.36</td><td>0.061</td><td>4.5</td><td>0.07</td><td>0.8896913720017506</td><td>0.0</td><td>3380.0</td><td>161.0</td></tr>\n",
       "<tr><td>2MASS 261832886</td><td>6000.0</td><td>4000.0</td><td>532.68</td><td>28.38</td><td>1.8772833701522362</td><td>0.1</td><td>0.8786209573091851</td><td>0.06782337214316517</td><td>60.0</td><td>0.5</td><td>None</td><td>9.344700986227546e-12</td><td>8.891778300076678e-14</td><td>16.092</td><td>0.01</td><td>3.1725548981095634e+32</td><td>3.3939846875197012e+31</td><td>-1.082</td><td>0.046</td><td>7.46</td><td>0.059</td><td>4.5</td><td>0.07</td><td>0.8896913720017506</td><td>0.0</td><td>3303.0</td><td>155.0</td></tr>\n",
       "<tr><td>2MASS 261832886</td><td>6000.0</td><td>4000.0</td><td>571.38</td><td>32.65</td><td>1.7501578971253309</td><td>0.1</td><td>0.8786209573091851</td><td>0.06782337214316517</td><td>60.0</td><td>0.5</td><td>None</td><td>9.344700986227546e-12</td><td>8.891778300076678e-14</td><td>16.092</td><td>0.01</td><td>3.650282137037149e+32</td><td>4.186149083474423e+31</td><td>-1.021</td><td>0.05</td><td>7.307</td><td>0.063</td><td>4.5</td><td>0.07</td><td>0.8896913720017506</td><td>0.0</td><td>3421.0</td><td>164.0</td></tr>\n",
       "<tr><td>2MASS 261832886</td><td>6000.0</td><td>4000.0</td><td>548.19</td><td>30.05</td><td>1.824195995718835</td><td>0.1</td><td>0.8786209573091851</td><td>0.06782337214316517</td><td>60.0</td><td>0.5</td><td>None</td><td>9.344700986227546e-12</td><td>8.891778300076678e-14</td><td>16.092</td><td>0.01</td><td>3.35999461712158e+32</td><td>3.697528699709914e+31</td><td>-1.057</td><td>0.048</td><td>7.397</td><td>0.06</td><td>4.5</td><td>0.07</td><td>0.8896913720017506</td><td>0.0</td><td>3351.0</td><td>158.0</td></tr>\n",
       "<tr><td>2MASS 261832886</td><td>6000.0</td><td>4000.0</td><td>546.8</td><td>29.9</td><td>1.8288234219701291</td><td>0.1</td><td>0.8786209573091851</td><td>0.06782337214316517</td><td>60.0</td><td>0.5</td><td>None</td><td>9.344700986227546e-12</td><td>8.891778300076678e-14</td><td>16.092</td><td>0.01</td><td>3.342976899345008e+32</td><td>3.669810907809484e+31</td><td>-1.059</td><td>0.048</td><td>7.403</td><td>0.06</td><td>4.5</td><td>0.07</td><td>0.8896913720017506</td><td>0.0</td><td>3347.0</td><td>158.0</td></tr>\n",
       "<tr><td>2MASS 261832886</td><td>6000.0</td><td>4000.0</td><td>609.42</td><td>37.14</td><td>1.6408938060403373</td><td>0.1</td><td>0.8786209573091851</td><td>0.06782337214316517</td><td>60.0</td><td>0.5</td><td>None</td><td>9.344700986227546e-12</td><td>8.891778300076678e-14</td><td>16.092</td><td>0.01</td><td>4.152501226694657e+32</td><td>5.076733230446691e+31</td><td>-0.965</td><td>0.053</td><td>7.167</td><td>0.067</td><td>4.5</td><td>0.07</td><td>0.8896913720017506</td><td>0.0</td><td>3533.0</td><td>173.0</td></tr>\n",
       "<tr><td>2MASS 261832886</td><td>6000.0</td><td>4000.0</td><td>515.2</td><td>26.54</td><td>1.941000743102625</td><td>0.1</td><td>0.8786209573091851</td><td>0.06782337214316517</td><td>60.0</td><td>0.5</td><td>None</td><td>9.344700986227546e-12</td><td>8.891778300076678e-14</td><td>16.092</td><td>0.01</td><td>2.9677551852164846e+32</td><td>3.070630003856223e+31</td><td>-1.111</td><td>0.045</td><td>7.532</td><td>0.057</td><td>4.5</td><td>0.07</td><td>0.8896913720017506</td><td>0.0</td><td>3249.0</td><td>150.0</td></tr>\n",
       "<tr><td>2MASS 261832886</td><td>6000.0</td><td>4000.0</td><td>598.57</td><td>35.83</td><td>1.6706422950059876</td><td>0.1</td><td>0.8786209573091851</td><td>0.06782337214316517</td><td>60.0</td><td>0.5</td><td>None</td><td>9.344700986227546e-12</td><td>8.891778300076678e-14</td><td>16.092</td><td>0.01</td><td>4.005956754502718e+32</td><td>4.811002204432688e+31</td><td>-0.98</td><td>0.052</td><td>7.206</td><td>0.066</td><td>4.5</td><td>0.07</td><td>0.8896913720017506</td><td>0.0</td><td>3502.0</td><td>171.0</td></tr>\n",
       "<tr><td>2MASS 261832886</td><td>6000.0</td><td>4000.0</td><td>555.49</td><td>30.86</td><td>1.8002135815374278</td><td>0.1</td><td>0.8786209573091851</td><td>0.06782337214316517</td><td>60.0</td><td>0.5</td><td>None</td><td>9.344700986227546e-12</td><td>8.891778300076678e-14</td><td>16.092</td><td>0.01</td><td>3.450077524955509e+32</td><td>3.847381878781813e+31</td><td>-1.045</td><td>0.048</td><td>7.369</td><td>0.061</td><td>4.5</td><td>0.07</td><td>0.8896913720017506</td><td>0.0</td><td>3373.0</td><td>160.0</td></tr>\n",
       "</table>"
      ],
      "text/plain": [
       "<QTable length=11>\n",
       "      name       age   age_unc distance ... mass_unc  Teff  Teff_unc\n",
       "                 Myr     Myr      pc    ... solMass    K       K    \n",
       "     object     object  object  object  ...  object  object  object \n",
       "--------------- ------ ------- -------- ... -------- ------ --------\n",
       "2MASS 261832886 6000.0  4000.0   572.28 ...      0.0 3424.0    141.0\n",
       "2MASS 261832886 6000.0  4000.0   546.14 ...      0.0 3345.0    158.0\n",
       "2MASS 261832886 6000.0  4000.0   557.76 ...      0.0 3380.0    161.0\n",
       "2MASS 261832886 6000.0  4000.0   532.68 ...      0.0 3303.0    155.0\n",
       "2MASS 261832886 6000.0  4000.0   571.38 ...      0.0 3421.0    164.0\n",
       "2MASS 261832886 6000.0  4000.0   548.19 ...      0.0 3351.0    158.0\n",
       "2MASS 261832886 6000.0  4000.0    546.8 ...      0.0 3347.0    158.0\n",
       "2MASS 261832886 6000.0  4000.0   609.42 ...      0.0 3533.0    173.0\n",
       "2MASS 261832886 6000.0  4000.0    515.2 ...      0.0 3249.0    150.0\n",
       "2MASS 261832886 6000.0  4000.0   598.57 ...      0.0 3502.0    171.0\n",
       "2MASS 261832886 6000.0  4000.0   555.49 ...      0.0 3373.0    160.0"
      ]
     },
     "execution_count": 129,
     "metadata": {},
     "output_type": "execute_result"
    }
   ],
   "source": [
    "cat.results"
   ]
  },
  {
   "cell_type": "markdown",
   "metadata": {},
   "source": [
    "We can also plot the results by column name."
   ]
  },
  {
   "cell_type": "code",
   "execution_count": 133,
   "metadata": {
    "collapsed": false
   },
   "outputs": [
    {
     "data": {
      "text/html": [
       "\n",
       "\n",
       "    <div class=\"bk-root\">\n",
       "        <div class=\"bk-plotdiv\" id=\"10a24e25-5670-475f-8374-0e9e524d4c9b\"></div>\n",
       "    </div>\n",
       "<script type=\"text/javascript\">\n",
       "  \n",
       "  (function(global) {\n",
       "    function now() {\n",
       "      return new Date();\n",
       "    }\n",
       "  \n",
       "    var force = false;\n",
       "  \n",
       "    if (typeof (window._bokeh_onload_callbacks) === \"undefined\" || force === true) {\n",
       "      window._bokeh_onload_callbacks = [];\n",
       "      window._bokeh_is_loading = undefined;\n",
       "    }\n",
       "  \n",
       "  \n",
       "    \n",
       "    if (typeof (window._bokeh_timeout) === \"undefined\" || force === true) {\n",
       "      window._bokeh_timeout = Date.now() + 0;\n",
       "      window._bokeh_failed_load = false;\n",
       "    }\n",
       "  \n",
       "    var NB_LOAD_WARNING = {'data': {'text/html':\n",
       "       \"<div style='background-color: #fdd'>\\n\"+\n",
       "       \"<p>\\n\"+\n",
       "       \"BokehJS does not appear to have successfully loaded. If loading BokehJS from CDN, this \\n\"+\n",
       "       \"may be due to a slow or bad network connection. Possible fixes:\\n\"+\n",
       "       \"</p>\\n\"+\n",
       "       \"<ul>\\n\"+\n",
       "       \"<li>re-rerun `output_notebook()` to attempt to load from CDN again, or</li>\\n\"+\n",
       "       \"<li>use INLINE resources instead, as so:</li>\\n\"+\n",
       "       \"</ul>\\n\"+\n",
       "       \"<code>\\n\"+\n",
       "       \"from bokeh.resources import INLINE\\n\"+\n",
       "       \"output_notebook(resources=INLINE)\\n\"+\n",
       "       \"</code>\\n\"+\n",
       "       \"</div>\"}};\n",
       "  \n",
       "    function display_loaded() {\n",
       "      if (window.Bokeh !== undefined) {\n",
       "        var el = document.getElementById(\"10a24e25-5670-475f-8374-0e9e524d4c9b\");\n",
       "        el.textContent = \"BokehJS \" + Bokeh.version + \" successfully loaded.\";\n",
       "      } else if (Date.now() < window._bokeh_timeout) {\n",
       "        setTimeout(display_loaded, 100)\n",
       "      }\n",
       "    }\n",
       "  \n",
       "    function run_callbacks() {\n",
       "      try {\n",
       "        window._bokeh_onload_callbacks.forEach(function(callback) { callback() });\n",
       "      }\n",
       "      finally {\n",
       "        delete window._bokeh_onload_callbacks\n",
       "      }\n",
       "      console.info(\"Bokeh: all callbacks have finished\");\n",
       "    }\n",
       "  \n",
       "    function load_libs(js_urls, callback) {\n",
       "      window._bokeh_onload_callbacks.push(callback);\n",
       "      if (window._bokeh_is_loading > 0) {\n",
       "        console.log(\"Bokeh: BokehJS is being loaded, scheduling callback at\", now());\n",
       "        return null;\n",
       "      }\n",
       "      if (js_urls == null || js_urls.length === 0) {\n",
       "        run_callbacks();\n",
       "        return null;\n",
       "      }\n",
       "      console.log(\"Bokeh: BokehJS not loaded, scheduling load and callback at\", now());\n",
       "      window._bokeh_is_loading = js_urls.length;\n",
       "      for (var i = 0; i < js_urls.length; i++) {\n",
       "        var url = js_urls[i];\n",
       "        var s = document.createElement('script');\n",
       "        s.src = url;\n",
       "        s.async = false;\n",
       "        s.onreadystatechange = s.onload = function() {\n",
       "          window._bokeh_is_loading--;\n",
       "          if (window._bokeh_is_loading === 0) {\n",
       "            console.log(\"Bokeh: all BokehJS libraries loaded\");\n",
       "            run_callbacks()\n",
       "          }\n",
       "        };\n",
       "        s.onerror = function() {\n",
       "          console.warn(\"failed to load library \" + url);\n",
       "        };\n",
       "        console.log(\"Bokeh: injecting script tag for BokehJS library: \", url);\n",
       "        document.getElementsByTagName(\"head\")[0].appendChild(s);\n",
       "      }\n",
       "    };var element = document.getElementById(\"10a24e25-5670-475f-8374-0e9e524d4c9b\");\n",
       "    if (element == null) {\n",
       "      console.log(\"Bokeh: ERROR: autoload.js configured with elementid '10a24e25-5670-475f-8374-0e9e524d4c9b' but no matching script tag was found. \")\n",
       "      return false;\n",
       "    }\n",
       "  \n",
       "    var js_urls = [];\n",
       "  \n",
       "    var inline_js = [\n",
       "      function(Bokeh) {\n",
       "        (function() {\n",
       "          var fn = function() {\n",
       "            var docs_json = {\"db5d09e4-f1c7-4b87-ba5b-ef6335320905\":{\"roots\":{\"references\":[{\"attributes\":{},\"id\":\"d2f6dbe3-16b9-4899-b60b-f842e7fd6f53\",\"type\":\"BasicTickFormatter\"},{\"attributes\":{\"fill_alpha\":{\"value\":0.1},\"fill_color\":{\"value\":\"#1f77b4\"},\"line_alpha\":{\"value\":0.1},\"line_color\":{\"value\":\"#1f77b4\"},\"size\":{\"units\":\"screen\",\"value\":8},\"x\":{\"field\":\"x\"},\"y\":{\"field\":\"y\"}},\"id\":\"ffb27cad-7fb4-4a55-bc98-659de57f7c8e\",\"type\":\"Circle\"},{\"attributes\":{\"dimension\":1,\"plot\":{\"id\":\"d6ab6a5e-e8d6-456a-8b10-dfba15956e4e\",\"subtype\":\"Figure\",\"type\":\"Plot\"},\"ticker\":{\"id\":\"49509742-501b-40c2-93dd-931bf6ced103\",\"type\":\"BasicTicker\"}},\"id\":\"b4de151f-7fa6-46c2-a4cd-6461b22e645c\",\"type\":\"Grid\"},{\"attributes\":{\"axis_label\":\"distance [pc]\",\"formatter\":{\"id\":\"70f0c76d-affa-469d-b7a1-413c811cf316\",\"type\":\"BasicTickFormatter\"},\"plot\":{\"id\":\"d6ab6a5e-e8d6-456a-8b10-dfba15956e4e\",\"subtype\":\"Figure\",\"type\":\"Plot\"},\"ticker\":{\"id\":\"43acdee7-06c2-44c9-9cd3-4fe6f2603596\",\"type\":\"BasicTicker\"}},\"id\":\"c9f53ff1-0e42-47e2-b86d-344a3b93b537\",\"type\":\"LinearAxis\"},{\"attributes\":{\"fill_alpha\":{\"value\":0.7},\"fill_color\":{\"value\":\"#1f77b4\"},\"line_color\":{\"value\":\"#1f77b4\"},\"size\":{\"units\":\"screen\",\"value\":8},\"x\":{\"field\":\"x\"},\"y\":{\"field\":\"y\"}},\"id\":\"e7415d55-8b7c-44b9-bdda-747d72c511a1\",\"type\":\"Circle\"},{\"attributes\":{},\"id\":\"49509742-501b-40c2-93dd-931bf6ced103\",\"type\":\"BasicTicker\"},{\"attributes\":{},\"id\":\"e50f5796-c102-45d3-8242-494da90b0c57\",\"type\":\"LinearScale\"},{\"attributes\":{},\"id\":\"1acfeeaf-1a46-4bf1-88ec-74c23a661bdb\",\"type\":\"ToolEvents\"},{\"attributes\":{},\"id\":\"70f0c76d-affa-469d-b7a1-413c811cf316\",\"type\":\"BasicTickFormatter\"},{\"attributes\":{\"callback\":null,\"column_names\":[\"y\",\"desc\",\"x\"],\"data\":{\"desc\":[\"2MASS 261832886\",\"2MASS 261832886\",\"2MASS 261832886\",\"2MASS 261832886\",\"2MASS 261832886\",\"2MASS 261832886\",\"2MASS 261832886\",\"2MASS 261832886\",\"2MASS 261832886\",\"2MASS 261832886\",\"2MASS 261832886\"],\"x\":[572.28,546.14,557.76,532.68,571.38,548.19,546.8,609.42,515.2,598.57,555.49],\"y\":[3424.0,3345.0,3380.0,3303.0,3421.0,3351.0,3347.0,3533.0,3249.0,3502.0,3373.0]}},\"id\":\"4eb69191-e729-414a-acb0-9f893ad002f3\",\"type\":\"ColumnDataSource\"},{\"attributes\":{\"callback\":null},\"id\":\"68e79ecc-dc0a-4e69-8486-80cb72278ce4\",\"type\":\"DataRange1d\"},{\"attributes\":{\"click_policy\":\"hide\",\"items\":[{\"id\":\"3c0d9650-4472-4278-a778-f924a9828592\",\"type\":\"LegendItem\"}],\"plot\":{\"id\":\"d6ab6a5e-e8d6-456a-8b10-dfba15956e4e\",\"subtype\":\"Figure\",\"type\":\"Plot\"}},\"id\":\"36e2603b-da11-41dc-856b-90a0617c9b58\",\"type\":\"Legend\"},{\"attributes\":{\"plot\":{\"id\":\"d6ab6a5e-e8d6-456a-8b10-dfba15956e4e\",\"subtype\":\"Figure\",\"type\":\"Plot\"}},\"id\":\"de5b38db-e67a-43fd-b1ea-626bbdb3c7b0\",\"type\":\"PanTool\"},{\"attributes\":{\"axis_label\":\"Teff [K]\",\"formatter\":{\"id\":\"d2f6dbe3-16b9-4899-b60b-f842e7fd6f53\",\"type\":\"BasicTickFormatter\"},\"plot\":{\"id\":\"d6ab6a5e-e8d6-456a-8b10-dfba15956e4e\",\"subtype\":\"Figure\",\"type\":\"Plot\"},\"ticker\":{\"id\":\"49509742-501b-40c2-93dd-931bf6ced103\",\"type\":\"BasicTicker\"}},\"id\":\"31c2707d-7b7e-4113-9c78-9624beb070fc\",\"type\":\"LinearAxis\"},{\"attributes\":{\"data_source\":{\"id\":\"4eb69191-e729-414a-acb0-9f893ad002f3\",\"type\":\"ColumnDataSource\"},\"glyph\":{\"id\":\"e7415d55-8b7c-44b9-bdda-747d72c511a1\",\"type\":\"Circle\"},\"hover_glyph\":null,\"muted_glyph\":null,\"name\":\"photometry\",\"nonselection_glyph\":{\"id\":\"ffb27cad-7fb4-4a55-bc98-659de57f7c8e\",\"type\":\"Circle\"},\"selection_glyph\":null},\"id\":\"7e2a794f-608e-4dca-9219-44187848bf33\",\"type\":\"GlyphRenderer\"},{\"attributes\":{\"below\":[{\"id\":\"c9f53ff1-0e42-47e2-b86d-344a3b93b537\",\"type\":\"LinearAxis\"}],\"left\":[{\"id\":\"31c2707d-7b7e-4113-9c78-9624beb070fc\",\"type\":\"LinearAxis\"}],\"plot_height\":500,\"plot_width\":800,\"renderers\":[{\"id\":\"c9f53ff1-0e42-47e2-b86d-344a3b93b537\",\"type\":\"LinearAxis\"},{\"id\":\"5488819e-c6eb-42a2-a484-8254f2eab7bf\",\"type\":\"Grid\"},{\"id\":\"31c2707d-7b7e-4113-9c78-9624beb070fc\",\"type\":\"LinearAxis\"},{\"id\":\"b4de151f-7fa6-46c2-a4cd-6461b22e645c\",\"type\":\"Grid\"},{\"id\":\"ab56b5b1-b6b3-44a2-a4f6-cbe65637eb87\",\"type\":\"BoxAnnotation\"},{\"id\":\"36e2603b-da11-41dc-856b-90a0617c9b58\",\"type\":\"Legend\"},{\"id\":\"7e2a794f-608e-4dca-9219-44187848bf33\",\"type\":\"GlyphRenderer\"}],\"title\":{\"id\":\"153e1a4f-9920-4ccb-bca7-564b53a3c9de\",\"type\":\"Title\"},\"tool_events\":{\"id\":\"1acfeeaf-1a46-4bf1-88ec-74c23a661bdb\",\"type\":\"ToolEvents\"},\"toolbar\":{\"id\":\"834b43a8-fe1c-4323-a103-4d4ea0b13039\",\"type\":\"Toolbar\"},\"x_range\":{\"id\":\"68e79ecc-dc0a-4e69-8486-80cb72278ce4\",\"type\":\"DataRange1d\"},\"x_scale\":{\"id\":\"0fd9c16d-a641-4a55-bda1-86ca63fd60a3\",\"type\":\"LinearScale\"},\"y_range\":{\"id\":\"b8edf96e-a70f-4687-a997-48e46a94c9ad\",\"type\":\"DataRange1d\"},\"y_scale\":{\"id\":\"e50f5796-c102-45d3-8242-494da90b0c57\",\"type\":\"LinearScale\"}},\"id\":\"d6ab6a5e-e8d6-456a-8b10-dfba15956e4e\",\"subtype\":\"Figure\",\"type\":\"Plot\"},{\"attributes\":{\"bottom_units\":\"screen\",\"fill_alpha\":{\"value\":0.5},\"fill_color\":{\"value\":\"lightgrey\"},\"left_units\":\"screen\",\"level\":\"overlay\",\"line_alpha\":{\"value\":1.0},\"line_color\":{\"value\":\"black\"},\"line_dash\":[4,4],\"line_width\":{\"value\":2},\"plot\":null,\"render_mode\":\"css\",\"right_units\":\"screen\",\"top_units\":\"screen\"},\"id\":\"ab56b5b1-b6b3-44a2-a4f6-cbe65637eb87\",\"type\":\"BoxAnnotation\"},{\"attributes\":{\"callback\":null,\"plot\":{\"id\":\"d6ab6a5e-e8d6-456a-8b10-dfba15956e4e\",\"subtype\":\"Figure\",\"type\":\"Plot\"},\"tooltips\":[[\"Name\",\"@desc\"],[\"distance\",\"@x\"],[\"Teff\",\"@y\"]]},\"id\":\"c1423d12-df78-4cef-9dbe-3a41c6b63b98\",\"type\":\"HoverTool\"},{\"attributes\":{\"overlay\":{\"id\":\"ab56b5b1-b6b3-44a2-a4f6-cbe65637eb87\",\"type\":\"BoxAnnotation\"},\"plot\":{\"id\":\"d6ab6a5e-e8d6-456a-8b10-dfba15956e4e\",\"subtype\":\"Figure\",\"type\":\"Plot\"}},\"id\":\"603af32e-a426-4104-9087-fb2e4cca1473\",\"type\":\"BoxZoomTool\"},{\"attributes\":{},\"id\":\"43acdee7-06c2-44c9-9cd3-4fe6f2603596\",\"type\":\"BasicTicker\"},{\"attributes\":{\"active_drag\":\"auto\",\"active_inspect\":\"auto\",\"active_scroll\":\"auto\",\"active_tap\":\"auto\",\"tools\":[{\"id\":\"de5b38db-e67a-43fd-b1ea-626bbdb3c7b0\",\"type\":\"PanTool\"},{\"id\":\"059ea4ad-6951-45fe-a82a-59055d1c1488\",\"type\":\"ResizeTool\"},{\"id\":\"2ed1f199-84b8-4768-b8eb-896e2c023a68\",\"type\":\"ResetTool\"},{\"id\":\"603af32e-a426-4104-9087-fb2e4cca1473\",\"type\":\"BoxZoomTool\"},{\"id\":\"f40b4429-19a0-4bcd-a298-88e59348fcaa\",\"type\":\"SaveTool\"},{\"id\":\"c1423d12-df78-4cef-9dbe-3a41c6b63b98\",\"type\":\"HoverTool\"}]},\"id\":\"834b43a8-fe1c-4323-a103-4d4ea0b13039\",\"type\":\"Toolbar\"},{\"attributes\":{\"callback\":null},\"id\":\"b8edf96e-a70f-4687-a997-48e46a94c9ad\",\"type\":\"DataRange1d\"},{\"attributes\":{\"plot\":{\"id\":\"d6ab6a5e-e8d6-456a-8b10-dfba15956e4e\",\"subtype\":\"Figure\",\"type\":\"Plot\"},\"ticker\":{\"id\":\"43acdee7-06c2-44c9-9cd3-4fe6f2603596\",\"type\":\"BasicTicker\"}},\"id\":\"5488819e-c6eb-42a2-a484-8254f2eab7bf\",\"type\":\"Grid\"},{\"attributes\":{\"plot\":{\"id\":\"d6ab6a5e-e8d6-456a-8b10-dfba15956e4e\",\"subtype\":\"Figure\",\"type\":\"Plot\"}},\"id\":\"059ea4ad-6951-45fe-a82a-59055d1c1488\",\"type\":\"ResizeTool\"},{\"attributes\":{\"plot\":{\"id\":\"d6ab6a5e-e8d6-456a-8b10-dfba15956e4e\",\"subtype\":\"Figure\",\"type\":\"Plot\"}},\"id\":\"2ed1f199-84b8-4768-b8eb-896e2c023a68\",\"type\":\"ResetTool\"},{\"attributes\":{},\"id\":\"0fd9c16d-a641-4a55-bda1-86ca63fd60a3\",\"type\":\"LinearScale\"},{\"attributes\":{\"plot\":{\"id\":\"d6ab6a5e-e8d6-456a-8b10-dfba15956e4e\",\"subtype\":\"Figure\",\"type\":\"Plot\"}},\"id\":\"f40b4429-19a0-4bcd-a298-88e59348fcaa\",\"type\":\"SaveTool\"},{\"attributes\":{\"label\":{\"value\":\"Photometry\"},\"renderers\":[{\"id\":\"7e2a794f-608e-4dca-9219-44187848bf33\",\"type\":\"GlyphRenderer\"}]},\"id\":\"3c0d9650-4472-4278-a778-f924a9828592\",\"type\":\"LegendItem\"},{\"attributes\":{\"plot\":null,\"text\":\"distance v Teff\"},\"id\":\"153e1a4f-9920-4ccb-bca7-564b53a3c9de\",\"type\":\"Title\"}],\"root_ids\":[\"d6ab6a5e-e8d6-456a-8b10-dfba15956e4e\"]},\"title\":\"Bokeh Application\",\"version\":\"0.12.6\"}};\n",
       "            var render_items = [{\"docid\":\"db5d09e4-f1c7-4b87-ba5b-ef6335320905\",\"elementid\":\"10a24e25-5670-475f-8374-0e9e524d4c9b\",\"modelid\":\"d6ab6a5e-e8d6-456a-8b10-dfba15956e4e\"}];\n",
       "            \n",
       "            Bokeh.embed.embed_items(docs_json, render_items);\n",
       "          };\n",
       "          if (document.readyState != \"loading\") fn();\n",
       "          else document.addEventListener(\"DOMContentLoaded\", fn);\n",
       "        })();\n",
       "      },\n",
       "      function(Bokeh) {\n",
       "      }\n",
       "    ];\n",
       "  \n",
       "    function run_inline_js() {\n",
       "      \n",
       "      if ((window.Bokeh !== undefined) || (force === true)) {\n",
       "        for (var i = 0; i < inline_js.length; i++) {\n",
       "          inline_js[i](window.Bokeh);\n",
       "        }if (force === true) {\n",
       "          display_loaded();\n",
       "        }} else if (Date.now() < window._bokeh_timeout) {\n",
       "        setTimeout(run_inline_js, 100);\n",
       "      } else if (!window._bokeh_failed_load) {\n",
       "        console.log(\"Bokeh: BokehJS failed to load within specified timeout.\");\n",
       "        window._bokeh_failed_load = true;\n",
       "      } else if (force !== true) {\n",
       "        var cell = $(document.getElementById(\"10a24e25-5670-475f-8374-0e9e524d4c9b\")).parents('.cell').data().cell;\n",
       "        cell.output_area.append_execute_result(NB_LOAD_WARNING)\n",
       "      }\n",
       "  \n",
       "    }\n",
       "  \n",
       "    if (window._bokeh_is_loading === 0) {\n",
       "      console.log(\"Bokeh: BokehJS loaded, going straight to plotting\");\n",
       "      run_inline_js();\n",
       "    } else {\n",
       "      load_libs(js_urls, function() {\n",
       "        console.log(\"Bokeh: BokehJS plotting callback run at\", now());\n",
       "        run_inline_js();\n",
       "      });\n",
       "    }\n",
       "  }(this));\n",
       "</script>"
      ]
     },
     "metadata": {},
     "output_type": "display_data"
    }
   ],
   "source": [
    "show(cat.plot('distance', 'Teff'))"
   ]
  },
  {
   "cell_type": "code",
   "execution_count": null,
   "metadata": {
    "collapsed": true
   },
   "outputs": [],
   "source": []
  }
 ],
 "metadata": {
  "anaconda-cloud": {},
  "kernelspec": {
   "display_name": "Astroconda",
   "language": "python",
   "name": "astroconda_kernel"
  },
  "language_info": {
   "codemirror_mode": {
    "name": "ipython",
    "version": 3
   },
   "file_extension": ".py",
   "mimetype": "text/x-python",
   "name": "python",
   "nbconvert_exporter": "python",
   "pygments_lexer": "ipython3",
   "version": "3.5.2"
  }
 },
 "nbformat": 4,
 "nbformat_minor": 1
}
