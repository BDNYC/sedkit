{
 "cells": [
  {
   "cell_type": "markdown",
   "metadata": {},
   "source": [
    "# Make a catalog of SEDs"
   ]
  },
  {
   "cell_type": "code",
   "execution_count": 1,
   "metadata": {
    "collapsed": false
   },
   "outputs": [
    {
     "name": "stderr",
     "output_type": "stream",
     "text": [
      "/Users/jfilippazzo/miniconda3/envs/astroconda/lib/python3.5/site-packages/pysynphot/locations.py:119: UserWarning: Extinction files should be moved to $PYSYN_CDBS/extinction for compatibility with future versions of pysynphot.\n",
      "  warnings.warn('Extinction files should be moved to '\n",
      "/Users/jfilippazzo/miniconda3/envs/astroconda/lib/python3.5/site-packages/pysynphot/locations.py:155: UserWarning: Extinction files not found in /grp/hst/cdbs/grid/extinction\n",
      "  warnings.warn('Extinction files not found in %s' % (extdir,))\n",
      "/Users/jfilippazzo/miniconda3/envs/astroconda/lib/python3.5/site-packages/pysynphot/refs.py:114: UserWarning: No graph or component tables found; functionality will be SEVERELY crippled. No files found for /grp/hst/cdbs/mtab/*_tmg.fits.\n",
      "  'functionality will be SEVERELY crippled. ' + str(e))\n",
      "/Users/jfilippazzo/miniconda3/envs/astroconda/lib/python3.5/site-packages/pysynphot/refs.py:121: UserWarning: No thermal tables found, no thermal calculations can be performed. No files found for /grp/hst/cdbs/mtab/*_tmt.fits.\n",
      "  'no thermal calculations can be performed. ' + str(e))\n"
     ]
    },
    {
     "data": {
      "text/html": [
       "\n",
       "    <div class=\"bk-root\">\n",
       "        <a href=\"http://bokeh.pydata.org\" target=\"_blank\" class=\"bk-logo bk-logo-small bk-logo-notebook\"></a>\n",
       "        <span id=\"3ee98daa-7e74-42a4-95f3-625374c22095\">Loading BokehJS ...</span>\n",
       "    </div>"
      ]
     },
     "metadata": {},
     "output_type": "display_data"
    },
    {
     "data": {
      "application/javascript": [
       "\n",
       "(function(global) {\n",
       "  function now() {\n",
       "    return new Date();\n",
       "  }\n",
       "\n",
       "  var force = true;\n",
       "\n",
       "  if (typeof (window._bokeh_onload_callbacks) === \"undefined\" || force === true) {\n",
       "    window._bokeh_onload_callbacks = [];\n",
       "    window._bokeh_is_loading = undefined;\n",
       "  }\n",
       "\n",
       "\n",
       "  \n",
       "  if (typeof (window._bokeh_timeout) === \"undefined\" || force === true) {\n",
       "    window._bokeh_timeout = Date.now() + 5000;\n",
       "    window._bokeh_failed_load = false;\n",
       "  }\n",
       "\n",
       "  var NB_LOAD_WARNING = {'data': {'text/html':\n",
       "     \"<div style='background-color: #fdd'>\\n\"+\n",
       "     \"<p>\\n\"+\n",
       "     \"BokehJS does not appear to have successfully loaded. If loading BokehJS from CDN, this \\n\"+\n",
       "     \"may be due to a slow or bad network connection. Possible fixes:\\n\"+\n",
       "     \"</p>\\n\"+\n",
       "     \"<ul>\\n\"+\n",
       "     \"<li>re-rerun `output_notebook()` to attempt to load from CDN again, or</li>\\n\"+\n",
       "     \"<li>use INLINE resources instead, as so:</li>\\n\"+\n",
       "     \"</ul>\\n\"+\n",
       "     \"<code>\\n\"+\n",
       "     \"from bokeh.resources import INLINE\\n\"+\n",
       "     \"output_notebook(resources=INLINE)\\n\"+\n",
       "     \"</code>\\n\"+\n",
       "     \"</div>\"}};\n",
       "\n",
       "  function display_loaded() {\n",
       "    if (window.Bokeh !== undefined) {\n",
       "      var el = document.getElementById(\"3ee98daa-7e74-42a4-95f3-625374c22095\");\n",
       "      el.textContent = \"BokehJS \" + Bokeh.version + \" successfully loaded.\";\n",
       "    } else if (Date.now() < window._bokeh_timeout) {\n",
       "      setTimeout(display_loaded, 100)\n",
       "    }\n",
       "  }\n",
       "\n",
       "  function run_callbacks() {\n",
       "    try {\n",
       "      window._bokeh_onload_callbacks.forEach(function(callback) { callback() });\n",
       "    }\n",
       "    finally {\n",
       "      delete window._bokeh_onload_callbacks\n",
       "    }\n",
       "    console.info(\"Bokeh: all callbacks have finished\");\n",
       "  }\n",
       "\n",
       "  function load_libs(js_urls, callback) {\n",
       "    window._bokeh_onload_callbacks.push(callback);\n",
       "    if (window._bokeh_is_loading > 0) {\n",
       "      console.log(\"Bokeh: BokehJS is being loaded, scheduling callback at\", now());\n",
       "      return null;\n",
       "    }\n",
       "    if (js_urls == null || js_urls.length === 0) {\n",
       "      run_callbacks();\n",
       "      return null;\n",
       "    }\n",
       "    console.log(\"Bokeh: BokehJS not loaded, scheduling load and callback at\", now());\n",
       "    window._bokeh_is_loading = js_urls.length;\n",
       "    for (var i = 0; i < js_urls.length; i++) {\n",
       "      var url = js_urls[i];\n",
       "      var s = document.createElement('script');\n",
       "      s.src = url;\n",
       "      s.async = false;\n",
       "      s.onreadystatechange = s.onload = function() {\n",
       "        window._bokeh_is_loading--;\n",
       "        if (window._bokeh_is_loading === 0) {\n",
       "          console.log(\"Bokeh: all BokehJS libraries loaded\");\n",
       "          run_callbacks()\n",
       "        }\n",
       "      };\n",
       "      s.onerror = function() {\n",
       "        console.warn(\"failed to load library \" + url);\n",
       "      };\n",
       "      console.log(\"Bokeh: injecting script tag for BokehJS library: \", url);\n",
       "      document.getElementsByTagName(\"head\")[0].appendChild(s);\n",
       "    }\n",
       "  };var element = document.getElementById(\"3ee98daa-7e74-42a4-95f3-625374c22095\");\n",
       "  if (element == null) {\n",
       "    console.log(\"Bokeh: ERROR: autoload.js configured with elementid '3ee98daa-7e74-42a4-95f3-625374c22095' but no matching script tag was found. \")\n",
       "    return false;\n",
       "  }\n",
       "\n",
       "  var js_urls = [\"https://cdn.pydata.org/bokeh/release/bokeh-0.12.6.min.js\", \"https://cdn.pydata.org/bokeh/release/bokeh-widgets-0.12.6.min.js\"];\n",
       "\n",
       "  var inline_js = [\n",
       "    function(Bokeh) {\n",
       "      Bokeh.set_log_level(\"info\");\n",
       "    },\n",
       "    \n",
       "    function(Bokeh) {\n",
       "      \n",
       "    },\n",
       "    \n",
       "    function(Bokeh) {\n",
       "      \n",
       "      document.getElementById(\"3ee98daa-7e74-42a4-95f3-625374c22095\").textContent = \"BokehJS is loading...\";\n",
       "    },\n",
       "    function(Bokeh) {\n",
       "      console.log(\"Bokeh: injecting CSS: https://cdn.pydata.org/bokeh/release/bokeh-0.12.6.min.css\");\n",
       "      Bokeh.embed.inject_css(\"https://cdn.pydata.org/bokeh/release/bokeh-0.12.6.min.css\");\n",
       "      console.log(\"Bokeh: injecting CSS: https://cdn.pydata.org/bokeh/release/bokeh-widgets-0.12.6.min.css\");\n",
       "      Bokeh.embed.inject_css(\"https://cdn.pydata.org/bokeh/release/bokeh-widgets-0.12.6.min.css\");\n",
       "    }\n",
       "  ];\n",
       "\n",
       "  function run_inline_js() {\n",
       "    \n",
       "    if ((window.Bokeh !== undefined) || (force === true)) {\n",
       "      for (var i = 0; i < inline_js.length; i++) {\n",
       "        inline_js[i](window.Bokeh);\n",
       "      }if (force === true) {\n",
       "        display_loaded();\n",
       "      }} else if (Date.now() < window._bokeh_timeout) {\n",
       "      setTimeout(run_inline_js, 100);\n",
       "    } else if (!window._bokeh_failed_load) {\n",
       "      console.log(\"Bokeh: BokehJS failed to load within specified timeout.\");\n",
       "      window._bokeh_failed_load = true;\n",
       "    } else if (force !== true) {\n",
       "      var cell = $(document.getElementById(\"3ee98daa-7e74-42a4-95f3-625374c22095\")).parents('.cell').data().cell;\n",
       "      cell.output_area.append_execute_result(NB_LOAD_WARNING)\n",
       "    }\n",
       "\n",
       "  }\n",
       "\n",
       "  if (window._bokeh_is_loading === 0) {\n",
       "    console.log(\"Bokeh: BokehJS loaded, going straight to plotting\");\n",
       "    run_inline_js();\n",
       "  } else {\n",
       "    load_libs(js_urls, function() {\n",
       "      console.log(\"Bokeh: BokehJS plotting callback run at\", now());\n",
       "      run_inline_js();\n",
       "    });\n",
       "  }\n",
       "}(this));"
      ]
     },
     "metadata": {},
     "output_type": "display_data"
    }
   ],
   "source": [
    "# Imports\n",
    "from SEDkit import sed, spectrum, synphot, catalog\n",
    "import astropy.units as q\n",
    "import numpy as np\n",
    "import copy\n",
    "from pkg_resources import resource_filename\n",
    "from bokeh.io import output_notebook, show\n",
    "output_notebook()"
   ]
  },
  {
   "cell_type": "markdown",
   "metadata": {},
   "source": [
    "First we initialize an empty catalog."
   ]
  },
  {
   "cell_type": "code",
   "execution_count": 28,
   "metadata": {
    "collapsed": false
   },
   "outputs": [],
   "source": [
    "# Make an SED catalog\n",
    "cat = catalog.Catalog()"
   ]
  },
  {
   "cell_type": "markdown",
   "metadata": {},
   "source": [
    "Now let's make a few SEDs"
   ]
  },
  {
   "cell_type": "code",
   "execution_count": 29,
   "metadata": {
    "collapsed": false
   },
   "outputs": [
    {
     "name": "stdout",
     "output_type": "stream",
     "text": [
      "Setting radius to (<Quantity 0.09415541971634411 solRad>, <Quantity 0.019640519289763958 solRad>)\n",
      "Setting age to (<Quantity 6.0 Gyr>, <Quantity 4.0 Gyr>)\n"
     ]
    }
   ],
   "source": [
    "# Make an SED\n",
    "s1 = sed.SED(parallax=(1.7474*q.mas, 0.0501*q.mas), spectral_type='L3', name='2MASS 261832886')\n",
    "s1.add_photometry_file(resource_filename('SEDkit', 'data/L3_photometry.txt'))\n",
    "cat.add_SED(s1)"
   ]
  },
  {
   "cell_type": "code",
   "execution_count": 30,
   "metadata": {
    "collapsed": false
   },
   "outputs": [],
   "source": [
    "# Make 10 other SEDs (I'll just change the parallax)\n",
    "for i in range(10):\n",
    "    s2 = copy.copy(s1)\n",
    "    s2.parallax = abs(np.random.normal(loc=1.7474, scale=0.1))*q.mas, 0.1*q.mas\n",
    "    s2.name += str(i)\n",
    "    cat.add_SED(s2)"
   ]
  },
  {
   "cell_type": "markdown",
   "metadata": {},
   "source": [
    "Then the (abridged) aggregated results look like this:"
   ]
  },
  {
   "cell_type": "code",
   "execution_count": 31,
   "metadata": {
    "collapsed": false
   },
   "outputs": [
    {
     "data": {
      "text/html": [
       "&lt;Table length=11&gt;\n",
       "<table id=\"table4433048240\" class=\"table-striped table-bordered table-condensed\">\n",
       "<thead><tr><th>name</th><th>distance</th><th>distance_unc</th><th>Lbol_sun</th><th>Lbol_sun_unc</th><th>Teff</th><th>Teff_unc</th></tr></thead>\n",
       "<thead><tr><th></th><th>pc</th><th>pc</th><th></th><th></th><th>K</th><th>K</th></tr></thead>\n",
       "<thead><tr><th>object</th><th>object</th><th>object</th><th>object</th><th>object</th><th>object</th><th>object</th></tr></thead>\n",
       "<tr><td>2MASS 261832886</td><td>572.28</td><td>16.41</td><td>-0.317</td><td>0.025</td><td>15675.0</td><td>1650.0</td></tr>\n",
       "<tr><td>2MASS 2618328860</td><td>561.88</td><td>31.57</td><td>-0.333</td><td>0.049</td><td>15532.0</td><td>1678.0</td></tr>\n",
       "<tr><td>2MASS 2618328861</td><td>584.42</td><td>34.15</td><td>-0.299</td><td>0.051</td><td>15840.0</td><td>1716.0</td></tr>\n",
       "<tr><td>2MASS 2618328862</td><td>591.87</td><td>35.03</td><td>-0.288</td><td>0.052</td><td>15941.0</td><td>1728.0</td></tr>\n",
       "<tr><td>2MASS 2618328863</td><td>517.96</td><td>26.83</td><td>-0.403</td><td>0.045</td><td>14912.0</td><td>1603.0</td></tr>\n",
       "<tr><td>2MASS 2618328864</td><td>542.83</td><td>29.47</td><td>-0.363</td><td>0.047</td><td>15266.0</td><td>1645.0</td></tr>\n",
       "<tr><td>2MASS 2618328865</td><td>623.11</td><td>38.83</td><td>-0.243</td><td>0.054</td><td>16356.0</td><td>1781.0</td></tr>\n",
       "<tr><td>2MASS 2618328866</td><td>574.95</td><td>33.06</td><td>-0.313</td><td>0.05</td><td>15711.0</td><td>1700.0</td></tr>\n",
       "<tr><td>2MASS 2618328867</td><td>568.19</td><td>32.28</td><td>-0.323</td><td>0.05</td><td>15619.0</td><td>1689.0</td></tr>\n",
       "<tr><td>2MASS 2618328868</td><td>539.02</td><td>29.05</td><td>-0.369</td><td>0.047</td><td>15212.0</td><td>1639.0</td></tr>\n",
       "<tr><td>2MASS 2618328869</td><td>603.32</td><td>36.4</td><td>-0.271</td><td>0.053</td><td>16094.0</td><td>1748.0</td></tr>\n",
       "</table>"
      ],
      "text/plain": [
       "<Table length=11>\n",
       "      name       distance distance_unc Lbol_sun Lbol_sun_unc   Teff  Teff_unc\n",
       "                    pc         pc                               K       K    \n",
       "     object       object     object     object     object     object  object \n",
       "---------------- -------- ------------ -------- ------------ ------- --------\n",
       " 2MASS 261832886   572.28        16.41   -0.317        0.025 15675.0   1650.0\n",
       "2MASS 2618328860   561.88        31.57   -0.333        0.049 15532.0   1678.0\n",
       "2MASS 2618328861   584.42        34.15   -0.299        0.051 15840.0   1716.0\n",
       "2MASS 2618328862   591.87        35.03   -0.288        0.052 15941.0   1728.0\n",
       "2MASS 2618328863   517.96        26.83   -0.403        0.045 14912.0   1603.0\n",
       "2MASS 2618328864   542.83        29.47   -0.363        0.047 15266.0   1645.0\n",
       "2MASS 2618328865   623.11        38.83   -0.243        0.054 16356.0   1781.0\n",
       "2MASS 2618328866   574.95        33.06   -0.313         0.05 15711.0   1700.0\n",
       "2MASS 2618328867   568.19        32.28   -0.323         0.05 15619.0   1689.0\n",
       "2MASS 2618328868   539.02        29.05   -0.369        0.047 15212.0   1639.0\n",
       "2MASS 2618328869   603.32         36.4   -0.271        0.053 16094.0   1748.0"
      ]
     },
     "execution_count": 31,
     "metadata": {},
     "output_type": "execute_result"
    }
   ],
   "source": [
    "cat.results[['name','distance','distance_unc','Lbol_sun','Lbol_sun_unc','Teff','Teff_unc']]"
   ]
  },
  {
   "cell_type": "markdown",
   "metadata": {},
   "source": [
    "We can also plot the results by passing the `plot` method two column names."
   ]
  },
  {
   "cell_type": "code",
   "execution_count": 32,
   "metadata": {
    "collapsed": false
   },
   "outputs": [
    {
     "data": {
      "text/html": [
       "\n",
       "\n",
       "    <div class=\"bk-root\">\n",
       "        <div class=\"bk-plotdiv\" id=\"456efbe6-f6a4-4fac-84e5-0b547463a946\"></div>\n",
       "    </div>\n",
       "<script type=\"text/javascript\">\n",
       "  \n",
       "  (function(global) {\n",
       "    function now() {\n",
       "      return new Date();\n",
       "    }\n",
       "  \n",
       "    var force = false;\n",
       "  \n",
       "    if (typeof (window._bokeh_onload_callbacks) === \"undefined\" || force === true) {\n",
       "      window._bokeh_onload_callbacks = [];\n",
       "      window._bokeh_is_loading = undefined;\n",
       "    }\n",
       "  \n",
       "  \n",
       "    \n",
       "    if (typeof (window._bokeh_timeout) === \"undefined\" || force === true) {\n",
       "      window._bokeh_timeout = Date.now() + 0;\n",
       "      window._bokeh_failed_load = false;\n",
       "    }\n",
       "  \n",
       "    var NB_LOAD_WARNING = {'data': {'text/html':\n",
       "       \"<div style='background-color: #fdd'>\\n\"+\n",
       "       \"<p>\\n\"+\n",
       "       \"BokehJS does not appear to have successfully loaded. If loading BokehJS from CDN, this \\n\"+\n",
       "       \"may be due to a slow or bad network connection. Possible fixes:\\n\"+\n",
       "       \"</p>\\n\"+\n",
       "       \"<ul>\\n\"+\n",
       "       \"<li>re-rerun `output_notebook()` to attempt to load from CDN again, or</li>\\n\"+\n",
       "       \"<li>use INLINE resources instead, as so:</li>\\n\"+\n",
       "       \"</ul>\\n\"+\n",
       "       \"<code>\\n\"+\n",
       "       \"from bokeh.resources import INLINE\\n\"+\n",
       "       \"output_notebook(resources=INLINE)\\n\"+\n",
       "       \"</code>\\n\"+\n",
       "       \"</div>\"}};\n",
       "  \n",
       "    function display_loaded() {\n",
       "      if (window.Bokeh !== undefined) {\n",
       "        var el = document.getElementById(\"456efbe6-f6a4-4fac-84e5-0b547463a946\");\n",
       "        el.textContent = \"BokehJS \" + Bokeh.version + \" successfully loaded.\";\n",
       "      } else if (Date.now() < window._bokeh_timeout) {\n",
       "        setTimeout(display_loaded, 100)\n",
       "      }\n",
       "    }\n",
       "  \n",
       "    function run_callbacks() {\n",
       "      try {\n",
       "        window._bokeh_onload_callbacks.forEach(function(callback) { callback() });\n",
       "      }\n",
       "      finally {\n",
       "        delete window._bokeh_onload_callbacks\n",
       "      }\n",
       "      console.info(\"Bokeh: all callbacks have finished\");\n",
       "    }\n",
       "  \n",
       "    function load_libs(js_urls, callback) {\n",
       "      window._bokeh_onload_callbacks.push(callback);\n",
       "      if (window._bokeh_is_loading > 0) {\n",
       "        console.log(\"Bokeh: BokehJS is being loaded, scheduling callback at\", now());\n",
       "        return null;\n",
       "      }\n",
       "      if (js_urls == null || js_urls.length === 0) {\n",
       "        run_callbacks();\n",
       "        return null;\n",
       "      }\n",
       "      console.log(\"Bokeh: BokehJS not loaded, scheduling load and callback at\", now());\n",
       "      window._bokeh_is_loading = js_urls.length;\n",
       "      for (var i = 0; i < js_urls.length; i++) {\n",
       "        var url = js_urls[i];\n",
       "        var s = document.createElement('script');\n",
       "        s.src = url;\n",
       "        s.async = false;\n",
       "        s.onreadystatechange = s.onload = function() {\n",
       "          window._bokeh_is_loading--;\n",
       "          if (window._bokeh_is_loading === 0) {\n",
       "            console.log(\"Bokeh: all BokehJS libraries loaded\");\n",
       "            run_callbacks()\n",
       "          }\n",
       "        };\n",
       "        s.onerror = function() {\n",
       "          console.warn(\"failed to load library \" + url);\n",
       "        };\n",
       "        console.log(\"Bokeh: injecting script tag for BokehJS library: \", url);\n",
       "        document.getElementsByTagName(\"head\")[0].appendChild(s);\n",
       "      }\n",
       "    };var element = document.getElementById(\"456efbe6-f6a4-4fac-84e5-0b547463a946\");\n",
       "    if (element == null) {\n",
       "      console.log(\"Bokeh: ERROR: autoload.js configured with elementid '456efbe6-f6a4-4fac-84e5-0b547463a946' but no matching script tag was found. \")\n",
       "      return false;\n",
       "    }\n",
       "  \n",
       "    var js_urls = [];\n",
       "  \n",
       "    var inline_js = [\n",
       "      function(Bokeh) {\n",
       "        (function() {\n",
       "          var fn = function() {\n",
       "            var docs_json = {\"685e9f7e-0afd-463f-8d63-c96d19b0a745\":{\"roots\":{\"references\":[{\"attributes\":{\"callback\":null,\"plot\":{\"id\":\"62568200-115f-422b-8664-83d85b5a7d19\",\"subtype\":\"Figure\",\"type\":\"Plot\"},\"tooltips\":[[\"Name\",\"@desc\"],[\"distance\",\"@x\"],[\"Teff\",\"@y\"]]},\"id\":\"e06e5383-c421-4950-b6ec-fe87568af976\",\"type\":\"HoverTool\"},{\"attributes\":{},\"id\":\"350a98cd-404d-42a2-adbf-32cd4f4ddd35\",\"type\":\"BasicTicker\"},{\"attributes\":{},\"id\":\"82170ec8-4670-4dc5-8aeb-1d0dbcea9046\",\"type\":\"BasicTicker\"},{\"attributes\":{\"overlay\":{\"id\":\"cfcd719c-0d00-4d95-9d3e-4636de3de453\",\"type\":\"BoxAnnotation\"},\"plot\":{\"id\":\"62568200-115f-422b-8664-83d85b5a7d19\",\"subtype\":\"Figure\",\"type\":\"Plot\"}},\"id\":\"7f50f3a0-deae-4739-b6da-2c9d5952ca77\",\"type\":\"BoxZoomTool\"},{\"attributes\":{\"fill_alpha\":{\"value\":0.1},\"fill_color\":{\"value\":\"#1f77b4\"},\"line_alpha\":{\"value\":0.1},\"line_color\":{\"value\":\"#1f77b4\"},\"size\":{\"units\":\"screen\",\"value\":8},\"x\":{\"field\":\"x\"},\"y\":{\"field\":\"y\"}},\"id\":\"d1a72fae-4107-4214-acee-dad9457ff310\",\"type\":\"Circle\"},{\"attributes\":{\"plot\":{\"id\":\"62568200-115f-422b-8664-83d85b5a7d19\",\"subtype\":\"Figure\",\"type\":\"Plot\"}},\"id\":\"255fff5a-025d-40e9-b4e6-40ebb3658e3e\",\"type\":\"ResizeTool\"},{\"attributes\":{\"callback\":null,\"column_names\":[\"y\",\"desc\",\"x\"],\"data\":{\"desc\":[\"2MASS 261832886\",\"2MASS 2618328860\",\"2MASS 2618328861\",\"2MASS 2618328862\",\"2MASS 2618328863\",\"2MASS 2618328864\",\"2MASS 2618328865\",\"2MASS 2618328866\",\"2MASS 2618328867\",\"2MASS 2618328868\",\"2MASS 2618328869\"],\"x\":[572.28,561.88,584.42,591.87,517.96,542.83,623.11,574.95,568.19,539.02,603.32],\"y\":[15675.0,15532.0,15840.0,15941.0,14912.0,15266.0,16356.0,15711.0,15619.0,15212.0,16094.0]}},\"id\":\"29045ab7-23e6-4d06-8af1-399f8d6e24f2\",\"type\":\"ColumnDataSource\"},{\"attributes\":{\"plot\":{\"id\":\"62568200-115f-422b-8664-83d85b5a7d19\",\"subtype\":\"Figure\",\"type\":\"Plot\"}},\"id\":\"620ea414-c708-4b1e-8415-67c0daeee22b\",\"type\":\"SaveTool\"},{\"attributes\":{\"active_drag\":\"auto\",\"active_inspect\":\"auto\",\"active_scroll\":\"auto\",\"active_tap\":\"auto\",\"tools\":[{\"id\":\"3940edd4-e0aa-43d4-bb6c-4758d78e581d\",\"type\":\"PanTool\"},{\"id\":\"255fff5a-025d-40e9-b4e6-40ebb3658e3e\",\"type\":\"ResizeTool\"},{\"id\":\"ddf30a38-e3a3-4466-8b71-c63df2c3873d\",\"type\":\"ResetTool\"},{\"id\":\"7f50f3a0-deae-4739-b6da-2c9d5952ca77\",\"type\":\"BoxZoomTool\"},{\"id\":\"620ea414-c708-4b1e-8415-67c0daeee22b\",\"type\":\"SaveTool\"},{\"id\":\"e06e5383-c421-4950-b6ec-fe87568af976\",\"type\":\"HoverTool\"}]},\"id\":\"9be2d0b7-53a0-43ff-847a-3fc98bf75dc0\",\"type\":\"Toolbar\"},{\"attributes\":{},\"id\":\"4863a71f-82f8-40a4-8f45-52c8e27d9fc9\",\"type\":\"ToolEvents\"},{\"attributes\":{\"bottom_units\":\"screen\",\"fill_alpha\":{\"value\":0.5},\"fill_color\":{\"value\":\"lightgrey\"},\"left_units\":\"screen\",\"level\":\"overlay\",\"line_alpha\":{\"value\":1.0},\"line_color\":{\"value\":\"black\"},\"line_dash\":[4,4],\"line_width\":{\"value\":2},\"plot\":null,\"render_mode\":\"css\",\"right_units\":\"screen\",\"top_units\":\"screen\"},\"id\":\"cfcd719c-0d00-4d95-9d3e-4636de3de453\",\"type\":\"BoxAnnotation\"},{\"attributes\":{\"dimension\":1,\"plot\":{\"id\":\"62568200-115f-422b-8664-83d85b5a7d19\",\"subtype\":\"Figure\",\"type\":\"Plot\"},\"ticker\":{\"id\":\"82170ec8-4670-4dc5-8aeb-1d0dbcea9046\",\"type\":\"BasicTicker\"}},\"id\":\"75f0a9e6-4bed-427b-a814-268ddcf2e6d6\",\"type\":\"Grid\"},{\"attributes\":{},\"id\":\"6b58f277-0bb6-4f5a-bf4a-d3602fa49b52\",\"type\":\"LinearScale\"},{\"attributes\":{\"callback\":null},\"id\":\"4ff3fd56-0862-4748-9222-af52a389a2d5\",\"type\":\"DataRange1d\"},{\"attributes\":{},\"id\":\"7137b652-ee65-4837-822c-b721324eb8e9\",\"type\":\"BasicTickFormatter\"},{\"attributes\":{\"axis_label\":\"distance [pc]\",\"formatter\":{\"id\":\"65a79975-dfda-4958-9a56-b5935d7a4688\",\"type\":\"BasicTickFormatter\"},\"plot\":{\"id\":\"62568200-115f-422b-8664-83d85b5a7d19\",\"subtype\":\"Figure\",\"type\":\"Plot\"},\"ticker\":{\"id\":\"350a98cd-404d-42a2-adbf-32cd4f4ddd35\",\"type\":\"BasicTicker\"}},\"id\":\"ad5fc661-ac12-4ed8-9652-67c8cdd830b4\",\"type\":\"LinearAxis\"},{\"attributes\":{\"plot\":{\"id\":\"62568200-115f-422b-8664-83d85b5a7d19\",\"subtype\":\"Figure\",\"type\":\"Plot\"}},\"id\":\"ddf30a38-e3a3-4466-8b71-c63df2c3873d\",\"type\":\"ResetTool\"},{\"attributes\":{\"callback\":null},\"id\":\"37f72fcd-a950-4f6e-9299-0277449adfd0\",\"type\":\"DataRange1d\"},{\"attributes\":{\"plot\":{\"id\":\"62568200-115f-422b-8664-83d85b5a7d19\",\"subtype\":\"Figure\",\"type\":\"Plot\"},\"ticker\":{\"id\":\"350a98cd-404d-42a2-adbf-32cd4f4ddd35\",\"type\":\"BasicTicker\"}},\"id\":\"90521c35-19b0-46df-95d2-ac5e405a643b\",\"type\":\"Grid\"},{\"attributes\":{\"axis_label\":\"Teff [K]\",\"formatter\":{\"id\":\"7137b652-ee65-4837-822c-b721324eb8e9\",\"type\":\"BasicTickFormatter\"},\"plot\":{\"id\":\"62568200-115f-422b-8664-83d85b5a7d19\",\"subtype\":\"Figure\",\"type\":\"Plot\"},\"ticker\":{\"id\":\"82170ec8-4670-4dc5-8aeb-1d0dbcea9046\",\"type\":\"BasicTicker\"}},\"id\":\"e90d14d1-5b0a-4461-a06a-a68b81756592\",\"type\":\"LinearAxis\"},{\"attributes\":{\"plot\":null,\"text\":\"distance v Teff\"},\"id\":\"5d02f190-f70f-47f1-b5a2-f89d0c817800\",\"type\":\"Title\"},{\"attributes\":{\"label\":{\"value\":\"SED Catalog\"},\"renderers\":[{\"id\":\"25db54f6-7a9f-4616-aa34-b0af6412e71e\",\"type\":\"GlyphRenderer\"}]},\"id\":\"57b6a762-3f99-4c5d-9990-0006648eceaf\",\"type\":\"LegendItem\"},{\"attributes\":{\"below\":[{\"id\":\"ad5fc661-ac12-4ed8-9652-67c8cdd830b4\",\"type\":\"LinearAxis\"}],\"left\":[{\"id\":\"e90d14d1-5b0a-4461-a06a-a68b81756592\",\"type\":\"LinearAxis\"}],\"plot_height\":500,\"plot_width\":800,\"renderers\":[{\"id\":\"ad5fc661-ac12-4ed8-9652-67c8cdd830b4\",\"type\":\"LinearAxis\"},{\"id\":\"90521c35-19b0-46df-95d2-ac5e405a643b\",\"type\":\"Grid\"},{\"id\":\"e90d14d1-5b0a-4461-a06a-a68b81756592\",\"type\":\"LinearAxis\"},{\"id\":\"75f0a9e6-4bed-427b-a814-268ddcf2e6d6\",\"type\":\"Grid\"},{\"id\":\"cfcd719c-0d00-4d95-9d3e-4636de3de453\",\"type\":\"BoxAnnotation\"},{\"id\":\"55989045-4779-4f2f-b2a5-65b8f7252129\",\"type\":\"Legend\"},{\"id\":\"25db54f6-7a9f-4616-aa34-b0af6412e71e\",\"type\":\"GlyphRenderer\"}],\"title\":{\"id\":\"5d02f190-f70f-47f1-b5a2-f89d0c817800\",\"type\":\"Title\"},\"tool_events\":{\"id\":\"4863a71f-82f8-40a4-8f45-52c8e27d9fc9\",\"type\":\"ToolEvents\"},\"toolbar\":{\"id\":\"9be2d0b7-53a0-43ff-847a-3fc98bf75dc0\",\"type\":\"Toolbar\"},\"x_range\":{\"id\":\"4ff3fd56-0862-4748-9222-af52a389a2d5\",\"type\":\"DataRange1d\"},\"x_scale\":{\"id\":\"6b58f277-0bb6-4f5a-bf4a-d3602fa49b52\",\"type\":\"LinearScale\"},\"y_range\":{\"id\":\"37f72fcd-a950-4f6e-9299-0277449adfd0\",\"type\":\"DataRange1d\"},\"y_scale\":{\"id\":\"db2e23ff-a304-4a18-adc4-caca5676084a\",\"type\":\"LinearScale\"}},\"id\":\"62568200-115f-422b-8664-83d85b5a7d19\",\"subtype\":\"Figure\",\"type\":\"Plot\"},{\"attributes\":{},\"id\":\"db2e23ff-a304-4a18-adc4-caca5676084a\",\"type\":\"LinearScale\"},{\"attributes\":{\"plot\":{\"id\":\"62568200-115f-422b-8664-83d85b5a7d19\",\"subtype\":\"Figure\",\"type\":\"Plot\"}},\"id\":\"3940edd4-e0aa-43d4-bb6c-4758d78e581d\",\"type\":\"PanTool\"},{\"attributes\":{\"click_policy\":\"hide\",\"items\":[{\"id\":\"57b6a762-3f99-4c5d-9990-0006648eceaf\",\"type\":\"LegendItem\"}],\"plot\":{\"id\":\"62568200-115f-422b-8664-83d85b5a7d19\",\"subtype\":\"Figure\",\"type\":\"Plot\"}},\"id\":\"55989045-4779-4f2f-b2a5-65b8f7252129\",\"type\":\"Legend\"},{\"attributes\":{\"data_source\":{\"id\":\"29045ab7-23e6-4d06-8af1-399f8d6e24f2\",\"type\":\"ColumnDataSource\"},\"glyph\":{\"id\":\"4695e0ff-c4ae-44ad-af25-fb5425bcfc9d\",\"type\":\"Circle\"},\"hover_glyph\":null,\"muted_glyph\":null,\"name\":\"photometry\",\"nonselection_glyph\":{\"id\":\"d1a72fae-4107-4214-acee-dad9457ff310\",\"type\":\"Circle\"},\"selection_glyph\":null},\"id\":\"25db54f6-7a9f-4616-aa34-b0af6412e71e\",\"type\":\"GlyphRenderer\"},{\"attributes\":{},\"id\":\"65a79975-dfda-4958-9a56-b5935d7a4688\",\"type\":\"BasicTickFormatter\"},{\"attributes\":{\"fill_alpha\":{\"value\":0.7},\"fill_color\":{\"value\":\"blue\"},\"line_color\":{\"value\":\"blue\"},\"size\":{\"units\":\"screen\",\"value\":8},\"x\":{\"field\":\"x\"},\"y\":{\"field\":\"y\"}},\"id\":\"4695e0ff-c4ae-44ad-af25-fb5425bcfc9d\",\"type\":\"Circle\"}],\"root_ids\":[\"62568200-115f-422b-8664-83d85b5a7d19\"]},\"title\":\"Bokeh Application\",\"version\":\"0.12.6\"}};\n",
       "            var render_items = [{\"docid\":\"685e9f7e-0afd-463f-8d63-c96d19b0a745\",\"elementid\":\"456efbe6-f6a4-4fac-84e5-0b547463a946\",\"modelid\":\"62568200-115f-422b-8664-83d85b5a7d19\"}];\n",
       "            \n",
       "            Bokeh.embed.embed_items(docs_json, render_items);\n",
       "          };\n",
       "          if (document.readyState != \"loading\") fn();\n",
       "          else document.addEventListener(\"DOMContentLoaded\", fn);\n",
       "        })();\n",
       "      },\n",
       "      function(Bokeh) {\n",
       "      }\n",
       "    ];\n",
       "  \n",
       "    function run_inline_js() {\n",
       "      \n",
       "      if ((window.Bokeh !== undefined) || (force === true)) {\n",
       "        for (var i = 0; i < inline_js.length; i++) {\n",
       "          inline_js[i](window.Bokeh);\n",
       "        }if (force === true) {\n",
       "          display_loaded();\n",
       "        }} else if (Date.now() < window._bokeh_timeout) {\n",
       "        setTimeout(run_inline_js, 100);\n",
       "      } else if (!window._bokeh_failed_load) {\n",
       "        console.log(\"Bokeh: BokehJS failed to load within specified timeout.\");\n",
       "        window._bokeh_failed_load = true;\n",
       "      } else if (force !== true) {\n",
       "        var cell = $(document.getElementById(\"456efbe6-f6a4-4fac-84e5-0b547463a946\")).parents('.cell').data().cell;\n",
       "        cell.output_area.append_execute_result(NB_LOAD_WARNING)\n",
       "      }\n",
       "  \n",
       "    }\n",
       "  \n",
       "    if (window._bokeh_is_loading === 0) {\n",
       "      console.log(\"Bokeh: BokehJS loaded, going straight to plotting\");\n",
       "      run_inline_js();\n",
       "    } else {\n",
       "      load_libs(js_urls, function() {\n",
       "        console.log(\"Bokeh: BokehJS plotting callback run at\", now());\n",
       "        run_inline_js();\n",
       "      });\n",
       "    }\n",
       "  }(this));\n",
       "</script>"
      ]
     },
     "metadata": {},
     "output_type": "display_data"
    }
   ],
   "source": [
    "show(cat.plot('distance', 'Teff'))"
   ]
  },
  {
   "cell_type": "markdown",
   "metadata": {},
   "source": [
    "Or plot a CMD! You can also pass the difference of two magnitudes as a string like so."
   ]
  },
  {
   "cell_type": "code",
   "execution_count": 33,
   "metadata": {
    "collapsed": false
   },
   "outputs": [
    {
     "data": {
      "text/html": [
       "\n",
       "\n",
       "    <div class=\"bk-root\">\n",
       "        <div class=\"bk-plotdiv\" id=\"4f4e25f5-7ae3-4ff9-b0e7-9499536bd04e\"></div>\n",
       "    </div>\n",
       "<script type=\"text/javascript\">\n",
       "  \n",
       "  (function(global) {\n",
       "    function now() {\n",
       "      return new Date();\n",
       "    }\n",
       "  \n",
       "    var force = false;\n",
       "  \n",
       "    if (typeof (window._bokeh_onload_callbacks) === \"undefined\" || force === true) {\n",
       "      window._bokeh_onload_callbacks = [];\n",
       "      window._bokeh_is_loading = undefined;\n",
       "    }\n",
       "  \n",
       "  \n",
       "    \n",
       "    if (typeof (window._bokeh_timeout) === \"undefined\" || force === true) {\n",
       "      window._bokeh_timeout = Date.now() + 0;\n",
       "      window._bokeh_failed_load = false;\n",
       "    }\n",
       "  \n",
       "    var NB_LOAD_WARNING = {'data': {'text/html':\n",
       "       \"<div style='background-color: #fdd'>\\n\"+\n",
       "       \"<p>\\n\"+\n",
       "       \"BokehJS does not appear to have successfully loaded. If loading BokehJS from CDN, this \\n\"+\n",
       "       \"may be due to a slow or bad network connection. Possible fixes:\\n\"+\n",
       "       \"</p>\\n\"+\n",
       "       \"<ul>\\n\"+\n",
       "       \"<li>re-rerun `output_notebook()` to attempt to load from CDN again, or</li>\\n\"+\n",
       "       \"<li>use INLINE resources instead, as so:</li>\\n\"+\n",
       "       \"</ul>\\n\"+\n",
       "       \"<code>\\n\"+\n",
       "       \"from bokeh.resources import INLINE\\n\"+\n",
       "       \"output_notebook(resources=INLINE)\\n\"+\n",
       "       \"</code>\\n\"+\n",
       "       \"</div>\"}};\n",
       "  \n",
       "    function display_loaded() {\n",
       "      if (window.Bokeh !== undefined) {\n",
       "        var el = document.getElementById(\"4f4e25f5-7ae3-4ff9-b0e7-9499536bd04e\");\n",
       "        el.textContent = \"BokehJS \" + Bokeh.version + \" successfully loaded.\";\n",
       "      } else if (Date.now() < window._bokeh_timeout) {\n",
       "        setTimeout(display_loaded, 100)\n",
       "      }\n",
       "    }\n",
       "  \n",
       "    function run_callbacks() {\n",
       "      try {\n",
       "        window._bokeh_onload_callbacks.forEach(function(callback) { callback() });\n",
       "      }\n",
       "      finally {\n",
       "        delete window._bokeh_onload_callbacks\n",
       "      }\n",
       "      console.info(\"Bokeh: all callbacks have finished\");\n",
       "    }\n",
       "  \n",
       "    function load_libs(js_urls, callback) {\n",
       "      window._bokeh_onload_callbacks.push(callback);\n",
       "      if (window._bokeh_is_loading > 0) {\n",
       "        console.log(\"Bokeh: BokehJS is being loaded, scheduling callback at\", now());\n",
       "        return null;\n",
       "      }\n",
       "      if (js_urls == null || js_urls.length === 0) {\n",
       "        run_callbacks();\n",
       "        return null;\n",
       "      }\n",
       "      console.log(\"Bokeh: BokehJS not loaded, scheduling load and callback at\", now());\n",
       "      window._bokeh_is_loading = js_urls.length;\n",
       "      for (var i = 0; i < js_urls.length; i++) {\n",
       "        var url = js_urls[i];\n",
       "        var s = document.createElement('script');\n",
       "        s.src = url;\n",
       "        s.async = false;\n",
       "        s.onreadystatechange = s.onload = function() {\n",
       "          window._bokeh_is_loading--;\n",
       "          if (window._bokeh_is_loading === 0) {\n",
       "            console.log(\"Bokeh: all BokehJS libraries loaded\");\n",
       "            run_callbacks()\n",
       "          }\n",
       "        };\n",
       "        s.onerror = function() {\n",
       "          console.warn(\"failed to load library \" + url);\n",
       "        };\n",
       "        console.log(\"Bokeh: injecting script tag for BokehJS library: \", url);\n",
       "        document.getElementsByTagName(\"head\")[0].appendChild(s);\n",
       "      }\n",
       "    };var element = document.getElementById(\"4f4e25f5-7ae3-4ff9-b0e7-9499536bd04e\");\n",
       "    if (element == null) {\n",
       "      console.log(\"Bokeh: ERROR: autoload.js configured with elementid '4f4e25f5-7ae3-4ff9-b0e7-9499536bd04e' but no matching script tag was found. \")\n",
       "      return false;\n",
       "    }\n",
       "  \n",
       "    var js_urls = [];\n",
       "  \n",
       "    var inline_js = [\n",
       "      function(Bokeh) {\n",
       "        (function() {\n",
       "          var fn = function() {\n",
       "            var docs_json = {\"5ef6cc03-ac14-426b-9c9c-087101f2e30a\":{\"roots\":{\"references\":[{\"attributes\":{},\"id\":\"30ef96cc-05df-4596-b192-ba9546dc44ef\",\"type\":\"BasicTicker\"},{\"attributes\":{\"plot\":null,\"text\":\"2MASS.J-2MASS.Ks v M_2MASS.J\"},\"id\":\"d0c891b5-3145-4692-a740-af01647ee55f\",\"type\":\"Title\"},{\"attributes\":{},\"id\":\"dec43c12-ebc2-4a85-b13d-b524dbad5108\",\"type\":\"BasicTickFormatter\"},{\"attributes\":{},\"id\":\"c39b2dea-e858-4058-8356-e5dcd081a237\",\"type\":\"BasicTickFormatter\"},{\"attributes\":{\"label\":{\"value\":\"SED Catalog\"},\"renderers\":[{\"id\":\"5c0cf488-677c-4203-b55d-a3edd8cae67e\",\"type\":\"GlyphRenderer\"}]},\"id\":\"4a5c7ccc-638b-48db-b104-ce5675cd3049\",\"type\":\"LegendItem\"},{\"attributes\":{\"fill_alpha\":{\"value\":0.7},\"fill_color\":{\"value\":\"blue\"},\"line_color\":{\"value\":\"blue\"},\"size\":{\"units\":\"screen\",\"value\":8},\"x\":{\"field\":\"x\"},\"y\":{\"field\":\"y\"}},\"id\":\"84092304-6d88-49f7-8936-f775e26e6202\",\"type\":\"Circle\"},{\"attributes\":{\"active_drag\":\"auto\",\"active_inspect\":\"auto\",\"active_scroll\":\"auto\",\"active_tap\":\"auto\",\"tools\":[{\"id\":\"a2a93809-5e76-4cf2-aeed-a83bc412f641\",\"type\":\"PanTool\"},{\"id\":\"a6264a7a-0a23-4971-ab1b-63d45df055bd\",\"type\":\"ResizeTool\"},{\"id\":\"639c6bfd-6f2e-4936-921f-d046d7b7f388\",\"type\":\"ResetTool\"},{\"id\":\"3681cd98-5edf-4045-9105-e1af1d35bcad\",\"type\":\"BoxZoomTool\"},{\"id\":\"02eb46a7-9129-4d15-8fdd-67fd585085d1\",\"type\":\"SaveTool\"},{\"id\":\"933c74bf-af9b-4486-a9f0-3709b63486d6\",\"type\":\"HoverTool\"}]},\"id\":\"eb8d7890-6270-40b3-8b24-36a707b7e5e6\",\"type\":\"Toolbar\"},{\"attributes\":{},\"id\":\"190a6751-86cf-4e5c-a816-5d573f20e0f4\",\"type\":\"LinearScale\"},{\"attributes\":{\"plot\":{\"id\":\"1bc08e1f-a342-4588-ae79-9fd6b69c3369\",\"subtype\":\"Figure\",\"type\":\"Plot\"}},\"id\":\"a6264a7a-0a23-4971-ab1b-63d45df055bd\",\"type\":\"ResizeTool\"},{\"attributes\":{\"callback\":null},\"id\":\"07ade23f-7479-4cf0-954f-c78a58600962\",\"type\":\"DataRange1d\"},{\"attributes\":{\"data_source\":{\"id\":\"4f5deeae-95b4-4586-bbe5-db30b92dfeb7\",\"type\":\"ColumnDataSource\"},\"glyph\":{\"id\":\"84092304-6d88-49f7-8936-f775e26e6202\",\"type\":\"Circle\"},\"hover_glyph\":null,\"muted_glyph\":null,\"name\":\"photometry\",\"nonselection_glyph\":{\"id\":\"76f221eb-b84d-4cd1-840b-e313f62d024d\",\"type\":\"Circle\"},\"selection_glyph\":null},\"id\":\"5c0cf488-677c-4203-b55d-a3edd8cae67e\",\"type\":\"GlyphRenderer\"},{\"attributes\":{\"plot\":{\"id\":\"1bc08e1f-a342-4588-ae79-9fd6b69c3369\",\"subtype\":\"Figure\",\"type\":\"Plot\"}},\"id\":\"02eb46a7-9129-4d15-8fdd-67fd585085d1\",\"type\":\"SaveTool\"},{\"attributes\":{},\"id\":\"e009d7b1-1467-4f9e-a488-5c130ab6e95c\",\"type\":\"ToolEvents\"},{\"attributes\":{\"axis_label\":\"M_2MASS.J\",\"formatter\":{\"id\":\"dec43c12-ebc2-4a85-b13d-b524dbad5108\",\"type\":\"BasicTickFormatter\"},\"plot\":{\"id\":\"1bc08e1f-a342-4588-ae79-9fd6b69c3369\",\"subtype\":\"Figure\",\"type\":\"Plot\"},\"ticker\":{\"id\":\"30ef96cc-05df-4596-b192-ba9546dc44ef\",\"type\":\"BasicTicker\"}},\"id\":\"7483f4ec-2afc-4582-84cc-8a5d54fed1d3\",\"type\":\"LinearAxis\"},{\"attributes\":{\"fill_alpha\":{\"value\":0.1},\"fill_color\":{\"value\":\"#1f77b4\"},\"line_alpha\":{\"value\":0.1},\"line_color\":{\"value\":\"#1f77b4\"},\"size\":{\"units\":\"screen\",\"value\":8},\"x\":{\"field\":\"x\"},\"y\":{\"field\":\"y\"}},\"id\":\"76f221eb-b84d-4cd1-840b-e313f62d024d\",\"type\":\"Circle\"},{\"attributes\":{\"callback\":null,\"column_names\":[\"y\",\"desc\",\"x\"],\"data\":{\"desc\":[\"2MASS 261832886\",\"2MASS 2618328860\",\"2MASS 2618328861\",\"2MASS 2618328862\",\"2MASS 2618328863\",\"2MASS 2618328864\",\"2MASS 2618328865\",\"2MASS 2618328866\",\"2MASS 2618328867\",\"2MASS 2618328868\",\"2MASS 2618328869\"],\"x\":[1.4140625,1.4140625,1.4140625,1.4140625,1.4140625,1.4140625,1.4140625,1.4140625,1.4140625,1.4140625,1.4140625],\"y\":[3.6796875,3.71875,3.6328125,3.609375,3.8984375,3.796875,3.4921875,3.671875,3.6953125,3.8125,3.5625]}},\"id\":\"4f5deeae-95b4-4586-bbe5-db30b92dfeb7\",\"type\":\"ColumnDataSource\"},{\"attributes\":{\"axis_label\":\"2MASS.J-2MASS.Ks\",\"formatter\":{\"id\":\"c39b2dea-e858-4058-8356-e5dcd081a237\",\"type\":\"BasicTickFormatter\"},\"plot\":{\"id\":\"1bc08e1f-a342-4588-ae79-9fd6b69c3369\",\"subtype\":\"Figure\",\"type\":\"Plot\"},\"ticker\":{\"id\":\"baac2b29-823e-4484-8b02-a833d6e518da\",\"type\":\"BasicTicker\"}},\"id\":\"da90dd07-4767-49a5-8267-9b81c45f909c\",\"type\":\"LinearAxis\"},{\"attributes\":{\"below\":[{\"id\":\"da90dd07-4767-49a5-8267-9b81c45f909c\",\"type\":\"LinearAxis\"}],\"left\":[{\"id\":\"7483f4ec-2afc-4582-84cc-8a5d54fed1d3\",\"type\":\"LinearAxis\"}],\"plot_height\":500,\"plot_width\":800,\"renderers\":[{\"id\":\"da90dd07-4767-49a5-8267-9b81c45f909c\",\"type\":\"LinearAxis\"},{\"id\":\"46cf27d2-b4aa-4bf9-9588-96439653ca12\",\"type\":\"Grid\"},{\"id\":\"7483f4ec-2afc-4582-84cc-8a5d54fed1d3\",\"type\":\"LinearAxis\"},{\"id\":\"5ef6434b-eac0-41bf-98ec-0dec881cb395\",\"type\":\"Grid\"},{\"id\":\"58b8ee28-c51c-4973-a5d1-8d427f42fada\",\"type\":\"BoxAnnotation\"},{\"id\":\"75dbeaa4-b531-4080-8642-2b007723f881\",\"type\":\"Legend\"},{\"id\":\"5c0cf488-677c-4203-b55d-a3edd8cae67e\",\"type\":\"GlyphRenderer\"}],\"title\":{\"id\":\"d0c891b5-3145-4692-a740-af01647ee55f\",\"type\":\"Title\"},\"tool_events\":{\"id\":\"e009d7b1-1467-4f9e-a488-5c130ab6e95c\",\"type\":\"ToolEvents\"},\"toolbar\":{\"id\":\"eb8d7890-6270-40b3-8b24-36a707b7e5e6\",\"type\":\"Toolbar\"},\"x_range\":{\"id\":\"78155633-e745-4e18-9b8c-ddb21c2ad5b9\",\"type\":\"DataRange1d\"},\"x_scale\":{\"id\":\"b7fa9c42-e7d7-4c55-aaaa-c368e98727fe\",\"type\":\"LinearScale\"},\"y_range\":{\"id\":\"07ade23f-7479-4cf0-954f-c78a58600962\",\"type\":\"DataRange1d\"},\"y_scale\":{\"id\":\"190a6751-86cf-4e5c-a816-5d573f20e0f4\",\"type\":\"LinearScale\"}},\"id\":\"1bc08e1f-a342-4588-ae79-9fd6b69c3369\",\"subtype\":\"Figure\",\"type\":\"Plot\"},{\"attributes\":{\"overlay\":{\"id\":\"58b8ee28-c51c-4973-a5d1-8d427f42fada\",\"type\":\"BoxAnnotation\"},\"plot\":{\"id\":\"1bc08e1f-a342-4588-ae79-9fd6b69c3369\",\"subtype\":\"Figure\",\"type\":\"Plot\"}},\"id\":\"3681cd98-5edf-4045-9105-e1af1d35bcad\",\"type\":\"BoxZoomTool\"},{\"attributes\":{\"dimension\":1,\"plot\":{\"id\":\"1bc08e1f-a342-4588-ae79-9fd6b69c3369\",\"subtype\":\"Figure\",\"type\":\"Plot\"},\"ticker\":{\"id\":\"30ef96cc-05df-4596-b192-ba9546dc44ef\",\"type\":\"BasicTicker\"}},\"id\":\"5ef6434b-eac0-41bf-98ec-0dec881cb395\",\"type\":\"Grid\"},{\"attributes\":{\"plot\":{\"id\":\"1bc08e1f-a342-4588-ae79-9fd6b69c3369\",\"subtype\":\"Figure\",\"type\":\"Plot\"}},\"id\":\"639c6bfd-6f2e-4936-921f-d046d7b7f388\",\"type\":\"ResetTool\"},{\"attributes\":{\"callback\":null},\"id\":\"78155633-e745-4e18-9b8c-ddb21c2ad5b9\",\"type\":\"DataRange1d\"},{\"attributes\":{\"plot\":{\"id\":\"1bc08e1f-a342-4588-ae79-9fd6b69c3369\",\"subtype\":\"Figure\",\"type\":\"Plot\"},\"ticker\":{\"id\":\"baac2b29-823e-4484-8b02-a833d6e518da\",\"type\":\"BasicTicker\"}},\"id\":\"46cf27d2-b4aa-4bf9-9588-96439653ca12\",\"type\":\"Grid\"},{\"attributes\":{\"callback\":null,\"plot\":{\"id\":\"1bc08e1f-a342-4588-ae79-9fd6b69c3369\",\"subtype\":\"Figure\",\"type\":\"Plot\"},\"tooltips\":[[\"Name\",\"@desc\"],[\"2MASS.J-2MASS.Ks\",\"@x\"],[\"M_2MASS.J\",\"@y\"]]},\"id\":\"933c74bf-af9b-4486-a9f0-3709b63486d6\",\"type\":\"HoverTool\"},{\"attributes\":{\"plot\":{\"id\":\"1bc08e1f-a342-4588-ae79-9fd6b69c3369\",\"subtype\":\"Figure\",\"type\":\"Plot\"}},\"id\":\"a2a93809-5e76-4cf2-aeed-a83bc412f641\",\"type\":\"PanTool\"},{\"attributes\":{\"bottom_units\":\"screen\",\"fill_alpha\":{\"value\":0.5},\"fill_color\":{\"value\":\"lightgrey\"},\"left_units\":\"screen\",\"level\":\"overlay\",\"line_alpha\":{\"value\":1.0},\"line_color\":{\"value\":\"black\"},\"line_dash\":[4,4],\"line_width\":{\"value\":2},\"plot\":null,\"render_mode\":\"css\",\"right_units\":\"screen\",\"top_units\":\"screen\"},\"id\":\"58b8ee28-c51c-4973-a5d1-8d427f42fada\",\"type\":\"BoxAnnotation\"},{\"attributes\":{\"click_policy\":\"hide\",\"items\":[{\"id\":\"4a5c7ccc-638b-48db-b104-ce5675cd3049\",\"type\":\"LegendItem\"}],\"plot\":{\"id\":\"1bc08e1f-a342-4588-ae79-9fd6b69c3369\",\"subtype\":\"Figure\",\"type\":\"Plot\"}},\"id\":\"75dbeaa4-b531-4080-8642-2b007723f881\",\"type\":\"Legend\"},{\"attributes\":{},\"id\":\"baac2b29-823e-4484-8b02-a833d6e518da\",\"type\":\"BasicTicker\"},{\"attributes\":{},\"id\":\"b7fa9c42-e7d7-4c55-aaaa-c368e98727fe\",\"type\":\"LinearScale\"}],\"root_ids\":[\"1bc08e1f-a342-4588-ae79-9fd6b69c3369\"]},\"title\":\"Bokeh Application\",\"version\":\"0.12.6\"}};\n",
       "            var render_items = [{\"docid\":\"5ef6cc03-ac14-426b-9c9c-087101f2e30a\",\"elementid\":\"4f4e25f5-7ae3-4ff9-b0e7-9499536bd04e\",\"modelid\":\"1bc08e1f-a342-4588-ae79-9fd6b69c3369\"}];\n",
       "            \n",
       "            Bokeh.embed.embed_items(docs_json, render_items);\n",
       "          };\n",
       "          if (document.readyState != \"loading\") fn();\n",
       "          else document.addEventListener(\"DOMContentLoaded\", fn);\n",
       "        })();\n",
       "      },\n",
       "      function(Bokeh) {\n",
       "      }\n",
       "    ];\n",
       "  \n",
       "    function run_inline_js() {\n",
       "      \n",
       "      if ((window.Bokeh !== undefined) || (force === true)) {\n",
       "        for (var i = 0; i < inline_js.length; i++) {\n",
       "          inline_js[i](window.Bokeh);\n",
       "        }if (force === true) {\n",
       "          display_loaded();\n",
       "        }} else if (Date.now() < window._bokeh_timeout) {\n",
       "        setTimeout(run_inline_js, 100);\n",
       "      } else if (!window._bokeh_failed_load) {\n",
       "        console.log(\"Bokeh: BokehJS failed to load within specified timeout.\");\n",
       "        window._bokeh_failed_load = true;\n",
       "      } else if (force !== true) {\n",
       "        var cell = $(document.getElementById(\"4f4e25f5-7ae3-4ff9-b0e7-9499536bd04e\")).parents('.cell').data().cell;\n",
       "        cell.output_area.append_execute_result(NB_LOAD_WARNING)\n",
       "      }\n",
       "  \n",
       "    }\n",
       "  \n",
       "    if (window._bokeh_is_loading === 0) {\n",
       "      console.log(\"Bokeh: BokehJS loaded, going straight to plotting\");\n",
       "      run_inline_js();\n",
       "    } else {\n",
       "      load_libs(js_urls, function() {\n",
       "        console.log(\"Bokeh: BokehJS plotting callback run at\", now());\n",
       "        run_inline_js();\n",
       "      });\n",
       "    }\n",
       "  }(this));\n",
       "</script>"
      ]
     },
     "metadata": {},
     "output_type": "display_data"
    }
   ],
   "source": [
    "show(cat.plot('2MASS.J-2MASS.Ks', 'M_2MASS.J'))"
   ]
  },
  {
   "cell_type": "markdown",
   "metadata": {},
   "source": [
    "We can then retrieve the SED for a particular source like so:"
   ]
  },
  {
   "cell_type": "code",
   "execution_count": 34,
   "metadata": {
    "collapsed": false
   },
   "outputs": [
    {
     "data": {
      "text/html": [
       "\n",
       "\n",
       "    <div class=\"bk-root\">\n",
       "        <div class=\"bk-plotdiv\" id=\"7f32f5b4-f3f6-4185-bcdb-868793c7a730\"></div>\n",
       "    </div>\n",
       "<script type=\"text/javascript\">\n",
       "  \n",
       "  (function(global) {\n",
       "    function now() {\n",
       "      return new Date();\n",
       "    }\n",
       "  \n",
       "    var force = false;\n",
       "  \n",
       "    if (typeof (window._bokeh_onload_callbacks) === \"undefined\" || force === true) {\n",
       "      window._bokeh_onload_callbacks = [];\n",
       "      window._bokeh_is_loading = undefined;\n",
       "    }\n",
       "  \n",
       "  \n",
       "    \n",
       "    if (typeof (window._bokeh_timeout) === \"undefined\" || force === true) {\n",
       "      window._bokeh_timeout = Date.now() + 0;\n",
       "      window._bokeh_failed_load = false;\n",
       "    }\n",
       "  \n",
       "    var NB_LOAD_WARNING = {'data': {'text/html':\n",
       "       \"<div style='background-color: #fdd'>\\n\"+\n",
       "       \"<p>\\n\"+\n",
       "       \"BokehJS does not appear to have successfully loaded. If loading BokehJS from CDN, this \\n\"+\n",
       "       \"may be due to a slow or bad network connection. Possible fixes:\\n\"+\n",
       "       \"</p>\\n\"+\n",
       "       \"<ul>\\n\"+\n",
       "       \"<li>re-rerun `output_notebook()` to attempt to load from CDN again, or</li>\\n\"+\n",
       "       \"<li>use INLINE resources instead, as so:</li>\\n\"+\n",
       "       \"</ul>\\n\"+\n",
       "       \"<code>\\n\"+\n",
       "       \"from bokeh.resources import INLINE\\n\"+\n",
       "       \"output_notebook(resources=INLINE)\\n\"+\n",
       "       \"</code>\\n\"+\n",
       "       \"</div>\"}};\n",
       "  \n",
       "    function display_loaded() {\n",
       "      if (window.Bokeh !== undefined) {\n",
       "        var el = document.getElementById(\"7f32f5b4-f3f6-4185-bcdb-868793c7a730\");\n",
       "        el.textContent = \"BokehJS \" + Bokeh.version + \" successfully loaded.\";\n",
       "      } else if (Date.now() < window._bokeh_timeout) {\n",
       "        setTimeout(display_loaded, 100)\n",
       "      }\n",
       "    }\n",
       "  \n",
       "    function run_callbacks() {\n",
       "      try {\n",
       "        window._bokeh_onload_callbacks.forEach(function(callback) { callback() });\n",
       "      }\n",
       "      finally {\n",
       "        delete window._bokeh_onload_callbacks\n",
       "      }\n",
       "      console.info(\"Bokeh: all callbacks have finished\");\n",
       "    }\n",
       "  \n",
       "    function load_libs(js_urls, callback) {\n",
       "      window._bokeh_onload_callbacks.push(callback);\n",
       "      if (window._bokeh_is_loading > 0) {\n",
       "        console.log(\"Bokeh: BokehJS is being loaded, scheduling callback at\", now());\n",
       "        return null;\n",
       "      }\n",
       "      if (js_urls == null || js_urls.length === 0) {\n",
       "        run_callbacks();\n",
       "        return null;\n",
       "      }\n",
       "      console.log(\"Bokeh: BokehJS not loaded, scheduling load and callback at\", now());\n",
       "      window._bokeh_is_loading = js_urls.length;\n",
       "      for (var i = 0; i < js_urls.length; i++) {\n",
       "        var url = js_urls[i];\n",
       "        var s = document.createElement('script');\n",
       "        s.src = url;\n",
       "        s.async = false;\n",
       "        s.onreadystatechange = s.onload = function() {\n",
       "          window._bokeh_is_loading--;\n",
       "          if (window._bokeh_is_loading === 0) {\n",
       "            console.log(\"Bokeh: all BokehJS libraries loaded\");\n",
       "            run_callbacks()\n",
       "          }\n",
       "        };\n",
       "        s.onerror = function() {\n",
       "          console.warn(\"failed to load library \" + url);\n",
       "        };\n",
       "        console.log(\"Bokeh: injecting script tag for BokehJS library: \", url);\n",
       "        document.getElementsByTagName(\"head\")[0].appendChild(s);\n",
       "      }\n",
       "    };var element = document.getElementById(\"7f32f5b4-f3f6-4185-bcdb-868793c7a730\");\n",
       "    if (element == null) {\n",
       "      console.log(\"Bokeh: ERROR: autoload.js configured with elementid '7f32f5b4-f3f6-4185-bcdb-868793c7a730' but no matching script tag was found. \")\n",
       "      return false;\n",
       "    }\n",
       "  \n",
       "    var js_urls = [];\n",
       "  \n",
       "    var inline_js = [\n",
       "      function(Bokeh) {\n",
       "        (function() {\n",
       "          var fn = function() {\n",
       "            var docs_json = {\"27b00010-b025-4f4d-96d0-71265260bb91\":{\"roots\":{\"references\":[{\"attributes\":{\"axis_label\":\"Flux Density [erg / (Angstrom cm2 s)]\",\"formatter\":{\"id\":\"ffa41165-88df-4260-a9c5-8e3ccc6c5470\",\"type\":\"LogTickFormatter\"},\"plot\":{\"id\":\"3c841d84-d9b7-4550-b50c-c297880d7a92\",\"subtype\":\"Figure\",\"type\":\"Plot\"},\"ticker\":{\"id\":\"75de12fd-c986-4688-a320-e987e5fcab36\",\"type\":\"LogTicker\"}},\"id\":\"a37b4bee-1c21-4a89-9c0e-85c57e6bffc0\",\"type\":\"LogAxis\"},{\"attributes\":{\"callback\":null,\"column_names\":[\"xs\",\"ys\"],\"data\":{\"xs\":[[0.35565239687948447,0.35565239687948447],[0.4702495279331733,0.4702495279331733],[0.6175578881059804,0.6175578881059804],[0.7489976846298569,0.7489976846298569],[0.894670956505578,0.894670956505578],[1.2393093155660664,1.2393093155660664],[1.6494947091246095,1.6494947091246095],[2.163860596453316,2.163860596453316]],\"ys\":[[-1.3832223158635616e-19,1.1298294689898433e-18],[4.5650868488251065e-18,5.883099236938135e-18],[3.25655418586049e-17,3.3725439184120143e-17],[1.872460069039715e-16,1.8897895701002846e-16],[6.841345738007758e-16,6.904661965778283e-16],[3.122597376640629e-15,3.2818194113841585e-15],[2.5460996856735884e-15,2.690794532510138e-15],[1.584900608603006e-15,1.6474073582194048e-15]]}},\"id\":\"f3ef66c2-b7cf-4daf-8fa1-cc1e1cdca434\",\"type\":\"ColumnDataSource\"},{\"attributes\":{\"plot\":{\"id\":\"3c841d84-d9b7-4550-b50c-c297880d7a92\",\"subtype\":\"Figure\",\"type\":\"Plot\"}},\"id\":\"c619477d-a581-41e1-b14b-bf5646b37f8b\",\"type\":\"WheelZoomTool\"},{\"attributes\":{\"num_minor_ticks\":10},\"id\":\"75de12fd-c986-4688-a320-e987e5fcab36\",\"type\":\"LogTicker\"},{\"attributes\":{\"below\":[{\"id\":\"d6efae6d-f732-49de-91c0-8aec38a1560d\",\"type\":\"LogAxis\"}],\"left\":[{\"id\":\"a37b4bee-1c21-4a89-9c0e-85c57e6bffc0\",\"type\":\"LogAxis\"}],\"plot_height\":500,\"plot_width\":800,\"renderers\":[{\"id\":\"d6efae6d-f732-49de-91c0-8aec38a1560d\",\"type\":\"LogAxis\"},{\"id\":\"c2327057-eabb-4b86-ae81-5b5e34fd625f\",\"type\":\"Grid\"},{\"id\":\"a37b4bee-1c21-4a89-9c0e-85c57e6bffc0\",\"type\":\"LogAxis\"},{\"id\":\"9f7e0ad0-59c8-4f32-9e3c-d05b33c87650\",\"type\":\"Grid\"},{\"id\":\"92d10f65-6142-4674-b711-a481421b40fd\",\"type\":\"BoxAnnotation\"},{\"id\":\"d6a83659-7c87-45e8-a44a-a01388b692ce\",\"type\":\"Legend\"},{\"id\":\"90756ed7-e291-458b-b8fd-634e4ccc2e1e\",\"type\":\"GlyphRenderer\"},{\"id\":\"07164963-d619-4dcd-bcbd-98d7e14f81ef\",\"type\":\"GlyphRenderer\"}],\"title\":{\"id\":\"c74766ba-01c0-4d4d-859f-eb250c5c78a1\",\"type\":\"Title\"},\"tool_events\":{\"id\":\"3287cdea-b89d-4831-ac15-43b041b0c977\",\"type\":\"ToolEvents\"},\"toolbar\":{\"id\":\"5f70003b-b958-4936-a042-43770eb2244c\",\"type\":\"Toolbar\"},\"x_range\":{\"id\":\"a62ef468-7516-47d3-84a1-35c613605b9d\",\"type\":\"Range1d\"},\"x_scale\":{\"id\":\"299984e4-20eb-48af-b885-4e5c8c0d2ebd\",\"type\":\"LogScale\"},\"y_range\":{\"id\":\"bc8cea74-9ecb-4ac5-85ce-ee582c4a0f9a\",\"type\":\"Range1d\"},\"y_scale\":{\"id\":\"69e1f398-3e4f-4c5e-b70d-72f027ef4389\",\"type\":\"LogScale\"}},\"id\":\"3c841d84-d9b7-4550-b50c-c297880d7a92\",\"subtype\":\"Figure\",\"type\":\"Plot\"},{\"attributes\":{\"click_policy\":\"hide\",\"items\":[{\"id\":\"852dab57-59a1-4414-82b9-f190eb638340\",\"type\":\"LegendItem\"}],\"plot\":{\"id\":\"3c841d84-d9b7-4550-b50c-c297880d7a92\",\"subtype\":\"Figure\",\"type\":\"Plot\"}},\"id\":\"d6a83659-7c87-45e8-a44a-a01388b692ce\",\"type\":\"Legend\"},{\"attributes\":{\"plot\":{\"id\":\"3c841d84-d9b7-4550-b50c-c297880d7a92\",\"subtype\":\"Figure\",\"type\":\"Plot\"}},\"id\":\"e8408695-46fa-4980-a947-942f3769b815\",\"type\":\"PanTool\"},{\"attributes\":{\"plot\":{\"id\":\"3c841d84-d9b7-4550-b50c-c297880d7a92\",\"subtype\":\"Figure\",\"type\":\"Plot\"}},\"id\":\"daa66849-ba0f-4eb2-8d16-49bd6b0ed0dd\",\"type\":\"SaveTool\"},{\"attributes\":{},\"id\":\"3287cdea-b89d-4831-ac15-43b041b0c977\",\"type\":\"ToolEvents\"},{\"attributes\":{\"ticker\":null},\"id\":\"648dc7af-9913-4273-a4d8-958265273fb8\",\"type\":\"LogTickFormatter\"},{\"attributes\":{\"ticker\":null},\"id\":\"ffa41165-88df-4260-a9c5-8e3ccc6c5470\",\"type\":\"LogTickFormatter\"},{\"attributes\":{\"callback\":null,\"end\":6.4044167880247876e-15,\"start\":2.478768093508718e-19},\"id\":\"bc8cea74-9ecb-4ac5-85ce-ee582c4a0f9a\",\"type\":\"Range1d\"},{\"attributes\":{\"callback\":null,\"end\":21.599999999999998,\"start\":0.24},\"id\":\"a62ef468-7516-47d3-84a1-35c613605b9d\",\"type\":\"Range1d\"},{\"attributes\":{\"num_minor_ticks\":10},\"id\":\"5db31e3f-eddd-4f4a-8b8a-a410f10c9589\",\"type\":\"LogTicker\"},{\"attributes\":{\"plot\":{\"id\":\"3c841d84-d9b7-4550-b50c-c297880d7a92\",\"subtype\":\"Figure\",\"type\":\"Plot\"},\"ticker\":{\"id\":\"5db31e3f-eddd-4f4a-8b8a-a410f10c9589\",\"type\":\"LogTicker\"}},\"id\":\"c2327057-eabb-4b86-ae81-5b5e34fd625f\",\"type\":\"Grid\"},{\"attributes\":{\"plot\":{\"id\":\"3c841d84-d9b7-4550-b50c-c297880d7a92\",\"subtype\":\"Figure\",\"type\":\"Plot\"}},\"id\":\"bfe12f75-d1b1-442b-a6ce-8db9d1987498\",\"type\":\"ResetTool\"},{\"attributes\":{\"data_source\":{\"id\":\"f3ef66c2-b7cf-4daf-8fa1-cc1e1cdca434\",\"type\":\"ColumnDataSource\"},\"glyph\":{\"id\":\"e8e12375-1744-4c09-b370-95fc62589cea\",\"type\":\"MultiLine\"},\"hover_glyph\":null,\"muted_glyph\":null,\"nonselection_glyph\":{\"id\":\"0407b4a0-214b-40d4-b551-e1c3d4435fd4\",\"type\":\"MultiLine\"},\"selection_glyph\":null},\"id\":\"07164963-d619-4dcd-bcbd-98d7e14f81ef\",\"type\":\"GlyphRenderer\"},{\"attributes\":{\"fill_alpha\":{\"value\":0.7},\"fill_color\":{\"value\":\"#1f77b4\"},\"line_color\":{\"value\":\"#1f77b4\"},\"size\":{\"units\":\"screen\",\"value\":8},\"x\":{\"field\":\"x\"},\"y\":{\"field\":\"y\"}},\"id\":\"182300f5-3f99-4667-bb49-2681979ad86c\",\"type\":\"Circle\"},{\"attributes\":{\"callback\":null,\"column_names\":[\"y\",\"desc\",\"x\",\"z\"],\"data\":{\"desc\":[\"b'SDSS.u'\",\"b'SDSS.g'\",\"b'SDSS.r'\",\"b'SDSS.i'\",\"b'SDSS.z'\",\"b'2MASS.J'\",\"b'2MASS.H'\",\"b'2MASS.Ks'\"],\"x\":{\"__ndarray__\":\"eNlVRQLD1j+8rNt5kRjePxiqmcIIw+M/iHoI/sn35z9961v8JKHsPxnAPwE21PM//NdpkFRk+j/b9fYklk8BQA==\",\"dtype\":\"float64\",\"shape\":[8]},\"y\":{\"__ndarray__\":\"oBIbs0JKIjwExKs9hRdYPCVMXDppG4M8oPXbKCAcqzxAQ74mOsPIPGvd6TLK1+w8+T6vW7qV5zyqNMHZMR3dPA==\",\"dtype\":\"float64\",\"shape\":[8]},\"z\":{\"__ndarray__\":\"6P2BVa1kJzyNO+E0I1AoPD7ILdN1ZSU8XsuXIKD3LzwF1VWQDzNNPFTAtJlB8pY8gZ2cMEzalDzSuQseLwSCPA==\",\"dtype\":\"float64\",\"shape\":[8]}}},\"id\":\"7c5cf39d-449a-4503-866e-5f960e098358\",\"type\":\"ColumnDataSource\"},{\"attributes\":{\"active_drag\":\"auto\",\"active_inspect\":\"auto\",\"active_scroll\":\"auto\",\"active_tap\":\"auto\",\"tools\":[{\"id\":\"e8408695-46fa-4980-a947-942f3769b815\",\"type\":\"PanTool\"},{\"id\":\"741c6c07-b468-47eb-9435-ee74a26ddaae\",\"type\":\"ResizeTool\"},{\"id\":\"bfe12f75-d1b1-442b-a6ce-8db9d1987498\",\"type\":\"ResetTool\"},{\"id\":\"9a934f8f-7bd7-42a3-b02c-0f3b0a6a1181\",\"type\":\"BoxZoomTool\"},{\"id\":\"c619477d-a581-41e1-b14b-bf5646b37f8b\",\"type\":\"WheelZoomTool\"},{\"id\":\"daa66849-ba0f-4eb2-8d16-49bd6b0ed0dd\",\"type\":\"SaveTool\"},{\"id\":\"1d8076a4-6a62-441d-aec5-b25d1f924287\",\"type\":\"HoverTool\"}]},\"id\":\"5f70003b-b958-4936-a042-43770eb2244c\",\"type\":\"Toolbar\"},{\"attributes\":{\"line_color\":{\"value\":\"#1f77b4\"},\"xs\":{\"field\":\"xs\"},\"ys\":{\"field\":\"ys\"}},\"id\":\"e8e12375-1744-4c09-b370-95fc62589cea\",\"type\":\"MultiLine\"},{\"attributes\":{\"plot\":null,\"text\":\"2MASS 261832886\"},\"id\":\"c74766ba-01c0-4d4d-859f-eb250c5c78a1\",\"type\":\"Title\"},{\"attributes\":{\"line_alpha\":{\"value\":0.1},\"line_color\":{\"value\":\"#1f77b4\"},\"xs\":{\"field\":\"xs\"},\"ys\":{\"field\":\"ys\"}},\"id\":\"0407b4a0-214b-40d4-b551-e1c3d4435fd4\",\"type\":\"MultiLine\"},{\"attributes\":{},\"id\":\"299984e4-20eb-48af-b885-4e5c8c0d2ebd\",\"type\":\"LogScale\"},{\"attributes\":{\"fill_alpha\":{\"value\":0.1},\"fill_color\":{\"value\":\"#1f77b4\"},\"line_alpha\":{\"value\":0.1},\"line_color\":{\"value\":\"#1f77b4\"},\"size\":{\"units\":\"screen\",\"value\":8},\"x\":{\"field\":\"x\"},\"y\":{\"field\":\"y\"}},\"id\":\"0bab0a82-3749-48a0-bc6f-56515e1f3175\",\"type\":\"Circle\"},{\"attributes\":{\"bottom_units\":\"screen\",\"fill_alpha\":{\"value\":0.5},\"fill_color\":{\"value\":\"lightgrey\"},\"left_units\":\"screen\",\"level\":\"overlay\",\"line_alpha\":{\"value\":1.0},\"line_color\":{\"value\":\"black\"},\"line_dash\":[4,4],\"line_width\":{\"value\":2},\"plot\":null,\"render_mode\":\"css\",\"right_units\":\"screen\",\"top_units\":\"screen\"},\"id\":\"92d10f65-6142-4674-b711-a481421b40fd\",\"type\":\"BoxAnnotation\"},{\"attributes\":{\"axis_label\":\"Wavelength [um]\",\"formatter\":{\"id\":\"648dc7af-9913-4273-a4d8-958265273fb8\",\"type\":\"LogTickFormatter\"},\"plot\":{\"id\":\"3c841d84-d9b7-4550-b50c-c297880d7a92\",\"subtype\":\"Figure\",\"type\":\"Plot\"},\"ticker\":{\"id\":\"5db31e3f-eddd-4f4a-8b8a-a410f10c9589\",\"type\":\"LogTicker\"}},\"id\":\"d6efae6d-f732-49de-91c0-8aec38a1560d\",\"type\":\"LogAxis\"},{\"attributes\":{\"dimension\":1,\"plot\":{\"id\":\"3c841d84-d9b7-4550-b50c-c297880d7a92\",\"subtype\":\"Figure\",\"type\":\"Plot\"},\"ticker\":{\"id\":\"75de12fd-c986-4688-a320-e987e5fcab36\",\"type\":\"LogTicker\"}},\"id\":\"9f7e0ad0-59c8-4f32-9e3c-d05b33c87650\",\"type\":\"Grid\"},{\"attributes\":{},\"id\":\"69e1f398-3e4f-4c5e-b70d-72f027ef4389\",\"type\":\"LogScale\"},{\"attributes\":{\"label\":{\"value\":\"Photometry\"},\"renderers\":[{\"id\":\"90756ed7-e291-458b-b8fd-634e4ccc2e1e\",\"type\":\"GlyphRenderer\"}]},\"id\":\"852dab57-59a1-4414-82b9-f190eb638340\",\"type\":\"LegendItem\"},{\"attributes\":{\"plot\":{\"id\":\"3c841d84-d9b7-4550-b50c-c297880d7a92\",\"subtype\":\"Figure\",\"type\":\"Plot\"}},\"id\":\"741c6c07-b468-47eb-9435-ee74a26ddaae\",\"type\":\"ResizeTool\"},{\"attributes\":{\"data_source\":{\"id\":\"7c5cf39d-449a-4503-866e-5f960e098358\",\"type\":\"ColumnDataSource\"},\"glyph\":{\"id\":\"182300f5-3f99-4667-bb49-2681979ad86c\",\"type\":\"Circle\"},\"hover_glyph\":null,\"muted_glyph\":null,\"name\":\"photometry\",\"nonselection_glyph\":{\"id\":\"0bab0a82-3749-48a0-bc6f-56515e1f3175\",\"type\":\"Circle\"},\"selection_glyph\":null},\"id\":\"90756ed7-e291-458b-b8fd-634e4ccc2e1e\",\"type\":\"GlyphRenderer\"},{\"attributes\":{\"callback\":null,\"mode\":\"vline\",\"names\":[\"photometry\",\"nondetection\"],\"plot\":{\"id\":\"3c841d84-d9b7-4550-b50c-c297880d7a92\",\"subtype\":\"Figure\",\"type\":\"Plot\"},\"tooltips\":[[\"Band\",\"@desc\"],[\"Wave\",\"@x\"],[\"Flux\",\"@y\"],[\"Unc\",\"@z\"]]},\"id\":\"1d8076a4-6a62-441d-aec5-b25d1f924287\",\"type\":\"HoverTool\"},{\"attributes\":{\"overlay\":{\"id\":\"92d10f65-6142-4674-b711-a481421b40fd\",\"type\":\"BoxAnnotation\"},\"plot\":{\"id\":\"3c841d84-d9b7-4550-b50c-c297880d7a92\",\"subtype\":\"Figure\",\"type\":\"Plot\"}},\"id\":\"9a934f8f-7bd7-42a3-b02c-0f3b0a6a1181\",\"type\":\"BoxZoomTool\"}],\"root_ids\":[\"3c841d84-d9b7-4550-b50c-c297880d7a92\"]},\"title\":\"Bokeh Application\",\"version\":\"0.12.6\"}};\n",
       "            var render_items = [{\"docid\":\"27b00010-b025-4f4d-96d0-71265260bb91\",\"elementid\":\"7f32f5b4-f3f6-4185-bcdb-868793c7a730\",\"modelid\":\"3c841d84-d9b7-4550-b50c-c297880d7a92\"}];\n",
       "            \n",
       "            Bokeh.embed.embed_items(docs_json, render_items);\n",
       "          };\n",
       "          if (document.readyState != \"loading\") fn();\n",
       "          else document.addEventListener(\"DOMContentLoaded\", fn);\n",
       "        })();\n",
       "      },\n",
       "      function(Bokeh) {\n",
       "      }\n",
       "    ];\n",
       "  \n",
       "    function run_inline_js() {\n",
       "      \n",
       "      if ((window.Bokeh !== undefined) || (force === true)) {\n",
       "        for (var i = 0; i < inline_js.length; i++) {\n",
       "          inline_js[i](window.Bokeh);\n",
       "        }if (force === true) {\n",
       "          display_loaded();\n",
       "        }} else if (Date.now() < window._bokeh_timeout) {\n",
       "        setTimeout(run_inline_js, 100);\n",
       "      } else if (!window._bokeh_failed_load) {\n",
       "        console.log(\"Bokeh: BokehJS failed to load within specified timeout.\");\n",
       "        window._bokeh_failed_load = true;\n",
       "      } else if (force !== true) {\n",
       "        var cell = $(document.getElementById(\"7f32f5b4-f3f6-4185-bcdb-868793c7a730\")).parents('.cell').data().cell;\n",
       "        cell.output_area.append_execute_result(NB_LOAD_WARNING)\n",
       "      }\n",
       "  \n",
       "    }\n",
       "  \n",
       "    if (window._bokeh_is_loading === 0) {\n",
       "      console.log(\"Bokeh: BokehJS loaded, going straight to plotting\");\n",
       "      run_inline_js();\n",
       "    } else {\n",
       "      load_libs(js_urls, function() {\n",
       "        console.log(\"Bokeh: BokehJS plotting callback run at\", now());\n",
       "        run_inline_js();\n",
       "      });\n",
       "    }\n",
       "  }(this));\n",
       "</script>"
      ]
     },
     "metadata": {},
     "output_type": "display_data"
    }
   ],
   "source": [
    "my_sed = cat.get_SED('2MASS 261832886')\n",
    "fig = my_sed.plot()"
   ]
  },
  {
   "cell_type": "markdown",
   "metadata": {},
   "source": [
    "The catalog can also be filtered by providing a column name and value..."
   ]
  },
  {
   "cell_type": "code",
   "execution_count": 38,
   "metadata": {
    "collapsed": false
   },
   "outputs": [
    {
     "data": {
      "text/html": [
       "&lt;Table length=1&gt;\n",
       "<table id=\"table4847471584\" class=\"table-striped table-bordered table-condensed\">\n",
       "<thead><tr><th>name</th><th>age</th><th>age_unc</th><th>distance</th><th>distance_unc</th><th>parallax</th><th>parallax_unc</th><th>radius</th><th>radius_unc</th><th>spectral_type</th><th>spectral_type_unc</th><th>SpT</th><th>SpT_fit</th><th>membership</th><th>reddening</th><th>fbol</th><th>fbol_unc</th><th>mbol</th><th>mbol_unc</th><th>Lbol</th><th>Lbol_unc</th><th>Lbol_sun</th><th>Lbol_sun_unc</th><th>Mbol</th><th>Mbol_unc</th><th>logg</th><th>logg_unc</th><th>mass</th><th>mass_unc</th><th>Teff</th><th>Teff_unc</th><th>Teff_evo</th><th>Teff_evo_unc</th><th>Teff_bb</th><th>SED</th><th>SDSS.u</th><th>SDSS.u_unc</th><th>M_SDSS.u</th><th>M_SDSS.u_unc</th><th>SDSS.g</th><th>SDSS.g_unc</th><th>M_SDSS.g</th><th>M_SDSS.g_unc</th><th>SDSS.r</th><th>SDSS.r_unc</th><th>M_SDSS.r</th><th>M_SDSS.r_unc</th><th>SDSS.i</th><th>SDSS.i_unc</th><th>M_SDSS.i</th><th>M_SDSS.i_unc</th><th>SDSS.z</th><th>SDSS.z_unc</th><th>M_SDSS.z</th><th>M_SDSS.z_unc</th><th>2MASS.J</th><th>2MASS.J_unc</th><th>M_2MASS.J</th><th>M_2MASS.J_unc</th><th>2MASS.H</th><th>2MASS.H_unc</th><th>M_2MASS.H</th><th>M_2MASS.H_unc</th><th>2MASS.Ks</th><th>2MASS.Ks_unc</th><th>M_2MASS.Ks</th><th>M_2MASS.Ks_unc</th></tr></thead>\n",
       "<thead><tr><th></th><th>Gyr</th><th>Gyr</th><th>pc</th><th>pc</th><th>mas</th><th>mas</th><th>solRad</th><th>solRad</th><th></th><th></th><th></th><th></th><th></th><th></th><th>erg / (cm2 s)</th><th>erg / (cm2 s)</th><th></th><th></th><th>erg / s</th><th>erg / s</th><th></th><th></th><th></th><th></th><th></th><th></th><th>solMass</th><th>solMass</th><th>K</th><th>K</th><th>K</th><th>K</th><th>K</th><th></th><th></th><th></th><th></th><th></th><th></th><th></th><th></th><th></th><th></th><th></th><th></th><th></th><th></th><th></th><th></th><th></th><th></th><th></th><th></th><th></th><th></th><th></th><th></th><th></th><th></th><th></th><th></th><th></th><th></th><th></th><th></th><th></th></tr></thead>\n",
       "<thead><tr><th>object</th><th>object</th><th>object</th><th>object</th><th>object</th><th>object</th><th>object</th><th>object</th><th>object</th><th>object</th><th>object</th><th>object</th><th>object</th><th>object</th><th>object</th><th>object</th><th>object</th><th>object</th><th>object</th><th>object</th><th>object</th><th>object</th><th>object</th><th>object</th><th>object</th><th>object</th><th>object</th><th>object</th><th>object</th><th>object</th><th>object</th><th>object</th><th>object</th><th>object</th><th>object</th><th>float16</th><th>float16</th><th>float16</th><th>float16</th><th>float16</th><th>float16</th><th>float16</th><th>float16</th><th>float16</th><th>float16</th><th>float16</th><th>float16</th><th>float16</th><th>float16</th><th>float16</th><th>float16</th><th>float16</th><th>float16</th><th>float16</th><th>float16</th><th>float16</th><th>float16</th><th>float16</th><th>float16</th><th>float16</th><th>float16</th><th>float16</th><th>float16</th><th>float16</th><th>float16</th><th>float16</th><th>float16</th></tr></thead>\n",
       "<tr><td>2MASS 2618328861</td><td>6.0</td><td>4.0</td><td>584.42</td><td>34.15</td><td>1.7110839350622178</td><td>0.1</td><td>0.09415541971634411</td><td>0.019640519289763958</td><td>73.0</td><td>0.5</td><td>None</td><td>None</td><td>None</td><td>0</td><td>4.710738027543608e-11</td><td>5.709534127198549e-13</td><td>14.335</td><td>0.013</td><td>1.9250856085135066e+33</td><td>2.2618757582728754e+32</td><td>-0.299</td><td>0.051</td><td>5.501</td><td>0.065</td><td>4.53</td><td>0.05</td><td>0.86</td><td>0.03</td><td>15840.0</td><td>1716.0</td><td>5284.0</td><td>77.0</td><td>None</td><td>&lt;SEDkit.sed.SED object at 0x12623db00&gt;</td><td>24.688</td><td>1.3887</td><td>15.852</td><td>1.3906</td><td>22.531</td><td>0.13696</td><td>13.695</td><td>0.151</td><td>19.688</td><td>0.018997</td><td>10.852</td><td>0.065979</td><td>17.172</td><td>0.0050011</td><td>8.3359</td><td>0.064026</td><td>15.219</td><td>0.0050011</td><td>6.3828</td><td>0.064026</td><td>12.469</td><td>0.026993</td><td>3.6328</td><td>0.06897</td><td>11.586</td><td>0.029999</td><td>2.75</td><td>0.070007</td><td>11.055</td><td>0.020996</td><td>2.2188</td><td>0.067017</td></tr>\n",
       "</table>"
      ],
      "text/plain": [
       "<Table length=1>\n",
       "      name        age   age_unc ... 2MASS.Ks_unc M_2MASS.Ks M_2MASS.Ks_unc\n",
       "                  Gyr     Gyr   ...                                       \n",
       "     object      object  object ...   float16     float16      float16    \n",
       "---------------- ------ ------- ... ------------ ---------- --------------\n",
       "2MASS 2618328861    6.0     4.0 ...     0.020996     2.2188       0.067017"
      ]
     },
     "execution_count": 38,
     "metadata": {},
     "output_type": "execute_result"
    }
   ],
   "source": [
    "cat.filter('name', \"'2MASS 2618328861'\").results"
   ]
  },
  {
   "cell_type": "markdown",
   "metadata": {},
   "source": [
    "...or a wildcard search..."
   ]
  },
  {
   "cell_type": "code",
   "execution_count": 39,
   "metadata": {
    "collapsed": false
   },
   "outputs": [
    {
     "data": {
      "text/html": [
       "&lt;Table length=1&gt;\n",
       "<table id=\"table4847415872\" class=\"table-striped table-bordered table-condensed\">\n",
       "<thead><tr><th>name</th><th>age</th><th>age_unc</th><th>distance</th><th>distance_unc</th><th>parallax</th><th>parallax_unc</th><th>radius</th><th>radius_unc</th><th>spectral_type</th><th>spectral_type_unc</th><th>SpT</th><th>SpT_fit</th><th>membership</th><th>reddening</th><th>fbol</th><th>fbol_unc</th><th>mbol</th><th>mbol_unc</th><th>Lbol</th><th>Lbol_unc</th><th>Lbol_sun</th><th>Lbol_sun_unc</th><th>Mbol</th><th>Mbol_unc</th><th>logg</th><th>logg_unc</th><th>mass</th><th>mass_unc</th><th>Teff</th><th>Teff_unc</th><th>Teff_evo</th><th>Teff_evo_unc</th><th>Teff_bb</th><th>SED</th><th>SDSS.u</th><th>SDSS.u_unc</th><th>M_SDSS.u</th><th>M_SDSS.u_unc</th><th>SDSS.g</th><th>SDSS.g_unc</th><th>M_SDSS.g</th><th>M_SDSS.g_unc</th><th>SDSS.r</th><th>SDSS.r_unc</th><th>M_SDSS.r</th><th>M_SDSS.r_unc</th><th>SDSS.i</th><th>SDSS.i_unc</th><th>M_SDSS.i</th><th>M_SDSS.i_unc</th><th>SDSS.z</th><th>SDSS.z_unc</th><th>M_SDSS.z</th><th>M_SDSS.z_unc</th><th>2MASS.J</th><th>2MASS.J_unc</th><th>M_2MASS.J</th><th>M_2MASS.J_unc</th><th>2MASS.H</th><th>2MASS.H_unc</th><th>M_2MASS.H</th><th>M_2MASS.H_unc</th><th>2MASS.Ks</th><th>2MASS.Ks_unc</th><th>M_2MASS.Ks</th><th>M_2MASS.Ks_unc</th></tr></thead>\n",
       "<thead><tr><th></th><th>Gyr</th><th>Gyr</th><th>pc</th><th>pc</th><th>mas</th><th>mas</th><th>solRad</th><th>solRad</th><th></th><th></th><th></th><th></th><th></th><th></th><th>erg / (cm2 s)</th><th>erg / (cm2 s)</th><th></th><th></th><th>erg / s</th><th>erg / s</th><th></th><th></th><th></th><th></th><th></th><th></th><th>solMass</th><th>solMass</th><th>K</th><th>K</th><th>K</th><th>K</th><th>K</th><th></th><th></th><th></th><th></th><th></th><th></th><th></th><th></th><th></th><th></th><th></th><th></th><th></th><th></th><th></th><th></th><th></th><th></th><th></th><th></th><th></th><th></th><th></th><th></th><th></th><th></th><th></th><th></th><th></th><th></th><th></th><th></th><th></th></tr></thead>\n",
       "<thead><tr><th>object</th><th>object</th><th>object</th><th>object</th><th>object</th><th>object</th><th>object</th><th>object</th><th>object</th><th>object</th><th>object</th><th>object</th><th>object</th><th>object</th><th>object</th><th>object</th><th>object</th><th>object</th><th>object</th><th>object</th><th>object</th><th>object</th><th>object</th><th>object</th><th>object</th><th>object</th><th>object</th><th>object</th><th>object</th><th>object</th><th>object</th><th>object</th><th>object</th><th>object</th><th>object</th><th>float16</th><th>float16</th><th>float16</th><th>float16</th><th>float16</th><th>float16</th><th>float16</th><th>float16</th><th>float16</th><th>float16</th><th>float16</th><th>float16</th><th>float16</th><th>float16</th><th>float16</th><th>float16</th><th>float16</th><th>float16</th><th>float16</th><th>float16</th><th>float16</th><th>float16</th><th>float16</th><th>float16</th><th>float16</th><th>float16</th><th>float16</th><th>float16</th><th>float16</th><th>float16</th><th>float16</th><th>float16</th></tr></thead>\n",
       "<tr><td>2MASS 2618328861</td><td>6.0</td><td>4.0</td><td>584.42</td><td>34.15</td><td>1.7110839350622178</td><td>0.1</td><td>0.09415541971634411</td><td>0.019640519289763958</td><td>73.0</td><td>0.5</td><td>None</td><td>None</td><td>None</td><td>0</td><td>4.710738027543608e-11</td><td>5.709534127198549e-13</td><td>14.335</td><td>0.013</td><td>1.9250856085135066e+33</td><td>2.2618757582728754e+32</td><td>-0.299</td><td>0.051</td><td>5.501</td><td>0.065</td><td>4.53</td><td>0.05</td><td>0.86</td><td>0.03</td><td>15840.0</td><td>1716.0</td><td>5284.0</td><td>77.0</td><td>None</td><td>&lt;SEDkit.sed.SED object at 0x12623db00&gt;</td><td>24.688</td><td>1.3887</td><td>15.852</td><td>1.3906</td><td>22.531</td><td>0.13696</td><td>13.695</td><td>0.151</td><td>19.688</td><td>0.018997</td><td>10.852</td><td>0.065979</td><td>17.172</td><td>0.0050011</td><td>8.3359</td><td>0.064026</td><td>15.219</td><td>0.0050011</td><td>6.3828</td><td>0.064026</td><td>12.469</td><td>0.026993</td><td>3.6328</td><td>0.06897</td><td>11.586</td><td>0.029999</td><td>2.75</td><td>0.070007</td><td>11.055</td><td>0.020996</td><td>2.2188</td><td>0.067017</td></tr>\n",
       "</table>"
      ],
      "text/plain": [
       "<Table length=1>\n",
       "      name        age   age_unc ... 2MASS.Ks_unc M_2MASS.Ks M_2MASS.Ks_unc\n",
       "                  Gyr     Gyr   ...                                       \n",
       "     object      object  object ...   float16     float16      float16    \n",
       "---------------- ------ ------- ... ------------ ---------- --------------\n",
       "2MASS 2618328861    6.0     4.0 ...     0.020996     2.2188       0.067017"
      ]
     },
     "execution_count": 39,
     "metadata": {},
     "output_type": "execute_result"
    }
   ],
   "source": [
    "cat.filter('name', \"*328861\").results"
   ]
  },
  {
   "cell_type": "markdown",
   "metadata": {},
   "source": [
    "... or an argument with an operator..."
   ]
  },
  {
   "cell_type": "code",
   "execution_count": 40,
   "metadata": {
    "collapsed": false
   },
   "outputs": [
    {
     "data": {
      "text/html": [
       "&lt;Table length=11&gt;\n",
       "<table id=\"table4845682640\" class=\"table-striped table-bordered table-condensed\">\n",
       "<thead><tr><th>name</th><th>age</th><th>age_unc</th><th>distance</th><th>distance_unc</th><th>parallax</th><th>parallax_unc</th><th>radius</th><th>radius_unc</th><th>spectral_type</th><th>spectral_type_unc</th><th>SpT</th><th>SpT_fit</th><th>membership</th><th>reddening</th><th>fbol</th><th>fbol_unc</th><th>mbol</th><th>mbol_unc</th><th>Lbol</th><th>Lbol_unc</th><th>Lbol_sun</th><th>Lbol_sun_unc</th><th>Mbol</th><th>Mbol_unc</th><th>logg</th><th>logg_unc</th><th>mass</th><th>mass_unc</th><th>Teff</th><th>Teff_unc</th><th>Teff_evo</th><th>Teff_evo_unc</th><th>Teff_bb</th><th>SED</th><th>SDSS.u</th><th>SDSS.u_unc</th><th>M_SDSS.u</th><th>M_SDSS.u_unc</th><th>SDSS.g</th><th>SDSS.g_unc</th><th>M_SDSS.g</th><th>M_SDSS.g_unc</th><th>SDSS.r</th><th>SDSS.r_unc</th><th>M_SDSS.r</th><th>M_SDSS.r_unc</th><th>SDSS.i</th><th>SDSS.i_unc</th><th>M_SDSS.i</th><th>M_SDSS.i_unc</th><th>SDSS.z</th><th>SDSS.z_unc</th><th>M_SDSS.z</th><th>M_SDSS.z_unc</th><th>2MASS.J</th><th>2MASS.J_unc</th><th>M_2MASS.J</th><th>M_2MASS.J_unc</th><th>2MASS.H</th><th>2MASS.H_unc</th><th>M_2MASS.H</th><th>M_2MASS.H_unc</th><th>2MASS.Ks</th><th>2MASS.Ks_unc</th><th>M_2MASS.Ks</th><th>M_2MASS.Ks_unc</th></tr></thead>\n",
       "<thead><tr><th></th><th>Gyr</th><th>Gyr</th><th>pc</th><th>pc</th><th>mas</th><th>mas</th><th>solRad</th><th>solRad</th><th></th><th></th><th></th><th></th><th></th><th></th><th>erg / (cm2 s)</th><th>erg / (cm2 s)</th><th></th><th></th><th>erg / s</th><th>erg / s</th><th></th><th></th><th></th><th></th><th></th><th></th><th>solMass</th><th>solMass</th><th>K</th><th>K</th><th>K</th><th>K</th><th>K</th><th></th><th></th><th></th><th></th><th></th><th></th><th></th><th></th><th></th><th></th><th></th><th></th><th></th><th></th><th></th><th></th><th></th><th></th><th></th><th></th><th></th><th></th><th></th><th></th><th></th><th></th><th></th><th></th><th></th><th></th><th></th><th></th><th></th></tr></thead>\n",
       "<thead><tr><th>object</th><th>object</th><th>object</th><th>object</th><th>object</th><th>object</th><th>object</th><th>object</th><th>object</th><th>object</th><th>object</th><th>object</th><th>object</th><th>object</th><th>object</th><th>object</th><th>object</th><th>object</th><th>object</th><th>object</th><th>object</th><th>object</th><th>object</th><th>object</th><th>object</th><th>object</th><th>object</th><th>object</th><th>object</th><th>object</th><th>object</th><th>object</th><th>object</th><th>object</th><th>object</th><th>float16</th><th>float16</th><th>float16</th><th>float16</th><th>float16</th><th>float16</th><th>float16</th><th>float16</th><th>float16</th><th>float16</th><th>float16</th><th>float16</th><th>float16</th><th>float16</th><th>float16</th><th>float16</th><th>float16</th><th>float16</th><th>float16</th><th>float16</th><th>float16</th><th>float16</th><th>float16</th><th>float16</th><th>float16</th><th>float16</th><th>float16</th><th>float16</th><th>float16</th><th>float16</th><th>float16</th><th>float16</th></tr></thead>\n",
       "<tr><td>2MASS 261832886</td><td>6.0</td><td>4.0</td><td>572.28</td><td>16.41</td><td>1.7474</td><td>0.0501</td><td>0.09415541971634411</td><td>0.019640519289763958</td><td>73.0</td><td>0.5</td><td>None</td><td>None</td><td>None</td><td>0</td><td>4.710738027543608e-11</td><td>5.709534127198549e-13</td><td>14.335</td><td>0.013</td><td>1.845937720647223e+33</td><td>1.0820205056393471e+32</td><td>-0.317</td><td>0.025</td><td>5.547</td><td>0.034</td><td>4.54</td><td>0.04</td><td>0.86</td><td>0.03</td><td>15675.0</td><td>1650.0</td><td>5259.0</td><td>39.0</td><td>None</td><td>&lt;SEDkit.sed.SED object at 0x12620dc50&gt;</td><td>24.688</td><td>1.3887</td><td>15.898</td><td>1.3887</td><td>22.531</td><td>0.13696</td><td>13.742</td><td>0.14001</td><td>19.688</td><td>0.018997</td><td>10.898</td><td>0.036011</td><td>17.172</td><td>0.0050011</td><td>8.3828</td><td>0.032013</td><td>15.219</td><td>0.0050011</td><td>6.4297</td><td>0.032013</td><td>12.469</td><td>0.026993</td><td>3.6797</td><td>0.040985</td><td>11.586</td><td>0.029999</td><td>2.7969</td><td>0.042999</td><td>11.055</td><td>0.020996</td><td>2.2656</td><td>0.037994</td></tr>\n",
       "<tr><td>2MASS 2618328860</td><td>6.0</td><td>4.0</td><td>561.88</td><td>31.57</td><td>1.7797294491510989</td><td>0.1</td><td>0.09415541971634411</td><td>0.019640519289763958</td><td>73.0</td><td>0.5</td><td>None</td><td>None</td><td>None</td><td>0</td><td>4.710738027543608e-11</td><td>5.709534127198549e-13</td><td>14.335</td><td>0.013</td><td>1.7794551853012423e+33</td><td>2.0112201362413372e+32</td><td>-0.333</td><td>0.049</td><td>5.587</td><td>0.062</td><td>4.54</td><td>0.04</td><td>0.85</td><td>0.03</td><td>15532.0</td><td>1678.0</td><td>5231.0</td><td>79.0</td><td>None</td><td>&lt;SEDkit.sed.SED object at 0x108395588&gt;</td><td>24.688</td><td>1.3887</td><td>15.938</td><td>1.3906</td><td>22.531</td><td>0.13696</td><td>13.781</td><td>0.15002</td><td>19.688</td><td>0.018997</td><td>10.938</td><td>0.064026</td><td>17.172</td><td>0.0050011</td><td>8.4219</td><td>0.061005</td><td>15.219</td><td>0.0050011</td><td>6.4688</td><td>0.061005</td><td>12.469</td><td>0.026993</td><td>3.7188</td><td>0.067017</td><td>11.586</td><td>0.029999</td><td>2.8359</td><td>0.067993</td><td>11.055</td><td>0.020996</td><td>2.3047</td><td>0.064026</td></tr>\n",
       "<tr><td>2MASS 2618328861</td><td>6.0</td><td>4.0</td><td>584.42</td><td>34.15</td><td>1.7110839350622178</td><td>0.1</td><td>0.09415541971634411</td><td>0.019640519289763958</td><td>73.0</td><td>0.5</td><td>None</td><td>None</td><td>None</td><td>0</td><td>4.710738027543608e-11</td><td>5.709534127198549e-13</td><td>14.335</td><td>0.013</td><td>1.9250856085135066e+33</td><td>2.2618757582728754e+32</td><td>-0.299</td><td>0.051</td><td>5.501</td><td>0.065</td><td>4.53</td><td>0.05</td><td>0.86</td><td>0.03</td><td>15840.0</td><td>1716.0</td><td>5284.0</td><td>77.0</td><td>None</td><td>&lt;SEDkit.sed.SED object at 0x12623db00&gt;</td><td>24.688</td><td>1.3887</td><td>15.852</td><td>1.3906</td><td>22.531</td><td>0.13696</td><td>13.695</td><td>0.151</td><td>19.688</td><td>0.018997</td><td>10.852</td><td>0.065979</td><td>17.172</td><td>0.0050011</td><td>8.3359</td><td>0.064026</td><td>15.219</td><td>0.0050011</td><td>6.3828</td><td>0.064026</td><td>12.469</td><td>0.026993</td><td>3.6328</td><td>0.06897</td><td>11.586</td><td>0.029999</td><td>2.75</td><td>0.070007</td><td>11.055</td><td>0.020996</td><td>2.2188</td><td>0.067017</td></tr>\n",
       "<tr><td>2MASS 2618328862</td><td>6.0</td><td>4.0</td><td>591.87</td><td>35.03</td><td>1.689553355807249</td><td>0.1</td><td>0.09415541971634411</td><td>0.019640519289763958</td><td>73.0</td><td>0.5</td><td>None</td><td>None</td><td>None</td><td>0</td><td>4.710738027543608e-11</td><td>5.709534127198549e-13</td><td>14.335</td><td>0.013</td><td>1.974479197685468e+33</td><td>2.3494225583452237e+32</td><td>-0.288</td><td>0.052</td><td>5.474</td><td>0.066</td><td>4.53</td><td>0.05</td><td>0.86</td><td>0.03</td><td>15941.0</td><td>1728.0</td><td>5300.0</td><td>77.0</td><td>None</td><td>&lt;SEDkit.sed.SED object at 0x126287ac8&gt;</td><td>24.688</td><td>1.3887</td><td>15.828</td><td>1.3906</td><td>22.531</td><td>0.13696</td><td>13.672</td><td>0.151</td><td>19.688</td><td>0.018997</td><td>10.828</td><td>0.067017</td><td>17.172</td><td>0.0050011</td><td>8.3125</td><td>0.064026</td><td>15.219</td><td>0.0050011</td><td>6.3594</td><td>0.064026</td><td>12.469</td><td>0.026993</td><td>3.6094</td><td>0.070007</td><td>11.586</td><td>0.029999</td><td>2.7266</td><td>0.070984</td><td>11.055</td><td>0.020996</td><td>2.1953</td><td>0.067993</td></tr>\n",
       "<tr><td>2MASS 2618328863</td><td>6.0</td><td>4.0</td><td>517.96</td><td>26.83</td><td>1.9306672244701708</td><td>0.1</td><td>0.09415541971634411</td><td>0.019640519289763958</td><td>73.0</td><td>0.5</td><td>None</td><td>None</td><td>None</td><td>0</td><td>4.710738027543608e-11</td><td>5.709534127198549e-13</td><td>14.335</td><td>0.013</td><td>1.5121412190759217e+33</td><td>1.5772436183353492e+32</td><td>-0.403</td><td>0.045</td><td>5.764</td><td>0.058</td><td>4.56</td><td>0.04</td><td>0.84</td><td>0.04</td><td>14912.0</td><td>1603.0</td><td>5149.0</td><td>115.0</td><td>None</td><td>&lt;SEDkit.sed.SED object at 0x126210e80&gt;</td><td>24.688</td><td>1.3887</td><td>16.125</td><td>1.3896</td><td>22.531</td><td>0.13696</td><td>13.961</td><td>0.14795</td><td>19.688</td><td>0.018997</td><td>11.117</td><td>0.05899</td><td>17.172</td><td>0.0050011</td><td>8.6016</td><td>0.056</td><td>15.219</td><td>0.0050011</td><td>6.6484</td><td>0.056</td><td>12.469</td><td>0.026993</td><td>3.8984</td><td>0.062012</td><td>11.586</td><td>0.029999</td><td>3.0156</td><td>0.064026</td><td>11.055</td><td>0.020996</td><td>2.4844</td><td>0.059998</td></tr>\n",
       "<tr><td>2MASS 2618328864</td><td>6.0</td><td>4.0</td><td>542.83</td><td>29.47</td><td>1.8421895614828174</td><td>0.1</td><td>0.09415541971634411</td><td>0.019640519289763958</td><td>73.0</td><td>0.5</td><td>None</td><td>None</td><td>None</td><td>0</td><td>4.710738027543608e-11</td><td>5.709534127198549e-13</td><td>14.335</td><td>0.013</td><td>1.660839213085596e+33</td><td>1.814524750000919e+32</td><td>-0.363</td><td>0.047</td><td>5.662</td><td>0.06</td><td>4.55</td><td>0.04</td><td>0.85</td><td>0.04</td><td>15266.0</td><td>1645.0</td><td>5187.0</td><td>85.0</td><td>None</td><td>&lt;SEDkit.sed.SED object at 0x12554ec50&gt;</td><td>24.688</td><td>1.3887</td><td>16.016</td><td>1.3906</td><td>22.531</td><td>0.13696</td><td>13.859</td><td>0.14905</td><td>19.688</td><td>0.018997</td><td>11.016</td><td>0.062012</td><td>17.172</td><td>0.0050011</td><td>8.4922</td><td>0.05899</td><td>15.219</td><td>0.0050011</td><td>6.5469</td><td>0.05899</td><td>12.469</td><td>0.026993</td><td>3.7969</td><td>0.065002</td><td>11.586</td><td>0.029999</td><td>2.9141</td><td>0.065979</td><td>11.055</td><td>0.020996</td><td>2.3828</td><td>0.062988</td></tr>\n",
       "<tr><td>2MASS 2618328865</td><td>6.0</td><td>4.0</td><td>623.11</td><td>38.83</td><td>1.6048426737482602</td><td>0.1</td><td>0.09415541971634411</td><td>0.019640519289763958</td><td>73.0</td><td>0.5</td><td>None</td><td>None</td><td>None</td><td>0</td><td>4.710738027543608e-11</td><td>5.709534127198549e-13</td><td>14.335</td><td>0.013</td><td>2.1884133209764077e+33</td><td>2.7403494576111996e+32</td><td>-0.243</td><td>0.054</td><td>5.362</td><td>0.069</td><td>4.52</td><td>0.06</td><td>0.87</td><td>0.02</td><td>16356.0</td><td>1781.0</td><td>5354.0</td><td>78.0</td><td>None</td><td>&lt;SEDkit.sed.SED object at 0x120da22b0&gt;</td><td>24.688</td><td>1.3887</td><td>15.711</td><td>1.3906</td><td>22.531</td><td>0.13696</td><td>13.555</td><td>0.15295</td><td>19.688</td><td>0.018997</td><td>10.711</td><td>0.070007</td><td>17.172</td><td>0.0050011</td><td>8.1953</td><td>0.067993</td><td>15.219</td><td>0.0050011</td><td>6.2422</td><td>0.067993</td><td>12.469</td><td>0.026993</td><td>3.4922</td><td>0.072998</td><td>11.586</td><td>0.029999</td><td>2.6094</td><td>0.073975</td><td>11.055</td><td>0.020996</td><td>2.0781</td><td>0.070984</td></tr>\n",
       "<tr><td>2MASS 2618328866</td><td>6.0</td><td>4.0</td><td>574.95</td><td>33.06</td><td>1.7392961304631296</td><td>0.1</td><td>0.09415541971634411</td><td>0.019640519289763958</td><td>73.0</td><td>0.5</td><td>None</td><td>None</td><td>None</td><td>0</td><td>4.710738027543608e-11</td><td>5.709534127198549e-13</td><td>14.335</td><td>0.013</td><td>1.8632025251142258e+33</td><td>2.1545744492731685e+32</td><td>-0.313</td><td>0.05</td><td>5.537</td><td>0.064</td><td>4.54</td><td>0.04</td><td>0.85</td><td>0.03</td><td>15711.0</td><td>1700.0</td><td>5262.0</td><td>78.0</td><td>None</td><td>&lt;SEDkit.sed.SED object at 0x120fb3518&gt;</td><td>24.688</td><td>1.3887</td><td>15.891</td><td>1.3906</td><td>22.531</td><td>0.13696</td><td>13.734</td><td>0.15002</td><td>19.688</td><td>0.018997</td><td>10.891</td><td>0.065002</td><td>17.172</td><td>0.0050011</td><td>8.375</td><td>0.062988</td><td>15.219</td><td>0.0050011</td><td>6.4219</td><td>0.062988</td><td>12.469</td><td>0.026993</td><td>3.6719</td><td>0.067993</td><td>11.586</td><td>0.029999</td><td>2.7891</td><td>0.06897</td><td>11.055</td><td>0.020996</td><td>2.2578</td><td>0.065979</td></tr>\n",
       "<tr><td>2MASS 2618328867</td><td>6.0</td><td>4.0</td><td>568.19</td><td>32.28</td><td>1.7599767257309573</td><td>0.1</td><td>0.09415541971634411</td><td>0.019640519289763958</td><td>73.0</td><td>0.5</td><td>None</td><td>None</td><td>None</td><td>0</td><td>4.710738027543608e-11</td><td>5.709534127198549e-13</td><td>14.335</td><td>0.013</td><td>1.8196467221005303e+33</td><td>2.0792842580942676e+32</td><td>-0.323</td><td>0.05</td><td>5.563</td><td>0.063</td><td>4.54</td><td>0.04</td><td>0.85</td><td>0.03</td><td>15619.0</td><td>1689.0</td><td>5247.0</td><td>79.0</td><td>None</td><td>&lt;SEDkit.sed.SED object at 0x120d56e48&gt;</td><td>24.688</td><td>1.3887</td><td>15.914</td><td>1.3906</td><td>22.531</td><td>0.13696</td><td>13.758</td><td>0.15002</td><td>19.688</td><td>0.018997</td><td>10.914</td><td>0.064026</td><td>17.172</td><td>0.0050011</td><td>8.3984</td><td>0.062012</td><td>15.219</td><td>0.0050011</td><td>6.4453</td><td>0.062012</td><td>12.469</td><td>0.026993</td><td>3.6953</td><td>0.067017</td><td>11.586</td><td>0.029999</td><td>2.8125</td><td>0.06897</td><td>11.055</td><td>0.020996</td><td>2.2812</td><td>0.065002</td></tr>\n",
       "<tr><td>2MASS 2618328868</td><td>6.0</td><td>4.0</td><td>539.02</td><td>29.05</td><td>1.8552194582673285</td><td>0.1</td><td>0.09415541971634411</td><td>0.019640519289763958</td><td>73.0</td><td>0.5</td><td>None</td><td>None</td><td>None</td><td>0</td><td>4.710738027543608e-11</td><td>5.709534127198549e-13</td><td>14.335</td><td>0.013</td><td>1.6376069277724367e+33</td><td>1.7762712818041677e+32</td><td>-0.369</td><td>0.047</td><td>5.677</td><td>0.06</td><td>4.55</td><td>0.04</td><td>0.85</td><td>0.04</td><td>15212.0</td><td>1639.0</td><td>5181.0</td><td>89.0</td><td>None</td><td>&lt;SEDkit.sed.SED object at 0x1261ec710&gt;</td><td>24.688</td><td>1.3887</td><td>16.031</td><td>1.3906</td><td>22.531</td><td>0.13696</td><td>13.875</td><td>0.14905</td><td>19.688</td><td>0.018997</td><td>11.031</td><td>0.062012</td><td>17.172</td><td>0.0050011</td><td>8.5156</td><td>0.05899</td><td>15.219</td><td>0.0050011</td><td>6.5625</td><td>0.05899</td><td>12.469</td><td>0.026993</td><td>3.8125</td><td>0.064026</td><td>11.586</td><td>0.029999</td><td>2.9297</td><td>0.065979</td><td>11.055</td><td>0.020996</td><td>2.3984</td><td>0.062012</td></tr>\n",
       "<tr><td>2MASS 2618328869</td><td>6.0</td><td>4.0</td><td>603.32</td><td>36.4</td><td>1.657503824024948</td><td>0.1</td><td>0.09415541971634411</td><td>0.019640519289763958</td><td>73.0</td><td>0.5</td><td>None</td><td>None</td><td>None</td><td>0</td><td>4.710738027543608e-11</td><td>5.709534127198549e-13</td><td>14.335</td><td>0.013</td><td>2.0516125745442543e+33</td><td>2.4880486608095288e+32</td><td>-0.271</td><td>0.053</td><td>5.432</td><td>0.067</td><td>4.53</td><td>0.05</td><td>0.86</td><td>0.03</td><td>16094.0</td><td>1748.0</td><td>5324.0</td><td>75.0</td><td>None</td><td>&lt;SEDkit.sed.SED object at 0x120e74a90&gt;</td><td>24.688</td><td>1.3887</td><td>15.781</td><td>1.3906</td><td>22.531</td><td>0.13696</td><td>13.625</td><td>0.15198</td><td>19.688</td><td>0.018997</td><td>10.781</td><td>0.067993</td><td>17.172</td><td>0.0050011</td><td>8.2656</td><td>0.065979</td><td>15.219</td><td>0.0050011</td><td>6.3125</td><td>0.065979</td><td>12.469</td><td>0.026993</td><td>3.5625</td><td>0.070984</td><td>11.586</td><td>0.029999</td><td>2.6797</td><td>0.072021</td><td>11.055</td><td>0.020996</td><td>2.1484</td><td>0.06897</td></tr>\n",
       "</table>"
      ],
      "text/plain": [
       "<Table length=11>\n",
       "      name        age   age_unc ... 2MASS.Ks_unc M_2MASS.Ks M_2MASS.Ks_unc\n",
       "                  Gyr     Gyr   ...                                       \n",
       "     object      object  object ...   float16     float16      float16    \n",
       "---------------- ------ ------- ... ------------ ---------- --------------\n",
       " 2MASS 261832886    6.0     4.0 ...     0.020996     2.2656       0.037994\n",
       "2MASS 2618328860    6.0     4.0 ...     0.020996     2.3047       0.064026\n",
       "2MASS 2618328861    6.0     4.0 ...     0.020996     2.2188       0.067017\n",
       "2MASS 2618328862    6.0     4.0 ...     0.020996     2.1953       0.067993\n",
       "2MASS 2618328863    6.0     4.0 ...     0.020996     2.4844       0.059998\n",
       "2MASS 2618328864    6.0     4.0 ...     0.020996     2.3828       0.062988\n",
       "2MASS 2618328865    6.0     4.0 ...     0.020996     2.0781       0.070984\n",
       "2MASS 2618328866    6.0     4.0 ...     0.020996     2.2578       0.065979\n",
       "2MASS 2618328867    6.0     4.0 ...     0.020996     2.2812       0.065002\n",
       "2MASS 2618328868    6.0     4.0 ...     0.020996     2.3984       0.062012\n",
       "2MASS 2618328869    6.0     4.0 ...     0.020996     2.1484        0.06897"
      ]
     },
     "execution_count": 40,
     "metadata": {},
     "output_type": "execute_result"
    }
   ],
   "source": [
    "cat.filter('logg', '>=4.5').results"
   ]
  },
  {
   "cell_type": "markdown",
   "metadata": {
    "collapsed": true
   },
   "source": [
    "... or even a tuple of arguments..."
   ]
  },
  {
   "cell_type": "code",
   "execution_count": 46,
   "metadata": {
    "collapsed": false
   },
   "outputs": [
    {
     "data": {
      "text/html": [
       "&lt;Table length=2&gt;\n",
       "<table id=\"table4841598088\" class=\"table-striped table-bordered table-condensed\">\n",
       "<thead><tr><th>name</th><th>age</th><th>age_unc</th><th>distance</th><th>distance_unc</th><th>parallax</th><th>parallax_unc</th><th>radius</th><th>radius_unc</th><th>spectral_type</th><th>spectral_type_unc</th><th>SpT</th><th>SpT_fit</th><th>membership</th><th>reddening</th><th>fbol</th><th>fbol_unc</th><th>mbol</th><th>mbol_unc</th><th>Lbol</th><th>Lbol_unc</th><th>Lbol_sun</th><th>Lbol_sun_unc</th><th>Mbol</th><th>Mbol_unc</th><th>logg</th><th>logg_unc</th><th>mass</th><th>mass_unc</th><th>Teff</th><th>Teff_unc</th><th>Teff_evo</th><th>Teff_evo_unc</th><th>Teff_bb</th><th>SED</th><th>SDSS.u</th><th>SDSS.u_unc</th><th>M_SDSS.u</th><th>M_SDSS.u_unc</th><th>SDSS.g</th><th>SDSS.g_unc</th><th>M_SDSS.g</th><th>M_SDSS.g_unc</th><th>SDSS.r</th><th>SDSS.r_unc</th><th>M_SDSS.r</th><th>M_SDSS.r_unc</th><th>SDSS.i</th><th>SDSS.i_unc</th><th>M_SDSS.i</th><th>M_SDSS.i_unc</th><th>SDSS.z</th><th>SDSS.z_unc</th><th>M_SDSS.z</th><th>M_SDSS.z_unc</th><th>2MASS.J</th><th>2MASS.J_unc</th><th>M_2MASS.J</th><th>M_2MASS.J_unc</th><th>2MASS.H</th><th>2MASS.H_unc</th><th>M_2MASS.H</th><th>M_2MASS.H_unc</th><th>2MASS.Ks</th><th>2MASS.Ks_unc</th><th>M_2MASS.Ks</th><th>M_2MASS.Ks_unc</th></tr></thead>\n",
       "<thead><tr><th></th><th>Gyr</th><th>Gyr</th><th>pc</th><th>pc</th><th>mas</th><th>mas</th><th>solRad</th><th>solRad</th><th></th><th></th><th></th><th></th><th></th><th></th><th>erg / (cm2 s)</th><th>erg / (cm2 s)</th><th></th><th></th><th>erg / s</th><th>erg / s</th><th></th><th></th><th></th><th></th><th></th><th></th><th>solMass</th><th>solMass</th><th>K</th><th>K</th><th>K</th><th>K</th><th>K</th><th></th><th></th><th></th><th></th><th></th><th></th><th></th><th></th><th></th><th></th><th></th><th></th><th></th><th></th><th></th><th></th><th></th><th></th><th></th><th></th><th></th><th></th><th></th><th></th><th></th><th></th><th></th><th></th><th></th><th></th><th></th><th></th><th></th></tr></thead>\n",
       "<thead><tr><th>object</th><th>object</th><th>object</th><th>object</th><th>object</th><th>object</th><th>object</th><th>object</th><th>object</th><th>object</th><th>object</th><th>object</th><th>object</th><th>object</th><th>object</th><th>object</th><th>object</th><th>object</th><th>object</th><th>object</th><th>object</th><th>object</th><th>object</th><th>object</th><th>object</th><th>object</th><th>object</th><th>object</th><th>object</th><th>object</th><th>object</th><th>object</th><th>object</th><th>object</th><th>object</th><th>float16</th><th>float16</th><th>float16</th><th>float16</th><th>float16</th><th>float16</th><th>float16</th><th>float16</th><th>float16</th><th>float16</th><th>float16</th><th>float16</th><th>float16</th><th>float16</th><th>float16</th><th>float16</th><th>float16</th><th>float16</th><th>float16</th><th>float16</th><th>float16</th><th>float16</th><th>float16</th><th>float16</th><th>float16</th><th>float16</th><th>float16</th><th>float16</th><th>float16</th><th>float16</th><th>float16</th><th>float16</th></tr></thead>\n",
       "<tr><td>2MASS 2618328860</td><td>6.0</td><td>4.0</td><td>561.88</td><td>31.57</td><td>1.7797294491510989</td><td>0.1</td><td>0.09415541971634411</td><td>0.019640519289763958</td><td>73.0</td><td>0.5</td><td>None</td><td>None</td><td>None</td><td>0</td><td>4.710738027543608e-11</td><td>5.709534127198549e-13</td><td>14.335</td><td>0.013</td><td>1.7794551853012423e+33</td><td>2.0112201362413372e+32</td><td>-0.333</td><td>0.049</td><td>5.587</td><td>0.062</td><td>4.54</td><td>0.04</td><td>0.85</td><td>0.03</td><td>15532.0</td><td>1678.0</td><td>5231.0</td><td>79.0</td><td>None</td><td>&lt;SEDkit.sed.SED object at 0x108395588&gt;</td><td>24.688</td><td>1.3887</td><td>15.938</td><td>1.3906</td><td>22.531</td><td>0.13696</td><td>13.781</td><td>0.15002</td><td>19.688</td><td>0.018997</td><td>10.938</td><td>0.064026</td><td>17.172</td><td>0.0050011</td><td>8.4219</td><td>0.061005</td><td>15.219</td><td>0.0050011</td><td>6.4688</td><td>0.061005</td><td>12.469</td><td>0.026993</td><td>3.7188</td><td>0.067017</td><td>11.586</td><td>0.029999</td><td>2.8359</td><td>0.067993</td><td>11.055</td><td>0.020996</td><td>2.3047</td><td>0.064026</td></tr>\n",
       "<tr><td>2MASS 2618328867</td><td>6.0</td><td>4.0</td><td>568.19</td><td>32.28</td><td>1.7599767257309573</td><td>0.1</td><td>0.09415541971634411</td><td>0.019640519289763958</td><td>73.0</td><td>0.5</td><td>None</td><td>None</td><td>None</td><td>0</td><td>4.710738027543608e-11</td><td>5.709534127198549e-13</td><td>14.335</td><td>0.013</td><td>1.8196467221005303e+33</td><td>2.0792842580942676e+32</td><td>-0.323</td><td>0.05</td><td>5.563</td><td>0.063</td><td>4.54</td><td>0.04</td><td>0.85</td><td>0.03</td><td>15619.0</td><td>1689.0</td><td>5247.0</td><td>79.0</td><td>None</td><td>&lt;SEDkit.sed.SED object at 0x120d56e48&gt;</td><td>24.688</td><td>1.3887</td><td>15.914</td><td>1.3906</td><td>22.531</td><td>0.13696</td><td>13.758</td><td>0.15002</td><td>19.688</td><td>0.018997</td><td>10.914</td><td>0.064026</td><td>17.172</td><td>0.0050011</td><td>8.3984</td><td>0.062012</td><td>15.219</td><td>0.0050011</td><td>6.4453</td><td>0.062012</td><td>12.469</td><td>0.026993</td><td>3.6953</td><td>0.067017</td><td>11.586</td><td>0.029999</td><td>2.8125</td><td>0.06897</td><td>11.055</td><td>0.020996</td><td>2.2812</td><td>0.065002</td></tr>\n",
       "</table>"
      ],
      "text/plain": [
       "<Table length=2>\n",
       "      name        age   age_unc ... 2MASS.Ks_unc M_2MASS.Ks M_2MASS.Ks_unc\n",
       "                  Gyr     Gyr   ...                                       \n",
       "     object      object  object ...   float16     float16      float16    \n",
       "---------------- ------ ------- ... ------------ ---------- --------------\n",
       "2MASS 2618328860    6.0     4.0 ...     0.020996     2.3047       0.064026\n",
       "2MASS 2618328867    6.0     4.0 ...     0.020996     2.2812       0.065002"
      ]
     },
     "execution_count": 46,
     "metadata": {},
     "output_type": "execute_result"
    }
   ],
   "source": [
    "cat.filter('M_SDSS.r', ('>10.9','<11')).results"
   ]
  },
  {
   "cell_type": "code",
   "execution_count": null,
   "metadata": {
    "collapsed": true
   },
   "outputs": [],
   "source": []
  },
  {
   "cell_type": "code",
   "execution_count": null,
   "metadata": {
    "collapsed": true
   },
   "outputs": [],
   "source": []
  }
 ],
 "metadata": {
  "anaconda-cloud": {},
  "kernelspec": {
   "display_name": "Astroconda",
   "language": "python",
   "name": "astroconda_kernel"
  },
  "language_info": {
   "codemirror_mode": {
    "name": "ipython",
    "version": 3
   },
   "file_extension": ".py",
   "mimetype": "text/x-python",
   "name": "python",
   "nbconvert_exporter": "python",
   "pygments_lexer": "ipython3",
   "version": "3.5.2"
  }
 },
 "nbformat": 4,
 "nbformat_minor": 1
}
