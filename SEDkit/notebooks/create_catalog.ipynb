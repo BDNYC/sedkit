{
 "cells": [
  {
   "cell_type": "markdown",
   "metadata": {},
   "source": [
    "# Make a catalog of SEDs"
   ]
  },
  {
   "cell_type": "code",
   "execution_count": 13,
   "metadata": {
    "collapsed": false
   },
   "outputs": [
    {
     "data": {
      "text/html": [
       "\n",
       "    <div class=\"bk-root\">\n",
       "        <a href=\"http://bokeh.pydata.org\" target=\"_blank\" class=\"bk-logo bk-logo-small bk-logo-notebook\"></a>\n",
       "        <span id=\"c88911a9-c05d-4fff-9099-f8ff937bd5a1\">Loading BokehJS ...</span>\n",
       "    </div>"
      ]
     },
     "metadata": {},
     "output_type": "display_data"
    },
    {
     "data": {
      "application/javascript": [
       "\n",
       "(function(global) {\n",
       "  function now() {\n",
       "    return new Date();\n",
       "  }\n",
       "\n",
       "  var force = true;\n",
       "\n",
       "  if (typeof (window._bokeh_onload_callbacks) === \"undefined\" || force === true) {\n",
       "    window._bokeh_onload_callbacks = [];\n",
       "    window._bokeh_is_loading = undefined;\n",
       "  }\n",
       "\n",
       "\n",
       "  \n",
       "  if (typeof (window._bokeh_timeout) === \"undefined\" || force === true) {\n",
       "    window._bokeh_timeout = Date.now() + 5000;\n",
       "    window._bokeh_failed_load = false;\n",
       "  }\n",
       "\n",
       "  var NB_LOAD_WARNING = {'data': {'text/html':\n",
       "     \"<div style='background-color: #fdd'>\\n\"+\n",
       "     \"<p>\\n\"+\n",
       "     \"BokehJS does not appear to have successfully loaded. If loading BokehJS from CDN, this \\n\"+\n",
       "     \"may be due to a slow or bad network connection. Possible fixes:\\n\"+\n",
       "     \"</p>\\n\"+\n",
       "     \"<ul>\\n\"+\n",
       "     \"<li>re-rerun `output_notebook()` to attempt to load from CDN again, or</li>\\n\"+\n",
       "     \"<li>use INLINE resources instead, as so:</li>\\n\"+\n",
       "     \"</ul>\\n\"+\n",
       "     \"<code>\\n\"+\n",
       "     \"from bokeh.resources import INLINE\\n\"+\n",
       "     \"output_notebook(resources=INLINE)\\n\"+\n",
       "     \"</code>\\n\"+\n",
       "     \"</div>\"}};\n",
       "\n",
       "  function display_loaded() {\n",
       "    if (window.Bokeh !== undefined) {\n",
       "      var el = document.getElementById(\"c88911a9-c05d-4fff-9099-f8ff937bd5a1\");\n",
       "      el.textContent = \"BokehJS \" + Bokeh.version + \" successfully loaded.\";\n",
       "    } else if (Date.now() < window._bokeh_timeout) {\n",
       "      setTimeout(display_loaded, 100)\n",
       "    }\n",
       "  }\n",
       "\n",
       "  function run_callbacks() {\n",
       "    try {\n",
       "      window._bokeh_onload_callbacks.forEach(function(callback) { callback() });\n",
       "    }\n",
       "    finally {\n",
       "      delete window._bokeh_onload_callbacks\n",
       "    }\n",
       "    console.info(\"Bokeh: all callbacks have finished\");\n",
       "  }\n",
       "\n",
       "  function load_libs(js_urls, callback) {\n",
       "    window._bokeh_onload_callbacks.push(callback);\n",
       "    if (window._bokeh_is_loading > 0) {\n",
       "      console.log(\"Bokeh: BokehJS is being loaded, scheduling callback at\", now());\n",
       "      return null;\n",
       "    }\n",
       "    if (js_urls == null || js_urls.length === 0) {\n",
       "      run_callbacks();\n",
       "      return null;\n",
       "    }\n",
       "    console.log(\"Bokeh: BokehJS not loaded, scheduling load and callback at\", now());\n",
       "    window._bokeh_is_loading = js_urls.length;\n",
       "    for (var i = 0; i < js_urls.length; i++) {\n",
       "      var url = js_urls[i];\n",
       "      var s = document.createElement('script');\n",
       "      s.src = url;\n",
       "      s.async = false;\n",
       "      s.onreadystatechange = s.onload = function() {\n",
       "        window._bokeh_is_loading--;\n",
       "        if (window._bokeh_is_loading === 0) {\n",
       "          console.log(\"Bokeh: all BokehJS libraries loaded\");\n",
       "          run_callbacks()\n",
       "        }\n",
       "      };\n",
       "      s.onerror = function() {\n",
       "        console.warn(\"failed to load library \" + url);\n",
       "      };\n",
       "      console.log(\"Bokeh: injecting script tag for BokehJS library: \", url);\n",
       "      document.getElementsByTagName(\"head\")[0].appendChild(s);\n",
       "    }\n",
       "  };var element = document.getElementById(\"c88911a9-c05d-4fff-9099-f8ff937bd5a1\");\n",
       "  if (element == null) {\n",
       "    console.log(\"Bokeh: ERROR: autoload.js configured with elementid 'c88911a9-c05d-4fff-9099-f8ff937bd5a1' but no matching script tag was found. \")\n",
       "    return false;\n",
       "  }\n",
       "\n",
       "  var js_urls = [\"https://cdn.pydata.org/bokeh/release/bokeh-0.12.6.min.js\", \"https://cdn.pydata.org/bokeh/release/bokeh-widgets-0.12.6.min.js\"];\n",
       "\n",
       "  var inline_js = [\n",
       "    function(Bokeh) {\n",
       "      Bokeh.set_log_level(\"info\");\n",
       "    },\n",
       "    \n",
       "    function(Bokeh) {\n",
       "      \n",
       "    },\n",
       "    \n",
       "    function(Bokeh) {\n",
       "      \n",
       "      document.getElementById(\"c88911a9-c05d-4fff-9099-f8ff937bd5a1\").textContent = \"BokehJS is loading...\";\n",
       "    },\n",
       "    function(Bokeh) {\n",
       "      console.log(\"Bokeh: injecting CSS: https://cdn.pydata.org/bokeh/release/bokeh-0.12.6.min.css\");\n",
       "      Bokeh.embed.inject_css(\"https://cdn.pydata.org/bokeh/release/bokeh-0.12.6.min.css\");\n",
       "      console.log(\"Bokeh: injecting CSS: https://cdn.pydata.org/bokeh/release/bokeh-widgets-0.12.6.min.css\");\n",
       "      Bokeh.embed.inject_css(\"https://cdn.pydata.org/bokeh/release/bokeh-widgets-0.12.6.min.css\");\n",
       "    }\n",
       "  ];\n",
       "\n",
       "  function run_inline_js() {\n",
       "    \n",
       "    if ((window.Bokeh !== undefined) || (force === true)) {\n",
       "      for (var i = 0; i < inline_js.length; i++) {\n",
       "        inline_js[i](window.Bokeh);\n",
       "      }if (force === true) {\n",
       "        display_loaded();\n",
       "      }} else if (Date.now() < window._bokeh_timeout) {\n",
       "      setTimeout(run_inline_js, 100);\n",
       "    } else if (!window._bokeh_failed_load) {\n",
       "      console.log(\"Bokeh: BokehJS failed to load within specified timeout.\");\n",
       "      window._bokeh_failed_load = true;\n",
       "    } else if (force !== true) {\n",
       "      var cell = $(document.getElementById(\"c88911a9-c05d-4fff-9099-f8ff937bd5a1\")).parents('.cell').data().cell;\n",
       "      cell.output_area.append_execute_result(NB_LOAD_WARNING)\n",
       "    }\n",
       "\n",
       "  }\n",
       "\n",
       "  if (window._bokeh_is_loading === 0) {\n",
       "    console.log(\"Bokeh: BokehJS loaded, going straight to plotting\");\n",
       "    run_inline_js();\n",
       "  } else {\n",
       "    load_libs(js_urls, function() {\n",
       "      console.log(\"Bokeh: BokehJS plotting callback run at\", now());\n",
       "      run_inline_js();\n",
       "    });\n",
       "  }\n",
       "}(this));"
      ]
     },
     "metadata": {},
     "output_type": "display_data"
    }
   ],
   "source": [
    "# Imports\n",
    "from SEDkit import sed, spectrum, synphot, catalog\n",
    "import astropy.units as q\n",
    "import numpy as np\n",
    "import copy\n",
    "from pkg_resources import resource_filename\n",
    "from bokeh.io import output_notebook, show\n",
    "output_notebook()"
   ]
  },
  {
   "cell_type": "markdown",
   "metadata": {},
   "source": [
    "First we initialize an empty catalog."
   ]
  },
  {
   "cell_type": "code",
   "execution_count": 14,
   "metadata": {
    "collapsed": false
   },
   "outputs": [],
   "source": [
    "# Make an SED catalog\n",
    "cat = catalog.SEDCatalog()"
   ]
  },
  {
   "cell_type": "markdown",
   "metadata": {},
   "source": [
    "Now let's make a few SEDs"
   ]
  },
  {
   "cell_type": "code",
   "execution_count": 15,
   "metadata": {
    "collapsed": false
   },
   "outputs": [
    {
     "name": "stdout",
     "output_type": "stream",
     "text": [
      "Setting age to (<Quantity 6.0 Gyr>, <Quantity 4.0 Gyr>)\n",
      "Setting radius to (<Quantity 0.8786209573091851 solRad>, <Quantity 0.06782337214316517 solRad>)\n"
     ]
    }
   ],
   "source": [
    "# Make an SED\n",
    "s1 = sed.SED(parallax=(1.7474*q.mas, 0.0501*q.mas), spectral_type='M0V', name='2MASS 261832886')\n",
    "s1.add_photometry_file(resource_filename('SEDkit', 'data/M0V_photometry.txt'))\n",
    "s1.make_sed()\n",
    "cat.add_SED(s1)"
   ]
  },
  {
   "cell_type": "code",
   "execution_count": 16,
   "metadata": {
    "collapsed": false
   },
   "outputs": [],
   "source": [
    "# Make 10 other SEDs (I'll just change the parallax)\n",
    "for i in range(10):\n",
    "    s2 = copy.copy(s1)\n",
    "    s2.parallax = abs(np.random.normal(loc=1.7474, scale=0.1))*q.mas, 0.1*q.mas\n",
    "    s2.name += str(i)\n",
    "    s2.make_sed()\n",
    "    cat.add_SED(s2)"
   ]
  },
  {
   "cell_type": "markdown",
   "metadata": {},
   "source": [
    "Then the (abridged) aggregated results look like this:"
   ]
  },
  {
   "cell_type": "code",
   "execution_count": 17,
   "metadata": {
    "collapsed": false
   },
   "outputs": [
    {
     "data": {
      "text/html": [
       "<i>Table length=11</i>\n",
       "<table id=\"table4746293200\" class=\"table-striped table-bordered table-condensed\">\n",
       "<thead><tr><th>name</th><th>distance</th><th>distance_unc</th><th>Lbol_sun</th><th>Lbol_sun_unc</th><th>Teff</th><th>Teff_unc</th></tr></thead>\n",
       "<thead><tr><th></th><th>pc</th><th>pc</th><th></th><th></th><th>K</th><th>K</th></tr></thead>\n",
       "<thead><tr><th>object</th><th>object</th><th>object</th><th>object</th><th>object</th><th>object</th><th>object</th></tr></thead>\n",
       "<tr><td>2MASS 261832886</td><td>572.28</td><td>16.41</td><td>-1.019</td><td>0.025</td><td>3424.0</td><td>141.0</td></tr>\n",
       "<tr><td>2MASS 2618328860</td><td>570.18</td><td>32.51</td><td>-1.022</td><td>0.05</td><td>3418.0</td><td>164.0</td></tr>\n",
       "<tr><td>2MASS 2618328861</td><td>601.33</td><td>36.16</td><td>-0.976</td><td>0.052</td><td>3510.0</td><td>171.0</td></tr>\n",
       "<tr><td>2MASS 2618328862</td><td>595.05</td><td>35.41</td><td>-0.985</td><td>0.052</td><td>3492.0</td><td>170.0</td></tr>\n",
       "<tr><td>2MASS 2618328863</td><td>561.37</td><td>31.51</td><td>-1.036</td><td>0.049</td><td>3391.0</td><td>162.0</td></tr>\n",
       "<tr><td>2MASS 2618328864</td><td>590.02</td><td>34.81</td><td>-0.993</td><td>0.051</td><td>3477.0</td><td>169.0</td></tr>\n",
       "<tr><td>2MASS 2618328865</td><td>634.2</td><td>40.22</td><td>-0.93</td><td>0.055</td><td>3605.0</td><td>180.0</td></tr>\n",
       "<tr><td>2MASS 2618328866</td><td>561.95</td><td>31.58</td><td>-1.035</td><td>0.049</td><td>3393.0</td><td>162.0</td></tr>\n",
       "<tr><td>2MASS 2618328867</td><td>609.43</td><td>37.14</td><td>-0.965</td><td>0.053</td><td>3533.0</td><td>173.0</td></tr>\n",
       "<tr><td>2MASS 2618328868</td><td>579.1</td><td>33.54</td><td>-1.009</td><td>0.05</td><td>3444.0</td><td>166.0</td></tr>\n",
       "<tr><td>2MASS 2618328869</td><td>528.71</td><td>27.95</td><td>-1.088</td><td>0.046</td><td>3291.0</td><td>154.0</td></tr>\n",
       "</table>"
      ],
      "text/plain": [
       "<Table length=11>\n",
       "      name       distance distance_unc Lbol_sun Lbol_sun_unc  Teff  Teff_unc\n",
       "                    pc         pc                              K       K    \n",
       "     object       object     object     object     object    object  object \n",
       "---------------- -------- ------------ -------- ------------ ------ --------\n",
       " 2MASS 261832886   572.28        16.41   -1.019        0.025 3424.0    141.0\n",
       "2MASS 2618328860   570.18        32.51   -1.022         0.05 3418.0    164.0\n",
       "2MASS 2618328861   601.33        36.16   -0.976        0.052 3510.0    171.0\n",
       "2MASS 2618328862   595.05        35.41   -0.985        0.052 3492.0    170.0\n",
       "2MASS 2618328863   561.37        31.51   -1.036        0.049 3391.0    162.0\n",
       "2MASS 2618328864   590.02        34.81   -0.993        0.051 3477.0    169.0\n",
       "2MASS 2618328865    634.2        40.22    -0.93        0.055 3605.0    180.0\n",
       "2MASS 2618328866   561.95        31.58   -1.035        0.049 3393.0    162.0\n",
       "2MASS 2618328867   609.43        37.14   -0.965        0.053 3533.0    173.0\n",
       "2MASS 2618328868    579.1        33.54   -1.009         0.05 3444.0    166.0\n",
       "2MASS 2618328869   528.71        27.95   -1.088        0.046 3291.0    154.0"
      ]
     },
     "execution_count": 17,
     "metadata": {},
     "output_type": "execute_result"
    }
   ],
   "source": [
    "cat.results[['name','distance','distance_unc','Lbol_sun','Lbol_sun_unc','Teff','Teff_unc']]"
   ]
  },
  {
   "cell_type": "markdown",
   "metadata": {},
   "source": [
    "We can also plot the results by passing the `plot` method two column names."
   ]
  },
  {
   "cell_type": "code",
   "execution_count": 18,
   "metadata": {
    "collapsed": false
   },
   "outputs": [
    {
     "data": {
      "text/html": [
       "\n",
       "\n",
       "    <div class=\"bk-root\">\n",
       "        <div class=\"bk-plotdiv\" id=\"daa0e819-73f3-4542-80c8-0d0e26deb885\"></div>\n",
       "    </div>\n",
       "<script type=\"text/javascript\">\n",
       "  \n",
       "  (function(global) {\n",
       "    function now() {\n",
       "      return new Date();\n",
       "    }\n",
       "  \n",
       "    var force = false;\n",
       "  \n",
       "    if (typeof (window._bokeh_onload_callbacks) === \"undefined\" || force === true) {\n",
       "      window._bokeh_onload_callbacks = [];\n",
       "      window._bokeh_is_loading = undefined;\n",
       "    }\n",
       "  \n",
       "  \n",
       "    \n",
       "    if (typeof (window._bokeh_timeout) === \"undefined\" || force === true) {\n",
       "      window._bokeh_timeout = Date.now() + 0;\n",
       "      window._bokeh_failed_load = false;\n",
       "    }\n",
       "  \n",
       "    var NB_LOAD_WARNING = {'data': {'text/html':\n",
       "       \"<div style='background-color: #fdd'>\\n\"+\n",
       "       \"<p>\\n\"+\n",
       "       \"BokehJS does not appear to have successfully loaded. If loading BokehJS from CDN, this \\n\"+\n",
       "       \"may be due to a slow or bad network connection. Possible fixes:\\n\"+\n",
       "       \"</p>\\n\"+\n",
       "       \"<ul>\\n\"+\n",
       "       \"<li>re-rerun `output_notebook()` to attempt to load from CDN again, or</li>\\n\"+\n",
       "       \"<li>use INLINE resources instead, as so:</li>\\n\"+\n",
       "       \"</ul>\\n\"+\n",
       "       \"<code>\\n\"+\n",
       "       \"from bokeh.resources import INLINE\\n\"+\n",
       "       \"output_notebook(resources=INLINE)\\n\"+\n",
       "       \"</code>\\n\"+\n",
       "       \"</div>\"}};\n",
       "  \n",
       "    function display_loaded() {\n",
       "      if (window.Bokeh !== undefined) {\n",
       "        var el = document.getElementById(\"daa0e819-73f3-4542-80c8-0d0e26deb885\");\n",
       "        el.textContent = \"BokehJS \" + Bokeh.version + \" successfully loaded.\";\n",
       "      } else if (Date.now() < window._bokeh_timeout) {\n",
       "        setTimeout(display_loaded, 100)\n",
       "      }\n",
       "    }\n",
       "  \n",
       "    function run_callbacks() {\n",
       "      try {\n",
       "        window._bokeh_onload_callbacks.forEach(function(callback) { callback() });\n",
       "      }\n",
       "      finally {\n",
       "        delete window._bokeh_onload_callbacks\n",
       "      }\n",
       "      console.info(\"Bokeh: all callbacks have finished\");\n",
       "    }\n",
       "  \n",
       "    function load_libs(js_urls, callback) {\n",
       "      window._bokeh_onload_callbacks.push(callback);\n",
       "      if (window._bokeh_is_loading > 0) {\n",
       "        console.log(\"Bokeh: BokehJS is being loaded, scheduling callback at\", now());\n",
       "        return null;\n",
       "      }\n",
       "      if (js_urls == null || js_urls.length === 0) {\n",
       "        run_callbacks();\n",
       "        return null;\n",
       "      }\n",
       "      console.log(\"Bokeh: BokehJS not loaded, scheduling load and callback at\", now());\n",
       "      window._bokeh_is_loading = js_urls.length;\n",
       "      for (var i = 0; i < js_urls.length; i++) {\n",
       "        var url = js_urls[i];\n",
       "        var s = document.createElement('script');\n",
       "        s.src = url;\n",
       "        s.async = false;\n",
       "        s.onreadystatechange = s.onload = function() {\n",
       "          window._bokeh_is_loading--;\n",
       "          if (window._bokeh_is_loading === 0) {\n",
       "            console.log(\"Bokeh: all BokehJS libraries loaded\");\n",
       "            run_callbacks()\n",
       "          }\n",
       "        };\n",
       "        s.onerror = function() {\n",
       "          console.warn(\"failed to load library \" + url);\n",
       "        };\n",
       "        console.log(\"Bokeh: injecting script tag for BokehJS library: \", url);\n",
       "        document.getElementsByTagName(\"head\")[0].appendChild(s);\n",
       "      }\n",
       "    };var element = document.getElementById(\"daa0e819-73f3-4542-80c8-0d0e26deb885\");\n",
       "    if (element == null) {\n",
       "      console.log(\"Bokeh: ERROR: autoload.js configured with elementid 'daa0e819-73f3-4542-80c8-0d0e26deb885' but no matching script tag was found. \")\n",
       "      return false;\n",
       "    }\n",
       "  \n",
       "    var js_urls = [];\n",
       "  \n",
       "    var inline_js = [\n",
       "      function(Bokeh) {\n",
       "        (function() {\n",
       "          var fn = function() {\n",
       "            var docs_json = {\"87a3c531-ec38-41c3-b6fb-c8c2aee9284c\":{\"roots\":{\"references\":[{\"attributes\":{\"plot\":{\"id\":\"dcf91f8a-7cda-4076-a690-7e2e2e75cd3e\",\"subtype\":\"Figure\",\"type\":\"Plot\"}},\"id\":\"1efac372-892c-4b93-b4f6-16e61cba5bd4\",\"type\":\"ResetTool\"},{\"attributes\":{},\"id\":\"f0dcfa43-68e3-491a-a98a-9ddb81acdc60\",\"type\":\"BasicTicker\"},{\"attributes\":{\"plot\":null,\"text\":\"distance v Teff\"},\"id\":\"1ac02afe-8cab-4f25-9158-fbc4d15276ec\",\"type\":\"Title\"},{\"attributes\":{\"click_policy\":\"hide\",\"items\":[{\"id\":\"7cc868b8-fba6-482a-8b61-9bee6176263c\",\"type\":\"LegendItem\"}],\"plot\":{\"id\":\"dcf91f8a-7cda-4076-a690-7e2e2e75cd3e\",\"subtype\":\"Figure\",\"type\":\"Plot\"}},\"id\":\"d72634e8-dd3d-43bf-8c80-2f0f760f7f17\",\"type\":\"Legend\"},{\"attributes\":{},\"id\":\"5f615ca1-6e95-4967-9716-210d142bbc2e\",\"type\":\"BasicTickFormatter\"},{\"attributes\":{},\"id\":\"d525adf2-9bcc-41b1-95b5-4f172b80150a\",\"type\":\"LinearScale\"},{\"attributes\":{},\"id\":\"1f291f9e-76ba-4aee-b193-dece952d5d51\",\"type\":\"ToolEvents\"},{\"attributes\":{\"active_drag\":\"auto\",\"active_inspect\":\"auto\",\"active_scroll\":\"auto\",\"active_tap\":\"auto\",\"tools\":[{\"id\":\"9bcfb23c-b06e-40cf-9e3c-b7a2d9d1f13b\",\"type\":\"PanTool\"},{\"id\":\"2da1c3b3-9e45-46cf-8ce5-b7e35a7e7ea2\",\"type\":\"ResizeTool\"},{\"id\":\"1efac372-892c-4b93-b4f6-16e61cba5bd4\",\"type\":\"ResetTool\"},{\"id\":\"f19a4944-c75c-4b0e-9425-19b3fa768fce\",\"type\":\"BoxZoomTool\"},{\"id\":\"7b8b9294-ccbf-4664-b5f8-c758b4bbb226\",\"type\":\"SaveTool\"},{\"id\":\"782aa4a3-3de4-40ac-88d5-49c568146aa5\",\"type\":\"HoverTool\"}]},\"id\":\"c257a680-d7c7-4031-90e8-89419437b775\",\"type\":\"Toolbar\"},{\"attributes\":{\"label\":{\"value\":\"Photometry\"},\"renderers\":[{\"id\":\"31ae0eae-792a-4fbc-9da1-50a7e5b17e80\",\"type\":\"GlyphRenderer\"}]},\"id\":\"7cc868b8-fba6-482a-8b61-9bee6176263c\",\"type\":\"LegendItem\"},{\"attributes\":{\"axis_label\":\"distance [pc]\",\"formatter\":{\"id\":\"bd47fc0d-4226-4d5c-9951-9f0be14c61fa\",\"type\":\"BasicTickFormatter\"},\"plot\":{\"id\":\"dcf91f8a-7cda-4076-a690-7e2e2e75cd3e\",\"subtype\":\"Figure\",\"type\":\"Plot\"},\"ticker\":{\"id\":\"3fa0587b-316d-4b61-947c-0271682ca4a2\",\"type\":\"BasicTicker\"}},\"id\":\"6d2320b5-b2d4-40d1-a615-a082c3920dd5\",\"type\":\"LinearAxis\"},{\"attributes\":{\"axis_label\":\"Teff [K]\",\"formatter\":{\"id\":\"5f615ca1-6e95-4967-9716-210d142bbc2e\",\"type\":\"BasicTickFormatter\"},\"plot\":{\"id\":\"dcf91f8a-7cda-4076-a690-7e2e2e75cd3e\",\"subtype\":\"Figure\",\"type\":\"Plot\"},\"ticker\":{\"id\":\"f0dcfa43-68e3-491a-a98a-9ddb81acdc60\",\"type\":\"BasicTicker\"}},\"id\":\"615d8347-d486-4943-9dec-15dd32764c62\",\"type\":\"LinearAxis\"},{\"attributes\":{\"below\":[{\"id\":\"6d2320b5-b2d4-40d1-a615-a082c3920dd5\",\"type\":\"LinearAxis\"}],\"left\":[{\"id\":\"615d8347-d486-4943-9dec-15dd32764c62\",\"type\":\"LinearAxis\"}],\"plot_height\":500,\"plot_width\":800,\"renderers\":[{\"id\":\"6d2320b5-b2d4-40d1-a615-a082c3920dd5\",\"type\":\"LinearAxis\"},{\"id\":\"dfad88d9-e345-4a8c-9e63-610720a82b13\",\"type\":\"Grid\"},{\"id\":\"615d8347-d486-4943-9dec-15dd32764c62\",\"type\":\"LinearAxis\"},{\"id\":\"7df086d1-1951-4e39-b03e-44a12423b835\",\"type\":\"Grid\"},{\"id\":\"b5d673b5-99d5-4a35-a69f-05af2b683988\",\"type\":\"BoxAnnotation\"},{\"id\":\"d72634e8-dd3d-43bf-8c80-2f0f760f7f17\",\"type\":\"Legend\"},{\"id\":\"31ae0eae-792a-4fbc-9da1-50a7e5b17e80\",\"type\":\"GlyphRenderer\"}],\"title\":{\"id\":\"1ac02afe-8cab-4f25-9158-fbc4d15276ec\",\"type\":\"Title\"},\"tool_events\":{\"id\":\"1f291f9e-76ba-4aee-b193-dece952d5d51\",\"type\":\"ToolEvents\"},\"toolbar\":{\"id\":\"c257a680-d7c7-4031-90e8-89419437b775\",\"type\":\"Toolbar\"},\"x_range\":{\"id\":\"13432d76-8b94-42d5-8368-4b47771565b5\",\"type\":\"DataRange1d\"},\"x_scale\":{\"id\":\"d525adf2-9bcc-41b1-95b5-4f172b80150a\",\"type\":\"LinearScale\"},\"y_range\":{\"id\":\"af25cb48-aaf9-490f-ad59-64ed1e8d8303\",\"type\":\"DataRange1d\"},\"y_scale\":{\"id\":\"9678cbf9-d34f-4bbe-9a65-713a1349b143\",\"type\":\"LinearScale\"}},\"id\":\"dcf91f8a-7cda-4076-a690-7e2e2e75cd3e\",\"subtype\":\"Figure\",\"type\":\"Plot\"},{\"attributes\":{\"fill_alpha\":{\"value\":0.7},\"fill_color\":{\"value\":\"#1f77b4\"},\"line_color\":{\"value\":\"#1f77b4\"},\"size\":{\"units\":\"screen\",\"value\":8},\"x\":{\"field\":\"x\"},\"y\":{\"field\":\"y\"}},\"id\":\"a0f5d5fd-8969-4cea-b6ae-3ef5ad9efb22\",\"type\":\"Circle\"},{\"attributes\":{\"callback\":null},\"id\":\"13432d76-8b94-42d5-8368-4b47771565b5\",\"type\":\"DataRange1d\"},{\"attributes\":{\"plot\":{\"id\":\"dcf91f8a-7cda-4076-a690-7e2e2e75cd3e\",\"subtype\":\"Figure\",\"type\":\"Plot\"}},\"id\":\"2da1c3b3-9e45-46cf-8ce5-b7e35a7e7ea2\",\"type\":\"ResizeTool\"},{\"attributes\":{\"plot\":{\"id\":\"dcf91f8a-7cda-4076-a690-7e2e2e75cd3e\",\"subtype\":\"Figure\",\"type\":\"Plot\"}},\"id\":\"7b8b9294-ccbf-4664-b5f8-c758b4bbb226\",\"type\":\"SaveTool\"},{\"attributes\":{\"fill_alpha\":{\"value\":0.1},\"fill_color\":{\"value\":\"#1f77b4\"},\"line_alpha\":{\"value\":0.1},\"line_color\":{\"value\":\"#1f77b4\"},\"size\":{\"units\":\"screen\",\"value\":8},\"x\":{\"field\":\"x\"},\"y\":{\"field\":\"y\"}},\"id\":\"d660cf4f-8188-41b4-bf80-83c09b0b214d\",\"type\":\"Circle\"},{\"attributes\":{\"overlay\":{\"id\":\"b5d673b5-99d5-4a35-a69f-05af2b683988\",\"type\":\"BoxAnnotation\"},\"plot\":{\"id\":\"dcf91f8a-7cda-4076-a690-7e2e2e75cd3e\",\"subtype\":\"Figure\",\"type\":\"Plot\"}},\"id\":\"f19a4944-c75c-4b0e-9425-19b3fa768fce\",\"type\":\"BoxZoomTool\"},{\"attributes\":{},\"id\":\"3fa0587b-316d-4b61-947c-0271682ca4a2\",\"type\":\"BasicTicker\"},{\"attributes\":{\"plot\":{\"id\":\"dcf91f8a-7cda-4076-a690-7e2e2e75cd3e\",\"subtype\":\"Figure\",\"type\":\"Plot\"},\"ticker\":{\"id\":\"3fa0587b-316d-4b61-947c-0271682ca4a2\",\"type\":\"BasicTicker\"}},\"id\":\"dfad88d9-e345-4a8c-9e63-610720a82b13\",\"type\":\"Grid\"},{\"attributes\":{\"dimension\":1,\"plot\":{\"id\":\"dcf91f8a-7cda-4076-a690-7e2e2e75cd3e\",\"subtype\":\"Figure\",\"type\":\"Plot\"},\"ticker\":{\"id\":\"f0dcfa43-68e3-491a-a98a-9ddb81acdc60\",\"type\":\"BasicTicker\"}},\"id\":\"7df086d1-1951-4e39-b03e-44a12423b835\",\"type\":\"Grid\"},{\"attributes\":{},\"id\":\"9678cbf9-d34f-4bbe-9a65-713a1349b143\",\"type\":\"LinearScale\"},{\"attributes\":{\"bottom_units\":\"screen\",\"fill_alpha\":{\"value\":0.5},\"fill_color\":{\"value\":\"lightgrey\"},\"left_units\":\"screen\",\"level\":\"overlay\",\"line_alpha\":{\"value\":1.0},\"line_color\":{\"value\":\"black\"},\"line_dash\":[4,4],\"line_width\":{\"value\":2},\"plot\":null,\"render_mode\":\"css\",\"right_units\":\"screen\",\"top_units\":\"screen\"},\"id\":\"b5d673b5-99d5-4a35-a69f-05af2b683988\",\"type\":\"BoxAnnotation\"},{\"attributes\":{\"callback\":null},\"id\":\"af25cb48-aaf9-490f-ad59-64ed1e8d8303\",\"type\":\"DataRange1d\"},{\"attributes\":{\"data_source\":{\"id\":\"43f9cf7c-27de-4f64-8426-28989d8497a0\",\"type\":\"ColumnDataSource\"},\"glyph\":{\"id\":\"a0f5d5fd-8969-4cea-b6ae-3ef5ad9efb22\",\"type\":\"Circle\"},\"hover_glyph\":null,\"muted_glyph\":null,\"name\":\"photometry\",\"nonselection_glyph\":{\"id\":\"d660cf4f-8188-41b4-bf80-83c09b0b214d\",\"type\":\"Circle\"},\"selection_glyph\":null},\"id\":\"31ae0eae-792a-4fbc-9da1-50a7e5b17e80\",\"type\":\"GlyphRenderer\"},{\"attributes\":{\"plot\":{\"id\":\"dcf91f8a-7cda-4076-a690-7e2e2e75cd3e\",\"subtype\":\"Figure\",\"type\":\"Plot\"}},\"id\":\"9bcfb23c-b06e-40cf-9e3c-b7a2d9d1f13b\",\"type\":\"PanTool\"},{\"attributes\":{\"callback\":null,\"plot\":{\"id\":\"dcf91f8a-7cda-4076-a690-7e2e2e75cd3e\",\"subtype\":\"Figure\",\"type\":\"Plot\"},\"tooltips\":[[\"Name\",\"@desc\"],[\"distance\",\"@x\"],[\"Teff\",\"@y\"]]},\"id\":\"782aa4a3-3de4-40ac-88d5-49c568146aa5\",\"type\":\"HoverTool\"},{\"attributes\":{\"callback\":null,\"column_names\":[\"y\",\"desc\",\"x\"],\"data\":{\"desc\":[\"2MASS 261832886\",\"2MASS 2618328860\",\"2MASS 2618328861\",\"2MASS 2618328862\",\"2MASS 2618328863\",\"2MASS 2618328864\",\"2MASS 2618328865\",\"2MASS 2618328866\",\"2MASS 2618328867\",\"2MASS 2618328868\",\"2MASS 2618328869\"],\"x\":[572.28,570.18,601.33,595.05,561.37,590.02,634.2,561.95,609.43,579.1,528.71],\"y\":[3424.0,3418.0,3510.0,3492.0,3391.0,3477.0,3605.0,3393.0,3533.0,3444.0,3291.0]}},\"id\":\"43f9cf7c-27de-4f64-8426-28989d8497a0\",\"type\":\"ColumnDataSource\"},{\"attributes\":{},\"id\":\"bd47fc0d-4226-4d5c-9951-9f0be14c61fa\",\"type\":\"BasicTickFormatter\"}],\"root_ids\":[\"dcf91f8a-7cda-4076-a690-7e2e2e75cd3e\"]},\"title\":\"Bokeh Application\",\"version\":\"0.12.6\"}};\n",
       "            var render_items = [{\"docid\":\"87a3c531-ec38-41c3-b6fb-c8c2aee9284c\",\"elementid\":\"daa0e819-73f3-4542-80c8-0d0e26deb885\",\"modelid\":\"dcf91f8a-7cda-4076-a690-7e2e2e75cd3e\"}];\n",
       "            \n",
       "            Bokeh.embed.embed_items(docs_json, render_items);\n",
       "          };\n",
       "          if (document.readyState != \"loading\") fn();\n",
       "          else document.addEventListener(\"DOMContentLoaded\", fn);\n",
       "        })();\n",
       "      },\n",
       "      function(Bokeh) {\n",
       "      }\n",
       "    ];\n",
       "  \n",
       "    function run_inline_js() {\n",
       "      \n",
       "      if ((window.Bokeh !== undefined) || (force === true)) {\n",
       "        for (var i = 0; i < inline_js.length; i++) {\n",
       "          inline_js[i](window.Bokeh);\n",
       "        }if (force === true) {\n",
       "          display_loaded();\n",
       "        }} else if (Date.now() < window._bokeh_timeout) {\n",
       "        setTimeout(run_inline_js, 100);\n",
       "      } else if (!window._bokeh_failed_load) {\n",
       "        console.log(\"Bokeh: BokehJS failed to load within specified timeout.\");\n",
       "        window._bokeh_failed_load = true;\n",
       "      } else if (force !== true) {\n",
       "        var cell = $(document.getElementById(\"daa0e819-73f3-4542-80c8-0d0e26deb885\")).parents('.cell').data().cell;\n",
       "        cell.output_area.append_execute_result(NB_LOAD_WARNING)\n",
       "      }\n",
       "  \n",
       "    }\n",
       "  \n",
       "    if (window._bokeh_is_loading === 0) {\n",
       "      console.log(\"Bokeh: BokehJS loaded, going straight to plotting\");\n",
       "      run_inline_js();\n",
       "    } else {\n",
       "      load_libs(js_urls, function() {\n",
       "        console.log(\"Bokeh: BokehJS plotting callback run at\", now());\n",
       "        run_inline_js();\n",
       "      });\n",
       "    }\n",
       "  }(this));\n",
       "</script>"
      ]
     },
     "metadata": {},
     "output_type": "display_data"
    }
   ],
   "source": [
    "show(cat.plot('distance', 'Teff'))"
   ]
  },
  {
   "cell_type": "markdown",
   "metadata": {},
   "source": [
    "Or plot a CMD! You can also pass the difference of two magnitudes as a string like so."
   ]
  },
  {
   "cell_type": "code",
   "execution_count": 19,
   "metadata": {
    "collapsed": false
   },
   "outputs": [
    {
     "data": {
      "text/html": [
       "\n",
       "\n",
       "    <div class=\"bk-root\">\n",
       "        <div class=\"bk-plotdiv\" id=\"51163c73-6851-4a5d-9b39-c85a42dacd05\"></div>\n",
       "    </div>\n",
       "<script type=\"text/javascript\">\n",
       "  \n",
       "  (function(global) {\n",
       "    function now() {\n",
       "      return new Date();\n",
       "    }\n",
       "  \n",
       "    var force = false;\n",
       "  \n",
       "    if (typeof (window._bokeh_onload_callbacks) === \"undefined\" || force === true) {\n",
       "      window._bokeh_onload_callbacks = [];\n",
       "      window._bokeh_is_loading = undefined;\n",
       "    }\n",
       "  \n",
       "  \n",
       "    \n",
       "    if (typeof (window._bokeh_timeout) === \"undefined\" || force === true) {\n",
       "      window._bokeh_timeout = Date.now() + 0;\n",
       "      window._bokeh_failed_load = false;\n",
       "    }\n",
       "  \n",
       "    var NB_LOAD_WARNING = {'data': {'text/html':\n",
       "       \"<div style='background-color: #fdd'>\\n\"+\n",
       "       \"<p>\\n\"+\n",
       "       \"BokehJS does not appear to have successfully loaded. If loading BokehJS from CDN, this \\n\"+\n",
       "       \"may be due to a slow or bad network connection. Possible fixes:\\n\"+\n",
       "       \"</p>\\n\"+\n",
       "       \"<ul>\\n\"+\n",
       "       \"<li>re-rerun `output_notebook()` to attempt to load from CDN again, or</li>\\n\"+\n",
       "       \"<li>use INLINE resources instead, as so:</li>\\n\"+\n",
       "       \"</ul>\\n\"+\n",
       "       \"<code>\\n\"+\n",
       "       \"from bokeh.resources import INLINE\\n\"+\n",
       "       \"output_notebook(resources=INLINE)\\n\"+\n",
       "       \"</code>\\n\"+\n",
       "       \"</div>\"}};\n",
       "  \n",
       "    function display_loaded() {\n",
       "      if (window.Bokeh !== undefined) {\n",
       "        var el = document.getElementById(\"51163c73-6851-4a5d-9b39-c85a42dacd05\");\n",
       "        el.textContent = \"BokehJS \" + Bokeh.version + \" successfully loaded.\";\n",
       "      } else if (Date.now() < window._bokeh_timeout) {\n",
       "        setTimeout(display_loaded, 100)\n",
       "      }\n",
       "    }\n",
       "  \n",
       "    function run_callbacks() {\n",
       "      try {\n",
       "        window._bokeh_onload_callbacks.forEach(function(callback) { callback() });\n",
       "      }\n",
       "      finally {\n",
       "        delete window._bokeh_onload_callbacks\n",
       "      }\n",
       "      console.info(\"Bokeh: all callbacks have finished\");\n",
       "    }\n",
       "  \n",
       "    function load_libs(js_urls, callback) {\n",
       "      window._bokeh_onload_callbacks.push(callback);\n",
       "      if (window._bokeh_is_loading > 0) {\n",
       "        console.log(\"Bokeh: BokehJS is being loaded, scheduling callback at\", now());\n",
       "        return null;\n",
       "      }\n",
       "      if (js_urls == null || js_urls.length === 0) {\n",
       "        run_callbacks();\n",
       "        return null;\n",
       "      }\n",
       "      console.log(\"Bokeh: BokehJS not loaded, scheduling load and callback at\", now());\n",
       "      window._bokeh_is_loading = js_urls.length;\n",
       "      for (var i = 0; i < js_urls.length; i++) {\n",
       "        var url = js_urls[i];\n",
       "        var s = document.createElement('script');\n",
       "        s.src = url;\n",
       "        s.async = false;\n",
       "        s.onreadystatechange = s.onload = function() {\n",
       "          window._bokeh_is_loading--;\n",
       "          if (window._bokeh_is_loading === 0) {\n",
       "            console.log(\"Bokeh: all BokehJS libraries loaded\");\n",
       "            run_callbacks()\n",
       "          }\n",
       "        };\n",
       "        s.onerror = function() {\n",
       "          console.warn(\"failed to load library \" + url);\n",
       "        };\n",
       "        console.log(\"Bokeh: injecting script tag for BokehJS library: \", url);\n",
       "        document.getElementsByTagName(\"head\")[0].appendChild(s);\n",
       "      }\n",
       "    };var element = document.getElementById(\"51163c73-6851-4a5d-9b39-c85a42dacd05\");\n",
       "    if (element == null) {\n",
       "      console.log(\"Bokeh: ERROR: autoload.js configured with elementid '51163c73-6851-4a5d-9b39-c85a42dacd05' but no matching script tag was found. \")\n",
       "      return false;\n",
       "    }\n",
       "  \n",
       "    var js_urls = [];\n",
       "  \n",
       "    var inline_js = [\n",
       "      function(Bokeh) {\n",
       "        (function() {\n",
       "          var fn = function() {\n",
       "            var docs_json = {\"45104f0d-0e87-4e7b-aaa2-6732716e3b13\":{\"roots\":{\"references\":[{\"attributes\":{\"below\":[{\"id\":\"de26c6ee-aa8b-4d21-99da-0d6146d66943\",\"type\":\"LinearAxis\"}],\"left\":[{\"id\":\"c0323475-a05c-4c56-aecd-fd7fc93d355e\",\"type\":\"LinearAxis\"}],\"plot_height\":500,\"plot_width\":800,\"renderers\":[{\"id\":\"de26c6ee-aa8b-4d21-99da-0d6146d66943\",\"type\":\"LinearAxis\"},{\"id\":\"ce10cfdc-3607-4156-961e-8359c863f3fe\",\"type\":\"Grid\"},{\"id\":\"c0323475-a05c-4c56-aecd-fd7fc93d355e\",\"type\":\"LinearAxis\"},{\"id\":\"f578da33-5cb6-4558-afa6-99d001a03312\",\"type\":\"Grid\"},{\"id\":\"46e277e6-084b-46a1-93da-77ae2e44a07d\",\"type\":\"BoxAnnotation\"},{\"id\":\"f1a90a4c-651a-4258-9404-6417ffb63034\",\"type\":\"Legend\"},{\"id\":\"8ca8ffde-0c18-4720-9cf2-5bf21ffb1346\",\"type\":\"GlyphRenderer\"}],\"title\":{\"id\":\"da760a46-2d57-4da9-9668-f8e0b9be975e\",\"type\":\"Title\"},\"tool_events\":{\"id\":\"0d4c7703-16a2-4cbd-9dcf-1b7fc712b695\",\"type\":\"ToolEvents\"},\"toolbar\":{\"id\":\"2e081c2b-950b-4117-8ff9-947d7d12bc1b\",\"type\":\"Toolbar\"},\"x_range\":{\"id\":\"628a93b2-3c30-40ab-9da9-fd7f9630220e\",\"type\":\"DataRange1d\"},\"x_scale\":{\"id\":\"3a7f73bb-7677-4812-882c-71835b6ac55b\",\"type\":\"LinearScale\"},\"y_range\":{\"id\":\"215d1477-7503-492d-bfe3-e550c7ff3058\",\"type\":\"DataRange1d\"},\"y_scale\":{\"id\":\"5295b102-ee8d-4f68-be6e-68b7aac9b9d5\",\"type\":\"LinearScale\"}},\"id\":\"5dcdcae0-6c41-4f87-90c1-503dae6c64bf\",\"subtype\":\"Figure\",\"type\":\"Plot\"},{\"attributes\":{\"callback\":null,\"column_names\":[\"y\",\"desc\",\"x\"],\"data\":{\"desc\":[\"2MASS 261832886\",\"2MASS 2618328860\",\"2MASS 2618328861\",\"2MASS 2618328862\",\"2MASS 2618328863\",\"2MASS 2618328864\",\"2MASS 2618328865\",\"2MASS 2618328866\",\"2MASS 2618328867\",\"2MASS 2618328868\",\"2MASS 2618328869\"],\"x\":{\"__ndarray__\":\"MAisHFpk6z8wCKwcWmTrPzAIrBxaZOs/MAisHFpk6z8wCKwcWmTrPzAIrBxaZOs/MAisHFpk6z8wCKwcWmTrPzAIrBxaZOs/MAisHFpk6z8wCKwcWmTrPw==\",\"dtype\":\"float64\",\"shape\":[11]},\"y\":{\"__ndarray__\":\"GQRWDmUD50BU46WbPNjmQOxRuB6xaOlAg8DKoYnh6EDy0k1i6CTmQOf7qfFOduhA+FPjpT9D7ED6fmq8oDDmQEw3iUEcGepAfT81XqaQ50C28/3UeKTjQA==\",\"dtype\":\"float64\",\"shape\":[11]}}},\"id\":\"cef494db-7f24-48bd-b98e-cac9f4969b50\",\"type\":\"ColumnDataSource\"},{\"attributes\":{},\"id\":\"5581a581-0227-4cbf-be07-ae81f1cd8f3c\",\"type\":\"BasicTickFormatter\"},{\"attributes\":{\"bottom_units\":\"screen\",\"fill_alpha\":{\"value\":0.5},\"fill_color\":{\"value\":\"lightgrey\"},\"left_units\":\"screen\",\"level\":\"overlay\",\"line_alpha\":{\"value\":1.0},\"line_color\":{\"value\":\"black\"},\"line_dash\":[4,4],\"line_width\":{\"value\":2},\"plot\":null,\"render_mode\":\"css\",\"right_units\":\"screen\",\"top_units\":\"screen\"},\"id\":\"46e277e6-084b-46a1-93da-77ae2e44a07d\",\"type\":\"BoxAnnotation\"},{\"attributes\":{\"fill_alpha\":{\"value\":0.7},\"fill_color\":{\"value\":\"#1f77b4\"},\"line_color\":{\"value\":\"#1f77b4\"},\"size\":{\"units\":\"screen\",\"value\":8},\"x\":{\"field\":\"x\"},\"y\":{\"field\":\"y\"}},\"id\":\"d104f654-6a55-48a2-976b-a7b5bd16de3c\",\"type\":\"Circle\"},{\"attributes\":{\"callback\":null},\"id\":\"628a93b2-3c30-40ab-9da9-fd7f9630220e\",\"type\":\"DataRange1d\"},{\"attributes\":{\"plot\":{\"id\":\"5dcdcae0-6c41-4f87-90c1-503dae6c64bf\",\"subtype\":\"Figure\",\"type\":\"Plot\"}},\"id\":\"bb5557f0-6105-4eb8-be98-9c4aed7a1880\",\"type\":\"ResetTool\"},{\"attributes\":{},\"id\":\"a7bdca38-65a8-49e7-9b0c-fea8b90e647f\",\"type\":\"BasicTickFormatter\"},{\"attributes\":{\"plot\":{\"id\":\"5dcdcae0-6c41-4f87-90c1-503dae6c64bf\",\"subtype\":\"Figure\",\"type\":\"Plot\"}},\"id\":\"b9375503-c720-4e2f-9dd3-c97eed615d61\",\"type\":\"SaveTool\"},{\"attributes\":{\"plot\":{\"id\":\"5dcdcae0-6c41-4f87-90c1-503dae6c64bf\",\"subtype\":\"Figure\",\"type\":\"Plot\"},\"ticker\":{\"id\":\"782a98ee-a357-42c0-8b12-27efd271accd\",\"type\":\"BasicTicker\"}},\"id\":\"ce10cfdc-3607-4156-961e-8359c863f3fe\",\"type\":\"Grid\"},{\"attributes\":{},\"id\":\"3a7f73bb-7677-4812-882c-71835b6ac55b\",\"type\":\"LinearScale\"},{\"attributes\":{},\"id\":\"5295b102-ee8d-4f68-be6e-68b7aac9b9d5\",\"type\":\"LinearScale\"},{\"attributes\":{},\"id\":\"782a98ee-a357-42c0-8b12-27efd271accd\",\"type\":\"BasicTicker\"},{\"attributes\":{\"plot\":null,\"text\":\"2MASS.J-2MASS.Ks v M_2MASS.J\"},\"id\":\"da760a46-2d57-4da9-9668-f8e0b9be975e\",\"type\":\"Title\"},{\"attributes\":{\"overlay\":{\"id\":\"46e277e6-084b-46a1-93da-77ae2e44a07d\",\"type\":\"BoxAnnotation\"},\"plot\":{\"id\":\"5dcdcae0-6c41-4f87-90c1-503dae6c64bf\",\"subtype\":\"Figure\",\"type\":\"Plot\"}},\"id\":\"8fe5c4ce-35c9-47f6-843a-6fe7559d5e84\",\"type\":\"BoxZoomTool\"},{\"attributes\":{\"plot\":{\"id\":\"5dcdcae0-6c41-4f87-90c1-503dae6c64bf\",\"subtype\":\"Figure\",\"type\":\"Plot\"}},\"id\":\"e4603ca3-a810-4982-8301-953a66c30700\",\"type\":\"ResizeTool\"},{\"attributes\":{\"label\":{\"value\":\"Photometry\"},\"renderers\":[{\"id\":\"8ca8ffde-0c18-4720-9cf2-5bf21ffb1346\",\"type\":\"GlyphRenderer\"}]},\"id\":\"49749439-06c9-4e55-b95a-364e32dd339b\",\"type\":\"LegendItem\"},{\"attributes\":{\"plot\":{\"id\":\"5dcdcae0-6c41-4f87-90c1-503dae6c64bf\",\"subtype\":\"Figure\",\"type\":\"Plot\"}},\"id\":\"b062006a-07bc-46ac-ab23-6aab57f02f79\",\"type\":\"PanTool\"},{\"attributes\":{\"dimension\":1,\"plot\":{\"id\":\"5dcdcae0-6c41-4f87-90c1-503dae6c64bf\",\"subtype\":\"Figure\",\"type\":\"Plot\"},\"ticker\":{\"id\":\"1de6c711-dc05-45dc-b0f0-a39e7aab6a49\",\"type\":\"BasicTicker\"}},\"id\":\"f578da33-5cb6-4558-afa6-99d001a03312\",\"type\":\"Grid\"},{\"attributes\":{},\"id\":\"1de6c711-dc05-45dc-b0f0-a39e7aab6a49\",\"type\":\"BasicTicker\"},{\"attributes\":{\"fill_alpha\":{\"value\":0.1},\"fill_color\":{\"value\":\"#1f77b4\"},\"line_alpha\":{\"value\":0.1},\"line_color\":{\"value\":\"#1f77b4\"},\"size\":{\"units\":\"screen\",\"value\":8},\"x\":{\"field\":\"x\"},\"y\":{\"field\":\"y\"}},\"id\":\"4fb387bc-26dd-4a03-b61c-7b98e5f421b5\",\"type\":\"Circle\"},{\"attributes\":{\"callback\":null},\"id\":\"215d1477-7503-492d-bfe3-e550c7ff3058\",\"type\":\"DataRange1d\"},{\"attributes\":{\"active_drag\":\"auto\",\"active_inspect\":\"auto\",\"active_scroll\":\"auto\",\"active_tap\":\"auto\",\"tools\":[{\"id\":\"b062006a-07bc-46ac-ab23-6aab57f02f79\",\"type\":\"PanTool\"},{\"id\":\"e4603ca3-a810-4982-8301-953a66c30700\",\"type\":\"ResizeTool\"},{\"id\":\"bb5557f0-6105-4eb8-be98-9c4aed7a1880\",\"type\":\"ResetTool\"},{\"id\":\"8fe5c4ce-35c9-47f6-843a-6fe7559d5e84\",\"type\":\"BoxZoomTool\"},{\"id\":\"b9375503-c720-4e2f-9dd3-c97eed615d61\",\"type\":\"SaveTool\"},{\"id\":\"41342439-029c-4288-9ad1-07b3b00e8b0a\",\"type\":\"HoverTool\"}]},\"id\":\"2e081c2b-950b-4117-8ff9-947d7d12bc1b\",\"type\":\"Toolbar\"},{\"attributes\":{\"data_source\":{\"id\":\"cef494db-7f24-48bd-b98e-cac9f4969b50\",\"type\":\"ColumnDataSource\"},\"glyph\":{\"id\":\"d104f654-6a55-48a2-976b-a7b5bd16de3c\",\"type\":\"Circle\"},\"hover_glyph\":null,\"muted_glyph\":null,\"name\":\"photometry\",\"nonselection_glyph\":{\"id\":\"4fb387bc-26dd-4a03-b61c-7b98e5f421b5\",\"type\":\"Circle\"},\"selection_glyph\":null},\"id\":\"8ca8ffde-0c18-4720-9cf2-5bf21ffb1346\",\"type\":\"GlyphRenderer\"},{\"attributes\":{\"callback\":null,\"plot\":{\"id\":\"5dcdcae0-6c41-4f87-90c1-503dae6c64bf\",\"subtype\":\"Figure\",\"type\":\"Plot\"},\"tooltips\":[[\"Name\",\"@desc\"],[\"2MASS.J-2MASS.Ks\",\"@x\"],[\"M_2MASS.J\",\"@y\"]]},\"id\":\"41342439-029c-4288-9ad1-07b3b00e8b0a\",\"type\":\"HoverTool\"},{\"attributes\":{},\"id\":\"0d4c7703-16a2-4cbd-9dcf-1b7fc712b695\",\"type\":\"ToolEvents\"},{\"attributes\":{\"axis_label\":\"2MASS.J-2MASS.Ks\",\"formatter\":{\"id\":\"5581a581-0227-4cbf-be07-ae81f1cd8f3c\",\"type\":\"BasicTickFormatter\"},\"plot\":{\"id\":\"5dcdcae0-6c41-4f87-90c1-503dae6c64bf\",\"subtype\":\"Figure\",\"type\":\"Plot\"},\"ticker\":{\"id\":\"782a98ee-a357-42c0-8b12-27efd271accd\",\"type\":\"BasicTicker\"}},\"id\":\"de26c6ee-aa8b-4d21-99da-0d6146d66943\",\"type\":\"LinearAxis\"},{\"attributes\":{\"axis_label\":\"M_2MASS.J\",\"formatter\":{\"id\":\"a7bdca38-65a8-49e7-9b0c-fea8b90e647f\",\"type\":\"BasicTickFormatter\"},\"plot\":{\"id\":\"5dcdcae0-6c41-4f87-90c1-503dae6c64bf\",\"subtype\":\"Figure\",\"type\":\"Plot\"},\"ticker\":{\"id\":\"1de6c711-dc05-45dc-b0f0-a39e7aab6a49\",\"type\":\"BasicTicker\"}},\"id\":\"c0323475-a05c-4c56-aecd-fd7fc93d355e\",\"type\":\"LinearAxis\"},{\"attributes\":{\"click_policy\":\"hide\",\"items\":[{\"id\":\"49749439-06c9-4e55-b95a-364e32dd339b\",\"type\":\"LegendItem\"}],\"plot\":{\"id\":\"5dcdcae0-6c41-4f87-90c1-503dae6c64bf\",\"subtype\":\"Figure\",\"type\":\"Plot\"}},\"id\":\"f1a90a4c-651a-4258-9404-6417ffb63034\",\"type\":\"Legend\"}],\"root_ids\":[\"5dcdcae0-6c41-4f87-90c1-503dae6c64bf\"]},\"title\":\"Bokeh Application\",\"version\":\"0.12.6\"}};\n",
       "            var render_items = [{\"docid\":\"45104f0d-0e87-4e7b-aaa2-6732716e3b13\",\"elementid\":\"51163c73-6851-4a5d-9b39-c85a42dacd05\",\"modelid\":\"5dcdcae0-6c41-4f87-90c1-503dae6c64bf\"}];\n",
       "            \n",
       "            Bokeh.embed.embed_items(docs_json, render_items);\n",
       "          };\n",
       "          if (document.readyState != \"loading\") fn();\n",
       "          else document.addEventListener(\"DOMContentLoaded\", fn);\n",
       "        })();\n",
       "      },\n",
       "      function(Bokeh) {\n",
       "      }\n",
       "    ];\n",
       "  \n",
       "    function run_inline_js() {\n",
       "      \n",
       "      if ((window.Bokeh !== undefined) || (force === true)) {\n",
       "        for (var i = 0; i < inline_js.length; i++) {\n",
       "          inline_js[i](window.Bokeh);\n",
       "        }if (force === true) {\n",
       "          display_loaded();\n",
       "        }} else if (Date.now() < window._bokeh_timeout) {\n",
       "        setTimeout(run_inline_js, 100);\n",
       "      } else if (!window._bokeh_failed_load) {\n",
       "        console.log(\"Bokeh: BokehJS failed to load within specified timeout.\");\n",
       "        window._bokeh_failed_load = true;\n",
       "      } else if (force !== true) {\n",
       "        var cell = $(document.getElementById(\"51163c73-6851-4a5d-9b39-c85a42dacd05\")).parents('.cell').data().cell;\n",
       "        cell.output_area.append_execute_result(NB_LOAD_WARNING)\n",
       "      }\n",
       "  \n",
       "    }\n",
       "  \n",
       "    if (window._bokeh_is_loading === 0) {\n",
       "      console.log(\"Bokeh: BokehJS loaded, going straight to plotting\");\n",
       "      run_inline_js();\n",
       "    } else {\n",
       "      load_libs(js_urls, function() {\n",
       "        console.log(\"Bokeh: BokehJS plotting callback run at\", now());\n",
       "        run_inline_js();\n",
       "      });\n",
       "    }\n",
       "  }(this));\n",
       "</script>"
      ]
     },
     "metadata": {},
     "output_type": "display_data"
    }
   ],
   "source": [
    "show(cat.plot('2MASS.J-2MASS.Ks', 'M_2MASS.J'))"
   ]
  },
  {
   "cell_type": "markdown",
   "metadata": {},
   "source": [
    "We can then retrieve the SED for a particular source like so:"
   ]
  },
  {
   "cell_type": "code",
   "execution_count": 20,
   "metadata": {
    "collapsed": false
   },
   "outputs": [
    {
     "data": {
      "text/html": [
       "\n",
       "\n",
       "    <div class=\"bk-root\">\n",
       "        <div class=\"bk-plotdiv\" id=\"5b948a74-3f6c-4f5d-8c3b-5a1869816b31\"></div>\n",
       "    </div>\n",
       "<script type=\"text/javascript\">\n",
       "  \n",
       "  (function(global) {\n",
       "    function now() {\n",
       "      return new Date();\n",
       "    }\n",
       "  \n",
       "    var force = false;\n",
       "  \n",
       "    if (typeof (window._bokeh_onload_callbacks) === \"undefined\" || force === true) {\n",
       "      window._bokeh_onload_callbacks = [];\n",
       "      window._bokeh_is_loading = undefined;\n",
       "    }\n",
       "  \n",
       "  \n",
       "    \n",
       "    if (typeof (window._bokeh_timeout) === \"undefined\" || force === true) {\n",
       "      window._bokeh_timeout = Date.now() + 0;\n",
       "      window._bokeh_failed_load = false;\n",
       "    }\n",
       "  \n",
       "    var NB_LOAD_WARNING = {'data': {'text/html':\n",
       "       \"<div style='background-color: #fdd'>\\n\"+\n",
       "       \"<p>\\n\"+\n",
       "       \"BokehJS does not appear to have successfully loaded. If loading BokehJS from CDN, this \\n\"+\n",
       "       \"may be due to a slow or bad network connection. Possible fixes:\\n\"+\n",
       "       \"</p>\\n\"+\n",
       "       \"<ul>\\n\"+\n",
       "       \"<li>re-rerun `output_notebook()` to attempt to load from CDN again, or</li>\\n\"+\n",
       "       \"<li>use INLINE resources instead, as so:</li>\\n\"+\n",
       "       \"</ul>\\n\"+\n",
       "       \"<code>\\n\"+\n",
       "       \"from bokeh.resources import INLINE\\n\"+\n",
       "       \"output_notebook(resources=INLINE)\\n\"+\n",
       "       \"</code>\\n\"+\n",
       "       \"</div>\"}};\n",
       "  \n",
       "    function display_loaded() {\n",
       "      if (window.Bokeh !== undefined) {\n",
       "        var el = document.getElementById(\"5b948a74-3f6c-4f5d-8c3b-5a1869816b31\");\n",
       "        el.textContent = \"BokehJS \" + Bokeh.version + \" successfully loaded.\";\n",
       "      } else if (Date.now() < window._bokeh_timeout) {\n",
       "        setTimeout(display_loaded, 100)\n",
       "      }\n",
       "    }\n",
       "  \n",
       "    function run_callbacks() {\n",
       "      try {\n",
       "        window._bokeh_onload_callbacks.forEach(function(callback) { callback() });\n",
       "      }\n",
       "      finally {\n",
       "        delete window._bokeh_onload_callbacks\n",
       "      }\n",
       "      console.info(\"Bokeh: all callbacks have finished\");\n",
       "    }\n",
       "  \n",
       "    function load_libs(js_urls, callback) {\n",
       "      window._bokeh_onload_callbacks.push(callback);\n",
       "      if (window._bokeh_is_loading > 0) {\n",
       "        console.log(\"Bokeh: BokehJS is being loaded, scheduling callback at\", now());\n",
       "        return null;\n",
       "      }\n",
       "      if (js_urls == null || js_urls.length === 0) {\n",
       "        run_callbacks();\n",
       "        return null;\n",
       "      }\n",
       "      console.log(\"Bokeh: BokehJS not loaded, scheduling load and callback at\", now());\n",
       "      window._bokeh_is_loading = js_urls.length;\n",
       "      for (var i = 0; i < js_urls.length; i++) {\n",
       "        var url = js_urls[i];\n",
       "        var s = document.createElement('script');\n",
       "        s.src = url;\n",
       "        s.async = false;\n",
       "        s.onreadystatechange = s.onload = function() {\n",
       "          window._bokeh_is_loading--;\n",
       "          if (window._bokeh_is_loading === 0) {\n",
       "            console.log(\"Bokeh: all BokehJS libraries loaded\");\n",
       "            run_callbacks()\n",
       "          }\n",
       "        };\n",
       "        s.onerror = function() {\n",
       "          console.warn(\"failed to load library \" + url);\n",
       "        };\n",
       "        console.log(\"Bokeh: injecting script tag for BokehJS library: \", url);\n",
       "        document.getElementsByTagName(\"head\")[0].appendChild(s);\n",
       "      }\n",
       "    };var element = document.getElementById(\"5b948a74-3f6c-4f5d-8c3b-5a1869816b31\");\n",
       "    if (element == null) {\n",
       "      console.log(\"Bokeh: ERROR: autoload.js configured with elementid '5b948a74-3f6c-4f5d-8c3b-5a1869816b31' but no matching script tag was found. \")\n",
       "      return false;\n",
       "    }\n",
       "  \n",
       "    var js_urls = [];\n",
       "  \n",
       "    var inline_js = [\n",
       "      function(Bokeh) {\n",
       "        (function() {\n",
       "          var fn = function() {\n",
       "            var docs_json = {\"bf6f4d23-3d8d-4360-9ea7-b037c4b4c853\":{\"roots\":{\"references\":[{\"attributes\":{\"axis_label\":\"Wavelength [um]\",\"formatter\":{\"id\":\"b1e68190-cec6-46cf-b5c1-756ef54c3825\",\"type\":\"LogTickFormatter\"},\"plot\":{\"id\":\"1a57ef5a-be6d-45ca-823b-3b9387cd678a\",\"subtype\":\"Figure\",\"type\":\"Plot\"},\"ticker\":{\"id\":\"b705f602-2463-4f49-8f51-dc622f94a943\",\"type\":\"LogTicker\"}},\"id\":\"0b2dc7a2-d698-4061-8100-d2db575d895a\",\"type\":\"LogAxis\"},{\"attributes\":{\"plot\":{\"id\":\"1a57ef5a-be6d-45ca-823b-3b9387cd678a\",\"subtype\":\"Figure\",\"type\":\"Plot\"}},\"id\":\"88f76b29-5d15-4169-beff-e2511b3229cd\",\"type\":\"ResetTool\"},{\"attributes\":{},\"id\":\"531fe92e-1f53-466b-ae9a-7a23670f3cf6\",\"type\":\"ToolEvents\"},{\"attributes\":{\"plot\":{\"id\":\"1a57ef5a-be6d-45ca-823b-3b9387cd678a\",\"subtype\":\"Figure\",\"type\":\"Plot\"}},\"id\":\"32063c29-1846-40e0-bd90-37174ad5d2ca\",\"type\":\"PanTool\"},{\"attributes\":{\"active_drag\":\"auto\",\"active_inspect\":\"auto\",\"active_scroll\":\"auto\",\"active_tap\":\"auto\",\"tools\":[{\"id\":\"32063c29-1846-40e0-bd90-37174ad5d2ca\",\"type\":\"PanTool\"},{\"id\":\"84c781bb-b562-4bbc-bf70-4048a4c0ade8\",\"type\":\"ResizeTool\"},{\"id\":\"88f76b29-5d15-4169-beff-e2511b3229cd\",\"type\":\"ResetTool\"},{\"id\":\"9d7e3804-c596-4910-92a9-e80acb0bf384\",\"type\":\"BoxZoomTool\"},{\"id\":\"e5141e45-cd96-4cbe-aa82-aedc8debf28e\",\"type\":\"SaveTool\"},{\"id\":\"7f889850-6624-42e9-a075-c7d00f487676\",\"type\":\"HoverTool\"}]},\"id\":\"6e9bd9b1-fcd6-4779-984e-5523ea003349\",\"type\":\"Toolbar\"},{\"attributes\":{},\"id\":\"5a1d14e2-674c-4d71-9398-9d2bf6ca5dae\",\"type\":\"LogScale\"},{\"attributes\":{\"callback\":null,\"column_names\":[\"y\",\"z\",\"desc\",\"x\"],\"data\":{\"desc\":[\"b'SDSS.u'\",\"b'SDSS.g'\",\"b'SDSS.r'\",\"b'SDSS.i'\",\"b'SDSS.z'\",\"b'2MASS.J'\",\"b'2MASS.H'\",\"b'2MASS.Ks'\",\"b'WISE.W1'\",\"b'WISE.W2'\"],\"x\":{\"__ndarray__\":\"eNlVRQLD1j+8rNt5kRjePxiqmcIIw+M/iHoI/sn35z9961v8JKHsPxnAPwE21PM//NdpkFRk+j/b9fYklk8BQLb6mJQdHgtAztF7ywKQEkA=\",\"dtype\":\"float64\",\"shape\":[10]},\"y\":{\"__ndarray__\":\"RDnBRQdlezzk+mJun/a9PLYDUURo+Mc8OltTiBIMxzx47lI04d3CPNtLmY+CpMM8OhyIXnJ/uzxe5/b/qLenPEycLGlOs4E84enioNtfZDw=\",\"dtype\":\"float64\",\"shape\":[10]},\"z\":{\"__ndarray__\":\"I5bdy2N4PTxzg8LG2DFFPEYXu/B7m0Y85ORpZ5a8RTytQXIbDz5GPHi6MUv3yXA8AKWu/SzvaTw+fBLcUcRXPMooDj7JKyw8bmUN6nUEFTw=\",\"dtype\":\"float64\",\"shape\":[10]}}},\"id\":\"06cb48f5-c625-473f-a618-b345f08799d2\",\"type\":\"ColumnDataSource\"},{\"attributes\":{\"num_minor_ticks\":10},\"id\":\"6ff37a98-0d8b-4c62-bd3f-39f2a51f710a\",\"type\":\"LogTicker\"},{\"attributes\":{\"click_policy\":\"hide\",\"items\":[{\"id\":\"81adc1a3-cd6b-4e36-b2b7-c36c37d58ae3\",\"type\":\"LegendItem\"},{\"id\":\"78ee0d64-fb8f-445d-91c2-87757c462c3d\",\"type\":\"LegendItem\"}],\"plot\":{\"id\":\"1a57ef5a-be6d-45ca-823b-3b9387cd678a\",\"subtype\":\"Figure\",\"type\":\"Plot\"}},\"id\":\"b8238c7b-0923-49fc-b1ad-865af6ffe2d2\",\"type\":\"Legend\"},{\"attributes\":{\"plot\":{\"id\":\"1a57ef5a-be6d-45ca-823b-3b9387cd678a\",\"subtype\":\"Figure\",\"type\":\"Plot\"},\"ticker\":{\"id\":\"b705f602-2463-4f49-8f51-dc622f94a943\",\"type\":\"LogTicker\"}},\"id\":\"dfa3e6a2-8e32-41dc-b482-22aaf45ddb1a\",\"type\":\"Grid\"},{\"attributes\":{\"fill_alpha\":{\"value\":0.1},\"fill_color\":{\"value\":\"#1f77b4\"},\"line_alpha\":{\"value\":0.1},\"line_color\":{\"value\":\"#1f77b4\"},\"size\":{\"units\":\"screen\",\"value\":8},\"x\":{\"field\":\"x\"},\"y\":{\"field\":\"y\"}},\"id\":\"ecf190b1-d551-4851-841e-b288d3ebdda4\",\"type\":\"Circle\"},{\"attributes\":{\"fill_alpha\":{\"value\":0.7},\"fill_color\":{\"value\":\"#1f77b4\"},\"line_color\":{\"value\":\"#1f77b4\"},\"size\":{\"units\":\"screen\",\"value\":8},\"x\":{\"field\":\"x\"},\"y\":{\"field\":\"y\"}},\"id\":\"aa4b96d2-64cd-4460-ab18-6443fb461646\",\"type\":\"Circle\"},{\"attributes\":{\"overlay\":{\"id\":\"9314f549-c03f-4f8c-a958-851106ac34f9\",\"type\":\"BoxAnnotation\"},\"plot\":{\"id\":\"1a57ef5a-be6d-45ca-823b-3b9387cd678a\",\"subtype\":\"Figure\",\"type\":\"Plot\"}},\"id\":\"9d7e3804-c596-4910-92a9-e80acb0bf384\",\"type\":\"BoxZoomTool\"},{\"attributes\":{\"num_minor_ticks\":10},\"id\":\"b705f602-2463-4f49-8f51-dc622f94a943\",\"type\":\"LogTicker\"},{\"attributes\":{\"dimension\":1,\"plot\":{\"id\":\"1a57ef5a-be6d-45ca-823b-3b9387cd678a\",\"subtype\":\"Figure\",\"type\":\"Plot\"},\"ticker\":{\"id\":\"6ff37a98-0d8b-4c62-bd3f-39f2a51f710a\",\"type\":\"LogTicker\"}},\"id\":\"ac8b6f43-0f9e-4dc2-96c3-b8931cd897b3\",\"type\":\"Grid\"},{\"attributes\":{},\"id\":\"2afeb76f-6f14-4279-bd38-9087b20c7ad2\",\"type\":\"LogScale\"},{\"attributes\":{\"ticker\":null},\"id\":\"b1e68190-cec6-46cf-b5c1-756ef54c3825\",\"type\":\"LogTickFormatter\"},{\"attributes\":{\"callback\":null,\"mode\":\"vline\",\"names\":[\"photometry\",\"nondetection\"],\"plot\":{\"id\":\"1a57ef5a-be6d-45ca-823b-3b9387cd678a\",\"subtype\":\"Figure\",\"type\":\"Plot\"},\"tooltips\":[[\"Band\",\"@desc\"],[\"Wave\",\"@x\"],[\"Flux\",\"@y\"],[\"Unc\",\"@z\"]]},\"id\":\"7f889850-6624-42e9-a075-c7d00f487676\",\"type\":\"HoverTool\"},{\"attributes\":{\"callback\":null,\"end\":21.599999999999998,\"start\":0.24},\"id\":\"3b4ae2de-353c-4956-b3aa-85d7ffbd872f\",\"type\":\"Range1d\"},{\"attributes\":{\"callback\":null,\"end\":1.33062122354094e-15,\"start\":2.1105194667034085e-19},\"id\":\"e41fe97b-431f-46e3-9b49-feb1944bbba6\",\"type\":\"Range1d\"},{\"attributes\":{\"label\":{\"value\":\"Photometry\"},\"renderers\":[{\"id\":\"8192faae-aea5-4307-b488-d6de0a042f4b\",\"type\":\"GlyphRenderer\"}]},\"id\":\"81adc1a3-cd6b-4e36-b2b7-c36c37d58ae3\",\"type\":\"LegendItem\"},{\"attributes\":{\"axis_label\":\"Flux Density [erg / (Angstrom cm2 s)]\",\"formatter\":{\"id\":\"453b0ebb-1030-4e55-a25f-f406763ff7d7\",\"type\":\"LogTickFormatter\"},\"plot\":{\"id\":\"1a57ef5a-be6d-45ca-823b-3b9387cd678a\",\"subtype\":\"Figure\",\"type\":\"Plot\"},\"ticker\":{\"id\":\"6ff37a98-0d8b-4c62-bd3f-39f2a51f710a\",\"type\":\"LogTicker\"}},\"id\":\"b19eebc6-8428-4abc-9c73-45a7037d5cbf\",\"type\":\"LogAxis\"},{\"attributes\":{\"fill_alpha\":{\"value\":0.1},\"fill_color\":{\"value\":\"#1f77b4\"},\"line_alpha\":{\"value\":0.1},\"line_color\":{\"value\":\"#1f77b4\"},\"size\":{\"units\":\"screen\",\"value\":8},\"x\":{\"field\":\"x\"},\"y\":{\"field\":\"y\"}},\"id\":\"13abe0e7-4107-4013-bd96-869a4e2cda85\",\"type\":\"Circle\"},{\"attributes\":{\"label\":{\"value\":\"Nondetection\"},\"renderers\":[{\"id\":\"ab96347d-f20f-4c6c-bc2b-6e5d1428f985\",\"type\":\"GlyphRenderer\"}]},\"id\":\"78ee0d64-fb8f-445d-91c2-87757c462c3d\",\"type\":\"LegendItem\"},{\"attributes\":{\"plot\":null,\"text\":\"2MASS 261832886\"},\"id\":\"8ac2d859-9b49-4309-955f-b2cb5eb1da93\",\"type\":\"Title\"},{\"attributes\":{\"plot\":{\"id\":\"1a57ef5a-be6d-45ca-823b-3b9387cd678a\",\"subtype\":\"Figure\",\"type\":\"Plot\"}},\"id\":\"84c781bb-b562-4bbc-bf70-4048a4c0ade8\",\"type\":\"ResizeTool\"},{\"attributes\":{\"below\":[{\"id\":\"0b2dc7a2-d698-4061-8100-d2db575d895a\",\"type\":\"LogAxis\"}],\"left\":[{\"id\":\"b19eebc6-8428-4abc-9c73-45a7037d5cbf\",\"type\":\"LogAxis\"}],\"plot_height\":500,\"plot_width\":800,\"renderers\":[{\"id\":\"0b2dc7a2-d698-4061-8100-d2db575d895a\",\"type\":\"LogAxis\"},{\"id\":\"dfa3e6a2-8e32-41dc-b482-22aaf45ddb1a\",\"type\":\"Grid\"},{\"id\":\"b19eebc6-8428-4abc-9c73-45a7037d5cbf\",\"type\":\"LogAxis\"},{\"id\":\"ac8b6f43-0f9e-4dc2-96c3-b8931cd897b3\",\"type\":\"Grid\"},{\"id\":\"9314f549-c03f-4f8c-a958-851106ac34f9\",\"type\":\"BoxAnnotation\"},{\"id\":\"b8238c7b-0923-49fc-b1ad-865af6ffe2d2\",\"type\":\"Legend\"},{\"id\":\"8192faae-aea5-4307-b488-d6de0a042f4b\",\"type\":\"GlyphRenderer\"},{\"id\":\"ab96347d-f20f-4c6c-bc2b-6e5d1428f985\",\"type\":\"GlyphRenderer\"}],\"title\":{\"id\":\"8ac2d859-9b49-4309-955f-b2cb5eb1da93\",\"type\":\"Title\"},\"tool_events\":{\"id\":\"531fe92e-1f53-466b-ae9a-7a23670f3cf6\",\"type\":\"ToolEvents\"},\"toolbar\":{\"id\":\"6e9bd9b1-fcd6-4779-984e-5523ea003349\",\"type\":\"Toolbar\"},\"x_range\":{\"id\":\"3b4ae2de-353c-4956-b3aa-85d7ffbd872f\",\"type\":\"Range1d\"},\"x_scale\":{\"id\":\"5a1d14e2-674c-4d71-9398-9d2bf6ca5dae\",\"type\":\"LogScale\"},\"y_range\":{\"id\":\"e41fe97b-431f-46e3-9b49-feb1944bbba6\",\"type\":\"Range1d\"},\"y_scale\":{\"id\":\"2afeb76f-6f14-4279-bd38-9087b20c7ad2\",\"type\":\"LogScale\"}},\"id\":\"1a57ef5a-be6d-45ca-823b-3b9387cd678a\",\"subtype\":\"Figure\",\"type\":\"Plot\"},{\"attributes\":{\"ticker\":null},\"id\":\"453b0ebb-1030-4e55-a25f-f406763ff7d7\",\"type\":\"LogTickFormatter\"},{\"attributes\":{\"data_source\":{\"id\":\"53865405-62a2-467f-b10c-38df64da3e23\",\"type\":\"ColumnDataSource\"},\"glyph\":{\"id\":\"50da1d05-46ca-44f9-8581-f824abcdf13b\",\"type\":\"Circle\"},\"hover_glyph\":null,\"muted_glyph\":null,\"name\":\"nondetection\",\"nonselection_glyph\":{\"id\":\"13abe0e7-4107-4013-bd96-869a4e2cda85\",\"type\":\"Circle\"},\"selection_glyph\":null},\"id\":\"ab96347d-f20f-4c6c-bc2b-6e5d1428f985\",\"type\":\"GlyphRenderer\"},{\"attributes\":{\"data_source\":{\"id\":\"06cb48f5-c625-473f-a618-b345f08799d2\",\"type\":\"ColumnDataSource\"},\"glyph\":{\"id\":\"aa4b96d2-64cd-4460-ab18-6443fb461646\",\"type\":\"Circle\"},\"hover_glyph\":null,\"muted_glyph\":null,\"name\":\"photometry\",\"nonselection_glyph\":{\"id\":\"ecf190b1-d551-4851-841e-b288d3ebdda4\",\"type\":\"Circle\"},\"selection_glyph\":null},\"id\":\"8192faae-aea5-4307-b488-d6de0a042f4b\",\"type\":\"GlyphRenderer\"},{\"attributes\":{\"plot\":{\"id\":\"1a57ef5a-be6d-45ca-823b-3b9387cd678a\",\"subtype\":\"Figure\",\"type\":\"Plot\"}},\"id\":\"e5141e45-cd96-4cbe-aa82-aedc8debf28e\",\"type\":\"SaveTool\"},{\"attributes\":{\"fill_alpha\":{\"value\":0},\"fill_color\":{\"value\":\"#1f77b4\"},\"line_color\":{\"value\":\"#1f77b4\"},\"size\":{\"units\":\"screen\",\"value\":8},\"x\":{\"field\":\"x\"},\"y\":{\"field\":\"y\"}},\"id\":\"50da1d05-46ca-44f9-8581-f824abcdf13b\",\"type\":\"Circle\"},{\"attributes\":{\"callback\":null,\"column_names\":[\"y\",\"z\",\"desc\",\"x\"],\"data\":{\"desc\":[\"b'WISE.W3'\"],\"x\":{\"__ndarray__\":\"z3EboZsiKUA=\",\"dtype\":\"float64\",\"shape\":[1]},\"y\":{\"__ndarray__\":\"Nv9NLlElHzw=\",\"dtype\":\"float64\",\"shape\":[1]},\"z\":{\"__ndarray__\":\"AAAAAAAA+H8=\",\"dtype\":\"float64\",\"shape\":[1]}}},\"id\":\"53865405-62a2-467f-b10c-38df64da3e23\",\"type\":\"ColumnDataSource\"},{\"attributes\":{\"bottom_units\":\"screen\",\"fill_alpha\":{\"value\":0.5},\"fill_color\":{\"value\":\"lightgrey\"},\"left_units\":\"screen\",\"level\":\"overlay\",\"line_alpha\":{\"value\":1.0},\"line_color\":{\"value\":\"black\"},\"line_dash\":[4,4],\"line_width\":{\"value\":2},\"plot\":null,\"render_mode\":\"css\",\"right_units\":\"screen\",\"top_units\":\"screen\"},\"id\":\"9314f549-c03f-4f8c-a958-851106ac34f9\",\"type\":\"BoxAnnotation\"}],\"root_ids\":[\"1a57ef5a-be6d-45ca-823b-3b9387cd678a\"]},\"title\":\"Bokeh Application\",\"version\":\"0.12.6\"}};\n",
       "            var render_items = [{\"docid\":\"bf6f4d23-3d8d-4360-9ea7-b037c4b4c853\",\"elementid\":\"5b948a74-3f6c-4f5d-8c3b-5a1869816b31\",\"modelid\":\"1a57ef5a-be6d-45ca-823b-3b9387cd678a\"}];\n",
       "            \n",
       "            Bokeh.embed.embed_items(docs_json, render_items);\n",
       "          };\n",
       "          if (document.readyState != \"loading\") fn();\n",
       "          else document.addEventListener(\"DOMContentLoaded\", fn);\n",
       "        })();\n",
       "      },\n",
       "      function(Bokeh) {\n",
       "      }\n",
       "    ];\n",
       "  \n",
       "    function run_inline_js() {\n",
       "      \n",
       "      if ((window.Bokeh !== undefined) || (force === true)) {\n",
       "        for (var i = 0; i < inline_js.length; i++) {\n",
       "          inline_js[i](window.Bokeh);\n",
       "        }if (force === true) {\n",
       "          display_loaded();\n",
       "        }} else if (Date.now() < window._bokeh_timeout) {\n",
       "        setTimeout(run_inline_js, 100);\n",
       "      } else if (!window._bokeh_failed_load) {\n",
       "        console.log(\"Bokeh: BokehJS failed to load within specified timeout.\");\n",
       "        window._bokeh_failed_load = true;\n",
       "      } else if (force !== true) {\n",
       "        var cell = $(document.getElementById(\"5b948a74-3f6c-4f5d-8c3b-5a1869816b31\")).parents('.cell').data().cell;\n",
       "        cell.output_area.append_execute_result(NB_LOAD_WARNING)\n",
       "      }\n",
       "  \n",
       "    }\n",
       "  \n",
       "    if (window._bokeh_is_loading === 0) {\n",
       "      console.log(\"Bokeh: BokehJS loaded, going straight to plotting\");\n",
       "      run_inline_js();\n",
       "    } else {\n",
       "      load_libs(js_urls, function() {\n",
       "        console.log(\"Bokeh: BokehJS plotting callback run at\", now());\n",
       "        run_inline_js();\n",
       "      });\n",
       "    }\n",
       "  }(this));\n",
       "</script>"
      ]
     },
     "metadata": {},
     "output_type": "display_data"
    }
   ],
   "source": [
    "my_sed = cat.get_SED('2MASS 261832886')\n",
    "fig = my_sed.plot()"
   ]
  },
  {
   "cell_type": "markdown",
   "metadata": {},
   "source": [
    "And save and load from file."
   ]
  },
  {
   "cell_type": "code",
   "execution_count": 13,
   "metadata": {
    "collapsed": false
   },
   "outputs": [
    {
     "ename": "PicklingError",
     "evalue": "Can't pickle <function ColumnDataSource.<lambda> at 0x112503730>: attribute lookup ColumnDataSource.<lambda> on bokeh.models.sources failed",
     "output_type": "error",
     "traceback": [
      "\u001b[0;31m---------------------------------------------------------------------------\u001b[0m",
      "\u001b[0;31mPicklingError\u001b[0m                             Traceback (most recent call last)",
      "\u001b[0;32m<ipython-input-13-63f3f00d16e1>\u001b[0m in \u001b[0;36m<module>\u001b[0;34m()\u001b[0m\n\u001b[0;32m----> 1\u001b[0;31m \u001b[0mcat\u001b[0m\u001b[0;34m.\u001b[0m\u001b[0msave\u001b[0m\u001b[0;34m(\u001b[0m\u001b[0;34m'/Users/jfilippazzo/Desktop/test.p'\u001b[0m\u001b[0;34m)\u001b[0m\u001b[0;34m\u001b[0m\u001b[0m\n\u001b[0m",
      "\u001b[0;32m/Users/jfilippazzo/Documents/Modules/SEDkit/SEDkit/catalog.py\u001b[0m in \u001b[0;36msave\u001b[0;34m(self, file)\u001b[0m\n\u001b[1;32m    317\u001b[0m             \u001b[0;31m# Write the file\u001b[0m\u001b[0;34m\u001b[0m\u001b[0;34m\u001b[0m\u001b[0m\n\u001b[1;32m    318\u001b[0m             \u001b[0mf\u001b[0m \u001b[0;34m=\u001b[0m \u001b[0mopen\u001b[0m\u001b[0;34m(\u001b[0m\u001b[0mfile\u001b[0m\u001b[0;34m,\u001b[0m \u001b[0;34m'wb'\u001b[0m\u001b[0;34m)\u001b[0m\u001b[0;34m\u001b[0m\u001b[0m\n\u001b[0;32m--> 319\u001b[0;31m             \u001b[0mpickle\u001b[0m\u001b[0;34m.\u001b[0m\u001b[0mdump\u001b[0m\u001b[0;34m(\u001b[0m\u001b[0mself\u001b[0m\u001b[0;34m.\u001b[0m\u001b[0mresults\u001b[0m\u001b[0;34m,\u001b[0m \u001b[0mf\u001b[0m\u001b[0;34m,\u001b[0m \u001b[0mpickle\u001b[0m\u001b[0;34m.\u001b[0m\u001b[0mHIGHEST_PROTOCOL\u001b[0m\u001b[0;34m)\u001b[0m\u001b[0;34m\u001b[0m\u001b[0m\n\u001b[0m\u001b[1;32m    320\u001b[0m             \u001b[0mf\u001b[0m\u001b[0;34m.\u001b[0m\u001b[0mclose\u001b[0m\u001b[0;34m(\u001b[0m\u001b[0;34m)\u001b[0m\u001b[0;34m\u001b[0m\u001b[0m\n\u001b[1;32m    321\u001b[0m \u001b[0;34m\u001b[0m\u001b[0m\n",
      "\u001b[0;31mPicklingError\u001b[0m: Can't pickle <function ColumnDataSource.<lambda> at 0x112503730>: attribute lookup ColumnDataSource.<lambda> on bokeh.models.sources failed"
     ]
    }
   ],
   "source": [
    "cat.save('/Users/jfilippazzo/Desktop/test.p')"
   ]
  },
  {
   "cell_type": "code",
   "execution_count": null,
   "metadata": {
    "collapsed": false
   },
   "outputs": [],
   "source": [
    "new = sed.SEDCatalog().load('/Users/jfilippazzo/Desktop/test.p')"
   ]
  },
  {
   "cell_type": "markdown",
   "metadata": {},
   "source": [
    "The catalog can also be filtered by providing a column name and value..."
   ]
  },
  {
   "cell_type": "code",
   "execution_count": 21,
   "metadata": {
    "collapsed": false
   },
   "outputs": [
    {
     "data": {
      "text/html": [
       "<i>Table length=1</i>\n",
       "<table id=\"table4750149224\" class=\"table-striped table-bordered table-condensed\">\n",
       "<thead><tr><th>name</th><th>age</th><th>age_unc</th><th>distance</th><th>distance_unc</th><th>parallax</th><th>parallax_unc</th><th>radius</th><th>radius_unc</th><th>spectral_type</th><th>spectral_type_unc</th><th>membership</th><th>fbol</th><th>fbol_unc</th><th>mbol</th><th>mbol_unc</th><th>Lbol</th><th>Lbol_unc</th><th>Lbol_sun</th><th>Lbol_sun_unc</th><th>Mbol</th><th>Mbol_unc</th><th>logg</th><th>logg_unc</th><th>mass</th><th>mass_unc</th><th>Teff</th><th>Teff_unc</th><th>SED</th><th>SDSS.u</th><th>SDSS.u_unc</th><th>M_SDSS.u</th><th>M_SDSS.u_unc</th><th>SDSS.g</th><th>SDSS.g_unc</th><th>M_SDSS.g</th><th>M_SDSS.g_unc</th><th>SDSS.r</th><th>SDSS.r_unc</th><th>M_SDSS.r</th><th>M_SDSS.r_unc</th><th>SDSS.i</th><th>SDSS.i_unc</th><th>M_SDSS.i</th><th>M_SDSS.i_unc</th><th>SDSS.z</th><th>SDSS.z_unc</th><th>M_SDSS.z</th><th>M_SDSS.z_unc</th><th>2MASS.J</th><th>2MASS.J_unc</th><th>M_2MASS.J</th><th>M_2MASS.J_unc</th><th>2MASS.H</th><th>2MASS.H_unc</th><th>M_2MASS.H</th><th>M_2MASS.H_unc</th><th>2MASS.Ks</th><th>2MASS.Ks_unc</th><th>M_2MASS.Ks</th><th>M_2MASS.Ks_unc</th><th>WISE.W1</th><th>WISE.W1_unc</th><th>M_WISE.W1</th><th>M_WISE.W1_unc</th><th>WISE.W2</th><th>WISE.W2_unc</th><th>M_WISE.W2</th><th>M_WISE.W2_unc</th><th>WISE.W3</th><th>WISE.W3_unc</th><th>M_WISE.W3</th><th>M_WISE.W3_unc</th></tr></thead>\n",
       "<thead><tr><th></th><th>Myr</th><th>Myr</th><th>pc</th><th>pc</th><th>mas</th><th>mas</th><th>6.957e+08 m</th><th></th><th></th><th></th><th></th><th>erg / (cm2 s)</th><th>erg / (cm2 s)</th><th></th><th></th><th>erg / s</th><th>erg / s</th><th></th><th></th><th></th><th></th><th></th><th></th><th>solMass</th><th>solMass</th><th>K</th><th>K</th><th></th><th></th><th></th><th></th><th></th><th></th><th></th><th></th><th></th><th></th><th></th><th></th><th></th><th></th><th></th><th></th><th></th><th></th><th></th><th></th><th></th><th></th><th></th><th></th><th></th><th></th><th></th><th></th><th></th><th></th><th></th><th></th><th></th><th></th><th></th><th></th><th></th><th></th><th></th><th></th><th></th><th></th><th></th><th></th><th></th></tr></thead>\n",
       "<thead><tr><th>object</th><th>object</th><th>object</th><th>object</th><th>object</th><th>object</th><th>object</th><th>object</th><th>object</th><th>object</th><th>object</th><th>object</th><th>object</th><th>object</th><th>object</th><th>object</th><th>object</th><th>object</th><th>object</th><th>object</th><th>object</th><th>object</th><th>object</th><th>object</th><th>object</th><th>object</th><th>object</th><th>object</th><th>object</th><th>float64</th><th>float64</th><th>float64</th><th>float64</th><th>float64</th><th>float64</th><th>float64</th><th>float64</th><th>float64</th><th>float64</th><th>float64</th><th>float64</th><th>float64</th><th>float64</th><th>float64</th><th>float64</th><th>float64</th><th>float64</th><th>float64</th><th>float64</th><th>float64</th><th>float64</th><th>float64</th><th>float64</th><th>float64</th><th>float64</th><th>float64</th><th>float64</th><th>float64</th><th>float64</th><th>float64</th><th>float64</th><th>float64</th><th>float64</th><th>float64</th><th>float64</th><th>float64</th><th>float64</th><th>float64</th><th>float64</th><th>float64</th><th>float64</th><th>float64</th><th>float64</th></tr></thead>\n",
       "<tr><td>2MASS 2618328861</td><td>6000.0</td><td>4000.0</td><td>601.33</td><td>36.16</td><td>1.662968880585695</td><td>0.1</td><td>0.8786209573091851</td><td>0.06782337214316517</td><td>60.0</td><td>0.5</td><td>None</td><td>9.344700986227546e-12</td><td>8.891778300076678e-14</td><td>16.092</td><td>0.01</td><td>4.04298477531372e+32</td><td>4.877560869570085e+31</td><td>-0.976</td><td>0.052</td><td>7.196</td><td>0.066</td><td>4.5</td><td>0.07</td><td>0.8896913720017506</td><td>0.0</td><td>3510.0</td><td>171.0</td><td>&lt;SEDkit.sed.SED object at 0x11ae663c8&gt;</td><td>20.486</td><td>0.073</td><td>74076.919</td><td>8908.991</td><td>17.779</td><td>0.006</td><td>64288.467</td><td>7731.765</td><td>16.431</td><td>0.004</td><td>59414.129</td><td>7145.544</td><td>15.843</td><td>0.004</td><td>57287.935</td><td>6889.833</td><td>15.514</td><td>0.005</td><td>56098.278</td><td>6746.757</td><td>14.391</td><td>0.029</td><td>52037.535</td><td>6258.385</td><td>13.677</td><td>0.032</td><td>49455.727</td><td>5947.879</td><td>13.535</td><td>0.034</td><td>48942.258</td><td>5886.126</td><td>13.55</td><td>0.027</td><td>48996.498</td><td>5892.649</td><td>13.581</td><td>0.035</td><td>49108.593</td><td>5906.131</td><td>12.884</td><td>nan</td><td>46588.257</td><td>nan</td></tr>\n",
       "</table>"
      ],
      "text/plain": [
       "<Table length=1>\n",
       "      name        age   age_unc distance ... WISE.W3_unc M_WISE.W3 M_WISE.W3_unc\n",
       "                  Myr     Myr      pc    ...                                    \n",
       "     object      object  object  object  ...   float64    float64     float64   \n",
       "---------------- ------ ------- -------- ... ----------- --------- -------------\n",
       "2MASS 2618328861 6000.0  4000.0   601.33 ...         nan 46588.257           nan"
      ]
     },
     "execution_count": 21,
     "metadata": {},
     "output_type": "execute_result"
    }
   ],
   "source": [
    "cat.filter('name', \"'2MASS 2618328861'\").results"
   ]
  },
  {
   "cell_type": "markdown",
   "metadata": {},
   "source": [
    "...or a wildcard search..."
   ]
  },
  {
   "cell_type": "code",
   "execution_count": 22,
   "metadata": {
    "collapsed": false
   },
   "outputs": [
    {
     "data": {
      "text/html": [
       "<i>Table length=1</i>\n",
       "<table id=\"table4750410584\" class=\"table-striped table-bordered table-condensed\">\n",
       "<thead><tr><th>name</th><th>age</th><th>age_unc</th><th>distance</th><th>distance_unc</th><th>parallax</th><th>parallax_unc</th><th>radius</th><th>radius_unc</th><th>spectral_type</th><th>spectral_type_unc</th><th>membership</th><th>fbol</th><th>fbol_unc</th><th>mbol</th><th>mbol_unc</th><th>Lbol</th><th>Lbol_unc</th><th>Lbol_sun</th><th>Lbol_sun_unc</th><th>Mbol</th><th>Mbol_unc</th><th>logg</th><th>logg_unc</th><th>mass</th><th>mass_unc</th><th>Teff</th><th>Teff_unc</th><th>SED</th><th>SDSS.u</th><th>SDSS.u_unc</th><th>M_SDSS.u</th><th>M_SDSS.u_unc</th><th>SDSS.g</th><th>SDSS.g_unc</th><th>M_SDSS.g</th><th>M_SDSS.g_unc</th><th>SDSS.r</th><th>SDSS.r_unc</th><th>M_SDSS.r</th><th>M_SDSS.r_unc</th><th>SDSS.i</th><th>SDSS.i_unc</th><th>M_SDSS.i</th><th>M_SDSS.i_unc</th><th>SDSS.z</th><th>SDSS.z_unc</th><th>M_SDSS.z</th><th>M_SDSS.z_unc</th><th>2MASS.J</th><th>2MASS.J_unc</th><th>M_2MASS.J</th><th>M_2MASS.J_unc</th><th>2MASS.H</th><th>2MASS.H_unc</th><th>M_2MASS.H</th><th>M_2MASS.H_unc</th><th>2MASS.Ks</th><th>2MASS.Ks_unc</th><th>M_2MASS.Ks</th><th>M_2MASS.Ks_unc</th><th>WISE.W1</th><th>WISE.W1_unc</th><th>M_WISE.W1</th><th>M_WISE.W1_unc</th><th>WISE.W2</th><th>WISE.W2_unc</th><th>M_WISE.W2</th><th>M_WISE.W2_unc</th><th>WISE.W3</th><th>WISE.W3_unc</th><th>M_WISE.W3</th><th>M_WISE.W3_unc</th></tr></thead>\n",
       "<thead><tr><th></th><th>Myr</th><th>Myr</th><th>pc</th><th>pc</th><th>mas</th><th>mas</th><th>6.957e+08 m</th><th></th><th></th><th></th><th></th><th>erg / (cm2 s)</th><th>erg / (cm2 s)</th><th></th><th></th><th>erg / s</th><th>erg / s</th><th></th><th></th><th></th><th></th><th></th><th></th><th>solMass</th><th>solMass</th><th>K</th><th>K</th><th></th><th></th><th></th><th></th><th></th><th></th><th></th><th></th><th></th><th></th><th></th><th></th><th></th><th></th><th></th><th></th><th></th><th></th><th></th><th></th><th></th><th></th><th></th><th></th><th></th><th></th><th></th><th></th><th></th><th></th><th></th><th></th><th></th><th></th><th></th><th></th><th></th><th></th><th></th><th></th><th></th><th></th><th></th><th></th><th></th></tr></thead>\n",
       "<thead><tr><th>object</th><th>object</th><th>object</th><th>object</th><th>object</th><th>object</th><th>object</th><th>object</th><th>object</th><th>object</th><th>object</th><th>object</th><th>object</th><th>object</th><th>object</th><th>object</th><th>object</th><th>object</th><th>object</th><th>object</th><th>object</th><th>object</th><th>object</th><th>object</th><th>object</th><th>object</th><th>object</th><th>object</th><th>object</th><th>float64</th><th>float64</th><th>float64</th><th>float64</th><th>float64</th><th>float64</th><th>float64</th><th>float64</th><th>float64</th><th>float64</th><th>float64</th><th>float64</th><th>float64</th><th>float64</th><th>float64</th><th>float64</th><th>float64</th><th>float64</th><th>float64</th><th>float64</th><th>float64</th><th>float64</th><th>float64</th><th>float64</th><th>float64</th><th>float64</th><th>float64</th><th>float64</th><th>float64</th><th>float64</th><th>float64</th><th>float64</th><th>float64</th><th>float64</th><th>float64</th><th>float64</th><th>float64</th><th>float64</th><th>float64</th><th>float64</th><th>float64</th><th>float64</th><th>float64</th><th>float64</th></tr></thead>\n",
       "<tr><td>2MASS 2618328861</td><td>6000.0</td><td>4000.0</td><td>601.33</td><td>36.16</td><td>1.662968880585695</td><td>0.1</td><td>0.8786209573091851</td><td>0.06782337214316517</td><td>60.0</td><td>0.5</td><td>None</td><td>9.344700986227546e-12</td><td>8.891778300076678e-14</td><td>16.092</td><td>0.01</td><td>4.04298477531372e+32</td><td>4.877560869570085e+31</td><td>-0.976</td><td>0.052</td><td>7.196</td><td>0.066</td><td>4.5</td><td>0.07</td><td>0.8896913720017506</td><td>0.0</td><td>3510.0</td><td>171.0</td><td>&lt;SEDkit.sed.SED object at 0x11ae663c8&gt;</td><td>20.486</td><td>0.073</td><td>74076.919</td><td>8908.991</td><td>17.779</td><td>0.006</td><td>64288.467</td><td>7731.765</td><td>16.431</td><td>0.004</td><td>59414.129</td><td>7145.544</td><td>15.843</td><td>0.004</td><td>57287.935</td><td>6889.833</td><td>15.514</td><td>0.005</td><td>56098.278</td><td>6746.757</td><td>14.391</td><td>0.029</td><td>52037.535</td><td>6258.385</td><td>13.677</td><td>0.032</td><td>49455.727</td><td>5947.879</td><td>13.535</td><td>0.034</td><td>48942.258</td><td>5886.126</td><td>13.55</td><td>0.027</td><td>48996.498</td><td>5892.649</td><td>13.581</td><td>0.035</td><td>49108.593</td><td>5906.131</td><td>12.884</td><td>nan</td><td>46588.257</td><td>nan</td></tr>\n",
       "</table>"
      ],
      "text/plain": [
       "<Table length=1>\n",
       "      name        age   age_unc distance ... WISE.W3_unc M_WISE.W3 M_WISE.W3_unc\n",
       "                  Myr     Myr      pc    ...                                    \n",
       "     object      object  object  object  ...   float64    float64     float64   \n",
       "---------------- ------ ------- -------- ... ----------- --------- -------------\n",
       "2MASS 2618328861 6000.0  4000.0   601.33 ...         nan 46588.257           nan"
      ]
     },
     "execution_count": 22,
     "metadata": {},
     "output_type": "execute_result"
    }
   ],
   "source": [
    "cat.filter('name', \"*328861\").results"
   ]
  },
  {
   "cell_type": "markdown",
   "metadata": {},
   "source": [
    "... or an argument with an operator..."
   ]
  },
  {
   "cell_type": "code",
   "execution_count": 23,
   "metadata": {
    "collapsed": false
   },
   "outputs": [
    {
     "data": {
      "text/html": [
       "<i>Table length=11</i>\n",
       "<table id=\"table4750503776\" class=\"table-striped table-bordered table-condensed\">\n",
       "<thead><tr><th>name</th><th>age</th><th>age_unc</th><th>distance</th><th>distance_unc</th><th>parallax</th><th>parallax_unc</th><th>radius</th><th>radius_unc</th><th>spectral_type</th><th>spectral_type_unc</th><th>membership</th><th>fbol</th><th>fbol_unc</th><th>mbol</th><th>mbol_unc</th><th>Lbol</th><th>Lbol_unc</th><th>Lbol_sun</th><th>Lbol_sun_unc</th><th>Mbol</th><th>Mbol_unc</th><th>logg</th><th>logg_unc</th><th>mass</th><th>mass_unc</th><th>Teff</th><th>Teff_unc</th><th>SED</th><th>SDSS.u</th><th>SDSS.u_unc</th><th>M_SDSS.u</th><th>M_SDSS.u_unc</th><th>SDSS.g</th><th>SDSS.g_unc</th><th>M_SDSS.g</th><th>M_SDSS.g_unc</th><th>SDSS.r</th><th>SDSS.r_unc</th><th>M_SDSS.r</th><th>M_SDSS.r_unc</th><th>SDSS.i</th><th>SDSS.i_unc</th><th>M_SDSS.i</th><th>M_SDSS.i_unc</th><th>SDSS.z</th><th>SDSS.z_unc</th><th>M_SDSS.z</th><th>M_SDSS.z_unc</th><th>2MASS.J</th><th>2MASS.J_unc</th><th>M_2MASS.J</th><th>M_2MASS.J_unc</th><th>2MASS.H</th><th>2MASS.H_unc</th><th>M_2MASS.H</th><th>M_2MASS.H_unc</th><th>2MASS.Ks</th><th>2MASS.Ks_unc</th><th>M_2MASS.Ks</th><th>M_2MASS.Ks_unc</th><th>WISE.W1</th><th>WISE.W1_unc</th><th>M_WISE.W1</th><th>M_WISE.W1_unc</th><th>WISE.W2</th><th>WISE.W2_unc</th><th>M_WISE.W2</th><th>M_WISE.W2_unc</th><th>WISE.W3</th><th>WISE.W3_unc</th><th>M_WISE.W3</th><th>M_WISE.W3_unc</th></tr></thead>\n",
       "<thead><tr><th></th><th>Myr</th><th>Myr</th><th>pc</th><th>pc</th><th>mas</th><th>mas</th><th>6.957e+08 m</th><th></th><th></th><th></th><th></th><th>erg / (cm2 s)</th><th>erg / (cm2 s)</th><th></th><th></th><th>erg / s</th><th>erg / s</th><th></th><th></th><th></th><th></th><th></th><th></th><th>solMass</th><th>solMass</th><th>K</th><th>K</th><th></th><th></th><th></th><th></th><th></th><th></th><th></th><th></th><th></th><th></th><th></th><th></th><th></th><th></th><th></th><th></th><th></th><th></th><th></th><th></th><th></th><th></th><th></th><th></th><th></th><th></th><th></th><th></th><th></th><th></th><th></th><th></th><th></th><th></th><th></th><th></th><th></th><th></th><th></th><th></th><th></th><th></th><th></th><th></th><th></th></tr></thead>\n",
       "<thead><tr><th>object</th><th>object</th><th>object</th><th>object</th><th>object</th><th>object</th><th>object</th><th>object</th><th>object</th><th>object</th><th>object</th><th>object</th><th>object</th><th>object</th><th>object</th><th>object</th><th>object</th><th>object</th><th>object</th><th>object</th><th>object</th><th>object</th><th>object</th><th>object</th><th>object</th><th>object</th><th>object</th><th>object</th><th>object</th><th>float64</th><th>float64</th><th>float64</th><th>float64</th><th>float64</th><th>float64</th><th>float64</th><th>float64</th><th>float64</th><th>float64</th><th>float64</th><th>float64</th><th>float64</th><th>float64</th><th>float64</th><th>float64</th><th>float64</th><th>float64</th><th>float64</th><th>float64</th><th>float64</th><th>float64</th><th>float64</th><th>float64</th><th>float64</th><th>float64</th><th>float64</th><th>float64</th><th>float64</th><th>float64</th><th>float64</th><th>float64</th><th>float64</th><th>float64</th><th>float64</th><th>float64</th><th>float64</th><th>float64</th><th>float64</th><th>float64</th><th>float64</th><th>float64</th><th>float64</th><th>float64</th></tr></thead>\n",
       "<tr><td>2MASS 261832886</td><td>6000.0</td><td>4000.0</td><td>572.28</td><td>16.41</td><td>1.7474</td><td>0.0501</td><td>0.8786209573091851</td><td>0.06782337214316517</td><td>60.0</td><td>0.5</td><td>None</td><td>9.344700986227546e-12</td><td>8.891778300076678e-14</td><td>16.092</td><td>0.01</td><td>3.66179055973561e+32</td><td>2.1287295997847215e+31</td><td>-1.019</td><td>0.025</td><td>7.304</td><td>0.033</td><td>4.5</td><td>0.07</td><td>0.8896913720017506</td><td>0.0</td><td>3424.0</td><td>141.0</td><td>&lt;SEDkit.sed.SED object at 0x11ae6ab00&gt;</td><td>20.486</td><td>0.073</td><td>67092.551</td><td>3847.73</td><td>17.779</td><td>0.006</td><td>58227.007</td><td>3339.293</td><td>16.431</td><td>0.004</td><td>53812.248</td><td>3086.108</td><td>15.843</td><td>0.004</td><td>51886.522</td><td>2975.669</td><td>15.514</td><td>0.005</td><td>50809.032</td><td>2913.875</td><td>14.391</td><td>0.029</td><td>47131.158</td><td>2702.951</td><td>13.677</td><td>0.032</td><td>44792.777</td><td>2568.846</td><td>13.535</td><td>0.034</td><td>44327.72</td><td>2542.176</td><td>13.55</td><td>0.027</td><td>44376.846</td><td>2544.993</td><td>13.581</td><td>0.035</td><td>44478.372</td><td>2550.815</td><td>12.884</td><td>nan</td><td>42195.667</td><td>nan</td></tr>\n",
       "<tr><td>2MASS 2618328860</td><td>6000.0</td><td>4000.0</td><td>570.18</td><td>32.51</td><td>1.753837858963652</td><td>0.1</td><td>0.8786209573091851</td><td>0.06782337214316517</td><td>60.0</td><td>0.5</td><td>None</td><td>9.344700986227546e-12</td><td>8.891778300076678e-14</td><td>16.092</td><td>0.01</td><td>3.634965749281282e+32</td><td>4.159508308955214e+31</td><td>-1.022</td><td>0.05</td><td>7.312</td><td>0.063</td><td>4.5</td><td>0.07</td><td>0.8896913720017506</td><td>0.0</td><td>3418.0</td><td>164.0</td><td>&lt;SEDkit.sed.SED object at 0x11ae4b4e0&gt;</td><td>20.486</td><td>0.073</td><td>66601.058</td><td>7594.797</td><td>17.779</td><td>0.006</td><td>57800.459</td><td>6591.227</td><td>16.431</td><td>0.004</td><td>53418.041</td><td>6091.482</td><td>15.843</td><td>0.004</td><td>51506.422</td><td>5873.492</td><td>15.514</td><td>0.005</td><td>50436.826</td><td>5751.521</td><td>14.391</td><td>0.029</td><td>46785.894</td><td>5335.191</td><td>13.677</td><td>0.032</td><td>44464.643</td><td>5070.489</td><td>13.535</td><td>0.034</td><td>44002.993</td><td>5017.845</td><td>13.55</td><td>0.027</td><td>44051.759</td><td>5023.406</td><td>13.581</td><td>0.035</td><td>44152.542</td><td>5034.899</td><td>12.884</td><td>nan</td><td>41886.558</td><td>nan</td></tr>\n",
       "<tr><td>2MASS 2618328861</td><td>6000.0</td><td>4000.0</td><td>601.33</td><td>36.16</td><td>1.662968880585695</td><td>0.1</td><td>0.8786209573091851</td><td>0.06782337214316517</td><td>60.0</td><td>0.5</td><td>None</td><td>9.344700986227546e-12</td><td>8.891778300076678e-14</td><td>16.092</td><td>0.01</td><td>4.04298477531372e+32</td><td>4.877560869570085e+31</td><td>-0.976</td><td>0.052</td><td>7.196</td><td>0.066</td><td>4.5</td><td>0.07</td><td>0.8896913720017506</td><td>0.0</td><td>3510.0</td><td>171.0</td><td>&lt;SEDkit.sed.SED object at 0x11ae663c8&gt;</td><td>20.486</td><td>0.073</td><td>74076.919</td><td>8908.991</td><td>17.779</td><td>0.006</td><td>64288.467</td><td>7731.765</td><td>16.431</td><td>0.004</td><td>59414.129</td><td>7145.544</td><td>15.843</td><td>0.004</td><td>57287.935</td><td>6889.833</td><td>15.514</td><td>0.005</td><td>56098.278</td><td>6746.757</td><td>14.391</td><td>0.029</td><td>52037.535</td><td>6258.385</td><td>13.677</td><td>0.032</td><td>49455.727</td><td>5947.879</td><td>13.535</td><td>0.034</td><td>48942.258</td><td>5886.126</td><td>13.55</td><td>0.027</td><td>48996.498</td><td>5892.649</td><td>13.581</td><td>0.035</td><td>49108.593</td><td>5906.131</td><td>12.884</td><td>nan</td><td>46588.257</td><td>nan</td></tr>\n",
       "<tr><td>2MASS 2618328862</td><td>6000.0</td><td>4000.0</td><td>595.05</td><td>35.41</td><td>1.6805254642040846</td><td>0.1</td><td>0.8786209573091851</td><td>0.06782337214316517</td><td>60.0</td><td>0.5</td><td>None</td><td>9.344700986227546e-12</td><td>8.891778300076678e-14</td><td>16.092</td><td>0.01</td><td>3.958979772294807e+32</td><td>4.726823093558116e+31</td><td>-0.985</td><td>0.052</td><td>7.219</td><td>0.065</td><td>4.5</td><td>0.07</td><td>0.8896913720017506</td><td>0.0</td><td>3492.0</td><td>170.0</td><td>&lt;SEDkit.sed.SED object at 0x11ae56198&gt;</td><td>20.486</td><td>0.073</td><td>72537.751</td><td>8633.097</td><td>17.779</td><td>0.006</td><td>62952.684</td><td>7492.327</td><td>16.431</td><td>0.004</td><td>58179.625</td><td>6924.26</td><td>15.843</td><td>0.004</td><td>56097.608</td><td>6676.469</td><td>15.514</td><td>0.005</td><td>54932.67</td><td>6537.823</td><td>14.391</td><td>0.029</td><td>50956.301</td><td>6064.575</td><td>13.677</td><td>0.032</td><td>48428.137</td><td>5763.685</td><td>13.535</td><td>0.034</td><td>47925.337</td><td>5703.844</td><td>13.55</td><td>0.027</td><td>47978.45</td><td>5710.165</td><td>13.581</td><td>0.035</td><td>48088.216</td><td>5723.229</td><td>12.884</td><td>nan</td><td>45620.247</td><td>nan</td></tr>\n",
       "<tr><td>2MASS 2618328863</td><td>6000.0</td><td>4000.0</td><td>561.37</td><td>31.51</td><td>1.7813438065170613</td><td>0.1</td><td>0.8786209573091851</td><td>0.06782337214316517</td><td>60.0</td><td>0.5</td><td>None</td><td>9.344700986227546e-12</td><td>8.891778300076678e-14</td><td>16.092</td><td>0.01</td><td>3.523503957260585e+32</td><td>3.969706961868959e+31</td><td>-1.036</td><td>0.049</td><td>7.346</td><td>0.062</td><td>4.5</td><td>0.07</td><td>0.8896913720017506</td><td>0.0</td><td>3391.0</td><td>162.0</td><td>&lt;SEDkit.sed.SED object at 0x11aeb03c8&gt;</td><td>20.486</td><td>0.073</td><td>64558.818</td><td>7247.443</td><td>17.779</td><td>0.006</td><td>56028.079</td><td>6289.772</td><td>16.431</td><td>0.004</td><td>51780.042</td><td>5812.883</td><td>15.843</td><td>0.004</td><td>49927.04</td><td>5604.863</td><td>15.514</td><td>0.005</td><td>48890.242</td><td>5488.471</td><td>14.391</td><td>0.029</td><td>45351.262</td><td>5091.182</td><td>13.677</td><td>0.032</td><td>43101.189</td><td>4838.586</td><td>13.535</td><td>0.034</td><td>42653.695</td><td>4788.35</td><td>13.55</td><td>0.027</td><td>42700.966</td><td>4793.657</td><td>13.581</td><td>0.035</td><td>42798.658</td><td>4804.624</td><td>12.884</td><td>nan</td><td>40602.158</td><td>nan</td></tr>\n",
       "<tr><td>2MASS 2618328864</td><td>6000.0</td><td>4000.0</td><td>590.02</td><td>34.81</td><td>1.6948524038039543</td><td>0.1</td><td>0.8786209573091851</td><td>0.06782337214316517</td><td>60.0</td><td>0.5</td><td>None</td><td>9.344700986227546e-12</td><td>8.891778300076678e-14</td><td>16.092</td><td>0.01</td><td>3.892331583311926e+32</td><td>4.607704790817821e+31</td><td>-0.993</td><td>0.051</td><td>7.238</td><td>0.065</td><td>4.5</td><td>0.07</td><td>0.8896913720017506</td><td>0.0</td><td>3477.0</td><td>169.0</td><td>&lt;SEDkit.sed.SED object at 0x11ae8e080&gt;</td><td>20.486</td><td>0.073</td><td>71316.601</td><td>8415.075</td><td>17.779</td><td>0.006</td><td>61892.895</td><td>7303.114</td><td>16.431</td><td>0.004</td><td>57200.189</td><td>6749.393</td><td>15.843</td><td>0.004</td><td>55153.222</td><td>6507.86</td><td>15.514</td><td>0.005</td><td>54007.895</td><td>6372.716</td><td>14.391</td><td>0.029</td><td>50098.467</td><td>5911.419</td><td>13.677</td><td>0.032</td><td>47612.865</td><td>5618.128</td><td>13.535</td><td>0.034</td><td>47118.529</td><td>5559.798</td><td>13.55</td><td>0.027</td><td>47170.748</td><td>5565.96</td><td>13.581</td><td>0.035</td><td>47278.666</td><td>5578.694</td><td>12.884</td><td>nan</td><td>44852.245</td><td>nan</td></tr>\n",
       "<tr><td>2MASS 2618328865</td><td>6000.0</td><td>4000.0</td><td>634.2</td><td>40.22</td><td>1.576788141322298</td><td>0.1</td><td>0.8786209573091851</td><td>0.06782337214316517</td><td>60.0</td><td>0.5</td><td>None</td><td>9.344700986227546e-12</td><td>8.891778300076678e-14</td><td>16.092</td><td>0.01</td><td>4.497061627208542e+32</td><td>5.719964637020777e+31</td><td>-0.93</td><td>0.055</td><td>7.081</td><td>0.07</td><td>4.5</td><td>0.07</td><td>0.8896913720017506</td><td>0.0</td><td>3605.0</td><td>180.0</td><td>&lt;SEDkit.sed.SED object at 0x11af4efd0&gt;</td><td>20.486</td><td>0.073</td><td>82396.667</td><td>10450.944</td><td>17.779</td><td>0.006</td><td>71508.852</td><td>9069.965</td><td>16.431</td><td>0.004</td><td>66087.066</td><td>8382.283</td><td>15.843</td><td>0.004</td><td>63722.073</td><td>8082.314</td><td>15.514</td><td>0.005</td><td>62398.804</td><td>7914.475</td><td>14.391</td><td>0.029</td><td>57881.989</td><td>7341.576</td><td>13.677</td><td>0.032</td><td>55010.212</td><td>6977.328</td><td>13.535</td><td>0.034</td><td>54439.075</td><td>6904.887</td><td>13.55</td><td>0.027</td><td>54499.406</td><td>6912.539</td><td>13.581</td><td>0.035</td><td>54624.091</td><td>6928.354</td><td>12.884</td><td>nan</td><td>51820.69</td><td>nan</td></tr>\n",
       "<tr><td>2MASS 2618328866</td><td>6000.0</td><td>4000.0</td><td>561.95</td><td>31.58</td><td>1.7795251223910526</td><td>0.1</td><td>0.8786209573091851</td><td>0.06782337214316517</td><td>60.0</td><td>0.5</td><td>None</td><td>9.344700986227546e-12</td><td>8.891778300076678e-14</td><td>16.092</td><td>0.01</td><td>3.53078859314078e+32</td><td>3.982602628898343e+31</td><td>-1.035</td><td>0.049</td><td>7.344</td><td>0.062</td><td>4.5</td><td>0.07</td><td>0.8896913720017506</td><td>0.0</td><td>3393.0</td><td>162.0</td><td>&lt;SEDkit.sed.SED object at 0x11af3ba58&gt;</td><td>20.486</td><td>0.073</td><td>64692.289</td><td>7271.048</td><td>17.779</td><td>0.006</td><td>56143.913</td><td>6310.258</td><td>16.431</td><td>0.004</td><td>51887.094</td><td>5831.816</td><td>15.843</td><td>0.004</td><td>50030.262</td><td>5623.118</td><td>15.514</td><td>0.005</td><td>48991.32</td><td>5506.347</td><td>14.391</td><td>0.029</td><td>45445.023</td><td>5107.764</td><td>13.677</td><td>0.032</td><td>43190.298</td><td>4854.345</td><td>13.535</td><td>0.034</td><td>42741.879</td><td>4803.946</td><td>13.55</td><td>0.027</td><td>42789.247</td><td>4809.269</td><td>13.581</td><td>0.035</td><td>42887.141</td><td>4820.272</td><td>12.884</td><td>nan</td><td>40686.1</td><td>nan</td></tr>\n",
       "<tr><td>2MASS 2618328867</td><td>6000.0</td><td>4000.0</td><td>609.43</td><td>37.14</td><td>1.6408865938426338</td><td>0.1</td><td>0.8786209573091851</td><td>0.06782337214316517</td><td>60.0</td><td>0.5</td><td>None</td><td>9.344700986227546e-12</td><td>8.891778300076678e-14</td><td>16.092</td><td>0.01</td><td>4.15263750496895e+32</td><td>5.076817039421962e+31</td><td>-0.965</td><td>0.053</td><td>7.167</td><td>0.067</td><td>4.5</td><td>0.07</td><td>0.8896913720017506</td><td>0.0</td><td>3533.0</td><td>173.0</td><td>&lt;SEDkit.sed.SED object at 0x11af8ce48&gt;</td><td>20.486</td><td>0.073</td><td>76086.013</td><td>9273.698</td><td>17.779</td><td>0.006</td><td>66032.082</td><td>8048.28</td><td>16.431</td><td>0.004</td><td>61025.543</td><td>7438.061</td><td>15.843</td><td>0.004</td><td>58841.682</td><td>7171.882</td><td>15.514</td><td>0.005</td><td>57619.76</td><td>7022.949</td><td>14.391</td><td>0.029</td><td>53448.883</td><td>6514.584</td><td>13.677</td><td>0.032</td><td>50797.052</td><td>6191.368</td><td>13.535</td><td>0.034</td><td>50269.657</td><td>6127.086</td><td>13.55</td><td>0.027</td><td>50325.367</td><td>6133.877</td><td>13.581</td><td>0.035</td><td>50440.503</td><td>6147.91</td><td>12.884</td><td>nan</td><td>47851.811</td><td>nan</td></tr>\n",
       "<tr><td>2MASS 2618328868</td><td>6000.0</td><td>4000.0</td><td>579.1</td><td>33.54</td><td>1.726812807926387</td><td>0.1</td><td>0.8786209573091851</td><td>0.06782337214316517</td><td>60.0</td><td>0.5</td><td>None</td><td>9.344700986227546e-12</td><td>8.891778300076678e-14</td><td>16.092</td><td>0.01</td><td>3.7495875078331426e+32</td><td>4.357961054913734e+31</td><td>-1.009</td><td>0.05</td><td>7.278</td><td>0.064</td><td>4.5</td><td>0.07</td><td>0.8896913720017506</td><td>0.0</td><td>3444.0</td><td>166.0</td><td>&lt;SEDkit.sed.SED object at 0x11af99748&gt;</td><td>20.486</td><td>0.073</td><td>68701.196</td><td>7957.998</td><td>17.779</td><td>0.006</td><td>59623.087</td><td>6906.435</td><td>16.431</td><td>0.004</td><td>55102.477</td><td>6382.791</td><td>15.843</td><td>0.004</td><td>53130.579</td><td>6154.376</td><td>15.514</td><td>0.005</td><td>52027.256</td><td>6026.573</td><td>14.391</td><td>0.029</td><td>48261.199</td><td>5590.332</td><td>13.677</td><td>0.032</td><td>45866.751</td><td>5312.972</td><td>13.535</td><td>0.034</td><td>45390.544</td><td>5257.81</td><td>13.55</td><td>0.027</td><td>45440.848</td><td>5263.637</td><td>13.581</td><td>0.035</td><td>45544.808</td><td>5275.679</td><td>12.884</td><td>nan</td><td>43207.371</td><td>nan</td></tr>\n",
       "<tr><td>2MASS 2618328869</td><td>6000.0</td><td>4000.0</td><td>528.71</td><td>27.95</td><td>1.8914040443725313</td><td>0.1</td><td>0.8786209573091851</td><td>0.06782337214316517</td><td>60.0</td><td>0.5</td><td>None</td><td>9.344700986227546e-12</td><td>8.891778300076678e-14</td><td>16.092</td><td>0.01</td><td>3.1254417785065722e+32</td><td>3.3178549425328183e+31</td><td>-1.088</td><td>0.046</td><td>7.476</td><td>0.058</td><td>4.5</td><td>0.07</td><td>0.8896913720017506</td><td>0.0</td><td>3291.0</td><td>154.0</td><td>&lt;SEDkit.sed.SED object at 0x11af4e5f8&gt;</td><td>20.486</td><td>0.073</td><td>57265.389</td><td>6054.616</td><td>17.779</td><td>0.006</td><td>49698.397</td><td>5254.564</td><td>16.431</td><td>0.004</td><td>45930.275</td><td>4856.164</td><td>15.843</td><td>0.004</td><td>44286.613</td><td>4682.381</td><td>15.514</td><td>0.005</td><td>43366.946</td><td>4585.145</td><td>14.391</td><td>0.029</td><td>40227.776</td><td>4253.244</td><td>13.677</td><td>0.032</td><td>38231.901</td><td>4042.223</td><td>13.535</td><td>0.034</td><td>37834.963</td><td>4000.255</td><td>13.55</td><td>0.027</td><td>37876.893</td><td>4004.688</td><td>13.581</td><td>0.035</td><td>37963.548</td><td>4013.85</td><td>12.884</td><td>nan</td><td>36015.195</td><td>nan</td></tr>\n",
       "</table>"
      ],
      "text/plain": [
       "<Table length=11>\n",
       "      name        age   age_unc distance ... WISE.W3_unc M_WISE.W3 M_WISE.W3_unc\n",
       "                  Myr     Myr      pc    ...                                    \n",
       "     object      object  object  object  ...   float64    float64     float64   \n",
       "---------------- ------ ------- -------- ... ----------- --------- -------------\n",
       " 2MASS 261832886 6000.0  4000.0   572.28 ...         nan 42195.667           nan\n",
       "2MASS 2618328860 6000.0  4000.0   570.18 ...         nan 41886.558           nan\n",
       "2MASS 2618328861 6000.0  4000.0   601.33 ...         nan 46588.257           nan\n",
       "2MASS 2618328862 6000.0  4000.0   595.05 ...         nan 45620.247           nan\n",
       "2MASS 2618328863 6000.0  4000.0   561.37 ...         nan 40602.158           nan\n",
       "2MASS 2618328864 6000.0  4000.0   590.02 ...         nan 44852.245           nan\n",
       "2MASS 2618328865 6000.0  4000.0    634.2 ...         nan  51820.69           nan\n",
       "2MASS 2618328866 6000.0  4000.0   561.95 ...         nan   40686.1           nan\n",
       "2MASS 2618328867 6000.0  4000.0   609.43 ...         nan 47851.811           nan\n",
       "2MASS 2618328868 6000.0  4000.0    579.1 ...         nan 43207.371           nan\n",
       "2MASS 2618328869 6000.0  4000.0   528.71 ...         nan 36015.195           nan"
      ]
     },
     "execution_count": 23,
     "metadata": {},
     "output_type": "execute_result"
    }
   ],
   "source": [
    "cat.filter('logg', '>=4.5').results"
   ]
  },
  {
   "cell_type": "markdown",
   "metadata": {
    "collapsed": true
   },
   "source": [
    "... or even a tuple of arguments..."
   ]
  },
  {
   "cell_type": "code",
   "execution_count": 24,
   "metadata": {
    "collapsed": false
   },
   "outputs": [
    {
     "data": {
      "text/html": [
       "<i>Table length=9</i>\n",
       "<table id=\"table4750412712\" class=\"table-striped table-bordered table-condensed\">\n",
       "<thead><tr><th>name</th><th>age</th><th>age_unc</th><th>distance</th><th>distance_unc</th><th>parallax</th><th>parallax_unc</th><th>radius</th><th>radius_unc</th><th>spectral_type</th><th>spectral_type_unc</th><th>membership</th><th>fbol</th><th>fbol_unc</th><th>mbol</th><th>mbol_unc</th><th>Lbol</th><th>Lbol_unc</th><th>Lbol_sun</th><th>Lbol_sun_unc</th><th>Mbol</th><th>Mbol_unc</th><th>logg</th><th>logg_unc</th><th>mass</th><th>mass_unc</th><th>Teff</th><th>Teff_unc</th><th>SED</th><th>SDSS.u</th><th>SDSS.u_unc</th><th>M_SDSS.u</th><th>M_SDSS.u_unc</th><th>SDSS.g</th><th>SDSS.g_unc</th><th>M_SDSS.g</th><th>M_SDSS.g_unc</th><th>SDSS.r</th><th>SDSS.r_unc</th><th>M_SDSS.r</th><th>M_SDSS.r_unc</th><th>SDSS.i</th><th>SDSS.i_unc</th><th>M_SDSS.i</th><th>M_SDSS.i_unc</th><th>SDSS.z</th><th>SDSS.z_unc</th><th>M_SDSS.z</th><th>M_SDSS.z_unc</th><th>2MASS.J</th><th>2MASS.J_unc</th><th>M_2MASS.J</th><th>M_2MASS.J_unc</th><th>2MASS.H</th><th>2MASS.H_unc</th><th>M_2MASS.H</th><th>M_2MASS.H_unc</th><th>2MASS.Ks</th><th>2MASS.Ks_unc</th><th>M_2MASS.Ks</th><th>M_2MASS.Ks_unc</th><th>WISE.W1</th><th>WISE.W1_unc</th><th>M_WISE.W1</th><th>M_WISE.W1_unc</th><th>WISE.W2</th><th>WISE.W2_unc</th><th>M_WISE.W2</th><th>M_WISE.W2_unc</th><th>WISE.W3</th><th>WISE.W3_unc</th><th>M_WISE.W3</th><th>M_WISE.W3_unc</th></tr></thead>\n",
       "<thead><tr><th></th><th>Myr</th><th>Myr</th><th>pc</th><th>pc</th><th>mas</th><th>mas</th><th>6.957e+08 m</th><th></th><th></th><th></th><th></th><th>erg / (cm2 s)</th><th>erg / (cm2 s)</th><th></th><th></th><th>erg / s</th><th>erg / s</th><th></th><th></th><th></th><th></th><th></th><th></th><th>solMass</th><th>solMass</th><th>K</th><th>K</th><th></th><th></th><th></th><th></th><th></th><th></th><th></th><th></th><th></th><th></th><th></th><th></th><th></th><th></th><th></th><th></th><th></th><th></th><th></th><th></th><th></th><th></th><th></th><th></th><th></th><th></th><th></th><th></th><th></th><th></th><th></th><th></th><th></th><th></th><th></th><th></th><th></th><th></th><th></th><th></th><th></th><th></th><th></th><th></th><th></th></tr></thead>\n",
       "<thead><tr><th>object</th><th>object</th><th>object</th><th>object</th><th>object</th><th>object</th><th>object</th><th>object</th><th>object</th><th>object</th><th>object</th><th>object</th><th>object</th><th>object</th><th>object</th><th>object</th><th>object</th><th>object</th><th>object</th><th>object</th><th>object</th><th>object</th><th>object</th><th>object</th><th>object</th><th>object</th><th>object</th><th>object</th><th>object</th><th>float64</th><th>float64</th><th>float64</th><th>float64</th><th>float64</th><th>float64</th><th>float64</th><th>float64</th><th>float64</th><th>float64</th><th>float64</th><th>float64</th><th>float64</th><th>float64</th><th>float64</th><th>float64</th><th>float64</th><th>float64</th><th>float64</th><th>float64</th><th>float64</th><th>float64</th><th>float64</th><th>float64</th><th>float64</th><th>float64</th><th>float64</th><th>float64</th><th>float64</th><th>float64</th><th>float64</th><th>float64</th><th>float64</th><th>float64</th><th>float64</th><th>float64</th><th>float64</th><th>float64</th><th>float64</th><th>float64</th><th>float64</th><th>float64</th><th>float64</th><th>float64</th></tr></thead>\n",
       "<tr><td>2MASS 261832886</td><td>6000.0</td><td>4000.0</td><td>572.28</td><td>16.41</td><td>1.7474</td><td>0.0501</td><td>0.8786209573091851</td><td>0.06782337214316517</td><td>60.0</td><td>0.5</td><td>None</td><td>9.344700986227546e-12</td><td>8.891778300076678e-14</td><td>16.092</td><td>0.01</td><td>3.66179055973561e+32</td><td>2.1287295997847215e+31</td><td>-1.019</td><td>0.025</td><td>7.304</td><td>0.033</td><td>4.5</td><td>0.07</td><td>0.8896913720017506</td><td>0.0</td><td>3424.0</td><td>141.0</td><td>&lt;SEDkit.sed.SED object at 0x11ae6ab00&gt;</td><td>20.486</td><td>0.073</td><td>67092.551</td><td>3847.73</td><td>17.779</td><td>0.006</td><td>58227.007</td><td>3339.293</td><td>16.431</td><td>0.004</td><td>53812.248</td><td>3086.108</td><td>15.843</td><td>0.004</td><td>51886.522</td><td>2975.669</td><td>15.514</td><td>0.005</td><td>50809.032</td><td>2913.875</td><td>14.391</td><td>0.029</td><td>47131.158</td><td>2702.951</td><td>13.677</td><td>0.032</td><td>44792.777</td><td>2568.846</td><td>13.535</td><td>0.034</td><td>44327.72</td><td>2542.176</td><td>13.55</td><td>0.027</td><td>44376.846</td><td>2544.993</td><td>13.581</td><td>0.035</td><td>44478.372</td><td>2550.815</td><td>12.884</td><td>nan</td><td>42195.667</td><td>nan</td></tr>\n",
       "<tr><td>2MASS 2618328860</td><td>6000.0</td><td>4000.0</td><td>570.18</td><td>32.51</td><td>1.753837858963652</td><td>0.1</td><td>0.8786209573091851</td><td>0.06782337214316517</td><td>60.0</td><td>0.5</td><td>None</td><td>9.344700986227546e-12</td><td>8.891778300076678e-14</td><td>16.092</td><td>0.01</td><td>3.634965749281282e+32</td><td>4.159508308955214e+31</td><td>-1.022</td><td>0.05</td><td>7.312</td><td>0.063</td><td>4.5</td><td>0.07</td><td>0.8896913720017506</td><td>0.0</td><td>3418.0</td><td>164.0</td><td>&lt;SEDkit.sed.SED object at 0x11ae4b4e0&gt;</td><td>20.486</td><td>0.073</td><td>66601.058</td><td>7594.797</td><td>17.779</td><td>0.006</td><td>57800.459</td><td>6591.227</td><td>16.431</td><td>0.004</td><td>53418.041</td><td>6091.482</td><td>15.843</td><td>0.004</td><td>51506.422</td><td>5873.492</td><td>15.514</td><td>0.005</td><td>50436.826</td><td>5751.521</td><td>14.391</td><td>0.029</td><td>46785.894</td><td>5335.191</td><td>13.677</td><td>0.032</td><td>44464.643</td><td>5070.489</td><td>13.535</td><td>0.034</td><td>44002.993</td><td>5017.845</td><td>13.55</td><td>0.027</td><td>44051.759</td><td>5023.406</td><td>13.581</td><td>0.035</td><td>44152.542</td><td>5034.899</td><td>12.884</td><td>nan</td><td>41886.558</td><td>nan</td></tr>\n",
       "<tr><td>2MASS 2618328861</td><td>6000.0</td><td>4000.0</td><td>601.33</td><td>36.16</td><td>1.662968880585695</td><td>0.1</td><td>0.8786209573091851</td><td>0.06782337214316517</td><td>60.0</td><td>0.5</td><td>None</td><td>9.344700986227546e-12</td><td>8.891778300076678e-14</td><td>16.092</td><td>0.01</td><td>4.04298477531372e+32</td><td>4.877560869570085e+31</td><td>-0.976</td><td>0.052</td><td>7.196</td><td>0.066</td><td>4.5</td><td>0.07</td><td>0.8896913720017506</td><td>0.0</td><td>3510.0</td><td>171.0</td><td>&lt;SEDkit.sed.SED object at 0x11ae663c8&gt;</td><td>20.486</td><td>0.073</td><td>74076.919</td><td>8908.991</td><td>17.779</td><td>0.006</td><td>64288.467</td><td>7731.765</td><td>16.431</td><td>0.004</td><td>59414.129</td><td>7145.544</td><td>15.843</td><td>0.004</td><td>57287.935</td><td>6889.833</td><td>15.514</td><td>0.005</td><td>56098.278</td><td>6746.757</td><td>14.391</td><td>0.029</td><td>52037.535</td><td>6258.385</td><td>13.677</td><td>0.032</td><td>49455.727</td><td>5947.879</td><td>13.535</td><td>0.034</td><td>48942.258</td><td>5886.126</td><td>13.55</td><td>0.027</td><td>48996.498</td><td>5892.649</td><td>13.581</td><td>0.035</td><td>49108.593</td><td>5906.131</td><td>12.884</td><td>nan</td><td>46588.257</td><td>nan</td></tr>\n",
       "<tr><td>2MASS 2618328862</td><td>6000.0</td><td>4000.0</td><td>595.05</td><td>35.41</td><td>1.6805254642040846</td><td>0.1</td><td>0.8786209573091851</td><td>0.06782337214316517</td><td>60.0</td><td>0.5</td><td>None</td><td>9.344700986227546e-12</td><td>8.891778300076678e-14</td><td>16.092</td><td>0.01</td><td>3.958979772294807e+32</td><td>4.726823093558116e+31</td><td>-0.985</td><td>0.052</td><td>7.219</td><td>0.065</td><td>4.5</td><td>0.07</td><td>0.8896913720017506</td><td>0.0</td><td>3492.0</td><td>170.0</td><td>&lt;SEDkit.sed.SED object at 0x11ae56198&gt;</td><td>20.486</td><td>0.073</td><td>72537.751</td><td>8633.097</td><td>17.779</td><td>0.006</td><td>62952.684</td><td>7492.327</td><td>16.431</td><td>0.004</td><td>58179.625</td><td>6924.26</td><td>15.843</td><td>0.004</td><td>56097.608</td><td>6676.469</td><td>15.514</td><td>0.005</td><td>54932.67</td><td>6537.823</td><td>14.391</td><td>0.029</td><td>50956.301</td><td>6064.575</td><td>13.677</td><td>0.032</td><td>48428.137</td><td>5763.685</td><td>13.535</td><td>0.034</td><td>47925.337</td><td>5703.844</td><td>13.55</td><td>0.027</td><td>47978.45</td><td>5710.165</td><td>13.581</td><td>0.035</td><td>48088.216</td><td>5723.229</td><td>12.884</td><td>nan</td><td>45620.247</td><td>nan</td></tr>\n",
       "<tr><td>2MASS 2618328863</td><td>6000.0</td><td>4000.0</td><td>561.37</td><td>31.51</td><td>1.7813438065170613</td><td>0.1</td><td>0.8786209573091851</td><td>0.06782337214316517</td><td>60.0</td><td>0.5</td><td>None</td><td>9.344700986227546e-12</td><td>8.891778300076678e-14</td><td>16.092</td><td>0.01</td><td>3.523503957260585e+32</td><td>3.969706961868959e+31</td><td>-1.036</td><td>0.049</td><td>7.346</td><td>0.062</td><td>4.5</td><td>0.07</td><td>0.8896913720017506</td><td>0.0</td><td>3391.0</td><td>162.0</td><td>&lt;SEDkit.sed.SED object at 0x11aeb03c8&gt;</td><td>20.486</td><td>0.073</td><td>64558.818</td><td>7247.443</td><td>17.779</td><td>0.006</td><td>56028.079</td><td>6289.772</td><td>16.431</td><td>0.004</td><td>51780.042</td><td>5812.883</td><td>15.843</td><td>0.004</td><td>49927.04</td><td>5604.863</td><td>15.514</td><td>0.005</td><td>48890.242</td><td>5488.471</td><td>14.391</td><td>0.029</td><td>45351.262</td><td>5091.182</td><td>13.677</td><td>0.032</td><td>43101.189</td><td>4838.586</td><td>13.535</td><td>0.034</td><td>42653.695</td><td>4788.35</td><td>13.55</td><td>0.027</td><td>42700.966</td><td>4793.657</td><td>13.581</td><td>0.035</td><td>42798.658</td><td>4804.624</td><td>12.884</td><td>nan</td><td>40602.158</td><td>nan</td></tr>\n",
       "<tr><td>2MASS 2618328864</td><td>6000.0</td><td>4000.0</td><td>590.02</td><td>34.81</td><td>1.6948524038039543</td><td>0.1</td><td>0.8786209573091851</td><td>0.06782337214316517</td><td>60.0</td><td>0.5</td><td>None</td><td>9.344700986227546e-12</td><td>8.891778300076678e-14</td><td>16.092</td><td>0.01</td><td>3.892331583311926e+32</td><td>4.607704790817821e+31</td><td>-0.993</td><td>0.051</td><td>7.238</td><td>0.065</td><td>4.5</td><td>0.07</td><td>0.8896913720017506</td><td>0.0</td><td>3477.0</td><td>169.0</td><td>&lt;SEDkit.sed.SED object at 0x11ae8e080&gt;</td><td>20.486</td><td>0.073</td><td>71316.601</td><td>8415.075</td><td>17.779</td><td>0.006</td><td>61892.895</td><td>7303.114</td><td>16.431</td><td>0.004</td><td>57200.189</td><td>6749.393</td><td>15.843</td><td>0.004</td><td>55153.222</td><td>6507.86</td><td>15.514</td><td>0.005</td><td>54007.895</td><td>6372.716</td><td>14.391</td><td>0.029</td><td>50098.467</td><td>5911.419</td><td>13.677</td><td>0.032</td><td>47612.865</td><td>5618.128</td><td>13.535</td><td>0.034</td><td>47118.529</td><td>5559.798</td><td>13.55</td><td>0.027</td><td>47170.748</td><td>5565.96</td><td>13.581</td><td>0.035</td><td>47278.666</td><td>5578.694</td><td>12.884</td><td>nan</td><td>44852.245</td><td>nan</td></tr>\n",
       "<tr><td>2MASS 2618328866</td><td>6000.0</td><td>4000.0</td><td>561.95</td><td>31.58</td><td>1.7795251223910526</td><td>0.1</td><td>0.8786209573091851</td><td>0.06782337214316517</td><td>60.0</td><td>0.5</td><td>None</td><td>9.344700986227546e-12</td><td>8.891778300076678e-14</td><td>16.092</td><td>0.01</td><td>3.53078859314078e+32</td><td>3.982602628898343e+31</td><td>-1.035</td><td>0.049</td><td>7.344</td><td>0.062</td><td>4.5</td><td>0.07</td><td>0.8896913720017506</td><td>0.0</td><td>3393.0</td><td>162.0</td><td>&lt;SEDkit.sed.SED object at 0x11af3ba58&gt;</td><td>20.486</td><td>0.073</td><td>64692.289</td><td>7271.048</td><td>17.779</td><td>0.006</td><td>56143.913</td><td>6310.258</td><td>16.431</td><td>0.004</td><td>51887.094</td><td>5831.816</td><td>15.843</td><td>0.004</td><td>50030.262</td><td>5623.118</td><td>15.514</td><td>0.005</td><td>48991.32</td><td>5506.347</td><td>14.391</td><td>0.029</td><td>45445.023</td><td>5107.764</td><td>13.677</td><td>0.032</td><td>43190.298</td><td>4854.345</td><td>13.535</td><td>0.034</td><td>42741.879</td><td>4803.946</td><td>13.55</td><td>0.027</td><td>42789.247</td><td>4809.269</td><td>13.581</td><td>0.035</td><td>42887.141</td><td>4820.272</td><td>12.884</td><td>nan</td><td>40686.1</td><td>nan</td></tr>\n",
       "<tr><td>2MASS 2618328868</td><td>6000.0</td><td>4000.0</td><td>579.1</td><td>33.54</td><td>1.726812807926387</td><td>0.1</td><td>0.8786209573091851</td><td>0.06782337214316517</td><td>60.0</td><td>0.5</td><td>None</td><td>9.344700986227546e-12</td><td>8.891778300076678e-14</td><td>16.092</td><td>0.01</td><td>3.7495875078331426e+32</td><td>4.357961054913734e+31</td><td>-1.009</td><td>0.05</td><td>7.278</td><td>0.064</td><td>4.5</td><td>0.07</td><td>0.8896913720017506</td><td>0.0</td><td>3444.0</td><td>166.0</td><td>&lt;SEDkit.sed.SED object at 0x11af99748&gt;</td><td>20.486</td><td>0.073</td><td>68701.196</td><td>7957.998</td><td>17.779</td><td>0.006</td><td>59623.087</td><td>6906.435</td><td>16.431</td><td>0.004</td><td>55102.477</td><td>6382.791</td><td>15.843</td><td>0.004</td><td>53130.579</td><td>6154.376</td><td>15.514</td><td>0.005</td><td>52027.256</td><td>6026.573</td><td>14.391</td><td>0.029</td><td>48261.199</td><td>5590.332</td><td>13.677</td><td>0.032</td><td>45866.751</td><td>5312.972</td><td>13.535</td><td>0.034</td><td>45390.544</td><td>5257.81</td><td>13.55</td><td>0.027</td><td>45440.848</td><td>5263.637</td><td>13.581</td><td>0.035</td><td>45544.808</td><td>5275.679</td><td>12.884</td><td>nan</td><td>43207.371</td><td>nan</td></tr>\n",
       "<tr><td>2MASS 2618328869</td><td>6000.0</td><td>4000.0</td><td>528.71</td><td>27.95</td><td>1.8914040443725313</td><td>0.1</td><td>0.8786209573091851</td><td>0.06782337214316517</td><td>60.0</td><td>0.5</td><td>None</td><td>9.344700986227546e-12</td><td>8.891778300076678e-14</td><td>16.092</td><td>0.01</td><td>3.1254417785065722e+32</td><td>3.3178549425328183e+31</td><td>-1.088</td><td>0.046</td><td>7.476</td><td>0.058</td><td>4.5</td><td>0.07</td><td>0.8896913720017506</td><td>0.0</td><td>3291.0</td><td>154.0</td><td>&lt;SEDkit.sed.SED object at 0x11af4e5f8&gt;</td><td>20.486</td><td>0.073</td><td>57265.389</td><td>6054.616</td><td>17.779</td><td>0.006</td><td>49698.397</td><td>5254.564</td><td>16.431</td><td>0.004</td><td>45930.275</td><td>4856.164</td><td>15.843</td><td>0.004</td><td>44286.613</td><td>4682.381</td><td>15.514</td><td>0.005</td><td>43366.946</td><td>4585.145</td><td>14.391</td><td>0.029</td><td>40227.776</td><td>4253.244</td><td>13.677</td><td>0.032</td><td>38231.901</td><td>4042.223</td><td>13.535</td><td>0.034</td><td>37834.963</td><td>4000.255</td><td>13.55</td><td>0.027</td><td>37876.893</td><td>4004.688</td><td>13.581</td><td>0.035</td><td>37963.548</td><td>4013.85</td><td>12.884</td><td>nan</td><td>36015.195</td><td>nan</td></tr>\n",
       "</table>"
      ],
      "text/plain": [
       "<Table length=9>\n",
       "      name        age   age_unc distance ... WISE.W3_unc M_WISE.W3 M_WISE.W3_unc\n",
       "                  Myr     Myr      pc    ...                                    \n",
       "     object      object  object  object  ...   float64    float64     float64   \n",
       "---------------- ------ ------- -------- ... ----------- --------- -------------\n",
       " 2MASS 261832886 6000.0  4000.0   572.28 ...         nan 42195.667           nan\n",
       "2MASS 2618328860 6000.0  4000.0   570.18 ...         nan 41886.558           nan\n",
       "2MASS 2618328861 6000.0  4000.0   601.33 ...         nan 46588.257           nan\n",
       "2MASS 2618328862 6000.0  4000.0   595.05 ...         nan 45620.247           nan\n",
       "2MASS 2618328863 6000.0  4000.0   561.37 ...         nan 40602.158           nan\n",
       "2MASS 2618328864 6000.0  4000.0   590.02 ...         nan 44852.245           nan\n",
       "2MASS 2618328866 6000.0  4000.0   561.95 ...         nan   40686.1           nan\n",
       "2MASS 2618328868 6000.0  4000.0    579.1 ...         nan 43207.371           nan\n",
       "2MASS 2618328869 6000.0  4000.0   528.71 ...         nan 36015.195           nan"
      ]
     },
     "execution_count": 24,
     "metadata": {},
     "output_type": "execute_result"
    }
   ],
   "source": [
    "cat.filter('M_SDSS.r', ('>50000','<60000')).results"
   ]
  },
  {
   "cell_type": "code",
   "execution_count": null,
   "metadata": {
    "collapsed": true
   },
   "outputs": [],
   "source": []
  },
  {
   "cell_type": "code",
   "execution_count": null,
   "metadata": {
    "collapsed": true
   },
   "outputs": [],
   "source": []
  }
 ],
 "metadata": {
  "anaconda-cloud": {},
  "kernelspec": {
   "display_name": "Astroconda",
   "language": "python",
   "name": "astroconda_kernel"
  },
  "language_info": {
   "codemirror_mode": {
    "name": "ipython",
    "version": 3
   },
   "file_extension": ".py",
   "mimetype": "text/x-python",
   "name": "python",
   "nbconvert_exporter": "python",
   "pygments_lexer": "ipython3",
   "version": "3.5.2"
  }
 },
 "nbformat": 4,
 "nbformat_minor": 1
}
