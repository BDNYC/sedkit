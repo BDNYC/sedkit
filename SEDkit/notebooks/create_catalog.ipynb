{
 "cells": [
  {
   "cell_type": "markdown",
   "metadata": {},
   "source": [
    "# Make a catalog of SEDs"
   ]
  },
  {
   "cell_type": "code",
   "execution_count": 47,
   "metadata": {
    "collapsed": false
   },
   "outputs": [
    {
     "data": {
      "text/html": [
       "\n",
       "    <div class=\"bk-root\">\n",
       "        <a href=\"http://bokeh.pydata.org\" target=\"_blank\" class=\"bk-logo bk-logo-small bk-logo-notebook\"></a>\n",
       "        <span id=\"c961e6e3-fa2c-4865-80d9-452f04dc6fb2\">Loading BokehJS ...</span>\n",
       "    </div>"
      ]
     },
     "metadata": {},
     "output_type": "display_data"
    },
    {
     "data": {
      "application/javascript": [
       "\n",
       "(function(global) {\n",
       "  function now() {\n",
       "    return new Date();\n",
       "  }\n",
       "\n",
       "  var force = true;\n",
       "\n",
       "  if (typeof (window._bokeh_onload_callbacks) === \"undefined\" || force === true) {\n",
       "    window._bokeh_onload_callbacks = [];\n",
       "    window._bokeh_is_loading = undefined;\n",
       "  }\n",
       "\n",
       "\n",
       "  \n",
       "  if (typeof (window._bokeh_timeout) === \"undefined\" || force === true) {\n",
       "    window._bokeh_timeout = Date.now() + 5000;\n",
       "    window._bokeh_failed_load = false;\n",
       "  }\n",
       "\n",
       "  var NB_LOAD_WARNING = {'data': {'text/html':\n",
       "     \"<div style='background-color: #fdd'>\\n\"+\n",
       "     \"<p>\\n\"+\n",
       "     \"BokehJS does not appear to have successfully loaded. If loading BokehJS from CDN, this \\n\"+\n",
       "     \"may be due to a slow or bad network connection. Possible fixes:\\n\"+\n",
       "     \"</p>\\n\"+\n",
       "     \"<ul>\\n\"+\n",
       "     \"<li>re-rerun `output_notebook()` to attempt to load from CDN again, or</li>\\n\"+\n",
       "     \"<li>use INLINE resources instead, as so:</li>\\n\"+\n",
       "     \"</ul>\\n\"+\n",
       "     \"<code>\\n\"+\n",
       "     \"from bokeh.resources import INLINE\\n\"+\n",
       "     \"output_notebook(resources=INLINE)\\n\"+\n",
       "     \"</code>\\n\"+\n",
       "     \"</div>\"}};\n",
       "\n",
       "  function display_loaded() {\n",
       "    if (window.Bokeh !== undefined) {\n",
       "      var el = document.getElementById(\"c961e6e3-fa2c-4865-80d9-452f04dc6fb2\");\n",
       "      el.textContent = \"BokehJS \" + Bokeh.version + \" successfully loaded.\";\n",
       "    } else if (Date.now() < window._bokeh_timeout) {\n",
       "      setTimeout(display_loaded, 100)\n",
       "    }\n",
       "  }\n",
       "\n",
       "  function run_callbacks() {\n",
       "    try {\n",
       "      window._bokeh_onload_callbacks.forEach(function(callback) { callback() });\n",
       "    }\n",
       "    finally {\n",
       "      delete window._bokeh_onload_callbacks\n",
       "    }\n",
       "    console.info(\"Bokeh: all callbacks have finished\");\n",
       "  }\n",
       "\n",
       "  function load_libs(js_urls, callback) {\n",
       "    window._bokeh_onload_callbacks.push(callback);\n",
       "    if (window._bokeh_is_loading > 0) {\n",
       "      console.log(\"Bokeh: BokehJS is being loaded, scheduling callback at\", now());\n",
       "      return null;\n",
       "    }\n",
       "    if (js_urls == null || js_urls.length === 0) {\n",
       "      run_callbacks();\n",
       "      return null;\n",
       "    }\n",
       "    console.log(\"Bokeh: BokehJS not loaded, scheduling load and callback at\", now());\n",
       "    window._bokeh_is_loading = js_urls.length;\n",
       "    for (var i = 0; i < js_urls.length; i++) {\n",
       "      var url = js_urls[i];\n",
       "      var s = document.createElement('script');\n",
       "      s.src = url;\n",
       "      s.async = false;\n",
       "      s.onreadystatechange = s.onload = function() {\n",
       "        window._bokeh_is_loading--;\n",
       "        if (window._bokeh_is_loading === 0) {\n",
       "          console.log(\"Bokeh: all BokehJS libraries loaded\");\n",
       "          run_callbacks()\n",
       "        }\n",
       "      };\n",
       "      s.onerror = function() {\n",
       "        console.warn(\"failed to load library \" + url);\n",
       "      };\n",
       "      console.log(\"Bokeh: injecting script tag for BokehJS library: \", url);\n",
       "      document.getElementsByTagName(\"head\")[0].appendChild(s);\n",
       "    }\n",
       "  };var element = document.getElementById(\"c961e6e3-fa2c-4865-80d9-452f04dc6fb2\");\n",
       "  if (element == null) {\n",
       "    console.log(\"Bokeh: ERROR: autoload.js configured with elementid 'c961e6e3-fa2c-4865-80d9-452f04dc6fb2' but no matching script tag was found. \")\n",
       "    return false;\n",
       "  }\n",
       "\n",
       "  var js_urls = [\"https://cdn.pydata.org/bokeh/release/bokeh-0.12.6.min.js\", \"https://cdn.pydata.org/bokeh/release/bokeh-widgets-0.12.6.min.js\"];\n",
       "\n",
       "  var inline_js = [\n",
       "    function(Bokeh) {\n",
       "      Bokeh.set_log_level(\"info\");\n",
       "    },\n",
       "    \n",
       "    function(Bokeh) {\n",
       "      \n",
       "    },\n",
       "    \n",
       "    function(Bokeh) {\n",
       "      \n",
       "      document.getElementById(\"c961e6e3-fa2c-4865-80d9-452f04dc6fb2\").textContent = \"BokehJS is loading...\";\n",
       "    },\n",
       "    function(Bokeh) {\n",
       "      console.log(\"Bokeh: injecting CSS: https://cdn.pydata.org/bokeh/release/bokeh-0.12.6.min.css\");\n",
       "      Bokeh.embed.inject_css(\"https://cdn.pydata.org/bokeh/release/bokeh-0.12.6.min.css\");\n",
       "      console.log(\"Bokeh: injecting CSS: https://cdn.pydata.org/bokeh/release/bokeh-widgets-0.12.6.min.css\");\n",
       "      Bokeh.embed.inject_css(\"https://cdn.pydata.org/bokeh/release/bokeh-widgets-0.12.6.min.css\");\n",
       "    }\n",
       "  ];\n",
       "\n",
       "  function run_inline_js() {\n",
       "    \n",
       "    if ((window.Bokeh !== undefined) || (force === true)) {\n",
       "      for (var i = 0; i < inline_js.length; i++) {\n",
       "        inline_js[i](window.Bokeh);\n",
       "      }if (force === true) {\n",
       "        display_loaded();\n",
       "      }} else if (Date.now() < window._bokeh_timeout) {\n",
       "      setTimeout(run_inline_js, 100);\n",
       "    } else if (!window._bokeh_failed_load) {\n",
       "      console.log(\"Bokeh: BokehJS failed to load within specified timeout.\");\n",
       "      window._bokeh_failed_load = true;\n",
       "    } else if (force !== true) {\n",
       "      var cell = $(document.getElementById(\"c961e6e3-fa2c-4865-80d9-452f04dc6fb2\")).parents('.cell').data().cell;\n",
       "      cell.output_area.append_execute_result(NB_LOAD_WARNING)\n",
       "    }\n",
       "\n",
       "  }\n",
       "\n",
       "  if (window._bokeh_is_loading === 0) {\n",
       "    console.log(\"Bokeh: BokehJS loaded, going straight to plotting\");\n",
       "    run_inline_js();\n",
       "  } else {\n",
       "    load_libs(js_urls, function() {\n",
       "      console.log(\"Bokeh: BokehJS plotting callback run at\", now());\n",
       "      run_inline_js();\n",
       "    });\n",
       "  }\n",
       "}(this));"
      ]
     },
     "metadata": {},
     "output_type": "display_data"
    }
   ],
   "source": [
    "# Imports\n",
    "from SEDkit import sed, spectrum, synphot, catalog\n",
    "import astropy.units as q\n",
    "import numpy as np\n",
    "from pkg_resources import resource_filename\n",
    "from bokeh.io import output_notebook, show\n",
    "output_notebook()"
   ]
  },
  {
   "cell_type": "markdown",
   "metadata": {},
   "source": [
    "First we initialize an empty catalog."
   ]
  },
  {
   "cell_type": "code",
   "execution_count": 48,
   "metadata": {
    "collapsed": false
   },
   "outputs": [],
   "source": [
    "# Make an SED catalog\n",
    "cat = catalog.SEDCatalog()"
   ]
  },
  {
   "cell_type": "markdown",
   "metadata": {},
   "source": [
    "Now let's make a few SEDs"
   ]
  },
  {
   "cell_type": "code",
   "execution_count": 49,
   "metadata": {
    "collapsed": false
   },
   "outputs": [
    {
     "name": "stdout",
     "output_type": "stream",
     "text": [
      "Make this handle asymmetric uncertainties!\n",
      "Setting age to (<Quantity 6.0 Gyr>, <Quantity 4.0 Gyr>)\n",
      "Setting radius to (<Quantity 0.8786209573091851 solRad>, <Quantity 0.06782337214316517 solRad>)\n"
     ]
    }
   ],
   "source": [
    "# Make an SED\n",
    "s1 = sed.SED(parallax=(1.7474*q.mas, 0.0501*q.mas), spectral_type='M0V', name='2MASS 261832886')\n",
    "s1.add_photometry_file(resource_filename('SEDkit', 'data/M0V_photometry.txt'))\n",
    "s1.make_sed()\n",
    "cat.add_SED(s1)"
   ]
  },
  {
   "cell_type": "code",
   "execution_count": 50,
   "metadata": {
    "collapsed": false
   },
   "outputs": [
    {
     "name": "stdout",
     "output_type": "stream",
     "text": [
      "Make this handle asymmetric uncertainties!\n",
      "Make this handle asymmetric uncertainties!\n",
      "Make this handle asymmetric uncertainties!\n",
      "Make this handle asymmetric uncertainties!\n",
      "Make this handle asymmetric uncertainties!\n",
      "Make this handle asymmetric uncertainties!\n",
      "Make this handle asymmetric uncertainties!\n",
      "Make this handle asymmetric uncertainties!\n",
      "Make this handle asymmetric uncertainties!\n",
      "Make this handle asymmetric uncertainties!\n"
     ]
    }
   ],
   "source": [
    "# Make 30 other SEDs (I'll just change the parallax)\n",
    "for i in range(10):\n",
    "    s2 = copy.copy(s1)\n",
    "    s2.parallax = abs(np.random.normal(loc=1.7474, scale=0.1))*q.mas, 0.1*q.mas\n",
    "    s2.name += str(i)\n",
    "    s2.make_sed()\n",
    "    cat.add_SED(s2)"
   ]
  },
  {
   "cell_type": "markdown",
   "metadata": {},
   "source": [
    "Then the aggregated results look like this:"
   ]
  },
  {
   "cell_type": "code",
   "execution_count": 51,
   "metadata": {
    "collapsed": false
   },
   "outputs": [
    {
     "data": {
      "text/html": [
       "<i>QTable length=11</i>\n",
       "<table id=\"table4754518368\" class=\"table-striped table-bordered table-condensed\">\n",
       "<thead><tr><th>name</th><th>age</th><th>age_unc</th><th>distance</th><th>distance_unc</th><th>parallax</th><th>parallax_unc</th><th>radius</th><th>radius_unc</th><th>spectral_type</th><th>spectral_type_unc</th><th>membership</th><th>fbol</th><th>fbol_unc</th><th>mbol</th><th>mbol_unc</th><th>Lbol</th><th>Lbol_unc</th><th>Lbol_sun</th><th>Lbol_sun_unc</th><th>Mbol</th><th>Mbol_unc</th><th>logg</th><th>logg_unc</th><th>mass</th><th>mass_unc</th><th>Teff</th><th>Teff_unc</th><th>SED</th><th>SDSS.u</th><th>SDSS.u_unc</th><th>M_SDSS.u</th><th>M_SDSS.u_unc</th><th>SDSS.g</th><th>SDSS.g_unc</th><th>M_SDSS.g</th><th>M_SDSS.g_unc</th><th>SDSS.r</th><th>SDSS.r_unc</th><th>M_SDSS.r</th><th>M_SDSS.r_unc</th><th>SDSS.i</th><th>SDSS.i_unc</th><th>M_SDSS.i</th><th>M_SDSS.i_unc</th><th>SDSS.z</th><th>SDSS.z_unc</th><th>M_SDSS.z</th><th>M_SDSS.z_unc</th><th>2MASS.J</th><th>2MASS.J_unc</th><th>M_2MASS.J</th><th>M_2MASS.J_unc</th><th>2MASS.H</th><th>2MASS.H_unc</th><th>M_2MASS.H</th><th>M_2MASS.H_unc</th><th>2MASS.Ks</th><th>2MASS.Ks_unc</th><th>M_2MASS.Ks</th><th>M_2MASS.Ks_unc</th><th>WISE.W1</th><th>WISE.W1_unc</th><th>M_WISE.W1</th><th>M_WISE.W1_unc</th><th>WISE.W2</th><th>WISE.W2_unc</th><th>M_WISE.W2</th><th>M_WISE.W2_unc</th><th>WISE.W3</th><th>WISE.W3_unc</th><th>M_WISE.W3</th><th>M_WISE.W3_unc</th></tr></thead>\n",
       "<thead><tr><th></th><th>Myr</th><th>Myr</th><th>pc</th><th>pc</th><th>mas</th><th>mas</th><th>6.957e+08 m</th><th></th><th></th><th></th><th></th><th>erg / (cm2 s)</th><th>erg / (cm2 s)</th><th></th><th></th><th>erg / s</th><th>erg / s</th><th></th><th></th><th></th><th></th><th></th><th></th><th>solMass</th><th>solMass</th><th>K</th><th>K</th><th></th><th></th><th></th><th></th><th></th><th></th><th></th><th></th><th></th><th></th><th></th><th></th><th></th><th></th><th></th><th></th><th></th><th></th><th></th><th></th><th></th><th></th><th></th><th></th><th></th><th></th><th></th><th></th><th></th><th></th><th></th><th></th><th></th><th></th><th></th><th></th><th></th><th></th><th></th><th></th><th></th><th></th><th></th><th></th><th></th></tr></thead>\n",
       "<thead><tr><th>object</th><th>float64</th><th>float64</th><th>float64</th><th>float64</th><th>float64</th><th>float64</th><th>float64</th><th>object</th><th>object</th><th>object</th><th>object</th><th>float64</th><th>float64</th><th>object</th><th>object</th><th>float64</th><th>float64</th><th>object</th><th>object</th><th>object</th><th>object</th><th>object</th><th>object</th><th>float64</th><th>float64</th><th>float64</th><th>float64</th><th>object</th><th>float64</th><th>float64</th><th>float64</th><th>float64</th><th>float64</th><th>float64</th><th>float64</th><th>float64</th><th>float64</th><th>float64</th><th>float64</th><th>float64</th><th>float64</th><th>float64</th><th>float64</th><th>float64</th><th>float64</th><th>float64</th><th>float64</th><th>float64</th><th>float64</th><th>float64</th><th>float64</th><th>float64</th><th>float64</th><th>float64</th><th>float64</th><th>float64</th><th>float64</th><th>float64</th><th>float64</th><th>float64</th><th>float64</th><th>float64</th><th>float64</th><th>float64</th><th>float64</th><th>float64</th><th>float64</th><th>float64</th><th>float64</th><th>float64</th><th>float64</th><th>float64</th></tr></thead>\n",
       "<tr><td>2MASS 261832886</td><td>6000.0</td><td>4000.0</td><td>572.28</td><td>16.41</td><td>1.7474</td><td>0.0501</td><td>0.8786209573091851</td><td>0.06782337214316517</td><td>60.0</td><td>0.5</td><td>None</td><td>9.344700986227546e-12</td><td>8.891778300076678e-14</td><td>16.092</td><td>0.01</td><td>3.66179055973561e+32</td><td>2.1287295997847215e+31</td><td>-1.019</td><td>0.025</td><td>7.304</td><td>0.033</td><td>4.5</td><td>0.07</td><td>0.8896913720017506</td><td>0.0</td><td>3424.0</td><td>141.0</td><td>&lt;SEDkit.sed.SED object at 0x11b6d3080&gt;</td><td>20.486</td><td>0.073</td><td>67092.551</td><td>3847.73</td><td>17.779</td><td>0.006</td><td>58227.007</td><td>3339.293</td><td>16.431</td><td>0.004</td><td>53812.248</td><td>3086.108</td><td>15.843</td><td>0.004</td><td>51886.522</td><td>2975.669</td><td>15.514</td><td>0.005</td><td>50809.032</td><td>2913.875</td><td>14.391</td><td>0.029</td><td>47131.158</td><td>2702.951</td><td>13.677</td><td>0.032</td><td>44792.777</td><td>2568.846</td><td>13.535</td><td>0.034</td><td>44327.72</td><td>2542.176</td><td>13.55</td><td>0.027</td><td>44376.846</td><td>2544.993</td><td>13.581</td><td>0.035</td><td>44478.372</td><td>2550.815</td><td>12.884</td><td>0.0</td><td>42195.667</td><td>2419.902</td></tr>\n",
       "<tr><td>2MASS 2618328860</td><td>6000.0</td><td>4000.0</td><td>564.31</td><td>31.84</td><td>1.772071509260509</td><td>0.1</td><td>0.8786209573091851</td><td>0.06782337214316517</td><td>60.0</td><td>0.5</td><td>None</td><td>9.344700986227546e-12</td><td>8.891778300076678e-14</td><td>16.092</td><td>0.01</td><td>3.560507102828148e+32</td><td>4.032140353496327e+31</td><td>-1.031</td><td>0.049</td><td>7.334</td><td>0.062</td><td>4.5</td><td>0.07</td><td>0.8896913720017506</td><td>0.0</td><td>3400.0</td><td>162.0</td><td>&lt;SEDkit.sed.SED object at 0x11b6ed128&gt;</td><td>20.486</td><td>0.073</td><td>65236.802</td><td>7361.699</td><td>17.779</td><td>0.006</td><td>56616.475</td><td>6388.93</td><td>16.431</td><td>0.004</td><td>52323.825</td><td>5904.523</td><td>15.843</td><td>0.004</td><td>50451.364</td><td>5693.223</td><td>15.514</td><td>0.005</td><td>49403.678</td><td>5574.996</td><td>14.391</td><td>0.029</td><td>45827.532</td><td>5171.444</td><td>13.677</td><td>0.032</td><td>43553.829</td><td>4914.866</td><td>13.535</td><td>0.034</td><td>43101.636</td><td>4863.838</td><td>13.55</td><td>0.027</td><td>43149.403</td><td>4869.228</td><td>13.581</td><td>0.035</td><td>43248.121</td><td>4880.368</td><td>12.884</td><td>0.0</td><td>41028.554</td><td>4629.899</td></tr>\n",
       "<tr><td>2MASS 2618328861</td><td>6000.0</td><td>4000.0</td><td>629.09</td><td>39.58</td><td>1.5896018028679335</td><td>0.1</td><td>0.8786209573091851</td><td>0.06782337214316517</td><td>60.0</td><td>0.5</td><td>None</td><td>9.344700986227546e-12</td><td>8.891778300076678e-14</td><td>16.092</td><td>0.01</td><td>4.424884378688802e+32</td><td>5.583841585423808e+31</td><td>-0.937</td><td>0.055</td><td>7.098</td><td>0.069</td><td>4.5</td><td>0.07</td><td>0.8896913720017506</td><td>0.0</td><td>3590.0</td><td>178.0</td><td>&lt;SEDkit.sed.SED object at 0x11b6d35f8&gt;</td><td>20.486</td><td>0.073</td><td>81074.211</td><td>10201.776</td><td>17.779</td><td>0.006</td><td>70361.144</td><td>8853.722</td><td>16.431</td><td>0.004</td><td>65026.377</td><td>8182.435</td><td>15.843</td><td>0.004</td><td>62699.342</td><td>7889.618</td><td>15.514</td><td>0.005</td><td>61397.311</td><td>7725.78</td><td>14.391</td><td>0.029</td><td>56952.991</td><td>7166.54</td><td>13.677</td><td>0.032</td><td>54127.306</td><td>6810.977</td><td>13.535</td><td>0.034</td><td>53565.335</td><td>6740.263</td><td>13.55</td><td>0.027</td><td>53624.698</td><td>6747.733</td><td>13.581</td><td>0.035</td><td>53747.382</td><td>6763.171</td><td>12.884</td><td>0.0</td><td>50988.975</td><td>6416.073</td></tr>\n",
       "<tr><td>2MASS 2618328862</td><td>6000.0</td><td>4000.0</td><td>611.31</td><td>37.37</td><td>1.635841594683923</td><td>0.1</td><td>0.8786209573091851</td><td>0.06782337214316517</td><td>60.0</td><td>0.5</td><td>None</td><td>9.344700986227546e-12</td><td>8.891778300076678e-14</td><td>16.092</td><td>0.01</td><td>4.17829754847338e+32</td><td>5.123919146130299e+31</td><td>-0.962</td><td>0.053</td><td>7.161</td><td>0.067</td><td>4.5</td><td>0.07</td><td>0.8896913720017506</td><td>0.0</td><td>3539.0</td><td>174.0</td><td>&lt;SEDkit.sed.SED object at 0x11ba6f400&gt;</td><td>20.486</td><td>0.073</td><td>76556.165</td><td>9359.913</td><td>17.779</td><td>0.006</td><td>66440.108</td><td>8123.102</td><td>16.431</td><td>0.004</td><td>61402.633</td><td>7507.21</td><td>15.843</td><td>0.004</td><td>59205.278</td><td>7238.557</td><td>15.514</td><td>0.005</td><td>57975.805</td><td>7088.239</td><td>14.391</td><td>0.029</td><td>53779.155</td><td>6575.149</td><td>13.677</td><td>0.032</td><td>51110.938</td><td>6248.927</td><td>13.535</td><td>0.034</td><td>50580.284</td><td>6184.048</td><td>13.55</td><td>0.027</td><td>50636.339</td><td>6190.902</td><td>13.581</td><td>0.035</td><td>50752.186</td><td>6205.065</td><td>12.884</td><td>0.0</td><td>48147.497</td><td>5886.611</td></tr>\n",
       "<tr><td>2MASS 2618328863</td><td>6000.0</td><td>4000.0</td><td>565.03</td><td>31.93</td><td>1.769828009175405</td><td>0.1</td><td>0.8786209573091851</td><td>0.06782337214316517</td><td>60.0</td><td>0.5</td><td>None</td><td>9.344700986227546e-12</td><td>8.891778300076678e-14</td><td>16.092</td><td>0.01</td><td>3.5695985615415986e+32</td><td>4.0486526959878755e+31</td><td>-1.03</td><td>0.049</td><td>7.332</td><td>0.062</td><td>4.5</td><td>0.07</td><td>0.8896913720017506</td><td>0.0</td><td>3402.0</td><td>162.0</td><td>&lt;SEDkit.sed.SED object at 0x11b716a58&gt;</td><td>20.486</td><td>0.073</td><td>65403.378</td><td>7391.927</td><td>17.779</td><td>0.006</td><td>56761.04</td><td>6415.164</td><td>16.431</td><td>0.004</td><td>52457.43</td><td>5928.767</td><td>15.843</td><td>0.004</td><td>50580.188</td><td>5716.601</td><td>15.514</td><td>0.005</td><td>49529.826</td><td>5597.888</td><td>14.391</td><td>0.029</td><td>45944.548</td><td>5192.678</td><td>13.677</td><td>0.032</td><td>43665.04</td><td>4935.047</td><td>13.535</td><td>0.034</td><td>43211.692</td><td>4883.809</td><td>13.55</td><td>0.027</td><td>43259.581</td><td>4889.222</td><td>13.581</td><td>0.035</td><td>43358.551</td><td>4900.408</td><td>12.884</td><td>0.0</td><td>41133.317</td><td>4648.91</td></tr>\n",
       "<tr><td>2MASS 2618328864</td><td>6000.0</td><td>4000.0</td><td>527.41</td><td>27.82</td><td>1.896065342620058</td><td>0.1</td><td>0.8786209573091851</td><td>0.06782337214316517</td><td>60.0</td><td>0.5</td><td>None</td><td>9.344700986227546e-12</td><td>8.891778300076678e-14</td><td>16.092</td><td>0.01</td><td>3.110090908886824e+32</td><td>3.2943613737045913e+31</td><td>-1.09</td><td>0.046</td><td>7.481</td><td>0.058</td><td>4.5</td><td>0.07</td><td>0.8896913720017506</td><td>0.0</td><td>3287.0</td><td>153.0</td><td>&lt;SEDkit.sed.SED object at 0x11b711a58&gt;</td><td>20.486</td><td>0.073</td><td>56984.126</td><td>6011.637</td><td>17.779</td><td>0.006</td><td>49454.299</td><td>5217.264</td><td>16.431</td><td>0.004</td><td>45704.685</td><td>4821.692</td><td>15.843</td><td>0.004</td><td>44069.096</td><td>4649.143</td><td>15.514</td><td>0.005</td><td>43153.945</td><td>4552.598</td><td>14.391</td><td>0.029</td><td>40030.194</td><td>4223.053</td><td>13.677</td><td>0.032</td><td>38044.122</td><td>4013.529</td><td>13.535</td><td>0.034</td><td>37649.133</td><td>3971.859</td><td>13.55</td><td>0.027</td><td>37690.857</td><td>3976.26</td><td>13.581</td><td>0.035</td><td>37777.087</td><td>3985.357</td><td>12.884</td><td>0.0</td><td>35838.303</td><td>3780.822</td></tr>\n",
       "<tr><td>2MASS 2618328865</td><td>6000.0</td><td>4000.0</td><td>527.74</td><td>27.85</td><td>1.8948620686279076</td><td>0.1</td><td>0.8786209573091851</td><td>0.06782337214316517</td><td>60.0</td><td>0.5</td><td>None</td><td>9.344700986227546e-12</td><td>8.891778300076678e-14</td><td>16.092</td><td>0.01</td><td>3.1139840890951933e+32</td><td>3.2999653477401605e+31</td><td>-1.09</td><td>0.046</td><td>7.48</td><td>0.058</td><td>4.5</td><td>0.07</td><td>0.8896913720017506</td><td>0.0</td><td>3288.0</td><td>153.0</td><td>&lt;SEDkit.sed.SED object at 0x11b6432b0&gt;</td><td>20.486</td><td>0.073</td><td>57055.458</td><td>6021.885</td><td>17.779</td><td>0.006</td><td>49516.205</td><td>5226.158</td><td>16.431</td><td>0.004</td><td>45761.897</td><td>4829.912</td><td>15.843</td><td>0.004</td><td>44124.261</td><td>4657.069</td><td>15.514</td><td>0.005</td><td>43207.965</td><td>4560.359</td><td>14.391</td><td>0.029</td><td>40080.303</td><td>4230.252</td><td>13.677</td><td>0.032</td><td>38091.745</td><td>4020.371</td><td>13.535</td><td>0.034</td><td>37696.262</td><td>3978.63</td><td>13.55</td><td>0.027</td><td>37738.038</td><td>3983.039</td><td>13.581</td><td>0.035</td><td>37824.376</td><td>3992.151</td><td>12.884</td><td>0.0</td><td>35883.165</td><td>3787.267</td></tr>\n",
       "<tr><td>2MASS 2618328866</td><td>6000.0</td><td>4000.0</td><td>515.51</td><td>26.58</td><td>1.9398242006176596</td><td>0.1</td><td>0.8786209573091851</td><td>0.06782337214316517</td><td>60.0</td><td>0.5</td><td>None</td><td>9.344700986227546e-12</td><td>8.891778300076678e-14</td><td>16.092</td><td>0.01</td><td>2.9713277042163567e+32</td><td>3.0770848207136464e+31</td><td>-1.11</td><td>0.045</td><td>7.531</td><td>0.057</td><td>4.5</td><td>0.07</td><td>0.8896913720017506</td><td>0.0</td><td>3250.0</td><td>151.0</td><td>&lt;SEDkit.sed.SED object at 0x11b6eccc0&gt;</td><td>20.486</td><td>0.073</td><td>54441.66</td><td>5614.09</td><td>17.779</td><td>0.006</td><td>47247.792</td><td>4872.248</td><td>16.431</td><td>0.004</td><td>43665.475</td><td>4502.835</td><td>15.843</td><td>0.004</td><td>42102.861</td><td>4341.697</td><td>15.514</td><td>0.005</td><td>41228.542</td><td>4251.536</td><td>14.391</td><td>0.029</td><td>38244.163</td><td>3943.784</td><td>13.677</td><td>0.032</td><td>36346.704</td><td>3748.115</td><td>13.535</td><td>0.034</td><td>35969.338</td><td>3709.201</td><td>13.55</td><td>0.027</td><td>36009.201</td><td>3713.312</td><td>13.581</td><td>0.035</td><td>36091.584</td><td>3721.807</td><td>12.884</td><td>0.0</td><td>34239.302</td><td>3530.797</td></tr>\n",
       "<tr><td>2MASS 2618328867</td><td>6000.0</td><td>4000.0</td><td>582.43</td><td>33.92</td><td>1.7169532113428219</td><td>0.1</td><td>0.8786209573091851</td><td>0.06782337214316517</td><td>60.0</td><td>0.5</td><td>None</td><td>9.344700986227546e-12</td><td>8.891778300076678e-14</td><td>16.092</td><td>0.01</td><td>3.792834014139818e+32</td><td>4.432515736988227e+31</td><td>-1.004</td><td>0.051</td><td>7.266</td><td>0.064</td><td>4.5</td><td>0.07</td><td>0.8896913720017506</td><td>0.0</td><td>3454.0</td><td>167.0</td><td>&lt;SEDkit.sed.SED object at 0x11b7586d8&gt;</td><td>20.486</td><td>0.073</td><td>69493.573</td><td>8094.44</td><td>17.779</td><td>0.006</td><td>60310.76</td><td>7024.848</td><td>16.431</td><td>0.004</td><td>55738.011</td><td>6492.225</td><td>15.843</td><td>0.004</td><td>53743.37</td><td>6259.894</td><td>15.514</td><td>0.005</td><td>52627.321</td><td>6129.9</td><td>14.391</td><td>0.029</td><td>48817.827</td><td>5686.18</td><td>13.677</td><td>0.032</td><td>46395.763</td><td>5404.064</td><td>13.535</td><td>0.034</td><td>45914.064</td><td>5347.956</td><td>13.55</td><td>0.027</td><td>45964.948</td><td>5353.883</td><td>13.581</td><td>0.035</td><td>46070.107</td><td>5366.132</td><td>12.884</td><td>0.0</td><td>43705.711</td><td>5090.733</td></tr>\n",
       "<tr><td>2MASS 2618328868</td><td>6000.0</td><td>4000.0</td><td>600.4</td><td>36.05</td><td>1.6655690741402933</td><td>0.1</td><td>0.8786209573091851</td><td>0.06782337214316517</td><td>60.0</td><td>0.5</td><td>None</td><td>9.344700986227546e-12</td><td>8.891778300076678e-14</td><td>16.092</td><td>0.01</td><td>4.0304889134581535e+32</td><td>4.855247945747969e+31</td><td>-0.978</td><td>0.052</td><td>7.2</td><td>0.066</td><td>4.5</td><td>0.07</td><td>0.8896913720017506</td><td>0.0</td><td>3507.0</td><td>171.0</td><td>&lt;SEDkit.sed.SED object at 0x11b6ecb00&gt;</td><td>20.486</td><td>0.073</td><td>73847.966</td><td>8868.153</td><td>17.779</td><td>0.006</td><td>64089.768</td><td>7696.323</td><td>16.431</td><td>0.004</td><td>59230.495</td><td>7112.789</td><td>15.843</td><td>0.004</td><td>57110.872</td><td>6858.251</td><td>15.514</td><td>0.005</td><td>55924.892</td><td>6715.831</td><td>14.391</td><td>0.029</td><td>51876.7</td><td>6229.697</td><td>13.677</td><td>0.032</td><td>49302.871</td><td>5920.615</td><td>13.535</td><td>0.034</td><td>48790.99</td><td>5859.145</td><td>13.55</td><td>0.027</td><td>48845.062</td><td>5865.638</td><td>13.581</td><td>0.035</td><td>48956.811</td><td>5879.058</td><td>12.884</td><td>0.0</td><td>46444.264</td><td>5577.334</td></tr>\n",
       "<tr><td>2MASS 2618328869</td><td>6000.0</td><td>4000.0</td><td>541.42</td><td>29.31</td><td>1.847006400579952</td><td>0.1</td><td>0.8786209573091851</td><td>0.06782337214316517</td><td>60.0</td><td>0.5</td><td>None</td><td>9.344700986227546e-12</td><td>8.891778300076678e-14</td><td>16.092</td><td>0.01</td><td>3.277516998549718e+32</td><td>3.562273014683605e+31</td><td>-1.067</td><td>0.047</td><td>7.424</td><td>0.06</td><td>4.5</td><td>0.07</td><td>0.8896913720017506</td><td>0.0</td><td>3330.0</td><td>157.0</td><td>&lt;SEDkit.sed.SED object at 0x11b2d7c18&gt;</td><td>20.486</td><td>0.073</td><td>60051.762</td><td>6501.856</td><td>17.779</td><td>0.006</td><td>52116.581</td><td>5642.706</td><td>16.431</td><td>0.004</td><td>48165.113</td><td>5214.877</td><td>15.843</td><td>0.004</td><td>46441.476</td><td>5028.258</td><td>15.514</td><td>0.005</td><td>45477.06</td><td>4923.84</td><td>14.391</td><td>0.029</td><td>42185.147</td><td>4567.422</td><td>13.677</td><td>0.032</td><td>40092.158</td><td>4340.812</td><td>13.535</td><td>0.034</td><td>39675.906</td><td>4295.744</td><td>13.55</td><td>0.027</td><td>39719.876</td><td>4300.505</td><td>13.581</td><td>0.035</td><td>39810.748</td><td>4310.344</td><td>12.884</td><td>0.0</td><td>37767.593</td><td>4089.129</td></tr>\n",
       "</table>"
      ],
      "text/plain": [
       "<QTable length=11>\n",
       "      name         age   age_unc ... WISE.W3_unc M_WISE.W3 M_WISE.W3_unc\n",
       "                   Myr     Myr   ...                                    \n",
       "     object      float64 float64 ...   float64    float64     float64   \n",
       "---------------- ------- ------- ... ----------- --------- -------------\n",
       " 2MASS 261832886  6000.0  4000.0 ...         0.0 42195.667      2419.902\n",
       "2MASS 2618328860  6000.0  4000.0 ...         0.0 41028.554      4629.899\n",
       "2MASS 2618328861  6000.0  4000.0 ...         0.0 50988.975      6416.073\n",
       "2MASS 2618328862  6000.0  4000.0 ...         0.0 48147.497      5886.611\n",
       "2MASS 2618328863  6000.0  4000.0 ...         0.0 41133.317       4648.91\n",
       "2MASS 2618328864  6000.0  4000.0 ...         0.0 35838.303      3780.822\n",
       "2MASS 2618328865  6000.0  4000.0 ...         0.0 35883.165      3787.267\n",
       "2MASS 2618328866  6000.0  4000.0 ...         0.0 34239.302      3530.797\n",
       "2MASS 2618328867  6000.0  4000.0 ...         0.0 43705.711      5090.733\n",
       "2MASS 2618328868  6000.0  4000.0 ...         0.0 46444.264      5577.334\n",
       "2MASS 2618328869  6000.0  4000.0 ...         0.0 37767.593      4089.129"
      ]
     },
     "execution_count": 51,
     "metadata": {},
     "output_type": "execute_result"
    }
   ],
   "source": [
    "cat.results"
   ]
  },
  {
   "cell_type": "markdown",
   "metadata": {},
   "source": [
    "We can also plot the results by passing the `plot` method two column names."
   ]
  },
  {
   "cell_type": "code",
   "execution_count": 52,
   "metadata": {
    "collapsed": false
   },
   "outputs": [
    {
     "data": {
      "text/html": [
       "\n",
       "\n",
       "    <div class=\"bk-root\">\n",
       "        <div class=\"bk-plotdiv\" id=\"2eb342c8-9848-4e27-812d-ddea22b7552e\"></div>\n",
       "    </div>\n",
       "<script type=\"text/javascript\">\n",
       "  \n",
       "  (function(global) {\n",
       "    function now() {\n",
       "      return new Date();\n",
       "    }\n",
       "  \n",
       "    var force = false;\n",
       "  \n",
       "    if (typeof (window._bokeh_onload_callbacks) === \"undefined\" || force === true) {\n",
       "      window._bokeh_onload_callbacks = [];\n",
       "      window._bokeh_is_loading = undefined;\n",
       "    }\n",
       "  \n",
       "  \n",
       "    \n",
       "    if (typeof (window._bokeh_timeout) === \"undefined\" || force === true) {\n",
       "      window._bokeh_timeout = Date.now() + 0;\n",
       "      window._bokeh_failed_load = false;\n",
       "    }\n",
       "  \n",
       "    var NB_LOAD_WARNING = {'data': {'text/html':\n",
       "       \"<div style='background-color: #fdd'>\\n\"+\n",
       "       \"<p>\\n\"+\n",
       "       \"BokehJS does not appear to have successfully loaded. If loading BokehJS from CDN, this \\n\"+\n",
       "       \"may be due to a slow or bad network connection. Possible fixes:\\n\"+\n",
       "       \"</p>\\n\"+\n",
       "       \"<ul>\\n\"+\n",
       "       \"<li>re-rerun `output_notebook()` to attempt to load from CDN again, or</li>\\n\"+\n",
       "       \"<li>use INLINE resources instead, as so:</li>\\n\"+\n",
       "       \"</ul>\\n\"+\n",
       "       \"<code>\\n\"+\n",
       "       \"from bokeh.resources import INLINE\\n\"+\n",
       "       \"output_notebook(resources=INLINE)\\n\"+\n",
       "       \"</code>\\n\"+\n",
       "       \"</div>\"}};\n",
       "  \n",
       "    function display_loaded() {\n",
       "      if (window.Bokeh !== undefined) {\n",
       "        var el = document.getElementById(\"2eb342c8-9848-4e27-812d-ddea22b7552e\");\n",
       "        el.textContent = \"BokehJS \" + Bokeh.version + \" successfully loaded.\";\n",
       "      } else if (Date.now() < window._bokeh_timeout) {\n",
       "        setTimeout(display_loaded, 100)\n",
       "      }\n",
       "    }\n",
       "  \n",
       "    function run_callbacks() {\n",
       "      try {\n",
       "        window._bokeh_onload_callbacks.forEach(function(callback) { callback() });\n",
       "      }\n",
       "      finally {\n",
       "        delete window._bokeh_onload_callbacks\n",
       "      }\n",
       "      console.info(\"Bokeh: all callbacks have finished\");\n",
       "    }\n",
       "  \n",
       "    function load_libs(js_urls, callback) {\n",
       "      window._bokeh_onload_callbacks.push(callback);\n",
       "      if (window._bokeh_is_loading > 0) {\n",
       "        console.log(\"Bokeh: BokehJS is being loaded, scheduling callback at\", now());\n",
       "        return null;\n",
       "      }\n",
       "      if (js_urls == null || js_urls.length === 0) {\n",
       "        run_callbacks();\n",
       "        return null;\n",
       "      }\n",
       "      console.log(\"Bokeh: BokehJS not loaded, scheduling load and callback at\", now());\n",
       "      window._bokeh_is_loading = js_urls.length;\n",
       "      for (var i = 0; i < js_urls.length; i++) {\n",
       "        var url = js_urls[i];\n",
       "        var s = document.createElement('script');\n",
       "        s.src = url;\n",
       "        s.async = false;\n",
       "        s.onreadystatechange = s.onload = function() {\n",
       "          window._bokeh_is_loading--;\n",
       "          if (window._bokeh_is_loading === 0) {\n",
       "            console.log(\"Bokeh: all BokehJS libraries loaded\");\n",
       "            run_callbacks()\n",
       "          }\n",
       "        };\n",
       "        s.onerror = function() {\n",
       "          console.warn(\"failed to load library \" + url);\n",
       "        };\n",
       "        console.log(\"Bokeh: injecting script tag for BokehJS library: \", url);\n",
       "        document.getElementsByTagName(\"head\")[0].appendChild(s);\n",
       "      }\n",
       "    };var element = document.getElementById(\"2eb342c8-9848-4e27-812d-ddea22b7552e\");\n",
       "    if (element == null) {\n",
       "      console.log(\"Bokeh: ERROR: autoload.js configured with elementid '2eb342c8-9848-4e27-812d-ddea22b7552e' but no matching script tag was found. \")\n",
       "      return false;\n",
       "    }\n",
       "  \n",
       "    var js_urls = [];\n",
       "  \n",
       "    var inline_js = [\n",
       "      function(Bokeh) {\n",
       "        (function() {\n",
       "          var fn = function() {\n",
       "            var docs_json = {\"0376b6b3-2cbf-4e78-b5f7-6b619c798f86\":{\"roots\":{\"references\":[{\"attributes\":{\"overlay\":{\"id\":\"45dd109d-32f4-4aa1-a6f9-a848443a6776\",\"type\":\"BoxAnnotation\"},\"plot\":{\"id\":\"a542542e-cb47-4d69-92f2-c30852714797\",\"subtype\":\"Figure\",\"type\":\"Plot\"}},\"id\":\"7bd2610d-5eae-495e-8247-8257c9ab223b\",\"type\":\"BoxZoomTool\"},{\"attributes\":{\"label\":{\"value\":\"Photometry\"},\"renderers\":[{\"id\":\"47b76249-a655-4e1d-b3de-7bc1e4161e6f\",\"type\":\"GlyphRenderer\"}]},\"id\":\"0cfbd141-ff8b-4362-bd98-06baadd2258c\",\"type\":\"LegendItem\"},{\"attributes\":{\"fill_alpha\":{\"value\":0.7},\"fill_color\":{\"value\":\"#1f77b4\"},\"line_color\":{\"value\":\"#1f77b4\"},\"size\":{\"units\":\"screen\",\"value\":8},\"x\":{\"field\":\"x\"},\"y\":{\"field\":\"y\"}},\"id\":\"c9fdcaf6-c45f-468c-acf8-51e6c56f13dd\",\"type\":\"Circle\"},{\"attributes\":{},\"id\":\"5aafd4d4-4899-421b-9afd-e13f333b3467\",\"type\":\"LinearScale\"},{\"attributes\":{\"plot\":null,\"text\":\"distance v Teff\"},\"id\":\"ca61bd4a-54d3-438c-b0fc-42a007f50a90\",\"type\":\"Title\"},{\"attributes\":{\"plot\":{\"id\":\"a542542e-cb47-4d69-92f2-c30852714797\",\"subtype\":\"Figure\",\"type\":\"Plot\"}},\"id\":\"748d7525-c9e4-40d8-8a0e-0941112a8fef\",\"type\":\"ResetTool\"},{\"attributes\":{\"axis_label\":\"Teff[K]\",\"formatter\":{\"id\":\"ad619de0-d1e8-45a0-9b43-2d05d21eca2e\",\"type\":\"BasicTickFormatter\"},\"plot\":{\"id\":\"a542542e-cb47-4d69-92f2-c30852714797\",\"subtype\":\"Figure\",\"type\":\"Plot\"},\"ticker\":{\"id\":\"99ccb868-6993-4f1d-b6c1-6ea3709b69f7\",\"type\":\"BasicTicker\"}},\"id\":\"dc8cce91-966f-4989-8d69-6b5eecff41df\",\"type\":\"LinearAxis\"},{\"attributes\":{\"bottom_units\":\"screen\",\"fill_alpha\":{\"value\":0.5},\"fill_color\":{\"value\":\"lightgrey\"},\"left_units\":\"screen\",\"level\":\"overlay\",\"line_alpha\":{\"value\":1.0},\"line_color\":{\"value\":\"black\"},\"line_dash\":[4,4],\"line_width\":{\"value\":2},\"plot\":null,\"render_mode\":\"css\",\"right_units\":\"screen\",\"top_units\":\"screen\"},\"id\":\"45dd109d-32f4-4aa1-a6f9-a848443a6776\",\"type\":\"BoxAnnotation\"},{\"attributes\":{},\"id\":\"c24cb86b-ac5c-46a5-be16-98f44b6b9d50\",\"type\":\"ToolEvents\"},{\"attributes\":{\"plot\":{\"id\":\"a542542e-cb47-4d69-92f2-c30852714797\",\"subtype\":\"Figure\",\"type\":\"Plot\"},\"ticker\":{\"id\":\"bf29ab2a-a408-4e06-ab5a-eafe907b4c37\",\"type\":\"BasicTicker\"}},\"id\":\"a8b387f5-70e9-44e7-811f-6957481148c1\",\"type\":\"Grid\"},{\"attributes\":{\"callback\":null},\"id\":\"614623ca-58f8-4110-944a-6f5243c21426\",\"type\":\"DataRange1d\"},{\"attributes\":{\"click_policy\":\"hide\",\"items\":[{\"id\":\"0cfbd141-ff8b-4362-bd98-06baadd2258c\",\"type\":\"LegendItem\"}],\"plot\":{\"id\":\"a542542e-cb47-4d69-92f2-c30852714797\",\"subtype\":\"Figure\",\"type\":\"Plot\"}},\"id\":\"d7b99b2f-374d-4d6e-9e37-4e4fe4b89870\",\"type\":\"Legend\"},{\"attributes\":{\"callback\":null,\"column_names\":[\"desc\",\"y\",\"x\"],\"data\":{\"desc\":[\"2MASS 261832886\",\"2MASS 2618328860\",\"2MASS 2618328861\",\"2MASS 2618328862\",\"2MASS 2618328863\",\"2MASS 2618328864\",\"2MASS 2618328865\",\"2MASS 2618328866\",\"2MASS 2618328867\",\"2MASS 2618328868\",\"2MASS 2618328869\"],\"x\":{\"__ndarray__\":\"CtejcD3igUAUrkfheqKBQB+F61G4qINAFK5H4Xoag0AK16NwPaiBQOF6FK5He4BAUrgehet9gECuR+F6FByAQD0K16NwM4JAMzMzMzPDgkCPwvUoXOuAQA==\",\"dtype\":\"float64\",\"shape\":[11]},\"y\":{\"__ndarray__\":\"AAAAAADAqkAAAAAAAJCqQAAAAAAADKxAAAAAAACmq0AAAAAAAJSqQAAAAAAArqlAAAAAAACwqUAAAAAAAGSpQAAAAAAA/KpAAAAAAABmq0AAAAAAAASqQA==\",\"dtype\":\"float64\",\"shape\":[11]}}},\"id\":\"7254f50e-d17b-46ed-986e-d7b8aa8346ae\",\"type\":\"ColumnDataSource\"},{\"attributes\":{},\"id\":\"bf29ab2a-a408-4e06-ab5a-eafe907b4c37\",\"type\":\"BasicTicker\"},{\"attributes\":{\"data_source\":{\"id\":\"7254f50e-d17b-46ed-986e-d7b8aa8346ae\",\"type\":\"ColumnDataSource\"},\"glyph\":{\"id\":\"c9fdcaf6-c45f-468c-acf8-51e6c56f13dd\",\"type\":\"Circle\"},\"hover_glyph\":null,\"muted_glyph\":null,\"name\":\"photometry\",\"nonselection_glyph\":{\"id\":\"e0f624a9-6fa9-43d8-aa48-2f398127e520\",\"type\":\"Circle\"},\"selection_glyph\":null},\"id\":\"47b76249-a655-4e1d-b3de-7bc1e4161e6f\",\"type\":\"GlyphRenderer\"},{\"attributes\":{\"fill_alpha\":{\"value\":0.1},\"fill_color\":{\"value\":\"#1f77b4\"},\"line_alpha\":{\"value\":0.1},\"line_color\":{\"value\":\"#1f77b4\"},\"size\":{\"units\":\"screen\",\"value\":8},\"x\":{\"field\":\"x\"},\"y\":{\"field\":\"y\"}},\"id\":\"e0f624a9-6fa9-43d8-aa48-2f398127e520\",\"type\":\"Circle\"},{\"attributes\":{\"dimension\":1,\"plot\":{\"id\":\"a542542e-cb47-4d69-92f2-c30852714797\",\"subtype\":\"Figure\",\"type\":\"Plot\"},\"ticker\":{\"id\":\"99ccb868-6993-4f1d-b6c1-6ea3709b69f7\",\"type\":\"BasicTicker\"}},\"id\":\"aaf24453-a1e2-4389-8d9e-ba17857873ef\",\"type\":\"Grid\"},{\"attributes\":{\"below\":[{\"id\":\"9d50e3ab-1a2c-43aa-afb5-d52d5b613f06\",\"type\":\"LinearAxis\"}],\"left\":[{\"id\":\"dc8cce91-966f-4989-8d69-6b5eecff41df\",\"type\":\"LinearAxis\"}],\"plot_height\":500,\"plot_width\":800,\"renderers\":[{\"id\":\"9d50e3ab-1a2c-43aa-afb5-d52d5b613f06\",\"type\":\"LinearAxis\"},{\"id\":\"a8b387f5-70e9-44e7-811f-6957481148c1\",\"type\":\"Grid\"},{\"id\":\"dc8cce91-966f-4989-8d69-6b5eecff41df\",\"type\":\"LinearAxis\"},{\"id\":\"aaf24453-a1e2-4389-8d9e-ba17857873ef\",\"type\":\"Grid\"},{\"id\":\"45dd109d-32f4-4aa1-a6f9-a848443a6776\",\"type\":\"BoxAnnotation\"},{\"id\":\"d7b99b2f-374d-4d6e-9e37-4e4fe4b89870\",\"type\":\"Legend\"},{\"id\":\"47b76249-a655-4e1d-b3de-7bc1e4161e6f\",\"type\":\"GlyphRenderer\"}],\"title\":{\"id\":\"ca61bd4a-54d3-438c-b0fc-42a007f50a90\",\"type\":\"Title\"},\"tool_events\":{\"id\":\"c24cb86b-ac5c-46a5-be16-98f44b6b9d50\",\"type\":\"ToolEvents\"},\"toolbar\":{\"id\":\"ed698c29-5c72-4d05-9aa7-a19c1a7132ab\",\"type\":\"Toolbar\"},\"x_range\":{\"id\":\"37af7c0d-acde-418b-adc3-535dbe9e3f30\",\"type\":\"DataRange1d\"},\"x_scale\":{\"id\":\"9846feec-e438-41d2-b1f3-1cdef906f33d\",\"type\":\"LinearScale\"},\"y_range\":{\"id\":\"614623ca-58f8-4110-944a-6f5243c21426\",\"type\":\"DataRange1d\"},\"y_scale\":{\"id\":\"5aafd4d4-4899-421b-9afd-e13f333b3467\",\"type\":\"LinearScale\"}},\"id\":\"a542542e-cb47-4d69-92f2-c30852714797\",\"subtype\":\"Figure\",\"type\":\"Plot\"},{\"attributes\":{},\"id\":\"bd2753c7-d12f-48dc-a06a-bbd49f9cc251\",\"type\":\"BasicTickFormatter\"},{\"attributes\":{\"callback\":null,\"plot\":{\"id\":\"a542542e-cb47-4d69-92f2-c30852714797\",\"subtype\":\"Figure\",\"type\":\"Plot\"},\"tooltips\":[[\"Name\",\"@desc\"],[\"distance\",\"@x\"],[\"Teff\",\"@y\"]]},\"id\":\"010b25db-5b3f-47ab-af5b-4ee68bb002dc\",\"type\":\"HoverTool\"},{\"attributes\":{\"callback\":null},\"id\":\"37af7c0d-acde-418b-adc3-535dbe9e3f30\",\"type\":\"DataRange1d\"},{\"attributes\":{},\"id\":\"99ccb868-6993-4f1d-b6c1-6ea3709b69f7\",\"type\":\"BasicTicker\"},{\"attributes\":{\"plot\":{\"id\":\"a542542e-cb47-4d69-92f2-c30852714797\",\"subtype\":\"Figure\",\"type\":\"Plot\"}},\"id\":\"87db1255-8943-46c2-b79e-6ccdc523b4c0\",\"type\":\"SaveTool\"},{\"attributes\":{\"axis_label\":\"distance[pc]\",\"formatter\":{\"id\":\"bd2753c7-d12f-48dc-a06a-bbd49f9cc251\",\"type\":\"BasicTickFormatter\"},\"plot\":{\"id\":\"a542542e-cb47-4d69-92f2-c30852714797\",\"subtype\":\"Figure\",\"type\":\"Plot\"},\"ticker\":{\"id\":\"bf29ab2a-a408-4e06-ab5a-eafe907b4c37\",\"type\":\"BasicTicker\"}},\"id\":\"9d50e3ab-1a2c-43aa-afb5-d52d5b613f06\",\"type\":\"LinearAxis\"},{\"attributes\":{},\"id\":\"9846feec-e438-41d2-b1f3-1cdef906f33d\",\"type\":\"LinearScale\"},{\"attributes\":{\"plot\":{\"id\":\"a542542e-cb47-4d69-92f2-c30852714797\",\"subtype\":\"Figure\",\"type\":\"Plot\"}},\"id\":\"841ff8ed-272c-4882-a350-c8ca1937a093\",\"type\":\"ResizeTool\"},{\"attributes\":{\"plot\":{\"id\":\"a542542e-cb47-4d69-92f2-c30852714797\",\"subtype\":\"Figure\",\"type\":\"Plot\"}},\"id\":\"ba815681-e28c-4d45-a56c-85bd3ba1cbfa\",\"type\":\"PanTool\"},{\"attributes\":{\"active_drag\":\"auto\",\"active_inspect\":\"auto\",\"active_scroll\":\"auto\",\"active_tap\":\"auto\",\"tools\":[{\"id\":\"ba815681-e28c-4d45-a56c-85bd3ba1cbfa\",\"type\":\"PanTool\"},{\"id\":\"841ff8ed-272c-4882-a350-c8ca1937a093\",\"type\":\"ResizeTool\"},{\"id\":\"748d7525-c9e4-40d8-8a0e-0941112a8fef\",\"type\":\"ResetTool\"},{\"id\":\"7bd2610d-5eae-495e-8247-8257c9ab223b\",\"type\":\"BoxZoomTool\"},{\"id\":\"87db1255-8943-46c2-b79e-6ccdc523b4c0\",\"type\":\"SaveTool\"},{\"id\":\"010b25db-5b3f-47ab-af5b-4ee68bb002dc\",\"type\":\"HoverTool\"}]},\"id\":\"ed698c29-5c72-4d05-9aa7-a19c1a7132ab\",\"type\":\"Toolbar\"},{\"attributes\":{},\"id\":\"ad619de0-d1e8-45a0-9b43-2d05d21eca2e\",\"type\":\"BasicTickFormatter\"}],\"root_ids\":[\"a542542e-cb47-4d69-92f2-c30852714797\"]},\"title\":\"Bokeh Application\",\"version\":\"0.12.6\"}};\n",
       "            var render_items = [{\"docid\":\"0376b6b3-2cbf-4e78-b5f7-6b619c798f86\",\"elementid\":\"2eb342c8-9848-4e27-812d-ddea22b7552e\",\"modelid\":\"a542542e-cb47-4d69-92f2-c30852714797\"}];\n",
       "            \n",
       "            Bokeh.embed.embed_items(docs_json, render_items);\n",
       "          };\n",
       "          if (document.readyState != \"loading\") fn();\n",
       "          else document.addEventListener(\"DOMContentLoaded\", fn);\n",
       "        })();\n",
       "      },\n",
       "      function(Bokeh) {\n",
       "      }\n",
       "    ];\n",
       "  \n",
       "    function run_inline_js() {\n",
       "      \n",
       "      if ((window.Bokeh !== undefined) || (force === true)) {\n",
       "        for (var i = 0; i < inline_js.length; i++) {\n",
       "          inline_js[i](window.Bokeh);\n",
       "        }if (force === true) {\n",
       "          display_loaded();\n",
       "        }} else if (Date.now() < window._bokeh_timeout) {\n",
       "        setTimeout(run_inline_js, 100);\n",
       "      } else if (!window._bokeh_failed_load) {\n",
       "        console.log(\"Bokeh: BokehJS failed to load within specified timeout.\");\n",
       "        window._bokeh_failed_load = true;\n",
       "      } else if (force !== true) {\n",
       "        var cell = $(document.getElementById(\"2eb342c8-9848-4e27-812d-ddea22b7552e\")).parents('.cell').data().cell;\n",
       "        cell.output_area.append_execute_result(NB_LOAD_WARNING)\n",
       "      }\n",
       "  \n",
       "    }\n",
       "  \n",
       "    if (window._bokeh_is_loading === 0) {\n",
       "      console.log(\"Bokeh: BokehJS loaded, going straight to plotting\");\n",
       "      run_inline_js();\n",
       "    } else {\n",
       "      load_libs(js_urls, function() {\n",
       "        console.log(\"Bokeh: BokehJS plotting callback run at\", now());\n",
       "        run_inline_js();\n",
       "      });\n",
       "    }\n",
       "  }(this));\n",
       "</script>"
      ]
     },
     "metadata": {},
     "output_type": "display_data"
    }
   ],
   "source": [
    "show(cat.plot('distance', 'Teff'))"
   ]
  },
  {
   "cell_type": "markdown",
   "metadata": {},
   "source": [
    "Or plot a CMD! You can also pass the difference of two magnitudes as a string like so."
   ]
  },
  {
   "cell_type": "code",
   "execution_count": 53,
   "metadata": {
    "collapsed": false
   },
   "outputs": [
    {
     "data": {
      "text/html": [
       "\n",
       "\n",
       "    <div class=\"bk-root\">\n",
       "        <div class=\"bk-plotdiv\" id=\"15c96b42-108a-49fc-ad71-239941ace60d\"></div>\n",
       "    </div>\n",
       "<script type=\"text/javascript\">\n",
       "  \n",
       "  (function(global) {\n",
       "    function now() {\n",
       "      return new Date();\n",
       "    }\n",
       "  \n",
       "    var force = false;\n",
       "  \n",
       "    if (typeof (window._bokeh_onload_callbacks) === \"undefined\" || force === true) {\n",
       "      window._bokeh_onload_callbacks = [];\n",
       "      window._bokeh_is_loading = undefined;\n",
       "    }\n",
       "  \n",
       "  \n",
       "    \n",
       "    if (typeof (window._bokeh_timeout) === \"undefined\" || force === true) {\n",
       "      window._bokeh_timeout = Date.now() + 0;\n",
       "      window._bokeh_failed_load = false;\n",
       "    }\n",
       "  \n",
       "    var NB_LOAD_WARNING = {'data': {'text/html':\n",
       "       \"<div style='background-color: #fdd'>\\n\"+\n",
       "       \"<p>\\n\"+\n",
       "       \"BokehJS does not appear to have successfully loaded. If loading BokehJS from CDN, this \\n\"+\n",
       "       \"may be due to a slow or bad network connection. Possible fixes:\\n\"+\n",
       "       \"</p>\\n\"+\n",
       "       \"<ul>\\n\"+\n",
       "       \"<li>re-rerun `output_notebook()` to attempt to load from CDN again, or</li>\\n\"+\n",
       "       \"<li>use INLINE resources instead, as so:</li>\\n\"+\n",
       "       \"</ul>\\n\"+\n",
       "       \"<code>\\n\"+\n",
       "       \"from bokeh.resources import INLINE\\n\"+\n",
       "       \"output_notebook(resources=INLINE)\\n\"+\n",
       "       \"</code>\\n\"+\n",
       "       \"</div>\"}};\n",
       "  \n",
       "    function display_loaded() {\n",
       "      if (window.Bokeh !== undefined) {\n",
       "        var el = document.getElementById(\"15c96b42-108a-49fc-ad71-239941ace60d\");\n",
       "        el.textContent = \"BokehJS \" + Bokeh.version + \" successfully loaded.\";\n",
       "      } else if (Date.now() < window._bokeh_timeout) {\n",
       "        setTimeout(display_loaded, 100)\n",
       "      }\n",
       "    }\n",
       "  \n",
       "    function run_callbacks() {\n",
       "      try {\n",
       "        window._bokeh_onload_callbacks.forEach(function(callback) { callback() });\n",
       "      }\n",
       "      finally {\n",
       "        delete window._bokeh_onload_callbacks\n",
       "      }\n",
       "      console.info(\"Bokeh: all callbacks have finished\");\n",
       "    }\n",
       "  \n",
       "    function load_libs(js_urls, callback) {\n",
       "      window._bokeh_onload_callbacks.push(callback);\n",
       "      if (window._bokeh_is_loading > 0) {\n",
       "        console.log(\"Bokeh: BokehJS is being loaded, scheduling callback at\", now());\n",
       "        return null;\n",
       "      }\n",
       "      if (js_urls == null || js_urls.length === 0) {\n",
       "        run_callbacks();\n",
       "        return null;\n",
       "      }\n",
       "      console.log(\"Bokeh: BokehJS not loaded, scheduling load and callback at\", now());\n",
       "      window._bokeh_is_loading = js_urls.length;\n",
       "      for (var i = 0; i < js_urls.length; i++) {\n",
       "        var url = js_urls[i];\n",
       "        var s = document.createElement('script');\n",
       "        s.src = url;\n",
       "        s.async = false;\n",
       "        s.onreadystatechange = s.onload = function() {\n",
       "          window._bokeh_is_loading--;\n",
       "          if (window._bokeh_is_loading === 0) {\n",
       "            console.log(\"Bokeh: all BokehJS libraries loaded\");\n",
       "            run_callbacks()\n",
       "          }\n",
       "        };\n",
       "        s.onerror = function() {\n",
       "          console.warn(\"failed to load library \" + url);\n",
       "        };\n",
       "        console.log(\"Bokeh: injecting script tag for BokehJS library: \", url);\n",
       "        document.getElementsByTagName(\"head\")[0].appendChild(s);\n",
       "      }\n",
       "    };var element = document.getElementById(\"15c96b42-108a-49fc-ad71-239941ace60d\");\n",
       "    if (element == null) {\n",
       "      console.log(\"Bokeh: ERROR: autoload.js configured with elementid '15c96b42-108a-49fc-ad71-239941ace60d' but no matching script tag was found. \")\n",
       "      return false;\n",
       "    }\n",
       "  \n",
       "    var js_urls = [];\n",
       "  \n",
       "    var inline_js = [\n",
       "      function(Bokeh) {\n",
       "        (function() {\n",
       "          var fn = function() {\n",
       "            var docs_json = {\"31dbbe32-23b1-44a9-995b-930f7c3168d0\":{\"roots\":{\"references\":[{\"attributes\":{\"dimension\":1,\"plot\":{\"id\":\"80d19d3c-4d24-49e0-b972-a3c84305355d\",\"subtype\":\"Figure\",\"type\":\"Plot\"},\"ticker\":{\"id\":\"ab405fbc-ede6-4723-bc79-66ef59a50c95\",\"type\":\"BasicTicker\"}},\"id\":\"607ff07c-c074-4ece-a1e9-4cd6d0c57eb4\",\"type\":\"Grid\"},{\"attributes\":{\"callback\":null,\"column_names\":[\"desc\",\"y\",\"x\"],\"data\":{\"desc\":[\"2MASS 261832886\",\"2MASS 2618328860\",\"2MASS 2618328861\",\"2MASS 2618328862\",\"2MASS 2618328863\",\"2MASS 2618328864\",\"2MASS 2618328865\",\"2MASS 2618328866\",\"2MASS 2618328867\",\"2MASS 2618328868\",\"2MASS 2618328869\"],\"x\":{\"__ndarray__\":\"MAisHFpk6z8wCKwcWmTrPzAIrBxaZOs/MAisHFpk6z8wCKwcWmTrPzAIrBxaZOs/MAisHFpk6z8wCKwcWmTrPzAIrBxaZOs/MAisHFpk6z8wCKwcWmTrPw==\",\"dtype\":\"float64\",\"shape\":[11]},\"y\":{\"__ndarray__\":\"GQRWDmUD50Av3SQGcWDmQMuhRbYfz+tAXI/C9WRC6kDHSzeJEW/mQO58PzXGi+NAVg4tsgmS40Coxks3haziQDm0yHY61udAZmZmZpZU6UAQWDm0JJnkQA==\",\"dtype\":\"float64\",\"shape\":[11]}}},\"id\":\"2de1df26-ae15-4337-8435-e898746fa6c7\",\"type\":\"ColumnDataSource\"},{\"attributes\":{},\"id\":\"ef6f253f-3ef4-4c17-9c98-39652f15f010\",\"type\":\"BasicTickFormatter\"},{\"attributes\":{\"fill_alpha\":{\"value\":0.7},\"fill_color\":{\"value\":\"#1f77b4\"},\"line_color\":{\"value\":\"#1f77b4\"},\"size\":{\"units\":\"screen\",\"value\":8},\"x\":{\"field\":\"x\"},\"y\":{\"field\":\"y\"}},\"id\":\"c6147e9a-c68f-44e2-a09a-98fb1e3ed505\",\"type\":\"Circle\"},{\"attributes\":{\"callback\":null},\"id\":\"77f361c4-1f5d-401b-adec-d6fe149d4ddd\",\"type\":\"DataRange1d\"},{\"attributes\":{\"label\":{\"value\":\"Photometry\"},\"renderers\":[{\"id\":\"8e1318d3-2159-4497-b649-d8ca5f366501\",\"type\":\"GlyphRenderer\"}]},\"id\":\"73c252d0-9a3a-4487-97c9-e63a06828b12\",\"type\":\"LegendItem\"},{\"attributes\":{},\"id\":\"a66eb215-619f-42ff-9f90-5f20ed28c2a8\",\"type\":\"ToolEvents\"},{\"attributes\":{\"fill_alpha\":{\"value\":0.1},\"fill_color\":{\"value\":\"#1f77b4\"},\"line_alpha\":{\"value\":0.1},\"line_color\":{\"value\":\"#1f77b4\"},\"size\":{\"units\":\"screen\",\"value\":8},\"x\":{\"field\":\"x\"},\"y\":{\"field\":\"y\"}},\"id\":\"febd2530-5e37-4d85-8d41-fa9ae2de5ebb\",\"type\":\"Circle\"},{\"attributes\":{},\"id\":\"4a390c0d-0179-4399-9eb9-5c260ff6c81f\",\"type\":\"BasicTickFormatter\"},{\"attributes\":{\"plot\":{\"id\":\"80d19d3c-4d24-49e0-b972-a3c84305355d\",\"subtype\":\"Figure\",\"type\":\"Plot\"}},\"id\":\"2edf0b6a-9916-4a3e-b340-fac1c0db1a55\",\"type\":\"ResetTool\"},{\"attributes\":{\"callback\":null,\"plot\":{\"id\":\"80d19d3c-4d24-49e0-b972-a3c84305355d\",\"subtype\":\"Figure\",\"type\":\"Plot\"},\"tooltips\":[[\"Name\",\"@desc\"],[\"2MASS.J-2MASS.Ks\",\"@x\"],[\"M_2MASS.J\",\"@y\"]]},\"id\":\"5f1889bd-d8a3-4379-933a-36ce2cd3eae2\",\"type\":\"HoverTool\"},{\"attributes\":{\"callback\":null},\"id\":\"3312360e-c300-4f33-8e00-24d9b4b508be\",\"type\":\"DataRange1d\"},{\"attributes\":{},\"id\":\"ab405fbc-ede6-4723-bc79-66ef59a50c95\",\"type\":\"BasicTicker\"},{\"attributes\":{\"data_source\":{\"id\":\"2de1df26-ae15-4337-8435-e898746fa6c7\",\"type\":\"ColumnDataSource\"},\"glyph\":{\"id\":\"c6147e9a-c68f-44e2-a09a-98fb1e3ed505\",\"type\":\"Circle\"},\"hover_glyph\":null,\"muted_glyph\":null,\"name\":\"photometry\",\"nonselection_glyph\":{\"id\":\"febd2530-5e37-4d85-8d41-fa9ae2de5ebb\",\"type\":\"Circle\"},\"selection_glyph\":null},\"id\":\"8e1318d3-2159-4497-b649-d8ca5f366501\",\"type\":\"GlyphRenderer\"},{\"attributes\":{\"bottom_units\":\"screen\",\"fill_alpha\":{\"value\":0.5},\"fill_color\":{\"value\":\"lightgrey\"},\"left_units\":\"screen\",\"level\":\"overlay\",\"line_alpha\":{\"value\":1.0},\"line_color\":{\"value\":\"black\"},\"line_dash\":[4,4],\"line_width\":{\"value\":2},\"plot\":null,\"render_mode\":\"css\",\"right_units\":\"screen\",\"top_units\":\"screen\"},\"id\":\"be0807ba-1aef-42df-988b-67c0fb65f7e2\",\"type\":\"BoxAnnotation\"},{\"attributes\":{\"plot\":{\"id\":\"80d19d3c-4d24-49e0-b972-a3c84305355d\",\"subtype\":\"Figure\",\"type\":\"Plot\"}},\"id\":\"945b6c6b-c614-4110-b7e2-594e8122238e\",\"type\":\"PanTool\"},{\"attributes\":{},\"id\":\"5d8dd31a-9090-4a86-8c72-75b80016f6ba\",\"type\":\"LinearScale\"},{\"attributes\":{\"active_drag\":\"auto\",\"active_inspect\":\"auto\",\"active_scroll\":\"auto\",\"active_tap\":\"auto\",\"tools\":[{\"id\":\"945b6c6b-c614-4110-b7e2-594e8122238e\",\"type\":\"PanTool\"},{\"id\":\"767f9017-2b89-4b8d-8f32-55b481c88e78\",\"type\":\"ResizeTool\"},{\"id\":\"2edf0b6a-9916-4a3e-b340-fac1c0db1a55\",\"type\":\"ResetTool\"},{\"id\":\"6e688b55-8c3c-42b5-9c91-bdad8839e7ae\",\"type\":\"BoxZoomTool\"},{\"id\":\"ce1280b5-69db-4f50-9e0c-354a0f082338\",\"type\":\"SaveTool\"},{\"id\":\"5f1889bd-d8a3-4379-933a-36ce2cd3eae2\",\"type\":\"HoverTool\"}]},\"id\":\"4d3538b7-2009-41d0-a9c0-4f4cdbb4dfc6\",\"type\":\"Toolbar\"},{\"attributes\":{\"axis_label\":\"2MASS.J-2MASS.Ks\",\"formatter\":{\"id\":\"ef6f253f-3ef4-4c17-9c98-39652f15f010\",\"type\":\"BasicTickFormatter\"},\"plot\":{\"id\":\"80d19d3c-4d24-49e0-b972-a3c84305355d\",\"subtype\":\"Figure\",\"type\":\"Plot\"},\"ticker\":{\"id\":\"91eae26c-f83b-4a4a-8031-ee3042a51e92\",\"type\":\"BasicTicker\"}},\"id\":\"3d799126-9b98-4423-976d-bf0499832a83\",\"type\":\"LinearAxis\"},{\"attributes\":{},\"id\":\"96e3c288-1286-4158-ab80-9ea01a0040c7\",\"type\":\"LinearScale\"},{\"attributes\":{\"plot\":{\"id\":\"80d19d3c-4d24-49e0-b972-a3c84305355d\",\"subtype\":\"Figure\",\"type\":\"Plot\"},\"ticker\":{\"id\":\"91eae26c-f83b-4a4a-8031-ee3042a51e92\",\"type\":\"BasicTicker\"}},\"id\":\"2a8b4c51-baf9-4497-a710-f81056f419c0\",\"type\":\"Grid\"},{\"attributes\":{\"overlay\":{\"id\":\"be0807ba-1aef-42df-988b-67c0fb65f7e2\",\"type\":\"BoxAnnotation\"},\"plot\":{\"id\":\"80d19d3c-4d24-49e0-b972-a3c84305355d\",\"subtype\":\"Figure\",\"type\":\"Plot\"}},\"id\":\"6e688b55-8c3c-42b5-9c91-bdad8839e7ae\",\"type\":\"BoxZoomTool\"},{\"attributes\":{\"plot\":null,\"text\":\"2MASS.J-2MASS.Ks v M_2MASS.J\"},\"id\":\"41a2ebc1-ae74-4366-8437-4296518f4453\",\"type\":\"Title\"},{\"attributes\":{},\"id\":\"91eae26c-f83b-4a4a-8031-ee3042a51e92\",\"type\":\"BasicTicker\"},{\"attributes\":{\"below\":[{\"id\":\"3d799126-9b98-4423-976d-bf0499832a83\",\"type\":\"LinearAxis\"}],\"left\":[{\"id\":\"bd4dbaa8-01e0-4cb6-b4c2-5d1b93976c34\",\"type\":\"LinearAxis\"}],\"plot_height\":500,\"plot_width\":800,\"renderers\":[{\"id\":\"3d799126-9b98-4423-976d-bf0499832a83\",\"type\":\"LinearAxis\"},{\"id\":\"2a8b4c51-baf9-4497-a710-f81056f419c0\",\"type\":\"Grid\"},{\"id\":\"bd4dbaa8-01e0-4cb6-b4c2-5d1b93976c34\",\"type\":\"LinearAxis\"},{\"id\":\"607ff07c-c074-4ece-a1e9-4cd6d0c57eb4\",\"type\":\"Grid\"},{\"id\":\"be0807ba-1aef-42df-988b-67c0fb65f7e2\",\"type\":\"BoxAnnotation\"},{\"id\":\"cded1b61-36f6-441a-9465-e3b4b2b5613b\",\"type\":\"Legend\"},{\"id\":\"8e1318d3-2159-4497-b649-d8ca5f366501\",\"type\":\"GlyphRenderer\"}],\"title\":{\"id\":\"41a2ebc1-ae74-4366-8437-4296518f4453\",\"type\":\"Title\"},\"tool_events\":{\"id\":\"a66eb215-619f-42ff-9f90-5f20ed28c2a8\",\"type\":\"ToolEvents\"},\"toolbar\":{\"id\":\"4d3538b7-2009-41d0-a9c0-4f4cdbb4dfc6\",\"type\":\"Toolbar\"},\"x_range\":{\"id\":\"3312360e-c300-4f33-8e00-24d9b4b508be\",\"type\":\"DataRange1d\"},\"x_scale\":{\"id\":\"5d8dd31a-9090-4a86-8c72-75b80016f6ba\",\"type\":\"LinearScale\"},\"y_range\":{\"id\":\"77f361c4-1f5d-401b-adec-d6fe149d4ddd\",\"type\":\"DataRange1d\"},\"y_scale\":{\"id\":\"96e3c288-1286-4158-ab80-9ea01a0040c7\",\"type\":\"LinearScale\"}},\"id\":\"80d19d3c-4d24-49e0-b972-a3c84305355d\",\"subtype\":\"Figure\",\"type\":\"Plot\"},{\"attributes\":{\"plot\":{\"id\":\"80d19d3c-4d24-49e0-b972-a3c84305355d\",\"subtype\":\"Figure\",\"type\":\"Plot\"}},\"id\":\"767f9017-2b89-4b8d-8f32-55b481c88e78\",\"type\":\"ResizeTool\"},{\"attributes\":{\"click_policy\":\"hide\",\"items\":[{\"id\":\"73c252d0-9a3a-4487-97c9-e63a06828b12\",\"type\":\"LegendItem\"}],\"plot\":{\"id\":\"80d19d3c-4d24-49e0-b972-a3c84305355d\",\"subtype\":\"Figure\",\"type\":\"Plot\"}},\"id\":\"cded1b61-36f6-441a-9465-e3b4b2b5613b\",\"type\":\"Legend\"},{\"attributes\":{\"plot\":{\"id\":\"80d19d3c-4d24-49e0-b972-a3c84305355d\",\"subtype\":\"Figure\",\"type\":\"Plot\"}},\"id\":\"ce1280b5-69db-4f50-9e0c-354a0f082338\",\"type\":\"SaveTool\"},{\"attributes\":{\"axis_label\":\"M_2MASS.J\",\"formatter\":{\"id\":\"4a390c0d-0179-4399-9eb9-5c260ff6c81f\",\"type\":\"BasicTickFormatter\"},\"plot\":{\"id\":\"80d19d3c-4d24-49e0-b972-a3c84305355d\",\"subtype\":\"Figure\",\"type\":\"Plot\"},\"ticker\":{\"id\":\"ab405fbc-ede6-4723-bc79-66ef59a50c95\",\"type\":\"BasicTicker\"}},\"id\":\"bd4dbaa8-01e0-4cb6-b4c2-5d1b93976c34\",\"type\":\"LinearAxis\"}],\"root_ids\":[\"80d19d3c-4d24-49e0-b972-a3c84305355d\"]},\"title\":\"Bokeh Application\",\"version\":\"0.12.6\"}};\n",
       "            var render_items = [{\"docid\":\"31dbbe32-23b1-44a9-995b-930f7c3168d0\",\"elementid\":\"15c96b42-108a-49fc-ad71-239941ace60d\",\"modelid\":\"80d19d3c-4d24-49e0-b972-a3c84305355d\"}];\n",
       "            \n",
       "            Bokeh.embed.embed_items(docs_json, render_items);\n",
       "          };\n",
       "          if (document.readyState != \"loading\") fn();\n",
       "          else document.addEventListener(\"DOMContentLoaded\", fn);\n",
       "        })();\n",
       "      },\n",
       "      function(Bokeh) {\n",
       "      }\n",
       "    ];\n",
       "  \n",
       "    function run_inline_js() {\n",
       "      \n",
       "      if ((window.Bokeh !== undefined) || (force === true)) {\n",
       "        for (var i = 0; i < inline_js.length; i++) {\n",
       "          inline_js[i](window.Bokeh);\n",
       "        }if (force === true) {\n",
       "          display_loaded();\n",
       "        }} else if (Date.now() < window._bokeh_timeout) {\n",
       "        setTimeout(run_inline_js, 100);\n",
       "      } else if (!window._bokeh_failed_load) {\n",
       "        console.log(\"Bokeh: BokehJS failed to load within specified timeout.\");\n",
       "        window._bokeh_failed_load = true;\n",
       "      } else if (force !== true) {\n",
       "        var cell = $(document.getElementById(\"15c96b42-108a-49fc-ad71-239941ace60d\")).parents('.cell').data().cell;\n",
       "        cell.output_area.append_execute_result(NB_LOAD_WARNING)\n",
       "      }\n",
       "  \n",
       "    }\n",
       "  \n",
       "    if (window._bokeh_is_loading === 0) {\n",
       "      console.log(\"Bokeh: BokehJS loaded, going straight to plotting\");\n",
       "      run_inline_js();\n",
       "    } else {\n",
       "      load_libs(js_urls, function() {\n",
       "        console.log(\"Bokeh: BokehJS plotting callback run at\", now());\n",
       "        run_inline_js();\n",
       "      });\n",
       "    }\n",
       "  }(this));\n",
       "</script>"
      ]
     },
     "metadata": {},
     "output_type": "display_data"
    }
   ],
   "source": [
    "show(cat.plot('2MASS.J-2MASS.Ks', 'M_2MASS.J'))"
   ]
  },
  {
   "cell_type": "markdown",
   "metadata": {},
   "source": [
    "We can then retrieve the SED for a particular source like so:"
   ]
  },
  {
   "cell_type": "code",
   "execution_count": 54,
   "metadata": {
    "collapsed": false
   },
   "outputs": [
    {
     "name": "stdout",
     "output_type": "stream",
     "text": [
      "No SEDs named 2MASS 261832886\n"
     ]
    },
    {
     "ename": "AttributeError",
     "evalue": "'NoneType' object has no attribute 'plot'",
     "output_type": "error",
     "traceback": [
      "\u001b[0;31m---------------------------------------------------------------------------\u001b[0m",
      "\u001b[0;31mAttributeError\u001b[0m                            Traceback (most recent call last)",
      "\u001b[0;32m<ipython-input-54-8e739a8de000>\u001b[0m in \u001b[0;36m<module>\u001b[0;34m()\u001b[0m\n\u001b[1;32m      1\u001b[0m \u001b[0mmy_sed\u001b[0m \u001b[0;34m=\u001b[0m \u001b[0mcat\u001b[0m\u001b[0;34m.\u001b[0m\u001b[0mget_SED\u001b[0m\u001b[0;34m(\u001b[0m\u001b[0;34m'2MASS 261832886'\u001b[0m\u001b[0;34m)\u001b[0m\u001b[0;34m\u001b[0m\u001b[0m\n\u001b[0;32m----> 2\u001b[0;31m \u001b[0mfig\u001b[0m \u001b[0;34m=\u001b[0m \u001b[0mmy_sed\u001b[0m\u001b[0;34m.\u001b[0m\u001b[0mplot\u001b[0m\u001b[0;34m(\u001b[0m\u001b[0;34m)\u001b[0m\u001b[0;34m\u001b[0m\u001b[0m\n\u001b[0m",
      "\u001b[0;31mAttributeError\u001b[0m: 'NoneType' object has no attribute 'plot'"
     ]
    }
   ],
   "source": [
    "my_sed = cat.get_SED('2MASS 261832886')\n",
    "fig = my_sed.plot()"
   ]
  },
  {
   "cell_type": "markdown",
   "metadata": {},
   "source": [
    "And save and load from file."
   ]
  },
  {
   "cell_type": "code",
   "execution_count": null,
   "metadata": {
    "collapsed": false
   },
   "outputs": [],
   "source": [
    "cat.save('/Users/jfilippazzo/Desktop/test.p')"
   ]
  },
  {
   "cell_type": "code",
   "execution_count": null,
   "metadata": {
    "collapsed": false
   },
   "outputs": [],
   "source": [
    "new = sed.SEDCatalog().load('/Users/jfilippazzo/Desktop/test.p')"
   ]
  },
  {
   "cell_type": "markdown",
   "metadata": {},
   "source": [
    "The catalog can also be filtered by providing a column name and value..."
   ]
  },
  {
   "cell_type": "code",
   "execution_count": 39,
   "metadata": {
    "collapsed": false
   },
   "outputs": [
    {
     "data": {
      "text/html": [
       "<i>QTable length=1</i>\n",
       "<table id=\"table4754561624\" class=\"table-striped table-bordered table-condensed\">\n",
       "<thead><tr><th>name</th><th>age</th><th>age_unc</th><th>distance</th><th>distance_unc</th><th>parallax</th><th>parallax_unc</th><th>radius</th><th>radius_unc</th><th>spectral_type</th><th>spectral_type_unc</th><th>membership</th><th>fbol</th><th>fbol_unc</th><th>mbol</th><th>mbol_unc</th><th>Lbol</th><th>Lbol_unc</th><th>Lbol_sun</th><th>Lbol_sun_unc</th><th>Mbol</th><th>Mbol_unc</th><th>logg</th><th>logg_unc</th><th>mass</th><th>mass_unc</th><th>Teff</th><th>Teff_unc</th><th>SED</th><th>SDSS.u</th><th>SDSS.u_unc</th><th>M_SDSS.u</th><th>M_SDSS.u_unc</th><th>SDSS.g</th><th>SDSS.g_unc</th><th>M_SDSS.g</th><th>M_SDSS.g_unc</th><th>SDSS.r</th><th>SDSS.r_unc</th><th>M_SDSS.r</th><th>M_SDSS.r_unc</th><th>SDSS.i</th><th>SDSS.i_unc</th><th>M_SDSS.i</th><th>M_SDSS.i_unc</th><th>SDSS.z</th><th>SDSS.z_unc</th><th>M_SDSS.z</th><th>M_SDSS.z_unc</th><th>2MASS.J</th><th>2MASS.J_unc</th><th>M_2MASS.J</th><th>M_2MASS.J_unc</th><th>2MASS.H</th><th>2MASS.H_unc</th><th>M_2MASS.H</th><th>M_2MASS.H_unc</th><th>2MASS.Ks</th><th>2MASS.Ks_unc</th><th>M_2MASS.Ks</th><th>M_2MASS.Ks_unc</th><th>WISE.W1</th><th>WISE.W1_unc</th><th>M_WISE.W1</th><th>M_WISE.W1_unc</th><th>WISE.W2</th><th>WISE.W2_unc</th><th>M_WISE.W2</th><th>M_WISE.W2_unc</th><th>WISE.W3</th><th>WISE.W3_unc</th><th>M_WISE.W3</th><th>M_WISE.W3_unc</th></tr></thead>\n",
       "<thead><tr><th></th><th>Myr</th><th>Myr</th><th>pc</th><th>pc</th><th>mas</th><th>mas</th><th>6.957e+08 m</th><th></th><th></th><th></th><th></th><th>erg / (cm2 s)</th><th>erg / (cm2 s)</th><th></th><th></th><th>erg / s</th><th>erg / s</th><th></th><th></th><th></th><th></th><th></th><th></th><th>solMass</th><th>solMass</th><th>K</th><th>K</th><th></th><th></th><th></th><th></th><th></th><th></th><th></th><th></th><th></th><th></th><th></th><th></th><th></th><th></th><th></th><th></th><th></th><th></th><th></th><th></th><th></th><th></th><th></th><th></th><th></th><th></th><th></th><th></th><th></th><th></th><th></th><th></th><th></th><th></th><th></th><th></th><th></th><th></th><th></th><th></th><th></th><th></th><th></th><th></th><th></th></tr></thead>\n",
       "<thead><tr><th>object</th><th>float64</th><th>float64</th><th>float64</th><th>float64</th><th>float64</th><th>float64</th><th>float64</th><th>object</th><th>object</th><th>object</th><th>object</th><th>float64</th><th>float64</th><th>object</th><th>object</th><th>float64</th><th>float64</th><th>object</th><th>object</th><th>object</th><th>object</th><th>object</th><th>object</th><th>float64</th><th>float64</th><th>float64</th><th>float64</th><th>object</th><th>float64</th><th>float64</th><th>float64</th><th>float64</th><th>float64</th><th>float64</th><th>float64</th><th>float64</th><th>float64</th><th>float64</th><th>float64</th><th>float64</th><th>float64</th><th>float64</th><th>float64</th><th>float64</th><th>float64</th><th>float64</th><th>float64</th><th>float64</th><th>float64</th><th>float64</th><th>float64</th><th>float64</th><th>float64</th><th>float64</th><th>float64</th><th>float64</th><th>float64</th><th>float64</th><th>float64</th><th>float64</th><th>float64</th><th>float64</th><th>float64</th><th>float64</th><th>float64</th><th>float64</th><th>float64</th><th>float64</th><th>float64</th><th>float64</th><th>float64</th><th>float64</th></tr></thead>\n",
       "<tr><td>2MASS 2618328861</td><td>6000.0</td><td>4000.0</td><td>598.98</td><td>35.88</td><td>1.6695005640755598</td><td>0.1</td><td>0.8786209573091851</td><td>0.06782337214316517</td><td>60.0</td><td>0.5</td><td>None</td><td>9.344700986227546e-12</td><td>8.891778300076678e-14</td><td>16.092</td><td>0.01</td><td>4.01144652103885e+32</td><td>4.820994360627056e+31</td><td>-0.98</td><td>0.052</td><td>7.205</td><td>0.066</td><td>4.5</td><td>0.07</td><td>0.8896913720017506</td><td>0.0</td><td>3503.0</td><td>171.0</td><td>&lt;SEDkit.sed.SED object at 0x11af7de48&gt;</td><td>20.486</td><td>0.073</td><td>73499.064</td><td>8805.458</td><td>17.779</td><td>0.006</td><td>63786.97</td><td>7641.913</td><td>16.431</td><td>0.004</td><td>58950.656</td><td>7062.505</td><td>15.843</td><td>0.004</td><td>56841.047</td><td>6809.766</td><td>15.514</td><td>0.005</td><td>55660.67</td><td>6668.352</td><td>14.391</td><td>0.029</td><td>51631.604</td><td>6185.656</td><td>13.677</td><td>0.032</td><td>49069.936</td><td>5878.759</td><td>13.535</td><td>0.034</td><td>48560.472</td><td>5817.723</td><td>13.55</td><td>0.027</td><td>48614.289</td><td>5824.17</td><td>13.581</td><td>0.035</td><td>48725.51</td><td>5837.495</td><td>12.884</td><td>0.0</td><td>46224.834</td><td>5537.905</td></tr>\n",
       "</table>"
      ],
      "text/plain": [
       "<QTable length=1>\n",
       "      name         age   age_unc ... WISE.W3_unc M_WISE.W3 M_WISE.W3_unc\n",
       "                   Myr     Myr   ...                                    \n",
       "     object      float64 float64 ...   float64    float64     float64   \n",
       "---------------- ------- ------- ... ----------- --------- -------------\n",
       "2MASS 2618328861  6000.0  4000.0 ...         0.0 46224.834      5537.905"
      ]
     },
     "execution_count": 39,
     "metadata": {},
     "output_type": "execute_result"
    }
   ],
   "source": [
    "cat.filter('name', \"'2MASS 2618328861'\").results"
   ]
  },
  {
   "cell_type": "markdown",
   "metadata": {},
   "source": [
    "...or a wildcard search..."
   ]
  },
  {
   "cell_type": "code",
   "execution_count": 43,
   "metadata": {
    "collapsed": false
   },
   "outputs": [
    {
     "data": {
      "text/html": [
       "<i>QTable length=1</i>\n",
       "<table id=\"table4752776608\" class=\"table-striped table-bordered table-condensed\">\n",
       "<thead><tr><th>name</th><th>age</th><th>age_unc</th><th>distance</th><th>distance_unc</th><th>parallax</th><th>parallax_unc</th><th>radius</th><th>radius_unc</th><th>spectral_type</th><th>spectral_type_unc</th><th>membership</th><th>fbol</th><th>fbol_unc</th><th>mbol</th><th>mbol_unc</th><th>Lbol</th><th>Lbol_unc</th><th>Lbol_sun</th><th>Lbol_sun_unc</th><th>Mbol</th><th>Mbol_unc</th><th>logg</th><th>logg_unc</th><th>mass</th><th>mass_unc</th><th>Teff</th><th>Teff_unc</th><th>SED</th><th>SDSS.u</th><th>SDSS.u_unc</th><th>M_SDSS.u</th><th>M_SDSS.u_unc</th><th>SDSS.g</th><th>SDSS.g_unc</th><th>M_SDSS.g</th><th>M_SDSS.g_unc</th><th>SDSS.r</th><th>SDSS.r_unc</th><th>M_SDSS.r</th><th>M_SDSS.r_unc</th><th>SDSS.i</th><th>SDSS.i_unc</th><th>M_SDSS.i</th><th>M_SDSS.i_unc</th><th>SDSS.z</th><th>SDSS.z_unc</th><th>M_SDSS.z</th><th>M_SDSS.z_unc</th><th>2MASS.J</th><th>2MASS.J_unc</th><th>M_2MASS.J</th><th>M_2MASS.J_unc</th><th>2MASS.H</th><th>2MASS.H_unc</th><th>M_2MASS.H</th><th>M_2MASS.H_unc</th><th>2MASS.Ks</th><th>2MASS.Ks_unc</th><th>M_2MASS.Ks</th><th>M_2MASS.Ks_unc</th><th>WISE.W1</th><th>WISE.W1_unc</th><th>M_WISE.W1</th><th>M_WISE.W1_unc</th><th>WISE.W2</th><th>WISE.W2_unc</th><th>M_WISE.W2</th><th>M_WISE.W2_unc</th><th>WISE.W3</th><th>WISE.W3_unc</th><th>M_WISE.W3</th><th>M_WISE.W3_unc</th></tr></thead>\n",
       "<thead><tr><th></th><th>Myr</th><th>Myr</th><th>pc</th><th>pc</th><th>mas</th><th>mas</th><th>6.957e+08 m</th><th></th><th></th><th></th><th></th><th>erg / (cm2 s)</th><th>erg / (cm2 s)</th><th></th><th></th><th>erg / s</th><th>erg / s</th><th></th><th></th><th></th><th></th><th></th><th></th><th>solMass</th><th>solMass</th><th>K</th><th>K</th><th></th><th></th><th></th><th></th><th></th><th></th><th></th><th></th><th></th><th></th><th></th><th></th><th></th><th></th><th></th><th></th><th></th><th></th><th></th><th></th><th></th><th></th><th></th><th></th><th></th><th></th><th></th><th></th><th></th><th></th><th></th><th></th><th></th><th></th><th></th><th></th><th></th><th></th><th></th><th></th><th></th><th></th><th></th><th></th><th></th></tr></thead>\n",
       "<thead><tr><th>object</th><th>float64</th><th>float64</th><th>float64</th><th>float64</th><th>float64</th><th>float64</th><th>float64</th><th>object</th><th>object</th><th>object</th><th>object</th><th>float64</th><th>float64</th><th>object</th><th>object</th><th>float64</th><th>float64</th><th>object</th><th>object</th><th>object</th><th>object</th><th>object</th><th>object</th><th>float64</th><th>float64</th><th>float64</th><th>float64</th><th>object</th><th>float64</th><th>float64</th><th>float64</th><th>float64</th><th>float64</th><th>float64</th><th>float64</th><th>float64</th><th>float64</th><th>float64</th><th>float64</th><th>float64</th><th>float64</th><th>float64</th><th>float64</th><th>float64</th><th>float64</th><th>float64</th><th>float64</th><th>float64</th><th>float64</th><th>float64</th><th>float64</th><th>float64</th><th>float64</th><th>float64</th><th>float64</th><th>float64</th><th>float64</th><th>float64</th><th>float64</th><th>float64</th><th>float64</th><th>float64</th><th>float64</th><th>float64</th><th>float64</th><th>float64</th><th>float64</th><th>float64</th><th>float64</th><th>float64</th><th>float64</th><th>float64</th></tr></thead>\n",
       "<tr><td>2MASS 2618328861</td><td>6000.0</td><td>4000.0</td><td>598.98</td><td>35.88</td><td>1.6695005640755598</td><td>0.1</td><td>0.8786209573091851</td><td>0.06782337214316517</td><td>60.0</td><td>0.5</td><td>None</td><td>9.344700986227546e-12</td><td>8.891778300076678e-14</td><td>16.092</td><td>0.01</td><td>4.01144652103885e+32</td><td>4.820994360627056e+31</td><td>-0.98</td><td>0.052</td><td>7.205</td><td>0.066</td><td>4.5</td><td>0.07</td><td>0.8896913720017506</td><td>0.0</td><td>3503.0</td><td>171.0</td><td>&lt;SEDkit.sed.SED object at 0x11af7de48&gt;</td><td>20.486</td><td>0.073</td><td>73499.064</td><td>8805.458</td><td>17.779</td><td>0.006</td><td>63786.97</td><td>7641.913</td><td>16.431</td><td>0.004</td><td>58950.656</td><td>7062.505</td><td>15.843</td><td>0.004</td><td>56841.047</td><td>6809.766</td><td>15.514</td><td>0.005</td><td>55660.67</td><td>6668.352</td><td>14.391</td><td>0.029</td><td>51631.604</td><td>6185.656</td><td>13.677</td><td>0.032</td><td>49069.936</td><td>5878.759</td><td>13.535</td><td>0.034</td><td>48560.472</td><td>5817.723</td><td>13.55</td><td>0.027</td><td>48614.289</td><td>5824.17</td><td>13.581</td><td>0.035</td><td>48725.51</td><td>5837.495</td><td>12.884</td><td>0.0</td><td>46224.834</td><td>5537.905</td></tr>\n",
       "</table>"
      ],
      "text/plain": [
       "<QTable length=1>\n",
       "      name         age   age_unc ... WISE.W3_unc M_WISE.W3 M_WISE.W3_unc\n",
       "                   Myr     Myr   ...                                    \n",
       "     object      float64 float64 ...   float64    float64     float64   \n",
       "---------------- ------- ------- ... ----------- --------- -------------\n",
       "2MASS 2618328861  6000.0  4000.0 ...         0.0 46224.834      5537.905"
      ]
     },
     "execution_count": 43,
     "metadata": {},
     "output_type": "execute_result"
    }
   ],
   "source": [
    "cat.filter('name', \"*328861\").results"
   ]
  },
  {
   "cell_type": "markdown",
   "metadata": {},
   "source": [
    "... or an argument with an operator..."
   ]
  },
  {
   "cell_type": "code",
   "execution_count": 41,
   "metadata": {
    "collapsed": false
   },
   "outputs": [
    {
     "data": {
      "text/html": [
       "<i>QTable length=11</i>\n",
       "<table id=\"table4756319256\" class=\"table-striped table-bordered table-condensed\">\n",
       "<thead><tr><th>name</th><th>age</th><th>age_unc</th><th>distance</th><th>distance_unc</th><th>parallax</th><th>parallax_unc</th><th>radius</th><th>radius_unc</th><th>spectral_type</th><th>spectral_type_unc</th><th>membership</th><th>fbol</th><th>fbol_unc</th><th>mbol</th><th>mbol_unc</th><th>Lbol</th><th>Lbol_unc</th><th>Lbol_sun</th><th>Lbol_sun_unc</th><th>Mbol</th><th>Mbol_unc</th><th>logg</th><th>logg_unc</th><th>mass</th><th>mass_unc</th><th>Teff</th><th>Teff_unc</th><th>SED</th><th>SDSS.u</th><th>SDSS.u_unc</th><th>M_SDSS.u</th><th>M_SDSS.u_unc</th><th>SDSS.g</th><th>SDSS.g_unc</th><th>M_SDSS.g</th><th>M_SDSS.g_unc</th><th>SDSS.r</th><th>SDSS.r_unc</th><th>M_SDSS.r</th><th>M_SDSS.r_unc</th><th>SDSS.i</th><th>SDSS.i_unc</th><th>M_SDSS.i</th><th>M_SDSS.i_unc</th><th>SDSS.z</th><th>SDSS.z_unc</th><th>M_SDSS.z</th><th>M_SDSS.z_unc</th><th>2MASS.J</th><th>2MASS.J_unc</th><th>M_2MASS.J</th><th>M_2MASS.J_unc</th><th>2MASS.H</th><th>2MASS.H_unc</th><th>M_2MASS.H</th><th>M_2MASS.H_unc</th><th>2MASS.Ks</th><th>2MASS.Ks_unc</th><th>M_2MASS.Ks</th><th>M_2MASS.Ks_unc</th><th>WISE.W1</th><th>WISE.W1_unc</th><th>M_WISE.W1</th><th>M_WISE.W1_unc</th><th>WISE.W2</th><th>WISE.W2_unc</th><th>M_WISE.W2</th><th>M_WISE.W2_unc</th><th>WISE.W3</th><th>WISE.W3_unc</th><th>M_WISE.W3</th><th>M_WISE.W3_unc</th></tr></thead>\n",
       "<thead><tr><th></th><th>Myr</th><th>Myr</th><th>pc</th><th>pc</th><th>mas</th><th>mas</th><th>6.957e+08 m</th><th></th><th></th><th></th><th></th><th>erg / (cm2 s)</th><th>erg / (cm2 s)</th><th></th><th></th><th>erg / s</th><th>erg / s</th><th></th><th></th><th></th><th></th><th></th><th></th><th>solMass</th><th>solMass</th><th>K</th><th>K</th><th></th><th></th><th></th><th></th><th></th><th></th><th></th><th></th><th></th><th></th><th></th><th></th><th></th><th></th><th></th><th></th><th></th><th></th><th></th><th></th><th></th><th></th><th></th><th></th><th></th><th></th><th></th><th></th><th></th><th></th><th></th><th></th><th></th><th></th><th></th><th></th><th></th><th></th><th></th><th></th><th></th><th></th><th></th><th></th><th></th></tr></thead>\n",
       "<thead><tr><th>object</th><th>float64</th><th>float64</th><th>float64</th><th>float64</th><th>float64</th><th>float64</th><th>float64</th><th>object</th><th>object</th><th>object</th><th>object</th><th>float64</th><th>float64</th><th>object</th><th>object</th><th>float64</th><th>float64</th><th>object</th><th>object</th><th>object</th><th>object</th><th>object</th><th>object</th><th>float64</th><th>float64</th><th>float64</th><th>float64</th><th>object</th><th>float64</th><th>float64</th><th>float64</th><th>float64</th><th>float64</th><th>float64</th><th>float64</th><th>float64</th><th>float64</th><th>float64</th><th>float64</th><th>float64</th><th>float64</th><th>float64</th><th>float64</th><th>float64</th><th>float64</th><th>float64</th><th>float64</th><th>float64</th><th>float64</th><th>float64</th><th>float64</th><th>float64</th><th>float64</th><th>float64</th><th>float64</th><th>float64</th><th>float64</th><th>float64</th><th>float64</th><th>float64</th><th>float64</th><th>float64</th><th>float64</th><th>float64</th><th>float64</th><th>float64</th><th>float64</th><th>float64</th><th>float64</th><th>float64</th><th>float64</th><th>float64</th></tr></thead>\n",
       "<tr><td>2MASS 261832886</td><td>6000.0</td><td>4000.0</td><td>572.28</td><td>16.41</td><td>1.7474</td><td>0.0501</td><td>0.8786209573091851</td><td>0.06782337214316517</td><td>60.0</td><td>0.5</td><td>None</td><td>9.344700986227546e-12</td><td>8.891778300076678e-14</td><td>16.092</td><td>0.01</td><td>3.66179055973561e+32</td><td>2.1287295997847215e+31</td><td>-1.019</td><td>0.025</td><td>7.304</td><td>0.033</td><td>4.5</td><td>0.07</td><td>0.8896913720017506</td><td>0.0</td><td>3424.0</td><td>141.0</td><td>&lt;SEDkit.sed.SED object at 0x11a1bdac8&gt;</td><td>20.486</td><td>0.073</td><td>67092.551</td><td>3847.73</td><td>17.779</td><td>0.006</td><td>58227.007</td><td>3339.293</td><td>16.431</td><td>0.004</td><td>53812.248</td><td>3086.108</td><td>15.843</td><td>0.004</td><td>51886.522</td><td>2975.669</td><td>15.514</td><td>0.005</td><td>50809.032</td><td>2913.875</td><td>14.391</td><td>0.029</td><td>47131.158</td><td>2702.951</td><td>13.677</td><td>0.032</td><td>44792.777</td><td>2568.846</td><td>13.535</td><td>0.034</td><td>44327.72</td><td>2542.176</td><td>13.55</td><td>0.027</td><td>44376.846</td><td>2544.993</td><td>13.581</td><td>0.035</td><td>44478.372</td><td>2550.815</td><td>12.884</td><td>0.0</td><td>42195.667</td><td>2419.902</td></tr>\n",
       "<tr><td>2MASS 2618328860</td><td>6000.0</td><td>4000.0</td><td>572.64</td><td>32.79</td><td>1.7463009673899073</td><td>0.1</td><td>0.8786209573091851</td><td>0.06782337214316517</td><td>60.0</td><td>0.5</td><td>None</td><td>9.344700986227546e-12</td><td>8.891778300076678e-14</td><td>16.092</td><td>0.01</td><td>3.6663990004665696e+32</td><td>4.2133096135621395e+31</td><td>-1.019</td><td>0.05</td><td>7.303</td><td>0.063</td><td>4.5</td><td>0.07</td><td>0.8896913720017506</td><td>0.0</td><td>3425.0</td><td>164.0</td><td>&lt;SEDkit.sed.SED object at 0x11afe1ef0&gt;</td><td>20.486</td><td>0.073</td><td>67176.988</td><td>7693.259</td><td>17.779</td><td>0.006</td><td>58300.287</td><td>6676.678</td><td>16.431</td><td>0.004</td><td>53879.972</td><td>6170.454</td><td>15.843</td><td>0.004</td><td>51951.822</td><td>5949.638</td><td>15.514</td><td>0.005</td><td>50872.977</td><td>5826.086</td><td>14.391</td><td>0.029</td><td>47190.474</td><td>5404.358</td><td>13.677</td><td>0.032</td><td>44849.149</td><td>5136.224</td><td>13.535</td><td>0.034</td><td>44383.508</td><td>5082.898</td><td>13.55</td><td>0.027</td><td>44432.695</td><td>5088.531</td><td>13.581</td><td>0.035</td><td>44534.349</td><td>5100.173</td><td>12.884</td><td>0.0</td><td>42248.771</td><td>4838.423</td></tr>\n",
       "<tr><td>2MASS 2618328861</td><td>6000.0</td><td>4000.0</td><td>598.98</td><td>35.88</td><td>1.6695005640755598</td><td>0.1</td><td>0.8786209573091851</td><td>0.06782337214316517</td><td>60.0</td><td>0.5</td><td>None</td><td>9.344700986227546e-12</td><td>8.891778300076678e-14</td><td>16.092</td><td>0.01</td><td>4.01144652103885e+32</td><td>4.820994360627056e+31</td><td>-0.98</td><td>0.052</td><td>7.205</td><td>0.066</td><td>4.5</td><td>0.07</td><td>0.8896913720017506</td><td>0.0</td><td>3503.0</td><td>171.0</td><td>&lt;SEDkit.sed.SED object at 0x11af7de48&gt;</td><td>20.486</td><td>0.073</td><td>73499.064</td><td>8805.458</td><td>17.779</td><td>0.006</td><td>63786.97</td><td>7641.913</td><td>16.431</td><td>0.004</td><td>58950.656</td><td>7062.505</td><td>15.843</td><td>0.004</td><td>56841.047</td><td>6809.766</td><td>15.514</td><td>0.005</td><td>55660.67</td><td>6668.352</td><td>14.391</td><td>0.029</td><td>51631.604</td><td>6185.656</td><td>13.677</td><td>0.032</td><td>49069.936</td><td>5878.759</td><td>13.535</td><td>0.034</td><td>48560.472</td><td>5817.723</td><td>13.55</td><td>0.027</td><td>48614.289</td><td>5824.17</td><td>13.581</td><td>0.035</td><td>48725.51</td><td>5837.495</td><td>12.884</td><td>0.0</td><td>46224.834</td><td>5537.905</td></tr>\n",
       "<tr><td>2MASS 2618328862</td><td>6000.0</td><td>4000.0</td><td>569.45</td><td>32.43</td><td>1.7560932438236598</td><td>0.1</td><td>0.8786209573091851</td><td>0.06782337214316517</td><td>60.0</td><td>0.5</td><td>None</td><td>9.344700986227546e-12</td><td>8.891778300076678e-14</td><td>16.092</td><td>0.01</td><td>3.62566403281865e+32</td><td>4.143994293920703e+31</td><td>-1.024</td><td>0.05</td><td>7.315</td><td>0.063</td><td>4.5</td><td>0.07</td><td>0.8896913720017506</td><td>0.0</td><td>3416.0</td><td>164.0</td><td>&lt;SEDkit.sed.SED object at 0x11afbc358&gt;</td><td>20.486</td><td>0.073</td><td>66430.629</td><td>7566.408</td><td>17.779</td><td>0.006</td><td>57652.55</td><td>6566.59</td><td>16.431</td><td>0.004</td><td>53281.346</td><td>6068.712</td><td>15.843</td><td>0.004</td><td>51374.619</td><td>5851.537</td><td>15.514</td><td>0.005</td><td>50307.76</td><td>5730.023</td><td>14.391</td><td>0.029</td><td>46666.171</td><td>5315.248</td><td>13.677</td><td>0.032</td><td>44350.86</td><td>5051.536</td><td>13.535</td><td>0.034</td><td>43890.391</td><td>4999.089</td><td>13.55</td><td>0.027</td><td>43939.032</td><td>5004.629</td><td>13.581</td><td>0.035</td><td>44039.557</td><td>5016.079</td><td>12.884</td><td>0.0</td><td>41779.372</td><td>4758.644</td></tr>\n",
       "<tr><td>2MASS 2618328863</td><td>6000.0</td><td>4000.0</td><td>553.68</td><td>30.66</td><td>1.806107628449766</td><td>0.1</td><td>0.8786209573091851</td><td>0.06782337214316517</td><td>60.0</td><td>0.5</td><td>None</td><td>9.344700986227546e-12</td><td>8.891778300076678e-14</td><td>16.092</td><td>0.01</td><td>3.427630796479428e+32</td><td>3.810082567843585e+31</td><td>-1.048</td><td>0.048</td><td>7.376</td><td>0.061</td><td>4.5</td><td>0.07</td><td>0.8896913720017506</td><td>0.0</td><td>3368.0</td><td>160.0</td><td>&lt;SEDkit.sed.SED object at 0x11afc77f0&gt;</td><td>20.486</td><td>0.073</td><td>62802.198</td><td>6955.338</td><td>17.779</td><td>0.006</td><td>54503.577</td><td>6036.265</td><td>16.431</td><td>0.004</td><td>50371.127</td><td>5578.597</td><td>15.843</td><td>0.004</td><td>48568.545</td><td>5378.961</td><td>15.514</td><td>0.005</td><td>47559.958</td><td>5267.26</td><td>14.391</td><td>0.029</td><td>44117.272</td><td>4885.983</td><td>13.677</td><td>0.032</td><td>41928.422</td><td>4643.569</td><td>13.535</td><td>0.034</td><td>41493.105</td><td>4595.357</td><td>13.55</td><td>0.027</td><td>41539.089</td><td>4600.45</td><td>13.581</td><td>0.035</td><td>41634.123</td><td>4610.975</td><td>12.884</td><td>0.0</td><td>39497.389</td><td>4374.332</td></tr>\n",
       "<tr><td>2MASS 2618328864</td><td>6000.0</td><td>4000.0</td><td>631.06</td><td>39.82</td><td>1.5846352301725524</td><td>0.1</td><td>0.8786209573091851</td><td>0.06782337214316517</td><td>60.0</td><td>0.5</td><td>None</td><td>9.344700986227546e-12</td><td>8.891778300076678e-14</td><td>16.092</td><td>0.01</td><td>4.452640887092645e+32</td><td>5.63519877290763e+31</td><td>-0.934</td><td>0.055</td><td>7.092</td><td>0.069</td><td>4.5</td><td>0.07</td><td>0.8896913720017506</td><td>0.0</td><td>3596.0</td><td>179.0</td><td>&lt;SEDkit.sed.SED object at 0x11b279f28&gt;</td><td>20.486</td><td>0.073</td><td>81582.775</td><td>10295.777</td><td>17.779</td><td>0.006</td><td>70802.507</td><td>8935.302</td><td>16.431</td><td>0.004</td><td>65434.276</td><td>8257.829</td><td>15.843</td><td>0.004</td><td>63092.644</td><td>7962.314</td><td>15.514</td><td>0.005</td><td>61782.445</td><td>7796.967</td><td>14.391</td><td>0.029</td><td>57310.247</td><td>7232.574</td><td>13.677</td><td>0.032</td><td>54466.837</td><td>6873.735</td><td>13.535</td><td>0.034</td><td>53901.341</td><td>6802.369</td><td>13.55</td><td>0.027</td><td>53961.076</td><td>6809.908</td><td>13.581</td><td>0.035</td><td>54084.529</td><td>6825.488</td><td>12.884</td><td>0.0</td><td>51308.819</td><td>6475.192</td></tr>\n",
       "<tr><td>2MASS 2618328865</td><td>6000.0</td><td>4000.0</td><td>679.4</td><td>46.16</td><td>1.4718910299575758</td><td>0.1</td><td>0.8786209573091851</td><td>0.06782337214316517</td><td>60.0</td><td>0.5</td><td>None</td><td>9.344700986227546e-12</td><td>8.891778300076678e-14</td><td>16.092</td><td>0.01</td><td>5.160923823396209e+32</td><td>7.030073747150481e+31</td><td>-0.87</td><td>0.059</td><td>6.931</td><td>0.074</td><td>4.5</td><td>0.07</td><td>0.8896913720017506</td><td>0.0</td><td>3731.0</td><td>192.0</td><td>&lt;SEDkit.sed.SED object at 0x11b28e9e8&gt;</td><td>20.486</td><td>0.073</td><td>94560.172</td><td>12849.272</td><td>17.779</td><td>0.006</td><td>82065.083</td><td>11151.381</td><td>16.431</td><td>0.004</td><td>75842.926</td><td>10305.886</td><td>15.843</td><td>0.004</td><td>73128.81</td><td>9937.079</td><td>15.514</td><td>0.005</td><td>71610.198</td><td>9730.723</td><td>14.391</td><td>0.029</td><td>66426.605</td><td>9026.353</td><td>13.677</td><td>0.032</td><td>63130.893</td><td>8578.517</td><td>13.535</td><td>0.034</td><td>62475.443</td><td>8489.451</td><td>13.55</td><td>0.027</td><td>62544.681</td><td>8498.859</td><td>13.581</td><td>0.035</td><td>62687.772</td><td>8518.303</td><td>12.884</td><td>0.0</td><td>59470.529</td><td>8081.129</td></tr>\n",
       "<tr><td>2MASS 2618328866</td><td>6000.0</td><td>4000.0</td><td>545.1</td><td>29.71</td><td>1.8345300679365895</td><td>0.1</td><td>0.8786209573091851</td><td>0.06782337214316517</td><td>60.0</td><td>0.5</td><td>None</td><td>9.344700986227546e-12</td><td>8.891778300076678e-14</td><td>16.092</td><td>0.01</td><td>3.322222596429064e+32</td><td>3.6352434585597333e+31</td><td>-1.062</td><td>0.048</td><td>7.41</td><td>0.06</td><td>4.5</td><td>0.07</td><td>0.8896913720017506</td><td>0.0</td><td>3342.0</td><td>158.0</td><td>&lt;SEDkit.sed.SED object at 0x11b205ba8&gt;</td><td>20.486</td><td>0.073</td><td>60870.873</td><td>6635.384</td><td>17.779</td><td>0.006</td><td>52827.456</td><td>5758.59</td><td>16.431</td><td>0.004</td><td>48822.089</td><td>5321.975</td><td>15.843</td><td>0.004</td><td>47074.941</td><td>5131.523</td><td>15.514</td><td>0.005</td><td>46097.37</td><td>5024.96</td><td>14.391</td><td>0.029</td><td>42760.555</td><td>4661.222</td><td>13.677</td><td>0.032</td><td>40639.019</td><td>4429.959</td><td>13.535</td><td>0.034</td><td>40217.088</td><td>4383.966</td><td>13.55</td><td>0.027</td><td>40261.658</td><td>4388.824</td><td>13.581</td><td>0.035</td><td>40353.77</td><td>4398.865</td><td>12.884</td><td>0.0</td><td>38282.746</td><td>4173.107</td></tr>\n",
       "<tr><td>2MASS 2618328867</td><td>6000.0</td><td>4000.0</td><td>593.89</td><td>35.27</td><td>1.6838003958452172</td><td>0.1</td><td>0.8786209573091851</td><td>0.06782337214316517</td><td>60.0</td><td>0.5</td><td>None</td><td>9.344700986227546e-12</td><td>8.891778300076678e-14</td><td>16.092</td><td>0.01</td><td>3.9435594201540144e+32</td><td>4.69901672434641e+31</td><td>-0.987</td><td>0.052</td><td>7.223</td><td>0.065</td><td>4.5</td><td>0.07</td><td>0.8896913720017506</td><td>0.0</td><td>3488.0</td><td>170.0</td><td>&lt;SEDkit.sed.SED object at 0x11b2abe10&gt;</td><td>20.486</td><td>0.073</td><td>72255.214</td><td>8582.201</td><td>17.779</td><td>0.006</td><td>62707.481</td><td>7448.157</td><td>16.431</td><td>0.004</td><td>57953.013</td><td>6883.439</td><td>15.843</td><td>0.004</td><td>55879.106</td><td>6637.108</td><td>15.514</td><td>0.005</td><td>54718.705</td><td>6499.28</td><td>14.391</td><td>0.029</td><td>50757.824</td><td>6028.822</td><td>13.677</td><td>0.032</td><td>48239.508</td><td>5729.706</td><td>13.535</td><td>0.034</td><td>47738.667</td><td>5670.218</td><td>13.55</td><td>0.027</td><td>47791.572</td><td>5676.502</td><td>13.581</td><td>0.035</td><td>47900.911</td><td>5689.489</td><td>12.884</td><td>0.0</td><td>45442.555</td><td>5397.494</td></tr>\n",
       "<tr><td>2MASS 2618328868</td><td>6000.0</td><td>4000.0</td><td>596.87</td><td>35.63</td><td>1.6754129960850157</td><td>0.1</td><td>0.8786209573091851</td><td>0.06782337214316517</td><td>60.0</td><td>0.5</td><td>None</td><td>9.344700986227546e-12</td><td>8.891778300076678e-14</td><td>16.092</td><td>0.01</td><td>3.9832344137408915e+32</td><td>4.770642816474678e+31</td><td>-0.983</td><td>0.052</td><td>7.213</td><td>0.066</td><td>4.5</td><td>0.07</td><td>0.8896913720017506</td><td>0.0</td><td>3497.0</td><td>170.0</td><td>&lt;SEDkit.sed.SED object at 0x11b2c3e80&gt;</td><td>20.486</td><td>0.073</td><td>72982.153</td><td>8713.302</td><td>17.779</td><td>0.006</td><td>63338.363</td><td>7561.934</td><td>16.431</td><td>0.004</td><td>58536.061</td><td>6988.59</td><td>15.843</td><td>0.004</td><td>56441.289</td><td>6738.496</td><td>15.514</td><td>0.005</td><td>55269.214</td><td>6598.563</td><td>14.391</td><td>0.029</td><td>51268.484</td><td>6120.918</td><td>13.677</td><td>0.032</td><td>48724.832</td><td>5817.233</td><td>13.535</td><td>0.034</td><td>48218.951</td><td>5756.836</td><td>13.55</td><td>0.027</td><td>48272.389</td><td>5763.216</td><td>13.581</td><td>0.035</td><td>48382.828</td><td>5776.401</td><td>12.884</td><td>0.0</td><td>45899.739</td><td>5479.946</td></tr>\n",
       "<tr><td>2MASS 2618328869</td><td>6000.0</td><td>4000.0</td><td>590.21</td><td>34.83</td><td>1.6943163878468375</td><td>0.1</td><td>0.8786209573091851</td><td>0.06782337214316517</td><td>60.0</td><td>0.5</td><td>None</td><td>9.344700986227546e-12</td><td>8.891778300076678e-14</td><td>16.092</td><td>0.01</td><td>3.894838827390943e+32</td><td>4.611829256452778e+31</td><td>-0.992</td><td>0.051</td><td>7.237</td><td>0.065</td><td>4.5</td><td>0.07</td><td>0.8896913720017506</td><td>0.0</td><td>3477.0</td><td>169.0</td><td>&lt;SEDkit.sed.SED object at 0x11b2ab630&gt;</td><td>20.486</td><td>0.073</td><td>71362.539</td><td>8422.621</td><td>17.779</td><td>0.006</td><td>61932.763</td><td>7309.663</td><td>16.431</td><td>0.004</td><td>57237.034</td><td>6755.446</td><td>15.843</td><td>0.004</td><td>55188.749</td><td>6513.696</td><td>15.514</td><td>0.005</td><td>54042.685</td><td>6378.43</td><td>14.391</td><td>0.029</td><td>50130.738</td><td>5916.72</td><td>13.677</td><td>0.032</td><td>47643.535</td><td>5623.166</td><td>13.535</td><td>0.034</td><td>47148.881</td><td>5564.784</td><td>13.55</td><td>0.027</td><td>47201.133</td><td>5570.951</td><td>13.581</td><td>0.035</td><td>47309.121</td><td>5583.697</td><td>12.884</td><td>0.0</td><td>44881.136</td><td>5297.131</td></tr>\n",
       "</table>"
      ],
      "text/plain": [
       "<QTable length=11>\n",
       "      name         age   age_unc ... WISE.W3_unc M_WISE.W3 M_WISE.W3_unc\n",
       "                   Myr     Myr   ...                                    \n",
       "     object      float64 float64 ...   float64    float64     float64   \n",
       "---------------- ------- ------- ... ----------- --------- -------------\n",
       " 2MASS 261832886  6000.0  4000.0 ...         0.0 42195.667      2419.902\n",
       "2MASS 2618328860  6000.0  4000.0 ...         0.0 42248.771      4838.423\n",
       "2MASS 2618328861  6000.0  4000.0 ...         0.0 46224.834      5537.905\n",
       "2MASS 2618328862  6000.0  4000.0 ...         0.0 41779.372      4758.644\n",
       "2MASS 2618328863  6000.0  4000.0 ...         0.0 39497.389      4374.332\n",
       "2MASS 2618328864  6000.0  4000.0 ...         0.0 51308.819      6475.192\n",
       "2MASS 2618328865  6000.0  4000.0 ...         0.0 59470.529      8081.129\n",
       "2MASS 2618328866  6000.0  4000.0 ...         0.0 38282.746      4173.107\n",
       "2MASS 2618328867  6000.0  4000.0 ...         0.0 45442.555      5397.494\n",
       "2MASS 2618328868  6000.0  4000.0 ...         0.0 45899.739      5479.946\n",
       "2MASS 2618328869  6000.0  4000.0 ...         0.0 44881.136      5297.131"
      ]
     },
     "execution_count": 41,
     "metadata": {},
     "output_type": "execute_result"
    }
   ],
   "source": [
    "cat.filter('logg', '>=4.5').results"
   ]
  },
  {
   "cell_type": "markdown",
   "metadata": {
    "collapsed": true
   },
   "source": [
    "... or even a tuple of arguments..."
   ]
  },
  {
   "cell_type": "code",
   "execution_count": 44,
   "metadata": {
    "collapsed": false
   },
   "outputs": [
    {
     "data": {
      "text/html": [
       "<i>QTable length=9</i>\n",
       "<table id=\"table4754758344\" class=\"table-striped table-bordered table-condensed\">\n",
       "<thead><tr><th>name</th><th>age</th><th>age_unc</th><th>distance</th><th>distance_unc</th><th>parallax</th><th>parallax_unc</th><th>radius</th><th>radius_unc</th><th>spectral_type</th><th>spectral_type_unc</th><th>membership</th><th>fbol</th><th>fbol_unc</th><th>mbol</th><th>mbol_unc</th><th>Lbol</th><th>Lbol_unc</th><th>Lbol_sun</th><th>Lbol_sun_unc</th><th>Mbol</th><th>Mbol_unc</th><th>logg</th><th>logg_unc</th><th>mass</th><th>mass_unc</th><th>Teff</th><th>Teff_unc</th><th>SED</th><th>SDSS.u</th><th>SDSS.u_unc</th><th>M_SDSS.u</th><th>M_SDSS.u_unc</th><th>SDSS.g</th><th>SDSS.g_unc</th><th>M_SDSS.g</th><th>M_SDSS.g_unc</th><th>SDSS.r</th><th>SDSS.r_unc</th><th>M_SDSS.r</th><th>M_SDSS.r_unc</th><th>SDSS.i</th><th>SDSS.i_unc</th><th>M_SDSS.i</th><th>M_SDSS.i_unc</th><th>SDSS.z</th><th>SDSS.z_unc</th><th>M_SDSS.z</th><th>M_SDSS.z_unc</th><th>2MASS.J</th><th>2MASS.J_unc</th><th>M_2MASS.J</th><th>M_2MASS.J_unc</th><th>2MASS.H</th><th>2MASS.H_unc</th><th>M_2MASS.H</th><th>M_2MASS.H_unc</th><th>2MASS.Ks</th><th>2MASS.Ks_unc</th><th>M_2MASS.Ks</th><th>M_2MASS.Ks_unc</th><th>WISE.W1</th><th>WISE.W1_unc</th><th>M_WISE.W1</th><th>M_WISE.W1_unc</th><th>WISE.W2</th><th>WISE.W2_unc</th><th>M_WISE.W2</th><th>M_WISE.W2_unc</th><th>WISE.W3</th><th>WISE.W3_unc</th><th>M_WISE.W3</th><th>M_WISE.W3_unc</th></tr></thead>\n",
       "<thead><tr><th></th><th>Myr</th><th>Myr</th><th>pc</th><th>pc</th><th>mas</th><th>mas</th><th>6.957e+08 m</th><th></th><th></th><th></th><th></th><th>erg / (cm2 s)</th><th>erg / (cm2 s)</th><th></th><th></th><th>erg / s</th><th>erg / s</th><th></th><th></th><th></th><th></th><th></th><th></th><th>solMass</th><th>solMass</th><th>K</th><th>K</th><th></th><th></th><th></th><th></th><th></th><th></th><th></th><th></th><th></th><th></th><th></th><th></th><th></th><th></th><th></th><th></th><th></th><th></th><th></th><th></th><th></th><th></th><th></th><th></th><th></th><th></th><th></th><th></th><th></th><th></th><th></th><th></th><th></th><th></th><th></th><th></th><th></th><th></th><th></th><th></th><th></th><th></th><th></th><th></th><th></th></tr></thead>\n",
       "<thead><tr><th>object</th><th>float64</th><th>float64</th><th>float64</th><th>float64</th><th>float64</th><th>float64</th><th>float64</th><th>object</th><th>object</th><th>object</th><th>object</th><th>float64</th><th>float64</th><th>object</th><th>object</th><th>float64</th><th>float64</th><th>object</th><th>object</th><th>object</th><th>object</th><th>object</th><th>object</th><th>float64</th><th>float64</th><th>float64</th><th>float64</th><th>object</th><th>float64</th><th>float64</th><th>float64</th><th>float64</th><th>float64</th><th>float64</th><th>float64</th><th>float64</th><th>float64</th><th>float64</th><th>float64</th><th>float64</th><th>float64</th><th>float64</th><th>float64</th><th>float64</th><th>float64</th><th>float64</th><th>float64</th><th>float64</th><th>float64</th><th>float64</th><th>float64</th><th>float64</th><th>float64</th><th>float64</th><th>float64</th><th>float64</th><th>float64</th><th>float64</th><th>float64</th><th>float64</th><th>float64</th><th>float64</th><th>float64</th><th>float64</th><th>float64</th><th>float64</th><th>float64</th><th>float64</th><th>float64</th><th>float64</th><th>float64</th><th>float64</th></tr></thead>\n",
       "<tr><td>2MASS 261832886</td><td>6000.0</td><td>4000.0</td><td>572.28</td><td>16.41</td><td>1.7474</td><td>0.0501</td><td>0.8786209573091851</td><td>0.06782337214316517</td><td>60.0</td><td>0.5</td><td>None</td><td>9.344700986227546e-12</td><td>8.891778300076678e-14</td><td>16.092</td><td>0.01</td><td>3.66179055973561e+32</td><td>2.1287295997847215e+31</td><td>-1.019</td><td>0.025</td><td>7.304</td><td>0.033</td><td>4.5</td><td>0.07</td><td>0.8896913720017506</td><td>0.0</td><td>3424.0</td><td>141.0</td><td>&lt;SEDkit.sed.SED object at 0x11a1bdac8&gt;</td><td>20.486</td><td>0.073</td><td>67092.551</td><td>3847.73</td><td>17.779</td><td>0.006</td><td>58227.007</td><td>3339.293</td><td>16.431</td><td>0.004</td><td>53812.248</td><td>3086.108</td><td>15.843</td><td>0.004</td><td>51886.522</td><td>2975.669</td><td>15.514</td><td>0.005</td><td>50809.032</td><td>2913.875</td><td>14.391</td><td>0.029</td><td>47131.158</td><td>2702.951</td><td>13.677</td><td>0.032</td><td>44792.777</td><td>2568.846</td><td>13.535</td><td>0.034</td><td>44327.72</td><td>2542.176</td><td>13.55</td><td>0.027</td><td>44376.846</td><td>2544.993</td><td>13.581</td><td>0.035</td><td>44478.372</td><td>2550.815</td><td>12.884</td><td>0.0</td><td>42195.667</td><td>2419.902</td></tr>\n",
       "<tr><td>2MASS 2618328860</td><td>6000.0</td><td>4000.0</td><td>572.64</td><td>32.79</td><td>1.7463009673899073</td><td>0.1</td><td>0.8786209573091851</td><td>0.06782337214316517</td><td>60.0</td><td>0.5</td><td>None</td><td>9.344700986227546e-12</td><td>8.891778300076678e-14</td><td>16.092</td><td>0.01</td><td>3.6663990004665696e+32</td><td>4.2133096135621395e+31</td><td>-1.019</td><td>0.05</td><td>7.303</td><td>0.063</td><td>4.5</td><td>0.07</td><td>0.8896913720017506</td><td>0.0</td><td>3425.0</td><td>164.0</td><td>&lt;SEDkit.sed.SED object at 0x11afe1ef0&gt;</td><td>20.486</td><td>0.073</td><td>67176.988</td><td>7693.259</td><td>17.779</td><td>0.006</td><td>58300.287</td><td>6676.678</td><td>16.431</td><td>0.004</td><td>53879.972</td><td>6170.454</td><td>15.843</td><td>0.004</td><td>51951.822</td><td>5949.638</td><td>15.514</td><td>0.005</td><td>50872.977</td><td>5826.086</td><td>14.391</td><td>0.029</td><td>47190.474</td><td>5404.358</td><td>13.677</td><td>0.032</td><td>44849.149</td><td>5136.224</td><td>13.535</td><td>0.034</td><td>44383.508</td><td>5082.898</td><td>13.55</td><td>0.027</td><td>44432.695</td><td>5088.531</td><td>13.581</td><td>0.035</td><td>44534.349</td><td>5100.173</td><td>12.884</td><td>0.0</td><td>42248.771</td><td>4838.423</td></tr>\n",
       "<tr><td>2MASS 2618328861</td><td>6000.0</td><td>4000.0</td><td>598.98</td><td>35.88</td><td>1.6695005640755598</td><td>0.1</td><td>0.8786209573091851</td><td>0.06782337214316517</td><td>60.0</td><td>0.5</td><td>None</td><td>9.344700986227546e-12</td><td>8.891778300076678e-14</td><td>16.092</td><td>0.01</td><td>4.01144652103885e+32</td><td>4.820994360627056e+31</td><td>-0.98</td><td>0.052</td><td>7.205</td><td>0.066</td><td>4.5</td><td>0.07</td><td>0.8896913720017506</td><td>0.0</td><td>3503.0</td><td>171.0</td><td>&lt;SEDkit.sed.SED object at 0x11af7de48&gt;</td><td>20.486</td><td>0.073</td><td>73499.064</td><td>8805.458</td><td>17.779</td><td>0.006</td><td>63786.97</td><td>7641.913</td><td>16.431</td><td>0.004</td><td>58950.656</td><td>7062.505</td><td>15.843</td><td>0.004</td><td>56841.047</td><td>6809.766</td><td>15.514</td><td>0.005</td><td>55660.67</td><td>6668.352</td><td>14.391</td><td>0.029</td><td>51631.604</td><td>6185.656</td><td>13.677</td><td>0.032</td><td>49069.936</td><td>5878.759</td><td>13.535</td><td>0.034</td><td>48560.472</td><td>5817.723</td><td>13.55</td><td>0.027</td><td>48614.289</td><td>5824.17</td><td>13.581</td><td>0.035</td><td>48725.51</td><td>5837.495</td><td>12.884</td><td>0.0</td><td>46224.834</td><td>5537.905</td></tr>\n",
       "<tr><td>2MASS 2618328862</td><td>6000.0</td><td>4000.0</td><td>569.45</td><td>32.43</td><td>1.7560932438236598</td><td>0.1</td><td>0.8786209573091851</td><td>0.06782337214316517</td><td>60.0</td><td>0.5</td><td>None</td><td>9.344700986227546e-12</td><td>8.891778300076678e-14</td><td>16.092</td><td>0.01</td><td>3.62566403281865e+32</td><td>4.143994293920703e+31</td><td>-1.024</td><td>0.05</td><td>7.315</td><td>0.063</td><td>4.5</td><td>0.07</td><td>0.8896913720017506</td><td>0.0</td><td>3416.0</td><td>164.0</td><td>&lt;SEDkit.sed.SED object at 0x11afbc358&gt;</td><td>20.486</td><td>0.073</td><td>66430.629</td><td>7566.408</td><td>17.779</td><td>0.006</td><td>57652.55</td><td>6566.59</td><td>16.431</td><td>0.004</td><td>53281.346</td><td>6068.712</td><td>15.843</td><td>0.004</td><td>51374.619</td><td>5851.537</td><td>15.514</td><td>0.005</td><td>50307.76</td><td>5730.023</td><td>14.391</td><td>0.029</td><td>46666.171</td><td>5315.248</td><td>13.677</td><td>0.032</td><td>44350.86</td><td>5051.536</td><td>13.535</td><td>0.034</td><td>43890.391</td><td>4999.089</td><td>13.55</td><td>0.027</td><td>43939.032</td><td>5004.629</td><td>13.581</td><td>0.035</td><td>44039.557</td><td>5016.079</td><td>12.884</td><td>0.0</td><td>41779.372</td><td>4758.644</td></tr>\n",
       "<tr><td>2MASS 2618328863</td><td>6000.0</td><td>4000.0</td><td>553.68</td><td>30.66</td><td>1.806107628449766</td><td>0.1</td><td>0.8786209573091851</td><td>0.06782337214316517</td><td>60.0</td><td>0.5</td><td>None</td><td>9.344700986227546e-12</td><td>8.891778300076678e-14</td><td>16.092</td><td>0.01</td><td>3.427630796479428e+32</td><td>3.810082567843585e+31</td><td>-1.048</td><td>0.048</td><td>7.376</td><td>0.061</td><td>4.5</td><td>0.07</td><td>0.8896913720017506</td><td>0.0</td><td>3368.0</td><td>160.0</td><td>&lt;SEDkit.sed.SED object at 0x11afc77f0&gt;</td><td>20.486</td><td>0.073</td><td>62802.198</td><td>6955.338</td><td>17.779</td><td>0.006</td><td>54503.577</td><td>6036.265</td><td>16.431</td><td>0.004</td><td>50371.127</td><td>5578.597</td><td>15.843</td><td>0.004</td><td>48568.545</td><td>5378.961</td><td>15.514</td><td>0.005</td><td>47559.958</td><td>5267.26</td><td>14.391</td><td>0.029</td><td>44117.272</td><td>4885.983</td><td>13.677</td><td>0.032</td><td>41928.422</td><td>4643.569</td><td>13.535</td><td>0.034</td><td>41493.105</td><td>4595.357</td><td>13.55</td><td>0.027</td><td>41539.089</td><td>4600.45</td><td>13.581</td><td>0.035</td><td>41634.123</td><td>4610.975</td><td>12.884</td><td>0.0</td><td>39497.389</td><td>4374.332</td></tr>\n",
       "<tr><td>2MASS 2618328866</td><td>6000.0</td><td>4000.0</td><td>545.1</td><td>29.71</td><td>1.8345300679365895</td><td>0.1</td><td>0.8786209573091851</td><td>0.06782337214316517</td><td>60.0</td><td>0.5</td><td>None</td><td>9.344700986227546e-12</td><td>8.891778300076678e-14</td><td>16.092</td><td>0.01</td><td>3.322222596429064e+32</td><td>3.6352434585597333e+31</td><td>-1.062</td><td>0.048</td><td>7.41</td><td>0.06</td><td>4.5</td><td>0.07</td><td>0.8896913720017506</td><td>0.0</td><td>3342.0</td><td>158.0</td><td>&lt;SEDkit.sed.SED object at 0x11b205ba8&gt;</td><td>20.486</td><td>0.073</td><td>60870.873</td><td>6635.384</td><td>17.779</td><td>0.006</td><td>52827.456</td><td>5758.59</td><td>16.431</td><td>0.004</td><td>48822.089</td><td>5321.975</td><td>15.843</td><td>0.004</td><td>47074.941</td><td>5131.523</td><td>15.514</td><td>0.005</td><td>46097.37</td><td>5024.96</td><td>14.391</td><td>0.029</td><td>42760.555</td><td>4661.222</td><td>13.677</td><td>0.032</td><td>40639.019</td><td>4429.959</td><td>13.535</td><td>0.034</td><td>40217.088</td><td>4383.966</td><td>13.55</td><td>0.027</td><td>40261.658</td><td>4388.824</td><td>13.581</td><td>0.035</td><td>40353.77</td><td>4398.865</td><td>12.884</td><td>0.0</td><td>38282.746</td><td>4173.107</td></tr>\n",
       "<tr><td>2MASS 2618328867</td><td>6000.0</td><td>4000.0</td><td>593.89</td><td>35.27</td><td>1.6838003958452172</td><td>0.1</td><td>0.8786209573091851</td><td>0.06782337214316517</td><td>60.0</td><td>0.5</td><td>None</td><td>9.344700986227546e-12</td><td>8.891778300076678e-14</td><td>16.092</td><td>0.01</td><td>3.9435594201540144e+32</td><td>4.69901672434641e+31</td><td>-0.987</td><td>0.052</td><td>7.223</td><td>0.065</td><td>4.5</td><td>0.07</td><td>0.8896913720017506</td><td>0.0</td><td>3488.0</td><td>170.0</td><td>&lt;SEDkit.sed.SED object at 0x11b2abe10&gt;</td><td>20.486</td><td>0.073</td><td>72255.214</td><td>8582.201</td><td>17.779</td><td>0.006</td><td>62707.481</td><td>7448.157</td><td>16.431</td><td>0.004</td><td>57953.013</td><td>6883.439</td><td>15.843</td><td>0.004</td><td>55879.106</td><td>6637.108</td><td>15.514</td><td>0.005</td><td>54718.705</td><td>6499.28</td><td>14.391</td><td>0.029</td><td>50757.824</td><td>6028.822</td><td>13.677</td><td>0.032</td><td>48239.508</td><td>5729.706</td><td>13.535</td><td>0.034</td><td>47738.667</td><td>5670.218</td><td>13.55</td><td>0.027</td><td>47791.572</td><td>5676.502</td><td>13.581</td><td>0.035</td><td>47900.911</td><td>5689.489</td><td>12.884</td><td>0.0</td><td>45442.555</td><td>5397.494</td></tr>\n",
       "<tr><td>2MASS 2618328868</td><td>6000.0</td><td>4000.0</td><td>596.87</td><td>35.63</td><td>1.6754129960850157</td><td>0.1</td><td>0.8786209573091851</td><td>0.06782337214316517</td><td>60.0</td><td>0.5</td><td>None</td><td>9.344700986227546e-12</td><td>8.891778300076678e-14</td><td>16.092</td><td>0.01</td><td>3.9832344137408915e+32</td><td>4.770642816474678e+31</td><td>-0.983</td><td>0.052</td><td>7.213</td><td>0.066</td><td>4.5</td><td>0.07</td><td>0.8896913720017506</td><td>0.0</td><td>3497.0</td><td>170.0</td><td>&lt;SEDkit.sed.SED object at 0x11b2c3e80&gt;</td><td>20.486</td><td>0.073</td><td>72982.153</td><td>8713.302</td><td>17.779</td><td>0.006</td><td>63338.363</td><td>7561.934</td><td>16.431</td><td>0.004</td><td>58536.061</td><td>6988.59</td><td>15.843</td><td>0.004</td><td>56441.289</td><td>6738.496</td><td>15.514</td><td>0.005</td><td>55269.214</td><td>6598.563</td><td>14.391</td><td>0.029</td><td>51268.484</td><td>6120.918</td><td>13.677</td><td>0.032</td><td>48724.832</td><td>5817.233</td><td>13.535</td><td>0.034</td><td>48218.951</td><td>5756.836</td><td>13.55</td><td>0.027</td><td>48272.389</td><td>5763.216</td><td>13.581</td><td>0.035</td><td>48382.828</td><td>5776.401</td><td>12.884</td><td>0.0</td><td>45899.739</td><td>5479.946</td></tr>\n",
       "<tr><td>2MASS 2618328869</td><td>6000.0</td><td>4000.0</td><td>590.21</td><td>34.83</td><td>1.6943163878468375</td><td>0.1</td><td>0.8786209573091851</td><td>0.06782337214316517</td><td>60.0</td><td>0.5</td><td>None</td><td>9.344700986227546e-12</td><td>8.891778300076678e-14</td><td>16.092</td><td>0.01</td><td>3.894838827390943e+32</td><td>4.611829256452778e+31</td><td>-0.992</td><td>0.051</td><td>7.237</td><td>0.065</td><td>4.5</td><td>0.07</td><td>0.8896913720017506</td><td>0.0</td><td>3477.0</td><td>169.0</td><td>&lt;SEDkit.sed.SED object at 0x11b2ab630&gt;</td><td>20.486</td><td>0.073</td><td>71362.539</td><td>8422.621</td><td>17.779</td><td>0.006</td><td>61932.763</td><td>7309.663</td><td>16.431</td><td>0.004</td><td>57237.034</td><td>6755.446</td><td>15.843</td><td>0.004</td><td>55188.749</td><td>6513.696</td><td>15.514</td><td>0.005</td><td>54042.685</td><td>6378.43</td><td>14.391</td><td>0.029</td><td>50130.738</td><td>5916.72</td><td>13.677</td><td>0.032</td><td>47643.535</td><td>5623.166</td><td>13.535</td><td>0.034</td><td>47148.881</td><td>5564.784</td><td>13.55</td><td>0.027</td><td>47201.133</td><td>5570.951</td><td>13.581</td><td>0.035</td><td>47309.121</td><td>5583.697</td><td>12.884</td><td>0.0</td><td>44881.136</td><td>5297.131</td></tr>\n",
       "</table>"
      ],
      "text/plain": [
       "<QTable length=9>\n",
       "      name         age   age_unc ... WISE.W3_unc M_WISE.W3 M_WISE.W3_unc\n",
       "                   Myr     Myr   ...                                    \n",
       "     object      float64 float64 ...   float64    float64     float64   \n",
       "---------------- ------- ------- ... ----------- --------- -------------\n",
       " 2MASS 261832886  6000.0  4000.0 ...         0.0 42195.667      2419.902\n",
       "2MASS 2618328860  6000.0  4000.0 ...         0.0 42248.771      4838.423\n",
       "2MASS 2618328861  6000.0  4000.0 ...         0.0 46224.834      5537.905\n",
       "2MASS 2618328862  6000.0  4000.0 ...         0.0 41779.372      4758.644\n",
       "2MASS 2618328863  6000.0  4000.0 ...         0.0 39497.389      4374.332\n",
       "2MASS 2618328866  6000.0  4000.0 ...         0.0 38282.746      4173.107\n",
       "2MASS 2618328867  6000.0  4000.0 ...         0.0 45442.555      5397.494\n",
       "2MASS 2618328868  6000.0  4000.0 ...         0.0 45899.739      5479.946\n",
       "2MASS 2618328869  6000.0  4000.0 ...         0.0 44881.136      5297.131"
      ]
     },
     "execution_count": 44,
     "metadata": {},
     "output_type": "execute_result"
    }
   ],
   "source": [
    "cat.filter('M_SDSS.r', ('>50000','<60000')).results"
   ]
  },
  {
   "cell_type": "code",
   "execution_count": null,
   "metadata": {
    "collapsed": true
   },
   "outputs": [],
   "source": []
  }
 ],
 "metadata": {
  "anaconda-cloud": {},
  "kernelspec": {
   "display_name": "Astroconda",
   "language": "python",
   "name": "astroconda_kernel"
  },
  "language_info": {
   "codemirror_mode": {
    "name": "ipython",
    "version": 3
   },
   "file_extension": ".py",
   "mimetype": "text/x-python",
   "name": "python",
   "nbconvert_exporter": "python",
   "pygments_lexer": "ipython3",
   "version": "3.5.2"
  }
 },
 "nbformat": 4,
 "nbformat_minor": 1
}
