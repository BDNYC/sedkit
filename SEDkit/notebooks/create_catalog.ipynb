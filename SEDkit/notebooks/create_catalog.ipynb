{
 "cells": [
  {
   "cell_type": "markdown",
   "metadata": {},
   "source": [
    "# Make a catalog of SEDs"
   ]
  },
  {
   "cell_type": "code",
   "execution_count": 1,
   "metadata": {
    "collapsed": false
   },
   "outputs": [
    {
     "name": "stderr",
     "output_type": "stream",
     "text": [
      "/Users/jfilippazzo/miniconda3/envs/astroconda/lib/python3.5/site-packages/pysynphot/locations.py:119: UserWarning: Extinction files should be moved to $PYSYN_CDBS/extinction for compatibility with future versions of pysynphot.\n",
      "  warnings.warn('Extinction files should be moved to '\n",
      "/Users/jfilippazzo/miniconda3/envs/astroconda/lib/python3.5/site-packages/pysynphot/locations.py:155: UserWarning: Extinction files not found in /grp/hst/cdbs/grid/extinction\n",
      "  warnings.warn('Extinction files not found in %s' % (extdir,))\n",
      "/Users/jfilippazzo/miniconda3/envs/astroconda/lib/python3.5/site-packages/pysynphot/refs.py:114: UserWarning: No graph or component tables found; functionality will be SEVERELY crippled. No files found for /grp/hst/cdbs/mtab/*_tmg.fits.\n",
      "  'functionality will be SEVERELY crippled. ' + str(e))\n",
      "/Users/jfilippazzo/miniconda3/envs/astroconda/lib/python3.5/site-packages/pysynphot/refs.py:121: UserWarning: No thermal tables found, no thermal calculations can be performed. No files found for /grp/hst/cdbs/mtab/*_tmt.fits.\n",
      "  'no thermal calculations can be performed. ' + str(e))\n"
     ]
    },
    {
     "data": {
      "text/html": [
       "\n",
       "    <div class=\"bk-root\">\n",
       "        <a href=\"http://bokeh.pydata.org\" target=\"_blank\" class=\"bk-logo bk-logo-small bk-logo-notebook\"></a>\n",
       "        <span id=\"f04951d8-9048-4895-a2f7-f66990ec39d2\">Loading BokehJS ...</span>\n",
       "    </div>"
      ]
     },
     "metadata": {},
     "output_type": "display_data"
    },
    {
     "data": {
      "application/javascript": [
       "\n",
       "(function(global) {\n",
       "  function now() {\n",
       "    return new Date();\n",
       "  }\n",
       "\n",
       "  var force = true;\n",
       "\n",
       "  if (typeof (window._bokeh_onload_callbacks) === \"undefined\" || force === true) {\n",
       "    window._bokeh_onload_callbacks = [];\n",
       "    window._bokeh_is_loading = undefined;\n",
       "  }\n",
       "\n",
       "\n",
       "  \n",
       "  if (typeof (window._bokeh_timeout) === \"undefined\" || force === true) {\n",
       "    window._bokeh_timeout = Date.now() + 5000;\n",
       "    window._bokeh_failed_load = false;\n",
       "  }\n",
       "\n",
       "  var NB_LOAD_WARNING = {'data': {'text/html':\n",
       "     \"<div style='background-color: #fdd'>\\n\"+\n",
       "     \"<p>\\n\"+\n",
       "     \"BokehJS does not appear to have successfully loaded. If loading BokehJS from CDN, this \\n\"+\n",
       "     \"may be due to a slow or bad network connection. Possible fixes:\\n\"+\n",
       "     \"</p>\\n\"+\n",
       "     \"<ul>\\n\"+\n",
       "     \"<li>re-rerun `output_notebook()` to attempt to load from CDN again, or</li>\\n\"+\n",
       "     \"<li>use INLINE resources instead, as so:</li>\\n\"+\n",
       "     \"</ul>\\n\"+\n",
       "     \"<code>\\n\"+\n",
       "     \"from bokeh.resources import INLINE\\n\"+\n",
       "     \"output_notebook(resources=INLINE)\\n\"+\n",
       "     \"</code>\\n\"+\n",
       "     \"</div>\"}};\n",
       "\n",
       "  function display_loaded() {\n",
       "    if (window.Bokeh !== undefined) {\n",
       "      var el = document.getElementById(\"f04951d8-9048-4895-a2f7-f66990ec39d2\");\n",
       "      el.textContent = \"BokehJS \" + Bokeh.version + \" successfully loaded.\";\n",
       "    } else if (Date.now() < window._bokeh_timeout) {\n",
       "      setTimeout(display_loaded, 100)\n",
       "    }\n",
       "  }\n",
       "\n",
       "  function run_callbacks() {\n",
       "    try {\n",
       "      window._bokeh_onload_callbacks.forEach(function(callback) { callback() });\n",
       "    }\n",
       "    finally {\n",
       "      delete window._bokeh_onload_callbacks\n",
       "    }\n",
       "    console.info(\"Bokeh: all callbacks have finished\");\n",
       "  }\n",
       "\n",
       "  function load_libs(js_urls, callback) {\n",
       "    window._bokeh_onload_callbacks.push(callback);\n",
       "    if (window._bokeh_is_loading > 0) {\n",
       "      console.log(\"Bokeh: BokehJS is being loaded, scheduling callback at\", now());\n",
       "      return null;\n",
       "    }\n",
       "    if (js_urls == null || js_urls.length === 0) {\n",
       "      run_callbacks();\n",
       "      return null;\n",
       "    }\n",
       "    console.log(\"Bokeh: BokehJS not loaded, scheduling load and callback at\", now());\n",
       "    window._bokeh_is_loading = js_urls.length;\n",
       "    for (var i = 0; i < js_urls.length; i++) {\n",
       "      var url = js_urls[i];\n",
       "      var s = document.createElement('script');\n",
       "      s.src = url;\n",
       "      s.async = false;\n",
       "      s.onreadystatechange = s.onload = function() {\n",
       "        window._bokeh_is_loading--;\n",
       "        if (window._bokeh_is_loading === 0) {\n",
       "          console.log(\"Bokeh: all BokehJS libraries loaded\");\n",
       "          run_callbacks()\n",
       "        }\n",
       "      };\n",
       "      s.onerror = function() {\n",
       "        console.warn(\"failed to load library \" + url);\n",
       "      };\n",
       "      console.log(\"Bokeh: injecting script tag for BokehJS library: \", url);\n",
       "      document.getElementsByTagName(\"head\")[0].appendChild(s);\n",
       "    }\n",
       "  };var element = document.getElementById(\"f04951d8-9048-4895-a2f7-f66990ec39d2\");\n",
       "  if (element == null) {\n",
       "    console.log(\"Bokeh: ERROR: autoload.js configured with elementid 'f04951d8-9048-4895-a2f7-f66990ec39d2' but no matching script tag was found. \")\n",
       "    return false;\n",
       "  }\n",
       "\n",
       "  var js_urls = [\"https://cdn.pydata.org/bokeh/release/bokeh-0.12.6.min.js\", \"https://cdn.pydata.org/bokeh/release/bokeh-widgets-0.12.6.min.js\"];\n",
       "\n",
       "  var inline_js = [\n",
       "    function(Bokeh) {\n",
       "      Bokeh.set_log_level(\"info\");\n",
       "    },\n",
       "    \n",
       "    function(Bokeh) {\n",
       "      \n",
       "    },\n",
       "    \n",
       "    function(Bokeh) {\n",
       "      \n",
       "      document.getElementById(\"f04951d8-9048-4895-a2f7-f66990ec39d2\").textContent = \"BokehJS is loading...\";\n",
       "    },\n",
       "    function(Bokeh) {\n",
       "      console.log(\"Bokeh: injecting CSS: https://cdn.pydata.org/bokeh/release/bokeh-0.12.6.min.css\");\n",
       "      Bokeh.embed.inject_css(\"https://cdn.pydata.org/bokeh/release/bokeh-0.12.6.min.css\");\n",
       "      console.log(\"Bokeh: injecting CSS: https://cdn.pydata.org/bokeh/release/bokeh-widgets-0.12.6.min.css\");\n",
       "      Bokeh.embed.inject_css(\"https://cdn.pydata.org/bokeh/release/bokeh-widgets-0.12.6.min.css\");\n",
       "    }\n",
       "  ];\n",
       "\n",
       "  function run_inline_js() {\n",
       "    \n",
       "    if ((window.Bokeh !== undefined) || (force === true)) {\n",
       "      for (var i = 0; i < inline_js.length; i++) {\n",
       "        inline_js[i](window.Bokeh);\n",
       "      }if (force === true) {\n",
       "        display_loaded();\n",
       "      }} else if (Date.now() < window._bokeh_timeout) {\n",
       "      setTimeout(run_inline_js, 100);\n",
       "    } else if (!window._bokeh_failed_load) {\n",
       "      console.log(\"Bokeh: BokehJS failed to load within specified timeout.\");\n",
       "      window._bokeh_failed_load = true;\n",
       "    } else if (force !== true) {\n",
       "      var cell = $(document.getElementById(\"f04951d8-9048-4895-a2f7-f66990ec39d2\")).parents('.cell').data().cell;\n",
       "      cell.output_area.append_execute_result(NB_LOAD_WARNING)\n",
       "    }\n",
       "\n",
       "  }\n",
       "\n",
       "  if (window._bokeh_is_loading === 0) {\n",
       "    console.log(\"Bokeh: BokehJS loaded, going straight to plotting\");\n",
       "    run_inline_js();\n",
       "  } else {\n",
       "    load_libs(js_urls, function() {\n",
       "      console.log(\"Bokeh: BokehJS plotting callback run at\", now());\n",
       "      run_inline_js();\n",
       "    });\n",
       "  }\n",
       "}(this));"
      ]
     },
     "metadata": {},
     "output_type": "display_data"
    }
   ],
   "source": [
    "# Imports\n",
    "from SEDkit import sed, spectrum, synphot, catalog\n",
    "import astropy.units as q\n",
    "import numpy as np\n",
    "import copy\n",
    "from pkg_resources import resource_filename\n",
    "from bokeh.io import output_notebook, show\n",
    "output_notebook()"
   ]
  },
  {
   "cell_type": "markdown",
   "metadata": {},
   "source": [
    "First we initialize an empty catalog."
   ]
  },
  {
   "cell_type": "code",
   "execution_count": 2,
   "metadata": {
    "collapsed": false
   },
   "outputs": [],
   "source": [
    "# Make an SED catalog\n",
    "cat = catalog.SEDCatalog()"
   ]
  },
  {
   "cell_type": "markdown",
   "metadata": {},
   "source": [
    "Now let's make a few SEDs"
   ]
  },
  {
   "cell_type": "code",
   "execution_count": 3,
   "metadata": {
    "collapsed": false
   },
   "outputs": [
    {
     "name": "stdout",
     "output_type": "stream",
     "text": [
      "Setting age to (<Quantity 6.0 Gyr>, <Quantity 4.0 Gyr>)\n",
      "Setting radius to (<Quantity 0.8786209573091851 solRad>, <Quantity 0.06782337214316517 solRad>)\n"
     ]
    }
   ],
   "source": [
    "# Make an SED\n",
    "s1 = sed.SED(parallax=(1.7474*q.mas, 0.0501*q.mas), spectral_type='M0V', name='2MASS 261832886')\n",
    "s1.add_photometry_file(resource_filename('SEDkit', 'data/M0V_photometry.txt'))\n",
    "s1.make_sed()\n",
    "cat.add_SED(s1)"
   ]
  },
  {
   "cell_type": "code",
   "execution_count": 4,
   "metadata": {
    "collapsed": false
   },
   "outputs": [],
   "source": [
    "# Make 30 other SEDs (I'll just change the parallax)\n",
    "for i in range(10):\n",
    "    s2 = copy.copy(s1)\n",
    "    s2.parallax = abs(np.random.normal(loc=1.7474, scale=0.1))*q.mas, 0.1*q.mas\n",
    "    s2.name += str(i)\n",
    "    s2.make_sed()\n",
    "    cat.add_SED(s2)"
   ]
  },
  {
   "cell_type": "markdown",
   "metadata": {},
   "source": [
    "Then the (abridged) aggregated results look like this:"
   ]
  },
  {
   "cell_type": "code",
   "execution_count": 9,
   "metadata": {
    "collapsed": false
   },
   "outputs": [
    {
     "data": {
      "text/html": [
       "<i>QTable length=11</i>\n",
       "<table id=\"table4728388800\" class=\"table-striped table-bordered table-condensed\">\n",
       "<thead><tr><th>name</th><th>distance</th><th>distance_unc</th><th>Lbol_sun</th><th>Lbol_sun_unc</th><th>Teff</th><th>Teff_unc</th></tr></thead>\n",
       "<thead><tr><th></th><th>pc</th><th>pc</th><th></th><th></th><th>K</th><th>K</th></tr></thead>\n",
       "<thead><tr><th>object</th><th>float64</th><th>float64</th><th>object</th><th>object</th><th>float64</th><th>float64</th></tr></thead>\n",
       "<tr><td>2MASS 261832886</td><td>572.28</td><td>16.41</td><td>-1.019</td><td>0.025</td><td>3424.0</td><td>141.0</td></tr>\n",
       "<tr><td>2MASS 2618328860</td><td>577.95</td><td>33.4</td><td>-1.011</td><td>0.05</td><td>3441.0</td><td>166.0</td></tr>\n",
       "<tr><td>2MASS 2618328861</td><td>543.79</td><td>29.57</td><td>-1.064</td><td>0.047</td><td>3338.0</td><td>157.0</td></tr>\n",
       "<tr><td>2MASS 2618328862</td><td>567.46</td><td>32.2</td><td>-1.027</td><td>0.049</td><td>3410.0</td><td>163.0</td></tr>\n",
       "<tr><td>2MASS 2618328863</td><td>544.74</td><td>29.67</td><td>-1.062</td><td>0.047</td><td>3341.0</td><td>158.0</td></tr>\n",
       "<tr><td>2MASS 2618328864</td><td>556.1</td><td>30.92</td><td>-1.044</td><td>0.048</td><td>3375.0</td><td>160.0</td></tr>\n",
       "<tr><td>2MASS 2618328865</td><td>577.15</td><td>33.31</td><td>-1.012</td><td>0.05</td><td>3439.0</td><td>165.0</td></tr>\n",
       "<tr><td>2MASS 2618328866</td><td>564.56</td><td>31.87</td><td>-1.031</td><td>0.049</td><td>3401.0</td><td>162.0</td></tr>\n",
       "<tr><td>2MASS 2618328867</td><td>584.36</td><td>34.15</td><td>-1.001</td><td>0.051</td><td>3460.0</td><td>167.0</td></tr>\n",
       "<tr><td>2MASS 2618328868</td><td>582.4</td><td>33.92</td><td>-1.004</td><td>0.051</td><td>3454.0</td><td>167.0</td></tr>\n",
       "<tr><td>2MASS 2618328869</td><td>564.8</td><td>31.9</td><td>-1.031</td><td>0.049</td><td>3402.0</td><td>162.0</td></tr>\n",
       "</table>"
      ],
      "text/plain": [
       "<QTable length=11>\n",
       "      name       distance distance_unc Lbol_sun Lbol_sun_unc   Teff  Teff_unc\n",
       "                    pc         pc                               K       K    \n",
       "     object      float64    float64     object     object    float64 float64 \n",
       "---------------- -------- ------------ -------- ------------ ------- --------\n",
       " 2MASS 261832886   572.28        16.41   -1.019        0.025  3424.0    141.0\n",
       "2MASS 2618328860   577.95         33.4   -1.011         0.05  3441.0    166.0\n",
       "2MASS 2618328861   543.79        29.57   -1.064        0.047  3338.0    157.0\n",
       "2MASS 2618328862   567.46         32.2   -1.027        0.049  3410.0    163.0\n",
       "2MASS 2618328863   544.74        29.67   -1.062        0.047  3341.0    158.0\n",
       "2MASS 2618328864    556.1        30.92   -1.044        0.048  3375.0    160.0\n",
       "2MASS 2618328865   577.15        33.31   -1.012         0.05  3439.0    165.0\n",
       "2MASS 2618328866   564.56        31.87   -1.031        0.049  3401.0    162.0\n",
       "2MASS 2618328867   584.36        34.15   -1.001        0.051  3460.0    167.0\n",
       "2MASS 2618328868    582.4        33.92   -1.004        0.051  3454.0    167.0\n",
       "2MASS 2618328869    564.8         31.9   -1.031        0.049  3402.0    162.0"
      ]
     },
     "execution_count": 9,
     "metadata": {},
     "output_type": "execute_result"
    }
   ],
   "source": [
    "cat.results[['name','distance','distance_unc','Lbol_sun','Lbol_sun_unc','Teff','Teff_unc']]"
   ]
  },
  {
   "cell_type": "markdown",
   "metadata": {},
   "source": [
    "We can also plot the results by passing the `plot` method two column names."
   ]
  },
  {
   "cell_type": "code",
   "execution_count": 10,
   "metadata": {
    "collapsed": false
   },
   "outputs": [
    {
     "data": {
      "text/html": [
       "\n",
       "\n",
       "    <div class=\"bk-root\">\n",
       "        <div class=\"bk-plotdiv\" id=\"bbf5c37a-1104-424b-8a98-8a18c56889bf\"></div>\n",
       "    </div>\n",
       "<script type=\"text/javascript\">\n",
       "  \n",
       "  (function(global) {\n",
       "    function now() {\n",
       "      return new Date();\n",
       "    }\n",
       "  \n",
       "    var force = false;\n",
       "  \n",
       "    if (typeof (window._bokeh_onload_callbacks) === \"undefined\" || force === true) {\n",
       "      window._bokeh_onload_callbacks = [];\n",
       "      window._bokeh_is_loading = undefined;\n",
       "    }\n",
       "  \n",
       "  \n",
       "    \n",
       "    if (typeof (window._bokeh_timeout) === \"undefined\" || force === true) {\n",
       "      window._bokeh_timeout = Date.now() + 0;\n",
       "      window._bokeh_failed_load = false;\n",
       "    }\n",
       "  \n",
       "    var NB_LOAD_WARNING = {'data': {'text/html':\n",
       "       \"<div style='background-color: #fdd'>\\n\"+\n",
       "       \"<p>\\n\"+\n",
       "       \"BokehJS does not appear to have successfully loaded. If loading BokehJS from CDN, this \\n\"+\n",
       "       \"may be due to a slow or bad network connection. Possible fixes:\\n\"+\n",
       "       \"</p>\\n\"+\n",
       "       \"<ul>\\n\"+\n",
       "       \"<li>re-rerun `output_notebook()` to attempt to load from CDN again, or</li>\\n\"+\n",
       "       \"<li>use INLINE resources instead, as so:</li>\\n\"+\n",
       "       \"</ul>\\n\"+\n",
       "       \"<code>\\n\"+\n",
       "       \"from bokeh.resources import INLINE\\n\"+\n",
       "       \"output_notebook(resources=INLINE)\\n\"+\n",
       "       \"</code>\\n\"+\n",
       "       \"</div>\"}};\n",
       "  \n",
       "    function display_loaded() {\n",
       "      if (window.Bokeh !== undefined) {\n",
       "        var el = document.getElementById(\"bbf5c37a-1104-424b-8a98-8a18c56889bf\");\n",
       "        el.textContent = \"BokehJS \" + Bokeh.version + \" successfully loaded.\";\n",
       "      } else if (Date.now() < window._bokeh_timeout) {\n",
       "        setTimeout(display_loaded, 100)\n",
       "      }\n",
       "    }\n",
       "  \n",
       "    function run_callbacks() {\n",
       "      try {\n",
       "        window._bokeh_onload_callbacks.forEach(function(callback) { callback() });\n",
       "      }\n",
       "      finally {\n",
       "        delete window._bokeh_onload_callbacks\n",
       "      }\n",
       "      console.info(\"Bokeh: all callbacks have finished\");\n",
       "    }\n",
       "  \n",
       "    function load_libs(js_urls, callback) {\n",
       "      window._bokeh_onload_callbacks.push(callback);\n",
       "      if (window._bokeh_is_loading > 0) {\n",
       "        console.log(\"Bokeh: BokehJS is being loaded, scheduling callback at\", now());\n",
       "        return null;\n",
       "      }\n",
       "      if (js_urls == null || js_urls.length === 0) {\n",
       "        run_callbacks();\n",
       "        return null;\n",
       "      }\n",
       "      console.log(\"Bokeh: BokehJS not loaded, scheduling load and callback at\", now());\n",
       "      window._bokeh_is_loading = js_urls.length;\n",
       "      for (var i = 0; i < js_urls.length; i++) {\n",
       "        var url = js_urls[i];\n",
       "        var s = document.createElement('script');\n",
       "        s.src = url;\n",
       "        s.async = false;\n",
       "        s.onreadystatechange = s.onload = function() {\n",
       "          window._bokeh_is_loading--;\n",
       "          if (window._bokeh_is_loading === 0) {\n",
       "            console.log(\"Bokeh: all BokehJS libraries loaded\");\n",
       "            run_callbacks()\n",
       "          }\n",
       "        };\n",
       "        s.onerror = function() {\n",
       "          console.warn(\"failed to load library \" + url);\n",
       "        };\n",
       "        console.log(\"Bokeh: injecting script tag for BokehJS library: \", url);\n",
       "        document.getElementsByTagName(\"head\")[0].appendChild(s);\n",
       "      }\n",
       "    };var element = document.getElementById(\"bbf5c37a-1104-424b-8a98-8a18c56889bf\");\n",
       "    if (element == null) {\n",
       "      console.log(\"Bokeh: ERROR: autoload.js configured with elementid 'bbf5c37a-1104-424b-8a98-8a18c56889bf' but no matching script tag was found. \")\n",
       "      return false;\n",
       "    }\n",
       "  \n",
       "    var js_urls = [];\n",
       "  \n",
       "    var inline_js = [\n",
       "      function(Bokeh) {\n",
       "        (function() {\n",
       "          var fn = function() {\n",
       "            var docs_json = {\"27e042d7-6266-47a4-9b02-99237269b35a\":{\"roots\":{\"references\":[{\"attributes\":{\"axis_label\":\"distance[pc]\",\"formatter\":{\"id\":\"ec140167-beaf-44b0-ab0e-f63a7611cc2d\",\"type\":\"BasicTickFormatter\"},\"plot\":{\"id\":\"291aba36-2cfe-4eb3-9a4e-76485e01d4ce\",\"subtype\":\"Figure\",\"type\":\"Plot\"},\"ticker\":{\"id\":\"6338e873-e316-48b3-88cd-f04d6779f394\",\"type\":\"BasicTicker\"}},\"id\":\"40a0f438-9bd5-4225-8258-f537593c08e6\",\"type\":\"LinearAxis\"},{\"attributes\":{},\"id\":\"ec140167-beaf-44b0-ab0e-f63a7611cc2d\",\"type\":\"BasicTickFormatter\"},{\"attributes\":{\"overlay\":{\"id\":\"249b9f39-473f-416f-9b6b-f9615798b64e\",\"type\":\"BoxAnnotation\"},\"plot\":{\"id\":\"291aba36-2cfe-4eb3-9a4e-76485e01d4ce\",\"subtype\":\"Figure\",\"type\":\"Plot\"}},\"id\":\"a31d8e70-0110-481c-be7f-807187ff4008\",\"type\":\"BoxZoomTool\"},{\"attributes\":{},\"id\":\"7e395842-ef97-45f0-b0ba-4a74a942387a\",\"type\":\"BasicTickFormatter\"},{\"attributes\":{\"bottom_units\":\"screen\",\"fill_alpha\":{\"value\":0.5},\"fill_color\":{\"value\":\"lightgrey\"},\"left_units\":\"screen\",\"level\":\"overlay\",\"line_alpha\":{\"value\":1.0},\"line_color\":{\"value\":\"black\"},\"line_dash\":[4,4],\"line_width\":{\"value\":2},\"plot\":null,\"render_mode\":\"css\",\"right_units\":\"screen\",\"top_units\":\"screen\"},\"id\":\"249b9f39-473f-416f-9b6b-f9615798b64e\",\"type\":\"BoxAnnotation\"},{\"attributes\":{\"fill_alpha\":{\"value\":0.1},\"fill_color\":{\"value\":\"#1f77b4\"},\"line_alpha\":{\"value\":0.1},\"line_color\":{\"value\":\"#1f77b4\"},\"size\":{\"units\":\"screen\",\"value\":8},\"x\":{\"field\":\"x\"},\"y\":{\"field\":\"y\"}},\"id\":\"2c1c554d-19fa-4885-b5c4-dceed162f69c\",\"type\":\"Circle\"},{\"attributes\":{\"fill_alpha\":{\"value\":0.7},\"fill_color\":{\"value\":\"#1f77b4\"},\"line_color\":{\"value\":\"#1f77b4\"},\"size\":{\"units\":\"screen\",\"value\":8},\"x\":{\"field\":\"x\"},\"y\":{\"field\":\"y\"}},\"id\":\"7d4872b0-64eb-420b-a563-20000625a1df\",\"type\":\"Circle\"},{\"attributes\":{\"active_drag\":\"auto\",\"active_inspect\":\"auto\",\"active_scroll\":\"auto\",\"active_tap\":\"auto\",\"tools\":[{\"id\":\"59f6a552-6b84-4271-9c21-e52111612d06\",\"type\":\"PanTool\"},{\"id\":\"80094e88-5b92-49dd-a913-3aa1fa9a207e\",\"type\":\"ResizeTool\"},{\"id\":\"2b07713c-6b22-4225-be0e-4509225a56e5\",\"type\":\"ResetTool\"},{\"id\":\"a31d8e70-0110-481c-be7f-807187ff4008\",\"type\":\"BoxZoomTool\"},{\"id\":\"503fd90e-ad84-478f-8c3f-7571132010cc\",\"type\":\"SaveTool\"},{\"id\":\"b1318e76-41ae-4b56-b292-82cf7882b190\",\"type\":\"HoverTool\"}]},\"id\":\"c0703dd1-d9e1-4856-9c9b-3696c53a2400\",\"type\":\"Toolbar\"},{\"attributes\":{\"click_policy\":\"hide\",\"items\":[{\"id\":\"117b7f8f-79db-4a30-b449-2702c4e99fa5\",\"type\":\"LegendItem\"}],\"plot\":{\"id\":\"291aba36-2cfe-4eb3-9a4e-76485e01d4ce\",\"subtype\":\"Figure\",\"type\":\"Plot\"}},\"id\":\"9d5dd471-e443-4176-9a5d-4285f5fe0e9a\",\"type\":\"Legend\"},{\"attributes\":{},\"id\":\"6338e873-e316-48b3-88cd-f04d6779f394\",\"type\":\"BasicTicker\"},{\"attributes\":{\"below\":[{\"id\":\"40a0f438-9bd5-4225-8258-f537593c08e6\",\"type\":\"LinearAxis\"}],\"left\":[{\"id\":\"cc206c69-237f-4f42-978b-0a92c6c0938a\",\"type\":\"LinearAxis\"}],\"plot_height\":500,\"plot_width\":800,\"renderers\":[{\"id\":\"40a0f438-9bd5-4225-8258-f537593c08e6\",\"type\":\"LinearAxis\"},{\"id\":\"2888c0a7-21a6-42b6-80f4-7792e67be52a\",\"type\":\"Grid\"},{\"id\":\"cc206c69-237f-4f42-978b-0a92c6c0938a\",\"type\":\"LinearAxis\"},{\"id\":\"b8280926-fa2b-43f5-b633-53cb341fead0\",\"type\":\"Grid\"},{\"id\":\"249b9f39-473f-416f-9b6b-f9615798b64e\",\"type\":\"BoxAnnotation\"},{\"id\":\"9d5dd471-e443-4176-9a5d-4285f5fe0e9a\",\"type\":\"Legend\"},{\"id\":\"4317937b-9bf2-441f-9532-520123c0f756\",\"type\":\"GlyphRenderer\"}],\"title\":{\"id\":\"8f5b4c97-989b-4373-af1c-ca7e6b96eeed\",\"type\":\"Title\"},\"tool_events\":{\"id\":\"56e6d016-44f9-47ef-aacd-e58dd08bffbc\",\"type\":\"ToolEvents\"},\"toolbar\":{\"id\":\"c0703dd1-d9e1-4856-9c9b-3696c53a2400\",\"type\":\"Toolbar\"},\"x_range\":{\"id\":\"7fd1ff0b-4af4-425f-a670-d78303fe942a\",\"type\":\"DataRange1d\"},\"x_scale\":{\"id\":\"4f65afdd-255b-49be-bbeb-61cedf3f861a\",\"type\":\"LinearScale\"},\"y_range\":{\"id\":\"ac52a21e-ee9e-4c92-8f3f-6270104a1635\",\"type\":\"DataRange1d\"},\"y_scale\":{\"id\":\"987f35c2-d582-4484-9f66-62b77aa957e0\",\"type\":\"LinearScale\"}},\"id\":\"291aba36-2cfe-4eb3-9a4e-76485e01d4ce\",\"subtype\":\"Figure\",\"type\":\"Plot\"},{\"attributes\":{\"data_source\":{\"id\":\"c9e86b48-43cf-47b2-b1e7-49268dd5c9f4\",\"type\":\"ColumnDataSource\"},\"glyph\":{\"id\":\"7d4872b0-64eb-420b-a563-20000625a1df\",\"type\":\"Circle\"},\"hover_glyph\":null,\"muted_glyph\":null,\"name\":\"photometry\",\"nonselection_glyph\":{\"id\":\"2c1c554d-19fa-4885-b5c4-dceed162f69c\",\"type\":\"Circle\"},\"selection_glyph\":null},\"id\":\"4317937b-9bf2-441f-9532-520123c0f756\",\"type\":\"GlyphRenderer\"},{\"attributes\":{},\"id\":\"4f65afdd-255b-49be-bbeb-61cedf3f861a\",\"type\":\"LinearScale\"},{\"attributes\":{},\"id\":\"987f35c2-d582-4484-9f66-62b77aa957e0\",\"type\":\"LinearScale\"},{\"attributes\":{},\"id\":\"56e6d016-44f9-47ef-aacd-e58dd08bffbc\",\"type\":\"ToolEvents\"},{\"attributes\":{\"plot\":{\"id\":\"291aba36-2cfe-4eb3-9a4e-76485e01d4ce\",\"subtype\":\"Figure\",\"type\":\"Plot\"}},\"id\":\"503fd90e-ad84-478f-8c3f-7571132010cc\",\"type\":\"SaveTool\"},{\"attributes\":{\"axis_label\":\"Teff[K]\",\"formatter\":{\"id\":\"7e395842-ef97-45f0-b0ba-4a74a942387a\",\"type\":\"BasicTickFormatter\"},\"plot\":{\"id\":\"291aba36-2cfe-4eb3-9a4e-76485e01d4ce\",\"subtype\":\"Figure\",\"type\":\"Plot\"},\"ticker\":{\"id\":\"a6901729-eacd-445f-b7f9-c7baff334c07\",\"type\":\"BasicTicker\"}},\"id\":\"cc206c69-237f-4f42-978b-0a92c6c0938a\",\"type\":\"LinearAxis\"},{\"attributes\":{\"callback\":null},\"id\":\"7fd1ff0b-4af4-425f-a670-d78303fe942a\",\"type\":\"DataRange1d\"},{\"attributes\":{\"callback\":null},\"id\":\"ac52a21e-ee9e-4c92-8f3f-6270104a1635\",\"type\":\"DataRange1d\"},{\"attributes\":{\"callback\":null,\"column_names\":[\"x\",\"desc\",\"y\"],\"data\":{\"desc\":[\"2MASS 261832886\",\"2MASS 2618328860\",\"2MASS 2618328861\",\"2MASS 2618328862\",\"2MASS 2618328863\",\"2MASS 2618328864\",\"2MASS 2618328865\",\"2MASS 2618328866\",\"2MASS 2618328867\",\"2MASS 2618328868\",\"2MASS 2618328869\"],\"x\":{\"__ndarray__\":\"CtejcD3igUCamZmZmQ+CQLgehetR/oBASOF6FK67gUBSuB6F6wWBQM3MzMzMYIFAMzMzMzMJgkAUrkfheqSBQHsUrkfhQoJAMzMzMzMzgkBmZmZmZqaBQA==\",\"dtype\":\"float64\",\"shape\":[11]},\"y\":{\"__ndarray__\":\"AAAAAADAqkAAAAAAAOKqQAAAAAAAFKpAAAAAAACkqkAAAAAAABqqQAAAAAAAXqpAAAAAAADeqkAAAAAAAJKqQAAAAAAACKtAAAAAAAD8qkAAAAAAAJSqQA==\",\"dtype\":\"float64\",\"shape\":[11]}}},\"id\":\"c9e86b48-43cf-47b2-b1e7-49268dd5c9f4\",\"type\":\"ColumnDataSource\"},{\"attributes\":{\"label\":{\"value\":\"Photometry\"},\"renderers\":[{\"id\":\"4317937b-9bf2-441f-9532-520123c0f756\",\"type\":\"GlyphRenderer\"}]},\"id\":\"117b7f8f-79db-4a30-b449-2702c4e99fa5\",\"type\":\"LegendItem\"},{\"attributes\":{\"plot\":{\"id\":\"291aba36-2cfe-4eb3-9a4e-76485e01d4ce\",\"subtype\":\"Figure\",\"type\":\"Plot\"},\"ticker\":{\"id\":\"6338e873-e316-48b3-88cd-f04d6779f394\",\"type\":\"BasicTicker\"}},\"id\":\"2888c0a7-21a6-42b6-80f4-7792e67be52a\",\"type\":\"Grid\"},{\"attributes\":{\"plot\":{\"id\":\"291aba36-2cfe-4eb3-9a4e-76485e01d4ce\",\"subtype\":\"Figure\",\"type\":\"Plot\"}},\"id\":\"59f6a552-6b84-4271-9c21-e52111612d06\",\"type\":\"PanTool\"},{\"attributes\":{\"plot\":{\"id\":\"291aba36-2cfe-4eb3-9a4e-76485e01d4ce\",\"subtype\":\"Figure\",\"type\":\"Plot\"}},\"id\":\"2b07713c-6b22-4225-be0e-4509225a56e5\",\"type\":\"ResetTool\"},{\"attributes\":{},\"id\":\"a6901729-eacd-445f-b7f9-c7baff334c07\",\"type\":\"BasicTicker\"},{\"attributes\":{\"plot\":null,\"text\":\"distance v Teff\"},\"id\":\"8f5b4c97-989b-4373-af1c-ca7e6b96eeed\",\"type\":\"Title\"},{\"attributes\":{\"callback\":null,\"plot\":{\"id\":\"291aba36-2cfe-4eb3-9a4e-76485e01d4ce\",\"subtype\":\"Figure\",\"type\":\"Plot\"},\"tooltips\":[[\"Name\",\"@desc\"],[\"distance\",\"@x\"],[\"Teff\",\"@y\"]]},\"id\":\"b1318e76-41ae-4b56-b292-82cf7882b190\",\"type\":\"HoverTool\"},{\"attributes\":{\"plot\":{\"id\":\"291aba36-2cfe-4eb3-9a4e-76485e01d4ce\",\"subtype\":\"Figure\",\"type\":\"Plot\"}},\"id\":\"80094e88-5b92-49dd-a913-3aa1fa9a207e\",\"type\":\"ResizeTool\"},{\"attributes\":{\"dimension\":1,\"plot\":{\"id\":\"291aba36-2cfe-4eb3-9a4e-76485e01d4ce\",\"subtype\":\"Figure\",\"type\":\"Plot\"},\"ticker\":{\"id\":\"a6901729-eacd-445f-b7f9-c7baff334c07\",\"type\":\"BasicTicker\"}},\"id\":\"b8280926-fa2b-43f5-b633-53cb341fead0\",\"type\":\"Grid\"}],\"root_ids\":[\"291aba36-2cfe-4eb3-9a4e-76485e01d4ce\"]},\"title\":\"Bokeh Application\",\"version\":\"0.12.6\"}};\n",
       "            var render_items = [{\"docid\":\"27e042d7-6266-47a4-9b02-99237269b35a\",\"elementid\":\"bbf5c37a-1104-424b-8a98-8a18c56889bf\",\"modelid\":\"291aba36-2cfe-4eb3-9a4e-76485e01d4ce\"}];\n",
       "            \n",
       "            Bokeh.embed.embed_items(docs_json, render_items);\n",
       "          };\n",
       "          if (document.readyState != \"loading\") fn();\n",
       "          else document.addEventListener(\"DOMContentLoaded\", fn);\n",
       "        })();\n",
       "      },\n",
       "      function(Bokeh) {\n",
       "      }\n",
       "    ];\n",
       "  \n",
       "    function run_inline_js() {\n",
       "      \n",
       "      if ((window.Bokeh !== undefined) || (force === true)) {\n",
       "        for (var i = 0; i < inline_js.length; i++) {\n",
       "          inline_js[i](window.Bokeh);\n",
       "        }if (force === true) {\n",
       "          display_loaded();\n",
       "        }} else if (Date.now() < window._bokeh_timeout) {\n",
       "        setTimeout(run_inline_js, 100);\n",
       "      } else if (!window._bokeh_failed_load) {\n",
       "        console.log(\"Bokeh: BokehJS failed to load within specified timeout.\");\n",
       "        window._bokeh_failed_load = true;\n",
       "      } else if (force !== true) {\n",
       "        var cell = $(document.getElementById(\"bbf5c37a-1104-424b-8a98-8a18c56889bf\")).parents('.cell').data().cell;\n",
       "        cell.output_area.append_execute_result(NB_LOAD_WARNING)\n",
       "      }\n",
       "  \n",
       "    }\n",
       "  \n",
       "    if (window._bokeh_is_loading === 0) {\n",
       "      console.log(\"Bokeh: BokehJS loaded, going straight to plotting\");\n",
       "      run_inline_js();\n",
       "    } else {\n",
       "      load_libs(js_urls, function() {\n",
       "        console.log(\"Bokeh: BokehJS plotting callback run at\", now());\n",
       "        run_inline_js();\n",
       "      });\n",
       "    }\n",
       "  }(this));\n",
       "</script>"
      ]
     },
     "metadata": {},
     "output_type": "display_data"
    }
   ],
   "source": [
    "show(cat.plot('distance', 'Teff'))"
   ]
  },
  {
   "cell_type": "markdown",
   "metadata": {},
   "source": [
    "Or plot a CMD! You can also pass the difference of two magnitudes as a string like so."
   ]
  },
  {
   "cell_type": "code",
   "execution_count": 11,
   "metadata": {
    "collapsed": false
   },
   "outputs": [
    {
     "data": {
      "text/html": [
       "\n",
       "\n",
       "    <div class=\"bk-root\">\n",
       "        <div class=\"bk-plotdiv\" id=\"3e2f1de7-ee47-4fbe-b125-a5dcdf227676\"></div>\n",
       "    </div>\n",
       "<script type=\"text/javascript\">\n",
       "  \n",
       "  (function(global) {\n",
       "    function now() {\n",
       "      return new Date();\n",
       "    }\n",
       "  \n",
       "    var force = false;\n",
       "  \n",
       "    if (typeof (window._bokeh_onload_callbacks) === \"undefined\" || force === true) {\n",
       "      window._bokeh_onload_callbacks = [];\n",
       "      window._bokeh_is_loading = undefined;\n",
       "    }\n",
       "  \n",
       "  \n",
       "    \n",
       "    if (typeof (window._bokeh_timeout) === \"undefined\" || force === true) {\n",
       "      window._bokeh_timeout = Date.now() + 0;\n",
       "      window._bokeh_failed_load = false;\n",
       "    }\n",
       "  \n",
       "    var NB_LOAD_WARNING = {'data': {'text/html':\n",
       "       \"<div style='background-color: #fdd'>\\n\"+\n",
       "       \"<p>\\n\"+\n",
       "       \"BokehJS does not appear to have successfully loaded. If loading BokehJS from CDN, this \\n\"+\n",
       "       \"may be due to a slow or bad network connection. Possible fixes:\\n\"+\n",
       "       \"</p>\\n\"+\n",
       "       \"<ul>\\n\"+\n",
       "       \"<li>re-rerun `output_notebook()` to attempt to load from CDN again, or</li>\\n\"+\n",
       "       \"<li>use INLINE resources instead, as so:</li>\\n\"+\n",
       "       \"</ul>\\n\"+\n",
       "       \"<code>\\n\"+\n",
       "       \"from bokeh.resources import INLINE\\n\"+\n",
       "       \"output_notebook(resources=INLINE)\\n\"+\n",
       "       \"</code>\\n\"+\n",
       "       \"</div>\"}};\n",
       "  \n",
       "    function display_loaded() {\n",
       "      if (window.Bokeh !== undefined) {\n",
       "        var el = document.getElementById(\"3e2f1de7-ee47-4fbe-b125-a5dcdf227676\");\n",
       "        el.textContent = \"BokehJS \" + Bokeh.version + \" successfully loaded.\";\n",
       "      } else if (Date.now() < window._bokeh_timeout) {\n",
       "        setTimeout(display_loaded, 100)\n",
       "      }\n",
       "    }\n",
       "  \n",
       "    function run_callbacks() {\n",
       "      try {\n",
       "        window._bokeh_onload_callbacks.forEach(function(callback) { callback() });\n",
       "      }\n",
       "      finally {\n",
       "        delete window._bokeh_onload_callbacks\n",
       "      }\n",
       "      console.info(\"Bokeh: all callbacks have finished\");\n",
       "    }\n",
       "  \n",
       "    function load_libs(js_urls, callback) {\n",
       "      window._bokeh_onload_callbacks.push(callback);\n",
       "      if (window._bokeh_is_loading > 0) {\n",
       "        console.log(\"Bokeh: BokehJS is being loaded, scheduling callback at\", now());\n",
       "        return null;\n",
       "      }\n",
       "      if (js_urls == null || js_urls.length === 0) {\n",
       "        run_callbacks();\n",
       "        return null;\n",
       "      }\n",
       "      console.log(\"Bokeh: BokehJS not loaded, scheduling load and callback at\", now());\n",
       "      window._bokeh_is_loading = js_urls.length;\n",
       "      for (var i = 0; i < js_urls.length; i++) {\n",
       "        var url = js_urls[i];\n",
       "        var s = document.createElement('script');\n",
       "        s.src = url;\n",
       "        s.async = false;\n",
       "        s.onreadystatechange = s.onload = function() {\n",
       "          window._bokeh_is_loading--;\n",
       "          if (window._bokeh_is_loading === 0) {\n",
       "            console.log(\"Bokeh: all BokehJS libraries loaded\");\n",
       "            run_callbacks()\n",
       "          }\n",
       "        };\n",
       "        s.onerror = function() {\n",
       "          console.warn(\"failed to load library \" + url);\n",
       "        };\n",
       "        console.log(\"Bokeh: injecting script tag for BokehJS library: \", url);\n",
       "        document.getElementsByTagName(\"head\")[0].appendChild(s);\n",
       "      }\n",
       "    };var element = document.getElementById(\"3e2f1de7-ee47-4fbe-b125-a5dcdf227676\");\n",
       "    if (element == null) {\n",
       "      console.log(\"Bokeh: ERROR: autoload.js configured with elementid '3e2f1de7-ee47-4fbe-b125-a5dcdf227676' but no matching script tag was found. \")\n",
       "      return false;\n",
       "    }\n",
       "  \n",
       "    var js_urls = [];\n",
       "  \n",
       "    var inline_js = [\n",
       "      function(Bokeh) {\n",
       "        (function() {\n",
       "          var fn = function() {\n",
       "            var docs_json = {\"e5848f7a-3b60-4f65-8960-d28339fa440a\":{\"roots\":{\"references\":[{\"attributes\":{\"below\":[{\"id\":\"44cbbd51-4bf4-4fc8-9b8f-8c1a11b53815\",\"type\":\"LinearAxis\"}],\"left\":[{\"id\":\"c7082540-6e0e-42a5-8358-943766e3361e\",\"type\":\"LinearAxis\"}],\"plot_height\":500,\"plot_width\":800,\"renderers\":[{\"id\":\"44cbbd51-4bf4-4fc8-9b8f-8c1a11b53815\",\"type\":\"LinearAxis\"},{\"id\":\"9c7391f1-d297-4b06-b886-13d18fc2ce35\",\"type\":\"Grid\"},{\"id\":\"c7082540-6e0e-42a5-8358-943766e3361e\",\"type\":\"LinearAxis\"},{\"id\":\"7f9a2e09-5611-45cb-8d13-45309eebdd67\",\"type\":\"Grid\"},{\"id\":\"57595664-2c0e-46f3-96a7-e21530d1f24d\",\"type\":\"BoxAnnotation\"},{\"id\":\"8cc1d41b-97f0-4e7f-9db6-fb92b7f7333f\",\"type\":\"Legend\"},{\"id\":\"9ad2a7d9-8a00-441d-abeb-d08e33e947b5\",\"type\":\"GlyphRenderer\"}],\"title\":{\"id\":\"c3348460-4c17-40b9-86fb-c9c55dabdcc6\",\"type\":\"Title\"},\"tool_events\":{\"id\":\"320e6463-f174-4082-b63a-c308dbd584db\",\"type\":\"ToolEvents\"},\"toolbar\":{\"id\":\"e022f0ec-356e-4370-bbc8-3c83b438129c\",\"type\":\"Toolbar\"},\"x_range\":{\"id\":\"2322ab0f-25ec-4820-9f6f-6c067ab769bf\",\"type\":\"DataRange1d\"},\"x_scale\":{\"id\":\"37800ce8-4b3e-436e-a221-7811b7a3b3a9\",\"type\":\"LinearScale\"},\"y_range\":{\"id\":\"e6e645b9-8710-4c8b-baf9-b4b15b7995ba\",\"type\":\"DataRange1d\"},\"y_scale\":{\"id\":\"28baa9ad-ed68-4ec2-8e72-88a36e26227e\",\"type\":\"LinearScale\"}},\"id\":\"65b53a2c-daa8-4689-a615-494d0c692c33\",\"subtype\":\"Figure\",\"type\":\"Plot\"},{\"attributes\":{\"plot\":null,\"text\":\"2MASS.J-2MASS.Ks v M_2MASS.J\"},\"id\":\"c3348460-4c17-40b9-86fb-c9c55dabdcc6\",\"type\":\"Title\"},{\"attributes\":{\"plot\":{\"id\":\"65b53a2c-daa8-4689-a615-494d0c692c33\",\"subtype\":\"Figure\",\"type\":\"Plot\"}},\"id\":\"a9fb94ab-5817-4548-b390-168b25c80465\",\"type\":\"PanTool\"},{\"attributes\":{},\"id\":\"320e6463-f174-4082-b63a-c308dbd584db\",\"type\":\"ToolEvents\"},{\"attributes\":{\"plot\":{\"id\":\"65b53a2c-daa8-4689-a615-494d0c692c33\",\"subtype\":\"Figure\",\"type\":\"Plot\"}},\"id\":\"af64aee8-67a5-4803-86bc-4e1191d836ad\",\"type\":\"ResetTool\"},{\"attributes\":{\"data_source\":{\"id\":\"397b4c46-fd7f-4b9d-84aa-8bf8059864e4\",\"type\":\"ColumnDataSource\"},\"glyph\":{\"id\":\"a543d227-b85a-42f7-b45e-6af8d0f28954\",\"type\":\"Circle\"},\"hover_glyph\":null,\"muted_glyph\":null,\"name\":\"photometry\",\"nonselection_glyph\":{\"id\":\"3777f729-6d22-49e4-92fd-5d86355df614\",\"type\":\"Circle\"},\"selection_glyph\":null},\"id\":\"9ad2a7d9-8a00-441d-abeb-d08e33e947b5\",\"type\":\"GlyphRenderer\"},{\"attributes\":{\"bottom_units\":\"screen\",\"fill_alpha\":{\"value\":0.5},\"fill_color\":{\"value\":\"lightgrey\"},\"left_units\":\"screen\",\"level\":\"overlay\",\"line_alpha\":{\"value\":1.0},\"line_color\":{\"value\":\"black\"},\"line_dash\":[4,4],\"line_width\":{\"value\":2},\"plot\":null,\"render_mode\":\"css\",\"right_units\":\"screen\",\"top_units\":\"screen\"},\"id\":\"57595664-2c0e-46f3-96a7-e21530d1f24d\",\"type\":\"BoxAnnotation\"},{\"attributes\":{\"axis_label\":\"2MASS.J-2MASS.Ks\",\"formatter\":{\"id\":\"0bd8c8bb-6727-45af-83a0-fdcd6d2f830e\",\"type\":\"BasicTickFormatter\"},\"plot\":{\"id\":\"65b53a2c-daa8-4689-a615-494d0c692c33\",\"subtype\":\"Figure\",\"type\":\"Plot\"},\"ticker\":{\"id\":\"746b589f-3b4c-4f8e-b0d9-f071791190ef\",\"type\":\"BasicTicker\"}},\"id\":\"44cbbd51-4bf4-4fc8-9b8f-8c1a11b53815\",\"type\":\"LinearAxis\"},{\"attributes\":{},\"id\":\"6c879dbe-6758-4560-9447-12e1b31e5a29\",\"type\":\"BasicTickFormatter\"},{\"attributes\":{\"active_drag\":\"auto\",\"active_inspect\":\"auto\",\"active_scroll\":\"auto\",\"active_tap\":\"auto\",\"tools\":[{\"id\":\"a9fb94ab-5817-4548-b390-168b25c80465\",\"type\":\"PanTool\"},{\"id\":\"a55734aa-e45a-4c19-a8a3-6b4980490d40\",\"type\":\"ResizeTool\"},{\"id\":\"af64aee8-67a5-4803-86bc-4e1191d836ad\",\"type\":\"ResetTool\"},{\"id\":\"a270d5bd-0b36-4c8a-9332-93fc66759b3c\",\"type\":\"BoxZoomTool\"},{\"id\":\"b2d09ed0-b752-4708-89a8-0e82bde32b99\",\"type\":\"SaveTool\"},{\"id\":\"c9f56692-48ee-4c4c-9b52-40617c42ee36\",\"type\":\"HoverTool\"}]},\"id\":\"e022f0ec-356e-4370-bbc8-3c83b438129c\",\"type\":\"Toolbar\"},{\"attributes\":{\"click_policy\":\"hide\",\"items\":[{\"id\":\"0f9b2c4b-8941-4ab5-97b8-81a8b161f857\",\"type\":\"LegendItem\"}],\"plot\":{\"id\":\"65b53a2c-daa8-4689-a615-494d0c692c33\",\"subtype\":\"Figure\",\"type\":\"Plot\"}},\"id\":\"8cc1d41b-97f0-4e7f-9db6-fb92b7f7333f\",\"type\":\"Legend\"},{\"attributes\":{},\"id\":\"28baa9ad-ed68-4ec2-8e72-88a36e26227e\",\"type\":\"LinearScale\"},{\"attributes\":{},\"id\":\"746b589f-3b4c-4f8e-b0d9-f071791190ef\",\"type\":\"BasicTicker\"},{\"attributes\":{\"axis_label\":\"M_2MASS.J\",\"formatter\":{\"id\":\"6c879dbe-6758-4560-9447-12e1b31e5a29\",\"type\":\"BasicTickFormatter\"},\"plot\":{\"id\":\"65b53a2c-daa8-4689-a615-494d0c692c33\",\"subtype\":\"Figure\",\"type\":\"Plot\"},\"ticker\":{\"id\":\"9541bc31-b57a-45fa-bfeb-ee1360e887cf\",\"type\":\"BasicTicker\"}},\"id\":\"c7082540-6e0e-42a5-8358-943766e3361e\",\"type\":\"LinearAxis\"},{\"attributes\":{\"fill_alpha\":{\"value\":0.1},\"fill_color\":{\"value\":\"#1f77b4\"},\"line_alpha\":{\"value\":0.1},\"line_color\":{\"value\":\"#1f77b4\"},\"size\":{\"units\":\"screen\",\"value\":8},\"x\":{\"field\":\"x\"},\"y\":{\"field\":\"y\"}},\"id\":\"3777f729-6d22-49e4-92fd-5d86355df614\",\"type\":\"Circle\"},{\"attributes\":{\"plot\":{\"id\":\"65b53a2c-daa8-4689-a615-494d0c692c33\",\"subtype\":\"Figure\",\"type\":\"Plot\"},\"ticker\":{\"id\":\"746b589f-3b4c-4f8e-b0d9-f071791190ef\",\"type\":\"BasicTicker\"}},\"id\":\"9c7391f1-d297-4b06-b886-13d18fc2ce35\",\"type\":\"Grid\"},{\"attributes\":{\"callback\":null,\"column_names\":[\"x\",\"desc\",\"y\"],\"data\":{\"desc\":[\"2MASS 261832886\",\"2MASS 2618328860\",\"2MASS 2618328861\",\"2MASS 2618328862\",\"2MASS 2618328863\",\"2MASS 2618328864\",\"2MASS 2618328865\",\"2MASS 2618328866\",\"2MASS 2618328867\",\"2MASS 2618328868\",\"2MASS 2618328869\"],\"x\":{\"__ndarray__\":\"MAisHFpk6z8wCKwcWmTrPzAIrBxaZOs/MAisHFpk6z8wCKwcWmTrPzAIrBxaZOs/MAisHFpk6z8wCKwcWmTrPzAIrBxaZOs/MAisHFpk6z8wCKwcWmTrPw==\",\"dtype\":\"float64\",\"shape\":[11]},\"y\":{\"__ndarray__\":\"GQRWDmUD50BvEoPAtnjnQLbz/dRox+RAyXa+n5Kg5kDRItv5AtrkQJhuEoP4uuVAHVpkOxdo50AnMQishGXmQOOlm8S8/udAx0s3iZnV50CgGi/dZGrmQA==\",\"dtype\":\"float64\",\"shape\":[11]}}},\"id\":\"397b4c46-fd7f-4b9d-84aa-8bf8059864e4\",\"type\":\"ColumnDataSource\"},{\"attributes\":{\"callback\":null,\"plot\":{\"id\":\"65b53a2c-daa8-4689-a615-494d0c692c33\",\"subtype\":\"Figure\",\"type\":\"Plot\"},\"tooltips\":[[\"Name\",\"@desc\"],[\"2MASS.J-2MASS.Ks\",\"@x\"],[\"M_2MASS.J\",\"@y\"]]},\"id\":\"c9f56692-48ee-4c4c-9b52-40617c42ee36\",\"type\":\"HoverTool\"},{\"attributes\":{\"callback\":null},\"id\":\"e6e645b9-8710-4c8b-baf9-b4b15b7995ba\",\"type\":\"DataRange1d\"},{\"attributes\":{\"callback\":null},\"id\":\"2322ab0f-25ec-4820-9f6f-6c067ab769bf\",\"type\":\"DataRange1d\"},{\"attributes\":{\"plot\":{\"id\":\"65b53a2c-daa8-4689-a615-494d0c692c33\",\"subtype\":\"Figure\",\"type\":\"Plot\"}},\"id\":\"b2d09ed0-b752-4708-89a8-0e82bde32b99\",\"type\":\"SaveTool\"},{\"attributes\":{\"dimension\":1,\"plot\":{\"id\":\"65b53a2c-daa8-4689-a615-494d0c692c33\",\"subtype\":\"Figure\",\"type\":\"Plot\"},\"ticker\":{\"id\":\"9541bc31-b57a-45fa-bfeb-ee1360e887cf\",\"type\":\"BasicTicker\"}},\"id\":\"7f9a2e09-5611-45cb-8d13-45309eebdd67\",\"type\":\"Grid\"},{\"attributes\":{},\"id\":\"37800ce8-4b3e-436e-a221-7811b7a3b3a9\",\"type\":\"LinearScale\"},{\"attributes\":{\"fill_alpha\":{\"value\":0.7},\"fill_color\":{\"value\":\"#1f77b4\"},\"line_color\":{\"value\":\"#1f77b4\"},\"size\":{\"units\":\"screen\",\"value\":8},\"x\":{\"field\":\"x\"},\"y\":{\"field\":\"y\"}},\"id\":\"a543d227-b85a-42f7-b45e-6af8d0f28954\",\"type\":\"Circle\"},{\"attributes\":{\"label\":{\"value\":\"Photometry\"},\"renderers\":[{\"id\":\"9ad2a7d9-8a00-441d-abeb-d08e33e947b5\",\"type\":\"GlyphRenderer\"}]},\"id\":\"0f9b2c4b-8941-4ab5-97b8-81a8b161f857\",\"type\":\"LegendItem\"},{\"attributes\":{},\"id\":\"0bd8c8bb-6727-45af-83a0-fdcd6d2f830e\",\"type\":\"BasicTickFormatter\"},{\"attributes\":{},\"id\":\"9541bc31-b57a-45fa-bfeb-ee1360e887cf\",\"type\":\"BasicTicker\"},{\"attributes\":{\"plot\":{\"id\":\"65b53a2c-daa8-4689-a615-494d0c692c33\",\"subtype\":\"Figure\",\"type\":\"Plot\"}},\"id\":\"a55734aa-e45a-4c19-a8a3-6b4980490d40\",\"type\":\"ResizeTool\"},{\"attributes\":{\"overlay\":{\"id\":\"57595664-2c0e-46f3-96a7-e21530d1f24d\",\"type\":\"BoxAnnotation\"},\"plot\":{\"id\":\"65b53a2c-daa8-4689-a615-494d0c692c33\",\"subtype\":\"Figure\",\"type\":\"Plot\"}},\"id\":\"a270d5bd-0b36-4c8a-9332-93fc66759b3c\",\"type\":\"BoxZoomTool\"}],\"root_ids\":[\"65b53a2c-daa8-4689-a615-494d0c692c33\"]},\"title\":\"Bokeh Application\",\"version\":\"0.12.6\"}};\n",
       "            var render_items = [{\"docid\":\"e5848f7a-3b60-4f65-8960-d28339fa440a\",\"elementid\":\"3e2f1de7-ee47-4fbe-b125-a5dcdf227676\",\"modelid\":\"65b53a2c-daa8-4689-a615-494d0c692c33\"}];\n",
       "            \n",
       "            Bokeh.embed.embed_items(docs_json, render_items);\n",
       "          };\n",
       "          if (document.readyState != \"loading\") fn();\n",
       "          else document.addEventListener(\"DOMContentLoaded\", fn);\n",
       "        })();\n",
       "      },\n",
       "      function(Bokeh) {\n",
       "      }\n",
       "    ];\n",
       "  \n",
       "    function run_inline_js() {\n",
       "      \n",
       "      if ((window.Bokeh !== undefined) || (force === true)) {\n",
       "        for (var i = 0; i < inline_js.length; i++) {\n",
       "          inline_js[i](window.Bokeh);\n",
       "        }if (force === true) {\n",
       "          display_loaded();\n",
       "        }} else if (Date.now() < window._bokeh_timeout) {\n",
       "        setTimeout(run_inline_js, 100);\n",
       "      } else if (!window._bokeh_failed_load) {\n",
       "        console.log(\"Bokeh: BokehJS failed to load within specified timeout.\");\n",
       "        window._bokeh_failed_load = true;\n",
       "      } else if (force !== true) {\n",
       "        var cell = $(document.getElementById(\"3e2f1de7-ee47-4fbe-b125-a5dcdf227676\")).parents('.cell').data().cell;\n",
       "        cell.output_area.append_execute_result(NB_LOAD_WARNING)\n",
       "      }\n",
       "  \n",
       "    }\n",
       "  \n",
       "    if (window._bokeh_is_loading === 0) {\n",
       "      console.log(\"Bokeh: BokehJS loaded, going straight to plotting\");\n",
       "      run_inline_js();\n",
       "    } else {\n",
       "      load_libs(js_urls, function() {\n",
       "        console.log(\"Bokeh: BokehJS plotting callback run at\", now());\n",
       "        run_inline_js();\n",
       "      });\n",
       "    }\n",
       "  }(this));\n",
       "</script>"
      ]
     },
     "metadata": {},
     "output_type": "display_data"
    }
   ],
   "source": [
    "show(cat.plot('2MASS.J-2MASS.Ks', 'M_2MASS.J'))"
   ]
  },
  {
   "cell_type": "markdown",
   "metadata": {},
   "source": [
    "We can then retrieve the SED for a particular source like so:"
   ]
  },
  {
   "cell_type": "code",
   "execution_count": 12,
   "metadata": {
    "collapsed": false
   },
   "outputs": [
    {
     "data": {
      "text/html": [
       "\n",
       "\n",
       "    <div class=\"bk-root\">\n",
       "        <div class=\"bk-plotdiv\" id=\"60177e80-48d2-4066-b90c-f57eae228609\"></div>\n",
       "    </div>\n",
       "<script type=\"text/javascript\">\n",
       "  \n",
       "  (function(global) {\n",
       "    function now() {\n",
       "      return new Date();\n",
       "    }\n",
       "  \n",
       "    var force = false;\n",
       "  \n",
       "    if (typeof (window._bokeh_onload_callbacks) === \"undefined\" || force === true) {\n",
       "      window._bokeh_onload_callbacks = [];\n",
       "      window._bokeh_is_loading = undefined;\n",
       "    }\n",
       "  \n",
       "  \n",
       "    \n",
       "    if (typeof (window._bokeh_timeout) === \"undefined\" || force === true) {\n",
       "      window._bokeh_timeout = Date.now() + 0;\n",
       "      window._bokeh_failed_load = false;\n",
       "    }\n",
       "  \n",
       "    var NB_LOAD_WARNING = {'data': {'text/html':\n",
       "       \"<div style='background-color: #fdd'>\\n\"+\n",
       "       \"<p>\\n\"+\n",
       "       \"BokehJS does not appear to have successfully loaded. If loading BokehJS from CDN, this \\n\"+\n",
       "       \"may be due to a slow or bad network connection. Possible fixes:\\n\"+\n",
       "       \"</p>\\n\"+\n",
       "       \"<ul>\\n\"+\n",
       "       \"<li>re-rerun `output_notebook()` to attempt to load from CDN again, or</li>\\n\"+\n",
       "       \"<li>use INLINE resources instead, as so:</li>\\n\"+\n",
       "       \"</ul>\\n\"+\n",
       "       \"<code>\\n\"+\n",
       "       \"from bokeh.resources import INLINE\\n\"+\n",
       "       \"output_notebook(resources=INLINE)\\n\"+\n",
       "       \"</code>\\n\"+\n",
       "       \"</div>\"}};\n",
       "  \n",
       "    function display_loaded() {\n",
       "      if (window.Bokeh !== undefined) {\n",
       "        var el = document.getElementById(\"60177e80-48d2-4066-b90c-f57eae228609\");\n",
       "        el.textContent = \"BokehJS \" + Bokeh.version + \" successfully loaded.\";\n",
       "      } else if (Date.now() < window._bokeh_timeout) {\n",
       "        setTimeout(display_loaded, 100)\n",
       "      }\n",
       "    }\n",
       "  \n",
       "    function run_callbacks() {\n",
       "      try {\n",
       "        window._bokeh_onload_callbacks.forEach(function(callback) { callback() });\n",
       "      }\n",
       "      finally {\n",
       "        delete window._bokeh_onload_callbacks\n",
       "      }\n",
       "      console.info(\"Bokeh: all callbacks have finished\");\n",
       "    }\n",
       "  \n",
       "    function load_libs(js_urls, callback) {\n",
       "      window._bokeh_onload_callbacks.push(callback);\n",
       "      if (window._bokeh_is_loading > 0) {\n",
       "        console.log(\"Bokeh: BokehJS is being loaded, scheduling callback at\", now());\n",
       "        return null;\n",
       "      }\n",
       "      if (js_urls == null || js_urls.length === 0) {\n",
       "        run_callbacks();\n",
       "        return null;\n",
       "      }\n",
       "      console.log(\"Bokeh: BokehJS not loaded, scheduling load and callback at\", now());\n",
       "      window._bokeh_is_loading = js_urls.length;\n",
       "      for (var i = 0; i < js_urls.length; i++) {\n",
       "        var url = js_urls[i];\n",
       "        var s = document.createElement('script');\n",
       "        s.src = url;\n",
       "        s.async = false;\n",
       "        s.onreadystatechange = s.onload = function() {\n",
       "          window._bokeh_is_loading--;\n",
       "          if (window._bokeh_is_loading === 0) {\n",
       "            console.log(\"Bokeh: all BokehJS libraries loaded\");\n",
       "            run_callbacks()\n",
       "          }\n",
       "        };\n",
       "        s.onerror = function() {\n",
       "          console.warn(\"failed to load library \" + url);\n",
       "        };\n",
       "        console.log(\"Bokeh: injecting script tag for BokehJS library: \", url);\n",
       "        document.getElementsByTagName(\"head\")[0].appendChild(s);\n",
       "      }\n",
       "    };var element = document.getElementById(\"60177e80-48d2-4066-b90c-f57eae228609\");\n",
       "    if (element == null) {\n",
       "      console.log(\"Bokeh: ERROR: autoload.js configured with elementid '60177e80-48d2-4066-b90c-f57eae228609' but no matching script tag was found. \")\n",
       "      return false;\n",
       "    }\n",
       "  \n",
       "    var js_urls = [];\n",
       "  \n",
       "    var inline_js = [\n",
       "      function(Bokeh) {\n",
       "        (function() {\n",
       "          var fn = function() {\n",
       "            var docs_json = {\"5d2dd599-e9ac-4c8a-bae1-e1e11415a8a7\":{\"roots\":{\"references\":[{\"attributes\":{\"axis_label\":\"Wavelength [um]\",\"formatter\":{\"id\":\"ea471572-c346-4ec9-bf9d-82c5af285dde\",\"type\":\"LogTickFormatter\"},\"plot\":{\"id\":\"8719761e-3793-4c77-aa30-102a7482ea75\",\"subtype\":\"Figure\",\"type\":\"Plot\"},\"ticker\":{\"id\":\"cb29e3a1-e380-4323-9a46-3724c6810007\",\"type\":\"LogTicker\"}},\"id\":\"5f5d6fdd-c16e-47e8-84c2-9b820b5291e2\",\"type\":\"LogAxis\"},{\"attributes\":{\"callback\":null,\"end\":21.599999999999998,\"start\":0.24},\"id\":\"d878d6e1-39c8-47c6-bc3f-fc89aad4e23d\",\"type\":\"Range1d\"},{\"attributes\":{\"label\":{\"value\":\"Photometry\"},\"renderers\":[{\"id\":\"1e782f1f-5c99-4345-97d0-9326b7f3e4fd\",\"type\":\"GlyphRenderer\"}]},\"id\":\"ebe177b7-37d2-4c46-8018-66c32763f460\",\"type\":\"LegendItem\"},{\"attributes\":{\"ticker\":null},\"id\":\"ea471572-c346-4ec9-bf9d-82c5af285dde\",\"type\":\"LogTickFormatter\"},{\"attributes\":{\"dimension\":1,\"plot\":{\"id\":\"8719761e-3793-4c77-aa30-102a7482ea75\",\"subtype\":\"Figure\",\"type\":\"Plot\"},\"ticker\":{\"id\":\"e4d4f696-0a4d-4a94-86ef-f7ef402790fc\",\"type\":\"LogTicker\"}},\"id\":\"076e5289-e63d-446c-9376-e117b36183d1\",\"type\":\"Grid\"},{\"attributes\":{\"overlay\":{\"id\":\"3ab31909-45f6-4b2c-8402-e4b0f9fc5587\",\"type\":\"BoxAnnotation\"},\"plot\":{\"id\":\"8719761e-3793-4c77-aa30-102a7482ea75\",\"subtype\":\"Figure\",\"type\":\"Plot\"}},\"id\":\"f57db586-e5df-4949-9ae8-33e58210a5b7\",\"type\":\"BoxZoomTool\"},{\"attributes\":{\"plot\":{\"id\":\"8719761e-3793-4c77-aa30-102a7482ea75\",\"subtype\":\"Figure\",\"type\":\"Plot\"}},\"id\":\"d4456360-24e1-4508-a9ea-163f4f075dd9\",\"type\":\"SaveTool\"},{\"attributes\":{\"callback\":null,\"column_names\":[\"x\",\"desc\",\"z\",\"y\"],\"data\":{\"desc\":[\"b'SDSS.u'\",\"b'SDSS.g'\",\"b'SDSS.r'\",\"b'SDSS.i'\",\"b'SDSS.z'\",\"b'2MASS.J'\",\"b'2MASS.H'\",\"b'2MASS.Ks'\",\"b'WISE.W1'\",\"b'WISE.W2'\"],\"x\":{\"__ndarray__\":\"eNlVRQLD1j+8rNt5kRjePxiqmcIIw+M/iHoI/sn35z9961v8JKHsPxnAPwE21PM//NdpkFRk+j/b9fYklk8BQLb6mJQdHgtAztF7ywKQEkA=\",\"dtype\":\"float64\",\"shape\":[10]},\"y\":{\"__ndarray__\":\"RDnBRQdlezzk+mJun/a9PLYDUURo+Mc8OltTiBIMxzx47lI04d3CPNtLmY+CpMM8OhyIXnJ/uzxe5/b/qLenPEycLGlOs4E84enioNtfZDw=\",\"dtype\":\"float64\",\"shape\":[10]},\"z\":{\"__ndarray__\":\"I5bdy2N4PTxzg8LG2DFFPEYXu/B7m0Y85ORpZ5a8RTytQXIbDz5GPHi6MUv3yXA8AKWu/SzvaTw+fBLcUcRXPMooDj7JKyw8bmUN6nUEFTw=\",\"dtype\":\"float64\",\"shape\":[10]}}},\"id\":\"c8ba8fce-dba3-438a-b72f-e72e4200b621\",\"type\":\"ColumnDataSource\"},{\"attributes\":{\"data_source\":{\"id\":\"c8ba8fce-dba3-438a-b72f-e72e4200b621\",\"type\":\"ColumnDataSource\"},\"glyph\":{\"id\":\"f7dca05a-7751-4563-bc15-978c7370e9ff\",\"type\":\"Circle\"},\"hover_glyph\":null,\"muted_glyph\":null,\"name\":\"photometry\",\"nonselection_glyph\":{\"id\":\"00bd0219-5bef-4298-9e3d-5c97da7f2a86\",\"type\":\"Circle\"},\"selection_glyph\":null},\"id\":\"1e782f1f-5c99-4345-97d0-9326b7f3e4fd\",\"type\":\"GlyphRenderer\"},{\"attributes\":{\"fill_alpha\":{\"value\":0.1},\"fill_color\":{\"value\":\"#1f77b4\"},\"line_alpha\":{\"value\":0.1},\"line_color\":{\"value\":\"#1f77b4\"},\"size\":{\"units\":\"screen\",\"value\":8},\"x\":{\"field\":\"x\"},\"y\":{\"field\":\"y\"}},\"id\":\"00bd0219-5bef-4298-9e3d-5c97da7f2a86\",\"type\":\"Circle\"},{\"attributes\":{},\"id\":\"2617531c-741a-4766-bf70-6c047a71132e\",\"type\":\"LogScale\"},{\"attributes\":{\"data_source\":{\"id\":\"8cd154c3-83de-4349-b37e-66e684e77169\",\"type\":\"ColumnDataSource\"},\"glyph\":{\"id\":\"1a49cb2a-0173-48c5-9f78-bc8e4fbd69bf\",\"type\":\"Circle\"},\"hover_glyph\":null,\"muted_glyph\":null,\"name\":\"nondetection\",\"nonselection_glyph\":{\"id\":\"e91f4912-6ab0-4f5d-bad0-32f608292dc9\",\"type\":\"Circle\"},\"selection_glyph\":null},\"id\":\"1a9d1728-c1be-4ab1-88fc-eab9e11d3401\",\"type\":\"GlyphRenderer\"},{\"attributes\":{\"axis_label\":\"Flux Density [erg / (Angstrom cm2 s)]\",\"formatter\":{\"id\":\"8b3e38dc-e20f-4229-a136-13d06f2e17c9\",\"type\":\"LogTickFormatter\"},\"plot\":{\"id\":\"8719761e-3793-4c77-aa30-102a7482ea75\",\"subtype\":\"Figure\",\"type\":\"Plot\"},\"ticker\":{\"id\":\"e4d4f696-0a4d-4a94-86ef-f7ef402790fc\",\"type\":\"LogTicker\"}},\"id\":\"e655f688-7cb2-4c96-8ce4-d2f3ba7347b8\",\"type\":\"LogAxis\"},{\"attributes\":{\"fill_alpha\":{\"value\":0},\"fill_color\":{\"value\":\"#1f77b4\"},\"line_color\":{\"value\":\"#1f77b4\"},\"size\":{\"units\":\"screen\",\"value\":8},\"x\":{\"field\":\"x\"},\"y\":{\"field\":\"y\"}},\"id\":\"1a49cb2a-0173-48c5-9f78-bc8e4fbd69bf\",\"type\":\"Circle\"},{\"attributes\":{\"plot\":{\"id\":\"8719761e-3793-4c77-aa30-102a7482ea75\",\"subtype\":\"Figure\",\"type\":\"Plot\"}},\"id\":\"59dc99fc-9bb1-4a52-80c1-3becbffc1b19\",\"type\":\"ResetTool\"},{\"attributes\":{\"label\":{\"value\":\"Nondetection\"},\"renderers\":[{\"id\":\"1a9d1728-c1be-4ab1-88fc-eab9e11d3401\",\"type\":\"GlyphRenderer\"}]},\"id\":\"dc9cc4bc-f45c-48d0-aa50-4c62a12d075d\",\"type\":\"LegendItem\"},{\"attributes\":{\"fill_alpha\":{\"value\":0.7},\"fill_color\":{\"value\":\"#1f77b4\"},\"line_color\":{\"value\":\"#1f77b4\"},\"size\":{\"units\":\"screen\",\"value\":8},\"x\":{\"field\":\"x\"},\"y\":{\"field\":\"y\"}},\"id\":\"f7dca05a-7751-4563-bc15-978c7370e9ff\",\"type\":\"Circle\"},{\"attributes\":{\"num_minor_ticks\":10},\"id\":\"cb29e3a1-e380-4323-9a46-3724c6810007\",\"type\":\"LogTicker\"},{\"attributes\":{},\"id\":\"e6b87831-4fe7-4045-a01f-d77f6890937b\",\"type\":\"LogScale\"},{\"attributes\":{\"fill_alpha\":{\"value\":0.1},\"fill_color\":{\"value\":\"#1f77b4\"},\"line_alpha\":{\"value\":0.1},\"line_color\":{\"value\":\"#1f77b4\"},\"size\":{\"units\":\"screen\",\"value\":8},\"x\":{\"field\":\"x\"},\"y\":{\"field\":\"y\"}},\"id\":\"e91f4912-6ab0-4f5d-bad0-32f608292dc9\",\"type\":\"Circle\"},{\"attributes\":{\"ticker\":null},\"id\":\"8b3e38dc-e20f-4229-a136-13d06f2e17c9\",\"type\":\"LogTickFormatter\"},{\"attributes\":{\"callback\":null,\"end\":1.33062122354094e-15,\"start\":2.1105194667034085e-19},\"id\":\"67382d2e-bec0-4f73-9440-7e36d6e4932a\",\"type\":\"Range1d\"},{\"attributes\":{\"active_drag\":\"auto\",\"active_inspect\":\"auto\",\"active_scroll\":\"auto\",\"active_tap\":\"auto\",\"tools\":[{\"id\":\"378ebacb-74b5-4305-b015-831888a18940\",\"type\":\"PanTool\"},{\"id\":\"55095d77-4e0e-4608-8f4e-3c4880525a35\",\"type\":\"ResizeTool\"},{\"id\":\"59dc99fc-9bb1-4a52-80c1-3becbffc1b19\",\"type\":\"ResetTool\"},{\"id\":\"f57db586-e5df-4949-9ae8-33e58210a5b7\",\"type\":\"BoxZoomTool\"},{\"id\":\"d4456360-24e1-4508-a9ea-163f4f075dd9\",\"type\":\"SaveTool\"},{\"id\":\"57af5b80-ae50-42a2-b009-6819383614db\",\"type\":\"HoverTool\"}]},\"id\":\"44dd2315-7b3b-42a4-8a42-6ce3f0b73244\",\"type\":\"Toolbar\"},{\"attributes\":{\"click_policy\":\"hide\",\"items\":[{\"id\":\"ebe177b7-37d2-4c46-8018-66c32763f460\",\"type\":\"LegendItem\"},{\"id\":\"dc9cc4bc-f45c-48d0-aa50-4c62a12d075d\",\"type\":\"LegendItem\"}],\"plot\":{\"id\":\"8719761e-3793-4c77-aa30-102a7482ea75\",\"subtype\":\"Figure\",\"type\":\"Plot\"}},\"id\":\"208a598c-8ed1-436e-9d83-f796c2e88ce5\",\"type\":\"Legend\"},{\"attributes\":{\"callback\":null,\"column_names\":[\"x\",\"desc\",\"z\",\"y\"],\"data\":{\"desc\":[\"b'WISE.W3'\"],\"x\":{\"__ndarray__\":\"z3EboZsiKUA=\",\"dtype\":\"float64\",\"shape\":[1]},\"y\":{\"__ndarray__\":\"Nv9NLlElHzw=\",\"dtype\":\"float64\",\"shape\":[1]},\"z\":{\"__ndarray__\":\"AAAAAAAA+H8=\",\"dtype\":\"float64\",\"shape\":[1]}}},\"id\":\"8cd154c3-83de-4349-b37e-66e684e77169\",\"type\":\"ColumnDataSource\"},{\"attributes\":{\"callback\":null,\"mode\":\"vline\",\"names\":[\"photometry\",\"nondetection\"],\"plot\":{\"id\":\"8719761e-3793-4c77-aa30-102a7482ea75\",\"subtype\":\"Figure\",\"type\":\"Plot\"},\"tooltips\":[[\"Band\",\"@desc\"],[\"Wave\",\"@x\"],[\"Flux\",\"@y\"],[\"Unc\",\"@z\"]]},\"id\":\"57af5b80-ae50-42a2-b009-6819383614db\",\"type\":\"HoverTool\"},{\"attributes\":{\"plot\":null,\"text\":\"2MASS 261832886\"},\"id\":\"4f86dce6-fdd6-48d1-bd7b-d0aba45a6fa4\",\"type\":\"Title\"},{\"attributes\":{\"below\":[{\"id\":\"5f5d6fdd-c16e-47e8-84c2-9b820b5291e2\",\"type\":\"LogAxis\"}],\"left\":[{\"id\":\"e655f688-7cb2-4c96-8ce4-d2f3ba7347b8\",\"type\":\"LogAxis\"}],\"plot_height\":500,\"plot_width\":800,\"renderers\":[{\"id\":\"5f5d6fdd-c16e-47e8-84c2-9b820b5291e2\",\"type\":\"LogAxis\"},{\"id\":\"68fd1983-6968-4a82-8f37-2b98424300ac\",\"type\":\"Grid\"},{\"id\":\"e655f688-7cb2-4c96-8ce4-d2f3ba7347b8\",\"type\":\"LogAxis\"},{\"id\":\"076e5289-e63d-446c-9376-e117b36183d1\",\"type\":\"Grid\"},{\"id\":\"3ab31909-45f6-4b2c-8402-e4b0f9fc5587\",\"type\":\"BoxAnnotation\"},{\"id\":\"208a598c-8ed1-436e-9d83-f796c2e88ce5\",\"type\":\"Legend\"},{\"id\":\"1e782f1f-5c99-4345-97d0-9326b7f3e4fd\",\"type\":\"GlyphRenderer\"},{\"id\":\"1a9d1728-c1be-4ab1-88fc-eab9e11d3401\",\"type\":\"GlyphRenderer\"}],\"title\":{\"id\":\"4f86dce6-fdd6-48d1-bd7b-d0aba45a6fa4\",\"type\":\"Title\"},\"tool_events\":{\"id\":\"206273e0-2129-4ed2-ac7c-aefaf4ef9729\",\"type\":\"ToolEvents\"},\"toolbar\":{\"id\":\"44dd2315-7b3b-42a4-8a42-6ce3f0b73244\",\"type\":\"Toolbar\"},\"x_range\":{\"id\":\"d878d6e1-39c8-47c6-bc3f-fc89aad4e23d\",\"type\":\"Range1d\"},\"x_scale\":{\"id\":\"e6b87831-4fe7-4045-a01f-d77f6890937b\",\"type\":\"LogScale\"},\"y_range\":{\"id\":\"67382d2e-bec0-4f73-9440-7e36d6e4932a\",\"type\":\"Range1d\"},\"y_scale\":{\"id\":\"2617531c-741a-4766-bf70-6c047a71132e\",\"type\":\"LogScale\"}},\"id\":\"8719761e-3793-4c77-aa30-102a7482ea75\",\"subtype\":\"Figure\",\"type\":\"Plot\"},{\"attributes\":{\"num_minor_ticks\":10},\"id\":\"e4d4f696-0a4d-4a94-86ef-f7ef402790fc\",\"type\":\"LogTicker\"},{\"attributes\":{\"plot\":{\"id\":\"8719761e-3793-4c77-aa30-102a7482ea75\",\"subtype\":\"Figure\",\"type\":\"Plot\"}},\"id\":\"55095d77-4e0e-4608-8f4e-3c4880525a35\",\"type\":\"ResizeTool\"},{\"attributes\":{\"plot\":{\"id\":\"8719761e-3793-4c77-aa30-102a7482ea75\",\"subtype\":\"Figure\",\"type\":\"Plot\"}},\"id\":\"378ebacb-74b5-4305-b015-831888a18940\",\"type\":\"PanTool\"},{\"attributes\":{},\"id\":\"206273e0-2129-4ed2-ac7c-aefaf4ef9729\",\"type\":\"ToolEvents\"},{\"attributes\":{\"plot\":{\"id\":\"8719761e-3793-4c77-aa30-102a7482ea75\",\"subtype\":\"Figure\",\"type\":\"Plot\"},\"ticker\":{\"id\":\"cb29e3a1-e380-4323-9a46-3724c6810007\",\"type\":\"LogTicker\"}},\"id\":\"68fd1983-6968-4a82-8f37-2b98424300ac\",\"type\":\"Grid\"},{\"attributes\":{\"bottom_units\":\"screen\",\"fill_alpha\":{\"value\":0.5},\"fill_color\":{\"value\":\"lightgrey\"},\"left_units\":\"screen\",\"level\":\"overlay\",\"line_alpha\":{\"value\":1.0},\"line_color\":{\"value\":\"black\"},\"line_dash\":[4,4],\"line_width\":{\"value\":2},\"plot\":null,\"render_mode\":\"css\",\"right_units\":\"screen\",\"top_units\":\"screen\"},\"id\":\"3ab31909-45f6-4b2c-8402-e4b0f9fc5587\",\"type\":\"BoxAnnotation\"}],\"root_ids\":[\"8719761e-3793-4c77-aa30-102a7482ea75\"]},\"title\":\"Bokeh Application\",\"version\":\"0.12.6\"}};\n",
       "            var render_items = [{\"docid\":\"5d2dd599-e9ac-4c8a-bae1-e1e11415a8a7\",\"elementid\":\"60177e80-48d2-4066-b90c-f57eae228609\",\"modelid\":\"8719761e-3793-4c77-aa30-102a7482ea75\"}];\n",
       "            \n",
       "            Bokeh.embed.embed_items(docs_json, render_items);\n",
       "          };\n",
       "          if (document.readyState != \"loading\") fn();\n",
       "          else document.addEventListener(\"DOMContentLoaded\", fn);\n",
       "        })();\n",
       "      },\n",
       "      function(Bokeh) {\n",
       "      }\n",
       "    ];\n",
       "  \n",
       "    function run_inline_js() {\n",
       "      \n",
       "      if ((window.Bokeh !== undefined) || (force === true)) {\n",
       "        for (var i = 0; i < inline_js.length; i++) {\n",
       "          inline_js[i](window.Bokeh);\n",
       "        }if (force === true) {\n",
       "          display_loaded();\n",
       "        }} else if (Date.now() < window._bokeh_timeout) {\n",
       "        setTimeout(run_inline_js, 100);\n",
       "      } else if (!window._bokeh_failed_load) {\n",
       "        console.log(\"Bokeh: BokehJS failed to load within specified timeout.\");\n",
       "        window._bokeh_failed_load = true;\n",
       "      } else if (force !== true) {\n",
       "        var cell = $(document.getElementById(\"60177e80-48d2-4066-b90c-f57eae228609\")).parents('.cell').data().cell;\n",
       "        cell.output_area.append_execute_result(NB_LOAD_WARNING)\n",
       "      }\n",
       "  \n",
       "    }\n",
       "  \n",
       "    if (window._bokeh_is_loading === 0) {\n",
       "      console.log(\"Bokeh: BokehJS loaded, going straight to plotting\");\n",
       "      run_inline_js();\n",
       "    } else {\n",
       "      load_libs(js_urls, function() {\n",
       "        console.log(\"Bokeh: BokehJS plotting callback run at\", now());\n",
       "        run_inline_js();\n",
       "      });\n",
       "    }\n",
       "  }(this));\n",
       "</script>"
      ]
     },
     "metadata": {},
     "output_type": "display_data"
    }
   ],
   "source": [
    "my_sed = cat.get_SED('2MASS 261832886')\n",
    "fig = my_sed.plot()"
   ]
  },
  {
   "cell_type": "markdown",
   "metadata": {},
   "source": [
    "And save and load from file."
   ]
  },
  {
   "cell_type": "code",
   "execution_count": 13,
   "metadata": {
    "collapsed": false
   },
   "outputs": [
    {
     "ename": "PicklingError",
     "evalue": "Can't pickle <function ColumnDataSource.<lambda> at 0x112503730>: attribute lookup ColumnDataSource.<lambda> on bokeh.models.sources failed",
     "output_type": "error",
     "traceback": [
      "\u001b[0;31m---------------------------------------------------------------------------\u001b[0m",
      "\u001b[0;31mPicklingError\u001b[0m                             Traceback (most recent call last)",
      "\u001b[0;32m<ipython-input-13-63f3f00d16e1>\u001b[0m in \u001b[0;36m<module>\u001b[0;34m()\u001b[0m\n\u001b[0;32m----> 1\u001b[0;31m \u001b[0mcat\u001b[0m\u001b[0;34m.\u001b[0m\u001b[0msave\u001b[0m\u001b[0;34m(\u001b[0m\u001b[0;34m'/Users/jfilippazzo/Desktop/test.p'\u001b[0m\u001b[0;34m)\u001b[0m\u001b[0;34m\u001b[0m\u001b[0m\n\u001b[0m",
      "\u001b[0;32m/Users/jfilippazzo/Documents/Modules/SEDkit/SEDkit/catalog.py\u001b[0m in \u001b[0;36msave\u001b[0;34m(self, file)\u001b[0m\n\u001b[1;32m    317\u001b[0m             \u001b[0;31m# Write the file\u001b[0m\u001b[0;34m\u001b[0m\u001b[0;34m\u001b[0m\u001b[0m\n\u001b[1;32m    318\u001b[0m             \u001b[0mf\u001b[0m \u001b[0;34m=\u001b[0m \u001b[0mopen\u001b[0m\u001b[0;34m(\u001b[0m\u001b[0mfile\u001b[0m\u001b[0;34m,\u001b[0m \u001b[0;34m'wb'\u001b[0m\u001b[0;34m)\u001b[0m\u001b[0;34m\u001b[0m\u001b[0m\n\u001b[0;32m--> 319\u001b[0;31m             \u001b[0mpickle\u001b[0m\u001b[0;34m.\u001b[0m\u001b[0mdump\u001b[0m\u001b[0;34m(\u001b[0m\u001b[0mself\u001b[0m\u001b[0;34m.\u001b[0m\u001b[0mresults\u001b[0m\u001b[0;34m,\u001b[0m \u001b[0mf\u001b[0m\u001b[0;34m,\u001b[0m \u001b[0mpickle\u001b[0m\u001b[0;34m.\u001b[0m\u001b[0mHIGHEST_PROTOCOL\u001b[0m\u001b[0;34m)\u001b[0m\u001b[0;34m\u001b[0m\u001b[0m\n\u001b[0m\u001b[1;32m    320\u001b[0m             \u001b[0mf\u001b[0m\u001b[0;34m.\u001b[0m\u001b[0mclose\u001b[0m\u001b[0;34m(\u001b[0m\u001b[0;34m)\u001b[0m\u001b[0;34m\u001b[0m\u001b[0m\n\u001b[1;32m    321\u001b[0m \u001b[0;34m\u001b[0m\u001b[0m\n",
      "\u001b[0;31mPicklingError\u001b[0m: Can't pickle <function ColumnDataSource.<lambda> at 0x112503730>: attribute lookup ColumnDataSource.<lambda> on bokeh.models.sources failed"
     ]
    }
   ],
   "source": [
    "cat.save('/Users/jfilippazzo/Desktop/test.p')"
   ]
  },
  {
   "cell_type": "code",
   "execution_count": null,
   "metadata": {
    "collapsed": false
   },
   "outputs": [],
   "source": [
    "new = sed.SEDCatalog().load('/Users/jfilippazzo/Desktop/test.p')"
   ]
  },
  {
   "cell_type": "markdown",
   "metadata": {},
   "source": [
    "The catalog can also be filtered by providing a column name and value..."
   ]
  },
  {
   "cell_type": "code",
   "execution_count": 39,
   "metadata": {
    "collapsed": false
   },
   "outputs": [
    {
     "data": {
      "text/html": [
       "<i>QTable length=1</i>\n",
       "<table id=\"table4754561624\" class=\"table-striped table-bordered table-condensed\">\n",
       "<thead><tr><th>name</th><th>age</th><th>age_unc</th><th>distance</th><th>distance_unc</th><th>parallax</th><th>parallax_unc</th><th>radius</th><th>radius_unc</th><th>spectral_type</th><th>spectral_type_unc</th><th>membership</th><th>fbol</th><th>fbol_unc</th><th>mbol</th><th>mbol_unc</th><th>Lbol</th><th>Lbol_unc</th><th>Lbol_sun</th><th>Lbol_sun_unc</th><th>Mbol</th><th>Mbol_unc</th><th>logg</th><th>logg_unc</th><th>mass</th><th>mass_unc</th><th>Teff</th><th>Teff_unc</th><th>SED</th><th>SDSS.u</th><th>SDSS.u_unc</th><th>M_SDSS.u</th><th>M_SDSS.u_unc</th><th>SDSS.g</th><th>SDSS.g_unc</th><th>M_SDSS.g</th><th>M_SDSS.g_unc</th><th>SDSS.r</th><th>SDSS.r_unc</th><th>M_SDSS.r</th><th>M_SDSS.r_unc</th><th>SDSS.i</th><th>SDSS.i_unc</th><th>M_SDSS.i</th><th>M_SDSS.i_unc</th><th>SDSS.z</th><th>SDSS.z_unc</th><th>M_SDSS.z</th><th>M_SDSS.z_unc</th><th>2MASS.J</th><th>2MASS.J_unc</th><th>M_2MASS.J</th><th>M_2MASS.J_unc</th><th>2MASS.H</th><th>2MASS.H_unc</th><th>M_2MASS.H</th><th>M_2MASS.H_unc</th><th>2MASS.Ks</th><th>2MASS.Ks_unc</th><th>M_2MASS.Ks</th><th>M_2MASS.Ks_unc</th><th>WISE.W1</th><th>WISE.W1_unc</th><th>M_WISE.W1</th><th>M_WISE.W1_unc</th><th>WISE.W2</th><th>WISE.W2_unc</th><th>M_WISE.W2</th><th>M_WISE.W2_unc</th><th>WISE.W3</th><th>WISE.W3_unc</th><th>M_WISE.W3</th><th>M_WISE.W3_unc</th></tr></thead>\n",
       "<thead><tr><th></th><th>Myr</th><th>Myr</th><th>pc</th><th>pc</th><th>mas</th><th>mas</th><th>6.957e+08 m</th><th></th><th></th><th></th><th></th><th>erg / (cm2 s)</th><th>erg / (cm2 s)</th><th></th><th></th><th>erg / s</th><th>erg / s</th><th></th><th></th><th></th><th></th><th></th><th></th><th>solMass</th><th>solMass</th><th>K</th><th>K</th><th></th><th></th><th></th><th></th><th></th><th></th><th></th><th></th><th></th><th></th><th></th><th></th><th></th><th></th><th></th><th></th><th></th><th></th><th></th><th></th><th></th><th></th><th></th><th></th><th></th><th></th><th></th><th></th><th></th><th></th><th></th><th></th><th></th><th></th><th></th><th></th><th></th><th></th><th></th><th></th><th></th><th></th><th></th><th></th><th></th></tr></thead>\n",
       "<thead><tr><th>object</th><th>float64</th><th>float64</th><th>float64</th><th>float64</th><th>float64</th><th>float64</th><th>float64</th><th>object</th><th>object</th><th>object</th><th>object</th><th>float64</th><th>float64</th><th>object</th><th>object</th><th>float64</th><th>float64</th><th>object</th><th>object</th><th>object</th><th>object</th><th>object</th><th>object</th><th>float64</th><th>float64</th><th>float64</th><th>float64</th><th>object</th><th>float64</th><th>float64</th><th>float64</th><th>float64</th><th>float64</th><th>float64</th><th>float64</th><th>float64</th><th>float64</th><th>float64</th><th>float64</th><th>float64</th><th>float64</th><th>float64</th><th>float64</th><th>float64</th><th>float64</th><th>float64</th><th>float64</th><th>float64</th><th>float64</th><th>float64</th><th>float64</th><th>float64</th><th>float64</th><th>float64</th><th>float64</th><th>float64</th><th>float64</th><th>float64</th><th>float64</th><th>float64</th><th>float64</th><th>float64</th><th>float64</th><th>float64</th><th>float64</th><th>float64</th><th>float64</th><th>float64</th><th>float64</th><th>float64</th><th>float64</th><th>float64</th></tr></thead>\n",
       "<tr><td>2MASS 2618328861</td><td>6000.0</td><td>4000.0</td><td>598.98</td><td>35.88</td><td>1.6695005640755598</td><td>0.1</td><td>0.8786209573091851</td><td>0.06782337214316517</td><td>60.0</td><td>0.5</td><td>None</td><td>9.344700986227546e-12</td><td>8.891778300076678e-14</td><td>16.092</td><td>0.01</td><td>4.01144652103885e+32</td><td>4.820994360627056e+31</td><td>-0.98</td><td>0.052</td><td>7.205</td><td>0.066</td><td>4.5</td><td>0.07</td><td>0.8896913720017506</td><td>0.0</td><td>3503.0</td><td>171.0</td><td>&lt;SEDkit.sed.SED object at 0x11af7de48&gt;</td><td>20.486</td><td>0.073</td><td>73499.064</td><td>8805.458</td><td>17.779</td><td>0.006</td><td>63786.97</td><td>7641.913</td><td>16.431</td><td>0.004</td><td>58950.656</td><td>7062.505</td><td>15.843</td><td>0.004</td><td>56841.047</td><td>6809.766</td><td>15.514</td><td>0.005</td><td>55660.67</td><td>6668.352</td><td>14.391</td><td>0.029</td><td>51631.604</td><td>6185.656</td><td>13.677</td><td>0.032</td><td>49069.936</td><td>5878.759</td><td>13.535</td><td>0.034</td><td>48560.472</td><td>5817.723</td><td>13.55</td><td>0.027</td><td>48614.289</td><td>5824.17</td><td>13.581</td><td>0.035</td><td>48725.51</td><td>5837.495</td><td>12.884</td><td>0.0</td><td>46224.834</td><td>5537.905</td></tr>\n",
       "</table>"
      ],
      "text/plain": [
       "<QTable length=1>\n",
       "      name         age   age_unc ... WISE.W3_unc M_WISE.W3 M_WISE.W3_unc\n",
       "                   Myr     Myr   ...                                    \n",
       "     object      float64 float64 ...   float64    float64     float64   \n",
       "---------------- ------- ------- ... ----------- --------- -------------\n",
       "2MASS 2618328861  6000.0  4000.0 ...         0.0 46224.834      5537.905"
      ]
     },
     "execution_count": 39,
     "metadata": {},
     "output_type": "execute_result"
    }
   ],
   "source": [
    "cat.filter('name', \"'2MASS 2618328861'\").results"
   ]
  },
  {
   "cell_type": "markdown",
   "metadata": {},
   "source": [
    "...or a wildcard search..."
   ]
  },
  {
   "cell_type": "code",
   "execution_count": 43,
   "metadata": {
    "collapsed": false
   },
   "outputs": [
    {
     "data": {
      "text/html": [
       "<i>QTable length=1</i>\n",
       "<table id=\"table4752776608\" class=\"table-striped table-bordered table-condensed\">\n",
       "<thead><tr><th>name</th><th>age</th><th>age_unc</th><th>distance</th><th>distance_unc</th><th>parallax</th><th>parallax_unc</th><th>radius</th><th>radius_unc</th><th>spectral_type</th><th>spectral_type_unc</th><th>membership</th><th>fbol</th><th>fbol_unc</th><th>mbol</th><th>mbol_unc</th><th>Lbol</th><th>Lbol_unc</th><th>Lbol_sun</th><th>Lbol_sun_unc</th><th>Mbol</th><th>Mbol_unc</th><th>logg</th><th>logg_unc</th><th>mass</th><th>mass_unc</th><th>Teff</th><th>Teff_unc</th><th>SED</th><th>SDSS.u</th><th>SDSS.u_unc</th><th>M_SDSS.u</th><th>M_SDSS.u_unc</th><th>SDSS.g</th><th>SDSS.g_unc</th><th>M_SDSS.g</th><th>M_SDSS.g_unc</th><th>SDSS.r</th><th>SDSS.r_unc</th><th>M_SDSS.r</th><th>M_SDSS.r_unc</th><th>SDSS.i</th><th>SDSS.i_unc</th><th>M_SDSS.i</th><th>M_SDSS.i_unc</th><th>SDSS.z</th><th>SDSS.z_unc</th><th>M_SDSS.z</th><th>M_SDSS.z_unc</th><th>2MASS.J</th><th>2MASS.J_unc</th><th>M_2MASS.J</th><th>M_2MASS.J_unc</th><th>2MASS.H</th><th>2MASS.H_unc</th><th>M_2MASS.H</th><th>M_2MASS.H_unc</th><th>2MASS.Ks</th><th>2MASS.Ks_unc</th><th>M_2MASS.Ks</th><th>M_2MASS.Ks_unc</th><th>WISE.W1</th><th>WISE.W1_unc</th><th>M_WISE.W1</th><th>M_WISE.W1_unc</th><th>WISE.W2</th><th>WISE.W2_unc</th><th>M_WISE.W2</th><th>M_WISE.W2_unc</th><th>WISE.W3</th><th>WISE.W3_unc</th><th>M_WISE.W3</th><th>M_WISE.W3_unc</th></tr></thead>\n",
       "<thead><tr><th></th><th>Myr</th><th>Myr</th><th>pc</th><th>pc</th><th>mas</th><th>mas</th><th>6.957e+08 m</th><th></th><th></th><th></th><th></th><th>erg / (cm2 s)</th><th>erg / (cm2 s)</th><th></th><th></th><th>erg / s</th><th>erg / s</th><th></th><th></th><th></th><th></th><th></th><th></th><th>solMass</th><th>solMass</th><th>K</th><th>K</th><th></th><th></th><th></th><th></th><th></th><th></th><th></th><th></th><th></th><th></th><th></th><th></th><th></th><th></th><th></th><th></th><th></th><th></th><th></th><th></th><th></th><th></th><th></th><th></th><th></th><th></th><th></th><th></th><th></th><th></th><th></th><th></th><th></th><th></th><th></th><th></th><th></th><th></th><th></th><th></th><th></th><th></th><th></th><th></th><th></th></tr></thead>\n",
       "<thead><tr><th>object</th><th>float64</th><th>float64</th><th>float64</th><th>float64</th><th>float64</th><th>float64</th><th>float64</th><th>object</th><th>object</th><th>object</th><th>object</th><th>float64</th><th>float64</th><th>object</th><th>object</th><th>float64</th><th>float64</th><th>object</th><th>object</th><th>object</th><th>object</th><th>object</th><th>object</th><th>float64</th><th>float64</th><th>float64</th><th>float64</th><th>object</th><th>float64</th><th>float64</th><th>float64</th><th>float64</th><th>float64</th><th>float64</th><th>float64</th><th>float64</th><th>float64</th><th>float64</th><th>float64</th><th>float64</th><th>float64</th><th>float64</th><th>float64</th><th>float64</th><th>float64</th><th>float64</th><th>float64</th><th>float64</th><th>float64</th><th>float64</th><th>float64</th><th>float64</th><th>float64</th><th>float64</th><th>float64</th><th>float64</th><th>float64</th><th>float64</th><th>float64</th><th>float64</th><th>float64</th><th>float64</th><th>float64</th><th>float64</th><th>float64</th><th>float64</th><th>float64</th><th>float64</th><th>float64</th><th>float64</th><th>float64</th><th>float64</th></tr></thead>\n",
       "<tr><td>2MASS 2618328861</td><td>6000.0</td><td>4000.0</td><td>598.98</td><td>35.88</td><td>1.6695005640755598</td><td>0.1</td><td>0.8786209573091851</td><td>0.06782337214316517</td><td>60.0</td><td>0.5</td><td>None</td><td>9.344700986227546e-12</td><td>8.891778300076678e-14</td><td>16.092</td><td>0.01</td><td>4.01144652103885e+32</td><td>4.820994360627056e+31</td><td>-0.98</td><td>0.052</td><td>7.205</td><td>0.066</td><td>4.5</td><td>0.07</td><td>0.8896913720017506</td><td>0.0</td><td>3503.0</td><td>171.0</td><td>&lt;SEDkit.sed.SED object at 0x11af7de48&gt;</td><td>20.486</td><td>0.073</td><td>73499.064</td><td>8805.458</td><td>17.779</td><td>0.006</td><td>63786.97</td><td>7641.913</td><td>16.431</td><td>0.004</td><td>58950.656</td><td>7062.505</td><td>15.843</td><td>0.004</td><td>56841.047</td><td>6809.766</td><td>15.514</td><td>0.005</td><td>55660.67</td><td>6668.352</td><td>14.391</td><td>0.029</td><td>51631.604</td><td>6185.656</td><td>13.677</td><td>0.032</td><td>49069.936</td><td>5878.759</td><td>13.535</td><td>0.034</td><td>48560.472</td><td>5817.723</td><td>13.55</td><td>0.027</td><td>48614.289</td><td>5824.17</td><td>13.581</td><td>0.035</td><td>48725.51</td><td>5837.495</td><td>12.884</td><td>0.0</td><td>46224.834</td><td>5537.905</td></tr>\n",
       "</table>"
      ],
      "text/plain": [
       "<QTable length=1>\n",
       "      name         age   age_unc ... WISE.W3_unc M_WISE.W3 M_WISE.W3_unc\n",
       "                   Myr     Myr   ...                                    \n",
       "     object      float64 float64 ...   float64    float64     float64   \n",
       "---------------- ------- ------- ... ----------- --------- -------------\n",
       "2MASS 2618328861  6000.0  4000.0 ...         0.0 46224.834      5537.905"
      ]
     },
     "execution_count": 43,
     "metadata": {},
     "output_type": "execute_result"
    }
   ],
   "source": [
    "cat.filter('name', \"*328861\").results"
   ]
  },
  {
   "cell_type": "markdown",
   "metadata": {},
   "source": [
    "... or an argument with an operator..."
   ]
  },
  {
   "cell_type": "code",
   "execution_count": 41,
   "metadata": {
    "collapsed": false
   },
   "outputs": [
    {
     "data": {
      "text/html": [
       "<i>QTable length=11</i>\n",
       "<table id=\"table4756319256\" class=\"table-striped table-bordered table-condensed\">\n",
       "<thead><tr><th>name</th><th>age</th><th>age_unc</th><th>distance</th><th>distance_unc</th><th>parallax</th><th>parallax_unc</th><th>radius</th><th>radius_unc</th><th>spectral_type</th><th>spectral_type_unc</th><th>membership</th><th>fbol</th><th>fbol_unc</th><th>mbol</th><th>mbol_unc</th><th>Lbol</th><th>Lbol_unc</th><th>Lbol_sun</th><th>Lbol_sun_unc</th><th>Mbol</th><th>Mbol_unc</th><th>logg</th><th>logg_unc</th><th>mass</th><th>mass_unc</th><th>Teff</th><th>Teff_unc</th><th>SED</th><th>SDSS.u</th><th>SDSS.u_unc</th><th>M_SDSS.u</th><th>M_SDSS.u_unc</th><th>SDSS.g</th><th>SDSS.g_unc</th><th>M_SDSS.g</th><th>M_SDSS.g_unc</th><th>SDSS.r</th><th>SDSS.r_unc</th><th>M_SDSS.r</th><th>M_SDSS.r_unc</th><th>SDSS.i</th><th>SDSS.i_unc</th><th>M_SDSS.i</th><th>M_SDSS.i_unc</th><th>SDSS.z</th><th>SDSS.z_unc</th><th>M_SDSS.z</th><th>M_SDSS.z_unc</th><th>2MASS.J</th><th>2MASS.J_unc</th><th>M_2MASS.J</th><th>M_2MASS.J_unc</th><th>2MASS.H</th><th>2MASS.H_unc</th><th>M_2MASS.H</th><th>M_2MASS.H_unc</th><th>2MASS.Ks</th><th>2MASS.Ks_unc</th><th>M_2MASS.Ks</th><th>M_2MASS.Ks_unc</th><th>WISE.W1</th><th>WISE.W1_unc</th><th>M_WISE.W1</th><th>M_WISE.W1_unc</th><th>WISE.W2</th><th>WISE.W2_unc</th><th>M_WISE.W2</th><th>M_WISE.W2_unc</th><th>WISE.W3</th><th>WISE.W3_unc</th><th>M_WISE.W3</th><th>M_WISE.W3_unc</th></tr></thead>\n",
       "<thead><tr><th></th><th>Myr</th><th>Myr</th><th>pc</th><th>pc</th><th>mas</th><th>mas</th><th>6.957e+08 m</th><th></th><th></th><th></th><th></th><th>erg / (cm2 s)</th><th>erg / (cm2 s)</th><th></th><th></th><th>erg / s</th><th>erg / s</th><th></th><th></th><th></th><th></th><th></th><th></th><th>solMass</th><th>solMass</th><th>K</th><th>K</th><th></th><th></th><th></th><th></th><th></th><th></th><th></th><th></th><th></th><th></th><th></th><th></th><th></th><th></th><th></th><th></th><th></th><th></th><th></th><th></th><th></th><th></th><th></th><th></th><th></th><th></th><th></th><th></th><th></th><th></th><th></th><th></th><th></th><th></th><th></th><th></th><th></th><th></th><th></th><th></th><th></th><th></th><th></th><th></th><th></th></tr></thead>\n",
       "<thead><tr><th>object</th><th>float64</th><th>float64</th><th>float64</th><th>float64</th><th>float64</th><th>float64</th><th>float64</th><th>object</th><th>object</th><th>object</th><th>object</th><th>float64</th><th>float64</th><th>object</th><th>object</th><th>float64</th><th>float64</th><th>object</th><th>object</th><th>object</th><th>object</th><th>object</th><th>object</th><th>float64</th><th>float64</th><th>float64</th><th>float64</th><th>object</th><th>float64</th><th>float64</th><th>float64</th><th>float64</th><th>float64</th><th>float64</th><th>float64</th><th>float64</th><th>float64</th><th>float64</th><th>float64</th><th>float64</th><th>float64</th><th>float64</th><th>float64</th><th>float64</th><th>float64</th><th>float64</th><th>float64</th><th>float64</th><th>float64</th><th>float64</th><th>float64</th><th>float64</th><th>float64</th><th>float64</th><th>float64</th><th>float64</th><th>float64</th><th>float64</th><th>float64</th><th>float64</th><th>float64</th><th>float64</th><th>float64</th><th>float64</th><th>float64</th><th>float64</th><th>float64</th><th>float64</th><th>float64</th><th>float64</th><th>float64</th><th>float64</th></tr></thead>\n",
       "<tr><td>2MASS 261832886</td><td>6000.0</td><td>4000.0</td><td>572.28</td><td>16.41</td><td>1.7474</td><td>0.0501</td><td>0.8786209573091851</td><td>0.06782337214316517</td><td>60.0</td><td>0.5</td><td>None</td><td>9.344700986227546e-12</td><td>8.891778300076678e-14</td><td>16.092</td><td>0.01</td><td>3.66179055973561e+32</td><td>2.1287295997847215e+31</td><td>-1.019</td><td>0.025</td><td>7.304</td><td>0.033</td><td>4.5</td><td>0.07</td><td>0.8896913720017506</td><td>0.0</td><td>3424.0</td><td>141.0</td><td>&lt;SEDkit.sed.SED object at 0x11a1bdac8&gt;</td><td>20.486</td><td>0.073</td><td>67092.551</td><td>3847.73</td><td>17.779</td><td>0.006</td><td>58227.007</td><td>3339.293</td><td>16.431</td><td>0.004</td><td>53812.248</td><td>3086.108</td><td>15.843</td><td>0.004</td><td>51886.522</td><td>2975.669</td><td>15.514</td><td>0.005</td><td>50809.032</td><td>2913.875</td><td>14.391</td><td>0.029</td><td>47131.158</td><td>2702.951</td><td>13.677</td><td>0.032</td><td>44792.777</td><td>2568.846</td><td>13.535</td><td>0.034</td><td>44327.72</td><td>2542.176</td><td>13.55</td><td>0.027</td><td>44376.846</td><td>2544.993</td><td>13.581</td><td>0.035</td><td>44478.372</td><td>2550.815</td><td>12.884</td><td>0.0</td><td>42195.667</td><td>2419.902</td></tr>\n",
       "<tr><td>2MASS 2618328860</td><td>6000.0</td><td>4000.0</td><td>572.64</td><td>32.79</td><td>1.7463009673899073</td><td>0.1</td><td>0.8786209573091851</td><td>0.06782337214316517</td><td>60.0</td><td>0.5</td><td>None</td><td>9.344700986227546e-12</td><td>8.891778300076678e-14</td><td>16.092</td><td>0.01</td><td>3.6663990004665696e+32</td><td>4.2133096135621395e+31</td><td>-1.019</td><td>0.05</td><td>7.303</td><td>0.063</td><td>4.5</td><td>0.07</td><td>0.8896913720017506</td><td>0.0</td><td>3425.0</td><td>164.0</td><td>&lt;SEDkit.sed.SED object at 0x11afe1ef0&gt;</td><td>20.486</td><td>0.073</td><td>67176.988</td><td>7693.259</td><td>17.779</td><td>0.006</td><td>58300.287</td><td>6676.678</td><td>16.431</td><td>0.004</td><td>53879.972</td><td>6170.454</td><td>15.843</td><td>0.004</td><td>51951.822</td><td>5949.638</td><td>15.514</td><td>0.005</td><td>50872.977</td><td>5826.086</td><td>14.391</td><td>0.029</td><td>47190.474</td><td>5404.358</td><td>13.677</td><td>0.032</td><td>44849.149</td><td>5136.224</td><td>13.535</td><td>0.034</td><td>44383.508</td><td>5082.898</td><td>13.55</td><td>0.027</td><td>44432.695</td><td>5088.531</td><td>13.581</td><td>0.035</td><td>44534.349</td><td>5100.173</td><td>12.884</td><td>0.0</td><td>42248.771</td><td>4838.423</td></tr>\n",
       "<tr><td>2MASS 2618328861</td><td>6000.0</td><td>4000.0</td><td>598.98</td><td>35.88</td><td>1.6695005640755598</td><td>0.1</td><td>0.8786209573091851</td><td>0.06782337214316517</td><td>60.0</td><td>0.5</td><td>None</td><td>9.344700986227546e-12</td><td>8.891778300076678e-14</td><td>16.092</td><td>0.01</td><td>4.01144652103885e+32</td><td>4.820994360627056e+31</td><td>-0.98</td><td>0.052</td><td>7.205</td><td>0.066</td><td>4.5</td><td>0.07</td><td>0.8896913720017506</td><td>0.0</td><td>3503.0</td><td>171.0</td><td>&lt;SEDkit.sed.SED object at 0x11af7de48&gt;</td><td>20.486</td><td>0.073</td><td>73499.064</td><td>8805.458</td><td>17.779</td><td>0.006</td><td>63786.97</td><td>7641.913</td><td>16.431</td><td>0.004</td><td>58950.656</td><td>7062.505</td><td>15.843</td><td>0.004</td><td>56841.047</td><td>6809.766</td><td>15.514</td><td>0.005</td><td>55660.67</td><td>6668.352</td><td>14.391</td><td>0.029</td><td>51631.604</td><td>6185.656</td><td>13.677</td><td>0.032</td><td>49069.936</td><td>5878.759</td><td>13.535</td><td>0.034</td><td>48560.472</td><td>5817.723</td><td>13.55</td><td>0.027</td><td>48614.289</td><td>5824.17</td><td>13.581</td><td>0.035</td><td>48725.51</td><td>5837.495</td><td>12.884</td><td>0.0</td><td>46224.834</td><td>5537.905</td></tr>\n",
       "<tr><td>2MASS 2618328862</td><td>6000.0</td><td>4000.0</td><td>569.45</td><td>32.43</td><td>1.7560932438236598</td><td>0.1</td><td>0.8786209573091851</td><td>0.06782337214316517</td><td>60.0</td><td>0.5</td><td>None</td><td>9.344700986227546e-12</td><td>8.891778300076678e-14</td><td>16.092</td><td>0.01</td><td>3.62566403281865e+32</td><td>4.143994293920703e+31</td><td>-1.024</td><td>0.05</td><td>7.315</td><td>0.063</td><td>4.5</td><td>0.07</td><td>0.8896913720017506</td><td>0.0</td><td>3416.0</td><td>164.0</td><td>&lt;SEDkit.sed.SED object at 0x11afbc358&gt;</td><td>20.486</td><td>0.073</td><td>66430.629</td><td>7566.408</td><td>17.779</td><td>0.006</td><td>57652.55</td><td>6566.59</td><td>16.431</td><td>0.004</td><td>53281.346</td><td>6068.712</td><td>15.843</td><td>0.004</td><td>51374.619</td><td>5851.537</td><td>15.514</td><td>0.005</td><td>50307.76</td><td>5730.023</td><td>14.391</td><td>0.029</td><td>46666.171</td><td>5315.248</td><td>13.677</td><td>0.032</td><td>44350.86</td><td>5051.536</td><td>13.535</td><td>0.034</td><td>43890.391</td><td>4999.089</td><td>13.55</td><td>0.027</td><td>43939.032</td><td>5004.629</td><td>13.581</td><td>0.035</td><td>44039.557</td><td>5016.079</td><td>12.884</td><td>0.0</td><td>41779.372</td><td>4758.644</td></tr>\n",
       "<tr><td>2MASS 2618328863</td><td>6000.0</td><td>4000.0</td><td>553.68</td><td>30.66</td><td>1.806107628449766</td><td>0.1</td><td>0.8786209573091851</td><td>0.06782337214316517</td><td>60.0</td><td>0.5</td><td>None</td><td>9.344700986227546e-12</td><td>8.891778300076678e-14</td><td>16.092</td><td>0.01</td><td>3.427630796479428e+32</td><td>3.810082567843585e+31</td><td>-1.048</td><td>0.048</td><td>7.376</td><td>0.061</td><td>4.5</td><td>0.07</td><td>0.8896913720017506</td><td>0.0</td><td>3368.0</td><td>160.0</td><td>&lt;SEDkit.sed.SED object at 0x11afc77f0&gt;</td><td>20.486</td><td>0.073</td><td>62802.198</td><td>6955.338</td><td>17.779</td><td>0.006</td><td>54503.577</td><td>6036.265</td><td>16.431</td><td>0.004</td><td>50371.127</td><td>5578.597</td><td>15.843</td><td>0.004</td><td>48568.545</td><td>5378.961</td><td>15.514</td><td>0.005</td><td>47559.958</td><td>5267.26</td><td>14.391</td><td>0.029</td><td>44117.272</td><td>4885.983</td><td>13.677</td><td>0.032</td><td>41928.422</td><td>4643.569</td><td>13.535</td><td>0.034</td><td>41493.105</td><td>4595.357</td><td>13.55</td><td>0.027</td><td>41539.089</td><td>4600.45</td><td>13.581</td><td>0.035</td><td>41634.123</td><td>4610.975</td><td>12.884</td><td>0.0</td><td>39497.389</td><td>4374.332</td></tr>\n",
       "<tr><td>2MASS 2618328864</td><td>6000.0</td><td>4000.0</td><td>631.06</td><td>39.82</td><td>1.5846352301725524</td><td>0.1</td><td>0.8786209573091851</td><td>0.06782337214316517</td><td>60.0</td><td>0.5</td><td>None</td><td>9.344700986227546e-12</td><td>8.891778300076678e-14</td><td>16.092</td><td>0.01</td><td>4.452640887092645e+32</td><td>5.63519877290763e+31</td><td>-0.934</td><td>0.055</td><td>7.092</td><td>0.069</td><td>4.5</td><td>0.07</td><td>0.8896913720017506</td><td>0.0</td><td>3596.0</td><td>179.0</td><td>&lt;SEDkit.sed.SED object at 0x11b279f28&gt;</td><td>20.486</td><td>0.073</td><td>81582.775</td><td>10295.777</td><td>17.779</td><td>0.006</td><td>70802.507</td><td>8935.302</td><td>16.431</td><td>0.004</td><td>65434.276</td><td>8257.829</td><td>15.843</td><td>0.004</td><td>63092.644</td><td>7962.314</td><td>15.514</td><td>0.005</td><td>61782.445</td><td>7796.967</td><td>14.391</td><td>0.029</td><td>57310.247</td><td>7232.574</td><td>13.677</td><td>0.032</td><td>54466.837</td><td>6873.735</td><td>13.535</td><td>0.034</td><td>53901.341</td><td>6802.369</td><td>13.55</td><td>0.027</td><td>53961.076</td><td>6809.908</td><td>13.581</td><td>0.035</td><td>54084.529</td><td>6825.488</td><td>12.884</td><td>0.0</td><td>51308.819</td><td>6475.192</td></tr>\n",
       "<tr><td>2MASS 2618328865</td><td>6000.0</td><td>4000.0</td><td>679.4</td><td>46.16</td><td>1.4718910299575758</td><td>0.1</td><td>0.8786209573091851</td><td>0.06782337214316517</td><td>60.0</td><td>0.5</td><td>None</td><td>9.344700986227546e-12</td><td>8.891778300076678e-14</td><td>16.092</td><td>0.01</td><td>5.160923823396209e+32</td><td>7.030073747150481e+31</td><td>-0.87</td><td>0.059</td><td>6.931</td><td>0.074</td><td>4.5</td><td>0.07</td><td>0.8896913720017506</td><td>0.0</td><td>3731.0</td><td>192.0</td><td>&lt;SEDkit.sed.SED object at 0x11b28e9e8&gt;</td><td>20.486</td><td>0.073</td><td>94560.172</td><td>12849.272</td><td>17.779</td><td>0.006</td><td>82065.083</td><td>11151.381</td><td>16.431</td><td>0.004</td><td>75842.926</td><td>10305.886</td><td>15.843</td><td>0.004</td><td>73128.81</td><td>9937.079</td><td>15.514</td><td>0.005</td><td>71610.198</td><td>9730.723</td><td>14.391</td><td>0.029</td><td>66426.605</td><td>9026.353</td><td>13.677</td><td>0.032</td><td>63130.893</td><td>8578.517</td><td>13.535</td><td>0.034</td><td>62475.443</td><td>8489.451</td><td>13.55</td><td>0.027</td><td>62544.681</td><td>8498.859</td><td>13.581</td><td>0.035</td><td>62687.772</td><td>8518.303</td><td>12.884</td><td>0.0</td><td>59470.529</td><td>8081.129</td></tr>\n",
       "<tr><td>2MASS 2618328866</td><td>6000.0</td><td>4000.0</td><td>545.1</td><td>29.71</td><td>1.8345300679365895</td><td>0.1</td><td>0.8786209573091851</td><td>0.06782337214316517</td><td>60.0</td><td>0.5</td><td>None</td><td>9.344700986227546e-12</td><td>8.891778300076678e-14</td><td>16.092</td><td>0.01</td><td>3.322222596429064e+32</td><td>3.6352434585597333e+31</td><td>-1.062</td><td>0.048</td><td>7.41</td><td>0.06</td><td>4.5</td><td>0.07</td><td>0.8896913720017506</td><td>0.0</td><td>3342.0</td><td>158.0</td><td>&lt;SEDkit.sed.SED object at 0x11b205ba8&gt;</td><td>20.486</td><td>0.073</td><td>60870.873</td><td>6635.384</td><td>17.779</td><td>0.006</td><td>52827.456</td><td>5758.59</td><td>16.431</td><td>0.004</td><td>48822.089</td><td>5321.975</td><td>15.843</td><td>0.004</td><td>47074.941</td><td>5131.523</td><td>15.514</td><td>0.005</td><td>46097.37</td><td>5024.96</td><td>14.391</td><td>0.029</td><td>42760.555</td><td>4661.222</td><td>13.677</td><td>0.032</td><td>40639.019</td><td>4429.959</td><td>13.535</td><td>0.034</td><td>40217.088</td><td>4383.966</td><td>13.55</td><td>0.027</td><td>40261.658</td><td>4388.824</td><td>13.581</td><td>0.035</td><td>40353.77</td><td>4398.865</td><td>12.884</td><td>0.0</td><td>38282.746</td><td>4173.107</td></tr>\n",
       "<tr><td>2MASS 2618328867</td><td>6000.0</td><td>4000.0</td><td>593.89</td><td>35.27</td><td>1.6838003958452172</td><td>0.1</td><td>0.8786209573091851</td><td>0.06782337214316517</td><td>60.0</td><td>0.5</td><td>None</td><td>9.344700986227546e-12</td><td>8.891778300076678e-14</td><td>16.092</td><td>0.01</td><td>3.9435594201540144e+32</td><td>4.69901672434641e+31</td><td>-0.987</td><td>0.052</td><td>7.223</td><td>0.065</td><td>4.5</td><td>0.07</td><td>0.8896913720017506</td><td>0.0</td><td>3488.0</td><td>170.0</td><td>&lt;SEDkit.sed.SED object at 0x11b2abe10&gt;</td><td>20.486</td><td>0.073</td><td>72255.214</td><td>8582.201</td><td>17.779</td><td>0.006</td><td>62707.481</td><td>7448.157</td><td>16.431</td><td>0.004</td><td>57953.013</td><td>6883.439</td><td>15.843</td><td>0.004</td><td>55879.106</td><td>6637.108</td><td>15.514</td><td>0.005</td><td>54718.705</td><td>6499.28</td><td>14.391</td><td>0.029</td><td>50757.824</td><td>6028.822</td><td>13.677</td><td>0.032</td><td>48239.508</td><td>5729.706</td><td>13.535</td><td>0.034</td><td>47738.667</td><td>5670.218</td><td>13.55</td><td>0.027</td><td>47791.572</td><td>5676.502</td><td>13.581</td><td>0.035</td><td>47900.911</td><td>5689.489</td><td>12.884</td><td>0.0</td><td>45442.555</td><td>5397.494</td></tr>\n",
       "<tr><td>2MASS 2618328868</td><td>6000.0</td><td>4000.0</td><td>596.87</td><td>35.63</td><td>1.6754129960850157</td><td>0.1</td><td>0.8786209573091851</td><td>0.06782337214316517</td><td>60.0</td><td>0.5</td><td>None</td><td>9.344700986227546e-12</td><td>8.891778300076678e-14</td><td>16.092</td><td>0.01</td><td>3.9832344137408915e+32</td><td>4.770642816474678e+31</td><td>-0.983</td><td>0.052</td><td>7.213</td><td>0.066</td><td>4.5</td><td>0.07</td><td>0.8896913720017506</td><td>0.0</td><td>3497.0</td><td>170.0</td><td>&lt;SEDkit.sed.SED object at 0x11b2c3e80&gt;</td><td>20.486</td><td>0.073</td><td>72982.153</td><td>8713.302</td><td>17.779</td><td>0.006</td><td>63338.363</td><td>7561.934</td><td>16.431</td><td>0.004</td><td>58536.061</td><td>6988.59</td><td>15.843</td><td>0.004</td><td>56441.289</td><td>6738.496</td><td>15.514</td><td>0.005</td><td>55269.214</td><td>6598.563</td><td>14.391</td><td>0.029</td><td>51268.484</td><td>6120.918</td><td>13.677</td><td>0.032</td><td>48724.832</td><td>5817.233</td><td>13.535</td><td>0.034</td><td>48218.951</td><td>5756.836</td><td>13.55</td><td>0.027</td><td>48272.389</td><td>5763.216</td><td>13.581</td><td>0.035</td><td>48382.828</td><td>5776.401</td><td>12.884</td><td>0.0</td><td>45899.739</td><td>5479.946</td></tr>\n",
       "<tr><td>2MASS 2618328869</td><td>6000.0</td><td>4000.0</td><td>590.21</td><td>34.83</td><td>1.6943163878468375</td><td>0.1</td><td>0.8786209573091851</td><td>0.06782337214316517</td><td>60.0</td><td>0.5</td><td>None</td><td>9.344700986227546e-12</td><td>8.891778300076678e-14</td><td>16.092</td><td>0.01</td><td>3.894838827390943e+32</td><td>4.611829256452778e+31</td><td>-0.992</td><td>0.051</td><td>7.237</td><td>0.065</td><td>4.5</td><td>0.07</td><td>0.8896913720017506</td><td>0.0</td><td>3477.0</td><td>169.0</td><td>&lt;SEDkit.sed.SED object at 0x11b2ab630&gt;</td><td>20.486</td><td>0.073</td><td>71362.539</td><td>8422.621</td><td>17.779</td><td>0.006</td><td>61932.763</td><td>7309.663</td><td>16.431</td><td>0.004</td><td>57237.034</td><td>6755.446</td><td>15.843</td><td>0.004</td><td>55188.749</td><td>6513.696</td><td>15.514</td><td>0.005</td><td>54042.685</td><td>6378.43</td><td>14.391</td><td>0.029</td><td>50130.738</td><td>5916.72</td><td>13.677</td><td>0.032</td><td>47643.535</td><td>5623.166</td><td>13.535</td><td>0.034</td><td>47148.881</td><td>5564.784</td><td>13.55</td><td>0.027</td><td>47201.133</td><td>5570.951</td><td>13.581</td><td>0.035</td><td>47309.121</td><td>5583.697</td><td>12.884</td><td>0.0</td><td>44881.136</td><td>5297.131</td></tr>\n",
       "</table>"
      ],
      "text/plain": [
       "<QTable length=11>\n",
       "      name         age   age_unc ... WISE.W3_unc M_WISE.W3 M_WISE.W3_unc\n",
       "                   Myr     Myr   ...                                    \n",
       "     object      float64 float64 ...   float64    float64     float64   \n",
       "---------------- ------- ------- ... ----------- --------- -------------\n",
       " 2MASS 261832886  6000.0  4000.0 ...         0.0 42195.667      2419.902\n",
       "2MASS 2618328860  6000.0  4000.0 ...         0.0 42248.771      4838.423\n",
       "2MASS 2618328861  6000.0  4000.0 ...         0.0 46224.834      5537.905\n",
       "2MASS 2618328862  6000.0  4000.0 ...         0.0 41779.372      4758.644\n",
       "2MASS 2618328863  6000.0  4000.0 ...         0.0 39497.389      4374.332\n",
       "2MASS 2618328864  6000.0  4000.0 ...         0.0 51308.819      6475.192\n",
       "2MASS 2618328865  6000.0  4000.0 ...         0.0 59470.529      8081.129\n",
       "2MASS 2618328866  6000.0  4000.0 ...         0.0 38282.746      4173.107\n",
       "2MASS 2618328867  6000.0  4000.0 ...         0.0 45442.555      5397.494\n",
       "2MASS 2618328868  6000.0  4000.0 ...         0.0 45899.739      5479.946\n",
       "2MASS 2618328869  6000.0  4000.0 ...         0.0 44881.136      5297.131"
      ]
     },
     "execution_count": 41,
     "metadata": {},
     "output_type": "execute_result"
    }
   ],
   "source": [
    "cat.filter('logg', '>=4.5').results"
   ]
  },
  {
   "cell_type": "markdown",
   "metadata": {
    "collapsed": true
   },
   "source": [
    "... or even a tuple of arguments..."
   ]
  },
  {
   "cell_type": "code",
   "execution_count": 44,
   "metadata": {
    "collapsed": false
   },
   "outputs": [
    {
     "data": {
      "text/html": [
       "<i>QTable length=9</i>\n",
       "<table id=\"table4754758344\" class=\"table-striped table-bordered table-condensed\">\n",
       "<thead><tr><th>name</th><th>age</th><th>age_unc</th><th>distance</th><th>distance_unc</th><th>parallax</th><th>parallax_unc</th><th>radius</th><th>radius_unc</th><th>spectral_type</th><th>spectral_type_unc</th><th>membership</th><th>fbol</th><th>fbol_unc</th><th>mbol</th><th>mbol_unc</th><th>Lbol</th><th>Lbol_unc</th><th>Lbol_sun</th><th>Lbol_sun_unc</th><th>Mbol</th><th>Mbol_unc</th><th>logg</th><th>logg_unc</th><th>mass</th><th>mass_unc</th><th>Teff</th><th>Teff_unc</th><th>SED</th><th>SDSS.u</th><th>SDSS.u_unc</th><th>M_SDSS.u</th><th>M_SDSS.u_unc</th><th>SDSS.g</th><th>SDSS.g_unc</th><th>M_SDSS.g</th><th>M_SDSS.g_unc</th><th>SDSS.r</th><th>SDSS.r_unc</th><th>M_SDSS.r</th><th>M_SDSS.r_unc</th><th>SDSS.i</th><th>SDSS.i_unc</th><th>M_SDSS.i</th><th>M_SDSS.i_unc</th><th>SDSS.z</th><th>SDSS.z_unc</th><th>M_SDSS.z</th><th>M_SDSS.z_unc</th><th>2MASS.J</th><th>2MASS.J_unc</th><th>M_2MASS.J</th><th>M_2MASS.J_unc</th><th>2MASS.H</th><th>2MASS.H_unc</th><th>M_2MASS.H</th><th>M_2MASS.H_unc</th><th>2MASS.Ks</th><th>2MASS.Ks_unc</th><th>M_2MASS.Ks</th><th>M_2MASS.Ks_unc</th><th>WISE.W1</th><th>WISE.W1_unc</th><th>M_WISE.W1</th><th>M_WISE.W1_unc</th><th>WISE.W2</th><th>WISE.W2_unc</th><th>M_WISE.W2</th><th>M_WISE.W2_unc</th><th>WISE.W3</th><th>WISE.W3_unc</th><th>M_WISE.W3</th><th>M_WISE.W3_unc</th></tr></thead>\n",
       "<thead><tr><th></th><th>Myr</th><th>Myr</th><th>pc</th><th>pc</th><th>mas</th><th>mas</th><th>6.957e+08 m</th><th></th><th></th><th></th><th></th><th>erg / (cm2 s)</th><th>erg / (cm2 s)</th><th></th><th></th><th>erg / s</th><th>erg / s</th><th></th><th></th><th></th><th></th><th></th><th></th><th>solMass</th><th>solMass</th><th>K</th><th>K</th><th></th><th></th><th></th><th></th><th></th><th></th><th></th><th></th><th></th><th></th><th></th><th></th><th></th><th></th><th></th><th></th><th></th><th></th><th></th><th></th><th></th><th></th><th></th><th></th><th></th><th></th><th></th><th></th><th></th><th></th><th></th><th></th><th></th><th></th><th></th><th></th><th></th><th></th><th></th><th></th><th></th><th></th><th></th><th></th><th></th></tr></thead>\n",
       "<thead><tr><th>object</th><th>float64</th><th>float64</th><th>float64</th><th>float64</th><th>float64</th><th>float64</th><th>float64</th><th>object</th><th>object</th><th>object</th><th>object</th><th>float64</th><th>float64</th><th>object</th><th>object</th><th>float64</th><th>float64</th><th>object</th><th>object</th><th>object</th><th>object</th><th>object</th><th>object</th><th>float64</th><th>float64</th><th>float64</th><th>float64</th><th>object</th><th>float64</th><th>float64</th><th>float64</th><th>float64</th><th>float64</th><th>float64</th><th>float64</th><th>float64</th><th>float64</th><th>float64</th><th>float64</th><th>float64</th><th>float64</th><th>float64</th><th>float64</th><th>float64</th><th>float64</th><th>float64</th><th>float64</th><th>float64</th><th>float64</th><th>float64</th><th>float64</th><th>float64</th><th>float64</th><th>float64</th><th>float64</th><th>float64</th><th>float64</th><th>float64</th><th>float64</th><th>float64</th><th>float64</th><th>float64</th><th>float64</th><th>float64</th><th>float64</th><th>float64</th><th>float64</th><th>float64</th><th>float64</th><th>float64</th><th>float64</th><th>float64</th></tr></thead>\n",
       "<tr><td>2MASS 261832886</td><td>6000.0</td><td>4000.0</td><td>572.28</td><td>16.41</td><td>1.7474</td><td>0.0501</td><td>0.8786209573091851</td><td>0.06782337214316517</td><td>60.0</td><td>0.5</td><td>None</td><td>9.344700986227546e-12</td><td>8.891778300076678e-14</td><td>16.092</td><td>0.01</td><td>3.66179055973561e+32</td><td>2.1287295997847215e+31</td><td>-1.019</td><td>0.025</td><td>7.304</td><td>0.033</td><td>4.5</td><td>0.07</td><td>0.8896913720017506</td><td>0.0</td><td>3424.0</td><td>141.0</td><td>&lt;SEDkit.sed.SED object at 0x11a1bdac8&gt;</td><td>20.486</td><td>0.073</td><td>67092.551</td><td>3847.73</td><td>17.779</td><td>0.006</td><td>58227.007</td><td>3339.293</td><td>16.431</td><td>0.004</td><td>53812.248</td><td>3086.108</td><td>15.843</td><td>0.004</td><td>51886.522</td><td>2975.669</td><td>15.514</td><td>0.005</td><td>50809.032</td><td>2913.875</td><td>14.391</td><td>0.029</td><td>47131.158</td><td>2702.951</td><td>13.677</td><td>0.032</td><td>44792.777</td><td>2568.846</td><td>13.535</td><td>0.034</td><td>44327.72</td><td>2542.176</td><td>13.55</td><td>0.027</td><td>44376.846</td><td>2544.993</td><td>13.581</td><td>0.035</td><td>44478.372</td><td>2550.815</td><td>12.884</td><td>0.0</td><td>42195.667</td><td>2419.902</td></tr>\n",
       "<tr><td>2MASS 2618328860</td><td>6000.0</td><td>4000.0</td><td>572.64</td><td>32.79</td><td>1.7463009673899073</td><td>0.1</td><td>0.8786209573091851</td><td>0.06782337214316517</td><td>60.0</td><td>0.5</td><td>None</td><td>9.344700986227546e-12</td><td>8.891778300076678e-14</td><td>16.092</td><td>0.01</td><td>3.6663990004665696e+32</td><td>4.2133096135621395e+31</td><td>-1.019</td><td>0.05</td><td>7.303</td><td>0.063</td><td>4.5</td><td>0.07</td><td>0.8896913720017506</td><td>0.0</td><td>3425.0</td><td>164.0</td><td>&lt;SEDkit.sed.SED object at 0x11afe1ef0&gt;</td><td>20.486</td><td>0.073</td><td>67176.988</td><td>7693.259</td><td>17.779</td><td>0.006</td><td>58300.287</td><td>6676.678</td><td>16.431</td><td>0.004</td><td>53879.972</td><td>6170.454</td><td>15.843</td><td>0.004</td><td>51951.822</td><td>5949.638</td><td>15.514</td><td>0.005</td><td>50872.977</td><td>5826.086</td><td>14.391</td><td>0.029</td><td>47190.474</td><td>5404.358</td><td>13.677</td><td>0.032</td><td>44849.149</td><td>5136.224</td><td>13.535</td><td>0.034</td><td>44383.508</td><td>5082.898</td><td>13.55</td><td>0.027</td><td>44432.695</td><td>5088.531</td><td>13.581</td><td>0.035</td><td>44534.349</td><td>5100.173</td><td>12.884</td><td>0.0</td><td>42248.771</td><td>4838.423</td></tr>\n",
       "<tr><td>2MASS 2618328861</td><td>6000.0</td><td>4000.0</td><td>598.98</td><td>35.88</td><td>1.6695005640755598</td><td>0.1</td><td>0.8786209573091851</td><td>0.06782337214316517</td><td>60.0</td><td>0.5</td><td>None</td><td>9.344700986227546e-12</td><td>8.891778300076678e-14</td><td>16.092</td><td>0.01</td><td>4.01144652103885e+32</td><td>4.820994360627056e+31</td><td>-0.98</td><td>0.052</td><td>7.205</td><td>0.066</td><td>4.5</td><td>0.07</td><td>0.8896913720017506</td><td>0.0</td><td>3503.0</td><td>171.0</td><td>&lt;SEDkit.sed.SED object at 0x11af7de48&gt;</td><td>20.486</td><td>0.073</td><td>73499.064</td><td>8805.458</td><td>17.779</td><td>0.006</td><td>63786.97</td><td>7641.913</td><td>16.431</td><td>0.004</td><td>58950.656</td><td>7062.505</td><td>15.843</td><td>0.004</td><td>56841.047</td><td>6809.766</td><td>15.514</td><td>0.005</td><td>55660.67</td><td>6668.352</td><td>14.391</td><td>0.029</td><td>51631.604</td><td>6185.656</td><td>13.677</td><td>0.032</td><td>49069.936</td><td>5878.759</td><td>13.535</td><td>0.034</td><td>48560.472</td><td>5817.723</td><td>13.55</td><td>0.027</td><td>48614.289</td><td>5824.17</td><td>13.581</td><td>0.035</td><td>48725.51</td><td>5837.495</td><td>12.884</td><td>0.0</td><td>46224.834</td><td>5537.905</td></tr>\n",
       "<tr><td>2MASS 2618328862</td><td>6000.0</td><td>4000.0</td><td>569.45</td><td>32.43</td><td>1.7560932438236598</td><td>0.1</td><td>0.8786209573091851</td><td>0.06782337214316517</td><td>60.0</td><td>0.5</td><td>None</td><td>9.344700986227546e-12</td><td>8.891778300076678e-14</td><td>16.092</td><td>0.01</td><td>3.62566403281865e+32</td><td>4.143994293920703e+31</td><td>-1.024</td><td>0.05</td><td>7.315</td><td>0.063</td><td>4.5</td><td>0.07</td><td>0.8896913720017506</td><td>0.0</td><td>3416.0</td><td>164.0</td><td>&lt;SEDkit.sed.SED object at 0x11afbc358&gt;</td><td>20.486</td><td>0.073</td><td>66430.629</td><td>7566.408</td><td>17.779</td><td>0.006</td><td>57652.55</td><td>6566.59</td><td>16.431</td><td>0.004</td><td>53281.346</td><td>6068.712</td><td>15.843</td><td>0.004</td><td>51374.619</td><td>5851.537</td><td>15.514</td><td>0.005</td><td>50307.76</td><td>5730.023</td><td>14.391</td><td>0.029</td><td>46666.171</td><td>5315.248</td><td>13.677</td><td>0.032</td><td>44350.86</td><td>5051.536</td><td>13.535</td><td>0.034</td><td>43890.391</td><td>4999.089</td><td>13.55</td><td>0.027</td><td>43939.032</td><td>5004.629</td><td>13.581</td><td>0.035</td><td>44039.557</td><td>5016.079</td><td>12.884</td><td>0.0</td><td>41779.372</td><td>4758.644</td></tr>\n",
       "<tr><td>2MASS 2618328863</td><td>6000.0</td><td>4000.0</td><td>553.68</td><td>30.66</td><td>1.806107628449766</td><td>0.1</td><td>0.8786209573091851</td><td>0.06782337214316517</td><td>60.0</td><td>0.5</td><td>None</td><td>9.344700986227546e-12</td><td>8.891778300076678e-14</td><td>16.092</td><td>0.01</td><td>3.427630796479428e+32</td><td>3.810082567843585e+31</td><td>-1.048</td><td>0.048</td><td>7.376</td><td>0.061</td><td>4.5</td><td>0.07</td><td>0.8896913720017506</td><td>0.0</td><td>3368.0</td><td>160.0</td><td>&lt;SEDkit.sed.SED object at 0x11afc77f0&gt;</td><td>20.486</td><td>0.073</td><td>62802.198</td><td>6955.338</td><td>17.779</td><td>0.006</td><td>54503.577</td><td>6036.265</td><td>16.431</td><td>0.004</td><td>50371.127</td><td>5578.597</td><td>15.843</td><td>0.004</td><td>48568.545</td><td>5378.961</td><td>15.514</td><td>0.005</td><td>47559.958</td><td>5267.26</td><td>14.391</td><td>0.029</td><td>44117.272</td><td>4885.983</td><td>13.677</td><td>0.032</td><td>41928.422</td><td>4643.569</td><td>13.535</td><td>0.034</td><td>41493.105</td><td>4595.357</td><td>13.55</td><td>0.027</td><td>41539.089</td><td>4600.45</td><td>13.581</td><td>0.035</td><td>41634.123</td><td>4610.975</td><td>12.884</td><td>0.0</td><td>39497.389</td><td>4374.332</td></tr>\n",
       "<tr><td>2MASS 2618328866</td><td>6000.0</td><td>4000.0</td><td>545.1</td><td>29.71</td><td>1.8345300679365895</td><td>0.1</td><td>0.8786209573091851</td><td>0.06782337214316517</td><td>60.0</td><td>0.5</td><td>None</td><td>9.344700986227546e-12</td><td>8.891778300076678e-14</td><td>16.092</td><td>0.01</td><td>3.322222596429064e+32</td><td>3.6352434585597333e+31</td><td>-1.062</td><td>0.048</td><td>7.41</td><td>0.06</td><td>4.5</td><td>0.07</td><td>0.8896913720017506</td><td>0.0</td><td>3342.0</td><td>158.0</td><td>&lt;SEDkit.sed.SED object at 0x11b205ba8&gt;</td><td>20.486</td><td>0.073</td><td>60870.873</td><td>6635.384</td><td>17.779</td><td>0.006</td><td>52827.456</td><td>5758.59</td><td>16.431</td><td>0.004</td><td>48822.089</td><td>5321.975</td><td>15.843</td><td>0.004</td><td>47074.941</td><td>5131.523</td><td>15.514</td><td>0.005</td><td>46097.37</td><td>5024.96</td><td>14.391</td><td>0.029</td><td>42760.555</td><td>4661.222</td><td>13.677</td><td>0.032</td><td>40639.019</td><td>4429.959</td><td>13.535</td><td>0.034</td><td>40217.088</td><td>4383.966</td><td>13.55</td><td>0.027</td><td>40261.658</td><td>4388.824</td><td>13.581</td><td>0.035</td><td>40353.77</td><td>4398.865</td><td>12.884</td><td>0.0</td><td>38282.746</td><td>4173.107</td></tr>\n",
       "<tr><td>2MASS 2618328867</td><td>6000.0</td><td>4000.0</td><td>593.89</td><td>35.27</td><td>1.6838003958452172</td><td>0.1</td><td>0.8786209573091851</td><td>0.06782337214316517</td><td>60.0</td><td>0.5</td><td>None</td><td>9.344700986227546e-12</td><td>8.891778300076678e-14</td><td>16.092</td><td>0.01</td><td>3.9435594201540144e+32</td><td>4.69901672434641e+31</td><td>-0.987</td><td>0.052</td><td>7.223</td><td>0.065</td><td>4.5</td><td>0.07</td><td>0.8896913720017506</td><td>0.0</td><td>3488.0</td><td>170.0</td><td>&lt;SEDkit.sed.SED object at 0x11b2abe10&gt;</td><td>20.486</td><td>0.073</td><td>72255.214</td><td>8582.201</td><td>17.779</td><td>0.006</td><td>62707.481</td><td>7448.157</td><td>16.431</td><td>0.004</td><td>57953.013</td><td>6883.439</td><td>15.843</td><td>0.004</td><td>55879.106</td><td>6637.108</td><td>15.514</td><td>0.005</td><td>54718.705</td><td>6499.28</td><td>14.391</td><td>0.029</td><td>50757.824</td><td>6028.822</td><td>13.677</td><td>0.032</td><td>48239.508</td><td>5729.706</td><td>13.535</td><td>0.034</td><td>47738.667</td><td>5670.218</td><td>13.55</td><td>0.027</td><td>47791.572</td><td>5676.502</td><td>13.581</td><td>0.035</td><td>47900.911</td><td>5689.489</td><td>12.884</td><td>0.0</td><td>45442.555</td><td>5397.494</td></tr>\n",
       "<tr><td>2MASS 2618328868</td><td>6000.0</td><td>4000.0</td><td>596.87</td><td>35.63</td><td>1.6754129960850157</td><td>0.1</td><td>0.8786209573091851</td><td>0.06782337214316517</td><td>60.0</td><td>0.5</td><td>None</td><td>9.344700986227546e-12</td><td>8.891778300076678e-14</td><td>16.092</td><td>0.01</td><td>3.9832344137408915e+32</td><td>4.770642816474678e+31</td><td>-0.983</td><td>0.052</td><td>7.213</td><td>0.066</td><td>4.5</td><td>0.07</td><td>0.8896913720017506</td><td>0.0</td><td>3497.0</td><td>170.0</td><td>&lt;SEDkit.sed.SED object at 0x11b2c3e80&gt;</td><td>20.486</td><td>0.073</td><td>72982.153</td><td>8713.302</td><td>17.779</td><td>0.006</td><td>63338.363</td><td>7561.934</td><td>16.431</td><td>0.004</td><td>58536.061</td><td>6988.59</td><td>15.843</td><td>0.004</td><td>56441.289</td><td>6738.496</td><td>15.514</td><td>0.005</td><td>55269.214</td><td>6598.563</td><td>14.391</td><td>0.029</td><td>51268.484</td><td>6120.918</td><td>13.677</td><td>0.032</td><td>48724.832</td><td>5817.233</td><td>13.535</td><td>0.034</td><td>48218.951</td><td>5756.836</td><td>13.55</td><td>0.027</td><td>48272.389</td><td>5763.216</td><td>13.581</td><td>0.035</td><td>48382.828</td><td>5776.401</td><td>12.884</td><td>0.0</td><td>45899.739</td><td>5479.946</td></tr>\n",
       "<tr><td>2MASS 2618328869</td><td>6000.0</td><td>4000.0</td><td>590.21</td><td>34.83</td><td>1.6943163878468375</td><td>0.1</td><td>0.8786209573091851</td><td>0.06782337214316517</td><td>60.0</td><td>0.5</td><td>None</td><td>9.344700986227546e-12</td><td>8.891778300076678e-14</td><td>16.092</td><td>0.01</td><td>3.894838827390943e+32</td><td>4.611829256452778e+31</td><td>-0.992</td><td>0.051</td><td>7.237</td><td>0.065</td><td>4.5</td><td>0.07</td><td>0.8896913720017506</td><td>0.0</td><td>3477.0</td><td>169.0</td><td>&lt;SEDkit.sed.SED object at 0x11b2ab630&gt;</td><td>20.486</td><td>0.073</td><td>71362.539</td><td>8422.621</td><td>17.779</td><td>0.006</td><td>61932.763</td><td>7309.663</td><td>16.431</td><td>0.004</td><td>57237.034</td><td>6755.446</td><td>15.843</td><td>0.004</td><td>55188.749</td><td>6513.696</td><td>15.514</td><td>0.005</td><td>54042.685</td><td>6378.43</td><td>14.391</td><td>0.029</td><td>50130.738</td><td>5916.72</td><td>13.677</td><td>0.032</td><td>47643.535</td><td>5623.166</td><td>13.535</td><td>0.034</td><td>47148.881</td><td>5564.784</td><td>13.55</td><td>0.027</td><td>47201.133</td><td>5570.951</td><td>13.581</td><td>0.035</td><td>47309.121</td><td>5583.697</td><td>12.884</td><td>0.0</td><td>44881.136</td><td>5297.131</td></tr>\n",
       "</table>"
      ],
      "text/plain": [
       "<QTable length=9>\n",
       "      name         age   age_unc ... WISE.W3_unc M_WISE.W3 M_WISE.W3_unc\n",
       "                   Myr     Myr   ...                                    \n",
       "     object      float64 float64 ...   float64    float64     float64   \n",
       "---------------- ------- ------- ... ----------- --------- -------------\n",
       " 2MASS 261832886  6000.0  4000.0 ...         0.0 42195.667      2419.902\n",
       "2MASS 2618328860  6000.0  4000.0 ...         0.0 42248.771      4838.423\n",
       "2MASS 2618328861  6000.0  4000.0 ...         0.0 46224.834      5537.905\n",
       "2MASS 2618328862  6000.0  4000.0 ...         0.0 41779.372      4758.644\n",
       "2MASS 2618328863  6000.0  4000.0 ...         0.0 39497.389      4374.332\n",
       "2MASS 2618328866  6000.0  4000.0 ...         0.0 38282.746      4173.107\n",
       "2MASS 2618328867  6000.0  4000.0 ...         0.0 45442.555      5397.494\n",
       "2MASS 2618328868  6000.0  4000.0 ...         0.0 45899.739      5479.946\n",
       "2MASS 2618328869  6000.0  4000.0 ...         0.0 44881.136      5297.131"
      ]
     },
     "execution_count": 44,
     "metadata": {},
     "output_type": "execute_result"
    }
   ],
   "source": [
    "cat.filter('M_SDSS.r', ('>50000','<60000')).results"
   ]
  },
  {
   "cell_type": "code",
   "execution_count": null,
   "metadata": {
    "collapsed": true
   },
   "outputs": [],
   "source": []
  }
 ],
 "metadata": {
  "anaconda-cloud": {},
  "kernelspec": {
   "display_name": "Astroconda",
   "language": "python",
   "name": "astroconda_kernel"
  },
  "language_info": {
   "codemirror_mode": {
    "name": "ipython",
    "version": 3
   },
   "file_extension": ".py",
   "mimetype": "text/x-python",
   "name": "python",
   "nbconvert_exporter": "python",
   "pygments_lexer": "ipython3",
   "version": "3.5.2"
  }
 },
 "nbformat": 4,
 "nbformat_minor": 1
}
