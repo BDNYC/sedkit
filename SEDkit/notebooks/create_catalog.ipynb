{
 "cells": [
  {
   "cell_type": "markdown",
   "metadata": {},
   "source": [
    "# Make a catalog of SEDs"
   ]
  },
  {
   "cell_type": "code",
   "execution_count": 58,
   "metadata": {
    "collapsed": false
   },
   "outputs": [
    {
     "data": {
      "text/html": [
       "\n",
       "    <div class=\"bk-root\">\n",
       "        <a href=\"http://bokeh.pydata.org\" target=\"_blank\" class=\"bk-logo bk-logo-small bk-logo-notebook\"></a>\n",
       "        <span id=\"e750d1da-276e-4bec-a35f-69084d448573\">Loading BokehJS ...</span>\n",
       "    </div>"
      ]
     },
     "metadata": {},
     "output_type": "display_data"
    },
    {
     "data": {
      "application/javascript": [
       "\n",
       "(function(global) {\n",
       "  function now() {\n",
       "    return new Date();\n",
       "  }\n",
       "\n",
       "  var force = true;\n",
       "\n",
       "  if (typeof (window._bokeh_onload_callbacks) === \"undefined\" || force === true) {\n",
       "    window._bokeh_onload_callbacks = [];\n",
       "    window._bokeh_is_loading = undefined;\n",
       "  }\n",
       "\n",
       "\n",
       "  \n",
       "  if (typeof (window._bokeh_timeout) === \"undefined\" || force === true) {\n",
       "    window._bokeh_timeout = Date.now() + 5000;\n",
       "    window._bokeh_failed_load = false;\n",
       "  }\n",
       "\n",
       "  var NB_LOAD_WARNING = {'data': {'text/html':\n",
       "     \"<div style='background-color: #fdd'>\\n\"+\n",
       "     \"<p>\\n\"+\n",
       "     \"BokehJS does not appear to have successfully loaded. If loading BokehJS from CDN, this \\n\"+\n",
       "     \"may be due to a slow or bad network connection. Possible fixes:\\n\"+\n",
       "     \"</p>\\n\"+\n",
       "     \"<ul>\\n\"+\n",
       "     \"<li>re-rerun `output_notebook()` to attempt to load from CDN again, or</li>\\n\"+\n",
       "     \"<li>use INLINE resources instead, as so:</li>\\n\"+\n",
       "     \"</ul>\\n\"+\n",
       "     \"<code>\\n\"+\n",
       "     \"from bokeh.resources import INLINE\\n\"+\n",
       "     \"output_notebook(resources=INLINE)\\n\"+\n",
       "     \"</code>\\n\"+\n",
       "     \"</div>\"}};\n",
       "\n",
       "  function display_loaded() {\n",
       "    if (window.Bokeh !== undefined) {\n",
       "      var el = document.getElementById(\"e750d1da-276e-4bec-a35f-69084d448573\");\n",
       "      el.textContent = \"BokehJS \" + Bokeh.version + \" successfully loaded.\";\n",
       "    } else if (Date.now() < window._bokeh_timeout) {\n",
       "      setTimeout(display_loaded, 100)\n",
       "    }\n",
       "  }\n",
       "\n",
       "  function run_callbacks() {\n",
       "    try {\n",
       "      window._bokeh_onload_callbacks.forEach(function(callback) { callback() });\n",
       "    }\n",
       "    finally {\n",
       "      delete window._bokeh_onload_callbacks\n",
       "    }\n",
       "    console.info(\"Bokeh: all callbacks have finished\");\n",
       "  }\n",
       "\n",
       "  function load_libs(js_urls, callback) {\n",
       "    window._bokeh_onload_callbacks.push(callback);\n",
       "    if (window._bokeh_is_loading > 0) {\n",
       "      console.log(\"Bokeh: BokehJS is being loaded, scheduling callback at\", now());\n",
       "      return null;\n",
       "    }\n",
       "    if (js_urls == null || js_urls.length === 0) {\n",
       "      run_callbacks();\n",
       "      return null;\n",
       "    }\n",
       "    console.log(\"Bokeh: BokehJS not loaded, scheduling load and callback at\", now());\n",
       "    window._bokeh_is_loading = js_urls.length;\n",
       "    for (var i = 0; i < js_urls.length; i++) {\n",
       "      var url = js_urls[i];\n",
       "      var s = document.createElement('script');\n",
       "      s.src = url;\n",
       "      s.async = false;\n",
       "      s.onreadystatechange = s.onload = function() {\n",
       "        window._bokeh_is_loading--;\n",
       "        if (window._bokeh_is_loading === 0) {\n",
       "          console.log(\"Bokeh: all BokehJS libraries loaded\");\n",
       "          run_callbacks()\n",
       "        }\n",
       "      };\n",
       "      s.onerror = function() {\n",
       "        console.warn(\"failed to load library \" + url);\n",
       "      };\n",
       "      console.log(\"Bokeh: injecting script tag for BokehJS library: \", url);\n",
       "      document.getElementsByTagName(\"head\")[0].appendChild(s);\n",
       "    }\n",
       "  };var element = document.getElementById(\"e750d1da-276e-4bec-a35f-69084d448573\");\n",
       "  if (element == null) {\n",
       "    console.log(\"Bokeh: ERROR: autoload.js configured with elementid 'e750d1da-276e-4bec-a35f-69084d448573' but no matching script tag was found. \")\n",
       "    return false;\n",
       "  }\n",
       "\n",
       "  var js_urls = [\"https://cdn.pydata.org/bokeh/release/bokeh-0.12.6.min.js\", \"https://cdn.pydata.org/bokeh/release/bokeh-widgets-0.12.6.min.js\"];\n",
       "\n",
       "  var inline_js = [\n",
       "    function(Bokeh) {\n",
       "      Bokeh.set_log_level(\"info\");\n",
       "    },\n",
       "    \n",
       "    function(Bokeh) {\n",
       "      \n",
       "    },\n",
       "    \n",
       "    function(Bokeh) {\n",
       "      \n",
       "      document.getElementById(\"e750d1da-276e-4bec-a35f-69084d448573\").textContent = \"BokehJS is loading...\";\n",
       "    },\n",
       "    function(Bokeh) {\n",
       "      console.log(\"Bokeh: injecting CSS: https://cdn.pydata.org/bokeh/release/bokeh-0.12.6.min.css\");\n",
       "      Bokeh.embed.inject_css(\"https://cdn.pydata.org/bokeh/release/bokeh-0.12.6.min.css\");\n",
       "      console.log(\"Bokeh: injecting CSS: https://cdn.pydata.org/bokeh/release/bokeh-widgets-0.12.6.min.css\");\n",
       "      Bokeh.embed.inject_css(\"https://cdn.pydata.org/bokeh/release/bokeh-widgets-0.12.6.min.css\");\n",
       "    }\n",
       "  ];\n",
       "\n",
       "  function run_inline_js() {\n",
       "    \n",
       "    if ((window.Bokeh !== undefined) || (force === true)) {\n",
       "      for (var i = 0; i < inline_js.length; i++) {\n",
       "        inline_js[i](window.Bokeh);\n",
       "      }if (force === true) {\n",
       "        display_loaded();\n",
       "      }} else if (Date.now() < window._bokeh_timeout) {\n",
       "      setTimeout(run_inline_js, 100);\n",
       "    } else if (!window._bokeh_failed_load) {\n",
       "      console.log(\"Bokeh: BokehJS failed to load within specified timeout.\");\n",
       "      window._bokeh_failed_load = true;\n",
       "    } else if (force !== true) {\n",
       "      var cell = $(document.getElementById(\"e750d1da-276e-4bec-a35f-69084d448573\")).parents('.cell').data().cell;\n",
       "      cell.output_area.append_execute_result(NB_LOAD_WARNING)\n",
       "    }\n",
       "\n",
       "  }\n",
       "\n",
       "  if (window._bokeh_is_loading === 0) {\n",
       "    console.log(\"Bokeh: BokehJS loaded, going straight to plotting\");\n",
       "    run_inline_js();\n",
       "  } else {\n",
       "    load_libs(js_urls, function() {\n",
       "      console.log(\"Bokeh: BokehJS plotting callback run at\", now());\n",
       "      run_inline_js();\n",
       "    });\n",
       "  }\n",
       "}(this));"
      ]
     },
     "metadata": {},
     "output_type": "display_data"
    }
   ],
   "source": [
    "# Imports\n",
    "from SEDkit import sed, spectrum, synphot\n",
    "import astropy.units as q\n",
    "import numpy as np\n",
    "from pkg_resources import resource_filename\n",
    "from bokeh.io import output_notebook, show\n",
    "import copy\n",
    "output_notebook()"
   ]
  },
  {
   "cell_type": "markdown",
   "metadata": {},
   "source": [
    "First we initialize an empty catalog."
   ]
  },
  {
   "cell_type": "code",
   "execution_count": 90,
   "metadata": {
    "collapsed": false
   },
   "outputs": [],
   "source": [
    "# Make an SED catalog\n",
    "cat = sed.SEDCatalog()"
   ]
  },
  {
   "cell_type": "markdown",
   "metadata": {},
   "source": [
    "Now let's make a few SEDs"
   ]
  },
  {
   "cell_type": "code",
   "execution_count": 91,
   "metadata": {
    "collapsed": false
   },
   "outputs": [
    {
     "name": "stdout",
     "output_type": "stream",
     "text": [
      "Make this handle asymmetric uncertainties!\n",
      "Setting age to (<Quantity 6.0 Gyr>, <Quantity 4.0 Gyr>)\n",
      "Setting radius to (<Quantity 0.8786209573091851 solRad>, <Quantity 0.06782337214316517 solRad>)\n"
     ]
    }
   ],
   "source": [
    "# Make an SED\n",
    "s1 = sed.SED(parallax=(1.7474*q.mas, 0.0501*q.mas), spectral_type='M0V', name='2MASS 261832886')\n",
    "s1.add_photometry_file(resource_filename('SEDkit', 'data/M0V_photometry.txt'))\n",
    "s1.make_sed()\n",
    "cat.add_SED(s1)"
   ]
  },
  {
   "cell_type": "code",
   "execution_count": 92,
   "metadata": {
    "collapsed": false
   },
   "outputs": [
    {
     "name": "stdout",
     "output_type": "stream",
     "text": [
      "Make this handle asymmetric uncertainties!\n",
      "Make this handle asymmetric uncertainties!\n",
      "Make this handle asymmetric uncertainties!\n",
      "Make this handle asymmetric uncertainties!\n",
      "Make this handle asymmetric uncertainties!\n",
      "Make this handle asymmetric uncertainties!\n",
      "Make this handle asymmetric uncertainties!\n",
      "Make this handle asymmetric uncertainties!\n",
      "Make this handle asymmetric uncertainties!\n",
      "Make this handle asymmetric uncertainties!\n"
     ]
    }
   ],
   "source": [
    "# Make 30 other SEDs (I'll just change the parallax)\n",
    "for i in range(10):\n",
    "    s2 = copy.copy(s1)\n",
    "    s2.parallax = np.random.normal(loc=1.7474)*q.mas, 0.1*q.mas\n",
    "    s2.make_sed()\n",
    "    cat.add_SED(s2)"
   ]
  },
  {
   "cell_type": "markdown",
   "metadata": {},
   "source": [
    "Then the aggregated results look like this:"
   ]
  },
  {
   "cell_type": "code",
   "execution_count": 93,
   "metadata": {
    "collapsed": false
   },
   "outputs": [
    {
     "data": {
      "text/html": [
       "<i>QTable length=11</i>\n",
       "<table id=\"table4748262480\" class=\"table-striped table-bordered table-condensed\">\n",
       "<thead><tr><th>name</th><th>age</th><th>age_unc</th><th>distance</th><th>distance_unc</th><th>parallax</th><th>parallax_unc</th><th>radius</th><th>radius_unc</th><th>spectral_type</th><th>spectral_type_unc</th><th>membership</th><th>fbol</th><th>fbol_unc</th><th>mbol</th><th>mbol_unc</th><th>Lbol</th><th>Lbol_unc</th><th>Lbol_sun</th><th>Lbol_sun_unc</th><th>Mbol</th><th>Mbol_unc</th><th>logg</th><th>logg_unc</th><th>mass</th><th>mass_unc</th><th>Teff</th><th>Teff_unc</th></tr></thead>\n",
       "<thead><tr><th></th><th>Myr</th><th>Myr</th><th>pc</th><th>pc</th><th>mas</th><th>mas</th><th>6.957e+08 m</th><th></th><th></th><th></th><th></th><th>erg / (cm2 s)</th><th>erg / (cm2 s)</th><th></th><th></th><th>erg / s</th><th>erg / s</th><th></th><th></th><th></th><th></th><th></th><th></th><th>solMass</th><th>solMass</th><th>K</th><th>K</th></tr></thead>\n",
       "<thead><tr><th>object</th><th>object</th><th>object</th><th>object</th><th>object</th><th>object</th><th>object</th><th>object</th><th>object</th><th>object</th><th>object</th><th>object</th><th>object</th><th>object</th><th>object</th><th>object</th><th>object</th><th>object</th><th>object</th><th>object</th><th>object</th><th>object</th><th>object</th><th>object</th><th>object</th><th>object</th><th>object</th><th>object</th></tr></thead>\n",
       "<tr><td>2MASS 261832886</td><td>6000.0</td><td>4000.0</td><td>572.28</td><td>16.41</td><td>1.7474</td><td>0.0501</td><td>0.8786209573091851</td><td>0.06782337214316517</td><td>60.0</td><td>0.5</td><td>None</td><td>9.344700986227546e-12</td><td>8.891778300076678e-14</td><td>16.092</td><td>0.01</td><td>3.66179055973561e+32</td><td>2.1287295997847215e+31</td><td>-1.019</td><td>0.025</td><td>7.304</td><td>0.033</td><td>4.5</td><td>0.07</td><td>0.8896913720017506</td><td>0.0</td><td>3424.0</td><td>141.0</td></tr>\n",
       "<tr><td>2MASS 261832886</td><td>6000.0</td><td>4000.0</td><td>533.77</td><td>28.49</td><td>1.8734503410150887</td><td>0.1</td><td>0.8786209573091851</td><td>0.06782337214316517</td><td>60.0</td><td>0.5</td><td>None</td><td>9.344700986227546e-12</td><td>8.891778300076678e-14</td><td>16.092</td><td>0.01</td><td>3.185551905331586e+32</td><td>3.414062364187834e+31</td><td>-1.08</td><td>0.047</td><td>7.455</td><td>0.059</td><td>4.5</td><td>0.07</td><td>0.8896913720017506</td><td>0.0</td><td>3307.0</td><td>155.0</td></tr>\n",
       "<tr><td>2MASS 261832886</td><td>6000.0</td><td>4000.0</td><td>347.16</td><td>12.05</td><td>2.8805569181126165</td><td>0.1</td><td>0.8786209573091851</td><td>0.06782337214316517</td><td>60.0</td><td>0.5</td><td>None</td><td>9.344700986227546e-12</td><td>8.891778300076678e-14</td><td>16.092</td><td>0.01</td><td>1.3475215619357513e+32</td><td>9.442019976136113e+30</td><td>-1.453</td><td>0.03</td><td>8.389</td><td>0.039</td><td>4.5</td><td>0.07</td><td>0.8896913720017506</td><td>0.0</td><td>2667.0</td><td>113.0</td></tr>\n",
       "<tr><td>2MASS 261832886</td><td>6000.0</td><td>4000.0</td><td>3085.82</td><td>952.23</td><td>0.3240632795570648</td><td>0.1</td><td>0.8786209573091851</td><td>0.06782337214316517</td><td>60.0</td><td>0.5</td><td>None</td><td>9.344700986227546e-12</td><td>8.891778300076678e-14</td><td>16.092</td><td>0.01</td><td>1.0646761923068466e+34</td><td>6.571589396844378e+33</td><td>0.444</td><td>0.268</td><td>3.645</td><td>0.335</td><td>4.5</td><td>0.07</td><td>0.8896913720017506</td><td>0.0</td><td>7952.0</td><td>1264.0</td></tr>\n",
       "<tr><td>2MASS 261832886</td><td>6000.0</td><td>4000.0</td><td>369.67</td><td>13.67</td><td>2.7051265261952695</td><td>0.1</td><td>0.8786209573091851</td><td>0.06782337214316517</td><td>60.0</td><td>0.5</td><td>None</td><td>9.344700986227546e-12</td><td>8.891778300076678e-14</td><td>16.092</td><td>0.01</td><td>1.5279346463339271e+32</td><td>1.1393419907785261e+31</td><td>-1.399</td><td>0.032</td><td>8.253</td><td>0.041</td><td>4.5</td><td>0.07</td><td>0.8896913720017506</td><td>0.0</td><td>2752.0</td><td>117.0</td></tr>\n",
       "<tr><td>2MASS 261832886</td><td>6000.0</td><td>4000.0</td><td>502.92</td><td>25.29</td><td>1.9884004119117369</td><td>0.1</td><td>0.8786209573091851</td><td>0.06782337214316517</td><td>60.0</td><td>0.5</td><td>None</td><td>9.344700986227546e-12</td><td>8.891778300076678e-14</td><td>16.092</td><td>0.01</td><td>2.827965959492772e+32</td><td>2.8568615888860546e+31</td><td>-1.131</td><td>0.044</td><td>7.585</td><td>0.056</td><td>4.5</td><td>0.07</td><td>0.8896913720017506</td><td>0.0</td><td>3210.0</td><td>148.0</td></tr>\n",
       "<tr><td>2MASS 261832886</td><td>6000.0</td><td>4000.0</td><td>554.72</td><td>30.77</td><td>1.8027266690687311</td><td>0.1</td><td>0.8786209573091851</td><td>0.06782337214316517</td><td>60.0</td><td>0.5</td><td>None</td><td>9.344700986227546e-12</td><td>8.891778300076678e-14</td><td>16.092</td><td>0.01</td><td>3.440519410566107e+32</td><td>3.830886677641431e+31</td><td>-1.046</td><td>0.048</td><td>7.372</td><td>0.061</td><td>4.5</td><td>0.07</td><td>0.8896913720017506</td><td>0.0</td><td>3371.0</td><td>160.0</td></tr>\n",
       "<tr><td>2MASS 261832886</td><td>6000.0</td><td>4000.0</td><td>733.35</td><td>53.78</td><td>1.3636063216758894</td><td>0.1</td><td>0.8786209573091851</td><td>0.06782337214316517</td><td>60.0</td><td>0.5</td><td>None</td><td>9.344700986227546e-12</td><td>8.891778300076678e-14</td><td>16.092</td><td>0.01</td><td>6.013107338332865e+32</td><td>8.837928509481682e+31</td><td>-0.804</td><td>0.064</td><td>6.765</td><td>0.08</td><td>4.5</td><td>0.07</td><td>0.8896913720017506</td><td>0.0</td><td>3876.0</td><td>206.0</td></tr>\n",
       "<tr><td>2MASS 261832886</td><td>6000.0</td><td>4000.0</td><td>670.07</td><td>44.9</td><td>1.4923899138041952</td><td>0.1</td><td>0.8786209573091851</td><td>0.06782337214316517</td><td>60.0</td><td>0.5</td><td>None</td><td>9.344700986227546e-12</td><td>8.891778300076678e-14</td><td>16.092</td><td>0.01</td><td>5.0201502153706424e+32</td><td>6.7447337101758805e+31</td><td>-0.882</td><td>0.058</td><td>6.961</td><td>0.073</td><td>4.5</td><td>0.07</td><td>0.8896913720017506</td><td>0.0</td><td>3705.0</td><td>189.0</td></tr>\n",
       "<tr><td>2MASS 261832886</td><td>6000.0</td><td>4000.0</td><td>1481.82</td><td>219.58</td><td>0.6748436731134277</td><td>0.1</td><td>0.8786209573091851</td><td>0.06782337214316517</td><td>60.0</td><td>0.5</td><td>None</td><td>9.344700986227546e-12</td><td>8.891778300076678e-14</td><td>16.092</td><td>0.01</td><td>2.4550891556708138e+33</td><td>7.279781114430026e+32</td><td>-0.193</td><td>0.129</td><td>5.238</td><td>0.161</td><td>4.5</td><td>0.07</td><td>0.8896913720017506</td><td>0.0</td><td>5510.0</td><td>460.0</td></tr>\n",
       "<tr><td>2MASS 261832886</td><td>6000.0</td><td>4000.0</td><td>451.46</td><td>20.38</td><td>2.215058055442238</td><td>0.1</td><td>0.8786209573091851</td><td>0.06782337214316517</td><td>60.0</td><td>0.5</td><td>None</td><td>9.344700986227546e-12</td><td>8.891778300076678e-14</td><td>16.092</td><td>0.01</td><td>2.278845689587266e+32</td><td>2.06884752416267e+31</td><td>-1.225</td><td>0.039</td><td>7.819</td><td>0.05</td><td>4.5</td><td>0.07</td><td>0.8896913720017506</td><td>0.0</td><td>3041.0</td><td>136.0</td></tr>\n",
       "</table>"
      ],
      "text/plain": [
       "<QTable length=11>\n",
       "      name       age   age_unc distance ... mass_unc  Teff  Teff_unc\n",
       "                 Myr     Myr      pc    ... solMass    K       K    \n",
       "     object     object  object  object  ...  object  object  object \n",
       "--------------- ------ ------- -------- ... -------- ------ --------\n",
       "2MASS 261832886 6000.0  4000.0   572.28 ...      0.0 3424.0    141.0\n",
       "2MASS 261832886 6000.0  4000.0   533.77 ...      0.0 3307.0    155.0\n",
       "2MASS 261832886 6000.0  4000.0   347.16 ...      0.0 2667.0    113.0\n",
       "2MASS 261832886 6000.0  4000.0  3085.82 ...      0.0 7952.0   1264.0\n",
       "2MASS 261832886 6000.0  4000.0   369.67 ...      0.0 2752.0    117.0\n",
       "2MASS 261832886 6000.0  4000.0   502.92 ...      0.0 3210.0    148.0\n",
       "2MASS 261832886 6000.0  4000.0   554.72 ...      0.0 3371.0    160.0\n",
       "2MASS 261832886 6000.0  4000.0   733.35 ...      0.0 3876.0    206.0\n",
       "2MASS 261832886 6000.0  4000.0   670.07 ...      0.0 3705.0    189.0\n",
       "2MASS 261832886 6000.0  4000.0  1481.82 ...      0.0 5510.0    460.0\n",
       "2MASS 261832886 6000.0  4000.0   451.46 ...      0.0 3041.0    136.0"
      ]
     },
     "execution_count": 93,
     "metadata": {},
     "output_type": "execute_result"
    }
   ],
   "source": [
    "cat.results"
   ]
  },
  {
   "cell_type": "markdown",
   "metadata": {},
   "source": [
    "We can also plot the results by column name."
   ]
  },
  {
   "cell_type": "code",
   "execution_count": 98,
   "metadata": {
    "collapsed": false
   },
   "outputs": [
    {
     "data": {
      "text/html": [
       "\n",
       "\n",
       "    <div class=\"bk-root\">\n",
       "        <div class=\"bk-plotdiv\" id=\"b6df6b3d-8bef-43d7-adeb-bb507c90a1bf\"></div>\n",
       "    </div>\n",
       "<script type=\"text/javascript\">\n",
       "  \n",
       "  (function(global) {\n",
       "    function now() {\n",
       "      return new Date();\n",
       "    }\n",
       "  \n",
       "    var force = false;\n",
       "  \n",
       "    if (typeof (window._bokeh_onload_callbacks) === \"undefined\" || force === true) {\n",
       "      window._bokeh_onload_callbacks = [];\n",
       "      window._bokeh_is_loading = undefined;\n",
       "    }\n",
       "  \n",
       "  \n",
       "    \n",
       "    if (typeof (window._bokeh_timeout) === \"undefined\" || force === true) {\n",
       "      window._bokeh_timeout = Date.now() + 0;\n",
       "      window._bokeh_failed_load = false;\n",
       "    }\n",
       "  \n",
       "    var NB_LOAD_WARNING = {'data': {'text/html':\n",
       "       \"<div style='background-color: #fdd'>\\n\"+\n",
       "       \"<p>\\n\"+\n",
       "       \"BokehJS does not appear to have successfully loaded. If loading BokehJS from CDN, this \\n\"+\n",
       "       \"may be due to a slow or bad network connection. Possible fixes:\\n\"+\n",
       "       \"</p>\\n\"+\n",
       "       \"<ul>\\n\"+\n",
       "       \"<li>re-rerun `output_notebook()` to attempt to load from CDN again, or</li>\\n\"+\n",
       "       \"<li>use INLINE resources instead, as so:</li>\\n\"+\n",
       "       \"</ul>\\n\"+\n",
       "       \"<code>\\n\"+\n",
       "       \"from bokeh.resources import INLINE\\n\"+\n",
       "       \"output_notebook(resources=INLINE)\\n\"+\n",
       "       \"</code>\\n\"+\n",
       "       \"</div>\"}};\n",
       "  \n",
       "    function display_loaded() {\n",
       "      if (window.Bokeh !== undefined) {\n",
       "        var el = document.getElementById(\"b6df6b3d-8bef-43d7-adeb-bb507c90a1bf\");\n",
       "        el.textContent = \"BokehJS \" + Bokeh.version + \" successfully loaded.\";\n",
       "      } else if (Date.now() < window._bokeh_timeout) {\n",
       "        setTimeout(display_loaded, 100)\n",
       "      }\n",
       "    }\n",
       "  \n",
       "    function run_callbacks() {\n",
       "      try {\n",
       "        window._bokeh_onload_callbacks.forEach(function(callback) { callback() });\n",
       "      }\n",
       "      finally {\n",
       "        delete window._bokeh_onload_callbacks\n",
       "      }\n",
       "      console.info(\"Bokeh: all callbacks have finished\");\n",
       "    }\n",
       "  \n",
       "    function load_libs(js_urls, callback) {\n",
       "      window._bokeh_onload_callbacks.push(callback);\n",
       "      if (window._bokeh_is_loading > 0) {\n",
       "        console.log(\"Bokeh: BokehJS is being loaded, scheduling callback at\", now());\n",
       "        return null;\n",
       "      }\n",
       "      if (js_urls == null || js_urls.length === 0) {\n",
       "        run_callbacks();\n",
       "        return null;\n",
       "      }\n",
       "      console.log(\"Bokeh: BokehJS not loaded, scheduling load and callback at\", now());\n",
       "      window._bokeh_is_loading = js_urls.length;\n",
       "      for (var i = 0; i < js_urls.length; i++) {\n",
       "        var url = js_urls[i];\n",
       "        var s = document.createElement('script');\n",
       "        s.src = url;\n",
       "        s.async = false;\n",
       "        s.onreadystatechange = s.onload = function() {\n",
       "          window._bokeh_is_loading--;\n",
       "          if (window._bokeh_is_loading === 0) {\n",
       "            console.log(\"Bokeh: all BokehJS libraries loaded\");\n",
       "            run_callbacks()\n",
       "          }\n",
       "        };\n",
       "        s.onerror = function() {\n",
       "          console.warn(\"failed to load library \" + url);\n",
       "        };\n",
       "        console.log(\"Bokeh: injecting script tag for BokehJS library: \", url);\n",
       "        document.getElementsByTagName(\"head\")[0].appendChild(s);\n",
       "      }\n",
       "    };var element = document.getElementById(\"b6df6b3d-8bef-43d7-adeb-bb507c90a1bf\");\n",
       "    if (element == null) {\n",
       "      console.log(\"Bokeh: ERROR: autoload.js configured with elementid 'b6df6b3d-8bef-43d7-adeb-bb507c90a1bf' but no matching script tag was found. \")\n",
       "      return false;\n",
       "    }\n",
       "  \n",
       "    var js_urls = [];\n",
       "  \n",
       "    var inline_js = [\n",
       "      function(Bokeh) {\n",
       "        (function() {\n",
       "          var fn = function() {\n",
       "            var docs_json = {\"9adbba45-1d4c-4f41-96e7-416086b9d5ac\":{\"roots\":{\"references\":[{\"attributes\":{\"callback\":null,\"column_names\":[\"y\",\"x\"],\"data\":{\"x\":[4.5,4.5,4.5,4.5,4.5,4.5,4.5,4.5,4.5,4.5,4.5],\"y\":[3424.0,3307.0,2667.0,7952.0,2752.0,3210.0,3371.0,3876.0,3705.0,5510.0,3041.0]}},\"id\":\"bcc9bacc-07c0-4a58-b81b-7cdecd41fb1e\",\"type\":\"ColumnDataSource\"},{\"attributes\":{},\"id\":\"fff98c1f-d354-46a8-b82e-b781f42ccd34\",\"type\":\"BasicTicker\"},{\"attributes\":{},\"id\":\"ce98294e-c4b0-4e3f-9535-8ab3d73f6424\",\"type\":\"BasicTickFormatter\"},{\"attributes\":{},\"id\":\"9edf8035-507d-483b-8897-3d2da44daf89\",\"type\":\"ToolEvents\"},{\"attributes\":{\"callback\":null},\"id\":\"d248a755-0118-44b6-8341-fda66730ff1f\",\"type\":\"DataRange1d\"},{\"attributes\":{\"bottom_units\":\"screen\",\"fill_alpha\":{\"value\":0.5},\"fill_color\":{\"value\":\"lightgrey\"},\"left_units\":\"screen\",\"level\":\"overlay\",\"line_alpha\":{\"value\":1.0},\"line_color\":{\"value\":\"black\"},\"line_dash\":[4,4],\"line_width\":{\"value\":2},\"plot\":null,\"render_mode\":\"css\",\"right_units\":\"screen\",\"top_units\":\"screen\"},\"id\":\"85d7583a-efa4-47a3-97b2-df62b00e6586\",\"type\":\"BoxAnnotation\"},{\"attributes\":{\"fill_alpha\":{\"value\":0.1},\"fill_color\":{\"value\":\"#1f77b4\"},\"line_alpha\":{\"value\":0.1},\"line_color\":{\"value\":\"#1f77b4\"},\"x\":{\"field\":\"x\"},\"y\":{\"field\":\"y\"}},\"id\":\"317cfaa6-01b4-43c5-a52a-7a284f455d58\",\"type\":\"Circle\"},{\"attributes\":{\"plot\":{\"id\":\"840ef547-75b9-4b01-ab68-a35f2a132383\",\"subtype\":\"Figure\",\"type\":\"Plot\"}},\"id\":\"7e08a4a3-f209-4bde-bef4-f8bfea672fad\",\"type\":\"ResizeTool\"},{\"attributes\":{\"data_source\":{\"id\":\"bcc9bacc-07c0-4a58-b81b-7cdecd41fb1e\",\"type\":\"ColumnDataSource\"},\"glyph\":{\"id\":\"a510aa2c-8cd7-46e8-93d2-0896215b04ad\",\"type\":\"Circle\"},\"hover_glyph\":null,\"muted_glyph\":null,\"nonselection_glyph\":{\"id\":\"317cfaa6-01b4-43c5-a52a-7a284f455d58\",\"type\":\"Circle\"},\"selection_glyph\":null},\"id\":\"5388f8d7-4f6a-4432-9f02-0fdb9552dee7\",\"type\":\"GlyphRenderer\"},{\"attributes\":{},\"id\":\"f39e9f73-29bf-4434-b12d-3bfbfa73a5e2\",\"type\":\"BasicTicker\"},{\"attributes\":{\"callback\":null},\"id\":\"f98fa4a8-c12a-4b5a-b165-4020852073ac\",\"type\":\"DataRange1d\"},{\"attributes\":{\"plot\":{\"id\":\"840ef547-75b9-4b01-ab68-a35f2a132383\",\"subtype\":\"Figure\",\"type\":\"Plot\"}},\"id\":\"0938980f-90a5-44fa-8b3c-b26732ab7249\",\"type\":\"PanTool\"},{\"attributes\":{\"below\":[{\"id\":\"741ba585-25e8-4800-8de7-1e5cb52355a1\",\"type\":\"LinearAxis\"}],\"left\":[{\"id\":\"cfbc626b-2ab6-4557-82de-ca9ef906d438\",\"type\":\"LinearAxis\"}],\"plot_height\":500,\"plot_width\":800,\"renderers\":[{\"id\":\"741ba585-25e8-4800-8de7-1e5cb52355a1\",\"type\":\"LinearAxis\"},{\"id\":\"5f63e266-cf04-4f82-9b45-0e0518112d46\",\"type\":\"Grid\"},{\"id\":\"cfbc626b-2ab6-4557-82de-ca9ef906d438\",\"type\":\"LinearAxis\"},{\"id\":\"29adef33-6525-473f-af01-112002adb04d\",\"type\":\"Grid\"},{\"id\":\"85d7583a-efa4-47a3-97b2-df62b00e6586\",\"type\":\"BoxAnnotation\"},{\"id\":\"5388f8d7-4f6a-4432-9f02-0fdb9552dee7\",\"type\":\"GlyphRenderer\"}],\"title\":{\"id\":\"29890df8-973a-4701-ad25-3080e3ab36e3\",\"type\":\"Title\"},\"tool_events\":{\"id\":\"9edf8035-507d-483b-8897-3d2da44daf89\",\"type\":\"ToolEvents\"},\"toolbar\":{\"id\":\"d96708bc-6f8d-4520-89b9-1e1944d8e063\",\"type\":\"Toolbar\"},\"x_range\":{\"id\":\"d248a755-0118-44b6-8341-fda66730ff1f\",\"type\":\"DataRange1d\"},\"x_scale\":{\"id\":\"692fd6e9-8ae8-420a-95db-bacba9f098a1\",\"type\":\"LinearScale\"},\"y_range\":{\"id\":\"f98fa4a8-c12a-4b5a-b165-4020852073ac\",\"type\":\"DataRange1d\"},\"y_scale\":{\"id\":\"61a6396f-8986-41d7-8938-864ea56d4d08\",\"type\":\"LinearScale\"}},\"id\":\"840ef547-75b9-4b01-ab68-a35f2a132383\",\"subtype\":\"Figure\",\"type\":\"Plot\"},{\"attributes\":{\"plot\":{\"id\":\"840ef547-75b9-4b01-ab68-a35f2a132383\",\"subtype\":\"Figure\",\"type\":\"Plot\"}},\"id\":\"f39434db-50a2-40ad-9ac3-74565b8db670\",\"type\":\"ResetTool\"},{\"attributes\":{\"plot\":{\"id\":\"840ef547-75b9-4b01-ab68-a35f2a132383\",\"subtype\":\"Figure\",\"type\":\"Plot\"}},\"id\":\"c6cf3037-c832-4511-9f1a-e8d86745a2e3\",\"type\":\"SaveTool\"},{\"attributes\":{\"plot\":null,\"text\":\"logg v Teff\"},\"id\":\"29890df8-973a-4701-ad25-3080e3ab36e3\",\"type\":\"Title\"},{\"attributes\":{},\"id\":\"61a6396f-8986-41d7-8938-864ea56d4d08\",\"type\":\"LinearScale\"},{\"attributes\":{\"fill_color\":{\"value\":\"#1f77b4\"},\"line_color\":{\"value\":\"#1f77b4\"},\"x\":{\"field\":\"x\"},\"y\":{\"field\":\"y\"}},\"id\":\"a510aa2c-8cd7-46e8-93d2-0896215b04ad\",\"type\":\"Circle\"},{\"attributes\":{},\"id\":\"c66d8d13-45d3-428e-a3ea-a6d877a9a6c3\",\"type\":\"BasicTickFormatter\"},{\"attributes\":{\"dimension\":1,\"plot\":{\"id\":\"840ef547-75b9-4b01-ab68-a35f2a132383\",\"subtype\":\"Figure\",\"type\":\"Plot\"},\"ticker\":{\"id\":\"fff98c1f-d354-46a8-b82e-b781f42ccd34\",\"type\":\"BasicTicker\"}},\"id\":\"29adef33-6525-473f-af01-112002adb04d\",\"type\":\"Grid\"},{\"attributes\":{\"active_drag\":\"auto\",\"active_inspect\":\"auto\",\"active_scroll\":\"auto\",\"active_tap\":\"auto\",\"tools\":[{\"id\":\"0938980f-90a5-44fa-8b3c-b26732ab7249\",\"type\":\"PanTool\"},{\"id\":\"7e08a4a3-f209-4bde-bef4-f8bfea672fad\",\"type\":\"ResizeTool\"},{\"id\":\"f39434db-50a2-40ad-9ac3-74565b8db670\",\"type\":\"ResetTool\"},{\"id\":\"93430630-dded-4149-bb5e-5322d0116e0e\",\"type\":\"BoxZoomTool\"},{\"id\":\"c6cf3037-c832-4511-9f1a-e8d86745a2e3\",\"type\":\"SaveTool\"}]},\"id\":\"d96708bc-6f8d-4520-89b9-1e1944d8e063\",\"type\":\"Toolbar\"},{\"attributes\":{\"axis_label\":\"logg [None]\",\"formatter\":{\"id\":\"ce98294e-c4b0-4e3f-9535-8ab3d73f6424\",\"type\":\"BasicTickFormatter\"},\"plot\":{\"id\":\"840ef547-75b9-4b01-ab68-a35f2a132383\",\"subtype\":\"Figure\",\"type\":\"Plot\"},\"ticker\":{\"id\":\"f39e9f73-29bf-4434-b12d-3bfbfa73a5e2\",\"type\":\"BasicTicker\"}},\"id\":\"741ba585-25e8-4800-8de7-1e5cb52355a1\",\"type\":\"LinearAxis\"},{\"attributes\":{\"plot\":{\"id\":\"840ef547-75b9-4b01-ab68-a35f2a132383\",\"subtype\":\"Figure\",\"type\":\"Plot\"},\"ticker\":{\"id\":\"f39e9f73-29bf-4434-b12d-3bfbfa73a5e2\",\"type\":\"BasicTicker\"}},\"id\":\"5f63e266-cf04-4f82-9b45-0e0518112d46\",\"type\":\"Grid\"},{\"attributes\":{\"overlay\":{\"id\":\"85d7583a-efa4-47a3-97b2-df62b00e6586\",\"type\":\"BoxAnnotation\"},\"plot\":{\"id\":\"840ef547-75b9-4b01-ab68-a35f2a132383\",\"subtype\":\"Figure\",\"type\":\"Plot\"}},\"id\":\"93430630-dded-4149-bb5e-5322d0116e0e\",\"type\":\"BoxZoomTool\"},{\"attributes\":{},\"id\":\"692fd6e9-8ae8-420a-95db-bacba9f098a1\",\"type\":\"LinearScale\"},{\"attributes\":{\"axis_label\":\"Teff [K]\",\"formatter\":{\"id\":\"c66d8d13-45d3-428e-a3ea-a6d877a9a6c3\",\"type\":\"BasicTickFormatter\"},\"plot\":{\"id\":\"840ef547-75b9-4b01-ab68-a35f2a132383\",\"subtype\":\"Figure\",\"type\":\"Plot\"},\"ticker\":{\"id\":\"fff98c1f-d354-46a8-b82e-b781f42ccd34\",\"type\":\"BasicTicker\"}},\"id\":\"cfbc626b-2ab6-4557-82de-ca9ef906d438\",\"type\":\"LinearAxis\"}],\"root_ids\":[\"840ef547-75b9-4b01-ab68-a35f2a132383\"]},\"title\":\"Bokeh Application\",\"version\":\"0.12.6\"}};\n",
       "            var render_items = [{\"docid\":\"9adbba45-1d4c-4f41-96e7-416086b9d5ac\",\"elementid\":\"b6df6b3d-8bef-43d7-adeb-bb507c90a1bf\",\"modelid\":\"840ef547-75b9-4b01-ab68-a35f2a132383\"}];\n",
       "            \n",
       "            Bokeh.embed.embed_items(docs_json, render_items);\n",
       "          };\n",
       "          if (document.readyState != \"loading\") fn();\n",
       "          else document.addEventListener(\"DOMContentLoaded\", fn);\n",
       "        })();\n",
       "      },\n",
       "      function(Bokeh) {\n",
       "      }\n",
       "    ];\n",
       "  \n",
       "    function run_inline_js() {\n",
       "      \n",
       "      if ((window.Bokeh !== undefined) || (force === true)) {\n",
       "        for (var i = 0; i < inline_js.length; i++) {\n",
       "          inline_js[i](window.Bokeh);\n",
       "        }if (force === true) {\n",
       "          display_loaded();\n",
       "        }} else if (Date.now() < window._bokeh_timeout) {\n",
       "        setTimeout(run_inline_js, 100);\n",
       "      } else if (!window._bokeh_failed_load) {\n",
       "        console.log(\"Bokeh: BokehJS failed to load within specified timeout.\");\n",
       "        window._bokeh_failed_load = true;\n",
       "      } else if (force !== true) {\n",
       "        var cell = $(document.getElementById(\"b6df6b3d-8bef-43d7-adeb-bb507c90a1bf\")).parents('.cell').data().cell;\n",
       "        cell.output_area.append_execute_result(NB_LOAD_WARNING)\n",
       "      }\n",
       "  \n",
       "    }\n",
       "  \n",
       "    if (window._bokeh_is_loading === 0) {\n",
       "      console.log(\"Bokeh: BokehJS loaded, going straight to plotting\");\n",
       "      run_inline_js();\n",
       "    } else {\n",
       "      load_libs(js_urls, function() {\n",
       "        console.log(\"Bokeh: BokehJS plotting callback run at\", now());\n",
       "        run_inline_js();\n",
       "      });\n",
       "    }\n",
       "  }(this));\n",
       "</script>"
      ]
     },
     "metadata": {},
     "output_type": "display_data"
    }
   ],
   "source": [
    "show(cat.plot('logg', 'Teff'))"
   ]
  },
  {
   "cell_type": "code",
   "execution_count": null,
   "metadata": {
    "collapsed": true
   },
   "outputs": [],
   "source": []
  }
 ],
 "metadata": {
  "anaconda-cloud": {},
  "kernelspec": {
   "display_name": "Astroconda",
   "language": "python",
   "name": "astroconda_kernel"
  },
  "language_info": {
   "codemirror_mode": {
    "name": "ipython",
    "version": 3
   },
   "file_extension": ".py",
   "mimetype": "text/x-python",
   "name": "python",
   "nbconvert_exporter": "python",
   "pygments_lexer": "ipython3",
   "version": "3.5.2"
  }
 },
 "nbformat": 4,
 "nbformat_minor": 1
}
