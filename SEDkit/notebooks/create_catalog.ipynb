{
 "cells": [
  {
   "cell_type": "markdown",
   "metadata": {},
   "source": [
    "# Make a catalog of SEDs"
   ]
  },
  {
   "cell_type": "code",
   "execution_count": 40,
   "metadata": {
    "collapsed": false
   },
   "outputs": [
    {
     "data": {
      "text/html": [
       "\n",
       "    <div class=\"bk-root\">\n",
       "        <a href=\"http://bokeh.pydata.org\" target=\"_blank\" class=\"bk-logo bk-logo-small bk-logo-notebook\"></a>\n",
       "        <span id=\"b888dd63-7860-4154-bb3a-71bd79d7cb76\">Loading BokehJS ...</span>\n",
       "    </div>"
      ]
     },
     "metadata": {},
     "output_type": "display_data"
    },
    {
     "data": {
      "application/javascript": [
       "\n",
       "(function(global) {\n",
       "  function now() {\n",
       "    return new Date();\n",
       "  }\n",
       "\n",
       "  var force = true;\n",
       "\n",
       "  if (typeof (window._bokeh_onload_callbacks) === \"undefined\" || force === true) {\n",
       "    window._bokeh_onload_callbacks = [];\n",
       "    window._bokeh_is_loading = undefined;\n",
       "  }\n",
       "\n",
       "\n",
       "  \n",
       "  if (typeof (window._bokeh_timeout) === \"undefined\" || force === true) {\n",
       "    window._bokeh_timeout = Date.now() + 5000;\n",
       "    window._bokeh_failed_load = false;\n",
       "  }\n",
       "\n",
       "  var NB_LOAD_WARNING = {'data': {'text/html':\n",
       "     \"<div style='background-color: #fdd'>\\n\"+\n",
       "     \"<p>\\n\"+\n",
       "     \"BokehJS does not appear to have successfully loaded. If loading BokehJS from CDN, this \\n\"+\n",
       "     \"may be due to a slow or bad network connection. Possible fixes:\\n\"+\n",
       "     \"</p>\\n\"+\n",
       "     \"<ul>\\n\"+\n",
       "     \"<li>re-rerun `output_notebook()` to attempt to load from CDN again, or</li>\\n\"+\n",
       "     \"<li>use INLINE resources instead, as so:</li>\\n\"+\n",
       "     \"</ul>\\n\"+\n",
       "     \"<code>\\n\"+\n",
       "     \"from bokeh.resources import INLINE\\n\"+\n",
       "     \"output_notebook(resources=INLINE)\\n\"+\n",
       "     \"</code>\\n\"+\n",
       "     \"</div>\"}};\n",
       "\n",
       "  function display_loaded() {\n",
       "    if (window.Bokeh !== undefined) {\n",
       "      var el = document.getElementById(\"b888dd63-7860-4154-bb3a-71bd79d7cb76\");\n",
       "      el.textContent = \"BokehJS \" + Bokeh.version + \" successfully loaded.\";\n",
       "    } else if (Date.now() < window._bokeh_timeout) {\n",
       "      setTimeout(display_loaded, 100)\n",
       "    }\n",
       "  }\n",
       "\n",
       "  function run_callbacks() {\n",
       "    try {\n",
       "      window._bokeh_onload_callbacks.forEach(function(callback) { callback() });\n",
       "    }\n",
       "    finally {\n",
       "      delete window._bokeh_onload_callbacks\n",
       "    }\n",
       "    console.info(\"Bokeh: all callbacks have finished\");\n",
       "  }\n",
       "\n",
       "  function load_libs(js_urls, callback) {\n",
       "    window._bokeh_onload_callbacks.push(callback);\n",
       "    if (window._bokeh_is_loading > 0) {\n",
       "      console.log(\"Bokeh: BokehJS is being loaded, scheduling callback at\", now());\n",
       "      return null;\n",
       "    }\n",
       "    if (js_urls == null || js_urls.length === 0) {\n",
       "      run_callbacks();\n",
       "      return null;\n",
       "    }\n",
       "    console.log(\"Bokeh: BokehJS not loaded, scheduling load and callback at\", now());\n",
       "    window._bokeh_is_loading = js_urls.length;\n",
       "    for (var i = 0; i < js_urls.length; i++) {\n",
       "      var url = js_urls[i];\n",
       "      var s = document.createElement('script');\n",
       "      s.src = url;\n",
       "      s.async = false;\n",
       "      s.onreadystatechange = s.onload = function() {\n",
       "        window._bokeh_is_loading--;\n",
       "        if (window._bokeh_is_loading === 0) {\n",
       "          console.log(\"Bokeh: all BokehJS libraries loaded\");\n",
       "          run_callbacks()\n",
       "        }\n",
       "      };\n",
       "      s.onerror = function() {\n",
       "        console.warn(\"failed to load library \" + url);\n",
       "      };\n",
       "      console.log(\"Bokeh: injecting script tag for BokehJS library: \", url);\n",
       "      document.getElementsByTagName(\"head\")[0].appendChild(s);\n",
       "    }\n",
       "  };var element = document.getElementById(\"b888dd63-7860-4154-bb3a-71bd79d7cb76\");\n",
       "  if (element == null) {\n",
       "    console.log(\"Bokeh: ERROR: autoload.js configured with elementid 'b888dd63-7860-4154-bb3a-71bd79d7cb76' but no matching script tag was found. \")\n",
       "    return false;\n",
       "  }\n",
       "\n",
       "  var js_urls = [\"https://cdn.pydata.org/bokeh/release/bokeh-0.12.6.min.js\", \"https://cdn.pydata.org/bokeh/release/bokeh-widgets-0.12.6.min.js\"];\n",
       "\n",
       "  var inline_js = [\n",
       "    function(Bokeh) {\n",
       "      Bokeh.set_log_level(\"info\");\n",
       "    },\n",
       "    \n",
       "    function(Bokeh) {\n",
       "      \n",
       "    },\n",
       "    \n",
       "    function(Bokeh) {\n",
       "      \n",
       "      document.getElementById(\"b888dd63-7860-4154-bb3a-71bd79d7cb76\").textContent = \"BokehJS is loading...\";\n",
       "    },\n",
       "    function(Bokeh) {\n",
       "      console.log(\"Bokeh: injecting CSS: https://cdn.pydata.org/bokeh/release/bokeh-0.12.6.min.css\");\n",
       "      Bokeh.embed.inject_css(\"https://cdn.pydata.org/bokeh/release/bokeh-0.12.6.min.css\");\n",
       "      console.log(\"Bokeh: injecting CSS: https://cdn.pydata.org/bokeh/release/bokeh-widgets-0.12.6.min.css\");\n",
       "      Bokeh.embed.inject_css(\"https://cdn.pydata.org/bokeh/release/bokeh-widgets-0.12.6.min.css\");\n",
       "    }\n",
       "  ];\n",
       "\n",
       "  function run_inline_js() {\n",
       "    \n",
       "    if ((window.Bokeh !== undefined) || (force === true)) {\n",
       "      for (var i = 0; i < inline_js.length; i++) {\n",
       "        inline_js[i](window.Bokeh);\n",
       "      }if (force === true) {\n",
       "        display_loaded();\n",
       "      }} else if (Date.now() < window._bokeh_timeout) {\n",
       "      setTimeout(run_inline_js, 100);\n",
       "    } else if (!window._bokeh_failed_load) {\n",
       "      console.log(\"Bokeh: BokehJS failed to load within specified timeout.\");\n",
       "      window._bokeh_failed_load = true;\n",
       "    } else if (force !== true) {\n",
       "      var cell = $(document.getElementById(\"b888dd63-7860-4154-bb3a-71bd79d7cb76\")).parents('.cell').data().cell;\n",
       "      cell.output_area.append_execute_result(NB_LOAD_WARNING)\n",
       "    }\n",
       "\n",
       "  }\n",
       "\n",
       "  if (window._bokeh_is_loading === 0) {\n",
       "    console.log(\"Bokeh: BokehJS loaded, going straight to plotting\");\n",
       "    run_inline_js();\n",
       "  } else {\n",
       "    load_libs(js_urls, function() {\n",
       "      console.log(\"Bokeh: BokehJS plotting callback run at\", now());\n",
       "      run_inline_js();\n",
       "    });\n",
       "  }\n",
       "}(this));"
      ]
     },
     "metadata": {},
     "output_type": "display_data"
    }
   ],
   "source": [
    "# Imports\n",
    "from SEDkit import sed, spectrum, synphot\n",
    "import astropy.units as q\n",
    "import numpy as np\n",
    "from pkg_resources import resource_filename\n",
    "from bokeh.io import output_notebook, show\n",
    "import copy\n",
    "output_notebook()"
   ]
  },
  {
   "cell_type": "markdown",
   "metadata": {},
   "source": [
    "First we initialize an empty catalog."
   ]
  },
  {
   "cell_type": "code",
   "execution_count": 44,
   "metadata": {
    "collapsed": false
   },
   "outputs": [],
   "source": [
    "# Make an SED catalog\n",
    "cat = sed.SEDCatalog()"
   ]
  },
  {
   "cell_type": "markdown",
   "metadata": {},
   "source": [
    "Now let's make a few SEDs"
   ]
  },
  {
   "cell_type": "code",
   "execution_count": 45,
   "metadata": {
    "collapsed": false
   },
   "outputs": [
    {
     "name": "stdout",
     "output_type": "stream",
     "text": [
      "Make this handle asymmetric uncertainties!\n",
      "Setting age to (<Quantity 6.0 Gyr>, <Quantity 4.0 Gyr>)\n",
      "Setting radius to (<Quantity 0.8786209573091851 solRad>, <Quantity 0.06782337214316517 solRad>)\n"
     ]
    }
   ],
   "source": [
    "# Make an SED\n",
    "s1 = sed.SED(parallax=(1.7474*q.mas, 0.0501*q.mas), spectral_type='M0V', name='2MASS 261832886')\n",
    "s1.add_photometry_file(resource_filename('SEDkit', 'data/M0V_photometry.txt'))\n",
    "s1.make_sed()\n",
    "cat.add_SED(s1)"
   ]
  },
  {
   "cell_type": "code",
   "execution_count": 46,
   "metadata": {
    "collapsed": false
   },
   "outputs": [
    {
     "name": "stdout",
     "output_type": "stream",
     "text": [
      "Make this handle asymmetric uncertainties!\n",
      "Make this handle asymmetric uncertainties!\n",
      "Make this handle asymmetric uncertainties!\n",
      "Make this handle asymmetric uncertainties!\n",
      "Make this handle asymmetric uncertainties!\n",
      "Make this handle asymmetric uncertainties!\n",
      "Make this handle asymmetric uncertainties!\n",
      "Make this handle asymmetric uncertainties!\n",
      "Make this handle asymmetric uncertainties!\n",
      "Make this handle asymmetric uncertainties!\n"
     ]
    }
   ],
   "source": [
    "# Make 30 other SEDs (I'll just change the parallax)\n",
    "for i in range(10):\n",
    "    s2 = copy.copy(s1)\n",
    "    s2.parallax = abs(np.random.normal(loc=1.7474, scale=0.1))*q.mas, 0.1*q.mas\n",
    "    s2.name += str(i)\n",
    "    s2.make_sed()\n",
    "    cat.add_SED(s2)"
   ]
  },
  {
   "cell_type": "markdown",
   "metadata": {},
   "source": [
    "Then the aggregated results look like this:"
   ]
  },
  {
   "cell_type": "code",
   "execution_count": 47,
   "metadata": {
    "collapsed": false
   },
   "outputs": [
    {
     "data": {
      "text/html": [
       "<i>QTable length=11</i>\n",
       "<table id=\"table4734666232\" class=\"table-striped table-bordered table-condensed\">\n",
       "<thead><tr><th>name</th><th>age</th><th>age_unc</th><th>distance</th><th>distance_unc</th><th>parallax</th><th>parallax_unc</th><th>radius</th><th>radius_unc</th><th>spectral_type</th><th>spectral_type_unc</th><th>membership</th><th>fbol</th><th>fbol_unc</th><th>mbol</th><th>mbol_unc</th><th>Lbol</th><th>Lbol_unc</th><th>Lbol_sun</th><th>Lbol_sun_unc</th><th>Mbol</th><th>Mbol_unc</th><th>logg</th><th>logg_unc</th><th>mass</th><th>mass_unc</th><th>Teff</th><th>Teff_unc</th><th>SED</th><th>SDSS.u</th><th>SDSS.u_unc</th><th>M_SDSS.u</th><th>M_SDSS.u_unc</th><th>SDSS.g</th><th>SDSS.g_unc</th><th>M_SDSS.g</th><th>M_SDSS.g_unc</th><th>SDSS.r</th><th>SDSS.r_unc</th><th>M_SDSS.r</th><th>M_SDSS.r_unc</th><th>SDSS.i</th><th>SDSS.i_unc</th><th>M_SDSS.i</th><th>M_SDSS.i_unc</th><th>SDSS.z</th><th>SDSS.z_unc</th><th>M_SDSS.z</th><th>M_SDSS.z_unc</th><th>2MASS.J</th><th>2MASS.J_unc</th><th>M_2MASS.J</th><th>M_2MASS.J_unc</th><th>2MASS.H</th><th>2MASS.H_unc</th><th>M_2MASS.H</th><th>M_2MASS.H_unc</th><th>2MASS.Ks</th><th>2MASS.Ks_unc</th><th>M_2MASS.Ks</th><th>M_2MASS.Ks_unc</th><th>WISE.W1</th><th>WISE.W1_unc</th><th>M_WISE.W1</th><th>M_WISE.W1_unc</th><th>WISE.W2</th><th>WISE.W2_unc</th><th>M_WISE.W2</th><th>M_WISE.W2_unc</th><th>WISE.W3</th><th>WISE.W3_unc</th><th>M_WISE.W3</th><th>M_WISE.W3_unc</th></tr></thead>\n",
       "<thead><tr><th></th><th>Myr</th><th>Myr</th><th>pc</th><th>pc</th><th>mas</th><th>mas</th><th>6.957e+08 m</th><th></th><th></th><th></th><th></th><th>erg / (cm2 s)</th><th>erg / (cm2 s)</th><th></th><th></th><th>erg / s</th><th>erg / s</th><th></th><th></th><th></th><th></th><th></th><th></th><th>solMass</th><th>solMass</th><th>K</th><th>K</th><th></th><th></th><th></th><th></th><th></th><th></th><th></th><th></th><th></th><th></th><th></th><th></th><th></th><th></th><th></th><th></th><th></th><th></th><th></th><th></th><th></th><th></th><th></th><th></th><th></th><th></th><th></th><th></th><th></th><th></th><th></th><th></th><th></th><th></th><th></th><th></th><th></th><th></th><th></th><th></th><th></th><th></th><th></th><th></th><th></th></tr></thead>\n",
       "<thead><tr><th>object</th><th>float64</th><th>float64</th><th>float64</th><th>float64</th><th>float64</th><th>float64</th><th>float64</th><th>object</th><th>object</th><th>object</th><th>object</th><th>float64</th><th>float64</th><th>object</th><th>object</th><th>float64</th><th>float64</th><th>object</th><th>object</th><th>object</th><th>object</th><th>object</th><th>object</th><th>float64</th><th>float64</th><th>float64</th><th>float64</th><th>object</th><th>float64</th><th>float64</th><th>float64</th><th>float64</th><th>float64</th><th>float64</th><th>float64</th><th>float64</th><th>float64</th><th>float64</th><th>float64</th><th>float64</th><th>float64</th><th>float64</th><th>float64</th><th>float64</th><th>float64</th><th>float64</th><th>float64</th><th>float64</th><th>float64</th><th>float64</th><th>float64</th><th>float64</th><th>float64</th><th>float64</th><th>float64</th><th>float64</th><th>float64</th><th>float64</th><th>float64</th><th>float64</th><th>float64</th><th>float64</th><th>float64</th><th>float64</th><th>float64</th><th>float64</th><th>float64</th><th>float64</th><th>float64</th><th>float64</th><th>float64</th><th>float64</th></tr></thead>\n",
       "<tr><td>2MASS 261832886</td><td>6000.0</td><td>4000.0</td><td>572.28</td><td>16.41</td><td>1.7474</td><td>0.0501</td><td>0.8786209573091851</td><td>0.06782337214316517</td><td>60.0</td><td>0.5</td><td>None</td><td>9.344700986227546e-12</td><td>8.891778300076678e-14</td><td>16.092</td><td>0.01</td><td>3.66179055973561e+32</td><td>2.1287295997847215e+31</td><td>-1.019</td><td>0.025</td><td>7.304</td><td>0.033</td><td>4.5</td><td>0.07</td><td>0.8896913720017506</td><td>0.0</td><td>3424.0</td><td>141.0</td><td>&lt;SEDkit.sed.SED object at 0x11a68d4e0&gt;</td><td>20.486</td><td>0.073</td><td>67092.551</td><td>3847.73</td><td>17.779</td><td>0.006</td><td>58227.007</td><td>3339.293</td><td>16.431</td><td>0.004</td><td>53812.248</td><td>3086.108</td><td>15.843</td><td>0.004</td><td>51886.522</td><td>2975.669</td><td>15.514</td><td>0.005</td><td>50809.032</td><td>2913.875</td><td>14.391</td><td>0.029</td><td>47131.158</td><td>2702.951</td><td>13.677</td><td>0.032</td><td>44792.777</td><td>2568.846</td><td>13.535</td><td>0.034</td><td>44327.72</td><td>2542.176</td><td>13.55</td><td>0.027</td><td>44376.846</td><td>2544.993</td><td>13.581</td><td>0.035</td><td>44478.372</td><td>2550.815</td><td>12.884</td><td>0.0</td><td>42195.667</td><td>2419.902</td></tr>\n",
       "<tr><td>2MASS 2618328860</td><td>6000.0</td><td>4000.0</td><td>542.78</td><td>29.46</td><td>1.8423835404296787</td><td>0.1</td><td>0.8786209573091851</td><td>0.06782337214316517</td><td>60.0</td><td>0.5</td><td>None</td><td>9.344700986227546e-12</td><td>8.891778300076678e-14</td><td>16.092</td><td>0.01</td><td>3.2940033546053776e+32</td><td>3.58942636659248e+31</td><td>-1.065</td><td>0.047</td><td>7.419</td><td>0.06</td><td>4.5</td><td>0.07</td><td>0.8896913720017506</td><td>0.0</td><td>3335.0</td><td>157.0</td><td>&lt;SEDkit.sed.SED object at 0x11a2f4d30&gt;</td><td>20.486</td><td>0.073</td><td>60353.831</td><td>6551.546</td><td>17.779</td><td>0.006</td><td>52378.735</td><td>5685.83</td><td>16.431</td><td>0.004</td><td>48407.39</td><td>5254.732</td><td>15.843</td><td>0.004</td><td>46675.083</td><td>5066.686</td><td>15.514</td><td>0.005</td><td>45705.815</td><td>4961.47</td><td>14.391</td><td>0.029</td><td>42397.344</td><td>4602.328</td><td>13.677</td><td>0.032</td><td>40293.827</td><td>4373.987</td><td>13.535</td><td>0.034</td><td>39875.481</td><td>4328.574</td><td>13.55</td><td>0.027</td><td>39919.672</td><td>4333.371</td><td>13.581</td><td>0.035</td><td>40011.002</td><td>4343.285</td><td>12.884</td><td>0.0</td><td>37957.569</td><td>4120.38</td></tr>\n",
       "<tr><td>2MASS 2618328861</td><td>6000.0</td><td>4000.0</td><td>604.18</td><td>36.5</td><td>1.655142783544274</td><td>0.1</td><td>0.8786209573091851</td><td>0.06782337214316517</td><td>60.0</td><td>0.5</td><td>None</td><td>9.344700986227546e-12</td><td>8.891778300076678e-14</td><td>16.092</td><td>0.01</td><td>4.081398997241159e+32</td><td>4.946615589771715e+31</td><td>-0.972</td><td>0.053</td><td>7.186</td><td>0.066</td><td>4.5</td><td>0.07</td><td>0.8896913720017506</td><td>0.0</td><td>3518.0</td><td>172.0</td><td>&lt;SEDkit.sed.SED object at 0x11a4d36d8&gt;</td><td>20.486</td><td>0.073</td><td>74780.757</td><td>9035.38</td><td>17.779</td><td>0.006</td><td>64899.301</td><td>7841.453</td><td>16.431</td><td>0.004</td><td>59978.65</td><td>7246.916</td><td>15.843</td><td>0.004</td><td>57832.253</td><td>6987.577</td><td>15.514</td><td>0.005</td><td>56631.293</td><td>6842.471</td><td>14.391</td><td>0.029</td><td>52531.967</td><td>6347.171</td><td>13.677</td><td>0.032</td><td>49925.628</td><td>6032.26</td><td>13.535</td><td>0.034</td><td>49407.28</td><td>5969.631</td><td>13.55</td><td>0.027</td><td>49462.036</td><td>5976.247</td><td>13.581</td><td>0.035</td><td>49575.196</td><td>5989.919</td><td>12.884</td><td>0.0</td><td>47030.913</td><td>5682.506</td></tr>\n",
       "<tr><td>2MASS 2618328862</td><td>6000.0</td><td>4000.0</td><td>564.23</td><td>31.84</td><td>1.7723320109810539</td><td>0.1</td><td>0.8786209573091851</td><td>0.06782337214316517</td><td>60.0</td><td>0.5</td><td>None</td><td>9.344700986227546e-12</td><td>8.891778300076678e-14</td><td>16.092</td><td>0.01</td><td>3.559497656325819e+32</td><td>4.031564698151861e+31</td><td>-1.032</td><td>0.049</td><td>7.335</td><td>0.062</td><td>4.5</td><td>0.07</td><td>0.8896913720017506</td><td>0.0</td><td>3400.0</td><td>162.0</td><td>&lt;SEDkit.sed.SED object at 0x119f36a20&gt;</td><td>20.486</td><td>0.073</td><td>65218.306</td><td>7360.655</td><td>17.779</td><td>0.006</td><td>56600.423</td><td>6388.024</td><td>16.431</td><td>0.004</td><td>52308.991</td><td>5903.686</td><td>15.843</td><td>0.004</td><td>50437.061</td><td>5692.416</td><td>15.514</td><td>0.005</td><td>49389.671</td><td>5574.206</td><td>14.391</td><td>0.029</td><td>45814.539</td><td>5170.711</td><td>13.677</td><td>0.032</td><td>43541.481</td><td>4914.169</td><td>13.535</td><td>0.034</td><td>43089.416</td><td>4863.148</td><td>13.55</td><td>0.027</td><td>43137.169</td><td>4868.538</td><td>13.581</td><td>0.035</td><td>43235.859</td><td>4879.676</td><td>12.884</td><td>0.0</td><td>41016.922</td><td>4629.243</td></tr>\n",
       "<tr><td>2MASS 2618328863</td><td>6000.0</td><td>4000.0</td><td>650.12</td><td>42.27</td><td>1.5381658187005547</td><td>0.1</td><td>0.8786209573091851</td><td>0.06782337214316517</td><td>60.0</td><td>0.5</td><td>None</td><td>9.344700986227546e-12</td><td>8.891778300076678e-14</td><td>16.092</td><td>0.01</td><td>4.725670284449524e+32</td><td>6.161574736355391e+31</td><td>-0.909</td><td>0.057</td><td>7.027</td><td>0.071</td><td>4.5</td><td>0.07</td><td>0.8896913720017506</td><td>0.0</td><td>3650.0</td><td>184.0</td><td>&lt;SEDkit.sed.SED object at 0x11a4e26a0&gt;</td><td>20.486</td><td>0.073</td><td>86585.311</td><td>11259.341</td><td>17.779</td><td>0.006</td><td>75144.013</td><td>9771.542</td><td>16.431</td><td>0.004</td><td>69446.61</td><td>9030.666</td><td>15.843</td><td>0.004</td><td>66961.392</td><td>8707.494</td><td>15.514</td><td>0.005</td><td>65570.854</td><td>8526.672</td><td>14.391</td><td>0.029</td><td>60824.427</td><td>7909.459</td><td>13.677</td><td>0.032</td><td>57806.663</td><td>7517.036</td><td>13.535</td><td>0.034</td><td>57206.492</td><td>7438.991</td><td>13.55</td><td>0.027</td><td>57269.89</td><td>7447.235</td><td>13.581</td><td>0.035</td><td>57400.913</td><td>7464.273</td><td>12.884</td><td>0.0</td><td>54455.001</td><td>7081.194</td></tr>\n",
       "<tr><td>2MASS 2618328864</td><td>6000.0</td><td>4000.0</td><td>588.85</td><td>34.67</td><td>1.6982386100478353</td><td>0.1</td><td>0.8786209573091851</td><td>0.06782337214316517</td><td>60.0</td><td>0.5</td><td>None</td><td>9.344700986227546e-12</td><td>8.891778300076678e-14</td><td>16.092</td><td>0.01</td><td>3.876910029225488e+32</td><td>4.580133755009753e+31</td><td>-0.994</td><td>0.051</td><td>7.242</td><td>0.065</td><td>4.5</td><td>0.07</td><td>0.8896913720017506</td><td>0.0</td><td>3473.0</td><td>168.0</td><td>&lt;SEDkit.sed.SED object at 0x11a482588&gt;</td><td>20.486</td><td>0.073</td><td>71034.042</td><td>8364.611</td><td>17.779</td><td>0.006</td><td>61647.673</td><td>7259.318</td><td>16.431</td><td>0.004</td><td>56973.56</td><td>6708.918</td><td>15.843</td><td>0.004</td><td>54934.703</td><td>6468.833</td><td>15.514</td><td>0.005</td><td>53793.914</td><td>6334.499</td><td>14.391</td><td>0.029</td><td>49899.975</td><td>5875.969</td><td>13.677</td><td>0.032</td><td>47424.221</td><td>5584.437</td><td>13.535</td><td>0.034</td><td>46931.844</td><td>5526.457</td><td>13.55</td><td>0.027</td><td>46983.856</td><td>5532.582</td><td>13.581</td><td>0.035</td><td>47091.346</td><td>5545.239</td><td>12.884</td><td>0.0</td><td>44674.539</td><td>5260.648</td></tr>\n",
       "<tr><td>2MASS 2618328865</td><td>6000.0</td><td>4000.0</td><td>620.85</td><td>38.55</td><td>1.610698930587625</td><td>0.1</td><td>0.8786209573091851</td><td>0.06782337214316517</td><td>60.0</td><td>0.5</td><td>None</td><td>9.344700986227546e-12</td><td>8.891778300076678e-14</td><td>16.092</td><td>0.01</td><td>4.309726742454673e+32</td><td>5.367704112162978e+31</td><td>-0.949</td><td>0.054</td><td>7.127</td><td>0.068</td><td>4.5</td><td>0.07</td><td>0.8896913720017506</td><td>0.0</td><td>3566.0</td><td>176.0</td><td>&lt;SEDkit.sed.SED object at 0x11a4e2cc0&gt;</td><td>20.486</td><td>0.073</td><td>78964.254</td><td>9806.144</td><td>17.779</td><td>0.006</td><td>68529.995</td><td>8510.369</td><td>16.431</td><td>0.004</td><td>63334.065</td><td>7865.115</td><td>15.843</td><td>0.004</td><td>61067.592</td><td>7583.654</td><td>15.514</td><td>0.005</td><td>59799.446</td><td>7426.169</td><td>14.391</td><td>0.029</td><td>55470.789</td><td>6888.617</td><td>13.677</td><td>0.032</td><td>52718.642</td><td>6546.843</td><td>13.535</td><td>0.034</td><td>52171.297</td><td>6478.871</td><td>13.55</td><td>0.027</td><td>52229.115</td><td>6486.051</td><td>13.581</td><td>0.035</td><td>52348.606</td><td>6500.89</td><td>12.884</td><td>0.0</td><td>49661.986</td><td>6167.253</td></tr>\n",
       "<tr><td>2MASS 2618328866</td><td>6000.0</td><td>4000.0</td><td>595.33</td><td>35.44</td><td>1.6797426605316712</td><td>0.1</td><td>0.8786209573091851</td><td>0.06782337214316517</td><td>60.0</td><td>0.5</td><td>None</td><td>9.344700986227546e-12</td><td>8.891778300076678e-14</td><td>16.092</td><td>0.01</td><td>3.962706434394561e+32</td><td>4.733042517711718e+31</td><td>-0.985</td><td>0.052</td><td>7.218</td><td>0.065</td><td>4.5</td><td>0.07</td><td>0.8896913720017506</td><td>0.0</td><td>3492.0</td><td>170.0</td><td>&lt;SEDkit.sed.SED object at 0x11a5e12b0&gt;</td><td>20.486</td><td>0.073</td><td>72606.032</td><td>8644.477</td><td>17.779</td><td>0.006</td><td>63011.942</td><td>7502.203</td><td>16.431</td><td>0.004</td><td>58234.39</td><td>6933.387</td><td>15.843</td><td>0.004</td><td>56150.413</td><td>6685.269</td><td>15.514</td><td>0.005</td><td>54984.379</td><td>6546.441</td><td>14.391</td><td>0.029</td><td>51004.267</td><td>6072.569</td><td>13.677</td><td>0.032</td><td>48473.724</td><td>5771.283</td><td>13.535</td><td>0.034</td><td>47970.45</td><td>5711.363</td><td>13.55</td><td>0.027</td><td>48023.613</td><td>5717.692</td><td>13.581</td><td>0.035</td><td>48133.483</td><td>5730.774</td><td>12.884</td><td>0.0</td><td>45663.19</td><td>5436.66</td></tr>\n",
       "<tr><td>2MASS 2618328867</td><td>6000.0</td><td>4000.0</td><td>611.08</td><td>37.34</td><td>1.636433868282484</td><td>0.1</td><td>0.8786209573091851</td><td>0.06782337214316517</td><td>60.0</td><td>0.5</td><td>None</td><td>9.344700986227546e-12</td><td>8.891778300076678e-14</td><td>16.092</td><td>0.01</td><td>4.1751540446842356e+32</td><td>5.117892625533265e+31</td><td>-0.962</td><td>0.053</td><td>7.162</td><td>0.067</td><td>4.5</td><td>0.07</td><td>0.8896913720017506</td><td>0.0</td><td>3538.0</td><td>174.0</td><td>&lt;SEDkit.sed.SED object at 0x11a6dfe10&gt;</td><td>20.486</td><td>0.073</td><td>76498.568</td><td>9348.88</td><td>17.779</td><td>0.006</td><td>66390.122</td><td>8113.527</td><td>16.431</td><td>0.004</td><td>61356.438</td><td>7498.362</td><td>15.843</td><td>0.004</td><td>59160.735</td><td>7230.025</td><td>15.514</td><td>0.005</td><td>57932.187</td><td>7079.884</td><td>14.391</td><td>0.029</td><td>53738.695</td><td>6567.398</td><td>13.677</td><td>0.032</td><td>51072.485</td><td>6241.561</td><td>13.535</td><td>0.034</td><td>50542.23</td><td>6176.759</td><td>13.55</td><td>0.027</td><td>50598.243</td><td>6183.604</td><td>13.581</td><td>0.035</td><td>50714.003</td><td>6197.751</td><td>12.884</td><td>0.0</td><td>48111.274</td><td>5879.672</td></tr>\n",
       "<tr><td>2MASS 2618328868</td><td>6000.0</td><td>4000.0</td><td>584.26</td><td>34.14</td><td>1.7115567574073651</td><td>0.1</td><td>0.8786209573091851</td><td>0.06782337214316517</td><td>60.0</td><td>0.5</td><td>None</td><td>9.344700986227546e-12</td><td>8.891778300076678e-14</td><td>16.092</td><td>0.01</td><td>3.816705691105646e+32</td><td>4.475183291065923e+31</td><td>-1.001</td><td>0.051</td><td>7.259</td><td>0.064</td><td>4.5</td><td>0.07</td><td>0.8896913720017506</td><td>0.0</td><td>3460.0</td><td>167.0</td><td>&lt;SEDkit.sed.SED object at 0x11a6dada0&gt;</td><td>20.486</td><td>0.073</td><td>69930.958</td><td>8172.537</td><td>17.779</td><td>0.006</td><td>60690.35</td><td>7092.625</td><td>16.431</td><td>0.004</td><td>56088.82</td><td>6554.864</td><td>15.843</td><td>0.004</td><td>54081.625</td><td>6320.291</td><td>15.514</td><td>0.005</td><td>52958.551</td><td>6189.042</td><td>14.391</td><td>0.029</td><td>49125.081</td><td>5741.041</td><td>13.677</td><td>0.032</td><td>46687.773</td><td>5456.203</td><td>13.535</td><td>0.034</td><td>46203.042</td><td>5399.555</td><td>13.55</td><td>0.027</td><td>46254.246</td><td>5405.539</td><td>13.581</td><td>0.035</td><td>46360.067</td><td>5417.906</td><td>12.884</td><td>0.0</td><td>43980.79</td><td>5139.849</td></tr>\n",
       "<tr><td>2MASS 2618328869</td><td>6000.0</td><td>4000.0</td><td>571.42</td><td>32.65</td><td>1.7500139094968437</td><td>0.1</td><td>0.8786209573091851</td><td>0.06782337214316517</td><td>60.0</td><td>0.5</td><td>None</td><td>9.344700986227546e-12</td><td>8.891778300076678e-14</td><td>16.092</td><td>0.01</td><td>3.650793237867807e+32</td><td>4.18644415655932e+31</td><td>-1.021</td><td>0.05</td><td>7.307</td><td>0.063</td><td>4.5</td><td>0.07</td><td>0.8896913720017506</td><td>0.0</td><td>3421.0</td><td>164.0</td><td>&lt;SEDkit.sed.SED object at 0x11a2ff400&gt;</td><td>20.486</td><td>0.073</td><td>66891.054</td><td>7644.091</td><td>17.779</td><td>0.006</td><td>58052.136</td><td>6634.007</td><td>16.431</td><td>0.004</td><td>53650.635</td><td>6131.018</td><td>15.843</td><td>0.004</td><td>51730.693</td><td>5911.614</td><td>15.514</td><td>0.005</td><td>50656.439</td><td>5788.851</td><td>14.391</td><td>0.029</td><td>46989.611</td><td>5369.819</td><td>13.677</td><td>0.032</td><td>44658.252</td><td>5103.399</td><td>13.535</td><td>0.034</td><td>44194.592</td><td>5050.413</td><td>13.55</td><td>0.027</td><td>44243.571</td><td>5056.01</td><td>13.581</td><td>0.035</td><td>44344.792</td><td>5067.578</td><td>12.884</td><td>0.0</td><td>42068.942</td><td>4807.5</td></tr>\n",
       "</table>"
      ],
      "text/plain": [
       "<QTable length=11>\n",
       "      name         age   age_unc ... WISE.W3_unc M_WISE.W3 M_WISE.W3_unc\n",
       "                   Myr     Myr   ...                                    \n",
       "     object      float64 float64 ...   float64    float64     float64   \n",
       "---------------- ------- ------- ... ----------- --------- -------------\n",
       " 2MASS 261832886  6000.0  4000.0 ...         0.0 42195.667      2419.902\n",
       "2MASS 2618328860  6000.0  4000.0 ...         0.0 37957.569       4120.38\n",
       "2MASS 2618328861  6000.0  4000.0 ...         0.0 47030.913      5682.506\n",
       "2MASS 2618328862  6000.0  4000.0 ...         0.0 41016.922      4629.243\n",
       "2MASS 2618328863  6000.0  4000.0 ...         0.0 54455.001      7081.194\n",
       "2MASS 2618328864  6000.0  4000.0 ...         0.0 44674.539      5260.648\n",
       "2MASS 2618328865  6000.0  4000.0 ...         0.0 49661.986      6167.253\n",
       "2MASS 2618328866  6000.0  4000.0 ...         0.0  45663.19       5436.66\n",
       "2MASS 2618328867  6000.0  4000.0 ...         0.0 48111.274      5879.672\n",
       "2MASS 2618328868  6000.0  4000.0 ...         0.0  43980.79      5139.849\n",
       "2MASS 2618328869  6000.0  4000.0 ...         0.0 42068.942        4807.5"
      ]
     },
     "execution_count": 47,
     "metadata": {},
     "output_type": "execute_result"
    }
   ],
   "source": [
    "cat.results"
   ]
  },
  {
   "cell_type": "markdown",
   "metadata": {},
   "source": [
    "We can also plot the results by passing the `plot` method two column names."
   ]
  },
  {
   "cell_type": "code",
   "execution_count": 50,
   "metadata": {
    "collapsed": false
   },
   "outputs": [
    {
     "data": {
      "text/html": [
       "\n",
       "\n",
       "    <div class=\"bk-root\">\n",
       "        <div class=\"bk-plotdiv\" id=\"96fdbf91-7394-455c-86ae-a443bcec55b4\"></div>\n",
       "    </div>\n",
       "<script type=\"text/javascript\">\n",
       "  \n",
       "  (function(global) {\n",
       "    function now() {\n",
       "      return new Date();\n",
       "    }\n",
       "  \n",
       "    var force = false;\n",
       "  \n",
       "    if (typeof (window._bokeh_onload_callbacks) === \"undefined\" || force === true) {\n",
       "      window._bokeh_onload_callbacks = [];\n",
       "      window._bokeh_is_loading = undefined;\n",
       "    }\n",
       "  \n",
       "  \n",
       "    \n",
       "    if (typeof (window._bokeh_timeout) === \"undefined\" || force === true) {\n",
       "      window._bokeh_timeout = Date.now() + 0;\n",
       "      window._bokeh_failed_load = false;\n",
       "    }\n",
       "  \n",
       "    var NB_LOAD_WARNING = {'data': {'text/html':\n",
       "       \"<div style='background-color: #fdd'>\\n\"+\n",
       "       \"<p>\\n\"+\n",
       "       \"BokehJS does not appear to have successfully loaded. If loading BokehJS from CDN, this \\n\"+\n",
       "       \"may be due to a slow or bad network connection. Possible fixes:\\n\"+\n",
       "       \"</p>\\n\"+\n",
       "       \"<ul>\\n\"+\n",
       "       \"<li>re-rerun `output_notebook()` to attempt to load from CDN again, or</li>\\n\"+\n",
       "       \"<li>use INLINE resources instead, as so:</li>\\n\"+\n",
       "       \"</ul>\\n\"+\n",
       "       \"<code>\\n\"+\n",
       "       \"from bokeh.resources import INLINE\\n\"+\n",
       "       \"output_notebook(resources=INLINE)\\n\"+\n",
       "       \"</code>\\n\"+\n",
       "       \"</div>\"}};\n",
       "  \n",
       "    function display_loaded() {\n",
       "      if (window.Bokeh !== undefined) {\n",
       "        var el = document.getElementById(\"96fdbf91-7394-455c-86ae-a443bcec55b4\");\n",
       "        el.textContent = \"BokehJS \" + Bokeh.version + \" successfully loaded.\";\n",
       "      } else if (Date.now() < window._bokeh_timeout) {\n",
       "        setTimeout(display_loaded, 100)\n",
       "      }\n",
       "    }\n",
       "  \n",
       "    function run_callbacks() {\n",
       "      try {\n",
       "        window._bokeh_onload_callbacks.forEach(function(callback) { callback() });\n",
       "      }\n",
       "      finally {\n",
       "        delete window._bokeh_onload_callbacks\n",
       "      }\n",
       "      console.info(\"Bokeh: all callbacks have finished\");\n",
       "    }\n",
       "  \n",
       "    function load_libs(js_urls, callback) {\n",
       "      window._bokeh_onload_callbacks.push(callback);\n",
       "      if (window._bokeh_is_loading > 0) {\n",
       "        console.log(\"Bokeh: BokehJS is being loaded, scheduling callback at\", now());\n",
       "        return null;\n",
       "      }\n",
       "      if (js_urls == null || js_urls.length === 0) {\n",
       "        run_callbacks();\n",
       "        return null;\n",
       "      }\n",
       "      console.log(\"Bokeh: BokehJS not loaded, scheduling load and callback at\", now());\n",
       "      window._bokeh_is_loading = js_urls.length;\n",
       "      for (var i = 0; i < js_urls.length; i++) {\n",
       "        var url = js_urls[i];\n",
       "        var s = document.createElement('script');\n",
       "        s.src = url;\n",
       "        s.async = false;\n",
       "        s.onreadystatechange = s.onload = function() {\n",
       "          window._bokeh_is_loading--;\n",
       "          if (window._bokeh_is_loading === 0) {\n",
       "            console.log(\"Bokeh: all BokehJS libraries loaded\");\n",
       "            run_callbacks()\n",
       "          }\n",
       "        };\n",
       "        s.onerror = function() {\n",
       "          console.warn(\"failed to load library \" + url);\n",
       "        };\n",
       "        console.log(\"Bokeh: injecting script tag for BokehJS library: \", url);\n",
       "        document.getElementsByTagName(\"head\")[0].appendChild(s);\n",
       "      }\n",
       "    };var element = document.getElementById(\"96fdbf91-7394-455c-86ae-a443bcec55b4\");\n",
       "    if (element == null) {\n",
       "      console.log(\"Bokeh: ERROR: autoload.js configured with elementid '96fdbf91-7394-455c-86ae-a443bcec55b4' but no matching script tag was found. \")\n",
       "      return false;\n",
       "    }\n",
       "  \n",
       "    var js_urls = [];\n",
       "  \n",
       "    var inline_js = [\n",
       "      function(Bokeh) {\n",
       "        (function() {\n",
       "          var fn = function() {\n",
       "            var docs_json = {\"531f7c6b-71aa-425f-a432-cbb5ceeb8d12\":{\"roots\":{\"references\":[{\"attributes\":{\"fill_alpha\":{\"value\":0.7},\"fill_color\":{\"value\":\"#1f77b4\"},\"line_color\":{\"value\":\"#1f77b4\"},\"size\":{\"units\":\"screen\",\"value\":8},\"x\":{\"field\":\"x\"},\"y\":{\"field\":\"y\"}},\"id\":\"e27244a3-c729-4319-8d56-5d0c2a9d4bac\",\"type\":\"Circle\"},{\"attributes\":{\"callback\":null,\"plot\":{\"id\":\"29015a0f-af9b-48f0-a05e-9a38b20f624b\",\"subtype\":\"Figure\",\"type\":\"Plot\"},\"tooltips\":[[\"Name\",\"@desc\"],[\"2MASS.J-2MASS.Ks\",\"@x\"],[\"M_2MASS.J\",\"@y\"]]},\"id\":\"96749c2f-7a48-46e6-930e-418d10ba149b\",\"type\":\"HoverTool\"},{\"attributes\":{},\"id\":\"f5cd7796-6f47-4fdb-ae96-c332cabd9908\",\"type\":\"ToolEvents\"},{\"attributes\":{\"dimension\":1,\"plot\":{\"id\":\"29015a0f-af9b-48f0-a05e-9a38b20f624b\",\"subtype\":\"Figure\",\"type\":\"Plot\"},\"ticker\":{\"id\":\"e2ab9646-66e1-47a3-b009-d21d9fc60ad8\",\"type\":\"BasicTicker\"}},\"id\":\"fd002007-1e0a-4420-9288-c1d7a7ee4ec5\",\"type\":\"Grid\"},{\"attributes\":{\"plot\":{\"id\":\"29015a0f-af9b-48f0-a05e-9a38b20f624b\",\"subtype\":\"Figure\",\"type\":\"Plot\"},\"ticker\":{\"id\":\"bbd1536f-d79f-4293-8a0b-45f14a054576\",\"type\":\"BasicTicker\"}},\"id\":\"6f4e9d59-26d0-4cab-aef6-712d853034a3\",\"type\":\"Grid\"},{\"attributes\":{\"plot\":{\"id\":\"29015a0f-af9b-48f0-a05e-9a38b20f624b\",\"subtype\":\"Figure\",\"type\":\"Plot\"}},\"id\":\"3234d1fa-a6e9-4571-84b8-13b00af8cc9a\",\"type\":\"ResizeTool\"},{\"attributes\":{},\"id\":\"153060f4-2219-4995-a900-b456851f3023\",\"type\":\"LinearScale\"},{\"attributes\":{},\"id\":\"362b5134-3fb7-48f4-b9f9-7cd01f19f2ca\",\"type\":\"BasicTickFormatter\"},{\"attributes\":{},\"id\":\"bbd1536f-d79f-4293-8a0b-45f14a054576\",\"type\":\"BasicTicker\"},{\"attributes\":{\"axis_label\":\"2MASS.J-2MASS.Ks [None]\",\"formatter\":{\"id\":\"362b5134-3fb7-48f4-b9f9-7cd01f19f2ca\",\"type\":\"BasicTickFormatter\"},\"plot\":{\"id\":\"29015a0f-af9b-48f0-a05e-9a38b20f624b\",\"subtype\":\"Figure\",\"type\":\"Plot\"},\"ticker\":{\"id\":\"bbd1536f-d79f-4293-8a0b-45f14a054576\",\"type\":\"BasicTicker\"}},\"id\":\"82f4c154-4855-4991-8214-491484336dcf\",\"type\":\"LinearAxis\"},{\"attributes\":{},\"id\":\"3629e695-b764-48e6-bd34-084393865407\",\"type\":\"BasicTickFormatter\"},{\"attributes\":{\"plot\":{\"id\":\"29015a0f-af9b-48f0-a05e-9a38b20f624b\",\"subtype\":\"Figure\",\"type\":\"Plot\"}},\"id\":\"215c01d5-e9bd-4c8b-8d8b-68c2586ab54a\",\"type\":\"SaveTool\"},{\"attributes\":{\"overlay\":{\"id\":\"8064512f-530a-4a87-804f-71e13cc98044\",\"type\":\"BoxAnnotation\"},\"plot\":{\"id\":\"29015a0f-af9b-48f0-a05e-9a38b20f624b\",\"subtype\":\"Figure\",\"type\":\"Plot\"}},\"id\":\"2b5501b0-9508-4d26-a015-82c7f9f9a1e9\",\"type\":\"BoxZoomTool\"},{\"attributes\":{\"click_policy\":\"hide\",\"items\":[{\"id\":\"d76dabb9-a46a-4e69-a316-0b6eb0ac072b\",\"type\":\"LegendItem\"}],\"plot\":{\"id\":\"29015a0f-af9b-48f0-a05e-9a38b20f624b\",\"subtype\":\"Figure\",\"type\":\"Plot\"}},\"id\":\"a246f18d-79b0-41b7-863d-6f4ffd5293be\",\"type\":\"Legend\"},{\"attributes\":{\"axis_label\":\"M_2MASS.J [None]\",\"formatter\":{\"id\":\"3629e695-b764-48e6-bd34-084393865407\",\"type\":\"BasicTickFormatter\"},\"plot\":{\"id\":\"29015a0f-af9b-48f0-a05e-9a38b20f624b\",\"subtype\":\"Figure\",\"type\":\"Plot\"},\"ticker\":{\"id\":\"e2ab9646-66e1-47a3-b009-d21d9fc60ad8\",\"type\":\"BasicTicker\"}},\"id\":\"44772417-cdb3-4424-b612-3d925db0bc95\",\"type\":\"LinearAxis\"},{\"attributes\":{},\"id\":\"e2ab9646-66e1-47a3-b009-d21d9fc60ad8\",\"type\":\"BasicTicker\"},{\"attributes\":{\"callback\":null},\"id\":\"84c14e94-05c9-4677-ac19-eafebe0b7662\",\"type\":\"DataRange1d\"},{\"attributes\":{\"data_source\":{\"id\":\"d5005506-d6cc-4bb2-8548-9a549df715d7\",\"type\":\"ColumnDataSource\"},\"glyph\":{\"id\":\"e27244a3-c729-4319-8d56-5d0c2a9d4bac\",\"type\":\"Circle\"},\"hover_glyph\":null,\"muted_glyph\":null,\"name\":\"photometry\",\"nonselection_glyph\":{\"id\":\"2fe82a72-d5d1-446f-ab64-a1bb10df7eac\",\"type\":\"Circle\"},\"selection_glyph\":null},\"id\":\"b0bf0ee5-249d-416b-bfd1-5f3eca2bf5ce\",\"type\":\"GlyphRenderer\"},{\"attributes\":{\"active_drag\":\"auto\",\"active_inspect\":\"auto\",\"active_scroll\":\"auto\",\"active_tap\":\"auto\",\"tools\":[{\"id\":\"14b983ac-7726-49cb-9b12-41bdc06bdcb4\",\"type\":\"PanTool\"},{\"id\":\"3234d1fa-a6e9-4571-84b8-13b00af8cc9a\",\"type\":\"ResizeTool\"},{\"id\":\"a246c644-ff3f-4579-ab09-f397356221ea\",\"type\":\"ResetTool\"},{\"id\":\"2b5501b0-9508-4d26-a015-82c7f9f9a1e9\",\"type\":\"BoxZoomTool\"},{\"id\":\"215c01d5-e9bd-4c8b-8d8b-68c2586ab54a\",\"type\":\"SaveTool\"},{\"id\":\"96749c2f-7a48-46e6-930e-418d10ba149b\",\"type\":\"HoverTool\"}]},\"id\":\"9d080d2b-637b-4aa5-8390-34ddb3593634\",\"type\":\"Toolbar\"},{\"attributes\":{\"plot\":null,\"text\":\"2MASS.J-2MASS.Ks v M_2MASS.J\"},\"id\":\"8ea22c58-3caf-4923-b39d-ed44556924b8\",\"type\":\"Title\"},{\"attributes\":{\"plot\":{\"id\":\"29015a0f-af9b-48f0-a05e-9a38b20f624b\",\"subtype\":\"Figure\",\"type\":\"Plot\"}},\"id\":\"14b983ac-7726-49cb-9b12-41bdc06bdcb4\",\"type\":\"PanTool\"},{\"attributes\":{},\"id\":\"c07e8165-8ffe-4cc4-8c22-14f9edf4025e\",\"type\":\"LinearScale\"},{\"attributes\":{\"label\":{\"value\":\"Photometry\"},\"renderers\":[{\"id\":\"b0bf0ee5-249d-416b-bfd1-5f3eca2bf5ce\",\"type\":\"GlyphRenderer\"}]},\"id\":\"d76dabb9-a46a-4e69-a316-0b6eb0ac072b\",\"type\":\"LegendItem\"},{\"attributes\":{\"plot\":{\"id\":\"29015a0f-af9b-48f0-a05e-9a38b20f624b\",\"subtype\":\"Figure\",\"type\":\"Plot\"}},\"id\":\"a246c644-ff3f-4579-ab09-f397356221ea\",\"type\":\"ResetTool\"},{\"attributes\":{\"callback\":null,\"column_names\":[\"desc\",\"y\",\"x\"],\"data\":{\"desc\":[\"2MASS 261832886\",\"2MASS 2618328860\",\"2MASS 2618328861\",\"2MASS 2618328862\",\"2MASS 2618328863\",\"2MASS 2618328864\",\"2MASS 2618328865\",\"2MASS 2618328866\",\"2MASS 2618328867\",\"2MASS 2618328868\",\"2MASS 2618328869\"],\"x\":{\"__ndarray__\":\"MAisHFpk6z8wCKwcWmTrPzAIrBxaZOs/MAisHFpk6z8wCKwcWmTrPzAIrBxaZOs/MAisHFpk6z8wCKwcWmTrPzAIrBxaZOs/MAisHFpk6z8wCKwcWmTrPw==\",\"dtype\":\"float64\",\"shape\":[11]},\"y\":{\"__ndarray__\":\"GQRWDmUD50C6SQwCq7PkQOf7qfF+pulAke18P9Fe5kBt5/upDbPtQDMzMzN/XehAke18P9kV60CBlUOLiOfoQNejcD1WPepA30+Nl6L850A730+Ns/HmQA==\",\"dtype\":\"float64\",\"shape\":[11]}}},\"id\":\"d5005506-d6cc-4bb2-8548-9a549df715d7\",\"type\":\"ColumnDataSource\"},{\"attributes\":{\"fill_alpha\":{\"value\":0.1},\"fill_color\":{\"value\":\"#1f77b4\"},\"line_alpha\":{\"value\":0.1},\"line_color\":{\"value\":\"#1f77b4\"},\"size\":{\"units\":\"screen\",\"value\":8},\"x\":{\"field\":\"x\"},\"y\":{\"field\":\"y\"}},\"id\":\"2fe82a72-d5d1-446f-ab64-a1bb10df7eac\",\"type\":\"Circle\"},{\"attributes\":{\"below\":[{\"id\":\"82f4c154-4855-4991-8214-491484336dcf\",\"type\":\"LinearAxis\"}],\"left\":[{\"id\":\"44772417-cdb3-4424-b612-3d925db0bc95\",\"type\":\"LinearAxis\"}],\"plot_height\":500,\"plot_width\":800,\"renderers\":[{\"id\":\"82f4c154-4855-4991-8214-491484336dcf\",\"type\":\"LinearAxis\"},{\"id\":\"6f4e9d59-26d0-4cab-aef6-712d853034a3\",\"type\":\"Grid\"},{\"id\":\"44772417-cdb3-4424-b612-3d925db0bc95\",\"type\":\"LinearAxis\"},{\"id\":\"fd002007-1e0a-4420-9288-c1d7a7ee4ec5\",\"type\":\"Grid\"},{\"id\":\"8064512f-530a-4a87-804f-71e13cc98044\",\"type\":\"BoxAnnotation\"},{\"id\":\"a246f18d-79b0-41b7-863d-6f4ffd5293be\",\"type\":\"Legend\"},{\"id\":\"b0bf0ee5-249d-416b-bfd1-5f3eca2bf5ce\",\"type\":\"GlyphRenderer\"}],\"title\":{\"id\":\"8ea22c58-3caf-4923-b39d-ed44556924b8\",\"type\":\"Title\"},\"tool_events\":{\"id\":\"f5cd7796-6f47-4fdb-ae96-c332cabd9908\",\"type\":\"ToolEvents\"},\"toolbar\":{\"id\":\"9d080d2b-637b-4aa5-8390-34ddb3593634\",\"type\":\"Toolbar\"},\"x_range\":{\"id\":\"84c14e94-05c9-4677-ac19-eafebe0b7662\",\"type\":\"DataRange1d\"},\"x_scale\":{\"id\":\"153060f4-2219-4995-a900-b456851f3023\",\"type\":\"LinearScale\"},\"y_range\":{\"id\":\"d12b086b-bbbf-431b-a7d6-5d1b3c28d295\",\"type\":\"DataRange1d\"},\"y_scale\":{\"id\":\"c07e8165-8ffe-4cc4-8c22-14f9edf4025e\",\"type\":\"LinearScale\"}},\"id\":\"29015a0f-af9b-48f0-a05e-9a38b20f624b\",\"subtype\":\"Figure\",\"type\":\"Plot\"},{\"attributes\":{\"callback\":null},\"id\":\"d12b086b-bbbf-431b-a7d6-5d1b3c28d295\",\"type\":\"DataRange1d\"},{\"attributes\":{\"bottom_units\":\"screen\",\"fill_alpha\":{\"value\":0.5},\"fill_color\":{\"value\":\"lightgrey\"},\"left_units\":\"screen\",\"level\":\"overlay\",\"line_alpha\":{\"value\":1.0},\"line_color\":{\"value\":\"black\"},\"line_dash\":[4,4],\"line_width\":{\"value\":2},\"plot\":null,\"render_mode\":\"css\",\"right_units\":\"screen\",\"top_units\":\"screen\"},\"id\":\"8064512f-530a-4a87-804f-71e13cc98044\",\"type\":\"BoxAnnotation\"}],\"root_ids\":[\"29015a0f-af9b-48f0-a05e-9a38b20f624b\"]},\"title\":\"Bokeh Application\",\"version\":\"0.12.6\"}};\n",
       "            var render_items = [{\"docid\":\"531f7c6b-71aa-425f-a432-cbb5ceeb8d12\",\"elementid\":\"96fdbf91-7394-455c-86ae-a443bcec55b4\",\"modelid\":\"29015a0f-af9b-48f0-a05e-9a38b20f624b\"}];\n",
       "            \n",
       "            Bokeh.embed.embed_items(docs_json, render_items);\n",
       "          };\n",
       "          if (document.readyState != \"loading\") fn();\n",
       "          else document.addEventListener(\"DOMContentLoaded\", fn);\n",
       "        })();\n",
       "      },\n",
       "      function(Bokeh) {\n",
       "      }\n",
       "    ];\n",
       "  \n",
       "    function run_inline_js() {\n",
       "      \n",
       "      if ((window.Bokeh !== undefined) || (force === true)) {\n",
       "        for (var i = 0; i < inline_js.length; i++) {\n",
       "          inline_js[i](window.Bokeh);\n",
       "        }if (force === true) {\n",
       "          display_loaded();\n",
       "        }} else if (Date.now() < window._bokeh_timeout) {\n",
       "        setTimeout(run_inline_js, 100);\n",
       "      } else if (!window._bokeh_failed_load) {\n",
       "        console.log(\"Bokeh: BokehJS failed to load within specified timeout.\");\n",
       "        window._bokeh_failed_load = true;\n",
       "      } else if (force !== true) {\n",
       "        var cell = $(document.getElementById(\"96fdbf91-7394-455c-86ae-a443bcec55b4\")).parents('.cell').data().cell;\n",
       "        cell.output_area.append_execute_result(NB_LOAD_WARNING)\n",
       "      }\n",
       "  \n",
       "    }\n",
       "  \n",
       "    if (window._bokeh_is_loading === 0) {\n",
       "      console.log(\"Bokeh: BokehJS loaded, going straight to plotting\");\n",
       "      run_inline_js();\n",
       "    } else {\n",
       "      load_libs(js_urls, function() {\n",
       "        console.log(\"Bokeh: BokehJS plotting callback run at\", now());\n",
       "        run_inline_js();\n",
       "      });\n",
       "    }\n",
       "  }(this));\n",
       "</script>"
      ]
     },
     "metadata": {},
     "output_type": "display_data"
    }
   ],
   "source": [
    "show(cat.plot('2MASS.J-2MASS.Ks', 'M_2MASS.J'))"
   ]
  },
  {
   "cell_type": "markdown",
   "metadata": {},
   "source": [
    "Or plot a CMD!"
   ]
  },
  {
   "cell_type": "code",
   "execution_count": null,
   "metadata": {
    "collapsed": true
   },
   "outputs": [],
   "source": [
    "show(cat.plot('distance', 'Teff'))"
   ]
  },
  {
   "cell_type": "markdown",
   "metadata": {},
   "source": [
    "We can then retrieve the SED for a particular source like so:"
   ]
  },
  {
   "cell_type": "code",
   "execution_count": 7,
   "metadata": {
    "collapsed": false
   },
   "outputs": [
    {
     "data": {
      "text/html": [
       "\n",
       "\n",
       "    <div class=\"bk-root\">\n",
       "        <div class=\"bk-plotdiv\" id=\"1d52488a-0844-4ebb-826e-8394f82dd290\"></div>\n",
       "    </div>\n",
       "<script type=\"text/javascript\">\n",
       "  \n",
       "  (function(global) {\n",
       "    function now() {\n",
       "      return new Date();\n",
       "    }\n",
       "  \n",
       "    var force = false;\n",
       "  \n",
       "    if (typeof (window._bokeh_onload_callbacks) === \"undefined\" || force === true) {\n",
       "      window._bokeh_onload_callbacks = [];\n",
       "      window._bokeh_is_loading = undefined;\n",
       "    }\n",
       "  \n",
       "  \n",
       "    \n",
       "    if (typeof (window._bokeh_timeout) === \"undefined\" || force === true) {\n",
       "      window._bokeh_timeout = Date.now() + 0;\n",
       "      window._bokeh_failed_load = false;\n",
       "    }\n",
       "  \n",
       "    var NB_LOAD_WARNING = {'data': {'text/html':\n",
       "       \"<div style='background-color: #fdd'>\\n\"+\n",
       "       \"<p>\\n\"+\n",
       "       \"BokehJS does not appear to have successfully loaded. If loading BokehJS from CDN, this \\n\"+\n",
       "       \"may be due to a slow or bad network connection. Possible fixes:\\n\"+\n",
       "       \"</p>\\n\"+\n",
       "       \"<ul>\\n\"+\n",
       "       \"<li>re-rerun `output_notebook()` to attempt to load from CDN again, or</li>\\n\"+\n",
       "       \"<li>use INLINE resources instead, as so:</li>\\n\"+\n",
       "       \"</ul>\\n\"+\n",
       "       \"<code>\\n\"+\n",
       "       \"from bokeh.resources import INLINE\\n\"+\n",
       "       \"output_notebook(resources=INLINE)\\n\"+\n",
       "       \"</code>\\n\"+\n",
       "       \"</div>\"}};\n",
       "  \n",
       "    function display_loaded() {\n",
       "      if (window.Bokeh !== undefined) {\n",
       "        var el = document.getElementById(\"1d52488a-0844-4ebb-826e-8394f82dd290\");\n",
       "        el.textContent = \"BokehJS \" + Bokeh.version + \" successfully loaded.\";\n",
       "      } else if (Date.now() < window._bokeh_timeout) {\n",
       "        setTimeout(display_loaded, 100)\n",
       "      }\n",
       "    }\n",
       "  \n",
       "    function run_callbacks() {\n",
       "      try {\n",
       "        window._bokeh_onload_callbacks.forEach(function(callback) { callback() });\n",
       "      }\n",
       "      finally {\n",
       "        delete window._bokeh_onload_callbacks\n",
       "      }\n",
       "      console.info(\"Bokeh: all callbacks have finished\");\n",
       "    }\n",
       "  \n",
       "    function load_libs(js_urls, callback) {\n",
       "      window._bokeh_onload_callbacks.push(callback);\n",
       "      if (window._bokeh_is_loading > 0) {\n",
       "        console.log(\"Bokeh: BokehJS is being loaded, scheduling callback at\", now());\n",
       "        return null;\n",
       "      }\n",
       "      if (js_urls == null || js_urls.length === 0) {\n",
       "        run_callbacks();\n",
       "        return null;\n",
       "      }\n",
       "      console.log(\"Bokeh: BokehJS not loaded, scheduling load and callback at\", now());\n",
       "      window._bokeh_is_loading = js_urls.length;\n",
       "      for (var i = 0; i < js_urls.length; i++) {\n",
       "        var url = js_urls[i];\n",
       "        var s = document.createElement('script');\n",
       "        s.src = url;\n",
       "        s.async = false;\n",
       "        s.onreadystatechange = s.onload = function() {\n",
       "          window._bokeh_is_loading--;\n",
       "          if (window._bokeh_is_loading === 0) {\n",
       "            console.log(\"Bokeh: all BokehJS libraries loaded\");\n",
       "            run_callbacks()\n",
       "          }\n",
       "        };\n",
       "        s.onerror = function() {\n",
       "          console.warn(\"failed to load library \" + url);\n",
       "        };\n",
       "        console.log(\"Bokeh: injecting script tag for BokehJS library: \", url);\n",
       "        document.getElementsByTagName(\"head\")[0].appendChild(s);\n",
       "      }\n",
       "    };var element = document.getElementById(\"1d52488a-0844-4ebb-826e-8394f82dd290\");\n",
       "    if (element == null) {\n",
       "      console.log(\"Bokeh: ERROR: autoload.js configured with elementid '1d52488a-0844-4ebb-826e-8394f82dd290' but no matching script tag was found. \")\n",
       "      return false;\n",
       "    }\n",
       "  \n",
       "    var js_urls = [];\n",
       "  \n",
       "    var inline_js = [\n",
       "      function(Bokeh) {\n",
       "        (function() {\n",
       "          var fn = function() {\n",
       "            var docs_json = {\"de51a81b-b46e-4ba7-81e3-eae132ec5334\":{\"roots\":{\"references\":[{\"attributes\":{\"dimension\":1,\"plot\":{\"id\":\"130d09c4-b1bb-4bad-bb3c-f10166675024\",\"subtype\":\"Figure\",\"type\":\"Plot\"},\"ticker\":{\"id\":\"c30e9fb8-779d-4268-b586-024b766494f0\",\"type\":\"LogTicker\"}},\"id\":\"9178c08c-186b-467d-b90a-0e51ddb7617a\",\"type\":\"Grid\"},{\"attributes\":{\"callback\":null,\"end\":1.33062122354094e-15,\"start\":2.1105194667034085e-19},\"id\":\"2dc4792c-74cd-406e-bf3f-1ee9b80d3705\",\"type\":\"Range1d\"},{\"attributes\":{\"plot\":{\"id\":\"130d09c4-b1bb-4bad-bb3c-f10166675024\",\"subtype\":\"Figure\",\"type\":\"Plot\"}},\"id\":\"57f62467-2dce-48e3-8805-04402b2be39c\",\"type\":\"ResizeTool\"},{\"attributes\":{\"plot\":{\"id\":\"130d09c4-b1bb-4bad-bb3c-f10166675024\",\"subtype\":\"Figure\",\"type\":\"Plot\"},\"ticker\":{\"id\":\"8a1a98c2-abda-4570-b5a1-869d726822fa\",\"type\":\"LogTicker\"}},\"id\":\"6e93440e-b2d0-47c4-bdac-25c236fb8c9e\",\"type\":\"Grid\"},{\"attributes\":{\"num_minor_ticks\":10},\"id\":\"c30e9fb8-779d-4268-b586-024b766494f0\",\"type\":\"LogTicker\"},{\"attributes\":{\"callback\":null,\"column_names\":[\"z\",\"desc\",\"y\",\"x\"],\"data\":{\"desc\":[\"b'SDSS.u'\",\"b'SDSS.g'\",\"b'SDSS.r'\",\"b'SDSS.i'\",\"b'SDSS.z'\",\"b'2MASS.J'\",\"b'2MASS.H'\",\"b'2MASS.Ks'\",\"b'WISE.W1'\",\"b'WISE.W2'\",\"b'WISE.W3'\"],\"x\":{\"__ndarray__\":\"eNlVRQLD1j+8rNt5kRjePxiqmcIIw+M/iHoI/sn35z9961v8JKHsPxnAPwE21PM//NdpkFRk+j/b9fYklk8BQLb6mJQdHgtAztF7ywKQEkDPcRuhmyIpQA==\",\"dtype\":\"float64\",\"shape\":[11]},\"y\":{\"__ndarray__\":\"RDnBRQdlezzk+mJun/a9PLYDUURo+Mc8OltTiBIMxzx47lI04d3CPNtLmY+CpMM8OhyIXnJ/uzxe5/b/qLenPEycLGlOs4E84enioNtfZDw2/00uUSUfPA==\",\"dtype\":\"float64\",\"shape\":[11]},\"z\":{\"__ndarray__\":\"I5bdy2N4PTxzg8LG2DFFPEYXu/B7m0Y85ORpZ5a8RTytQXIbDz5GPHi6MUv3yXA8AKWu/SzvaTw+fBLcUcRXPMooDj7JKyw8bmUN6nUEFTwAAAAAAAAAAA==\",\"dtype\":\"float64\",\"shape\":[11]}}},\"id\":\"8f1d15df-19b5-4430-8994-1df5922a9fdb\",\"type\":\"ColumnDataSource\"},{\"attributes\":{\"fill_alpha\":{\"value\":0.7},\"fill_color\":{\"value\":\"#1f77b4\"},\"line_color\":{\"value\":\"#1f77b4\"},\"size\":{\"units\":\"screen\",\"value\":8},\"x\":{\"field\":\"x\"},\"y\":{\"field\":\"y\"}},\"id\":\"e794c2b7-b1e2-4a9a-be2e-54c154e0a8e6\",\"type\":\"Circle\"},{\"attributes\":{},\"id\":\"194b8029-da1e-42dc-a74f-c87c5185273c\",\"type\":\"LogScale\"},{\"attributes\":{\"active_drag\":\"auto\",\"active_inspect\":\"auto\",\"active_scroll\":\"auto\",\"active_tap\":\"auto\",\"tools\":[{\"id\":\"f306f987-2fb6-446a-818a-fa01e1756921\",\"type\":\"PanTool\"},{\"id\":\"57f62467-2dce-48e3-8805-04402b2be39c\",\"type\":\"ResizeTool\"},{\"id\":\"58178886-14c5-4514-b058-cb50b174a3ad\",\"type\":\"ResetTool\"},{\"id\":\"153e6861-4870-48bf-bf0a-f61a5fb71bf3\",\"type\":\"BoxZoomTool\"},{\"id\":\"d20e39df-fa19-47ca-8d86-48e30578e7ba\",\"type\":\"SaveTool\"},{\"id\":\"c58d88cf-a178-42cd-a1b9-c524dc7036fe\",\"type\":\"HoverTool\"}]},\"id\":\"a707d326-c9ff-47cd-af8c-e59129f747b1\",\"type\":\"Toolbar\"},{\"attributes\":{\"plot\":{\"id\":\"130d09c4-b1bb-4bad-bb3c-f10166675024\",\"subtype\":\"Figure\",\"type\":\"Plot\"}},\"id\":\"f306f987-2fb6-446a-818a-fa01e1756921\",\"type\":\"PanTool\"},{\"attributes\":{\"below\":[{\"id\":\"b020b02d-d463-4f49-847a-87efb481a9a9\",\"type\":\"LogAxis\"}],\"left\":[{\"id\":\"7ece4d09-bc79-4c72-b3f2-2dbf7cb51989\",\"type\":\"LogAxis\"}],\"plot_height\":500,\"plot_width\":800,\"renderers\":[{\"id\":\"b020b02d-d463-4f49-847a-87efb481a9a9\",\"type\":\"LogAxis\"},{\"id\":\"6e93440e-b2d0-47c4-bdac-25c236fb8c9e\",\"type\":\"Grid\"},{\"id\":\"7ece4d09-bc79-4c72-b3f2-2dbf7cb51989\",\"type\":\"LogAxis\"},{\"id\":\"9178c08c-186b-467d-b90a-0e51ddb7617a\",\"type\":\"Grid\"},{\"id\":\"b1dcba12-5614-43ea-9ac6-91db28cd9c75\",\"type\":\"BoxAnnotation\"},{\"id\":\"090432f9-46fa-4d9c-97db-75493db883c1\",\"type\":\"Legend\"},{\"id\":\"bbd9b3b7-39df-415f-9348-907254d7a57c\",\"type\":\"GlyphRenderer\"},{\"id\":\"3e630759-e782-434c-8306-3445c4764bbb\",\"type\":\"GlyphRenderer\"}],\"title\":{\"id\":\"4ad8819d-bfe7-43d0-876e-0020f9a17b2b\",\"type\":\"Title\"},\"tool_events\":{\"id\":\"b5693003-b8b1-4a1d-9af8-fb5bdcc6c28e\",\"type\":\"ToolEvents\"},\"toolbar\":{\"id\":\"a707d326-c9ff-47cd-af8c-e59129f747b1\",\"type\":\"Toolbar\"},\"x_range\":{\"id\":\"ada90b0a-af37-4b29-9a18-f672a557fc41\",\"type\":\"Range1d\"},\"x_scale\":{\"id\":\"194b8029-da1e-42dc-a74f-c87c5185273c\",\"type\":\"LogScale\"},\"y_range\":{\"id\":\"2dc4792c-74cd-406e-bf3f-1ee9b80d3705\",\"type\":\"Range1d\"},\"y_scale\":{\"id\":\"919b08ba-114c-4c2a-8278-a5f45509037f\",\"type\":\"LogScale\"}},\"id\":\"130d09c4-b1bb-4bad-bb3c-f10166675024\",\"subtype\":\"Figure\",\"type\":\"Plot\"},{\"attributes\":{\"ticker\":null},\"id\":\"9f084031-2171-46e4-bad6-d47b99a201a3\",\"type\":\"LogTickFormatter\"},{\"attributes\":{\"callback\":null,\"end\":21.599999999999998,\"start\":0.24},\"id\":\"ada90b0a-af37-4b29-9a18-f672a557fc41\",\"type\":\"Range1d\"},{\"attributes\":{},\"id\":\"919b08ba-114c-4c2a-8278-a5f45509037f\",\"type\":\"LogScale\"},{\"attributes\":{\"overlay\":{\"id\":\"b1dcba12-5614-43ea-9ac6-91db28cd9c75\",\"type\":\"BoxAnnotation\"},\"plot\":{\"id\":\"130d09c4-b1bb-4bad-bb3c-f10166675024\",\"subtype\":\"Figure\",\"type\":\"Plot\"}},\"id\":\"153e6861-4870-48bf-bf0a-f61a5fb71bf3\",\"type\":\"BoxZoomTool\"},{\"attributes\":{\"label\":{\"value\":\"Photometry\"},\"renderers\":[{\"id\":\"bbd9b3b7-39df-415f-9348-907254d7a57c\",\"type\":\"GlyphRenderer\"}]},\"id\":\"219eab9d-3354-4a66-937f-bb5b78224fdf\",\"type\":\"LegendItem\"},{\"attributes\":{\"label\":{\"value\":\"Nondetection\"},\"renderers\":[{\"id\":\"3e630759-e782-434c-8306-3445c4764bbb\",\"type\":\"GlyphRenderer\"}]},\"id\":\"b7a22c43-ab00-437c-b4bf-12d2d01d4a23\",\"type\":\"LegendItem\"},{\"attributes\":{\"fill_alpha\":{\"value\":0.1},\"fill_color\":{\"value\":\"#1f77b4\"},\"line_alpha\":{\"value\":0.1},\"line_color\":{\"value\":\"#1f77b4\"},\"size\":{\"units\":\"screen\",\"value\":8},\"x\":{\"field\":\"x\"},\"y\":{\"field\":\"y\"}},\"id\":\"6a31e1f5-f79a-4886-80a5-de956528da77\",\"type\":\"Circle\"},{\"attributes\":{\"plot\":null,\"text\":\"2MASS 261832886\"},\"id\":\"4ad8819d-bfe7-43d0-876e-0020f9a17b2b\",\"type\":\"Title\"},{\"attributes\":{\"bottom_units\":\"screen\",\"fill_alpha\":{\"value\":0.5},\"fill_color\":{\"value\":\"lightgrey\"},\"left_units\":\"screen\",\"level\":\"overlay\",\"line_alpha\":{\"value\":1.0},\"line_color\":{\"value\":\"black\"},\"line_dash\":[4,4],\"line_width\":{\"value\":2},\"plot\":null,\"render_mode\":\"css\",\"right_units\":\"screen\",\"top_units\":\"screen\"},\"id\":\"b1dcba12-5614-43ea-9ac6-91db28cd9c75\",\"type\":\"BoxAnnotation\"},{\"attributes\":{\"axis_label\":\"Wavelength [um]\",\"formatter\":{\"id\":\"9f084031-2171-46e4-bad6-d47b99a201a3\",\"type\":\"LogTickFormatter\"},\"plot\":{\"id\":\"130d09c4-b1bb-4bad-bb3c-f10166675024\",\"subtype\":\"Figure\",\"type\":\"Plot\"},\"ticker\":{\"id\":\"8a1a98c2-abda-4570-b5a1-869d726822fa\",\"type\":\"LogTicker\"}},\"id\":\"b020b02d-d463-4f49-847a-87efb481a9a9\",\"type\":\"LogAxis\"},{\"attributes\":{\"click_policy\":\"hide\",\"items\":[{\"id\":\"219eab9d-3354-4a66-937f-bb5b78224fdf\",\"type\":\"LegendItem\"},{\"id\":\"b7a22c43-ab00-437c-b4bf-12d2d01d4a23\",\"type\":\"LegendItem\"}],\"plot\":{\"id\":\"130d09c4-b1bb-4bad-bb3c-f10166675024\",\"subtype\":\"Figure\",\"type\":\"Plot\"}},\"id\":\"090432f9-46fa-4d9c-97db-75493db883c1\",\"type\":\"Legend\"},{\"attributes\":{\"plot\":{\"id\":\"130d09c4-b1bb-4bad-bb3c-f10166675024\",\"subtype\":\"Figure\",\"type\":\"Plot\"}},\"id\":\"58178886-14c5-4514-b058-cb50b174a3ad\",\"type\":\"ResetTool\"},{\"attributes\":{\"num_minor_ticks\":10},\"id\":\"8a1a98c2-abda-4570-b5a1-869d726822fa\",\"type\":\"LogTicker\"},{\"attributes\":{\"axis_label\":\"Flux Density [erg / (Angstrom cm2 s)]\",\"formatter\":{\"id\":\"4222650c-b50c-4e39-a884-c450e9322e10\",\"type\":\"LogTickFormatter\"},\"plot\":{\"id\":\"130d09c4-b1bb-4bad-bb3c-f10166675024\",\"subtype\":\"Figure\",\"type\":\"Plot\"},\"ticker\":{\"id\":\"c30e9fb8-779d-4268-b586-024b766494f0\",\"type\":\"LogTicker\"}},\"id\":\"7ece4d09-bc79-4c72-b3f2-2dbf7cb51989\",\"type\":\"LogAxis\"},{\"attributes\":{\"data_source\":{\"id\":\"38fe571d-be64-4de2-a22d-caba76b49c33\",\"type\":\"ColumnDataSource\"},\"glyph\":{\"id\":\"a2cf3265-97af-4eff-9ddd-1c67a9192ec0\",\"type\":\"Circle\"},\"hover_glyph\":null,\"muted_glyph\":null,\"name\":\"nondetection\",\"nonselection_glyph\":{\"id\":\"7301c4aa-35fe-4929-b2af-4d029a4970cc\",\"type\":\"Circle\"},\"selection_glyph\":null},\"id\":\"3e630759-e782-434c-8306-3445c4764bbb\",\"type\":\"GlyphRenderer\"},{\"attributes\":{\"fill_alpha\":{\"value\":0},\"fill_color\":{\"value\":\"#1f77b4\"},\"line_color\":{\"value\":\"#1f77b4\"},\"size\":{\"units\":\"screen\",\"value\":8},\"x\":{\"field\":\"x\"},\"y\":{\"field\":\"y\"}},\"id\":\"a2cf3265-97af-4eff-9ddd-1c67a9192ec0\",\"type\":\"Circle\"},{\"attributes\":{},\"id\":\"b5693003-b8b1-4a1d-9af8-fb5bdcc6c28e\",\"type\":\"ToolEvents\"},{\"attributes\":{\"plot\":{\"id\":\"130d09c4-b1bb-4bad-bb3c-f10166675024\",\"subtype\":\"Figure\",\"type\":\"Plot\"}},\"id\":\"d20e39df-fa19-47ca-8d86-48e30578e7ba\",\"type\":\"SaveTool\"},{\"attributes\":{\"fill_alpha\":{\"value\":0.1},\"fill_color\":{\"value\":\"#1f77b4\"},\"line_alpha\":{\"value\":0.1},\"line_color\":{\"value\":\"#1f77b4\"},\"size\":{\"units\":\"screen\",\"value\":8},\"x\":{\"field\":\"x\"},\"y\":{\"field\":\"y\"}},\"id\":\"7301c4aa-35fe-4929-b2af-4d029a4970cc\",\"type\":\"Circle\"},{\"attributes\":{\"data_source\":{\"id\":\"8f1d15df-19b5-4430-8994-1df5922a9fdb\",\"type\":\"ColumnDataSource\"},\"glyph\":{\"id\":\"e794c2b7-b1e2-4a9a-be2e-54c154e0a8e6\",\"type\":\"Circle\"},\"hover_glyph\":null,\"muted_glyph\":null,\"name\":\"photometry\",\"nonselection_glyph\":{\"id\":\"6a31e1f5-f79a-4886-80a5-de956528da77\",\"type\":\"Circle\"},\"selection_glyph\":null},\"id\":\"bbd9b3b7-39df-415f-9348-907254d7a57c\",\"type\":\"GlyphRenderer\"},{\"attributes\":{\"callback\":null,\"column_names\":[\"z\",\"desc\",\"y\",\"x\"],\"data\":{\"desc\":[],\"x\":{\"__ndarray__\":\"\",\"dtype\":\"float64\",\"shape\":[0]},\"y\":{\"__ndarray__\":\"\",\"dtype\":\"float64\",\"shape\":[0]},\"z\":{\"__ndarray__\":\"\",\"dtype\":\"float64\",\"shape\":[0]}}},\"id\":\"38fe571d-be64-4de2-a22d-caba76b49c33\",\"type\":\"ColumnDataSource\"},{\"attributes\":{\"ticker\":null},\"id\":\"4222650c-b50c-4e39-a884-c450e9322e10\",\"type\":\"LogTickFormatter\"},{\"attributes\":{\"callback\":null,\"mode\":\"vline\",\"names\":[\"photometry\",\"nondetection\"],\"plot\":{\"id\":\"130d09c4-b1bb-4bad-bb3c-f10166675024\",\"subtype\":\"Figure\",\"type\":\"Plot\"},\"tooltips\":[[\"Band\",\"@desc\"],[\"Wave\",\"@x\"],[\"Flux\",\"@y\"],[\"Unc\",\"@z\"]]},\"id\":\"c58d88cf-a178-42cd-a1b9-c524dc7036fe\",\"type\":\"HoverTool\"}],\"root_ids\":[\"130d09c4-b1bb-4bad-bb3c-f10166675024\"]},\"title\":\"Bokeh Application\",\"version\":\"0.12.6\"}};\n",
       "            var render_items = [{\"docid\":\"de51a81b-b46e-4ba7-81e3-eae132ec5334\",\"elementid\":\"1d52488a-0844-4ebb-826e-8394f82dd290\",\"modelid\":\"130d09c4-b1bb-4bad-bb3c-f10166675024\"}];\n",
       "            \n",
       "            Bokeh.embed.embed_items(docs_json, render_items);\n",
       "          };\n",
       "          if (document.readyState != \"loading\") fn();\n",
       "          else document.addEventListener(\"DOMContentLoaded\", fn);\n",
       "        })();\n",
       "      },\n",
       "      function(Bokeh) {\n",
       "      }\n",
       "    ];\n",
       "  \n",
       "    function run_inline_js() {\n",
       "      \n",
       "      if ((window.Bokeh !== undefined) || (force === true)) {\n",
       "        for (var i = 0; i < inline_js.length; i++) {\n",
       "          inline_js[i](window.Bokeh);\n",
       "        }if (force === true) {\n",
       "          display_loaded();\n",
       "        }} else if (Date.now() < window._bokeh_timeout) {\n",
       "        setTimeout(run_inline_js, 100);\n",
       "      } else if (!window._bokeh_failed_load) {\n",
       "        console.log(\"Bokeh: BokehJS failed to load within specified timeout.\");\n",
       "        window._bokeh_failed_load = true;\n",
       "      } else if (force !== true) {\n",
       "        var cell = $(document.getElementById(\"1d52488a-0844-4ebb-826e-8394f82dd290\")).parents('.cell').data().cell;\n",
       "        cell.output_area.append_execute_result(NB_LOAD_WARNING)\n",
       "      }\n",
       "  \n",
       "    }\n",
       "  \n",
       "    if (window._bokeh_is_loading === 0) {\n",
       "      console.log(\"Bokeh: BokehJS loaded, going straight to plotting\");\n",
       "      run_inline_js();\n",
       "    } else {\n",
       "      load_libs(js_urls, function() {\n",
       "        console.log(\"Bokeh: BokehJS plotting callback run at\", now());\n",
       "        run_inline_js();\n",
       "      });\n",
       "    }\n",
       "  }(this));\n",
       "</script>"
      ]
     },
     "metadata": {},
     "output_type": "display_data"
    }
   ],
   "source": [
    "my_sed = cat.get_SED('2MASS 261832886')\n",
    "fig = my_sed.plot()"
   ]
  },
  {
   "cell_type": "markdown",
   "metadata": {},
   "source": [
    "And save and load from file."
   ]
  },
  {
   "cell_type": "code",
   "execution_count": 11,
   "metadata": {
    "collapsed": false
   },
   "outputs": [
    {
     "ename": "PicklingError",
     "evalue": "Can't pickle <class 'bokeh.core.enums.Enumeration'>: it's not the same object as bokeh.core.enums.Enumeration",
     "output_type": "error",
     "traceback": [
      "\u001b[0;31m---------------------------------------------------------------------------\u001b[0m",
      "\u001b[0;31mPicklingError\u001b[0m                             Traceback (most recent call last)",
      "\u001b[0;32m<ipython-input-11-63f3f00d16e1>\u001b[0m in \u001b[0;36m<module>\u001b[0;34m()\u001b[0m\n\u001b[0;32m----> 1\u001b[0;31m \u001b[0mcat\u001b[0m\u001b[0;34m.\u001b[0m\u001b[0msave\u001b[0m\u001b[0;34m(\u001b[0m\u001b[0;34m'/Users/jfilippazzo/Desktop/test.p'\u001b[0m\u001b[0;34m)\u001b[0m\u001b[0;34m\u001b[0m\u001b[0m\n\u001b[0m",
      "\u001b[0;32m/Users/jfilippazzo/Documents/Modules/SEDkit/SEDkit/sed.py\u001b[0m in \u001b[0;36msave\u001b[0;34m(self, file)\u001b[0m\n\u001b[1;32m   1509\u001b[0m             \u001b[0;31m# Write the file\u001b[0m\u001b[0;34m\u001b[0m\u001b[0;34m\u001b[0m\u001b[0m\n\u001b[1;32m   1510\u001b[0m             \u001b[0mf\u001b[0m \u001b[0;34m=\u001b[0m \u001b[0mopen\u001b[0m\u001b[0;34m(\u001b[0m\u001b[0mfile\u001b[0m\u001b[0;34m,\u001b[0m \u001b[0;34m'wb'\u001b[0m\u001b[0;34m)\u001b[0m\u001b[0;34m\u001b[0m\u001b[0m\n\u001b[0;32m-> 1511\u001b[0;31m             \u001b[0mpickle\u001b[0m\u001b[0;34m.\u001b[0m\u001b[0mdump\u001b[0m\u001b[0;34m(\u001b[0m\u001b[0mself\u001b[0m\u001b[0;34m.\u001b[0m\u001b[0mresults\u001b[0m\u001b[0;34m,\u001b[0m \u001b[0mf\u001b[0m\u001b[0;34m,\u001b[0m \u001b[0mpickle\u001b[0m\u001b[0;34m.\u001b[0m\u001b[0mHIGHEST_PROTOCOL\u001b[0m\u001b[0;34m)\u001b[0m\u001b[0;34m\u001b[0m\u001b[0m\n\u001b[0m\u001b[1;32m   1512\u001b[0m             \u001b[0mf\u001b[0m\u001b[0;34m.\u001b[0m\u001b[0mclose\u001b[0m\u001b[0;34m(\u001b[0m\u001b[0;34m)\u001b[0m\u001b[0;34m\u001b[0m\u001b[0m\n\u001b[1;32m   1513\u001b[0m \u001b[0;34m\u001b[0m\u001b[0m\n",
      "\u001b[0;31mPicklingError\u001b[0m: Can't pickle <class 'bokeh.core.enums.Enumeration'>: it's not the same object as bokeh.core.enums.Enumeration"
     ]
    }
   ],
   "source": [
    "cat.save('/Users/jfilippazzo/Desktop/test.p')"
   ]
  },
  {
   "cell_type": "code",
   "execution_count": 10,
   "metadata": {
    "collapsed": false
   },
   "outputs": [
    {
     "ename": "TypeError",
     "evalue": "a bytes-like object is required, not 'str'",
     "output_type": "error",
     "traceback": [
      "\u001b[0;31m---------------------------------------------------------------------------\u001b[0m",
      "\u001b[0;31mTypeError\u001b[0m                                 Traceback (most recent call last)",
      "\u001b[0;32m<ipython-input-10-255d6eaffa43>\u001b[0m in \u001b[0;36m<module>\u001b[0;34m()\u001b[0m\n\u001b[0;32m----> 1\u001b[0;31m \u001b[0mnew\u001b[0m \u001b[0;34m=\u001b[0m \u001b[0msed\u001b[0m\u001b[0;34m.\u001b[0m\u001b[0mSEDCatalog\u001b[0m\u001b[0;34m(\u001b[0m\u001b[0;34m)\u001b[0m\u001b[0;34m.\u001b[0m\u001b[0mload\u001b[0m\u001b[0;34m(\u001b[0m\u001b[0;34m'/Users/jfilippazzo/Desktop/test.p'\u001b[0m\u001b[0;34m)\u001b[0m\u001b[0;34m\u001b[0m\u001b[0m\n\u001b[0m",
      "\u001b[0;32m/Users/jfilippazzo/Documents/Modules/SEDkit/SEDkit/sed.py\u001b[0m in \u001b[0;36mload\u001b[0;34m(self, file)\u001b[0m\n\u001b[1;32m   1414\u001b[0m \u001b[0;34m\u001b[0m\u001b[0m\n\u001b[1;32m   1415\u001b[0m             \u001b[0mf\u001b[0m \u001b[0;34m=\u001b[0m \u001b[0mopen\u001b[0m\u001b[0;34m(\u001b[0m\u001b[0mfile\u001b[0m\u001b[0;34m)\u001b[0m\u001b[0;34m\u001b[0m\u001b[0m\n\u001b[0;32m-> 1416\u001b[0;31m             \u001b[0mcat\u001b[0m \u001b[0;34m=\u001b[0m \u001b[0mpickle\u001b[0m\u001b[0;34m.\u001b[0m\u001b[0mload\u001b[0m\u001b[0;34m(\u001b[0m\u001b[0mf\u001b[0m\u001b[0;34m)\u001b[0m\u001b[0;34m\u001b[0m\u001b[0m\n\u001b[0m\u001b[1;32m   1417\u001b[0m             \u001b[0mf\u001b[0m\u001b[0;34m.\u001b[0m\u001b[0mclose\u001b[0m\u001b[0;34m(\u001b[0m\u001b[0;34m)\u001b[0m\u001b[0;34m\u001b[0m\u001b[0m\n\u001b[1;32m   1418\u001b[0m \u001b[0;34m\u001b[0m\u001b[0m\n",
      "\u001b[0;31mTypeError\u001b[0m: a bytes-like object is required, not 'str'"
     ]
    }
   ],
   "source": [
    "new = sed.SEDCatalog().load('/Users/jfilippazzo/Desktop/test.p')"
   ]
  },
  {
   "cell_type": "code",
   "execution_count": 29,
   "metadata": {
    "collapsed": false
   },
   "outputs": [
    {
     "data": {
      "text/html": [
       "<i>QTable length=0</i>\n",
       "<table id=\"table4731044304\" class=\"table-striped table-bordered table-condensed\">\n",
       "<thead><tr><th>name</th><th>age</th><th>age_unc</th><th>distance</th><th>distance_unc</th><th>parallax</th><th>parallax_unc</th><th>radius</th><th>radius_unc</th><th>spectral_type</th><th>spectral_type_unc</th><th>membership</th><th>fbol</th><th>fbol_unc</th><th>mbol</th><th>mbol_unc</th><th>Lbol</th><th>Lbol_unc</th><th>Lbol_sun</th><th>Lbol_sun_unc</th><th>Mbol</th><th>Mbol_unc</th><th>logg</th><th>logg_unc</th><th>mass</th><th>mass_unc</th><th>Teff</th><th>Teff_unc</th><th>SED</th></tr></thead>\n",
       "<thead><tr><th></th><th>Myr</th><th>Myr</th><th>pc</th><th>pc</th><th>mas</th><th>mas</th><th>6.957e+08 m</th><th></th><th></th><th></th><th></th><th>erg / (cm2 s)</th><th>erg / (cm2 s)</th><th></th><th></th><th>erg / s</th><th>erg / s</th><th></th><th></th><th></th><th></th><th></th><th></th><th>solMass</th><th>solMass</th><th>K</th><th>K</th><th></th></tr></thead>\n",
       "<thead><tr><th>object</th><th>object</th><th>object</th><th>object</th><th>object</th><th>object</th><th>object</th><th>object</th><th>object</th><th>object</th><th>object</th><th>object</th><th>object</th><th>object</th><th>object</th><th>object</th><th>object</th><th>object</th><th>object</th><th>object</th><th>object</th><th>object</th><th>object</th><th>object</th><th>object</th><th>object</th><th>object</th><th>object</th><th>object</th></tr></thead>\n",
       "</table>"
      ],
      "text/plain": [
       "<QTable length=0>\n",
       " name   age   age_unc distance distance_unc ... mass_unc  Teff  Teff_unc  SED  \n",
       "        Myr     Myr      pc         pc      ... solMass    K       K           \n",
       "object object  object  object     object    ...  object  object  object  object\n",
       "------ ------ ------- -------- ------------ ... -------- ------ -------- ------"
      ]
     },
     "execution_count": 29,
     "metadata": {},
     "output_type": "execute_result"
    }
   ],
   "source": [
    "cat.results[:0]"
   ]
  },
  {
   "cell_type": "code",
   "execution_count": null,
   "metadata": {
    "collapsed": true
   },
   "outputs": [],
   "source": []
  }
 ],
 "metadata": {
  "anaconda-cloud": {},
  "kernelspec": {
   "display_name": "Astroconda",
   "language": "python",
   "name": "astroconda_kernel"
  },
  "language_info": {
   "codemirror_mode": {
    "name": "ipython",
    "version": 3
   },
   "file_extension": ".py",
   "mimetype": "text/x-python",
   "name": "python",
   "nbconvert_exporter": "python",
   "pygments_lexer": "ipython3",
   "version": "3.5.2"
  }
 },
 "nbformat": 4,
 "nbformat_minor": 1
}
