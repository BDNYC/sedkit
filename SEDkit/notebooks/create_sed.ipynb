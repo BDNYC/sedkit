{
 "cells": [
  {
   "cell_type": "markdown",
   "metadata": {},
   "source": [
    "# Make an SED!"
   ]
  },
  {
   "cell_type": "code",
   "execution_count": 1,
   "metadata": {
    "collapsed": false
   },
   "outputs": [
    {
     "data": {
      "text/html": [
       "\n",
       "    <div class=\"bk-root\">\n",
       "        <a href=\"http://bokeh.pydata.org\" target=\"_blank\" class=\"bk-logo bk-logo-small bk-logo-notebook\"></a>\n",
       "        <span id=\"78f954e1-e3dd-44a1-90ca-efb332971529\">Loading BokehJS ...</span>\n",
       "    </div>"
      ]
     },
     "metadata": {},
     "output_type": "display_data"
    },
    {
     "data": {
      "application/javascript": [
       "\n",
       "(function(global) {\n",
       "  function now() {\n",
       "    return new Date();\n",
       "  }\n",
       "\n",
       "  var force = true;\n",
       "\n",
       "  if (typeof (window._bokeh_onload_callbacks) === \"undefined\" || force === true) {\n",
       "    window._bokeh_onload_callbacks = [];\n",
       "    window._bokeh_is_loading = undefined;\n",
       "  }\n",
       "\n",
       "\n",
       "  \n",
       "  if (typeof (window._bokeh_timeout) === \"undefined\" || force === true) {\n",
       "    window._bokeh_timeout = Date.now() + 5000;\n",
       "    window._bokeh_failed_load = false;\n",
       "  }\n",
       "\n",
       "  var NB_LOAD_WARNING = {'data': {'text/html':\n",
       "     \"<div style='background-color: #fdd'>\\n\"+\n",
       "     \"<p>\\n\"+\n",
       "     \"BokehJS does not appear to have successfully loaded. If loading BokehJS from CDN, this \\n\"+\n",
       "     \"may be due to a slow or bad network connection. Possible fixes:\\n\"+\n",
       "     \"</p>\\n\"+\n",
       "     \"<ul>\\n\"+\n",
       "     \"<li>re-rerun `output_notebook()` to attempt to load from CDN again, or</li>\\n\"+\n",
       "     \"<li>use INLINE resources instead, as so:</li>\\n\"+\n",
       "     \"</ul>\\n\"+\n",
       "     \"<code>\\n\"+\n",
       "     \"from bokeh.resources import INLINE\\n\"+\n",
       "     \"output_notebook(resources=INLINE)\\n\"+\n",
       "     \"</code>\\n\"+\n",
       "     \"</div>\"}};\n",
       "\n",
       "  function display_loaded() {\n",
       "    if (window.Bokeh !== undefined) {\n",
       "      var el = document.getElementById(\"78f954e1-e3dd-44a1-90ca-efb332971529\");\n",
       "      el.textContent = \"BokehJS \" + Bokeh.version + \" successfully loaded.\";\n",
       "    } else if (Date.now() < window._bokeh_timeout) {\n",
       "      setTimeout(display_loaded, 100)\n",
       "    }\n",
       "  }\n",
       "\n",
       "  function run_callbacks() {\n",
       "    try {\n",
       "      window._bokeh_onload_callbacks.forEach(function(callback) { callback() });\n",
       "    }\n",
       "    finally {\n",
       "      delete window._bokeh_onload_callbacks\n",
       "    }\n",
       "    console.info(\"Bokeh: all callbacks have finished\");\n",
       "  }\n",
       "\n",
       "  function load_libs(js_urls, callback) {\n",
       "    window._bokeh_onload_callbacks.push(callback);\n",
       "    if (window._bokeh_is_loading > 0) {\n",
       "      console.log(\"Bokeh: BokehJS is being loaded, scheduling callback at\", now());\n",
       "      return null;\n",
       "    }\n",
       "    if (js_urls == null || js_urls.length === 0) {\n",
       "      run_callbacks();\n",
       "      return null;\n",
       "    }\n",
       "    console.log(\"Bokeh: BokehJS not loaded, scheduling load and callback at\", now());\n",
       "    window._bokeh_is_loading = js_urls.length;\n",
       "    for (var i = 0; i < js_urls.length; i++) {\n",
       "      var url = js_urls[i];\n",
       "      var s = document.createElement('script');\n",
       "      s.src = url;\n",
       "      s.async = false;\n",
       "      s.onreadystatechange = s.onload = function() {\n",
       "        window._bokeh_is_loading--;\n",
       "        if (window._bokeh_is_loading === 0) {\n",
       "          console.log(\"Bokeh: all BokehJS libraries loaded\");\n",
       "          run_callbacks()\n",
       "        }\n",
       "      };\n",
       "      s.onerror = function() {\n",
       "        console.warn(\"failed to load library \" + url);\n",
       "      };\n",
       "      console.log(\"Bokeh: injecting script tag for BokehJS library: \", url);\n",
       "      document.getElementsByTagName(\"head\")[0].appendChild(s);\n",
       "    }\n",
       "  };var element = document.getElementById(\"78f954e1-e3dd-44a1-90ca-efb332971529\");\n",
       "  if (element == null) {\n",
       "    console.log(\"Bokeh: ERROR: autoload.js configured with elementid '78f954e1-e3dd-44a1-90ca-efb332971529' but no matching script tag was found. \")\n",
       "    return false;\n",
       "  }\n",
       "\n",
       "  var js_urls = [\"https://cdn.pydata.org/bokeh/release/bokeh-0.12.6.min.js\", \"https://cdn.pydata.org/bokeh/release/bokeh-widgets-0.12.6.min.js\"];\n",
       "\n",
       "  var inline_js = [\n",
       "    function(Bokeh) {\n",
       "      Bokeh.set_log_level(\"info\");\n",
       "    },\n",
       "    \n",
       "    function(Bokeh) {\n",
       "      \n",
       "    },\n",
       "    \n",
       "    function(Bokeh) {\n",
       "      \n",
       "      document.getElementById(\"78f954e1-e3dd-44a1-90ca-efb332971529\").textContent = \"BokehJS is loading...\";\n",
       "    },\n",
       "    function(Bokeh) {\n",
       "      console.log(\"Bokeh: injecting CSS: https://cdn.pydata.org/bokeh/release/bokeh-0.12.6.min.css\");\n",
       "      Bokeh.embed.inject_css(\"https://cdn.pydata.org/bokeh/release/bokeh-0.12.6.min.css\");\n",
       "      console.log(\"Bokeh: injecting CSS: https://cdn.pydata.org/bokeh/release/bokeh-widgets-0.12.6.min.css\");\n",
       "      Bokeh.embed.inject_css(\"https://cdn.pydata.org/bokeh/release/bokeh-widgets-0.12.6.min.css\");\n",
       "    }\n",
       "  ];\n",
       "\n",
       "  function run_inline_js() {\n",
       "    \n",
       "    if ((window.Bokeh !== undefined) || (force === true)) {\n",
       "      for (var i = 0; i < inline_js.length; i++) {\n",
       "        inline_js[i](window.Bokeh);\n",
       "      }if (force === true) {\n",
       "        display_loaded();\n",
       "      }} else if (Date.now() < window._bokeh_timeout) {\n",
       "      setTimeout(run_inline_js, 100);\n",
       "    } else if (!window._bokeh_failed_load) {\n",
       "      console.log(\"Bokeh: BokehJS failed to load within specified timeout.\");\n",
       "      window._bokeh_failed_load = true;\n",
       "    } else if (force !== true) {\n",
       "      var cell = $(document.getElementById(\"78f954e1-e3dd-44a1-90ca-efb332971529\")).parents('.cell').data().cell;\n",
       "      cell.output_area.append_execute_result(NB_LOAD_WARNING)\n",
       "    }\n",
       "\n",
       "  }\n",
       "\n",
       "  if (window._bokeh_is_loading === 0) {\n",
       "    console.log(\"Bokeh: BokehJS loaded, going straight to plotting\");\n",
       "    run_inline_js();\n",
       "  } else {\n",
       "    load_libs(js_urls, function() {\n",
       "      console.log(\"Bokeh: BokehJS plotting callback run at\", now());\n",
       "      run_inline_js();\n",
       "    });\n",
       "  }\n",
       "}(this));"
      ]
     },
     "metadata": {},
     "output_type": "display_data"
    }
   ],
   "source": [
    "from SEDkit import sed, spectrum, synphot\n",
    "import astropy.units as q\n",
    "from bokeh.io import output_notebook, show\n",
    "output_notebook()"
   ]
  },
  {
   "cell_type": "markdown",
   "metadata": {},
   "source": [
    "Let's create a new SED for an M-dwarf. The software assumes a field age if no `age` argument is given."
   ]
  },
  {
   "cell_type": "code",
   "execution_count": 2,
   "metadata": {
    "collapsed": false
   },
   "outputs": [
    {
     "name": "stdout",
     "output_type": "stream",
     "text": [
      "Make this handle asymmetric uncertainties!\n",
      "Setting age to (<Quantity 6.0 Gyr>, <Quantity 4.0 Gyr>)\n"
     ]
    }
   ],
   "source": [
    "s = sed.SED(parallax=(1.7474*q.mas, 0.0501*q.mas), spectral_type='M0V', name='2MASS 261832886')"
   ]
  },
  {
   "cell_type": "markdown",
   "metadata": {},
   "source": [
    "Now let's add some photometry and take a look at how it's stored!"
   ]
  },
  {
   "cell_type": "code",
   "execution_count": 3,
   "metadata": {
    "collapsed": false
   },
   "outputs": [
    {
     "name": "stdout",
     "output_type": "stream",
     "text": [
      "  band          eff         app_magnitude ...      abs_flux_unc      bandpass\n",
      "                 um                       ... erg / (Angstrom cm2 s)         \n",
      "-------- ------------------ ------------- ... ---------------------- --------\n",
      "  SDSS.u 0.3556523841771217        20.486 ...                    0.0   SDSS.u\n",
      "  SDSS.g  0.470249523890033        17.779 ...                    0.0   SDSS.g\n",
      "  SDSS.r 0.6175578617515662        16.431 ...                    0.0   SDSS.r\n",
      "  SDSS.i 0.7489976493830276        15.843 ...                    0.0   SDSS.i\n",
      "  SDSS.z 0.8946709375325572        15.514 ...                    0.0   SDSS.z\n",
      " 2MASS.J   1.23930926619334        14.391 ...                    0.0  2MASS.J\n",
      " 2MASS.H 1.6494946845618255        13.677 ...                    0.0  2MASS.H\n",
      "2MASS.Ks 2.1638605296287605        13.535 ...                    0.0 2MASS.Ks\n",
      " WISE.W1 3.3897048276483708         13.55 ...                    0.0  WISE.W1\n",
      " WISE.W2  4.640635531659788        13.581 ...                    0.0  WISE.W2\n",
      " WISE.W3   12.5675933669612        12.884 ...                    nan  WISE.W3\n"
     ]
    }
   ],
   "source": [
    "# Add the band name, magnitude, and uncertainty\n",
    "s.add_photometry('2MASS.J', 14.391, 0.029)\n",
    "s.add_photometry('2MASS.H', 13.677, 0.032)\n",
    "s.add_photometry('2MASS.Ks', 13.535, 0.034)\n",
    "s.add_photometry('WISE.W1', 13.55, 0.027)\n",
    "s.add_photometry('WISE.W2', 13.581, 0.035)\n",
    "s.add_photometry('WISE.W3', 12.884, None)\n",
    "s.add_photometry('SDSS.u', 20.486, 0.073)\n",
    "s.add_photometry('SDSS.g', 17.779, 0.006)\n",
    "s.add_photometry('SDSS.r', 16.431, 0.004)\n",
    "s.add_photometry('SDSS.i', 15.843, 0.004)\n",
    "s.add_photometry('SDSS.z', 15.514, 0.005)\n",
    "\n",
    "# Take a look\n",
    "print(s.photometry)"
   ]
  },
  {
   "cell_type": "markdown",
   "metadata": {},
   "source": [
    "Now that our SED has all the data it needs, we can call the `results` method, which constructs the SED and caluclates the fundamental parameters.\n",
    "\n",
    "If no `radius` is given, one will be estimated from model isochrones using the calculated `Lbol` and assumed `age`."
   ]
  },
  {
   "cell_type": "code",
   "execution_count": 4,
   "metadata": {
    "collapsed": false
   },
   "outputs": [
    {
     "name": "stdout",
     "output_type": "stream",
     "text": [
      "Setting radius to (<Quantity 0.8786209573091851 solRad>, <Quantity 0.06782337214316517 solRad>)\n",
      "    param           value                unc             units    \n",
      "------------- ------------------ ------------------- -------------\n",
      "         name    2MASS 261832886                  --            --\n",
      "          age                6.0                 4.0           Gyr\n",
      "     distance             572.28               16.41            pc\n",
      "     parallax             1.7474              0.0501           mas\n",
      "       radius 0.8786209573091851 0.06782337214316517        solRad\n",
      "spectral_type               60.0                 0.5            --\n",
      "   membership                 --                  --            --\n",
      "         fbol           9.41e-12            8.88e-14 erg / (cm2 s)\n",
      "         mbol             16.085                0.01            --\n",
      "         Lbol           3.69e+32            2.14e+31       erg / s\n",
      "     Lbol_sun              -1.02               0.025            --\n",
      "         Mbol              7.297               0.033            --\n",
      "         logg                4.5                0.07            --\n",
      "         mass 0.8896913720017506                 0.0       solMass\n",
      "         Teff               3430                 141             K\n"
     ]
    }
   ],
   "source": [
    "print(s.results)"
   ]
  },
  {
   "cell_type": "code",
   "execution_count": 5,
   "metadata": {
    "collapsed": false
   },
   "outputs": [
    {
     "data": {
      "text/html": [
       "\n",
       "\n",
       "    <div class=\"bk-root\">\n",
       "        <div class=\"bk-plotdiv\" id=\"c0dfa1fb-4be9-4cec-98a0-87dd9010fa45\"></div>\n",
       "    </div>\n",
       "<script type=\"text/javascript\">\n",
       "  \n",
       "  (function(global) {\n",
       "    function now() {\n",
       "      return new Date();\n",
       "    }\n",
       "  \n",
       "    var force = false;\n",
       "  \n",
       "    if (typeof (window._bokeh_onload_callbacks) === \"undefined\" || force === true) {\n",
       "      window._bokeh_onload_callbacks = [];\n",
       "      window._bokeh_is_loading = undefined;\n",
       "    }\n",
       "  \n",
       "  \n",
       "    \n",
       "    if (typeof (window._bokeh_timeout) === \"undefined\" || force === true) {\n",
       "      window._bokeh_timeout = Date.now() + 0;\n",
       "      window._bokeh_failed_load = false;\n",
       "    }\n",
       "  \n",
       "    var NB_LOAD_WARNING = {'data': {'text/html':\n",
       "       \"<div style='background-color: #fdd'>\\n\"+\n",
       "       \"<p>\\n\"+\n",
       "       \"BokehJS does not appear to have successfully loaded. If loading BokehJS from CDN, this \\n\"+\n",
       "       \"may be due to a slow or bad network connection. Possible fixes:\\n\"+\n",
       "       \"</p>\\n\"+\n",
       "       \"<ul>\\n\"+\n",
       "       \"<li>re-rerun `output_notebook()` to attempt to load from CDN again, or</li>\\n\"+\n",
       "       \"<li>use INLINE resources instead, as so:</li>\\n\"+\n",
       "       \"</ul>\\n\"+\n",
       "       \"<code>\\n\"+\n",
       "       \"from bokeh.resources import INLINE\\n\"+\n",
       "       \"output_notebook(resources=INLINE)\\n\"+\n",
       "       \"</code>\\n\"+\n",
       "       \"</div>\"}};\n",
       "  \n",
       "    function display_loaded() {\n",
       "      if (window.Bokeh !== undefined) {\n",
       "        var el = document.getElementById(\"c0dfa1fb-4be9-4cec-98a0-87dd9010fa45\");\n",
       "        el.textContent = \"BokehJS \" + Bokeh.version + \" successfully loaded.\";\n",
       "      } else if (Date.now() < window._bokeh_timeout) {\n",
       "        setTimeout(display_loaded, 100)\n",
       "      }\n",
       "    }\n",
       "  \n",
       "    function run_callbacks() {\n",
       "      try {\n",
       "        window._bokeh_onload_callbacks.forEach(function(callback) { callback() });\n",
       "      }\n",
       "      finally {\n",
       "        delete window._bokeh_onload_callbacks\n",
       "      }\n",
       "      console.info(\"Bokeh: all callbacks have finished\");\n",
       "    }\n",
       "  \n",
       "    function load_libs(js_urls, callback) {\n",
       "      window._bokeh_onload_callbacks.push(callback);\n",
       "      if (window._bokeh_is_loading > 0) {\n",
       "        console.log(\"Bokeh: BokehJS is being loaded, scheduling callback at\", now());\n",
       "        return null;\n",
       "      }\n",
       "      if (js_urls == null || js_urls.length === 0) {\n",
       "        run_callbacks();\n",
       "        return null;\n",
       "      }\n",
       "      console.log(\"Bokeh: BokehJS not loaded, scheduling load and callback at\", now());\n",
       "      window._bokeh_is_loading = js_urls.length;\n",
       "      for (var i = 0; i < js_urls.length; i++) {\n",
       "        var url = js_urls[i];\n",
       "        var s = document.createElement('script');\n",
       "        s.src = url;\n",
       "        s.async = false;\n",
       "        s.onreadystatechange = s.onload = function() {\n",
       "          window._bokeh_is_loading--;\n",
       "          if (window._bokeh_is_loading === 0) {\n",
       "            console.log(\"Bokeh: all BokehJS libraries loaded\");\n",
       "            run_callbacks()\n",
       "          }\n",
       "        };\n",
       "        s.onerror = function() {\n",
       "          console.warn(\"failed to load library \" + url);\n",
       "        };\n",
       "        console.log(\"Bokeh: injecting script tag for BokehJS library: \", url);\n",
       "        document.getElementsByTagName(\"head\")[0].appendChild(s);\n",
       "      }\n",
       "    };var element = document.getElementById(\"c0dfa1fb-4be9-4cec-98a0-87dd9010fa45\");\n",
       "    if (element == null) {\n",
       "      console.log(\"Bokeh: ERROR: autoload.js configured with elementid 'c0dfa1fb-4be9-4cec-98a0-87dd9010fa45' but no matching script tag was found. \")\n",
       "      return false;\n",
       "    }\n",
       "  \n",
       "    var js_urls = [];\n",
       "  \n",
       "    var inline_js = [\n",
       "      function(Bokeh) {\n",
       "        (function() {\n",
       "          var fn = function() {\n",
       "            var docs_json = {\"08018075-30d5-452e-9c66-d07c24d9d334\":{\"roots\":{\"references\":[{\"attributes\":{\"axis_label\":\"Wavelength [um]\",\"formatter\":{\"id\":\"cc8f9b90-c2b8-469c-8587-407ce8b3ec82\",\"type\":\"LogTickFormatter\"},\"plot\":{\"id\":\"fade32b5-a244-4b53-bc41-2c5c50465780\",\"subtype\":\"Figure\",\"type\":\"Plot\"},\"ticker\":{\"id\":\"45b43ba4-0396-4b99-b836-d13f8879ee4a\",\"type\":\"LogTicker\"}},\"id\":\"ecdd5378-5f66-4a7b-8244-14ad2a3126a7\",\"type\":\"LogAxis\"},{\"attributes\":{\"ticker\":null},\"id\":\"644543c9-136e-48c4-92a4-3ff72304078f\",\"type\":\"LogTickFormatter\"},{\"attributes\":{\"click_policy\":\"hide\",\"items\":[{\"id\":\"1e9b350c-33d8-4744-9035-ee4c99677ead\",\"type\":\"LegendItem\"},{\"id\":\"d6c5fca5-8b8b-421e-a5e0-362d2b2aaa76\",\"type\":\"LegendItem\"}],\"plot\":{\"id\":\"fade32b5-a244-4b53-bc41-2c5c50465780\",\"subtype\":\"Figure\",\"type\":\"Plot\"}},\"id\":\"b1b30ef3-362d-44cc-a78a-05efd67be603\",\"type\":\"Legend\"},{\"attributes\":{\"data_source\":{\"id\":\"f1adc2ec-fe50-47d4-88b7-82c5d77419a3\",\"type\":\"ColumnDataSource\"},\"glyph\":{\"id\":\"740db266-f78a-4f00-90f8-88f340d9b758\",\"type\":\"Circle\"},\"hover_glyph\":null,\"muted_glyph\":null,\"nonselection_glyph\":{\"id\":\"94b5e360-9f28-40a3-a154-1b7eb63e0f81\",\"type\":\"Circle\"},\"selection_glyph\":null},\"id\":\"714f1b02-2e39-4f26-a4b8-66605ea8f690\",\"type\":\"GlyphRenderer\"},{\"attributes\":{},\"id\":\"bcdbb097-611e-4912-aec1-01620fe42cee\",\"type\":\"LogScale\"},{\"attributes\":{\"plot\":{\"id\":\"fade32b5-a244-4b53-bc41-2c5c50465780\",\"subtype\":\"Figure\",\"type\":\"Plot\"},\"ticker\":{\"id\":\"45b43ba4-0396-4b99-b836-d13f8879ee4a\",\"type\":\"LogTicker\"}},\"id\":\"082dcc3e-410d-4d0c-a564-cf5f5577dca7\",\"type\":\"Grid\"},{\"attributes\":{\"data_source\":{\"id\":\"82859b54-ea33-4e2d-be02-8672ff83bff0\",\"type\":\"ColumnDataSource\"},\"glyph\":{\"id\":\"9fdba2b7-3299-4fa0-95bc-6fc4e020c930\",\"type\":\"MultiLine\"},\"hover_glyph\":null,\"muted_glyph\":null,\"nonselection_glyph\":{\"id\":\"bb166c65-9fac-48cb-8b1f-6179ed04e882\",\"type\":\"MultiLine\"},\"selection_glyph\":null},\"id\":\"1806cca0-048a-44b2-8085-9c3b5bdc1ee7\",\"type\":\"GlyphRenderer\"},{\"attributes\":{\"num_minor_ticks\":10},\"id\":\"45b43ba4-0396-4b99-b836-d13f8879ee4a\",\"type\":\"LogTicker\"},{\"attributes\":{\"line_alpha\":{\"value\":0.1},\"line_color\":{\"value\":\"#1f77b4\"},\"xs\":{\"field\":\"xs\"},\"ys\":{\"field\":\"ys\"}},\"id\":\"bb166c65-9fac-48cb-8b1f-6179ed04e882\",\"type\":\"MultiLine\"},{\"attributes\":{\"axis_label\":\"Flux Density [erg / (Angstrom cm2 s)]\",\"formatter\":{\"id\":\"644543c9-136e-48c4-92a4-3ff72304078f\",\"type\":\"LogTickFormatter\"},\"plot\":{\"id\":\"fade32b5-a244-4b53-bc41-2c5c50465780\",\"subtype\":\"Figure\",\"type\":\"Plot\"},\"ticker\":{\"id\":\"a2acb22d-a6d0-43e2-8029-638358aaaf63\",\"type\":\"LogTicker\"}},\"id\":\"ed17263e-2e7d-47c1-b8c0-cbb7ff304337\",\"type\":\"LogAxis\"},{\"attributes\":{\"callback\":null,\"column_names\":[\"y\",\"x\"],\"data\":{\"x\":{\"__ndarray__\":\"vQwJmZsiKUA=\",\"dtype\":\"float64\",\"shape\":[1]},\"y\":{\"__ndarray__\":\"F1uaz0NnIjw=\",\"dtype\":\"float64\",\"shape\":[1]}}},\"id\":\"03678224-a6cd-466c-842c-cf11be6ba157\",\"type\":\"ColumnDataSource\"},{\"attributes\":{\"fill_alpha\":{\"value\":0.1},\"fill_color\":{\"value\":\"#1f77b4\"},\"line_alpha\":{\"value\":0.1},\"line_color\":{\"value\":\"#1f77b4\"},\"size\":{\"units\":\"screen\",\"value\":8},\"x\":{\"field\":\"x\"},\"y\":{\"field\":\"y\"}},\"id\":\"94b5e360-9f28-40a3-a154-1b7eb63e0f81\",\"type\":\"Circle\"},{\"attributes\":{\"plot\":null,\"text\":\"2MASS 261832886\"},\"id\":\"4452c171-2e98-462c-bb73-85b6b488965d\",\"type\":\"Title\"},{\"attributes\":{\"ticker\":null},\"id\":\"cc8f9b90-c2b8-469c-8587-407ce8b3ec82\",\"type\":\"LogTickFormatter\"},{\"attributes\":{\"callback\":null,\"column_names\":[\"y\",\"x\"],\"data\":{\"x\":{\"__ndarray__\":\"J0CyNwLD1j8HToR1kRjeP5SKc7QIw+M/+TAc68n35z+qSSzyJKHsP+nh/vM11PM/6+bRiVRk+j/Z4v4blk8BQJu+jpAdHgtAlonEwgKQEkA=\",\"dtype\":\"float64\",\"shape\":[10]},\"y\":{\"__ndarray__\":\"31Mg/BjQejxWpiHPSMW+PDJBYeGsY8g8pplMYWhcxzwLE/VX5BPDPGtGtdapx8M8Fgwyi+kVuzy/G2yHB9OnPDYrumMpGII8X15O5fW1ZDw=\",\"dtype\":\"float64\",\"shape\":[10]}}},\"id\":\"f1adc2ec-fe50-47d4-88b7-82c5d77419a3\",\"type\":\"ColumnDataSource\"},{\"attributes\":{\"plot\":{\"id\":\"fade32b5-a244-4b53-bc41-2c5c50465780\",\"subtype\":\"Figure\",\"type\":\"Plot\"}},\"id\":\"1de25bea-98e2-4292-8147-079542d669ef\",\"type\":\"SaveTool\"},{\"attributes\":{},\"id\":\"8c4c414b-d13e-4954-8350-deb2af15fa18\",\"type\":\"LogScale\"},{\"attributes\":{\"plot\":{\"id\":\"fade32b5-a244-4b53-bc41-2c5c50465780\",\"subtype\":\"Figure\",\"type\":\"Plot\"}},\"id\":\"133a6960-1a71-477a-847f-99dde486af1e\",\"type\":\"HelpTool\"},{\"attributes\":{\"fill_alpha\":{\"value\":0.7},\"fill_color\":{\"value\":\"black\"},\"size\":{\"units\":\"screen\",\"value\":8},\"x\":{\"field\":\"x\"},\"y\":{\"field\":\"y\"}},\"id\":\"740db266-f78a-4f00-90f8-88f340d9b758\",\"type\":\"Circle\"},{\"attributes\":{\"plot\":{\"id\":\"fade32b5-a244-4b53-bc41-2c5c50465780\",\"subtype\":\"Figure\",\"type\":\"Plot\"}},\"id\":\"42de4068-59af-4c20-8cfb-7d9140db1a88\",\"type\":\"WheelZoomTool\"},{\"attributes\":{\"callback\":null,\"end\":1.353881267951867e-15,\"start\":2.4941228638277776e-19},\"id\":\"cafb8a25-812d-4cac-914f-4a494443f1db\",\"type\":\"Range1d\"},{\"attributes\":{\"num_minor_ticks\":10},\"id\":\"a2acb22d-a6d0-43e2-8029-638358aaaf63\",\"type\":\"LogTicker\"},{\"attributes\":{\"data_source\":{\"id\":\"03678224-a6cd-466c-842c-cf11be6ba157\",\"type\":\"ColumnDataSource\"},\"glyph\":{\"id\":\"74ae47c8-e4f5-4c8e-882a-ecced092a93b\",\"type\":\"Circle\"},\"hover_glyph\":null,\"muted_glyph\":null,\"nonselection_glyph\":{\"id\":\"4d881145-1a74-451d-a5ea-88d6512446bd\",\"type\":\"Circle\"},\"selection_glyph\":null},\"id\":\"4db46f46-76db-41dc-8c78-ecb084d9aa26\",\"type\":\"GlyphRenderer\"},{\"attributes\":{\"plot\":{\"id\":\"fade32b5-a244-4b53-bc41-2c5c50465780\",\"subtype\":\"Figure\",\"type\":\"Plot\"}},\"id\":\"c95d5aa3-fbfa-4f04-b181-d323847614f0\",\"type\":\"PanTool\"},{\"attributes\":{\"fill_alpha\":{\"value\":0.1},\"fill_color\":{\"value\":\"#1f77b4\"},\"line_alpha\":{\"value\":0.1},\"line_color\":{\"value\":\"#1f77b4\"},\"size\":{\"units\":\"screen\",\"value\":8},\"x\":{\"field\":\"x\"},\"y\":{\"field\":\"y\"}},\"id\":\"4d881145-1a74-451d-a5ea-88d6512446bd\",\"type\":\"Circle\"},{\"attributes\":{\"overlay\":{\"id\":\"4f65a4db-0a5c-4d41-bb70-17f226156ed8\",\"type\":\"BoxAnnotation\"},\"plot\":{\"id\":\"fade32b5-a244-4b53-bc41-2c5c50465780\",\"subtype\":\"Figure\",\"type\":\"Plot\"}},\"id\":\"ee48d56f-d205-4127-a275-bb5f0b95123f\",\"type\":\"BoxZoomTool\"},{\"attributes\":{\"callback\":null,\"column_names\":[\"ys\",\"xs\"],\"data\":{\"xs\":[[0.3556523841771217,0.3556523841771217],[0.470249523890033,0.470249523890033],[0.6175578617515662,0.6175578617515662],[0.7489976493830276,0.7489976493830276],[0.8946709375325572,0.8946709375325572],[1.23930926619334,1.23930926619334],[1.6494946845618255,1.6494946845618255],[2.1638605296287605,2.1638605296287605],[3.3897048276483708,3.3897048276483708],[4.640635531659788,4.640635531659788]],\"ys\":[[2.169280742200504e-17,2.482012712157986e-17],[4.2466859717335105e-16,4.2938828994981195e-16],[6.744466925157176e-16,6.794345754361494e-16],[6.460083226112941e-16,6.507858890439956e-16],[5.270741323258396e-16,5.319511238618434e-16],[5.343396133096799e-16,5.636673655267576e-16],[3.648095532871504e-16,3.8696672251503776e-16],[1.6013767311408877e-16,1.7049137371172322e-16],[3.060817561147282e-17,3.216932132047134e-17],[8.692329212263297e-18,9.271411804167032e-18]]}},\"id\":\"82859b54-ea33-4e2d-be02-8672ff83bff0\",\"type\":\"ColumnDataSource\"},{\"attributes\":{\"plot\":{\"id\":\"fade32b5-a244-4b53-bc41-2c5c50465780\",\"subtype\":\"Figure\",\"type\":\"Plot\"}},\"id\":\"95a242ed-4408-4317-8b9a-43fbbfa25df0\",\"type\":\"ResetTool\"},{\"attributes\":{\"fill_alpha\":{\"value\":0},\"fill_color\":{\"value\":\"black\"},\"size\":{\"units\":\"screen\",\"value\":8},\"x\":{\"field\":\"x\"},\"y\":{\"field\":\"y\"}},\"id\":\"74ae47c8-e4f5-4c8e-882a-ecced092a93b\",\"type\":\"Circle\"},{\"attributes\":{\"active_drag\":\"auto\",\"active_inspect\":\"auto\",\"active_scroll\":\"auto\",\"active_tap\":\"auto\",\"tools\":[{\"id\":\"c95d5aa3-fbfa-4f04-b181-d323847614f0\",\"type\":\"PanTool\"},{\"id\":\"42de4068-59af-4c20-8cfb-7d9140db1a88\",\"type\":\"WheelZoomTool\"},{\"id\":\"ee48d56f-d205-4127-a275-bb5f0b95123f\",\"type\":\"BoxZoomTool\"},{\"id\":\"1de25bea-98e2-4292-8147-079542d669ef\",\"type\":\"SaveTool\"},{\"id\":\"95a242ed-4408-4317-8b9a-43fbbfa25df0\",\"type\":\"ResetTool\"},{\"id\":\"133a6960-1a71-477a-847f-99dde486af1e\",\"type\":\"HelpTool\"}]},\"id\":\"49c5d802-0f2f-4228-a8a0-18835aa154e4\",\"type\":\"Toolbar\"},{\"attributes\":{\"label\":{\"value\":\"Nondetection\"},\"renderers\":[{\"id\":\"4db46f46-76db-41dc-8c78-ecb084d9aa26\",\"type\":\"GlyphRenderer\"}]},\"id\":\"d6c5fca5-8b8b-421e-a5e0-362d2b2aaa76\",\"type\":\"LegendItem\"},{\"attributes\":{\"callback\":null,\"end\":21.599999999999998,\"start\":0.24},\"id\":\"da361749-d211-4d44-84eb-35ff80958c5f\",\"type\":\"Range1d\"},{\"attributes\":{\"dimension\":1,\"plot\":{\"id\":\"fade32b5-a244-4b53-bc41-2c5c50465780\",\"subtype\":\"Figure\",\"type\":\"Plot\"},\"ticker\":{\"id\":\"a2acb22d-a6d0-43e2-8029-638358aaaf63\",\"type\":\"LogTicker\"}},\"id\":\"8945761d-eb94-45bf-bf53-7a762307b5e4\",\"type\":\"Grid\"},{\"attributes\":{\"label\":{\"value\":\"Photometry\"},\"renderers\":[{\"id\":\"714f1b02-2e39-4f26-a4b8-66605ea8f690\",\"type\":\"GlyphRenderer\"}]},\"id\":\"1e9b350c-33d8-4744-9035-ee4c99677ead\",\"type\":\"LegendItem\"},{\"attributes\":{\"xs\":{\"field\":\"xs\"},\"ys\":{\"field\":\"ys\"}},\"id\":\"9fdba2b7-3299-4fa0-95bc-6fc4e020c930\",\"type\":\"MultiLine\"},{\"attributes\":{},\"id\":\"bd446d86-cfda-43d8-8b20-65ed108eb14b\",\"type\":\"ToolEvents\"},{\"attributes\":{\"bottom_units\":\"screen\",\"fill_alpha\":{\"value\":0.5},\"fill_color\":{\"value\":\"lightgrey\"},\"left_units\":\"screen\",\"level\":\"overlay\",\"line_alpha\":{\"value\":1.0},\"line_color\":{\"value\":\"black\"},\"line_dash\":[4,4],\"line_width\":{\"value\":2},\"plot\":null,\"render_mode\":\"css\",\"right_units\":\"screen\",\"top_units\":\"screen\"},\"id\":\"4f65a4db-0a5c-4d41-bb70-17f226156ed8\",\"type\":\"BoxAnnotation\"},{\"attributes\":{\"below\":[{\"id\":\"ecdd5378-5f66-4a7b-8244-14ad2a3126a7\",\"type\":\"LogAxis\"}],\"left\":[{\"id\":\"ed17263e-2e7d-47c1-b8c0-cbb7ff304337\",\"type\":\"LogAxis\"}],\"plot_width\":1000,\"renderers\":[{\"id\":\"ecdd5378-5f66-4a7b-8244-14ad2a3126a7\",\"type\":\"LogAxis\"},{\"id\":\"082dcc3e-410d-4d0c-a564-cf5f5577dca7\",\"type\":\"Grid\"},{\"id\":\"ed17263e-2e7d-47c1-b8c0-cbb7ff304337\",\"type\":\"LogAxis\"},{\"id\":\"8945761d-eb94-45bf-bf53-7a762307b5e4\",\"type\":\"Grid\"},{\"id\":\"4f65a4db-0a5c-4d41-bb70-17f226156ed8\",\"type\":\"BoxAnnotation\"},{\"id\":\"b1b30ef3-362d-44cc-a78a-05efd67be603\",\"type\":\"Legend\"},{\"id\":\"714f1b02-2e39-4f26-a4b8-66605ea8f690\",\"type\":\"GlyphRenderer\"},{\"id\":\"1806cca0-048a-44b2-8085-9c3b5bdc1ee7\",\"type\":\"GlyphRenderer\"},{\"id\":\"4db46f46-76db-41dc-8c78-ecb084d9aa26\",\"type\":\"GlyphRenderer\"}],\"title\":{\"id\":\"4452c171-2e98-462c-bb73-85b6b488965d\",\"type\":\"Title\"},\"tool_events\":{\"id\":\"bd446d86-cfda-43d8-8b20-65ed108eb14b\",\"type\":\"ToolEvents\"},\"toolbar\":{\"id\":\"49c5d802-0f2f-4228-a8a0-18835aa154e4\",\"type\":\"Toolbar\"},\"x_range\":{\"id\":\"da361749-d211-4d44-84eb-35ff80958c5f\",\"type\":\"Range1d\"},\"x_scale\":{\"id\":\"8c4c414b-d13e-4954-8350-deb2af15fa18\",\"type\":\"LogScale\"},\"y_range\":{\"id\":\"cafb8a25-812d-4cac-914f-4a494443f1db\",\"type\":\"Range1d\"},\"y_scale\":{\"id\":\"bcdbb097-611e-4912-aec1-01620fe42cee\",\"type\":\"LogScale\"}},\"id\":\"fade32b5-a244-4b53-bc41-2c5c50465780\",\"subtype\":\"Figure\",\"type\":\"Plot\"}],\"root_ids\":[\"fade32b5-a244-4b53-bc41-2c5c50465780\"]},\"title\":\"Bokeh Application\",\"version\":\"0.12.6\"}};\n",
       "            var render_items = [{\"docid\":\"08018075-30d5-452e-9c66-d07c24d9d334\",\"elementid\":\"c0dfa1fb-4be9-4cec-98a0-87dd9010fa45\",\"modelid\":\"fade32b5-a244-4b53-bc41-2c5c50465780\"}];\n",
       "            \n",
       "            Bokeh.embed.embed_items(docs_json, render_items);\n",
       "          };\n",
       "          if (document.readyState != \"loading\") fn();\n",
       "          else document.addEventListener(\"DOMContentLoaded\", fn);\n",
       "        })();\n",
       "      },\n",
       "      function(Bokeh) {\n",
       "      }\n",
       "    ];\n",
       "  \n",
       "    function run_inline_js() {\n",
       "      \n",
       "      if ((window.Bokeh !== undefined) || (force === true)) {\n",
       "        for (var i = 0; i < inline_js.length; i++) {\n",
       "          inline_js[i](window.Bokeh);\n",
       "        }if (force === true) {\n",
       "          display_loaded();\n",
       "        }} else if (Date.now() < window._bokeh_timeout) {\n",
       "        setTimeout(run_inline_js, 100);\n",
       "      } else if (!window._bokeh_failed_load) {\n",
       "        console.log(\"Bokeh: BokehJS failed to load within specified timeout.\");\n",
       "        window._bokeh_failed_load = true;\n",
       "      } else if (force !== true) {\n",
       "        var cell = $(document.getElementById(\"c0dfa1fb-4be9-4cec-98a0-87dd9010fa45\")).parents('.cell').data().cell;\n",
       "        cell.output_area.append_execute_result(NB_LOAD_WARNING)\n",
       "      }\n",
       "  \n",
       "    }\n",
       "  \n",
       "    if (window._bokeh_is_loading === 0) {\n",
       "      console.log(\"Bokeh: BokehJS loaded, going straight to plotting\");\n",
       "      run_inline_js();\n",
       "    } else {\n",
       "      load_libs(js_urls, function() {\n",
       "        console.log(\"Bokeh: BokehJS plotting callback run at\", now());\n",
       "        run_inline_js();\n",
       "      });\n",
       "    }\n",
       "  }(this));\n",
       "</script>"
      ]
     },
     "metadata": {},
     "output_type": "display_data"
    }
   ],
   "source": [
    "fig = s.plot()"
   ]
  },
  {
   "cell_type": "markdown",
   "metadata": {},
   "source": [
    "But that radius seems wrong. Let's change it..."
   ]
  },
  {
   "cell_type": "code",
   "execution_count": 6,
   "metadata": {
    "collapsed": false
   },
   "outputs": [
    {
     "name": "stdout",
     "output_type": "stream",
     "text": [
      "Setting radius to (<Quantity 0.6 solRad>, <Quantity 0.05 solRad>)\n"
     ]
    }
   ],
   "source": [
    "s.radius = 0.6*q.Rsun, 0.05*q.Rsun"
   ]
  },
  {
   "cell_type": "code",
   "execution_count": 7,
   "metadata": {
    "collapsed": false
   },
   "outputs": [
    {
     "name": "stdout",
     "output_type": "stream",
     "text": [
      "    param           value          unc        units    \n",
      "------------- ------------------ -------- -------------\n",
      "         name    2MASS 261832886       --            --\n",
      "          age                6.0      4.0           Gyr\n",
      "     distance             572.28    16.41            pc\n",
      "     parallax             1.7474   0.0501           mas\n",
      "       radius                0.6     0.05        solRad\n",
      "spectral_type               60.0      0.5            --\n",
      "   membership                 --       --            --\n",
      "         fbol           9.41e-12 8.88e-14 erg / (cm2 s)\n",
      "         mbol             16.085     0.01            --\n",
      "         Lbol           3.69e+32 2.14e+31       erg / s\n",
      "     Lbol_sun              -1.02    0.025            --\n",
      "         Mbol              7.297    0.033            --\n",
      "         logg                4.5     0.07            --\n",
      "         mass 0.8896913720017506      0.0       solMass\n",
      "         Teff               4150      183             K\n"
     ]
    }
   ],
   "source": [
    "print(s.results)"
   ]
  },
  {
   "cell_type": "code",
   "execution_count": null,
   "metadata": {
    "collapsed": true
   },
   "outputs": [],
   "source": []
  }
 ],
 "metadata": {
  "anaconda-cloud": {},
  "kernelspec": {
   "display_name": "Python [conda env:astroconda]",
   "language": "python",
   "name": "conda-env-astroconda-py"
  },
  "language_info": {
   "codemirror_mode": {
    "name": "ipython",
    "version": 3
   },
   "file_extension": ".py",
   "mimetype": "text/x-python",
   "name": "python",
   "nbconvert_exporter": "python",
   "pygments_lexer": "ipython3",
   "version": "3.5.2"
  }
 },
 "nbformat": 4,
 "nbformat_minor": 1
}
