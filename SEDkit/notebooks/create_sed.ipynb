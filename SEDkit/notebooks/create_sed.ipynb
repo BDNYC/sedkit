{
 "cells": [
  {
   "cell_type": "markdown",
   "metadata": {},
   "source": [
    "# Make an SED!"
   ]
  },
  {
   "cell_type": "code",
   "execution_count": 1,
   "metadata": {
    "collapsed": false
   },
   "outputs": [
    {
     "data": {
      "text/html": [
       "\n",
       "    <div class=\"bk-root\">\n",
       "        <a href=\"http://bokeh.pydata.org\" target=\"_blank\" class=\"bk-logo bk-logo-small bk-logo-notebook\"></a>\n",
       "        <span id=\"302196c3-540a-415c-b006-2b744d916ce7\">Loading BokehJS ...</span>\n",
       "    </div>"
      ]
     },
     "metadata": {},
     "output_type": "display_data"
    },
    {
     "data": {
      "application/javascript": [
       "\n",
       "(function(global) {\n",
       "  function now() {\n",
       "    return new Date();\n",
       "  }\n",
       "\n",
       "  var force = true;\n",
       "\n",
       "  if (typeof (window._bokeh_onload_callbacks) === \"undefined\" || force === true) {\n",
       "    window._bokeh_onload_callbacks = [];\n",
       "    window._bokeh_is_loading = undefined;\n",
       "  }\n",
       "\n",
       "\n",
       "  \n",
       "  if (typeof (window._bokeh_timeout) === \"undefined\" || force === true) {\n",
       "    window._bokeh_timeout = Date.now() + 5000;\n",
       "    window._bokeh_failed_load = false;\n",
       "  }\n",
       "\n",
       "  var NB_LOAD_WARNING = {'data': {'text/html':\n",
       "     \"<div style='background-color: #fdd'>\\n\"+\n",
       "     \"<p>\\n\"+\n",
       "     \"BokehJS does not appear to have successfully loaded. If loading BokehJS from CDN, this \\n\"+\n",
       "     \"may be due to a slow or bad network connection. Possible fixes:\\n\"+\n",
       "     \"</p>\\n\"+\n",
       "     \"<ul>\\n\"+\n",
       "     \"<li>re-rerun `output_notebook()` to attempt to load from CDN again, or</li>\\n\"+\n",
       "     \"<li>use INLINE resources instead, as so:</li>\\n\"+\n",
       "     \"</ul>\\n\"+\n",
       "     \"<code>\\n\"+\n",
       "     \"from bokeh.resources import INLINE\\n\"+\n",
       "     \"output_notebook(resources=INLINE)\\n\"+\n",
       "     \"</code>\\n\"+\n",
       "     \"</div>\"}};\n",
       "\n",
       "  function display_loaded() {\n",
       "    if (window.Bokeh !== undefined) {\n",
       "      var el = document.getElementById(\"302196c3-540a-415c-b006-2b744d916ce7\");\n",
       "      el.textContent = \"BokehJS \" + Bokeh.version + \" successfully loaded.\";\n",
       "    } else if (Date.now() < window._bokeh_timeout) {\n",
       "      setTimeout(display_loaded, 100)\n",
       "    }\n",
       "  }\n",
       "\n",
       "  function run_callbacks() {\n",
       "    try {\n",
       "      window._bokeh_onload_callbacks.forEach(function(callback) { callback() });\n",
       "    }\n",
       "    finally {\n",
       "      delete window._bokeh_onload_callbacks\n",
       "    }\n",
       "    console.info(\"Bokeh: all callbacks have finished\");\n",
       "  }\n",
       "\n",
       "  function load_libs(js_urls, callback) {\n",
       "    window._bokeh_onload_callbacks.push(callback);\n",
       "    if (window._bokeh_is_loading > 0) {\n",
       "      console.log(\"Bokeh: BokehJS is being loaded, scheduling callback at\", now());\n",
       "      return null;\n",
       "    }\n",
       "    if (js_urls == null || js_urls.length === 0) {\n",
       "      run_callbacks();\n",
       "      return null;\n",
       "    }\n",
       "    console.log(\"Bokeh: BokehJS not loaded, scheduling load and callback at\", now());\n",
       "    window._bokeh_is_loading = js_urls.length;\n",
       "    for (var i = 0; i < js_urls.length; i++) {\n",
       "      var url = js_urls[i];\n",
       "      var s = document.createElement('script');\n",
       "      s.src = url;\n",
       "      s.async = false;\n",
       "      s.onreadystatechange = s.onload = function() {\n",
       "        window._bokeh_is_loading--;\n",
       "        if (window._bokeh_is_loading === 0) {\n",
       "          console.log(\"Bokeh: all BokehJS libraries loaded\");\n",
       "          run_callbacks()\n",
       "        }\n",
       "      };\n",
       "      s.onerror = function() {\n",
       "        console.warn(\"failed to load library \" + url);\n",
       "      };\n",
       "      console.log(\"Bokeh: injecting script tag for BokehJS library: \", url);\n",
       "      document.getElementsByTagName(\"head\")[0].appendChild(s);\n",
       "    }\n",
       "  };var element = document.getElementById(\"302196c3-540a-415c-b006-2b744d916ce7\");\n",
       "  if (element == null) {\n",
       "    console.log(\"Bokeh: ERROR: autoload.js configured with elementid '302196c3-540a-415c-b006-2b744d916ce7' but no matching script tag was found. \")\n",
       "    return false;\n",
       "  }\n",
       "\n",
       "  var js_urls = [\"https://cdn.pydata.org/bokeh/release/bokeh-0.12.6.min.js\", \"https://cdn.pydata.org/bokeh/release/bokeh-widgets-0.12.6.min.js\"];\n",
       "\n",
       "  var inline_js = [\n",
       "    function(Bokeh) {\n",
       "      Bokeh.set_log_level(\"info\");\n",
       "    },\n",
       "    \n",
       "    function(Bokeh) {\n",
       "      \n",
       "    },\n",
       "    \n",
       "    function(Bokeh) {\n",
       "      \n",
       "      document.getElementById(\"302196c3-540a-415c-b006-2b744d916ce7\").textContent = \"BokehJS is loading...\";\n",
       "    },\n",
       "    function(Bokeh) {\n",
       "      console.log(\"Bokeh: injecting CSS: https://cdn.pydata.org/bokeh/release/bokeh-0.12.6.min.css\");\n",
       "      Bokeh.embed.inject_css(\"https://cdn.pydata.org/bokeh/release/bokeh-0.12.6.min.css\");\n",
       "      console.log(\"Bokeh: injecting CSS: https://cdn.pydata.org/bokeh/release/bokeh-widgets-0.12.6.min.css\");\n",
       "      Bokeh.embed.inject_css(\"https://cdn.pydata.org/bokeh/release/bokeh-widgets-0.12.6.min.css\");\n",
       "    }\n",
       "  ];\n",
       "\n",
       "  function run_inline_js() {\n",
       "    \n",
       "    if ((window.Bokeh !== undefined) || (force === true)) {\n",
       "      for (var i = 0; i < inline_js.length; i++) {\n",
       "        inline_js[i](window.Bokeh);\n",
       "      }if (force === true) {\n",
       "        display_loaded();\n",
       "      }} else if (Date.now() < window._bokeh_timeout) {\n",
       "      setTimeout(run_inline_js, 100);\n",
       "    } else if (!window._bokeh_failed_load) {\n",
       "      console.log(\"Bokeh: BokehJS failed to load within specified timeout.\");\n",
       "      window._bokeh_failed_load = true;\n",
       "    } else if (force !== true) {\n",
       "      var cell = $(document.getElementById(\"302196c3-540a-415c-b006-2b744d916ce7\")).parents('.cell').data().cell;\n",
       "      cell.output_area.append_execute_result(NB_LOAD_WARNING)\n",
       "    }\n",
       "\n",
       "  }\n",
       "\n",
       "  if (window._bokeh_is_loading === 0) {\n",
       "    console.log(\"Bokeh: BokehJS loaded, going straight to plotting\");\n",
       "    run_inline_js();\n",
       "  } else {\n",
       "    load_libs(js_urls, function() {\n",
       "      console.log(\"Bokeh: BokehJS plotting callback run at\", now());\n",
       "      run_inline_js();\n",
       "    });\n",
       "  }\n",
       "}(this));"
      ]
     },
     "metadata": {},
     "output_type": "display_data"
    }
   ],
   "source": [
    "from SEDkit import sed, spectrum, synphot\n",
    "import astropy.units as q\n",
    "from bokeh.io import output_notebook, show\n",
    "output_notebook()"
   ]
  },
  {
   "cell_type": "markdown",
   "metadata": {},
   "source": [
    "Let's create a new SED for an M-dwarf. The software assumes a field age if no `age` argument is given."
   ]
  },
  {
   "cell_type": "code",
   "execution_count": 2,
   "metadata": {
    "collapsed": false
   },
   "outputs": [
    {
     "name": "stdout",
     "output_type": "stream",
     "text": [
      "Make this handle asymmetric uncertainties!\n",
      "Setting age to (<Quantity 6.0 Gyr>, <Quantity 4.0 Gyr>)\n"
     ]
    }
   ],
   "source": [
    "s = sed.SED(parallax=(1.7474*q.mas, 0.0501*q.mas), spectral_type='M0V', name='2MASS 261832886')"
   ]
  },
  {
   "cell_type": "markdown",
   "metadata": {},
   "source": [
    "Now let's add some photometry and take a look at how it's stored!"
   ]
  },
  {
   "cell_type": "code",
   "execution_count": 3,
   "metadata": {
    "collapsed": false
   },
   "outputs": [
    {
     "name": "stdout",
     "output_type": "stream",
     "text": [
      "  band          eff         app_magnitude ...      abs_flux_unc      bandpass\n",
      "                 um                       ... erg / (Angstrom cm2 s)         \n",
      "-------- ------------------ ------------- ... ---------------------- --------\n",
      "  SDSS.u 0.3556523841771217        20.486 ...                    0.0   SDSS.u\n",
      "  SDSS.g  0.470249523890033        17.779 ...                    0.0   SDSS.g\n",
      "  SDSS.r 0.6175578617515662        16.431 ...                    0.0   SDSS.r\n",
      "  SDSS.i 0.7489976493830276        15.843 ...                    0.0   SDSS.i\n",
      "  SDSS.z 0.8946709375325572        15.514 ...                    0.0   SDSS.z\n",
      " 2MASS.J   1.23930926619334        14.391 ...                    0.0  2MASS.J\n",
      " 2MASS.H 1.6494946845618255        13.677 ...                    0.0  2MASS.H\n",
      "2MASS.Ks 2.1638605296287605        13.535 ...                    0.0 2MASS.Ks\n",
      " WISE.W1 3.3897048276483708         13.55 ...                    0.0  WISE.W1\n",
      " WISE.W2  4.640635531659788        13.581 ...                    0.0  WISE.W2\n",
      " WISE.W3   12.5675933669612        12.884 ...                    nan  WISE.W3\n"
     ]
    }
   ],
   "source": [
    "# Add the band name, magnitude, and uncertainty\n",
    "s.add_photometry('2MASS.J', 14.391, 0.029)\n",
    "s.add_photometry('2MASS.H', 13.677, 0.032)\n",
    "s.add_photometry('2MASS.Ks', 13.535, 0.034)\n",
    "s.add_photometry('WISE.W1', 13.55, 0.027)\n",
    "s.add_photometry('WISE.W2', 13.581, 0.035)\n",
    "s.add_photometry('WISE.W3', 12.884, None)\n",
    "s.add_photometry('SDSS.u', 20.486, 0.073)\n",
    "s.add_photometry('SDSS.g', 17.779, 0.006)\n",
    "s.add_photometry('SDSS.r', 16.431, 0.004)\n",
    "s.add_photometry('SDSS.i', 15.843, 0.004)\n",
    "s.add_photometry('SDSS.z', 15.514, 0.005)\n",
    "\n",
    "# Take a look\n",
    "print(s.photometry)"
   ]
  },
  {
   "cell_type": "markdown",
   "metadata": {},
   "source": [
    "Now that our SED has all the data it needs, we can call the `results` method, which constructs the SED and caluclates the fundamental parameters.\n",
    "\n",
    "If no `radius` is given, one will be estimated from model isochrones using the calculated `Lbol` and assumed `age`."
   ]
  },
  {
   "cell_type": "code",
   "execution_count": 4,
   "metadata": {
    "collapsed": false
   },
   "outputs": [
    {
     "name": "stdout",
     "output_type": "stream",
     "text": [
      "Setting radius to (<Quantity 0.8786209573091851 solRad>, <Quantity 0.06782337214316517 solRad>)\n",
      "    param           value                unc             units    \n",
      "------------- ------------------ ------------------- -------------\n",
      "         name    2MASS 261832886                  --            --\n",
      "          age                6.0                 4.0           Gyr\n",
      "     distance             572.28               16.41            pc\n",
      "     parallax             1.7474              0.0501           mas\n",
      "       radius 0.8786209573091851 0.06782337214316517        solRad\n",
      "spectral_type               60.0                 0.5            --\n",
      "   membership                 --                  --            --\n",
      "         fbol           9.41e-12            8.88e-14 erg / (cm2 s)\n",
      "         mbol             16.085                0.01            --\n",
      "         Lbol           3.69e+32            2.14e+31       erg / s\n",
      "     Lbol_sun              -1.02               0.025            --\n",
      "         Mbol              7.297               0.033            --\n",
      "         logg                4.5                0.07            --\n",
      "         mass 0.8896913720017506                 0.0       solMass\n",
      "         Teff               3430                 141             K\n"
     ]
    }
   ],
   "source": [
    "print(s.results)"
   ]
  },
  {
   "cell_type": "code",
   "execution_count": 5,
   "metadata": {
    "collapsed": false
   },
   "outputs": [
    {
     "data": {
      "text/html": [
       "\n",
       "\n",
       "    <div class=\"bk-root\">\n",
       "        <div class=\"bk-plotdiv\" id=\"73490aac-5c33-4296-a5b3-547bdaf7fc2a\"></div>\n",
       "    </div>\n",
       "<script type=\"text/javascript\">\n",
       "  \n",
       "  (function(global) {\n",
       "    function now() {\n",
       "      return new Date();\n",
       "    }\n",
       "  \n",
       "    var force = false;\n",
       "  \n",
       "    if (typeof (window._bokeh_onload_callbacks) === \"undefined\" || force === true) {\n",
       "      window._bokeh_onload_callbacks = [];\n",
       "      window._bokeh_is_loading = undefined;\n",
       "    }\n",
       "  \n",
       "  \n",
       "    \n",
       "    if (typeof (window._bokeh_timeout) === \"undefined\" || force === true) {\n",
       "      window._bokeh_timeout = Date.now() + 0;\n",
       "      window._bokeh_failed_load = false;\n",
       "    }\n",
       "  \n",
       "    var NB_LOAD_WARNING = {'data': {'text/html':\n",
       "       \"<div style='background-color: #fdd'>\\n\"+\n",
       "       \"<p>\\n\"+\n",
       "       \"BokehJS does not appear to have successfully loaded. If loading BokehJS from CDN, this \\n\"+\n",
       "       \"may be due to a slow or bad network connection. Possible fixes:\\n\"+\n",
       "       \"</p>\\n\"+\n",
       "       \"<ul>\\n\"+\n",
       "       \"<li>re-rerun `output_notebook()` to attempt to load from CDN again, or</li>\\n\"+\n",
       "       \"<li>use INLINE resources instead, as so:</li>\\n\"+\n",
       "       \"</ul>\\n\"+\n",
       "       \"<code>\\n\"+\n",
       "       \"from bokeh.resources import INLINE\\n\"+\n",
       "       \"output_notebook(resources=INLINE)\\n\"+\n",
       "       \"</code>\\n\"+\n",
       "       \"</div>\"}};\n",
       "  \n",
       "    function display_loaded() {\n",
       "      if (window.Bokeh !== undefined) {\n",
       "        var el = document.getElementById(\"73490aac-5c33-4296-a5b3-547bdaf7fc2a\");\n",
       "        el.textContent = \"BokehJS \" + Bokeh.version + \" successfully loaded.\";\n",
       "      } else if (Date.now() < window._bokeh_timeout) {\n",
       "        setTimeout(display_loaded, 100)\n",
       "      }\n",
       "    }\n",
       "  \n",
       "    function run_callbacks() {\n",
       "      try {\n",
       "        window._bokeh_onload_callbacks.forEach(function(callback) { callback() });\n",
       "      }\n",
       "      finally {\n",
       "        delete window._bokeh_onload_callbacks\n",
       "      }\n",
       "      console.info(\"Bokeh: all callbacks have finished\");\n",
       "    }\n",
       "  \n",
       "    function load_libs(js_urls, callback) {\n",
       "      window._bokeh_onload_callbacks.push(callback);\n",
       "      if (window._bokeh_is_loading > 0) {\n",
       "        console.log(\"Bokeh: BokehJS is being loaded, scheduling callback at\", now());\n",
       "        return null;\n",
       "      }\n",
       "      if (js_urls == null || js_urls.length === 0) {\n",
       "        run_callbacks();\n",
       "        return null;\n",
       "      }\n",
       "      console.log(\"Bokeh: BokehJS not loaded, scheduling load and callback at\", now());\n",
       "      window._bokeh_is_loading = js_urls.length;\n",
       "      for (var i = 0; i < js_urls.length; i++) {\n",
       "        var url = js_urls[i];\n",
       "        var s = document.createElement('script');\n",
       "        s.src = url;\n",
       "        s.async = false;\n",
       "        s.onreadystatechange = s.onload = function() {\n",
       "          window._bokeh_is_loading--;\n",
       "          if (window._bokeh_is_loading === 0) {\n",
       "            console.log(\"Bokeh: all BokehJS libraries loaded\");\n",
       "            run_callbacks()\n",
       "          }\n",
       "        };\n",
       "        s.onerror = function() {\n",
       "          console.warn(\"failed to load library \" + url);\n",
       "        };\n",
       "        console.log(\"Bokeh: injecting script tag for BokehJS library: \", url);\n",
       "        document.getElementsByTagName(\"head\")[0].appendChild(s);\n",
       "      }\n",
       "    };var element = document.getElementById(\"73490aac-5c33-4296-a5b3-547bdaf7fc2a\");\n",
       "    if (element == null) {\n",
       "      console.log(\"Bokeh: ERROR: autoload.js configured with elementid '73490aac-5c33-4296-a5b3-547bdaf7fc2a' but no matching script tag was found. \")\n",
       "      return false;\n",
       "    }\n",
       "  \n",
       "    var js_urls = [];\n",
       "  \n",
       "    var inline_js = [\n",
       "      function(Bokeh) {\n",
       "        (function() {\n",
       "          var fn = function() {\n",
       "            var docs_json = {\"b8632499-e241-4508-b352-0b352ebc1542\":{\"roots\":{\"references\":[{\"attributes\":{\"click_policy\":\"hide\",\"items\":[{\"id\":\"8305550d-051c-4a9c-b6b5-bfef483300eb\",\"type\":\"LegendItem\"},{\"id\":\"74c2c3ea-ee7a-4d4c-9b44-95b9ed01861f\",\"type\":\"LegendItem\"}],\"plot\":{\"id\":\"b353ab24-b46f-400e-b1d6-c1ed53d7cbb8\",\"subtype\":\"Figure\",\"type\":\"Plot\"}},\"id\":\"e1f65e2e-0889-4dfa-b9f0-d3f7cbd4886f\",\"type\":\"Legend\"},{\"attributes\":{\"callback\":null,\"end\":1.353881267951867e-15,\"start\":2.4941228638277776e-19},\"id\":\"f03df0a8-f806-425c-84a1-40972fb390f7\",\"type\":\"Range1d\"},{\"attributes\":{\"line_alpha\":{\"value\":0.1},\"line_color\":{\"value\":\"#1f77b4\"},\"xs\":{\"field\":\"xs\"},\"ys\":{\"field\":\"ys\"}},\"id\":\"85665a7a-3782-4015-a800-c04a0507b5c9\",\"type\":\"MultiLine\"},{\"attributes\":{\"bottom_units\":\"screen\",\"fill_alpha\":{\"value\":0.5},\"fill_color\":{\"value\":\"lightgrey\"},\"left_units\":\"screen\",\"level\":\"overlay\",\"line_alpha\":{\"value\":1.0},\"line_color\":{\"value\":\"black\"},\"line_dash\":[4,4],\"line_width\":{\"value\":2},\"plot\":null,\"render_mode\":\"css\",\"right_units\":\"screen\",\"top_units\":\"screen\"},\"id\":\"443c2be4-62ea-40a0-afd7-bd79b3c7c26e\",\"type\":\"BoxAnnotation\"},{\"attributes\":{\"fill_alpha\":{\"value\":0.7},\"fill_color\":{\"value\":\"black\"},\"size\":{\"units\":\"screen\",\"value\":8},\"x\":{\"field\":\"x\"},\"y\":{\"field\":\"y\"}},\"id\":\"2d14b0ef-b55a-491d-8e6c-8bcc4367ddaf\",\"type\":\"Circle\"},{\"attributes\":{\"num_minor_ticks\":10},\"id\":\"1d7b53d7-cb31-45a3-ba42-8e695a27b048\",\"type\":\"LogTicker\"},{\"attributes\":{\"axis_label\":\"Flux Density [erg / (Angstrom cm2 s)]\",\"formatter\":{\"id\":\"1cda1f93-2e0b-424a-9cb8-5c016c01e17a\",\"type\":\"LogTickFormatter\"},\"plot\":{\"id\":\"b353ab24-b46f-400e-b1d6-c1ed53d7cbb8\",\"subtype\":\"Figure\",\"type\":\"Plot\"},\"ticker\":{\"id\":\"1d7b53d7-cb31-45a3-ba42-8e695a27b048\",\"type\":\"LogTicker\"}},\"id\":\"29cfb92f-91da-4ba9-bcab-13fe48fea311\",\"type\":\"LogAxis\"},{\"attributes\":{\"data_source\":{\"id\":\"6a676889-7574-4e9d-969f-04380c569223\",\"type\":\"ColumnDataSource\"},\"glyph\":{\"id\":\"aaf9782f-da20-49ef-87f8-63f86205e5a2\",\"type\":\"Circle\"},\"hover_glyph\":null,\"muted_glyph\":null,\"nonselection_glyph\":{\"id\":\"45968254-856d-49b1-b4a3-73c16b3f3b2e\",\"type\":\"Circle\"},\"selection_glyph\":null},\"id\":\"b8903bf8-706e-4b0e-a425-2a84b6cf84d3\",\"type\":\"GlyphRenderer\"},{\"attributes\":{\"data_source\":{\"id\":\"840f6aee-b5bc-42d4-8a53-d439b0ce6786\",\"type\":\"ColumnDataSource\"},\"glyph\":{\"id\":\"89aa066f-af90-43ee-a46a-25cf100ed3c6\",\"type\":\"MultiLine\"},\"hover_glyph\":null,\"muted_glyph\":null,\"nonselection_glyph\":{\"id\":\"85665a7a-3782-4015-a800-c04a0507b5c9\",\"type\":\"MultiLine\"},\"selection_glyph\":null},\"id\":\"662fbaed-19c5-4956-bb02-ecf991e1dcf0\",\"type\":\"GlyphRenderer\"},{\"attributes\":{\"dimension\":1,\"plot\":{\"id\":\"b353ab24-b46f-400e-b1d6-c1ed53d7cbb8\",\"subtype\":\"Figure\",\"type\":\"Plot\"},\"ticker\":{\"id\":\"1d7b53d7-cb31-45a3-ba42-8e695a27b048\",\"type\":\"LogTicker\"}},\"id\":\"53ee2983-e32f-49b8-9758-ceb8773be067\",\"type\":\"Grid\"},{\"attributes\":{\"plot\":{\"id\":\"b353ab24-b46f-400e-b1d6-c1ed53d7cbb8\",\"subtype\":\"Figure\",\"type\":\"Plot\"}},\"id\":\"8b8d04a2-9456-4566-b0ef-1e8fb026eef3\",\"type\":\"HelpTool\"},{\"attributes\":{\"fill_alpha\":{\"value\":0},\"fill_color\":{\"value\":\"black\"},\"size\":{\"units\":\"screen\",\"value\":8},\"x\":{\"field\":\"x\"},\"y\":{\"field\":\"y\"}},\"id\":\"aaf9782f-da20-49ef-87f8-63f86205e5a2\",\"type\":\"Circle\"},{\"attributes\":{\"fill_alpha\":{\"value\":0.1},\"fill_color\":{\"value\":\"#1f77b4\"},\"line_alpha\":{\"value\":0.1},\"line_color\":{\"value\":\"#1f77b4\"},\"size\":{\"units\":\"screen\",\"value\":8},\"x\":{\"field\":\"x\"},\"y\":{\"field\":\"y\"}},\"id\":\"ab8a949f-58c9-4781-8593-8c92ea027eb9\",\"type\":\"Circle\"},{\"attributes\":{\"plot\":{\"id\":\"b353ab24-b46f-400e-b1d6-c1ed53d7cbb8\",\"subtype\":\"Figure\",\"type\":\"Plot\"}},\"id\":\"5b27f061-e0c5-40a9-9309-03d4d76b3e63\",\"type\":\"PanTool\"},{\"attributes\":{\"ticker\":null},\"id\":\"1cda1f93-2e0b-424a-9cb8-5c016c01e17a\",\"type\":\"LogTickFormatter\"},{\"attributes\":{\"callback\":null,\"column_names\":[\"ys\",\"xs\"],\"data\":{\"xs\":[[0.3556523841771217,0.3556523841771217],[0.470249523890033,0.470249523890033],[0.6175578617515662,0.6175578617515662],[0.7489976493830276,0.7489976493830276],[0.8946709375325572,0.8946709375325572],[1.23930926619334,1.23930926619334],[1.6494946845618255,1.6494946845618255],[2.1638605296287605,2.1638605296287605],[3.3897048276483708,3.3897048276483708],[4.640635531659788,4.640635531659788]],\"ys\":[[2.169280742200504e-17,2.482012712157986e-17],[4.2466859717335105e-16,4.2938828994981195e-16],[6.744466925157176e-16,6.794345754361494e-16],[6.460083226112941e-16,6.507858890439956e-16],[5.270741323258396e-16,5.319511238618434e-16],[5.343396133096799e-16,5.636673655267576e-16],[3.648095532871504e-16,3.8696672251503776e-16],[1.6013767311408877e-16,1.7049137371172322e-16],[3.060817561147282e-17,3.216932132047134e-17],[8.692329212263297e-18,9.271411804167032e-18]]}},\"id\":\"840f6aee-b5bc-42d4-8a53-d439b0ce6786\",\"type\":\"ColumnDataSource\"},{\"attributes\":{\"data_source\":{\"id\":\"0d099ace-d062-4c9c-89a9-db76830ef400\",\"type\":\"ColumnDataSource\"},\"glyph\":{\"id\":\"2d14b0ef-b55a-491d-8e6c-8bcc4367ddaf\",\"type\":\"Circle\"},\"hover_glyph\":null,\"muted_glyph\":null,\"nonselection_glyph\":{\"id\":\"ab8a949f-58c9-4781-8593-8c92ea027eb9\",\"type\":\"Circle\"},\"selection_glyph\":null},\"id\":\"22ef8b91-f646-43fa-bf62-9e0fd150b2e3\",\"type\":\"GlyphRenderer\"},{\"attributes\":{\"label\":{\"value\":\"Photometry\"},\"renderers\":[{\"id\":\"22ef8b91-f646-43fa-bf62-9e0fd150b2e3\",\"type\":\"GlyphRenderer\"}]},\"id\":\"8305550d-051c-4a9c-b6b5-bfef483300eb\",\"type\":\"LegendItem\"},{\"attributes\":{\"plot\":{\"id\":\"b353ab24-b46f-400e-b1d6-c1ed53d7cbb8\",\"subtype\":\"Figure\",\"type\":\"Plot\"},\"ticker\":{\"id\":\"43a47e5f-c797-4fe9-9c96-ace14f8163c9\",\"type\":\"LogTicker\"}},\"id\":\"e3dbf77e-670b-4134-87a2-21eb9e17987e\",\"type\":\"Grid\"},{\"attributes\":{\"axis_label\":\"Wavelength [um]\",\"formatter\":{\"id\":\"1c26ead4-be0e-4386-a306-a09ddfa74d9f\",\"type\":\"LogTickFormatter\"},\"plot\":{\"id\":\"b353ab24-b46f-400e-b1d6-c1ed53d7cbb8\",\"subtype\":\"Figure\",\"type\":\"Plot\"},\"ticker\":{\"id\":\"43a47e5f-c797-4fe9-9c96-ace14f8163c9\",\"type\":\"LogTicker\"}},\"id\":\"7c6990f3-6b9f-4cc4-8d58-89b4156a2c21\",\"type\":\"LogAxis\"},{\"attributes\":{\"callback\":null,\"end\":21.599999999999998,\"start\":0.24},\"id\":\"b26bf5ce-f0fa-4a04-a353-3600c80bcd7b\",\"type\":\"Range1d\"},{\"attributes\":{},\"id\":\"8e7e67fb-9749-4499-b0b0-5b7c49a37423\",\"type\":\"LogScale\"},{\"attributes\":{\"num_minor_ticks\":10},\"id\":\"43a47e5f-c797-4fe9-9c96-ace14f8163c9\",\"type\":\"LogTicker\"},{\"attributes\":{\"below\":[{\"id\":\"7c6990f3-6b9f-4cc4-8d58-89b4156a2c21\",\"type\":\"LogAxis\"}],\"left\":[{\"id\":\"29cfb92f-91da-4ba9-bcab-13fe48fea311\",\"type\":\"LogAxis\"}],\"plot_width\":1000,\"renderers\":[{\"id\":\"7c6990f3-6b9f-4cc4-8d58-89b4156a2c21\",\"type\":\"LogAxis\"},{\"id\":\"e3dbf77e-670b-4134-87a2-21eb9e17987e\",\"type\":\"Grid\"},{\"id\":\"29cfb92f-91da-4ba9-bcab-13fe48fea311\",\"type\":\"LogAxis\"},{\"id\":\"53ee2983-e32f-49b8-9758-ceb8773be067\",\"type\":\"Grid\"},{\"id\":\"443c2be4-62ea-40a0-afd7-bd79b3c7c26e\",\"type\":\"BoxAnnotation\"},{\"id\":\"e1f65e2e-0889-4dfa-b9f0-d3f7cbd4886f\",\"type\":\"Legend\"},{\"id\":\"22ef8b91-f646-43fa-bf62-9e0fd150b2e3\",\"type\":\"GlyphRenderer\"},{\"id\":\"662fbaed-19c5-4956-bb02-ecf991e1dcf0\",\"type\":\"GlyphRenderer\"},{\"id\":\"b8903bf8-706e-4b0e-a425-2a84b6cf84d3\",\"type\":\"GlyphRenderer\"}],\"title\":{\"id\":\"3ba9527d-85c2-48a3-af92-72035635469a\",\"type\":\"Title\"},\"tool_events\":{\"id\":\"48c3a315-1d33-441a-9170-2ebe7bbb8ae6\",\"type\":\"ToolEvents\"},\"toolbar\":{\"id\":\"2b3f38ee-3fc7-4897-92f3-d3b5d22f924b\",\"type\":\"Toolbar\"},\"x_range\":{\"id\":\"b26bf5ce-f0fa-4a04-a353-3600c80bcd7b\",\"type\":\"Range1d\"},\"x_scale\":{\"id\":\"bd2d091e-cc46-4ed0-9dab-6437c26c8cc7\",\"type\":\"LogScale\"},\"y_range\":{\"id\":\"f03df0a8-f806-425c-84a1-40972fb390f7\",\"type\":\"Range1d\"},\"y_scale\":{\"id\":\"8e7e67fb-9749-4499-b0b0-5b7c49a37423\",\"type\":\"LogScale\"}},\"id\":\"b353ab24-b46f-400e-b1d6-c1ed53d7cbb8\",\"subtype\":\"Figure\",\"type\":\"Plot\"},{\"attributes\":{\"fill_alpha\":{\"value\":0.1},\"fill_color\":{\"value\":\"#1f77b4\"},\"line_alpha\":{\"value\":0.1},\"line_color\":{\"value\":\"#1f77b4\"},\"size\":{\"units\":\"screen\",\"value\":8},\"x\":{\"field\":\"x\"},\"y\":{\"field\":\"y\"}},\"id\":\"45968254-856d-49b1-b4a3-73c16b3f3b2e\",\"type\":\"Circle\"},{\"attributes\":{\"plot\":{\"id\":\"b353ab24-b46f-400e-b1d6-c1ed53d7cbb8\",\"subtype\":\"Figure\",\"type\":\"Plot\"}},\"id\":\"45cfa438-2dda-41ab-93e3-b66a6936bcdf\",\"type\":\"WheelZoomTool\"},{\"attributes\":{},\"id\":\"48c3a315-1d33-441a-9170-2ebe7bbb8ae6\",\"type\":\"ToolEvents\"},{\"attributes\":{\"plot\":{\"id\":\"b353ab24-b46f-400e-b1d6-c1ed53d7cbb8\",\"subtype\":\"Figure\",\"type\":\"Plot\"}},\"id\":\"ff018136-7f01-42b7-b15a-c4ddac89b018\",\"type\":\"SaveTool\"},{\"attributes\":{\"xs\":{\"field\":\"xs\"},\"ys\":{\"field\":\"ys\"}},\"id\":\"89aa066f-af90-43ee-a46a-25cf100ed3c6\",\"type\":\"MultiLine\"},{\"attributes\":{},\"id\":\"bd2d091e-cc46-4ed0-9dab-6437c26c8cc7\",\"type\":\"LogScale\"},{\"attributes\":{\"label\":{\"value\":\"Nondetection\"},\"renderers\":[{\"id\":\"b8903bf8-706e-4b0e-a425-2a84b6cf84d3\",\"type\":\"GlyphRenderer\"}]},\"id\":\"74c2c3ea-ee7a-4d4c-9b44-95b9ed01861f\",\"type\":\"LegendItem\"},{\"attributes\":{\"active_drag\":\"auto\",\"active_inspect\":\"auto\",\"active_scroll\":\"auto\",\"active_tap\":\"auto\",\"tools\":[{\"id\":\"5b27f061-e0c5-40a9-9309-03d4d76b3e63\",\"type\":\"PanTool\"},{\"id\":\"45cfa438-2dda-41ab-93e3-b66a6936bcdf\",\"type\":\"WheelZoomTool\"},{\"id\":\"07dc49f3-2bb8-4541-a28d-3ac4b73c9d3c\",\"type\":\"BoxZoomTool\"},{\"id\":\"ff018136-7f01-42b7-b15a-c4ddac89b018\",\"type\":\"SaveTool\"},{\"id\":\"87ecd3cf-a04f-49b1-93a7-b9bf1bcc7641\",\"type\":\"ResetTool\"},{\"id\":\"8b8d04a2-9456-4566-b0ef-1e8fb026eef3\",\"type\":\"HelpTool\"}]},\"id\":\"2b3f38ee-3fc7-4897-92f3-d3b5d22f924b\",\"type\":\"Toolbar\"},{\"attributes\":{\"callback\":null,\"column_names\":[\"x\",\"y\"],\"data\":{\"x\":{\"__ndarray__\":\"J0CyNwLD1j8HToR1kRjeP5SKc7QIw+M/+TAc68n35z+qSSzyJKHsP+nh/vM11PM/6+bRiVRk+j/Z4v4blk8BQJu+jpAdHgtAlonEwgKQEkA=\",\"dtype\":\"float64\",\"shape\":[10]},\"y\":{\"__ndarray__\":\"31Mg/BjQejxWpiHPSMW+PDJBYeGsY8g8pplMYWhcxzwLE/VX5BPDPGtGtdapx8M8Fgwyi+kVuzy/G2yHB9OnPDYrumMpGII8X15O5fW1ZDw=\",\"dtype\":\"float64\",\"shape\":[10]}}},\"id\":\"0d099ace-d062-4c9c-89a9-db76830ef400\",\"type\":\"ColumnDataSource\"},{\"attributes\":{\"callback\":null,\"column_names\":[\"x\",\"y\"],\"data\":{\"x\":{\"__ndarray__\":\"vQwJmZsiKUA=\",\"dtype\":\"float64\",\"shape\":[1]},\"y\":{\"__ndarray__\":\"F1uaz0NnIjw=\",\"dtype\":\"float64\",\"shape\":[1]}}},\"id\":\"6a676889-7574-4e9d-969f-04380c569223\",\"type\":\"ColumnDataSource\"},{\"attributes\":{\"ticker\":null},\"id\":\"1c26ead4-be0e-4386-a306-a09ddfa74d9f\",\"type\":\"LogTickFormatter\"},{\"attributes\":{\"plot\":{\"id\":\"b353ab24-b46f-400e-b1d6-c1ed53d7cbb8\",\"subtype\":\"Figure\",\"type\":\"Plot\"}},\"id\":\"87ecd3cf-a04f-49b1-93a7-b9bf1bcc7641\",\"type\":\"ResetTool\"},{\"attributes\":{\"plot\":null,\"text\":\"2MASS 261832886\"},\"id\":\"3ba9527d-85c2-48a3-af92-72035635469a\",\"type\":\"Title\"},{\"attributes\":{\"overlay\":{\"id\":\"443c2be4-62ea-40a0-afd7-bd79b3c7c26e\",\"type\":\"BoxAnnotation\"},\"plot\":{\"id\":\"b353ab24-b46f-400e-b1d6-c1ed53d7cbb8\",\"subtype\":\"Figure\",\"type\":\"Plot\"}},\"id\":\"07dc49f3-2bb8-4541-a28d-3ac4b73c9d3c\",\"type\":\"BoxZoomTool\"}],\"root_ids\":[\"b353ab24-b46f-400e-b1d6-c1ed53d7cbb8\"]},\"title\":\"Bokeh Application\",\"version\":\"0.12.6\"}};\n",
       "            var render_items = [{\"docid\":\"b8632499-e241-4508-b352-0b352ebc1542\",\"elementid\":\"73490aac-5c33-4296-a5b3-547bdaf7fc2a\",\"modelid\":\"b353ab24-b46f-400e-b1d6-c1ed53d7cbb8\"}];\n",
       "            \n",
       "            Bokeh.embed.embed_items(docs_json, render_items);\n",
       "          };\n",
       "          if (document.readyState != \"loading\") fn();\n",
       "          else document.addEventListener(\"DOMContentLoaded\", fn);\n",
       "        })();\n",
       "      },\n",
       "      function(Bokeh) {\n",
       "      }\n",
       "    ];\n",
       "  \n",
       "    function run_inline_js() {\n",
       "      \n",
       "      if ((window.Bokeh !== undefined) || (force === true)) {\n",
       "        for (var i = 0; i < inline_js.length; i++) {\n",
       "          inline_js[i](window.Bokeh);\n",
       "        }if (force === true) {\n",
       "          display_loaded();\n",
       "        }} else if (Date.now() < window._bokeh_timeout) {\n",
       "        setTimeout(run_inline_js, 100);\n",
       "      } else if (!window._bokeh_failed_load) {\n",
       "        console.log(\"Bokeh: BokehJS failed to load within specified timeout.\");\n",
       "        window._bokeh_failed_load = true;\n",
       "      } else if (force !== true) {\n",
       "        var cell = $(document.getElementById(\"73490aac-5c33-4296-a5b3-547bdaf7fc2a\")).parents('.cell').data().cell;\n",
       "        cell.output_area.append_execute_result(NB_LOAD_WARNING)\n",
       "      }\n",
       "  \n",
       "    }\n",
       "  \n",
       "    if (window._bokeh_is_loading === 0) {\n",
       "      console.log(\"Bokeh: BokehJS loaded, going straight to plotting\");\n",
       "      run_inline_js();\n",
       "    } else {\n",
       "      load_libs(js_urls, function() {\n",
       "        console.log(\"Bokeh: BokehJS plotting callback run at\", now());\n",
       "        run_inline_js();\n",
       "      });\n",
       "    }\n",
       "  }(this));\n",
       "</script>"
      ]
     },
     "metadata": {},
     "output_type": "display_data"
    }
   ],
   "source": [
    "fig = s.plot()"
   ]
  },
  {
   "cell_type": "markdown",
   "metadata": {},
   "source": [
    "But that radius seems wrong. Let's change it..."
   ]
  },
  {
   "cell_type": "code",
   "execution_count": 6,
   "metadata": {
    "collapsed": false
   },
   "outputs": [
    {
     "name": "stdout",
     "output_type": "stream",
     "text": [
      "Setting radius to (<Quantity 0.6 solRad>, <Quantity 0.05 solRad>)\n"
     ]
    }
   ],
   "source": [
    "s.radius = 0.6*q.Rsun, 0.05*q.Rsun"
   ]
  },
  {
   "cell_type": "code",
   "execution_count": 7,
   "metadata": {
    "collapsed": false
   },
   "outputs": [
    {
     "name": "stdout",
     "output_type": "stream",
     "text": [
      "    param           value          unc        units    \n",
      "------------- ------------------ -------- -------------\n",
      "         name    2MASS 261832886       --            --\n",
      "          age                6.0      4.0           Gyr\n",
      "     distance             572.28    16.41            pc\n",
      "     parallax             1.7474   0.0501           mas\n",
      "       radius                0.6     0.05        solRad\n",
      "spectral_type               60.0      0.5            --\n",
      "   membership                 --       --            --\n",
      "         fbol           9.41e-12 8.88e-14 erg / (cm2 s)\n",
      "         mbol             16.085     0.01            --\n",
      "         Lbol           3.69e+32 2.14e+31       erg / s\n",
      "     Lbol_sun              -1.02    0.025            --\n",
      "         Mbol              7.297    0.033            --\n",
      "         logg                4.5     0.07            --\n",
      "         mass 0.8896913720017506      0.0       solMass\n",
      "         Teff               4150      183             K\n"
     ]
    }
   ],
   "source": [
    "print(s.results)"
   ]
  },
  {
   "cell_type": "code",
   "execution_count": null,
   "metadata": {
    "collapsed": true
   },
   "outputs": [],
   "source": []
  }
 ],
 "metadata": {
  "anaconda-cloud": {},
  "kernelspec": {
   "display_name": "Python [conda env:astroconda]",
   "language": "python",
   "name": "conda-env-astroconda-py"
  },
  "language_info": {
   "codemirror_mode": {
    "name": "ipython",
    "version": 3
   },
   "file_extension": ".py",
   "mimetype": "text/x-python",
   "name": "python",
   "nbconvert_exporter": "python",
   "pygments_lexer": "ipython3",
   "version": "3.5.2"
  }
 },
 "nbformat": 4,
 "nbformat_minor": 1
}
