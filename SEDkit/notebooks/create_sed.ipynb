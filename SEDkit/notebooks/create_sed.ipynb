{
 "cells": [
  {
   "cell_type": "markdown",
   "metadata": {},
   "source": [
    "# Make an SED!"
   ]
  },
  {
   "cell_type": "code",
   "execution_count": 1,
   "metadata": {
    "collapsed": true
   },
   "outputs": [],
   "source": [
    "from SEDkit import sed, spectrum, synphot\n",
    "import astropy.units as q"
   ]
  },
  {
   "cell_type": "markdown",
   "metadata": {},
   "source": [
    "Let's create a new SED for an M-dwarf ."
   ]
  },
  {
   "cell_type": "code",
   "execution_count": 2,
   "metadata": {
    "collapsed": false
   },
   "outputs": [
    {
     "name": "stdout",
     "output_type": "stream",
     "text": [
      "Make this handle asymmetric uncertainties!\n"
     ]
    }
   ],
   "source": [
    "s = sed.SED(parallax=(1.7474*q.mas, 0.0501*q.mas), spectral_type='M0V', name='2MASS 261832886')"
   ]
  },
  {
   "cell_type": "markdown",
   "metadata": {},
   "source": [
    "Now let's add some photometry! And then take a look at how it's stored."
   ]
  },
  {
   "cell_type": "code",
   "execution_count": 3,
   "metadata": {
    "collapsed": false
   },
   "outputs": [],
   "source": [
    "s.add_photometry('2MASS.J', 14.391, 0.029)\n",
    "s.add_photometry('2MASS.H', 13.677, 0.032)\n",
    "s.add_photometry('2MASS.Ks', 13.535, 0.034)\n",
    "s.add_photometry('WISE.W1', 13.55, 0.027)\n",
    "s.add_photometry('WISE.W2', 13.581, 0.035)\n",
    "s.add_photometry('WISE.W3', 12.884, None)\n",
    "s.add_photometry('SDSS.u', 20.486, 0.073)\n",
    "s.add_photometry('SDSS.g', 17.779, 0.006)\n",
    "s.add_photometry('SDSS.r', 16.431, 0.004)\n",
    "s.add_photometry('SDSS.i', 15.843, 0.004)\n",
    "s.add_photometry('SDSS.z', 15.514, 0.005)"
   ]
  },
  {
   "cell_type": "code",
   "execution_count": 4,
   "metadata": {
    "collapsed": false
   },
   "outputs": [
    {
     "data": {
      "text/html": [
       "&lt;QTable length=11&gt;\n",
       "<table id=\"table4602074616\" class=\"table-striped table-bordered table-condensed\">\n",
       "<thead><tr><th>band</th><th>eff</th><th>app_magnitude</th><th>app_magnitude_unc</th><th>app_flux</th><th>app_flux_unc</th><th>abs_magnitude</th><th>abs_magnitude_unc</th><th>abs_flux</th><th>abs_flux_unc</th><th>bandpass</th></tr></thead>\n",
       "<thead><tr><th></th><th>um</th><th></th><th></th><th>erg / (Angstrom cm2 s)</th><th>erg / (Angstrom cm2 s)</th><th></th><th></th><th>erg / (Angstrom cm2 s)</th><th>erg / (Angstrom cm2 s)</th><th></th></tr></thead>\n",
       "<thead><tr><th>str16</th><th>float64</th><th>float64</th><th>float64</th><th>float64</th><th>float64</th><th>float64</th><th>float64</th><th>float64</th><th>float64</th><th>object</th></tr></thead>\n",
       "<tr><td>SDSS.u</td><td>3556.523841771216</td><td>20.486</td><td>0.073</td><td>2.325646727179245e-17</td><td>1.5636598497874093e-18</td><td>67092.551</td><td>3847.73</td><td>0.0</td><td>0.0</td><td>SDSS.u</td></tr>\n",
       "<tr><td>SDSS.g</td><td>4702.495238900329</td><td>17.779</td><td>0.006</td><td>4.270284435615815e-16</td><td>2.3598463882304325e-18</td><td>58227.007</td><td>3339.293</td><td>0.0</td><td>0.0</td><td>SDSS.g</td></tr>\n",
       "<tr><td>SDSS.r</td><td>6175.578617515661</td><td>16.431</td><td>0.004</td><td>6.769406339759335e-16</td><td>2.4939414602158772e-18</td><td>53812.248</td><td>3086.108</td><td>0.0</td><td>0.0</td><td>SDSS.r</td></tr>\n",
       "<tr><td>SDSS.i</td><td>7489.976493830274</td><td>15.843</td><td>0.004</td><td>6.483971058276448e-16</td><td>2.3887832163507487e-18</td><td>51886.522</td><td>2975.669</td><td>0.0</td><td>0.0</td><td>SDSS.i</td></tr>\n",
       "<tr><td>SDSS.z</td><td>8946.70937532557</td><td>15.514</td><td>0.005</td><td>5.295126280938415e-16</td><td>2.438495768001959e-18</td><td>50809.032</td><td>2913.875</td><td>0.0</td><td>0.0</td><td>SDSS.z</td></tr>\n",
       "<tr><td>2MASS.J</td><td>12393.092661933399</td><td>14.391</td><td>0.029</td><td>5.490034894182187e-16</td><td>1.4663876108538818e-17</td><td>47131.158</td><td>2702.951</td><td>0.0</td><td>0.0</td><td>2MASS.J</td></tr>\n",
       "<tr><td>2MASS.H</td><td>16494.94684561825</td><td>13.677</td><td>0.032</td><td>3.758881379010941e-16</td><td>1.1078584613943674e-17</td><td>44792.777</td><td>2568.846</td><td>0.0</td><td>0.0</td><td>2MASS.H</td></tr>\n",
       "<tr><td>2MASS.Ks</td><td>21638.605296287602</td><td>13.535</td><td>0.034</td><td>1.65314523412906e-16</td><td>5.176850298817227e-18</td><td>44327.72</td><td>2542.176</td><td>0.0</td><td>0.0</td><td>2MASS.Ks</td></tr>\n",
       "<tr><td>WISE.W1</td><td>33897.0482764837</td><td>13.55</td><td>0.027</td><td>3.138874846597208e-17</td><td>7.8057285449926e-19</td><td>44376.846</td><td>2544.993</td><td>0.0</td><td>0.0</td><td>WISE.W1</td></tr>\n",
       "<tr><td>WISE.W2</td><td>46406.355316597874</td><td>13.581</td><td>0.035</td><td>8.981870508215165e-18</td><td>2.895412959518673e-19</td><td>44478.372</td><td>2550.815</td><td>0.0</td><td>0.0</td><td>WISE.W2</td></tr>\n",
       "<tr><td>WISE.W3</td><td>125675.93366961197</td><td>12.884</td><td>nan</td><td>4.988245727655555e-19</td><td>nan</td><td>42195.667</td><td>nan</td><td>0.0</td><td>nan</td><td>WISE.W3</td></tr>\n",
       "</table>"
      ],
      "text/plain": [
       "<QTable length=11>\n",
       "  band          eff         app_magnitude ...      abs_flux_unc      bandpass\n",
       "                 um                       ... erg / (Angstrom cm2 s)         \n",
       " str16        float64          float64    ...        float64          object \n",
       "-------- ------------------ ------------- ... ---------------------- --------\n",
       "  SDSS.u  3556.523841771216        20.486 ...                    0.0   SDSS.u\n",
       "  SDSS.g  4702.495238900329        17.779 ...                    0.0   SDSS.g\n",
       "  SDSS.r  6175.578617515661        16.431 ...                    0.0   SDSS.r\n",
       "  SDSS.i  7489.976493830274        15.843 ...                    0.0   SDSS.i\n",
       "  SDSS.z   8946.70937532557        15.514 ...                    0.0   SDSS.z\n",
       " 2MASS.J 12393.092661933399        14.391 ...                    0.0  2MASS.J\n",
       " 2MASS.H  16494.94684561825        13.677 ...                    0.0  2MASS.H\n",
       "2MASS.Ks 21638.605296287602        13.535 ...                    0.0 2MASS.Ks\n",
       " WISE.W1   33897.0482764837         13.55 ...                    0.0  WISE.W1\n",
       " WISE.W2 46406.355316597874        13.581 ...                    0.0  WISE.W2\n",
       " WISE.W3 125675.93366961197        12.884 ...                    nan  WISE.W3"
      ]
     },
     "execution_count": 4,
     "metadata": {},
     "output_type": "execute_result"
    }
   ],
   "source": [
    "s.photometry"
   ]
  },
  {
   "cell_type": "code",
   "execution_count": 5,
   "metadata": {
    "collapsed": false
   },
   "outputs": [
    {
     "data": {
      "text/html": [
       "&lt;Table length=13&gt;\n",
       "<table id=\"table4602127696\" class=\"table-striped table-bordered table-condensed\">\n",
       "<thead><tr><th>param</th><th>value</th><th>unc</th><th>units</th></tr></thead>\n",
       "<thead><tr><th>object</th><th>object</th><th>object</th><th>object</th></tr></thead>\n",
       "<tr><td>name</td><td>2MASS 261832886</td><td>--</td><td>--</td></tr>\n",
       "<tr><td>age</td><td>--</td><td>--</td><td>--</td></tr>\n",
       "<tr><td>distance</td><td>572.28</td><td>16.41</td><td>pc</td></tr>\n",
       "<tr><td>parallax</td><td>1.7474</td><td>0.0501</td><td>mas</td></tr>\n",
       "<tr><td>radius</td><td>--</td><td>--</td><td>--</td></tr>\n",
       "<tr><td>spectral_type</td><td>60.0</td><td>0.5</td><td>--</td></tr>\n",
       "<tr><td>membership</td><td>--</td><td>--</td><td>--</td></tr>\n",
       "<tr><td>fbol</td><td>9.41e-08</td><td>8.88e-10</td><td>erg / (cm2 s)</td></tr>\n",
       "<tr><td>mbol</td><td>6.085</td><td>0.01</td><td>--</td></tr>\n",
       "<tr><td>Lbol</td><td>3.69e+36</td><td>2.14e+35</td><td>erg / s</td></tr>\n",
       "<tr><td>Lbol_sun</td><td>2.984</td><td>0.025</td><td>--</td></tr>\n",
       "<tr><td>Mbol</td><td>-2.7</td><td>0.033</td><td>--</td></tr>\n",
       "<tr><td>Teff</td><td>--</td><td>--</td><td>--</td></tr>\n",
       "</table>"
      ],
      "text/plain": [
       "<Table length=13>\n",
       "    param          value        unc        units    \n",
       "    object         object      object      object   \n",
       "------------- --------------- -------- -------------\n",
       "         name 2MASS 261832886       --            --\n",
       "          age              --       --            --\n",
       "     distance          572.28    16.41            pc\n",
       "     parallax          1.7474   0.0501           mas\n",
       "       radius              --       --            --\n",
       "spectral_type            60.0      0.5            --\n",
       "   membership              --       --            --\n",
       "         fbol        9.41e-08 8.88e-10 erg / (cm2 s)\n",
       "         mbol           6.085     0.01            --\n",
       "         Lbol        3.69e+36 2.14e+35       erg / s\n",
       "     Lbol_sun           2.984    0.025            --\n",
       "         Mbol            -2.7    0.033            --\n",
       "         Teff              --       --            --"
      ]
     },
     "execution_count": 5,
     "metadata": {},
     "output_type": "execute_result"
    }
   ],
   "source": [
    "s.results"
   ]
  },
  {
   "cell_type": "markdown",
   "metadata": {},
   "source": [
    "But there's no radius so let's estimate from the Lbol and age..."
   ]
  },
  {
   "cell_type": "code",
   "execution_count": null,
   "metadata": {
    "collapsed": true
   },
   "outputs": [],
   "source": []
  }
 ],
 "metadata": {
  "anaconda-cloud": {},
  "kernelspec": {
   "display_name": "Python [conda env:astroconda]",
   "language": "python",
   "name": "conda-env-astroconda-py"
  },
  "language_info": {
   "codemirror_mode": {
    "name": "ipython",
    "version": 3
   },
   "file_extension": ".py",
   "mimetype": "text/x-python",
   "name": "python",
   "nbconvert_exporter": "python",
   "pygments_lexer": "ipython3",
   "version": "3.5.2"
  }
 },
 "nbformat": 4,
 "nbformat_minor": 1
}
