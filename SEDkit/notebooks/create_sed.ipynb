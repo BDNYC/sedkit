{
 "cells": [
  {
   "cell_type": "markdown",
   "metadata": {},
   "source": [
    "# Make an SED!\n",
    "\n",
    "### Requirements\n",
    "- astropy-3.0.2\n",
    "- bokeh-0.12.6\n",
    "- "
   ]
  },
  {
   "cell_type": "code",
   "execution_count": 1,
   "metadata": {
    "collapsed": false
   },
   "outputs": [
    {
     "name": "stderr",
     "output_type": "stream",
     "text": [
      "/Users/jfilippazzo/miniconda3/envs/astroconda/lib/python3.5/site-packages/pysynphot/locations.py:119: UserWarning: Extinction files should be moved to $PYSYN_CDBS/extinction for compatibility with future versions of pysynphot.\n",
      "  warnings.warn('Extinction files should be moved to '\n",
      "/Users/jfilippazzo/miniconda3/envs/astroconda/lib/python3.5/site-packages/pysynphot/locations.py:155: UserWarning: Extinction files not found in /grp/hst/cdbs/grid/extinction\n",
      "  warnings.warn('Extinction files not found in %s' % (extdir,))\n",
      "/Users/jfilippazzo/miniconda3/envs/astroconda/lib/python3.5/site-packages/pysynphot/refs.py:114: UserWarning: No graph or component tables found; functionality will be SEVERELY crippled. No files found for /grp/hst/cdbs/mtab/*_tmg.fits.\n",
      "  'functionality will be SEVERELY crippled. ' + str(e))\n",
      "/Users/jfilippazzo/miniconda3/envs/astroconda/lib/python3.5/site-packages/pysynphot/refs.py:121: UserWarning: No thermal tables found, no thermal calculations can be performed. No files found for /grp/hst/cdbs/mtab/*_tmt.fits.\n",
      "  'no thermal calculations can be performed. ' + str(e))\n"
     ]
    },
    {
     "data": {
      "text/html": [
       "\n",
       "    <div class=\"bk-root\">\n",
       "        <a href=\"http://bokeh.pydata.org\" target=\"_blank\" class=\"bk-logo bk-logo-small bk-logo-notebook\"></a>\n",
       "        <span id=\"87b2c5b8-a18e-44fe-9caa-d024c8f0df31\">Loading BokehJS ...</span>\n",
       "    </div>"
      ]
     },
     "metadata": {},
     "output_type": "display_data"
    },
    {
     "data": {
      "application/javascript": [
       "\n",
       "(function(global) {\n",
       "  function now() {\n",
       "    return new Date();\n",
       "  }\n",
       "\n",
       "  var force = true;\n",
       "\n",
       "  if (typeof (window._bokeh_onload_callbacks) === \"undefined\" || force === true) {\n",
       "    window._bokeh_onload_callbacks = [];\n",
       "    window._bokeh_is_loading = undefined;\n",
       "  }\n",
       "\n",
       "\n",
       "  \n",
       "  if (typeof (window._bokeh_timeout) === \"undefined\" || force === true) {\n",
       "    window._bokeh_timeout = Date.now() + 5000;\n",
       "    window._bokeh_failed_load = false;\n",
       "  }\n",
       "\n",
       "  var NB_LOAD_WARNING = {'data': {'text/html':\n",
       "     \"<div style='background-color: #fdd'>\\n\"+\n",
       "     \"<p>\\n\"+\n",
       "     \"BokehJS does not appear to have successfully loaded. If loading BokehJS from CDN, this \\n\"+\n",
       "     \"may be due to a slow or bad network connection. Possible fixes:\\n\"+\n",
       "     \"</p>\\n\"+\n",
       "     \"<ul>\\n\"+\n",
       "     \"<li>re-rerun `output_notebook()` to attempt to load from CDN again, or</li>\\n\"+\n",
       "     \"<li>use INLINE resources instead, as so:</li>\\n\"+\n",
       "     \"</ul>\\n\"+\n",
       "     \"<code>\\n\"+\n",
       "     \"from bokeh.resources import INLINE\\n\"+\n",
       "     \"output_notebook(resources=INLINE)\\n\"+\n",
       "     \"</code>\\n\"+\n",
       "     \"</div>\"}};\n",
       "\n",
       "  function display_loaded() {\n",
       "    if (window.Bokeh !== undefined) {\n",
       "      var el = document.getElementById(\"87b2c5b8-a18e-44fe-9caa-d024c8f0df31\");\n",
       "      el.textContent = \"BokehJS \" + Bokeh.version + \" successfully loaded.\";\n",
       "    } else if (Date.now() < window._bokeh_timeout) {\n",
       "      setTimeout(display_loaded, 100)\n",
       "    }\n",
       "  }\n",
       "\n",
       "  function run_callbacks() {\n",
       "    try {\n",
       "      window._bokeh_onload_callbacks.forEach(function(callback) { callback() });\n",
       "    }\n",
       "    finally {\n",
       "      delete window._bokeh_onload_callbacks\n",
       "    }\n",
       "    console.info(\"Bokeh: all callbacks have finished\");\n",
       "  }\n",
       "\n",
       "  function load_libs(js_urls, callback) {\n",
       "    window._bokeh_onload_callbacks.push(callback);\n",
       "    if (window._bokeh_is_loading > 0) {\n",
       "      console.log(\"Bokeh: BokehJS is being loaded, scheduling callback at\", now());\n",
       "      return null;\n",
       "    }\n",
       "    if (js_urls == null || js_urls.length === 0) {\n",
       "      run_callbacks();\n",
       "      return null;\n",
       "    }\n",
       "    console.log(\"Bokeh: BokehJS not loaded, scheduling load and callback at\", now());\n",
       "    window._bokeh_is_loading = js_urls.length;\n",
       "    for (var i = 0; i < js_urls.length; i++) {\n",
       "      var url = js_urls[i];\n",
       "      var s = document.createElement('script');\n",
       "      s.src = url;\n",
       "      s.async = false;\n",
       "      s.onreadystatechange = s.onload = function() {\n",
       "        window._bokeh_is_loading--;\n",
       "        if (window._bokeh_is_loading === 0) {\n",
       "          console.log(\"Bokeh: all BokehJS libraries loaded\");\n",
       "          run_callbacks()\n",
       "        }\n",
       "      };\n",
       "      s.onerror = function() {\n",
       "        console.warn(\"failed to load library \" + url);\n",
       "      };\n",
       "      console.log(\"Bokeh: injecting script tag for BokehJS library: \", url);\n",
       "      document.getElementsByTagName(\"head\")[0].appendChild(s);\n",
       "    }\n",
       "  };var element = document.getElementById(\"87b2c5b8-a18e-44fe-9caa-d024c8f0df31\");\n",
       "  if (element == null) {\n",
       "    console.log(\"Bokeh: ERROR: autoload.js configured with elementid '87b2c5b8-a18e-44fe-9caa-d024c8f0df31' but no matching script tag was found. \")\n",
       "    return false;\n",
       "  }\n",
       "\n",
       "  var js_urls = [\"https://cdn.pydata.org/bokeh/release/bokeh-0.12.6.min.js\", \"https://cdn.pydata.org/bokeh/release/bokeh-widgets-0.12.6.min.js\"];\n",
       "\n",
       "  var inline_js = [\n",
       "    function(Bokeh) {\n",
       "      Bokeh.set_log_level(\"info\");\n",
       "    },\n",
       "    \n",
       "    function(Bokeh) {\n",
       "      \n",
       "    },\n",
       "    \n",
       "    function(Bokeh) {\n",
       "      \n",
       "      document.getElementById(\"87b2c5b8-a18e-44fe-9caa-d024c8f0df31\").textContent = \"BokehJS is loading...\";\n",
       "    },\n",
       "    function(Bokeh) {\n",
       "      console.log(\"Bokeh: injecting CSS: https://cdn.pydata.org/bokeh/release/bokeh-0.12.6.min.css\");\n",
       "      Bokeh.embed.inject_css(\"https://cdn.pydata.org/bokeh/release/bokeh-0.12.6.min.css\");\n",
       "      console.log(\"Bokeh: injecting CSS: https://cdn.pydata.org/bokeh/release/bokeh-widgets-0.12.6.min.css\");\n",
       "      Bokeh.embed.inject_css(\"https://cdn.pydata.org/bokeh/release/bokeh-widgets-0.12.6.min.css\");\n",
       "    }\n",
       "  ];\n",
       "\n",
       "  function run_inline_js() {\n",
       "    \n",
       "    if ((window.Bokeh !== undefined) || (force === true)) {\n",
       "      for (var i = 0; i < inline_js.length; i++) {\n",
       "        inline_js[i](window.Bokeh);\n",
       "      }if (force === true) {\n",
       "        display_loaded();\n",
       "      }} else if (Date.now() < window._bokeh_timeout) {\n",
       "      setTimeout(run_inline_js, 100);\n",
       "    } else if (!window._bokeh_failed_load) {\n",
       "      console.log(\"Bokeh: BokehJS failed to load within specified timeout.\");\n",
       "      window._bokeh_failed_load = true;\n",
       "    } else if (force !== true) {\n",
       "      var cell = $(document.getElementById(\"87b2c5b8-a18e-44fe-9caa-d024c8f0df31\")).parents('.cell').data().cell;\n",
       "      cell.output_area.append_execute_result(NB_LOAD_WARNING)\n",
       "    }\n",
       "\n",
       "  }\n",
       "\n",
       "  if (window._bokeh_is_loading === 0) {\n",
       "    console.log(\"Bokeh: BokehJS loaded, going straight to plotting\");\n",
       "    run_inline_js();\n",
       "  } else {\n",
       "    load_libs(js_urls, function() {\n",
       "      console.log(\"Bokeh: BokehJS plotting callback run at\", now());\n",
       "      run_inline_js();\n",
       "    });\n",
       "  }\n",
       "}(this));"
      ]
     },
     "metadata": {},
     "output_type": "display_data"
    }
   ],
   "source": [
    "from SEDkit import sed, spectrum, synphot\n",
    "import astropy.units as q\n",
    "from bokeh.io import output_notebook, show\n",
    "output_notebook()"
   ]
  },
  {
   "cell_type": "markdown",
   "metadata": {},
   "source": [
    "Let's create a new SED for an M-dwarf. The software assumes a field age if no `age` argument is given."
   ]
  },
  {
   "cell_type": "code",
   "execution_count": 2,
   "metadata": {
    "collapsed": false
   },
   "outputs": [
    {
     "name": "stdout",
     "output_type": "stream",
     "text": [
      "Make this handle asymmetric uncertainties!\n",
      "Setting age to (<Quantity 6.0 Gyr>, <Quantity 4.0 Gyr>)\n"
     ]
    }
   ],
   "source": [
    "s = sed.SED(parallax=(1.7474*q.mas, 0.0501*q.mas), spectral_type='M0V', name='2MASS 261832886')"
   ]
  },
  {
   "cell_type": "markdown",
   "metadata": {},
   "source": [
    "Now let's add some photometry and take a look at how it's stored!"
   ]
  },
  {
   "cell_type": "code",
   "execution_count": 3,
   "metadata": {
    "collapsed": false
   },
   "outputs": [
    {
     "name": "stdout",
     "output_type": "stream",
     "text": [
      "  band           eff         app_magnitude ...      abs_flux_unc      bandpass\n",
      "                  um                       ... erg / (Angstrom cm2 s)         \n",
      "-------- ------------------- ------------- ... ---------------------- --------\n",
      "  SDSS.u 0.35565239687948447        20.486 ...                    0.0   SDSS.u\n",
      "  SDSS.g  0.4702495279331733        17.779 ...                    0.0   SDSS.g\n",
      "  SDSS.r  0.6175578881059804        16.431 ...                    0.0   SDSS.r\n",
      "  SDSS.i  0.7489976846298569        15.843 ...                    0.0   SDSS.i\n",
      "  SDSS.z   0.894670956505578        15.514 ...                    0.0   SDSS.z\n",
      " 2MASS.J  1.2393093155660664        14.391 ...                    0.0  2MASS.J\n",
      " 2MASS.H  1.6494947091246095        13.677 ...                    0.0  2MASS.H\n",
      "2MASS.Ks   2.163860596453316        13.535 ...                    0.0 2MASS.Ks\n",
      " WISE.W1  3.3897048577485647         13.55 ...                    0.0  WISE.W1\n",
      " WISE.W2     4.6406356615375        13.581 ...                    0.0  WISE.W2\n",
      " WISE.W3  12.567593607521216        12.884 ...                    nan  WISE.W3\n"
     ]
    }
   ],
   "source": [
    "# Add the band name, magnitude, and uncertainty\n",
    "s.add_photometry('2MASS.J', 14.391, 0.029)\n",
    "s.add_photometry('2MASS.H', 13.677, 0.032)\n",
    "s.add_photometry('2MASS.Ks', 13.535, 0.034)\n",
    "s.add_photometry('WISE.W1', 13.55, 0.027)\n",
    "s.add_photometry('WISE.W2', 13.581, 0.035)\n",
    "s.add_photometry('WISE.W3', 12.884, None)\n",
    "s.add_photometry('SDSS.u', 20.486, 0.073)\n",
    "s.add_photometry('SDSS.g', 17.779, 0.006)\n",
    "s.add_photometry('SDSS.r', 16.431, 0.004)\n",
    "s.add_photometry('SDSS.i', 15.843, 0.004)\n",
    "s.add_photometry('SDSS.z', 15.514, 0.005)\n",
    "\n",
    "# Take a look\n",
    "print(s.photometry)"
   ]
  },
  {
   "cell_type": "markdown",
   "metadata": {},
   "source": [
    "Now that our SED has all the data it needs, we can call the `results` method, which constructs the SED and caluclates the fundamental parameters.\n",
    "\n",
    "If no `radius` is given, one will be estimated from model isochrones using the calculated `Lbol` and assumed `age`."
   ]
  },
  {
   "cell_type": "code",
   "execution_count": 4,
   "metadata": {
    "collapsed": false
   },
   "outputs": [
    {
     "name": "stdout",
     "output_type": "stream",
     "text": [
      "Setting radius to (<Quantity 0.8786209573091851 solRad>, <Quantity 0.06782337214316517 solRad>)\n",
      "    param           value                unc             units    \n",
      "------------- ------------------ ------------------- -------------\n",
      "         name    2MASS 261832886                  --            --\n",
      "          age                6.0                 4.0           Gyr\n",
      "     distance             572.28               16.41            pc\n",
      "     parallax             1.7474              0.0501           mas\n",
      "       radius 0.8786209573091851 0.06782337214316517        solRad\n",
      "spectral_type               60.0                 0.5            --\n",
      "   membership                 --                  --            --\n",
      "         fbol           9.41e-12            8.88e-14 erg / (cm2 s)\n",
      "         mbol             16.085                0.01            --\n",
      "         Lbol           3.69e+32            2.14e+31       erg / s\n",
      "     Lbol_sun              -1.02               0.025            --\n",
      "         Mbol              7.297               0.033            --\n",
      "         logg                4.5                0.07            --\n",
      "         mass 0.8896913720017506                 0.0       solMass\n",
      "         Teff               3430                 141             K\n"
     ]
    }
   ],
   "source": [
    "print(s.results)"
   ]
  },
  {
   "cell_type": "code",
   "execution_count": 5,
   "metadata": {
    "collapsed": false
   },
   "outputs": [
    {
     "data": {
      "text/html": [
       "\n",
       "\n",
       "    <div class=\"bk-root\">\n",
       "        <div class=\"bk-plotdiv\" id=\"3d3a5b9b-55d3-4410-8a3a-c82373d20516\"></div>\n",
       "    </div>\n",
       "<script type=\"text/javascript\">\n",
       "  \n",
       "  (function(global) {\n",
       "    function now() {\n",
       "      return new Date();\n",
       "    }\n",
       "  \n",
       "    var force = false;\n",
       "  \n",
       "    if (typeof (window._bokeh_onload_callbacks) === \"undefined\" || force === true) {\n",
       "      window._bokeh_onload_callbacks = [];\n",
       "      window._bokeh_is_loading = undefined;\n",
       "    }\n",
       "  \n",
       "  \n",
       "    \n",
       "    if (typeof (window._bokeh_timeout) === \"undefined\" || force === true) {\n",
       "      window._bokeh_timeout = Date.now() + 0;\n",
       "      window._bokeh_failed_load = false;\n",
       "    }\n",
       "  \n",
       "    var NB_LOAD_WARNING = {'data': {'text/html':\n",
       "       \"<div style='background-color: #fdd'>\\n\"+\n",
       "       \"<p>\\n\"+\n",
       "       \"BokehJS does not appear to have successfully loaded. If loading BokehJS from CDN, this \\n\"+\n",
       "       \"may be due to a slow or bad network connection. Possible fixes:\\n\"+\n",
       "       \"</p>\\n\"+\n",
       "       \"<ul>\\n\"+\n",
       "       \"<li>re-rerun `output_notebook()` to attempt to load from CDN again, or</li>\\n\"+\n",
       "       \"<li>use INLINE resources instead, as so:</li>\\n\"+\n",
       "       \"</ul>\\n\"+\n",
       "       \"<code>\\n\"+\n",
       "       \"from bokeh.resources import INLINE\\n\"+\n",
       "       \"output_notebook(resources=INLINE)\\n\"+\n",
       "       \"</code>\\n\"+\n",
       "       \"</div>\"}};\n",
       "  \n",
       "    function display_loaded() {\n",
       "      if (window.Bokeh !== undefined) {\n",
       "        var el = document.getElementById(\"3d3a5b9b-55d3-4410-8a3a-c82373d20516\");\n",
       "        el.textContent = \"BokehJS \" + Bokeh.version + \" successfully loaded.\";\n",
       "      } else if (Date.now() < window._bokeh_timeout) {\n",
       "        setTimeout(display_loaded, 100)\n",
       "      }\n",
       "    }\n",
       "  \n",
       "    function run_callbacks() {\n",
       "      try {\n",
       "        window._bokeh_onload_callbacks.forEach(function(callback) { callback() });\n",
       "      }\n",
       "      finally {\n",
       "        delete window._bokeh_onload_callbacks\n",
       "      }\n",
       "      console.info(\"Bokeh: all callbacks have finished\");\n",
       "    }\n",
       "  \n",
       "    function load_libs(js_urls, callback) {\n",
       "      window._bokeh_onload_callbacks.push(callback);\n",
       "      if (window._bokeh_is_loading > 0) {\n",
       "        console.log(\"Bokeh: BokehJS is being loaded, scheduling callback at\", now());\n",
       "        return null;\n",
       "      }\n",
       "      if (js_urls == null || js_urls.length === 0) {\n",
       "        run_callbacks();\n",
       "        return null;\n",
       "      }\n",
       "      console.log(\"Bokeh: BokehJS not loaded, scheduling load and callback at\", now());\n",
       "      window._bokeh_is_loading = js_urls.length;\n",
       "      for (var i = 0; i < js_urls.length; i++) {\n",
       "        var url = js_urls[i];\n",
       "        var s = document.createElement('script');\n",
       "        s.src = url;\n",
       "        s.async = false;\n",
       "        s.onreadystatechange = s.onload = function() {\n",
       "          window._bokeh_is_loading--;\n",
       "          if (window._bokeh_is_loading === 0) {\n",
       "            console.log(\"Bokeh: all BokehJS libraries loaded\");\n",
       "            run_callbacks()\n",
       "          }\n",
       "        };\n",
       "        s.onerror = function() {\n",
       "          console.warn(\"failed to load library \" + url);\n",
       "        };\n",
       "        console.log(\"Bokeh: injecting script tag for BokehJS library: \", url);\n",
       "        document.getElementsByTagName(\"head\")[0].appendChild(s);\n",
       "      }\n",
       "    };var element = document.getElementById(\"3d3a5b9b-55d3-4410-8a3a-c82373d20516\");\n",
       "    if (element == null) {\n",
       "      console.log(\"Bokeh: ERROR: autoload.js configured with elementid '3d3a5b9b-55d3-4410-8a3a-c82373d20516' but no matching script tag was found. \")\n",
       "      return false;\n",
       "    }\n",
       "  \n",
       "    var js_urls = [];\n",
       "  \n",
       "    var inline_js = [\n",
       "      function(Bokeh) {\n",
       "        (function() {\n",
       "          var fn = function() {\n",
       "            var docs_json = {\"6ede0bc3-6318-4211-b196-0dfc9745dbc2\":{\"roots\":{\"references\":[{\"attributes\":{\"num_minor_ticks\":10},\"id\":\"ae4f1779-d071-4074-9bbd-dabddf695b8b\",\"type\":\"LogTicker\"},{\"attributes\":{\"callback\":null,\"column_names\":[\"x\",\"y\"],\"data\":{\"x\":{\"__ndarray__\":\"eNlVRQLD1j+8rNt5kRjePxiqmcIIw+M/iHoI/sn35z9961v8JKHsPxnAPwE21PM//NdpkFRk+j/b9fYklk8BQLb6mJQdHgtAztF7ywKQEkA=\",\"dtype\":\"float64\",\"shape\":[10]},\"y\":{\"__ndarray__\":\"31Mg/BjQejxWpiHPSMW+PDJBYeGsY8g8pplMYWhcxzwLE/VX5BPDPGtGtdapx8M8Fgwyi+kVuzy/G2yHB9OnPDYrumMpGII8X15O5fW1ZDw=\",\"dtype\":\"float64\",\"shape\":[10]}}},\"id\":\"7d219db2-71a6-4083-a5df-dceefd2b83a5\",\"type\":\"ColumnDataSource\"},{\"attributes\":{\"fill_alpha\":{\"value\":0},\"fill_color\":{\"value\":\"black\"},\"size\":{\"units\":\"screen\",\"value\":8},\"x\":{\"field\":\"x\"},\"y\":{\"field\":\"y\"}},\"id\":\"88a5d4e7-00e2-4afd-a3c8-7204be5ad860\",\"type\":\"Circle\"},{\"attributes\":{\"plot\":{\"id\":\"c9d66b80-fbe6-4688-b422-2de63bc59244\",\"subtype\":\"Figure\",\"type\":\"Plot\"}},\"id\":\"6b7e3271-ffd7-421f-9514-f970ce95c8ef\",\"type\":\"PanTool\"},{\"attributes\":{\"data_source\":{\"id\":\"12881330-ed4d-4f17-89b8-9d3e9871654b\",\"type\":\"ColumnDataSource\"},\"glyph\":{\"id\":\"88a5d4e7-00e2-4afd-a3c8-7204be5ad860\",\"type\":\"Circle\"},\"hover_glyph\":null,\"muted_glyph\":null,\"nonselection_glyph\":{\"id\":\"c6c54ae1-705c-4530-b73c-2bd03a787876\",\"type\":\"Circle\"},\"selection_glyph\":null},\"id\":\"7b17c712-8e45-497d-866a-d7ec749b4f8f\",\"type\":\"GlyphRenderer\"},{\"attributes\":{\"callback\":null,\"end\":1.353881267951867e-15,\"start\":2.4941228638277776e-19},\"id\":\"70e545f3-d749-4e88-8177-9d0727024c70\",\"type\":\"Range1d\"},{\"attributes\":{\"line_alpha\":{\"value\":0.1},\"line_color\":{\"value\":\"#1f77b4\"},\"xs\":{\"field\":\"xs\"},\"ys\":{\"field\":\"ys\"}},\"id\":\"bc512dbd-8138-4469-872c-e37ffed539e6\",\"type\":\"MultiLine\"},{\"attributes\":{\"active_drag\":\"auto\",\"active_inspect\":\"auto\",\"active_scroll\":\"auto\",\"active_tap\":\"auto\",\"tools\":[{\"id\":\"6b7e3271-ffd7-421f-9514-f970ce95c8ef\",\"type\":\"PanTool\"},{\"id\":\"f65d784b-dd90-4625-92bf-060389b4ae36\",\"type\":\"WheelZoomTool\"},{\"id\":\"41197126-6733-4583-978e-d3e9fd20d054\",\"type\":\"BoxZoomTool\"},{\"id\":\"df9dc26f-2fd0-4534-8321-cc75eb2a3e3d\",\"type\":\"SaveTool\"},{\"id\":\"8c4d6a9d-5895-4e96-b112-0dfde791bded\",\"type\":\"ResetTool\"},{\"id\":\"319686d9-0582-4f99-b1f8-4cd8a841c9ea\",\"type\":\"HelpTool\"}]},\"id\":\"03532060-499c-4bba-a6b7-fe9744fe1fb7\",\"type\":\"Toolbar\"},{\"attributes\":{\"xs\":{\"field\":\"xs\"},\"ys\":{\"field\":\"ys\"}},\"id\":\"f65560ea-58fd-400c-987c-5267701b44c4\",\"type\":\"MultiLine\"},{\"attributes\":{\"axis_label\":\"Wavelength [um]\",\"formatter\":{\"id\":\"08f48934-0018-455b-93fd-739c130b9fa0\",\"type\":\"LogTickFormatter\"},\"plot\":{\"id\":\"c9d66b80-fbe6-4688-b422-2de63bc59244\",\"subtype\":\"Figure\",\"type\":\"Plot\"},\"ticker\":{\"id\":\"ae4f1779-d071-4074-9bbd-dabddf695b8b\",\"type\":\"LogTicker\"}},\"id\":\"e6a5a3ab-9fd7-41df-bb2a-8798b9d47d48\",\"type\":\"LogAxis\"},{\"attributes\":{\"label\":{\"value\":\"Photometry\"},\"renderers\":[{\"id\":\"abe81c52-1557-47fa-bf27-e2ed8c9f7732\",\"type\":\"GlyphRenderer\"}]},\"id\":\"cc2debf3-40d0-4df7-8791-8d0713a4a922\",\"type\":\"LegendItem\"},{\"attributes\":{\"fill_alpha\":{\"value\":0.1},\"fill_color\":{\"value\":\"#1f77b4\"},\"line_alpha\":{\"value\":0.1},\"line_color\":{\"value\":\"#1f77b4\"},\"size\":{\"units\":\"screen\",\"value\":8},\"x\":{\"field\":\"x\"},\"y\":{\"field\":\"y\"}},\"id\":\"c6c54ae1-705c-4530-b73c-2bd03a787876\",\"type\":\"Circle\"},{\"attributes\":{\"overlay\":{\"id\":\"6d7744c4-2c0e-44fc-bbc6-884310911433\",\"type\":\"BoxAnnotation\"},\"plot\":{\"id\":\"c9d66b80-fbe6-4688-b422-2de63bc59244\",\"subtype\":\"Figure\",\"type\":\"Plot\"}},\"id\":\"41197126-6733-4583-978e-d3e9fd20d054\",\"type\":\"BoxZoomTool\"},{\"attributes\":{\"num_minor_ticks\":10},\"id\":\"157a36ac-1f8b-47f6-a4f4-6748b84cd69a\",\"type\":\"LogTicker\"},{\"attributes\":{\"plot\":null,\"text\":\"2MASS 261832886\"},\"id\":\"975f898d-a632-4f10-b777-9affa9803d2d\",\"type\":\"Title\"},{\"attributes\":{\"plot\":{\"id\":\"c9d66b80-fbe6-4688-b422-2de63bc59244\",\"subtype\":\"Figure\",\"type\":\"Plot\"}},\"id\":\"8c4d6a9d-5895-4e96-b112-0dfde791bded\",\"type\":\"ResetTool\"},{\"attributes\":{\"data_source\":{\"id\":\"7d219db2-71a6-4083-a5df-dceefd2b83a5\",\"type\":\"ColumnDataSource\"},\"glyph\":{\"id\":\"7a2e7156-a47d-4448-aa03-e0ddff077d04\",\"type\":\"Circle\"},\"hover_glyph\":null,\"muted_glyph\":null,\"nonselection_glyph\":{\"id\":\"2f184743-4bf1-401d-b2e4-1c3c2dfd2c5c\",\"type\":\"Circle\"},\"selection_glyph\":null},\"id\":\"abe81c52-1557-47fa-bf27-e2ed8c9f7732\",\"type\":\"GlyphRenderer\"},{\"attributes\":{\"ticker\":null},\"id\":\"ce73b292-850c-49f7-a673-b2cad3942631\",\"type\":\"LogTickFormatter\"},{\"attributes\":{},\"id\":\"6b1961f2-9c02-4348-9750-ced8f9733433\",\"type\":\"LogScale\"},{\"attributes\":{\"label\":{\"value\":\"Nondetection\"},\"renderers\":[{\"id\":\"7b17c712-8e45-497d-866a-d7ec749b4f8f\",\"type\":\"GlyphRenderer\"}]},\"id\":\"ce1bf92a-0f18-4073-88ba-6e18f8eaea71\",\"type\":\"LegendItem\"},{\"attributes\":{\"callback\":null,\"column_names\":[\"x\",\"y\"],\"data\":{\"x\":{\"__ndarray__\":\"z3EboZsiKUA=\",\"dtype\":\"float64\",\"shape\":[1]},\"y\":{\"__ndarray__\":\"F1uaz0NnIjw=\",\"dtype\":\"float64\",\"shape\":[1]}}},\"id\":\"12881330-ed4d-4f17-89b8-9d3e9871654b\",\"type\":\"ColumnDataSource\"},{\"attributes\":{},\"id\":\"b2c7d9d9-502f-447f-967f-de04992820b1\",\"type\":\"ToolEvents\"},{\"attributes\":{\"plot\":{\"id\":\"c9d66b80-fbe6-4688-b422-2de63bc59244\",\"subtype\":\"Figure\",\"type\":\"Plot\"}},\"id\":\"319686d9-0582-4f99-b1f8-4cd8a841c9ea\",\"type\":\"HelpTool\"},{\"attributes\":{\"fill_alpha\":{\"value\":0.7},\"fill_color\":{\"value\":\"black\"},\"size\":{\"units\":\"screen\",\"value\":8},\"x\":{\"field\":\"x\"},\"y\":{\"field\":\"y\"}},\"id\":\"7a2e7156-a47d-4448-aa03-e0ddff077d04\",\"type\":\"Circle\"},{\"attributes\":{\"plot\":{\"id\":\"c9d66b80-fbe6-4688-b422-2de63bc59244\",\"subtype\":\"Figure\",\"type\":\"Plot\"},\"ticker\":{\"id\":\"ae4f1779-d071-4074-9bbd-dabddf695b8b\",\"type\":\"LogTicker\"}},\"id\":\"008feafa-7019-4ef2-aafb-da27d83d2554\",\"type\":\"Grid\"},{\"attributes\":{\"ticker\":null},\"id\":\"08f48934-0018-455b-93fd-739c130b9fa0\",\"type\":\"LogTickFormatter\"},{\"attributes\":{\"bottom_units\":\"screen\",\"fill_alpha\":{\"value\":0.5},\"fill_color\":{\"value\":\"lightgrey\"},\"left_units\":\"screen\",\"level\":\"overlay\",\"line_alpha\":{\"value\":1.0},\"line_color\":{\"value\":\"black\"},\"line_dash\":[4,4],\"line_width\":{\"value\":2},\"plot\":null,\"render_mode\":\"css\",\"right_units\":\"screen\",\"top_units\":\"screen\"},\"id\":\"6d7744c4-2c0e-44fc-bbc6-884310911433\",\"type\":\"BoxAnnotation\"},{\"attributes\":{\"click_policy\":\"hide\",\"items\":[{\"id\":\"cc2debf3-40d0-4df7-8791-8d0713a4a922\",\"type\":\"LegendItem\"},{\"id\":\"ce1bf92a-0f18-4073-88ba-6e18f8eaea71\",\"type\":\"LegendItem\"}],\"plot\":{\"id\":\"c9d66b80-fbe6-4688-b422-2de63bc59244\",\"subtype\":\"Figure\",\"type\":\"Plot\"}},\"id\":\"f128b02e-49ed-4fec-b92e-a5b3df3a99c9\",\"type\":\"Legend\"},{\"attributes\":{\"data_source\":{\"id\":\"e25c5716-8946-41e0-a9d6-dd5e4e97dba8\",\"type\":\"ColumnDataSource\"},\"glyph\":{\"id\":\"f65560ea-58fd-400c-987c-5267701b44c4\",\"type\":\"MultiLine\"},\"hover_glyph\":null,\"muted_glyph\":null,\"nonselection_glyph\":{\"id\":\"bc512dbd-8138-4469-872c-e37ffed539e6\",\"type\":\"MultiLine\"},\"selection_glyph\":null},\"id\":\"da251368-cfe9-44ff-a8c5-7473e5fdb394\",\"type\":\"GlyphRenderer\"},{\"attributes\":{\"plot\":{\"id\":\"c9d66b80-fbe6-4688-b422-2de63bc59244\",\"subtype\":\"Figure\",\"type\":\"Plot\"}},\"id\":\"f65d784b-dd90-4625-92bf-060389b4ae36\",\"type\":\"WheelZoomTool\"},{\"attributes\":{\"below\":[{\"id\":\"e6a5a3ab-9fd7-41df-bb2a-8798b9d47d48\",\"type\":\"LogAxis\"}],\"left\":[{\"id\":\"38f78c67-ab9d-4dec-a6d6-277e79b530bd\",\"type\":\"LogAxis\"}],\"plot_width\":1000,\"renderers\":[{\"id\":\"e6a5a3ab-9fd7-41df-bb2a-8798b9d47d48\",\"type\":\"LogAxis\"},{\"id\":\"008feafa-7019-4ef2-aafb-da27d83d2554\",\"type\":\"Grid\"},{\"id\":\"38f78c67-ab9d-4dec-a6d6-277e79b530bd\",\"type\":\"LogAxis\"},{\"id\":\"2912e488-e20a-4fe1-954b-0c282695c315\",\"type\":\"Grid\"},{\"id\":\"6d7744c4-2c0e-44fc-bbc6-884310911433\",\"type\":\"BoxAnnotation\"},{\"id\":\"f128b02e-49ed-4fec-b92e-a5b3df3a99c9\",\"type\":\"Legend\"},{\"id\":\"abe81c52-1557-47fa-bf27-e2ed8c9f7732\",\"type\":\"GlyphRenderer\"},{\"id\":\"da251368-cfe9-44ff-a8c5-7473e5fdb394\",\"type\":\"GlyphRenderer\"},{\"id\":\"7b17c712-8e45-497d-866a-d7ec749b4f8f\",\"type\":\"GlyphRenderer\"}],\"title\":{\"id\":\"975f898d-a632-4f10-b777-9affa9803d2d\",\"type\":\"Title\"},\"tool_events\":{\"id\":\"b2c7d9d9-502f-447f-967f-de04992820b1\",\"type\":\"ToolEvents\"},\"toolbar\":{\"id\":\"03532060-499c-4bba-a6b7-fe9744fe1fb7\",\"type\":\"Toolbar\"},\"x_range\":{\"id\":\"59ba4d0e-60b3-4e7a-98bd-fcac31264f71\",\"type\":\"Range1d\"},\"x_scale\":{\"id\":\"6b1961f2-9c02-4348-9750-ced8f9733433\",\"type\":\"LogScale\"},\"y_range\":{\"id\":\"70e545f3-d749-4e88-8177-9d0727024c70\",\"type\":\"Range1d\"},\"y_scale\":{\"id\":\"2ad9ee5a-3287-45f5-a180-94ea94c37579\",\"type\":\"LogScale\"}},\"id\":\"c9d66b80-fbe6-4688-b422-2de63bc59244\",\"subtype\":\"Figure\",\"type\":\"Plot\"},{\"attributes\":{},\"id\":\"2ad9ee5a-3287-45f5-a180-94ea94c37579\",\"type\":\"LogScale\"},{\"attributes\":{\"plot\":{\"id\":\"c9d66b80-fbe6-4688-b422-2de63bc59244\",\"subtype\":\"Figure\",\"type\":\"Plot\"}},\"id\":\"df9dc26f-2fd0-4534-8321-cc75eb2a3e3d\",\"type\":\"SaveTool\"},{\"attributes\":{\"fill_alpha\":{\"value\":0.1},\"fill_color\":{\"value\":\"#1f77b4\"},\"line_alpha\":{\"value\":0.1},\"line_color\":{\"value\":\"#1f77b4\"},\"size\":{\"units\":\"screen\",\"value\":8},\"x\":{\"field\":\"x\"},\"y\":{\"field\":\"y\"}},\"id\":\"2f184743-4bf1-401d-b2e4-1c3c2dfd2c5c\",\"type\":\"Circle\"},{\"attributes\":{\"dimension\":1,\"plot\":{\"id\":\"c9d66b80-fbe6-4688-b422-2de63bc59244\",\"subtype\":\"Figure\",\"type\":\"Plot\"},\"ticker\":{\"id\":\"157a36ac-1f8b-47f6-a4f4-6748b84cd69a\",\"type\":\"LogTicker\"}},\"id\":\"2912e488-e20a-4fe1-954b-0c282695c315\",\"type\":\"Grid\"},{\"attributes\":{\"axis_label\":\"Flux Density [erg / (Angstrom cm2 s)]\",\"formatter\":{\"id\":\"ce73b292-850c-49f7-a673-b2cad3942631\",\"type\":\"LogTickFormatter\"},\"plot\":{\"id\":\"c9d66b80-fbe6-4688-b422-2de63bc59244\",\"subtype\":\"Figure\",\"type\":\"Plot\"},\"ticker\":{\"id\":\"157a36ac-1f8b-47f6-a4f4-6748b84cd69a\",\"type\":\"LogTicker\"}},\"id\":\"38f78c67-ab9d-4dec-a6d6-277e79b530bd\",\"type\":\"LogAxis\"},{\"attributes\":{\"callback\":null,\"column_names\":[\"ys\",\"xs\"],\"data\":{\"xs\":[[0.35565239687948447,0.35565239687948447],[0.4702495279331733,0.4702495279331733],[0.6175578881059804,0.6175578881059804],[0.7489976846298569,0.7489976846298569],[0.894670956505578,0.894670956505578],[1.2393093155660664,1.2393093155660664],[1.6494947091246095,1.6494947091246095],[2.163860596453316,2.163860596453316],[3.3897048577485647,3.3897048577485647],[4.6406356615375,4.6406356615375]],\"ys\":[[2.169280742200504e-17,2.482012712157986e-17],[4.2466859717335105e-16,4.2938828994981195e-16],[6.744466925157176e-16,6.794345754361494e-16],[6.460083226112941e-16,6.507858890439956e-16],[5.270741323258396e-16,5.319511238618434e-16],[5.343396133096799e-16,5.636673655267576e-16],[3.648095532871504e-16,3.8696672251503776e-16],[1.6013767311408877e-16,1.7049137371172322e-16],[3.060817561147282e-17,3.216932132047134e-17],[8.692329212263297e-18,9.271411804167032e-18]]}},\"id\":\"e25c5716-8946-41e0-a9d6-dd5e4e97dba8\",\"type\":\"ColumnDataSource\"},{\"attributes\":{\"callback\":null,\"end\":21.599999999999998,\"start\":0.24},\"id\":\"59ba4d0e-60b3-4e7a-98bd-fcac31264f71\",\"type\":\"Range1d\"}],\"root_ids\":[\"c9d66b80-fbe6-4688-b422-2de63bc59244\"]},\"title\":\"Bokeh Application\",\"version\":\"0.12.6\"}};\n",
       "            var render_items = [{\"docid\":\"6ede0bc3-6318-4211-b196-0dfc9745dbc2\",\"elementid\":\"3d3a5b9b-55d3-4410-8a3a-c82373d20516\",\"modelid\":\"c9d66b80-fbe6-4688-b422-2de63bc59244\"}];\n",
       "            \n",
       "            Bokeh.embed.embed_items(docs_json, render_items);\n",
       "          };\n",
       "          if (document.readyState != \"loading\") fn();\n",
       "          else document.addEventListener(\"DOMContentLoaded\", fn);\n",
       "        })();\n",
       "      },\n",
       "      function(Bokeh) {\n",
       "      }\n",
       "    ];\n",
       "  \n",
       "    function run_inline_js() {\n",
       "      \n",
       "      if ((window.Bokeh !== undefined) || (force === true)) {\n",
       "        for (var i = 0; i < inline_js.length; i++) {\n",
       "          inline_js[i](window.Bokeh);\n",
       "        }if (force === true) {\n",
       "          display_loaded();\n",
       "        }} else if (Date.now() < window._bokeh_timeout) {\n",
       "        setTimeout(run_inline_js, 100);\n",
       "      } else if (!window._bokeh_failed_load) {\n",
       "        console.log(\"Bokeh: BokehJS failed to load within specified timeout.\");\n",
       "        window._bokeh_failed_load = true;\n",
       "      } else if (force !== true) {\n",
       "        var cell = $(document.getElementById(\"3d3a5b9b-55d3-4410-8a3a-c82373d20516\")).parents('.cell').data().cell;\n",
       "        cell.output_area.append_execute_result(NB_LOAD_WARNING)\n",
       "      }\n",
       "  \n",
       "    }\n",
       "  \n",
       "    if (window._bokeh_is_loading === 0) {\n",
       "      console.log(\"Bokeh: BokehJS loaded, going straight to plotting\");\n",
       "      run_inline_js();\n",
       "    } else {\n",
       "      load_libs(js_urls, function() {\n",
       "        console.log(\"Bokeh: BokehJS plotting callback run at\", now());\n",
       "        run_inline_js();\n",
       "      });\n",
       "    }\n",
       "  }(this));\n",
       "</script>"
      ]
     },
     "metadata": {},
     "output_type": "display_data"
    }
   ],
   "source": [
    "fig = s.plot()"
   ]
  },
  {
   "cell_type": "markdown",
   "metadata": {},
   "source": [
    "But that radius seems wrong. Let's change it..."
   ]
  },
  {
   "cell_type": "code",
   "execution_count": 6,
   "metadata": {
    "collapsed": false
   },
   "outputs": [
    {
     "name": "stdout",
     "output_type": "stream",
     "text": [
      "Setting radius to (<Quantity 0.6 solRad>, <Quantity 0.05 solRad>)\n"
     ]
    }
   ],
   "source": [
    "s.radius = 0.6*q.Rsun, 0.05*q.Rsun"
   ]
  },
  {
   "cell_type": "code",
   "execution_count": 7,
   "metadata": {
    "collapsed": false
   },
   "outputs": [
    {
     "name": "stdout",
     "output_type": "stream",
     "text": [
      "    param           value          unc        units    \n",
      "------------- ------------------ -------- -------------\n",
      "         name    2MASS 261832886       --            --\n",
      "          age                6.0      4.0           Gyr\n",
      "     distance             572.28    16.41            pc\n",
      "     parallax             1.7474   0.0501           mas\n",
      "       radius                0.6     0.05        solRad\n",
      "spectral_type               60.0      0.5            --\n",
      "   membership                 --       --            --\n",
      "         fbol           9.41e-12 8.88e-14 erg / (cm2 s)\n",
      "         mbol             16.085     0.01            --\n",
      "         Lbol           3.69e+32 2.14e+31       erg / s\n",
      "     Lbol_sun              -1.02    0.025            --\n",
      "         Mbol              7.297    0.033            --\n",
      "         logg                4.5     0.07            --\n",
      "         mass 0.8896913720017506      0.0       solMass\n",
      "         Teff               4150      183             K\n"
     ]
    }
   ],
   "source": [
    "print(s.results)"
   ]
  },
  {
   "cell_type": "code",
   "execution_count": null,
   "metadata": {
    "collapsed": true
   },
   "outputs": [],
   "source": []
  }
 ],
 "metadata": {
  "anaconda-cloud": {},
  "kernelspec": {
   "display_name": "Python [conda env:astroconda]",
   "language": "python",
   "name": "conda-env-astroconda-py"
  },
  "language_info": {
   "codemirror_mode": {
    "name": "ipython",
    "version": 3
   },
   "file_extension": ".py",
   "mimetype": "text/x-python",
   "name": "python",
   "nbconvert_exporter": "python",
   "pygments_lexer": "ipython3",
   "version": "3.5.2"
  }
 },
 "nbformat": 4,
 "nbformat_minor": 1
}
