{
 "cells": [
  {
   "cell_type": "markdown",
   "metadata": {},
   "source": [
    "# Make a catalog of SEDs\n",
    "\n",
    "This notebook will show you how to generate a Catalog of SED objects and make some plots from the sample."
   ]
  },
  {
   "cell_type": "code",
   "execution_count": 1,
   "metadata": {},
   "outputs": [
    {
     "data": {
      "text/html": [
       "\n",
       "    <div class=\"bk-root\">\n",
       "        <a href=\"https://bokeh.org\" target=\"_blank\" class=\"bk-logo bk-logo-small bk-logo-notebook\"></a>\n",
       "        <span id=\"1002\">Loading BokehJS ...</span>\n",
       "    </div>"
      ]
     },
     "metadata": {},
     "output_type": "display_data"
    },
    {
     "data": {
      "application/javascript": [
       "\n",
       "(function(root) {\n",
       "  function now() {\n",
       "    return new Date();\n",
       "  }\n",
       "\n",
       "  var force = true;\n",
       "\n",
       "  if (typeof root._bokeh_onload_callbacks === \"undefined\" || force === true) {\n",
       "    root._bokeh_onload_callbacks = [];\n",
       "    root._bokeh_is_loading = undefined;\n",
       "  }\n",
       "\n",
       "  var JS_MIME_TYPE = 'application/javascript';\n",
       "  var HTML_MIME_TYPE = 'text/html';\n",
       "  var EXEC_MIME_TYPE = 'application/vnd.bokehjs_exec.v0+json';\n",
       "  var CLASS_NAME = 'output_bokeh rendered_html';\n",
       "\n",
       "  /**\n",
       "   * Render data to the DOM node\n",
       "   */\n",
       "  function render(props, node) {\n",
       "    var script = document.createElement(\"script\");\n",
       "    node.appendChild(script);\n",
       "  }\n",
       "\n",
       "  /**\n",
       "   * Handle when an output is cleared or removed\n",
       "   */\n",
       "  function handleClearOutput(event, handle) {\n",
       "    var cell = handle.cell;\n",
       "\n",
       "    var id = cell.output_area._bokeh_element_id;\n",
       "    var server_id = cell.output_area._bokeh_server_id;\n",
       "    // Clean up Bokeh references\n",
       "    if (id != null && id in Bokeh.index) {\n",
       "      Bokeh.index[id].model.document.clear();\n",
       "      delete Bokeh.index[id];\n",
       "    }\n",
       "\n",
       "    if (server_id !== undefined) {\n",
       "      // Clean up Bokeh references\n",
       "      var cmd = \"from bokeh.io.state import curstate; print(curstate().uuid_to_server['\" + server_id + \"'].get_sessions()[0].document.roots[0]._id)\";\n",
       "      cell.notebook.kernel.execute(cmd, {\n",
       "        iopub: {\n",
       "          output: function(msg) {\n",
       "            var id = msg.content.text.trim();\n",
       "            if (id in Bokeh.index) {\n",
       "              Bokeh.index[id].model.document.clear();\n",
       "              delete Bokeh.index[id];\n",
       "            }\n",
       "          }\n",
       "        }\n",
       "      });\n",
       "      // Destroy server and session\n",
       "      var cmd = \"import bokeh.io.notebook as ion; ion.destroy_server('\" + server_id + \"')\";\n",
       "      cell.notebook.kernel.execute(cmd);\n",
       "    }\n",
       "  }\n",
       "\n",
       "  /**\n",
       "   * Handle when a new output is added\n",
       "   */\n",
       "  function handleAddOutput(event, handle) {\n",
       "    var output_area = handle.output_area;\n",
       "    var output = handle.output;\n",
       "\n",
       "    // limit handleAddOutput to display_data with EXEC_MIME_TYPE content only\n",
       "    if ((output.output_type != \"display_data\") || (!Object.prototype.hasOwnProperty.call(output.data, EXEC_MIME_TYPE))) {\n",
       "      return\n",
       "    }\n",
       "\n",
       "    var toinsert = output_area.element.find(\".\" + CLASS_NAME.split(' ')[0]);\n",
       "\n",
       "    if (output.metadata[EXEC_MIME_TYPE][\"id\"] !== undefined) {\n",
       "      toinsert[toinsert.length - 1].firstChild.textContent = output.data[JS_MIME_TYPE];\n",
       "      // store reference to embed id on output_area\n",
       "      output_area._bokeh_element_id = output.metadata[EXEC_MIME_TYPE][\"id\"];\n",
       "    }\n",
       "    if (output.metadata[EXEC_MIME_TYPE][\"server_id\"] !== undefined) {\n",
       "      var bk_div = document.createElement(\"div\");\n",
       "      bk_div.innerHTML = output.data[HTML_MIME_TYPE];\n",
       "      var script_attrs = bk_div.children[0].attributes;\n",
       "      for (var i = 0; i < script_attrs.length; i++) {\n",
       "        toinsert[toinsert.length - 1].firstChild.setAttribute(script_attrs[i].name, script_attrs[i].value);\n",
       "        toinsert[toinsert.length - 1].firstChild.textContent = bk_div.children[0].textContent\n",
       "      }\n",
       "      // store reference to server id on output_area\n",
       "      output_area._bokeh_server_id = output.metadata[EXEC_MIME_TYPE][\"server_id\"];\n",
       "    }\n",
       "  }\n",
       "\n",
       "  function register_renderer(events, OutputArea) {\n",
       "\n",
       "    function append_mime(data, metadata, element) {\n",
       "      // create a DOM node to render to\n",
       "      var toinsert = this.create_output_subarea(\n",
       "        metadata,\n",
       "        CLASS_NAME,\n",
       "        EXEC_MIME_TYPE\n",
       "      );\n",
       "      this.keyboard_manager.register_events(toinsert);\n",
       "      // Render to node\n",
       "      var props = {data: data, metadata: metadata[EXEC_MIME_TYPE]};\n",
       "      render(props, toinsert[toinsert.length - 1]);\n",
       "      element.append(toinsert);\n",
       "      return toinsert\n",
       "    }\n",
       "\n",
       "    /* Handle when an output is cleared or removed */\n",
       "    events.on('clear_output.CodeCell', handleClearOutput);\n",
       "    events.on('delete.Cell', handleClearOutput);\n",
       "\n",
       "    /* Handle when a new output is added */\n",
       "    events.on('output_added.OutputArea', handleAddOutput);\n",
       "\n",
       "    /**\n",
       "     * Register the mime type and append_mime function with output_area\n",
       "     */\n",
       "    OutputArea.prototype.register_mime_type(EXEC_MIME_TYPE, append_mime, {\n",
       "      /* Is output safe? */\n",
       "      safe: true,\n",
       "      /* Index of renderer in `output_area.display_order` */\n",
       "      index: 0\n",
       "    });\n",
       "  }\n",
       "\n",
       "  // register the mime type if in Jupyter Notebook environment and previously unregistered\n",
       "  if (root.Jupyter !== undefined) {\n",
       "    var events = require('base/js/events');\n",
       "    var OutputArea = require('notebook/js/outputarea').OutputArea;\n",
       "\n",
       "    if (OutputArea.prototype.mime_types().indexOf(EXEC_MIME_TYPE) == -1) {\n",
       "      register_renderer(events, OutputArea);\n",
       "    }\n",
       "  }\n",
       "\n",
       "  \n",
       "  if (typeof (root._bokeh_timeout) === \"undefined\" || force === true) {\n",
       "    root._bokeh_timeout = Date.now() + 5000;\n",
       "    root._bokeh_failed_load = false;\n",
       "  }\n",
       "\n",
       "  var NB_LOAD_WARNING = {'data': {'text/html':\n",
       "     \"<div style='background-color: #fdd'>\\n\"+\n",
       "     \"<p>\\n\"+\n",
       "     \"BokehJS does not appear to have successfully loaded. If loading BokehJS from CDN, this \\n\"+\n",
       "     \"may be due to a slow or bad network connection. Possible fixes:\\n\"+\n",
       "     \"</p>\\n\"+\n",
       "     \"<ul>\\n\"+\n",
       "     \"<li>re-rerun `output_notebook()` to attempt to load from CDN again, or</li>\\n\"+\n",
       "     \"<li>use INLINE resources instead, as so:</li>\\n\"+\n",
       "     \"</ul>\\n\"+\n",
       "     \"<code>\\n\"+\n",
       "     \"from bokeh.resources import INLINE\\n\"+\n",
       "     \"output_notebook(resources=INLINE)\\n\"+\n",
       "     \"</code>\\n\"+\n",
       "     \"</div>\"}};\n",
       "\n",
       "  function display_loaded() {\n",
       "    var el = document.getElementById(\"1002\");\n",
       "    if (el != null) {\n",
       "      el.textContent = \"BokehJS is loading...\";\n",
       "    }\n",
       "    if (root.Bokeh !== undefined) {\n",
       "      if (el != null) {\n",
       "        el.textContent = \"BokehJS \" + root.Bokeh.version + \" successfully loaded.\";\n",
       "      }\n",
       "    } else if (Date.now() < root._bokeh_timeout) {\n",
       "      setTimeout(display_loaded, 100)\n",
       "    }\n",
       "  }\n",
       "\n",
       "\n",
       "  function run_callbacks() {\n",
       "    try {\n",
       "      root._bokeh_onload_callbacks.forEach(function(callback) {\n",
       "        if (callback != null)\n",
       "          callback();\n",
       "      });\n",
       "    } finally {\n",
       "      delete root._bokeh_onload_callbacks\n",
       "    }\n",
       "    console.debug(\"Bokeh: all callbacks have finished\");\n",
       "  }\n",
       "\n",
       "  function load_libs(css_urls, js_urls, callback) {\n",
       "    if (css_urls == null) css_urls = [];\n",
       "    if (js_urls == null) js_urls = [];\n",
       "\n",
       "    root._bokeh_onload_callbacks.push(callback);\n",
       "    if (root._bokeh_is_loading > 0) {\n",
       "      console.debug(\"Bokeh: BokehJS is being loaded, scheduling callback at\", now());\n",
       "      return null;\n",
       "    }\n",
       "    if (js_urls == null || js_urls.length === 0) {\n",
       "      run_callbacks();\n",
       "      return null;\n",
       "    }\n",
       "    console.debug(\"Bokeh: BokehJS not loaded, scheduling load and callback at\", now());\n",
       "    root._bokeh_is_loading = css_urls.length + js_urls.length;\n",
       "\n",
       "    function on_load() {\n",
       "      root._bokeh_is_loading--;\n",
       "      if (root._bokeh_is_loading === 0) {\n",
       "        console.debug(\"Bokeh: all BokehJS libraries/stylesheets loaded\");\n",
       "        run_callbacks()\n",
       "      }\n",
       "    }\n",
       "\n",
       "    function on_error(url) {\n",
       "      console.error(\"failed to load \" + url);\n",
       "    }\n",
       "\n",
       "    for (let i = 0; i < css_urls.length; i++) {\n",
       "      const url = css_urls[i];\n",
       "      const element = document.createElement(\"link\");\n",
       "      element.onload = on_load;\n",
       "      element.onerror = on_error.bind(null, url);\n",
       "      element.rel = \"stylesheet\";\n",
       "      element.type = \"text/css\";\n",
       "      element.href = url;\n",
       "      console.debug(\"Bokeh: injecting link tag for BokehJS stylesheet: \", url);\n",
       "      document.body.appendChild(element);\n",
       "    }\n",
       "\n",
       "    const hashes = {\"https://cdn.bokeh.org/bokeh/release/bokeh-2.3.0.min.js\": \"HjagQp6T0/7bxYTAXbLotF1MLAGWmhkY5siA1Gc/pcEgvgRPtMsRn0gQtMwGKiw1\", \"https://cdn.bokeh.org/bokeh/release/bokeh-widgets-2.3.0.min.js\": \"ZEPPTjL+mdyqgIq+/pl9KTwzji8Kow2NnI3zWY8+sFinWP/SYJ80BnfeJsa45iYj\", \"https://cdn.bokeh.org/bokeh/release/bokeh-tables-2.3.0.min.js\": \"exLqv2ACDRIaV7ZK1iL8aGzGYQvKVuT3U2CT7FsQREBxRah6JrkVCoFy0koY1YqV\"};\n",
       "\n",
       "    for (let i = 0; i < js_urls.length; i++) {\n",
       "      const url = js_urls[i];\n",
       "      const element = document.createElement('script');\n",
       "      element.onload = on_load;\n",
       "      element.onerror = on_error.bind(null, url);\n",
       "      element.async = false;\n",
       "      element.src = url;\n",
       "      if (url in hashes) {\n",
       "        element.crossOrigin = \"anonymous\";\n",
       "        element.integrity = \"sha384-\" + hashes[url];\n",
       "      }\n",
       "      console.debug(\"Bokeh: injecting script tag for BokehJS library: \", url);\n",
       "      document.head.appendChild(element);\n",
       "    }\n",
       "  };\n",
       "\n",
       "  function inject_raw_css(css) {\n",
       "    const element = document.createElement(\"style\");\n",
       "    element.appendChild(document.createTextNode(css));\n",
       "    document.body.appendChild(element);\n",
       "  }\n",
       "\n",
       "  \n",
       "  var js_urls = [\"https://cdn.bokeh.org/bokeh/release/bokeh-2.3.0.min.js\", \"https://cdn.bokeh.org/bokeh/release/bokeh-widgets-2.3.0.min.js\", \"https://cdn.bokeh.org/bokeh/release/bokeh-tables-2.3.0.min.js\"];\n",
       "  var css_urls = [];\n",
       "  \n",
       "\n",
       "  var inline_js = [\n",
       "    function(Bokeh) {\n",
       "      Bokeh.set_log_level(\"info\");\n",
       "    },\n",
       "    function(Bokeh) {\n",
       "    \n",
       "    \n",
       "    }\n",
       "  ];\n",
       "\n",
       "  function run_inline_js() {\n",
       "    \n",
       "    if (root.Bokeh !== undefined || force === true) {\n",
       "      \n",
       "    for (var i = 0; i < inline_js.length; i++) {\n",
       "      inline_js[i].call(root, root.Bokeh);\n",
       "    }\n",
       "    if (force === true) {\n",
       "        display_loaded();\n",
       "      }} else if (Date.now() < root._bokeh_timeout) {\n",
       "      setTimeout(run_inline_js, 100);\n",
       "    } else if (!root._bokeh_failed_load) {\n",
       "      console.log(\"Bokeh: BokehJS failed to load within specified timeout.\");\n",
       "      root._bokeh_failed_load = true;\n",
       "    } else if (force !== true) {\n",
       "      var cell = $(document.getElementById(\"1002\")).parents('.cell').data().cell;\n",
       "      cell.output_area.append_execute_result(NB_LOAD_WARNING)\n",
       "    }\n",
       "\n",
       "  }\n",
       "\n",
       "  if (root._bokeh_is_loading === 0) {\n",
       "    console.debug(\"Bokeh: BokehJS loaded, going straight to plotting\");\n",
       "    run_inline_js();\n",
       "  } else {\n",
       "    load_libs(css_urls, js_urls, function() {\n",
       "      console.debug(\"Bokeh: BokehJS plotting callback run at\", now());\n",
       "      run_inline_js();\n",
       "    });\n",
       "  }\n",
       "}(window));"
      ],
      "application/vnd.bokehjs_load.v0+json": "\n(function(root) {\n  function now() {\n    return new Date();\n  }\n\n  var force = true;\n\n  if (typeof root._bokeh_onload_callbacks === \"undefined\" || force === true) {\n    root._bokeh_onload_callbacks = [];\n    root._bokeh_is_loading = undefined;\n  }\n\n  \n\n  \n  if (typeof (root._bokeh_timeout) === \"undefined\" || force === true) {\n    root._bokeh_timeout = Date.now() + 5000;\n    root._bokeh_failed_load = false;\n  }\n\n  var NB_LOAD_WARNING = {'data': {'text/html':\n     \"<div style='background-color: #fdd'>\\n\"+\n     \"<p>\\n\"+\n     \"BokehJS does not appear to have successfully loaded. If loading BokehJS from CDN, this \\n\"+\n     \"may be due to a slow or bad network connection. Possible fixes:\\n\"+\n     \"</p>\\n\"+\n     \"<ul>\\n\"+\n     \"<li>re-rerun `output_notebook()` to attempt to load from CDN again, or</li>\\n\"+\n     \"<li>use INLINE resources instead, as so:</li>\\n\"+\n     \"</ul>\\n\"+\n     \"<code>\\n\"+\n     \"from bokeh.resources import INLINE\\n\"+\n     \"output_notebook(resources=INLINE)\\n\"+\n     \"</code>\\n\"+\n     \"</div>\"}};\n\n  function display_loaded() {\n    var el = document.getElementById(\"1002\");\n    if (el != null) {\n      el.textContent = \"BokehJS is loading...\";\n    }\n    if (root.Bokeh !== undefined) {\n      if (el != null) {\n        el.textContent = \"BokehJS \" + root.Bokeh.version + \" successfully loaded.\";\n      }\n    } else if (Date.now() < root._bokeh_timeout) {\n      setTimeout(display_loaded, 100)\n    }\n  }\n\n\n  function run_callbacks() {\n    try {\n      root._bokeh_onload_callbacks.forEach(function(callback) {\n        if (callback != null)\n          callback();\n      });\n    } finally {\n      delete root._bokeh_onload_callbacks\n    }\n    console.debug(\"Bokeh: all callbacks have finished\");\n  }\n\n  function load_libs(css_urls, js_urls, callback) {\n    if (css_urls == null) css_urls = [];\n    if (js_urls == null) js_urls = [];\n\n    root._bokeh_onload_callbacks.push(callback);\n    if (root._bokeh_is_loading > 0) {\n      console.debug(\"Bokeh: BokehJS is being loaded, scheduling callback at\", now());\n      return null;\n    }\n    if (js_urls == null || js_urls.length === 0) {\n      run_callbacks();\n      return null;\n    }\n    console.debug(\"Bokeh: BokehJS not loaded, scheduling load and callback at\", now());\n    root._bokeh_is_loading = css_urls.length + js_urls.length;\n\n    function on_load() {\n      root._bokeh_is_loading--;\n      if (root._bokeh_is_loading === 0) {\n        console.debug(\"Bokeh: all BokehJS libraries/stylesheets loaded\");\n        run_callbacks()\n      }\n    }\n\n    function on_error(url) {\n      console.error(\"failed to load \" + url);\n    }\n\n    for (let i = 0; i < css_urls.length; i++) {\n      const url = css_urls[i];\n      const element = document.createElement(\"link\");\n      element.onload = on_load;\n      element.onerror = on_error.bind(null, url);\n      element.rel = \"stylesheet\";\n      element.type = \"text/css\";\n      element.href = url;\n      console.debug(\"Bokeh: injecting link tag for BokehJS stylesheet: \", url);\n      document.body.appendChild(element);\n    }\n\n    const hashes = {\"https://cdn.bokeh.org/bokeh/release/bokeh-2.3.0.min.js\": \"HjagQp6T0/7bxYTAXbLotF1MLAGWmhkY5siA1Gc/pcEgvgRPtMsRn0gQtMwGKiw1\", \"https://cdn.bokeh.org/bokeh/release/bokeh-widgets-2.3.0.min.js\": \"ZEPPTjL+mdyqgIq+/pl9KTwzji8Kow2NnI3zWY8+sFinWP/SYJ80BnfeJsa45iYj\", \"https://cdn.bokeh.org/bokeh/release/bokeh-tables-2.3.0.min.js\": \"exLqv2ACDRIaV7ZK1iL8aGzGYQvKVuT3U2CT7FsQREBxRah6JrkVCoFy0koY1YqV\"};\n\n    for (let i = 0; i < js_urls.length; i++) {\n      const url = js_urls[i];\n      const element = document.createElement('script');\n      element.onload = on_load;\n      element.onerror = on_error.bind(null, url);\n      element.async = false;\n      element.src = url;\n      if (url in hashes) {\n        element.crossOrigin = \"anonymous\";\n        element.integrity = \"sha384-\" + hashes[url];\n      }\n      console.debug(\"Bokeh: injecting script tag for BokehJS library: \", url);\n      document.head.appendChild(element);\n    }\n  };\n\n  function inject_raw_css(css) {\n    const element = document.createElement(\"style\");\n    element.appendChild(document.createTextNode(css));\n    document.body.appendChild(element);\n  }\n\n  \n  var js_urls = [\"https://cdn.bokeh.org/bokeh/release/bokeh-2.3.0.min.js\", \"https://cdn.bokeh.org/bokeh/release/bokeh-widgets-2.3.0.min.js\", \"https://cdn.bokeh.org/bokeh/release/bokeh-tables-2.3.0.min.js\"];\n  var css_urls = [];\n  \n\n  var inline_js = [\n    function(Bokeh) {\n      Bokeh.set_log_level(\"info\");\n    },\n    function(Bokeh) {\n    \n    \n    }\n  ];\n\n  function run_inline_js() {\n    \n    if (root.Bokeh !== undefined || force === true) {\n      \n    for (var i = 0; i < inline_js.length; i++) {\n      inline_js[i].call(root, root.Bokeh);\n    }\n    if (force === true) {\n        display_loaded();\n      }} else if (Date.now() < root._bokeh_timeout) {\n      setTimeout(run_inline_js, 100);\n    } else if (!root._bokeh_failed_load) {\n      console.log(\"Bokeh: BokehJS failed to load within specified timeout.\");\n      root._bokeh_failed_load = true;\n    } else if (force !== true) {\n      var cell = $(document.getElementById(\"1002\")).parents('.cell').data().cell;\n      cell.output_area.append_execute_result(NB_LOAD_WARNING)\n    }\n\n  }\n\n  if (root._bokeh_is_loading === 0) {\n    console.debug(\"Bokeh: BokehJS loaded, going straight to plotting\");\n    run_inline_js();\n  } else {\n    load_libs(css_urls, js_urls, function() {\n      console.debug(\"Bokeh: BokehJS plotting callback run at\", now());\n      run_inline_js();\n    });\n  }\n}(window));"
     },
     "metadata": {},
     "output_type": "display_data"
    }
   ],
   "source": [
    "# Imports\n",
    "from sedkit import SED, Catalog\n",
    "import astropy.units as q\n",
    "import numpy as np\n",
    "from pkg_resources import resource_filename\n",
    "from bokeh.io import output_notebook, show\n",
    "output_notebook()"
   ]
  },
  {
   "cell_type": "markdown",
   "metadata": {},
   "source": [
    "First we initialize an empty catalog."
   ]
  },
  {
   "cell_type": "code",
   "execution_count": 35,
   "metadata": {},
   "outputs": [],
   "source": [
    "# Make an SED catalog\n",
    "cat = Catalog()"
   ]
  },
  {
   "cell_type": "markdown",
   "metadata": {},
   "source": [
    "Now let's make a few photometric SEDs."
   ]
  },
  {
   "cell_type": "code",
   "execution_count": 36,
   "metadata": {},
   "outputs": [
    {
     "name": "stdout",
     "output_type": "stream",
     "text": [
      "(<Quantity -0.15 solMass>, <Quantity 0.01 solMass>, <Quantity 0.01 solMass>): mass value is not in valid range [0.0 solMass, 226.0 solMass].\n",
      "[sedkit] Successfully added SED '2MASS J00361617+1821104 0'\n",
      "(<Quantity -0.14 solMass>, <Quantity 0.01 solMass>, <Quantity 0.01 solMass>): mass value is not in valid range [0.0 solMass, 226.0 solMass].\n",
      "[sedkit] Successfully added SED '2MASS J00361617+1821104 1'\n",
      "(<Quantity -0.35 solMass>, <Quantity 0.02 solMass>, <Quantity 0.02 solMass>): mass value is not in valid range [0.0 solMass, 226.0 solMass].\n",
      "[sedkit] Successfully added SED '2MASS J00361617+1821104 2'\n",
      "(<Quantity -0.89 solMass>, <Quantity 0.03 solMass>, <Quantity 0.03 solMass>): mass value is not in valid range [0.0 solMass, 226.0 solMass].\n",
      "[sedkit] Successfully added SED '2MASS J00361617+1821104 3'\n",
      "(<Quantity -0.45 solMass>, <Quantity 0.02 solMass>, <Quantity 0.02 solMass>): mass value is not in valid range [0.0 solMass, 226.0 solMass].\n",
      "[sedkit] Successfully added SED '2MASS J00361617+1821104 4'\n",
      "(<Quantity -0.36 solMass>, <Quantity 0.02 solMass>, <Quantity 0.02 solMass>): mass value is not in valid range [0.0 solMass, 226.0 solMass].\n",
      "[sedkit] Successfully added SED '2MASS J00361617+1821104 5'\n",
      "(<Quantity -0.49 solMass>, <Quantity 0.02 solMass>, <Quantity 0.02 solMass>): mass value is not in valid range [0.0 solMass, 226.0 solMass].\n",
      "[sedkit] Successfully added SED '2MASS J00361617+1821104 6'\n",
      "(<Quantity -0.73 solMass>, <Quantity 0.02 solMass>, <Quantity 0.03 solMass>): mass value is not in valid range [0.0 solMass, 226.0 solMass].\n",
      "[sedkit] Successfully added SED '2MASS J00361617+1821104 7'\n",
      "(<Quantity -0.12 solMass>, <Quantity 0.01 solMass>, <Quantity 0.01 solMass>): mass value is not in valid range [0.0 solMass, 226.0 solMass].\n",
      "[sedkit] Successfully added SED '2MASS J00361617+1821104 8'\n",
      "(<Quantity -0.36 solMass>, <Quantity 0.02 solMass>, <Quantity 0.02 solMass>): mass value is not in valid range [0.0 solMass, 226.0 solMass].\n",
      "[sedkit] Successfully added SED '2MASS J00361617+1821104 9'\n"
     ]
    }
   ],
   "source": [
    "# Make 10 SEDs with different parallaxes\n",
    "for n in range(10):\n",
    "    plx = np.random.normal(loc=114, scale=10)*q.mas, abs(np.random.normal(loc=0.2, scale=0.2))*q.mas\n",
    "    s = SED(parallax=plx, spectral_type='L3.5', name='2MASS J00361617+1821104 {}'.format(n), verbose=False)\n",
    "    s.add_photometry_file(resource_filename('sedkit', 'data/L3_photometry.txt'))\n",
    "    s.logg = np.random.normal(loc=4, scale=1), 0.1\n",
    "    cat.add_SED(s)"
   ]
  },
  {
   "cell_type": "markdown",
   "metadata": {},
   "source": [
    "Then the (abridged) aggregated results look like this:"
   ]
  },
  {
   "cell_type": "code",
   "execution_count": 38,
   "metadata": {},
   "outputs": [
    {
     "data": {
      "text/html": [
       "<i>QTable length=10</i>\n",
       "<table id=\"table6986552752\" class=\"table-striped table-bordered table-condensed\">\n",
       "<thead><tr><th>name</th><th>distance</th><th>distance_unc</th><th>logg</th><th>Lbol_sun</th><th>Lbol_sun_unc</th><th>Teff</th><th>Teff_unc</th></tr></thead>\n",
       "<thead><tr><th></th><th>pc</th><th>pc</th><th></th><th></th><th></th><th>K</th><th>K</th></tr></thead>\n",
       "<thead><tr><th>object</th><th>float64</th><th>float64</th><th>object</th><th>object</th><th>object</th><th>float64</th><th>float64</th></tr></thead>\n",
       "<tr><td>2MASS J00361617+1821104 0</td><td>9.65</td><td>0.02</td><td>2.856391307885212</td><td>-3.979</td><td>0.006</td><td>2065.0</td><td>7.0</td></tr>\n",
       "<tr><td>2MASS J00361617+1821104 1</td><td>9.73</td><td>0.03</td><td>4.232968950966258</td><td>-3.972</td><td>0.006</td><td>2074.0</td><td>7.0</td></tr>\n",
       "<tr><td>2MASS J00361617+1821104 2</td><td>8.71</td><td>0.01</td><td>3.1630500787947624</td><td>-4.068</td><td>0.006</td><td>1962.0</td><td>6.0</td></tr>\n",
       "<tr><td>2MASS J00361617+1821104 3</td><td>7.31</td><td>0.01</td><td>3.678575759282893</td><td>-4.22</td><td>0.006</td><td>1797.0</td><td>6.0</td></tr>\n",
       "<tr><td>2MASS J00361617+1821104 4</td><td>8.34</td><td>0.01</td><td>3.5627109772294623</td><td>-4.106</td><td>0.006</td><td>1920.0</td><td>6.0</td></tr>\n",
       "<tr><td>2MASS J00361617+1821104 5</td><td>8.64</td><td>0.01</td><td>3.1614956637846587</td><td>-4.075</td><td>0.006</td><td>1954.0</td><td>6.0</td></tr>\n",
       "<tr><td>2MASS J00361617+1821104 6</td><td>8.22</td><td>0.01</td><td>5.447847995329169</td><td>-4.118</td><td>0.006</td><td>1906.0</td><td>6.0</td></tr>\n",
       "<tr><td>2MASS J00361617+1821104 7</td><td>7.62</td><td>0.0</td><td>4.131989433045737</td><td>-4.184</td><td>0.006</td><td>1835.0</td><td>6.0</td></tr>\n",
       "<tr><td>2MASS J00361617+1821104 8</td><td>9.83</td><td>0.0</td><td>3.2008754981678447</td><td>-3.963</td><td>0.006</td><td>2084.0</td><td>6.0</td></tr>\n",
       "<tr><td>2MASS J00361617+1821104 9</td><td>8.66</td><td>0.0</td><td>4.514016750703281</td><td>-4.073</td><td>0.006</td><td>1956.0</td><td>6.0</td></tr>\n",
       "</table>"
      ],
      "text/plain": [
       "<QTable length=10>\n",
       "           name           distance distance_unc ...   Teff  Teff_unc\n",
       "                             pc         pc      ...    K       K    \n",
       "          object          float64    float64    ... float64 float64 \n",
       "------------------------- -------- ------------ ... ------- --------\n",
       "2MASS J00361617+1821104 0     9.65         0.02 ...  2065.0      7.0\n",
       "2MASS J00361617+1821104 1     9.73         0.03 ...  2074.0      7.0\n",
       "2MASS J00361617+1821104 2     8.71         0.01 ...  1962.0      6.0\n",
       "2MASS J00361617+1821104 3     7.31         0.01 ...  1797.0      6.0\n",
       "2MASS J00361617+1821104 4     8.34         0.01 ...  1920.0      6.0\n",
       "2MASS J00361617+1821104 5     8.64         0.01 ...  1954.0      6.0\n",
       "2MASS J00361617+1821104 6     8.22         0.01 ...  1906.0      6.0\n",
       "2MASS J00361617+1821104 7     7.62          0.0 ...  1835.0      6.0\n",
       "2MASS J00361617+1821104 8     9.83          0.0 ...  2084.0      6.0\n",
       "2MASS J00361617+1821104 9     8.66          0.0 ...  1956.0      6.0"
      ]
     },
     "execution_count": 38,
     "metadata": {},
     "output_type": "execute_result"
    }
   ],
   "source": [
    "cat.results[['name','distance','distance_unc','logg','Lbol_sun','Lbol_sun_unc','Teff','Teff_unc']]"
   ]
  },
  {
   "cell_type": "markdown",
   "metadata": {},
   "source": [
    "We can also plot the results by passing the `plot` method two column names. A polynomial can be fit to the data given an integer polynomial order via the `order` argument."
   ]
  },
  {
   "cell_type": "code",
   "execution_count": 51,
   "metadata": {},
   "outputs": [
    {
     "data": {
      "text/html": [
       "\n",
       "\n",
       "\n",
       "\n",
       "\n",
       "\n",
       "  <div class=\"bk-root\" id=\"13d1c916-84d4-4f10-ae63-d343b6e7f152\" data-root-id=\"8658\"></div>\n"
      ]
     },
     "metadata": {},
     "output_type": "display_data"
    },
    {
     "data": {
      "application/javascript": [
       "(function(root) {\n",
       "  function embed_document(root) {\n",
       "    \n",
       "  var docs_json = {\"25299142-7803-498a-889e-62e27975aace\":{\"defs\":[{\"extends\":null,\"module\":null,\"name\":\"DataModel\",\"overrides\":[],\"properties\":[]}],\"roots\":{\"references\":[{\"attributes\":{\"below\":[{\"id\":\"8669\"}],\"center\":[{\"id\":\"8672\"},{\"id\":\"8676\"},{\"id\":\"8733\"}],\"height\":500,\"left\":[{\"id\":\"8673\"}],\"renderers\":[{\"id\":\"8693\"},{\"id\":\"8698\"},{\"id\":\"8703\"},{\"id\":\"8708\"},{\"id\":\"8713\"},{\"id\":\"8737\"}],\"title\":{\"id\":\"8659\"},\"toolbar\":{\"id\":\"8683\"},\"width\":800,\"x_range\":{\"id\":\"8661\"},\"x_scale\":{\"id\":\"8665\"},\"y_range\":{\"id\":\"8663\"},\"y_scale\":{\"id\":\"8667\"}},\"id\":\"8658\",\"subtype\":\"Figure\",\"type\":\"Plot\"},{\"attributes\":{\"source\":{\"id\":\"8710\"}},\"id\":\"8714\",\"type\":\"CDSView\"},{\"attributes\":{},\"id\":\"8730\",\"type\":\"Selection\"},{\"attributes\":{},\"id\":\"8663\",\"type\":\"DataRange1d\"},{\"attributes\":{\"axis_label\":\"Teff [K]\",\"formatter\":{\"id\":\"8718\"},\"major_label_policy\":{\"id\":\"8717\"},\"ticker\":{\"id\":\"8674\"}},\"id\":\"8673\",\"type\":\"LinearAxis\"},{\"attributes\":{},\"id\":\"8674\",\"type\":\"BasicTicker\"},{\"attributes\":{},\"id\":\"8726\",\"type\":\"Selection\"},{\"attributes\":{\"source\":{\"id\":\"8735\"}},\"id\":\"8738\",\"type\":\"CDSView\"},{\"attributes\":{\"data_source\":{\"id\":\"8655\"},\"glyph\":{\"id\":\"8691\"},\"hover_glyph\":null,\"muted_glyph\":null,\"name\":\"points\",\"nonselection_glyph\":{\"id\":\"8692\"},\"view\":{\"id\":\"8694\"}},\"id\":\"8693\",\"type\":\"GlyphRenderer\"},{\"attributes\":{\"data_source\":{\"id\":\"8735\"},\"glyph\":{\"id\":\"8736\"},\"hover_glyph\":null,\"muted_glyph\":null,\"view\":{\"id\":\"8738\"}},\"id\":\"8737\",\"type\":\"GlyphRenderer\"},{\"attributes\":{},\"id\":\"8731\",\"type\":\"UnionRenderers\"},{\"attributes\":{\"fill_alpha\":{\"value\":0.1},\"fill_color\":{\"value\":\"blue\"},\"line_alpha\":{\"value\":0.1},\"line_color\":{\"value\":\"blue\"},\"size\":{\"value\":8},\"x\":{\"field\":\"distance\"},\"y\":{\"field\":\"Teff\"}},\"id\":\"8692\",\"type\":\"Circle\"},{\"attributes\":{},\"id\":\"8725\",\"type\":\"UnionRenderers\"},{\"attributes\":{\"text\":\"distance v Teff\"},\"id\":\"8659\",\"type\":\"Title\"},{\"attributes\":{\"data_source\":{\"id\":\"8710\"},\"glyph\":{\"id\":\"8711\"},\"hover_glyph\":null,\"muted_glyph\":null,\"nonselection_glyph\":{\"id\":\"8712\"},\"view\":{\"id\":\"8714\"}},\"id\":\"8713\",\"type\":\"GlyphRenderer\"},{\"attributes\":{},\"id\":\"8661\",\"type\":\"DataRange1d\"},{\"attributes\":{\"line_alpha\":0.1,\"line_color\":\"blue\",\"x\":{\"field\":\"x\"},\"y\":{\"field\":\"y\"}},\"id\":\"8712\",\"type\":\"Line\"},{\"attributes\":{},\"id\":\"8724\",\"type\":\"Selection\"},{\"attributes\":{},\"id\":\"8678\",\"type\":\"ResetTool\"},{\"attributes\":{\"data_source\":{\"id\":\"8695\"},\"glyph\":{\"id\":\"8696\"},\"hover_glyph\":null,\"muted_glyph\":null,\"nonselection_glyph\":{\"id\":\"8697\"},\"view\":{\"id\":\"8699\"}},\"id\":\"8698\",\"type\":\"GlyphRenderer\"},{\"attributes\":{\"active_multi\":null,\"tools\":[{\"id\":\"8657\"},{\"id\":\"8677\"},{\"id\":\"8678\"},{\"id\":\"8679\"},{\"id\":\"8680\"},{\"id\":\"8681\"}]},\"id\":\"8683\",\"type\":\"Toolbar\"},{\"attributes\":{\"line_color\":{\"value\":\"blue\"},\"xs\":{\"field\":\"xs\"},\"ys\":{\"field\":\"ys\"}},\"id\":\"8701\",\"type\":\"MultiLine\"},{\"attributes\":{\"data\":{\"2MASS.H\":[11.5859375,11.5859375,11.5859375,11.5859375,11.5859375,11.5859375,11.5859375,11.5859375,11.5859375,11.5859375],\"2MASS.H_unc\":[0.029998779296875,0.029998779296875,0.029998779296875,0.029998779296875,0.029998779296875,0.029998779296875,0.029998779296875,0.029998779296875,0.029998779296875,0.029998779296875],\"2MASS.J\":[12.46875,12.46875,12.46875,12.46875,12.46875,12.46875,12.46875,12.46875,12.46875,12.46875],\"2MASS.J_unc\":[0.0269927978515625,0.0269927978515625,0.0269927978515625,0.0269927978515625,0.0269927978515625,0.0269927978515625,0.0269927978515625,0.0269927978515625,0.0269927978515625,0.0269927978515625],\"2MASS.Ks\":[11.0546875,11.0546875,11.0546875,11.0546875,11.0546875,11.0546875,11.0546875,11.0546875,11.0546875,11.0546875],\"2MASS.Ks_unc\":[0.02099609375,0.02099609375,0.02099609375,0.02099609375,0.02099609375,0.02099609375,0.02099609375,0.02099609375,0.02099609375,0.02099609375],\"Lbol\":[4.018097208690082e+29,4.08499466002948e+29,3.2734229477278346e+29,2.3056881446834444e+29,3.0012205665522703e+29,3.2210190812084206e+29,2.9154758456404727e+29,2.5053923978014373e+29,4.1693931474003925e+29,3.235948465988755e+29],\"Lbol_sun\":[-3.979,-3.972,-4.068,-4.22,-4.106,-4.075,-4.118,-4.184,-3.963,-4.073],\"Lbol_sun_unc\":[0.006,0.006,0.006,0.006,0.006,0.006,0.006,0.006,0.006,0.006],\"Lbol_unc\":[5.577751880114995e+27,5.969435663119675e+27,4.401373072686537e+27,3.1190944819920306e+27,4.040709194327996e+27,4.331939329590231e+27,3.9270971499680895e+27,3.319209644478828e+27,5.52372153704129e+27,4.287069509260001e+27],\"M_2MASS.H\":[11.6640625,11.640625,11.890625,12.265625,11.984375,11.90625,12.015625,12.171875,11.625,11.8984375],\"M_2MASS.H_unc\":[0.029998779296875,0.029998779296875,0.029998779296875,0.029998779296875,0.029998779296875,0.029998779296875,0.029998779296875,0.029998779296875,0.029998779296875,0.029998779296875],\"M_2MASS.J\":[12.546875,12.53125,12.765625,13.1484375,12.859375,12.78125,12.890625,13.0625,12.5078125,12.78125],\"M_2MASS.J_unc\":[0.0269927978515625,0.0269927978515625,0.0269927978515625,0.0269927978515625,0.0269927978515625,0.0269927978515625,0.0269927978515625,0.0269927978515625,0.0269927978515625,0.0269927978515625],\"M_2MASS.Ks\":[11.1328125,11.109375,11.359375,11.734375,11.453125,11.375,11.484375,11.640625,11.09375,11.3671875],\"M_2MASS.Ks_unc\":[0.02099609375,0.02099609375,0.02099609375,0.02099609375,0.02099609375,0.02099609375,0.02099609375,0.02099609375,0.02099609375,0.02099609375],\"M_SDSS.g\":[22.609375,22.59375,22.828125,23.21875,22.921875,22.84375,22.953125,23.125,22.5625,22.84375],\"M_SDSS.g_unc\":[0.136962890625,0.136962890625,0.136962890625,0.136962890625,0.136962890625,0.136962890625,0.136962890625,0.136962890625,0.136962890625,0.136962890625],\"M_SDSS.i\":[17.25,17.234375,17.46875,17.84375,17.5625,17.484375,17.59375,17.765625,17.21875,17.484375],\"M_SDSS.i_unc\":[0.005001068115234375,0.006000518798828125,0.005001068115234375,0.005001068115234375,0.005001068115234375,0.005001068115234375,0.005001068115234375,0.005001068115234375,0.005001068115234375,0.005001068115234375],\"M_SDSS.r\":[19.765625,19.75,19.984375,20.375,20.078125,20.0,20.109375,20.28125,19.71875,20.0],\"M_SDSS.r_unc\":[0.0189971923828125,0.0189971923828125,0.0189971923828125,0.0189971923828125,0.0189971923828125,0.0189971923828125,0.0189971923828125,0.0189971923828125,0.0189971923828125,0.0189971923828125],\"M_SDSS.u\":[24.765625,24.75,24.984375,25.375,25.078125,24.984375,25.109375,25.28125,24.71875,24.984375],\"M_SDSS.u_unc\":[1.388671875,1.388671875,1.388671875,1.388671875,1.388671875,1.388671875,1.388671875,1.388671875,1.388671875,1.388671875],\"M_SDSS.z\":[15.296875,15.28125,15.515625,15.8984375,15.609375,15.53125,15.640625,15.8125,15.2578125,15.53125],\"M_SDSS.z_unc\":[0.005001068115234375,0.006000518798828125,0.005001068115234375,0.005001068115234375,0.005001068115234375,0.005001068115234375,0.005001068115234375,0.005001068115234375,0.005001068115234375,0.005001068115234375],\"Mbol\":[14.702,14.684,14.925,15.305,15.019,14.942,15.051,15.215,14.662,14.937],\"Mbol_unc\":[0.014,0.014,0.014,0.014,0.014,0.014,0.014,0.014,0.014,0.014],\"SDSS.g\":[22.53125,22.53125,22.53125,22.53125,22.53125,22.53125,22.53125,22.53125,22.53125,22.53125],\"SDSS.g_unc\":[0.136962890625,0.136962890625,0.136962890625,0.136962890625,0.136962890625,0.136962890625,0.136962890625,0.136962890625,0.136962890625,0.136962890625],\"SDSS.i\":[17.171875,17.171875,17.171875,17.171875,17.171875,17.171875,17.171875,17.171875,17.171875,17.171875],\"SDSS.i_unc\":[0.005001068115234375,0.005001068115234375,0.005001068115234375,0.005001068115234375,0.005001068115234375,0.005001068115234375,0.005001068115234375,0.005001068115234375,0.005001068115234375,0.005001068115234375],\"SDSS.r\":[19.6875,19.6875,19.6875,19.6875,19.6875,19.6875,19.6875,19.6875,19.6875,19.6875],\"SDSS.r_unc\":[0.0189971923828125,0.0189971923828125,0.0189971923828125,0.0189971923828125,0.0189971923828125,0.0189971923828125,0.0189971923828125,0.0189971923828125,0.0189971923828125,0.0189971923828125],\"SDSS.u\":[24.6875,24.6875,24.6875,24.6875,24.6875,24.6875,24.6875,24.6875,24.6875,24.6875],\"SDSS.u_unc\":[1.388671875,1.388671875,1.388671875,1.388671875,1.388671875,1.388671875,1.388671875,1.388671875,1.388671875,1.388671875],\"SDSS.z\":[15.21875,15.21875,15.21875,15.21875,15.21875,15.21875,15.21875,15.21875,15.21875,15.21875],\"SDSS.z_unc\":[0.005001068115234375,0.005001068115234375,0.005001068115234375,0.005001068115234375,0.005001068115234375,0.005001068115234375,0.005001068115234375,0.005001068115234375,0.005001068115234375,0.005001068115234375],\"SpT\":[\"L3.5V\",\"L3.5V\",\"L3.5V\",\"L3.5V\",\"L3.5V\",\"L3.5V\",\"L3.5V\",\"L3.5V\",\"L3.5V\",\"L3.5V\"],\"Teff\":[2065.0,2074.0,1962.0,1797.0,1920.0,1954.0,1906.0,1835.0,2084.0,1956.0],\"Teff_unc\":[7.0,7.0,6.0,6.0,6.0,6.0,6.0,6.0,6.0,6.0],\"age\":[\"NaN\",\"NaN\",\"NaN\",\"NaN\",\"NaN\",\"NaN\",\"NaN\",\"NaN\",\"NaN\",\"NaN\"],\"age_unc\":[\"NaN\",\"NaN\",\"NaN\",\"NaN\",\"NaN\",\"NaN\",\"NaN\",\"NaN\",\"NaN\",\"NaN\"],\"dec\":[\"NaN\",\"NaN\",\"NaN\",\"NaN\",\"NaN\",\"NaN\",\"NaN\",\"NaN\",\"NaN\",\"NaN\"],\"distance\":[9.65,9.73,8.71,7.31,8.34,8.64,8.22,7.62,9.83,8.66],\"distance_unc\":[0.02,0.03,0.01,0.01,0.01,0.01,0.01,0.0,0.0,0.0],\"fbol\":[3.606241925902236e-11,3.606241925902236e-11,3.606241925902236e-11,3.606241925902236e-11,3.606241925902236e-11,3.606241925902236e-11,3.606241925902236e-11,3.606241925902236e-11,3.606241925902236e-11,3.606241925902236e-11],\"fbol_unc\":[4.777644009490312e-13,4.777644009490312e-13,4.777644009490312e-13,4.777644009490312e-13,4.777644009490312e-13,4.777644009490312e-13,4.777644009490312e-13,4.777644009490312e-13,4.777644009490312e-13,4.777644009490312e-13],\"logg\":[2.856391307885212,4.232968950966258,3.1630500787947624,3.678575759282893,3.5627109772294623,3.1614956637846587,5.447847995329169,4.131989433045737,3.2008754981678447,4.514016750703281],\"logg_unc\":[0.1,0.1,0.1,0.1,0.1,0.1,0.1,0.1,0.1,0.1],\"mass\":[\"NaN\",\"NaN\",\"NaN\",\"NaN\",\"NaN\",\"NaN\",\"NaN\",\"NaN\",\"NaN\",\"NaN\"],\"mass_unc\":[\"NaN\",\"NaN\",\"NaN\",\"NaN\",\"NaN\",\"NaN\",\"NaN\",\"NaN\",\"NaN\",\"NaN\"],\"mbol\":[14.625,14.625,14.625,14.625,14.625,14.625,14.625,14.625,14.625,14.625],\"mbol_unc\":[0.014,0.014,0.014,0.014,0.014,0.014,0.014,0.014,0.014,0.014],\"membership\":[\"NaN\",\"NaN\",\"NaN\",\"NaN\",\"NaN\",\"NaN\",\"NaN\",\"NaN\",\"NaN\",\"NaN\"],\"name\":[\"2MASS J00361617+1821104 0\",\"2MASS J00361617+1821104 1\",\"2MASS J00361617+1821104 2\",\"2MASS J00361617+1821104 3\",\"2MASS J00361617+1821104 4\",\"2MASS J00361617+1821104 5\",\"2MASS J00361617+1821104 6\",\"2MASS J00361617+1821104 7\",\"2MASS J00361617+1821104 8\",\"2MASS J00361617+1821104 9\"],\"parallax\":[103.58211411912683,102.73253347606163,114.76844696474718,136.87260708604327,119.9617004628953,115.7005436113456,121.6952228850138,131.18731609691787,101.74362871073913,115.4762928868392],\"parallax_unc\":[0.16495799656373358,0.2760926781801442,0.09402800792935317,0.13206523863991793,0.2005549323437738,0.0765495800315095,0.16834632683469714,0.06333300742060449,0.006676743229473342,0.021971004023799062],\"ra\":[\"NaN\",\"NaN\",\"NaN\",\"NaN\",\"NaN\",\"NaN\",\"NaN\",\"NaN\",\"NaN\",\"NaN\"],\"radius\":[0.08,0.08,0.08,0.08,0.08,0.08,0.08,0.08,0.08,0.08],\"radius_unc\":[0.0,0.0,0.0,0.0,0.0,0.0,0.0,0.0,0.0,0.0],\"reddening\":[0,0,0,0,0,0,0,0,0,0],\"spectral_type\":[73.5,73.5,73.5,73.5,73.5,73.5,73.5,73.5,73.5,73.5],\"spectral_type_unc\":[0.5,0.5,0.5,0.5,0.5,0.5,0.5,0.5,0.5,0.5]},\"selected\":{\"id\":\"8722\"},\"selection_policy\":{\"id\":\"8723\"}},\"id\":\"8655\",\"type\":\"ColumnDataSource\"},{\"attributes\":{\"data_source\":{\"id\":\"8705\"},\"glyph\":{\"id\":\"8706\"},\"hover_glyph\":null,\"muted_glyph\":null,\"nonselection_glyph\":{\"id\":\"8707\"},\"view\":{\"id\":\"8709\"}},\"id\":\"8708\",\"type\":\"GlyphRenderer\"},{\"attributes\":{\"data\":{\"x\":{\"__ndarray__\":\"PQrXo3A9HUBXFnhlgVcdQHEiGSeScR1Aiy666KKLHUClOluqs6UdQL9G/GvEvx1A2VKdLdXZHUD0Xj7v5fMdQA5r37D2DR5AKHeAcgcoHkBCgyE0GEIeQFyPwvUoXB5Adptjtzl2HkCQpwR5SpAeQKqzpTpbqh5AxL9G/GvEHkDey+e9fN4eQPjXiH+N+B5AEuQpQZ4SH0As8MoCrywfQEb8a8S/Rh9AYAgNhtBgH0B6FK5H4XofQJUgTwnylB9AryzwygKvH0DJOJGME8kfQONEMk4k4x9A/VDTDzX9H0CMLrroogsgQJi0ikmrGCBApjpbqrMlIECzwCsLvDIgQMBG/GvEPyBAzczMzMxMIEDaUp0t1VkgQOfYbY7dZiBA9F4+7+VzIEAB5Q5Q7oAgQA5r37D2jSBAG/GvEf+aIEAod4ByB6ggQDX9UNMPtSBAQoMhNBjCIEBPCfKUIM8gQFyPwvUo3CBAaRWTVjHpIEB2m2O3OfYgQIMhNBhCAyFAkKcEeUoQIUCdLdXZUh0hQKqzpTpbKiFAtzl2m2M3IUDEv0b8a0QhQNFFF110USFA3svnvXxeIUDrUbgehWshQPjXiH+NeCFABl5Z4JWFIUAS5ClBnpIhQCBq+qGmnyFALfDKAq+sIUA6dptjt7khQEf8a8S/xiFAVII8JcjTIUBhCA2G0OAhQG6O3ebY7SFAexSuR+H6IUCImn6o6QciQJUgTwnyFCJAoqYfavohIkCvLPDKAi8iQLyywCsLPCJAyTiRjBNJIkDWvmHtG1YiQONEMk4kYyJA8MoCryxwIkD9UNMPNX0iQArXo3A9iiJAF1100UWXIkAk40QyTqQiQDFpFZNWsSJAPu/l816+IkBMdbZUZ8siQFj7hrVv2CJAZoFXFnjlIkByByh3gPIiQICN+NeI/yJAjBPJOJEMI0CamZmZmRkjQKcfavqhJiNAtKU6W6ozI0DBKwu8skAjQM6x2xy7TSNA2zesfcNaI0DovXzey2cjQPVDTT/UdCNAAsodoNyBI0APUO4A5Y4jQBzWvmHtmyNAKVyPwvWoI0A=\",\"dtype\":\"float64\",\"order\":\"little\",\"shape\":[100]},\"y\":{\"__ndarray__\":\"qj0PYUoknEAANPaE1S+cQFUq3ahgO5xAqiDEzOtGnEAAF6vwdlKcQFUNkhQCXpxAqgN5OI1pnEAA+l9cGHWcQFXwRoCjgJxAquYtpC6MnEAA3RTIuZecQFTT++tEo5xAqsniD9CunED/v8kzW7qcQFS2sFfmxZxAqqyXe3HRnED/on6f/NycQFSZZcOH6JxAqo9M5xL0nED+hTMLnv+cQFR8Gi8pC51AqXIBU7QWnUD+aOh2PyKdQFRfz5rKLZ1AqlW2vlU5nUD+S53i4ESdQFRChAZsUJ1AqThrKvdbnUD/LlJOgmedQFMlOXINc51Aqhsglph+nUD+EQe6I4qdQFQI7t2ulZ1Aqf7UATqhnUD+9LslxaydQFTroklQuJ1AqeGJbdvDnUD+13CRZs+dQFTOV7Xx2p1AqMQ+2XzmnUD+uiX9B/KdQFOxDCGT/Z1AqKfzRB4JnkD+ndpoqRSeQFOUwYw0IJ5AqIqosL8rnkD+gI/USjeeQFJ3dvjVQp5AqG1dHGFOnkD9Y0RA7FmeQFJaK2R3ZZ5AqFASiAJxnkD9RvmrjXyeQFI94M8YiJ5AqDPH86OTnkD8Ka4XL5+eQFIglTu6qp5AqBZ8X0W2nkD8DGOD0MGeQFIDSqdbzZ5AqPkwy+bYnkD97xfvceSeQFLm/hL9755AqNzlNoj7nkD80sxaEwefQFLJs36eEp9Ap7+aoiken0D8tYHGtCmfQFKsaOo/NZ9ApqJPDstAn0D8mDYyVkyfQFKPHVbhV59ApoUEemxjn0D8e+ud926fQFJy0sGCep9Apmi55Q2Gn0D8XqAJmZGfQFBVhy0knZ9ApktuUa+on0D8QVV1OrSfQFA4PJnFv59Api4jvVDLn0D8JArh29afQFAb8QRn4p9AphHYKPLtn0D6B79MffmfQCj/UjiEAqBAU3pGykkIoEB+9TlcDw6gQKhwLe7UE6BA0+sggJoZoED+ZhQSYB+gQCjiB6QlJaBAU137NesqoEB92O7HsDCgQKhT4ll2NqBA087V6zs8oED9Scl9AUKgQCjFvA/HR6BAU0CwoYxNoEA=\",\"dtype\":\"float64\",\"order\":\"little\",\"shape\":[100]}},\"selected\":{\"id\":\"8730\"},\"selection_policy\":{\"id\":\"8731\"}},\"id\":\"8710\",\"type\":\"ColumnDataSource\"},{\"attributes\":{\"fill_alpha\":{\"value\":0.7},\"fill_color\":{\"value\":\"blue\"},\"line_color\":{\"value\":\"blue\"},\"size\":{\"value\":8},\"x\":{\"field\":\"distance\"},\"y\":{\"field\":\"Teff\"}},\"id\":\"8691\",\"type\":\"Circle\"},{\"attributes\":{\"line_color\":{\"value\":\"blue\"},\"xs\":{\"field\":\"xs\"},\"ys\":{\"field\":\"ys\"}},\"id\":\"8706\",\"type\":\"MultiLine\"},{\"attributes\":{\"data\":{\"xs\":[[9.65,9.65],[9.73,9.73],[8.71,8.71],[7.31,7.31],[8.34,8.34],[8.64,8.64],[8.22,8.22],[7.62,7.62],[9.83,9.83],[8.66,8.66]],\"ys\":[[2058.0,2072.0],[2067.0,2081.0],[1956.0,1968.0],[1791.0,1803.0],[1914.0,1926.0],[1948.0,1960.0],[1900.0,1912.0],[1829.0,1841.0],[2078.0,2090.0],[1950.0,1962.0]]},\"selected\":{\"id\":\"8726\"},\"selection_policy\":{\"id\":\"8727\"}},\"id\":\"8700\",\"type\":\"ColumnDataSource\"},{\"attributes\":{},\"id\":\"8680\",\"type\":\"WheelZoomTool\"},{\"attributes\":{},\"id\":\"8728\",\"type\":\"Selection\"},{\"attributes\":{\"axis\":{\"id\":\"8669\"},\"ticker\":null},\"id\":\"8672\",\"type\":\"Grid\"},{\"attributes\":{},\"id\":\"8665\",\"type\":\"LinearScale\"},{\"attributes\":{\"data\":{\"xaxis\":{\"__ndarray__\":\"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\",\"dtype\":\"float64\",\"order\":\"little\",\"shape\":[200]},\"yaxis\":{\"__ndarray__\":\"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\",\"dtype\":\"float64\",\"order\":\"little\",\"shape\":[200]}},\"selected\":{\"id\":\"9050\"},\"selection_policy\":{\"id\":\"9051\"}},\"id\":\"8735\",\"type\":\"ColumnDataSource\"},{\"attributes\":{},\"id\":\"8717\",\"type\":\"AllLabels\"},{\"attributes\":{},\"id\":\"8729\",\"type\":\"UnionRenderers\"},{\"attributes\":{\"data\":{\"xs\":[[9.63,9.67],[9.700000000000001,9.76],[8.700000000000001,8.72],[7.3,7.319999999999999],[8.33,8.35],[8.63,8.65],[8.21,8.23],[7.62,7.62],[9.83,9.83],[8.66,8.66]],\"ys\":[[2065.0,2065.0],[2074.0,2074.0],[1962.0,1962.0],[1797.0,1797.0],[1920.0,1920.0],[1954.0,1954.0],[1906.0,1906.0],[1835.0,1835.0],[2084.0,2084.0],[1956.0,1956.0]]},\"selected\":{\"id\":\"8728\"},\"selection_policy\":{\"id\":\"8729\"}},\"id\":\"8705\",\"type\":\"ColumnDataSource\"},{\"attributes\":{\"line_alpha\":{\"value\":0.1},\"line_color\":{\"value\":\"blue\"},\"xs\":{\"field\":\"xs\"},\"ys\":{\"field\":\"ys\"}},\"id\":\"8707\",\"type\":\"MultiLine\"},{\"attributes\":{},\"id\":\"8720\",\"type\":\"AllLabels\"},{\"attributes\":{},\"id\":\"8727\",\"type\":\"UnionRenderers\"},{\"attributes\":{\"source\":{\"id\":\"8705\"}},\"id\":\"8709\",\"type\":\"CDSView\"},{\"attributes\":{},\"id\":\"8721\",\"type\":\"BasicTickFormatter\"},{\"attributes\":{\"axis\":{\"id\":\"8673\"},\"dimension\":1,\"ticker\":null},\"id\":\"8676\",\"type\":\"Grid\"},{\"attributes\":{},\"id\":\"8670\",\"type\":\"BasicTicker\"},{\"attributes\":{},\"id\":\"8718\",\"type\":\"BasicTickFormatter\"},{\"attributes\":{\"axis_label\":\"distance [pc]\",\"formatter\":{\"id\":\"8721\"},\"major_label_policy\":{\"id\":\"8720\"},\"ticker\":{\"id\":\"8670\"}},\"id\":\"8669\",\"type\":\"LinearAxis\"},{\"attributes\":{\"data_source\":{\"id\":\"8700\"},\"glyph\":{\"id\":\"8701\"},\"hover_glyph\":null,\"muted_glyph\":null,\"nonselection_glyph\":{\"id\":\"8702\"},\"view\":{\"id\":\"8704\"}},\"id\":\"8703\",\"type\":\"GlyphRenderer\"},{\"attributes\":{\"source\":{\"id\":\"8655\"}},\"id\":\"8694\",\"type\":\"CDSView\"},{\"attributes\":{\"data\":{\"x\":[],\"y\":[]},\"selected\":{\"id\":\"8724\"},\"selection_policy\":{\"id\":\"8725\"}},\"id\":\"8695\",\"type\":\"ColumnDataSource\"},{\"attributes\":{},\"id\":\"8681\",\"type\":\"SaveTool\"},{\"attributes\":{\"callback\":null,\"names\":[\"points\"],\"tooltips\":[[\"Name\",\"@name\"],[\"distance\",\"@distance\"],[\"Teff\",\"@Teff\"]]},\"id\":\"8657\",\"type\":\"HoverTool\"},{\"attributes\":{},\"id\":\"8722\",\"type\":\"Selection\"},{\"attributes\":{},\"id\":\"9050\",\"type\":\"Selection\"},{\"attributes\":{\"line_alpha\":{\"value\":0.1},\"line_color\":{\"value\":\"blue\"},\"xs\":{\"field\":\"xs\"},\"ys\":{\"field\":\"ys\"}},\"id\":\"8702\",\"type\":\"MultiLine\"},{\"attributes\":{\"fill_alpha\":0.1,\"fill_color\":\"blue\",\"line_color\":null,\"x\":{\"field\":\"xaxis\"},\"y\":{\"field\":\"yaxis\"}},\"id\":\"8736\",\"type\":\"Patch\"},{\"attributes\":{},\"id\":\"8723\",\"type\":\"UnionRenderers\"},{\"attributes\":{},\"id\":\"9051\",\"type\":\"UnionRenderers\"},{\"attributes\":{\"bottom_units\":\"screen\",\"fill_alpha\":0.5,\"fill_color\":\"lightgrey\",\"left_units\":\"screen\",\"level\":\"overlay\",\"line_alpha\":1.0,\"line_color\":\"black\",\"line_dash\":[4,4],\"line_width\":2,\"right_units\":\"screen\",\"syncable\":false,\"top_units\":\"screen\"},\"id\":\"8682\",\"type\":\"BoxAnnotation\"},{\"attributes\":{\"line_alpha\":0.3,\"line_color\":\"blue\",\"x\":{\"field\":\"x\"},\"y\":{\"field\":\"y\"}},\"id\":\"8711\",\"type\":\"Line\"},{\"attributes\":{},\"id\":\"8667\",\"type\":\"LinearScale\"},{\"attributes\":{\"overlay\":{\"id\":\"8682\"}},\"id\":\"8679\",\"type\":\"BoxZoomTool\"},{\"attributes\":{\"items\":[{\"id\":\"8734\"}]},\"id\":\"8733\",\"type\":\"Legend\"},{\"attributes\":{\"source\":{\"id\":\"8700\"}},\"id\":\"8704\",\"type\":\"CDSView\"},{\"attributes\":{},\"id\":\"8677\",\"type\":\"PanTool\"},{\"attributes\":{\"fill_color\":{\"value\":null},\"line_color\":{\"value\":\"red\"},\"line_width\":{\"value\":2},\"size\":{\"value\":13},\"x\":{\"field\":\"x\"},\"y\":{\"field\":\"y\"}},\"id\":\"8696\",\"type\":\"Circle\"},{\"attributes\":{\"source\":{\"id\":\"8695\"}},\"id\":\"8699\",\"type\":\"CDSView\"},{\"attributes\":{\"fill_alpha\":{\"value\":0.1},\"fill_color\":{\"value\":null},\"line_alpha\":{\"value\":0.1},\"line_color\":{\"value\":\"red\"},\"line_width\":{\"value\":2},\"size\":{\"value\":13},\"x\":{\"field\":\"x\"},\"y\":{\"field\":\"y\"}},\"id\":\"8697\",\"type\":\"Circle\"},{\"attributes\":{\"label\":{\"value\":\"Order 1 fit [972.30998613 113.3738235 ]\"},\"renderers\":[{\"id\":\"8713\"}]},\"id\":\"8734\",\"type\":\"LegendItem\"}],\"root_ids\":[\"8658\"]},\"title\":\"Bokeh Application\",\"version\":\"2.3.0\"}};\n",
       "  var render_items = [{\"docid\":\"25299142-7803-498a-889e-62e27975aace\",\"root_ids\":[\"8658\"],\"roots\":{\"8658\":\"13d1c916-84d4-4f10-ae63-d343b6e7f152\"}}];\n",
       "  root.Bokeh.embed.embed_items_notebook(docs_json, render_items);\n",
       "\n",
       "  }\n",
       "  if (root.Bokeh !== undefined) {\n",
       "    embed_document(root);\n",
       "  } else {\n",
       "    var attempts = 0;\n",
       "    var timer = setInterval(function(root) {\n",
       "      if (root.Bokeh !== undefined) {\n",
       "        clearInterval(timer);\n",
       "        embed_document(root);\n",
       "      } else {\n",
       "        attempts++;\n",
       "        if (attempts > 100) {\n",
       "          clearInterval(timer);\n",
       "          console.log(\"Bokeh: ERROR: Unable to run BokehJS code because BokehJS library is missing\");\n",
       "        }\n",
       "      }\n",
       "    }, 10, root)\n",
       "  }\n",
       "})(window);"
      ],
      "application/vnd.bokehjs_exec.v0+json": ""
     },
     "metadata": {
      "application/vnd.bokehjs_exec.v0+json": {
       "id": "8658"
      }
     },
     "output_type": "display_data"
    }
   ],
   "source": [
    "DvT = cat.plot('distance', 'Teff', order=1)"
   ]
  },
  {
   "cell_type": "markdown",
   "metadata": {},
   "source": [
    "Or plot a CMD! You can also pass the difference of two magnitudes as a string like so."
   ]
  },
  {
   "cell_type": "code",
   "execution_count": 40,
   "metadata": {},
   "outputs": [
    {
     "data": {
      "text/html": [
       "\n",
       "\n",
       "\n",
       "\n",
       "\n",
       "\n",
       "  <div class=\"bk-root\" id=\"8181d7ff-d33d-45a5-b31c-ae9c0b7ef1b5\" data-root-id=\"7323\"></div>\n"
      ]
     },
     "metadata": {},
     "output_type": "display_data"
    },
    {
     "data": {
      "application/javascript": [
       "(function(root) {\n",
       "  function embed_document(root) {\n",
       "    \n",
       "  var docs_json = {\"8069301f-201a-4699-b015-74c519e33413\":{\"defs\":[{\"extends\":null,\"module\":null,\"name\":\"DataModel\",\"overrides\":[],\"properties\":[]}],\"roots\":{\"references\":[{\"attributes\":{\"below\":[{\"id\":\"7334\"}],\"center\":[{\"id\":\"7337\"},{\"id\":\"7341\"}],\"height\":500,\"left\":[{\"id\":\"7338\"}],\"renderers\":[{\"id\":\"7358\"},{\"id\":\"7363\"},{\"id\":\"7368\"},{\"id\":\"7373\"}],\"title\":{\"id\":\"7324\"},\"toolbar\":{\"id\":\"7348\"},\"width\":800,\"x_range\":{\"id\":\"7326\"},\"x_scale\":{\"id\":\"7330\"},\"y_range\":{\"id\":\"7328\"},\"y_scale\":{\"id\":\"7332\"}},\"id\":\"7323\",\"subtype\":\"Figure\",\"type\":\"Plot\"},{\"attributes\":{},\"id\":\"7332\",\"type\":\"LinearScale\"},{\"attributes\":{},\"id\":\"7620\",\"type\":\"BasicTickFormatter\"},{\"attributes\":{\"axis\":{\"id\":\"7334\"},\"ticker\":null},\"id\":\"7337\",\"type\":\"Grid\"},{\"attributes\":{},\"id\":\"7326\",\"type\":\"DataRange1d\"},{\"attributes\":{},\"id\":\"7619\",\"type\":\"AllLabels\"},{\"attributes\":{},\"id\":\"7330\",\"type\":\"LinearScale\"},{\"attributes\":{\"fill_color\":{\"value\":null},\"line_color\":{\"value\":\"red\"},\"line_width\":{\"value\":2},\"size\":{\"value\":13},\"x\":{\"field\":\"x\"},\"y\":{\"field\":\"y\"}},\"id\":\"7361\",\"type\":\"Circle\"},{\"attributes\":{\"text\":\"M_2MASS.J-M_2MASS.Ks v Mbol\"},\"id\":\"7324\",\"type\":\"Title\"},{\"attributes\":{\"callback\":null,\"names\":[\"points\"],\"tooltips\":[[\"Name\",\"@name\"],[\"M_2MASS.J-M_2MASS.Ks\",\"@M_2MASS_J_M_2MASS_Ks\"],[\"Mbol\",\"@Mbol\"]]},\"id\":\"7322\",\"type\":\"HoverTool\"},{\"attributes\":{\"data_source\":{\"id\":\"7360\"},\"glyph\":{\"id\":\"7361\"},\"hover_glyph\":null,\"muted_glyph\":null,\"nonselection_glyph\":{\"id\":\"7362\"},\"view\":{\"id\":\"7364\"}},\"id\":\"7363\",\"type\":\"GlyphRenderer\"},{\"attributes\":{},\"id\":\"7626\",\"type\":\"Selection\"},{\"attributes\":{\"axis_label\":\"M_2MASS.J-M_2MASS.Ks\",\"formatter\":{\"id\":\"7623\"},\"major_label_policy\":{\"id\":\"7622\"},\"ticker\":{\"id\":\"7335\"}},\"id\":\"7334\",\"type\":\"LinearAxis\"},{\"attributes\":{},\"id\":\"7624\",\"type\":\"Selection\"},{\"attributes\":{\"line_color\":{\"value\":\"blue\"},\"xs\":{\"field\":\"xs\"},\"ys\":{\"field\":\"ys\"}},\"id\":\"7371\",\"type\":\"MultiLine\"},{\"attributes\":{},\"id\":\"7631\",\"type\":\"UnionRenderers\"},{\"attributes\":{\"overlay\":{\"id\":\"7347\"}},\"id\":\"7344\",\"type\":\"BoxZoomTool\"},{\"attributes\":{\"source\":{\"id\":\"7320\"}},\"id\":\"7359\",\"type\":\"CDSView\"},{\"attributes\":{\"source\":{\"id\":\"7370\"}},\"id\":\"7374\",\"type\":\"CDSView\"},{\"attributes\":{},\"id\":\"7629\",\"type\":\"UnionRenderers\"},{\"attributes\":{\"data\":{\"xs\":[[1.3798828125,1.4482421875],[1.3876953125,1.4560546875],[1.3720703125,1.4404296875],[1.3798828125,1.4482421875],[1.3720703125,1.4404296875],[1.3720703125,1.4404296875],[1.3720703125,1.4404296875],[1.3876953125,1.4560546875],[1.3798828125,1.4482421875],[1.3798828125,1.4482421875]],\"ys\":[[14.702,14.702],[14.684,14.684],[14.925,14.925],[15.305,15.305],[15.019,15.019],[14.942,14.942],[15.051,15.051],[15.215,15.215],[14.662,14.662],[14.937,14.937]]},\"selected\":{\"id\":\"7630\"},\"selection_policy\":{\"id\":\"7631\"}},\"id\":\"7370\",\"type\":\"ColumnDataSource\"},{\"attributes\":{},\"id\":\"7625\",\"type\":\"UnionRenderers\"},{\"attributes\":{\"axis_label\":\"Mbol\",\"formatter\":{\"id\":\"7620\"},\"major_label_policy\":{\"id\":\"7619\"},\"ticker\":{\"id\":\"7339\"}},\"id\":\"7338\",\"type\":\"LinearAxis\"},{\"attributes\":{},\"id\":\"7630\",\"type\":\"Selection\"},{\"attributes\":{\"data_source\":{\"id\":\"7365\"},\"glyph\":{\"id\":\"7366\"},\"hover_glyph\":null,\"muted_glyph\":null,\"nonselection_glyph\":{\"id\":\"7367\"},\"view\":{\"id\":\"7369\"}},\"id\":\"7368\",\"type\":\"GlyphRenderer\"},{\"attributes\":{\"active_multi\":null,\"tools\":[{\"id\":\"7322\"},{\"id\":\"7342\"},{\"id\":\"7343\"},{\"id\":\"7344\"},{\"id\":\"7345\"},{\"id\":\"7346\"}]},\"id\":\"7348\",\"type\":\"Toolbar\"},{\"attributes\":{},\"id\":\"7339\",\"type\":\"BasicTicker\"},{\"attributes\":{\"fill_alpha\":{\"value\":0.7},\"fill_color\":{\"value\":\"blue\"},\"line_color\":{\"value\":\"blue\"},\"size\":{\"value\":8},\"x\":{\"field\":\"M_2MASS.J-M_2MASS.Ks\"},\"y\":{\"field\":\"Mbol\"}},\"id\":\"7356\",\"type\":\"Circle\"},{\"attributes\":{\"axis\":{\"id\":\"7338\"},\"dimension\":1,\"ticker\":null},\"id\":\"7341\",\"type\":\"Grid\"},{\"attributes\":{},\"id\":\"7345\",\"type\":\"WheelZoomTool\"},{\"attributes\":{},\"id\":\"7627\",\"type\":\"UnionRenderers\"},{\"attributes\":{\"source\":{\"id\":\"7360\"}},\"id\":\"7364\",\"type\":\"CDSView\"},{\"attributes\":{},\"id\":\"7335\",\"type\":\"BasicTicker\"},{\"attributes\":{\"fill_alpha\":{\"value\":0.1},\"fill_color\":{\"value\":\"blue\"},\"line_alpha\":{\"value\":0.1},\"line_color\":{\"value\":\"blue\"},\"size\":{\"value\":8},\"x\":{\"field\":\"M_2MASS.J-M_2MASS.Ks\"},\"y\":{\"field\":\"Mbol\"}},\"id\":\"7357\",\"type\":\"Circle\"},{\"attributes\":{\"source\":{\"id\":\"7365\"}},\"id\":\"7369\",\"type\":\"CDSView\"},{\"attributes\":{\"data\":{\"xs\":[[1.4140625,1.4140625],[1.421875,1.421875],[1.40625,1.40625],[1.4140625,1.4140625],[1.40625,1.40625],[1.40625,1.40625],[1.40625,1.40625],[1.421875,1.421875],[1.4140625,1.4140625],[1.4140625,1.4140625]],\"ys\":[[14.688,14.716],[14.67,14.697999999999999],[14.911000000000001,14.939],[15.291,15.318999999999999],[15.005,15.033],[14.928,14.956],[15.037,15.065],[15.201,15.229],[14.648000000000001,14.676],[14.923,14.950999999999999]]},\"selected\":{\"id\":\"7628\"},\"selection_policy\":{\"id\":\"7629\"}},\"id\":\"7365\",\"type\":\"ColumnDataSource\"},{\"attributes\":{},\"id\":\"7623\",\"type\":\"BasicTickFormatter\"},{\"attributes\":{\"data_source\":{\"id\":\"7370\"},\"glyph\":{\"id\":\"7371\"},\"hover_glyph\":null,\"muted_glyph\":null,\"nonselection_glyph\":{\"id\":\"7372\"},\"view\":{\"id\":\"7374\"}},\"id\":\"7373\",\"type\":\"GlyphRenderer\"},{\"attributes\":{\"data\":{\"2MASS.H\":[11.5859375,11.5859375,11.5859375,11.5859375,11.5859375,11.5859375,11.5859375,11.5859375,11.5859375,11.5859375],\"2MASS.H_unc\":[0.029998779296875,0.029998779296875,0.029998779296875,0.029998779296875,0.029998779296875,0.029998779296875,0.029998779296875,0.029998779296875,0.029998779296875,0.029998779296875],\"2MASS.J\":[12.46875,12.46875,12.46875,12.46875,12.46875,12.46875,12.46875,12.46875,12.46875,12.46875],\"2MASS.J_unc\":[0.0269927978515625,0.0269927978515625,0.0269927978515625,0.0269927978515625,0.0269927978515625,0.0269927978515625,0.0269927978515625,0.0269927978515625,0.0269927978515625,0.0269927978515625],\"2MASS.Ks\":[11.0546875,11.0546875,11.0546875,11.0546875,11.0546875,11.0546875,11.0546875,11.0546875,11.0546875,11.0546875],\"2MASS.Ks_unc\":[0.02099609375,0.02099609375,0.02099609375,0.02099609375,0.02099609375,0.02099609375,0.02099609375,0.02099609375,0.02099609375,0.02099609375],\"Lbol\":[4.018097208690082e+29,4.08499466002948e+29,3.2734229477278346e+29,2.3056881446834444e+29,3.0012205665522703e+29,3.2210190812084206e+29,2.9154758456404727e+29,2.5053923978014373e+29,4.1693931474003925e+29,3.235948465988755e+29],\"Lbol_sun\":[-3.979,-3.972,-4.068,-4.22,-4.106,-4.075,-4.118,-4.184,-3.963,-4.073],\"Lbol_sun_unc\":[0.006,0.006,0.006,0.006,0.006,0.006,0.006,0.006,0.006,0.006],\"Lbol_unc\":[5.577751880114995e+27,5.969435663119675e+27,4.401373072686537e+27,3.1190944819920306e+27,4.040709194327996e+27,4.331939329590231e+27,3.9270971499680895e+27,3.319209644478828e+27,5.52372153704129e+27,4.287069509260001e+27],\"M_2MASS.H\":[11.6640625,11.640625,11.890625,12.265625,11.984375,11.90625,12.015625,12.171875,11.625,11.8984375],\"M_2MASS.H_unc\":[0.029998779296875,0.029998779296875,0.029998779296875,0.029998779296875,0.029998779296875,0.029998779296875,0.029998779296875,0.029998779296875,0.029998779296875,0.029998779296875],\"M_2MASS.J\":[12.546875,12.53125,12.765625,13.1484375,12.859375,12.78125,12.890625,13.0625,12.5078125,12.78125],\"M_2MASS.J-M_2MASS.Ks\":[1.4140625,1.421875,1.40625,1.4140625,1.40625,1.40625,1.40625,1.421875,1.4140625,1.4140625],\"M_2MASS.J-M_2MASS.Ks_unc\":[0.0341796875,0.0341796875,0.0341796875,0.0341796875,0.0341796875,0.0341796875,0.0341796875,0.0341796875,0.0341796875,0.0341796875],\"M_2MASS.J_unc\":[0.0269927978515625,0.0269927978515625,0.0269927978515625,0.0269927978515625,0.0269927978515625,0.0269927978515625,0.0269927978515625,0.0269927978515625,0.0269927978515625,0.0269927978515625],\"M_2MASS.Ks\":[11.1328125,11.109375,11.359375,11.734375,11.453125,11.375,11.484375,11.640625,11.09375,11.3671875],\"M_2MASS.Ks_unc\":[0.02099609375,0.02099609375,0.02099609375,0.02099609375,0.02099609375,0.02099609375,0.02099609375,0.02099609375,0.02099609375,0.02099609375],\"M_2MASS_J_M_2MASS_Ks\":[1.4140625,1.421875,1.40625,1.4140625,1.40625,1.40625,1.40625,1.421875,1.4140625,1.4140625],\"M_SDSS.g\":[22.609375,22.59375,22.828125,23.21875,22.921875,22.84375,22.953125,23.125,22.5625,22.84375],\"M_SDSS.g_unc\":[0.136962890625,0.136962890625,0.136962890625,0.136962890625,0.136962890625,0.136962890625,0.136962890625,0.136962890625,0.136962890625,0.136962890625],\"M_SDSS.i\":[17.25,17.234375,17.46875,17.84375,17.5625,17.484375,17.59375,17.765625,17.21875,17.484375],\"M_SDSS.i_unc\":[0.005001068115234375,0.006000518798828125,0.005001068115234375,0.005001068115234375,0.005001068115234375,0.005001068115234375,0.005001068115234375,0.005001068115234375,0.005001068115234375,0.005001068115234375],\"M_SDSS.r\":[19.765625,19.75,19.984375,20.375,20.078125,20.0,20.109375,20.28125,19.71875,20.0],\"M_SDSS.r_unc\":[0.0189971923828125,0.0189971923828125,0.0189971923828125,0.0189971923828125,0.0189971923828125,0.0189971923828125,0.0189971923828125,0.0189971923828125,0.0189971923828125,0.0189971923828125],\"M_SDSS.u\":[24.765625,24.75,24.984375,25.375,25.078125,24.984375,25.109375,25.28125,24.71875,24.984375],\"M_SDSS.u_unc\":[1.388671875,1.388671875,1.388671875,1.388671875,1.388671875,1.388671875,1.388671875,1.388671875,1.388671875,1.388671875],\"M_SDSS.z\":[15.296875,15.28125,15.515625,15.8984375,15.609375,15.53125,15.640625,15.8125,15.2578125,15.53125],\"M_SDSS.z_unc\":[0.005001068115234375,0.006000518798828125,0.005001068115234375,0.005001068115234375,0.005001068115234375,0.005001068115234375,0.005001068115234375,0.005001068115234375,0.005001068115234375,0.005001068115234375],\"Mbol\":[14.702,14.684,14.925,15.305,15.019,14.942,15.051,15.215,14.662,14.937],\"Mbol_unc\":[0.014,0.014,0.014,0.014,0.014,0.014,0.014,0.014,0.014,0.014],\"SDSS.g\":[22.53125,22.53125,22.53125,22.53125,22.53125,22.53125,22.53125,22.53125,22.53125,22.53125],\"SDSS.g_unc\":[0.136962890625,0.136962890625,0.136962890625,0.136962890625,0.136962890625,0.136962890625,0.136962890625,0.136962890625,0.136962890625,0.136962890625],\"SDSS.i\":[17.171875,17.171875,17.171875,17.171875,17.171875,17.171875,17.171875,17.171875,17.171875,17.171875],\"SDSS.i_unc\":[0.005001068115234375,0.005001068115234375,0.005001068115234375,0.005001068115234375,0.005001068115234375,0.005001068115234375,0.005001068115234375,0.005001068115234375,0.005001068115234375,0.005001068115234375],\"SDSS.r\":[19.6875,19.6875,19.6875,19.6875,19.6875,19.6875,19.6875,19.6875,19.6875,19.6875],\"SDSS.r_unc\":[0.0189971923828125,0.0189971923828125,0.0189971923828125,0.0189971923828125,0.0189971923828125,0.0189971923828125,0.0189971923828125,0.0189971923828125,0.0189971923828125,0.0189971923828125],\"SDSS.u\":[24.6875,24.6875,24.6875,24.6875,24.6875,24.6875,24.6875,24.6875,24.6875,24.6875],\"SDSS.u_unc\":[1.388671875,1.388671875,1.388671875,1.388671875,1.388671875,1.388671875,1.388671875,1.388671875,1.388671875,1.388671875],\"SDSS.z\":[15.21875,15.21875,15.21875,15.21875,15.21875,15.21875,15.21875,15.21875,15.21875,15.21875],\"SDSS.z_unc\":[0.005001068115234375,0.005001068115234375,0.005001068115234375,0.005001068115234375,0.005001068115234375,0.005001068115234375,0.005001068115234375,0.005001068115234375,0.005001068115234375,0.005001068115234375],\"SpT\":[\"L3.5V\",\"L3.5V\",\"L3.5V\",\"L3.5V\",\"L3.5V\",\"L3.5V\",\"L3.5V\",\"L3.5V\",\"L3.5V\",\"L3.5V\"],\"Teff\":[2065.0,2074.0,1962.0,1797.0,1920.0,1954.0,1906.0,1835.0,2084.0,1956.0],\"Teff_unc\":[7.0,7.0,6.0,6.0,6.0,6.0,6.0,6.0,6.0,6.0],\"age\":[\"NaN\",\"NaN\",\"NaN\",\"NaN\",\"NaN\",\"NaN\",\"NaN\",\"NaN\",\"NaN\",\"NaN\"],\"age_unc\":[\"NaN\",\"NaN\",\"NaN\",\"NaN\",\"NaN\",\"NaN\",\"NaN\",\"NaN\",\"NaN\",\"NaN\"],\"dec\":[\"NaN\",\"NaN\",\"NaN\",\"NaN\",\"NaN\",\"NaN\",\"NaN\",\"NaN\",\"NaN\",\"NaN\"],\"distance\":[9.65,9.73,8.71,7.31,8.34,8.64,8.22,7.62,9.83,8.66],\"distance_unc\":[0.02,0.03,0.01,0.01,0.01,0.01,0.01,0.0,0.0,0.0],\"fbol\":[3.606241925902236e-11,3.606241925902236e-11,3.606241925902236e-11,3.606241925902236e-11,3.606241925902236e-11,3.606241925902236e-11,3.606241925902236e-11,3.606241925902236e-11,3.606241925902236e-11,3.606241925902236e-11],\"fbol_unc\":[4.777644009490312e-13,4.777644009490312e-13,4.777644009490312e-13,4.777644009490312e-13,4.777644009490312e-13,4.777644009490312e-13,4.777644009490312e-13,4.777644009490312e-13,4.777644009490312e-13,4.777644009490312e-13],\"logg\":[2.856391307885212,4.232968950966258,3.1630500787947624,3.678575759282893,3.5627109772294623,3.1614956637846587,5.447847995329169,4.131989433045737,3.2008754981678447,4.514016750703281],\"logg_unc\":[0.1,0.1,0.1,0.1,0.1,0.1,0.1,0.1,0.1,0.1],\"mass\":[\"NaN\",\"NaN\",\"NaN\",\"NaN\",\"NaN\",\"NaN\",\"NaN\",\"NaN\",\"NaN\",\"NaN\"],\"mass_unc\":[\"NaN\",\"NaN\",\"NaN\",\"NaN\",\"NaN\",\"NaN\",\"NaN\",\"NaN\",\"NaN\",\"NaN\"],\"mbol\":[14.625,14.625,14.625,14.625,14.625,14.625,14.625,14.625,14.625,14.625],\"mbol_unc\":[0.014,0.014,0.014,0.014,0.014,0.014,0.014,0.014,0.014,0.014],\"membership\":[\"NaN\",\"NaN\",\"NaN\",\"NaN\",\"NaN\",\"NaN\",\"NaN\",\"NaN\",\"NaN\",\"NaN\"],\"name\":[\"2MASS J00361617+1821104 0\",\"2MASS J00361617+1821104 1\",\"2MASS J00361617+1821104 2\",\"2MASS J00361617+1821104 3\",\"2MASS J00361617+1821104 4\",\"2MASS J00361617+1821104 5\",\"2MASS J00361617+1821104 6\",\"2MASS J00361617+1821104 7\",\"2MASS J00361617+1821104 8\",\"2MASS J00361617+1821104 9\"],\"parallax\":[103.58211411912683,102.73253347606163,114.76844696474718,136.87260708604327,119.9617004628953,115.7005436113456,121.6952228850138,131.18731609691787,101.74362871073913,115.4762928868392],\"parallax_unc\":[0.16495799656373358,0.2760926781801442,0.09402800792935317,0.13206523863991793,0.2005549323437738,0.0765495800315095,0.16834632683469714,0.06333300742060449,0.006676743229473342,0.021971004023799062],\"ra\":[\"NaN\",\"NaN\",\"NaN\",\"NaN\",\"NaN\",\"NaN\",\"NaN\",\"NaN\",\"NaN\",\"NaN\"],\"radius\":[0.08,0.08,0.08,0.08,0.08,0.08,0.08,0.08,0.08,0.08],\"radius_unc\":[0.0,0.0,0.0,0.0,0.0,0.0,0.0,0.0,0.0,0.0],\"reddening\":[0,0,0,0,0,0,0,0,0,0],\"spectral_type\":[73.5,73.5,73.5,73.5,73.5,73.5,73.5,73.5,73.5,73.5],\"spectral_type_unc\":[0.5,0.5,0.5,0.5,0.5,0.5,0.5,0.5,0.5,0.5]},\"selected\":{\"id\":\"7624\"},\"selection_policy\":{\"id\":\"7625\"}},\"id\":\"7320\",\"type\":\"ColumnDataSource\"},{\"attributes\":{},\"id\":\"7328\",\"type\":\"DataRange1d\"},{\"attributes\":{},\"id\":\"7342\",\"type\":\"PanTool\"},{\"attributes\":{\"line_alpha\":{\"value\":0.1},\"line_color\":{\"value\":\"blue\"},\"xs\":{\"field\":\"xs\"},\"ys\":{\"field\":\"ys\"}},\"id\":\"7367\",\"type\":\"MultiLine\"},{\"attributes\":{},\"id\":\"7346\",\"type\":\"SaveTool\"},{\"attributes\":{\"data\":{\"x\":[],\"y\":[]},\"selected\":{\"id\":\"7626\"},\"selection_policy\":{\"id\":\"7627\"}},\"id\":\"7360\",\"type\":\"ColumnDataSource\"},{\"attributes\":{\"line_color\":{\"value\":\"blue\"},\"xs\":{\"field\":\"xs\"},\"ys\":{\"field\":\"ys\"}},\"id\":\"7366\",\"type\":\"MultiLine\"},{\"attributes\":{\"bottom_units\":\"screen\",\"fill_alpha\":0.5,\"fill_color\":\"lightgrey\",\"left_units\":\"screen\",\"level\":\"overlay\",\"line_alpha\":1.0,\"line_color\":\"black\",\"line_dash\":[4,4],\"line_width\":2,\"right_units\":\"screen\",\"syncable\":false,\"top_units\":\"screen\"},\"id\":\"7347\",\"type\":\"BoxAnnotation\"},{\"attributes\":{\"data_source\":{\"id\":\"7320\"},\"glyph\":{\"id\":\"7356\"},\"hover_glyph\":null,\"muted_glyph\":null,\"name\":\"points\",\"nonselection_glyph\":{\"id\":\"7357\"},\"view\":{\"id\":\"7359\"}},\"id\":\"7358\",\"type\":\"GlyphRenderer\"},{\"attributes\":{},\"id\":\"7622\",\"type\":\"AllLabels\"},{\"attributes\":{\"fill_alpha\":{\"value\":0.1},\"fill_color\":{\"value\":null},\"line_alpha\":{\"value\":0.1},\"line_color\":{\"value\":\"red\"},\"line_width\":{\"value\":2},\"size\":{\"value\":13},\"x\":{\"field\":\"x\"},\"y\":{\"field\":\"y\"}},\"id\":\"7362\",\"type\":\"Circle\"},{\"attributes\":{},\"id\":\"7628\",\"type\":\"Selection\"},{\"attributes\":{},\"id\":\"7343\",\"type\":\"ResetTool\"},{\"attributes\":{\"line_alpha\":{\"value\":0.1},\"line_color\":{\"value\":\"blue\"},\"xs\":{\"field\":\"xs\"},\"ys\":{\"field\":\"ys\"}},\"id\":\"7372\",\"type\":\"MultiLine\"}],\"root_ids\":[\"7323\"]},\"title\":\"Bokeh Application\",\"version\":\"2.3.0\"}};\n",
       "  var render_items = [{\"docid\":\"8069301f-201a-4699-b015-74c519e33413\",\"root_ids\":[\"7323\"],\"roots\":{\"7323\":\"8181d7ff-d33d-45a5-b31c-ae9c0b7ef1b5\"}}];\n",
       "  root.Bokeh.embed.embed_items_notebook(docs_json, render_items);\n",
       "\n",
       "  }\n",
       "  if (root.Bokeh !== undefined) {\n",
       "    embed_document(root);\n",
       "  } else {\n",
       "    var attempts = 0;\n",
       "    var timer = setInterval(function(root) {\n",
       "      if (root.Bokeh !== undefined) {\n",
       "        clearInterval(timer);\n",
       "        embed_document(root);\n",
       "      } else {\n",
       "        attempts++;\n",
       "        if (attempts > 100) {\n",
       "          clearInterval(timer);\n",
       "          console.log(\"Bokeh: ERROR: Unable to run BokehJS code because BokehJS library is missing\");\n",
       "        }\n",
       "      }\n",
       "    }, 10, root)\n",
       "  }\n",
       "})(window);"
      ],
      "application/vnd.bokehjs_exec.v0+json": ""
     },
     "metadata": {
      "application/vnd.bokehjs_exec.v0+json": {
       "id": "7323"
      }
     },
     "output_type": "display_data"
    }
   ],
   "source": [
    "cmd = cat.plot('M_2MASS.J-M_2MASS.Ks', 'Mbol')"
   ]
  },
  {
   "cell_type": "markdown",
   "metadata": {},
   "source": [
    "We can then retrieve the SED for some sources like so:"
   ]
  },
  {
   "cell_type": "code",
   "execution_count": 41,
   "metadata": {},
   "outputs": [
    {
     "data": {
      "text/html": [
       "\n",
       "\n",
       "\n",
       "\n",
       "\n",
       "\n",
       "  <div class=\"bk-root\" id=\"db179442-5eef-449a-b3ab-2471faf71af9\" data-root-id=\"7713\"></div>\n"
      ]
     },
     "metadata": {},
     "output_type": "display_data"
    },
    {
     "data": {
      "application/javascript": [
       "(function(root) {\n",
       "  function embed_document(root) {\n",
       "    \n",
       "  var docs_json = {\"89c5cb5f-ad63-4433-9531-840aaf3e0585\":{\"defs\":[{\"extends\":null,\"module\":null,\"name\":\"DataModel\",\"overrides\":[],\"properties\":[]}],\"roots\":{\"references\":[{\"attributes\":{\"below\":[{\"id\":\"7724\"}],\"center\":[{\"id\":\"7727\"},{\"id\":\"7731\"},{\"id\":\"7762\"}],\"height\":500,\"left\":[{\"id\":\"7728\"}],\"renderers\":[{\"id\":\"7750\"},{\"id\":\"7767\"},{\"id\":\"7772\"},{\"id\":\"7797\"},{\"id\":\"7818\"},{\"id\":\"7823\"}],\"title\":{\"id\":\"7714\"},\"toolbar\":{\"id\":\"7738\"},\"width\":800,\"x_range\":{\"id\":\"7846\"},\"x_scale\":{\"id\":\"7720\"},\"y_range\":{\"id\":\"7847\"},\"y_scale\":{\"id\":\"7722\"}},\"id\":\"7713\",\"subtype\":\"Figure\",\"type\":\"Plot\"},{\"attributes\":{\"data_source\":{\"id\":\"7769\"},\"glyph\":{\"id\":\"7770\"},\"hover_glyph\":null,\"muted_glyph\":null,\"nonselection_glyph\":{\"id\":\"7771\"},\"view\":{\"id\":\"7773\"}},\"id\":\"7772\",\"type\":\"GlyphRenderer\"},{\"attributes\":{},\"id\":\"7812\",\"type\":\"Selection\"},{\"attributes\":{},\"id\":\"7722\",\"type\":\"LogScale\"},{\"attributes\":{\"source\":{\"id\":\"7820\"}},\"id\":\"7824\",\"type\":\"CDSView\"},{\"attributes\":{},\"id\":\"7813\",\"type\":\"UnionRenderers\"},{\"attributes\":{\"click_policy\":\"hide\",\"items\":[{\"id\":\"7763\"},{\"id\":\"7788\"},{\"id\":\"7845\"}]},\"id\":\"7762\",\"type\":\"Legend\"},{\"attributes\":{\"source\":{\"id\":\"7764\"}},\"id\":\"7768\",\"type\":\"CDSView\"},{\"attributes\":{},\"id\":\"7760\",\"type\":\"UnionRenderers\"},{\"attributes\":{\"axis_label\":\"Flux Density [erg / (Angstrom cm2 s)]\",\"formatter\":{\"id\":\"7755\"},\"major_label_policy\":{\"id\":\"7754\"},\"ticker\":{\"id\":\"7729\"}},\"id\":\"7728\",\"type\":\"LogAxis\"},{\"attributes\":{\"fill_alpha\":{\"value\":0.1},\"fill_color\":{\"value\":\"#ff7f0e\"},\"line_alpha\":{\"value\":0.1},\"line_color\":{\"value\":\"#ff7f0e\"},\"size\":{\"value\":8},\"x\":{\"field\":\"x\"},\"y\":{\"field\":\"y\"}},\"id\":\"7796\",\"type\":\"Circle\"},{\"attributes\":{\"source\":{\"id\":\"7769\"}},\"id\":\"7773\",\"type\":\"CDSView\"},{\"attributes\":{},\"id\":\"7732\",\"type\":\"PanTool\"},{\"attributes\":{\"line_alpha\":0.3,\"x\":{\"field\":\"x\"},\"y\":{\"field\":\"y\"}},\"id\":\"7821\",\"type\":\"Line\"},{\"attributes\":{\"label\":{\"value\":\"2065 K\"},\"renderers\":[{\"id\":\"7772\"}]},\"id\":\"7788\",\"type\":\"LegendItem\"},{\"attributes\":{\"data_source\":{\"id\":\"7793\"},\"glyph\":{\"id\":\"7795\"},\"hover_glyph\":null,\"muted_glyph\":null,\"name\":\"photometry\",\"nonselection_glyph\":{\"id\":\"7796\"},\"view\":{\"id\":\"7798\"}},\"id\":\"7797\",\"type\":\"GlyphRenderer\"},{\"attributes\":{},\"id\":\"7785\",\"type\":\"Selection\"},{\"attributes\":{\"fill_alpha\":{\"value\":0.1},\"fill_color\":{\"value\":\"#1f77b4\"},\"line_alpha\":{\"value\":0.1},\"line_color\":{\"value\":\"#1f77b4\"},\"size\":{\"value\":8},\"x\":{\"field\":\"x\"},\"y\":{\"field\":\"y\"}},\"id\":\"7749\",\"type\":\"Circle\"},{\"attributes\":{\"line_color\":{\"value\":\"#ff7f0e\"},\"xs\":{\"field\":\"xs\"},\"ys\":{\"field\":\"ys\"}},\"id\":\"7816\",\"type\":\"MultiLine\"},{\"attributes\":{\"overlay\":{\"id\":\"7737\"}},\"id\":\"7734\",\"type\":\"BoxZoomTool\"},{\"attributes\":{\"line_alpha\":0.1,\"x\":{\"field\":\"x\"},\"y\":{\"field\":\"y\"}},\"id\":\"7822\",\"type\":\"Line\"},{\"attributes\":{},\"id\":\"7840\",\"type\":\"Selection\"},{\"attributes\":{},\"id\":\"7735\",\"type\":\"WheelZoomTool\"},{\"attributes\":{\"line_alpha\":{\"value\":0.1},\"line_color\":{\"value\":\"#1f77b4\"},\"xs\":{\"field\":\"xs\"},\"ys\":{\"field\":\"ys\"}},\"id\":\"7766\",\"type\":\"MultiLine\"},{\"attributes\":{\"fill_alpha\":{\"value\":0.7},\"fill_color\":{\"value\":\"#ff7f0e\"},\"line_color\":{\"value\":\"#ff7f0e\"},\"size\":{\"value\":8},\"x\":{\"field\":\"x\"},\"y\":{\"field\":\"y\"}},\"id\":\"7795\",\"type\":\"Circle\"},{\"attributes\":{\"source\":{\"id\":\"7793\"}},\"id\":\"7798\",\"type\":\"CDSView\"},{\"attributes\":{},\"id\":\"7783\",\"type\":\"Selection\"},{\"attributes\":{},\"id\":\"7754\",\"type\":\"AllLabels\"},{\"attributes\":{\"axis_label\":\"Wavelength [um]\",\"formatter\":{\"id\":\"7758\"},\"major_label_policy\":{\"id\":\"7757\"},\"ticker\":{\"id\":\"7725\"}},\"id\":\"7724\",\"type\":\"LogAxis\"},{\"attributes\":{\"data_source\":{\"id\":\"7815\"},\"glyph\":{\"id\":\"7816\"},\"hover_glyph\":null,\"muted_glyph\":null,\"nonselection_glyph\":{\"id\":\"7817\"},\"view\":{\"id\":\"7819\"}},\"id\":\"7818\",\"type\":\"GlyphRenderer\"},{\"attributes\":{\"active_multi\":null,\"tools\":[{\"id\":\"7732\"},{\"id\":\"7733\"},{\"id\":\"7734\"},{\"id\":\"7735\"},{\"id\":\"7736\"},{\"id\":\"7744\"},{\"id\":\"7791\"}]},\"id\":\"7738\",\"type\":\"Toolbar\"},{\"attributes\":{\"end\":3.4484989688170484e-15,\"start\":1.2879937306415636e-19},\"id\":\"7847\",\"type\":\"Range1d\"},{\"attributes\":{},\"id\":\"7786\",\"type\":\"UnionRenderers\"},{\"attributes\":{\"data\":{\"x\":{\"__ndarray__\":\"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\",\"dtype\":\"float32\",\"order\":\"little\",\"shape\":[2004]},\"y\":{\"__ndarray__\":\"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\",\"dtype\":\"float32\",\"order\":\"little\",\"shape\":[2004]}},\"selected\":{\"id\":\"7842\"},\"selection_policy\":{\"id\":\"7843\"}},\"id\":\"7820\",\"type\":\"ColumnDataSource\"},{\"attributes\":{},\"id\":\"7842\",\"type\":\"Selection\"},{\"attributes\":{\"line_color\":{\"value\":\"#1f77b4\"},\"xs\":{\"field\":\"xs\"},\"ys\":{\"field\":\"ys\"}},\"id\":\"7765\",\"type\":\"MultiLine\"},{\"attributes\":{\"data\":{\"xs\":[[0.359375,0.359375],[0.464111328125,0.464111328125],[0.6123046875,0.6123046875],[0.744140625,0.744140625],[0.8896484375,0.8896484375],[1.2353515625,1.2353515625],[1.662109375,1.662109375],[2.158203125,2.158203125]],\"ys\":[[-1.259852896150366e-19,1.0290601245644506e-18],[4.362595474075613e-18,5.622145416841176e-18],[3.083432474566935e-17,3.1932560757274973e-17],[1.7661842966822631e-16,1.7825302221033665e-16],[6.437559754598636e-16,6.497138968296907e-16],[2.926115763057332e-15,3.075319150331785e-15],[2.3338085044562534e-15,2.466438843322501e-15],[1.481512447103984e-15,1.5399416805095614e-15]]},\"selected\":{\"id\":\"7783\"},\"selection_policy\":{\"id\":\"7784\"}},\"id\":\"7764\",\"type\":\"ColumnDataSource\"},{\"attributes\":{\"line_alpha\":{\"value\":0.1},\"line_color\":{\"value\":\"#ff7f0e\"},\"xs\":{\"field\":\"xs\"},\"ys\":{\"field\":\"ys\"}},\"id\":\"7817\",\"type\":\"MultiLine\"},{\"attributes\":{\"data_source\":{\"id\":\"7746\"},\"glyph\":{\"id\":\"7748\"},\"hover_glyph\":null,\"muted_glyph\":null,\"name\":\"photometry\",\"nonselection_glyph\":{\"id\":\"7749\"},\"view\":{\"id\":\"7751\"}},\"id\":\"7750\",\"type\":\"GlyphRenderer\"},{\"attributes\":{},\"id\":\"7720\",\"type\":\"LogScale\"},{\"attributes\":{\"text\":\"SED Catalog\"},\"id\":\"7714\",\"type\":\"Title\"},{\"attributes\":{\"source\":{\"id\":\"7815\"}},\"id\":\"7819\",\"type\":\"CDSView\"},{\"attributes\":{},\"id\":\"7733\",\"type\":\"ResetTool\"},{\"attributes\":{\"bottom_units\":\"screen\",\"fill_alpha\":0.5,\"fill_color\":\"lightgrey\",\"left_units\":\"screen\",\"level\":\"overlay\",\"line_alpha\":1.0,\"line_color\":\"black\",\"line_dash\":[4,4],\"line_width\":2,\"right_units\":\"screen\",\"syncable\":false,\"top_units\":\"screen\"},\"id\":\"7737\",\"type\":\"BoxAnnotation\"},{\"attributes\":{\"data\":{\"xs\":[[0.359375,0.359375],[0.464111328125,0.464111328125],[0.6123046875,0.6123046875],[0.744140625,0.744140625],[0.8896484375,0.8896484375],[1.2353515625,1.2353515625],[1.662109375,1.662109375],[2.158203125,2.158203125]],\"ys\":[[-7.187367287731736e-20,5.870711651339428e-19],[2.488828346213147e-18,3.207392242328294e-18],[1.7590753467607264e-17,1.8217288962992683e-17],[1.0222003353388202e-16,1.0316607356369445e-16],[3.6991017141423734e-16,3.733336669609948e-16],[1.6813824255646419e-15,1.7671165432524065e-15],[1.3410353252483974e-15,1.4172463636775094e-15],[8.512954351516213e-16,8.848695976737168e-16]]},\"selected\":{\"id\":\"7840\"},\"selection_policy\":{\"id\":\"7841\"}},\"id\":\"7815\",\"type\":\"ColumnDataSource\"},{\"attributes\":{\"callback\":null,\"mode\":\"vline\",\"names\":[\"photometry\",\"nondetection\"],\"tooltips\":[[\"Band\",\"@desc\"],[\"Wave\",\"@x\"],[\"Flux\",\"@y\"],[\"Unc\",\"@z\"]]},\"id\":\"7791\",\"type\":\"HoverTool\"},{\"attributes\":{\"ticker\":null},\"id\":\"7755\",\"type\":\"LogTickFormatter\"},{\"attributes\":{},\"id\":\"7759\",\"type\":\"Selection\"},{\"attributes\":{\"data_source\":{\"id\":\"7820\"},\"glyph\":{\"id\":\"7821\"},\"hover_glyph\":null,\"muted_glyph\":null,\"nonselection_glyph\":{\"id\":\"7822\"},\"view\":{\"id\":\"7824\"}},\"id\":\"7823\",\"type\":\"GlyphRenderer\"},{\"attributes\":{\"data\":{\"x\":{\"__ndarray__\":\"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\",\"dtype\":\"float32\",\"order\":\"little\",\"shape\":[2004]},\"y\":{\"__ndarray__\":\"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\",\"dtype\":\"float32\",\"order\":\"little\",\"shape\":[2004]}},\"selected\":{\"id\":\"7785\"},\"selection_policy\":{\"id\":\"7786\"}},\"id\":\"7769\",\"type\":\"ColumnDataSource\"},{\"attributes\":{},\"id\":\"7757\",\"type\":\"AllLabels\"},{\"attributes\":{\"callback\":null,\"mode\":\"vline\",\"names\":[\"photometry\",\"nondetection\"],\"tooltips\":[[\"Band\",\"@desc\"],[\"Wave\",\"@x\"],[\"Flux\",\"@y\"],[\"Unc\",\"@z\"]]},\"id\":\"7744\",\"type\":\"HoverTool\"},{\"attributes\":{},\"id\":\"7736\",\"type\":\"SaveTool\"},{\"attributes\":{\"label\":{\"value\":\"Photometry\"},\"renderers\":[{\"id\":\"7750\"},{\"id\":\"7797\"}]},\"id\":\"7763\",\"type\":\"LegendItem\"},{\"attributes\":{\"num_minor_ticks\":10},\"id\":\"7729\",\"type\":\"LogTicker\"},{\"attributes\":{\"num_minor_ticks\":10},\"id\":\"7725\",\"type\":\"LogTicker\"},{\"attributes\":{\"data_source\":{\"id\":\"7764\"},\"glyph\":{\"id\":\"7765\"},\"hover_glyph\":null,\"muted_glyph\":null,\"nonselection_glyph\":{\"id\":\"7766\"},\"view\":{\"id\":\"7768\"}},\"id\":\"7767\",\"type\":\"GlyphRenderer\"},{\"attributes\":{\"line_alpha\":0.3,\"x\":{\"field\":\"x\"},\"y\":{\"field\":\"y\"}},\"id\":\"7770\",\"type\":\"Line\"},{\"attributes\":{\"data\":{\"desc\":[\"SDSS.u\",\"SDSS.g\",\"SDSS.r\",\"SDSS.i\",\"SDSS.z\",\"2MASS.J\",\"2MASS.H\",\"2MASS.Ks\"],\"x\":{\"__ndarray__\":\"AAAAAAAA1z8AAAAAALTdPwAAAAAAmOM/AAAAAADQ5z8AAAAAAHjsPwAAAAAAxPM/AAAAAACY+j8AAAAAAEQBQA==\",\"dtype\":\"float64\",\"order\":\"little\",\"shape\":[8]},\"y\":{\"__ndarray__\":\"E+bmGecBEzzTgzIJ6URKPPeJWphVpHQ8x4W472iZnTxBmz3lNse6PMMnSn6yD988qGjwHyrY2Dw+29LjpUbPPA==\",\"dtype\":\"float64\",\"order\":\"little\",\"shape\":[8]},\"z\":{\"__ndarray__\":\"jshT245PGDxwluTkpIIaPMqz4t91HRc8TPrqN4xzITzzrXQUgJM/PBp9+rEPtog8Fupi0GH3hTxDJ4//q1pzPA==\",\"dtype\":\"float64\",\"order\":\"little\",\"shape\":[8]}},\"selected\":{\"id\":\"7812\"},\"selection_policy\":{\"id\":\"7813\"}},\"id\":\"7793\",\"type\":\"ColumnDataSource\"},{\"attributes\":{\"label\":{\"value\":\"1797 K\"},\"renderers\":[{\"id\":\"7823\"}]},\"id\":\"7845\",\"type\":\"LegendItem\"},{\"attributes\":{},\"id\":\"7841\",\"type\":\"UnionRenderers\"},{\"attributes\":{},\"id\":\"7843\",\"type\":\"UnionRenderers\"},{\"attributes\":{\"data\":{\"desc\":[\"SDSS.u\",\"SDSS.g\",\"SDSS.r\",\"SDSS.i\",\"SDSS.z\",\"2MASS.J\",\"2MASS.H\",\"2MASS.Ks\"],\"x\":{\"__ndarray__\":\"AAAAAAAA1z8AAAAAALTdPwAAAAAAmOM/AAAAAADQ5z8AAAAAAHjsPwAAAAAAxPM/AAAAAACY+j8AAAAAAEQBQA==\",\"dtype\":\"float64\",\"order\":\"little\",\"shape\":[8]},\"y\":{\"__ndarray__\":\"JOopfKaoIDwHDBZi8wVXPPtVAfJgF4I8ufPRDDmSqTxjSWCxE03HPE6GWPEuB+s8GEP08k6e5TwY53S2/zbbPA==\",\"dtype\":\"float64\",\"order\":\"little\",\"shape\":[8]},\"z\":{\"__ndarray__\":\"2vdZOYxOJTwqQ2hyDjwnPBKC1t5FQiQ87evyICUnLjxQ+Gk+33lLPCgGgCaigJU8DEI9IjIdkzzbg4kDUdeAPA==\",\"dtype\":\"float64\",\"order\":\"little\",\"shape\":[8]}},\"selected\":{\"id\":\"7759\"},\"selection_policy\":{\"id\":\"7760\"}},\"id\":\"7746\",\"type\":\"ColumnDataSource\"},{\"attributes\":{\"line_alpha\":0.1,\"x\":{\"field\":\"x\"},\"y\":{\"field\":\"y\"}},\"id\":\"7771\",\"type\":\"Line\"},{\"attributes\":{\"source\":{\"id\":\"7746\"}},\"id\":\"7751\",\"type\":\"CDSView\"},{\"attributes\":{\"ticker\":null},\"id\":\"7758\",\"type\":\"LogTickFormatter\"},{\"attributes\":{\"axis\":{\"id\":\"7728\"},\"dimension\":1,\"ticker\":null},\"id\":\"7731\",\"type\":\"Grid\"},{\"attributes\":{\"axis\":{\"id\":\"7724\"},\"ticker\":null},\"id\":\"7727\",\"type\":\"Grid\"},{\"attributes\":{\"end\":21.599999999999998,\"start\":0.24},\"id\":\"7846\",\"type\":\"Range1d\"},{\"attributes\":{\"fill_alpha\":{\"value\":0.7},\"fill_color\":{\"value\":\"#1f77b4\"},\"line_color\":{\"value\":\"#1f77b4\"},\"size\":{\"value\":8},\"x\":{\"field\":\"x\"},\"y\":{\"field\":\"y\"}},\"id\":\"7748\",\"type\":\"Circle\"},{\"attributes\":{},\"id\":\"7784\",\"type\":\"UnionRenderers\"}],\"root_ids\":[\"7713\"]},\"title\":\"Bokeh Application\",\"version\":\"2.3.0\"}};\n",
       "  var render_items = [{\"docid\":\"89c5cb5f-ad63-4433-9531-840aaf3e0585\",\"root_ids\":[\"7713\"],\"roots\":{\"7713\":\"db179442-5eef-449a-b3ab-2471faf71af9\"}}];\n",
       "  root.Bokeh.embed.embed_items_notebook(docs_json, render_items);\n",
       "\n",
       "  }\n",
       "  if (root.Bokeh !== undefined) {\n",
       "    embed_document(root);\n",
       "  } else {\n",
       "    var attempts = 0;\n",
       "    var timer = setInterval(function(root) {\n",
       "      if (root.Bokeh !== undefined) {\n",
       "        clearInterval(timer);\n",
       "        embed_document(root);\n",
       "      } else {\n",
       "        attempts++;\n",
       "        if (attempts > 100) {\n",
       "          clearInterval(timer);\n",
       "          console.log(\"Bokeh: ERROR: Unable to run BokehJS code because BokehJS library is missing\");\n",
       "        }\n",
       "      }\n",
       "    }, 10, root)\n",
       "  }\n",
       "})(window);"
      ],
      "application/vnd.bokehjs_exec.v0+json": ""
     },
     "metadata": {
      "application/vnd.bokehjs_exec.v0+json": {
       "id": "7713"
      }
     },
     "output_type": "display_data"
    }
   ],
   "source": [
    "show(cat.plot_SEDs(['2MASS J00361617+1821104 0', '2MASS J00361617+1821104 3'], app=False))"
   ]
  },
  {
   "cell_type": "code",
   "execution_count": 42,
   "metadata": {},
   "outputs": [
    {
     "data": {
      "text/html": [
       "<i>QTable length=10</i>\n",
       "<table id=\"table6986552800\" class=\"table-striped table-bordered table-condensed\">\n",
       "<thead><tr><th>name</th><th>ra</th><th>dec</th><th>age</th><th>age_unc</th><th>distance</th><th>distance_unc</th><th>parallax</th><th>parallax_unc</th><th>radius</th><th>radius_unc</th><th>spectral_type</th><th>spectral_type_unc</th><th>SpT</th><th>membership</th><th>reddening</th><th>fbol</th><th>fbol_unc</th><th>mbol</th><th>mbol_unc</th><th>Lbol</th><th>Lbol_unc</th><th>Lbol_sun</th><th>Lbol_sun_unc</th><th>Mbol</th><th>Mbol_unc</th><th>logg</th><th>logg_unc</th><th>mass</th><th>mass_unc</th><th>Teff</th><th>Teff_unc</th><th>SED</th><th>SDSS.u</th><th>SDSS.u_unc</th><th>M_SDSS.u</th><th>M_SDSS.u_unc</th><th>SDSS.g</th><th>SDSS.g_unc</th><th>M_SDSS.g</th><th>M_SDSS.g_unc</th><th>SDSS.r</th><th>SDSS.r_unc</th><th>M_SDSS.r</th><th>M_SDSS.r_unc</th><th>SDSS.i</th><th>SDSS.i_unc</th><th>M_SDSS.i</th><th>M_SDSS.i_unc</th><th>SDSS.z</th><th>SDSS.z_unc</th><th>M_SDSS.z</th><th>M_SDSS.z_unc</th><th>2MASS.J</th><th>2MASS.J_unc</th><th>M_2MASS.J</th><th>M_2MASS.J_unc</th><th>2MASS.H</th><th>2MASS.H_unc</th><th>M_2MASS.H</th><th>M_2MASS.H_unc</th><th>2MASS.Ks</th><th>2MASS.Ks_unc</th><th>M_2MASS.Ks</th><th>M_2MASS.Ks_unc</th></tr></thead>\n",
       "<thead><tr><th></th><th></th><th></th><th>Gyr</th><th>Gyr</th><th>pc</th><th>pc</th><th>mas</th><th>mas</th><th>solRad</th><th>solRad</th><th></th><th></th><th></th><th></th><th></th><th>erg / (cm2 s)</th><th>erg / (cm2 s)</th><th></th><th></th><th>erg / s</th><th>erg / s</th><th></th><th></th><th></th><th></th><th></th><th></th><th>solMass</th><th>solMass</th><th>K</th><th>K</th><th></th><th></th><th></th><th></th><th></th><th></th><th></th><th></th><th></th><th></th><th></th><th></th><th></th><th></th><th></th><th></th><th></th><th></th><th></th><th></th><th></th><th></th><th></th><th></th><th></th><th></th><th></th><th></th><th></th><th></th><th></th><th></th><th></th></tr></thead>\n",
       "<thead><tr><th>object</th><th>object</th><th>object</th><th>object</th><th>object</th><th>object</th><th>object</th><th>object</th><th>object</th><th>object</th><th>object</th><th>object</th><th>object</th><th>object</th><th>object</th><th>object</th><th>object</th><th>object</th><th>object</th><th>object</th><th>object</th><th>object</th><th>object</th><th>object</th><th>object</th><th>object</th><th>object</th><th>object</th><th>object</th><th>object</th><th>object</th><th>object</th><th>object</th><th>float16</th><th>float16</th><th>float16</th><th>float16</th><th>float16</th><th>float16</th><th>float16</th><th>float16</th><th>float16</th><th>float16</th><th>float16</th><th>float16</th><th>float16</th><th>float16</th><th>float16</th><th>float16</th><th>float16</th><th>float16</th><th>float16</th><th>float16</th><th>float16</th><th>float16</th><th>float16</th><th>float16</th><th>float16</th><th>float16</th><th>float16</th><th>float16</th><th>float16</th><th>float16</th><th>float16</th><th>float16</th></tr></thead>\n",
       "<tr><td>2MASS J00361617+1821104 0</td><td>None</td><td>None</td><td>None</td><td>None</td><td>9.65</td><td>0.02</td><td>103.58211411912683</td><td>0.16495799656373358</td><td>0.08</td><td>0.0</td><td>73.5</td><td>0.5</td><td>L3.5V</td><td>None</td><td>0</td><td>3.606241925902236e-11</td><td>4.777644009490312e-13</td><td>14.625</td><td>0.014</td><td>4.018097208690082e+29</td><td>5.577751880114995e+27</td><td>-3.979</td><td>0.006</td><td>14.702</td><td>0.014</td><td>2.856391307885212</td><td>0.1</td><td>None</td><td>None</td><td>2065.0</td><td>7.0</td><td>&lt;sedkit.sed.SED object at 0x1a06b4160&gt;</td><td>24.69</td><td>1.389</td><td>24.77</td><td>1.389</td><td>22.53</td><td>0.137</td><td>22.61</td><td>0.137</td><td>19.69</td><td>0.019</td><td>19.77</td><td>0.019</td><td>17.17</td><td>0.005</td><td>17.25</td><td>0.005</td><td>15.22</td><td>0.005</td><td>15.3</td><td>0.005</td><td>12.47</td><td>0.027</td><td>12.55</td><td>0.027</td><td>11.586</td><td>0.03</td><td>11.664</td><td>0.03</td><td>11.055</td><td>0.021</td><td>11.13</td><td>0.021</td></tr>\n",
       "<tr><td>2MASS J00361617+1821104 1</td><td>None</td><td>None</td><td>None</td><td>None</td><td>9.73</td><td>0.03</td><td>102.73253347606163</td><td>0.2760926781801442</td><td>0.08</td><td>0.0</td><td>73.5</td><td>0.5</td><td>L3.5V</td><td>None</td><td>0</td><td>3.606241925902236e-11</td><td>4.777644009490312e-13</td><td>14.625</td><td>0.014</td><td>4.08499466002948e+29</td><td>5.969435663119675e+27</td><td>-3.972</td><td>0.006</td><td>14.684</td><td>0.014</td><td>4.232968950966258</td><td>0.1</td><td>None</td><td>None</td><td>2074.0</td><td>7.0</td><td>&lt;sedkit.sed.SED object at 0x1a05d80d0&gt;</td><td>24.69</td><td>1.389</td><td>24.75</td><td>1.389</td><td>22.53</td><td>0.137</td><td>22.6</td><td>0.137</td><td>19.69</td><td>0.019</td><td>19.75</td><td>0.019</td><td>17.17</td><td>0.005</td><td>17.23</td><td>0.006</td><td>15.22</td><td>0.005</td><td>15.28</td><td>0.006</td><td>12.47</td><td>0.027</td><td>12.53</td><td>0.027</td><td>11.586</td><td>0.03</td><td>11.64</td><td>0.03</td><td>11.055</td><td>0.021</td><td>11.11</td><td>0.021</td></tr>\n",
       "<tr><td>2MASS J00361617+1821104 2</td><td>None</td><td>None</td><td>None</td><td>None</td><td>8.71</td><td>0.01</td><td>114.76844696474718</td><td>0.09402800792935317</td><td>0.08</td><td>0.0</td><td>73.5</td><td>0.5</td><td>L3.5V</td><td>None</td><td>0</td><td>3.606241925902236e-11</td><td>4.777644009490312e-13</td><td>14.625</td><td>0.014</td><td>3.2734229477278346e+29</td><td>4.401373072686537e+27</td><td>-4.068</td><td>0.006</td><td>14.925</td><td>0.014</td><td>3.1630500787947624</td><td>0.1</td><td>None</td><td>None</td><td>1962.0</td><td>6.0</td><td>&lt;sedkit.sed.SED object at 0x1a051e9d0&gt;</td><td>24.69</td><td>1.389</td><td>24.98</td><td>1.389</td><td>22.53</td><td>0.137</td><td>22.83</td><td>0.137</td><td>19.69</td><td>0.019</td><td>19.98</td><td>0.019</td><td>17.17</td><td>0.005</td><td>17.47</td><td>0.005</td><td>15.22</td><td>0.005</td><td>15.516</td><td>0.005</td><td>12.47</td><td>0.027</td><td>12.766</td><td>0.027</td><td>11.586</td><td>0.03</td><td>11.89</td><td>0.03</td><td>11.055</td><td>0.021</td><td>11.36</td><td>0.021</td></tr>\n",
       "<tr><td>2MASS J00361617+1821104 3</td><td>None</td><td>None</td><td>None</td><td>None</td><td>7.31</td><td>0.01</td><td>136.87260708604327</td><td>0.13206523863991793</td><td>0.08</td><td>0.0</td><td>73.5</td><td>0.5</td><td>L3.5V</td><td>None</td><td>0</td><td>3.606241925902236e-11</td><td>4.777644009490312e-13</td><td>14.625</td><td>0.014</td><td>2.3056881446834444e+29</td><td>3.1190944819920306e+27</td><td>-4.22</td><td>0.006</td><td>15.305</td><td>0.014</td><td>3.678575759282893</td><td>0.1</td><td>None</td><td>None</td><td>1797.0</td><td>6.0</td><td>&lt;sedkit.sed.SED object at 0x1a08be430&gt;</td><td>24.69</td><td>1.389</td><td>25.38</td><td>1.389</td><td>22.53</td><td>0.137</td><td>23.22</td><td>0.137</td><td>19.69</td><td>0.019</td><td>20.38</td><td>0.019</td><td>17.17</td><td>0.005</td><td>17.84</td><td>0.005</td><td>15.22</td><td>0.005</td><td>15.9</td><td>0.005</td><td>12.47</td><td>0.027</td><td>13.15</td><td>0.027</td><td>11.586</td><td>0.03</td><td>12.266</td><td>0.03</td><td>11.055</td><td>0.021</td><td>11.734</td><td>0.021</td></tr>\n",
       "<tr><td>2MASS J00361617+1821104 4</td><td>None</td><td>None</td><td>None</td><td>None</td><td>8.34</td><td>0.01</td><td>119.9617004628953</td><td>0.2005549323437738</td><td>0.08</td><td>0.0</td><td>73.5</td><td>0.5</td><td>L3.5V</td><td>None</td><td>0</td><td>3.606241925902236e-11</td><td>4.777644009490312e-13</td><td>14.625</td><td>0.014</td><td>3.0012205665522703e+29</td><td>4.040709194327996e+27</td><td>-4.106</td><td>0.006</td><td>15.019</td><td>0.014</td><td>3.5627109772294623</td><td>0.1</td><td>None</td><td>None</td><td>1920.0</td><td>6.0</td><td>&lt;sedkit.sed.SED object at 0x1a06bea60&gt;</td><td>24.69</td><td>1.389</td><td>25.08</td><td>1.389</td><td>22.53</td><td>0.137</td><td>22.92</td><td>0.137</td><td>19.69</td><td>0.019</td><td>20.08</td><td>0.019</td><td>17.17</td><td>0.005</td><td>17.56</td><td>0.005</td><td>15.22</td><td>0.005</td><td>15.61</td><td>0.005</td><td>12.47</td><td>0.027</td><td>12.86</td><td>0.027</td><td>11.586</td><td>0.03</td><td>11.984</td><td>0.03</td><td>11.055</td><td>0.021</td><td>11.45</td><td>0.021</td></tr>\n",
       "<tr><td>2MASS J00361617+1821104 5</td><td>None</td><td>None</td><td>None</td><td>None</td><td>8.64</td><td>0.01</td><td>115.7005436113456</td><td>0.0765495800315095</td><td>0.08</td><td>0.0</td><td>73.5</td><td>0.5</td><td>L3.5V</td><td>None</td><td>0</td><td>3.606241925902236e-11</td><td>4.777644009490312e-13</td><td>14.625</td><td>0.014</td><td>3.2210190812084206e+29</td><td>4.331939329590231e+27</td><td>-4.075</td><td>0.006</td><td>14.942</td><td>0.014</td><td>3.1614956637846587</td><td>0.1</td><td>None</td><td>None</td><td>1954.0</td><td>6.0</td><td>&lt;sedkit.sed.SED object at 0x1a07df130&gt;</td><td>24.69</td><td>1.389</td><td>24.98</td><td>1.389</td><td>22.53</td><td>0.137</td><td>22.84</td><td>0.137</td><td>19.69</td><td>0.019</td><td>20.0</td><td>0.019</td><td>17.17</td><td>0.005</td><td>17.48</td><td>0.005</td><td>15.22</td><td>0.005</td><td>15.53</td><td>0.005</td><td>12.47</td><td>0.027</td><td>12.78</td><td>0.027</td><td>11.586</td><td>0.03</td><td>11.91</td><td>0.03</td><td>11.055</td><td>0.021</td><td>11.375</td><td>0.021</td></tr>\n",
       "<tr><td>2MASS J00361617+1821104 6</td><td>None</td><td>None</td><td>None</td><td>None</td><td>8.22</td><td>0.01</td><td>121.6952228850138</td><td>0.16834632683469714</td><td>0.08</td><td>0.0</td><td>73.5</td><td>0.5</td><td>L3.5V</td><td>None</td><td>0</td><td>3.606241925902236e-11</td><td>4.777644009490312e-13</td><td>14.625</td><td>0.014</td><td>2.9154758456404727e+29</td><td>3.9270971499680895e+27</td><td>-4.118</td><td>0.006</td><td>15.051</td><td>0.014</td><td>5.447847995329169</td><td>0.1</td><td>None</td><td>None</td><td>1906.0</td><td>6.0</td><td>&lt;sedkit.sed.SED object at 0x19f99c190&gt;</td><td>24.69</td><td>1.389</td><td>25.11</td><td>1.389</td><td>22.53</td><td>0.137</td><td>22.95</td><td>0.137</td><td>19.69</td><td>0.019</td><td>20.11</td><td>0.019</td><td>17.17</td><td>0.005</td><td>17.6</td><td>0.005</td><td>15.22</td><td>0.005</td><td>15.64</td><td>0.005</td><td>12.47</td><td>0.027</td><td>12.89</td><td>0.027</td><td>11.586</td><td>0.03</td><td>12.016</td><td>0.03</td><td>11.055</td><td>0.021</td><td>11.484</td><td>0.021</td></tr>\n",
       "<tr><td>2MASS J00361617+1821104 7</td><td>None</td><td>None</td><td>None</td><td>None</td><td>7.62</td><td>0.0</td><td>131.18731609691787</td><td>0.06333300742060449</td><td>0.08</td><td>0.0</td><td>73.5</td><td>0.5</td><td>L3.5V</td><td>None</td><td>0</td><td>3.606241925902236e-11</td><td>4.777644009490312e-13</td><td>14.625</td><td>0.014</td><td>2.5053923978014373e+29</td><td>3.319209644478828e+27</td><td>-4.184</td><td>0.006</td><td>15.215</td><td>0.014</td><td>4.131989433045737</td><td>0.1</td><td>None</td><td>None</td><td>1835.0</td><td>6.0</td><td>&lt;sedkit.sed.SED object at 0x1a0a0beb0&gt;</td><td>24.69</td><td>1.389</td><td>25.28</td><td>1.389</td><td>22.53</td><td>0.137</td><td>23.12</td><td>0.137</td><td>19.69</td><td>0.019</td><td>20.28</td><td>0.019</td><td>17.17</td><td>0.005</td><td>17.77</td><td>0.005</td><td>15.22</td><td>0.005</td><td>15.81</td><td>0.005</td><td>12.47</td><td>0.027</td><td>13.06</td><td>0.027</td><td>11.586</td><td>0.03</td><td>12.17</td><td>0.03</td><td>11.055</td><td>0.021</td><td>11.64</td><td>0.021</td></tr>\n",
       "<tr><td>2MASS J00361617+1821104 8</td><td>None</td><td>None</td><td>None</td><td>None</td><td>9.83</td><td>0.0</td><td>101.74362871073913</td><td>0.006676743229473342</td><td>0.08</td><td>0.0</td><td>73.5</td><td>0.5</td><td>L3.5V</td><td>None</td><td>0</td><td>3.606241925902236e-11</td><td>4.777644009490312e-13</td><td>14.625</td><td>0.014</td><td>4.1693931474003925e+29</td><td>5.52372153704129e+27</td><td>-3.963</td><td>0.006</td><td>14.662</td><td>0.014</td><td>3.2008754981678447</td><td>0.1</td><td>None</td><td>None</td><td>2084.0</td><td>6.0</td><td>&lt;sedkit.sed.SED object at 0x19f9bf070&gt;</td><td>24.69</td><td>1.389</td><td>24.72</td><td>1.389</td><td>22.53</td><td>0.137</td><td>22.56</td><td>0.137</td><td>19.69</td><td>0.019</td><td>19.72</td><td>0.019</td><td>17.17</td><td>0.005</td><td>17.22</td><td>0.005</td><td>15.22</td><td>0.005</td><td>15.26</td><td>0.005</td><td>12.47</td><td>0.027</td><td>12.51</td><td>0.027</td><td>11.586</td><td>0.03</td><td>11.625</td><td>0.03</td><td>11.055</td><td>0.021</td><td>11.09</td><td>0.021</td></tr>\n",
       "<tr><td>2MASS J00361617+1821104 9</td><td>None</td><td>None</td><td>None</td><td>None</td><td>8.66</td><td>0.0</td><td>115.4762928868392</td><td>0.021971004023799062</td><td>0.08</td><td>0.0</td><td>73.5</td><td>0.5</td><td>L3.5V</td><td>None</td><td>0</td><td>3.606241925902236e-11</td><td>4.777644009490312e-13</td><td>14.625</td><td>0.014</td><td>3.235948465988755e+29</td><td>4.287069509260001e+27</td><td>-4.073</td><td>0.006</td><td>14.937</td><td>0.014</td><td>4.514016750703281</td><td>0.1</td><td>None</td><td>None</td><td>1956.0</td><td>6.0</td><td>&lt;sedkit.sed.SED object at 0x19f94fcd0&gt;</td><td>24.69</td><td>1.389</td><td>24.98</td><td>1.389</td><td>22.53</td><td>0.137</td><td>22.84</td><td>0.137</td><td>19.69</td><td>0.019</td><td>20.0</td><td>0.019</td><td>17.17</td><td>0.005</td><td>17.48</td><td>0.005</td><td>15.22</td><td>0.005</td><td>15.53</td><td>0.005</td><td>12.47</td><td>0.027</td><td>12.78</td><td>0.027</td><td>11.586</td><td>0.03</td><td>11.9</td><td>0.03</td><td>11.055</td><td>0.021</td><td>11.37</td><td>0.021</td></tr>\n",
       "</table>"
      ],
      "text/plain": [
       "<QTable length=10>\n",
       "           name             ra    dec   ... M_2MASS.Ks M_2MASS.Ks_unc\n",
       "                                        ...                          \n",
       "          object          object object ...  float16      float16    \n",
       "------------------------- ------ ------ ... ---------- --------------\n",
       "2MASS J00361617+1821104 0   None   None ...      11.13          0.021\n",
       "2MASS J00361617+1821104 1   None   None ...      11.11          0.021\n",
       "2MASS J00361617+1821104 2   None   None ...      11.36          0.021\n",
       "2MASS J00361617+1821104 3   None   None ...     11.734          0.021\n",
       "2MASS J00361617+1821104 4   None   None ...      11.45          0.021\n",
       "2MASS J00361617+1821104 5   None   None ...     11.375          0.021\n",
       "2MASS J00361617+1821104 6   None   None ...     11.484          0.021\n",
       "2MASS J00361617+1821104 7   None   None ...      11.64          0.021\n",
       "2MASS J00361617+1821104 8   None   None ...      11.09          0.021\n",
       "2MASS J00361617+1821104 9   None   None ...      11.37          0.021"
      ]
     },
     "execution_count": 42,
     "metadata": {},
     "output_type": "execute_result"
    }
   ],
   "source": [
    "cat.results"
   ]
  },
  {
   "cell_type": "markdown",
   "metadata": {},
   "source": [
    "The catalog can also be filtered by providing a column name and value..."
   ]
  },
  {
   "cell_type": "code",
   "execution_count": 43,
   "metadata": {},
   "outputs": [
    {
     "data": {
      "text/html": [
       "<i>QTable length=1</i>\n",
       "<table id=\"table6986744880\" class=\"table-striped table-bordered table-condensed\">\n",
       "<thead><tr><th>name</th><th>ra</th><th>dec</th><th>age</th><th>age_unc</th><th>distance</th><th>distance_unc</th><th>parallax</th><th>parallax_unc</th><th>radius</th><th>radius_unc</th><th>spectral_type</th><th>spectral_type_unc</th><th>SpT</th><th>membership</th><th>reddening</th><th>fbol</th><th>fbol_unc</th><th>mbol</th><th>mbol_unc</th><th>Lbol</th><th>Lbol_unc</th><th>Lbol_sun</th><th>Lbol_sun_unc</th><th>Mbol</th><th>Mbol_unc</th><th>logg</th><th>logg_unc</th><th>mass</th><th>mass_unc</th><th>Teff</th><th>Teff_unc</th><th>SED</th><th>SDSS.u</th><th>SDSS.u_unc</th><th>M_SDSS.u</th><th>M_SDSS.u_unc</th><th>SDSS.g</th><th>SDSS.g_unc</th><th>M_SDSS.g</th><th>M_SDSS.g_unc</th><th>SDSS.r</th><th>SDSS.r_unc</th><th>M_SDSS.r</th><th>M_SDSS.r_unc</th><th>SDSS.i</th><th>SDSS.i_unc</th><th>M_SDSS.i</th><th>M_SDSS.i_unc</th><th>SDSS.z</th><th>SDSS.z_unc</th><th>M_SDSS.z</th><th>M_SDSS.z_unc</th><th>2MASS.J</th><th>2MASS.J_unc</th><th>M_2MASS.J</th><th>M_2MASS.J_unc</th><th>2MASS.H</th><th>2MASS.H_unc</th><th>M_2MASS.H</th><th>M_2MASS.H_unc</th><th>2MASS.Ks</th><th>2MASS.Ks_unc</th><th>M_2MASS.Ks</th><th>M_2MASS.Ks_unc</th></tr></thead>\n",
       "<thead><tr><th></th><th></th><th></th><th>Gyr</th><th>Gyr</th><th>pc</th><th>pc</th><th>mas</th><th>mas</th><th>solRad</th><th>solRad</th><th></th><th></th><th></th><th></th><th></th><th>erg / (cm2 s)</th><th>erg / (cm2 s)</th><th></th><th></th><th>erg / s</th><th>erg / s</th><th></th><th></th><th></th><th></th><th></th><th></th><th>solMass</th><th>solMass</th><th>K</th><th>K</th><th></th><th></th><th></th><th></th><th></th><th></th><th></th><th></th><th></th><th></th><th></th><th></th><th></th><th></th><th></th><th></th><th></th><th></th><th></th><th></th><th></th><th></th><th></th><th></th><th></th><th></th><th></th><th></th><th></th><th></th><th></th><th></th><th></th></tr></thead>\n",
       "<thead><tr><th>object</th><th>object</th><th>object</th><th>object</th><th>object</th><th>object</th><th>object</th><th>object</th><th>object</th><th>object</th><th>object</th><th>object</th><th>object</th><th>object</th><th>object</th><th>object</th><th>object</th><th>object</th><th>object</th><th>object</th><th>object</th><th>object</th><th>object</th><th>object</th><th>object</th><th>object</th><th>object</th><th>object</th><th>object</th><th>object</th><th>object</th><th>object</th><th>object</th><th>float16</th><th>float16</th><th>float16</th><th>float16</th><th>float16</th><th>float16</th><th>float16</th><th>float16</th><th>float16</th><th>float16</th><th>float16</th><th>float16</th><th>float16</th><th>float16</th><th>float16</th><th>float16</th><th>float16</th><th>float16</th><th>float16</th><th>float16</th><th>float16</th><th>float16</th><th>float16</th><th>float16</th><th>float16</th><th>float16</th><th>float16</th><th>float16</th><th>float16</th><th>float16</th><th>float16</th><th>float16</th></tr></thead>\n",
       "<tr><td>2MASS J00361617+1821104 3</td><td>None</td><td>None</td><td>None</td><td>None</td><td>7.31</td><td>0.01</td><td>136.87260708604327</td><td>0.13206523863991793</td><td>0.08</td><td>0.0</td><td>73.5</td><td>0.5</td><td>L3.5V</td><td>None</td><td>0</td><td>3.606241925902236e-11</td><td>4.777644009490312e-13</td><td>14.625</td><td>0.014</td><td>2.3056881446834444e+29</td><td>3.1190944819920306e+27</td><td>-4.22</td><td>0.006</td><td>15.305</td><td>0.014</td><td>3.678575759282893</td><td>0.1</td><td>None</td><td>None</td><td>1797.0</td><td>6.0</td><td>&lt;sedkit.sed.SED object at 0x1a08be430&gt;</td><td>24.69</td><td>1.389</td><td>25.38</td><td>1.389</td><td>22.53</td><td>0.137</td><td>23.22</td><td>0.137</td><td>19.69</td><td>0.019</td><td>20.38</td><td>0.019</td><td>17.17</td><td>0.005</td><td>17.84</td><td>0.005</td><td>15.22</td><td>0.005</td><td>15.9</td><td>0.005</td><td>12.47</td><td>0.027</td><td>13.15</td><td>0.027</td><td>11.586</td><td>0.03</td><td>12.266</td><td>0.03</td><td>11.055</td><td>0.021</td><td>11.734</td><td>0.021</td></tr>\n",
       "</table>"
      ],
      "text/plain": [
       "<QTable length=1>\n",
       "           name             ra    dec   ... M_2MASS.Ks M_2MASS.Ks_unc\n",
       "                                        ...                          \n",
       "          object          object object ...  float16      float16    \n",
       "------------------------- ------ ------ ... ---------- --------------\n",
       "2MASS J00361617+1821104 3   None   None ...     11.734          0.021"
      ]
     },
     "execution_count": 43,
     "metadata": {},
     "output_type": "execute_result"
    }
   ],
   "source": [
    "cat.filter('name', \"'2MASS J00361617+1821104 3'\").results"
   ]
  },
  {
   "cell_type": "markdown",
   "metadata": {},
   "source": [
    "...or a wildcard search..."
   ]
  },
  {
   "cell_type": "code",
   "execution_count": 44,
   "metadata": {},
   "outputs": [
    {
     "data": {
      "text/html": [
       "<i>QTable length=10</i>\n",
       "<table id=\"table6985953136\" class=\"table-striped table-bordered table-condensed\">\n",
       "<thead><tr><th>name</th><th>ra</th><th>dec</th><th>age</th><th>age_unc</th><th>distance</th><th>distance_unc</th><th>parallax</th><th>parallax_unc</th><th>radius</th><th>radius_unc</th><th>spectral_type</th><th>spectral_type_unc</th><th>SpT</th><th>membership</th><th>reddening</th><th>fbol</th><th>fbol_unc</th><th>mbol</th><th>mbol_unc</th><th>Lbol</th><th>Lbol_unc</th><th>Lbol_sun</th><th>Lbol_sun_unc</th><th>Mbol</th><th>Mbol_unc</th><th>logg</th><th>logg_unc</th><th>mass</th><th>mass_unc</th><th>Teff</th><th>Teff_unc</th><th>SED</th><th>SDSS.u</th><th>SDSS.u_unc</th><th>M_SDSS.u</th><th>M_SDSS.u_unc</th><th>SDSS.g</th><th>SDSS.g_unc</th><th>M_SDSS.g</th><th>M_SDSS.g_unc</th><th>SDSS.r</th><th>SDSS.r_unc</th><th>M_SDSS.r</th><th>M_SDSS.r_unc</th><th>SDSS.i</th><th>SDSS.i_unc</th><th>M_SDSS.i</th><th>M_SDSS.i_unc</th><th>SDSS.z</th><th>SDSS.z_unc</th><th>M_SDSS.z</th><th>M_SDSS.z_unc</th><th>2MASS.J</th><th>2MASS.J_unc</th><th>M_2MASS.J</th><th>M_2MASS.J_unc</th><th>2MASS.H</th><th>2MASS.H_unc</th><th>M_2MASS.H</th><th>M_2MASS.H_unc</th><th>2MASS.Ks</th><th>2MASS.Ks_unc</th><th>M_2MASS.Ks</th><th>M_2MASS.Ks_unc</th></tr></thead>\n",
       "<thead><tr><th></th><th></th><th></th><th>Gyr</th><th>Gyr</th><th>pc</th><th>pc</th><th>mas</th><th>mas</th><th>solRad</th><th>solRad</th><th></th><th></th><th></th><th></th><th></th><th>erg / (cm2 s)</th><th>erg / (cm2 s)</th><th></th><th></th><th>erg / s</th><th>erg / s</th><th></th><th></th><th></th><th></th><th></th><th></th><th>solMass</th><th>solMass</th><th>K</th><th>K</th><th></th><th></th><th></th><th></th><th></th><th></th><th></th><th></th><th></th><th></th><th></th><th></th><th></th><th></th><th></th><th></th><th></th><th></th><th></th><th></th><th></th><th></th><th></th><th></th><th></th><th></th><th></th><th></th><th></th><th></th><th></th><th></th><th></th></tr></thead>\n",
       "<thead><tr><th>object</th><th>object</th><th>object</th><th>object</th><th>object</th><th>object</th><th>object</th><th>object</th><th>object</th><th>object</th><th>object</th><th>object</th><th>object</th><th>object</th><th>object</th><th>object</th><th>object</th><th>object</th><th>object</th><th>object</th><th>object</th><th>object</th><th>object</th><th>object</th><th>object</th><th>object</th><th>object</th><th>object</th><th>object</th><th>object</th><th>object</th><th>object</th><th>object</th><th>float16</th><th>float16</th><th>float16</th><th>float16</th><th>float16</th><th>float16</th><th>float16</th><th>float16</th><th>float16</th><th>float16</th><th>float16</th><th>float16</th><th>float16</th><th>float16</th><th>float16</th><th>float16</th><th>float16</th><th>float16</th><th>float16</th><th>float16</th><th>float16</th><th>float16</th><th>float16</th><th>float16</th><th>float16</th><th>float16</th><th>float16</th><th>float16</th><th>float16</th><th>float16</th><th>float16</th><th>float16</th></tr></thead>\n",
       "<tr><td>2MASS J00361617+1821104 0</td><td>None</td><td>None</td><td>None</td><td>None</td><td>9.65</td><td>0.02</td><td>103.58211411912683</td><td>0.16495799656373358</td><td>0.08</td><td>0.0</td><td>73.5</td><td>0.5</td><td>L3.5V</td><td>None</td><td>0</td><td>3.606241925902236e-11</td><td>4.777644009490312e-13</td><td>14.625</td><td>0.014</td><td>4.018097208690082e+29</td><td>5.577751880114995e+27</td><td>-3.979</td><td>0.006</td><td>14.702</td><td>0.014</td><td>2.856391307885212</td><td>0.1</td><td>None</td><td>None</td><td>2065.0</td><td>7.0</td><td>&lt;sedkit.sed.SED object at 0x1a06b4160&gt;</td><td>24.69</td><td>1.389</td><td>24.77</td><td>1.389</td><td>22.53</td><td>0.137</td><td>22.61</td><td>0.137</td><td>19.69</td><td>0.019</td><td>19.77</td><td>0.019</td><td>17.17</td><td>0.005</td><td>17.25</td><td>0.005</td><td>15.22</td><td>0.005</td><td>15.3</td><td>0.005</td><td>12.47</td><td>0.027</td><td>12.55</td><td>0.027</td><td>11.586</td><td>0.03</td><td>11.664</td><td>0.03</td><td>11.055</td><td>0.021</td><td>11.13</td><td>0.021</td></tr>\n",
       "<tr><td>2MASS J00361617+1821104 1</td><td>None</td><td>None</td><td>None</td><td>None</td><td>9.73</td><td>0.03</td><td>102.73253347606163</td><td>0.2760926781801442</td><td>0.08</td><td>0.0</td><td>73.5</td><td>0.5</td><td>L3.5V</td><td>None</td><td>0</td><td>3.606241925902236e-11</td><td>4.777644009490312e-13</td><td>14.625</td><td>0.014</td><td>4.08499466002948e+29</td><td>5.969435663119675e+27</td><td>-3.972</td><td>0.006</td><td>14.684</td><td>0.014</td><td>4.232968950966258</td><td>0.1</td><td>None</td><td>None</td><td>2074.0</td><td>7.0</td><td>&lt;sedkit.sed.SED object at 0x1a05d80d0&gt;</td><td>24.69</td><td>1.389</td><td>24.75</td><td>1.389</td><td>22.53</td><td>0.137</td><td>22.6</td><td>0.137</td><td>19.69</td><td>0.019</td><td>19.75</td><td>0.019</td><td>17.17</td><td>0.005</td><td>17.23</td><td>0.006</td><td>15.22</td><td>0.005</td><td>15.28</td><td>0.006</td><td>12.47</td><td>0.027</td><td>12.53</td><td>0.027</td><td>11.586</td><td>0.03</td><td>11.64</td><td>0.03</td><td>11.055</td><td>0.021</td><td>11.11</td><td>0.021</td></tr>\n",
       "<tr><td>2MASS J00361617+1821104 2</td><td>None</td><td>None</td><td>None</td><td>None</td><td>8.71</td><td>0.01</td><td>114.76844696474718</td><td>0.09402800792935317</td><td>0.08</td><td>0.0</td><td>73.5</td><td>0.5</td><td>L3.5V</td><td>None</td><td>0</td><td>3.606241925902236e-11</td><td>4.777644009490312e-13</td><td>14.625</td><td>0.014</td><td>3.2734229477278346e+29</td><td>4.401373072686537e+27</td><td>-4.068</td><td>0.006</td><td>14.925</td><td>0.014</td><td>3.1630500787947624</td><td>0.1</td><td>None</td><td>None</td><td>1962.0</td><td>6.0</td><td>&lt;sedkit.sed.SED object at 0x1a051e9d0&gt;</td><td>24.69</td><td>1.389</td><td>24.98</td><td>1.389</td><td>22.53</td><td>0.137</td><td>22.83</td><td>0.137</td><td>19.69</td><td>0.019</td><td>19.98</td><td>0.019</td><td>17.17</td><td>0.005</td><td>17.47</td><td>0.005</td><td>15.22</td><td>0.005</td><td>15.516</td><td>0.005</td><td>12.47</td><td>0.027</td><td>12.766</td><td>0.027</td><td>11.586</td><td>0.03</td><td>11.89</td><td>0.03</td><td>11.055</td><td>0.021</td><td>11.36</td><td>0.021</td></tr>\n",
       "<tr><td>2MASS J00361617+1821104 3</td><td>None</td><td>None</td><td>None</td><td>None</td><td>7.31</td><td>0.01</td><td>136.87260708604327</td><td>0.13206523863991793</td><td>0.08</td><td>0.0</td><td>73.5</td><td>0.5</td><td>L3.5V</td><td>None</td><td>0</td><td>3.606241925902236e-11</td><td>4.777644009490312e-13</td><td>14.625</td><td>0.014</td><td>2.3056881446834444e+29</td><td>3.1190944819920306e+27</td><td>-4.22</td><td>0.006</td><td>15.305</td><td>0.014</td><td>3.678575759282893</td><td>0.1</td><td>None</td><td>None</td><td>1797.0</td><td>6.0</td><td>&lt;sedkit.sed.SED object at 0x1a08be430&gt;</td><td>24.69</td><td>1.389</td><td>25.38</td><td>1.389</td><td>22.53</td><td>0.137</td><td>23.22</td><td>0.137</td><td>19.69</td><td>0.019</td><td>20.38</td><td>0.019</td><td>17.17</td><td>0.005</td><td>17.84</td><td>0.005</td><td>15.22</td><td>0.005</td><td>15.9</td><td>0.005</td><td>12.47</td><td>0.027</td><td>13.15</td><td>0.027</td><td>11.586</td><td>0.03</td><td>12.266</td><td>0.03</td><td>11.055</td><td>0.021</td><td>11.734</td><td>0.021</td></tr>\n",
       "<tr><td>2MASS J00361617+1821104 4</td><td>None</td><td>None</td><td>None</td><td>None</td><td>8.34</td><td>0.01</td><td>119.9617004628953</td><td>0.2005549323437738</td><td>0.08</td><td>0.0</td><td>73.5</td><td>0.5</td><td>L3.5V</td><td>None</td><td>0</td><td>3.606241925902236e-11</td><td>4.777644009490312e-13</td><td>14.625</td><td>0.014</td><td>3.0012205665522703e+29</td><td>4.040709194327996e+27</td><td>-4.106</td><td>0.006</td><td>15.019</td><td>0.014</td><td>3.5627109772294623</td><td>0.1</td><td>None</td><td>None</td><td>1920.0</td><td>6.0</td><td>&lt;sedkit.sed.SED object at 0x1a06bea60&gt;</td><td>24.69</td><td>1.389</td><td>25.08</td><td>1.389</td><td>22.53</td><td>0.137</td><td>22.92</td><td>0.137</td><td>19.69</td><td>0.019</td><td>20.08</td><td>0.019</td><td>17.17</td><td>0.005</td><td>17.56</td><td>0.005</td><td>15.22</td><td>0.005</td><td>15.61</td><td>0.005</td><td>12.47</td><td>0.027</td><td>12.86</td><td>0.027</td><td>11.586</td><td>0.03</td><td>11.984</td><td>0.03</td><td>11.055</td><td>0.021</td><td>11.45</td><td>0.021</td></tr>\n",
       "<tr><td>2MASS J00361617+1821104 5</td><td>None</td><td>None</td><td>None</td><td>None</td><td>8.64</td><td>0.01</td><td>115.7005436113456</td><td>0.0765495800315095</td><td>0.08</td><td>0.0</td><td>73.5</td><td>0.5</td><td>L3.5V</td><td>None</td><td>0</td><td>3.606241925902236e-11</td><td>4.777644009490312e-13</td><td>14.625</td><td>0.014</td><td>3.2210190812084206e+29</td><td>4.331939329590231e+27</td><td>-4.075</td><td>0.006</td><td>14.942</td><td>0.014</td><td>3.1614956637846587</td><td>0.1</td><td>None</td><td>None</td><td>1954.0</td><td>6.0</td><td>&lt;sedkit.sed.SED object at 0x1a07df130&gt;</td><td>24.69</td><td>1.389</td><td>24.98</td><td>1.389</td><td>22.53</td><td>0.137</td><td>22.84</td><td>0.137</td><td>19.69</td><td>0.019</td><td>20.0</td><td>0.019</td><td>17.17</td><td>0.005</td><td>17.48</td><td>0.005</td><td>15.22</td><td>0.005</td><td>15.53</td><td>0.005</td><td>12.47</td><td>0.027</td><td>12.78</td><td>0.027</td><td>11.586</td><td>0.03</td><td>11.91</td><td>0.03</td><td>11.055</td><td>0.021</td><td>11.375</td><td>0.021</td></tr>\n",
       "<tr><td>2MASS J00361617+1821104 6</td><td>None</td><td>None</td><td>None</td><td>None</td><td>8.22</td><td>0.01</td><td>121.6952228850138</td><td>0.16834632683469714</td><td>0.08</td><td>0.0</td><td>73.5</td><td>0.5</td><td>L3.5V</td><td>None</td><td>0</td><td>3.606241925902236e-11</td><td>4.777644009490312e-13</td><td>14.625</td><td>0.014</td><td>2.9154758456404727e+29</td><td>3.9270971499680895e+27</td><td>-4.118</td><td>0.006</td><td>15.051</td><td>0.014</td><td>5.447847995329169</td><td>0.1</td><td>None</td><td>None</td><td>1906.0</td><td>6.0</td><td>&lt;sedkit.sed.SED object at 0x19f99c190&gt;</td><td>24.69</td><td>1.389</td><td>25.11</td><td>1.389</td><td>22.53</td><td>0.137</td><td>22.95</td><td>0.137</td><td>19.69</td><td>0.019</td><td>20.11</td><td>0.019</td><td>17.17</td><td>0.005</td><td>17.6</td><td>0.005</td><td>15.22</td><td>0.005</td><td>15.64</td><td>0.005</td><td>12.47</td><td>0.027</td><td>12.89</td><td>0.027</td><td>11.586</td><td>0.03</td><td>12.016</td><td>0.03</td><td>11.055</td><td>0.021</td><td>11.484</td><td>0.021</td></tr>\n",
       "<tr><td>2MASS J00361617+1821104 7</td><td>None</td><td>None</td><td>None</td><td>None</td><td>7.62</td><td>0.0</td><td>131.18731609691787</td><td>0.06333300742060449</td><td>0.08</td><td>0.0</td><td>73.5</td><td>0.5</td><td>L3.5V</td><td>None</td><td>0</td><td>3.606241925902236e-11</td><td>4.777644009490312e-13</td><td>14.625</td><td>0.014</td><td>2.5053923978014373e+29</td><td>3.319209644478828e+27</td><td>-4.184</td><td>0.006</td><td>15.215</td><td>0.014</td><td>4.131989433045737</td><td>0.1</td><td>None</td><td>None</td><td>1835.0</td><td>6.0</td><td>&lt;sedkit.sed.SED object at 0x1a0a0beb0&gt;</td><td>24.69</td><td>1.389</td><td>25.28</td><td>1.389</td><td>22.53</td><td>0.137</td><td>23.12</td><td>0.137</td><td>19.69</td><td>0.019</td><td>20.28</td><td>0.019</td><td>17.17</td><td>0.005</td><td>17.77</td><td>0.005</td><td>15.22</td><td>0.005</td><td>15.81</td><td>0.005</td><td>12.47</td><td>0.027</td><td>13.06</td><td>0.027</td><td>11.586</td><td>0.03</td><td>12.17</td><td>0.03</td><td>11.055</td><td>0.021</td><td>11.64</td><td>0.021</td></tr>\n",
       "<tr><td>2MASS J00361617+1821104 8</td><td>None</td><td>None</td><td>None</td><td>None</td><td>9.83</td><td>0.0</td><td>101.74362871073913</td><td>0.006676743229473342</td><td>0.08</td><td>0.0</td><td>73.5</td><td>0.5</td><td>L3.5V</td><td>None</td><td>0</td><td>3.606241925902236e-11</td><td>4.777644009490312e-13</td><td>14.625</td><td>0.014</td><td>4.1693931474003925e+29</td><td>5.52372153704129e+27</td><td>-3.963</td><td>0.006</td><td>14.662</td><td>0.014</td><td>3.2008754981678447</td><td>0.1</td><td>None</td><td>None</td><td>2084.0</td><td>6.0</td><td>&lt;sedkit.sed.SED object at 0x19f9bf070&gt;</td><td>24.69</td><td>1.389</td><td>24.72</td><td>1.389</td><td>22.53</td><td>0.137</td><td>22.56</td><td>0.137</td><td>19.69</td><td>0.019</td><td>19.72</td><td>0.019</td><td>17.17</td><td>0.005</td><td>17.22</td><td>0.005</td><td>15.22</td><td>0.005</td><td>15.26</td><td>0.005</td><td>12.47</td><td>0.027</td><td>12.51</td><td>0.027</td><td>11.586</td><td>0.03</td><td>11.625</td><td>0.03</td><td>11.055</td><td>0.021</td><td>11.09</td><td>0.021</td></tr>\n",
       "<tr><td>2MASS J00361617+1821104 9</td><td>None</td><td>None</td><td>None</td><td>None</td><td>8.66</td><td>0.0</td><td>115.4762928868392</td><td>0.021971004023799062</td><td>0.08</td><td>0.0</td><td>73.5</td><td>0.5</td><td>L3.5V</td><td>None</td><td>0</td><td>3.606241925902236e-11</td><td>4.777644009490312e-13</td><td>14.625</td><td>0.014</td><td>3.235948465988755e+29</td><td>4.287069509260001e+27</td><td>-4.073</td><td>0.006</td><td>14.937</td><td>0.014</td><td>4.514016750703281</td><td>0.1</td><td>None</td><td>None</td><td>1956.0</td><td>6.0</td><td>&lt;sedkit.sed.SED object at 0x19f94fcd0&gt;</td><td>24.69</td><td>1.389</td><td>24.98</td><td>1.389</td><td>22.53</td><td>0.137</td><td>22.84</td><td>0.137</td><td>19.69</td><td>0.019</td><td>20.0</td><td>0.019</td><td>17.17</td><td>0.005</td><td>17.48</td><td>0.005</td><td>15.22</td><td>0.005</td><td>15.53</td><td>0.005</td><td>12.47</td><td>0.027</td><td>12.78</td><td>0.027</td><td>11.586</td><td>0.03</td><td>11.9</td><td>0.03</td><td>11.055</td><td>0.021</td><td>11.37</td><td>0.021</td></tr>\n",
       "</table>"
      ],
      "text/plain": [
       "<QTable length=10>\n",
       "           name             ra    dec   ... M_2MASS.Ks M_2MASS.Ks_unc\n",
       "                                        ...                          \n",
       "          object          object object ...  float16      float16    \n",
       "------------------------- ------ ------ ... ---------- --------------\n",
       "2MASS J00361617+1821104 0   None   None ...      11.13          0.021\n",
       "2MASS J00361617+1821104 1   None   None ...      11.11          0.021\n",
       "2MASS J00361617+1821104 2   None   None ...      11.36          0.021\n",
       "2MASS J00361617+1821104 3   None   None ...     11.734          0.021\n",
       "2MASS J00361617+1821104 4   None   None ...      11.45          0.021\n",
       "2MASS J00361617+1821104 5   None   None ...     11.375          0.021\n",
       "2MASS J00361617+1821104 6   None   None ...     11.484          0.021\n",
       "2MASS J00361617+1821104 7   None   None ...      11.64          0.021\n",
       "2MASS J00361617+1821104 8   None   None ...      11.09          0.021\n",
       "2MASS J00361617+1821104 9   None   None ...      11.37          0.021"
      ]
     },
     "execution_count": 44,
     "metadata": {},
     "output_type": "execute_result"
    }
   ],
   "source": [
    "cat.filter('name', \"'2MASS*'\").results"
   ]
  },
  {
   "cell_type": "markdown",
   "metadata": {},
   "source": [
    "... or an argument with an operator..."
   ]
  },
  {
   "cell_type": "code",
   "execution_count": 46,
   "metadata": {},
   "outputs": [
    {
     "data": {
      "text/html": [
       "<i>QTable length=2</i>\n",
       "<table id=\"table6981147088\" class=\"table-striped table-bordered table-condensed\">\n",
       "<thead><tr><th>name</th><th>ra</th><th>dec</th><th>age</th><th>age_unc</th><th>distance</th><th>distance_unc</th><th>parallax</th><th>parallax_unc</th><th>radius</th><th>radius_unc</th><th>spectral_type</th><th>spectral_type_unc</th><th>SpT</th><th>membership</th><th>reddening</th><th>fbol</th><th>fbol_unc</th><th>mbol</th><th>mbol_unc</th><th>Lbol</th><th>Lbol_unc</th><th>Lbol_sun</th><th>Lbol_sun_unc</th><th>Mbol</th><th>Mbol_unc</th><th>logg</th><th>logg_unc</th><th>mass</th><th>mass_unc</th><th>Teff</th><th>Teff_unc</th><th>SED</th><th>SDSS.u</th><th>SDSS.u_unc</th><th>M_SDSS.u</th><th>M_SDSS.u_unc</th><th>SDSS.g</th><th>SDSS.g_unc</th><th>M_SDSS.g</th><th>M_SDSS.g_unc</th><th>SDSS.r</th><th>SDSS.r_unc</th><th>M_SDSS.r</th><th>M_SDSS.r_unc</th><th>SDSS.i</th><th>SDSS.i_unc</th><th>M_SDSS.i</th><th>M_SDSS.i_unc</th><th>SDSS.z</th><th>SDSS.z_unc</th><th>M_SDSS.z</th><th>M_SDSS.z_unc</th><th>2MASS.J</th><th>2MASS.J_unc</th><th>M_2MASS.J</th><th>M_2MASS.J_unc</th><th>2MASS.H</th><th>2MASS.H_unc</th><th>M_2MASS.H</th><th>M_2MASS.H_unc</th><th>2MASS.Ks</th><th>2MASS.Ks_unc</th><th>M_2MASS.Ks</th><th>M_2MASS.Ks_unc</th></tr></thead>\n",
       "<thead><tr><th></th><th></th><th></th><th>Gyr</th><th>Gyr</th><th>pc</th><th>pc</th><th>mas</th><th>mas</th><th>solRad</th><th>solRad</th><th></th><th></th><th></th><th></th><th></th><th>erg / (cm2 s)</th><th>erg / (cm2 s)</th><th></th><th></th><th>erg / s</th><th>erg / s</th><th></th><th></th><th></th><th></th><th></th><th></th><th>solMass</th><th>solMass</th><th>K</th><th>K</th><th></th><th></th><th></th><th></th><th></th><th></th><th></th><th></th><th></th><th></th><th></th><th></th><th></th><th></th><th></th><th></th><th></th><th></th><th></th><th></th><th></th><th></th><th></th><th></th><th></th><th></th><th></th><th></th><th></th><th></th><th></th><th></th><th></th></tr></thead>\n",
       "<thead><tr><th>object</th><th>object</th><th>object</th><th>object</th><th>object</th><th>object</th><th>object</th><th>object</th><th>object</th><th>object</th><th>object</th><th>object</th><th>object</th><th>object</th><th>object</th><th>object</th><th>object</th><th>object</th><th>object</th><th>object</th><th>object</th><th>object</th><th>object</th><th>object</th><th>object</th><th>object</th><th>object</th><th>object</th><th>object</th><th>object</th><th>object</th><th>object</th><th>object</th><th>float16</th><th>float16</th><th>float16</th><th>float16</th><th>float16</th><th>float16</th><th>float16</th><th>float16</th><th>float16</th><th>float16</th><th>float16</th><th>float16</th><th>float16</th><th>float16</th><th>float16</th><th>float16</th><th>float16</th><th>float16</th><th>float16</th><th>float16</th><th>float16</th><th>float16</th><th>float16</th><th>float16</th><th>float16</th><th>float16</th><th>float16</th><th>float16</th><th>float16</th><th>float16</th><th>float16</th><th>float16</th></tr></thead>\n",
       "<tr><td>2MASS J00361617+1821104 6</td><td>None</td><td>None</td><td>None</td><td>None</td><td>8.22</td><td>0.01</td><td>121.6952228850138</td><td>0.16834632683469714</td><td>0.08</td><td>0.0</td><td>73.5</td><td>0.5</td><td>L3.5V</td><td>None</td><td>0</td><td>3.606241925902236e-11</td><td>4.777644009490312e-13</td><td>14.625</td><td>0.014</td><td>2.9154758456404727e+29</td><td>3.9270971499680895e+27</td><td>-4.118</td><td>0.006</td><td>15.051</td><td>0.014</td><td>5.447847995329169</td><td>0.1</td><td>None</td><td>None</td><td>1906.0</td><td>6.0</td><td>&lt;sedkit.sed.SED object at 0x19f99c190&gt;</td><td>24.69</td><td>1.389</td><td>25.11</td><td>1.389</td><td>22.53</td><td>0.137</td><td>22.95</td><td>0.137</td><td>19.69</td><td>0.019</td><td>20.11</td><td>0.019</td><td>17.17</td><td>0.005</td><td>17.6</td><td>0.005</td><td>15.22</td><td>0.005</td><td>15.64</td><td>0.005</td><td>12.47</td><td>0.027</td><td>12.89</td><td>0.027</td><td>11.586</td><td>0.03</td><td>12.016</td><td>0.03</td><td>11.055</td><td>0.021</td><td>11.484</td><td>0.021</td></tr>\n",
       "<tr><td>2MASS J00361617+1821104 9</td><td>None</td><td>None</td><td>None</td><td>None</td><td>8.66</td><td>0.0</td><td>115.4762928868392</td><td>0.021971004023799062</td><td>0.08</td><td>0.0</td><td>73.5</td><td>0.5</td><td>L3.5V</td><td>None</td><td>0</td><td>3.606241925902236e-11</td><td>4.777644009490312e-13</td><td>14.625</td><td>0.014</td><td>3.235948465988755e+29</td><td>4.287069509260001e+27</td><td>-4.073</td><td>0.006</td><td>14.937</td><td>0.014</td><td>4.514016750703281</td><td>0.1</td><td>None</td><td>None</td><td>1956.0</td><td>6.0</td><td>&lt;sedkit.sed.SED object at 0x19f94fcd0&gt;</td><td>24.69</td><td>1.389</td><td>24.98</td><td>1.389</td><td>22.53</td><td>0.137</td><td>22.84</td><td>0.137</td><td>19.69</td><td>0.019</td><td>20.0</td><td>0.019</td><td>17.17</td><td>0.005</td><td>17.48</td><td>0.005</td><td>15.22</td><td>0.005</td><td>15.53</td><td>0.005</td><td>12.47</td><td>0.027</td><td>12.78</td><td>0.027</td><td>11.586</td><td>0.03</td><td>11.9</td><td>0.03</td><td>11.055</td><td>0.021</td><td>11.37</td><td>0.021</td></tr>\n",
       "</table>"
      ],
      "text/plain": [
       "<QTable length=2>\n",
       "           name             ra    dec   ... M_2MASS.Ks M_2MASS.Ks_unc\n",
       "                                        ...                          \n",
       "          object          object object ...  float16      float16    \n",
       "------------------------- ------ ------ ... ---------- --------------\n",
       "2MASS J00361617+1821104 6   None   None ...     11.484          0.021\n",
       "2MASS J00361617+1821104 9   None   None ...      11.37          0.021"
      ]
     },
     "execution_count": 46,
     "metadata": {},
     "output_type": "execute_result"
    }
   ],
   "source": [
    "cat.filter('logg', '>=4.401').results"
   ]
  },
  {
   "cell_type": "markdown",
   "metadata": {
    "collapsed": true
   },
   "source": [
    "... or even a tuple of arguments..."
   ]
  },
  {
   "cell_type": "code",
   "execution_count": 48,
   "metadata": {},
   "outputs": [
    {
     "data": {
      "text/html": [
       "<i>QTable length=0</i>\n",
       "<table id=\"table6985363712\" class=\"table-striped table-bordered table-condensed\">\n",
       "<thead><tr><th>name</th><th>ra</th><th>dec</th><th>age</th><th>age_unc</th><th>distance</th><th>distance_unc</th><th>parallax</th><th>parallax_unc</th><th>radius</th><th>radius_unc</th><th>spectral_type</th><th>spectral_type_unc</th><th>SpT</th><th>membership</th><th>reddening</th><th>fbol</th><th>fbol_unc</th><th>mbol</th><th>mbol_unc</th><th>Lbol</th><th>Lbol_unc</th><th>Lbol_sun</th><th>Lbol_sun_unc</th><th>Mbol</th><th>Mbol_unc</th><th>logg</th><th>logg_unc</th><th>mass</th><th>mass_unc</th><th>Teff</th><th>Teff_unc</th><th>SED</th><th>SDSS.u</th><th>SDSS.u_unc</th><th>M_SDSS.u</th><th>M_SDSS.u_unc</th><th>SDSS.g</th><th>SDSS.g_unc</th><th>M_SDSS.g</th><th>M_SDSS.g_unc</th><th>SDSS.r</th><th>SDSS.r_unc</th><th>M_SDSS.r</th><th>M_SDSS.r_unc</th><th>SDSS.i</th><th>SDSS.i_unc</th><th>M_SDSS.i</th><th>M_SDSS.i_unc</th><th>SDSS.z</th><th>SDSS.z_unc</th><th>M_SDSS.z</th><th>M_SDSS.z_unc</th><th>2MASS.J</th><th>2MASS.J_unc</th><th>M_2MASS.J</th><th>M_2MASS.J_unc</th><th>2MASS.H</th><th>2MASS.H_unc</th><th>M_2MASS.H</th><th>M_2MASS.H_unc</th><th>2MASS.Ks</th><th>2MASS.Ks_unc</th><th>M_2MASS.Ks</th><th>M_2MASS.Ks_unc</th></tr></thead>\n",
       "<thead><tr><th></th><th></th><th></th><th>Gyr</th><th>Gyr</th><th>pc</th><th>pc</th><th>mas</th><th>mas</th><th>solRad</th><th>solRad</th><th></th><th></th><th></th><th></th><th></th><th>erg / (cm2 s)</th><th>erg / (cm2 s)</th><th></th><th></th><th>erg / s</th><th>erg / s</th><th></th><th></th><th></th><th></th><th></th><th></th><th>solMass</th><th>solMass</th><th>K</th><th>K</th><th></th><th></th><th></th><th></th><th></th><th></th><th></th><th></th><th></th><th></th><th></th><th></th><th></th><th></th><th></th><th></th><th></th><th></th><th></th><th></th><th></th><th></th><th></th><th></th><th></th><th></th><th></th><th></th><th></th><th></th><th></th><th></th><th></th></tr></thead>\n",
       "<thead><tr><th>object</th><th>object</th><th>object</th><th>object</th><th>object</th><th>object</th><th>object</th><th>object</th><th>object</th><th>object</th><th>object</th><th>object</th><th>object</th><th>object</th><th>object</th><th>object</th><th>object</th><th>object</th><th>object</th><th>object</th><th>object</th><th>object</th><th>object</th><th>object</th><th>object</th><th>object</th><th>object</th><th>object</th><th>object</th><th>object</th><th>object</th><th>object</th><th>object</th><th>float16</th><th>float16</th><th>float16</th><th>float16</th><th>float16</th><th>float16</th><th>float16</th><th>float16</th><th>float16</th><th>float16</th><th>float16</th><th>float16</th><th>float16</th><th>float16</th><th>float16</th><th>float16</th><th>float16</th><th>float16</th><th>float16</th><th>float16</th><th>float16</th><th>float16</th><th>float16</th><th>float16</th><th>float16</th><th>float16</th><th>float16</th><th>float16</th><th>float16</th><th>float16</th><th>float16</th><th>float16</th></tr></thead>\n",
       "</table>"
      ],
      "text/plain": [
       "<QTable length=0>\n",
       " name    ra    dec    age   ... 2MASS.Ks 2MASS.Ks_unc M_2MASS.Ks M_2MASS.Ks_unc\n",
       "                      Gyr   ...                                                \n",
       "object object object object ... float16    float16     float16      float16    \n",
       "------ ------ ------ ------ ... -------- ------------ ---------- --------------"
      ]
     },
     "execution_count": 48,
     "metadata": {},
     "output_type": "execute_result"
    }
   ],
   "source": [
    "cat.filter('M_2MASS.J', ('>12.9','<13.02')).results"
   ]
  },
  {
   "cell_type": "code",
   "execution_count": null,
   "metadata": {
    "collapsed": true
   },
   "outputs": [],
   "source": []
  }
 ],
 "metadata": {
  "anaconda-cloud": {},
  "kernelspec": {
   "display_name": "sedkit-3.7",
   "language": "python",
   "name": "sedkit-3.7"
  },
  "language_info": {
   "codemirror_mode": {
    "name": "ipython",
    "version": 3
   },
   "file_extension": ".py",
   "mimetype": "text/x-python",
   "name": "python",
   "nbconvert_exporter": "python",
   "pygments_lexer": "ipython3",
   "version": "3.9.2"
  }
 },
 "nbformat": 4,
 "nbformat_minor": 1
}
