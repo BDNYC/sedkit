{
 "cells": [
  {
   "cell_type": "markdown",
   "metadata": {},
   "source": [
    "# Make a catalog of SEDs\n",
    "\n",
    "This notebook will show you how to generate a Catalog of SED objects and make some plots from the sample."
   ]
  },
  {
   "cell_type": "code",
   "execution_count": 1,
   "metadata": {},
   "outputs": [
    {
     "data": {
      "text/html": [
       "\n",
       "    <div class=\"bk-root\">\n",
       "        <a href=\"https://bokeh.org\" target=\"_blank\" class=\"bk-logo bk-logo-small bk-logo-notebook\"></a>\n",
       "        <span id=\"1002\">Loading BokehJS ...</span>\n",
       "    </div>"
      ]
     },
     "metadata": {},
     "output_type": "display_data"
    },
    {
     "data": {
      "application/javascript": [
       "\n",
       "(function(root) {\n",
       "  function now() {\n",
       "    return new Date();\n",
       "  }\n",
       "\n",
       "  var force = true;\n",
       "\n",
       "  if (typeof root._bokeh_onload_callbacks === \"undefined\" || force === true) {\n",
       "    root._bokeh_onload_callbacks = [];\n",
       "    root._bokeh_is_loading = undefined;\n",
       "  }\n",
       "\n",
       "  var JS_MIME_TYPE = 'application/javascript';\n",
       "  var HTML_MIME_TYPE = 'text/html';\n",
       "  var EXEC_MIME_TYPE = 'application/vnd.bokehjs_exec.v0+json';\n",
       "  var CLASS_NAME = 'output_bokeh rendered_html';\n",
       "\n",
       "  /**\n",
       "   * Render data to the DOM node\n",
       "   */\n",
       "  function render(props, node) {\n",
       "    var script = document.createElement(\"script\");\n",
       "    node.appendChild(script);\n",
       "  }\n",
       "\n",
       "  /**\n",
       "   * Handle when an output is cleared or removed\n",
       "   */\n",
       "  function handleClearOutput(event, handle) {\n",
       "    var cell = handle.cell;\n",
       "\n",
       "    var id = cell.output_area._bokeh_element_id;\n",
       "    var server_id = cell.output_area._bokeh_server_id;\n",
       "    // Clean up Bokeh references\n",
       "    if (id != null && id in Bokeh.index) {\n",
       "      Bokeh.index[id].model.document.clear();\n",
       "      delete Bokeh.index[id];\n",
       "    }\n",
       "\n",
       "    if (server_id !== undefined) {\n",
       "      // Clean up Bokeh references\n",
       "      var cmd = \"from bokeh.io.state import curstate; print(curstate().uuid_to_server['\" + server_id + \"'].get_sessions()[0].document.roots[0]._id)\";\n",
       "      cell.notebook.kernel.execute(cmd, {\n",
       "        iopub: {\n",
       "          output: function(msg) {\n",
       "            var id = msg.content.text.trim();\n",
       "            if (id in Bokeh.index) {\n",
       "              Bokeh.index[id].model.document.clear();\n",
       "              delete Bokeh.index[id];\n",
       "            }\n",
       "          }\n",
       "        }\n",
       "      });\n",
       "      // Destroy server and session\n",
       "      var cmd = \"import bokeh.io.notebook as ion; ion.destroy_server('\" + server_id + \"')\";\n",
       "      cell.notebook.kernel.execute(cmd);\n",
       "    }\n",
       "  }\n",
       "\n",
       "  /**\n",
       "   * Handle when a new output is added\n",
       "   */\n",
       "  function handleAddOutput(event, handle) {\n",
       "    var output_area = handle.output_area;\n",
       "    var output = handle.output;\n",
       "\n",
       "    // limit handleAddOutput to display_data with EXEC_MIME_TYPE content only\n",
       "    if ((output.output_type != \"display_data\") || (!Object.prototype.hasOwnProperty.call(output.data, EXEC_MIME_TYPE))) {\n",
       "      return\n",
       "    }\n",
       "\n",
       "    var toinsert = output_area.element.find(\".\" + CLASS_NAME.split(' ')[0]);\n",
       "\n",
       "    if (output.metadata[EXEC_MIME_TYPE][\"id\"] !== undefined) {\n",
       "      toinsert[toinsert.length - 1].firstChild.textContent = output.data[JS_MIME_TYPE];\n",
       "      // store reference to embed id on output_area\n",
       "      output_area._bokeh_element_id = output.metadata[EXEC_MIME_TYPE][\"id\"];\n",
       "    }\n",
       "    if (output.metadata[EXEC_MIME_TYPE][\"server_id\"] !== undefined) {\n",
       "      var bk_div = document.createElement(\"div\");\n",
       "      bk_div.innerHTML = output.data[HTML_MIME_TYPE];\n",
       "      var script_attrs = bk_div.children[0].attributes;\n",
       "      for (var i = 0; i < script_attrs.length; i++) {\n",
       "        toinsert[toinsert.length - 1].firstChild.setAttribute(script_attrs[i].name, script_attrs[i].value);\n",
       "        toinsert[toinsert.length - 1].firstChild.textContent = bk_div.children[0].textContent\n",
       "      }\n",
       "      // store reference to server id on output_area\n",
       "      output_area._bokeh_server_id = output.metadata[EXEC_MIME_TYPE][\"server_id\"];\n",
       "    }\n",
       "  }\n",
       "\n",
       "  function register_renderer(events, OutputArea) {\n",
       "\n",
       "    function append_mime(data, metadata, element) {\n",
       "      // create a DOM node to render to\n",
       "      var toinsert = this.create_output_subarea(\n",
       "        metadata,\n",
       "        CLASS_NAME,\n",
       "        EXEC_MIME_TYPE\n",
       "      );\n",
       "      this.keyboard_manager.register_events(toinsert);\n",
       "      // Render to node\n",
       "      var props = {data: data, metadata: metadata[EXEC_MIME_TYPE]};\n",
       "      render(props, toinsert[toinsert.length - 1]);\n",
       "      element.append(toinsert);\n",
       "      return toinsert\n",
       "    }\n",
       "\n",
       "    /* Handle when an output is cleared or removed */\n",
       "    events.on('clear_output.CodeCell', handleClearOutput);\n",
       "    events.on('delete.Cell', handleClearOutput);\n",
       "\n",
       "    /* Handle when a new output is added */\n",
       "    events.on('output_added.OutputArea', handleAddOutput);\n",
       "\n",
       "    /**\n",
       "     * Register the mime type and append_mime function with output_area\n",
       "     */\n",
       "    OutputArea.prototype.register_mime_type(EXEC_MIME_TYPE, append_mime, {\n",
       "      /* Is output safe? */\n",
       "      safe: true,\n",
       "      /* Index of renderer in `output_area.display_order` */\n",
       "      index: 0\n",
       "    });\n",
       "  }\n",
       "\n",
       "  // register the mime type if in Jupyter Notebook environment and previously unregistered\n",
       "  if (root.Jupyter !== undefined) {\n",
       "    var events = require('base/js/events');\n",
       "    var OutputArea = require('notebook/js/outputarea').OutputArea;\n",
       "\n",
       "    if (OutputArea.prototype.mime_types().indexOf(EXEC_MIME_TYPE) == -1) {\n",
       "      register_renderer(events, OutputArea);\n",
       "    }\n",
       "  }\n",
       "\n",
       "  \n",
       "  if (typeof (root._bokeh_timeout) === \"undefined\" || force === true) {\n",
       "    root._bokeh_timeout = Date.now() + 5000;\n",
       "    root._bokeh_failed_load = false;\n",
       "  }\n",
       "\n",
       "  var NB_LOAD_WARNING = {'data': {'text/html':\n",
       "     \"<div style='background-color: #fdd'>\\n\"+\n",
       "     \"<p>\\n\"+\n",
       "     \"BokehJS does not appear to have successfully loaded. If loading BokehJS from CDN, this \\n\"+\n",
       "     \"may be due to a slow or bad network connection. Possible fixes:\\n\"+\n",
       "     \"</p>\\n\"+\n",
       "     \"<ul>\\n\"+\n",
       "     \"<li>re-rerun `output_notebook()` to attempt to load from CDN again, or</li>\\n\"+\n",
       "     \"<li>use INLINE resources instead, as so:</li>\\n\"+\n",
       "     \"</ul>\\n\"+\n",
       "     \"<code>\\n\"+\n",
       "     \"from bokeh.resources import INLINE\\n\"+\n",
       "     \"output_notebook(resources=INLINE)\\n\"+\n",
       "     \"</code>\\n\"+\n",
       "     \"</div>\"}};\n",
       "\n",
       "  function display_loaded() {\n",
       "    var el = document.getElementById(\"1002\");\n",
       "    if (el != null) {\n",
       "      el.textContent = \"BokehJS is loading...\";\n",
       "    }\n",
       "    if (root.Bokeh !== undefined) {\n",
       "      if (el != null) {\n",
       "        el.textContent = \"BokehJS \" + root.Bokeh.version + \" successfully loaded.\";\n",
       "      }\n",
       "    } else if (Date.now() < root._bokeh_timeout) {\n",
       "      setTimeout(display_loaded, 100)\n",
       "    }\n",
       "  }\n",
       "\n",
       "\n",
       "  function run_callbacks() {\n",
       "    try {\n",
       "      root._bokeh_onload_callbacks.forEach(function(callback) {\n",
       "        if (callback != null)\n",
       "          callback();\n",
       "      });\n",
       "    } finally {\n",
       "      delete root._bokeh_onload_callbacks\n",
       "    }\n",
       "    console.debug(\"Bokeh: all callbacks have finished\");\n",
       "  }\n",
       "\n",
       "  function load_libs(css_urls, js_urls, callback) {\n",
       "    if (css_urls == null) css_urls = [];\n",
       "    if (js_urls == null) js_urls = [];\n",
       "\n",
       "    root._bokeh_onload_callbacks.push(callback);\n",
       "    if (root._bokeh_is_loading > 0) {\n",
       "      console.debug(\"Bokeh: BokehJS is being loaded, scheduling callback at\", now());\n",
       "      return null;\n",
       "    }\n",
       "    if (js_urls == null || js_urls.length === 0) {\n",
       "      run_callbacks();\n",
       "      return null;\n",
       "    }\n",
       "    console.debug(\"Bokeh: BokehJS not loaded, scheduling load and callback at\", now());\n",
       "    root._bokeh_is_loading = css_urls.length + js_urls.length;\n",
       "\n",
       "    function on_load() {\n",
       "      root._bokeh_is_loading--;\n",
       "      if (root._bokeh_is_loading === 0) {\n",
       "        console.debug(\"Bokeh: all BokehJS libraries/stylesheets loaded\");\n",
       "        run_callbacks()\n",
       "      }\n",
       "    }\n",
       "\n",
       "    function on_error(url) {\n",
       "      console.error(\"failed to load \" + url);\n",
       "    }\n",
       "\n",
       "    for (let i = 0; i < css_urls.length; i++) {\n",
       "      const url = css_urls[i];\n",
       "      const element = document.createElement(\"link\");\n",
       "      element.onload = on_load;\n",
       "      element.onerror = on_error.bind(null, url);\n",
       "      element.rel = \"stylesheet\";\n",
       "      element.type = \"text/css\";\n",
       "      element.href = url;\n",
       "      console.debug(\"Bokeh: injecting link tag for BokehJS stylesheet: \", url);\n",
       "      document.body.appendChild(element);\n",
       "    }\n",
       "\n",
       "    const hashes = {\"https://cdn.bokeh.org/bokeh/release/bokeh-2.3.0.min.js\": \"HjagQp6T0/7bxYTAXbLotF1MLAGWmhkY5siA1Gc/pcEgvgRPtMsRn0gQtMwGKiw1\", \"https://cdn.bokeh.org/bokeh/release/bokeh-widgets-2.3.0.min.js\": \"ZEPPTjL+mdyqgIq+/pl9KTwzji8Kow2NnI3zWY8+sFinWP/SYJ80BnfeJsa45iYj\", \"https://cdn.bokeh.org/bokeh/release/bokeh-tables-2.3.0.min.js\": \"exLqv2ACDRIaV7ZK1iL8aGzGYQvKVuT3U2CT7FsQREBxRah6JrkVCoFy0koY1YqV\"};\n",
       "\n",
       "    for (let i = 0; i < js_urls.length; i++) {\n",
       "      const url = js_urls[i];\n",
       "      const element = document.createElement('script');\n",
       "      element.onload = on_load;\n",
       "      element.onerror = on_error.bind(null, url);\n",
       "      element.async = false;\n",
       "      element.src = url;\n",
       "      if (url in hashes) {\n",
       "        element.crossOrigin = \"anonymous\";\n",
       "        element.integrity = \"sha384-\" + hashes[url];\n",
       "      }\n",
       "      console.debug(\"Bokeh: injecting script tag for BokehJS library: \", url);\n",
       "      document.head.appendChild(element);\n",
       "    }\n",
       "  };\n",
       "\n",
       "  function inject_raw_css(css) {\n",
       "    const element = document.createElement(\"style\");\n",
       "    element.appendChild(document.createTextNode(css));\n",
       "    document.body.appendChild(element);\n",
       "  }\n",
       "\n",
       "  \n",
       "  var js_urls = [\"https://cdn.bokeh.org/bokeh/release/bokeh-2.3.0.min.js\", \"https://cdn.bokeh.org/bokeh/release/bokeh-widgets-2.3.0.min.js\", \"https://cdn.bokeh.org/bokeh/release/bokeh-tables-2.3.0.min.js\"];\n",
       "  var css_urls = [];\n",
       "  \n",
       "\n",
       "  var inline_js = [\n",
       "    function(Bokeh) {\n",
       "      Bokeh.set_log_level(\"info\");\n",
       "    },\n",
       "    function(Bokeh) {\n",
       "    \n",
       "    \n",
       "    }\n",
       "  ];\n",
       "\n",
       "  function run_inline_js() {\n",
       "    \n",
       "    if (root.Bokeh !== undefined || force === true) {\n",
       "      \n",
       "    for (var i = 0; i < inline_js.length; i++) {\n",
       "      inline_js[i].call(root, root.Bokeh);\n",
       "    }\n",
       "    if (force === true) {\n",
       "        display_loaded();\n",
       "      }} else if (Date.now() < root._bokeh_timeout) {\n",
       "      setTimeout(run_inline_js, 100);\n",
       "    } else if (!root._bokeh_failed_load) {\n",
       "      console.log(\"Bokeh: BokehJS failed to load within specified timeout.\");\n",
       "      root._bokeh_failed_load = true;\n",
       "    } else if (force !== true) {\n",
       "      var cell = $(document.getElementById(\"1002\")).parents('.cell').data().cell;\n",
       "      cell.output_area.append_execute_result(NB_LOAD_WARNING)\n",
       "    }\n",
       "\n",
       "  }\n",
       "\n",
       "  if (root._bokeh_is_loading === 0) {\n",
       "    console.debug(\"Bokeh: BokehJS loaded, going straight to plotting\");\n",
       "    run_inline_js();\n",
       "  } else {\n",
       "    load_libs(css_urls, js_urls, function() {\n",
       "      console.debug(\"Bokeh: BokehJS plotting callback run at\", now());\n",
       "      run_inline_js();\n",
       "    });\n",
       "  }\n",
       "}(window));"
      ],
      "application/vnd.bokehjs_load.v0+json": "\n(function(root) {\n  function now() {\n    return new Date();\n  }\n\n  var force = true;\n\n  if (typeof root._bokeh_onload_callbacks === \"undefined\" || force === true) {\n    root._bokeh_onload_callbacks = [];\n    root._bokeh_is_loading = undefined;\n  }\n\n  \n\n  \n  if (typeof (root._bokeh_timeout) === \"undefined\" || force === true) {\n    root._bokeh_timeout = Date.now() + 5000;\n    root._bokeh_failed_load = false;\n  }\n\n  var NB_LOAD_WARNING = {'data': {'text/html':\n     \"<div style='background-color: #fdd'>\\n\"+\n     \"<p>\\n\"+\n     \"BokehJS does not appear to have successfully loaded. If loading BokehJS from CDN, this \\n\"+\n     \"may be due to a slow or bad network connection. Possible fixes:\\n\"+\n     \"</p>\\n\"+\n     \"<ul>\\n\"+\n     \"<li>re-rerun `output_notebook()` to attempt to load from CDN again, or</li>\\n\"+\n     \"<li>use INLINE resources instead, as so:</li>\\n\"+\n     \"</ul>\\n\"+\n     \"<code>\\n\"+\n     \"from bokeh.resources import INLINE\\n\"+\n     \"output_notebook(resources=INLINE)\\n\"+\n     \"</code>\\n\"+\n     \"</div>\"}};\n\n  function display_loaded() {\n    var el = document.getElementById(\"1002\");\n    if (el != null) {\n      el.textContent = \"BokehJS is loading...\";\n    }\n    if (root.Bokeh !== undefined) {\n      if (el != null) {\n        el.textContent = \"BokehJS \" + root.Bokeh.version + \" successfully loaded.\";\n      }\n    } else if (Date.now() < root._bokeh_timeout) {\n      setTimeout(display_loaded, 100)\n    }\n  }\n\n\n  function run_callbacks() {\n    try {\n      root._bokeh_onload_callbacks.forEach(function(callback) {\n        if (callback != null)\n          callback();\n      });\n    } finally {\n      delete root._bokeh_onload_callbacks\n    }\n    console.debug(\"Bokeh: all callbacks have finished\");\n  }\n\n  function load_libs(css_urls, js_urls, callback) {\n    if (css_urls == null) css_urls = [];\n    if (js_urls == null) js_urls = [];\n\n    root._bokeh_onload_callbacks.push(callback);\n    if (root._bokeh_is_loading > 0) {\n      console.debug(\"Bokeh: BokehJS is being loaded, scheduling callback at\", now());\n      return null;\n    }\n    if (js_urls == null || js_urls.length === 0) {\n      run_callbacks();\n      return null;\n    }\n    console.debug(\"Bokeh: BokehJS not loaded, scheduling load and callback at\", now());\n    root._bokeh_is_loading = css_urls.length + js_urls.length;\n\n    function on_load() {\n      root._bokeh_is_loading--;\n      if (root._bokeh_is_loading === 0) {\n        console.debug(\"Bokeh: all BokehJS libraries/stylesheets loaded\");\n        run_callbacks()\n      }\n    }\n\n    function on_error(url) {\n      console.error(\"failed to load \" + url);\n    }\n\n    for (let i = 0; i < css_urls.length; i++) {\n      const url = css_urls[i];\n      const element = document.createElement(\"link\");\n      element.onload = on_load;\n      element.onerror = on_error.bind(null, url);\n      element.rel = \"stylesheet\";\n      element.type = \"text/css\";\n      element.href = url;\n      console.debug(\"Bokeh: injecting link tag for BokehJS stylesheet: \", url);\n      document.body.appendChild(element);\n    }\n\n    const hashes = {\"https://cdn.bokeh.org/bokeh/release/bokeh-2.3.0.min.js\": \"HjagQp6T0/7bxYTAXbLotF1MLAGWmhkY5siA1Gc/pcEgvgRPtMsRn0gQtMwGKiw1\", \"https://cdn.bokeh.org/bokeh/release/bokeh-widgets-2.3.0.min.js\": \"ZEPPTjL+mdyqgIq+/pl9KTwzji8Kow2NnI3zWY8+sFinWP/SYJ80BnfeJsa45iYj\", \"https://cdn.bokeh.org/bokeh/release/bokeh-tables-2.3.0.min.js\": \"exLqv2ACDRIaV7ZK1iL8aGzGYQvKVuT3U2CT7FsQREBxRah6JrkVCoFy0koY1YqV\"};\n\n    for (let i = 0; i < js_urls.length; i++) {\n      const url = js_urls[i];\n      const element = document.createElement('script');\n      element.onload = on_load;\n      element.onerror = on_error.bind(null, url);\n      element.async = false;\n      element.src = url;\n      if (url in hashes) {\n        element.crossOrigin = \"anonymous\";\n        element.integrity = \"sha384-\" + hashes[url];\n      }\n      console.debug(\"Bokeh: injecting script tag for BokehJS library: \", url);\n      document.head.appendChild(element);\n    }\n  };\n\n  function inject_raw_css(css) {\n    const element = document.createElement(\"style\");\n    element.appendChild(document.createTextNode(css));\n    document.body.appendChild(element);\n  }\n\n  \n  var js_urls = [\"https://cdn.bokeh.org/bokeh/release/bokeh-2.3.0.min.js\", \"https://cdn.bokeh.org/bokeh/release/bokeh-widgets-2.3.0.min.js\", \"https://cdn.bokeh.org/bokeh/release/bokeh-tables-2.3.0.min.js\"];\n  var css_urls = [];\n  \n\n  var inline_js = [\n    function(Bokeh) {\n      Bokeh.set_log_level(\"info\");\n    },\n    function(Bokeh) {\n    \n    \n    }\n  ];\n\n  function run_inline_js() {\n    \n    if (root.Bokeh !== undefined || force === true) {\n      \n    for (var i = 0; i < inline_js.length; i++) {\n      inline_js[i].call(root, root.Bokeh);\n    }\n    if (force === true) {\n        display_loaded();\n      }} else if (Date.now() < root._bokeh_timeout) {\n      setTimeout(run_inline_js, 100);\n    } else if (!root._bokeh_failed_load) {\n      console.log(\"Bokeh: BokehJS failed to load within specified timeout.\");\n      root._bokeh_failed_load = true;\n    } else if (force !== true) {\n      var cell = $(document.getElementById(\"1002\")).parents('.cell').data().cell;\n      cell.output_area.append_execute_result(NB_LOAD_WARNING)\n    }\n\n  }\n\n  if (root._bokeh_is_loading === 0) {\n    console.debug(\"Bokeh: BokehJS loaded, going straight to plotting\");\n    run_inline_js();\n  } else {\n    load_libs(css_urls, js_urls, function() {\n      console.debug(\"Bokeh: BokehJS plotting callback run at\", now());\n      run_inline_js();\n    });\n  }\n}(window));"
     },
     "metadata": {},
     "output_type": "display_data"
    }
   ],
   "source": [
    "# Imports\n",
    "from sedkit import SED, Catalog\n",
    "import astropy.units as q\n",
    "import numpy as np\n",
    "from pkg_resources import resource_filename\n",
    "from bokeh.io import output_notebook, show\n",
    "output_notebook()"
   ]
  },
  {
   "cell_type": "markdown",
   "metadata": {},
   "source": [
    "First we initialize an empty catalog."
   ]
  },
  {
   "cell_type": "code",
   "execution_count": 2,
   "metadata": {},
   "outputs": [],
   "source": [
    "# Make an SED catalog\n",
    "cat = Catalog()"
   ]
  },
  {
   "cell_type": "markdown",
   "metadata": {},
   "source": [
    "Now let's make a few photometric SEDs."
   ]
  },
  {
   "cell_type": "code",
   "execution_count": 3,
   "metadata": {},
   "outputs": [
    {
     "name": "stdout",
     "output_type": "stream",
     "text": [
      "[sedkit] SED initialized\n",
      "[sedkit] Setting parallax to (<Quantity 125.65919986 mas>, <Quantity 0.01013792 mas>) with reference 'None'\n",
      "[sedkit] Setting distance to (<Quantity 7.96 pc>, <Quantity 0. pc>, <Quantity 0. pc>) with reference 'None'\n",
      "[sedkit] Setting radius to (<Quantity 0.08 solRad>, <Quantity 0. solRad>, <Quantity 0. solRad>) with reference '2013ApJS..208....9P'\n",
      "[sedkit] Setting spectral_type to (73.5, 0.5, 'V', None, None) with reference 'None'\n",
      "[sedkit] Setting name to 2MASS J00361617+1821104 0\n",
      "[sedkit] Setting 2MASS.H photometry to 11.588 (0.030) with reference 'None'\n",
      "[sedkit] Setting 2MASS.J photometry to 12.466 (0.027) with reference 'None'\n",
      "[sedkit] Setting 2MASS.Ks photometry to 11.058 (0.021) with reference 'None'\n",
      "[sedkit] Setting SDSS.u photometry to 24.688 (1.389) with reference 'None'\n",
      "[sedkit] Setting SDSS.g photometry to 22.524 (0.137) with reference 'None'\n",
      "[sedkit] Setting SDSS.r photometry to 19.690 (0.019) with reference 'None'\n",
      "[sedkit] Setting SDSS.i photometry to 17.179 (0.005) with reference 'None'\n",
      "[sedkit] Setting SDSS.z photometry to 15.217 (0.005) with reference 'None'\n",
      "[sedkit] Successfully added SED '2MASS J00361617+1821104 0'\n",
      "[sedkit] SED initialized\n",
      "[sedkit] Setting parallax to (<Quantity 105.03747718 mas>, <Quantity 0.44829345 mas>) with reference 'None'\n",
      "[sedkit] Setting distance to (<Quantity 9.52 pc>, <Quantity 0.04 pc>, <Quantity 0. pc>) with reference 'None'\n",
      "[sedkit] Setting radius to (<Quantity 0.08 solRad>, <Quantity 0. solRad>, <Quantity 0. solRad>) with reference '2013ApJS..208....9P'\n",
      "[sedkit] Setting spectral_type to (73.5, 0.5, 'V', None, None) with reference 'None'\n",
      "[sedkit] Setting name to 2MASS J00361617+1821104 1\n",
      "[sedkit] Setting 2MASS.H photometry to 11.588 (0.030) with reference 'None'\n",
      "[sedkit] Setting 2MASS.J photometry to 12.466 (0.027) with reference 'None'\n",
      "[sedkit] Setting 2MASS.Ks photometry to 11.058 (0.021) with reference 'None'\n",
      "[sedkit] Setting SDSS.u photometry to 24.688 (1.389) with reference 'None'\n",
      "[sedkit] Setting SDSS.g photometry to 22.524 (0.137) with reference 'None'\n",
      "[sedkit] Setting SDSS.r photometry to 19.690 (0.019) with reference 'None'\n",
      "[sedkit] Setting SDSS.i photometry to 17.179 (0.005) with reference 'None'\n",
      "[sedkit] Setting SDSS.z photometry to 15.217 (0.005) with reference 'None'\n",
      "[sedkit] Successfully added SED '2MASS J00361617+1821104 1'\n",
      "[sedkit] SED initialized\n",
      "[sedkit] Setting parallax to (<Quantity 133.35658134 mas>, <Quantity 0.04707639 mas>) with reference 'None'\n",
      "[sedkit] Setting distance to (<Quantity 7.5 pc>, <Quantity 0. pc>, <Quantity 0. pc>) with reference 'None'\n",
      "[sedkit] Setting radius to (<Quantity 0.08 solRad>, <Quantity 0. solRad>, <Quantity 0. solRad>) with reference '2013ApJS..208....9P'\n",
      "[sedkit] Setting spectral_type to (73.5, 0.5, 'V', None, None) with reference 'None'\n",
      "[sedkit] Setting name to 2MASS J00361617+1821104 2\n",
      "[sedkit] Setting 2MASS.H photometry to 11.588 (0.030) with reference 'None'\n",
      "[sedkit] Setting 2MASS.J photometry to 12.466 (0.027) with reference 'None'\n",
      "[sedkit] Setting 2MASS.Ks photometry to 11.058 (0.021) with reference 'None'\n",
      "[sedkit] Setting SDSS.u photometry to 24.688 (1.389) with reference 'None'\n",
      "[sedkit] Setting SDSS.g photometry to 22.524 (0.137) with reference 'None'\n",
      "[sedkit] Setting SDSS.r photometry to 19.690 (0.019) with reference 'None'\n",
      "[sedkit] Setting SDSS.i photometry to 17.179 (0.005) with reference 'None'\n",
      "[sedkit] Setting SDSS.z photometry to 15.217 (0.005) with reference 'None'\n",
      "[sedkit] Successfully added SED '2MASS J00361617+1821104 2'\n",
      "[sedkit] SED initialized\n",
      "[sedkit] Setting parallax to (<Quantity 115.59599399 mas>, <Quantity 0.03048105 mas>) with reference 'None'\n",
      "[sedkit] Setting distance to (<Quantity 8.65 pc>, <Quantity 0. pc>, <Quantity 0. pc>) with reference 'None'\n",
      "[sedkit] Setting radius to (<Quantity 0.08 solRad>, <Quantity 0. solRad>, <Quantity 0. solRad>) with reference '2013ApJS..208....9P'\n",
      "[sedkit] Setting spectral_type to (73.5, 0.5, 'V', None, None) with reference 'None'\n",
      "[sedkit] Setting name to 2MASS J00361617+1821104 3\n",
      "[sedkit] Setting 2MASS.H photometry to 11.588 (0.030) with reference 'None'\n",
      "[sedkit] Setting 2MASS.J photometry to 12.466 (0.027) with reference 'None'\n",
      "[sedkit] Setting 2MASS.Ks photometry to 11.058 (0.021) with reference 'None'\n",
      "[sedkit] Setting SDSS.u photometry to 24.688 (1.389) with reference 'None'\n",
      "[sedkit] Setting SDSS.g photometry to 22.524 (0.137) with reference 'None'\n",
      "[sedkit] Setting SDSS.r photometry to 19.690 (0.019) with reference 'None'\n",
      "[sedkit] Setting SDSS.i photometry to 17.179 (0.005) with reference 'None'\n",
      "[sedkit] Setting SDSS.z photometry to 15.217 (0.005) with reference 'None'\n",
      "[sedkit] Successfully added SED '2MASS J00361617+1821104 3'\n",
      "[sedkit] SED initialized\n",
      "[sedkit] Setting parallax to (<Quantity 113.03193193 mas>, <Quantity 0.18304708 mas>) with reference 'None'\n",
      "[sedkit] Setting distance to (<Quantity 8.85 pc>, <Quantity 0.01 pc>, <Quantity 0. pc>) with reference 'None'\n",
      "[sedkit] Setting radius to (<Quantity 0.08 solRad>, <Quantity 0. solRad>, <Quantity 0. solRad>) with reference '2013ApJS..208....9P'\n",
      "[sedkit] Setting spectral_type to (73.5, 0.5, 'V', None, None) with reference 'None'\n",
      "[sedkit] Setting name to 2MASS J00361617+1821104 4\n",
      "[sedkit] Setting 2MASS.H photometry to 11.588 (0.030) with reference 'None'\n",
      "[sedkit] Setting 2MASS.J photometry to 12.466 (0.027) with reference 'None'\n",
      "[sedkit] Setting 2MASS.Ks photometry to 11.058 (0.021) with reference 'None'\n",
      "[sedkit] Setting SDSS.u photometry to 24.688 (1.389) with reference 'None'\n",
      "[sedkit] Setting SDSS.g photometry to 22.524 (0.137) with reference 'None'\n",
      "[sedkit] Setting SDSS.r photometry to 19.690 (0.019) with reference 'None'\n",
      "[sedkit] Setting SDSS.i photometry to 17.179 (0.005) with reference 'None'\n",
      "[sedkit] Setting SDSS.z photometry to 15.217 (0.005) with reference 'None'\n",
      "[sedkit] Successfully added SED '2MASS J00361617+1821104 4'\n",
      "[sedkit] SED initialized\n",
      "[sedkit] Setting parallax to (<Quantity 98.38923809 mas>, <Quantity 0.20240003 mas>) with reference 'None'\n",
      "[sedkit] Setting distance to (<Quantity 10.16 pc>, <Quantity 0.02 pc>, <Quantity 0. pc>) with reference 'None'\n",
      "[sedkit] Setting radius to (<Quantity 0.08 solRad>, <Quantity 0. solRad>, <Quantity 0. solRad>) with reference '2013ApJS..208....9P'\n",
      "[sedkit] Setting spectral_type to (73.5, 0.5, 'V', None, None) with reference 'None'\n",
      "[sedkit] Setting name to 2MASS J00361617+1821104 5\n",
      "[sedkit] Setting 2MASS.H photometry to 11.588 (0.030) with reference 'None'\n",
      "[sedkit] Setting 2MASS.J photometry to 12.466 (0.027) with reference 'None'\n",
      "[sedkit] Setting 2MASS.Ks photometry to 11.058 (0.021) with reference 'None'\n",
      "[sedkit] Setting SDSS.u photometry to 24.688 (1.389) with reference 'None'\n",
      "[sedkit] Setting SDSS.g photometry to 22.524 (0.137) with reference 'None'\n",
      "[sedkit] Setting SDSS.r photometry to 19.690 (0.019) with reference 'None'\n",
      "[sedkit] Setting SDSS.i photometry to 17.179 (0.005) with reference 'None'\n",
      "[sedkit] Setting SDSS.z photometry to 15.217 (0.005) with reference 'None'\n",
      "[sedkit] Successfully added SED '2MASS J00361617+1821104 5'\n",
      "[sedkit] SED initialized\n",
      "[sedkit] Setting parallax to (<Quantity 115.92391064 mas>, <Quantity 0.14906917 mas>) with reference 'None'\n",
      "[sedkit] Setting distance to (<Quantity 8.63 pc>, <Quantity 0.01 pc>, <Quantity 0. pc>) with reference 'None'\n",
      "[sedkit] Setting radius to (<Quantity 0.08 solRad>, <Quantity 0. solRad>, <Quantity 0. solRad>) with reference '2013ApJS..208....9P'\n",
      "[sedkit] Setting spectral_type to (73.5, 0.5, 'V', None, None) with reference 'None'\n",
      "[sedkit] Setting name to 2MASS J00361617+1821104 6\n",
      "[sedkit] Setting 2MASS.H photometry to 11.588 (0.030) with reference 'None'\n",
      "[sedkit] Setting 2MASS.J photometry to 12.466 (0.027) with reference 'None'\n",
      "[sedkit] Setting 2MASS.Ks photometry to 11.058 (0.021) with reference 'None'\n",
      "[sedkit] Setting SDSS.u photometry to 24.688 (1.389) with reference 'None'\n",
      "[sedkit] Setting SDSS.g photometry to 22.524 (0.137) with reference 'None'\n",
      "[sedkit] Setting SDSS.r photometry to 19.690 (0.019) with reference 'None'\n",
      "[sedkit] Setting SDSS.i photometry to 17.179 (0.005) with reference 'None'\n",
      "[sedkit] Setting SDSS.z photometry to 15.217 (0.005) with reference 'None'\n",
      "[sedkit] Successfully added SED '2MASS J00361617+1821104 6'\n",
      "[sedkit] SED initialized\n",
      "[sedkit] Setting parallax to (<Quantity 131.84339334 mas>, <Quantity 0.14129446 mas>) with reference 'None'\n",
      "[sedkit] Setting distance to (<Quantity 7.58 pc>, <Quantity 0.01 pc>, <Quantity 0. pc>) with reference 'None'\n",
      "[sedkit] Setting radius to (<Quantity 0.08 solRad>, <Quantity 0. solRad>, <Quantity 0. solRad>) with reference '2013ApJS..208....9P'\n",
      "[sedkit] Setting spectral_type to (73.5, 0.5, 'V', None, None) with reference 'None'\n",
      "[sedkit] Setting name to 2MASS J00361617+1821104 7\n"
     ]
    },
    {
     "name": "stdout",
     "output_type": "stream",
     "text": [
      "[sedkit] Setting 2MASS.H photometry to 11.588 (0.030) with reference 'None'\n",
      "[sedkit] Setting 2MASS.J photometry to 12.466 (0.027) with reference 'None'\n",
      "[sedkit] Setting 2MASS.Ks photometry to 11.058 (0.021) with reference 'None'\n",
      "[sedkit] Setting SDSS.u photometry to 24.688 (1.389) with reference 'None'\n",
      "[sedkit] Setting SDSS.g photometry to 22.524 (0.137) with reference 'None'\n",
      "[sedkit] Setting SDSS.r photometry to 19.690 (0.019) with reference 'None'\n",
      "[sedkit] Setting SDSS.i photometry to 17.179 (0.005) with reference 'None'\n",
      "[sedkit] Setting SDSS.z photometry to 15.217 (0.005) with reference 'None'\n",
      "[sedkit] Successfully added SED '2MASS J00361617+1821104 7'\n",
      "[sedkit] SED initialized\n",
      "[sedkit] Setting parallax to (<Quantity 114.97613208 mas>, <Quantity 0.27196752 mas>) with reference 'None'\n",
      "[sedkit] Setting distance to (<Quantity 8.7 pc>, <Quantity 0.02 pc>, <Quantity 0. pc>) with reference 'None'\n",
      "[sedkit] Setting radius to (<Quantity 0.08 solRad>, <Quantity 0. solRad>, <Quantity 0. solRad>) with reference '2013ApJS..208....9P'\n",
      "[sedkit] Setting spectral_type to (73.5, 0.5, 'V', None, None) with reference 'None'\n",
      "[sedkit] Setting name to 2MASS J00361617+1821104 8\n",
      "[sedkit] Setting 2MASS.H photometry to 11.588 (0.030) with reference 'None'\n",
      "[sedkit] Setting 2MASS.J photometry to 12.466 (0.027) with reference 'None'\n",
      "[sedkit] Setting 2MASS.Ks photometry to 11.058 (0.021) with reference 'None'\n",
      "[sedkit] Setting SDSS.u photometry to 24.688 (1.389) with reference 'None'\n",
      "[sedkit] Setting SDSS.g photometry to 22.524 (0.137) with reference 'None'\n",
      "[sedkit] Setting SDSS.r photometry to 19.690 (0.019) with reference 'None'\n",
      "[sedkit] Setting SDSS.i photometry to 17.179 (0.005) with reference 'None'\n",
      "[sedkit] Setting SDSS.z photometry to 15.217 (0.005) with reference 'None'\n",
      "[sedkit] Successfully added SED '2MASS J00361617+1821104 8'\n",
      "[sedkit] SED initialized\n",
      "[sedkit] Setting parallax to (<Quantity 113.39532198 mas>, <Quantity 0.21097586 mas>) with reference 'None'\n",
      "[sedkit] Setting distance to (<Quantity 8.82 pc>, <Quantity 0.02 pc>, <Quantity 0. pc>) with reference 'None'\n",
      "[sedkit] Setting radius to (<Quantity 0.08 solRad>, <Quantity 0. solRad>, <Quantity 0. solRad>) with reference '2013ApJS..208....9P'\n",
      "[sedkit] Setting spectral_type to (73.5, 0.5, 'V', None, None) with reference 'None'\n",
      "[sedkit] Setting name to 2MASS J00361617+1821104 9\n",
      "[sedkit] Setting 2MASS.H photometry to 11.588 (0.030) with reference 'None'\n",
      "[sedkit] Setting 2MASS.J photometry to 12.466 (0.027) with reference 'None'\n",
      "[sedkit] Setting 2MASS.Ks photometry to 11.058 (0.021) with reference 'None'\n",
      "[sedkit] Setting SDSS.u photometry to 24.688 (1.389) with reference 'None'\n",
      "[sedkit] Setting SDSS.g photometry to 22.524 (0.137) with reference 'None'\n",
      "[sedkit] Setting SDSS.r photometry to 19.690 (0.019) with reference 'None'\n",
      "[sedkit] Setting SDSS.i photometry to 17.179 (0.005) with reference 'None'\n",
      "[sedkit] Setting SDSS.z photometry to 15.217 (0.005) with reference 'None'\n",
      "[sedkit] Successfully added SED '2MASS J00361617+1821104 9'\n"
     ]
    }
   ],
   "source": [
    "# Make 10 SEDs with different parallaxes\n",
    "for n in range(10):\n",
    "    plx = np.random.normal(loc=114, scale=10)*q.mas, abs(np.random.normal(loc=0.2, scale=0.2))*q.mas\n",
    "    s = SED(parallax=plx, spectral_type='L3.5', name='2MASS J00361617+1821104 {}'.format(n))\n",
    "    s.add_photometry_file(resource_filename('sedkit', 'data/L3_photometry.txt'))\n",
    "    cat.add_SED(s)"
   ]
  },
  {
   "cell_type": "code",
   "execution_count": 4,
   "metadata": {},
   "outputs": [
    {
     "data": {
      "text/html": [
       "\n",
       "\n",
       "\n",
       "\n",
       "\n",
       "\n",
       "  <div class=\"bk-root\" id=\"f3cba883-60ae-433d-9fce-31889da36bc5\" data-root-id=\"1313\"></div>\n"
      ]
     },
     "metadata": {},
     "output_type": "display_data"
    },
    {
     "data": {
      "application/javascript": [
       "(function(root) {\n",
       "  function embed_document(root) {\n",
       "    \n",
       "  var docs_json = {\"57c8b8af-8a48-41dc-b626-0dd4858e43fb\":{\"defs\":[{\"extends\":null,\"module\":null,\"name\":\"DataModel\",\"overrides\":[],\"properties\":[]}],\"roots\":{\"references\":[{\"attributes\":{\"below\":[{\"id\":\"1324\"}],\"center\":[{\"id\":\"1327\"},{\"id\":\"1331\"},{\"id\":\"1362\"}],\"height\":500,\"left\":[{\"id\":\"1328\"}],\"renderers\":[{\"id\":\"1350\"},{\"id\":\"1367\"}],\"title\":{\"id\":\"1314\"},\"toolbar\":{\"id\":\"1338\"},\"width\":800,\"x_range\":{\"id\":\"1369\"},\"x_scale\":{\"id\":\"1320\"},\"y_range\":{\"id\":\"1370\"},\"y_scale\":{\"id\":\"1322\"}},\"id\":\"1313\",\"subtype\":\"Figure\",\"type\":\"Plot\"},{\"attributes\":{\"data_source\":{\"id\":\"1346\"},\"glyph\":{\"id\":\"1348\"},\"hover_glyph\":null,\"muted_glyph\":null,\"name\":\"photometry\",\"nonselection_glyph\":{\"id\":\"1349\"},\"view\":{\"id\":\"1351\"}},\"id\":\"1350\",\"type\":\"GlyphRenderer\"},{\"attributes\":{\"overlay\":{\"id\":\"1337\"}},\"id\":\"1334\",\"type\":\"BoxZoomTool\"},{\"attributes\":{},\"id\":\"1332\",\"type\":\"PanTool\"},{\"attributes\":{},\"id\":\"1333\",\"type\":\"ResetTool\"},{\"attributes\":{},\"id\":\"1360\",\"type\":\"UnionRenderers\"},{\"attributes\":{\"num_minor_ticks\":10},\"id\":\"1329\",\"type\":\"LogTicker\"},{\"attributes\":{\"fill_alpha\":{\"value\":0.7},\"fill_color\":{\"value\":\"#1f77b4\"},\"line_color\":{\"value\":\"#1f77b4\"},\"size\":{\"value\":8},\"x\":{\"field\":\"x\"},\"y\":{\"field\":\"y\"}},\"id\":\"1348\",\"type\":\"Circle\"},{\"attributes\":{\"axis\":{\"id\":\"1328\"},\"dimension\":1,\"ticker\":null},\"id\":\"1331\",\"type\":\"Grid\"},{\"attributes\":{\"active_multi\":null,\"tools\":[{\"id\":\"1332\"},{\"id\":\"1333\"},{\"id\":\"1334\"},{\"id\":\"1335\"},{\"id\":\"1336\"},{\"id\":\"1344\"}]},\"id\":\"1338\",\"type\":\"Toolbar\"},{\"attributes\":{\"end\":6.449188939088813e-15,\"start\":2.4261282179915544e-19},\"id\":\"1370\",\"type\":\"Range1d\"},{\"attributes\":{},\"id\":\"1359\",\"type\":\"Selection\"},{\"attributes\":{\"data\":{\"desc\":[\"SDSS.u\",\"SDSS.g\",\"SDSS.r\",\"SDSS.i\",\"SDSS.z\",\"2MASS.J\",\"2MASS.H\",\"2MASS.Ks\"],\"x\":{\"__ndarray__\":\"AAAAAAAA1z8AAAAAALTdPwAAAAAAmOM/AAAAAADQ5z8AAAAAAHjsPwAAAAAAxPM/AAAAAACY+j8AAAAAAEQBQA==\",\"dtype\":\"float64\",\"order\":\"little\",\"shape\":[8]},\"y\":{\"__ndarray__\":\"4zAmntPmITzQLxOCr71YPEBdz3HqcIM8G+2HUJ96qzybA99MHgrJPMiZAJtoC+08hFNODDY75zyDCPmhyj7dPA==\",\"dtype\":\"float64\",\"order\":\"little\",\"shape\":[8]},\"z\":{\"__ndarray__\":\"Lu0j7X/lJjy6vzr40/coPLpPRKE1xSU8YgUJ34YzMDzb/jFqp4ZNPHhzAXhSG5c8iqyaPESKlDwmFn5z+RiCPA==\",\"dtype\":\"float64\",\"order\":\"little\",\"shape\":[8]}},\"selected\":{\"id\":\"1359\"},\"selection_policy\":{\"id\":\"1360\"}},\"id\":\"1346\",\"type\":\"ColumnDataSource\"},{\"attributes\":{\"label\":{\"value\":\"Photometry\"},\"renderers\":[{\"id\":\"1350\"}]},\"id\":\"1363\",\"type\":\"LegendItem\"},{\"attributes\":{\"bottom_units\":\"screen\",\"fill_alpha\":0.5,\"fill_color\":\"lightgrey\",\"left_units\":\"screen\",\"level\":\"overlay\",\"line_alpha\":1.0,\"line_color\":\"black\",\"line_dash\":[4,4],\"line_width\":2,\"right_units\":\"screen\",\"syncable\":false,\"top_units\":\"screen\"},\"id\":\"1337\",\"type\":\"BoxAnnotation\"},{\"attributes\":{\"fill_alpha\":{\"value\":0.1},\"fill_color\":{\"value\":\"#1f77b4\"},\"line_alpha\":{\"value\":0.1},\"line_color\":{\"value\":\"#1f77b4\"},\"size\":{\"value\":8},\"x\":{\"field\":\"x\"},\"y\":{\"field\":\"y\"}},\"id\":\"1349\",\"type\":\"Circle\"},{\"attributes\":{\"click_policy\":\"hide\",\"items\":[{\"id\":\"1363\"}]},\"id\":\"1362\",\"type\":\"Legend\"},{\"attributes\":{},\"id\":\"1355\",\"type\":\"AllLabels\"},{\"attributes\":{\"axis_label\":\"Flux Density [erg / (Angstrom cm2 s)]\",\"formatter\":{\"id\":\"1357\"},\"major_label_policy\":{\"id\":\"1358\"},\"ticker\":{\"id\":\"1329\"}},\"id\":\"1328\",\"type\":\"LogAxis\"},{\"attributes\":{\"ticker\":null},\"id\":\"1354\",\"type\":\"LogTickFormatter\"},{\"attributes\":{\"axis_label\":\"Wavelength [um]\",\"formatter\":{\"id\":\"1354\"},\"major_label_policy\":{\"id\":\"1355\"},\"ticker\":{\"id\":\"1325\"}},\"id\":\"1324\",\"type\":\"LogAxis\"},{\"attributes\":{\"end\":21.599999999999998,\"start\":0.24},\"id\":\"1369\",\"type\":\"Range1d\"},{\"attributes\":{\"axis\":{\"id\":\"1324\"},\"ticker\":null},\"id\":\"1327\",\"type\":\"Grid\"},{\"attributes\":{\"num_minor_ticks\":10},\"id\":\"1325\",\"type\":\"LogTicker\"},{\"attributes\":{\"ticker\":null},\"id\":\"1357\",\"type\":\"LogTickFormatter\"},{\"attributes\":{},\"id\":\"1381\",\"type\":\"UnionRenderers\"},{\"attributes\":{\"data\":{\"xs\":[[0.359375,0.359375],[0.464111328125,0.464111328125],[0.6123046875,0.6123046875],[0.744140625,0.744140625],[0.8896484375,0.8896484375],[1.2353515625,1.2353515625],[1.662109375,1.662109375],[2.158203125,2.158203125]],\"ys\":[[-1.3538477847364674e-19,1.1058360656702684e-18],[4.688079248240804e-18,6.041601476898345e-18],[3.3134806752698e-17,3.431497976811379e-17],[1.8979554714729404e-16,1.9155209308916145e-16],[6.917852107577954e-16,6.981876397023346e-16],[3.1444269055558143e-15,3.304762033532999e-15],[2.5079288886915566e-15,2.6504544891101352e-15],[1.592044873413413e-15,1.6548333850338598e-15]]},\"selected\":{\"id\":\"1380\"},\"selection_policy\":{\"id\":\"1381\"}},\"id\":\"1364\",\"type\":\"ColumnDataSource\"},{\"attributes\":{},\"id\":\"1335\",\"type\":\"WheelZoomTool\"},{\"attributes\":{\"callback\":null,\"mode\":\"vline\",\"names\":[\"photometry\",\"nondetection\"],\"tooltips\":[[\"Band\",\"@desc\"],[\"Wave\",\"@x\"],[\"Flux\",\"@y\"],[\"Unc\",\"@z\"]]},\"id\":\"1344\",\"type\":\"HoverTool\"},{\"attributes\":{},\"id\":\"1380\",\"type\":\"Selection\"},{\"attributes\":{\"data_source\":{\"id\":\"1364\"},\"glyph\":{\"id\":\"1365\"},\"hover_glyph\":null,\"muted_glyph\":null,\"nonselection_glyph\":{\"id\":\"1366\"},\"view\":{\"id\":\"1368\"}},\"id\":\"1367\",\"type\":\"GlyphRenderer\"},{\"attributes\":{},\"id\":\"1320\",\"type\":\"LogScale\"},{\"attributes\":{\"line_alpha\":{\"value\":0.1},\"line_color\":{\"value\":\"#1f77b4\"},\"xs\":{\"field\":\"xs\"},\"ys\":{\"field\":\"ys\"}},\"id\":\"1366\",\"type\":\"MultiLine\"},{\"attributes\":{\"text\":\"2MASS J00361617+1821104 9\"},\"id\":\"1314\",\"type\":\"Title\"},{\"attributes\":{\"source\":{\"id\":\"1364\"}},\"id\":\"1368\",\"type\":\"CDSView\"},{\"attributes\":{\"line_color\":{\"value\":\"#1f77b4\"},\"xs\":{\"field\":\"xs\"},\"ys\":{\"field\":\"ys\"}},\"id\":\"1365\",\"type\":\"MultiLine\"},{\"attributes\":{},\"id\":\"1358\",\"type\":\"AllLabels\"},{\"attributes\":{\"source\":{\"id\":\"1346\"}},\"id\":\"1351\",\"type\":\"CDSView\"},{\"attributes\":{},\"id\":\"1322\",\"type\":\"LogScale\"},{\"attributes\":{},\"id\":\"1336\",\"type\":\"SaveTool\"}],\"root_ids\":[\"1313\"]},\"title\":\"Bokeh Application\",\"version\":\"2.3.0\"}};\n",
       "  var render_items = [{\"docid\":\"57c8b8af-8a48-41dc-b626-0dd4858e43fb\",\"root_ids\":[\"1313\"],\"roots\":{\"1313\":\"f3cba883-60ae-433d-9fce-31889da36bc5\"}}];\n",
       "  root.Bokeh.embed.embed_items_notebook(docs_json, render_items);\n",
       "\n",
       "  }\n",
       "  if (root.Bokeh !== undefined) {\n",
       "    embed_document(root);\n",
       "  } else {\n",
       "    var attempts = 0;\n",
       "    var timer = setInterval(function(root) {\n",
       "      if (root.Bokeh !== undefined) {\n",
       "        clearInterval(timer);\n",
       "        embed_document(root);\n",
       "      } else {\n",
       "        attempts++;\n",
       "        if (attempts > 100) {\n",
       "          clearInterval(timer);\n",
       "          console.log(\"Bokeh: ERROR: Unable to run BokehJS code because BokehJS library is missing\");\n",
       "        }\n",
       "      }\n",
       "    }, 10, root)\n",
       "  }\n",
       "})(window);"
      ],
      "application/vnd.bokehjs_exec.v0+json": ""
     },
     "metadata": {
      "application/vnd.bokehjs_exec.v0+json": {
       "id": "1313"
      }
     },
     "output_type": "display_data"
    },
    {
     "data": {
      "text/html": [
       "<div style=\"display: table;\"><div style=\"display: table-row;\"><div style=\"display: table-cell;\"><b title=\"bokeh.plotting.figure.Figure\">Figure</b>(</div><div style=\"display: table-cell;\">id&nbsp;=&nbsp;'1313', <span id=\"1444\" style=\"cursor: pointer;\">&hellip;)</span></div></div><div class=\"1443\" style=\"display: none;\"><div style=\"display: table-cell;\"></div><div style=\"display: table-cell;\">above&nbsp;=&nbsp;[],</div></div><div class=\"1443\" style=\"display: none;\"><div style=\"display: table-cell;\"></div><div style=\"display: table-cell;\">align&nbsp;=&nbsp;'start',</div></div><div class=\"1443\" style=\"display: none;\"><div style=\"display: table-cell;\"></div><div style=\"display: table-cell;\">aspect_ratio&nbsp;=&nbsp;None,</div></div><div class=\"1443\" style=\"display: none;\"><div style=\"display: table-cell;\"></div><div style=\"display: table-cell;\">aspect_scale&nbsp;=&nbsp;1,</div></div><div class=\"1443\" style=\"display: none;\"><div style=\"display: table-cell;\"></div><div style=\"display: table-cell;\">background&nbsp;=&nbsp;None,</div></div><div class=\"1443\" style=\"display: none;\"><div style=\"display: table-cell;\"></div><div style=\"display: table-cell;\">background_fill_alpha&nbsp;=&nbsp;1.0,</div></div><div class=\"1443\" style=\"display: none;\"><div style=\"display: table-cell;\"></div><div style=\"display: table-cell;\">background_fill_color&nbsp;=&nbsp;'#ffffff',</div></div><div class=\"1443\" style=\"display: none;\"><div style=\"display: table-cell;\"></div><div style=\"display: table-cell;\">below&nbsp;=&nbsp;[LogAxis(id='1324', ...)],</div></div><div class=\"1443\" style=\"display: none;\"><div style=\"display: table-cell;\"></div><div style=\"display: table-cell;\">border_fill_alpha&nbsp;=&nbsp;1.0,</div></div><div class=\"1443\" style=\"display: none;\"><div style=\"display: table-cell;\"></div><div style=\"display: table-cell;\">border_fill_color&nbsp;=&nbsp;'#ffffff',</div></div><div class=\"1443\" style=\"display: none;\"><div style=\"display: table-cell;\"></div><div style=\"display: table-cell;\">center&nbsp;=&nbsp;[Grid(id='1327', ...), Grid(id='1331', ...), Legend(id='1362', ...)],</div></div><div class=\"1443\" style=\"display: none;\"><div style=\"display: table-cell;\"></div><div style=\"display: table-cell;\">css_classes&nbsp;=&nbsp;[],</div></div><div class=\"1443\" style=\"display: none;\"><div style=\"display: table-cell;\"></div><div style=\"display: table-cell;\">disabled&nbsp;=&nbsp;False,</div></div><div class=\"1443\" style=\"display: none;\"><div style=\"display: table-cell;\"></div><div style=\"display: table-cell;\">extra_x_ranges&nbsp;=&nbsp;{},</div></div><div class=\"1443\" style=\"display: none;\"><div style=\"display: table-cell;\"></div><div style=\"display: table-cell;\">extra_y_ranges&nbsp;=&nbsp;{},</div></div><div class=\"1443\" style=\"display: none;\"><div style=\"display: table-cell;\"></div><div style=\"display: table-cell;\">frame_height&nbsp;=&nbsp;None,</div></div><div class=\"1443\" style=\"display: none;\"><div style=\"display: table-cell;\"></div><div style=\"display: table-cell;\">frame_width&nbsp;=&nbsp;None,</div></div><div class=\"1443\" style=\"display: none;\"><div style=\"display: table-cell;\"></div><div style=\"display: table-cell;\">height&nbsp;=&nbsp;500,</div></div><div class=\"1443\" style=\"display: none;\"><div style=\"display: table-cell;\"></div><div style=\"display: table-cell;\">height_policy&nbsp;=&nbsp;'auto',</div></div><div class=\"1443\" style=\"display: none;\"><div style=\"display: table-cell;\"></div><div style=\"display: table-cell;\">hidpi&nbsp;=&nbsp;True,</div></div><div class=\"1443\" style=\"display: none;\"><div style=\"display: table-cell;\"></div><div style=\"display: table-cell;\">inner_height&nbsp;=&nbsp;0,</div></div><div class=\"1443\" style=\"display: none;\"><div style=\"display: table-cell;\"></div><div style=\"display: table-cell;\">inner_width&nbsp;=&nbsp;0,</div></div><div class=\"1443\" style=\"display: none;\"><div style=\"display: table-cell;\"></div><div style=\"display: table-cell;\">js_event_callbacks&nbsp;=&nbsp;{},</div></div><div class=\"1443\" style=\"display: none;\"><div style=\"display: table-cell;\"></div><div style=\"display: table-cell;\">js_property_callbacks&nbsp;=&nbsp;{},</div></div><div class=\"1443\" style=\"display: none;\"><div style=\"display: table-cell;\"></div><div style=\"display: table-cell;\">left&nbsp;=&nbsp;[LogAxis(id='1328', ...)],</div></div><div class=\"1443\" style=\"display: none;\"><div style=\"display: table-cell;\"></div><div style=\"display: table-cell;\">lod_factor&nbsp;=&nbsp;10,</div></div><div class=\"1443\" style=\"display: none;\"><div style=\"display: table-cell;\"></div><div style=\"display: table-cell;\">lod_interval&nbsp;=&nbsp;300,</div></div><div class=\"1443\" style=\"display: none;\"><div style=\"display: table-cell;\"></div><div style=\"display: table-cell;\">lod_threshold&nbsp;=&nbsp;2000,</div></div><div class=\"1443\" style=\"display: none;\"><div style=\"display: table-cell;\"></div><div style=\"display: table-cell;\">lod_timeout&nbsp;=&nbsp;500,</div></div><div class=\"1443\" style=\"display: none;\"><div style=\"display: table-cell;\"></div><div style=\"display: table-cell;\">margin&nbsp;=&nbsp;(0, 0, 0, 0),</div></div><div class=\"1443\" style=\"display: none;\"><div style=\"display: table-cell;\"></div><div style=\"display: table-cell;\">match_aspect&nbsp;=&nbsp;False,</div></div><div class=\"1443\" style=\"display: none;\"><div style=\"display: table-cell;\"></div><div style=\"display: table-cell;\">max_height&nbsp;=&nbsp;None,</div></div><div class=\"1443\" style=\"display: none;\"><div style=\"display: table-cell;\"></div><div style=\"display: table-cell;\">max_width&nbsp;=&nbsp;None,</div></div><div class=\"1443\" style=\"display: none;\"><div style=\"display: table-cell;\"></div><div style=\"display: table-cell;\">min_border&nbsp;=&nbsp;5,</div></div><div class=\"1443\" style=\"display: none;\"><div style=\"display: table-cell;\"></div><div style=\"display: table-cell;\">min_border_bottom&nbsp;=&nbsp;None,</div></div><div class=\"1443\" style=\"display: none;\"><div style=\"display: table-cell;\"></div><div style=\"display: table-cell;\">min_border_left&nbsp;=&nbsp;None,</div></div><div class=\"1443\" style=\"display: none;\"><div style=\"display: table-cell;\"></div><div style=\"display: table-cell;\">min_border_right&nbsp;=&nbsp;None,</div></div><div class=\"1443\" style=\"display: none;\"><div style=\"display: table-cell;\"></div><div style=\"display: table-cell;\">min_border_top&nbsp;=&nbsp;None,</div></div><div class=\"1443\" style=\"display: none;\"><div style=\"display: table-cell;\"></div><div style=\"display: table-cell;\">min_height&nbsp;=&nbsp;None,</div></div><div class=\"1443\" style=\"display: none;\"><div style=\"display: table-cell;\"></div><div style=\"display: table-cell;\">min_width&nbsp;=&nbsp;None,</div></div><div class=\"1443\" style=\"display: none;\"><div style=\"display: table-cell;\"></div><div style=\"display: table-cell;\">name&nbsp;=&nbsp;None,</div></div><div class=\"1443\" style=\"display: none;\"><div style=\"display: table-cell;\"></div><div style=\"display: table-cell;\">outer_height&nbsp;=&nbsp;0,</div></div><div class=\"1443\" style=\"display: none;\"><div style=\"display: table-cell;\"></div><div style=\"display: table-cell;\">outer_width&nbsp;=&nbsp;0,</div></div><div class=\"1443\" style=\"display: none;\"><div style=\"display: table-cell;\"></div><div style=\"display: table-cell;\">outline_line_alpha&nbsp;=&nbsp;1.0,</div></div><div class=\"1443\" style=\"display: none;\"><div style=\"display: table-cell;\"></div><div style=\"display: table-cell;\">outline_line_cap&nbsp;=&nbsp;'butt',</div></div><div class=\"1443\" style=\"display: none;\"><div style=\"display: table-cell;\"></div><div style=\"display: table-cell;\">outline_line_color&nbsp;=&nbsp;'#e5e5e5',</div></div><div class=\"1443\" style=\"display: none;\"><div style=\"display: table-cell;\"></div><div style=\"display: table-cell;\">outline_line_dash&nbsp;=&nbsp;[],</div></div><div class=\"1443\" style=\"display: none;\"><div style=\"display: table-cell;\"></div><div style=\"display: table-cell;\">outline_line_dash_offset&nbsp;=&nbsp;0,</div></div><div class=\"1443\" style=\"display: none;\"><div style=\"display: table-cell;\"></div><div style=\"display: table-cell;\">outline_line_join&nbsp;=&nbsp;'bevel',</div></div><div class=\"1443\" style=\"display: none;\"><div style=\"display: table-cell;\"></div><div style=\"display: table-cell;\">outline_line_width&nbsp;=&nbsp;1,</div></div><div class=\"1443\" style=\"display: none;\"><div style=\"display: table-cell;\"></div><div style=\"display: table-cell;\">output_backend&nbsp;=&nbsp;'canvas',</div></div><div class=\"1443\" style=\"display: none;\"><div style=\"display: table-cell;\"></div><div style=\"display: table-cell;\">renderers&nbsp;=&nbsp;[GlyphRenderer(id='1350', ...), GlyphRenderer(id='1367', ...)],</div></div><div class=\"1443\" style=\"display: none;\"><div style=\"display: table-cell;\"></div><div style=\"display: table-cell;\">reset_policy&nbsp;=&nbsp;'standard',</div></div><div class=\"1443\" style=\"display: none;\"><div style=\"display: table-cell;\"></div><div style=\"display: table-cell;\">right&nbsp;=&nbsp;[],</div></div><div class=\"1443\" style=\"display: none;\"><div style=\"display: table-cell;\"></div><div style=\"display: table-cell;\">sizing_mode&nbsp;=&nbsp;None,</div></div><div class=\"1443\" style=\"display: none;\"><div style=\"display: table-cell;\"></div><div style=\"display: table-cell;\">subscribed_events&nbsp;=&nbsp;[],</div></div><div class=\"1443\" style=\"display: none;\"><div style=\"display: table-cell;\"></div><div style=\"display: table-cell;\">syncable&nbsp;=&nbsp;True,</div></div><div class=\"1443\" style=\"display: none;\"><div style=\"display: table-cell;\"></div><div style=\"display: table-cell;\">tags&nbsp;=&nbsp;[],</div></div><div class=\"1443\" style=\"display: none;\"><div style=\"display: table-cell;\"></div><div style=\"display: table-cell;\">title&nbsp;=&nbsp;Title(id='1314', ...),</div></div><div class=\"1443\" style=\"display: none;\"><div style=\"display: table-cell;\"></div><div style=\"display: table-cell;\">title_location&nbsp;=&nbsp;'above',</div></div><div class=\"1443\" style=\"display: none;\"><div style=\"display: table-cell;\"></div><div style=\"display: table-cell;\">toolbar&nbsp;=&nbsp;Toolbar(id='1338', ...),</div></div><div class=\"1443\" style=\"display: none;\"><div style=\"display: table-cell;\"></div><div style=\"display: table-cell;\">toolbar_location&nbsp;=&nbsp;'right',</div></div><div class=\"1443\" style=\"display: none;\"><div style=\"display: table-cell;\"></div><div style=\"display: table-cell;\">toolbar_sticky&nbsp;=&nbsp;True,</div></div><div class=\"1443\" style=\"display: none;\"><div style=\"display: table-cell;\"></div><div style=\"display: table-cell;\">visible&nbsp;=&nbsp;True,</div></div><div class=\"1443\" style=\"display: none;\"><div style=\"display: table-cell;\"></div><div style=\"display: table-cell;\">width&nbsp;=&nbsp;800,</div></div><div class=\"1443\" style=\"display: none;\"><div style=\"display: table-cell;\"></div><div style=\"display: table-cell;\">width_policy&nbsp;=&nbsp;'auto',</div></div><div class=\"1443\" style=\"display: none;\"><div style=\"display: table-cell;\"></div><div style=\"display: table-cell;\">x_range&nbsp;=&nbsp;Range1d(id='1369', ...),</div></div><div class=\"1443\" style=\"display: none;\"><div style=\"display: table-cell;\"></div><div style=\"display: table-cell;\">x_scale&nbsp;=&nbsp;LogScale(id='1320', ...),</div></div><div class=\"1443\" style=\"display: none;\"><div style=\"display: table-cell;\"></div><div style=\"display: table-cell;\">y_range&nbsp;=&nbsp;Range1d(id='1370', ...),</div></div><div class=\"1443\" style=\"display: none;\"><div style=\"display: table-cell;\"></div><div style=\"display: table-cell;\">y_scale&nbsp;=&nbsp;LogScale(id='1322', ...))</div></div></div>\n",
       "<script>\n",
       "(function() {\n",
       "  var expanded = false;\n",
       "  var ellipsis = document.getElementById(\"1444\");\n",
       "  ellipsis.addEventListener(\"click\", function() {\n",
       "    var rows = document.getElementsByClassName(\"1443\");\n",
       "    for (var i = 0; i < rows.length; i++) {\n",
       "      var el = rows[i];\n",
       "      el.style.display = expanded ? \"none\" : \"table-row\";\n",
       "    }\n",
       "    ellipsis.innerHTML = expanded ? \"&hellip;)\" : \"&lsaquo;&lsaquo;&lsaquo;\";\n",
       "    expanded = !expanded;\n",
       "  });\n",
       "})();\n",
       "</script>\n"
      ],
      "text/plain": [
       "Figure(id='1313', ...)"
      ]
     },
     "execution_count": 4,
     "metadata": {},
     "output_type": "execute_result"
    }
   ],
   "source": [
    "s.plot()"
   ]
  },
  {
   "cell_type": "markdown",
   "metadata": {},
   "source": [
    "Then the (abridged) aggregated results look like this:"
   ]
  },
  {
   "cell_type": "code",
   "execution_count": 5,
   "metadata": {},
   "outputs": [
    {
     "data": {
      "text/html": [
       "<i>QTable length=10</i>\n",
       "<table id=\"table6980148240\" class=\"table-striped table-bordered table-condensed\">\n",
       "<thead><tr><th>name</th><th>distance</th><th>distance_unc</th><th>Lbol_sun</th><th>Lbol_sun_unc</th><th>Teff</th><th>Teff_unc</th></tr></thead>\n",
       "<thead><tr><th></th><th>pc</th><th>pc</th><th></th><th></th><th>K</th><th>K</th></tr></thead>\n",
       "<thead><tr><th>object</th><th>float64</th><th>float64</th><th>object</th><th>object</th><th>float64</th><th>float64</th></tr></thead>\n",
       "<tr><td>2MASS J00361617+1821104 0</td><td>7.96</td><td>0.0</td><td>-4.146</td><td>0.006</td><td>1876.0</td><td>6.0</td></tr>\n",
       "<tr><td>2MASS J00361617+1821104 1</td><td>9.52</td><td>0.04</td><td>-3.991</td><td>0.007</td><td>2051.0</td><td>8.0</td></tr>\n",
       "<tr><td>2MASS J00361617+1821104 2</td><td>7.5</td><td>0.0</td><td>-4.198</td><td>0.006</td><td>1821.0</td><td>6.0</td></tr>\n",
       "<tr><td>2MASS J00361617+1821104 3</td><td>8.65</td><td>0.0</td><td>-4.074</td><td>0.006</td><td>1955.0</td><td>6.0</td></tr>\n",
       "<tr><td>2MASS J00361617+1821104 4</td><td>8.85</td><td>0.01</td><td>-4.054</td><td>0.006</td><td>1978.0</td><td>6.0</td></tr>\n",
       "<tr><td>2MASS J00361617+1821104 5</td><td>10.16</td><td>0.02</td><td>-3.934</td><td>0.006</td><td>2119.0</td><td>7.0</td></tr>\n",
       "<tr><td>2MASS J00361617+1821104 6</td><td>8.63</td><td>0.01</td><td>-4.076</td><td>0.006</td><td>1953.0</td><td>6.0</td></tr>\n",
       "<tr><td>2MASS J00361617+1821104 7</td><td>7.58</td><td>0.01</td><td>-4.189</td><td>0.006</td><td>1830.0</td><td>6.0</td></tr>\n",
       "<tr><td>2MASS J00361617+1821104 8</td><td>8.7</td><td>0.02</td><td>-4.069</td><td>0.006</td><td>1961.0</td><td>6.0</td></tr>\n",
       "<tr><td>2MASS J00361617+1821104 9</td><td>8.82</td><td>0.02</td><td>-4.057</td><td>0.006</td><td>1974.0</td><td>6.0</td></tr>\n",
       "</table>"
      ],
      "text/plain": [
       "<QTable length=10>\n",
       "           name           distance distance_unc ...   Teff  Teff_unc\n",
       "                             pc         pc      ...    K       K    \n",
       "          object          float64    float64    ... float64 float64 \n",
       "------------------------- -------- ------------ ... ------- --------\n",
       "2MASS J00361617+1821104 0     7.96          0.0 ...  1876.0      6.0\n",
       "2MASS J00361617+1821104 1     9.52         0.04 ...  2051.0      8.0\n",
       "2MASS J00361617+1821104 2      7.5          0.0 ...  1821.0      6.0\n",
       "2MASS J00361617+1821104 3     8.65          0.0 ...  1955.0      6.0\n",
       "2MASS J00361617+1821104 4     8.85         0.01 ...  1978.0      6.0\n",
       "2MASS J00361617+1821104 5    10.16         0.02 ...  2119.0      7.0\n",
       "2MASS J00361617+1821104 6     8.63         0.01 ...  1953.0      6.0\n",
       "2MASS J00361617+1821104 7     7.58         0.01 ...  1830.0      6.0\n",
       "2MASS J00361617+1821104 8      8.7         0.02 ...  1961.0      6.0\n",
       "2MASS J00361617+1821104 9     8.82         0.02 ...  1974.0      6.0"
      ]
     },
     "execution_count": 5,
     "metadata": {},
     "output_type": "execute_result"
    }
   ],
   "source": [
    "cat.results[['name','distance','distance_unc','Lbol_sun','Lbol_sun_unc','Teff','Teff_unc']]"
   ]
  },
  {
   "cell_type": "markdown",
   "metadata": {},
   "source": [
    "We can also plot the results by passing the `plot` method two column names."
   ]
  },
  {
   "cell_type": "code",
   "execution_count": 6,
   "metadata": {},
   "outputs": [
    {
     "data": {
      "text/html": [
       "\n",
       "\n",
       "\n",
       "\n",
       "\n",
       "\n",
       "  <div class=\"bk-root\" id=\"396b6fe3-7fb4-4d47-97fb-ffb38f492891\" data-root-id=\"1449\"></div>\n"
      ]
     },
     "metadata": {},
     "output_type": "display_data"
    },
    {
     "data": {
      "application/javascript": [
       "(function(root) {\n",
       "  function embed_document(root) {\n",
       "    \n",
       "  var docs_json = {\"ed7b6fd7-f467-4e6a-bff4-d9a656780977\":{\"defs\":[{\"extends\":null,\"module\":null,\"name\":\"DataModel\",\"overrides\":[],\"properties\":[]}],\"roots\":{\"references\":[{\"attributes\":{\"below\":[{\"id\":\"1460\"}],\"center\":[{\"id\":\"1463\"},{\"id\":\"1467\"}],\"height\":500,\"left\":[{\"id\":\"1464\"}],\"renderers\":[{\"id\":\"1484\"},{\"id\":\"1489\"},{\"id\":\"1494\"},{\"id\":\"1499\"}],\"title\":{\"id\":\"1450\"},\"toolbar\":{\"id\":\"1474\"},\"width\":800,\"x_range\":{\"id\":\"1452\"},\"x_scale\":{\"id\":\"1456\"},\"y_range\":{\"id\":\"1454\"},\"y_scale\":{\"id\":\"1458\"}},\"id\":\"1449\",\"subtype\":\"Figure\",\"type\":\"Plot\"},{\"attributes\":{\"fill_alpha\":{\"value\":0.7},\"fill_color\":{\"value\":\"blue\"},\"line_color\":{\"value\":\"blue\"},\"size\":{\"value\":8},\"x\":{\"field\":\"distance\"},\"y\":{\"field\":\"Teff\"}},\"id\":\"1482\",\"type\":\"Circle\"},{\"attributes\":{\"line_alpha\":{\"value\":0.1},\"line_color\":{\"value\":\"blue\"},\"xs\":{\"field\":\"xs\"},\"ys\":{\"field\":\"ys\"}},\"id\":\"1498\",\"type\":\"MultiLine\"},{\"attributes\":{},\"id\":\"1461\",\"type\":\"BasicTicker\"},{\"attributes\":{},\"id\":\"1519\",\"type\":\"AllLabels\"},{\"attributes\":{\"data_source\":{\"id\":\"1491\"},\"glyph\":{\"id\":\"1492\"},\"hover_glyph\":null,\"muted_glyph\":null,\"nonselection_glyph\":{\"id\":\"1493\"},\"view\":{\"id\":\"1495\"}},\"id\":\"1494\",\"type\":\"GlyphRenderer\"},{\"attributes\":{},\"id\":\"1471\",\"type\":\"WheelZoomTool\"},{\"attributes\":{\"active_multi\":null,\"tools\":[{\"id\":\"1448\"},{\"id\":\"1468\"},{\"id\":\"1469\"},{\"id\":\"1470\"},{\"id\":\"1471\"},{\"id\":\"1472\"}]},\"id\":\"1474\",\"type\":\"Toolbar\"},{\"attributes\":{},\"id\":\"1452\",\"type\":\"DataRange1d\"},{\"attributes\":{},\"id\":\"1454\",\"type\":\"DataRange1d\"},{\"attributes\":{},\"id\":\"1515\",\"type\":\"BasicTickFormatter\"},{\"attributes\":{},\"id\":\"1516\",\"type\":\"AllLabels\"},{\"attributes\":{},\"id\":\"1520\",\"type\":\"Selection\"},{\"attributes\":{},\"id\":\"1456\",\"type\":\"LinearScale\"},{\"attributes\":{\"line_color\":{\"value\":\"blue\"},\"xs\":{\"field\":\"xs\"},\"ys\":{\"field\":\"ys\"}},\"id\":\"1492\",\"type\":\"MultiLine\"},{\"attributes\":{},\"id\":\"1472\",\"type\":\"SaveTool\"},{\"attributes\":{\"line_alpha\":{\"value\":0.1},\"line_color\":{\"value\":\"blue\"},\"xs\":{\"field\":\"xs\"},\"ys\":{\"field\":\"ys\"}},\"id\":\"1493\",\"type\":\"MultiLine\"},{\"attributes\":{},\"id\":\"1468\",\"type\":\"PanTool\"},{\"attributes\":{\"source\":{\"id\":\"1496\"}},\"id\":\"1500\",\"type\":\"CDSView\"},{\"attributes\":{},\"id\":\"1465\",\"type\":\"BasicTicker\"},{\"attributes\":{\"overlay\":{\"id\":\"1473\"}},\"id\":\"1470\",\"type\":\"BoxZoomTool\"},{\"attributes\":{},\"id\":\"1527\",\"type\":\"UnionRenderers\"},{\"attributes\":{\"axis_label\":\"Teff [K]\",\"formatter\":{\"id\":\"1518\"},\"major_label_policy\":{\"id\":\"1519\"},\"ticker\":{\"id\":\"1465\"}},\"id\":\"1464\",\"type\":\"LinearAxis\"},{\"attributes\":{\"line_color\":{\"value\":\"blue\"},\"xs\":{\"field\":\"xs\"},\"ys\":{\"field\":\"ys\"}},\"id\":\"1497\",\"type\":\"MultiLine\"},{\"attributes\":{},\"id\":\"1523\",\"type\":\"UnionRenderers\"},{\"attributes\":{\"data\":{\"xs\":[[7.96,7.96],[9.48,9.559999999999999],[7.5,7.5],[8.65,8.65],[8.84,8.86],[10.14,10.18],[8.620000000000001,8.64],[7.57,7.59],[8.68,8.719999999999999],[8.8,8.84]],\"ys\":[[1876.0,1876.0],[2051.0,2051.0],[1821.0,1821.0],[1955.0,1955.0],[1978.0,1978.0],[2119.0,2119.0],[1953.0,1953.0],[1830.0,1830.0],[1961.0,1961.0],[1974.0,1974.0]]},\"selected\":{\"id\":\"1526\"},\"selection_policy\":{\"id\":\"1527\"}},\"id\":\"1496\",\"type\":\"ColumnDataSource\"},{\"attributes\":{\"data_source\":{\"id\":\"1496\"},\"glyph\":{\"id\":\"1497\"},\"hover_glyph\":null,\"muted_glyph\":null,\"nonselection_glyph\":{\"id\":\"1498\"},\"view\":{\"id\":\"1500\"}},\"id\":\"1499\",\"type\":\"GlyphRenderer\"},{\"attributes\":{\"axis\":{\"id\":\"1460\"},\"ticker\":null},\"id\":\"1463\",\"type\":\"Grid\"},{\"attributes\":{},\"id\":\"1521\",\"type\":\"UnionRenderers\"},{\"attributes\":{},\"id\":\"1458\",\"type\":\"LinearScale\"},{\"attributes\":{\"data\":{\"xs\":[[7.96,7.96],[9.52,9.52],[7.5,7.5],[8.65,8.65],[8.85,8.85],[10.16,10.16],[8.63,8.63],[7.58,7.58],[8.7,8.7],[8.82,8.82]],\"ys\":[[1870.0,1882.0],[2043.0,2059.0],[1815.0,1827.0],[1949.0,1961.0],[1972.0,1984.0],[2112.0,2126.0],[1947.0,1959.0],[1824.0,1836.0],[1955.0,1967.0],[1968.0,1980.0]]},\"selected\":{\"id\":\"1524\"},\"selection_policy\":{\"id\":\"1525\"}},\"id\":\"1491\",\"type\":\"ColumnDataSource\"},{\"attributes\":{\"axis_label\":\"distance [pc]\",\"formatter\":{\"id\":\"1515\"},\"major_label_policy\":{\"id\":\"1516\"},\"ticker\":{\"id\":\"1461\"}},\"id\":\"1460\",\"type\":\"LinearAxis\"},{\"attributes\":{\"callback\":null,\"names\":[\"points\"],\"tooltips\":[[\"Name\",\"@name\"],[\"distance\",\"@distance\"],[\"Teff\",\"@Teff\"]]},\"id\":\"1448\",\"type\":\"HoverTool\"},{\"attributes\":{},\"id\":\"1524\",\"type\":\"Selection\"},{\"attributes\":{\"text\":\"distance v Teff\"},\"id\":\"1450\",\"type\":\"Title\"},{\"attributes\":{},\"id\":\"1469\",\"type\":\"ResetTool\"},{\"attributes\":{},\"id\":\"1522\",\"type\":\"Selection\"},{\"attributes\":{\"data\":{\"x\":[],\"y\":[]},\"selected\":{\"id\":\"1522\"},\"selection_policy\":{\"id\":\"1523\"}},\"id\":\"1486\",\"type\":\"ColumnDataSource\"},{\"attributes\":{\"fill_color\":{\"value\":null},\"line_color\":{\"value\":\"red\"},\"line_width\":{\"value\":2},\"size\":{\"value\":13},\"x\":{\"field\":\"x\"},\"y\":{\"field\":\"y\"}},\"id\":\"1487\",\"type\":\"Circle\"},{\"attributes\":{\"bottom_units\":\"screen\",\"fill_alpha\":0.5,\"fill_color\":\"lightgrey\",\"left_units\":\"screen\",\"level\":\"overlay\",\"line_alpha\":1.0,\"line_color\":\"black\",\"line_dash\":[4,4],\"line_width\":2,\"right_units\":\"screen\",\"syncable\":false,\"top_units\":\"screen\"},\"id\":\"1473\",\"type\":\"BoxAnnotation\"},{\"attributes\":{\"source\":{\"id\":\"1486\"}},\"id\":\"1490\",\"type\":\"CDSView\"},{\"attributes\":{\"data_source\":{\"id\":\"1486\"},\"glyph\":{\"id\":\"1487\"},\"hover_glyph\":null,\"muted_glyph\":null,\"nonselection_glyph\":{\"id\":\"1488\"},\"view\":{\"id\":\"1490\"}},\"id\":\"1489\",\"type\":\"GlyphRenderer\"},{\"attributes\":{\"axis\":{\"id\":\"1464\"},\"dimension\":1,\"ticker\":null},\"id\":\"1467\",\"type\":\"Grid\"},{\"attributes\":{},\"id\":\"1526\",\"type\":\"Selection\"},{\"attributes\":{\"data\":{\"2MASS.H\":[11.5859375,11.5859375,11.5859375,11.5859375,11.5859375,11.5859375,11.5859375,11.5859375,11.5859375,11.5859375],\"2MASS.H_unc\":[0.029998779296875,0.029998779296875,0.029998779296875,0.029998779296875,0.029998779296875,0.029998779296875,0.029998779296875,0.029998779296875,0.029998779296875,0.029998779296875],\"2MASS.J\":[12.46875,12.46875,12.46875,12.46875,12.46875,12.46875,12.46875,12.46875,12.46875,12.46875],\"2MASS.J_unc\":[0.0269927978515625,0.0269927978515625,0.0269927978515625,0.0269927978515625,0.0269927978515625,0.0269927978515625,0.0269927978515625,0.0269927978515625,0.0269927978515625,0.0269927978515625],\"2MASS.Ks\":[11.0546875,11.0546875,11.0546875,11.0546875,11.0546875,11.0546875,11.0546875,11.0546875,11.0546875,11.0546875],\"2MASS.Ks_unc\":[0.02099609375,0.02099609375,0.02099609375,0.02099609375,0.02099609375,0.02099609375,0.02099609375,0.02099609375,0.02099609375,0.02099609375],\"Lbol\":[2.7339586898777147e+29,3.9105668046118344e+29,2.4271037395776216e+29,3.228479458747495e+29,3.37949924698788e+29,4.454030929424778e+29,3.213567333371531e+29,2.4791581031585366e+29,3.265910791975647e+29,3.3566262213461014e+29],\"Lbol_sun\":[-4.146,-3.991,-4.198,-4.074,-4.054,-3.934,-4.076,-4.189,-4.069,-4.057],\"Lbol_sun_unc\":[0.006,0.007,0.006,0.006,0.006,0.006,0.006,0.006,0.006,0.006],\"Lbol_unc\":[3.6220205216019665e+27,6.135141790184426e+27,3.2154909967568774e+27,4.277174668530515e+27,4.5419209585242405e+27,6.155859375086047e+27,4.3220662302263353e+27,3.348958932378761e+27,4.57991262375726e+27,4.700284171774804e+27],\"M_2MASS.H\":[12.078125,11.6875,12.2109375,11.90625,11.8515625,11.546875,11.90625,12.1875,11.890625,11.859375],\"M_2MASS.H_unc\":[0.029998779296875,0.029998779296875,0.029998779296875,0.029998779296875,0.029998779296875,0.029998779296875,0.029998779296875,0.029998779296875,0.029998779296875,0.029998779296875],\"M_2MASS.J\":[12.96875,12.578125,13.09375,12.78125,12.734375,12.4375,12.7890625,13.0703125,12.765625,12.7421875],\"M_2MASS.J_unc\":[0.0269927978515625,0.0269927978515625,0.0269927978515625,0.0269927978515625,0.0269927978515625,0.0269927978515625,0.0269927978515625,0.0269927978515625,0.0269927978515625,0.0269927978515625],\"M_2MASS.Ks\":[11.546875,11.15625,11.6796875,11.375,11.3203125,11.015625,11.375,11.65625,11.359375,11.328125],\"M_2MASS.Ks_unc\":[0.02099609375,0.02099609375,0.02099609375,0.02099609375,0.02099609375,0.02099609375,0.02099609375,0.02099609375,0.02099609375,0.02099609375],\"M_SDSS.g\":[23.03125,22.640625,23.15625,22.84375,22.796875,22.5,22.84375,23.125,22.828125,22.8125],\"M_SDSS.g_unc\":[0.136962890625,0.136962890625,0.136962890625,0.136962890625,0.136962890625,0.136962890625,0.136962890625,0.136962890625,0.136962890625,0.136962890625],\"M_SDSS.i\":[17.65625,17.28125,17.796875,17.484375,17.4375,17.140625,17.5,17.78125,17.46875,17.4375],\"M_SDSS.i_unc\":[0.005001068115234375,0.006999969482421875,0.005001068115234375,0.005001068115234375,0.005001068115234375,0.005001068115234375,0.005001068115234375,0.005001068115234375,0.006000518798828125,0.006000518798828125],\"M_SDSS.r\":[20.1875,19.796875,20.3125,20.0,19.953125,19.65625,20.0,20.28125,19.984375,19.96875],\"M_SDSS.r_unc\":[0.0189971923828125,0.0200042724609375,0.0189971923828125,0.0189971923828125,0.0189971923828125,0.0189971923828125,0.0189971923828125,0.0189971923828125,0.0189971923828125,0.0189971923828125],\"M_SDSS.u\":[25.1875,24.796875,25.3125,24.984375,24.953125,24.65625,24.984375,25.28125,24.984375,24.96875],\"M_SDSS.u_unc\":[1.388671875,1.388671875,1.388671875,1.388671875,1.388671875,1.388671875,1.388671875,1.388671875,1.388671875,1.388671875],\"M_SDSS.z\":[15.71875,15.328125,15.84375,15.53125,15.484375,15.1875,15.5390625,15.8203125,15.515625,15.4921875],\"M_SDSS.z_unc\":[0.005001068115234375,0.006999969482421875,0.005001068115234375,0.005001068115234375,0.005001068115234375,0.005001068115234375,0.005001068115234375,0.005001068115234375,0.006000518798828125,0.006000518798828125],\"Mbol\":[15.12,14.732,15.25,14.94,14.89,14.591,14.945,15.227,14.927,14.898],\"Mbol_unc\":[0.014,0.015,0.014,0.014,0.014,0.014,0.014,0.014,0.014,0.014],\"SDSS.g\":[22.53125,22.53125,22.53125,22.53125,22.53125,22.53125,22.53125,22.53125,22.53125,22.53125],\"SDSS.g_unc\":[0.136962890625,0.136962890625,0.136962890625,0.136962890625,0.136962890625,0.136962890625,0.136962890625,0.136962890625,0.136962890625,0.136962890625],\"SDSS.i\":[17.171875,17.171875,17.171875,17.171875,17.171875,17.171875,17.171875,17.171875,17.171875,17.171875],\"SDSS.i_unc\":[0.005001068115234375,0.005001068115234375,0.005001068115234375,0.005001068115234375,0.005001068115234375,0.005001068115234375,0.005001068115234375,0.005001068115234375,0.005001068115234375,0.005001068115234375],\"SDSS.r\":[19.6875,19.6875,19.6875,19.6875,19.6875,19.6875,19.6875,19.6875,19.6875,19.6875],\"SDSS.r_unc\":[0.0189971923828125,0.0189971923828125,0.0189971923828125,0.0189971923828125,0.0189971923828125,0.0189971923828125,0.0189971923828125,0.0189971923828125,0.0189971923828125,0.0189971923828125],\"SDSS.u\":[24.6875,24.6875,24.6875,24.6875,24.6875,24.6875,24.6875,24.6875,24.6875,24.6875],\"SDSS.u_unc\":[1.388671875,1.388671875,1.388671875,1.388671875,1.388671875,1.388671875,1.388671875,1.388671875,1.388671875,1.388671875],\"SDSS.z\":[15.21875,15.21875,15.21875,15.21875,15.21875,15.21875,15.21875,15.21875,15.21875,15.21875],\"SDSS.z_unc\":[0.005001068115234375,0.005001068115234375,0.005001068115234375,0.005001068115234375,0.005001068115234375,0.005001068115234375,0.005001068115234375,0.005001068115234375,0.005001068115234375,0.005001068115234375],\"SpT\":[\"L3.5V\",\"L3.5V\",\"L3.5V\",\"L3.5V\",\"L3.5V\",\"L3.5V\",\"L3.5V\",\"L3.5V\",\"L3.5V\",\"L3.5V\"],\"Teff\":[1876.0,2051.0,1821.0,1955.0,1978.0,2119.0,1953.0,1830.0,1961.0,1974.0],\"Teff_unc\":[6.0,8.0,6.0,6.0,6.0,7.0,6.0,6.0,6.0,6.0],\"age\":[\"NaN\",\"NaN\",\"NaN\",\"NaN\",\"NaN\",\"NaN\",\"NaN\",\"NaN\",\"NaN\",\"NaN\"],\"age_unc\":[\"NaN\",\"NaN\",\"NaN\",\"NaN\",\"NaN\",\"NaN\",\"NaN\",\"NaN\",\"NaN\",\"NaN\"],\"dec\":[\"NaN\",\"NaN\",\"NaN\",\"NaN\",\"NaN\",\"NaN\",\"NaN\",\"NaN\",\"NaN\",\"NaN\"],\"distance\":[7.96,9.52,7.5,8.65,8.85,10.16,8.63,7.58,8.7,8.82],\"distance_unc\":[0.0,0.04,0.0,0.0,0.01,0.02,0.01,0.01,0.02,0.02],\"fbol\":[3.606241925902236e-11,3.606241925902236e-11,3.606241925902236e-11,3.606241925902236e-11,3.606241925902236e-11,3.606241925902236e-11,3.606241925902236e-11,3.606241925902236e-11,3.606241925902236e-11,3.606241925902236e-11],\"fbol_unc\":[4.777644340362557e-13,4.777644340362557e-13,4.777644340362557e-13,4.777644340362557e-13,4.777644340362557e-13,4.777644340362557e-13,4.777644340362557e-13,4.777644340362557e-13,4.777644340362557e-13,4.777644340362557e-13],\"logg\":[\"NaN\",\"NaN\",\"NaN\",\"NaN\",\"NaN\",\"NaN\",\"NaN\",\"NaN\",\"NaN\",\"NaN\"],\"logg_unc\":[\"NaN\",\"NaN\",\"NaN\",\"NaN\",\"NaN\",\"NaN\",\"NaN\",\"NaN\",\"NaN\",\"NaN\"],\"mass\":[-0.59,-0.17,-0.79,-0.36,-0.31,-0.08,-0.37,-0.75,-0.35,-0.32],\"mass_unc\":[0.02,0.01,0.03,0.02,0.01,0.01,0.02,0.02,0.02,0.02],\"mbol\":[14.625,14.625,14.625,14.625,14.625,14.625,14.625,14.625,14.625,14.625],\"mbol_unc\":[0.014,0.014,0.014,0.014,0.014,0.014,0.014,0.014,0.014,0.014],\"membership\":[\"NaN\",\"NaN\",\"NaN\",\"NaN\",\"NaN\",\"NaN\",\"NaN\",\"NaN\",\"NaN\",\"NaN\"],\"name\":[\"2MASS J00361617+1821104 0\",\"2MASS J00361617+1821104 1\",\"2MASS J00361617+1821104 2\",\"2MASS J00361617+1821104 3\",\"2MASS J00361617+1821104 4\",\"2MASS J00361617+1821104 5\",\"2MASS J00361617+1821104 6\",\"2MASS J00361617+1821104 7\",\"2MASS J00361617+1821104 8\",\"2MASS J00361617+1821104 9\"],\"parallax\":[125.6591998623335,105.03747718179629,133.35658134190845,115.59599398630519,113.03193192744085,98.38923809371805,115.92391063876573,131.84339333682806,114.97613207598735,113.3953219818125],\"parallax_unc\":[0.010137918012879388,0.4482934461657986,0.04707639273078684,0.0304810471377496,0.1830470804643763,0.2024000295213828,0.14906916914458773,0.14129445927369835,0.27196751852020534,0.21097585975537198],\"ra\":[\"NaN\",\"NaN\",\"NaN\",\"NaN\",\"NaN\",\"NaN\",\"NaN\",\"NaN\",\"NaN\",\"NaN\"],\"radius\":[0.08,0.08,0.08,0.08,0.08,0.08,0.08,0.08,0.08,0.08],\"radius_unc\":[0.0,0.0,0.0,0.0,0.0,0.0,0.0,0.0,0.0,0.0],\"reddening\":[0,0,0,0,0,0,0,0,0,0],\"spectral_type\":[73.5,73.5,73.5,73.5,73.5,73.5,73.5,73.5,73.5,73.5],\"spectral_type_unc\":[0.5,0.5,0.5,0.5,0.5,0.5,0.5,0.5,0.5,0.5]},\"selected\":{\"id\":\"1520\"},\"selection_policy\":{\"id\":\"1521\"}},\"id\":\"1446\",\"type\":\"ColumnDataSource\"},{\"attributes\":{\"fill_alpha\":{\"value\":0.1},\"fill_color\":{\"value\":null},\"line_alpha\":{\"value\":0.1},\"line_color\":{\"value\":\"red\"},\"line_width\":{\"value\":2},\"size\":{\"value\":13},\"x\":{\"field\":\"x\"},\"y\":{\"field\":\"y\"}},\"id\":\"1488\",\"type\":\"Circle\"},{\"attributes\":{},\"id\":\"1525\",\"type\":\"UnionRenderers\"},{\"attributes\":{\"source\":{\"id\":\"1446\"}},\"id\":\"1485\",\"type\":\"CDSView\"},{\"attributes\":{\"source\":{\"id\":\"1491\"}},\"id\":\"1495\",\"type\":\"CDSView\"},{\"attributes\":{\"fill_alpha\":{\"value\":0.1},\"fill_color\":{\"value\":\"blue\"},\"line_alpha\":{\"value\":0.1},\"line_color\":{\"value\":\"blue\"},\"size\":{\"value\":8},\"x\":{\"field\":\"distance\"},\"y\":{\"field\":\"Teff\"}},\"id\":\"1483\",\"type\":\"Circle\"},{\"attributes\":{},\"id\":\"1518\",\"type\":\"BasicTickFormatter\"},{\"attributes\":{\"data_source\":{\"id\":\"1446\"},\"glyph\":{\"id\":\"1482\"},\"hover_glyph\":null,\"muted_glyph\":null,\"name\":\"points\",\"nonselection_glyph\":{\"id\":\"1483\"},\"view\":{\"id\":\"1485\"}},\"id\":\"1484\",\"type\":\"GlyphRenderer\"}],\"root_ids\":[\"1449\"]},\"title\":\"Bokeh Application\",\"version\":\"2.3.0\"}};\n",
       "  var render_items = [{\"docid\":\"ed7b6fd7-f467-4e6a-bff4-d9a656780977\",\"root_ids\":[\"1449\"],\"roots\":{\"1449\":\"396b6fe3-7fb4-4d47-97fb-ffb38f492891\"}}];\n",
       "  root.Bokeh.embed.embed_items_notebook(docs_json, render_items);\n",
       "\n",
       "  }\n",
       "  if (root.Bokeh !== undefined) {\n",
       "    embed_document(root);\n",
       "  } else {\n",
       "    var attempts = 0;\n",
       "    var timer = setInterval(function(root) {\n",
       "      if (root.Bokeh !== undefined) {\n",
       "        clearInterval(timer);\n",
       "        embed_document(root);\n",
       "      } else {\n",
       "        attempts++;\n",
       "        if (attempts > 100) {\n",
       "          clearInterval(timer);\n",
       "          console.log(\"Bokeh: ERROR: Unable to run BokehJS code because BokehJS library is missing\");\n",
       "        }\n",
       "      }\n",
       "    }, 10, root)\n",
       "  }\n",
       "})(window);"
      ],
      "application/vnd.bokehjs_exec.v0+json": ""
     },
     "metadata": {
      "application/vnd.bokehjs_exec.v0+json": {
       "id": "1449"
      }
     },
     "output_type": "display_data"
    },
    {
     "data": {
      "text/html": [
       "\n",
       "\n",
       "\n",
       "\n",
       "\n",
       "\n",
       "  <div class=\"bk-root\" id=\"ebf5d182-482a-414d-a441-f6ec144d8835\" data-root-id=\"1449\"></div>\n"
      ]
     },
     "metadata": {},
     "output_type": "display_data"
    },
    {
     "data": {
      "application/javascript": [
       "(function(root) {\n",
       "  function embed_document(root) {\n",
       "    \n",
       "  var docs_json = {\"dc8d4552-5d10-41c8-8bac-3d072d7fd4a8\":{\"defs\":[{\"extends\":null,\"module\":null,\"name\":\"DataModel\",\"overrides\":[],\"properties\":[]}],\"roots\":{\"references\":[{\"attributes\":{\"below\":[{\"id\":\"1460\"}],\"center\":[{\"id\":\"1463\"},{\"id\":\"1467\"}],\"height\":500,\"left\":[{\"id\":\"1464\"}],\"renderers\":[{\"id\":\"1484\"},{\"id\":\"1489\"},{\"id\":\"1494\"},{\"id\":\"1499\"}],\"title\":{\"id\":\"1450\"},\"toolbar\":{\"id\":\"1474\"},\"width\":800,\"x_range\":{\"id\":\"1452\"},\"x_scale\":{\"id\":\"1456\"},\"y_range\":{\"id\":\"1454\"},\"y_scale\":{\"id\":\"1458\"}},\"id\":\"1449\",\"subtype\":\"Figure\",\"type\":\"Plot\"},{\"attributes\":{\"fill_alpha\":{\"value\":0.7},\"fill_color\":{\"value\":\"blue\"},\"line_color\":{\"value\":\"blue\"},\"size\":{\"value\":8},\"x\":{\"field\":\"distance\"},\"y\":{\"field\":\"Teff\"}},\"id\":\"1482\",\"type\":\"Circle\"},{\"attributes\":{\"line_alpha\":{\"value\":0.1},\"line_color\":{\"value\":\"blue\"},\"xs\":{\"field\":\"xs\"},\"ys\":{\"field\":\"ys\"}},\"id\":\"1498\",\"type\":\"MultiLine\"},{\"attributes\":{},\"id\":\"1461\",\"type\":\"BasicTicker\"},{\"attributes\":{},\"id\":\"1519\",\"type\":\"AllLabels\"},{\"attributes\":{\"data_source\":{\"id\":\"1491\"},\"glyph\":{\"id\":\"1492\"},\"hover_glyph\":null,\"muted_glyph\":null,\"nonselection_glyph\":{\"id\":\"1493\"},\"view\":{\"id\":\"1495\"}},\"id\":\"1494\",\"type\":\"GlyphRenderer\"},{\"attributes\":{},\"id\":\"1471\",\"type\":\"WheelZoomTool\"},{\"attributes\":{\"active_multi\":null,\"tools\":[{\"id\":\"1448\"},{\"id\":\"1468\"},{\"id\":\"1469\"},{\"id\":\"1470\"},{\"id\":\"1471\"},{\"id\":\"1472\"}]},\"id\":\"1474\",\"type\":\"Toolbar\"},{\"attributes\":{},\"id\":\"1452\",\"type\":\"DataRange1d\"},{\"attributes\":{},\"id\":\"1454\",\"type\":\"DataRange1d\"},{\"attributes\":{},\"id\":\"1515\",\"type\":\"BasicTickFormatter\"},{\"attributes\":{},\"id\":\"1516\",\"type\":\"AllLabels\"},{\"attributes\":{},\"id\":\"1520\",\"type\":\"Selection\"},{\"attributes\":{},\"id\":\"1456\",\"type\":\"LinearScale\"},{\"attributes\":{\"line_color\":{\"value\":\"blue\"},\"xs\":{\"field\":\"xs\"},\"ys\":{\"field\":\"ys\"}},\"id\":\"1492\",\"type\":\"MultiLine\"},{\"attributes\":{},\"id\":\"1472\",\"type\":\"SaveTool\"},{\"attributes\":{\"line_alpha\":{\"value\":0.1},\"line_color\":{\"value\":\"blue\"},\"xs\":{\"field\":\"xs\"},\"ys\":{\"field\":\"ys\"}},\"id\":\"1493\",\"type\":\"MultiLine\"},{\"attributes\":{},\"id\":\"1468\",\"type\":\"PanTool\"},{\"attributes\":{\"source\":{\"id\":\"1496\"}},\"id\":\"1500\",\"type\":\"CDSView\"},{\"attributes\":{},\"id\":\"1465\",\"type\":\"BasicTicker\"},{\"attributes\":{\"overlay\":{\"id\":\"1473\"}},\"id\":\"1470\",\"type\":\"BoxZoomTool\"},{\"attributes\":{},\"id\":\"1527\",\"type\":\"UnionRenderers\"},{\"attributes\":{\"axis_label\":\"Teff [K]\",\"formatter\":{\"id\":\"1518\"},\"major_label_policy\":{\"id\":\"1519\"},\"ticker\":{\"id\":\"1465\"}},\"id\":\"1464\",\"type\":\"LinearAxis\"},{\"attributes\":{\"line_color\":{\"value\":\"blue\"},\"xs\":{\"field\":\"xs\"},\"ys\":{\"field\":\"ys\"}},\"id\":\"1497\",\"type\":\"MultiLine\"},{\"attributes\":{},\"id\":\"1523\",\"type\":\"UnionRenderers\"},{\"attributes\":{\"data\":{\"xs\":[[7.96,7.96],[9.48,9.559999999999999],[7.5,7.5],[8.65,8.65],[8.84,8.86],[10.14,10.18],[8.620000000000001,8.64],[7.57,7.59],[8.68,8.719999999999999],[8.8,8.84]],\"ys\":[[1876.0,1876.0],[2051.0,2051.0],[1821.0,1821.0],[1955.0,1955.0],[1978.0,1978.0],[2119.0,2119.0],[1953.0,1953.0],[1830.0,1830.0],[1961.0,1961.0],[1974.0,1974.0]]},\"selected\":{\"id\":\"1526\"},\"selection_policy\":{\"id\":\"1527\"}},\"id\":\"1496\",\"type\":\"ColumnDataSource\"},{\"attributes\":{\"data_source\":{\"id\":\"1496\"},\"glyph\":{\"id\":\"1497\"},\"hover_glyph\":null,\"muted_glyph\":null,\"nonselection_glyph\":{\"id\":\"1498\"},\"view\":{\"id\":\"1500\"}},\"id\":\"1499\",\"type\":\"GlyphRenderer\"},{\"attributes\":{\"axis\":{\"id\":\"1460\"},\"ticker\":null},\"id\":\"1463\",\"type\":\"Grid\"},{\"attributes\":{},\"id\":\"1521\",\"type\":\"UnionRenderers\"},{\"attributes\":{},\"id\":\"1458\",\"type\":\"LinearScale\"},{\"attributes\":{\"data\":{\"xs\":[[7.96,7.96],[9.52,9.52],[7.5,7.5],[8.65,8.65],[8.85,8.85],[10.16,10.16],[8.63,8.63],[7.58,7.58],[8.7,8.7],[8.82,8.82]],\"ys\":[[1870.0,1882.0],[2043.0,2059.0],[1815.0,1827.0],[1949.0,1961.0],[1972.0,1984.0],[2112.0,2126.0],[1947.0,1959.0],[1824.0,1836.0],[1955.0,1967.0],[1968.0,1980.0]]},\"selected\":{\"id\":\"1524\"},\"selection_policy\":{\"id\":\"1525\"}},\"id\":\"1491\",\"type\":\"ColumnDataSource\"},{\"attributes\":{\"axis_label\":\"distance [pc]\",\"formatter\":{\"id\":\"1515\"},\"major_label_policy\":{\"id\":\"1516\"},\"ticker\":{\"id\":\"1461\"}},\"id\":\"1460\",\"type\":\"LinearAxis\"},{\"attributes\":{\"callback\":null,\"names\":[\"points\"],\"tooltips\":[[\"Name\",\"@name\"],[\"distance\",\"@distance\"],[\"Teff\",\"@Teff\"]]},\"id\":\"1448\",\"type\":\"HoverTool\"},{\"attributes\":{},\"id\":\"1524\",\"type\":\"Selection\"},{\"attributes\":{\"text\":\"distance v Teff\"},\"id\":\"1450\",\"type\":\"Title\"},{\"attributes\":{},\"id\":\"1469\",\"type\":\"ResetTool\"},{\"attributes\":{},\"id\":\"1522\",\"type\":\"Selection\"},{\"attributes\":{\"data\":{\"x\":[],\"y\":[]},\"selected\":{\"id\":\"1522\"},\"selection_policy\":{\"id\":\"1523\"}},\"id\":\"1486\",\"type\":\"ColumnDataSource\"},{\"attributes\":{\"fill_color\":{\"value\":null},\"line_color\":{\"value\":\"red\"},\"line_width\":{\"value\":2},\"size\":{\"value\":13},\"x\":{\"field\":\"x\"},\"y\":{\"field\":\"y\"}},\"id\":\"1487\",\"type\":\"Circle\"},{\"attributes\":{\"bottom_units\":\"screen\",\"fill_alpha\":0.5,\"fill_color\":\"lightgrey\",\"left_units\":\"screen\",\"level\":\"overlay\",\"line_alpha\":1.0,\"line_color\":\"black\",\"line_dash\":[4,4],\"line_width\":2,\"right_units\":\"screen\",\"syncable\":false,\"top_units\":\"screen\"},\"id\":\"1473\",\"type\":\"BoxAnnotation\"},{\"attributes\":{\"source\":{\"id\":\"1486\"}},\"id\":\"1490\",\"type\":\"CDSView\"},{\"attributes\":{\"data_source\":{\"id\":\"1486\"},\"glyph\":{\"id\":\"1487\"},\"hover_glyph\":null,\"muted_glyph\":null,\"nonselection_glyph\":{\"id\":\"1488\"},\"view\":{\"id\":\"1490\"}},\"id\":\"1489\",\"type\":\"GlyphRenderer\"},{\"attributes\":{\"axis\":{\"id\":\"1464\"},\"dimension\":1,\"ticker\":null},\"id\":\"1467\",\"type\":\"Grid\"},{\"attributes\":{},\"id\":\"1526\",\"type\":\"Selection\"},{\"attributes\":{\"data\":{\"2MASS.H\":[11.5859375,11.5859375,11.5859375,11.5859375,11.5859375,11.5859375,11.5859375,11.5859375,11.5859375,11.5859375],\"2MASS.H_unc\":[0.029998779296875,0.029998779296875,0.029998779296875,0.029998779296875,0.029998779296875,0.029998779296875,0.029998779296875,0.029998779296875,0.029998779296875,0.029998779296875],\"2MASS.J\":[12.46875,12.46875,12.46875,12.46875,12.46875,12.46875,12.46875,12.46875,12.46875,12.46875],\"2MASS.J_unc\":[0.0269927978515625,0.0269927978515625,0.0269927978515625,0.0269927978515625,0.0269927978515625,0.0269927978515625,0.0269927978515625,0.0269927978515625,0.0269927978515625,0.0269927978515625],\"2MASS.Ks\":[11.0546875,11.0546875,11.0546875,11.0546875,11.0546875,11.0546875,11.0546875,11.0546875,11.0546875,11.0546875],\"2MASS.Ks_unc\":[0.02099609375,0.02099609375,0.02099609375,0.02099609375,0.02099609375,0.02099609375,0.02099609375,0.02099609375,0.02099609375,0.02099609375],\"Lbol\":[2.7339586898777147e+29,3.9105668046118344e+29,2.4271037395776216e+29,3.228479458747495e+29,3.37949924698788e+29,4.454030929424778e+29,3.213567333371531e+29,2.4791581031585366e+29,3.265910791975647e+29,3.3566262213461014e+29],\"Lbol_sun\":[-4.146,-3.991,-4.198,-4.074,-4.054,-3.934,-4.076,-4.189,-4.069,-4.057],\"Lbol_sun_unc\":[0.006,0.007,0.006,0.006,0.006,0.006,0.006,0.006,0.006,0.006],\"Lbol_unc\":[3.6220205216019665e+27,6.135141790184426e+27,3.2154909967568774e+27,4.277174668530515e+27,4.5419209585242405e+27,6.155859375086047e+27,4.3220662302263353e+27,3.348958932378761e+27,4.57991262375726e+27,4.700284171774804e+27],\"M_2MASS.H\":[12.078125,11.6875,12.2109375,11.90625,11.8515625,11.546875,11.90625,12.1875,11.890625,11.859375],\"M_2MASS.H_unc\":[0.029998779296875,0.029998779296875,0.029998779296875,0.029998779296875,0.029998779296875,0.029998779296875,0.029998779296875,0.029998779296875,0.029998779296875,0.029998779296875],\"M_2MASS.J\":[12.96875,12.578125,13.09375,12.78125,12.734375,12.4375,12.7890625,13.0703125,12.765625,12.7421875],\"M_2MASS.J_unc\":[0.0269927978515625,0.0269927978515625,0.0269927978515625,0.0269927978515625,0.0269927978515625,0.0269927978515625,0.0269927978515625,0.0269927978515625,0.0269927978515625,0.0269927978515625],\"M_2MASS.Ks\":[11.546875,11.15625,11.6796875,11.375,11.3203125,11.015625,11.375,11.65625,11.359375,11.328125],\"M_2MASS.Ks_unc\":[0.02099609375,0.02099609375,0.02099609375,0.02099609375,0.02099609375,0.02099609375,0.02099609375,0.02099609375,0.02099609375,0.02099609375],\"M_SDSS.g\":[23.03125,22.640625,23.15625,22.84375,22.796875,22.5,22.84375,23.125,22.828125,22.8125],\"M_SDSS.g_unc\":[0.136962890625,0.136962890625,0.136962890625,0.136962890625,0.136962890625,0.136962890625,0.136962890625,0.136962890625,0.136962890625,0.136962890625],\"M_SDSS.i\":[17.65625,17.28125,17.796875,17.484375,17.4375,17.140625,17.5,17.78125,17.46875,17.4375],\"M_SDSS.i_unc\":[0.005001068115234375,0.006999969482421875,0.005001068115234375,0.005001068115234375,0.005001068115234375,0.005001068115234375,0.005001068115234375,0.005001068115234375,0.006000518798828125,0.006000518798828125],\"M_SDSS.r\":[20.1875,19.796875,20.3125,20.0,19.953125,19.65625,20.0,20.28125,19.984375,19.96875],\"M_SDSS.r_unc\":[0.0189971923828125,0.0200042724609375,0.0189971923828125,0.0189971923828125,0.0189971923828125,0.0189971923828125,0.0189971923828125,0.0189971923828125,0.0189971923828125,0.0189971923828125],\"M_SDSS.u\":[25.1875,24.796875,25.3125,24.984375,24.953125,24.65625,24.984375,25.28125,24.984375,24.96875],\"M_SDSS.u_unc\":[1.388671875,1.388671875,1.388671875,1.388671875,1.388671875,1.388671875,1.388671875,1.388671875,1.388671875,1.388671875],\"M_SDSS.z\":[15.71875,15.328125,15.84375,15.53125,15.484375,15.1875,15.5390625,15.8203125,15.515625,15.4921875],\"M_SDSS.z_unc\":[0.005001068115234375,0.006999969482421875,0.005001068115234375,0.005001068115234375,0.005001068115234375,0.005001068115234375,0.005001068115234375,0.005001068115234375,0.006000518798828125,0.006000518798828125],\"Mbol\":[15.12,14.732,15.25,14.94,14.89,14.591,14.945,15.227,14.927,14.898],\"Mbol_unc\":[0.014,0.015,0.014,0.014,0.014,0.014,0.014,0.014,0.014,0.014],\"SDSS.g\":[22.53125,22.53125,22.53125,22.53125,22.53125,22.53125,22.53125,22.53125,22.53125,22.53125],\"SDSS.g_unc\":[0.136962890625,0.136962890625,0.136962890625,0.136962890625,0.136962890625,0.136962890625,0.136962890625,0.136962890625,0.136962890625,0.136962890625],\"SDSS.i\":[17.171875,17.171875,17.171875,17.171875,17.171875,17.171875,17.171875,17.171875,17.171875,17.171875],\"SDSS.i_unc\":[0.005001068115234375,0.005001068115234375,0.005001068115234375,0.005001068115234375,0.005001068115234375,0.005001068115234375,0.005001068115234375,0.005001068115234375,0.005001068115234375,0.005001068115234375],\"SDSS.r\":[19.6875,19.6875,19.6875,19.6875,19.6875,19.6875,19.6875,19.6875,19.6875,19.6875],\"SDSS.r_unc\":[0.0189971923828125,0.0189971923828125,0.0189971923828125,0.0189971923828125,0.0189971923828125,0.0189971923828125,0.0189971923828125,0.0189971923828125,0.0189971923828125,0.0189971923828125],\"SDSS.u\":[24.6875,24.6875,24.6875,24.6875,24.6875,24.6875,24.6875,24.6875,24.6875,24.6875],\"SDSS.u_unc\":[1.388671875,1.388671875,1.388671875,1.388671875,1.388671875,1.388671875,1.388671875,1.388671875,1.388671875,1.388671875],\"SDSS.z\":[15.21875,15.21875,15.21875,15.21875,15.21875,15.21875,15.21875,15.21875,15.21875,15.21875],\"SDSS.z_unc\":[0.005001068115234375,0.005001068115234375,0.005001068115234375,0.005001068115234375,0.005001068115234375,0.005001068115234375,0.005001068115234375,0.005001068115234375,0.005001068115234375,0.005001068115234375],\"SpT\":[\"L3.5V\",\"L3.5V\",\"L3.5V\",\"L3.5V\",\"L3.5V\",\"L3.5V\",\"L3.5V\",\"L3.5V\",\"L3.5V\",\"L3.5V\"],\"Teff\":[1876.0,2051.0,1821.0,1955.0,1978.0,2119.0,1953.0,1830.0,1961.0,1974.0],\"Teff_unc\":[6.0,8.0,6.0,6.0,6.0,7.0,6.0,6.0,6.0,6.0],\"age\":[\"NaN\",\"NaN\",\"NaN\",\"NaN\",\"NaN\",\"NaN\",\"NaN\",\"NaN\",\"NaN\",\"NaN\"],\"age_unc\":[\"NaN\",\"NaN\",\"NaN\",\"NaN\",\"NaN\",\"NaN\",\"NaN\",\"NaN\",\"NaN\",\"NaN\"],\"dec\":[\"NaN\",\"NaN\",\"NaN\",\"NaN\",\"NaN\",\"NaN\",\"NaN\",\"NaN\",\"NaN\",\"NaN\"],\"distance\":[7.96,9.52,7.5,8.65,8.85,10.16,8.63,7.58,8.7,8.82],\"distance_unc\":[0.0,0.04,0.0,0.0,0.01,0.02,0.01,0.01,0.02,0.02],\"fbol\":[3.606241925902236e-11,3.606241925902236e-11,3.606241925902236e-11,3.606241925902236e-11,3.606241925902236e-11,3.606241925902236e-11,3.606241925902236e-11,3.606241925902236e-11,3.606241925902236e-11,3.606241925902236e-11],\"fbol_unc\":[4.777644340362557e-13,4.777644340362557e-13,4.777644340362557e-13,4.777644340362557e-13,4.777644340362557e-13,4.777644340362557e-13,4.777644340362557e-13,4.777644340362557e-13,4.777644340362557e-13,4.777644340362557e-13],\"logg\":[\"NaN\",\"NaN\",\"NaN\",\"NaN\",\"NaN\",\"NaN\",\"NaN\",\"NaN\",\"NaN\",\"NaN\"],\"logg_unc\":[\"NaN\",\"NaN\",\"NaN\",\"NaN\",\"NaN\",\"NaN\",\"NaN\",\"NaN\",\"NaN\",\"NaN\"],\"mass\":[-0.59,-0.17,-0.79,-0.36,-0.31,-0.08,-0.37,-0.75,-0.35,-0.32],\"mass_unc\":[0.02,0.01,0.03,0.02,0.01,0.01,0.02,0.02,0.02,0.02],\"mbol\":[14.625,14.625,14.625,14.625,14.625,14.625,14.625,14.625,14.625,14.625],\"mbol_unc\":[0.014,0.014,0.014,0.014,0.014,0.014,0.014,0.014,0.014,0.014],\"membership\":[\"NaN\",\"NaN\",\"NaN\",\"NaN\",\"NaN\",\"NaN\",\"NaN\",\"NaN\",\"NaN\",\"NaN\"],\"name\":[\"2MASS J00361617+1821104 0\",\"2MASS J00361617+1821104 1\",\"2MASS J00361617+1821104 2\",\"2MASS J00361617+1821104 3\",\"2MASS J00361617+1821104 4\",\"2MASS J00361617+1821104 5\",\"2MASS J00361617+1821104 6\",\"2MASS J00361617+1821104 7\",\"2MASS J00361617+1821104 8\",\"2MASS J00361617+1821104 9\"],\"parallax\":[125.6591998623335,105.03747718179629,133.35658134190845,115.59599398630519,113.03193192744085,98.38923809371805,115.92391063876573,131.84339333682806,114.97613207598735,113.3953219818125],\"parallax_unc\":[0.010137918012879388,0.4482934461657986,0.04707639273078684,0.0304810471377496,0.1830470804643763,0.2024000295213828,0.14906916914458773,0.14129445927369835,0.27196751852020534,0.21097585975537198],\"ra\":[\"NaN\",\"NaN\",\"NaN\",\"NaN\",\"NaN\",\"NaN\",\"NaN\",\"NaN\",\"NaN\",\"NaN\"],\"radius\":[0.08,0.08,0.08,0.08,0.08,0.08,0.08,0.08,0.08,0.08],\"radius_unc\":[0.0,0.0,0.0,0.0,0.0,0.0,0.0,0.0,0.0,0.0],\"reddening\":[0,0,0,0,0,0,0,0,0,0],\"spectral_type\":[73.5,73.5,73.5,73.5,73.5,73.5,73.5,73.5,73.5,73.5],\"spectral_type_unc\":[0.5,0.5,0.5,0.5,0.5,0.5,0.5,0.5,0.5,0.5]},\"selected\":{\"id\":\"1520\"},\"selection_policy\":{\"id\":\"1521\"}},\"id\":\"1446\",\"type\":\"ColumnDataSource\"},{\"attributes\":{\"fill_alpha\":{\"value\":0.1},\"fill_color\":{\"value\":null},\"line_alpha\":{\"value\":0.1},\"line_color\":{\"value\":\"red\"},\"line_width\":{\"value\":2},\"size\":{\"value\":13},\"x\":{\"field\":\"x\"},\"y\":{\"field\":\"y\"}},\"id\":\"1488\",\"type\":\"Circle\"},{\"attributes\":{},\"id\":\"1525\",\"type\":\"UnionRenderers\"},{\"attributes\":{\"source\":{\"id\":\"1446\"}},\"id\":\"1485\",\"type\":\"CDSView\"},{\"attributes\":{\"source\":{\"id\":\"1491\"}},\"id\":\"1495\",\"type\":\"CDSView\"},{\"attributes\":{\"fill_alpha\":{\"value\":0.1},\"fill_color\":{\"value\":\"blue\"},\"line_alpha\":{\"value\":0.1},\"line_color\":{\"value\":\"blue\"},\"size\":{\"value\":8},\"x\":{\"field\":\"distance\"},\"y\":{\"field\":\"Teff\"}},\"id\":\"1483\",\"type\":\"Circle\"},{\"attributes\":{},\"id\":\"1518\",\"type\":\"BasicTickFormatter\"},{\"attributes\":{\"data_source\":{\"id\":\"1446\"},\"glyph\":{\"id\":\"1482\"},\"hover_glyph\":null,\"muted_glyph\":null,\"name\":\"points\",\"nonselection_glyph\":{\"id\":\"1483\"},\"view\":{\"id\":\"1485\"}},\"id\":\"1484\",\"type\":\"GlyphRenderer\"}],\"root_ids\":[\"1449\"]},\"title\":\"Bokeh Application\",\"version\":\"2.3.0\"}};\n",
       "  var render_items = [{\"docid\":\"dc8d4552-5d10-41c8-8bac-3d072d7fd4a8\",\"root_ids\":[\"1449\"],\"roots\":{\"1449\":\"ebf5d182-482a-414d-a441-f6ec144d8835\"}}];\n",
       "  root.Bokeh.embed.embed_items_notebook(docs_json, render_items);\n",
       "\n",
       "  }\n",
       "  if (root.Bokeh !== undefined) {\n",
       "    embed_document(root);\n",
       "  } else {\n",
       "    var attempts = 0;\n",
       "    var timer = setInterval(function(root) {\n",
       "      if (root.Bokeh !== undefined) {\n",
       "        clearInterval(timer);\n",
       "        embed_document(root);\n",
       "      } else {\n",
       "        attempts++;\n",
       "        if (attempts > 100) {\n",
       "          clearInterval(timer);\n",
       "          console.log(\"Bokeh: ERROR: Unable to run BokehJS code because BokehJS library is missing\");\n",
       "        }\n",
       "      }\n",
       "    }, 10, root)\n",
       "  }\n",
       "})(window);"
      ],
      "application/vnd.bokehjs_exec.v0+json": ""
     },
     "metadata": {
      "application/vnd.bokehjs_exec.v0+json": {
       "id": "1449"
      }
     },
     "output_type": "display_data"
    }
   ],
   "source": [
    "show(cat.plot('distance', 'Teff'))"
   ]
  },
  {
   "cell_type": "markdown",
   "metadata": {},
   "source": [
    "Or plot a CMD! You can also pass the difference of two magnitudes as a string like so."
   ]
  },
  {
   "cell_type": "code",
   "execution_count": 7,
   "metadata": {},
   "outputs": [
    {
     "data": {
      "text/html": [
       "\n",
       "\n",
       "\n",
       "\n",
       "\n",
       "\n",
       "  <div class=\"bk-root\" id=\"fee6a27f-75ef-4269-9d38-08a10b613982\" data-root-id=\"1692\"></div>\n"
      ]
     },
     "metadata": {},
     "output_type": "display_data"
    },
    {
     "data": {
      "application/javascript": [
       "(function(root) {\n",
       "  function embed_document(root) {\n",
       "    \n",
       "  var docs_json = {\"15566b7f-baf5-4672-8f32-005ddcb27b8b\":{\"defs\":[{\"extends\":null,\"module\":null,\"name\":\"DataModel\",\"overrides\":[],\"properties\":[]}],\"roots\":{\"references\":[{\"attributes\":{\"below\":[{\"id\":\"1703\"}],\"center\":[{\"id\":\"1706\"},{\"id\":\"1710\"}],\"height\":500,\"left\":[{\"id\":\"1707\"}],\"renderers\":[{\"id\":\"1727\"},{\"id\":\"1732\"},{\"id\":\"1737\"},{\"id\":\"1742\"}],\"title\":{\"id\":\"1693\"},\"toolbar\":{\"id\":\"1717\"},\"width\":800,\"x_range\":{\"id\":\"1695\"},\"x_scale\":{\"id\":\"1699\"},\"y_range\":{\"id\":\"1697\"},\"y_scale\":{\"id\":\"1701\"}},\"id\":\"1692\",\"subtype\":\"Figure\",\"type\":\"Plot\"},{\"attributes\":{},\"id\":\"1715\",\"type\":\"SaveTool\"},{\"attributes\":{},\"id\":\"1780\",\"type\":\"UnionRenderers\"},{\"attributes\":{},\"id\":\"1786\",\"type\":\"UnionRenderers\"},{\"attributes\":{},\"id\":\"1695\",\"type\":\"DataRange1d\"},{\"attributes\":{\"line_color\":{\"value\":\"blue\"},\"xs\":{\"field\":\"xs\"},\"ys\":{\"field\":\"ys\"}},\"id\":\"1740\",\"type\":\"MultiLine\"},{\"attributes\":{},\"id\":\"1775\",\"type\":\"AllLabels\"},{\"attributes\":{},\"id\":\"1783\",\"type\":\"Selection\"},{\"attributes\":{\"data_source\":{\"id\":\"1689\"},\"glyph\":{\"id\":\"1725\"},\"hover_glyph\":null,\"muted_glyph\":null,\"name\":\"points\",\"nonselection_glyph\":{\"id\":\"1726\"},\"view\":{\"id\":\"1728\"}},\"id\":\"1727\",\"type\":\"GlyphRenderer\"},{\"attributes\":{\"data_source\":{\"id\":\"1739\"},\"glyph\":{\"id\":\"1740\"},\"hover_glyph\":null,\"muted_glyph\":null,\"nonselection_glyph\":{\"id\":\"1741\"},\"view\":{\"id\":\"1743\"}},\"id\":\"1742\",\"type\":\"GlyphRenderer\"},{\"attributes\":{\"line_alpha\":{\"value\":0.1},\"line_color\":{\"value\":\"blue\"},\"xs\":{\"field\":\"xs\"},\"ys\":{\"field\":\"ys\"}},\"id\":\"1741\",\"type\":\"MultiLine\"},{\"attributes\":{\"text\":\"2MASS.J-2MASS.Ks v M_2MASS.J\"},\"id\":\"1693\",\"type\":\"Title\"},{\"attributes\":{},\"id\":\"1784\",\"type\":\"UnionRenderers\"},{\"attributes\":{\"axis_label\":\"2MASS.J-2MASS.Ks\",\"formatter\":{\"id\":\"1774\"},\"major_label_policy\":{\"id\":\"1775\"},\"ticker\":{\"id\":\"1704\"}},\"id\":\"1703\",\"type\":\"LinearAxis\"},{\"attributes\":{},\"id\":\"1711\",\"type\":\"PanTool\"},{\"attributes\":{\"source\":{\"id\":\"1739\"}},\"id\":\"1743\",\"type\":\"CDSView\"},{\"attributes\":{},\"id\":\"1779\",\"type\":\"Selection\"},{\"attributes\":{\"fill_alpha\":{\"value\":0.7},\"fill_color\":{\"value\":\"blue\"},\"line_color\":{\"value\":\"blue\"},\"size\":{\"value\":8},\"x\":{\"field\":\"2MASS.J-2MASS.Ks\"},\"y\":{\"field\":\"M_2MASS.J\"}},\"id\":\"1725\",\"type\":\"Circle\"},{\"attributes\":{},\"id\":\"1699\",\"type\":\"LinearScale\"},{\"attributes\":{},\"id\":\"1785\",\"type\":\"Selection\"},{\"attributes\":{},\"id\":\"1704\",\"type\":\"BasicTicker\"},{\"attributes\":{\"axis\":{\"id\":\"1707\"},\"dimension\":1,\"ticker\":null},\"id\":\"1710\",\"type\":\"Grid\"},{\"attributes\":{\"active_multi\":null,\"tools\":[{\"id\":\"1691\"},{\"id\":\"1711\"},{\"id\":\"1712\"},{\"id\":\"1713\"},{\"id\":\"1714\"},{\"id\":\"1715\"}]},\"id\":\"1717\",\"type\":\"Toolbar\"},{\"attributes\":{\"fill_alpha\":{\"value\":0.1},\"fill_color\":{\"value\":\"blue\"},\"line_alpha\":{\"value\":0.1},\"line_color\":{\"value\":\"blue\"},\"size\":{\"value\":8},\"x\":{\"field\":\"2MASS.J-2MASS.Ks\"},\"y\":{\"field\":\"M_2MASS.J\"}},\"id\":\"1726\",\"type\":\"Circle\"},{\"attributes\":{},\"id\":\"1712\",\"type\":\"ResetTool\"},{\"attributes\":{},\"id\":\"1782\",\"type\":\"UnionRenderers\"},{\"attributes\":{\"overlay\":{\"id\":\"1716\"}},\"id\":\"1713\",\"type\":\"BoxZoomTool\"},{\"attributes\":{\"source\":{\"id\":\"1734\"}},\"id\":\"1738\",\"type\":\"CDSView\"},{\"attributes\":{\"axis\":{\"id\":\"1703\"},\"ticker\":null},\"id\":\"1706\",\"type\":\"Grid\"},{\"attributes\":{\"line_alpha\":{\"value\":0.1},\"line_color\":{\"value\":\"blue\"},\"xs\":{\"field\":\"xs\"},\"ys\":{\"field\":\"ys\"}},\"id\":\"1736\",\"type\":\"MultiLine\"},{\"attributes\":{},\"id\":\"1697\",\"type\":\"DataRange1d\"},{\"attributes\":{},\"id\":\"1778\",\"type\":\"AllLabels\"},{\"attributes\":{\"callback\":null,\"names\":[\"points\"],\"tooltips\":[[\"Name\",\"@name\"],[\"2MASS.J-2MASS.Ks\",\"@2MASS_J_2MASS_Ks\"],[\"M_2MASS.J\",\"@M_2MASS_J\"]]},\"id\":\"1691\",\"type\":\"HoverTool\"},{\"attributes\":{\"fill_color\":{\"value\":null},\"line_color\":{\"value\":\"red\"},\"line_width\":{\"value\":2},\"size\":{\"value\":13},\"x\":{\"field\":\"x\"},\"y\":{\"field\":\"y\"}},\"id\":\"1730\",\"type\":\"Circle\"},{\"attributes\":{},\"id\":\"1701\",\"type\":\"LinearScale\"},{\"attributes\":{\"data\":{\"x\":[],\"y\":[]},\"selected\":{\"id\":\"1781\"},\"selection_policy\":{\"id\":\"1782\"}},\"id\":\"1729\",\"type\":\"ColumnDataSource\"},{\"attributes\":{},\"id\":\"1777\",\"type\":\"BasicTickFormatter\"},{\"attributes\":{},\"id\":\"1708\",\"type\":\"BasicTicker\"},{\"attributes\":{\"data_source\":{\"id\":\"1729\"},\"glyph\":{\"id\":\"1730\"},\"hover_glyph\":null,\"muted_glyph\":null,\"nonselection_glyph\":{\"id\":\"1731\"},\"view\":{\"id\":\"1733\"}},\"id\":\"1732\",\"type\":\"GlyphRenderer\"},{\"attributes\":{},\"id\":\"1714\",\"type\":\"WheelZoomTool\"},{\"attributes\":{\"data\":{\"xs\":[[1.4140625,1.4140625],[1.4140625,1.4140625],[1.4140625,1.4140625],[1.4140625,1.4140625],[1.4140625,1.4140625],[1.4140625,1.4140625],[1.4140625,1.4140625],[1.4140625,1.4140625],[1.4140625,1.4140625],[1.4140625,1.4140625]],\"ys\":[[12.9453125,12.9921875],[12.5546875,12.6015625],[13.0703125,13.1171875],[12.7578125,12.8046875],[12.7109375,12.7578125],[12.4140625,12.4609375],[12.765625,12.8125],[13.046875,13.09375],[12.7421875,12.7890625],[12.71875,12.765625]]},\"selected\":{\"id\":\"1783\"},\"selection_policy\":{\"id\":\"1784\"}},\"id\":\"1734\",\"type\":\"ColumnDataSource\"},{\"attributes\":{\"data\":{\"2MASS.H\":[11.5859375,11.5859375,11.5859375,11.5859375,11.5859375,11.5859375,11.5859375,11.5859375,11.5859375,11.5859375],\"2MASS.H_unc\":[0.029998779296875,0.029998779296875,0.029998779296875,0.029998779296875,0.029998779296875,0.029998779296875,0.029998779296875,0.029998779296875,0.029998779296875,0.029998779296875],\"2MASS.J\":[12.46875,12.46875,12.46875,12.46875,12.46875,12.46875,12.46875,12.46875,12.46875,12.46875],\"2MASS.J-2MASS.Ks\":[1.4140625,1.4140625,1.4140625,1.4140625,1.4140625,1.4140625,1.4140625,1.4140625,1.4140625,1.4140625],\"2MASS.J-2MASS.Ks_unc\":[0.0341796875,0.0341796875,0.0341796875,0.0341796875,0.0341796875,0.0341796875,0.0341796875,0.0341796875,0.0341796875,0.0341796875],\"2MASS.J_unc\":[0.0269927978515625,0.0269927978515625,0.0269927978515625,0.0269927978515625,0.0269927978515625,0.0269927978515625,0.0269927978515625,0.0269927978515625,0.0269927978515625,0.0269927978515625],\"2MASS.Ks\":[11.0546875,11.0546875,11.0546875,11.0546875,11.0546875,11.0546875,11.0546875,11.0546875,11.0546875,11.0546875],\"2MASS.Ks_unc\":[0.02099609375,0.02099609375,0.02099609375,0.02099609375,0.02099609375,0.02099609375,0.02099609375,0.02099609375,0.02099609375,0.02099609375],\"2MASS_J_2MASS_Ks\":[1.4140625,1.4140625,1.4140625,1.4140625,1.4140625,1.4140625,1.4140625,1.4140625,1.4140625,1.4140625],\"Lbol\":[2.7339586898777147e+29,3.9105668046118344e+29,2.4271037395776216e+29,3.228479458747495e+29,3.37949924698788e+29,4.454030929424778e+29,3.213567333371531e+29,2.4791581031585366e+29,3.265910791975647e+29,3.3566262213461014e+29],\"Lbol_sun\":[-4.146,-3.991,-4.198,-4.074,-4.054,-3.934,-4.076,-4.189,-4.069,-4.057],\"Lbol_sun_unc\":[0.006,0.007,0.006,0.006,0.006,0.006,0.006,0.006,0.006,0.006],\"Lbol_unc\":[3.6220205216019665e+27,6.135141790184426e+27,3.2154909967568774e+27,4.277174668530515e+27,4.5419209585242405e+27,6.155859375086047e+27,4.3220662302263353e+27,3.348958932378761e+27,4.57991262375726e+27,4.700284171774804e+27],\"M_2MASS.H\":[12.078125,11.6875,12.2109375,11.90625,11.8515625,11.546875,11.90625,12.1875,11.890625,11.859375],\"M_2MASS.H_unc\":[0.029998779296875,0.029998779296875,0.029998779296875,0.029998779296875,0.029998779296875,0.029998779296875,0.029998779296875,0.029998779296875,0.029998779296875,0.029998779296875],\"M_2MASS.J\":[12.96875,12.578125,13.09375,12.78125,12.734375,12.4375,12.7890625,13.0703125,12.765625,12.7421875],\"M_2MASS.J_unc\":[0.0269927978515625,0.0269927978515625,0.0269927978515625,0.0269927978515625,0.0269927978515625,0.0269927978515625,0.0269927978515625,0.0269927978515625,0.0269927978515625,0.0269927978515625],\"M_2MASS.Ks\":[11.546875,11.15625,11.6796875,11.375,11.3203125,11.015625,11.375,11.65625,11.359375,11.328125],\"M_2MASS.Ks_unc\":[0.02099609375,0.02099609375,0.02099609375,0.02099609375,0.02099609375,0.02099609375,0.02099609375,0.02099609375,0.02099609375,0.02099609375],\"M_2MASS_J\":[12.96875,12.578125,13.09375,12.78125,12.734375,12.4375,12.7890625,13.0703125,12.765625,12.7421875],\"M_SDSS.g\":[23.03125,22.640625,23.15625,22.84375,22.796875,22.5,22.84375,23.125,22.828125,22.8125],\"M_SDSS.g_unc\":[0.136962890625,0.136962890625,0.136962890625,0.136962890625,0.136962890625,0.136962890625,0.136962890625,0.136962890625,0.136962890625,0.136962890625],\"M_SDSS.i\":[17.65625,17.28125,17.796875,17.484375,17.4375,17.140625,17.5,17.78125,17.46875,17.4375],\"M_SDSS.i_unc\":[0.005001068115234375,0.006999969482421875,0.005001068115234375,0.005001068115234375,0.005001068115234375,0.005001068115234375,0.005001068115234375,0.005001068115234375,0.006000518798828125,0.006000518798828125],\"M_SDSS.r\":[20.1875,19.796875,20.3125,20.0,19.953125,19.65625,20.0,20.28125,19.984375,19.96875],\"M_SDSS.r_unc\":[0.0189971923828125,0.0200042724609375,0.0189971923828125,0.0189971923828125,0.0189971923828125,0.0189971923828125,0.0189971923828125,0.0189971923828125,0.0189971923828125,0.0189971923828125],\"M_SDSS.u\":[25.1875,24.796875,25.3125,24.984375,24.953125,24.65625,24.984375,25.28125,24.984375,24.96875],\"M_SDSS.u_unc\":[1.388671875,1.388671875,1.388671875,1.388671875,1.388671875,1.388671875,1.388671875,1.388671875,1.388671875,1.388671875],\"M_SDSS.z\":[15.71875,15.328125,15.84375,15.53125,15.484375,15.1875,15.5390625,15.8203125,15.515625,15.4921875],\"M_SDSS.z_unc\":[0.005001068115234375,0.006999969482421875,0.005001068115234375,0.005001068115234375,0.005001068115234375,0.005001068115234375,0.005001068115234375,0.005001068115234375,0.006000518798828125,0.006000518798828125],\"Mbol\":[15.12,14.732,15.25,14.94,14.89,14.591,14.945,15.227,14.927,14.898],\"Mbol_unc\":[0.014,0.015,0.014,0.014,0.014,0.014,0.014,0.014,0.014,0.014],\"SDSS.g\":[22.53125,22.53125,22.53125,22.53125,22.53125,22.53125,22.53125,22.53125,22.53125,22.53125],\"SDSS.g_unc\":[0.136962890625,0.136962890625,0.136962890625,0.136962890625,0.136962890625,0.136962890625,0.136962890625,0.136962890625,0.136962890625,0.136962890625],\"SDSS.i\":[17.171875,17.171875,17.171875,17.171875,17.171875,17.171875,17.171875,17.171875,17.171875,17.171875],\"SDSS.i_unc\":[0.005001068115234375,0.005001068115234375,0.005001068115234375,0.005001068115234375,0.005001068115234375,0.005001068115234375,0.005001068115234375,0.005001068115234375,0.005001068115234375,0.005001068115234375],\"SDSS.r\":[19.6875,19.6875,19.6875,19.6875,19.6875,19.6875,19.6875,19.6875,19.6875,19.6875],\"SDSS.r_unc\":[0.0189971923828125,0.0189971923828125,0.0189971923828125,0.0189971923828125,0.0189971923828125,0.0189971923828125,0.0189971923828125,0.0189971923828125,0.0189971923828125,0.0189971923828125],\"SDSS.u\":[24.6875,24.6875,24.6875,24.6875,24.6875,24.6875,24.6875,24.6875,24.6875,24.6875],\"SDSS.u_unc\":[1.388671875,1.388671875,1.388671875,1.388671875,1.388671875,1.388671875,1.388671875,1.388671875,1.388671875,1.388671875],\"SDSS.z\":[15.21875,15.21875,15.21875,15.21875,15.21875,15.21875,15.21875,15.21875,15.21875,15.21875],\"SDSS.z_unc\":[0.005001068115234375,0.005001068115234375,0.005001068115234375,0.005001068115234375,0.005001068115234375,0.005001068115234375,0.005001068115234375,0.005001068115234375,0.005001068115234375,0.005001068115234375],\"SpT\":[\"L3.5V\",\"L3.5V\",\"L3.5V\",\"L3.5V\",\"L3.5V\",\"L3.5V\",\"L3.5V\",\"L3.5V\",\"L3.5V\",\"L3.5V\"],\"Teff\":[1876.0,2051.0,1821.0,1955.0,1978.0,2119.0,1953.0,1830.0,1961.0,1974.0],\"Teff_unc\":[6.0,8.0,6.0,6.0,6.0,7.0,6.0,6.0,6.0,6.0],\"age\":[\"NaN\",\"NaN\",\"NaN\",\"NaN\",\"NaN\",\"NaN\",\"NaN\",\"NaN\",\"NaN\",\"NaN\"],\"age_unc\":[\"NaN\",\"NaN\",\"NaN\",\"NaN\",\"NaN\",\"NaN\",\"NaN\",\"NaN\",\"NaN\",\"NaN\"],\"dec\":[\"NaN\",\"NaN\",\"NaN\",\"NaN\",\"NaN\",\"NaN\",\"NaN\",\"NaN\",\"NaN\",\"NaN\"],\"distance\":[7.96,9.52,7.5,8.65,8.85,10.16,8.63,7.58,8.7,8.82],\"distance_unc\":[0.0,0.04,0.0,0.0,0.01,0.02,0.01,0.01,0.02,0.02],\"fbol\":[3.606241925902236e-11,3.606241925902236e-11,3.606241925902236e-11,3.606241925902236e-11,3.606241925902236e-11,3.606241925902236e-11,3.606241925902236e-11,3.606241925902236e-11,3.606241925902236e-11,3.606241925902236e-11],\"fbol_unc\":[4.777644340362557e-13,4.777644340362557e-13,4.777644340362557e-13,4.777644340362557e-13,4.777644340362557e-13,4.777644340362557e-13,4.777644340362557e-13,4.777644340362557e-13,4.777644340362557e-13,4.777644340362557e-13],\"logg\":[\"NaN\",\"NaN\",\"NaN\",\"NaN\",\"NaN\",\"NaN\",\"NaN\",\"NaN\",\"NaN\",\"NaN\"],\"logg_unc\":[\"NaN\",\"NaN\",\"NaN\",\"NaN\",\"NaN\",\"NaN\",\"NaN\",\"NaN\",\"NaN\",\"NaN\"],\"mass\":[-0.59,-0.17,-0.79,-0.36,-0.31,-0.08,-0.37,-0.75,-0.35,-0.32],\"mass_unc\":[0.02,0.01,0.03,0.02,0.01,0.01,0.02,0.02,0.02,0.02],\"mbol\":[14.625,14.625,14.625,14.625,14.625,14.625,14.625,14.625,14.625,14.625],\"mbol_unc\":[0.014,0.014,0.014,0.014,0.014,0.014,0.014,0.014,0.014,0.014],\"membership\":[\"NaN\",\"NaN\",\"NaN\",\"NaN\",\"NaN\",\"NaN\",\"NaN\",\"NaN\",\"NaN\",\"NaN\"],\"name\":[\"2MASS J00361617+1821104 0\",\"2MASS J00361617+1821104 1\",\"2MASS J00361617+1821104 2\",\"2MASS J00361617+1821104 3\",\"2MASS J00361617+1821104 4\",\"2MASS J00361617+1821104 5\",\"2MASS J00361617+1821104 6\",\"2MASS J00361617+1821104 7\",\"2MASS J00361617+1821104 8\",\"2MASS J00361617+1821104 9\"],\"parallax\":[125.6591998623335,105.03747718179629,133.35658134190845,115.59599398630519,113.03193192744085,98.38923809371805,115.92391063876573,131.84339333682806,114.97613207598735,113.3953219818125],\"parallax_unc\":[0.010137918012879388,0.4482934461657986,0.04707639273078684,0.0304810471377496,0.1830470804643763,0.2024000295213828,0.14906916914458773,0.14129445927369835,0.27196751852020534,0.21097585975537198],\"ra\":[\"NaN\",\"NaN\",\"NaN\",\"NaN\",\"NaN\",\"NaN\",\"NaN\",\"NaN\",\"NaN\",\"NaN\"],\"radius\":[0.08,0.08,0.08,0.08,0.08,0.08,0.08,0.08,0.08,0.08],\"radius_unc\":[0.0,0.0,0.0,0.0,0.0,0.0,0.0,0.0,0.0,0.0],\"reddening\":[0,0,0,0,0,0,0,0,0,0],\"spectral_type\":[73.5,73.5,73.5,73.5,73.5,73.5,73.5,73.5,73.5,73.5],\"spectral_type_unc\":[0.5,0.5,0.5,0.5,0.5,0.5,0.5,0.5,0.5,0.5]},\"selected\":{\"id\":\"1779\"},\"selection_policy\":{\"id\":\"1780\"}},\"id\":\"1689\",\"type\":\"ColumnDataSource\"},{\"attributes\":{\"line_color\":{\"value\":\"blue\"},\"xs\":{\"field\":\"xs\"},\"ys\":{\"field\":\"ys\"}},\"id\":\"1735\",\"type\":\"MultiLine\"},{\"attributes\":{},\"id\":\"1774\",\"type\":\"BasicTickFormatter\"},{\"attributes\":{},\"id\":\"1781\",\"type\":\"Selection\"},{\"attributes\":{\"data\":{\"xs\":[[1.3798828125,1.4482421875],[1.3798828125,1.4482421875],[1.3798828125,1.4482421875],[1.3798828125,1.4482421875],[1.3798828125,1.4482421875],[1.3798828125,1.4482421875],[1.3798828125,1.4482421875],[1.3798828125,1.4482421875],[1.3798828125,1.4482421875],[1.3798828125,1.4482421875]],\"ys\":[[12.96875,12.96875],[12.578125,12.578125],[13.09375,13.09375],[12.78125,12.78125],[12.734375,12.734375],[12.4375,12.4375],[12.7890625,12.7890625],[13.0703125,13.0703125],[12.765625,12.765625],[12.7421875,12.7421875]]},\"selected\":{\"id\":\"1785\"},\"selection_policy\":{\"id\":\"1786\"}},\"id\":\"1739\",\"type\":\"ColumnDataSource\"},{\"attributes\":{\"fill_alpha\":{\"value\":0.1},\"fill_color\":{\"value\":null},\"line_alpha\":{\"value\":0.1},\"line_color\":{\"value\":\"red\"},\"line_width\":{\"value\":2},\"size\":{\"value\":13},\"x\":{\"field\":\"x\"},\"y\":{\"field\":\"y\"}},\"id\":\"1731\",\"type\":\"Circle\"},{\"attributes\":{\"data_source\":{\"id\":\"1734\"},\"glyph\":{\"id\":\"1735\"},\"hover_glyph\":null,\"muted_glyph\":null,\"nonselection_glyph\":{\"id\":\"1736\"},\"view\":{\"id\":\"1738\"}},\"id\":\"1737\",\"type\":\"GlyphRenderer\"},{\"attributes\":{\"source\":{\"id\":\"1689\"}},\"id\":\"1728\",\"type\":\"CDSView\"},{\"attributes\":{\"axis_label\":\"M_2MASS.J\",\"formatter\":{\"id\":\"1777\"},\"major_label_policy\":{\"id\":\"1778\"},\"ticker\":{\"id\":\"1708\"}},\"id\":\"1707\",\"type\":\"LinearAxis\"},{\"attributes\":{\"source\":{\"id\":\"1729\"}},\"id\":\"1733\",\"type\":\"CDSView\"},{\"attributes\":{\"bottom_units\":\"screen\",\"fill_alpha\":0.5,\"fill_color\":\"lightgrey\",\"left_units\":\"screen\",\"level\":\"overlay\",\"line_alpha\":1.0,\"line_color\":\"black\",\"line_dash\":[4,4],\"line_width\":2,\"right_units\":\"screen\",\"syncable\":false,\"top_units\":\"screen\"},\"id\":\"1716\",\"type\":\"BoxAnnotation\"}],\"root_ids\":[\"1692\"]},\"title\":\"Bokeh Application\",\"version\":\"2.3.0\"}};\n",
       "  var render_items = [{\"docid\":\"15566b7f-baf5-4672-8f32-005ddcb27b8b\",\"root_ids\":[\"1692\"],\"roots\":{\"1692\":\"fee6a27f-75ef-4269-9d38-08a10b613982\"}}];\n",
       "  root.Bokeh.embed.embed_items_notebook(docs_json, render_items);\n",
       "\n",
       "  }\n",
       "  if (root.Bokeh !== undefined) {\n",
       "    embed_document(root);\n",
       "  } else {\n",
       "    var attempts = 0;\n",
       "    var timer = setInterval(function(root) {\n",
       "      if (root.Bokeh !== undefined) {\n",
       "        clearInterval(timer);\n",
       "        embed_document(root);\n",
       "      } else {\n",
       "        attempts++;\n",
       "        if (attempts > 100) {\n",
       "          clearInterval(timer);\n",
       "          console.log(\"Bokeh: ERROR: Unable to run BokehJS code because BokehJS library is missing\");\n",
       "        }\n",
       "      }\n",
       "    }, 10, root)\n",
       "  }\n",
       "})(window);"
      ],
      "application/vnd.bokehjs_exec.v0+json": ""
     },
     "metadata": {
      "application/vnd.bokehjs_exec.v0+json": {
       "id": "1692"
      }
     },
     "output_type": "display_data"
    },
    {
     "data": {
      "text/html": [
       "\n",
       "\n",
       "\n",
       "\n",
       "\n",
       "\n",
       "  <div class=\"bk-root\" id=\"a18e0b33-642c-4446-b671-044663d0918e\" data-root-id=\"1692\"></div>\n"
      ]
     },
     "metadata": {},
     "output_type": "display_data"
    },
    {
     "data": {
      "application/javascript": [
       "(function(root) {\n",
       "  function embed_document(root) {\n",
       "    \n",
       "  var docs_json = {\"bb20780d-48b1-494d-9535-a9731f292832\":{\"defs\":[{\"extends\":null,\"module\":null,\"name\":\"DataModel\",\"overrides\":[],\"properties\":[]}],\"roots\":{\"references\":[{\"attributes\":{\"below\":[{\"id\":\"1703\"}],\"center\":[{\"id\":\"1706\"},{\"id\":\"1710\"}],\"height\":500,\"left\":[{\"id\":\"1707\"}],\"renderers\":[{\"id\":\"1727\"},{\"id\":\"1732\"},{\"id\":\"1737\"},{\"id\":\"1742\"}],\"title\":{\"id\":\"1693\"},\"toolbar\":{\"id\":\"1717\"},\"width\":800,\"x_range\":{\"id\":\"1695\"},\"x_scale\":{\"id\":\"1699\"},\"y_range\":{\"id\":\"1697\"},\"y_scale\":{\"id\":\"1701\"}},\"id\":\"1692\",\"subtype\":\"Figure\",\"type\":\"Plot\"},{\"attributes\":{},\"id\":\"1715\",\"type\":\"SaveTool\"},{\"attributes\":{},\"id\":\"1780\",\"type\":\"UnionRenderers\"},{\"attributes\":{},\"id\":\"1786\",\"type\":\"UnionRenderers\"},{\"attributes\":{},\"id\":\"1695\",\"type\":\"DataRange1d\"},{\"attributes\":{\"line_color\":{\"value\":\"blue\"},\"xs\":{\"field\":\"xs\"},\"ys\":{\"field\":\"ys\"}},\"id\":\"1740\",\"type\":\"MultiLine\"},{\"attributes\":{},\"id\":\"1775\",\"type\":\"AllLabels\"},{\"attributes\":{},\"id\":\"1783\",\"type\":\"Selection\"},{\"attributes\":{\"data_source\":{\"id\":\"1689\"},\"glyph\":{\"id\":\"1725\"},\"hover_glyph\":null,\"muted_glyph\":null,\"name\":\"points\",\"nonselection_glyph\":{\"id\":\"1726\"},\"view\":{\"id\":\"1728\"}},\"id\":\"1727\",\"type\":\"GlyphRenderer\"},{\"attributes\":{\"data_source\":{\"id\":\"1739\"},\"glyph\":{\"id\":\"1740\"},\"hover_glyph\":null,\"muted_glyph\":null,\"nonselection_glyph\":{\"id\":\"1741\"},\"view\":{\"id\":\"1743\"}},\"id\":\"1742\",\"type\":\"GlyphRenderer\"},{\"attributes\":{\"line_alpha\":{\"value\":0.1},\"line_color\":{\"value\":\"blue\"},\"xs\":{\"field\":\"xs\"},\"ys\":{\"field\":\"ys\"}},\"id\":\"1741\",\"type\":\"MultiLine\"},{\"attributes\":{\"text\":\"2MASS.J-2MASS.Ks v M_2MASS.J\"},\"id\":\"1693\",\"type\":\"Title\"},{\"attributes\":{},\"id\":\"1784\",\"type\":\"UnionRenderers\"},{\"attributes\":{\"axis_label\":\"2MASS.J-2MASS.Ks\",\"formatter\":{\"id\":\"1774\"},\"major_label_policy\":{\"id\":\"1775\"},\"ticker\":{\"id\":\"1704\"}},\"id\":\"1703\",\"type\":\"LinearAxis\"},{\"attributes\":{},\"id\":\"1711\",\"type\":\"PanTool\"},{\"attributes\":{\"source\":{\"id\":\"1739\"}},\"id\":\"1743\",\"type\":\"CDSView\"},{\"attributes\":{},\"id\":\"1779\",\"type\":\"Selection\"},{\"attributes\":{\"fill_alpha\":{\"value\":0.7},\"fill_color\":{\"value\":\"blue\"},\"line_color\":{\"value\":\"blue\"},\"size\":{\"value\":8},\"x\":{\"field\":\"2MASS.J-2MASS.Ks\"},\"y\":{\"field\":\"M_2MASS.J\"}},\"id\":\"1725\",\"type\":\"Circle\"},{\"attributes\":{},\"id\":\"1699\",\"type\":\"LinearScale\"},{\"attributes\":{},\"id\":\"1785\",\"type\":\"Selection\"},{\"attributes\":{},\"id\":\"1704\",\"type\":\"BasicTicker\"},{\"attributes\":{\"axis\":{\"id\":\"1707\"},\"dimension\":1,\"ticker\":null},\"id\":\"1710\",\"type\":\"Grid\"},{\"attributes\":{\"active_multi\":null,\"tools\":[{\"id\":\"1691\"},{\"id\":\"1711\"},{\"id\":\"1712\"},{\"id\":\"1713\"},{\"id\":\"1714\"},{\"id\":\"1715\"}]},\"id\":\"1717\",\"type\":\"Toolbar\"},{\"attributes\":{\"fill_alpha\":{\"value\":0.1},\"fill_color\":{\"value\":\"blue\"},\"line_alpha\":{\"value\":0.1},\"line_color\":{\"value\":\"blue\"},\"size\":{\"value\":8},\"x\":{\"field\":\"2MASS.J-2MASS.Ks\"},\"y\":{\"field\":\"M_2MASS.J\"}},\"id\":\"1726\",\"type\":\"Circle\"},{\"attributes\":{},\"id\":\"1712\",\"type\":\"ResetTool\"},{\"attributes\":{},\"id\":\"1782\",\"type\":\"UnionRenderers\"},{\"attributes\":{\"overlay\":{\"id\":\"1716\"}},\"id\":\"1713\",\"type\":\"BoxZoomTool\"},{\"attributes\":{\"source\":{\"id\":\"1734\"}},\"id\":\"1738\",\"type\":\"CDSView\"},{\"attributes\":{\"axis\":{\"id\":\"1703\"},\"ticker\":null},\"id\":\"1706\",\"type\":\"Grid\"},{\"attributes\":{\"line_alpha\":{\"value\":0.1},\"line_color\":{\"value\":\"blue\"},\"xs\":{\"field\":\"xs\"},\"ys\":{\"field\":\"ys\"}},\"id\":\"1736\",\"type\":\"MultiLine\"},{\"attributes\":{},\"id\":\"1697\",\"type\":\"DataRange1d\"},{\"attributes\":{},\"id\":\"1778\",\"type\":\"AllLabels\"},{\"attributes\":{\"callback\":null,\"names\":[\"points\"],\"tooltips\":[[\"Name\",\"@name\"],[\"2MASS.J-2MASS.Ks\",\"@2MASS_J_2MASS_Ks\"],[\"M_2MASS.J\",\"@M_2MASS_J\"]]},\"id\":\"1691\",\"type\":\"HoverTool\"},{\"attributes\":{\"fill_color\":{\"value\":null},\"line_color\":{\"value\":\"red\"},\"line_width\":{\"value\":2},\"size\":{\"value\":13},\"x\":{\"field\":\"x\"},\"y\":{\"field\":\"y\"}},\"id\":\"1730\",\"type\":\"Circle\"},{\"attributes\":{},\"id\":\"1701\",\"type\":\"LinearScale\"},{\"attributes\":{\"data\":{\"x\":[],\"y\":[]},\"selected\":{\"id\":\"1781\"},\"selection_policy\":{\"id\":\"1782\"}},\"id\":\"1729\",\"type\":\"ColumnDataSource\"},{\"attributes\":{},\"id\":\"1777\",\"type\":\"BasicTickFormatter\"},{\"attributes\":{},\"id\":\"1708\",\"type\":\"BasicTicker\"},{\"attributes\":{\"data_source\":{\"id\":\"1729\"},\"glyph\":{\"id\":\"1730\"},\"hover_glyph\":null,\"muted_glyph\":null,\"nonselection_glyph\":{\"id\":\"1731\"},\"view\":{\"id\":\"1733\"}},\"id\":\"1732\",\"type\":\"GlyphRenderer\"},{\"attributes\":{},\"id\":\"1714\",\"type\":\"WheelZoomTool\"},{\"attributes\":{\"data\":{\"xs\":[[1.4140625,1.4140625],[1.4140625,1.4140625],[1.4140625,1.4140625],[1.4140625,1.4140625],[1.4140625,1.4140625],[1.4140625,1.4140625],[1.4140625,1.4140625],[1.4140625,1.4140625],[1.4140625,1.4140625],[1.4140625,1.4140625]],\"ys\":[[12.9453125,12.9921875],[12.5546875,12.6015625],[13.0703125,13.1171875],[12.7578125,12.8046875],[12.7109375,12.7578125],[12.4140625,12.4609375],[12.765625,12.8125],[13.046875,13.09375],[12.7421875,12.7890625],[12.71875,12.765625]]},\"selected\":{\"id\":\"1783\"},\"selection_policy\":{\"id\":\"1784\"}},\"id\":\"1734\",\"type\":\"ColumnDataSource\"},{\"attributes\":{\"data\":{\"2MASS.H\":[11.5859375,11.5859375,11.5859375,11.5859375,11.5859375,11.5859375,11.5859375,11.5859375,11.5859375,11.5859375],\"2MASS.H_unc\":[0.029998779296875,0.029998779296875,0.029998779296875,0.029998779296875,0.029998779296875,0.029998779296875,0.029998779296875,0.029998779296875,0.029998779296875,0.029998779296875],\"2MASS.J\":[12.46875,12.46875,12.46875,12.46875,12.46875,12.46875,12.46875,12.46875,12.46875,12.46875],\"2MASS.J-2MASS.Ks\":[1.4140625,1.4140625,1.4140625,1.4140625,1.4140625,1.4140625,1.4140625,1.4140625,1.4140625,1.4140625],\"2MASS.J-2MASS.Ks_unc\":[0.0341796875,0.0341796875,0.0341796875,0.0341796875,0.0341796875,0.0341796875,0.0341796875,0.0341796875,0.0341796875,0.0341796875],\"2MASS.J_unc\":[0.0269927978515625,0.0269927978515625,0.0269927978515625,0.0269927978515625,0.0269927978515625,0.0269927978515625,0.0269927978515625,0.0269927978515625,0.0269927978515625,0.0269927978515625],\"2MASS.Ks\":[11.0546875,11.0546875,11.0546875,11.0546875,11.0546875,11.0546875,11.0546875,11.0546875,11.0546875,11.0546875],\"2MASS.Ks_unc\":[0.02099609375,0.02099609375,0.02099609375,0.02099609375,0.02099609375,0.02099609375,0.02099609375,0.02099609375,0.02099609375,0.02099609375],\"2MASS_J_2MASS_Ks\":[1.4140625,1.4140625,1.4140625,1.4140625,1.4140625,1.4140625,1.4140625,1.4140625,1.4140625,1.4140625],\"Lbol\":[2.7339586898777147e+29,3.9105668046118344e+29,2.4271037395776216e+29,3.228479458747495e+29,3.37949924698788e+29,4.454030929424778e+29,3.213567333371531e+29,2.4791581031585366e+29,3.265910791975647e+29,3.3566262213461014e+29],\"Lbol_sun\":[-4.146,-3.991,-4.198,-4.074,-4.054,-3.934,-4.076,-4.189,-4.069,-4.057],\"Lbol_sun_unc\":[0.006,0.007,0.006,0.006,0.006,0.006,0.006,0.006,0.006,0.006],\"Lbol_unc\":[3.6220205216019665e+27,6.135141790184426e+27,3.2154909967568774e+27,4.277174668530515e+27,4.5419209585242405e+27,6.155859375086047e+27,4.3220662302263353e+27,3.348958932378761e+27,4.57991262375726e+27,4.700284171774804e+27],\"M_2MASS.H\":[12.078125,11.6875,12.2109375,11.90625,11.8515625,11.546875,11.90625,12.1875,11.890625,11.859375],\"M_2MASS.H_unc\":[0.029998779296875,0.029998779296875,0.029998779296875,0.029998779296875,0.029998779296875,0.029998779296875,0.029998779296875,0.029998779296875,0.029998779296875,0.029998779296875],\"M_2MASS.J\":[12.96875,12.578125,13.09375,12.78125,12.734375,12.4375,12.7890625,13.0703125,12.765625,12.7421875],\"M_2MASS.J_unc\":[0.0269927978515625,0.0269927978515625,0.0269927978515625,0.0269927978515625,0.0269927978515625,0.0269927978515625,0.0269927978515625,0.0269927978515625,0.0269927978515625,0.0269927978515625],\"M_2MASS.Ks\":[11.546875,11.15625,11.6796875,11.375,11.3203125,11.015625,11.375,11.65625,11.359375,11.328125],\"M_2MASS.Ks_unc\":[0.02099609375,0.02099609375,0.02099609375,0.02099609375,0.02099609375,0.02099609375,0.02099609375,0.02099609375,0.02099609375,0.02099609375],\"M_2MASS_J\":[12.96875,12.578125,13.09375,12.78125,12.734375,12.4375,12.7890625,13.0703125,12.765625,12.7421875],\"M_SDSS.g\":[23.03125,22.640625,23.15625,22.84375,22.796875,22.5,22.84375,23.125,22.828125,22.8125],\"M_SDSS.g_unc\":[0.136962890625,0.136962890625,0.136962890625,0.136962890625,0.136962890625,0.136962890625,0.136962890625,0.136962890625,0.136962890625,0.136962890625],\"M_SDSS.i\":[17.65625,17.28125,17.796875,17.484375,17.4375,17.140625,17.5,17.78125,17.46875,17.4375],\"M_SDSS.i_unc\":[0.005001068115234375,0.006999969482421875,0.005001068115234375,0.005001068115234375,0.005001068115234375,0.005001068115234375,0.005001068115234375,0.005001068115234375,0.006000518798828125,0.006000518798828125],\"M_SDSS.r\":[20.1875,19.796875,20.3125,20.0,19.953125,19.65625,20.0,20.28125,19.984375,19.96875],\"M_SDSS.r_unc\":[0.0189971923828125,0.0200042724609375,0.0189971923828125,0.0189971923828125,0.0189971923828125,0.0189971923828125,0.0189971923828125,0.0189971923828125,0.0189971923828125,0.0189971923828125],\"M_SDSS.u\":[25.1875,24.796875,25.3125,24.984375,24.953125,24.65625,24.984375,25.28125,24.984375,24.96875],\"M_SDSS.u_unc\":[1.388671875,1.388671875,1.388671875,1.388671875,1.388671875,1.388671875,1.388671875,1.388671875,1.388671875,1.388671875],\"M_SDSS.z\":[15.71875,15.328125,15.84375,15.53125,15.484375,15.1875,15.5390625,15.8203125,15.515625,15.4921875],\"M_SDSS.z_unc\":[0.005001068115234375,0.006999969482421875,0.005001068115234375,0.005001068115234375,0.005001068115234375,0.005001068115234375,0.005001068115234375,0.005001068115234375,0.006000518798828125,0.006000518798828125],\"Mbol\":[15.12,14.732,15.25,14.94,14.89,14.591,14.945,15.227,14.927,14.898],\"Mbol_unc\":[0.014,0.015,0.014,0.014,0.014,0.014,0.014,0.014,0.014,0.014],\"SDSS.g\":[22.53125,22.53125,22.53125,22.53125,22.53125,22.53125,22.53125,22.53125,22.53125,22.53125],\"SDSS.g_unc\":[0.136962890625,0.136962890625,0.136962890625,0.136962890625,0.136962890625,0.136962890625,0.136962890625,0.136962890625,0.136962890625,0.136962890625],\"SDSS.i\":[17.171875,17.171875,17.171875,17.171875,17.171875,17.171875,17.171875,17.171875,17.171875,17.171875],\"SDSS.i_unc\":[0.005001068115234375,0.005001068115234375,0.005001068115234375,0.005001068115234375,0.005001068115234375,0.005001068115234375,0.005001068115234375,0.005001068115234375,0.005001068115234375,0.005001068115234375],\"SDSS.r\":[19.6875,19.6875,19.6875,19.6875,19.6875,19.6875,19.6875,19.6875,19.6875,19.6875],\"SDSS.r_unc\":[0.0189971923828125,0.0189971923828125,0.0189971923828125,0.0189971923828125,0.0189971923828125,0.0189971923828125,0.0189971923828125,0.0189971923828125,0.0189971923828125,0.0189971923828125],\"SDSS.u\":[24.6875,24.6875,24.6875,24.6875,24.6875,24.6875,24.6875,24.6875,24.6875,24.6875],\"SDSS.u_unc\":[1.388671875,1.388671875,1.388671875,1.388671875,1.388671875,1.388671875,1.388671875,1.388671875,1.388671875,1.388671875],\"SDSS.z\":[15.21875,15.21875,15.21875,15.21875,15.21875,15.21875,15.21875,15.21875,15.21875,15.21875],\"SDSS.z_unc\":[0.005001068115234375,0.005001068115234375,0.005001068115234375,0.005001068115234375,0.005001068115234375,0.005001068115234375,0.005001068115234375,0.005001068115234375,0.005001068115234375,0.005001068115234375],\"SpT\":[\"L3.5V\",\"L3.5V\",\"L3.5V\",\"L3.5V\",\"L3.5V\",\"L3.5V\",\"L3.5V\",\"L3.5V\",\"L3.5V\",\"L3.5V\"],\"Teff\":[1876.0,2051.0,1821.0,1955.0,1978.0,2119.0,1953.0,1830.0,1961.0,1974.0],\"Teff_unc\":[6.0,8.0,6.0,6.0,6.0,7.0,6.0,6.0,6.0,6.0],\"age\":[\"NaN\",\"NaN\",\"NaN\",\"NaN\",\"NaN\",\"NaN\",\"NaN\",\"NaN\",\"NaN\",\"NaN\"],\"age_unc\":[\"NaN\",\"NaN\",\"NaN\",\"NaN\",\"NaN\",\"NaN\",\"NaN\",\"NaN\",\"NaN\",\"NaN\"],\"dec\":[\"NaN\",\"NaN\",\"NaN\",\"NaN\",\"NaN\",\"NaN\",\"NaN\",\"NaN\",\"NaN\",\"NaN\"],\"distance\":[7.96,9.52,7.5,8.65,8.85,10.16,8.63,7.58,8.7,8.82],\"distance_unc\":[0.0,0.04,0.0,0.0,0.01,0.02,0.01,0.01,0.02,0.02],\"fbol\":[3.606241925902236e-11,3.606241925902236e-11,3.606241925902236e-11,3.606241925902236e-11,3.606241925902236e-11,3.606241925902236e-11,3.606241925902236e-11,3.606241925902236e-11,3.606241925902236e-11,3.606241925902236e-11],\"fbol_unc\":[4.777644340362557e-13,4.777644340362557e-13,4.777644340362557e-13,4.777644340362557e-13,4.777644340362557e-13,4.777644340362557e-13,4.777644340362557e-13,4.777644340362557e-13,4.777644340362557e-13,4.777644340362557e-13],\"logg\":[\"NaN\",\"NaN\",\"NaN\",\"NaN\",\"NaN\",\"NaN\",\"NaN\",\"NaN\",\"NaN\",\"NaN\"],\"logg_unc\":[\"NaN\",\"NaN\",\"NaN\",\"NaN\",\"NaN\",\"NaN\",\"NaN\",\"NaN\",\"NaN\",\"NaN\"],\"mass\":[-0.59,-0.17,-0.79,-0.36,-0.31,-0.08,-0.37,-0.75,-0.35,-0.32],\"mass_unc\":[0.02,0.01,0.03,0.02,0.01,0.01,0.02,0.02,0.02,0.02],\"mbol\":[14.625,14.625,14.625,14.625,14.625,14.625,14.625,14.625,14.625,14.625],\"mbol_unc\":[0.014,0.014,0.014,0.014,0.014,0.014,0.014,0.014,0.014,0.014],\"membership\":[\"NaN\",\"NaN\",\"NaN\",\"NaN\",\"NaN\",\"NaN\",\"NaN\",\"NaN\",\"NaN\",\"NaN\"],\"name\":[\"2MASS J00361617+1821104 0\",\"2MASS J00361617+1821104 1\",\"2MASS J00361617+1821104 2\",\"2MASS J00361617+1821104 3\",\"2MASS J00361617+1821104 4\",\"2MASS J00361617+1821104 5\",\"2MASS J00361617+1821104 6\",\"2MASS J00361617+1821104 7\",\"2MASS J00361617+1821104 8\",\"2MASS J00361617+1821104 9\"],\"parallax\":[125.6591998623335,105.03747718179629,133.35658134190845,115.59599398630519,113.03193192744085,98.38923809371805,115.92391063876573,131.84339333682806,114.97613207598735,113.3953219818125],\"parallax_unc\":[0.010137918012879388,0.4482934461657986,0.04707639273078684,0.0304810471377496,0.1830470804643763,0.2024000295213828,0.14906916914458773,0.14129445927369835,0.27196751852020534,0.21097585975537198],\"ra\":[\"NaN\",\"NaN\",\"NaN\",\"NaN\",\"NaN\",\"NaN\",\"NaN\",\"NaN\",\"NaN\",\"NaN\"],\"radius\":[0.08,0.08,0.08,0.08,0.08,0.08,0.08,0.08,0.08,0.08],\"radius_unc\":[0.0,0.0,0.0,0.0,0.0,0.0,0.0,0.0,0.0,0.0],\"reddening\":[0,0,0,0,0,0,0,0,0,0],\"spectral_type\":[73.5,73.5,73.5,73.5,73.5,73.5,73.5,73.5,73.5,73.5],\"spectral_type_unc\":[0.5,0.5,0.5,0.5,0.5,0.5,0.5,0.5,0.5,0.5]},\"selected\":{\"id\":\"1779\"},\"selection_policy\":{\"id\":\"1780\"}},\"id\":\"1689\",\"type\":\"ColumnDataSource\"},{\"attributes\":{\"line_color\":{\"value\":\"blue\"},\"xs\":{\"field\":\"xs\"},\"ys\":{\"field\":\"ys\"}},\"id\":\"1735\",\"type\":\"MultiLine\"},{\"attributes\":{},\"id\":\"1774\",\"type\":\"BasicTickFormatter\"},{\"attributes\":{},\"id\":\"1781\",\"type\":\"Selection\"},{\"attributes\":{\"data\":{\"xs\":[[1.3798828125,1.4482421875],[1.3798828125,1.4482421875],[1.3798828125,1.4482421875],[1.3798828125,1.4482421875],[1.3798828125,1.4482421875],[1.3798828125,1.4482421875],[1.3798828125,1.4482421875],[1.3798828125,1.4482421875],[1.3798828125,1.4482421875],[1.3798828125,1.4482421875]],\"ys\":[[12.96875,12.96875],[12.578125,12.578125],[13.09375,13.09375],[12.78125,12.78125],[12.734375,12.734375],[12.4375,12.4375],[12.7890625,12.7890625],[13.0703125,13.0703125],[12.765625,12.765625],[12.7421875,12.7421875]]},\"selected\":{\"id\":\"1785\"},\"selection_policy\":{\"id\":\"1786\"}},\"id\":\"1739\",\"type\":\"ColumnDataSource\"},{\"attributes\":{\"fill_alpha\":{\"value\":0.1},\"fill_color\":{\"value\":null},\"line_alpha\":{\"value\":0.1},\"line_color\":{\"value\":\"red\"},\"line_width\":{\"value\":2},\"size\":{\"value\":13},\"x\":{\"field\":\"x\"},\"y\":{\"field\":\"y\"}},\"id\":\"1731\",\"type\":\"Circle\"},{\"attributes\":{\"data_source\":{\"id\":\"1734\"},\"glyph\":{\"id\":\"1735\"},\"hover_glyph\":null,\"muted_glyph\":null,\"nonselection_glyph\":{\"id\":\"1736\"},\"view\":{\"id\":\"1738\"}},\"id\":\"1737\",\"type\":\"GlyphRenderer\"},{\"attributes\":{\"source\":{\"id\":\"1689\"}},\"id\":\"1728\",\"type\":\"CDSView\"},{\"attributes\":{\"axis_label\":\"M_2MASS.J\",\"formatter\":{\"id\":\"1777\"},\"major_label_policy\":{\"id\":\"1778\"},\"ticker\":{\"id\":\"1708\"}},\"id\":\"1707\",\"type\":\"LinearAxis\"},{\"attributes\":{\"source\":{\"id\":\"1729\"}},\"id\":\"1733\",\"type\":\"CDSView\"},{\"attributes\":{\"bottom_units\":\"screen\",\"fill_alpha\":0.5,\"fill_color\":\"lightgrey\",\"left_units\":\"screen\",\"level\":\"overlay\",\"line_alpha\":1.0,\"line_color\":\"black\",\"line_dash\":[4,4],\"line_width\":2,\"right_units\":\"screen\",\"syncable\":false,\"top_units\":\"screen\"},\"id\":\"1716\",\"type\":\"BoxAnnotation\"}],\"root_ids\":[\"1692\"]},\"title\":\"Bokeh Application\",\"version\":\"2.3.0\"}};\n",
       "  var render_items = [{\"docid\":\"bb20780d-48b1-494d-9535-a9731f292832\",\"root_ids\":[\"1692\"],\"roots\":{\"1692\":\"a18e0b33-642c-4446-b671-044663d0918e\"}}];\n",
       "  root.Bokeh.embed.embed_items_notebook(docs_json, render_items);\n",
       "\n",
       "  }\n",
       "  if (root.Bokeh !== undefined) {\n",
       "    embed_document(root);\n",
       "  } else {\n",
       "    var attempts = 0;\n",
       "    var timer = setInterval(function(root) {\n",
       "      if (root.Bokeh !== undefined) {\n",
       "        clearInterval(timer);\n",
       "        embed_document(root);\n",
       "      } else {\n",
       "        attempts++;\n",
       "        if (attempts > 100) {\n",
       "          clearInterval(timer);\n",
       "          console.log(\"Bokeh: ERROR: Unable to run BokehJS code because BokehJS library is missing\");\n",
       "        }\n",
       "      }\n",
       "    }, 10, root)\n",
       "  }\n",
       "})(window);"
      ],
      "application/vnd.bokehjs_exec.v0+json": ""
     },
     "metadata": {
      "application/vnd.bokehjs_exec.v0+json": {
       "id": "1692"
      }
     },
     "output_type": "display_data"
    }
   ],
   "source": [
    "show(cat.plot('2MASS.J-2MASS.Ks', 'M_2MASS.J'))"
   ]
  },
  {
   "cell_type": "markdown",
   "metadata": {},
   "source": [
    "We can then retrieve the SED for some sources like so:"
   ]
  },
  {
   "cell_type": "code",
   "execution_count": 8,
   "metadata": {},
   "outputs": [
    {
     "data": {
      "text/html": [
       "\n",
       "\n",
       "\n",
       "\n",
       "\n",
       "\n",
       "  <div class=\"bk-root\" id=\"9d501701-cbe3-416b-9fe8-f1f5df0bc88d\" data-root-id=\"1948\"></div>\n"
      ]
     },
     "metadata": {},
     "output_type": "display_data"
    },
    {
     "data": {
      "application/javascript": [
       "(function(root) {\n",
       "  function embed_document(root) {\n",
       "    \n",
       "  var docs_json = {\"ab41ea11-d6dd-47f9-af8c-c9e8d326a23a\":{\"defs\":[{\"extends\":null,\"module\":null,\"name\":\"DataModel\",\"overrides\":[],\"properties\":[]}],\"roots\":{\"references\":[{\"attributes\":{\"below\":[{\"id\":\"1959\"}],\"center\":[{\"id\":\"1962\"},{\"id\":\"1966\"},{\"id\":\"1997\"}],\"height\":500,\"left\":[{\"id\":\"1963\"}],\"renderers\":[{\"id\":\"1985\"},{\"id\":\"2002\"},{\"id\":\"2012\"},{\"id\":\"2031\"}],\"title\":{\"id\":\"1949\"},\"toolbar\":{\"id\":\"1973\"},\"width\":800,\"x_range\":{\"id\":\"2033\"},\"x_scale\":{\"id\":\"1955\"},\"y_range\":{\"id\":\"2034\"},\"y_scale\":{\"id\":\"1957\"}},\"id\":\"1948\",\"subtype\":\"Figure\",\"type\":\"Plot\"},{\"attributes\":{\"data_source\":{\"id\":\"2008\"},\"glyph\":{\"id\":\"2010\"},\"hover_glyph\":null,\"muted_glyph\":null,\"name\":\"photometry\",\"nonselection_glyph\":{\"id\":\"2011\"},\"view\":{\"id\":\"2013\"}},\"id\":\"2012\",\"type\":\"GlyphRenderer\"},{\"attributes\":{\"data\":{\"xs\":[[0.359375,0.359375],[0.464111328125,0.464111328125],[0.6123046875,0.6123046875],[0.744140625,0.744140625],[0.8896484375,0.8896484375],[1.2353515625,1.2353515625],[1.662109375,1.662109375],[2.158203125,2.158203125]],\"ys\":[[-1.0299587670229524e-19,8.412803592605997e-19],[3.515563481147432e-18,4.530561962620481e-18],[2.4847599711198186e-17,2.5732604621468907e-17],[1.423265817628409e-16,1.4364380539307367e-16],[5.187657236491031e-16,5.235668680402757e-16],[2.3579875281454783e-15,2.4782219121681474e-15],[1.8671973317496475e-15,1.9733101573594795e-15],[1.185305513671935e-15,1.2320526690202656e-15]]},\"selected\":{\"id\":\"2092\"},\"selection_policy\":{\"id\":\"2093\"}},\"id\":\"2028\",\"type\":\"ColumnDataSource\"},{\"attributes\":{},\"id\":\"1994\",\"type\":\"Selection\"},{\"attributes\":{},\"id\":\"1993\",\"type\":\"AllLabels\"},{\"attributes\":{\"data\":{\"desc\":[\"SDSS.u\",\"SDSS.g\",\"SDSS.r\",\"SDSS.i\",\"SDSS.z\",\"2MASS.J\",\"2MASS.H\",\"2MASS.Ks\"],\"x\":{\"__ndarray__\":\"AAAAAAAA1z8AAAAAALTdPwAAAAAAmOM/AAAAAADQ5z8AAAAAAHjsPwAAAAAAxPM/AAAAAACY+j8AAAAAAEQBQA==\",\"dtype\":\"float64\",\"order\":\"little\",\"shape\":[8]},\"y\":{\"__ndarray__\":\"HserWOY8GzwMoH8ZmI1SPPdJ1RdSKH085I+t+DibpDwcBq4f6cbCPLVY1xXFx+U8Mx6Avc1L4TyMBkpoDMbVPA==\",\"dtype\":\"float64\",\"order\":\"little\",\"shape\":[8]},\"z\":{\"__ndarray__\":\"3zkp7DdrITzb4AHfMbkiPMrZWElRUyA8cbYjqGlMKDylkMPaMCRGPPI8gKbdU5E8Ph6wmr6Vjjy7yMCYqfJ6PA==\",\"dtype\":\"float64\",\"order\":\"little\",\"shape\":[8]}},\"selected\":{\"id\":\"2025\"},\"selection_policy\":{\"id\":\"2026\"}},\"id\":\"2008\",\"type\":\"ColumnDataSource\"},{\"attributes\":{\"end\":4.836209440313626e-15,\"start\":1.8457112063957612e-19},\"id\":\"2034\",\"type\":\"Range1d\"},{\"attributes\":{},\"id\":\"1995\",\"type\":\"UnionRenderers\"},{\"attributes\":{\"ticker\":null},\"id\":\"1989\",\"type\":\"LogTickFormatter\"},{\"attributes\":{\"data\":{\"xs\":[[0.359375,0.359375],[0.464111328125,0.464111328125],[0.6123046875,0.6123046875],[0.744140625,0.744140625],[0.8896484375,0.8896484375],[1.2353515625,1.2353515625],[1.662109375,1.662109375],[2.158203125,2.158203125]],\"ys\":[[-8.54220203087715e-20,6.977353874257383e-19],[2.957978033182711e-18,3.811992824271384e-18],[2.090664967854674e-17,2.165128851038067e-17],[1.2148873754370554e-16,1.2261310822638218e-16],[4.3648695953041006e-16,4.405266190954796e-16],[1.9839992502415674e-15,2.0851638768169433e-15],[1.5938234711294478e-15,1.6844004600577354e-15],[1.0117665208846662e-15,1.0516694878265092e-15]]},\"selected\":{\"id\":\"2023\"},\"selection_policy\":{\"id\":\"2024\"}},\"id\":\"1999\",\"type\":\"ColumnDataSource\"},{\"attributes\":{\"line_alpha\":{\"value\":0.1},\"line_color\":{\"value\":\"#ff7f0e\"},\"xs\":{\"field\":\"xs\"},\"ys\":{\"field\":\"ys\"}},\"id\":\"2030\",\"type\":\"MultiLine\"},{\"attributes\":{},\"id\":\"2025\",\"type\":\"Selection\"},{\"attributes\":{\"line_color\":{\"value\":\"#ff7f0e\"},\"xs\":{\"field\":\"xs\"},\"ys\":{\"field\":\"ys\"}},\"id\":\"2029\",\"type\":\"MultiLine\"},{\"attributes\":{},\"id\":\"1967\",\"type\":\"PanTool\"},{\"attributes\":{},\"id\":\"2093\",\"type\":\"UnionRenderers\"},{\"attributes\":{\"source\":{\"id\":\"1999\"}},\"id\":\"2003\",\"type\":\"CDSView\"},{\"attributes\":{},\"id\":\"1970\",\"type\":\"WheelZoomTool\"},{\"attributes\":{\"source\":{\"id\":\"2028\"}},\"id\":\"2032\",\"type\":\"CDSView\"},{\"attributes\":{\"data_source\":{\"id\":\"1981\"},\"glyph\":{\"id\":\"1983\"},\"hover_glyph\":null,\"muted_glyph\":null,\"name\":\"photometry\",\"nonselection_glyph\":{\"id\":\"1984\"},\"view\":{\"id\":\"1986\"}},\"id\":\"1985\",\"type\":\"GlyphRenderer\"},{\"attributes\":{\"fill_alpha\":{\"value\":0.1},\"fill_color\":{\"value\":\"#ff7f0e\"},\"line_alpha\":{\"value\":0.1},\"line_color\":{\"value\":\"#ff7f0e\"},\"size\":{\"value\":8},\"x\":{\"field\":\"x\"},\"y\":{\"field\":\"y\"}},\"id\":\"2011\",\"type\":\"Circle\"},{\"attributes\":{\"data_source\":{\"id\":\"1999\"},\"glyph\":{\"id\":\"2000\"},\"hover_glyph\":null,\"muted_glyph\":null,\"nonselection_glyph\":{\"id\":\"2001\"},\"view\":{\"id\":\"2003\"}},\"id\":\"2002\",\"type\":\"GlyphRenderer\"},{\"attributes\":{},\"id\":\"2026\",\"type\":\"UnionRenderers\"},{\"attributes\":{},\"id\":\"1990\",\"type\":\"AllLabels\"},{\"attributes\":{\"data_source\":{\"id\":\"2028\"},\"glyph\":{\"id\":\"2029\"},\"hover_glyph\":null,\"muted_glyph\":null,\"nonselection_glyph\":{\"id\":\"2030\"},\"view\":{\"id\":\"2032\"}},\"id\":\"2031\",\"type\":\"GlyphRenderer\"},{\"attributes\":{\"click_policy\":\"hide\",\"items\":[{\"id\":\"1998\"}]},\"id\":\"1997\",\"type\":\"Legend\"},{\"attributes\":{},\"id\":\"1955\",\"type\":\"LogScale\"},{\"attributes\":{\"num_minor_ticks\":10},\"id\":\"1960\",\"type\":\"LogTicker\"},{\"attributes\":{\"axis\":{\"id\":\"1959\"},\"ticker\":null},\"id\":\"1962\",\"type\":\"Grid\"},{\"attributes\":{\"text\":\"SED Catalog\"},\"id\":\"1949\",\"type\":\"Title\"},{\"attributes\":{},\"id\":\"1957\",\"type\":\"LogScale\"},{\"attributes\":{\"fill_alpha\":{\"value\":0.7},\"fill_color\":{\"value\":\"#1f77b4\"},\"line_color\":{\"value\":\"#1f77b4\"},\"size\":{\"value\":8},\"x\":{\"field\":\"x\"},\"y\":{\"field\":\"y\"}},\"id\":\"1983\",\"type\":\"Circle\"},{\"attributes\":{\"axis_label\":\"Wavelength [um]\",\"formatter\":{\"id\":\"1989\"},\"major_label_policy\":{\"id\":\"1990\"},\"ticker\":{\"id\":\"1960\"}},\"id\":\"1959\",\"type\":\"LogAxis\"},{\"attributes\":{\"active_multi\":null,\"tools\":[{\"id\":\"1967\"},{\"id\":\"1968\"},{\"id\":\"1969\"},{\"id\":\"1970\"},{\"id\":\"1971\"},{\"id\":\"1979\"},{\"id\":\"2006\"}]},\"id\":\"1973\",\"type\":\"Toolbar\"},{\"attributes\":{},\"id\":\"1968\",\"type\":\"ResetTool\"},{\"attributes\":{\"callback\":null,\"mode\":\"vline\",\"names\":[\"photometry\",\"nondetection\"],\"tooltips\":[[\"Band\",\"@desc\"],[\"Wave\",\"@x\"],[\"Flux\",\"@y\"],[\"Unc\",\"@z\"]]},\"id\":\"2006\",\"type\":\"HoverTool\"},{\"attributes\":{\"bottom_units\":\"screen\",\"fill_alpha\":0.5,\"fill_color\":\"lightgrey\",\"left_units\":\"screen\",\"level\":\"overlay\",\"line_alpha\":1.0,\"line_color\":\"black\",\"line_dash\":[4,4],\"line_width\":2,\"right_units\":\"screen\",\"syncable\":false,\"top_units\":\"screen\"},\"id\":\"1972\",\"type\":\"BoxAnnotation\"},{\"attributes\":{\"label\":{\"value\":\"Photometry\"},\"renderers\":[{\"id\":\"1985\"},{\"id\":\"2012\"}]},\"id\":\"1998\",\"type\":\"LegendItem\"},{\"attributes\":{\"axis\":{\"id\":\"1963\"},\"dimension\":1,\"ticker\":null},\"id\":\"1966\",\"type\":\"Grid\"},{\"attributes\":{\"source\":{\"id\":\"2008\"}},\"id\":\"2013\",\"type\":\"CDSView\"},{\"attributes\":{\"line_alpha\":{\"value\":0.1},\"line_color\":{\"value\":\"#1f77b4\"},\"xs\":{\"field\":\"xs\"},\"ys\":{\"field\":\"ys\"}},\"id\":\"2001\",\"type\":\"MultiLine\"},{\"attributes\":{},\"id\":\"2023\",\"type\":\"Selection\"},{\"attributes\":{},\"id\":\"2092\",\"type\":\"Selection\"},{\"attributes\":{\"overlay\":{\"id\":\"1972\"}},\"id\":\"1969\",\"type\":\"BoxZoomTool\"},{\"attributes\":{\"source\":{\"id\":\"1981\"}},\"id\":\"1986\",\"type\":\"CDSView\"},{\"attributes\":{\"axis_label\":\"Flux Density [erg / (Angstrom cm2 s)]\",\"formatter\":{\"id\":\"1992\"},\"major_label_policy\":{\"id\":\"1993\"},\"ticker\":{\"id\":\"1964\"}},\"id\":\"1963\",\"type\":\"LogAxis\"},{\"attributes\":{},\"id\":\"1971\",\"type\":\"SaveTool\"},{\"attributes\":{\"line_color\":{\"value\":\"#1f77b4\"},\"xs\":{\"field\":\"xs\"},\"ys\":{\"field\":\"ys\"}},\"id\":\"2000\",\"type\":\"MultiLine\"},{\"attributes\":{\"fill_alpha\":{\"value\":0.1},\"fill_color\":{\"value\":\"#1f77b4\"},\"line_alpha\":{\"value\":0.1},\"line_color\":{\"value\":\"#1f77b4\"},\"size\":{\"value\":8},\"x\":{\"field\":\"x\"},\"y\":{\"field\":\"y\"}},\"id\":\"1984\",\"type\":\"Circle\"},{\"attributes\":{\"num_minor_ticks\":10},\"id\":\"1964\",\"type\":\"LogTicker\"},{\"attributes\":{\"data\":{\"desc\":[\"SDSS.u\",\"SDSS.g\",\"SDSS.r\",\"SDSS.i\",\"SDSS.z\",\"2MASS.J\",\"2MASS.H\",\"2MASS.Ks\"],\"x\":{\"__ndarray__\":\"AAAAAAAA1z8AAAAAALTdPwAAAAAAmOM/AAAAAADQ5z8AAAAAAHjsPwAAAAAAxPM/AAAAAACY+j8AAAAAAEQBQA==\",\"dtype\":\"float64\",\"order\":\"little\",\"shape\":[8]},\"y\":{\"__ndarray__\":\"6zLf4CKXFjw4zVMkkjhPPNwCc3JxiHg8ZpD3X+KWoTxEPq3DBZm/PLxlCPlsU+I8FYEc2hGH3Tw/toGh9ZXSPA==\",\"dtype\":\"float64\",\"order\":\"little\",\"shape\":[8]},\"z\":{\"__ndarray__\":\"vXoMbLbkHDz16gMQ8YEfPOLwXTjqeBs8HmHFv7C9JDyy6AowMKFCPBIDZcShKI08ajxQ8mYbijwzLR94owB3PA==\",\"dtype\":\"float64\",\"order\":\"little\",\"shape\":[8]}},\"selected\":{\"id\":\"1994\"},\"selection_policy\":{\"id\":\"1995\"}},\"id\":\"1981\",\"type\":\"ColumnDataSource\"},{\"attributes\":{\"fill_alpha\":{\"value\":0.7},\"fill_color\":{\"value\":\"#ff7f0e\"},\"line_color\":{\"value\":\"#ff7f0e\"},\"size\":{\"value\":8},\"x\":{\"field\":\"x\"},\"y\":{\"field\":\"y\"}},\"id\":\"2010\",\"type\":\"Circle\"},{\"attributes\":{\"ticker\":null},\"id\":\"1992\",\"type\":\"LogTickFormatter\"},{\"attributes\":{\"end\":21.599999999999998,\"start\":0.24},\"id\":\"2033\",\"type\":\"Range1d\"},{\"attributes\":{},\"id\":\"2024\",\"type\":\"UnionRenderers\"},{\"attributes\":{\"callback\":null,\"mode\":\"vline\",\"names\":[\"photometry\",\"nondetection\"],\"tooltips\":[[\"Band\",\"@desc\"],[\"Wave\",\"@x\"],[\"Flux\",\"@y\"],[\"Unc\",\"@z\"]]},\"id\":\"1979\",\"type\":\"HoverTool\"}],\"root_ids\":[\"1948\"]},\"title\":\"Bokeh Application\",\"version\":\"2.3.0\"}};\n",
       "  var render_items = [{\"docid\":\"ab41ea11-d6dd-47f9-af8c-c9e8d326a23a\",\"root_ids\":[\"1948\"],\"roots\":{\"1948\":\"9d501701-cbe3-416b-9fe8-f1f5df0bc88d\"}}];\n",
       "  root.Bokeh.embed.embed_items_notebook(docs_json, render_items);\n",
       "\n",
       "  }\n",
       "  if (root.Bokeh !== undefined) {\n",
       "    embed_document(root);\n",
       "  } else {\n",
       "    var attempts = 0;\n",
       "    var timer = setInterval(function(root) {\n",
       "      if (root.Bokeh !== undefined) {\n",
       "        clearInterval(timer);\n",
       "        embed_document(root);\n",
       "      } else {\n",
       "        attempts++;\n",
       "        if (attempts > 100) {\n",
       "          clearInterval(timer);\n",
       "          console.log(\"Bokeh: ERROR: Unable to run BokehJS code because BokehJS library is missing\");\n",
       "        }\n",
       "      }\n",
       "    }, 10, root)\n",
       "  }\n",
       "})(window);"
      ],
      "application/vnd.bokehjs_exec.v0+json": ""
     },
     "metadata": {
      "application/vnd.bokehjs_exec.v0+json": {
       "id": "1948"
      }
     },
     "output_type": "display_data"
    }
   ],
   "source": [
    "show(cat.plot_SEDs(['2MASS J00361617+1821104 0', '2MASS J00361617+1821104 3'], app=False))"
   ]
  },
  {
   "cell_type": "markdown",
   "metadata": {},
   "source": [
    "The catalog can also be filtered by providing a column name and value..."
   ]
  },
  {
   "cell_type": "code",
   "execution_count": 9,
   "metadata": {},
   "outputs": [
    {
     "data": {
      "text/html": [
       "<i>QTable length=1</i>\n",
       "<table id=\"table6979950336\" class=\"table-striped table-bordered table-condensed\">\n",
       "<thead><tr><th>name</th><th>ra</th><th>dec</th><th>age</th><th>age_unc</th><th>distance</th><th>distance_unc</th><th>parallax</th><th>parallax_unc</th><th>radius</th><th>radius_unc</th><th>spectral_type</th><th>spectral_type_unc</th><th>SpT</th><th>membership</th><th>reddening</th><th>fbol</th><th>fbol_unc</th><th>mbol</th><th>mbol_unc</th><th>Lbol</th><th>Lbol_unc</th><th>Lbol_sun</th><th>Lbol_sun_unc</th><th>Mbol</th><th>Mbol_unc</th><th>logg</th><th>logg_unc</th><th>mass</th><th>mass_unc</th><th>Teff</th><th>Teff_unc</th><th>SED</th><th>SDSS.u</th><th>SDSS.u_unc</th><th>M_SDSS.u</th><th>M_SDSS.u_unc</th><th>SDSS.g</th><th>SDSS.g_unc</th><th>M_SDSS.g</th><th>M_SDSS.g_unc</th><th>SDSS.r</th><th>SDSS.r_unc</th><th>M_SDSS.r</th><th>M_SDSS.r_unc</th><th>SDSS.i</th><th>SDSS.i_unc</th><th>M_SDSS.i</th><th>M_SDSS.i_unc</th><th>SDSS.z</th><th>SDSS.z_unc</th><th>M_SDSS.z</th><th>M_SDSS.z_unc</th><th>2MASS.J</th><th>2MASS.J_unc</th><th>M_2MASS.J</th><th>M_2MASS.J_unc</th><th>2MASS.H</th><th>2MASS.H_unc</th><th>M_2MASS.H</th><th>M_2MASS.H_unc</th><th>2MASS.Ks</th><th>2MASS.Ks_unc</th><th>M_2MASS.Ks</th><th>M_2MASS.Ks_unc</th></tr></thead>\n",
       "<thead><tr><th></th><th></th><th></th><th>Gyr</th><th>Gyr</th><th>pc</th><th>pc</th><th>mas</th><th>mas</th><th>solRad</th><th>solRad</th><th></th><th></th><th></th><th></th><th></th><th>erg / (cm2 s)</th><th>erg / (cm2 s)</th><th></th><th></th><th>erg / s</th><th>erg / s</th><th></th><th></th><th></th><th></th><th></th><th></th><th>solMass</th><th>solMass</th><th>K</th><th>K</th><th></th><th></th><th></th><th></th><th></th><th></th><th></th><th></th><th></th><th></th><th></th><th></th><th></th><th></th><th></th><th></th><th></th><th></th><th></th><th></th><th></th><th></th><th></th><th></th><th></th><th></th><th></th><th></th><th></th><th></th><th></th><th></th><th></th></tr></thead>\n",
       "<thead><tr><th>object</th><th>object</th><th>object</th><th>object</th><th>object</th><th>object</th><th>object</th><th>object</th><th>object</th><th>object</th><th>object</th><th>object</th><th>object</th><th>object</th><th>object</th><th>object</th><th>object</th><th>object</th><th>object</th><th>object</th><th>object</th><th>object</th><th>object</th><th>object</th><th>object</th><th>object</th><th>object</th><th>object</th><th>object</th><th>object</th><th>object</th><th>object</th><th>object</th><th>float16</th><th>float16</th><th>float16</th><th>float16</th><th>float16</th><th>float16</th><th>float16</th><th>float16</th><th>float16</th><th>float16</th><th>float16</th><th>float16</th><th>float16</th><th>float16</th><th>float16</th><th>float16</th><th>float16</th><th>float16</th><th>float16</th><th>float16</th><th>float16</th><th>float16</th><th>float16</th><th>float16</th><th>float16</th><th>float16</th><th>float16</th><th>float16</th><th>float16</th><th>float16</th><th>float16</th><th>float16</th></tr></thead>\n",
       "<tr><td>2MASS J00361617+1821104 3</td><td>None</td><td>None</td><td>None</td><td>None</td><td>8.65</td><td>0.0</td><td>115.59599398630519</td><td>0.0304810471377496</td><td>0.08</td><td>0.0</td><td>73.5</td><td>0.5</td><td>L3.5V</td><td>None</td><td>0</td><td>3.606241925902236e-11</td><td>4.777644340362557e-13</td><td>14.625</td><td>0.014</td><td>3.228479458747495e+29</td><td>4.277174668530515e+27</td><td>-4.074</td><td>0.006</td><td>14.94</td><td>0.014</td><td>None</td><td>None</td><td>-0.36</td><td>0.02</td><td>1955.0</td><td>6.0</td><td>&lt;sedkit.sed.SED object at 0x19fdd3190&gt;</td><td>24.69</td><td>1.389</td><td>24.98</td><td>1.389</td><td>22.53</td><td>0.137</td><td>22.84</td><td>0.137</td><td>19.69</td><td>0.019</td><td>20.0</td><td>0.019</td><td>17.17</td><td>0.005</td><td>17.48</td><td>0.005</td><td>15.22</td><td>0.005</td><td>15.53</td><td>0.005</td><td>12.47</td><td>0.027</td><td>12.78</td><td>0.027</td><td>11.586</td><td>0.03</td><td>11.91</td><td>0.03</td><td>11.055</td><td>0.021</td><td>11.375</td><td>0.021</td></tr>\n",
       "</table>"
      ],
      "text/plain": [
       "<QTable length=1>\n",
       "           name             ra    dec   ... M_2MASS.Ks M_2MASS.Ks_unc\n",
       "                                        ...                          \n",
       "          object          object object ...  float16      float16    \n",
       "------------------------- ------ ------ ... ---------- --------------\n",
       "2MASS J00361617+1821104 3   None   None ...     11.375          0.021"
      ]
     },
     "execution_count": 9,
     "metadata": {},
     "output_type": "execute_result"
    }
   ],
   "source": [
    "cat.filter('name', \"'2MASS J00361617+1821104 3'\").results"
   ]
  },
  {
   "cell_type": "markdown",
   "metadata": {},
   "source": [
    "...or a wildcard search..."
   ]
  },
  {
   "cell_type": "code",
   "execution_count": 10,
   "metadata": {},
   "outputs": [
    {
     "data": {
      "text/html": [
       "<i>QTable length=10</i>\n",
       "<table id=\"table6978946432\" class=\"table-striped table-bordered table-condensed\">\n",
       "<thead><tr><th>name</th><th>ra</th><th>dec</th><th>age</th><th>age_unc</th><th>distance</th><th>distance_unc</th><th>parallax</th><th>parallax_unc</th><th>radius</th><th>radius_unc</th><th>spectral_type</th><th>spectral_type_unc</th><th>SpT</th><th>membership</th><th>reddening</th><th>fbol</th><th>fbol_unc</th><th>mbol</th><th>mbol_unc</th><th>Lbol</th><th>Lbol_unc</th><th>Lbol_sun</th><th>Lbol_sun_unc</th><th>Mbol</th><th>Mbol_unc</th><th>logg</th><th>logg_unc</th><th>mass</th><th>mass_unc</th><th>Teff</th><th>Teff_unc</th><th>SED</th><th>SDSS.u</th><th>SDSS.u_unc</th><th>M_SDSS.u</th><th>M_SDSS.u_unc</th><th>SDSS.g</th><th>SDSS.g_unc</th><th>M_SDSS.g</th><th>M_SDSS.g_unc</th><th>SDSS.r</th><th>SDSS.r_unc</th><th>M_SDSS.r</th><th>M_SDSS.r_unc</th><th>SDSS.i</th><th>SDSS.i_unc</th><th>M_SDSS.i</th><th>M_SDSS.i_unc</th><th>SDSS.z</th><th>SDSS.z_unc</th><th>M_SDSS.z</th><th>M_SDSS.z_unc</th><th>2MASS.J</th><th>2MASS.J_unc</th><th>M_2MASS.J</th><th>M_2MASS.J_unc</th><th>2MASS.H</th><th>2MASS.H_unc</th><th>M_2MASS.H</th><th>M_2MASS.H_unc</th><th>2MASS.Ks</th><th>2MASS.Ks_unc</th><th>M_2MASS.Ks</th><th>M_2MASS.Ks_unc</th></tr></thead>\n",
       "<thead><tr><th></th><th></th><th></th><th>Gyr</th><th>Gyr</th><th>pc</th><th>pc</th><th>mas</th><th>mas</th><th>solRad</th><th>solRad</th><th></th><th></th><th></th><th></th><th></th><th>erg / (cm2 s)</th><th>erg / (cm2 s)</th><th></th><th></th><th>erg / s</th><th>erg / s</th><th></th><th></th><th></th><th></th><th></th><th></th><th>solMass</th><th>solMass</th><th>K</th><th>K</th><th></th><th></th><th></th><th></th><th></th><th></th><th></th><th></th><th></th><th></th><th></th><th></th><th></th><th></th><th></th><th></th><th></th><th></th><th></th><th></th><th></th><th></th><th></th><th></th><th></th><th></th><th></th><th></th><th></th><th></th><th></th><th></th><th></th></tr></thead>\n",
       "<thead><tr><th>object</th><th>object</th><th>object</th><th>object</th><th>object</th><th>object</th><th>object</th><th>object</th><th>object</th><th>object</th><th>object</th><th>object</th><th>object</th><th>object</th><th>object</th><th>object</th><th>object</th><th>object</th><th>object</th><th>object</th><th>object</th><th>object</th><th>object</th><th>object</th><th>object</th><th>object</th><th>object</th><th>object</th><th>object</th><th>object</th><th>object</th><th>object</th><th>object</th><th>float16</th><th>float16</th><th>float16</th><th>float16</th><th>float16</th><th>float16</th><th>float16</th><th>float16</th><th>float16</th><th>float16</th><th>float16</th><th>float16</th><th>float16</th><th>float16</th><th>float16</th><th>float16</th><th>float16</th><th>float16</th><th>float16</th><th>float16</th><th>float16</th><th>float16</th><th>float16</th><th>float16</th><th>float16</th><th>float16</th><th>float16</th><th>float16</th><th>float16</th><th>float16</th><th>float16</th><th>float16</th></tr></thead>\n",
       "<tr><td>2MASS J00361617+1821104 0</td><td>None</td><td>None</td><td>None</td><td>None</td><td>7.96</td><td>0.0</td><td>125.6591998623335</td><td>0.010137918012879388</td><td>0.08</td><td>0.0</td><td>73.5</td><td>0.5</td><td>L3.5V</td><td>None</td><td>0</td><td>3.606241925902236e-11</td><td>4.777644340362557e-13</td><td>14.625</td><td>0.014</td><td>2.7339586898777147e+29</td><td>3.6220205216019665e+27</td><td>-4.146</td><td>0.006</td><td>15.12</td><td>0.014</td><td>None</td><td>None</td><td>-0.59</td><td>0.02</td><td>1876.0</td><td>6.0</td><td>&lt;sedkit.sed.SED object at 0x19fe27280&gt;</td><td>24.69</td><td>1.389</td><td>25.19</td><td>1.389</td><td>22.53</td><td>0.137</td><td>23.03</td><td>0.137</td><td>19.69</td><td>0.019</td><td>20.19</td><td>0.019</td><td>17.17</td><td>0.005</td><td>17.66</td><td>0.005</td><td>15.22</td><td>0.005</td><td>15.72</td><td>0.005</td><td>12.47</td><td>0.027</td><td>12.97</td><td>0.027</td><td>11.586</td><td>0.03</td><td>12.08</td><td>0.03</td><td>11.055</td><td>0.021</td><td>11.55</td><td>0.021</td></tr>\n",
       "<tr><td>2MASS J00361617+1821104 1</td><td>None</td><td>None</td><td>None</td><td>None</td><td>9.52</td><td>0.04</td><td>105.03747718179629</td><td>0.4482934461657986</td><td>0.08</td><td>0.0</td><td>73.5</td><td>0.5</td><td>L3.5V</td><td>None</td><td>0</td><td>3.606241925902236e-11</td><td>4.777644340362557e-13</td><td>14.625</td><td>0.014</td><td>3.9105668046118344e+29</td><td>6.135141790184426e+27</td><td>-3.991</td><td>0.007</td><td>14.732</td><td>0.015</td><td>None</td><td>None</td><td>-0.17</td><td>0.01</td><td>2051.0</td><td>8.0</td><td>&lt;sedkit.sed.SED object at 0x19fe27340&gt;</td><td>24.69</td><td>1.389</td><td>24.8</td><td>1.389</td><td>22.53</td><td>0.137</td><td>22.64</td><td>0.137</td><td>19.69</td><td>0.019</td><td>19.8</td><td>0.02</td><td>17.17</td><td>0.005</td><td>17.28</td><td>0.007</td><td>15.22</td><td>0.005</td><td>15.33</td><td>0.007</td><td>12.47</td><td>0.027</td><td>12.58</td><td>0.027</td><td>11.586</td><td>0.03</td><td>11.69</td><td>0.03</td><td>11.055</td><td>0.021</td><td>11.16</td><td>0.021</td></tr>\n",
       "<tr><td>2MASS J00361617+1821104 2</td><td>None</td><td>None</td><td>None</td><td>None</td><td>7.5</td><td>0.0</td><td>133.35658134190845</td><td>0.04707639273078684</td><td>0.08</td><td>0.0</td><td>73.5</td><td>0.5</td><td>L3.5V</td><td>None</td><td>0</td><td>3.606241925902236e-11</td><td>4.777644340362557e-13</td><td>14.625</td><td>0.014</td><td>2.4271037395776216e+29</td><td>3.2154909967568774e+27</td><td>-4.198</td><td>0.006</td><td>15.25</td><td>0.014</td><td>None</td><td>None</td><td>-0.79</td><td>0.03</td><td>1821.0</td><td>6.0</td><td>&lt;sedkit.sed.SED object at 0x19fefe880&gt;</td><td>24.69</td><td>1.389</td><td>25.31</td><td>1.389</td><td>22.53</td><td>0.137</td><td>23.16</td><td>0.137</td><td>19.69</td><td>0.019</td><td>20.31</td><td>0.019</td><td>17.17</td><td>0.005</td><td>17.8</td><td>0.005</td><td>15.22</td><td>0.005</td><td>15.84</td><td>0.005</td><td>12.47</td><td>0.027</td><td>13.09</td><td>0.027</td><td>11.586</td><td>0.03</td><td>12.21</td><td>0.03</td><td>11.055</td><td>0.021</td><td>11.68</td><td>0.021</td></tr>\n",
       "<tr><td>2MASS J00361617+1821104 3</td><td>None</td><td>None</td><td>None</td><td>None</td><td>8.65</td><td>0.0</td><td>115.59599398630519</td><td>0.0304810471377496</td><td>0.08</td><td>0.0</td><td>73.5</td><td>0.5</td><td>L3.5V</td><td>None</td><td>0</td><td>3.606241925902236e-11</td><td>4.777644340362557e-13</td><td>14.625</td><td>0.014</td><td>3.228479458747495e+29</td><td>4.277174668530515e+27</td><td>-4.074</td><td>0.006</td><td>14.94</td><td>0.014</td><td>None</td><td>None</td><td>-0.36</td><td>0.02</td><td>1955.0</td><td>6.0</td><td>&lt;sedkit.sed.SED object at 0x19fdd3190&gt;</td><td>24.69</td><td>1.389</td><td>24.98</td><td>1.389</td><td>22.53</td><td>0.137</td><td>22.84</td><td>0.137</td><td>19.69</td><td>0.019</td><td>20.0</td><td>0.019</td><td>17.17</td><td>0.005</td><td>17.48</td><td>0.005</td><td>15.22</td><td>0.005</td><td>15.53</td><td>0.005</td><td>12.47</td><td>0.027</td><td>12.78</td><td>0.027</td><td>11.586</td><td>0.03</td><td>11.91</td><td>0.03</td><td>11.055</td><td>0.021</td><td>11.375</td><td>0.021</td></tr>\n",
       "<tr><td>2MASS J00361617+1821104 4</td><td>None</td><td>None</td><td>None</td><td>None</td><td>8.85</td><td>0.01</td><td>113.03193192744085</td><td>0.1830470804643763</td><td>0.08</td><td>0.0</td><td>73.5</td><td>0.5</td><td>L3.5V</td><td>None</td><td>0</td><td>3.606241925902236e-11</td><td>4.777644340362557e-13</td><td>14.625</td><td>0.014</td><td>3.37949924698788e+29</td><td>4.5419209585242405e+27</td><td>-4.054</td><td>0.006</td><td>14.89</td><td>0.014</td><td>None</td><td>None</td><td>-0.31</td><td>0.01</td><td>1978.0</td><td>6.0</td><td>&lt;sedkit.sed.SED object at 0x19ffa4160&gt;</td><td>24.69</td><td>1.389</td><td>24.95</td><td>1.389</td><td>22.53</td><td>0.137</td><td>22.8</td><td>0.137</td><td>19.69</td><td>0.019</td><td>19.95</td><td>0.019</td><td>17.17</td><td>0.005</td><td>17.44</td><td>0.005</td><td>15.22</td><td>0.005</td><td>15.484</td><td>0.005</td><td>12.47</td><td>0.027</td><td>12.734</td><td>0.027</td><td>11.586</td><td>0.03</td><td>11.85</td><td>0.03</td><td>11.055</td><td>0.021</td><td>11.32</td><td>0.021</td></tr>\n",
       "<tr><td>2MASS J00361617+1821104 5</td><td>None</td><td>None</td><td>None</td><td>None</td><td>10.16</td><td>0.02</td><td>98.38923809371805</td><td>0.2024000295213828</td><td>0.08</td><td>0.0</td><td>73.5</td><td>0.5</td><td>L3.5V</td><td>None</td><td>0</td><td>3.606241925902236e-11</td><td>4.777644340362557e-13</td><td>14.625</td><td>0.014</td><td>4.454030929424778e+29</td><td>6.155859375086047e+27</td><td>-3.934</td><td>0.006</td><td>14.591</td><td>0.014</td><td>None</td><td>None</td><td>-0.08</td><td>0.01</td><td>2119.0</td><td>7.0</td><td>&lt;sedkit.sed.SED object at 0x1a006b1f0&gt;</td><td>24.69</td><td>1.389</td><td>24.66</td><td>1.389</td><td>22.53</td><td>0.137</td><td>22.5</td><td>0.137</td><td>19.69</td><td>0.019</td><td>19.66</td><td>0.019</td><td>17.17</td><td>0.005</td><td>17.14</td><td>0.005</td><td>15.22</td><td>0.005</td><td>15.19</td><td>0.005</td><td>12.47</td><td>0.027</td><td>12.44</td><td>0.027</td><td>11.586</td><td>0.03</td><td>11.55</td><td>0.03</td><td>11.055</td><td>0.021</td><td>11.016</td><td>0.021</td></tr>\n",
       "<tr><td>2MASS J00361617+1821104 6</td><td>None</td><td>None</td><td>None</td><td>None</td><td>8.63</td><td>0.01</td><td>115.92391063876573</td><td>0.14906916914458773</td><td>0.08</td><td>0.0</td><td>73.5</td><td>0.5</td><td>L3.5V</td><td>None</td><td>0</td><td>3.606241925902236e-11</td><td>4.777644340362557e-13</td><td>14.625</td><td>0.014</td><td>3.213567333371531e+29</td><td>4.3220662302263353e+27</td><td>-4.076</td><td>0.006</td><td>14.945</td><td>0.014</td><td>None</td><td>None</td><td>-0.37</td><td>0.02</td><td>1953.0</td><td>6.0</td><td>&lt;sedkit.sed.SED object at 0x19fffd520&gt;</td><td>24.69</td><td>1.389</td><td>24.98</td><td>1.389</td><td>22.53</td><td>0.137</td><td>22.84</td><td>0.137</td><td>19.69</td><td>0.019</td><td>20.0</td><td>0.019</td><td>17.17</td><td>0.005</td><td>17.5</td><td>0.005</td><td>15.22</td><td>0.005</td><td>15.54</td><td>0.005</td><td>12.47</td><td>0.027</td><td>12.79</td><td>0.027</td><td>11.586</td><td>0.03</td><td>11.91</td><td>0.03</td><td>11.055</td><td>0.021</td><td>11.375</td><td>0.021</td></tr>\n",
       "<tr><td>2MASS J00361617+1821104 7</td><td>None</td><td>None</td><td>None</td><td>None</td><td>7.58</td><td>0.01</td><td>131.84339333682806</td><td>0.14129445927369835</td><td>0.08</td><td>0.0</td><td>73.5</td><td>0.5</td><td>L3.5V</td><td>None</td><td>0</td><td>3.606241925902236e-11</td><td>4.777644340362557e-13</td><td>14.625</td><td>0.014</td><td>2.4791581031585366e+29</td><td>3.348958932378761e+27</td><td>-4.189</td><td>0.006</td><td>15.227</td><td>0.014</td><td>None</td><td>None</td><td>-0.75</td><td>0.02</td><td>1830.0</td><td>6.0</td><td>&lt;sedkit.sed.SED object at 0x19ff7f100&gt;</td><td>24.69</td><td>1.389</td><td>25.28</td><td>1.389</td><td>22.53</td><td>0.137</td><td>23.12</td><td>0.137</td><td>19.69</td><td>0.019</td><td>20.28</td><td>0.019</td><td>17.17</td><td>0.005</td><td>17.78</td><td>0.005</td><td>15.22</td><td>0.005</td><td>15.82</td><td>0.005</td><td>12.47</td><td>0.027</td><td>13.07</td><td>0.027</td><td>11.586</td><td>0.03</td><td>12.19</td><td>0.03</td><td>11.055</td><td>0.021</td><td>11.66</td><td>0.021</td></tr>\n",
       "<tr><td>2MASS J00361617+1821104 8</td><td>None</td><td>None</td><td>None</td><td>None</td><td>8.7</td><td>0.02</td><td>114.97613207598735</td><td>0.27196751852020534</td><td>0.08</td><td>0.0</td><td>73.5</td><td>0.5</td><td>L3.5V</td><td>None</td><td>0</td><td>3.606241925902236e-11</td><td>4.777644340362557e-13</td><td>14.625</td><td>0.014</td><td>3.265910791975647e+29</td><td>4.57991262375726e+27</td><td>-4.069</td><td>0.006</td><td>14.927</td><td>0.014</td><td>None</td><td>None</td><td>-0.35</td><td>0.02</td><td>1961.0</td><td>6.0</td><td>&lt;sedkit.sed.SED object at 0x1a01c4100&gt;</td><td>24.69</td><td>1.389</td><td>24.98</td><td>1.389</td><td>22.53</td><td>0.137</td><td>22.83</td><td>0.137</td><td>19.69</td><td>0.019</td><td>19.98</td><td>0.019</td><td>17.17</td><td>0.005</td><td>17.47</td><td>0.006</td><td>15.22</td><td>0.005</td><td>15.516</td><td>0.006</td><td>12.47</td><td>0.027</td><td>12.766</td><td>0.027</td><td>11.586</td><td>0.03</td><td>11.89</td><td>0.03</td><td>11.055</td><td>0.021</td><td>11.36</td><td>0.021</td></tr>\n",
       "<tr><td>2MASS J00361617+1821104 9</td><td>None</td><td>None</td><td>None</td><td>None</td><td>8.82</td><td>0.02</td><td>113.3953219818125</td><td>0.21097585975537198</td><td>0.08</td><td>0.0</td><td>73.5</td><td>0.5</td><td>L3.5V</td><td>None</td><td>0</td><td>3.606241925902236e-11</td><td>4.777644340362557e-13</td><td>14.625</td><td>0.014</td><td>3.3566262213461014e+29</td><td>4.700284171774804e+27</td><td>-4.057</td><td>0.006</td><td>14.898</td><td>0.014</td><td>None</td><td>None</td><td>-0.32</td><td>0.02</td><td>1974.0</td><td>6.0</td><td>&lt;sedkit.sed.SED object at 0x1a0071ca0&gt;</td><td>24.69</td><td>1.389</td><td>24.97</td><td>1.389</td><td>22.53</td><td>0.137</td><td>22.81</td><td>0.137</td><td>19.69</td><td>0.019</td><td>19.97</td><td>0.019</td><td>17.17</td><td>0.005</td><td>17.44</td><td>0.006</td><td>15.22</td><td>0.005</td><td>15.49</td><td>0.006</td><td>12.47</td><td>0.027</td><td>12.74</td><td>0.027</td><td>11.586</td><td>0.03</td><td>11.86</td><td>0.03</td><td>11.055</td><td>0.021</td><td>11.33</td><td>0.021</td></tr>\n",
       "</table>"
      ],
      "text/plain": [
       "<QTable length=10>\n",
       "           name             ra    dec   ... M_2MASS.Ks M_2MASS.Ks_unc\n",
       "                                        ...                          \n",
       "          object          object object ...  float16      float16    \n",
       "------------------------- ------ ------ ... ---------- --------------\n",
       "2MASS J00361617+1821104 0   None   None ...      11.55          0.021\n",
       "2MASS J00361617+1821104 1   None   None ...      11.16          0.021\n",
       "2MASS J00361617+1821104 2   None   None ...      11.68          0.021\n",
       "2MASS J00361617+1821104 3   None   None ...     11.375          0.021\n",
       "2MASS J00361617+1821104 4   None   None ...      11.32          0.021\n",
       "2MASS J00361617+1821104 5   None   None ...     11.016          0.021\n",
       "2MASS J00361617+1821104 6   None   None ...     11.375          0.021\n",
       "2MASS J00361617+1821104 7   None   None ...      11.66          0.021\n",
       "2MASS J00361617+1821104 8   None   None ...      11.36          0.021\n",
       "2MASS J00361617+1821104 9   None   None ...      11.33          0.021"
      ]
     },
     "execution_count": 10,
     "metadata": {},
     "output_type": "execute_result"
    }
   ],
   "source": [
    "cat.filter('name', \"'2MASS*'\").results"
   ]
  },
  {
   "cell_type": "markdown",
   "metadata": {},
   "source": [
    "... or an argument with an operator..."
   ]
  },
  {
   "cell_type": "code",
   "execution_count": 15,
   "metadata": {},
   "outputs": [
    {
     "ename": "TypeError",
     "evalue": "'>=' not supported between instances of 'NoneType' and 'float'",
     "output_type": "error",
     "traceback": [
      "\u001b[0;31m---------------------------------------------------------------------------\u001b[0m",
      "\u001b[0;31mTypeError\u001b[0m                                 Traceback (most recent call last)",
      "\u001b[0;32m<ipython-input-15-9efd82fd2585>\u001b[0m in \u001b[0;36m<module>\u001b[0;34m\u001b[0m\n\u001b[0;32m----> 1\u001b[0;31m \u001b[0mcat\u001b[0m\u001b[0;34m.\u001b[0m\u001b[0mfilter\u001b[0m\u001b[0;34m(\u001b[0m\u001b[0;34m'logg'\u001b[0m\u001b[0;34m,\u001b[0m \u001b[0;34m'>=5.401'\u001b[0m\u001b[0;34m)\u001b[0m\u001b[0;34m.\u001b[0m\u001b[0mresults\u001b[0m\u001b[0;34m\u001b[0m\u001b[0;34m\u001b[0m\u001b[0m\n\u001b[0m",
      "\u001b[0;32m~/Documents/Modules/sedkit/sedkit/catalog.py\u001b[0m in \u001b[0;36mfilter\u001b[0;34m(self, param, value)\u001b[0m\n\u001b[1;32m    270\u001b[0m         \u001b[0;31m# Make a new catalog\u001b[0m\u001b[0;34m\u001b[0m\u001b[0;34m\u001b[0m\u001b[0;34m\u001b[0m\u001b[0m\n\u001b[1;32m    271\u001b[0m         \u001b[0mcat\u001b[0m \u001b[0;34m=\u001b[0m \u001b[0mCatalog\u001b[0m\u001b[0;34m(\u001b[0m\u001b[0;34m)\u001b[0m\u001b[0;34m\u001b[0m\u001b[0;34m\u001b[0m\u001b[0m\n\u001b[0;32m--> 272\u001b[0;31m         \u001b[0mcat\u001b[0m\u001b[0;34m.\u001b[0m\u001b[0mresults\u001b[0m \u001b[0;34m=\u001b[0m \u001b[0mu\u001b[0m\u001b[0;34m.\u001b[0m\u001b[0mfilter_table\u001b[0m\u001b[0;34m(\u001b[0m\u001b[0mself\u001b[0m\u001b[0;34m.\u001b[0m\u001b[0mresults\u001b[0m\u001b[0;34m,\u001b[0m \u001b[0;34m**\u001b[0m\u001b[0;34m{\u001b[0m\u001b[0mparam\u001b[0m\u001b[0;34m:\u001b[0m \u001b[0mvalue\u001b[0m\u001b[0;34m}\u001b[0m\u001b[0;34m)\u001b[0m\u001b[0;34m\u001b[0m\u001b[0;34m\u001b[0m\u001b[0m\n\u001b[0m\u001b[1;32m    273\u001b[0m \u001b[0;34m\u001b[0m\u001b[0m\n\u001b[1;32m    274\u001b[0m         \u001b[0;32mreturn\u001b[0m \u001b[0mcat\u001b[0m\u001b[0;34m\u001b[0m\u001b[0;34m\u001b[0m\u001b[0m\n",
      "\u001b[0;32m~/Documents/Modules/sedkit/sedkit/utilities.py\u001b[0m in \u001b[0;36mfilter_table\u001b[0;34m(table, **kwargs)\u001b[0m\n\u001b[1;32m    359\u001b[0m                 \u001b[0;32melif\u001b[0m \u001b[0mcond\u001b[0m\u001b[0;34m.\u001b[0m\u001b[0mstartswith\u001b[0m\u001b[0;34m(\u001b[0m\u001b[0;34m'>='\u001b[0m\u001b[0;34m)\u001b[0m\u001b[0;34m:\u001b[0m\u001b[0;34m\u001b[0m\u001b[0;34m\u001b[0m\u001b[0m\n\u001b[1;32m    360\u001b[0m                     \u001b[0mv\u001b[0m \u001b[0;34m=\u001b[0m \u001b[0mcond\u001b[0m\u001b[0;34m.\u001b[0m\u001b[0mreplace\u001b[0m\u001b[0;34m(\u001b[0m\u001b[0;34m'>='\u001b[0m\u001b[0;34m,\u001b[0m \u001b[0;34m''\u001b[0m\u001b[0;34m)\u001b[0m\u001b[0;34m\u001b[0m\u001b[0;34m\u001b[0m\u001b[0m\n\u001b[0;32m--> 361\u001b[0;31m                     \u001b[0mtable\u001b[0m \u001b[0;34m=\u001b[0m \u001b[0mtable\u001b[0m\u001b[0;34m[\u001b[0m\u001b[0mtable\u001b[0m\u001b[0;34m[\u001b[0m\u001b[0mparam\u001b[0m\u001b[0;34m]\u001b[0m \u001b[0;34m>=\u001b[0m \u001b[0meval\u001b[0m\u001b[0;34m(\u001b[0m\u001b[0mv\u001b[0m\u001b[0;34m)\u001b[0m\u001b[0;34m]\u001b[0m\u001b[0;34m\u001b[0m\u001b[0;34m\u001b[0m\u001b[0m\n\u001b[0m\u001b[1;32m    362\u001b[0m \u001b[0;34m\u001b[0m\u001b[0m\n\u001b[1;32m    363\u001b[0m                 \u001b[0;31m# Greater than\u001b[0m\u001b[0;34m\u001b[0m\u001b[0;34m\u001b[0m\u001b[0;34m\u001b[0m\u001b[0m\n",
      "\u001b[0;32m~/opt/miniconda3/envs/sedkit-3.7/lib/python3.9/site-packages/astropy/table/column.py\u001b[0m in \u001b[0;36m_compare\u001b[0;34m(self, other)\u001b[0m\n\u001b[1;32m   1150\u001b[0m \u001b[0;34m\u001b[0m\u001b[0m\n\u001b[1;32m   1151\u001b[0m             \u001b[0;31m# Now just let the regular ndarray.__eq__, etc., take over.\u001b[0m\u001b[0;34m\u001b[0m\u001b[0;34m\u001b[0m\u001b[0;34m\u001b[0m\u001b[0m\n\u001b[0;32m-> 1152\u001b[0;31m             \u001b[0mresult\u001b[0m \u001b[0;34m=\u001b[0m \u001b[0mgetattr\u001b[0m\u001b[0;34m(\u001b[0m\u001b[0msuper\u001b[0m\u001b[0;34m(\u001b[0m\u001b[0;34m)\u001b[0m\u001b[0;34m,\u001b[0m \u001b[0mop\u001b[0m\u001b[0;34m)\u001b[0m\u001b[0;34m(\u001b[0m\u001b[0mother\u001b[0m\u001b[0;34m)\u001b[0m\u001b[0;34m\u001b[0m\u001b[0;34m\u001b[0m\u001b[0m\n\u001b[0m\u001b[1;32m   1153\u001b[0m             \u001b[0;31m# But we should not return Column instances for this case.\u001b[0m\u001b[0;34m\u001b[0m\u001b[0;34m\u001b[0m\u001b[0;34m\u001b[0m\u001b[0m\n\u001b[1;32m   1154\u001b[0m             \u001b[0;32mreturn\u001b[0m \u001b[0mresult\u001b[0m\u001b[0;34m.\u001b[0m\u001b[0mdata\u001b[0m \u001b[0;32mif\u001b[0m \u001b[0misinstance\u001b[0m\u001b[0;34m(\u001b[0m\u001b[0mresult\u001b[0m\u001b[0;34m,\u001b[0m \u001b[0mColumn\u001b[0m\u001b[0;34m)\u001b[0m \u001b[0;32melse\u001b[0m \u001b[0mresult\u001b[0m\u001b[0;34m\u001b[0m\u001b[0;34m\u001b[0m\u001b[0m\n",
      "\u001b[0;31mTypeError\u001b[0m: '>=' not supported between instances of 'NoneType' and 'float'"
     ]
    }
   ],
   "source": [
    "cat.filter('logg', '>=5.401').results"
   ]
  },
  {
   "cell_type": "markdown",
   "metadata": {
    "collapsed": true
   },
   "source": [
    "... or even a tuple of arguments..."
   ]
  },
  {
   "cell_type": "code",
   "execution_count": 16,
   "metadata": {},
   "outputs": [
    {
     "data": {
      "text/html": [
       "<i>QTable length=1</i>\n",
       "<table id=\"table6981381952\" class=\"table-striped table-bordered table-condensed\">\n",
       "<thead><tr><th>name</th><th>ra</th><th>dec</th><th>age</th><th>age_unc</th><th>distance</th><th>distance_unc</th><th>parallax</th><th>parallax_unc</th><th>radius</th><th>radius_unc</th><th>spectral_type</th><th>spectral_type_unc</th><th>SpT</th><th>membership</th><th>reddening</th><th>fbol</th><th>fbol_unc</th><th>mbol</th><th>mbol_unc</th><th>Lbol</th><th>Lbol_unc</th><th>Lbol_sun</th><th>Lbol_sun_unc</th><th>Mbol</th><th>Mbol_unc</th><th>logg</th><th>logg_unc</th><th>mass</th><th>mass_unc</th><th>Teff</th><th>Teff_unc</th><th>SED</th><th>SDSS.u</th><th>SDSS.u_unc</th><th>M_SDSS.u</th><th>M_SDSS.u_unc</th><th>SDSS.g</th><th>SDSS.g_unc</th><th>M_SDSS.g</th><th>M_SDSS.g_unc</th><th>SDSS.r</th><th>SDSS.r_unc</th><th>M_SDSS.r</th><th>M_SDSS.r_unc</th><th>SDSS.i</th><th>SDSS.i_unc</th><th>M_SDSS.i</th><th>M_SDSS.i_unc</th><th>SDSS.z</th><th>SDSS.z_unc</th><th>M_SDSS.z</th><th>M_SDSS.z_unc</th><th>2MASS.J</th><th>2MASS.J_unc</th><th>M_2MASS.J</th><th>M_2MASS.J_unc</th><th>2MASS.H</th><th>2MASS.H_unc</th><th>M_2MASS.H</th><th>M_2MASS.H_unc</th><th>2MASS.Ks</th><th>2MASS.Ks_unc</th><th>M_2MASS.Ks</th><th>M_2MASS.Ks_unc</th></tr></thead>\n",
       "<thead><tr><th></th><th></th><th></th><th>Gyr</th><th>Gyr</th><th>pc</th><th>pc</th><th>mas</th><th>mas</th><th>solRad</th><th>solRad</th><th></th><th></th><th></th><th></th><th></th><th>erg / (cm2 s)</th><th>erg / (cm2 s)</th><th></th><th></th><th>erg / s</th><th>erg / s</th><th></th><th></th><th></th><th></th><th></th><th></th><th>solMass</th><th>solMass</th><th>K</th><th>K</th><th></th><th></th><th></th><th></th><th></th><th></th><th></th><th></th><th></th><th></th><th></th><th></th><th></th><th></th><th></th><th></th><th></th><th></th><th></th><th></th><th></th><th></th><th></th><th></th><th></th><th></th><th></th><th></th><th></th><th></th><th></th><th></th><th></th></tr></thead>\n",
       "<thead><tr><th>object</th><th>object</th><th>object</th><th>object</th><th>object</th><th>object</th><th>object</th><th>object</th><th>object</th><th>object</th><th>object</th><th>object</th><th>object</th><th>object</th><th>object</th><th>object</th><th>object</th><th>object</th><th>object</th><th>object</th><th>object</th><th>object</th><th>object</th><th>object</th><th>object</th><th>object</th><th>object</th><th>object</th><th>object</th><th>object</th><th>object</th><th>object</th><th>object</th><th>float16</th><th>float16</th><th>float16</th><th>float16</th><th>float16</th><th>float16</th><th>float16</th><th>float16</th><th>float16</th><th>float16</th><th>float16</th><th>float16</th><th>float16</th><th>float16</th><th>float16</th><th>float16</th><th>float16</th><th>float16</th><th>float16</th><th>float16</th><th>float16</th><th>float16</th><th>float16</th><th>float16</th><th>float16</th><th>float16</th><th>float16</th><th>float16</th><th>float16</th><th>float16</th><th>float16</th><th>float16</th></tr></thead>\n",
       "<tr><td>2MASS J00361617+1821104 0</td><td>None</td><td>None</td><td>None</td><td>None</td><td>7.96</td><td>0.0</td><td>125.6591998623335</td><td>0.010137918012879388</td><td>0.08</td><td>0.0</td><td>73.5</td><td>0.5</td><td>L3.5V</td><td>None</td><td>0</td><td>3.606241925902236e-11</td><td>4.777644340362557e-13</td><td>14.625</td><td>0.014</td><td>2.7339586898777147e+29</td><td>3.6220205216019665e+27</td><td>-4.146</td><td>0.006</td><td>15.12</td><td>0.014</td><td>None</td><td>None</td><td>-0.59</td><td>0.02</td><td>1876.0</td><td>6.0</td><td>&lt;sedkit.sed.SED object at 0x19fe27280&gt;</td><td>24.69</td><td>1.389</td><td>25.19</td><td>1.389</td><td>22.53</td><td>0.137</td><td>23.03</td><td>0.137</td><td>19.69</td><td>0.019</td><td>20.19</td><td>0.019</td><td>17.17</td><td>0.005</td><td>17.66</td><td>0.005</td><td>15.22</td><td>0.005</td><td>15.72</td><td>0.005</td><td>12.47</td><td>0.027</td><td>12.97</td><td>0.027</td><td>11.586</td><td>0.03</td><td>12.08</td><td>0.03</td><td>11.055</td><td>0.021</td><td>11.55</td><td>0.021</td></tr>\n",
       "</table>"
      ],
      "text/plain": [
       "<QTable length=1>\n",
       "           name             ra    dec   ... M_2MASS.Ks M_2MASS.Ks_unc\n",
       "                                        ...                          \n",
       "          object          object object ...  float16      float16    \n",
       "------------------------- ------ ------ ... ---------- --------------\n",
       "2MASS J00361617+1821104 0   None   None ...      11.55          0.021"
      ]
     },
     "execution_count": 16,
     "metadata": {},
     "output_type": "execute_result"
    }
   ],
   "source": [
    "cat.filter('M_2MASS.J', ('>12.9','<13.02')).results"
   ]
  },
  {
   "cell_type": "code",
   "execution_count": null,
   "metadata": {
    "collapsed": true
   },
   "outputs": [],
   "source": []
  }
 ],
 "metadata": {
  "anaconda-cloud": {},
  "kernelspec": {
   "display_name": "sedkit-3.7",
   "language": "python",
   "name": "sedkit-3.7"
  },
  "language_info": {
   "codemirror_mode": {
    "name": "ipython",
    "version": 3
   },
   "file_extension": ".py",
   "mimetype": "text/x-python",
   "name": "python",
   "nbconvert_exporter": "python",
   "pygments_lexer": "ipython3",
   "version": "3.9.2"
  }
 },
 "nbformat": 4,
 "nbformat_minor": 1
}
