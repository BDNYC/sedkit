{
 "cells": [
  {
   "cell_type": "markdown",
   "metadata": {},
   "source": [
    "# Make a catalog of SEDs\n",
    "\n",
    "This notebook will show you how to generate a Catalog of SED objects and make some plots from the sample."
   ]
  },
  {
   "cell_type": "code",
   "execution_count": 92,
   "metadata": {},
   "outputs": [
    {
     "data": {
      "text/html": [
       "\n",
       "    <div class=\"bk-root\">\n",
       "        <a href=\"https://bokeh.pydata.org\" target=\"_blank\" class=\"bk-logo bk-logo-small bk-logo-notebook\"></a>\n",
       "        <span id=\"5227\">Loading BokehJS ...</span>\n",
       "    </div>"
      ]
     },
     "metadata": {},
     "output_type": "display_data"
    },
    {
     "data": {
      "application/javascript": [
       "\n",
       "(function(root) {\n",
       "  function now() {\n",
       "    return new Date();\n",
       "  }\n",
       "\n",
       "  var force = true;\n",
       "\n",
       "  if (typeof root._bokeh_onload_callbacks === \"undefined\" || force === true) {\n",
       "    root._bokeh_onload_callbacks = [];\n",
       "    root._bokeh_is_loading = undefined;\n",
       "  }\n",
       "\n",
       "  var JS_MIME_TYPE = 'application/javascript';\n",
       "  var HTML_MIME_TYPE = 'text/html';\n",
       "  var EXEC_MIME_TYPE = 'application/vnd.bokehjs_exec.v0+json';\n",
       "  var CLASS_NAME = 'output_bokeh rendered_html';\n",
       "\n",
       "  /**\n",
       "   * Render data to the DOM node\n",
       "   */\n",
       "  function render(props, node) {\n",
       "    var script = document.createElement(\"script\");\n",
       "    node.appendChild(script);\n",
       "  }\n",
       "\n",
       "  /**\n",
       "   * Handle when an output is cleared or removed\n",
       "   */\n",
       "  function handleClearOutput(event, handle) {\n",
       "    var cell = handle.cell;\n",
       "\n",
       "    var id = cell.output_area._bokeh_element_id;\n",
       "    var server_id = cell.output_area._bokeh_server_id;\n",
       "    // Clean up Bokeh references\n",
       "    if (id != null && id in Bokeh.index) {\n",
       "      Bokeh.index[id].model.document.clear();\n",
       "      delete Bokeh.index[id];\n",
       "    }\n",
       "\n",
       "    if (server_id !== undefined) {\n",
       "      // Clean up Bokeh references\n",
       "      var cmd = \"from bokeh.io.state import curstate; print(curstate().uuid_to_server['\" + server_id + \"'].get_sessions()[0].document.roots[0]._id)\";\n",
       "      cell.notebook.kernel.execute(cmd, {\n",
       "        iopub: {\n",
       "          output: function(msg) {\n",
       "            var id = msg.content.text.trim();\n",
       "            if (id in Bokeh.index) {\n",
       "              Bokeh.index[id].model.document.clear();\n",
       "              delete Bokeh.index[id];\n",
       "            }\n",
       "          }\n",
       "        }\n",
       "      });\n",
       "      // Destroy server and session\n",
       "      var cmd = \"import bokeh.io.notebook as ion; ion.destroy_server('\" + server_id + \"')\";\n",
       "      cell.notebook.kernel.execute(cmd);\n",
       "    }\n",
       "  }\n",
       "\n",
       "  /**\n",
       "   * Handle when a new output is added\n",
       "   */\n",
       "  function handleAddOutput(event, handle) {\n",
       "    var output_area = handle.output_area;\n",
       "    var output = handle.output;\n",
       "\n",
       "    // limit handleAddOutput to display_data with EXEC_MIME_TYPE content only\n",
       "    if ((output.output_type != \"display_data\") || (!output.data.hasOwnProperty(EXEC_MIME_TYPE))) {\n",
       "      return\n",
       "    }\n",
       "\n",
       "    var toinsert = output_area.element.find(\".\" + CLASS_NAME.split(' ')[0]);\n",
       "\n",
       "    if (output.metadata[EXEC_MIME_TYPE][\"id\"] !== undefined) {\n",
       "      toinsert[toinsert.length - 1].firstChild.textContent = output.data[JS_MIME_TYPE];\n",
       "      // store reference to embed id on output_area\n",
       "      output_area._bokeh_element_id = output.metadata[EXEC_MIME_TYPE][\"id\"];\n",
       "    }\n",
       "    if (output.metadata[EXEC_MIME_TYPE][\"server_id\"] !== undefined) {\n",
       "      var bk_div = document.createElement(\"div\");\n",
       "      bk_div.innerHTML = output.data[HTML_MIME_TYPE];\n",
       "      var script_attrs = bk_div.children[0].attributes;\n",
       "      for (var i = 0; i < script_attrs.length; i++) {\n",
       "        toinsert[toinsert.length - 1].firstChild.setAttribute(script_attrs[i].name, script_attrs[i].value);\n",
       "      }\n",
       "      // store reference to server id on output_area\n",
       "      output_area._bokeh_server_id = output.metadata[EXEC_MIME_TYPE][\"server_id\"];\n",
       "    }\n",
       "  }\n",
       "\n",
       "  function register_renderer(events, OutputArea) {\n",
       "\n",
       "    function append_mime(data, metadata, element) {\n",
       "      // create a DOM node to render to\n",
       "      var toinsert = this.create_output_subarea(\n",
       "        metadata,\n",
       "        CLASS_NAME,\n",
       "        EXEC_MIME_TYPE\n",
       "      );\n",
       "      this.keyboard_manager.register_events(toinsert);\n",
       "      // Render to node\n",
       "      var props = {data: data, metadata: metadata[EXEC_MIME_TYPE]};\n",
       "      render(props, toinsert[toinsert.length - 1]);\n",
       "      element.append(toinsert);\n",
       "      return toinsert\n",
       "    }\n",
       "\n",
       "    /* Handle when an output is cleared or removed */\n",
       "    events.on('clear_output.CodeCell', handleClearOutput);\n",
       "    events.on('delete.Cell', handleClearOutput);\n",
       "\n",
       "    /* Handle when a new output is added */\n",
       "    events.on('output_added.OutputArea', handleAddOutput);\n",
       "\n",
       "    /**\n",
       "     * Register the mime type and append_mime function with output_area\n",
       "     */\n",
       "    OutputArea.prototype.register_mime_type(EXEC_MIME_TYPE, append_mime, {\n",
       "      /* Is output safe? */\n",
       "      safe: true,\n",
       "      /* Index of renderer in `output_area.display_order` */\n",
       "      index: 0\n",
       "    });\n",
       "  }\n",
       "\n",
       "  // register the mime type if in Jupyter Notebook environment and previously unregistered\n",
       "  if (root.Jupyter !== undefined) {\n",
       "    var events = require('base/js/events');\n",
       "    var OutputArea = require('notebook/js/outputarea').OutputArea;\n",
       "\n",
       "    if (OutputArea.prototype.mime_types().indexOf(EXEC_MIME_TYPE) == -1) {\n",
       "      register_renderer(events, OutputArea);\n",
       "    }\n",
       "  }\n",
       "\n",
       "  \n",
       "  if (typeof (root._bokeh_timeout) === \"undefined\" || force === true) {\n",
       "    root._bokeh_timeout = Date.now() + 5000;\n",
       "    root._bokeh_failed_load = false;\n",
       "  }\n",
       "\n",
       "  var NB_LOAD_WARNING = {'data': {'text/html':\n",
       "     \"<div style='background-color: #fdd'>\\n\"+\n",
       "     \"<p>\\n\"+\n",
       "     \"BokehJS does not appear to have successfully loaded. If loading BokehJS from CDN, this \\n\"+\n",
       "     \"may be due to a slow or bad network connection. Possible fixes:\\n\"+\n",
       "     \"</p>\\n\"+\n",
       "     \"<ul>\\n\"+\n",
       "     \"<li>re-rerun `output_notebook()` to attempt to load from CDN again, or</li>\\n\"+\n",
       "     \"<li>use INLINE resources instead, as so:</li>\\n\"+\n",
       "     \"</ul>\\n\"+\n",
       "     \"<code>\\n\"+\n",
       "     \"from bokeh.resources import INLINE\\n\"+\n",
       "     \"output_notebook(resources=INLINE)\\n\"+\n",
       "     \"</code>\\n\"+\n",
       "     \"</div>\"}};\n",
       "\n",
       "  function display_loaded() {\n",
       "    var el = document.getElementById(\"5227\");\n",
       "    if (el != null) {\n",
       "      el.textContent = \"BokehJS is loading...\";\n",
       "    }\n",
       "    if (root.Bokeh !== undefined) {\n",
       "      if (el != null) {\n",
       "        el.textContent = \"BokehJS \" + root.Bokeh.version + \" successfully loaded.\";\n",
       "      }\n",
       "    } else if (Date.now() < root._bokeh_timeout) {\n",
       "      setTimeout(display_loaded, 100)\n",
       "    }\n",
       "  }\n",
       "\n",
       "\n",
       "  function run_callbacks() {\n",
       "    try {\n",
       "      root._bokeh_onload_callbacks.forEach(function(callback) {\n",
       "        if (callback != null)\n",
       "          callback();\n",
       "      });\n",
       "    } finally {\n",
       "      delete root._bokeh_onload_callbacks\n",
       "    }\n",
       "    console.debug(\"Bokeh: all callbacks have finished\");\n",
       "  }\n",
       "\n",
       "  function load_libs(css_urls, js_urls, callback) {\n",
       "    if (css_urls == null) css_urls = [];\n",
       "    if (js_urls == null) js_urls = [];\n",
       "\n",
       "    root._bokeh_onload_callbacks.push(callback);\n",
       "    if (root._bokeh_is_loading > 0) {\n",
       "      console.debug(\"Bokeh: BokehJS is being loaded, scheduling callback at\", now());\n",
       "      return null;\n",
       "    }\n",
       "    if (js_urls == null || js_urls.length === 0) {\n",
       "      run_callbacks();\n",
       "      return null;\n",
       "    }\n",
       "    console.debug(\"Bokeh: BokehJS not loaded, scheduling load and callback at\", now());\n",
       "    root._bokeh_is_loading = css_urls.length + js_urls.length;\n",
       "\n",
       "    function on_load() {\n",
       "      root._bokeh_is_loading--;\n",
       "      if (root._bokeh_is_loading === 0) {\n",
       "        console.debug(\"Bokeh: all BokehJS libraries/stylesheets loaded\");\n",
       "        run_callbacks()\n",
       "      }\n",
       "    }\n",
       "\n",
       "    function on_error() {\n",
       "      console.error(\"failed to load \" + url);\n",
       "    }\n",
       "\n",
       "    for (var i = 0; i < css_urls.length; i++) {\n",
       "      var url = css_urls[i];\n",
       "      const element = document.createElement(\"link\");\n",
       "      element.onload = on_load;\n",
       "      element.onerror = on_error;\n",
       "      element.rel = \"stylesheet\";\n",
       "      element.type = \"text/css\";\n",
       "      element.href = url;\n",
       "      console.debug(\"Bokeh: injecting link tag for BokehJS stylesheet: \", url);\n",
       "      document.body.appendChild(element);\n",
       "    }\n",
       "\n",
       "    for (var i = 0; i < js_urls.length; i++) {\n",
       "      var url = js_urls[i];\n",
       "      var element = document.createElement('script');\n",
       "      element.onload = on_load;\n",
       "      element.onerror = on_error;\n",
       "      element.async = false;\n",
       "      element.src = url;\n",
       "      console.debug(\"Bokeh: injecting script tag for BokehJS library: \", url);\n",
       "      document.head.appendChild(element);\n",
       "    }\n",
       "  };var element = document.getElementById(\"5227\");\n",
       "  if (element == null) {\n",
       "    console.error(\"Bokeh: ERROR: autoload.js configured with elementid '5227' but no matching script tag was found. \")\n",
       "    return false;\n",
       "  }\n",
       "\n",
       "  function inject_raw_css(css) {\n",
       "    const element = document.createElement(\"style\");\n",
       "    element.appendChild(document.createTextNode(css));\n",
       "    document.body.appendChild(element);\n",
       "  }\n",
       "\n",
       "  var js_urls = [\"https://cdn.pydata.org/bokeh/release/bokeh-1.3.4.min.js\", \"https://cdn.pydata.org/bokeh/release/bokeh-widgets-1.3.4.min.js\", \"https://cdn.pydata.org/bokeh/release/bokeh-tables-1.3.4.min.js\", \"https://cdn.pydata.org/bokeh/release/bokeh-gl-1.3.4.min.js\"];\n",
       "  var css_urls = [];\n",
       "\n",
       "  var inline_js = [\n",
       "    function(Bokeh) {\n",
       "      Bokeh.set_log_level(\"info\");\n",
       "    },\n",
       "    \n",
       "    function(Bokeh) {\n",
       "      \n",
       "    },\n",
       "    function(Bokeh) {} // ensure no trailing comma for IE\n",
       "  ];\n",
       "\n",
       "  function run_inline_js() {\n",
       "    \n",
       "    if ((root.Bokeh !== undefined) || (force === true)) {\n",
       "      for (var i = 0; i < inline_js.length; i++) {\n",
       "        inline_js[i].call(root, root.Bokeh);\n",
       "      }if (force === true) {\n",
       "        display_loaded();\n",
       "      }} else if (Date.now() < root._bokeh_timeout) {\n",
       "      setTimeout(run_inline_js, 100);\n",
       "    } else if (!root._bokeh_failed_load) {\n",
       "      console.log(\"Bokeh: BokehJS failed to load within specified timeout.\");\n",
       "      root._bokeh_failed_load = true;\n",
       "    } else if (force !== true) {\n",
       "      var cell = $(document.getElementById(\"5227\")).parents('.cell').data().cell;\n",
       "      cell.output_area.append_execute_result(NB_LOAD_WARNING)\n",
       "    }\n",
       "\n",
       "  }\n",
       "\n",
       "  if (root._bokeh_is_loading === 0) {\n",
       "    console.debug(\"Bokeh: BokehJS loaded, going straight to plotting\");\n",
       "    run_inline_js();\n",
       "  } else {\n",
       "    load_libs(css_urls, js_urls, function() {\n",
       "      console.debug(\"Bokeh: BokehJS plotting callback run at\", now());\n",
       "      run_inline_js();\n",
       "    });\n",
       "  }\n",
       "}(window));"
      ],
      "application/vnd.bokehjs_load.v0+json": "\n(function(root) {\n  function now() {\n    return new Date();\n  }\n\n  var force = true;\n\n  if (typeof root._bokeh_onload_callbacks === \"undefined\" || force === true) {\n    root._bokeh_onload_callbacks = [];\n    root._bokeh_is_loading = undefined;\n  }\n\n  \n\n  \n  if (typeof (root._bokeh_timeout) === \"undefined\" || force === true) {\n    root._bokeh_timeout = Date.now() + 5000;\n    root._bokeh_failed_load = false;\n  }\n\n  var NB_LOAD_WARNING = {'data': {'text/html':\n     \"<div style='background-color: #fdd'>\\n\"+\n     \"<p>\\n\"+\n     \"BokehJS does not appear to have successfully loaded. If loading BokehJS from CDN, this \\n\"+\n     \"may be due to a slow or bad network connection. Possible fixes:\\n\"+\n     \"</p>\\n\"+\n     \"<ul>\\n\"+\n     \"<li>re-rerun `output_notebook()` to attempt to load from CDN again, or</li>\\n\"+\n     \"<li>use INLINE resources instead, as so:</li>\\n\"+\n     \"</ul>\\n\"+\n     \"<code>\\n\"+\n     \"from bokeh.resources import INLINE\\n\"+\n     \"output_notebook(resources=INLINE)\\n\"+\n     \"</code>\\n\"+\n     \"</div>\"}};\n\n  function display_loaded() {\n    var el = document.getElementById(\"5227\");\n    if (el != null) {\n      el.textContent = \"BokehJS is loading...\";\n    }\n    if (root.Bokeh !== undefined) {\n      if (el != null) {\n        el.textContent = \"BokehJS \" + root.Bokeh.version + \" successfully loaded.\";\n      }\n    } else if (Date.now() < root._bokeh_timeout) {\n      setTimeout(display_loaded, 100)\n    }\n  }\n\n\n  function run_callbacks() {\n    try {\n      root._bokeh_onload_callbacks.forEach(function(callback) {\n        if (callback != null)\n          callback();\n      });\n    } finally {\n      delete root._bokeh_onload_callbacks\n    }\n    console.debug(\"Bokeh: all callbacks have finished\");\n  }\n\n  function load_libs(css_urls, js_urls, callback) {\n    if (css_urls == null) css_urls = [];\n    if (js_urls == null) js_urls = [];\n\n    root._bokeh_onload_callbacks.push(callback);\n    if (root._bokeh_is_loading > 0) {\n      console.debug(\"Bokeh: BokehJS is being loaded, scheduling callback at\", now());\n      return null;\n    }\n    if (js_urls == null || js_urls.length === 0) {\n      run_callbacks();\n      return null;\n    }\n    console.debug(\"Bokeh: BokehJS not loaded, scheduling load and callback at\", now());\n    root._bokeh_is_loading = css_urls.length + js_urls.length;\n\n    function on_load() {\n      root._bokeh_is_loading--;\n      if (root._bokeh_is_loading === 0) {\n        console.debug(\"Bokeh: all BokehJS libraries/stylesheets loaded\");\n        run_callbacks()\n      }\n    }\n\n    function on_error() {\n      console.error(\"failed to load \" + url);\n    }\n\n    for (var i = 0; i < css_urls.length; i++) {\n      var url = css_urls[i];\n      const element = document.createElement(\"link\");\n      element.onload = on_load;\n      element.onerror = on_error;\n      element.rel = \"stylesheet\";\n      element.type = \"text/css\";\n      element.href = url;\n      console.debug(\"Bokeh: injecting link tag for BokehJS stylesheet: \", url);\n      document.body.appendChild(element);\n    }\n\n    for (var i = 0; i < js_urls.length; i++) {\n      var url = js_urls[i];\n      var element = document.createElement('script');\n      element.onload = on_load;\n      element.onerror = on_error;\n      element.async = false;\n      element.src = url;\n      console.debug(\"Bokeh: injecting script tag for BokehJS library: \", url);\n      document.head.appendChild(element);\n    }\n  };var element = document.getElementById(\"5227\");\n  if (element == null) {\n    console.error(\"Bokeh: ERROR: autoload.js configured with elementid '5227' but no matching script tag was found. \")\n    return false;\n  }\n\n  function inject_raw_css(css) {\n    const element = document.createElement(\"style\");\n    element.appendChild(document.createTextNode(css));\n    document.body.appendChild(element);\n  }\n\n  var js_urls = [\"https://cdn.pydata.org/bokeh/release/bokeh-1.3.4.min.js\", \"https://cdn.pydata.org/bokeh/release/bokeh-widgets-1.3.4.min.js\", \"https://cdn.pydata.org/bokeh/release/bokeh-tables-1.3.4.min.js\", \"https://cdn.pydata.org/bokeh/release/bokeh-gl-1.3.4.min.js\"];\n  var css_urls = [];\n\n  var inline_js = [\n    function(Bokeh) {\n      Bokeh.set_log_level(\"info\");\n    },\n    \n    function(Bokeh) {\n      \n    },\n    function(Bokeh) {} // ensure no trailing comma for IE\n  ];\n\n  function run_inline_js() {\n    \n    if ((root.Bokeh !== undefined) || (force === true)) {\n      for (var i = 0; i < inline_js.length; i++) {\n        inline_js[i].call(root, root.Bokeh);\n      }if (force === true) {\n        display_loaded();\n      }} else if (Date.now() < root._bokeh_timeout) {\n      setTimeout(run_inline_js, 100);\n    } else if (!root._bokeh_failed_load) {\n      console.log(\"Bokeh: BokehJS failed to load within specified timeout.\");\n      root._bokeh_failed_load = true;\n    } else if (force !== true) {\n      var cell = $(document.getElementById(\"5227\")).parents('.cell').data().cell;\n      cell.output_area.append_execute_result(NB_LOAD_WARNING)\n    }\n\n  }\n\n  if (root._bokeh_is_loading === 0) {\n    console.debug(\"Bokeh: BokehJS loaded, going straight to plotting\");\n    run_inline_js();\n  } else {\n    load_libs(css_urls, js_urls, function() {\n      console.debug(\"Bokeh: BokehJS plotting callback run at\", now());\n      run_inline_js();\n    });\n  }\n}(window));"
     },
     "metadata": {},
     "output_type": "display_data"
    }
   ],
   "source": [
    "# Imports\n",
    "from sedkit import SED, Catalog\n",
    "import astropy.units as q\n",
    "import numpy as np\n",
    "from pkg_resources import resource_filename\n",
    "from bokeh.io import output_notebook, show\n",
    "output_notebook()"
   ]
  },
  {
   "cell_type": "markdown",
   "metadata": {},
   "source": [
    "First we initialize an empty catalog."
   ]
  },
  {
   "cell_type": "code",
   "execution_count": 93,
   "metadata": {
    "collapsed": true
   },
   "outputs": [],
   "source": [
    "# Make an SED catalog\n",
    "cat = Catalog()"
   ]
  },
  {
   "cell_type": "markdown",
   "metadata": {},
   "source": [
    "Now let's make a few photometric SEDs."
   ]
  },
  {
   "cell_type": "code",
   "execution_count": 94,
   "metadata": {},
   "outputs": [
    {
     "name": "stdout",
     "output_type": "stream",
     "text": [
      "Setting radius to (<Quantity 0.10032806 solRad>, <Quantity 0.00291319 solRad>)\n",
      "Setting parallax to (<Quantity 107.34332063 mas>, <Quantity 0.09581875 mas>) and distance to (<Quantity 9.32 pc>, <Quantity 0.01 pc>, <Quantity 0. pc>).\n",
      "Setting age to (<Quantity 6. Gyr>, <Quantity 4. Gyr>)\n",
      "Successfully added SED '2MASS J00361617+1821104 0'\n",
      "Setting radius to (<Quantity 0.10032806 solRad>, <Quantity 0.00291319 solRad>)\n",
      "Setting parallax to (<Quantity 127.69245946 mas>, <Quantity 0.09189425 mas>) and distance to (<Quantity 7.83 pc>, <Quantity 0.01 pc>, <Quantity 0. pc>).\n",
      "Setting age to (<Quantity 6. Gyr>, <Quantity 4. Gyr>)\n",
      "Successfully added SED '2MASS J00361617+1821104 1'\n",
      "Setting radius to (<Quantity 0.10032806 solRad>, <Quantity 0.00291319 solRad>)\n",
      "Setting parallax to (<Quantity 101.8811826 mas>, <Quantity 0.05816042 mas>) and distance to (<Quantity 9.82 pc>, <Quantity 0.01 pc>, <Quantity 0. pc>).\n",
      "Setting age to (<Quantity 6. Gyr>, <Quantity 4. Gyr>)\n",
      "Successfully added SED '2MASS J00361617+1821104 2'\n",
      "Setting radius to (<Quantity 0.10032806 solRad>, <Quantity 0.00291319 solRad>)\n",
      "Setting parallax to (<Quantity 126.04753736 mas>, <Quantity 0.01852087 mas>) and distance to (<Quantity 7.93 pc>, <Quantity 0. pc>, <Quantity 0. pc>).\n",
      "Setting age to (<Quantity 6. Gyr>, <Quantity 4. Gyr>)\n",
      "Successfully added SED '2MASS J00361617+1821104 3'\n",
      "Setting radius to (<Quantity 0.10032806 solRad>, <Quantity 0.00291319 solRad>)\n",
      "Setting parallax to (<Quantity 116.93832036 mas>, <Quantity 0.12796919 mas>) and distance to (<Quantity 8.55 pc>, <Quantity 0.01 pc>, <Quantity 0. pc>).\n",
      "Setting age to (<Quantity 6. Gyr>, <Quantity 4. Gyr>)\n",
      "Successfully added SED '2MASS J00361617+1821104 4'\n",
      "Setting radius to (<Quantity 0.10032806 solRad>, <Quantity 0.00291319 solRad>)\n",
      "Setting parallax to (<Quantity 105.27308359 mas>, <Quantity 0.11878543 mas>) and distance to (<Quantity 9.5 pc>, <Quantity 0.01 pc>, <Quantity 0. pc>).\n",
      "Setting age to (<Quantity 6. Gyr>, <Quantity 4. Gyr>)\n",
      "Successfully added SED '2MASS J00361617+1821104 5'\n",
      "Setting radius to (<Quantity 0.10032806 solRad>, <Quantity 0.00291319 solRad>)\n",
      "Setting parallax to (<Quantity 123.54186207 mas>, <Quantity 0.09829703 mas>) and distance to (<Quantity 8.09 pc>, <Quantity 0.01 pc>, <Quantity 0. pc>).\n",
      "Setting age to (<Quantity 6. Gyr>, <Quantity 4. Gyr>)\n",
      "Successfully added SED '2MASS J00361617+1821104 6'\n",
      "Setting radius to (<Quantity 0.10032806 solRad>, <Quantity 0.00291319 solRad>)\n",
      "Setting parallax to (<Quantity 109.66586372 mas>, <Quantity 0.2078931 mas>) and distance to (<Quantity 9.12 pc>, <Quantity 0.02 pc>, <Quantity 0. pc>).\n",
      "Setting age to (<Quantity 6. Gyr>, <Quantity 4. Gyr>)\n",
      "Successfully added SED '2MASS J00361617+1821104 7'\n",
      "Setting radius to (<Quantity 0.10032806 solRad>, <Quantity 0.00291319 solRad>)\n",
      "Setting parallax to (<Quantity 135.18159228 mas>, <Quantity 0.01800205 mas>) and distance to (<Quantity 7.4 pc>, <Quantity 0. pc>, <Quantity 0. pc>).\n",
      "Setting age to (<Quantity 6. Gyr>, <Quantity 4. Gyr>)\n",
      "Successfully added SED '2MASS J00361617+1821104 8'\n",
      "Setting radius to (<Quantity 0.10032806 solRad>, <Quantity 0.00291319 solRad>)\n",
      "Setting parallax to (<Quantity 111.31772157 mas>, <Quantity 0.33445996 mas>) and distance to (<Quantity 8.98 pc>, <Quantity 0.03 pc>, <Quantity 0. pc>).\n",
      "Setting age to (<Quantity 6. Gyr>, <Quantity 4. Gyr>)\n",
      "Successfully added SED '2MASS J00361617+1821104 9'\n"
     ]
    }
   ],
   "source": [
    "# Make 10 SEDs with different parallaxes\n",
    "for n in range(10):\n",
    "    plx = np.random.normal(loc=114, scale=10)*q.mas, abs(np.random.normal(loc=0.2, scale=0.2))*q.mas\n",
    "    s = SED(parallax=plx, spectral_type='L3.5', name='2MASS J00361617+1821104 {}'.format(n))\n",
    "    s.add_photometry_file(resource_filename('sedkit', 'data/L3_photometry.txt'))\n",
    "    cat.add_SED(s)"
   ]
  },
  {
   "cell_type": "code",
   "execution_count": 95,
   "metadata": {},
   "outputs": [
    {
     "data": {
      "text/html": [
       "\n",
       "\n",
       "\n",
       "\n",
       "\n",
       "\n",
       "  <div class=\"bk-root\" id=\"7062ee88-faa4-4426-8188-93b9e18bc88e\" data-root-id=\"5548\"></div>\n"
      ]
     },
     "metadata": {},
     "output_type": "display_data"
    },
    {
     "data": {
      "application/javascript": [
       "(function(root) {\n",
       "  function embed_document(root) {\n",
       "    \n",
       "  var docs_json = {\"95c34f35-bd17-43d5-bc3c-a47a8d0d30c7\":{\"roots\":{\"references\":[{\"attributes\":{\"below\":[{\"id\":\"5559\",\"type\":\"LogAxis\"}],\"center\":[{\"id\":\"5563\",\"type\":\"Grid\"},{\"id\":\"5568\",\"type\":\"Grid\"},{\"id\":\"5594\",\"type\":\"Legend\"}],\"left\":[{\"id\":\"5564\",\"type\":\"LogAxis\"}],\"plot_height\":500,\"plot_width\":800,\"renderers\":[{\"id\":\"5586\",\"type\":\"GlyphRenderer\"},{\"id\":\"5599\",\"type\":\"GlyphRenderer\"}],\"title\":{\"id\":\"5549\",\"type\":\"Title\"},\"toolbar\":{\"id\":\"5574\",\"type\":\"Toolbar\"},\"x_range\":{\"id\":\"5601\",\"type\":\"Range1d\"},\"x_scale\":{\"id\":\"5555\",\"type\":\"LogScale\"},\"y_range\":{\"id\":\"5602\",\"type\":\"Range1d\"},\"y_scale\":{\"id\":\"5557\",\"type\":\"LogScale\"}},\"id\":\"5548\",\"subtype\":\"Figure\",\"type\":\"Plot\"},{\"attributes\":{\"source\":{\"id\":\"5582\",\"type\":\"ColumnDataSource\"}},\"id\":\"5587\",\"type\":\"CDSView\"},{\"attributes\":{\"label\":{\"value\":\"Photometry\"},\"renderers\":[{\"id\":\"5586\",\"type\":\"GlyphRenderer\"}]},\"id\":\"5595\",\"type\":\"LegendItem\"},{\"attributes\":{\"bottom_units\":\"screen\",\"fill_alpha\":{\"value\":0.5},\"fill_color\":{\"value\":\"lightgrey\"},\"left_units\":\"screen\",\"level\":\"overlay\",\"line_alpha\":{\"value\":1.0},\"line_color\":{\"value\":\"black\"},\"line_dash\":[4,4],\"line_width\":{\"value\":2},\"render_mode\":\"css\",\"right_units\":\"screen\",\"top_units\":\"screen\"},\"id\":\"5593\",\"type\":\"BoxAnnotation\"},{\"attributes\":{\"text\":\"2MASS J00361617+1821104 9\"},\"id\":\"5549\",\"type\":\"Title\"},{\"attributes\":{\"callback\":null,\"mode\":\"vline\",\"names\":[\"photometry\",\"nondetection\"],\"tooltips\":[[\"Band\",\"@desc\"],[\"Wave\",\"@x\"],[\"Flux\",\"@y\"],[\"Unc\",\"@z\"]]},\"id\":\"5580\",\"type\":\"HoverTool\"},{\"attributes\":{},\"id\":\"5778\",\"type\":\"Selection\"},{\"attributes\":{},\"id\":\"5570\",\"type\":\"ResetTool\"},{\"attributes\":{\"line_alpha\":{\"value\":0.1},\"line_color\":{\"value\":\"#1f77b4\"},\"xs\":{\"field\":\"xs\"},\"ys\":{\"field\":\"ys\"}},\"id\":\"5598\",\"type\":\"MultiLine\"},{\"attributes\":{\"fill_alpha\":{\"value\":0.1},\"fill_color\":{\"value\":\"#1f77b4\"},\"line_alpha\":{\"value\":0.1},\"line_color\":{\"value\":\"#1f77b4\"},\"size\":{\"units\":\"screen\",\"value\":8},\"x\":{\"field\":\"x\"},\"y\":{\"field\":\"y\"}},\"id\":\"5585\",\"type\":\"Circle\"},{\"attributes\":{},\"id\":\"5777\",\"type\":\"UnionRenderers\"},{\"attributes\":{},\"id\":\"5573\",\"type\":\"SaveTool\"},{\"attributes\":{\"overlay\":{\"id\":\"5593\",\"type\":\"BoxAnnotation\"}},\"id\":\"5571\",\"type\":\"BoxZoomTool\"},{\"attributes\":{},\"id\":\"5572\",\"type\":\"WheelZoomTool\"},{\"attributes\":{\"ticker\":null},\"id\":\"5591\",\"type\":\"LogTickFormatter\"},{\"attributes\":{},\"id\":\"5776\",\"type\":\"Selection\"},{\"attributes\":{\"num_minor_ticks\":10},\"id\":\"5560\",\"type\":\"LogTicker\"},{\"attributes\":{\"click_policy\":\"hide\",\"items\":[{\"id\":\"5595\",\"type\":\"LegendItem\"}]},\"id\":\"5594\",\"type\":\"Legend\"},{\"attributes\":{\"data_source\":{\"id\":\"5596\",\"type\":\"ColumnDataSource\"},\"glyph\":{\"id\":\"5597\",\"type\":\"MultiLine\"},\"hover_glyph\":null,\"muted_glyph\":null,\"nonselection_glyph\":{\"id\":\"5598\",\"type\":\"MultiLine\"},\"selection_glyph\":null,\"view\":{\"id\":\"5600\",\"type\":\"CDSView\"}},\"id\":\"5599\",\"type\":\"GlyphRenderer\"},{\"attributes\":{\"callback\":null,\"end\":6.449188939088813e-15,\"start\":2.4261282179915544e-19},\"id\":\"5602\",\"type\":\"Range1d\"},{\"attributes\":{\"line_color\":{\"value\":\"#1f77b4\"},\"xs\":{\"field\":\"xs\"},\"ys\":{\"field\":\"ys\"}},\"id\":\"5597\",\"type\":\"MultiLine\"},{\"attributes\":{\"ticker\":null},\"id\":\"5589\",\"type\":\"LogTickFormatter\"},{\"attributes\":{\"data_source\":{\"id\":\"5582\",\"type\":\"ColumnDataSource\"},\"glyph\":{\"id\":\"5584\",\"type\":\"Circle\"},\"hover_glyph\":null,\"muted_glyph\":null,\"name\":\"photometry\",\"nonselection_glyph\":{\"id\":\"5585\",\"type\":\"Circle\"},\"selection_glyph\":null,\"view\":{\"id\":\"5587\",\"type\":\"CDSView\"}},\"id\":\"5586\",\"type\":\"GlyphRenderer\"},{\"attributes\":{},\"id\":\"5779\",\"type\":\"UnionRenderers\"},{\"attributes\":{},\"id\":\"5555\",\"type\":\"LogScale\"},{\"attributes\":{},\"id\":\"5569\",\"type\":\"PanTool\"},{\"attributes\":{\"source\":{\"id\":\"5596\",\"type\":\"ColumnDataSource\"}},\"id\":\"5600\",\"type\":\"CDSView\"},{\"attributes\":{\"ticker\":{\"id\":\"5560\",\"type\":\"LogTicker\"}},\"id\":\"5563\",\"type\":\"Grid\"},{\"attributes\":{\"fill_alpha\":{\"value\":0.7},\"fill_color\":{\"value\":\"#1f77b4\"},\"line_color\":{\"value\":\"#1f77b4\"},\"size\":{\"units\":\"screen\",\"value\":8},\"x\":{\"field\":\"x\"},\"y\":{\"field\":\"y\"}},\"id\":\"5584\",\"type\":\"Circle\"},{\"attributes\":{\"dimension\":1,\"ticker\":{\"id\":\"5565\",\"type\":\"LogTicker\"}},\"id\":\"5568\",\"type\":\"Grid\"},{\"attributes\":{\"active_drag\":\"auto\",\"active_inspect\":\"auto\",\"active_multi\":null,\"active_scroll\":\"auto\",\"active_tap\":\"auto\",\"tools\":[{\"id\":\"5569\",\"type\":\"PanTool\"},{\"id\":\"5570\",\"type\":\"ResetTool\"},{\"id\":\"5571\",\"type\":\"BoxZoomTool\"},{\"id\":\"5572\",\"type\":\"WheelZoomTool\"},{\"id\":\"5573\",\"type\":\"SaveTool\"},{\"id\":\"5580\",\"type\":\"HoverTool\"}]},\"id\":\"5574\",\"type\":\"Toolbar\"},{\"attributes\":{\"callback\":null,\"data\":{\"desc\":[\"SDSS.u\",\"SDSS.g\",\"SDSS.r\",\"SDSS.i\",\"SDSS.z\",\"2MASS.J\",\"2MASS.H\",\"2MASS.Ks\"],\"x\":{\"__ndarray__\":\"bkxPWOIB1z80SwLU1LLdP54pdF5jl+M/kX77OnDO5z+4kh0bgXjsP8P1KFyPwvM/ZDvfT42X+j8Sg8DKoUUBQA==\",\"dtype\":\"float64\",\"shape\":[8]},\"y\":{\"__ndarray__\":\"4zAmntPmITzQLxOCr71YPEBdz3HqcIM8G+2HUJ96qzybA99MHgrJPMiZAJtoC+08hFNODDY75zyDCPmhyj7dPA==\",\"dtype\":\"float64\",\"shape\":[8]},\"z\":{\"__ndarray__\":\"Lu0j7X/lJjy6vzr40/coPLpPRKE1xSU8YgUJ34YzMDzb/jFqp4ZNPHhzAXhSG5c8iqyaPESKlDwmFn5z+RiCPA==\",\"dtype\":\"float64\",\"shape\":[8]}},\"selected\":{\"id\":\"5776\",\"type\":\"Selection\"},\"selection_policy\":{\"id\":\"5777\",\"type\":\"UnionRenderers\"}},\"id\":\"5582\",\"type\":\"ColumnDataSource\"},{\"attributes\":{\"axis_label\":\"Flux Density [erg / (Angstrom cm2 s)]\",\"formatter\":{\"id\":\"5589\",\"type\":\"LogTickFormatter\"},\"ticker\":{\"id\":\"5565\",\"type\":\"LogTicker\"}},\"id\":\"5564\",\"type\":\"LogAxis\"},{\"attributes\":{\"callback\":null,\"end\":21.599999999999998,\"start\":0.24},\"id\":\"5601\",\"type\":\"Range1d\"},{\"attributes\":{},\"id\":\"5557\",\"type\":\"LogScale\"},{\"attributes\":{\"axis_label\":\"Wavelength [um]\",\"formatter\":{\"id\":\"5591\",\"type\":\"LogTickFormatter\"},\"ticker\":{\"id\":\"5560\",\"type\":\"LogTicker\"}},\"id\":\"5559\",\"type\":\"LogAxis\"},{\"attributes\":{\"callback\":null,\"data\":{\"xs\":[[0.35949,0.35949],[0.46404,0.46404],[0.61223,0.61223],[0.74395,0.74395],[0.88971,0.88971],[1.235,1.235],[1.662,1.662],[2.159,2.159]],\"ys\":[[-1.3538477847364674e-19,1.1058360656702684e-18],[4.688079248240804e-18,6.041601476898345e-18],[3.3134806752698e-17,3.431497976811379e-17],[1.8979554714729404e-16,1.9155209308916145e-16],[6.917852107577954e-16,6.981876397023346e-16],[3.1444269055558143e-15,3.304762033532999e-15],[2.5079288886915566e-15,2.6504544891101352e-15],[1.592044873413413e-15,1.6548333850338598e-15]]},\"selected\":{\"id\":\"5778\",\"type\":\"Selection\"},\"selection_policy\":{\"id\":\"5779\",\"type\":\"UnionRenderers\"}},\"id\":\"5596\",\"type\":\"ColumnDataSource\"},{\"attributes\":{\"num_minor_ticks\":10},\"id\":\"5565\",\"type\":\"LogTicker\"}],\"root_ids\":[\"5548\"]},\"title\":\"Bokeh Application\",\"version\":\"1.3.4\"}};\n",
       "  var render_items = [{\"docid\":\"95c34f35-bd17-43d5-bc3c-a47a8d0d30c7\",\"roots\":{\"5548\":\"7062ee88-faa4-4426-8188-93b9e18bc88e\"}}];\n",
       "  root.Bokeh.embed.embed_items_notebook(docs_json, render_items);\n",
       "\n",
       "  }\n",
       "  if (root.Bokeh !== undefined) {\n",
       "    embed_document(root);\n",
       "  } else {\n",
       "    var attempts = 0;\n",
       "    var timer = setInterval(function(root) {\n",
       "      if (root.Bokeh !== undefined) {\n",
       "        embed_document(root);\n",
       "        clearInterval(timer);\n",
       "      }\n",
       "      attempts++;\n",
       "      if (attempts > 100) {\n",
       "        console.log(\"Bokeh: ERROR: Unable to run BokehJS code because BokehJS library is missing\");\n",
       "        clearInterval(timer);\n",
       "      }\n",
       "    }, 10, root)\n",
       "  }\n",
       "})(window);"
      ],
      "application/vnd.bokehjs_exec.v0+json": ""
     },
     "metadata": {
      "application/vnd.bokehjs_exec.v0+json": {
       "id": "5548"
      }
     },
     "output_type": "display_data"
    },
    {
     "data": {
      "text/html": [
       "<div style=\"display: table;\"><div style=\"display: table-row;\"><div style=\"display: table-cell;\"><b title=\"bokeh.plotting.figure.Figure\">Figure</b>(</div><div style=\"display: table-cell;\">id&nbsp;=&nbsp;'5548', <span id=\"5842\" style=\"cursor: pointer;\">&hellip;)</span></div></div><div class=\"5841\" style=\"display: none;\"><div style=\"display: table-cell;\"></div><div style=\"display: table-cell;\">above&nbsp;=&nbsp;[],</div></div><div class=\"5841\" style=\"display: none;\"><div style=\"display: table-cell;\"></div><div style=\"display: table-cell;\">align&nbsp;=&nbsp;'start',</div></div><div class=\"5841\" style=\"display: none;\"><div style=\"display: table-cell;\"></div><div style=\"display: table-cell;\">aspect_ratio&nbsp;=&nbsp;None,</div></div><div class=\"5841\" style=\"display: none;\"><div style=\"display: table-cell;\"></div><div style=\"display: table-cell;\">aspect_scale&nbsp;=&nbsp;1,</div></div><div class=\"5841\" style=\"display: none;\"><div style=\"display: table-cell;\"></div><div style=\"display: table-cell;\">background&nbsp;=&nbsp;None,</div></div><div class=\"5841\" style=\"display: none;\"><div style=\"display: table-cell;\"></div><div style=\"display: table-cell;\">background_fill_alpha&nbsp;=&nbsp;{'value': 1.0},</div></div><div class=\"5841\" style=\"display: none;\"><div style=\"display: table-cell;\"></div><div style=\"display: table-cell;\">background_fill_color&nbsp;=&nbsp;{'value': '#ffffff'},</div></div><div class=\"5841\" style=\"display: none;\"><div style=\"display: table-cell;\"></div><div style=\"display: table-cell;\">below&nbsp;=&nbsp;[LogAxis(id='5559', ...)],</div></div><div class=\"5841\" style=\"display: none;\"><div style=\"display: table-cell;\"></div><div style=\"display: table-cell;\">border_fill_alpha&nbsp;=&nbsp;{'value': 1.0},</div></div><div class=\"5841\" style=\"display: none;\"><div style=\"display: table-cell;\"></div><div style=\"display: table-cell;\">border_fill_color&nbsp;=&nbsp;{'value': '#ffffff'},</div></div><div class=\"5841\" style=\"display: none;\"><div style=\"display: table-cell;\"></div><div style=\"display: table-cell;\">center&nbsp;=&nbsp;[Grid(id='5563', ...), Grid(id='5568', ...), Legend(id='5594', ...)],</div></div><div class=\"5841\" style=\"display: none;\"><div style=\"display: table-cell;\"></div><div style=\"display: table-cell;\">css_classes&nbsp;=&nbsp;[],</div></div><div class=\"5841\" style=\"display: none;\"><div style=\"display: table-cell;\"></div><div style=\"display: table-cell;\">disabled&nbsp;=&nbsp;False,</div></div><div class=\"5841\" style=\"display: none;\"><div style=\"display: table-cell;\"></div><div style=\"display: table-cell;\">extra_x_ranges&nbsp;=&nbsp;{},</div></div><div class=\"5841\" style=\"display: none;\"><div style=\"display: table-cell;\"></div><div style=\"display: table-cell;\">extra_y_ranges&nbsp;=&nbsp;{},</div></div><div class=\"5841\" style=\"display: none;\"><div style=\"display: table-cell;\"></div><div style=\"display: table-cell;\">frame_height&nbsp;=&nbsp;None,</div></div><div class=\"5841\" style=\"display: none;\"><div style=\"display: table-cell;\"></div><div style=\"display: table-cell;\">frame_width&nbsp;=&nbsp;None,</div></div><div class=\"5841\" style=\"display: none;\"><div style=\"display: table-cell;\"></div><div style=\"display: table-cell;\">height&nbsp;=&nbsp;None,</div></div><div class=\"5841\" style=\"display: none;\"><div style=\"display: table-cell;\"></div><div style=\"display: table-cell;\">height_policy&nbsp;=&nbsp;'auto',</div></div><div class=\"5841\" style=\"display: none;\"><div style=\"display: table-cell;\"></div><div style=\"display: table-cell;\">hidpi&nbsp;=&nbsp;True,</div></div><div class=\"5841\" style=\"display: none;\"><div style=\"display: table-cell;\"></div><div style=\"display: table-cell;\">js_event_callbacks&nbsp;=&nbsp;{},</div></div><div class=\"5841\" style=\"display: none;\"><div style=\"display: table-cell;\"></div><div style=\"display: table-cell;\">js_property_callbacks&nbsp;=&nbsp;{},</div></div><div class=\"5841\" style=\"display: none;\"><div style=\"display: table-cell;\"></div><div style=\"display: table-cell;\">left&nbsp;=&nbsp;[LogAxis(id='5564', ...)],</div></div><div class=\"5841\" style=\"display: none;\"><div style=\"display: table-cell;\"></div><div style=\"display: table-cell;\">lod_factor&nbsp;=&nbsp;10,</div></div><div class=\"5841\" style=\"display: none;\"><div style=\"display: table-cell;\"></div><div style=\"display: table-cell;\">lod_interval&nbsp;=&nbsp;300,</div></div><div class=\"5841\" style=\"display: none;\"><div style=\"display: table-cell;\"></div><div style=\"display: table-cell;\">lod_threshold&nbsp;=&nbsp;2000,</div></div><div class=\"5841\" style=\"display: none;\"><div style=\"display: table-cell;\"></div><div style=\"display: table-cell;\">lod_timeout&nbsp;=&nbsp;500,</div></div><div class=\"5841\" style=\"display: none;\"><div style=\"display: table-cell;\"></div><div style=\"display: table-cell;\">margin&nbsp;=&nbsp;(0, 0, 0, 0),</div></div><div class=\"5841\" style=\"display: none;\"><div style=\"display: table-cell;\"></div><div style=\"display: table-cell;\">match_aspect&nbsp;=&nbsp;False,</div></div><div class=\"5841\" style=\"display: none;\"><div style=\"display: table-cell;\"></div><div style=\"display: table-cell;\">max_height&nbsp;=&nbsp;None,</div></div><div class=\"5841\" style=\"display: none;\"><div style=\"display: table-cell;\"></div><div style=\"display: table-cell;\">max_width&nbsp;=&nbsp;None,</div></div><div class=\"5841\" style=\"display: none;\"><div style=\"display: table-cell;\"></div><div style=\"display: table-cell;\">min_border&nbsp;=&nbsp;5,</div></div><div class=\"5841\" style=\"display: none;\"><div style=\"display: table-cell;\"></div><div style=\"display: table-cell;\">min_border_bottom&nbsp;=&nbsp;None,</div></div><div class=\"5841\" style=\"display: none;\"><div style=\"display: table-cell;\"></div><div style=\"display: table-cell;\">min_border_left&nbsp;=&nbsp;None,</div></div><div class=\"5841\" style=\"display: none;\"><div style=\"display: table-cell;\"></div><div style=\"display: table-cell;\">min_border_right&nbsp;=&nbsp;None,</div></div><div class=\"5841\" style=\"display: none;\"><div style=\"display: table-cell;\"></div><div style=\"display: table-cell;\">min_border_top&nbsp;=&nbsp;None,</div></div><div class=\"5841\" style=\"display: none;\"><div style=\"display: table-cell;\"></div><div style=\"display: table-cell;\">min_height&nbsp;=&nbsp;None,</div></div><div class=\"5841\" style=\"display: none;\"><div style=\"display: table-cell;\"></div><div style=\"display: table-cell;\">min_width&nbsp;=&nbsp;None,</div></div><div class=\"5841\" style=\"display: none;\"><div style=\"display: table-cell;\"></div><div style=\"display: table-cell;\">name&nbsp;=&nbsp;None,</div></div><div class=\"5841\" style=\"display: none;\"><div style=\"display: table-cell;\"></div><div style=\"display: table-cell;\">outline_line_alpha&nbsp;=&nbsp;{'value': 1.0},</div></div><div class=\"5841\" style=\"display: none;\"><div style=\"display: table-cell;\"></div><div style=\"display: table-cell;\">outline_line_cap&nbsp;=&nbsp;'butt',</div></div><div class=\"5841\" style=\"display: none;\"><div style=\"display: table-cell;\"></div><div style=\"display: table-cell;\">outline_line_color&nbsp;=&nbsp;{'value': '#e5e5e5'},</div></div><div class=\"5841\" style=\"display: none;\"><div style=\"display: table-cell;\"></div><div style=\"display: table-cell;\">outline_line_dash&nbsp;=&nbsp;[],</div></div><div class=\"5841\" style=\"display: none;\"><div style=\"display: table-cell;\"></div><div style=\"display: table-cell;\">outline_line_dash_offset&nbsp;=&nbsp;0,</div></div><div class=\"5841\" style=\"display: none;\"><div style=\"display: table-cell;\"></div><div style=\"display: table-cell;\">outline_line_join&nbsp;=&nbsp;'bevel',</div></div><div class=\"5841\" style=\"display: none;\"><div style=\"display: table-cell;\"></div><div style=\"display: table-cell;\">outline_line_width&nbsp;=&nbsp;{'value': 1},</div></div><div class=\"5841\" style=\"display: none;\"><div style=\"display: table-cell;\"></div><div style=\"display: table-cell;\">output_backend&nbsp;=&nbsp;'canvas',</div></div><div class=\"5841\" style=\"display: none;\"><div style=\"display: table-cell;\"></div><div style=\"display: table-cell;\">plot_height&nbsp;=&nbsp;500,</div></div><div class=\"5841\" style=\"display: none;\"><div style=\"display: table-cell;\"></div><div style=\"display: table-cell;\">plot_width&nbsp;=&nbsp;800,</div></div><div class=\"5841\" style=\"display: none;\"><div style=\"display: table-cell;\"></div><div style=\"display: table-cell;\">renderers&nbsp;=&nbsp;[GlyphRenderer(id='5586', ...), GlyphRenderer(id='5599', ...)],</div></div><div class=\"5841\" style=\"display: none;\"><div style=\"display: table-cell;\"></div><div style=\"display: table-cell;\">reset_policy&nbsp;=&nbsp;'standard',</div></div><div class=\"5841\" style=\"display: none;\"><div style=\"display: table-cell;\"></div><div style=\"display: table-cell;\">right&nbsp;=&nbsp;[],</div></div><div class=\"5841\" style=\"display: none;\"><div style=\"display: table-cell;\"></div><div style=\"display: table-cell;\">sizing_mode&nbsp;=&nbsp;None,</div></div><div class=\"5841\" style=\"display: none;\"><div style=\"display: table-cell;\"></div><div style=\"display: table-cell;\">subscribed_events&nbsp;=&nbsp;[],</div></div><div class=\"5841\" style=\"display: none;\"><div style=\"display: table-cell;\"></div><div style=\"display: table-cell;\">tags&nbsp;=&nbsp;[],</div></div><div class=\"5841\" style=\"display: none;\"><div style=\"display: table-cell;\"></div><div style=\"display: table-cell;\">title&nbsp;=&nbsp;Title(id='5549', ...),</div></div><div class=\"5841\" style=\"display: none;\"><div style=\"display: table-cell;\"></div><div style=\"display: table-cell;\">title_location&nbsp;=&nbsp;'above',</div></div><div class=\"5841\" style=\"display: none;\"><div style=\"display: table-cell;\"></div><div style=\"display: table-cell;\">toolbar&nbsp;=&nbsp;Toolbar(id='5574', ...),</div></div><div class=\"5841\" style=\"display: none;\"><div style=\"display: table-cell;\"></div><div style=\"display: table-cell;\">toolbar_location&nbsp;=&nbsp;'right',</div></div><div class=\"5841\" style=\"display: none;\"><div style=\"display: table-cell;\"></div><div style=\"display: table-cell;\">toolbar_sticky&nbsp;=&nbsp;True,</div></div><div class=\"5841\" style=\"display: none;\"><div style=\"display: table-cell;\"></div><div style=\"display: table-cell;\">visible&nbsp;=&nbsp;True,</div></div><div class=\"5841\" style=\"display: none;\"><div style=\"display: table-cell;\"></div><div style=\"display: table-cell;\">width&nbsp;=&nbsp;None,</div></div><div class=\"5841\" style=\"display: none;\"><div style=\"display: table-cell;\"></div><div style=\"display: table-cell;\">width_policy&nbsp;=&nbsp;'auto',</div></div><div class=\"5841\" style=\"display: none;\"><div style=\"display: table-cell;\"></div><div style=\"display: table-cell;\">x_range&nbsp;=&nbsp;Range1d(id='5601', ...),</div></div><div class=\"5841\" style=\"display: none;\"><div style=\"display: table-cell;\"></div><div style=\"display: table-cell;\">x_scale&nbsp;=&nbsp;LogScale(id='5555', ...),</div></div><div class=\"5841\" style=\"display: none;\"><div style=\"display: table-cell;\"></div><div style=\"display: table-cell;\">y_range&nbsp;=&nbsp;Range1d(id='5602', ...),</div></div><div class=\"5841\" style=\"display: none;\"><div style=\"display: table-cell;\"></div><div style=\"display: table-cell;\">y_scale&nbsp;=&nbsp;LogScale(id='5557', ...))</div></div></div>\n",
       "<script>\n",
       "(function() {\n",
       "  var expanded = false;\n",
       "  var ellipsis = document.getElementById(\"5842\");\n",
       "  ellipsis.addEventListener(\"click\", function() {\n",
       "    var rows = document.getElementsByClassName(\"5841\");\n",
       "    for (var i = 0; i < rows.length; i++) {\n",
       "      var el = rows[i];\n",
       "      el.style.display = expanded ? \"none\" : \"table-row\";\n",
       "    }\n",
       "    ellipsis.innerHTML = expanded ? \"&hellip;)\" : \"&lsaquo;&lsaquo;&lsaquo;\";\n",
       "    expanded = !expanded;\n",
       "  });\n",
       "})();\n",
       "</script>\n"
      ],
      "text/plain": [
       "Figure(id='5548', ...)"
      ]
     },
     "execution_count": 95,
     "metadata": {},
     "output_type": "execute_result"
    }
   ],
   "source": [
    "s.plot()"
   ]
  },
  {
   "cell_type": "markdown",
   "metadata": {},
   "source": [
    "Then the (abridged) aggregated results look like this:"
   ]
  },
  {
   "cell_type": "code",
   "execution_count": 96,
   "metadata": {},
   "outputs": [
    {
     "data": {
      "text/html": [
       "<i>Table length=10</i>\n",
       "<table id=\"table5164485544\" class=\"table-striped table-bordered table-condensed\">\n",
       "<thead><tr><th>name</th><th>distance</th><th>distance_unc</th><th>Lbol_sun</th><th>Lbol_sun_unc</th><th>Teff</th><th>Teff_unc</th></tr></thead>\n",
       "<thead><tr><th></th><th>pc</th><th>pc</th><th></th><th></th><th>K</th><th>K</th></tr></thead>\n",
       "<thead><tr><th>object</th><th>object</th><th>object</th><th>object</th><th>object</th><th>object</th><th>object</th></tr></thead>\n",
       "<tr><td>2MASS J00361617+1821104 0</td><td>9.32</td><td>0.01</td><td>-4.192</td><td>0.013</td><td>1631.0</td><td>26.0</td></tr>\n",
       "<tr><td>2MASS J00361617+1821104 1</td><td>7.83</td><td>0.01</td><td>-4.343</td><td>0.013</td><td>1495.0</td><td>24.0</td></tr>\n",
       "<tr><td>2MASS J00361617+1821104 2</td><td>9.82</td><td>0.01</td><td>-4.146</td><td>0.013</td><td>1675.0</td><td>27.0</td></tr>\n",
       "<tr><td>2MASS J00361617+1821104 3</td><td>7.93</td><td>0.0</td><td>-4.332</td><td>0.013</td><td>1505.0</td><td>24.0</td></tr>\n",
       "<tr><td>2MASS J00361617+1821104 4</td><td>8.55</td><td>0.01</td><td>-4.267</td><td>0.013</td><td>1563.0</td><td>25.0</td></tr>\n",
       "<tr><td>2MASS J00361617+1821104 5</td><td>9.5</td><td>0.01</td><td>-4.175</td><td>0.013</td><td>1647.0</td><td>27.0</td></tr>\n",
       "<tr><td>2MASS J00361617+1821104 6</td><td>8.09</td><td>0.01</td><td>-4.315</td><td>0.013</td><td>1520.0</td><td>25.0</td></tr>\n",
       "<tr><td>2MASS J00361617+1821104 7</td><td>9.12</td><td>0.02</td><td>-4.211</td><td>0.014</td><td>1614.0</td><td>26.0</td></tr>\n",
       "<tr><td>2MASS J00361617+1821104 8</td><td>7.4</td><td>0.0</td><td>-4.392</td><td>0.013</td><td>1454.0</td><td>23.0</td></tr>\n",
       "<tr><td>2MASS J00361617+1821104 9</td><td>8.98</td><td>0.03</td><td>-4.224</td><td>0.014</td><td>1601.0</td><td>26.0</td></tr>\n",
       "</table>"
      ],
      "text/plain": [
       "<Table length=10>\n",
       "           name           distance distance_unc ... Lbol_sun_unc  Teff  Teff_unc\n",
       "                             pc         pc      ...                K       K    \n",
       "          object           object     object    ...    object    object  object \n",
       "------------------------- -------- ------------ ... ------------ ------ --------\n",
       "2MASS J00361617+1821104 0     9.32         0.01 ...        0.013 1631.0     26.0\n",
       "2MASS J00361617+1821104 1     7.83         0.01 ...        0.013 1495.0     24.0\n",
       "2MASS J00361617+1821104 2     9.82         0.01 ...        0.013 1675.0     27.0\n",
       "2MASS J00361617+1821104 3     7.93          0.0 ...        0.013 1505.0     24.0\n",
       "2MASS J00361617+1821104 4     8.55         0.01 ...        0.013 1563.0     25.0\n",
       "2MASS J00361617+1821104 5      9.5         0.01 ...        0.013 1647.0     27.0\n",
       "2MASS J00361617+1821104 6     8.09         0.01 ...        0.013 1520.0     25.0\n",
       "2MASS J00361617+1821104 7     9.12         0.02 ...        0.014 1614.0     26.0\n",
       "2MASS J00361617+1821104 8      7.4          0.0 ...        0.013 1454.0     23.0\n",
       "2MASS J00361617+1821104 9     8.98         0.03 ...        0.014 1601.0     26.0"
      ]
     },
     "execution_count": 96,
     "metadata": {},
     "output_type": "execute_result"
    }
   ],
   "source": [
    "cat.results[['name','distance','distance_unc','Lbol_sun','Lbol_sun_unc','Teff','Teff_unc']]"
   ]
  },
  {
   "cell_type": "markdown",
   "metadata": {},
   "source": [
    "We can also plot the results by passing the `plot` method two column names."
   ]
  },
  {
   "cell_type": "code",
   "execution_count": 97,
   "metadata": {},
   "outputs": [
    {
     "data": {
      "text/html": [
       "\n",
       "\n",
       "\n",
       "\n",
       "\n",
       "\n",
       "  <div class=\"bk-root\" id=\"cb2a05e4-c7db-4d34-8703-08d85e8d0ac7\" data-root-id=\"5847\"></div>\n"
      ]
     },
     "metadata": {},
     "output_type": "display_data"
    },
    {
     "data": {
      "application/javascript": [
       "(function(root) {\n",
       "  function embed_document(root) {\n",
       "    \n",
       "  var docs_json = {\"496b3ae7-211e-437b-ad6d-c208a850d28d\":{\"roots\":{\"references\":[{\"attributes\":{\"fill_alpha\":{\"value\":0.7},\"fill_color\":{\"value\":\"blue\"},\"line_color\":{\"value\":\"blue\"},\"size\":{\"units\":\"screen\",\"value\":8},\"x\":{\"field\":\"distance\"},\"y\":{\"field\":\"Teff\"}},\"id\":\"5879\",\"type\":\"Circle\"},{\"attributes\":{},\"id\":\"6079\",\"type\":\"UnionRenderers\"},{\"attributes\":{\"source\":{\"id\":\"5883\",\"type\":\"ColumnDataSource\"}},\"id\":\"5887\",\"type\":\"CDSView\"},{\"attributes\":{\"text\":\"distance v Teff\"},\"id\":\"5848\",\"type\":\"Title\"},{\"attributes\":{},\"id\":\"6080\",\"type\":\"Selection\"},{\"attributes\":{},\"id\":\"5864\",\"type\":\"BasicTicker\"},{\"attributes\":{\"line_color\":{\"value\":\"blue\"},\"xs\":{\"field\":\"xs\"},\"ys\":{\"field\":\"ys\"}},\"id\":\"5889\",\"type\":\"MultiLine\"},{\"attributes\":{\"bottom_units\":\"screen\",\"fill_alpha\":{\"value\":0.5},\"fill_color\":{\"value\":\"lightgrey\"},\"left_units\":\"screen\",\"level\":\"overlay\",\"line_alpha\":{\"value\":1.0},\"line_color\":{\"value\":\"black\"},\"line_dash\":[4,4],\"line_width\":{\"value\":2},\"render_mode\":\"css\",\"right_units\":\"screen\",\"top_units\":\"screen\"},\"id\":\"6082\",\"type\":\"BoxAnnotation\"},{\"attributes\":{\"below\":[{\"id\":\"5858\",\"type\":\"LinearAxis\"}],\"center\":[{\"id\":\"5862\",\"type\":\"Grid\"},{\"id\":\"5867\",\"type\":\"Grid\"}],\"left\":[{\"id\":\"5863\",\"type\":\"LinearAxis\"}],\"plot_height\":500,\"plot_width\":800,\"renderers\":[{\"id\":\"5881\",\"type\":\"GlyphRenderer\"},{\"id\":\"5886\",\"type\":\"GlyphRenderer\"},{\"id\":\"5891\",\"type\":\"GlyphRenderer\"}],\"title\":{\"id\":\"5848\",\"type\":\"Title\"},\"toolbar\":{\"id\":\"5872\",\"type\":\"Toolbar\"},\"x_range\":{\"id\":\"5850\",\"type\":\"DataRange1d\"},\"x_scale\":{\"id\":\"5854\",\"type\":\"LinearScale\"},\"y_range\":{\"id\":\"5852\",\"type\":\"DataRange1d\"},\"y_scale\":{\"id\":\"5856\",\"type\":\"LinearScale\"}},\"id\":\"5847\",\"subtype\":\"Figure\",\"type\":\"Plot\"},{\"attributes\":{\"overlay\":{\"id\":\"6082\",\"type\":\"BoxAnnotation\"}},\"id\":\"5870\",\"type\":\"BoxZoomTool\"},{\"attributes\":{},\"id\":\"5856\",\"type\":\"LinearScale\"},{\"attributes\":{\"active_drag\":\"auto\",\"active_inspect\":\"auto\",\"active_multi\":null,\"active_scroll\":\"auto\",\"active_tap\":\"auto\",\"tools\":[{\"id\":\"5846\",\"type\":\"HoverTool\"},{\"id\":\"5868\",\"type\":\"PanTool\"},{\"id\":\"5869\",\"type\":\"ResetTool\"},{\"id\":\"5870\",\"type\":\"BoxZoomTool\"},{\"id\":\"5871\",\"type\":\"SaveTool\"}]},\"id\":\"5872\",\"type\":\"Toolbar\"},{\"attributes\":{\"dimension\":1,\"ticker\":{\"id\":\"5864\",\"type\":\"BasicTicker\"}},\"id\":\"5867\",\"type\":\"Grid\"},{\"attributes\":{\"ticker\":{\"id\":\"5859\",\"type\":\"BasicTicker\"}},\"id\":\"5862\",\"type\":\"Grid\"},{\"attributes\":{\"callback\":null,\"data\":{\"xs\":[[9.31,9.33],[7.82,7.84],[9.81,9.83],[7.93,7.93],[8.540000000000001,8.56],[9.49,9.51],[8.08,8.1],[9.1,9.139999999999999],[7.4,7.4],[8.950000000000001,9.01]],\"ys\":[[1631.0,1631.0],[1495.0,1495.0],[1675.0,1675.0],[1505.0,1505.0],[1563.0,1563.0],[1647.0,1647.0],[1520.0,1520.0],[1614.0,1614.0],[1454.0,1454.0],[1601.0,1601.0]]},\"selected\":{\"id\":\"6080\",\"type\":\"Selection\"},\"selection_policy\":{\"id\":\"6081\",\"type\":\"UnionRenderers\"}},\"id\":\"5888\",\"type\":\"ColumnDataSource\"},{\"attributes\":{\"data_source\":{\"id\":\"5888\",\"type\":\"ColumnDataSource\"},\"glyph\":{\"id\":\"5889\",\"type\":\"MultiLine\"},\"hover_glyph\":null,\"muted_glyph\":null,\"nonselection_glyph\":{\"id\":\"5890\",\"type\":\"MultiLine\"},\"selection_glyph\":null,\"view\":{\"id\":\"5892\",\"type\":\"CDSView\"}},\"id\":\"5891\",\"type\":\"GlyphRenderer\"},{\"attributes\":{\"line_color\":{\"value\":\"blue\"},\"xs\":{\"field\":\"xs\"},\"ys\":{\"field\":\"ys\"}},\"id\":\"5884\",\"type\":\"MultiLine\"},{\"attributes\":{},\"id\":\"5859\",\"type\":\"BasicTicker\"},{\"attributes\":{\"callback\":null},\"id\":\"5850\",\"type\":\"DataRange1d\"},{\"attributes\":{\"axis_label\":\"distance [pc]\",\"formatter\":{\"id\":\"6074\",\"type\":\"BasicTickFormatter\"},\"ticker\":{\"id\":\"5859\",\"type\":\"BasicTicker\"}},\"id\":\"5858\",\"type\":\"LinearAxis\"},{\"attributes\":{\"data_source\":{\"id\":\"5883\",\"type\":\"ColumnDataSource\"},\"glyph\":{\"id\":\"5884\",\"type\":\"MultiLine\"},\"hover_glyph\":null,\"muted_glyph\":null,\"nonselection_glyph\":{\"id\":\"5885\",\"type\":\"MultiLine\"},\"selection_glyph\":null,\"view\":{\"id\":\"5887\",\"type\":\"CDSView\"}},\"id\":\"5886\",\"type\":\"GlyphRenderer\"},{\"attributes\":{},\"id\":\"5868\",\"type\":\"PanTool\"},{\"attributes\":{},\"id\":\"5871\",\"type\":\"SaveTool\"},{\"attributes\":{\"callback\":null,\"data\":{\"2MASS.H\":[11.5859375,11.5859375,11.5859375,11.5859375,11.5859375,11.5859375,11.5859375,11.5859375,11.5859375,11.5859375],\"2MASS.H_unc\":[0.029998779296875,0.029998779296875,0.029998779296875,0.029998779296875,0.029998779296875,0.029998779296875,0.029998779296875,0.029998779296875,0.029998779296875,0.029998779296875],\"2MASS.J\":[12.46875,12.46875,12.46875,12.46875,12.46875,12.46875,12.46875,12.46875,12.46875,12.46875],\"2MASS.J_unc\":[0.0269927978515625,0.0269927978515625,0.0269927978515625,0.0269927978515625,0.0269927978515625,0.0269927978515625,0.0269927978515625,0.0269927978515625,0.0269927978515625,0.0269927978515625],\"2MASS.Ks\":[11.0546875,11.0546875,11.0546875,11.0546875,11.0546875,11.0546875,11.0546875,11.0546875,11.0546875,11.0546875],\"2MASS.Ks_unc\":[0.02099609375,0.02099609375,0.02099609375,0.02099609375,0.02099609375,0.02099609375,0.02099609375,0.02099609375,0.02099609375,0.02099609375],\"Lbol\":[2.462064617591959e+29,1.7377654017559228e+29,2.733320746715205e+29,1.782436212570785e+29,2.072048190097398e+29,2.5580841853054292e+29,1.85508863787577e+29,2.3575303851774833e+29,1.552140609277843e+29,2.2857056170271908e+29],\"Lbol_sun\":[-4.192,-4.343,-4.146,-4.332,-4.267,-4.175,-4.315,-4.211,-4.392,-4.224],\"Lbol_sun_unc\":[0.013,0.013,0.013,0.013,0.013,0.013,0.013,0.014,0.013,0.014],\"Lbol_unc\":[7.61529133904295e+27,5.380385991758782e+27,8.452280876917256e+27,5.49988144059998e+27,6.411853308572519e+27,7.911569945792221e+27,5.742400300593334e+27,7.347511628634282e+27,4.7892818098980044e+27,7.216223056724804e+27],\"M_2MASS.H\":[11.734375,12.1171875,11.625,12.09375,11.921875,11.703125,12.046875,11.78125,12.234375,11.8203125],\"M_2MASS.H_unc\":[0.029998779296875,0.029998779296875,0.029998779296875,0.029998779296875,0.029998779296875,0.029998779296875,0.029998779296875,0.029998779296875,0.029998779296875,0.029998779296875],\"M_2MASS.J\":[12.625,13.0,12.5078125,12.96875,12.8125,12.578125,12.9296875,12.671875,13.125,12.703125],\"M_2MASS.J_unc\":[0.0269927978515625,0.0269927978515625,0.0269927978515625,0.0269927978515625,0.0269927978515625,0.0269927978515625,0.0269927978515625,0.0269927978515625,0.0269927978515625,0.0269927978515625],\"M_2MASS.Ks\":[11.203125,11.5859375,11.09375,11.5625,11.390625,11.171875,11.515625,11.25,11.703125,11.2890625],\"M_2MASS.Ks_unc\":[0.02099609375,0.02099609375,0.02099609375,0.02099609375,0.02099609375,0.02099609375,0.02099609375,0.02099609375,0.02099609375,0.02099609375],\"M_SDSS.g\":[22.6875,23.0625,22.5625,23.03125,22.875,22.640625,23.015625,22.734375,23.1875,22.765625],\"M_SDSS.g_unc\":[0.136962890625,0.136962890625,0.136962890625,0.136962890625,0.136962890625,0.136962890625,0.136962890625,0.136962890625,0.136962890625,0.136962890625],\"M_SDSS.i\":[17.328125,17.703125,17.21875,17.65625,17.515625,17.28125,17.625,17.375,17.828125,17.40625],\"M_SDSS.i_unc\":[0.005001068115234375,0.005001068115234375,0.005001068115234375,0.005001068115234375,0.005001068115234375,0.005001068115234375,0.005001068115234375,0.006000518798828125,0.005001068115234375,0.006000518798828125],\"M_SDSS.r\":[19.84375,20.21875,19.71875,20.1875,20.03125,19.796875,20.15625,19.890625,20.34375,19.921875],\"M_SDSS.r_unc\":[0.0189971923828125,0.0189971923828125,0.0189971923828125,0.0189971923828125,0.0189971923828125,0.0189971923828125,0.0189971923828125,0.0189971923828125,0.0189971923828125,0.0189971923828125],\"M_SDSS.u\":[24.84375,25.21875,24.71875,25.1875,25.03125,24.796875,25.15625,24.890625,25.34375,24.921875],\"M_SDSS.u_unc\":[1.388671875,1.388671875,1.388671875,1.388671875,1.388671875,1.388671875,1.388671875,1.388671875,1.388671875,1.388671875],\"M_SDSS.z\":[15.375,15.75,15.2578125,15.71875,15.5625,15.328125,15.6796875,15.421875,15.875,15.453125],\"M_SDSS.z_unc\":[0.005001068115234375,0.005001068115234375,0.005001068115234375,0.005001068115234375,0.005001068115234375,0.005001068115234375,0.005001068115234375,0.006000518798828125,0.005001068115234375,0.006000518798828125],\"Mbol\":[15.235,15.613,15.121,15.586,15.422,15.193,15.542,15.282,15.736,15.316],\"Mbol_unc\":[0.034,0.034,0.034,0.034,0.034,0.034,0.034,0.034,0.034,0.034],\"SDSS.g\":[22.53125,22.53125,22.53125,22.53125,22.53125,22.53125,22.53125,22.53125,22.53125,22.53125],\"SDSS.g_unc\":[0.136962890625,0.136962890625,0.136962890625,0.136962890625,0.136962890625,0.136962890625,0.136962890625,0.136962890625,0.136962890625,0.136962890625],\"SDSS.i\":[17.171875,17.171875,17.171875,17.171875,17.171875,17.171875,17.171875,17.171875,17.171875,17.171875],\"SDSS.i_unc\":[0.005001068115234375,0.005001068115234375,0.005001068115234375,0.005001068115234375,0.005001068115234375,0.005001068115234375,0.005001068115234375,0.005001068115234375,0.005001068115234375,0.005001068115234375],\"SDSS.r\":[19.6875,19.6875,19.6875,19.6875,19.6875,19.6875,19.6875,19.6875,19.6875,19.6875],\"SDSS.r_unc\":[0.0189971923828125,0.0189971923828125,0.0189971923828125,0.0189971923828125,0.0189971923828125,0.0189971923828125,0.0189971923828125,0.0189971923828125,0.0189971923828125,0.0189971923828125],\"SDSS.u\":[24.6875,24.6875,24.6875,24.6875,24.6875,24.6875,24.6875,24.6875,24.6875,24.6875],\"SDSS.u_unc\":[1.388671875,1.388671875,1.388671875,1.388671875,1.388671875,1.388671875,1.388671875,1.388671875,1.388671875,1.388671875],\"SDSS.z\":[15.21875,15.21875,15.21875,15.21875,15.21875,15.21875,15.21875,15.21875,15.21875,15.21875],\"SDSS.z_unc\":[0.005001068115234375,0.005001068115234375,0.005001068115234375,0.005001068115234375,0.005001068115234375,0.005001068115234375,0.005001068115234375,0.005001068115234375,0.005001068115234375,0.005001068115234375],\"SpT\":[\"L3.5V\",\"L3.5V\",\"L3.5V\",\"L3.5V\",\"L3.5V\",\"L3.5V\",\"L3.5V\",\"L3.5V\",\"L3.5V\",\"L3.5V\"],\"SpT_fit\":[\"NaN\",\"NaN\",\"NaN\",\"NaN\",\"NaN\",\"NaN\",\"NaN\",\"NaN\",\"NaN\",\"NaN\"],\"Teff\":[1631.0,1495.0,1675.0,1505.0,1563.0,1647.0,1520.0,1614.0,1454.0,1601.0],\"Teff_bb\":[\"NaN\",\"NaN\",\"NaN\",\"NaN\",\"NaN\",\"NaN\",\"NaN\",\"NaN\",\"NaN\",\"NaN\"],\"Teff_evo\":[1742.6425120772947,1613.5873590982287,1785.564292497626,1622.9887278582933,1678.5422705314008,1758.3048433048436,1637.5181159420288,1726.4037842190016,1573.468883205456,1715.2930756843803],\"Teff_evo_unc\":[39.18485580442166,54.345088566827144,39.255158421825854,53.44967793880778,46.927845906106995,39.38005698005736,51.819707667533294,43.031927412363984,49.476982097186465,44.356806639416845],\"Teff_unc\":[26.0,24.0,27.0,24.0,25.0,27.0,25.0,26.0,23.0,26.0],\"age\":[6.0,6.0,6.0,6.0,6.0,6.0,6.0,6.0,6.0,6.0],\"age_unc\":[4.0,4.0,4.0,4.0,4.0,4.0,4.0,4.0,4.0,4.0],\"distance\":[9.32,7.83,9.82,7.93,8.55,9.5,8.09,9.12,7.4,8.98],\"distance_unc\":[0.01,0.01,0.01,0.0,0.01,0.01,0.01,0.02,0.0,0.03],\"fbol\":[2.368954218310041e-11,2.368954218310041e-11,2.368954218310041e-11,2.368954218310041e-11,2.368954218310041e-11,2.368954218310041e-11,2.368954218310041e-11,2.368954218310041e-11,2.368954218310041e-11,2.368954218310041e-11],\"fbol_unc\":[7.309640169463857e-13,7.309640169463857e-13,7.309640169463857e-13,7.309640169463857e-13,7.309640169463857e-13,7.309640169463857e-13,7.309640169463857e-13,7.309640169463857e-13,7.309640169463857e-13,7.309640169463857e-13],\"logg\":[5.400057971014493,5.404434782608696,5.396955365622032,5.4041159420289855,5.402231884057971,5.399131054131054,5.403623188405798,5.400608695652174,5.405384484228475,5.400985507246378],\"logg_unc\":[0.04319675010979296,0.07039337474120089,0.03736061469394869,0.06870807453416106,0.056771460423636455,0.040484330484330755,0.06570791527313524,0.04647380156075798,0.08026826817683741,0.04889409141583201],\"mass\":[0.071943961352657,0.07050933977455717,0.07245669515669516,0.07061384863123994,0.07123140096618358,0.07213034188034188,0.07077536231884059,0.07176344605475041,0.07000545609548167,0.07163993558776167],\"mass_unc\":[0.004300380617771937,0.006135081665516434,0.003994392644392664,0.006009443294225869,0.005212089681654902,0.004186609686609721,0.005804285891242433,0.00455253313514184,0.006887662891243457,0.004712919608571786],\"mbol\":[15.082,15.082,15.082,15.082,15.082,15.082,15.082,15.082,15.082,15.082],\"mbol_unc\":[0.034,0.034,0.034,0.034,0.034,0.034,0.034,0.034,0.034,0.034],\"membership\":[\"NaN\",\"NaN\",\"NaN\",\"NaN\",\"NaN\",\"NaN\",\"NaN\",\"NaN\",\"NaN\",\"NaN\"],\"name\":[\"2MASS J00361617+1821104 0\",\"2MASS J00361617+1821104 1\",\"2MASS J00361617+1821104 2\",\"2MASS J00361617+1821104 3\",\"2MASS J00361617+1821104 4\",\"2MASS J00361617+1821104 5\",\"2MASS J00361617+1821104 6\",\"2MASS J00361617+1821104 7\",\"2MASS J00361617+1821104 8\",\"2MASS J00361617+1821104 9\"],\"parallax\":[107.34332062965338,127.69245945701087,101.88118259782007,126.04753735633585,116.9383203634533,105.27308359387688,123.54186206836438,109.6658637185524,135.18159227618196,111.31772156698146],\"parallax_unc\":[0.09581874623346878,0.09189424876944857,0.05816042114856801,0.018520874279711774,0.1279691904583493,0.11878543367139202,0.09829702661558004,0.2078931037228717,0.01800204522386431,0.33445996326716504],\"radius\":[0.10032806078572953,0.10032806078572953,0.10032806078572953,0.10032806078572953,0.10032806078572953,0.10032806078572953,0.10032806078572953,0.10032806078572953,0.10032806078572953,0.10032806078572953],\"radius_unc\":[0.002913190765115729,0.002913190765115729,0.002913190765115729,0.002913190765115729,0.002913190765115729,0.002913190765115729,0.002913190765115729,0.002913190765115729,0.002913190765115729,0.002913190765115729],\"reddening\":[0,0,0,0,0,0,0,0,0,0],\"spectral_type\":[73.5,73.5,73.5,73.5,73.5,73.5,73.5,73.5,73.5,73.5],\"spectral_type_unc\":[0.5,0.5,0.5,0.5,0.5,0.5,0.5,0.5,0.5,0.5]},\"selected\":{\"id\":\"6076\",\"type\":\"Selection\"},\"selection_policy\":{\"id\":\"6077\",\"type\":\"UnionRenderers\"}},\"id\":\"5844\",\"type\":\"ColumnDataSource\"},{\"attributes\":{},\"id\":\"6077\",\"type\":\"UnionRenderers\"},{\"attributes\":{},\"id\":\"6078\",\"type\":\"Selection\"},{\"attributes\":{\"data_source\":{\"id\":\"5844\",\"type\":\"ColumnDataSource\"},\"glyph\":{\"id\":\"5879\",\"type\":\"Circle\"},\"hover_glyph\":null,\"muted_glyph\":null,\"name\":\"points\",\"nonselection_glyph\":{\"id\":\"5880\",\"type\":\"Circle\"},\"selection_glyph\":null,\"view\":{\"id\":\"5882\",\"type\":\"CDSView\"}},\"id\":\"5881\",\"type\":\"GlyphRenderer\"},{\"attributes\":{\"line_alpha\":{\"value\":0.1},\"line_color\":{\"value\":\"#1f77b4\"},\"xs\":{\"field\":\"xs\"},\"ys\":{\"field\":\"ys\"}},\"id\":\"5885\",\"type\":\"MultiLine\"},{\"attributes\":{\"callback\":null,\"names\":[\"points\"],\"tooltips\":[[\"Name\",\"@name\"],[\"distance\",\"@distance\"],[\"Teff\",\"@Teff\"]]},\"id\":\"5846\",\"type\":\"HoverTool\"},{\"attributes\":{},\"id\":\"6076\",\"type\":\"Selection\"},{\"attributes\":{\"line_alpha\":{\"value\":0.1},\"line_color\":{\"value\":\"#1f77b4\"},\"xs\":{\"field\":\"xs\"},\"ys\":{\"field\":\"ys\"}},\"id\":\"5890\",\"type\":\"MultiLine\"},{\"attributes\":{},\"id\":\"6081\",\"type\":\"UnionRenderers\"},{\"attributes\":{},\"id\":\"6074\",\"type\":\"BasicTickFormatter\"},{\"attributes\":{\"axis_label\":\"Teff [K]\",\"formatter\":{\"id\":\"6072\",\"type\":\"BasicTickFormatter\"},\"ticker\":{\"id\":\"5864\",\"type\":\"BasicTicker\"}},\"id\":\"5863\",\"type\":\"LinearAxis\"},{\"attributes\":{},\"id\":\"5854\",\"type\":\"LinearScale\"},{\"attributes\":{\"source\":{\"id\":\"5888\",\"type\":\"ColumnDataSource\"}},\"id\":\"5892\",\"type\":\"CDSView\"},{\"attributes\":{\"callback\":null,\"data\":{\"xs\":[[9.32,9.32],[7.83,7.83],[9.82,9.82],[7.93,7.93],[8.55,8.55],[9.5,9.5],[8.09,8.09],[9.12,9.12],[7.4,7.4],[8.98,8.98]],\"ys\":[[1605.0,1657.0],[1471.0,1519.0],[1648.0,1702.0],[1481.0,1529.0],[1538.0,1588.0],[1620.0,1674.0],[1495.0,1545.0],[1588.0,1640.0],[1431.0,1477.0],[1575.0,1627.0]]},\"selected\":{\"id\":\"6078\",\"type\":\"Selection\"},\"selection_policy\":{\"id\":\"6079\",\"type\":\"UnionRenderers\"}},\"id\":\"5883\",\"type\":\"ColumnDataSource\"},{\"attributes\":{},\"id\":\"5869\",\"type\":\"ResetTool\"},{\"attributes\":{},\"id\":\"6072\",\"type\":\"BasicTickFormatter\"},{\"attributes\":{\"callback\":null},\"id\":\"5852\",\"type\":\"DataRange1d\"},{\"attributes\":{\"source\":{\"id\":\"5844\",\"type\":\"ColumnDataSource\"}},\"id\":\"5882\",\"type\":\"CDSView\"},{\"attributes\":{\"fill_alpha\":{\"value\":0.1},\"fill_color\":{\"value\":\"#1f77b4\"},\"line_alpha\":{\"value\":0.1},\"line_color\":{\"value\":\"#1f77b4\"},\"size\":{\"units\":\"screen\",\"value\":8},\"x\":{\"field\":\"distance\"},\"y\":{\"field\":\"Teff\"}},\"id\":\"5880\",\"type\":\"Circle\"}],\"root_ids\":[\"5847\"]},\"title\":\"Bokeh Application\",\"version\":\"1.3.4\"}};\n",
       "  var render_items = [{\"docid\":\"496b3ae7-211e-437b-ad6d-c208a850d28d\",\"roots\":{\"5847\":\"cb2a05e4-c7db-4d34-8703-08d85e8d0ac7\"}}];\n",
       "  root.Bokeh.embed.embed_items_notebook(docs_json, render_items);\n",
       "\n",
       "  }\n",
       "  if (root.Bokeh !== undefined) {\n",
       "    embed_document(root);\n",
       "  } else {\n",
       "    var attempts = 0;\n",
       "    var timer = setInterval(function(root) {\n",
       "      if (root.Bokeh !== undefined) {\n",
       "        embed_document(root);\n",
       "        clearInterval(timer);\n",
       "      }\n",
       "      attempts++;\n",
       "      if (attempts > 100) {\n",
       "        console.log(\"Bokeh: ERROR: Unable to run BokehJS code because BokehJS library is missing\");\n",
       "        clearInterval(timer);\n",
       "      }\n",
       "    }, 10, root)\n",
       "  }\n",
       "})(window);"
      ],
      "application/vnd.bokehjs_exec.v0+json": ""
     },
     "metadata": {
      "application/vnd.bokehjs_exec.v0+json": {
       "id": "5847"
      }
     },
     "output_type": "display_data"
    }
   ],
   "source": [
    "show(cat.plot('distance', 'Teff'))"
   ]
  },
  {
   "cell_type": "markdown",
   "metadata": {},
   "source": [
    "Or plot a CMD! You can also pass the difference of two magnitudes as a string like so."
   ]
  },
  {
   "cell_type": "code",
   "execution_count": 98,
   "metadata": {},
   "outputs": [
    {
     "data": {
      "text/html": [
       "\n",
       "\n",
       "\n",
       "\n",
       "\n",
       "\n",
       "  <div class=\"bk-root\" id=\"21329e1d-1cd9-48ab-884c-4c4b79514222\" data-root-id=\"6158\"></div>\n"
      ]
     },
     "metadata": {},
     "output_type": "display_data"
    },
    {
     "data": {
      "application/javascript": [
       "(function(root) {\n",
       "  function embed_document(root) {\n",
       "    \n",
       "  var docs_json = {\"01448bbc-b240-467a-bcc8-c3846e460fcd\":{\"roots\":{\"references\":[{\"attributes\":{},\"id\":\"6167\",\"type\":\"LinearScale\"},{\"attributes\":{\"overlay\":{\"id\":\"6405\",\"type\":\"BoxAnnotation\"}},\"id\":\"6181\",\"type\":\"BoxZoomTool\"},{\"attributes\":{\"below\":[{\"id\":\"6169\",\"type\":\"LinearAxis\"}],\"center\":[{\"id\":\"6173\",\"type\":\"Grid\"},{\"id\":\"6178\",\"type\":\"Grid\"}],\"left\":[{\"id\":\"6174\",\"type\":\"LinearAxis\"}],\"plot_height\":500,\"plot_width\":800,\"renderers\":[{\"id\":\"6192\",\"type\":\"GlyphRenderer\"},{\"id\":\"6197\",\"type\":\"GlyphRenderer\"},{\"id\":\"6202\",\"type\":\"GlyphRenderer\"}],\"title\":{\"id\":\"6159\",\"type\":\"Title\"},\"toolbar\":{\"id\":\"6183\",\"type\":\"Toolbar\"},\"x_range\":{\"id\":\"6161\",\"type\":\"DataRange1d\"},\"x_scale\":{\"id\":\"6165\",\"type\":\"LinearScale\"},\"y_range\":{\"id\":\"6163\",\"type\":\"DataRange1d\"},\"y_scale\":{\"id\":\"6167\",\"type\":\"LinearScale\"}},\"id\":\"6158\",\"subtype\":\"Figure\",\"type\":\"Plot\"},{\"attributes\":{},\"id\":\"6397\",\"type\":\"BasicTickFormatter\"},{\"attributes\":{\"line_alpha\":{\"value\":0.1},\"line_color\":{\"value\":\"#1f77b4\"},\"xs\":{\"field\":\"xs\"},\"ys\":{\"field\":\"ys\"}},\"id\":\"6196\",\"type\":\"MultiLine\"},{\"attributes\":{},\"id\":\"6399\",\"type\":\"Selection\"},{\"attributes\":{},\"id\":\"6182\",\"type\":\"SaveTool\"},{\"attributes\":{\"source\":{\"id\":\"6155\",\"type\":\"ColumnDataSource\"}},\"id\":\"6193\",\"type\":\"CDSView\"},{\"attributes\":{\"ticker\":{\"id\":\"6170\",\"type\":\"BasicTicker\"}},\"id\":\"6173\",\"type\":\"Grid\"},{\"attributes\":{},\"id\":\"6404\",\"type\":\"UnionRenderers\"},{\"attributes\":{\"callback\":null,\"data\":{\"xs\":[[1.3798828125,1.4482421875],[1.3798828125,1.4482421875],[1.3798828125,1.4482421875],[1.3798828125,1.4482421875],[1.3798828125,1.4482421875],[1.3798828125,1.4482421875],[1.3798828125,1.4482421875],[1.3798828125,1.4482421875],[1.3798828125,1.4482421875],[1.3798828125,1.4482421875]],\"ys\":[[12.625,12.625],[13.0,13.0],[12.5078125,12.5078125],[12.96875,12.96875],[12.8125,12.8125],[12.578125,12.578125],[12.9296875,12.9296875],[12.671875,12.671875],[13.125,13.125],[12.703125,12.703125]]},\"selected\":{\"id\":\"6403\",\"type\":\"Selection\"},\"selection_policy\":{\"id\":\"6404\",\"type\":\"UnionRenderers\"}},\"id\":\"6199\",\"type\":\"ColumnDataSource\"},{\"attributes\":{\"axis_label\":\"2MASS.J-2MASS.Ks\",\"formatter\":{\"id\":\"6397\",\"type\":\"BasicTickFormatter\"},\"ticker\":{\"id\":\"6170\",\"type\":\"BasicTicker\"}},\"id\":\"6169\",\"type\":\"LinearAxis\"},{\"attributes\":{\"line_color\":{\"value\":\"blue\"},\"xs\":{\"field\":\"xs\"},\"ys\":{\"field\":\"ys\"}},\"id\":\"6195\",\"type\":\"MultiLine\"},{\"attributes\":{},\"id\":\"6165\",\"type\":\"LinearScale\"},{\"attributes\":{\"line_color\":{\"value\":\"blue\"},\"xs\":{\"field\":\"xs\"},\"ys\":{\"field\":\"ys\"}},\"id\":\"6200\",\"type\":\"MultiLine\"},{\"attributes\":{},\"id\":\"6400\",\"type\":\"UnionRenderers\"},{\"attributes\":{},\"id\":\"6403\",\"type\":\"Selection\"},{\"attributes\":{\"data_source\":{\"id\":\"6194\",\"type\":\"ColumnDataSource\"},\"glyph\":{\"id\":\"6195\",\"type\":\"MultiLine\"},\"hover_glyph\":null,\"muted_glyph\":null,\"nonselection_glyph\":{\"id\":\"6196\",\"type\":\"MultiLine\"},\"selection_glyph\":null,\"view\":{\"id\":\"6198\",\"type\":\"CDSView\"}},\"id\":\"6197\",\"type\":\"GlyphRenderer\"},{\"attributes\":{},\"id\":\"6401\",\"type\":\"Selection\"},{\"attributes\":{\"bottom_units\":\"screen\",\"fill_alpha\":{\"value\":0.5},\"fill_color\":{\"value\":\"lightgrey\"},\"left_units\":\"screen\",\"level\":\"overlay\",\"line_alpha\":{\"value\":1.0},\"line_color\":{\"value\":\"black\"},\"line_dash\":[4,4],\"line_width\":{\"value\":2},\"render_mode\":\"css\",\"right_units\":\"screen\",\"top_units\":\"screen\"},\"id\":\"6405\",\"type\":\"BoxAnnotation\"},{\"attributes\":{\"data_source\":{\"id\":\"6155\",\"type\":\"ColumnDataSource\"},\"glyph\":{\"id\":\"6190\",\"type\":\"Circle\"},\"hover_glyph\":null,\"muted_glyph\":null,\"name\":\"points\",\"nonselection_glyph\":{\"id\":\"6191\",\"type\":\"Circle\"},\"selection_glyph\":null,\"view\":{\"id\":\"6193\",\"type\":\"CDSView\"}},\"id\":\"6192\",\"type\":\"GlyphRenderer\"},{\"attributes\":{},\"id\":\"6170\",\"type\":\"BasicTicker\"},{\"attributes\":{\"line_alpha\":{\"value\":0.1},\"line_color\":{\"value\":\"#1f77b4\"},\"xs\":{\"field\":\"xs\"},\"ys\":{\"field\":\"ys\"}},\"id\":\"6201\",\"type\":\"MultiLine\"},{\"attributes\":{\"fill_alpha\":{\"value\":0.1},\"fill_color\":{\"value\":\"#1f77b4\"},\"line_alpha\":{\"value\":0.1},\"line_color\":{\"value\":\"#1f77b4\"},\"size\":{\"units\":\"screen\",\"value\":8},\"x\":{\"field\":\"2MASS.J-2MASS.Ks\"},\"y\":{\"field\":\"M_2MASS.J\"}},\"id\":\"6191\",\"type\":\"Circle\"},{\"attributes\":{\"source\":{\"id\":\"6194\",\"type\":\"ColumnDataSource\"}},\"id\":\"6198\",\"type\":\"CDSView\"},{\"attributes\":{\"callback\":null,\"data\":{\"xs\":[[1.4140625,1.4140625],[1.4140625,1.4140625],[1.4140625,1.4140625],[1.4140625,1.4140625],[1.4140625,1.4140625],[1.4140625,1.4140625],[1.4140625,1.4140625],[1.4140625,1.4140625],[1.4140625,1.4140625],[1.4140625,1.4140625]],\"ys\":[[12.6015625,12.6484375],[12.9765625,13.0234375],[12.484375,12.53125],[12.9453125,12.9921875],[12.7890625,12.8359375],[12.5546875,12.6015625],[12.90625,12.953125],[12.6484375,12.6953125],[13.1015625,13.1484375],[12.6796875,12.7265625]]},\"selected\":{\"id\":\"6401\",\"type\":\"Selection\"},\"selection_policy\":{\"id\":\"6402\",\"type\":\"UnionRenderers\"}},\"id\":\"6194\",\"type\":\"ColumnDataSource\"},{\"attributes\":{},\"id\":\"6402\",\"type\":\"UnionRenderers\"},{\"attributes\":{\"callback\":null,\"names\":[\"points\"],\"tooltips\":[[\"Name\",\"@name\"],[\"2MASS.J-2MASS.Ks\",\"@2MASS_J_2MASS_Ks\"],[\"M_2MASS.J\",\"@M_2MASS_J\"]]},\"id\":\"6157\",\"type\":\"HoverTool\"},{\"attributes\":{},\"id\":\"6180\",\"type\":\"ResetTool\"},{\"attributes\":{\"text\":\"2MASS.J-2MASS.Ks v M_2MASS.J\"},\"id\":\"6159\",\"type\":\"Title\"},{\"attributes\":{\"source\":{\"id\":\"6199\",\"type\":\"ColumnDataSource\"}},\"id\":\"6203\",\"type\":\"CDSView\"},{\"attributes\":{},\"id\":\"6175\",\"type\":\"BasicTicker\"},{\"attributes\":{},\"id\":\"6179\",\"type\":\"PanTool\"},{\"attributes\":{\"callback\":null,\"data\":{\"2MASS.H\":[11.5859375,11.5859375,11.5859375,11.5859375,11.5859375,11.5859375,11.5859375,11.5859375,11.5859375,11.5859375],\"2MASS.H_unc\":[0.029998779296875,0.029998779296875,0.029998779296875,0.029998779296875,0.029998779296875,0.029998779296875,0.029998779296875,0.029998779296875,0.029998779296875,0.029998779296875],\"2MASS.J\":[12.46875,12.46875,12.46875,12.46875,12.46875,12.46875,12.46875,12.46875,12.46875,12.46875],\"2MASS.J-2MASS.Ks\":[1.4140625,1.4140625,1.4140625,1.4140625,1.4140625,1.4140625,1.4140625,1.4140625,1.4140625,1.4140625],\"2MASS.J-2MASS.Ks_unc\":[0.0341796875,0.0341796875,0.0341796875,0.0341796875,0.0341796875,0.0341796875,0.0341796875,0.0341796875,0.0341796875,0.0341796875],\"2MASS.J_unc\":[0.0269927978515625,0.0269927978515625,0.0269927978515625,0.0269927978515625,0.0269927978515625,0.0269927978515625,0.0269927978515625,0.0269927978515625,0.0269927978515625,0.0269927978515625],\"2MASS.Ks\":[11.0546875,11.0546875,11.0546875,11.0546875,11.0546875,11.0546875,11.0546875,11.0546875,11.0546875,11.0546875],\"2MASS.Ks_unc\":[0.02099609375,0.02099609375,0.02099609375,0.02099609375,0.02099609375,0.02099609375,0.02099609375,0.02099609375,0.02099609375,0.02099609375],\"2MASS_J_2MASS_Ks\":[1.4140625,1.4140625,1.4140625,1.4140625,1.4140625,1.4140625,1.4140625,1.4140625,1.4140625,1.4140625],\"Lbol\":[2.462064617591959e+29,1.7377654017559228e+29,2.733320746715205e+29,1.782436212570785e+29,2.072048190097398e+29,2.5580841853054292e+29,1.85508863787577e+29,2.3575303851774833e+29,1.552140609277843e+29,2.2857056170271908e+29],\"Lbol_sun\":[-4.192,-4.343,-4.146,-4.332,-4.267,-4.175,-4.315,-4.211,-4.392,-4.224],\"Lbol_sun_unc\":[0.013,0.013,0.013,0.013,0.013,0.013,0.013,0.014,0.013,0.014],\"Lbol_unc\":[7.61529133904295e+27,5.380385991758782e+27,8.452280876917256e+27,5.49988144059998e+27,6.411853308572519e+27,7.911569945792221e+27,5.742400300593334e+27,7.347511628634282e+27,4.7892818098980044e+27,7.216223056724804e+27],\"M_2MASS.H\":[11.734375,12.1171875,11.625,12.09375,11.921875,11.703125,12.046875,11.78125,12.234375,11.8203125],\"M_2MASS.H_unc\":[0.029998779296875,0.029998779296875,0.029998779296875,0.029998779296875,0.029998779296875,0.029998779296875,0.029998779296875,0.029998779296875,0.029998779296875,0.029998779296875],\"M_2MASS.J\":[12.625,13.0,12.5078125,12.96875,12.8125,12.578125,12.9296875,12.671875,13.125,12.703125],\"M_2MASS.J_unc\":[0.0269927978515625,0.0269927978515625,0.0269927978515625,0.0269927978515625,0.0269927978515625,0.0269927978515625,0.0269927978515625,0.0269927978515625,0.0269927978515625,0.0269927978515625],\"M_2MASS.Ks\":[11.203125,11.5859375,11.09375,11.5625,11.390625,11.171875,11.515625,11.25,11.703125,11.2890625],\"M_2MASS.Ks_unc\":[0.02099609375,0.02099609375,0.02099609375,0.02099609375,0.02099609375,0.02099609375,0.02099609375,0.02099609375,0.02099609375,0.02099609375],\"M_2MASS_J\":[12.625,13.0,12.5078125,12.96875,12.8125,12.578125,12.9296875,12.671875,13.125,12.703125],\"M_SDSS.g\":[22.6875,23.0625,22.5625,23.03125,22.875,22.640625,23.015625,22.734375,23.1875,22.765625],\"M_SDSS.g_unc\":[0.136962890625,0.136962890625,0.136962890625,0.136962890625,0.136962890625,0.136962890625,0.136962890625,0.136962890625,0.136962890625,0.136962890625],\"M_SDSS.i\":[17.328125,17.703125,17.21875,17.65625,17.515625,17.28125,17.625,17.375,17.828125,17.40625],\"M_SDSS.i_unc\":[0.005001068115234375,0.005001068115234375,0.005001068115234375,0.005001068115234375,0.005001068115234375,0.005001068115234375,0.005001068115234375,0.006000518798828125,0.005001068115234375,0.006000518798828125],\"M_SDSS.r\":[19.84375,20.21875,19.71875,20.1875,20.03125,19.796875,20.15625,19.890625,20.34375,19.921875],\"M_SDSS.r_unc\":[0.0189971923828125,0.0189971923828125,0.0189971923828125,0.0189971923828125,0.0189971923828125,0.0189971923828125,0.0189971923828125,0.0189971923828125,0.0189971923828125,0.0189971923828125],\"M_SDSS.u\":[24.84375,25.21875,24.71875,25.1875,25.03125,24.796875,25.15625,24.890625,25.34375,24.921875],\"M_SDSS.u_unc\":[1.388671875,1.388671875,1.388671875,1.388671875,1.388671875,1.388671875,1.388671875,1.388671875,1.388671875,1.388671875],\"M_SDSS.z\":[15.375,15.75,15.2578125,15.71875,15.5625,15.328125,15.6796875,15.421875,15.875,15.453125],\"M_SDSS.z_unc\":[0.005001068115234375,0.005001068115234375,0.005001068115234375,0.005001068115234375,0.005001068115234375,0.005001068115234375,0.005001068115234375,0.006000518798828125,0.005001068115234375,0.006000518798828125],\"Mbol\":[15.235,15.613,15.121,15.586,15.422,15.193,15.542,15.282,15.736,15.316],\"Mbol_unc\":[0.034,0.034,0.034,0.034,0.034,0.034,0.034,0.034,0.034,0.034],\"SDSS.g\":[22.53125,22.53125,22.53125,22.53125,22.53125,22.53125,22.53125,22.53125,22.53125,22.53125],\"SDSS.g_unc\":[0.136962890625,0.136962890625,0.136962890625,0.136962890625,0.136962890625,0.136962890625,0.136962890625,0.136962890625,0.136962890625,0.136962890625],\"SDSS.i\":[17.171875,17.171875,17.171875,17.171875,17.171875,17.171875,17.171875,17.171875,17.171875,17.171875],\"SDSS.i_unc\":[0.005001068115234375,0.005001068115234375,0.005001068115234375,0.005001068115234375,0.005001068115234375,0.005001068115234375,0.005001068115234375,0.005001068115234375,0.005001068115234375,0.005001068115234375],\"SDSS.r\":[19.6875,19.6875,19.6875,19.6875,19.6875,19.6875,19.6875,19.6875,19.6875,19.6875],\"SDSS.r_unc\":[0.0189971923828125,0.0189971923828125,0.0189971923828125,0.0189971923828125,0.0189971923828125,0.0189971923828125,0.0189971923828125,0.0189971923828125,0.0189971923828125,0.0189971923828125],\"SDSS.u\":[24.6875,24.6875,24.6875,24.6875,24.6875,24.6875,24.6875,24.6875,24.6875,24.6875],\"SDSS.u_unc\":[1.388671875,1.388671875,1.388671875,1.388671875,1.388671875,1.388671875,1.388671875,1.388671875,1.388671875,1.388671875],\"SDSS.z\":[15.21875,15.21875,15.21875,15.21875,15.21875,15.21875,15.21875,15.21875,15.21875,15.21875],\"SDSS.z_unc\":[0.005001068115234375,0.005001068115234375,0.005001068115234375,0.005001068115234375,0.005001068115234375,0.005001068115234375,0.005001068115234375,0.005001068115234375,0.005001068115234375,0.005001068115234375],\"SpT\":[\"L3.5V\",\"L3.5V\",\"L3.5V\",\"L3.5V\",\"L3.5V\",\"L3.5V\",\"L3.5V\",\"L3.5V\",\"L3.5V\",\"L3.5V\"],\"SpT_fit\":[\"NaN\",\"NaN\",\"NaN\",\"NaN\",\"NaN\",\"NaN\",\"NaN\",\"NaN\",\"NaN\",\"NaN\"],\"Teff\":[1631.0,1495.0,1675.0,1505.0,1563.0,1647.0,1520.0,1614.0,1454.0,1601.0],\"Teff_bb\":[\"NaN\",\"NaN\",\"NaN\",\"NaN\",\"NaN\",\"NaN\",\"NaN\",\"NaN\",\"NaN\",\"NaN\"],\"Teff_evo\":[1742.6425120772947,1613.5873590982287,1785.564292497626,1622.9887278582933,1678.5422705314008,1758.3048433048436,1637.5181159420288,1726.4037842190016,1573.468883205456,1715.2930756843803],\"Teff_evo_unc\":[39.18485580442166,54.345088566827144,39.255158421825854,53.44967793880778,46.927845906106995,39.38005698005736,51.819707667533294,43.031927412363984,49.476982097186465,44.356806639416845],\"Teff_unc\":[26.0,24.0,27.0,24.0,25.0,27.0,25.0,26.0,23.0,26.0],\"age\":[6.0,6.0,6.0,6.0,6.0,6.0,6.0,6.0,6.0,6.0],\"age_unc\":[4.0,4.0,4.0,4.0,4.0,4.0,4.0,4.0,4.0,4.0],\"distance\":[9.32,7.83,9.82,7.93,8.55,9.5,8.09,9.12,7.4,8.98],\"distance_unc\":[0.01,0.01,0.01,0.0,0.01,0.01,0.01,0.02,0.0,0.03],\"fbol\":[2.368954218310041e-11,2.368954218310041e-11,2.368954218310041e-11,2.368954218310041e-11,2.368954218310041e-11,2.368954218310041e-11,2.368954218310041e-11,2.368954218310041e-11,2.368954218310041e-11,2.368954218310041e-11],\"fbol_unc\":[7.309640169463857e-13,7.309640169463857e-13,7.309640169463857e-13,7.309640169463857e-13,7.309640169463857e-13,7.309640169463857e-13,7.309640169463857e-13,7.309640169463857e-13,7.309640169463857e-13,7.309640169463857e-13],\"logg\":[5.400057971014493,5.404434782608696,5.396955365622032,5.4041159420289855,5.402231884057971,5.399131054131054,5.403623188405798,5.400608695652174,5.405384484228475,5.400985507246378],\"logg_unc\":[0.04319675010979296,0.07039337474120089,0.03736061469394869,0.06870807453416106,0.056771460423636455,0.040484330484330755,0.06570791527313524,0.04647380156075798,0.08026826817683741,0.04889409141583201],\"mass\":[0.071943961352657,0.07050933977455717,0.07245669515669516,0.07061384863123994,0.07123140096618358,0.07213034188034188,0.07077536231884059,0.07176344605475041,0.07000545609548167,0.07163993558776167],\"mass_unc\":[0.004300380617771937,0.006135081665516434,0.003994392644392664,0.006009443294225869,0.005212089681654902,0.004186609686609721,0.005804285891242433,0.00455253313514184,0.006887662891243457,0.004712919608571786],\"mbol\":[15.082,15.082,15.082,15.082,15.082,15.082,15.082,15.082,15.082,15.082],\"mbol_unc\":[0.034,0.034,0.034,0.034,0.034,0.034,0.034,0.034,0.034,0.034],\"membership\":[\"NaN\",\"NaN\",\"NaN\",\"NaN\",\"NaN\",\"NaN\",\"NaN\",\"NaN\",\"NaN\",\"NaN\"],\"name\":[\"2MASS J00361617+1821104 0\",\"2MASS J00361617+1821104 1\",\"2MASS J00361617+1821104 2\",\"2MASS J00361617+1821104 3\",\"2MASS J00361617+1821104 4\",\"2MASS J00361617+1821104 5\",\"2MASS J00361617+1821104 6\",\"2MASS J00361617+1821104 7\",\"2MASS J00361617+1821104 8\",\"2MASS J00361617+1821104 9\"],\"parallax\":[107.34332062965338,127.69245945701087,101.88118259782007,126.04753735633585,116.9383203634533,105.27308359387688,123.54186206836438,109.6658637185524,135.18159227618196,111.31772156698146],\"parallax_unc\":[0.09581874623346878,0.09189424876944857,0.05816042114856801,0.018520874279711774,0.1279691904583493,0.11878543367139202,0.09829702661558004,0.2078931037228717,0.01800204522386431,0.33445996326716504],\"radius\":[0.10032806078572953,0.10032806078572953,0.10032806078572953,0.10032806078572953,0.10032806078572953,0.10032806078572953,0.10032806078572953,0.10032806078572953,0.10032806078572953,0.10032806078572953],\"radius_unc\":[0.002913190765115729,0.002913190765115729,0.002913190765115729,0.002913190765115729,0.002913190765115729,0.002913190765115729,0.002913190765115729,0.002913190765115729,0.002913190765115729,0.002913190765115729],\"reddening\":[0,0,0,0,0,0,0,0,0,0],\"spectral_type\":[73.5,73.5,73.5,73.5,73.5,73.5,73.5,73.5,73.5,73.5],\"spectral_type_unc\":[0.5,0.5,0.5,0.5,0.5,0.5,0.5,0.5,0.5,0.5]},\"selected\":{\"id\":\"6399\",\"type\":\"Selection\"},\"selection_policy\":{\"id\":\"6400\",\"type\":\"UnionRenderers\"}},\"id\":\"6155\",\"type\":\"ColumnDataSource\"},{\"attributes\":{\"axis_label\":\"M_2MASS.J\",\"formatter\":{\"id\":\"6395\",\"type\":\"BasicTickFormatter\"},\"ticker\":{\"id\":\"6175\",\"type\":\"BasicTicker\"}},\"id\":\"6174\",\"type\":\"LinearAxis\"},{\"attributes\":{\"fill_alpha\":{\"value\":0.7},\"fill_color\":{\"value\":\"blue\"},\"line_color\":{\"value\":\"blue\"},\"size\":{\"units\":\"screen\",\"value\":8},\"x\":{\"field\":\"2MASS.J-2MASS.Ks\"},\"y\":{\"field\":\"M_2MASS.J\"}},\"id\":\"6190\",\"type\":\"Circle\"},{\"attributes\":{\"active_drag\":\"auto\",\"active_inspect\":\"auto\",\"active_multi\":null,\"active_scroll\":\"auto\",\"active_tap\":\"auto\",\"tools\":[{\"id\":\"6157\",\"type\":\"HoverTool\"},{\"id\":\"6179\",\"type\":\"PanTool\"},{\"id\":\"6180\",\"type\":\"ResetTool\"},{\"id\":\"6181\",\"type\":\"BoxZoomTool\"},{\"id\":\"6182\",\"type\":\"SaveTool\"}]},\"id\":\"6183\",\"type\":\"Toolbar\"},{\"attributes\":{\"callback\":null},\"id\":\"6161\",\"type\":\"DataRange1d\"},{\"attributes\":{\"data_source\":{\"id\":\"6199\",\"type\":\"ColumnDataSource\"},\"glyph\":{\"id\":\"6200\",\"type\":\"MultiLine\"},\"hover_glyph\":null,\"muted_glyph\":null,\"nonselection_glyph\":{\"id\":\"6201\",\"type\":\"MultiLine\"},\"selection_glyph\":null,\"view\":{\"id\":\"6203\",\"type\":\"CDSView\"}},\"id\":\"6202\",\"type\":\"GlyphRenderer\"},{\"attributes\":{},\"id\":\"6395\",\"type\":\"BasicTickFormatter\"},{\"attributes\":{\"callback\":null},\"id\":\"6163\",\"type\":\"DataRange1d\"},{\"attributes\":{\"dimension\":1,\"ticker\":{\"id\":\"6175\",\"type\":\"BasicTicker\"}},\"id\":\"6178\",\"type\":\"Grid\"}],\"root_ids\":[\"6158\"]},\"title\":\"Bokeh Application\",\"version\":\"1.3.4\"}};\n",
       "  var render_items = [{\"docid\":\"01448bbc-b240-467a-bcc8-c3846e460fcd\",\"roots\":{\"6158\":\"21329e1d-1cd9-48ab-884c-4c4b79514222\"}}];\n",
       "  root.Bokeh.embed.embed_items_notebook(docs_json, render_items);\n",
       "\n",
       "  }\n",
       "  if (root.Bokeh !== undefined) {\n",
       "    embed_document(root);\n",
       "  } else {\n",
       "    var attempts = 0;\n",
       "    var timer = setInterval(function(root) {\n",
       "      if (root.Bokeh !== undefined) {\n",
       "        embed_document(root);\n",
       "        clearInterval(timer);\n",
       "      }\n",
       "      attempts++;\n",
       "      if (attempts > 100) {\n",
       "        console.log(\"Bokeh: ERROR: Unable to run BokehJS code because BokehJS library is missing\");\n",
       "        clearInterval(timer);\n",
       "      }\n",
       "    }, 10, root)\n",
       "  }\n",
       "})(window);"
      ],
      "application/vnd.bokehjs_exec.v0+json": ""
     },
     "metadata": {
      "application/vnd.bokehjs_exec.v0+json": {
       "id": "6158"
      }
     },
     "output_type": "display_data"
    }
   ],
   "source": [
    "show(cat.plot('2MASS.J-2MASS.Ks', 'M_2MASS.J'))"
   ]
  },
  {
   "cell_type": "markdown",
   "metadata": {},
   "source": [
    "We can then retrieve the SED for some sources like so:"
   ]
  },
  {
   "cell_type": "code",
   "execution_count": 99,
   "metadata": {},
   "outputs": [
    {
     "data": {
      "text/html": [
       "\n",
       "\n",
       "\n",
       "\n",
       "\n",
       "\n",
       "  <div class=\"bk-root\" id=\"559b7e77-786b-4617-a85c-27d1a9d3e77e\" data-root-id=\"6478\"></div>\n"
      ]
     },
     "metadata": {},
     "output_type": "display_data"
    },
    {
     "data": {
      "application/javascript": [
       "(function(root) {\n",
       "  function embed_document(root) {\n",
       "    \n",
       "  var docs_json = {\"78770795-69cf-4c1c-9fd3-099baf90d306\":{\"roots\":{\"references\":[{\"attributes\":{},\"id\":\"6768\",\"type\":\"UnionRenderers\"},{\"attributes\":{\"line_color\":{\"value\":\"#1f77b4\"},\"xs\":{\"field\":\"xs\"},\"ys\":{\"field\":\"ys\"}},\"id\":\"6525\",\"type\":\"MultiLine\"},{\"attributes\":{\"callback\":null,\"end\":21.599999999999998,\"start\":0.24},\"id\":\"6554\",\"type\":\"Range1d\"},{\"attributes\":{\"source\":{\"id\":\"6510\",\"type\":\"ColumnDataSource\"}},\"id\":\"6515\",\"type\":\"CDSView\"},{\"attributes\":{\"active_drag\":\"auto\",\"active_inspect\":\"auto\",\"active_multi\":null,\"active_scroll\":\"auto\",\"active_tap\":\"auto\",\"tools\":[{\"id\":\"6499\",\"type\":\"PanTool\"},{\"id\":\"6500\",\"type\":\"ResetTool\"},{\"id\":\"6501\",\"type\":\"BoxZoomTool\"},{\"id\":\"6502\",\"type\":\"SaveTool\"},{\"id\":\"6508\",\"type\":\"HoverTool\"},{\"id\":\"6531\",\"type\":\"HoverTool\"}]},\"id\":\"6503\",\"type\":\"Toolbar\"},{\"attributes\":{\"num_minor_ticks\":10},\"id\":\"6490\",\"type\":\"LogTicker\"},{\"attributes\":{},\"id\":\"6545\",\"type\":\"UnionRenderers\"},{\"attributes\":{},\"id\":\"6487\",\"type\":\"LogScale\"},{\"attributes\":{\"callback\":null,\"end\":4.069163127058511e-15,\"start\":1.530783417792417e-19},\"id\":\"6555\",\"type\":\"Range1d\"},{\"attributes\":{\"axis_label\":\"Wavelength [um]\",\"formatter\":{\"id\":\"6519\",\"type\":\"LogTickFormatter\"},\"ticker\":{\"id\":\"6490\",\"type\":\"LogTicker\"}},\"id\":\"6489\",\"type\":\"LogAxis\"},{\"attributes\":{\"bottom_units\":\"screen\",\"fill_alpha\":{\"value\":0.5},\"fill_color\":{\"value\":\"lightgrey\"},\"left_units\":\"screen\",\"level\":\"overlay\",\"line_alpha\":{\"value\":1.0},\"line_color\":{\"value\":\"black\"},\"line_dash\":[4,4],\"line_width\":{\"value\":2},\"render_mode\":\"css\",\"right_units\":\"screen\",\"top_units\":\"screen\"},\"id\":\"6521\",\"type\":\"BoxAnnotation\"},{\"attributes\":{\"callback\":null,\"data\":{\"xs\":[[0.35949,0.35949],[0.46404,0.46404],[0.61223,0.61223],[0.74395,0.74395],[0.88971,0.88971],[1.235,1.235],[1.662,1.662],[2.159,2.159]],\"ys\":[[-1.1723838808418385e-19,9.576145803553109e-19],[4.0597093740612115e-18,5.231811334953447e-18],[2.8693560509266645e-17,2.9715548236008987e-17],[1.6435617256215987e-16,1.6587727868015994e-16],[5.990613119443745e-16,6.046055869931932e-16],[2.722961517624825e-15,2.8618060182344368e-15],[2.1874604928627306e-15,2.3117738741324196e-15],[1.388610051568647e-15,1.4433753159247018e-15]]},\"selected\":{\"id\":\"6546\",\"type\":\"Selection\"},\"selection_policy\":{\"id\":\"6547\",\"type\":\"UnionRenderers\"}},\"id\":\"6524\",\"type\":\"ColumnDataSource\"},{\"attributes\":{\"label\":{\"value\":\"Photometry\"},\"renderers\":[{\"id\":\"6514\",\"type\":\"GlyphRenderer\"},{\"id\":\"6537\",\"type\":\"GlyphRenderer\"}]},\"id\":\"6523\",\"type\":\"LegendItem\"},{\"attributes\":{\"dimension\":1,\"ticker\":{\"id\":\"6495\",\"type\":\"LogTicker\"}},\"id\":\"6498\",\"type\":\"Grid\"},{\"attributes\":{\"overlay\":{\"id\":\"6521\",\"type\":\"BoxAnnotation\"}},\"id\":\"6501\",\"type\":\"BoxZoomTool\"},{\"attributes\":{},\"id\":\"6485\",\"type\":\"LogScale\"},{\"attributes\":{\"fill_alpha\":{\"value\":0.1},\"fill_color\":{\"value\":\"#1f77b4\"},\"line_alpha\":{\"value\":0.1},\"line_color\":{\"value\":\"#1f77b4\"},\"size\":{\"units\":\"screen\",\"value\":8},\"x\":{\"field\":\"x\"},\"y\":{\"field\":\"y\"}},\"id\":\"6536\",\"type\":\"Circle\"},{\"attributes\":{\"click_policy\":\"hide\",\"items\":[{\"id\":\"6523\",\"type\":\"LegendItem\"}]},\"id\":\"6522\",\"type\":\"Legend\"},{\"attributes\":{\"ticker\":{\"id\":\"6490\",\"type\":\"LogTicker\"}},\"id\":\"6493\",\"type\":\"Grid\"},{\"attributes\":{\"data_source\":{\"id\":\"6549\",\"type\":\"ColumnDataSource\"},\"glyph\":{\"id\":\"6550\",\"type\":\"MultiLine\"},\"hover_glyph\":null,\"muted_glyph\":null,\"nonselection_glyph\":{\"id\":\"6551\",\"type\":\"MultiLine\"},\"selection_glyph\":null,\"view\":{\"id\":\"6553\",\"type\":\"CDSView\"}},\"id\":\"6552\",\"type\":\"GlyphRenderer\"},{\"attributes\":{\"data_source\":{\"id\":\"6533\",\"type\":\"ColumnDataSource\"},\"glyph\":{\"id\":\"6535\",\"type\":\"Circle\"},\"hover_glyph\":null,\"muted_glyph\":null,\"name\":\"photometry\",\"nonselection_glyph\":{\"id\":\"6536\",\"type\":\"Circle\"},\"selection_glyph\":null,\"view\":{\"id\":\"6538\",\"type\":\"CDSView\"}},\"id\":\"6537\",\"type\":\"GlyphRenderer\"},{\"attributes\":{\"source\":{\"id\":\"6549\",\"type\":\"ColumnDataSource\"}},\"id\":\"6553\",\"type\":\"CDSView\"},{\"attributes\":{},\"id\":\"6547\",\"type\":\"UnionRenderers\"},{\"attributes\":{},\"id\":\"6500\",\"type\":\"ResetTool\"},{\"attributes\":{\"line_alpha\":{\"value\":0.1},\"line_color\":{\"value\":\"#1f77b4\"},\"xs\":{\"field\":\"xs\"},\"ys\":{\"field\":\"ys\"}},\"id\":\"6551\",\"type\":\"MultiLine\"},{\"attributes\":{},\"id\":\"6546\",\"type\":\"Selection\"},{\"attributes\":{},\"id\":\"6499\",\"type\":\"PanTool\"},{\"attributes\":{\"num_minor_ticks\":10},\"id\":\"6495\",\"type\":\"LogTicker\"},{\"attributes\":{\"fill_alpha\":{\"value\":0.1},\"fill_color\":{\"value\":\"#1f77b4\"},\"line_alpha\":{\"value\":0.1},\"line_color\":{\"value\":\"#1f77b4\"},\"size\":{\"units\":\"screen\",\"value\":8},\"x\":{\"field\":\"x\"},\"y\":{\"field\":\"y\"}},\"id\":\"6513\",\"type\":\"Circle\"},{\"attributes\":{\"data_source\":{\"id\":\"6510\",\"type\":\"ColumnDataSource\"},\"glyph\":{\"id\":\"6512\",\"type\":\"Circle\"},\"hover_glyph\":null,\"muted_glyph\":null,\"name\":\"photometry\",\"nonselection_glyph\":{\"id\":\"6513\",\"type\":\"Circle\"},\"selection_glyph\":null,\"view\":{\"id\":\"6515\",\"type\":\"CDSView\"}},\"id\":\"6514\",\"type\":\"GlyphRenderer\"},{\"attributes\":{\"callback\":null,\"data\":{\"desc\":[\"SDSS.u\",\"SDSS.g\",\"SDSS.r\",\"SDSS.i\",\"SDSS.z\",\"2MASS.J\",\"2MASS.H\",\"2MASS.Ks\"],\"x\":{\"__ndarray__\":\"bkxPWOIB1z80SwLU1LLdP54pdF5jl+M/kX77OnDO5z+4kh0bgXjsP8P1KFyPwvM/ZDvfT42X+j8Sg8DKoUUBQA==\",\"dtype\":\"float64\",\"shape\":[8]},\"y\":{\"__ndarray__\":\"6zLf4CKXFjw4zVMkkjhPPNwCc3JxiHg8ZpD3X+KWoTxEPq3DBZm/PLxlCPlsU+I8IA2joxAb3TzzGUIw+lHSPA==\",\"dtype\":\"float64\",\"shape\":[8]},\"z\":{\"__ndarray__\":\"vXoMbLbkHDz16gMQ8YEfPOLwXTjqeBs8HmHFv7C9JDyy6AowMKFCPBIDZcShKI08Xkm5tei7iTzs7R5IgKx2PA==\",\"dtype\":\"float64\",\"shape\":[8]}},\"selected\":{\"id\":\"6767\",\"type\":\"Selection\"},\"selection_policy\":{\"id\":\"6768\",\"type\":\"UnionRenderers\"}},\"id\":\"6533\",\"type\":\"ColumnDataSource\"},{\"attributes\":{\"fill_alpha\":{\"value\":0.7},\"fill_color\":{\"value\":\"#1f77b4\"},\"line_color\":{\"value\":\"#1f77b4\"},\"size\":{\"units\":\"screen\",\"value\":8},\"x\":{\"field\":\"x\"},\"y\":{\"field\":\"y\"}},\"id\":\"6512\",\"type\":\"Circle\"},{\"attributes\":{\"line_alpha\":{\"value\":0.1},\"line_color\":{\"value\":\"#1f77b4\"},\"xs\":{\"field\":\"xs\"},\"ys\":{\"field\":\"ys\"}},\"id\":\"6526\",\"type\":\"MultiLine\"},{\"attributes\":{\"source\":{\"id\":\"6524\",\"type\":\"ColumnDataSource\"}},\"id\":\"6528\",\"type\":\"CDSView\"},{\"attributes\":{},\"id\":\"6767\",\"type\":\"Selection\"},{\"attributes\":{\"axis_label\":\"Flux Density [erg / (Angstrom cm2 s)]\",\"formatter\":{\"id\":\"6517\",\"type\":\"LogTickFormatter\"},\"ticker\":{\"id\":\"6495\",\"type\":\"LogTicker\"}},\"id\":\"6494\",\"type\":\"LogAxis\"},{\"attributes\":{\"callback\":null,\"data\":{\"xs\":[[0.35949,0.35949],[0.46404,0.46404],[0.61223,0.61223],[0.74395,0.74395],[0.88971,0.88971],[1.235,1.235],[1.662,1.662],[2.159,2.159]],\"ys\":[[-8.54220203087715e-20,6.977353874257383e-19],[2.957978033182711e-18,3.811992824271384e-18],[2.090664967854674e-17,2.165128851038067e-17],[1.2148873754370554e-16,1.2261310822638218e-16],[4.3648695953041006e-16,4.405266190954796e-16],[1.9839992502415674e-15,2.0851638768169433e-15],[1.5710507634270242e-15,1.6603335793613807e-15],[9.97310300568828e-16,1.0366431299646467e-15]]},\"selected\":{\"id\":\"6769\",\"type\":\"Selection\"},\"selection_policy\":{\"id\":\"6770\",\"type\":\"UnionRenderers\"}},\"id\":\"6549\",\"type\":\"ColumnDataSource\"},{\"attributes\":{\"ticker\":null},\"id\":\"6517\",\"type\":\"LogTickFormatter\"},{\"attributes\":{\"ticker\":null},\"id\":\"6519\",\"type\":\"LogTickFormatter\"},{\"attributes\":{},\"id\":\"6770\",\"type\":\"UnionRenderers\"},{\"attributes\":{\"callback\":null,\"mode\":\"vline\",\"names\":[\"photometry\",\"nondetection\"],\"tooltips\":[[\"Band\",\"@desc\"],[\"Wave\",\"@x\"],[\"Flux\",\"@y\"],[\"Unc\",\"@z\"]]},\"id\":\"6508\",\"type\":\"HoverTool\"},{\"attributes\":{\"text\":\"SED Catalog\"},\"id\":\"6479\",\"type\":\"Title\"},{\"attributes\":{\"callback\":null,\"data\":{\"desc\":[\"SDSS.u\",\"SDSS.g\",\"SDSS.r\",\"SDSS.i\",\"SDSS.z\",\"2MASS.J\",\"2MASS.H\",\"2MASS.Ks\"],\"x\":{\"__ndarray__\":\"bkxPWOIB1z80SwLU1LLdP54pdF5jl+M/kX77OnDO5z+4kh0bgXjsP8P1KFyPwvM/ZDvfT42X+j8Sg8DKoUUBQA==\",\"dtype\":\"float64\",\"shape\":[8]},\"y\":{\"__ndarray__\":\"Q8A89CABHzzpTjzpvmxVPCXApt7U1YA85xC1YbvLpzyN1BUO767FPFNVanDMJuk8cCAsmUND5Dy1EvEYHYLZPA==\",\"dtype\":\"float64\",\"shape\":[8]},\"z\":{\"__ndarray__\":\"t3Z+gdnTIzyh2+BSGJ8lPP3spVkz2iI8AFredTgPLDwl5ntQhpFJPGucZTt1ApQ8RlmusFrqkTw90cgw7ZF/PA==\",\"dtype\":\"float64\",\"shape\":[8]}},\"selected\":{\"id\":\"6544\",\"type\":\"Selection\"},\"selection_policy\":{\"id\":\"6545\",\"type\":\"UnionRenderers\"}},\"id\":\"6510\",\"type\":\"ColumnDataSource\"},{\"attributes\":{\"line_color\":{\"value\":\"#ff7f0e\"},\"xs\":{\"field\":\"xs\"},\"ys\":{\"field\":\"ys\"}},\"id\":\"6550\",\"type\":\"MultiLine\"},{\"attributes\":{},\"id\":\"6769\",\"type\":\"Selection\"},{\"attributes\":{\"fill_alpha\":{\"value\":0.7},\"fill_color\":{\"value\":\"#ff7f0e\"},\"line_color\":{\"value\":\"#ff7f0e\"},\"size\":{\"units\":\"screen\",\"value\":8},\"x\":{\"field\":\"x\"},\"y\":{\"field\":\"y\"}},\"id\":\"6535\",\"type\":\"Circle\"},{\"attributes\":{\"below\":[{\"id\":\"6489\",\"type\":\"LogAxis\"}],\"center\":[{\"id\":\"6493\",\"type\":\"Grid\"},{\"id\":\"6498\",\"type\":\"Grid\"},{\"id\":\"6522\",\"type\":\"Legend\"}],\"left\":[{\"id\":\"6494\",\"type\":\"LogAxis\"}],\"plot_height\":500,\"plot_width\":800,\"renderers\":[{\"id\":\"6514\",\"type\":\"GlyphRenderer\"},{\"id\":\"6527\",\"type\":\"GlyphRenderer\"},{\"id\":\"6537\",\"type\":\"GlyphRenderer\"},{\"id\":\"6552\",\"type\":\"GlyphRenderer\"}],\"title\":{\"id\":\"6479\",\"type\":\"Title\"},\"toolbar\":{\"id\":\"6503\",\"type\":\"Toolbar\"},\"x_range\":{\"id\":\"6554\",\"type\":\"Range1d\"},\"x_scale\":{\"id\":\"6485\",\"type\":\"LogScale\"},\"y_range\":{\"id\":\"6555\",\"type\":\"Range1d\"},\"y_scale\":{\"id\":\"6487\",\"type\":\"LogScale\"}},\"id\":\"6478\",\"subtype\":\"Figure\",\"type\":\"Plot\"},{\"attributes\":{},\"id\":\"6502\",\"type\":\"SaveTool\"},{\"attributes\":{\"callback\":null,\"mode\":\"vline\",\"names\":[\"photometry\",\"nondetection\"],\"tooltips\":[[\"Band\",\"@desc\"],[\"Wave\",\"@x\"],[\"Flux\",\"@y\"],[\"Unc\",\"@z\"]]},\"id\":\"6531\",\"type\":\"HoverTool\"},{\"attributes\":{},\"id\":\"6544\",\"type\":\"Selection\"},{\"attributes\":{\"source\":{\"id\":\"6533\",\"type\":\"ColumnDataSource\"}},\"id\":\"6538\",\"type\":\"CDSView\"},{\"attributes\":{\"data_source\":{\"id\":\"6524\",\"type\":\"ColumnDataSource\"},\"glyph\":{\"id\":\"6525\",\"type\":\"MultiLine\"},\"hover_glyph\":null,\"muted_glyph\":null,\"nonselection_glyph\":{\"id\":\"6526\",\"type\":\"MultiLine\"},\"selection_glyph\":null,\"view\":{\"id\":\"6528\",\"type\":\"CDSView\"}},\"id\":\"6527\",\"type\":\"GlyphRenderer\"}],\"root_ids\":[\"6478\"]},\"title\":\"Bokeh Application\",\"version\":\"1.3.4\"}};\n",
       "  var render_items = [{\"docid\":\"78770795-69cf-4c1c-9fd3-099baf90d306\",\"roots\":{\"6478\":\"559b7e77-786b-4617-a85c-27d1a9d3e77e\"}}];\n",
       "  root.Bokeh.embed.embed_items_notebook(docs_json, render_items);\n",
       "\n",
       "  }\n",
       "  if (root.Bokeh !== undefined) {\n",
       "    embed_document(root);\n",
       "  } else {\n",
       "    var attempts = 0;\n",
       "    var timer = setInterval(function(root) {\n",
       "      if (root.Bokeh !== undefined) {\n",
       "        embed_document(root);\n",
       "        clearInterval(timer);\n",
       "      }\n",
       "      attempts++;\n",
       "      if (attempts > 100) {\n",
       "        console.log(\"Bokeh: ERROR: Unable to run BokehJS code because BokehJS library is missing\");\n",
       "        clearInterval(timer);\n",
       "      }\n",
       "    }, 10, root)\n",
       "  }\n",
       "})(window);"
      ],
      "application/vnd.bokehjs_exec.v0+json": ""
     },
     "metadata": {
      "application/vnd.bokehjs_exec.v0+json": {
       "id": "6478"
      }
     },
     "output_type": "display_data"
    }
   ],
   "source": [
    "show(cat.plot_SEDs(['2MASS J00361617+1821104 0', '2MASS J00361617+1821104 3'], app=False))"
   ]
  },
  {
   "cell_type": "markdown",
   "metadata": {},
   "source": [
    "The catalog can also be filtered by providing a column name and value..."
   ]
  },
  {
   "cell_type": "code",
   "execution_count": 100,
   "metadata": {},
   "outputs": [
    {
     "data": {
      "text/html": [
       "<i>Table length=1</i>\n",
       "<table id=\"table5106944432\" class=\"table-striped table-bordered table-condensed\">\n",
       "<thead><tr><th>name</th><th>age</th><th>age_unc</th><th>distance</th><th>distance_unc</th><th>parallax</th><th>parallax_unc</th><th>radius</th><th>radius_unc</th><th>spectral_type</th><th>spectral_type_unc</th><th>SpT</th><th>SpT_fit</th><th>membership</th><th>reddening</th><th>fbol</th><th>fbol_unc</th><th>mbol</th><th>mbol_unc</th><th>Lbol</th><th>Lbol_unc</th><th>Lbol_sun</th><th>Lbol_sun_unc</th><th>Mbol</th><th>Mbol_unc</th><th>logg</th><th>logg_unc</th><th>mass</th><th>mass_unc</th><th>Teff</th><th>Teff_unc</th><th>Teff_evo</th><th>Teff_evo_unc</th><th>Teff_bb</th><th>SED</th><th>SDSS.u</th><th>SDSS.u_unc</th><th>M_SDSS.u</th><th>M_SDSS.u_unc</th><th>SDSS.g</th><th>SDSS.g_unc</th><th>M_SDSS.g</th><th>M_SDSS.g_unc</th><th>SDSS.r</th><th>SDSS.r_unc</th><th>M_SDSS.r</th><th>M_SDSS.r_unc</th><th>SDSS.i</th><th>SDSS.i_unc</th><th>M_SDSS.i</th><th>M_SDSS.i_unc</th><th>SDSS.z</th><th>SDSS.z_unc</th><th>M_SDSS.z</th><th>M_SDSS.z_unc</th><th>2MASS.J</th><th>2MASS.J_unc</th><th>M_2MASS.J</th><th>M_2MASS.J_unc</th><th>2MASS.H</th><th>2MASS.H_unc</th><th>M_2MASS.H</th><th>M_2MASS.H_unc</th><th>2MASS.Ks</th><th>2MASS.Ks_unc</th><th>M_2MASS.Ks</th><th>M_2MASS.Ks_unc</th></tr></thead>\n",
       "<thead><tr><th></th><th>Gyr</th><th>Gyr</th><th>pc</th><th>pc</th><th>mas</th><th>mas</th><th>solRad</th><th>solRad</th><th></th><th></th><th></th><th></th><th></th><th></th><th>erg / (cm2 s)</th><th>erg / (cm2 s)</th><th></th><th></th><th>erg / s</th><th>erg / s</th><th></th><th></th><th></th><th></th><th></th><th></th><th>solMass</th><th>solMass</th><th>K</th><th>K</th><th>K</th><th>K</th><th>K</th><th></th><th></th><th></th><th></th><th></th><th></th><th></th><th></th><th></th><th></th><th></th><th></th><th></th><th></th><th></th><th></th><th></th><th></th><th></th><th></th><th></th><th></th><th></th><th></th><th></th><th></th><th></th><th></th><th></th><th></th><th></th><th></th><th></th></tr></thead>\n",
       "<thead><tr><th>object</th><th>object</th><th>object</th><th>object</th><th>object</th><th>object</th><th>object</th><th>object</th><th>object</th><th>object</th><th>object</th><th>object</th><th>object</th><th>object</th><th>object</th><th>object</th><th>object</th><th>object</th><th>object</th><th>object</th><th>object</th><th>object</th><th>object</th><th>object</th><th>object</th><th>object</th><th>object</th><th>object</th><th>object</th><th>object</th><th>object</th><th>object</th><th>object</th><th>object</th><th>object</th><th>float16</th><th>float16</th><th>float16</th><th>float16</th><th>float16</th><th>float16</th><th>float16</th><th>float16</th><th>float16</th><th>float16</th><th>float16</th><th>float16</th><th>float16</th><th>float16</th><th>float16</th><th>float16</th><th>float16</th><th>float16</th><th>float16</th><th>float16</th><th>float16</th><th>float16</th><th>float16</th><th>float16</th><th>float16</th><th>float16</th><th>float16</th><th>float16</th><th>float16</th><th>float16</th><th>float16</th><th>float16</th></tr></thead>\n",
       "<tr><td>2MASS J00361617+1821104 3</td><td>6.0</td><td>4.0</td><td>7.93</td><td>0.0</td><td>126.04753735633585</td><td>0.018520874279711774</td><td>0.10032806078572953</td><td>0.002913190765115729</td><td>73.5</td><td>0.5</td><td>L3.5V</td><td>None</td><td>None</td><td>0</td><td>2.368954218310041e-11</td><td>7.309640169463857e-13</td><td>15.082</td><td>0.034</td><td>1.782436212570785e+29</td><td>5.49988144059998e+27</td><td>-4.332</td><td>0.013</td><td>15.586</td><td>0.034</td><td>5.4041159420289855</td><td>0.06870807453416106</td><td>0.07061384863123994</td><td>0.006009443294225869</td><td>1505.0</td><td>24.0</td><td>1622.9887278582933</td><td>53.44967793880778</td><td>None</td><td>&lt;sedkit.sed.SED object at 0x1302da160&gt;</td><td>24.69</td><td>1.389</td><td>25.19</td><td>1.389</td><td>22.53</td><td>0.137</td><td>23.03</td><td>0.137</td><td>19.69</td><td>0.019</td><td>20.19</td><td>0.019</td><td>17.17</td><td>0.005</td><td>17.66</td><td>0.005</td><td>15.22</td><td>0.005</td><td>15.72</td><td>0.005</td><td>12.47</td><td>0.027</td><td>12.97</td><td>0.027</td><td>11.586</td><td>0.03</td><td>12.09</td><td>0.03</td><td>11.055</td><td>0.021</td><td>11.56</td><td>0.021</td></tr>\n",
       "</table>"
      ],
      "text/plain": [
       "<Table length=1>\n",
       "           name            age   age_unc ... M_2MASS.Ks M_2MASS.Ks_unc\n",
       "                           Gyr     Gyr   ...                          \n",
       "          object          object  object ...  float16      float16    \n",
       "------------------------- ------ ------- ... ---------- --------------\n",
       "2MASS J00361617+1821104 3    6.0     4.0 ...      11.56          0.021"
      ]
     },
     "execution_count": 100,
     "metadata": {},
     "output_type": "execute_result"
    }
   ],
   "source": [
    "cat.filter('name', \"'2MASS J00361617+1821104 3'\").results"
   ]
  },
  {
   "cell_type": "markdown",
   "metadata": {},
   "source": [
    "...or a wildcard search..."
   ]
  },
  {
   "cell_type": "code",
   "execution_count": 101,
   "metadata": {},
   "outputs": [
    {
     "data": {
      "text/html": [
       "<i>Table length=10</i>\n",
       "<table id=\"table5089522912\" class=\"table-striped table-bordered table-condensed\">\n",
       "<thead><tr><th>name</th><th>age</th><th>age_unc</th><th>distance</th><th>distance_unc</th><th>parallax</th><th>parallax_unc</th><th>radius</th><th>radius_unc</th><th>spectral_type</th><th>spectral_type_unc</th><th>SpT</th><th>SpT_fit</th><th>membership</th><th>reddening</th><th>fbol</th><th>fbol_unc</th><th>mbol</th><th>mbol_unc</th><th>Lbol</th><th>Lbol_unc</th><th>Lbol_sun</th><th>Lbol_sun_unc</th><th>Mbol</th><th>Mbol_unc</th><th>logg</th><th>logg_unc</th><th>mass</th><th>mass_unc</th><th>Teff</th><th>Teff_unc</th><th>Teff_evo</th><th>Teff_evo_unc</th><th>Teff_bb</th><th>SED</th><th>SDSS.u</th><th>SDSS.u_unc</th><th>M_SDSS.u</th><th>M_SDSS.u_unc</th><th>SDSS.g</th><th>SDSS.g_unc</th><th>M_SDSS.g</th><th>M_SDSS.g_unc</th><th>SDSS.r</th><th>SDSS.r_unc</th><th>M_SDSS.r</th><th>M_SDSS.r_unc</th><th>SDSS.i</th><th>SDSS.i_unc</th><th>M_SDSS.i</th><th>M_SDSS.i_unc</th><th>SDSS.z</th><th>SDSS.z_unc</th><th>M_SDSS.z</th><th>M_SDSS.z_unc</th><th>2MASS.J</th><th>2MASS.J_unc</th><th>M_2MASS.J</th><th>M_2MASS.J_unc</th><th>2MASS.H</th><th>2MASS.H_unc</th><th>M_2MASS.H</th><th>M_2MASS.H_unc</th><th>2MASS.Ks</th><th>2MASS.Ks_unc</th><th>M_2MASS.Ks</th><th>M_2MASS.Ks_unc</th></tr></thead>\n",
       "<thead><tr><th></th><th>Gyr</th><th>Gyr</th><th>pc</th><th>pc</th><th>mas</th><th>mas</th><th>solRad</th><th>solRad</th><th></th><th></th><th></th><th></th><th></th><th></th><th>erg / (cm2 s)</th><th>erg / (cm2 s)</th><th></th><th></th><th>erg / s</th><th>erg / s</th><th></th><th></th><th></th><th></th><th></th><th></th><th>solMass</th><th>solMass</th><th>K</th><th>K</th><th>K</th><th>K</th><th>K</th><th></th><th></th><th></th><th></th><th></th><th></th><th></th><th></th><th></th><th></th><th></th><th></th><th></th><th></th><th></th><th></th><th></th><th></th><th></th><th></th><th></th><th></th><th></th><th></th><th></th><th></th><th></th><th></th><th></th><th></th><th></th><th></th><th></th></tr></thead>\n",
       "<thead><tr><th>object</th><th>object</th><th>object</th><th>object</th><th>object</th><th>object</th><th>object</th><th>object</th><th>object</th><th>object</th><th>object</th><th>object</th><th>object</th><th>object</th><th>object</th><th>object</th><th>object</th><th>object</th><th>object</th><th>object</th><th>object</th><th>object</th><th>object</th><th>object</th><th>object</th><th>object</th><th>object</th><th>object</th><th>object</th><th>object</th><th>object</th><th>object</th><th>object</th><th>object</th><th>object</th><th>float16</th><th>float16</th><th>float16</th><th>float16</th><th>float16</th><th>float16</th><th>float16</th><th>float16</th><th>float16</th><th>float16</th><th>float16</th><th>float16</th><th>float16</th><th>float16</th><th>float16</th><th>float16</th><th>float16</th><th>float16</th><th>float16</th><th>float16</th><th>float16</th><th>float16</th><th>float16</th><th>float16</th><th>float16</th><th>float16</th><th>float16</th><th>float16</th><th>float16</th><th>float16</th><th>float16</th><th>float16</th></tr></thead>\n",
       "<tr><td>2MASS J00361617+1821104 0</td><td>6.0</td><td>4.0</td><td>9.32</td><td>0.01</td><td>107.34332062965338</td><td>0.09581874623346878</td><td>0.10032806078572953</td><td>0.002913190765115729</td><td>73.5</td><td>0.5</td><td>L3.5V</td><td>None</td><td>None</td><td>0</td><td>2.368954218310041e-11</td><td>7.309640169463857e-13</td><td>15.082</td><td>0.034</td><td>2.462064617591959e+29</td><td>7.61529133904295e+27</td><td>-4.192</td><td>0.013</td><td>15.235</td><td>0.034</td><td>5.400057971014493</td><td>0.04319675010979296</td><td>0.071943961352657</td><td>0.004300380617771937</td><td>1631.0</td><td>26.0</td><td>1742.6425120772947</td><td>39.18485580442166</td><td>None</td><td>&lt;sedkit.sed.SED object at 0x133aacdd8&gt;</td><td>24.69</td><td>1.389</td><td>24.84</td><td>1.389</td><td>22.53</td><td>0.137</td><td>22.69</td><td>0.137</td><td>19.69</td><td>0.019</td><td>19.84</td><td>0.019</td><td>17.17</td><td>0.005</td><td>17.33</td><td>0.005</td><td>15.22</td><td>0.005</td><td>15.375</td><td>0.005</td><td>12.47</td><td>0.027</td><td>12.625</td><td>0.027</td><td>11.586</td><td>0.03</td><td>11.734</td><td>0.03</td><td>11.055</td><td>0.021</td><td>11.2</td><td>0.021</td></tr>\n",
       "<tr><td>2MASS J00361617+1821104 1</td><td>6.0</td><td>4.0</td><td>7.83</td><td>0.01</td><td>127.69245945701087</td><td>0.09189424876944857</td><td>0.10032806078572953</td><td>0.002913190765115729</td><td>73.5</td><td>0.5</td><td>L3.5V</td><td>None</td><td>None</td><td>0</td><td>2.368954218310041e-11</td><td>7.309640169463857e-13</td><td>15.082</td><td>0.034</td><td>1.7377654017559228e+29</td><td>5.380385991758782e+27</td><td>-4.343</td><td>0.013</td><td>15.613</td><td>0.034</td><td>5.404434782608696</td><td>0.07039337474120089</td><td>0.07050933977455717</td><td>0.006135081665516434</td><td>1495.0</td><td>24.0</td><td>1613.5873590982287</td><td>54.345088566827144</td><td>None</td><td>&lt;sedkit.sed.SED object at 0x130098cf8&gt;</td><td>24.69</td><td>1.389</td><td>25.22</td><td>1.389</td><td>22.53</td><td>0.137</td><td>23.06</td><td>0.137</td><td>19.69</td><td>0.019</td><td>20.22</td><td>0.019</td><td>17.17</td><td>0.005</td><td>17.7</td><td>0.005</td><td>15.22</td><td>0.005</td><td>15.75</td><td>0.005</td><td>12.47</td><td>0.027</td><td>13.0</td><td>0.027</td><td>11.586</td><td>0.03</td><td>12.12</td><td>0.03</td><td>11.055</td><td>0.021</td><td>11.586</td><td>0.021</td></tr>\n",
       "<tr><td>2MASS J00361617+1821104 2</td><td>6.0</td><td>4.0</td><td>9.82</td><td>0.01</td><td>101.88118259782007</td><td>0.05816042114856801</td><td>0.10032806078572953</td><td>0.002913190765115729</td><td>73.5</td><td>0.5</td><td>L3.5V</td><td>None</td><td>None</td><td>0</td><td>2.368954218310041e-11</td><td>7.309640169463857e-13</td><td>15.082</td><td>0.034</td><td>2.733320746715205e+29</td><td>8.452280876917256e+27</td><td>-4.146</td><td>0.013</td><td>15.121</td><td>0.034</td><td>5.396955365622032</td><td>0.03736061469394869</td><td>0.07245669515669516</td><td>0.003994392644392664</td><td>1675.0</td><td>27.0</td><td>1785.564292497626</td><td>39.255158421825854</td><td>None</td><td>&lt;sedkit.sed.SED object at 0x130283ac8&gt;</td><td>24.69</td><td>1.389</td><td>24.72</td><td>1.389</td><td>22.53</td><td>0.137</td><td>22.56</td><td>0.137</td><td>19.69</td><td>0.019</td><td>19.72</td><td>0.019</td><td>17.17</td><td>0.005</td><td>17.22</td><td>0.005</td><td>15.22</td><td>0.005</td><td>15.26</td><td>0.005</td><td>12.47</td><td>0.027</td><td>12.51</td><td>0.027</td><td>11.586</td><td>0.03</td><td>11.625</td><td>0.03</td><td>11.055</td><td>0.021</td><td>11.09</td><td>0.021</td></tr>\n",
       "<tr><td>2MASS J00361617+1821104 3</td><td>6.0</td><td>4.0</td><td>7.93</td><td>0.0</td><td>126.04753735633585</td><td>0.018520874279711774</td><td>0.10032806078572953</td><td>0.002913190765115729</td><td>73.5</td><td>0.5</td><td>L3.5V</td><td>None</td><td>None</td><td>0</td><td>2.368954218310041e-11</td><td>7.309640169463857e-13</td><td>15.082</td><td>0.034</td><td>1.782436212570785e+29</td><td>5.49988144059998e+27</td><td>-4.332</td><td>0.013</td><td>15.586</td><td>0.034</td><td>5.4041159420289855</td><td>0.06870807453416106</td><td>0.07061384863123994</td><td>0.006009443294225869</td><td>1505.0</td><td>24.0</td><td>1622.9887278582933</td><td>53.44967793880778</td><td>None</td><td>&lt;sedkit.sed.SED object at 0x1302da160&gt;</td><td>24.69</td><td>1.389</td><td>25.19</td><td>1.389</td><td>22.53</td><td>0.137</td><td>23.03</td><td>0.137</td><td>19.69</td><td>0.019</td><td>20.19</td><td>0.019</td><td>17.17</td><td>0.005</td><td>17.66</td><td>0.005</td><td>15.22</td><td>0.005</td><td>15.72</td><td>0.005</td><td>12.47</td><td>0.027</td><td>12.97</td><td>0.027</td><td>11.586</td><td>0.03</td><td>12.09</td><td>0.03</td><td>11.055</td><td>0.021</td><td>11.56</td><td>0.021</td></tr>\n",
       "<tr><td>2MASS J00361617+1821104 4</td><td>6.0</td><td>4.0</td><td>8.55</td><td>0.01</td><td>116.9383203634533</td><td>0.1279691904583493</td><td>0.10032806078572953</td><td>0.002913190765115729</td><td>73.5</td><td>0.5</td><td>L3.5V</td><td>None</td><td>None</td><td>0</td><td>2.368954218310041e-11</td><td>7.309640169463857e-13</td><td>15.082</td><td>0.034</td><td>2.072048190097398e+29</td><td>6.411853308572519e+27</td><td>-4.267</td><td>0.013</td><td>15.422</td><td>0.034</td><td>5.402231884057971</td><td>0.056771460423636455</td><td>0.07123140096618358</td><td>0.005212089681654902</td><td>1563.0</td><td>25.0</td><td>1678.5422705314008</td><td>46.927845906106995</td><td>None</td><td>&lt;sedkit.sed.SED object at 0x133401240&gt;</td><td>24.69</td><td>1.389</td><td>25.03</td><td>1.389</td><td>22.53</td><td>0.137</td><td>22.88</td><td>0.137</td><td>19.69</td><td>0.019</td><td>20.03</td><td>0.019</td><td>17.17</td><td>0.005</td><td>17.52</td><td>0.005</td><td>15.22</td><td>0.005</td><td>15.56</td><td>0.005</td><td>12.47</td><td>0.027</td><td>12.81</td><td>0.027</td><td>11.586</td><td>0.03</td><td>11.92</td><td>0.03</td><td>11.055</td><td>0.021</td><td>11.39</td><td>0.021</td></tr>\n",
       "<tr><td>2MASS J00361617+1821104 5</td><td>6.0</td><td>4.0</td><td>9.5</td><td>0.01</td><td>105.27308359387688</td><td>0.11878543367139202</td><td>0.10032806078572953</td><td>0.002913190765115729</td><td>73.5</td><td>0.5</td><td>L3.5V</td><td>None</td><td>None</td><td>0</td><td>2.368954218310041e-11</td><td>7.309640169463857e-13</td><td>15.082</td><td>0.034</td><td>2.5580841853054292e+29</td><td>7.911569945792221e+27</td><td>-4.175</td><td>0.013</td><td>15.193</td><td>0.034</td><td>5.399131054131054</td><td>0.040484330484330755</td><td>0.07213034188034188</td><td>0.004186609686609721</td><td>1647.0</td><td>27.0</td><td>1758.3048433048436</td><td>39.38005698005736</td><td>None</td><td>&lt;sedkit.sed.SED object at 0x1331a8390&gt;</td><td>24.69</td><td>1.389</td><td>24.8</td><td>1.389</td><td>22.53</td><td>0.137</td><td>22.64</td><td>0.137</td><td>19.69</td><td>0.019</td><td>19.8</td><td>0.019</td><td>17.17</td><td>0.005</td><td>17.28</td><td>0.005</td><td>15.22</td><td>0.005</td><td>15.33</td><td>0.005</td><td>12.47</td><td>0.027</td><td>12.58</td><td>0.027</td><td>11.586</td><td>0.03</td><td>11.7</td><td>0.03</td><td>11.055</td><td>0.021</td><td>11.17</td><td>0.021</td></tr>\n",
       "<tr><td>2MASS J00361617+1821104 6</td><td>6.0</td><td>4.0</td><td>8.09</td><td>0.01</td><td>123.54186206836438</td><td>0.09829702661558004</td><td>0.10032806078572953</td><td>0.002913190765115729</td><td>73.5</td><td>0.5</td><td>L3.5V</td><td>None</td><td>None</td><td>0</td><td>2.368954218310041e-11</td><td>7.309640169463857e-13</td><td>15.082</td><td>0.034</td><td>1.85508863787577e+29</td><td>5.742400300593334e+27</td><td>-4.315</td><td>0.013</td><td>15.542</td><td>0.034</td><td>5.403623188405798</td><td>0.06570791527313524</td><td>0.07077536231884059</td><td>0.005804285891242433</td><td>1520.0</td><td>25.0</td><td>1637.5181159420288</td><td>51.819707667533294</td><td>None</td><td>&lt;sedkit.sed.SED object at 0x13374d080&gt;</td><td>24.69</td><td>1.389</td><td>25.16</td><td>1.389</td><td>22.53</td><td>0.137</td><td>23.02</td><td>0.137</td><td>19.69</td><td>0.019</td><td>20.16</td><td>0.019</td><td>17.17</td><td>0.005</td><td>17.62</td><td>0.005</td><td>15.22</td><td>0.005</td><td>15.68</td><td>0.005</td><td>12.47</td><td>0.027</td><td>12.93</td><td>0.027</td><td>11.586</td><td>0.03</td><td>12.05</td><td>0.03</td><td>11.055</td><td>0.021</td><td>11.516</td><td>0.021</td></tr>\n",
       "<tr><td>2MASS J00361617+1821104 7</td><td>6.0</td><td>4.0</td><td>9.12</td><td>0.02</td><td>109.6658637185524</td><td>0.2078931037228717</td><td>0.10032806078572953</td><td>0.002913190765115729</td><td>73.5</td><td>0.5</td><td>L3.5V</td><td>None</td><td>None</td><td>0</td><td>2.368954218310041e-11</td><td>7.309640169463857e-13</td><td>15.082</td><td>0.034</td><td>2.3575303851774833e+29</td><td>7.347511628634282e+27</td><td>-4.211</td><td>0.014</td><td>15.282</td><td>0.034</td><td>5.400608695652174</td><td>0.04647380156075798</td><td>0.07176344605475041</td><td>0.00455253313514184</td><td>1614.0</td><td>26.0</td><td>1726.4037842190016</td><td>43.031927412363984</td><td>None</td><td>&lt;sedkit.sed.SED object at 0x1337225c0&gt;</td><td>24.69</td><td>1.389</td><td>24.89</td><td>1.389</td><td>22.53</td><td>0.137</td><td>22.73</td><td>0.137</td><td>19.69</td><td>0.019</td><td>19.89</td><td>0.019</td><td>17.17</td><td>0.005</td><td>17.38</td><td>0.006</td><td>15.22</td><td>0.005</td><td>15.42</td><td>0.006</td><td>12.47</td><td>0.027</td><td>12.67</td><td>0.027</td><td>11.586</td><td>0.03</td><td>11.78</td><td>0.03</td><td>11.055</td><td>0.021</td><td>11.25</td><td>0.021</td></tr>\n",
       "<tr><td>2MASS J00361617+1821104 8</td><td>6.0</td><td>4.0</td><td>7.4</td><td>0.0</td><td>135.18159227618196</td><td>0.01800204522386431</td><td>0.10032806078572953</td><td>0.002913190765115729</td><td>73.5</td><td>0.5</td><td>L3.5V</td><td>None</td><td>None</td><td>0</td><td>2.368954218310041e-11</td><td>7.309640169463857e-13</td><td>15.082</td><td>0.034</td><td>1.552140609277843e+29</td><td>4.7892818098980044e+27</td><td>-4.392</td><td>0.013</td><td>15.736</td><td>0.034</td><td>5.405384484228475</td><td>0.08026826817683741</td><td>0.07000545609548167</td><td>0.006887662891243457</td><td>1454.0</td><td>23.0</td><td>1573.468883205456</td><td>49.476982097186465</td><td>None</td><td>&lt;sedkit.sed.SED object at 0x1337a75f8&gt;</td><td>24.69</td><td>1.389</td><td>25.34</td><td>1.389</td><td>22.53</td><td>0.137</td><td>23.19</td><td>0.137</td><td>19.69</td><td>0.019</td><td>20.34</td><td>0.019</td><td>17.17</td><td>0.005</td><td>17.83</td><td>0.005</td><td>15.22</td><td>0.005</td><td>15.875</td><td>0.005</td><td>12.47</td><td>0.027</td><td>13.125</td><td>0.027</td><td>11.586</td><td>0.03</td><td>12.234</td><td>0.03</td><td>11.055</td><td>0.021</td><td>11.7</td><td>0.021</td></tr>\n",
       "<tr><td>2MASS J00361617+1821104 9</td><td>6.0</td><td>4.0</td><td>8.98</td><td>0.03</td><td>111.31772156698146</td><td>0.33445996326716504</td><td>0.10032806078572953</td><td>0.002913190765115729</td><td>73.5</td><td>0.5</td><td>L3.5V</td><td>None</td><td>None</td><td>0</td><td>2.368954218310041e-11</td><td>7.309640169463857e-13</td><td>15.082</td><td>0.034</td><td>2.2857056170271908e+29</td><td>7.216223056724804e+27</td><td>-4.224</td><td>0.014</td><td>15.316</td><td>0.034</td><td>5.400985507246378</td><td>0.04889409141583201</td><td>0.07163993558776167</td><td>0.004712919608571786</td><td>1601.0</td><td>26.0</td><td>1715.2930756843803</td><td>44.356806639416845</td><td>None</td><td>&lt;sedkit.sed.SED object at 0x13320ed30&gt;</td><td>24.69</td><td>1.389</td><td>24.92</td><td>1.389</td><td>22.53</td><td>0.137</td><td>22.77</td><td>0.137</td><td>19.69</td><td>0.019</td><td>19.92</td><td>0.019</td><td>17.17</td><td>0.005</td><td>17.4</td><td>0.006</td><td>15.22</td><td>0.005</td><td>15.45</td><td>0.006</td><td>12.47</td><td>0.027</td><td>12.7</td><td>0.027</td><td>11.586</td><td>0.03</td><td>11.82</td><td>0.03</td><td>11.055</td><td>0.021</td><td>11.29</td><td>0.021</td></tr>\n",
       "</table>"
      ],
      "text/plain": [
       "<Table length=10>\n",
       "           name            age   age_unc ... M_2MASS.Ks M_2MASS.Ks_unc\n",
       "                           Gyr     Gyr   ...                          \n",
       "          object          object  object ...  float16      float16    \n",
       "------------------------- ------ ------- ... ---------- --------------\n",
       "2MASS J00361617+1821104 0    6.0     4.0 ...       11.2          0.021\n",
       "2MASS J00361617+1821104 1    6.0     4.0 ...     11.586          0.021\n",
       "2MASS J00361617+1821104 2    6.0     4.0 ...      11.09          0.021\n",
       "2MASS J00361617+1821104 3    6.0     4.0 ...      11.56          0.021\n",
       "2MASS J00361617+1821104 4    6.0     4.0 ...      11.39          0.021\n",
       "2MASS J00361617+1821104 5    6.0     4.0 ...      11.17          0.021\n",
       "2MASS J00361617+1821104 6    6.0     4.0 ...     11.516          0.021\n",
       "2MASS J00361617+1821104 7    6.0     4.0 ...      11.25          0.021\n",
       "2MASS J00361617+1821104 8    6.0     4.0 ...       11.7          0.021\n",
       "2MASS J00361617+1821104 9    6.0     4.0 ...      11.29          0.021"
      ]
     },
     "execution_count": 101,
     "metadata": {},
     "output_type": "execute_result"
    }
   ],
   "source": [
    "cat.filter('name', \"'2MASS*'\").results"
   ]
  },
  {
   "cell_type": "markdown",
   "metadata": {},
   "source": [
    "... or an argument with an operator..."
   ]
  },
  {
   "cell_type": "code",
   "execution_count": 102,
   "metadata": {},
   "outputs": [
    {
     "data": {
      "text/html": [
       "<i>Table length=5</i>\n",
       "<table id=\"table5154921328\" class=\"table-striped table-bordered table-condensed\">\n",
       "<thead><tr><th>name</th><th>age</th><th>age_unc</th><th>distance</th><th>distance_unc</th><th>parallax</th><th>parallax_unc</th><th>radius</th><th>radius_unc</th><th>spectral_type</th><th>spectral_type_unc</th><th>SpT</th><th>SpT_fit</th><th>membership</th><th>reddening</th><th>fbol</th><th>fbol_unc</th><th>mbol</th><th>mbol_unc</th><th>Lbol</th><th>Lbol_unc</th><th>Lbol_sun</th><th>Lbol_sun_unc</th><th>Mbol</th><th>Mbol_unc</th><th>logg</th><th>logg_unc</th><th>mass</th><th>mass_unc</th><th>Teff</th><th>Teff_unc</th><th>Teff_evo</th><th>Teff_evo_unc</th><th>Teff_bb</th><th>SED</th><th>SDSS.u</th><th>SDSS.u_unc</th><th>M_SDSS.u</th><th>M_SDSS.u_unc</th><th>SDSS.g</th><th>SDSS.g_unc</th><th>M_SDSS.g</th><th>M_SDSS.g_unc</th><th>SDSS.r</th><th>SDSS.r_unc</th><th>M_SDSS.r</th><th>M_SDSS.r_unc</th><th>SDSS.i</th><th>SDSS.i_unc</th><th>M_SDSS.i</th><th>M_SDSS.i_unc</th><th>SDSS.z</th><th>SDSS.z_unc</th><th>M_SDSS.z</th><th>M_SDSS.z_unc</th><th>2MASS.J</th><th>2MASS.J_unc</th><th>M_2MASS.J</th><th>M_2MASS.J_unc</th><th>2MASS.H</th><th>2MASS.H_unc</th><th>M_2MASS.H</th><th>M_2MASS.H_unc</th><th>2MASS.Ks</th><th>2MASS.Ks_unc</th><th>M_2MASS.Ks</th><th>M_2MASS.Ks_unc</th></tr></thead>\n",
       "<thead><tr><th></th><th>Gyr</th><th>Gyr</th><th>pc</th><th>pc</th><th>mas</th><th>mas</th><th>solRad</th><th>solRad</th><th></th><th></th><th></th><th></th><th></th><th></th><th>erg / (cm2 s)</th><th>erg / (cm2 s)</th><th></th><th></th><th>erg / s</th><th>erg / s</th><th></th><th></th><th></th><th></th><th></th><th></th><th>solMass</th><th>solMass</th><th>K</th><th>K</th><th>K</th><th>K</th><th>K</th><th></th><th></th><th></th><th></th><th></th><th></th><th></th><th></th><th></th><th></th><th></th><th></th><th></th><th></th><th></th><th></th><th></th><th></th><th></th><th></th><th></th><th></th><th></th><th></th><th></th><th></th><th></th><th></th><th></th><th></th><th></th><th></th><th></th></tr></thead>\n",
       "<thead><tr><th>object</th><th>object</th><th>object</th><th>object</th><th>object</th><th>object</th><th>object</th><th>object</th><th>object</th><th>object</th><th>object</th><th>object</th><th>object</th><th>object</th><th>object</th><th>object</th><th>object</th><th>object</th><th>object</th><th>object</th><th>object</th><th>object</th><th>object</th><th>object</th><th>object</th><th>object</th><th>object</th><th>object</th><th>object</th><th>object</th><th>object</th><th>object</th><th>object</th><th>object</th><th>object</th><th>float16</th><th>float16</th><th>float16</th><th>float16</th><th>float16</th><th>float16</th><th>float16</th><th>float16</th><th>float16</th><th>float16</th><th>float16</th><th>float16</th><th>float16</th><th>float16</th><th>float16</th><th>float16</th><th>float16</th><th>float16</th><th>float16</th><th>float16</th><th>float16</th><th>float16</th><th>float16</th><th>float16</th><th>float16</th><th>float16</th><th>float16</th><th>float16</th><th>float16</th><th>float16</th><th>float16</th><th>float16</th></tr></thead>\n",
       "<tr><td>2MASS J00361617+1821104 1</td><td>6.0</td><td>4.0</td><td>7.83</td><td>0.01</td><td>127.69245945701087</td><td>0.09189424876944857</td><td>0.10032806078572953</td><td>0.002913190765115729</td><td>73.5</td><td>0.5</td><td>L3.5V</td><td>None</td><td>None</td><td>0</td><td>2.368954218310041e-11</td><td>7.309640169463857e-13</td><td>15.082</td><td>0.034</td><td>1.7377654017559228e+29</td><td>5.380385991758782e+27</td><td>-4.343</td><td>0.013</td><td>15.613</td><td>0.034</td><td>5.404434782608696</td><td>0.07039337474120089</td><td>0.07050933977455717</td><td>0.006135081665516434</td><td>1495.0</td><td>24.0</td><td>1613.5873590982287</td><td>54.345088566827144</td><td>None</td><td>&lt;sedkit.sed.SED object at 0x130098cf8&gt;</td><td>24.69</td><td>1.389</td><td>25.22</td><td>1.389</td><td>22.53</td><td>0.137</td><td>23.06</td><td>0.137</td><td>19.69</td><td>0.019</td><td>20.22</td><td>0.019</td><td>17.17</td><td>0.005</td><td>17.7</td><td>0.005</td><td>15.22</td><td>0.005</td><td>15.75</td><td>0.005</td><td>12.47</td><td>0.027</td><td>13.0</td><td>0.027</td><td>11.586</td><td>0.03</td><td>12.12</td><td>0.03</td><td>11.055</td><td>0.021</td><td>11.586</td><td>0.021</td></tr>\n",
       "<tr><td>2MASS J00361617+1821104 3</td><td>6.0</td><td>4.0</td><td>7.93</td><td>0.0</td><td>126.04753735633585</td><td>0.018520874279711774</td><td>0.10032806078572953</td><td>0.002913190765115729</td><td>73.5</td><td>0.5</td><td>L3.5V</td><td>None</td><td>None</td><td>0</td><td>2.368954218310041e-11</td><td>7.309640169463857e-13</td><td>15.082</td><td>0.034</td><td>1.782436212570785e+29</td><td>5.49988144059998e+27</td><td>-4.332</td><td>0.013</td><td>15.586</td><td>0.034</td><td>5.4041159420289855</td><td>0.06870807453416106</td><td>0.07061384863123994</td><td>0.006009443294225869</td><td>1505.0</td><td>24.0</td><td>1622.9887278582933</td><td>53.44967793880778</td><td>None</td><td>&lt;sedkit.sed.SED object at 0x1302da160&gt;</td><td>24.69</td><td>1.389</td><td>25.19</td><td>1.389</td><td>22.53</td><td>0.137</td><td>23.03</td><td>0.137</td><td>19.69</td><td>0.019</td><td>20.19</td><td>0.019</td><td>17.17</td><td>0.005</td><td>17.66</td><td>0.005</td><td>15.22</td><td>0.005</td><td>15.72</td><td>0.005</td><td>12.47</td><td>0.027</td><td>12.97</td><td>0.027</td><td>11.586</td><td>0.03</td><td>12.09</td><td>0.03</td><td>11.055</td><td>0.021</td><td>11.56</td><td>0.021</td></tr>\n",
       "<tr><td>2MASS J00361617+1821104 4</td><td>6.0</td><td>4.0</td><td>8.55</td><td>0.01</td><td>116.9383203634533</td><td>0.1279691904583493</td><td>0.10032806078572953</td><td>0.002913190765115729</td><td>73.5</td><td>0.5</td><td>L3.5V</td><td>None</td><td>None</td><td>0</td><td>2.368954218310041e-11</td><td>7.309640169463857e-13</td><td>15.082</td><td>0.034</td><td>2.072048190097398e+29</td><td>6.411853308572519e+27</td><td>-4.267</td><td>0.013</td><td>15.422</td><td>0.034</td><td>5.402231884057971</td><td>0.056771460423636455</td><td>0.07123140096618358</td><td>0.005212089681654902</td><td>1563.0</td><td>25.0</td><td>1678.5422705314008</td><td>46.927845906106995</td><td>None</td><td>&lt;sedkit.sed.SED object at 0x133401240&gt;</td><td>24.69</td><td>1.389</td><td>25.03</td><td>1.389</td><td>22.53</td><td>0.137</td><td>22.88</td><td>0.137</td><td>19.69</td><td>0.019</td><td>20.03</td><td>0.019</td><td>17.17</td><td>0.005</td><td>17.52</td><td>0.005</td><td>15.22</td><td>0.005</td><td>15.56</td><td>0.005</td><td>12.47</td><td>0.027</td><td>12.81</td><td>0.027</td><td>11.586</td><td>0.03</td><td>11.92</td><td>0.03</td><td>11.055</td><td>0.021</td><td>11.39</td><td>0.021</td></tr>\n",
       "<tr><td>2MASS J00361617+1821104 6</td><td>6.0</td><td>4.0</td><td>8.09</td><td>0.01</td><td>123.54186206836438</td><td>0.09829702661558004</td><td>0.10032806078572953</td><td>0.002913190765115729</td><td>73.5</td><td>0.5</td><td>L3.5V</td><td>None</td><td>None</td><td>0</td><td>2.368954218310041e-11</td><td>7.309640169463857e-13</td><td>15.082</td><td>0.034</td><td>1.85508863787577e+29</td><td>5.742400300593334e+27</td><td>-4.315</td><td>0.013</td><td>15.542</td><td>0.034</td><td>5.403623188405798</td><td>0.06570791527313524</td><td>0.07077536231884059</td><td>0.005804285891242433</td><td>1520.0</td><td>25.0</td><td>1637.5181159420288</td><td>51.819707667533294</td><td>None</td><td>&lt;sedkit.sed.SED object at 0x13374d080&gt;</td><td>24.69</td><td>1.389</td><td>25.16</td><td>1.389</td><td>22.53</td><td>0.137</td><td>23.02</td><td>0.137</td><td>19.69</td><td>0.019</td><td>20.16</td><td>0.019</td><td>17.17</td><td>0.005</td><td>17.62</td><td>0.005</td><td>15.22</td><td>0.005</td><td>15.68</td><td>0.005</td><td>12.47</td><td>0.027</td><td>12.93</td><td>0.027</td><td>11.586</td><td>0.03</td><td>12.05</td><td>0.03</td><td>11.055</td><td>0.021</td><td>11.516</td><td>0.021</td></tr>\n",
       "<tr><td>2MASS J00361617+1821104 8</td><td>6.0</td><td>4.0</td><td>7.4</td><td>0.0</td><td>135.18159227618196</td><td>0.01800204522386431</td><td>0.10032806078572953</td><td>0.002913190765115729</td><td>73.5</td><td>0.5</td><td>L3.5V</td><td>None</td><td>None</td><td>0</td><td>2.368954218310041e-11</td><td>7.309640169463857e-13</td><td>15.082</td><td>0.034</td><td>1.552140609277843e+29</td><td>4.7892818098980044e+27</td><td>-4.392</td><td>0.013</td><td>15.736</td><td>0.034</td><td>5.405384484228475</td><td>0.08026826817683741</td><td>0.07000545609548167</td><td>0.006887662891243457</td><td>1454.0</td><td>23.0</td><td>1573.468883205456</td><td>49.476982097186465</td><td>None</td><td>&lt;sedkit.sed.SED object at 0x1337a75f8&gt;</td><td>24.69</td><td>1.389</td><td>25.34</td><td>1.389</td><td>22.53</td><td>0.137</td><td>23.19</td><td>0.137</td><td>19.69</td><td>0.019</td><td>20.34</td><td>0.019</td><td>17.17</td><td>0.005</td><td>17.83</td><td>0.005</td><td>15.22</td><td>0.005</td><td>15.875</td><td>0.005</td><td>12.47</td><td>0.027</td><td>13.125</td><td>0.027</td><td>11.586</td><td>0.03</td><td>12.234</td><td>0.03</td><td>11.055</td><td>0.021</td><td>11.7</td><td>0.021</td></tr>\n",
       "</table>"
      ],
      "text/plain": [
       "<Table length=5>\n",
       "           name            age   age_unc ... M_2MASS.Ks M_2MASS.Ks_unc\n",
       "                           Gyr     Gyr   ...                          \n",
       "          object          object  object ...  float16      float16    \n",
       "------------------------- ------ ------- ... ---------- --------------\n",
       "2MASS J00361617+1821104 1    6.0     4.0 ...     11.586          0.021\n",
       "2MASS J00361617+1821104 3    6.0     4.0 ...      11.56          0.021\n",
       "2MASS J00361617+1821104 4    6.0     4.0 ...      11.39          0.021\n",
       "2MASS J00361617+1821104 6    6.0     4.0 ...     11.516          0.021\n",
       "2MASS J00361617+1821104 8    6.0     4.0 ...       11.7          0.021"
      ]
     },
     "execution_count": 102,
     "metadata": {},
     "output_type": "execute_result"
    }
   ],
   "source": [
    "cat.filter('logg', '>=5.401').results"
   ]
  },
  {
   "cell_type": "markdown",
   "metadata": {
    "collapsed": true
   },
   "source": [
    "... or even a tuple of arguments..."
   ]
  },
  {
   "cell_type": "code",
   "execution_count": 103,
   "metadata": {},
   "outputs": [
    {
     "data": {
      "text/html": [
       "<i>Table length=3</i>\n",
       "<table id=\"table5089524256\" class=\"table-striped table-bordered table-condensed\">\n",
       "<thead><tr><th>name</th><th>age</th><th>age_unc</th><th>distance</th><th>distance_unc</th><th>parallax</th><th>parallax_unc</th><th>radius</th><th>radius_unc</th><th>spectral_type</th><th>spectral_type_unc</th><th>SpT</th><th>SpT_fit</th><th>membership</th><th>reddening</th><th>fbol</th><th>fbol_unc</th><th>mbol</th><th>mbol_unc</th><th>Lbol</th><th>Lbol_unc</th><th>Lbol_sun</th><th>Lbol_sun_unc</th><th>Mbol</th><th>Mbol_unc</th><th>logg</th><th>logg_unc</th><th>mass</th><th>mass_unc</th><th>Teff</th><th>Teff_unc</th><th>Teff_evo</th><th>Teff_evo_unc</th><th>Teff_bb</th><th>SED</th><th>SDSS.u</th><th>SDSS.u_unc</th><th>M_SDSS.u</th><th>M_SDSS.u_unc</th><th>SDSS.g</th><th>SDSS.g_unc</th><th>M_SDSS.g</th><th>M_SDSS.g_unc</th><th>SDSS.r</th><th>SDSS.r_unc</th><th>M_SDSS.r</th><th>M_SDSS.r_unc</th><th>SDSS.i</th><th>SDSS.i_unc</th><th>M_SDSS.i</th><th>M_SDSS.i_unc</th><th>SDSS.z</th><th>SDSS.z_unc</th><th>M_SDSS.z</th><th>M_SDSS.z_unc</th><th>2MASS.J</th><th>2MASS.J_unc</th><th>M_2MASS.J</th><th>M_2MASS.J_unc</th><th>2MASS.H</th><th>2MASS.H_unc</th><th>M_2MASS.H</th><th>M_2MASS.H_unc</th><th>2MASS.Ks</th><th>2MASS.Ks_unc</th><th>M_2MASS.Ks</th><th>M_2MASS.Ks_unc</th></tr></thead>\n",
       "<thead><tr><th></th><th>Gyr</th><th>Gyr</th><th>pc</th><th>pc</th><th>mas</th><th>mas</th><th>solRad</th><th>solRad</th><th></th><th></th><th></th><th></th><th></th><th></th><th>erg / (cm2 s)</th><th>erg / (cm2 s)</th><th></th><th></th><th>erg / s</th><th>erg / s</th><th></th><th></th><th></th><th></th><th></th><th></th><th>solMass</th><th>solMass</th><th>K</th><th>K</th><th>K</th><th>K</th><th>K</th><th></th><th></th><th></th><th></th><th></th><th></th><th></th><th></th><th></th><th></th><th></th><th></th><th></th><th></th><th></th><th></th><th></th><th></th><th></th><th></th><th></th><th></th><th></th><th></th><th></th><th></th><th></th><th></th><th></th><th></th><th></th><th></th><th></th></tr></thead>\n",
       "<thead><tr><th>object</th><th>object</th><th>object</th><th>object</th><th>object</th><th>object</th><th>object</th><th>object</th><th>object</th><th>object</th><th>object</th><th>object</th><th>object</th><th>object</th><th>object</th><th>object</th><th>object</th><th>object</th><th>object</th><th>object</th><th>object</th><th>object</th><th>object</th><th>object</th><th>object</th><th>object</th><th>object</th><th>object</th><th>object</th><th>object</th><th>object</th><th>object</th><th>object</th><th>object</th><th>object</th><th>float16</th><th>float16</th><th>float16</th><th>float16</th><th>float16</th><th>float16</th><th>float16</th><th>float16</th><th>float16</th><th>float16</th><th>float16</th><th>float16</th><th>float16</th><th>float16</th><th>float16</th><th>float16</th><th>float16</th><th>float16</th><th>float16</th><th>float16</th><th>float16</th><th>float16</th><th>float16</th><th>float16</th><th>float16</th><th>float16</th><th>float16</th><th>float16</th><th>float16</th><th>float16</th><th>float16</th><th>float16</th></tr></thead>\n",
       "<tr><td>2MASS J00361617+1821104 1</td><td>6.0</td><td>4.0</td><td>7.83</td><td>0.01</td><td>127.69245945701087</td><td>0.09189424876944857</td><td>0.10032806078572953</td><td>0.002913190765115729</td><td>73.5</td><td>0.5</td><td>L3.5V</td><td>None</td><td>None</td><td>0</td><td>2.368954218310041e-11</td><td>7.309640169463857e-13</td><td>15.082</td><td>0.034</td><td>1.7377654017559228e+29</td><td>5.380385991758782e+27</td><td>-4.343</td><td>0.013</td><td>15.613</td><td>0.034</td><td>5.404434782608696</td><td>0.07039337474120089</td><td>0.07050933977455717</td><td>0.006135081665516434</td><td>1495.0</td><td>24.0</td><td>1613.5873590982287</td><td>54.345088566827144</td><td>None</td><td>&lt;sedkit.sed.SED object at 0x130098cf8&gt;</td><td>24.69</td><td>1.389</td><td>25.22</td><td>1.389</td><td>22.53</td><td>0.137</td><td>23.06</td><td>0.137</td><td>19.69</td><td>0.019</td><td>20.22</td><td>0.019</td><td>17.17</td><td>0.005</td><td>17.7</td><td>0.005</td><td>15.22</td><td>0.005</td><td>15.75</td><td>0.005</td><td>12.47</td><td>0.027</td><td>13.0</td><td>0.027</td><td>11.586</td><td>0.03</td><td>12.12</td><td>0.03</td><td>11.055</td><td>0.021</td><td>11.586</td><td>0.021</td></tr>\n",
       "<tr><td>2MASS J00361617+1821104 3</td><td>6.0</td><td>4.0</td><td>7.93</td><td>0.0</td><td>126.04753735633585</td><td>0.018520874279711774</td><td>0.10032806078572953</td><td>0.002913190765115729</td><td>73.5</td><td>0.5</td><td>L3.5V</td><td>None</td><td>None</td><td>0</td><td>2.368954218310041e-11</td><td>7.309640169463857e-13</td><td>15.082</td><td>0.034</td><td>1.782436212570785e+29</td><td>5.49988144059998e+27</td><td>-4.332</td><td>0.013</td><td>15.586</td><td>0.034</td><td>5.4041159420289855</td><td>0.06870807453416106</td><td>0.07061384863123994</td><td>0.006009443294225869</td><td>1505.0</td><td>24.0</td><td>1622.9887278582933</td><td>53.44967793880778</td><td>None</td><td>&lt;sedkit.sed.SED object at 0x1302da160&gt;</td><td>24.69</td><td>1.389</td><td>25.19</td><td>1.389</td><td>22.53</td><td>0.137</td><td>23.03</td><td>0.137</td><td>19.69</td><td>0.019</td><td>20.19</td><td>0.019</td><td>17.17</td><td>0.005</td><td>17.66</td><td>0.005</td><td>15.22</td><td>0.005</td><td>15.72</td><td>0.005</td><td>12.47</td><td>0.027</td><td>12.97</td><td>0.027</td><td>11.586</td><td>0.03</td><td>12.09</td><td>0.03</td><td>11.055</td><td>0.021</td><td>11.56</td><td>0.021</td></tr>\n",
       "<tr><td>2MASS J00361617+1821104 6</td><td>6.0</td><td>4.0</td><td>8.09</td><td>0.01</td><td>123.54186206836438</td><td>0.09829702661558004</td><td>0.10032806078572953</td><td>0.002913190765115729</td><td>73.5</td><td>0.5</td><td>L3.5V</td><td>None</td><td>None</td><td>0</td><td>2.368954218310041e-11</td><td>7.309640169463857e-13</td><td>15.082</td><td>0.034</td><td>1.85508863787577e+29</td><td>5.742400300593334e+27</td><td>-4.315</td><td>0.013</td><td>15.542</td><td>0.034</td><td>5.403623188405798</td><td>0.06570791527313524</td><td>0.07077536231884059</td><td>0.005804285891242433</td><td>1520.0</td><td>25.0</td><td>1637.5181159420288</td><td>51.819707667533294</td><td>None</td><td>&lt;sedkit.sed.SED object at 0x13374d080&gt;</td><td>24.69</td><td>1.389</td><td>25.16</td><td>1.389</td><td>22.53</td><td>0.137</td><td>23.02</td><td>0.137</td><td>19.69</td><td>0.019</td><td>20.16</td><td>0.019</td><td>17.17</td><td>0.005</td><td>17.62</td><td>0.005</td><td>15.22</td><td>0.005</td><td>15.68</td><td>0.005</td><td>12.47</td><td>0.027</td><td>12.93</td><td>0.027</td><td>11.586</td><td>0.03</td><td>12.05</td><td>0.03</td><td>11.055</td><td>0.021</td><td>11.516</td><td>0.021</td></tr>\n",
       "</table>"
      ],
      "text/plain": [
       "<Table length=3>\n",
       "           name            age   age_unc ... M_2MASS.Ks M_2MASS.Ks_unc\n",
       "                           Gyr     Gyr   ...                          \n",
       "          object          object  object ...  float16      float16    \n",
       "------------------------- ------ ------- ... ---------- --------------\n",
       "2MASS J00361617+1821104 1    6.0     4.0 ...     11.586          0.021\n",
       "2MASS J00361617+1821104 3    6.0     4.0 ...      11.56          0.021\n",
       "2MASS J00361617+1821104 6    6.0     4.0 ...     11.516          0.021"
      ]
     },
     "execution_count": 103,
     "metadata": {},
     "output_type": "execute_result"
    }
   ],
   "source": [
    "cat.filter('M_2MASS.J', ('>12.9','<13.02')).results"
   ]
  },
  {
   "cell_type": "code",
   "execution_count": null,
   "metadata": {
    "collapsed": true
   },
   "outputs": [],
   "source": []
  }
 ],
 "metadata": {
  "anaconda-cloud": {},
  "kernelspec": {
   "display_name": "Astroconda",
   "language": "python",
   "name": "astroconda_kernel"
  },
  "language_info": {
   "codemirror_mode": {
    "name": "ipython",
    "version": 3
   },
   "file_extension": ".py",
   "mimetype": "text/x-python",
   "name": "python",
   "nbconvert_exporter": "python",
   "pygments_lexer": "ipython3",
   "version": "3.5.2"
  }
 },
 "nbformat": 4,
 "nbformat_minor": 1
}
