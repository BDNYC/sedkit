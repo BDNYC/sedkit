{
 "cells": [
  {
   "cell_type": "markdown",
   "metadata": {},
   "source": [
    "# Make a catalog of SEDs\n",
    "\n",
    "This notebook will show you how to generate a Catalog of SED objects and make some plots from the sample."
   ]
  },
  {
   "cell_type": "code",
   "execution_count": 1,
   "metadata": {},
   "outputs": [
    {
     "name": "stderr",
     "output_type": "stream",
     "text": [
      "/Users/jfilippazzo/miniconda3/envs/astroconda/lib/python3.5/site-packages/h5py/__init__.py:34: FutureWarning: Conversion of the second argument of issubdtype from `float` to `np.floating` is deprecated. In future, it will be treated as `np.float64 == np.dtype(float).type`.\n",
      "  from ._conv import register_converters as _register_converters\n"
     ]
    },
    {
     "data": {
      "text/html": [
       "\n",
       "    <div class=\"bk-root\">\n",
       "        <a href=\"https://bokeh.pydata.org\" target=\"_blank\" class=\"bk-logo bk-logo-small bk-logo-notebook\"></a>\n",
       "        <span id=\"1001\">Loading BokehJS ...</span>\n",
       "    </div>"
      ]
     },
     "metadata": {},
     "output_type": "display_data"
    },
    {
     "data": {
      "application/javascript": [
       "\n",
       "(function(root) {\n",
       "  function now() {\n",
       "    return new Date();\n",
       "  }\n",
       "\n",
       "  var force = true;\n",
       "\n",
       "  if (typeof (root._bokeh_onload_callbacks) === \"undefined\" || force === true) {\n",
       "    root._bokeh_onload_callbacks = [];\n",
       "    root._bokeh_is_loading = undefined;\n",
       "  }\n",
       "\n",
       "  var JS_MIME_TYPE = 'application/javascript';\n",
       "  var HTML_MIME_TYPE = 'text/html';\n",
       "  var EXEC_MIME_TYPE = 'application/vnd.bokehjs_exec.v0+json';\n",
       "  var CLASS_NAME = 'output_bokeh rendered_html';\n",
       "\n",
       "  /**\n",
       "   * Render data to the DOM node\n",
       "   */\n",
       "  function render(props, node) {\n",
       "    var script = document.createElement(\"script\");\n",
       "    node.appendChild(script);\n",
       "  }\n",
       "\n",
       "  /**\n",
       "   * Handle when an output is cleared or removed\n",
       "   */\n",
       "  function handleClearOutput(event, handle) {\n",
       "    var cell = handle.cell;\n",
       "\n",
       "    var id = cell.output_area._bokeh_element_id;\n",
       "    var server_id = cell.output_area._bokeh_server_id;\n",
       "    // Clean up Bokeh references\n",
       "    if (id != null && id in Bokeh.index) {\n",
       "      Bokeh.index[id].model.document.clear();\n",
       "      delete Bokeh.index[id];\n",
       "    }\n",
       "\n",
       "    if (server_id !== undefined) {\n",
       "      // Clean up Bokeh references\n",
       "      var cmd = \"from bokeh.io.state import curstate; print(curstate().uuid_to_server['\" + server_id + \"'].get_sessions()[0].document.roots[0]._id)\";\n",
       "      cell.notebook.kernel.execute(cmd, {\n",
       "        iopub: {\n",
       "          output: function(msg) {\n",
       "            var id = msg.content.text.trim();\n",
       "            if (id in Bokeh.index) {\n",
       "              Bokeh.index[id].model.document.clear();\n",
       "              delete Bokeh.index[id];\n",
       "            }\n",
       "          }\n",
       "        }\n",
       "      });\n",
       "      // Destroy server and session\n",
       "      var cmd = \"import bokeh.io.notebook as ion; ion.destroy_server('\" + server_id + \"')\";\n",
       "      cell.notebook.kernel.execute(cmd);\n",
       "    }\n",
       "  }\n",
       "\n",
       "  /**\n",
       "   * Handle when a new output is added\n",
       "   */\n",
       "  function handleAddOutput(event, handle) {\n",
       "    var output_area = handle.output_area;\n",
       "    var output = handle.output;\n",
       "\n",
       "    // limit handleAddOutput to display_data with EXEC_MIME_TYPE content only\n",
       "    if ((output.output_type != \"display_data\") || (!output.data.hasOwnProperty(EXEC_MIME_TYPE))) {\n",
       "      return\n",
       "    }\n",
       "\n",
       "    var toinsert = output_area.element.find(\".\" + CLASS_NAME.split(' ')[0]);\n",
       "\n",
       "    if (output.metadata[EXEC_MIME_TYPE][\"id\"] !== undefined) {\n",
       "      toinsert[toinsert.length - 1].firstChild.textContent = output.data[JS_MIME_TYPE];\n",
       "      // store reference to embed id on output_area\n",
       "      output_area._bokeh_element_id = output.metadata[EXEC_MIME_TYPE][\"id\"];\n",
       "    }\n",
       "    if (output.metadata[EXEC_MIME_TYPE][\"server_id\"] !== undefined) {\n",
       "      var bk_div = document.createElement(\"div\");\n",
       "      bk_div.innerHTML = output.data[HTML_MIME_TYPE];\n",
       "      var script_attrs = bk_div.children[0].attributes;\n",
       "      for (var i = 0; i < script_attrs.length; i++) {\n",
       "        toinsert[toinsert.length - 1].firstChild.setAttribute(script_attrs[i].name, script_attrs[i].value);\n",
       "      }\n",
       "      // store reference to server id on output_area\n",
       "      output_area._bokeh_server_id = output.metadata[EXEC_MIME_TYPE][\"server_id\"];\n",
       "    }\n",
       "  }\n",
       "\n",
       "  function register_renderer(events, OutputArea) {\n",
       "\n",
       "    function append_mime(data, metadata, element) {\n",
       "      // create a DOM node to render to\n",
       "      var toinsert = this.create_output_subarea(\n",
       "        metadata,\n",
       "        CLASS_NAME,\n",
       "        EXEC_MIME_TYPE\n",
       "      );\n",
       "      this.keyboard_manager.register_events(toinsert);\n",
       "      // Render to node\n",
       "      var props = {data: data, metadata: metadata[EXEC_MIME_TYPE]};\n",
       "      render(props, toinsert[toinsert.length - 1]);\n",
       "      element.append(toinsert);\n",
       "      return toinsert\n",
       "    }\n",
       "\n",
       "    /* Handle when an output is cleared or removed */\n",
       "    events.on('clear_output.CodeCell', handleClearOutput);\n",
       "    events.on('delete.Cell', handleClearOutput);\n",
       "\n",
       "    /* Handle when a new output is added */\n",
       "    events.on('output_added.OutputArea', handleAddOutput);\n",
       "\n",
       "    /**\n",
       "     * Register the mime type and append_mime function with output_area\n",
       "     */\n",
       "    OutputArea.prototype.register_mime_type(EXEC_MIME_TYPE, append_mime, {\n",
       "      /* Is output safe? */\n",
       "      safe: true,\n",
       "      /* Index of renderer in `output_area.display_order` */\n",
       "      index: 0\n",
       "    });\n",
       "  }\n",
       "\n",
       "  // register the mime type if in Jupyter Notebook environment and previously unregistered\n",
       "  if (root.Jupyter !== undefined) {\n",
       "    var events = require('base/js/events');\n",
       "    var OutputArea = require('notebook/js/outputarea').OutputArea;\n",
       "\n",
       "    if (OutputArea.prototype.mime_types().indexOf(EXEC_MIME_TYPE) == -1) {\n",
       "      register_renderer(events, OutputArea);\n",
       "    }\n",
       "  }\n",
       "\n",
       "  \n",
       "  if (typeof (root._bokeh_timeout) === \"undefined\" || force === true) {\n",
       "    root._bokeh_timeout = Date.now() + 5000;\n",
       "    root._bokeh_failed_load = false;\n",
       "  }\n",
       "\n",
       "  var NB_LOAD_WARNING = {'data': {'text/html':\n",
       "     \"<div style='background-color: #fdd'>\\n\"+\n",
       "     \"<p>\\n\"+\n",
       "     \"BokehJS does not appear to have successfully loaded. If loading BokehJS from CDN, this \\n\"+\n",
       "     \"may be due to a slow or bad network connection. Possible fixes:\\n\"+\n",
       "     \"</p>\\n\"+\n",
       "     \"<ul>\\n\"+\n",
       "     \"<li>re-rerun `output_notebook()` to attempt to load from CDN again, or</li>\\n\"+\n",
       "     \"<li>use INLINE resources instead, as so:</li>\\n\"+\n",
       "     \"</ul>\\n\"+\n",
       "     \"<code>\\n\"+\n",
       "     \"from bokeh.resources import INLINE\\n\"+\n",
       "     \"output_notebook(resources=INLINE)\\n\"+\n",
       "     \"</code>\\n\"+\n",
       "     \"</div>\"}};\n",
       "\n",
       "  function display_loaded() {\n",
       "    var el = document.getElementById(\"1001\");\n",
       "    if (el != null) {\n",
       "      el.textContent = \"BokehJS is loading...\";\n",
       "    }\n",
       "    if (root.Bokeh !== undefined) {\n",
       "      if (el != null) {\n",
       "        el.textContent = \"BokehJS \" + root.Bokeh.version + \" successfully loaded.\";\n",
       "      }\n",
       "    } else if (Date.now() < root._bokeh_timeout) {\n",
       "      setTimeout(display_loaded, 100)\n",
       "    }\n",
       "  }\n",
       "\n",
       "\n",
       "  function run_callbacks() {\n",
       "    try {\n",
       "      root._bokeh_onload_callbacks.forEach(function(callback) { callback() });\n",
       "    }\n",
       "    finally {\n",
       "      delete root._bokeh_onload_callbacks\n",
       "    }\n",
       "    console.info(\"Bokeh: all callbacks have finished\");\n",
       "  }\n",
       "\n",
       "  function load_libs(js_urls, callback) {\n",
       "    root._bokeh_onload_callbacks.push(callback);\n",
       "    if (root._bokeh_is_loading > 0) {\n",
       "      console.log(\"Bokeh: BokehJS is being loaded, scheduling callback at\", now());\n",
       "      return null;\n",
       "    }\n",
       "    if (js_urls == null || js_urls.length === 0) {\n",
       "      run_callbacks();\n",
       "      return null;\n",
       "    }\n",
       "    console.log(\"Bokeh: BokehJS not loaded, scheduling load and callback at\", now());\n",
       "    root._bokeh_is_loading = js_urls.length;\n",
       "    for (var i = 0; i < js_urls.length; i++) {\n",
       "      var url = js_urls[i];\n",
       "      var s = document.createElement('script');\n",
       "      s.src = url;\n",
       "      s.async = false;\n",
       "      s.onreadystatechange = s.onload = function() {\n",
       "        root._bokeh_is_loading--;\n",
       "        if (root._bokeh_is_loading === 0) {\n",
       "          console.log(\"Bokeh: all BokehJS libraries loaded\");\n",
       "          run_callbacks()\n",
       "        }\n",
       "      };\n",
       "      s.onerror = function() {\n",
       "        console.warn(\"failed to load library \" + url);\n",
       "      };\n",
       "      console.log(\"Bokeh: injecting script tag for BokehJS library: \", url);\n",
       "      document.getElementsByTagName(\"head\")[0].appendChild(s);\n",
       "    }\n",
       "  };var element = document.getElementById(\"1001\");\n",
       "  if (element == null) {\n",
       "    console.log(\"Bokeh: ERROR: autoload.js configured with elementid '1001' but no matching script tag was found. \")\n",
       "    return false;\n",
       "  }\n",
       "\n",
       "  var js_urls = [\"https://cdn.pydata.org/bokeh/release/bokeh-1.0.0.min.js\", \"https://cdn.pydata.org/bokeh/release/bokeh-widgets-1.0.0.min.js\", \"https://cdn.pydata.org/bokeh/release/bokeh-tables-1.0.0.min.js\", \"https://cdn.pydata.org/bokeh/release/bokeh-gl-1.0.0.min.js\"];\n",
       "\n",
       "  var inline_js = [\n",
       "    function(Bokeh) {\n",
       "      Bokeh.set_log_level(\"info\");\n",
       "    },\n",
       "    \n",
       "    function(Bokeh) {\n",
       "      \n",
       "    },\n",
       "    function(Bokeh) {\n",
       "      console.log(\"Bokeh: injecting CSS: https://cdn.pydata.org/bokeh/release/bokeh-1.0.0.min.css\");\n",
       "      Bokeh.embed.inject_css(\"https://cdn.pydata.org/bokeh/release/bokeh-1.0.0.min.css\");\n",
       "      console.log(\"Bokeh: injecting CSS: https://cdn.pydata.org/bokeh/release/bokeh-widgets-1.0.0.min.css\");\n",
       "      Bokeh.embed.inject_css(\"https://cdn.pydata.org/bokeh/release/bokeh-widgets-1.0.0.min.css\");\n",
       "      console.log(\"Bokeh: injecting CSS: https://cdn.pydata.org/bokeh/release/bokeh-tables-1.0.0.min.css\");\n",
       "      Bokeh.embed.inject_css(\"https://cdn.pydata.org/bokeh/release/bokeh-tables-1.0.0.min.css\");\n",
       "    }\n",
       "  ];\n",
       "\n",
       "  function run_inline_js() {\n",
       "    \n",
       "    if ((root.Bokeh !== undefined) || (force === true)) {\n",
       "      for (var i = 0; i < inline_js.length; i++) {\n",
       "        inline_js[i].call(root, root.Bokeh);\n",
       "      }if (force === true) {\n",
       "        display_loaded();\n",
       "      }} else if (Date.now() < root._bokeh_timeout) {\n",
       "      setTimeout(run_inline_js, 100);\n",
       "    } else if (!root._bokeh_failed_load) {\n",
       "      console.log(\"Bokeh: BokehJS failed to load within specified timeout.\");\n",
       "      root._bokeh_failed_load = true;\n",
       "    } else if (force !== true) {\n",
       "      var cell = $(document.getElementById(\"1001\")).parents('.cell').data().cell;\n",
       "      cell.output_area.append_execute_result(NB_LOAD_WARNING)\n",
       "    }\n",
       "\n",
       "  }\n",
       "\n",
       "  if (root._bokeh_is_loading === 0) {\n",
       "    console.log(\"Bokeh: BokehJS loaded, going straight to plotting\");\n",
       "    run_inline_js();\n",
       "  } else {\n",
       "    load_libs(js_urls, function() {\n",
       "      console.log(\"Bokeh: BokehJS plotting callback run at\", now());\n",
       "      run_inline_js();\n",
       "    });\n",
       "  }\n",
       "}(window));"
      ],
      "application/vnd.bokehjs_load.v0+json": "\n(function(root) {\n  function now() {\n    return new Date();\n  }\n\n  var force = true;\n\n  if (typeof (root._bokeh_onload_callbacks) === \"undefined\" || force === true) {\n    root._bokeh_onload_callbacks = [];\n    root._bokeh_is_loading = undefined;\n  }\n\n  \n\n  \n  if (typeof (root._bokeh_timeout) === \"undefined\" || force === true) {\n    root._bokeh_timeout = Date.now() + 5000;\n    root._bokeh_failed_load = false;\n  }\n\n  var NB_LOAD_WARNING = {'data': {'text/html':\n     \"<div style='background-color: #fdd'>\\n\"+\n     \"<p>\\n\"+\n     \"BokehJS does not appear to have successfully loaded. If loading BokehJS from CDN, this \\n\"+\n     \"may be due to a slow or bad network connection. Possible fixes:\\n\"+\n     \"</p>\\n\"+\n     \"<ul>\\n\"+\n     \"<li>re-rerun `output_notebook()` to attempt to load from CDN again, or</li>\\n\"+\n     \"<li>use INLINE resources instead, as so:</li>\\n\"+\n     \"</ul>\\n\"+\n     \"<code>\\n\"+\n     \"from bokeh.resources import INLINE\\n\"+\n     \"output_notebook(resources=INLINE)\\n\"+\n     \"</code>\\n\"+\n     \"</div>\"}};\n\n  function display_loaded() {\n    var el = document.getElementById(\"1001\");\n    if (el != null) {\n      el.textContent = \"BokehJS is loading...\";\n    }\n    if (root.Bokeh !== undefined) {\n      if (el != null) {\n        el.textContent = \"BokehJS \" + root.Bokeh.version + \" successfully loaded.\";\n      }\n    } else if (Date.now() < root._bokeh_timeout) {\n      setTimeout(display_loaded, 100)\n    }\n  }\n\n\n  function run_callbacks() {\n    try {\n      root._bokeh_onload_callbacks.forEach(function(callback) { callback() });\n    }\n    finally {\n      delete root._bokeh_onload_callbacks\n    }\n    console.info(\"Bokeh: all callbacks have finished\");\n  }\n\n  function load_libs(js_urls, callback) {\n    root._bokeh_onload_callbacks.push(callback);\n    if (root._bokeh_is_loading > 0) {\n      console.log(\"Bokeh: BokehJS is being loaded, scheduling callback at\", now());\n      return null;\n    }\n    if (js_urls == null || js_urls.length === 0) {\n      run_callbacks();\n      return null;\n    }\n    console.log(\"Bokeh: BokehJS not loaded, scheduling load and callback at\", now());\n    root._bokeh_is_loading = js_urls.length;\n    for (var i = 0; i < js_urls.length; i++) {\n      var url = js_urls[i];\n      var s = document.createElement('script');\n      s.src = url;\n      s.async = false;\n      s.onreadystatechange = s.onload = function() {\n        root._bokeh_is_loading--;\n        if (root._bokeh_is_loading === 0) {\n          console.log(\"Bokeh: all BokehJS libraries loaded\");\n          run_callbacks()\n        }\n      };\n      s.onerror = function() {\n        console.warn(\"failed to load library \" + url);\n      };\n      console.log(\"Bokeh: injecting script tag for BokehJS library: \", url);\n      document.getElementsByTagName(\"head\")[0].appendChild(s);\n    }\n  };var element = document.getElementById(\"1001\");\n  if (element == null) {\n    console.log(\"Bokeh: ERROR: autoload.js configured with elementid '1001' but no matching script tag was found. \")\n    return false;\n  }\n\n  var js_urls = [\"https://cdn.pydata.org/bokeh/release/bokeh-1.0.0.min.js\", \"https://cdn.pydata.org/bokeh/release/bokeh-widgets-1.0.0.min.js\", \"https://cdn.pydata.org/bokeh/release/bokeh-tables-1.0.0.min.js\", \"https://cdn.pydata.org/bokeh/release/bokeh-gl-1.0.0.min.js\"];\n\n  var inline_js = [\n    function(Bokeh) {\n      Bokeh.set_log_level(\"info\");\n    },\n    \n    function(Bokeh) {\n      \n    },\n    function(Bokeh) {\n      console.log(\"Bokeh: injecting CSS: https://cdn.pydata.org/bokeh/release/bokeh-1.0.0.min.css\");\n      Bokeh.embed.inject_css(\"https://cdn.pydata.org/bokeh/release/bokeh-1.0.0.min.css\");\n      console.log(\"Bokeh: injecting CSS: https://cdn.pydata.org/bokeh/release/bokeh-widgets-1.0.0.min.css\");\n      Bokeh.embed.inject_css(\"https://cdn.pydata.org/bokeh/release/bokeh-widgets-1.0.0.min.css\");\n      console.log(\"Bokeh: injecting CSS: https://cdn.pydata.org/bokeh/release/bokeh-tables-1.0.0.min.css\");\n      Bokeh.embed.inject_css(\"https://cdn.pydata.org/bokeh/release/bokeh-tables-1.0.0.min.css\");\n    }\n  ];\n\n  function run_inline_js() {\n    \n    if ((root.Bokeh !== undefined) || (force === true)) {\n      for (var i = 0; i < inline_js.length; i++) {\n        inline_js[i].call(root, root.Bokeh);\n      }if (force === true) {\n        display_loaded();\n      }} else if (Date.now() < root._bokeh_timeout) {\n      setTimeout(run_inline_js, 100);\n    } else if (!root._bokeh_failed_load) {\n      console.log(\"Bokeh: BokehJS failed to load within specified timeout.\");\n      root._bokeh_failed_load = true;\n    } else if (force !== true) {\n      var cell = $(document.getElementById(\"1001\")).parents('.cell').data().cell;\n      cell.output_area.append_execute_result(NB_LOAD_WARNING)\n    }\n\n  }\n\n  if (root._bokeh_is_loading === 0) {\n    console.log(\"Bokeh: BokehJS loaded, going straight to plotting\");\n    run_inline_js();\n  } else {\n    load_libs(js_urls, function() {\n      console.log(\"Bokeh: BokehJS plotting callback run at\", now());\n      run_inline_js();\n    });\n  }\n}(window));"
     },
     "metadata": {},
     "output_type": "display_data"
    }
   ],
   "source": [
    "# Imports\n",
    "from sedkit import sed, spectrum, synphot, catalog\n",
    "import astropy.units as q\n",
    "import numpy as np\n",
    "import copy\n",
    "from pkg_resources import resource_filename\n",
    "from bokeh.io import output_notebook, show\n",
    "output_notebook()"
   ]
  },
  {
   "cell_type": "markdown",
   "metadata": {},
   "source": [
    "First we initialize an empty catalog."
   ]
  },
  {
   "cell_type": "code",
   "execution_count": 2,
   "metadata": {},
   "outputs": [],
   "source": [
    "# Make an SED catalog\n",
    "cat = catalog.Catalog()"
   ]
  },
  {
   "cell_type": "markdown",
   "metadata": {},
   "source": [
    "Now let's make a few SEDs"
   ]
  },
  {
   "cell_type": "code",
   "execution_count": 3,
   "metadata": {},
   "outputs": [
    {
     "name": "stdout",
     "output_type": "stream",
     "text": [
      "Setting radius to (<Quantity 0.09415542 solRad>, <Quantity 0.01964052 solRad>)\n",
      "Setting age to (<Quantity 6. Gyr>, <Quantity 4. Gyr>)\n"
     ]
    }
   ],
   "source": [
    "# Make an SED\n",
    "s1 = sed.SED(parallax=(1.7474*q.mas, 0.0501*q.mas), spectral_type='L3', name='2MASS 261832886')\n",
    "s1.add_photometry_file(resource_filename('sedkit', 'data/L3_photometry.txt'))\n",
    "cat.add_SED(s1)"
   ]
  },
  {
   "cell_type": "code",
   "execution_count": 4,
   "metadata": {},
   "outputs": [],
   "source": [
    "# Make 10 other SEDs (I'll just change the parallax)\n",
    "for i in range(10):\n",
    "    s2 = copy.copy(s1)\n",
    "    s2.parallax = abs(np.random.normal(loc=1.7474, scale=0.1))*q.mas, 0.1*q.mas\n",
    "    s2.name += str(i)\n",
    "    cat.add_SED(s2)"
   ]
  },
  {
   "cell_type": "markdown",
   "metadata": {},
   "source": [
    "Then the (abridged) aggregated results look like this:"
   ]
  },
  {
   "cell_type": "code",
   "execution_count": 5,
   "metadata": {},
   "outputs": [
    {
     "data": {
      "text/html": [
       "&lt;Table length=11&gt;\n",
       "<table id=\"table4968172568\" class=\"table-striped table-bordered table-condensed\">\n",
       "<thead><tr><th>name</th><th>distance</th><th>distance_unc</th><th>Lbol_sun</th><th>Lbol_sun_unc</th><th>Teff</th><th>Teff_unc</th></tr></thead>\n",
       "<thead><tr><th></th><th>pc</th><th>pc</th><th></th><th></th><th>K</th><th>K</th></tr></thead>\n",
       "<thead><tr><th>object</th><th>object</th><th>object</th><th>object</th><th>object</th><th>object</th><th>object</th></tr></thead>\n",
       "<tr><td>2MASS 261832886</td><td>572.28</td><td>16.41</td><td>-0.317</td><td>0.025</td><td>15675.0</td><td>1650.0</td></tr>\n",
       "<tr><td>2MASS 2618328860</td><td>545.12</td><td>29.72</td><td>-0.359</td><td>0.048</td><td>15298.0</td><td>1649.0</td></tr>\n",
       "<tr><td>2MASS 2618328861</td><td>555.83</td><td>30.89</td><td>-0.342</td><td>0.049</td><td>15448.0</td><td>1668.0</td></tr>\n",
       "<tr><td>2MASS 2618328862</td><td>590.14</td><td>34.83</td><td>-0.29</td><td>0.052</td><td>15918.0</td><td>1726.0</td></tr>\n",
       "<tr><td>2MASS 2618328863</td><td>520.4</td><td>27.08</td><td>-0.399</td><td>0.046</td><td>14947.0</td><td>1607.0</td></tr>\n",
       "<tr><td>2MASS 2618328864</td><td>577.97</td><td>33.4</td><td>-0.308</td><td>0.05</td><td>15753.0</td><td>1705.0</td></tr>\n",
       "<tr><td>2MASS 2618328865</td><td>601.29</td><td>36.15</td><td>-0.274</td><td>0.052</td><td>16067.0</td><td>1744.0</td></tr>\n",
       "<tr><td>2MASS 2618328866</td><td>554.73</td><td>30.77</td><td>-0.344</td><td>0.048</td><td>15433.0</td><td>1666.0</td></tr>\n",
       "<tr><td>2MASS 2618328867</td><td>593.72</td><td>35.25</td><td>-0.285</td><td>0.052</td><td>15966.0</td><td>1732.0</td></tr>\n",
       "<tr><td>2MASS 2618328868</td><td>631.58</td><td>39.89</td><td>-0.231</td><td>0.055</td><td>16467.0</td><td>1795.0</td></tr>\n",
       "<tr><td>2MASS 2618328869</td><td>528.81</td><td>27.96</td><td>-0.385</td><td>0.046</td><td>15068.0</td><td>1621.0</td></tr>\n",
       "</table>"
      ],
      "text/plain": [
       "<Table length=11>\n",
       "      name       distance distance_unc Lbol_sun Lbol_sun_unc   Teff  Teff_unc\n",
       "                    pc         pc                               K       K    \n",
       "     object       object     object     object     object     object  object \n",
       "---------------- -------- ------------ -------- ------------ ------- --------\n",
       " 2MASS 261832886   572.28        16.41   -0.317        0.025 15675.0   1650.0\n",
       "2MASS 2618328860   545.12        29.72   -0.359        0.048 15298.0   1649.0\n",
       "2MASS 2618328861   555.83        30.89   -0.342        0.049 15448.0   1668.0\n",
       "2MASS 2618328862   590.14        34.83    -0.29        0.052 15918.0   1726.0\n",
       "2MASS 2618328863    520.4        27.08   -0.399        0.046 14947.0   1607.0\n",
       "2MASS 2618328864   577.97         33.4   -0.308         0.05 15753.0   1705.0\n",
       "2MASS 2618328865   601.29        36.15   -0.274        0.052 16067.0   1744.0\n",
       "2MASS 2618328866   554.73        30.77   -0.344        0.048 15433.0   1666.0\n",
       "2MASS 2618328867   593.72        35.25   -0.285        0.052 15966.0   1732.0\n",
       "2MASS 2618328868   631.58        39.89   -0.231        0.055 16467.0   1795.0\n",
       "2MASS 2618328869   528.81        27.96   -0.385        0.046 15068.0   1621.0"
      ]
     },
     "execution_count": 5,
     "metadata": {},
     "output_type": "execute_result"
    }
   ],
   "source": [
    "cat.results[['name','distance','distance_unc','Lbol_sun','Lbol_sun_unc','Teff','Teff_unc']]"
   ]
  },
  {
   "cell_type": "markdown",
   "metadata": {},
   "source": [
    "We can also plot the results by passing the `plot` method two column names."
   ]
  },
  {
   "cell_type": "code",
   "execution_count": 6,
   "metadata": {},
   "outputs": [
    {
     "data": {
      "text/html": [
       "\n",
       "\n",
       "\n",
       "\n",
       "\n",
       "\n",
       "  <div class=\"bk-root\" id=\"a598a51b-3657-4ab3-bf8f-7cb24ffe832a\"></div>\n"
      ]
     },
     "metadata": {},
     "output_type": "display_data"
    },
    {
     "data": {
      "application/javascript": [
       "(function(root) {\n",
       "  function embed_document(root) {\n",
       "    \n",
       "  var docs_json = {\"ffcd9f35-6607-417f-b329-5b82a64bf056\":{\"roots\":{\"references\":[{\"attributes\":{\"fill_alpha\":{\"value\":0.1},\"fill_color\":{\"value\":\"#1f77b4\"},\"line_alpha\":{\"value\":0.1},\"line_color\":{\"value\":\"#1f77b4\"},\"size\":{\"units\":\"screen\",\"value\":8},\"x\":{\"field\":\"x\"},\"y\":{\"field\":\"y\"}},\"id\":\"1073\",\"type\":\"Circle\"},{\"attributes\":{\"dimension\":1,\"plot\":{\"id\":\"1037\",\"subtype\":\"Figure\",\"type\":\"Plot\"},\"ticker\":{\"id\":\"1053\",\"type\":\"BasicTicker\"}},\"id\":\"1056\",\"type\":\"Grid\"},{\"attributes\":{\"plot\":null,\"text\":\"distance v Teff\"},\"id\":\"1036\",\"type\":\"Title\"},{\"attributes\":{},\"id\":\"1043\",\"type\":\"LinearScale\"},{\"attributes\":{\"axis_label\":\"distance [pc]\",\"formatter\":{\"id\":\"1077\",\"type\":\"BasicTickFormatter\"},\"plot\":{\"id\":\"1037\",\"subtype\":\"Figure\",\"type\":\"Plot\"},\"ticker\":{\"id\":\"1048\",\"type\":\"BasicTicker\"}},\"id\":\"1047\",\"type\":\"LinearAxis\"},{\"attributes\":{},\"id\":\"1060\",\"type\":\"SaveTool\"},{\"attributes\":{\"callback\":null},\"id\":\"1039\",\"type\":\"DataRange1d\"},{\"attributes\":{\"plot\":{\"id\":\"1037\",\"subtype\":\"Figure\",\"type\":\"Plot\"},\"ticker\":{\"id\":\"1048\",\"type\":\"BasicTicker\"}},\"id\":\"1051\",\"type\":\"Grid\"},{\"attributes\":{},\"id\":\"1058\",\"type\":\"ResetTool\"},{\"attributes\":{\"click_policy\":\"hide\",\"items\":[{\"id\":\"1083\",\"type\":\"LegendItem\"}],\"plot\":{\"id\":\"1037\",\"subtype\":\"Figure\",\"type\":\"Plot\"}},\"id\":\"1082\",\"type\":\"Legend\"},{\"attributes\":{\"below\":[{\"id\":\"1047\",\"type\":\"LinearAxis\"}],\"left\":[{\"id\":\"1052\",\"type\":\"LinearAxis\"}],\"plot_height\":500,\"plot_width\":800,\"renderers\":[{\"id\":\"1047\",\"type\":\"LinearAxis\"},{\"id\":\"1051\",\"type\":\"Grid\"},{\"id\":\"1052\",\"type\":\"LinearAxis\"},{\"id\":\"1056\",\"type\":\"Grid\"},{\"id\":\"1063\",\"type\":\"BoxAnnotation\"},{\"id\":\"1082\",\"type\":\"Legend\"},{\"id\":\"1074\",\"type\":\"GlyphRenderer\"}],\"title\":{\"id\":\"1036\",\"type\":\"Title\"},\"toolbar\":{\"id\":\"1061\",\"type\":\"Toolbar\"},\"x_range\":{\"id\":\"1039\",\"type\":\"DataRange1d\"},\"x_scale\":{\"id\":\"1043\",\"type\":\"LinearScale\"},\"y_range\":{\"id\":\"1041\",\"type\":\"DataRange1d\"},\"y_scale\":{\"id\":\"1045\",\"type\":\"LinearScale\"}},\"id\":\"1037\",\"subtype\":\"Figure\",\"type\":\"Plot\"},{\"attributes\":{\"source\":{\"id\":\"1070\",\"type\":\"ColumnDataSource\"}},\"id\":\"1075\",\"type\":\"CDSView\"},{\"attributes\":{},\"id\":\"1053\",\"type\":\"BasicTicker\"},{\"attributes\":{\"fill_alpha\":{\"value\":0.7},\"fill_color\":{\"value\":\"blue\"},\"line_color\":{\"value\":\"blue\"},\"size\":{\"units\":\"screen\",\"value\":8},\"x\":{\"field\":\"x\"},\"y\":{\"field\":\"y\"}},\"id\":\"1072\",\"type\":\"Circle\"},{\"attributes\":{\"overlay\":{\"id\":\"1063\",\"type\":\"BoxAnnotation\"}},\"id\":\"1059\",\"type\":\"BoxZoomTool\"},{\"attributes\":{},\"id\":\"1048\",\"type\":\"BasicTicker\"},{\"attributes\":{\"label\":{\"value\":\"SED Catalog\"},\"renderers\":[{\"id\":\"1074\",\"type\":\"GlyphRenderer\"}]},\"id\":\"1083\",\"type\":\"LegendItem\"},{\"attributes\":{\"active_drag\":\"auto\",\"active_inspect\":\"auto\",\"active_multi\":null,\"active_scroll\":\"auto\",\"active_tap\":\"auto\",\"tools\":[{\"id\":\"1057\",\"type\":\"PanTool\"},{\"id\":\"1058\",\"type\":\"ResetTool\"},{\"id\":\"1059\",\"type\":\"BoxZoomTool\"},{\"id\":\"1060\",\"type\":\"SaveTool\"},{\"id\":\"1068\",\"type\":\"HoverTool\"}]},\"id\":\"1061\",\"type\":\"Toolbar\"},{\"attributes\":{},\"id\":\"1091\",\"type\":\"UnionRenderers\"},{\"attributes\":{},\"id\":\"1057\",\"type\":\"PanTool\"},{\"attributes\":{\"axis_label\":\"Teff [K]\",\"formatter\":{\"id\":\"1079\",\"type\":\"BasicTickFormatter\"},\"plot\":{\"id\":\"1037\",\"subtype\":\"Figure\",\"type\":\"Plot\"},\"ticker\":{\"id\":\"1053\",\"type\":\"BasicTicker\"}},\"id\":\"1052\",\"type\":\"LinearAxis\"},{\"attributes\":{},\"id\":\"1079\",\"type\":\"BasicTickFormatter\"},{\"attributes\":{\"bottom_units\":\"screen\",\"fill_alpha\":{\"value\":0.5},\"fill_color\":{\"value\":\"lightgrey\"},\"left_units\":\"screen\",\"level\":\"overlay\",\"line_alpha\":{\"value\":1.0},\"line_color\":{\"value\":\"black\"},\"line_dash\":[4,4],\"line_width\":{\"value\":2},\"plot\":null,\"render_mode\":\"css\",\"right_units\":\"screen\",\"top_units\":\"screen\"},\"id\":\"1063\",\"type\":\"BoxAnnotation\"},{\"attributes\":{\"callback\":null,\"renderers\":\"auto\",\"tooltips\":[[\"Name\",\"@desc\"],[\"distance\",\"@x\"],[\"Teff\",\"@y\"]]},\"id\":\"1068\",\"type\":\"HoverTool\"},{\"attributes\":{},\"id\":\"1077\",\"type\":\"BasicTickFormatter\"},{\"attributes\":{},\"id\":\"1090\",\"type\":\"Selection\"},{\"attributes\":{\"callback\":null,\"data\":{\"desc\":[\"2MASS 261832886\",\"2MASS 2618328860\",\"2MASS 2618328861\",\"2MASS 2618328862\",\"2MASS 2618328863\",\"2MASS 2618328864\",\"2MASS 2618328865\",\"2MASS 2618328866\",\"2MASS 2618328867\",\"2MASS 2618328868\",\"2MASS 2618328869\"],\"x\":[572.28,545.12,555.83,590.14,520.4,577.97,601.29,554.73,593.72,631.58,528.81],\"y\":[15675.0,15298.0,15448.0,15918.0,14947.0,15753.0,16067.0,15433.0,15966.0,16467.0,15068.0]},\"selected\":{\"id\":\"1090\",\"type\":\"Selection\"},\"selection_policy\":{\"id\":\"1091\",\"type\":\"UnionRenderers\"}},\"id\":\"1070\",\"type\":\"ColumnDataSource\"},{\"attributes\":{},\"id\":\"1045\",\"type\":\"LinearScale\"},{\"attributes\":{\"callback\":null},\"id\":\"1041\",\"type\":\"DataRange1d\"},{\"attributes\":{\"data_source\":{\"id\":\"1070\",\"type\":\"ColumnDataSource\"},\"glyph\":{\"id\":\"1072\",\"type\":\"Circle\"},\"hover_glyph\":null,\"muted_glyph\":null,\"name\":\"photometry\",\"nonselection_glyph\":{\"id\":\"1073\",\"type\":\"Circle\"},\"selection_glyph\":null,\"view\":{\"id\":\"1075\",\"type\":\"CDSView\"}},\"id\":\"1074\",\"type\":\"GlyphRenderer\"}],\"root_ids\":[\"1037\"]},\"title\":\"Bokeh Application\",\"version\":\"1.0.0\"}};\n",
       "  var render_items = [{\"docid\":\"ffcd9f35-6607-417f-b329-5b82a64bf056\",\"roots\":{\"1037\":\"a598a51b-3657-4ab3-bf8f-7cb24ffe832a\"}}];\n",
       "  root.Bokeh.embed.embed_items_notebook(docs_json, render_items);\n",
       "\n",
       "  }\n",
       "  if (root.Bokeh !== undefined) {\n",
       "    embed_document(root);\n",
       "  } else {\n",
       "    var attempts = 0;\n",
       "    var timer = setInterval(function(root) {\n",
       "      if (root.Bokeh !== undefined) {\n",
       "        embed_document(root);\n",
       "        clearInterval(timer);\n",
       "      }\n",
       "      attempts++;\n",
       "      if (attempts > 100) {\n",
       "        console.log(\"Bokeh: ERROR: Unable to run BokehJS code because BokehJS library is missing\");\n",
       "        clearInterval(timer);\n",
       "      }\n",
       "    }, 10, root)\n",
       "  }\n",
       "})(window);"
      ],
      "application/vnd.bokehjs_exec.v0+json": ""
     },
     "metadata": {
      "application/vnd.bokehjs_exec.v0+json": {
       "id": "1037"
      }
     },
     "output_type": "display_data"
    }
   ],
   "source": [
    "show(cat.plot('distance', 'Teff'))"
   ]
  },
  {
   "cell_type": "markdown",
   "metadata": {},
   "source": [
    "Or plot a CMD! You can also pass the difference of two magnitudes as a string like so."
   ]
  },
  {
   "cell_type": "code",
   "execution_count": 7,
   "metadata": {},
   "outputs": [
    {
     "data": {
      "text/html": [
       "\n",
       "\n",
       "\n",
       "\n",
       "\n",
       "\n",
       "  <div class=\"bk-root\" id=\"4c2bb6bb-4c02-490d-acc2-c7478a478b34\"></div>\n"
      ]
     },
     "metadata": {},
     "output_type": "display_data"
    },
    {
     "data": {
      "application/javascript": [
       "(function(root) {\n",
       "  function embed_document(root) {\n",
       "    \n",
       "  var docs_json = {\"3aeb08dd-f603-4cda-894c-fbd0c4ab80c3\":{\"roots\":{\"references\":[{\"attributes\":{\"click_policy\":\"hide\",\"items\":[{\"id\":\"1187\",\"type\":\"LegendItem\"}],\"plot\":{\"id\":\"1141\",\"subtype\":\"Figure\",\"type\":\"Plot\"}},\"id\":\"1186\",\"type\":\"Legend\"},{\"attributes\":{\"plot\":null,\"text\":\"2MASS.J-2MASS.Ks v M_2MASS.J\"},\"id\":\"1140\",\"type\":\"Title\"},{\"attributes\":{},\"id\":\"1164\",\"type\":\"SaveTool\"},{\"attributes\":{\"axis_label\":\"M_2MASS.J\",\"formatter\":{\"id\":\"1183\",\"type\":\"BasicTickFormatter\"},\"plot\":{\"id\":\"1141\",\"subtype\":\"Figure\",\"type\":\"Plot\"},\"ticker\":{\"id\":\"1157\",\"type\":\"BasicTicker\"}},\"id\":\"1156\",\"type\":\"LinearAxis\"},{\"attributes\":{},\"id\":\"1181\",\"type\":\"BasicTickFormatter\"},{\"attributes\":{\"bottom_units\":\"screen\",\"fill_alpha\":{\"value\":0.5},\"fill_color\":{\"value\":\"lightgrey\"},\"left_units\":\"screen\",\"level\":\"overlay\",\"line_alpha\":{\"value\":1.0},\"line_color\":{\"value\":\"black\"},\"line_dash\":[4,4],\"line_width\":{\"value\":2},\"plot\":null,\"render_mode\":\"css\",\"right_units\":\"screen\",\"top_units\":\"screen\"},\"id\":\"1167\",\"type\":\"BoxAnnotation\"},{\"attributes\":{\"dimension\":1,\"plot\":{\"id\":\"1141\",\"subtype\":\"Figure\",\"type\":\"Plot\"},\"ticker\":{\"id\":\"1157\",\"type\":\"BasicTicker\"}},\"id\":\"1160\",\"type\":\"Grid\"},{\"attributes\":{},\"id\":\"1203\",\"type\":\"UnionRenderers\"},{\"attributes\":{},\"id\":\"1157\",\"type\":\"BasicTicker\"},{\"attributes\":{},\"id\":\"1152\",\"type\":\"BasicTicker\"},{\"attributes\":{\"below\":[{\"id\":\"1151\",\"type\":\"LinearAxis\"}],\"left\":[{\"id\":\"1156\",\"type\":\"LinearAxis\"}],\"plot_height\":500,\"plot_width\":800,\"renderers\":[{\"id\":\"1151\",\"type\":\"LinearAxis\"},{\"id\":\"1155\",\"type\":\"Grid\"},{\"id\":\"1156\",\"type\":\"LinearAxis\"},{\"id\":\"1160\",\"type\":\"Grid\"},{\"id\":\"1167\",\"type\":\"BoxAnnotation\"},{\"id\":\"1186\",\"type\":\"Legend\"},{\"id\":\"1178\",\"type\":\"GlyphRenderer\"}],\"title\":{\"id\":\"1140\",\"type\":\"Title\"},\"toolbar\":{\"id\":\"1165\",\"type\":\"Toolbar\"},\"x_range\":{\"id\":\"1143\",\"type\":\"DataRange1d\"},\"x_scale\":{\"id\":\"1147\",\"type\":\"LinearScale\"},\"y_range\":{\"id\":\"1145\",\"type\":\"DataRange1d\"},\"y_scale\":{\"id\":\"1149\",\"type\":\"LinearScale\"}},\"id\":\"1141\",\"subtype\":\"Figure\",\"type\":\"Plot\"},{\"attributes\":{\"fill_alpha\":{\"value\":0.1},\"fill_color\":{\"value\":\"#1f77b4\"},\"line_alpha\":{\"value\":0.1},\"line_color\":{\"value\":\"#1f77b4\"},\"size\":{\"units\":\"screen\",\"value\":8},\"x\":{\"field\":\"x\"},\"y\":{\"field\":\"y\"}},\"id\":\"1177\",\"type\":\"Circle\"},{\"attributes\":{\"source\":{\"id\":\"1174\",\"type\":\"ColumnDataSource\"}},\"id\":\"1179\",\"type\":\"CDSView\"},{\"attributes\":{\"label\":{\"value\":\"SED Catalog\"},\"renderers\":[{\"id\":\"1178\",\"type\":\"GlyphRenderer\"}]},\"id\":\"1187\",\"type\":\"LegendItem\"},{\"attributes\":{\"overlay\":{\"id\":\"1167\",\"type\":\"BoxAnnotation\"}},\"id\":\"1163\",\"type\":\"BoxZoomTool\"},{\"attributes\":{\"active_drag\":\"auto\",\"active_inspect\":\"auto\",\"active_multi\":null,\"active_scroll\":\"auto\",\"active_tap\":\"auto\",\"tools\":[{\"id\":\"1161\",\"type\":\"PanTool\"},{\"id\":\"1162\",\"type\":\"ResetTool\"},{\"id\":\"1163\",\"type\":\"BoxZoomTool\"},{\"id\":\"1164\",\"type\":\"SaveTool\"},{\"id\":\"1172\",\"type\":\"HoverTool\"}]},\"id\":\"1165\",\"type\":\"Toolbar\"},{\"attributes\":{\"data_source\":{\"id\":\"1174\",\"type\":\"ColumnDataSource\"},\"glyph\":{\"id\":\"1176\",\"type\":\"Circle\"},\"hover_glyph\":null,\"muted_glyph\":null,\"name\":\"photometry\",\"nonselection_glyph\":{\"id\":\"1177\",\"type\":\"Circle\"},\"selection_glyph\":null,\"view\":{\"id\":\"1179\",\"type\":\"CDSView\"}},\"id\":\"1178\",\"type\":\"GlyphRenderer\"},{\"attributes\":{},\"id\":\"1183\",\"type\":\"BasicTickFormatter\"},{\"attributes\":{\"callback\":null},\"id\":\"1143\",\"type\":\"DataRange1d\"},{\"attributes\":{},\"id\":\"1161\",\"type\":\"PanTool\"},{\"attributes\":{},\"id\":\"1202\",\"type\":\"Selection\"},{\"attributes\":{},\"id\":\"1147\",\"type\":\"LinearScale\"},{\"attributes\":{\"callback\":null,\"data\":{\"desc\":[\"2MASS 261832886\",\"2MASS 2618328860\",\"2MASS 2618328861\",\"2MASS 2618328862\",\"2MASS 2618328863\",\"2MASS 2618328864\",\"2MASS 2618328865\",\"2MASS 2618328866\",\"2MASS 2618328867\",\"2MASS 2618328868\",\"2MASS 2618328869\"],\"x\":[1.4140625,1.4140625,1.4140625,1.4140625,1.4140625,1.4140625,1.4140625,1.4140625,1.4140625,1.4140625,1.4140625],\"y\":[3.6796875,3.7890625,3.7421875,3.6171875,3.890625,3.65625,3.5703125,3.75,3.6015625,3.46875,3.8515625]},\"selected\":{\"id\":\"1202\",\"type\":\"Selection\"},\"selection_policy\":{\"id\":\"1203\",\"type\":\"UnionRenderers\"}},\"id\":\"1174\",\"type\":\"ColumnDataSource\"},{\"attributes\":{\"callback\":null},\"id\":\"1145\",\"type\":\"DataRange1d\"},{\"attributes\":{\"axis_label\":\"2MASS.J-2MASS.Ks\",\"formatter\":{\"id\":\"1181\",\"type\":\"BasicTickFormatter\"},\"plot\":{\"id\":\"1141\",\"subtype\":\"Figure\",\"type\":\"Plot\"},\"ticker\":{\"id\":\"1152\",\"type\":\"BasicTicker\"}},\"id\":\"1151\",\"type\":\"LinearAxis\"},{\"attributes\":{\"callback\":null,\"renderers\":\"auto\",\"tooltips\":[[\"Name\",\"@desc\"],[\"2MASS.J-2MASS.Ks\",\"@x\"],[\"M_2MASS.J\",\"@y\"]]},\"id\":\"1172\",\"type\":\"HoverTool\"},{\"attributes\":{},\"id\":\"1162\",\"type\":\"ResetTool\"},{\"attributes\":{},\"id\":\"1149\",\"type\":\"LinearScale\"},{\"attributes\":{\"fill_alpha\":{\"value\":0.7},\"fill_color\":{\"value\":\"blue\"},\"line_color\":{\"value\":\"blue\"},\"size\":{\"units\":\"screen\",\"value\":8},\"x\":{\"field\":\"x\"},\"y\":{\"field\":\"y\"}},\"id\":\"1176\",\"type\":\"Circle\"},{\"attributes\":{\"plot\":{\"id\":\"1141\",\"subtype\":\"Figure\",\"type\":\"Plot\"},\"ticker\":{\"id\":\"1152\",\"type\":\"BasicTicker\"}},\"id\":\"1155\",\"type\":\"Grid\"}],\"root_ids\":[\"1141\"]},\"title\":\"Bokeh Application\",\"version\":\"1.0.0\"}};\n",
       "  var render_items = [{\"docid\":\"3aeb08dd-f603-4cda-894c-fbd0c4ab80c3\",\"roots\":{\"1141\":\"4c2bb6bb-4c02-490d-acc2-c7478a478b34\"}}];\n",
       "  root.Bokeh.embed.embed_items_notebook(docs_json, render_items);\n",
       "\n",
       "  }\n",
       "  if (root.Bokeh !== undefined) {\n",
       "    embed_document(root);\n",
       "  } else {\n",
       "    var attempts = 0;\n",
       "    var timer = setInterval(function(root) {\n",
       "      if (root.Bokeh !== undefined) {\n",
       "        embed_document(root);\n",
       "        clearInterval(timer);\n",
       "      }\n",
       "      attempts++;\n",
       "      if (attempts > 100) {\n",
       "        console.log(\"Bokeh: ERROR: Unable to run BokehJS code because BokehJS library is missing\");\n",
       "        clearInterval(timer);\n",
       "      }\n",
       "    }, 10, root)\n",
       "  }\n",
       "})(window);"
      ],
      "application/vnd.bokehjs_exec.v0+json": ""
     },
     "metadata": {
      "application/vnd.bokehjs_exec.v0+json": {
       "id": "1141"
      }
     },
     "output_type": "display_data"
    }
   ],
   "source": [
    "show(cat.plot('2MASS.J-2MASS.Ks', 'M_2MASS.J'))"
   ]
  },
  {
   "cell_type": "markdown",
   "metadata": {},
   "source": [
    "We can then retrieve the SED for some sources like so:"
   ]
  },
  {
   "cell_type": "code",
   "execution_count": 42,
   "metadata": {},
   "outputs": [
    {
     "data": {
      "text/html": [
       "\n",
       "\n",
       "\n",
       "\n",
       "\n",
       "\n",
       "  <div class=\"bk-root\" id=\"860251f9-6741-4f11-9c21-2ec0a76712f6\"></div>\n"
      ]
     },
     "metadata": {},
     "output_type": "display_data"
    },
    {
     "data": {
      "application/javascript": [
       "(function(root) {\n",
       "  function embed_document(root) {\n",
       "    \n",
       "  var docs_json = {\"852e9991-9585-4ea3-99cb-a2229d2d9fb3\":{\"roots\":{\"references\":[{\"attributes\":{\"fill_alpha\":{\"value\":0.7},\"fill_color\":{\"value\":\"#ff7f0e\"},\"line_color\":{\"value\":\"#ff7f0e\"},\"size\":{\"units\":\"screen\",\"value\":8},\"x\":{\"field\":\"x\"},\"y\":{\"field\":\"y\"}},\"id\":\"15377\",\"type\":\"Circle\"},{\"attributes\":{\"line_alpha\":{\"value\":0.1},\"line_color\":{\"value\":\"#1f77b4\"},\"xs\":{\"field\":\"xs\"},\"ys\":{\"field\":\"ys\"}},\"id\":\"15368\",\"type\":\"MultiLine\"},{\"attributes\":{\"source\":{\"id\":\"15420\",\"type\":\"ColumnDataSource\"}},\"id\":\"15424\",\"type\":\"CDSView\"},{\"attributes\":{\"callback\":null,\"mode\":\"vline\",\"names\":[\"photometry\",\"nondetection\"],\"renderers\":\"auto\",\"tooltips\":[[\"Band\",\"@desc\"],[\"Wave\",\"@x\"],[\"Flux\",\"@y\"],[\"Unc\",\"@z\"]]},\"id\":\"15398\",\"type\":\"HoverTool\"},{\"attributes\":{},\"id\":\"15417\",\"type\":\"UnionRenderers\"},{\"attributes\":{\"fill_alpha\":{\"value\":0.1},\"fill_color\":{\"value\":\"#1f77b4\"},\"line_alpha\":{\"value\":0.1},\"line_color\":{\"value\":\"#1f77b4\"},\"size\":{\"units\":\"screen\",\"value\":8},\"x\":{\"field\":\"x\"},\"y\":{\"field\":\"y\"}},\"id\":\"15355\",\"type\":\"Circle\"},{\"attributes\":{\"callback\":null,\"data\":{\"desc\":[\"SDSS.u\",\"SDSS.g\",\"SDSS.r\",\"SDSS.i\",\"SDSS.z\",\"2MASS.J\",\"2MASS.H\",\"2MASS.Ks\"],\"x\":{\"__ndarray__\":\"eNlVRQLD1j+8rNt5kRjePxiqmcIIw+M/iHoI/sn35z9961v8JKHsPxnAPwE21PM//NdpkFRk+j/b9fYklk8BQA==\",\"dtype\":\"float64\",\"shape\":[8]},\"y\":{\"__ndarray__\":\"jIduZo4r2Tw/1d7qVHUQPVWbW4QeGzo9iE3CuyKFYj1oNKACouqAPehufGM5tKM9PiOeBqocoD1qc9RUo+OTPQ==\",\"dtype\":\"float64\",\"shape\":[8]},\"z\":{\"__ndarray__\":\"5wr965gb4Dxi8pxwFPHhPG7CMbPsFPc8gIOiq6CqHz3+ydnJuuw8PcailcEySmI9Fby4HSDeXj3HiEXIXuFRPQ==\",\"dtype\":\"float64\",\"shape\":[8]}},\"selected\":{\"id\":\"15416\",\"type\":\"Selection\"},\"selection_policy\":{\"id\":\"15417\",\"type\":\"UnionRenderers\"}},\"id\":\"15375\",\"type\":\"ColumnDataSource\"},{\"attributes\":{\"fill_alpha\":{\"value\":0.7},\"fill_color\":{\"value\":\"#2ca02c\"},\"line_color\":{\"value\":\"#2ca02c\"},\"size\":{\"units\":\"screen\",\"value\":8},\"x\":{\"field\":\"x\"},\"y\":{\"field\":\"y\"}},\"id\":\"15402\",\"type\":\"Circle\"},{\"attributes\":{\"plot\":{\"id\":\"15319\",\"subtype\":\"Figure\",\"type\":\"Plot\"},\"ticker\":{\"id\":\"15330\",\"type\":\"LogTicker\"}},\"id\":\"15333\",\"type\":\"Grid\"},{\"attributes\":{},\"id\":\"15943\",\"type\":\"Selection\"},{\"attributes\":{\"source\":{\"id\":\"15366\",\"type\":\"ColumnDataSource\"}},\"id\":\"15370\",\"type\":\"CDSView\"},{\"attributes\":{\"plot\":null,\"text\":\"SED Catalog\"},\"id\":\"15318\",\"type\":\"Title\"},{\"attributes\":{\"dimension\":1,\"plot\":{\"id\":\"15319\",\"subtype\":\"Figure\",\"type\":\"Plot\"},\"ticker\":{\"id\":\"15335\",\"type\":\"LogTicker\"}},\"id\":\"15338\",\"type\":\"Grid\"},{\"attributes\":{\"callback\":null,\"end\":21.599999999999998,\"start\":0.24},\"id\":\"15425\",\"type\":\"Range1d\"},{\"attributes\":{\"callback\":null,\"end\":1.7920684222925287e-11,\"start\":6.986117685307905e-16},\"id\":\"15426\",\"type\":\"Range1d\"},{\"attributes\":{\"data_source\":{\"id\":\"15420\",\"type\":\"ColumnDataSource\"},\"glyph\":{\"id\":\"15421\",\"type\":\"MultiLine\"},\"hover_glyph\":null,\"muted_glyph\":null,\"nonselection_glyph\":{\"id\":\"15422\",\"type\":\"MultiLine\"},\"selection_glyph\":null,\"view\":{\"id\":\"15424\",\"type\":\"CDSView\"}},\"id\":\"15423\",\"type\":\"GlyphRenderer\"},{\"attributes\":{\"data_source\":{\"id\":\"15400\",\"type\":\"ColumnDataSource\"},\"glyph\":{\"id\":\"15402\",\"type\":\"Circle\"},\"hover_glyph\":null,\"muted_glyph\":null,\"name\":\"photometry\",\"nonselection_glyph\":{\"id\":\"15403\",\"type\":\"Circle\"},\"selection_glyph\":null,\"view\":{\"id\":\"15405\",\"type\":\"CDSView\"}},\"id\":\"15404\",\"type\":\"GlyphRenderer\"},{\"attributes\":{},\"id\":\"15416\",\"type\":\"Selection\"},{\"attributes\":{\"bottom_units\":\"screen\",\"fill_alpha\":{\"value\":0.5},\"fill_color\":{\"value\":\"lightgrey\"},\"left_units\":\"screen\",\"level\":\"overlay\",\"line_alpha\":{\"value\":1.0},\"line_color\":{\"value\":\"black\"},\"line_dash\":[4,4],\"line_width\":{\"value\":2},\"plot\":null,\"render_mode\":\"css\",\"right_units\":\"screen\",\"top_units\":\"screen\"},\"id\":\"15345\",\"type\":\"BoxAnnotation\"},{\"attributes\":{\"callback\":null,\"mode\":\"vline\",\"names\":[\"photometry\",\"nondetection\"],\"renderers\":\"auto\",\"tooltips\":[[\"Band\",\"@desc\"],[\"Wave\",\"@x\"],[\"Flux\",\"@y\"],[\"Unc\",\"@z\"]]},\"id\":\"15373\",\"type\":\"HoverTool\"},{\"attributes\":{\"data_source\":{\"id\":\"15375\",\"type\":\"ColumnDataSource\"},\"glyph\":{\"id\":\"15377\",\"type\":\"Circle\"},\"hover_glyph\":null,\"muted_glyph\":null,\"name\":\"photometry\",\"nonselection_glyph\":{\"id\":\"15378\",\"type\":\"Circle\"},\"selection_glyph\":null,\"view\":{\"id\":\"15380\",\"type\":\"CDSView\"}},\"id\":\"15379\",\"type\":\"GlyphRenderer\"},{\"attributes\":{\"axis_label\":\"Flux Density [erg / (Angstrom cm2 s)]\",\"formatter\":{\"id\":\"15361\",\"type\":\"LogTickFormatter\"},\"plot\":{\"id\":\"15319\",\"subtype\":\"Figure\",\"type\":\"Plot\"},\"ticker\":{\"id\":\"15335\",\"type\":\"LogTicker\"}},\"id\":\"15334\",\"type\":\"LogAxis\"},{\"attributes\":{\"click_policy\":\"hide\",\"items\":[{\"id\":\"15365\",\"type\":\"LegendItem\"}],\"plot\":{\"id\":\"15319\",\"subtype\":\"Figure\",\"type\":\"Plot\"}},\"id\":\"15364\",\"type\":\"Legend\"},{\"attributes\":{\"callback\":null,\"data\":{\"desc\":[\"SDSS.u\",\"SDSS.g\",\"SDSS.r\",\"SDSS.i\",\"SDSS.z\",\"2MASS.J\",\"2MASS.H\",\"2MASS.Ks\"],\"x\":{\"__ndarray__\":\"eNlVRQLD1j+8rNt5kRjePxiqmcIIw+M/iHoI/sn35z9961v8JKHsPxnAPwE21PM//NdpkFRk+j/b9fYklk8BQA==\",\"dtype\":\"float64\",\"shape\":[8]},\"y\":{\"__ndarray__\":\"jIduZo4r2Tw/1d7qVHUQPVWbW4QeGzo9iE3CuyKFYj1oNKACouqAPehufGM5tKM9PiOeBqocoD1qc9RUo+OTPQ==\",\"dtype\":\"float64\",\"shape\":[8]},\"z\":{\"__ndarray__\":\"5wr965gb4Dxi8pxwFPHhPG7CMbPsFPc8gIOiq6CqHz3+ydnJuuw8PcailcEySmI9Fby4HSDeXj3HiEXIXuFRPQ==\",\"dtype\":\"float64\",\"shape\":[8]}},\"selected\":{\"id\":\"15387\",\"type\":\"Selection\"},\"selection_policy\":{\"id\":\"15388\",\"type\":\"UnionRenderers\"}},\"id\":\"15352\",\"type\":\"ColumnDataSource\"},{\"attributes\":{\"source\":{\"id\":\"15400\",\"type\":\"ColumnDataSource\"}},\"id\":\"15405\",\"type\":\"CDSView\"},{\"attributes\":{\"callback\":null,\"data\":{\"xs\":[[0.35565239687948447,0.35565239687948447],[0.4702495279331733,0.4702495279331733],[0.6175578881059804,0.6175578881059804],[0.7489976846298569,0.7489976846298569],[0.894670956505578,0.894670956505578],[1.2393093155660664,1.2393093155660664],[1.6494947091246095,1.6494947091246095],[2.163860596453316,2.163860596453316]],\"ys\":[[-3.911017454580273e-16,3.1855488195811895e-15],[1.2625999996980256e-14,1.660986171261839e-14],[8.762173513198987e-14,9.787208536950082e-14],[4.982462847172906e-13,5.544973136835959e-13],[1.820426054894171e-12,2.0259485883998088e-12],[8.440513679344771e-12,9.480170543580515e-12],[6.888219315925605e-12,7.765531478122595e-12],[4.268187912382872e-12,4.776378096028809e-12]]},\"selected\":{\"id\":\"15389\",\"type\":\"Selection\"},\"selection_policy\":{\"id\":\"15390\",\"type\":\"UnionRenderers\"}},\"id\":\"15366\",\"type\":\"ColumnDataSource\"},{\"attributes\":{},\"id\":\"15342\",\"type\":\"SaveTool\"},{\"attributes\":{\"line_color\":{\"value\":\"#1f77b4\"},\"xs\":{\"field\":\"xs\"},\"ys\":{\"field\":\"ys\"}},\"id\":\"15367\",\"type\":\"MultiLine\"},{\"attributes\":{\"ticker\":null},\"id\":\"15359\",\"type\":\"LogTickFormatter\"},{\"attributes\":{\"data_source\":{\"id\":\"15352\",\"type\":\"ColumnDataSource\"},\"glyph\":{\"id\":\"15354\",\"type\":\"Circle\"},\"hover_glyph\":null,\"muted_glyph\":null,\"name\":\"photometry\",\"nonselection_glyph\":{\"id\":\"15355\",\"type\":\"Circle\"},\"selection_glyph\":null,\"view\":{\"id\":\"15357\",\"type\":\"CDSView\"}},\"id\":\"15356\",\"type\":\"GlyphRenderer\"},{\"attributes\":{\"source\":{\"id\":\"15391\",\"type\":\"ColumnDataSource\"}},\"id\":\"15395\",\"type\":\"CDSView\"},{\"attributes\":{\"line_alpha\":{\"value\":0.1},\"line_color\":{\"value\":\"#1f77b4\"},\"xs\":{\"field\":\"xs\"},\"ys\":{\"field\":\"ys\"}},\"id\":\"15422\",\"type\":\"MultiLine\"},{\"attributes\":{\"line_alpha\":{\"value\":0.1},\"line_color\":{\"value\":\"#1f77b4\"},\"xs\":{\"field\":\"xs\"},\"ys\":{\"field\":\"ys\"}},\"id\":\"15393\",\"type\":\"MultiLine\"},{\"attributes\":{},\"id\":\"15390\",\"type\":\"UnionRenderers\"},{\"attributes\":{},\"id\":\"15387\",\"type\":\"Selection\"},{\"attributes\":{\"callback\":null,\"data\":{\"desc\":[\"SDSS.u\",\"SDSS.g\",\"SDSS.r\",\"SDSS.i\",\"SDSS.z\",\"2MASS.J\",\"2MASS.H\",\"2MASS.Ks\"],\"x\":{\"__ndarray__\":\"eNlVRQLD1j+8rNt5kRjePxiqmcIIw+M/iHoI/sn35z9961v8JKHsPxnAPwE21PM//NdpkFRk+j/b9fYklk8BQA==\",\"dtype\":\"float64\",\"shape\":[8]},\"y\":{\"__ndarray__\":\"jIduZo4r2Tw/1d7qVHUQPVWbW4QeGzo9iE3CuyKFYj1oNKACouqAPehufGM5tKM9PiOeBqocoD1qc9RUo+OTPQ==\",\"dtype\":\"float64\",\"shape\":[8]},\"z\":{\"__ndarray__\":\"5wr965gb4Dxi8pxwFPHhPG7CMbPsFPc8gIOiq6CqHz3+ydnJuuw8PcailcEySmI9Fby4HSDeXj3HiEXIXuFRPQ==\",\"dtype\":\"float64\",\"shape\":[8]}},\"selected\":{\"id\":\"15943\",\"type\":\"Selection\"},\"selection_policy\":{\"id\":\"15944\",\"type\":\"UnionRenderers\"}},\"id\":\"15400\",\"type\":\"ColumnDataSource\"},{\"attributes\":{\"fill_alpha\":{\"value\":0.1},\"fill_color\":{\"value\":\"#1f77b4\"},\"line_alpha\":{\"value\":0.1},\"line_color\":{\"value\":\"#1f77b4\"},\"size\":{\"units\":\"screen\",\"value\":8},\"x\":{\"field\":\"x\"},\"y\":{\"field\":\"y\"}},\"id\":\"15378\",\"type\":\"Circle\"},{\"attributes\":{\"below\":[{\"id\":\"15329\",\"type\":\"LogAxis\"}],\"left\":[{\"id\":\"15334\",\"type\":\"LogAxis\"}],\"plot_height\":500,\"plot_width\":800,\"renderers\":[{\"id\":\"15329\",\"type\":\"LogAxis\"},{\"id\":\"15333\",\"type\":\"Grid\"},{\"id\":\"15334\",\"type\":\"LogAxis\"},{\"id\":\"15338\",\"type\":\"Grid\"},{\"id\":\"15345\",\"type\":\"BoxAnnotation\"},{\"id\":\"15364\",\"type\":\"Legend\"},{\"id\":\"15356\",\"type\":\"GlyphRenderer\"},{\"id\":\"15369\",\"type\":\"GlyphRenderer\"},{\"id\":\"15379\",\"type\":\"GlyphRenderer\"},{\"id\":\"15394\",\"type\":\"GlyphRenderer\"},{\"id\":\"15404\",\"type\":\"GlyphRenderer\"},{\"id\":\"15423\",\"type\":\"GlyphRenderer\"}],\"title\":{\"id\":\"15318\",\"type\":\"Title\"},\"toolbar\":{\"id\":\"15343\",\"type\":\"Toolbar\"},\"x_range\":{\"id\":\"15425\",\"type\":\"Range1d\"},\"x_scale\":{\"id\":\"15325\",\"type\":\"LogScale\"},\"y_range\":{\"id\":\"15426\",\"type\":\"Range1d\"},\"y_scale\":{\"id\":\"15327\",\"type\":\"LogScale\"}},\"id\":\"15319\",\"subtype\":\"Figure\",\"type\":\"Plot\"},{\"attributes\":{\"data_source\":{\"id\":\"15391\",\"type\":\"ColumnDataSource\"},\"glyph\":{\"id\":\"15392\",\"type\":\"MultiLine\"},\"hover_glyph\":null,\"muted_glyph\":null,\"nonselection_glyph\":{\"id\":\"15393\",\"type\":\"MultiLine\"},\"selection_glyph\":null,\"view\":{\"id\":\"15395\",\"type\":\"CDSView\"}},\"id\":\"15394\",\"type\":\"GlyphRenderer\"},{\"attributes\":{},\"id\":\"15388\",\"type\":\"UnionRenderers\"},{\"attributes\":{\"source\":{\"id\":\"15352\",\"type\":\"ColumnDataSource\"}},\"id\":\"15357\",\"type\":\"CDSView\"},{\"attributes\":{\"num_minor_ticks\":10},\"id\":\"15335\",\"type\":\"LogTicker\"},{\"attributes\":{\"num_minor_ticks\":10},\"id\":\"15330\",\"type\":\"LogTicker\"},{\"attributes\":{\"label\":{\"value\":\"Photometry\"},\"renderers\":[{\"id\":\"15356\",\"type\":\"GlyphRenderer\"},{\"id\":\"15379\",\"type\":\"GlyphRenderer\"},{\"id\":\"15404\",\"type\":\"GlyphRenderer\"}]},\"id\":\"15365\",\"type\":\"LegendItem\"},{\"attributes\":{},\"id\":\"15419\",\"type\":\"UnionRenderers\"},{\"attributes\":{\"line_color\":{\"value\":\"#2ca02c\"},\"xs\":{\"field\":\"xs\"},\"ys\":{\"field\":\"ys\"}},\"id\":\"15421\",\"type\":\"MultiLine\"},{\"attributes\":{\"source\":{\"id\":\"15375\",\"type\":\"ColumnDataSource\"}},\"id\":\"15380\",\"type\":\"CDSView\"},{\"attributes\":{\"line_color\":{\"value\":\"#ff7f0e\"},\"xs\":{\"field\":\"xs\"},\"ys\":{\"field\":\"ys\"}},\"id\":\"15392\",\"type\":\"MultiLine\"},{\"attributes\":{},\"id\":\"15946\",\"type\":\"UnionRenderers\"},{\"attributes\":{},\"id\":\"15339\",\"type\":\"PanTool\"},{\"attributes\":{\"callback\":null,\"data\":{\"xs\":[[0.35565239687948447,0.35565239687948447],[0.4702495279331733,0.4702495279331733],[0.6175578881059804,0.6175578881059804],[0.7489976846298569,0.7489976846298569],[0.894670956505578,0.894670956505578],[1.2393093155660664,1.2393093155660664],[1.6494947091246095,1.6494947091246095],[2.163860596453316,2.163860596453316]],\"ys\":[[-3.911017454580273e-16,3.1855488195811895e-15],[1.2625999996980256e-14,1.660986171261839e-14],[8.762173513198987e-14,9.787208536950082e-14],[4.982462847172906e-13,5.544973136835959e-13],[1.820426054894171e-12,2.0259485883998088e-12],[8.440513679344771e-12,9.480170543580515e-12],[6.888219315925605e-12,7.765531478122595e-12],[4.268187912382872e-12,4.776378096028809e-12]]},\"selected\":{\"id\":\"15945\",\"type\":\"Selection\"},\"selection_policy\":{\"id\":\"15946\",\"type\":\"UnionRenderers\"}},\"id\":\"15420\",\"type\":\"ColumnDataSource\"},{\"attributes\":{\"overlay\":{\"id\":\"15345\",\"type\":\"BoxAnnotation\"}},\"id\":\"15341\",\"type\":\"BoxZoomTool\"},{\"attributes\":{\"callback\":null,\"data\":{\"xs\":[[0.35565239687948447,0.35565239687948447],[0.4702495279331733,0.4702495279331733],[0.6175578881059804,0.6175578881059804],[0.7489976846298569,0.7489976846298569],[0.894670956505578,0.894670956505578],[1.2393093155660664,1.2393093155660664],[1.6494947091246095,1.6494947091246095],[2.163860596453316,2.163860596453316]],\"ys\":[[-3.911017454580273e-16,3.1855488195811895e-15],[1.2625999996980256e-14,1.660986171261839e-14],[8.762173513198987e-14,9.787208536950082e-14],[4.982462847172906e-13,5.544973136835959e-13],[1.820426054894171e-12,2.0259485883998088e-12],[8.440513679344771e-12,9.480170543580515e-12],[6.888219315925605e-12,7.765531478122595e-12],[4.268187912382872e-12,4.776378096028809e-12]]},\"selected\":{\"id\":\"15418\",\"type\":\"Selection\"},\"selection_policy\":{\"id\":\"15419\",\"type\":\"UnionRenderers\"}},\"id\":\"15391\",\"type\":\"ColumnDataSource\"},{\"attributes\":{},\"id\":\"15944\",\"type\":\"UnionRenderers\"},{\"attributes\":{},\"id\":\"15327\",\"type\":\"LogScale\"},{\"attributes\":{\"axis_label\":\"Wavelength [um]\",\"formatter\":{\"id\":\"15359\",\"type\":\"LogTickFormatter\"},\"plot\":{\"id\":\"15319\",\"subtype\":\"Figure\",\"type\":\"Plot\"},\"ticker\":{\"id\":\"15330\",\"type\":\"LogTicker\"}},\"id\":\"15329\",\"type\":\"LogAxis\"},{\"attributes\":{\"active_drag\":\"auto\",\"active_inspect\":\"auto\",\"active_multi\":null,\"active_scroll\":\"auto\",\"active_tap\":\"auto\",\"tools\":[{\"id\":\"15339\",\"type\":\"PanTool\"},{\"id\":\"15340\",\"type\":\"ResetTool\"},{\"id\":\"15341\",\"type\":\"BoxZoomTool\"},{\"id\":\"15342\",\"type\":\"SaveTool\"},{\"id\":\"15350\",\"type\":\"HoverTool\"},{\"id\":\"15373\",\"type\":\"HoverTool\"},{\"id\":\"15398\",\"type\":\"HoverTool\"}]},\"id\":\"15343\",\"type\":\"Toolbar\"},{\"attributes\":{\"data_source\":{\"id\":\"15366\",\"type\":\"ColumnDataSource\"},\"glyph\":{\"id\":\"15367\",\"type\":\"MultiLine\"},\"hover_glyph\":null,\"muted_glyph\":null,\"nonselection_glyph\":{\"id\":\"15368\",\"type\":\"MultiLine\"},\"selection_glyph\":null,\"view\":{\"id\":\"15370\",\"type\":\"CDSView\"}},\"id\":\"15369\",\"type\":\"GlyphRenderer\"},{\"attributes\":{},\"id\":\"15325\",\"type\":\"LogScale\"},{\"attributes\":{},\"id\":\"15389\",\"type\":\"Selection\"},{\"attributes\":{},\"id\":\"15418\",\"type\":\"Selection\"},{\"attributes\":{\"fill_alpha\":{\"value\":0.7},\"fill_color\":{\"value\":\"#1f77b4\"},\"line_color\":{\"value\":\"#1f77b4\"},\"size\":{\"units\":\"screen\",\"value\":8},\"x\":{\"field\":\"x\"},\"y\":{\"field\":\"y\"}},\"id\":\"15354\",\"type\":\"Circle\"},{\"attributes\":{},\"id\":\"15340\",\"type\":\"ResetTool\"},{\"attributes\":{},\"id\":\"15945\",\"type\":\"Selection\"},{\"attributes\":{\"ticker\":null},\"id\":\"15361\",\"type\":\"LogTickFormatter\"},{\"attributes\":{\"fill_alpha\":{\"value\":0.1},\"fill_color\":{\"value\":\"#1f77b4\"},\"line_alpha\":{\"value\":0.1},\"line_color\":{\"value\":\"#1f77b4\"},\"size\":{\"units\":\"screen\",\"value\":8},\"x\":{\"field\":\"x\"},\"y\":{\"field\":\"y\"}},\"id\":\"15403\",\"type\":\"Circle\"},{\"attributes\":{\"callback\":null,\"mode\":\"vline\",\"names\":[\"photometry\",\"nondetection\"],\"renderers\":\"auto\",\"tooltips\":[[\"Band\",\"@desc\"],[\"Wave\",\"@x\"],[\"Flux\",\"@y\"],[\"Unc\",\"@z\"]]},\"id\":\"15350\",\"type\":\"HoverTool\"}],\"root_ids\":[\"15319\"]},\"title\":\"Bokeh Application\",\"version\":\"1.0.0\"}};\n",
       "  var render_items = [{\"docid\":\"852e9991-9585-4ea3-99cb-a2229d2d9fb3\",\"roots\":{\"15319\":\"860251f9-6741-4f11-9c21-2ec0a76712f6\"}}];\n",
       "  root.Bokeh.embed.embed_items_notebook(docs_json, render_items);\n",
       "\n",
       "  }\n",
       "  if (root.Bokeh !== undefined) {\n",
       "    embed_document(root);\n",
       "  } else {\n",
       "    var attempts = 0;\n",
       "    var timer = setInterval(function(root) {\n",
       "      if (root.Bokeh !== undefined) {\n",
       "        embed_document(root);\n",
       "        clearInterval(timer);\n",
       "      }\n",
       "      attempts++;\n",
       "      if (attempts > 100) {\n",
       "        console.log(\"Bokeh: ERROR: Unable to run BokehJS code because BokehJS library is missing\");\n",
       "        clearInterval(timer);\n",
       "      }\n",
       "    }, 10, root)\n",
       "  }\n",
       "})(window);"
      ],
      "application/vnd.bokehjs_exec.v0+json": ""
     },
     "metadata": {
      "application/vnd.bokehjs_exec.v0+json": {
       "id": "15319"
      }
     },
     "output_type": "display_data"
    }
   ],
   "source": [
    "show(cat.plot_SEDs(['2MASS 261832886', '2MASS 2618328865', '2MASS 2618328863'], app=False))"
   ]
  },
  {
   "cell_type": "markdown",
   "metadata": {},
   "source": [
    "The catalog can also be filtered by providing a column name and value..."
   ]
  },
  {
   "cell_type": "code",
   "execution_count": 43,
   "metadata": {},
   "outputs": [
    {
     "data": {
      "text/html": [
       "&lt;Table length=1&gt;\n",
       "<table id=\"table5039639128\" class=\"table-striped table-bordered table-condensed\">\n",
       "<thead><tr><th>name</th><th>age</th><th>age_unc</th><th>distance</th><th>distance_unc</th><th>parallax</th><th>parallax_unc</th><th>radius</th><th>radius_unc</th><th>spectral_type</th><th>spectral_type_unc</th><th>SpT</th><th>SpT_fit</th><th>membership</th><th>reddening</th><th>fbol</th><th>fbol_unc</th><th>mbol</th><th>mbol_unc</th><th>Lbol</th><th>Lbol_unc</th><th>Lbol_sun</th><th>Lbol_sun_unc</th><th>Mbol</th><th>Mbol_unc</th><th>logg</th><th>logg_unc</th><th>mass</th><th>mass_unc</th><th>Teff</th><th>Teff_unc</th><th>Teff_evo</th><th>Teff_evo_unc</th><th>Teff_bb</th><th>SED</th><th>SDSS.u</th><th>SDSS.u_unc</th><th>M_SDSS.u</th><th>M_SDSS.u_unc</th><th>SDSS.g</th><th>SDSS.g_unc</th><th>M_SDSS.g</th><th>M_SDSS.g_unc</th><th>SDSS.r</th><th>SDSS.r_unc</th><th>M_SDSS.r</th><th>M_SDSS.r_unc</th><th>SDSS.i</th><th>SDSS.i_unc</th><th>M_SDSS.i</th><th>M_SDSS.i_unc</th><th>SDSS.z</th><th>SDSS.z_unc</th><th>M_SDSS.z</th><th>M_SDSS.z_unc</th><th>2MASS.J</th><th>2MASS.J_unc</th><th>M_2MASS.J</th><th>M_2MASS.J_unc</th><th>2MASS.H</th><th>2MASS.H_unc</th><th>M_2MASS.H</th><th>M_2MASS.H_unc</th><th>2MASS.Ks</th><th>2MASS.Ks_unc</th><th>M_2MASS.Ks</th><th>M_2MASS.Ks_unc</th></tr></thead>\n",
       "<thead><tr><th></th><th>Gyr</th><th>Gyr</th><th>pc</th><th>pc</th><th>mas</th><th>mas</th><th>solRad</th><th>solRad</th><th></th><th></th><th></th><th></th><th></th><th></th><th>erg / (cm2 s)</th><th>erg / (cm2 s)</th><th></th><th></th><th>erg / s</th><th>erg / s</th><th></th><th></th><th></th><th></th><th></th><th></th><th>solMass</th><th>solMass</th><th>K</th><th>K</th><th>K</th><th>K</th><th>K</th><th></th><th></th><th></th><th></th><th></th><th></th><th></th><th></th><th></th><th></th><th></th><th></th><th></th><th></th><th></th><th></th><th></th><th></th><th></th><th></th><th></th><th></th><th></th><th></th><th></th><th></th><th></th><th></th><th></th><th></th><th></th><th></th><th></th></tr></thead>\n",
       "<thead><tr><th>object</th><th>object</th><th>object</th><th>object</th><th>object</th><th>object</th><th>object</th><th>object</th><th>object</th><th>object</th><th>object</th><th>object</th><th>object</th><th>object</th><th>object</th><th>object</th><th>object</th><th>object</th><th>object</th><th>object</th><th>object</th><th>object</th><th>object</th><th>object</th><th>object</th><th>object</th><th>object</th><th>object</th><th>object</th><th>object</th><th>object</th><th>object</th><th>object</th><th>object</th><th>object</th><th>float16</th><th>float16</th><th>float16</th><th>float16</th><th>float16</th><th>float16</th><th>float16</th><th>float16</th><th>float16</th><th>float16</th><th>float16</th><th>float16</th><th>float16</th><th>float16</th><th>float16</th><th>float16</th><th>float16</th><th>float16</th><th>float16</th><th>float16</th><th>float16</th><th>float16</th><th>float16</th><th>float16</th><th>float16</th><th>float16</th><th>float16</th><th>float16</th><th>float16</th><th>float16</th><th>float16</th><th>float16</th></tr></thead>\n",
       "<tr><td>2MASS 2618328861</td><td>6.0</td><td>4.0</td><td>555.83</td><td>30.89</td><td>1.7990997028572533</td><td>0.1</td><td>0.09415541971634411</td><td>0.019640519289763958</td><td>73.0</td><td>0.5</td><td>None</td><td>None</td><td>None</td><td>0</td><td>4.710738027543608e-11</td><td>5.709534127198549e-13</td><td>14.335</td><td>0.013</td><td>1.74134119504054e+33</td><td>1.9469581732469965e+32</td><td>-0.342</td><td>0.049</td><td>5.61</td><td>0.062</td><td>4.55</td><td>0.04</td><td>0.85</td><td>0.04</td><td>15448.0</td><td>1668.0</td><td>5216.0</td><td>80.0</td><td>None</td><td>&lt;sedkit.sed.SED object at 0x128703c50&gt;</td><td>24.69</td><td>1.389</td><td>15.96</td><td>1.391</td><td>22.53</td><td>0.137</td><td>13.805</td><td>0.15</td><td>19.69</td><td>0.019</td><td>10.96</td><td>0.063</td><td>17.17</td><td>0.005</td><td>8.445</td><td>0.061</td><td>15.22</td><td>0.005</td><td>6.492</td><td>0.061</td><td>12.47</td><td>0.027</td><td>3.742</td><td>0.066</td><td>11.586</td><td>0.03</td><td>2.86</td><td>0.067</td><td>11.055</td><td>0.021</td><td>2.328</td><td>0.064</td></tr>\n",
       "</table>"
      ],
      "text/plain": [
       "<Table length=1>\n",
       "      name        age   age_unc ... 2MASS.Ks_unc M_2MASS.Ks M_2MASS.Ks_unc\n",
       "                  Gyr     Gyr   ...                                       \n",
       "     object      object  object ...   float16     float16      float16    \n",
       "---------------- ------ ------- ... ------------ ---------- --------------\n",
       "2MASS 2618328861    6.0     4.0 ...        0.021      2.328          0.064"
      ]
     },
     "execution_count": 43,
     "metadata": {},
     "output_type": "execute_result"
    }
   ],
   "source": [
    "cat.filter('name', \"'2MASS 2618328861'\").results"
   ]
  },
  {
   "cell_type": "markdown",
   "metadata": {},
   "source": [
    "...or a wildcard search..."
   ]
  },
  {
   "cell_type": "code",
   "execution_count": 44,
   "metadata": {},
   "outputs": [
    {
     "data": {
      "text/html": [
       "&lt;Table length=1&gt;\n",
       "<table id=\"table4962355688\" class=\"table-striped table-bordered table-condensed\">\n",
       "<thead><tr><th>name</th><th>age</th><th>age_unc</th><th>distance</th><th>distance_unc</th><th>parallax</th><th>parallax_unc</th><th>radius</th><th>radius_unc</th><th>spectral_type</th><th>spectral_type_unc</th><th>SpT</th><th>SpT_fit</th><th>membership</th><th>reddening</th><th>fbol</th><th>fbol_unc</th><th>mbol</th><th>mbol_unc</th><th>Lbol</th><th>Lbol_unc</th><th>Lbol_sun</th><th>Lbol_sun_unc</th><th>Mbol</th><th>Mbol_unc</th><th>logg</th><th>logg_unc</th><th>mass</th><th>mass_unc</th><th>Teff</th><th>Teff_unc</th><th>Teff_evo</th><th>Teff_evo_unc</th><th>Teff_bb</th><th>SED</th><th>SDSS.u</th><th>SDSS.u_unc</th><th>M_SDSS.u</th><th>M_SDSS.u_unc</th><th>SDSS.g</th><th>SDSS.g_unc</th><th>M_SDSS.g</th><th>M_SDSS.g_unc</th><th>SDSS.r</th><th>SDSS.r_unc</th><th>M_SDSS.r</th><th>M_SDSS.r_unc</th><th>SDSS.i</th><th>SDSS.i_unc</th><th>M_SDSS.i</th><th>M_SDSS.i_unc</th><th>SDSS.z</th><th>SDSS.z_unc</th><th>M_SDSS.z</th><th>M_SDSS.z_unc</th><th>2MASS.J</th><th>2MASS.J_unc</th><th>M_2MASS.J</th><th>M_2MASS.J_unc</th><th>2MASS.H</th><th>2MASS.H_unc</th><th>M_2MASS.H</th><th>M_2MASS.H_unc</th><th>2MASS.Ks</th><th>2MASS.Ks_unc</th><th>M_2MASS.Ks</th><th>M_2MASS.Ks_unc</th></tr></thead>\n",
       "<thead><tr><th></th><th>Gyr</th><th>Gyr</th><th>pc</th><th>pc</th><th>mas</th><th>mas</th><th>solRad</th><th>solRad</th><th></th><th></th><th></th><th></th><th></th><th></th><th>erg / (cm2 s)</th><th>erg / (cm2 s)</th><th></th><th></th><th>erg / s</th><th>erg / s</th><th></th><th></th><th></th><th></th><th></th><th></th><th>solMass</th><th>solMass</th><th>K</th><th>K</th><th>K</th><th>K</th><th>K</th><th></th><th></th><th></th><th></th><th></th><th></th><th></th><th></th><th></th><th></th><th></th><th></th><th></th><th></th><th></th><th></th><th></th><th></th><th></th><th></th><th></th><th></th><th></th><th></th><th></th><th></th><th></th><th></th><th></th><th></th><th></th><th></th><th></th></tr></thead>\n",
       "<thead><tr><th>object</th><th>object</th><th>object</th><th>object</th><th>object</th><th>object</th><th>object</th><th>object</th><th>object</th><th>object</th><th>object</th><th>object</th><th>object</th><th>object</th><th>object</th><th>object</th><th>object</th><th>object</th><th>object</th><th>object</th><th>object</th><th>object</th><th>object</th><th>object</th><th>object</th><th>object</th><th>object</th><th>object</th><th>object</th><th>object</th><th>object</th><th>object</th><th>object</th><th>object</th><th>object</th><th>float16</th><th>float16</th><th>float16</th><th>float16</th><th>float16</th><th>float16</th><th>float16</th><th>float16</th><th>float16</th><th>float16</th><th>float16</th><th>float16</th><th>float16</th><th>float16</th><th>float16</th><th>float16</th><th>float16</th><th>float16</th><th>float16</th><th>float16</th><th>float16</th><th>float16</th><th>float16</th><th>float16</th><th>float16</th><th>float16</th><th>float16</th><th>float16</th><th>float16</th><th>float16</th><th>float16</th><th>float16</th></tr></thead>\n",
       "<tr><td>2MASS 2618328861</td><td>6.0</td><td>4.0</td><td>555.83</td><td>30.89</td><td>1.7990997028572533</td><td>0.1</td><td>0.09415541971634411</td><td>0.019640519289763958</td><td>73.0</td><td>0.5</td><td>None</td><td>None</td><td>None</td><td>0</td><td>4.710738027543608e-11</td><td>5.709534127198549e-13</td><td>14.335</td><td>0.013</td><td>1.74134119504054e+33</td><td>1.9469581732469965e+32</td><td>-0.342</td><td>0.049</td><td>5.61</td><td>0.062</td><td>4.55</td><td>0.04</td><td>0.85</td><td>0.04</td><td>15448.0</td><td>1668.0</td><td>5216.0</td><td>80.0</td><td>None</td><td>&lt;sedkit.sed.SED object at 0x128703c50&gt;</td><td>24.69</td><td>1.389</td><td>15.96</td><td>1.391</td><td>22.53</td><td>0.137</td><td>13.805</td><td>0.15</td><td>19.69</td><td>0.019</td><td>10.96</td><td>0.063</td><td>17.17</td><td>0.005</td><td>8.445</td><td>0.061</td><td>15.22</td><td>0.005</td><td>6.492</td><td>0.061</td><td>12.47</td><td>0.027</td><td>3.742</td><td>0.066</td><td>11.586</td><td>0.03</td><td>2.86</td><td>0.067</td><td>11.055</td><td>0.021</td><td>2.328</td><td>0.064</td></tr>\n",
       "</table>"
      ],
      "text/plain": [
       "<Table length=1>\n",
       "      name        age   age_unc ... 2MASS.Ks_unc M_2MASS.Ks M_2MASS.Ks_unc\n",
       "                  Gyr     Gyr   ...                                       \n",
       "     object      object  object ...   float16     float16      float16    \n",
       "---------------- ------ ------- ... ------------ ---------- --------------\n",
       "2MASS 2618328861    6.0     4.0 ...        0.021      2.328          0.064"
      ]
     },
     "execution_count": 44,
     "metadata": {},
     "output_type": "execute_result"
    }
   ],
   "source": [
    "cat.filter('name', \"*328861\").results"
   ]
  },
  {
   "cell_type": "markdown",
   "metadata": {},
   "source": [
    "... or an argument with an operator..."
   ]
  },
  {
   "cell_type": "code",
   "execution_count": 45,
   "metadata": {},
   "outputs": [
    {
     "data": {
      "text/html": [
       "&lt;Table length=11&gt;\n",
       "<table id=\"table5030516552\" class=\"table-striped table-bordered table-condensed\">\n",
       "<thead><tr><th>name</th><th>age</th><th>age_unc</th><th>distance</th><th>distance_unc</th><th>parallax</th><th>parallax_unc</th><th>radius</th><th>radius_unc</th><th>spectral_type</th><th>spectral_type_unc</th><th>SpT</th><th>SpT_fit</th><th>membership</th><th>reddening</th><th>fbol</th><th>fbol_unc</th><th>mbol</th><th>mbol_unc</th><th>Lbol</th><th>Lbol_unc</th><th>Lbol_sun</th><th>Lbol_sun_unc</th><th>Mbol</th><th>Mbol_unc</th><th>logg</th><th>logg_unc</th><th>mass</th><th>mass_unc</th><th>Teff</th><th>Teff_unc</th><th>Teff_evo</th><th>Teff_evo_unc</th><th>Teff_bb</th><th>SED</th><th>SDSS.u</th><th>SDSS.u_unc</th><th>M_SDSS.u</th><th>M_SDSS.u_unc</th><th>SDSS.g</th><th>SDSS.g_unc</th><th>M_SDSS.g</th><th>M_SDSS.g_unc</th><th>SDSS.r</th><th>SDSS.r_unc</th><th>M_SDSS.r</th><th>M_SDSS.r_unc</th><th>SDSS.i</th><th>SDSS.i_unc</th><th>M_SDSS.i</th><th>M_SDSS.i_unc</th><th>SDSS.z</th><th>SDSS.z_unc</th><th>M_SDSS.z</th><th>M_SDSS.z_unc</th><th>2MASS.J</th><th>2MASS.J_unc</th><th>M_2MASS.J</th><th>M_2MASS.J_unc</th><th>2MASS.H</th><th>2MASS.H_unc</th><th>M_2MASS.H</th><th>M_2MASS.H_unc</th><th>2MASS.Ks</th><th>2MASS.Ks_unc</th><th>M_2MASS.Ks</th><th>M_2MASS.Ks_unc</th></tr></thead>\n",
       "<thead><tr><th></th><th>Gyr</th><th>Gyr</th><th>pc</th><th>pc</th><th>mas</th><th>mas</th><th>solRad</th><th>solRad</th><th></th><th></th><th></th><th></th><th></th><th></th><th>erg / (cm2 s)</th><th>erg / (cm2 s)</th><th></th><th></th><th>erg / s</th><th>erg / s</th><th></th><th></th><th></th><th></th><th></th><th></th><th>solMass</th><th>solMass</th><th>K</th><th>K</th><th>K</th><th>K</th><th>K</th><th></th><th></th><th></th><th></th><th></th><th></th><th></th><th></th><th></th><th></th><th></th><th></th><th></th><th></th><th></th><th></th><th></th><th></th><th></th><th></th><th></th><th></th><th></th><th></th><th></th><th></th><th></th><th></th><th></th><th></th><th></th><th></th><th></th></tr></thead>\n",
       "<thead><tr><th>object</th><th>object</th><th>object</th><th>object</th><th>object</th><th>object</th><th>object</th><th>object</th><th>object</th><th>object</th><th>object</th><th>object</th><th>object</th><th>object</th><th>object</th><th>object</th><th>object</th><th>object</th><th>object</th><th>object</th><th>object</th><th>object</th><th>object</th><th>object</th><th>object</th><th>object</th><th>object</th><th>object</th><th>object</th><th>object</th><th>object</th><th>object</th><th>object</th><th>object</th><th>object</th><th>float16</th><th>float16</th><th>float16</th><th>float16</th><th>float16</th><th>float16</th><th>float16</th><th>float16</th><th>float16</th><th>float16</th><th>float16</th><th>float16</th><th>float16</th><th>float16</th><th>float16</th><th>float16</th><th>float16</th><th>float16</th><th>float16</th><th>float16</th><th>float16</th><th>float16</th><th>float16</th><th>float16</th><th>float16</th><th>float16</th><th>float16</th><th>float16</th><th>float16</th><th>float16</th><th>float16</th><th>float16</th></tr></thead>\n",
       "<tr><td>2MASS 261832886</td><td>6.0</td><td>4.0</td><td>572.28</td><td>16.41</td><td>1.7474</td><td>0.0501</td><td>0.09415541971634411</td><td>0.019640519289763958</td><td>73.0</td><td>0.5</td><td>None</td><td>None</td><td>None</td><td>0</td><td>4.710738027543608e-11</td><td>5.709534127198549e-13</td><td>14.335</td><td>0.013</td><td>1.845937720647223e+33</td><td>1.0820205056393471e+32</td><td>-0.317</td><td>0.025</td><td>5.547</td><td>0.034</td><td>4.54</td><td>0.04</td><td>0.86</td><td>0.03</td><td>15675.0</td><td>1650.0</td><td>5259.0</td><td>39.0</td><td>None</td><td>&lt;sedkit.sed.SED object at 0x128204cf8&gt;</td><td>24.69</td><td>1.389</td><td>15.9</td><td>1.389</td><td>22.53</td><td>0.137</td><td>13.74</td><td>0.14</td><td>19.69</td><td>0.019</td><td>10.9</td><td>0.036</td><td>17.17</td><td>0.005</td><td>8.38</td><td>0.032</td><td>15.22</td><td>0.005</td><td>6.43</td><td>0.032</td><td>12.47</td><td>0.027</td><td>3.68</td><td>0.041</td><td>11.586</td><td>0.03</td><td>2.797</td><td>0.043</td><td>11.055</td><td>0.021</td><td>2.266</td><td>0.038</td></tr>\n",
       "<tr><td>2MASS 2618328860</td><td>6.0</td><td>4.0</td><td>545.12</td><td>29.72</td><td>1.8344612016193196</td><td>0.1</td><td>0.09415541971634411</td><td>0.019640519289763958</td><td>73.0</td><td>0.5</td><td>None</td><td>None</td><td>None</td><td>0</td><td>4.710738027543608e-11</td><td>5.709534127198549e-13</td><td>14.335</td><td>0.013</td><td>1.6748817096515836e+33</td><td>1.8375420459200495e+32</td><td>-0.359</td><td>0.048</td><td>5.653</td><td>0.061</td><td>4.55</td><td>0.04</td><td>0.85</td><td>0.04</td><td>15298.0</td><td>1649.0</td><td>5190.0</td><td>82.0</td><td>None</td><td>&lt;sedkit.sed.SED object at 0x128648dd8&gt;</td><td>24.69</td><td>1.389</td><td>16.0</td><td>1.391</td><td>22.53</td><td>0.137</td><td>13.85</td><td>0.149</td><td>19.69</td><td>0.019</td><td>11.01</td><td>0.062</td><td>17.17</td><td>0.005</td><td>8.49</td><td>0.059</td><td>15.22</td><td>0.005</td><td>6.54</td><td>0.059</td><td>12.47</td><td>0.027</td><td>3.79</td><td>0.065</td><td>11.586</td><td>0.03</td><td>2.906</td><td>0.066</td><td>11.055</td><td>0.021</td><td>2.377</td><td>0.063</td></tr>\n",
       "<tr><td>2MASS 2618328861</td><td>6.0</td><td>4.0</td><td>555.83</td><td>30.89</td><td>1.7990997028572533</td><td>0.1</td><td>0.09415541971634411</td><td>0.019640519289763958</td><td>73.0</td><td>0.5</td><td>None</td><td>None</td><td>None</td><td>0</td><td>4.710738027543608e-11</td><td>5.709534127198549e-13</td><td>14.335</td><td>0.013</td><td>1.74134119504054e+33</td><td>1.9469581732469965e+32</td><td>-0.342</td><td>0.049</td><td>5.61</td><td>0.062</td><td>4.55</td><td>0.04</td><td>0.85</td><td>0.04</td><td>15448.0</td><td>1668.0</td><td>5216.0</td><td>80.0</td><td>None</td><td>&lt;sedkit.sed.SED object at 0x128703c50&gt;</td><td>24.69</td><td>1.389</td><td>15.96</td><td>1.391</td><td>22.53</td><td>0.137</td><td>13.805</td><td>0.15</td><td>19.69</td><td>0.019</td><td>10.96</td><td>0.063</td><td>17.17</td><td>0.005</td><td>8.445</td><td>0.061</td><td>15.22</td><td>0.005</td><td>6.492</td><td>0.061</td><td>12.47</td><td>0.027</td><td>3.742</td><td>0.066</td><td>11.586</td><td>0.03</td><td>2.86</td><td>0.067</td><td>11.055</td><td>0.021</td><td>2.328</td><td>0.064</td></tr>\n",
       "<tr><td>2MASS 2618328862</td><td>6.0</td><td>4.0</td><td>590.14</td><td>34.83</td><td>1.6945243506164922</td><td>0.1</td><td>0.09415541971634411</td><td>0.019640519289763958</td><td>73.0</td><td>0.5</td><td>None</td><td>None</td><td>None</td><td>0</td><td>4.710738027543608e-11</td><td>5.709534127198549e-13</td><td>14.335</td><td>0.013</td><td>1.9629535016624336e+33</td><td>2.3292485912816197e+32</td><td>-0.29</td><td>0.052</td><td>5.48</td><td>0.065</td><td>4.53</td><td>0.05</td><td>0.86</td><td>0.03</td><td>15918.0</td><td>1726.0</td><td>5297.0</td><td>77.0</td><td>None</td><td>&lt;sedkit.sed.SED object at 0x128734f98&gt;</td><td>24.69</td><td>1.389</td><td>15.83</td><td>1.391</td><td>22.53</td><td>0.137</td><td>13.68</td><td>0.151</td><td>19.69</td><td>0.019</td><td>10.83</td><td>0.067</td><td>17.17</td><td>0.005</td><td>8.32</td><td>0.064</td><td>15.22</td><td>0.005</td><td>6.367</td><td>0.064</td><td>12.47</td><td>0.027</td><td>3.617</td><td>0.07</td><td>11.586</td><td>0.03</td><td>2.734</td><td>0.071</td><td>11.055</td><td>0.021</td><td>2.203</td><td>0.067</td></tr>\n",
       "<tr><td>2MASS 2618328863</td><td>6.0</td><td>4.0</td><td>520.4</td><td>27.08</td><td>1.9215900422078405</td><td>0.1</td><td>0.09415541971634411</td><td>0.019640519289763958</td><td>73.0</td><td>0.5</td><td>None</td><td>None</td><td>None</td><td>0</td><td>4.710738027543608e-11</td><td>5.709534127198549e-13</td><td>14.335</td><td>0.013</td><td>1.526421530663735e+33</td><td>1.5993411977221359e+32</td><td>-0.399</td><td>0.046</td><td>5.753</td><td>0.058</td><td>4.56</td><td>0.04</td><td>0.84</td><td>0.04</td><td>14947.0</td><td>1607.0</td><td>5152.0</td><td>113.0</td><td>None</td><td>&lt;sedkit.sed.SED object at 0x1286dac50&gt;</td><td>24.69</td><td>1.389</td><td>16.11</td><td>1.39</td><td>22.53</td><td>0.137</td><td>13.95</td><td>0.148</td><td>19.69</td><td>0.019</td><td>11.11</td><td>0.06</td><td>17.17</td><td>0.005</td><td>8.59</td><td>0.057</td><td>15.22</td><td>0.005</td><td>6.64</td><td>0.057</td><td>12.47</td><td>0.027</td><td>3.89</td><td>0.063</td><td>11.586</td><td>0.03</td><td>3.008</td><td>0.064</td><td>11.055</td><td>0.021</td><td>2.477</td><td>0.06</td></tr>\n",
       "<tr><td>2MASS 2618328864</td><td>6.0</td><td>4.0</td><td>577.97</td><td>33.4</td><td>1.7302016756175582</td><td>0.1</td><td>0.09415541971634411</td><td>0.019640519289763958</td><td>73.0</td><td>0.5</td><td>None</td><td>None</td><td>None</td><td>0</td><td>4.710738027543608e-11</td><td>5.709534127198549e-13</td><td>14.335</td><td>0.013</td><td>1.8828273605436223e+33</td><td>2.188046954071256e+32</td><td>-0.308</td><td>0.05</td><td>5.525</td><td>0.064</td><td>4.54</td><td>0.04</td><td>0.85</td><td>0.03</td><td>15753.0</td><td>1705.0</td><td>5270.0</td><td>77.0</td><td>None</td><td>&lt;sedkit.sed.SED object at 0x12867a278&gt;</td><td>24.69</td><td>1.389</td><td>15.875</td><td>1.391</td><td>22.53</td><td>0.137</td><td>13.72</td><td>0.151</td><td>19.69</td><td>0.019</td><td>10.875</td><td>0.066</td><td>17.17</td><td>0.005</td><td>8.36</td><td>0.063</td><td>15.22</td><td>0.005</td><td>6.406</td><td>0.063</td><td>12.47</td><td>0.027</td><td>3.656</td><td>0.068</td><td>11.586</td><td>0.03</td><td>2.773</td><td>0.07</td><td>11.055</td><td>0.021</td><td>2.242</td><td>0.066</td></tr>\n",
       "<tr><td>2MASS 2618328865</td><td>6.0</td><td>4.0</td><td>601.29</td><td>36.15</td><td>1.6630972094424135</td><td>0.1</td><td>0.09415541971634411</td><td>0.019640519289763958</td><td>73.0</td><td>0.5</td><td>None</td><td>None</td><td>None</td><td>0</td><td>4.710738027543608e-11</td><td>5.709534127198549e-13</td><td>14.335</td><td>0.013</td><td>2.037829617281632e+33</td><td>2.4627332606022872e+32</td><td>-0.274</td><td>0.052</td><td>5.44</td><td>0.067</td><td>4.53</td><td>0.05</td><td>0.86</td><td>0.03</td><td>16067.0</td><td>1744.0</td><td>5320.0</td><td>74.0</td><td>None</td><td>&lt;sedkit.sed.SED object at 0x12b80e550&gt;</td><td>24.69</td><td>1.389</td><td>15.79</td><td>1.391</td><td>22.53</td><td>0.137</td><td>13.63</td><td>0.152</td><td>19.69</td><td>0.019</td><td>10.79</td><td>0.068</td><td>17.17</td><td>0.005</td><td>8.27</td><td>0.066</td><td>15.22</td><td>0.005</td><td>6.32</td><td>0.066</td><td>12.47</td><td>0.027</td><td>3.57</td><td>0.071</td><td>11.586</td><td>0.03</td><td>2.688</td><td>0.072</td><td>11.055</td><td>0.021</td><td>2.156</td><td>0.069</td></tr>\n",
       "<tr><td>2MASS 2618328866</td><td>6.0</td><td>4.0</td><td>554.73</td><td>30.77</td><td>1.8026722275761933</td><td>0.1</td><td>0.09415541971634411</td><td>0.019640519289763958</td><td>73.0</td><td>0.5</td><td>None</td><td>None</td><td>None</td><td>0</td><td>4.710738027543608e-11</td><td>5.709534127198549e-13</td><td>14.335</td><td>0.013</td><td>1.7344557087216903e+33</td><td>1.9356001731828567e+32</td><td>-0.344</td><td>0.048</td><td>5.615</td><td>0.062</td><td>4.55</td><td>0.04</td><td>0.85</td><td>0.04</td><td>15433.0</td><td>1666.0</td><td>5213.0</td><td>79.0</td><td>None</td><td>&lt;sedkit.sed.SED object at 0x1284fa898&gt;</td><td>24.69</td><td>1.389</td><td>15.97</td><td>1.391</td><td>22.53</td><td>0.137</td><td>13.81</td><td>0.15</td><td>19.69</td><td>0.019</td><td>10.97</td><td>0.063</td><td>17.17</td><td>0.005</td><td>8.45</td><td>0.06</td><td>15.22</td><td>0.005</td><td>6.5</td><td>0.06</td><td>12.47</td><td>0.027</td><td>3.75</td><td>0.066</td><td>11.586</td><td>0.03</td><td>2.867</td><td>0.067</td><td>11.055</td><td>0.021</td><td>2.336</td><td>0.064</td></tr>\n",
       "<tr><td>2MASS 2618328867</td><td>6.0</td><td>4.0</td><td>593.72</td><td>35.25</td><td>1.684285516032863</td><td>0.1</td><td>0.09415541971634411</td><td>0.019640519289763958</td><td>73.0</td><td>0.5</td><td>None</td><td>None</td><td>None</td><td>0</td><td>4.710738027543608e-11</td><td>5.709534127198549e-13</td><td>14.335</td><td>0.013</td><td>1.986841693666869e+33</td><td>2.371490368885709e+32</td><td>-0.285</td><td>0.052</td><td>5.467</td><td>0.066</td><td>4.53</td><td>0.05</td><td>0.86</td><td>0.03</td><td>15966.0</td><td>1732.0</td><td>5305.0</td><td>76.0</td><td>None</td><td>&lt;sedkit.sed.SED object at 0x12870e080&gt;</td><td>24.69</td><td>1.389</td><td>15.82</td><td>1.391</td><td>22.53</td><td>0.137</td><td>13.664</td><td>0.151</td><td>19.69</td><td>0.019</td><td>10.82</td><td>0.067</td><td>17.17</td><td>0.005</td><td>8.305</td><td>0.065</td><td>15.22</td><td>0.005</td><td>6.35</td><td>0.065</td><td>12.47</td><td>0.027</td><td>3.602</td><td>0.07</td><td>11.586</td><td>0.03</td><td>2.719</td><td>0.071</td><td>11.055</td><td>0.021</td><td>2.188</td><td>0.068</td></tr>\n",
       "<tr><td>2MASS 2618328868</td><td>6.0</td><td>4.0</td><td>631.58</td><td>39.89</td><td>1.5833278822939851</td><td>0.1</td><td>0.09415541971634411</td><td>0.019640519289763958</td><td>73.0</td><td>0.5</td><td>None</td><td>None</td><td>None</td><td>0</td><td>4.710738027543608e-11</td><td>5.709534127198549e-13</td><td>14.335</td><td>0.013</td><td>2.248312346140611e+33</td><td>2.853069274410512e+32</td><td>-0.231</td><td>0.055</td><td>5.333</td><td>0.07</td><td>4.52</td><td>0.06</td><td>0.87</td><td>0.02</td><td>16467.0</td><td>1795.0</td><td>5362.0</td><td>84.0</td><td>None</td><td>&lt;sedkit.sed.SED object at 0x12870e160&gt;</td><td>24.69</td><td>1.389</td><td>15.69</td><td>1.391</td><td>22.53</td><td>0.137</td><td>13.53</td><td>0.153</td><td>19.69</td><td>0.019</td><td>10.69</td><td>0.071</td><td>17.17</td><td>0.005</td><td>8.17</td><td>0.069</td><td>15.22</td><td>0.005</td><td>6.22</td><td>0.069</td><td>12.47</td><td>0.027</td><td>3.469</td><td>0.074</td><td>11.586</td><td>0.03</td><td>2.586</td><td>0.075</td><td>11.055</td><td>0.021</td><td>2.055</td><td>0.072</td></tr>\n",
       "<tr><td>2MASS 2618328869</td><td>6.0</td><td>4.0</td><td>528.81</td><td>27.96</td><td>1.8910243002207683</td><td>0.1</td><td>0.09415541971634411</td><td>0.019640519289763958</td><td>73.0</td><td>0.5</td><td>None</td><td>None</td><td>None</td><td>0</td><td>4.710738027543608e-11</td><td>5.709534127198549e-13</td><td>14.335</td><td>0.013</td><td>1.5761560957447795e+33</td><td>1.67764770544039e+32</td><td>-0.385</td><td>0.046</td><td>5.719</td><td>0.059</td><td>4.56</td><td>0.04</td><td>0.84</td><td>0.04</td><td>15068.0</td><td>1621.0</td><td>5166.0</td><td>101.0</td><td>None</td><td>&lt;sedkit.sed.SED object at 0x12869a2e8&gt;</td><td>24.69</td><td>1.389</td><td>16.06</td><td>1.39</td><td>22.53</td><td>0.137</td><td>13.914</td><td>0.148</td><td>19.69</td><td>0.019</td><td>11.07</td><td>0.06</td><td>17.17</td><td>0.005</td><td>8.555</td><td>0.058</td><td>15.22</td><td>0.005</td><td>6.6</td><td>0.058</td><td>12.47</td><td>0.027</td><td>3.852</td><td>0.063</td><td>11.586</td><td>0.03</td><td>2.969</td><td>0.065</td><td>11.055</td><td>0.021</td><td>2.438</td><td>0.061</td></tr>\n",
       "</table>"
      ],
      "text/plain": [
       "<Table length=11>\n",
       "      name        age   age_unc ... 2MASS.Ks_unc M_2MASS.Ks M_2MASS.Ks_unc\n",
       "                  Gyr     Gyr   ...                                       \n",
       "     object      object  object ...   float16     float16      float16    \n",
       "---------------- ------ ------- ... ------------ ---------- --------------\n",
       " 2MASS 261832886    6.0     4.0 ...        0.021      2.266          0.038\n",
       "2MASS 2618328860    6.0     4.0 ...        0.021      2.377          0.063\n",
       "2MASS 2618328861    6.0     4.0 ...        0.021      2.328          0.064\n",
       "2MASS 2618328862    6.0     4.0 ...        0.021      2.203          0.067\n",
       "2MASS 2618328863    6.0     4.0 ...        0.021      2.477           0.06\n",
       "2MASS 2618328864    6.0     4.0 ...        0.021      2.242          0.066\n",
       "2MASS 2618328865    6.0     4.0 ...        0.021      2.156          0.069\n",
       "2MASS 2618328866    6.0     4.0 ...        0.021      2.336          0.064\n",
       "2MASS 2618328867    6.0     4.0 ...        0.021      2.188          0.068\n",
       "2MASS 2618328868    6.0     4.0 ...        0.021      2.055          0.072\n",
       "2MASS 2618328869    6.0     4.0 ...        0.021      2.438          0.061"
      ]
     },
     "execution_count": 45,
     "metadata": {},
     "output_type": "execute_result"
    }
   ],
   "source": [
    "cat.filter('logg', '>=4.5').results"
   ]
  },
  {
   "cell_type": "markdown",
   "metadata": {
    "collapsed": true
   },
   "source": [
    "... or even a tuple of arguments..."
   ]
  },
  {
   "cell_type": "code",
   "execution_count": 46,
   "metadata": {},
   "outputs": [
    {
     "data": {
      "text/html": [
       "&lt;Table length=2&gt;\n",
       "<table id=\"table4968170104\" class=\"table-striped table-bordered table-condensed\">\n",
       "<thead><tr><th>name</th><th>age</th><th>age_unc</th><th>distance</th><th>distance_unc</th><th>parallax</th><th>parallax_unc</th><th>radius</th><th>radius_unc</th><th>spectral_type</th><th>spectral_type_unc</th><th>SpT</th><th>SpT_fit</th><th>membership</th><th>reddening</th><th>fbol</th><th>fbol_unc</th><th>mbol</th><th>mbol_unc</th><th>Lbol</th><th>Lbol_unc</th><th>Lbol_sun</th><th>Lbol_sun_unc</th><th>Mbol</th><th>Mbol_unc</th><th>logg</th><th>logg_unc</th><th>mass</th><th>mass_unc</th><th>Teff</th><th>Teff_unc</th><th>Teff_evo</th><th>Teff_evo_unc</th><th>Teff_bb</th><th>SED</th><th>SDSS.u</th><th>SDSS.u_unc</th><th>M_SDSS.u</th><th>M_SDSS.u_unc</th><th>SDSS.g</th><th>SDSS.g_unc</th><th>M_SDSS.g</th><th>M_SDSS.g_unc</th><th>SDSS.r</th><th>SDSS.r_unc</th><th>M_SDSS.r</th><th>M_SDSS.r_unc</th><th>SDSS.i</th><th>SDSS.i_unc</th><th>M_SDSS.i</th><th>M_SDSS.i_unc</th><th>SDSS.z</th><th>SDSS.z_unc</th><th>M_SDSS.z</th><th>M_SDSS.z_unc</th><th>2MASS.J</th><th>2MASS.J_unc</th><th>M_2MASS.J</th><th>M_2MASS.J_unc</th><th>2MASS.H</th><th>2MASS.H_unc</th><th>M_2MASS.H</th><th>M_2MASS.H_unc</th><th>2MASS.Ks</th><th>2MASS.Ks_unc</th><th>M_2MASS.Ks</th><th>M_2MASS.Ks_unc</th></tr></thead>\n",
       "<thead><tr><th></th><th>Gyr</th><th>Gyr</th><th>pc</th><th>pc</th><th>mas</th><th>mas</th><th>solRad</th><th>solRad</th><th></th><th></th><th></th><th></th><th></th><th></th><th>erg / (cm2 s)</th><th>erg / (cm2 s)</th><th></th><th></th><th>erg / s</th><th>erg / s</th><th></th><th></th><th></th><th></th><th></th><th></th><th>solMass</th><th>solMass</th><th>K</th><th>K</th><th>K</th><th>K</th><th>K</th><th></th><th></th><th></th><th></th><th></th><th></th><th></th><th></th><th></th><th></th><th></th><th></th><th></th><th></th><th></th><th></th><th></th><th></th><th></th><th></th><th></th><th></th><th></th><th></th><th></th><th></th><th></th><th></th><th></th><th></th><th></th><th></th><th></th></tr></thead>\n",
       "<thead><tr><th>object</th><th>object</th><th>object</th><th>object</th><th>object</th><th>object</th><th>object</th><th>object</th><th>object</th><th>object</th><th>object</th><th>object</th><th>object</th><th>object</th><th>object</th><th>object</th><th>object</th><th>object</th><th>object</th><th>object</th><th>object</th><th>object</th><th>object</th><th>object</th><th>object</th><th>object</th><th>object</th><th>object</th><th>object</th><th>object</th><th>object</th><th>object</th><th>object</th><th>object</th><th>object</th><th>float16</th><th>float16</th><th>float16</th><th>float16</th><th>float16</th><th>float16</th><th>float16</th><th>float16</th><th>float16</th><th>float16</th><th>float16</th><th>float16</th><th>float16</th><th>float16</th><th>float16</th><th>float16</th><th>float16</th><th>float16</th><th>float16</th><th>float16</th><th>float16</th><th>float16</th><th>float16</th><th>float16</th><th>float16</th><th>float16</th><th>float16</th><th>float16</th><th>float16</th><th>float16</th><th>float16</th><th>float16</th></tr></thead>\n",
       "<tr><td>2MASS 2618328861</td><td>6.0</td><td>4.0</td><td>555.83</td><td>30.89</td><td>1.7990997028572533</td><td>0.1</td><td>0.09415541971634411</td><td>0.019640519289763958</td><td>73.0</td><td>0.5</td><td>None</td><td>None</td><td>None</td><td>0</td><td>4.710738027543608e-11</td><td>5.709534127198549e-13</td><td>14.335</td><td>0.013</td><td>1.74134119504054e+33</td><td>1.9469581732469965e+32</td><td>-0.342</td><td>0.049</td><td>5.61</td><td>0.062</td><td>4.55</td><td>0.04</td><td>0.85</td><td>0.04</td><td>15448.0</td><td>1668.0</td><td>5216.0</td><td>80.0</td><td>None</td><td>&lt;sedkit.sed.SED object at 0x128703c50&gt;</td><td>24.69</td><td>1.389</td><td>15.96</td><td>1.391</td><td>22.53</td><td>0.137</td><td>13.805</td><td>0.15</td><td>19.69</td><td>0.019</td><td>10.96</td><td>0.063</td><td>17.17</td><td>0.005</td><td>8.445</td><td>0.061</td><td>15.22</td><td>0.005</td><td>6.492</td><td>0.061</td><td>12.47</td><td>0.027</td><td>3.742</td><td>0.066</td><td>11.586</td><td>0.03</td><td>2.86</td><td>0.067</td><td>11.055</td><td>0.021</td><td>2.328</td><td>0.064</td></tr>\n",
       "<tr><td>2MASS 2618328866</td><td>6.0</td><td>4.0</td><td>554.73</td><td>30.77</td><td>1.8026722275761933</td><td>0.1</td><td>0.09415541971634411</td><td>0.019640519289763958</td><td>73.0</td><td>0.5</td><td>None</td><td>None</td><td>None</td><td>0</td><td>4.710738027543608e-11</td><td>5.709534127198549e-13</td><td>14.335</td><td>0.013</td><td>1.7344557087216903e+33</td><td>1.9356001731828567e+32</td><td>-0.344</td><td>0.048</td><td>5.615</td><td>0.062</td><td>4.55</td><td>0.04</td><td>0.85</td><td>0.04</td><td>15433.0</td><td>1666.0</td><td>5213.0</td><td>79.0</td><td>None</td><td>&lt;sedkit.sed.SED object at 0x1284fa898&gt;</td><td>24.69</td><td>1.389</td><td>15.97</td><td>1.391</td><td>22.53</td><td>0.137</td><td>13.81</td><td>0.15</td><td>19.69</td><td>0.019</td><td>10.97</td><td>0.063</td><td>17.17</td><td>0.005</td><td>8.45</td><td>0.06</td><td>15.22</td><td>0.005</td><td>6.5</td><td>0.06</td><td>12.47</td><td>0.027</td><td>3.75</td><td>0.066</td><td>11.586</td><td>0.03</td><td>2.867</td><td>0.067</td><td>11.055</td><td>0.021</td><td>2.336</td><td>0.064</td></tr>\n",
       "</table>"
      ],
      "text/plain": [
       "<Table length=2>\n",
       "      name        age   age_unc ... 2MASS.Ks_unc M_2MASS.Ks M_2MASS.Ks_unc\n",
       "                  Gyr     Gyr   ...                                       \n",
       "     object      object  object ...   float16     float16      float16    \n",
       "---------------- ------ ------- ... ------------ ---------- --------------\n",
       "2MASS 2618328861    6.0     4.0 ...        0.021      2.328          0.064\n",
       "2MASS 2618328866    6.0     4.0 ...        0.021      2.336          0.064"
      ]
     },
     "execution_count": 46,
     "metadata": {},
     "output_type": "execute_result"
    }
   ],
   "source": [
    "cat.filter('M_SDSS.r', ('>10.9','<11')).results"
   ]
  },
  {
   "cell_type": "code",
   "execution_count": null,
   "metadata": {
    "collapsed": true
   },
   "outputs": [],
   "source": []
  },
  {
   "cell_type": "code",
   "execution_count": null,
   "metadata": {
    "collapsed": true
   },
   "outputs": [],
   "source": []
  }
 ],
 "metadata": {
  "anaconda-cloud": {},
  "kernelspec": {
   "display_name": "Astroconda",
   "language": "python",
   "name": "astroconda_kernel"
  },
  "language_info": {
   "codemirror_mode": {
    "name": "ipython",
    "version": 3
   },
   "file_extension": ".py",
   "mimetype": "text/x-python",
   "name": "python",
   "nbconvert_exporter": "python",
   "pygments_lexer": "ipython3",
   "version": "3.5.2"
  }
 },
 "nbformat": 4,
 "nbformat_minor": 1
}
