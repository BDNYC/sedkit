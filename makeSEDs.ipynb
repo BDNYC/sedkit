{
 "cells": [
  {
   "cell_type": "markdown",
   "metadata": {},
   "source": [
    "# How to construct an SED with `SEDs.MakeSED()`"
   ]
  },
  {
   "cell_type": "markdown",
   "metadata": {},
   "source": [
    "### Imports"
   ]
  },
  {
   "cell_type": "code",
   "execution_count": 1,
   "metadata": {
    "collapsed": false
   },
   "outputs": [],
   "source": [
    "# Magic functions, just for this notebook\n",
    "%matplotlib inline\n",
    "%load_ext autoreload\n",
    "%autoreload 2"
   ]
  },
  {
   "cell_type": "code",
   "execution_count": 9,
   "metadata": {
    "collapsed": false
   },
   "outputs": [
    {
     "data": {
      "text/html": [
       "<style>\n",
       "/* Just forcing the output to display all the gorgeous data. */\n",
       "\n",
       ".output_wrapper, .output {\n",
       "    height:auto !important;\n",
       "    max-height:1000px;\n",
       "}\n",
       ".output_scroll {\n",
       "    box-shadow:none !important;\n",
       "    webkit-box-shadow:none !important;\n",
       "}\n",
       "</style>"
      ],
      "text/plain": [
       "<IPython.core.display.HTML object>"
      ]
     },
     "metadata": {},
     "output_type": "display_data"
    }
   ],
   "source": [
    "%%html\n",
    "<style>\n",
    "/* Just forcing the output to display all the gorgeous data. */\n",
    "\n",
    ".output_wrapper, .output {\n",
    "    height:auto !important;\n",
    "    max-height:1000px;\n",
    "}\n",
    ".output_scroll {\n",
    "    box-shadow:none !important;\n",
    "    webkit-box-shadow:none !important;\n",
    "}\n",
    "</style>"
   ]
  },
  {
   "cell_type": "code",
   "execution_count": 10,
   "metadata": {
    "collapsed": true
   },
   "outputs": [],
   "source": [
    "# Necessary modules\n",
    "from SEDkit import SEDs\n",
    "from astrodbkit import astrodb"
   ]
  },
  {
   "cell_type": "markdown",
   "metadata": {},
   "source": [
    "### Constructing an SED"
   ]
  },
  {
   "cell_type": "markdown",
   "metadata": {},
   "source": [
    "First, I'll need an SQL database replete with the data I wish to use. Let's use the [BDNYC Database](https://github.com/BDNYC/BDNYCdb) created with the *[astrodbkit](https://github.com/BDNYC/astrodbkit)* package."
   ]
  },
  {
   "cell_type": "code",
   "execution_count": 11,
   "metadata": {
    "collapsed": false
   },
   "outputs": [],
   "source": [
    "db = astrodb.Database('/Users/jfilippazzo/Documents/Modules/BDNYCdb/BDNYCv1.0.db')"
   ]
  },
  {
   "cell_type": "markdown",
   "metadata": {},
   "source": [
    "Next, I'll take a look at the data available for my object of interest, DENIS-P J0255-4700, with the `Database.inventory()` method. \n",
    "\n",
    "(I know my object's *source_id* is 725 but you can look up others with the `Database.search()` method.)"
   ]
  },
  {
   "cell_type": "code",
   "execution_count": 12,
   "metadata": {
    "collapsed": false
   },
   "outputs": [
    {
     "name": "stdout",
     "output_type": "stream",
     "text": [
      "\n",
      "SOURCES\n",
      " id        ra        dec             designation pub_id comments   unum shortname                          names components companions\n",
      "--- --------- ---------- ----------------------- ------ -------- ------ --------- ------------------------------ ---------- ----------\n",
      "725 2.9176583 -47.014139 2MASS J02550357-4700509    183        - U10158 0255-4700 DENIS-P J0255-4700, 2MASS J025          -          -\n",
      "\n",
      "SPECTRA\n",
      "  id wav_units    flux_units wav_order regime pub_id   obs_date inst_id scope_id mode_id                  filename comments\n",
      "---- --------- ------------- --------- ------ ------ ---------- ------- -------- ------- ------------------------- --------\n",
      " 504         A ergs-1cm-2A-1         -    OPT    130 2000-12-26       5        8       - U10158_D0255-47_lris.fits        -\n",
      "1588        um      Wm-2um-1         -    NIR    355 2009-12-01       6        7       2   L8_DENISJ0255-4700.fits        -\n",
      "8091        um            Jy         -    MIR    299 2006-01-17      10        6       4     DENIS0255-4700_SL.txt        -\n",
      "\n",
      "PARALLAXES\n",
      " id parallax parallax_unc pub_id adopted comments\n",
      "--- -------- ------------ ------ ------- --------\n",
      "185   201.37         3.89     50       -        -\n",
      "\n",
      "SPECTRAL_TYPES\n",
      " id spectral_type spectral_type_unc gravity suffix regime pub_id comments\n",
      "--- ------------- ----------------- ------- ------ ------ ------ --------\n",
      "207          18.0                 -       -      -    OPT    130        -\n",
      "208          19.0                 -       -      -     IR     29        -\n",
      "\n",
      "PHOTOMETRY\n",
      "  id     band magnitude magnitude_unc scope_id inst_id pub_id epoch comments\n",
      "---- -------- --------- ------------- -------- ------- ------ ----- --------\n",
      "7039  2MASS_H    12.204         0.024        2       -      1     -        -\n",
      "7040  2MASS_J    13.246         0.027        2       -      1     -        -\n",
      "7041 2MASS_Ks    11.558         0.024        2       -      1     -        -\n",
      "7808 IRAC_ch1     10.29          0.02        6      22    201     -        -\n",
      "7809 IRAC_ch2      10.2          0.02        6      22    201     -        -\n",
      "7810 IRAC_ch3      9.89          0.01        6      22    201     -        -\n",
      "7811 IRAC_ch4      9.61          0.01        6      22    201     -        -\n",
      "9957  WISE_W1    10.725         0.022        3       -    305     -        -\n",
      "9958  WISE_W2    10.171         0.021        3       -    305     -        -\n",
      "9959  WISE_W3     9.163         0.025        3       -    305     -        -\n",
      "9960  WISE_W4     8.684         0.276        3       -    305     -        -\n"
     ]
    }
   ],
   "source": [
    "source_id = 725\n",
    "db.inventory(source_id)"
   ]
  },
  {
   "cell_type": "markdown",
   "metadata": {},
   "source": [
    "To construct an SED of this object, I will run `SEDkit.makeSED()` using the *source_id* and the `Database` instance which contains the data. It'll print a nice summary of the data used."
   ]
  },
  {
   "cell_type": "code",
   "execution_count": null,
   "metadata": {
    "collapsed": false,
    "scrolled": true
   },
   "outputs": [],
   "source": [
    "D0255 = SEDs.MakeSED(725, db, spec_ids=[504,1588,8091])"
   ]
  },
  {
   "cell_type": "markdown",
   "metadata": {},
   "source": [
    "Then I can plot it with the `MakeSED.plot()` method.\n",
    "\n",
    "I'll set `integrals=True` so we can see the uncertainties and the curve used to calculate Lbol. And I'll also specify the y-axis limits so we can see all the details."
   ]
  },
  {
   "cell_type": "code",
   "execution_count": null,
   "metadata": {
    "collapsed": false
   },
   "outputs": [],
   "source": [
    "D0255.plot(integrals=True, yaxis=(1E-20,1E-15))"
   ]
  },
  {
   "cell_type": "markdown",
   "metadata": {},
   "source": [
    "### That's it!"
   ]
  }
 ],
 "metadata": {
  "kernelspec": {
   "display_name": "Python 2",
   "language": "python",
   "name": "python2"
  },
  "language_info": {
   "codemirror_mode": {
    "name": "ipython",
    "version": 2
   },
   "file_extension": ".py",
   "mimetype": "text/x-python",
   "name": "python",
   "nbconvert_exporter": "python",
   "pygments_lexer": "ipython2",
   "version": "2.7.12"
  }
 },
 "nbformat": 4,
 "nbformat_minor": 1
}
